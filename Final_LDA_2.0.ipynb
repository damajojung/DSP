{
 "cells": [
  {
   "cell_type": "markdown",
   "metadata": {},
   "source": [
    "# Final LDA Model"
   ]
  },
  {
   "cell_type": "code",
   "execution_count": 95,
   "metadata": {},
   "outputs": [],
   "source": [
    "import re\n",
    "import numpy as np\n",
    "import pandas as pd\n",
    "from pprint import pprint\n",
    "\n",
    "# Gensim\n",
    "import gensim\n",
    "import gensim.corpora as corpora\n",
    "from gensim.utils import simple_preprocess\n",
    "from gensim.models import CoherenceModel\n",
    "\n",
    "# spacy for lemmatization\n",
    "import spacy\n",
    "\n",
    "# Plotting tools\n",
    "import pyLDAvis\n",
    "# import pyLDAvis.gensim  # Author: don't skip this\n",
    "# pyLDAvis.gensim.prepare\n",
    "\n",
    "# I think i need another one:\n",
    "import pyLDAvis.gensim_models\n",
    "import pyLDAvis.gensim_models as gensimvis\n",
    "\n",
    "# Plots\n",
    "import matplotlib.pyplot as plt\n",
    "%matplotlib inline\n",
    "\n",
    "# Enable logging for gensim - optional\n",
    "import logging\n",
    "logging.basicConfig(format='%(asctime)s : %(levelname)s : %(message)s', level=logging.ERROR)\n",
    "\n",
    "import warnings\n",
    "warnings.filterwarnings(\"ignore\",category=DeprecationWarning)"
   ]
  },
  {
   "cell_type": "code",
   "execution_count": 96,
   "metadata": {},
   "outputs": [],
   "source": [
    "# NLTK Stop words\n",
    "from nltk.corpus import stopwords\n",
    "stop_words = stopwords.words('dutch')\n",
    "stop_words.extend(['tenlastelegging\\\\n\\\\n\\\\naan', '\\\\n\\\\n\\\\n\\\\n\\\\n\\\\n', '\\\\n\\\\n\\\\n\\\\n\\\\n', '\\\\n\\\\n', 'een', 'naan', 'nde', 'nhij', '\\\\n'])"
   ]
  },
  {
   "cell_type": "markdown",
   "metadata": {},
   "source": [
    "# Data Test"
   ]
  },
  {
   "cell_type": "code",
   "execution_count": 97,
   "metadata": {},
   "outputs": [],
   "source": [
    "# Data\n",
    "df = pd.read_csv('/Users/dj/Python - UvA/DSP/data/DataSample_DSP_0712.csv', index_col=1) \n",
    "df = df[df['re_tll'] != '[]'][['re_tll']] #re_bewijs\n",
    "# data = [i for i in df['re_tll']]"
   ]
  },
  {
   "cell_type": "markdown",
   "metadata": {},
   "source": [
    "# Data Final"
   ]
  },
  {
   "cell_type": "code",
   "execution_count": 98,
   "metadata": {},
   "outputs": [],
   "source": [
    "df = pd.read_csv('/Users/dj/Python - UvA/DSP/data/dataset_10012022_cleaned.csv', index_col=1) "
   ]
  },
  {
   "cell_type": "code",
   "execution_count": 99,
   "metadata": {},
   "outputs": [
    {
     "data": {
      "text/html": [
       "<div>\n",
       "<style scoped>\n",
       "    .dataframe tbody tr th:only-of-type {\n",
       "        vertical-align: middle;\n",
       "    }\n",
       "\n",
       "    .dataframe tbody tr th {\n",
       "        vertical-align: top;\n",
       "    }\n",
       "\n",
       "    .dataframe thead th {\n",
       "        text-align: right;\n",
       "    }\n",
       "</style>\n",
       "<table border=\"1\" class=\"dataframe\">\n",
       "  <thead>\n",
       "    <tr style=\"text-align: right;\">\n",
       "      <th></th>\n",
       "      <th>Unnamed: 0</th>\n",
       "      <th>ecli</th>\n",
       "      <th>subject</th>\n",
       "      <th>spatial</th>\n",
       "      <th>case_nr</th>\n",
       "      <th>date</th>\n",
       "      <th>bewijs</th>\n",
       "      <th>tll</th>\n",
       "    </tr>\n",
       "    <tr>\n",
       "      <th>filename</th>\n",
       "      <th></th>\n",
       "      <th></th>\n",
       "      <th></th>\n",
       "      <th></th>\n",
       "      <th></th>\n",
       "      <th></th>\n",
       "      <th></th>\n",
       "      <th></th>\n",
       "    </tr>\n",
       "  </thead>\n",
       "  <tbody>\n",
       "    <tr>\n",
       "      <th>ECLI_NL_GHARL_2021_1844.xml</th>\n",
       "      <td>0</td>\n",
       "      <td>ECLI:NL:GHARL:2021:1844</td>\n",
       "      <td>Strafrecht</td>\n",
       "      <td>Leeuwarden</td>\n",
       "      <td>Wahv 200.253.228</td>\n",
       "      <td>2021-02-25</td>\n",
       "      <td>[]</td>\n",
       "      <td>[]</td>\n",
       "    </tr>\n",
       "    <tr>\n",
       "      <th>ECLI_NL_HR_2021_218.xml</th>\n",
       "      <td>1</td>\n",
       "      <td>ECLI:NL:HR:2021:218</td>\n",
       "      <td>Strafrecht</td>\n",
       "      <td>NaN</td>\n",
       "      <td>19/04191</td>\n",
       "      <td>2021-02-16</td>\n",
       "      <td>[]</td>\n",
       "      <td>[]</td>\n",
       "    </tr>\n",
       "    <tr>\n",
       "      <th>ECLI_NL_PHR_2019_165.xml</th>\n",
       "      <td>2</td>\n",
       "      <td>ECLI:NL:PHR:2019:165</td>\n",
       "      <td>Strafrecht</td>\n",
       "      <td>NaN</td>\n",
       "      <td>16/06093</td>\n",
       "      <td>2019-01-08</td>\n",
       "      <td>[]</td>\n",
       "      <td>[]</td>\n",
       "    </tr>\n",
       "    <tr>\n",
       "      <th>ECLI_NL_RBGEL_2018_50.xml</th>\n",
       "      <td>3</td>\n",
       "      <td>ECLI:NL:RBGEL:2018:50</td>\n",
       "      <td>Strafrecht</td>\n",
       "      <td>Arnhem</td>\n",
       "      <td>05/881874-16</td>\n",
       "      <td>2018-01-08</td>\n",
       "      <td>[]</td>\n",
       "      <td>[' tenlastelegging   aan verdachte is ten last...</td>\n",
       "    </tr>\n",
       "    <tr>\n",
       "      <th>ECLI_NL_GHAMS_2019_194.xml</th>\n",
       "      <td>4</td>\n",
       "      <td>ECLI:NL:GHAMS:2019:194</td>\n",
       "      <td>Strafrecht</td>\n",
       "      <td>Amsterdam</td>\n",
       "      <td>23-005312-13</td>\n",
       "      <td>2019-01-25</td>\n",
       "      <td>['      het bewijs tegen de verdachte  de kern...</td>\n",
       "      <td>[' tenlastelegging   aan de verdachte is ten l...</td>\n",
       "    </tr>\n",
       "  </tbody>\n",
       "</table>\n",
       "</div>"
      ],
      "text/plain": [
       "                             Unnamed: 0                     ecli     subject  \\\n",
       "filename                                                                       \n",
       "ECLI_NL_GHARL_2021_1844.xml           0  ECLI:NL:GHARL:2021:1844  Strafrecht   \n",
       "ECLI_NL_HR_2021_218.xml               1      ECLI:NL:HR:2021:218  Strafrecht   \n",
       "ECLI_NL_PHR_2019_165.xml              2     ECLI:NL:PHR:2019:165  Strafrecht   \n",
       "ECLI_NL_RBGEL_2018_50.xml             3    ECLI:NL:RBGEL:2018:50  Strafrecht   \n",
       "ECLI_NL_GHAMS_2019_194.xml            4   ECLI:NL:GHAMS:2019:194  Strafrecht   \n",
       "\n",
       "                                spatial           case_nr        date  \\\n",
       "filename                                                                \n",
       "ECLI_NL_GHARL_2021_1844.xml  Leeuwarden  Wahv 200.253.228  2021-02-25   \n",
       "ECLI_NL_HR_2021_218.xml             NaN          19/04191  2021-02-16   \n",
       "ECLI_NL_PHR_2019_165.xml            NaN          16/06093  2019-01-08   \n",
       "ECLI_NL_RBGEL_2018_50.xml        Arnhem      05/881874-16  2018-01-08   \n",
       "ECLI_NL_GHAMS_2019_194.xml    Amsterdam      23-005312-13  2019-01-25   \n",
       "\n",
       "                                                                        bewijs  \\\n",
       "filename                                                                         \n",
       "ECLI_NL_GHARL_2021_1844.xml                                                 []   \n",
       "ECLI_NL_HR_2021_218.xml                                                     []   \n",
       "ECLI_NL_PHR_2019_165.xml                                                    []   \n",
       "ECLI_NL_RBGEL_2018_50.xml                                                   []   \n",
       "ECLI_NL_GHAMS_2019_194.xml   ['      het bewijs tegen de verdachte  de kern...   \n",
       "\n",
       "                                                                           tll  \n",
       "filename                                                                        \n",
       "ECLI_NL_GHARL_2021_1844.xml                                                 []  \n",
       "ECLI_NL_HR_2021_218.xml                                                     []  \n",
       "ECLI_NL_PHR_2019_165.xml                                                    []  \n",
       "ECLI_NL_RBGEL_2018_50.xml    [' tenlastelegging   aan verdachte is ten last...  \n",
       "ECLI_NL_GHAMS_2019_194.xml   [' tenlastelegging   aan de verdachte is ten l...  "
      ]
     },
     "execution_count": 99,
     "metadata": {},
     "output_type": "execute_result"
    }
   ],
   "source": [
    "df.head()"
   ]
  },
  {
   "cell_type": "code",
   "execution_count": 100,
   "metadata": {},
   "outputs": [],
   "source": [
    "df_be = df[df['bewijs'] != '[]'] #bewijs\n",
    "df_te = df[df['tll'] != '[]'] #tenlastelegging"
   ]
  },
  {
   "cell_type": "code",
   "execution_count": 101,
   "metadata": {},
   "outputs": [
    {
     "data": {
      "text/html": [
       "<div>\n",
       "<style scoped>\n",
       "    .dataframe tbody tr th:only-of-type {\n",
       "        vertical-align: middle;\n",
       "    }\n",
       "\n",
       "    .dataframe tbody tr th {\n",
       "        vertical-align: top;\n",
       "    }\n",
       "\n",
       "    .dataframe thead th {\n",
       "        text-align: right;\n",
       "    }\n",
       "</style>\n",
       "<table border=\"1\" class=\"dataframe\">\n",
       "  <thead>\n",
       "    <tr style=\"text-align: right;\">\n",
       "      <th></th>\n",
       "      <th>Unnamed: 0</th>\n",
       "      <th>ecli</th>\n",
       "      <th>subject</th>\n",
       "      <th>spatial</th>\n",
       "      <th>case_nr</th>\n",
       "      <th>date</th>\n",
       "      <th>bewijs</th>\n",
       "      <th>tll</th>\n",
       "    </tr>\n",
       "    <tr>\n",
       "      <th>filename</th>\n",
       "      <th></th>\n",
       "      <th></th>\n",
       "      <th></th>\n",
       "      <th></th>\n",
       "      <th></th>\n",
       "      <th></th>\n",
       "      <th></th>\n",
       "      <th></th>\n",
       "    </tr>\n",
       "  </thead>\n",
       "  <tbody>\n",
       "    <tr>\n",
       "      <th>ECLI_NL_GHAMS_2019_194.xml</th>\n",
       "      <td>4</td>\n",
       "      <td>ECLI:NL:GHAMS:2019:194</td>\n",
       "      <td>Strafrecht</td>\n",
       "      <td>Amsterdam</td>\n",
       "      <td>23-005312-13</td>\n",
       "      <td>2019-01-25</td>\n",
       "      <td>['      het bewijs tegen de verdachte  de kern...</td>\n",
       "      <td>[' tenlastelegging   aan de verdachte is ten l...</td>\n",
       "    </tr>\n",
       "    <tr>\n",
       "      <th>ECLI_NL_GHSHE_2021_1801.xml</th>\n",
       "      <td>8</td>\n",
       "      <td>ECLI:NL:GHSHE:2021:1801</td>\n",
       "      <td>Strafrecht</td>\n",
       "      <td>'s-Hertogenbosch</td>\n",
       "      <td>20-003457-18</td>\n",
       "      <td>2021-02-10</td>\n",
       "      <td>['      bewijsmiddelen     indien tegen dit ve...</td>\n",
       "      <td>[]</td>\n",
       "    </tr>\n",
       "    <tr>\n",
       "      <th>ECLI_NL_GHARL_2020_820.xml</th>\n",
       "      <td>9</td>\n",
       "      <td>ECLI:NL:GHARL:2020:820</td>\n",
       "      <td>Strafrecht</td>\n",
       "      <td>Leeuwarden</td>\n",
       "      <td>21-001899-19</td>\n",
       "      <td>2020-01-30</td>\n",
       "      <td>['      bewijsmiddelen, feiten en omstandighed...</td>\n",
       "      <td>[' tenlastelegging   aan verdachte is -na wijz...</td>\n",
       "    </tr>\n",
       "    <tr>\n",
       "      <th>ECLI_NL_RBROT_2021_2966.xml</th>\n",
       "      <td>16</td>\n",
       "      <td>ECLI:NL:RBROT:2021:2966</td>\n",
       "      <td>Strafrecht</td>\n",
       "      <td>Rotterdam</td>\n",
       "      <td>10.295806.20</td>\n",
       "      <td>2021-02-09</td>\n",
       "      <td>['  bewijswaardering   4.1.1.   standpunt verd...</td>\n",
       "      <td>[]</td>\n",
       "    </tr>\n",
       "    <tr>\n",
       "      <th>ECLI_NL_RBMNE_2019_6577.xml</th>\n",
       "      <td>20</td>\n",
       "      <td>ECLI:NL:RBMNE:2019:6577</td>\n",
       "      <td>Strafrecht</td>\n",
       "      <td>Utrecht</td>\n",
       "      <td>16/018445-18</td>\n",
       "      <td>2019-01-18</td>\n",
       "      <td>['   bewijsmiddelen              [slachtoffer]...</td>\n",
       "      <td>['  2tenlastelegging   de tenlastelegging is a...</td>\n",
       "    </tr>\n",
       "  </tbody>\n",
       "</table>\n",
       "</div>"
      ],
      "text/plain": [
       "                             Unnamed: 0                     ecli     subject  \\\n",
       "filename                                                                       \n",
       "ECLI_NL_GHAMS_2019_194.xml            4   ECLI:NL:GHAMS:2019:194  Strafrecht   \n",
       "ECLI_NL_GHSHE_2021_1801.xml           8  ECLI:NL:GHSHE:2021:1801  Strafrecht   \n",
       "ECLI_NL_GHARL_2020_820.xml            9   ECLI:NL:GHARL:2020:820  Strafrecht   \n",
       "ECLI_NL_RBROT_2021_2966.xml          16  ECLI:NL:RBROT:2021:2966  Strafrecht   \n",
       "ECLI_NL_RBMNE_2019_6577.xml          20  ECLI:NL:RBMNE:2019:6577  Strafrecht   \n",
       "\n",
       "                                      spatial       case_nr        date  \\\n",
       "filename                                                                  \n",
       "ECLI_NL_GHAMS_2019_194.xml          Amsterdam  23-005312-13  2019-01-25   \n",
       "ECLI_NL_GHSHE_2021_1801.xml  's-Hertogenbosch  20-003457-18  2021-02-10   \n",
       "ECLI_NL_GHARL_2020_820.xml         Leeuwarden  21-001899-19  2020-01-30   \n",
       "ECLI_NL_RBROT_2021_2966.xml         Rotterdam  10.295806.20  2021-02-09   \n",
       "ECLI_NL_RBMNE_2019_6577.xml           Utrecht  16/018445-18  2019-01-18   \n",
       "\n",
       "                                                                        bewijs  \\\n",
       "filename                                                                         \n",
       "ECLI_NL_GHAMS_2019_194.xml   ['      het bewijs tegen de verdachte  de kern...   \n",
       "ECLI_NL_GHSHE_2021_1801.xml  ['      bewijsmiddelen     indien tegen dit ve...   \n",
       "ECLI_NL_GHARL_2020_820.xml   ['      bewijsmiddelen, feiten en omstandighed...   \n",
       "ECLI_NL_RBROT_2021_2966.xml  ['  bewijswaardering   4.1.1.   standpunt verd...   \n",
       "ECLI_NL_RBMNE_2019_6577.xml  ['   bewijsmiddelen              [slachtoffer]...   \n",
       "\n",
       "                                                                           tll  \n",
       "filename                                                                        \n",
       "ECLI_NL_GHAMS_2019_194.xml   [' tenlastelegging   aan de verdachte is ten l...  \n",
       "ECLI_NL_GHSHE_2021_1801.xml                                                 []  \n",
       "ECLI_NL_GHARL_2020_820.xml   [' tenlastelegging   aan verdachte is -na wijz...  \n",
       "ECLI_NL_RBROT_2021_2966.xml                                                 []  \n",
       "ECLI_NL_RBMNE_2019_6577.xml  ['  2tenlastelegging   de tenlastelegging is a...  "
      ]
     },
     "execution_count": 101,
     "metadata": {},
     "output_type": "execute_result"
    }
   ],
   "source": [
    "df_be.head()"
   ]
  },
  {
   "cell_type": "code",
   "execution_count": 102,
   "metadata": {},
   "outputs": [],
   "source": [
    "df['bete'] = df['bewijs'] + df['tll'] \n",
    "df = df[df['bete'] != '[][]']\n",
    "df = df.drop(labels=['bewijs', 'tll'], axis=1)"
   ]
  },
  {
   "cell_type": "code",
   "execution_count": 103,
   "metadata": {},
   "outputs": [
    {
     "data": {
      "text/html": [
       "<div>\n",
       "<style scoped>\n",
       "    .dataframe tbody tr th:only-of-type {\n",
       "        vertical-align: middle;\n",
       "    }\n",
       "\n",
       "    .dataframe tbody tr th {\n",
       "        vertical-align: top;\n",
       "    }\n",
       "\n",
       "    .dataframe thead th {\n",
       "        text-align: right;\n",
       "    }\n",
       "</style>\n",
       "<table border=\"1\" class=\"dataframe\">\n",
       "  <thead>\n",
       "    <tr style=\"text-align: right;\">\n",
       "      <th></th>\n",
       "      <th>Unnamed: 0</th>\n",
       "      <th>ecli</th>\n",
       "      <th>subject</th>\n",
       "      <th>spatial</th>\n",
       "      <th>case_nr</th>\n",
       "      <th>date</th>\n",
       "      <th>bete</th>\n",
       "    </tr>\n",
       "    <tr>\n",
       "      <th>filename</th>\n",
       "      <th></th>\n",
       "      <th></th>\n",
       "      <th></th>\n",
       "      <th></th>\n",
       "      <th></th>\n",
       "      <th></th>\n",
       "      <th></th>\n",
       "    </tr>\n",
       "  </thead>\n",
       "  <tbody>\n",
       "    <tr>\n",
       "      <th>ECLI_NL_RBGEL_2018_50.xml</th>\n",
       "      <td>3</td>\n",
       "      <td>ECLI:NL:RBGEL:2018:50</td>\n",
       "      <td>Strafrecht</td>\n",
       "      <td>Arnhem</td>\n",
       "      <td>05/881874-16</td>\n",
       "      <td>2018-01-08</td>\n",
       "      <td>[][' tenlastelegging   aan verdachte is ten la...</td>\n",
       "    </tr>\n",
       "    <tr>\n",
       "      <th>ECLI_NL_GHAMS_2019_194.xml</th>\n",
       "      <td>4</td>\n",
       "      <td>ECLI:NL:GHAMS:2019:194</td>\n",
       "      <td>Strafrecht</td>\n",
       "      <td>Amsterdam</td>\n",
       "      <td>23-005312-13</td>\n",
       "      <td>2019-01-25</td>\n",
       "      <td>['      het bewijs tegen de verdachte  de kern...</td>\n",
       "    </tr>\n",
       "    <tr>\n",
       "      <th>ECLI_NL_RBOVE_2021_606.xml</th>\n",
       "      <td>7</td>\n",
       "      <td>ECLI:NL:RBOVE:2021:606</td>\n",
       "      <td>Strafrecht</td>\n",
       "      <td>Almelo</td>\n",
       "      <td>08/760218-17 (P)</td>\n",
       "      <td>2021-02-10</td>\n",
       "      <td>[][' tenlastelegging   de verdenking komt er, ...</td>\n",
       "    </tr>\n",
       "    <tr>\n",
       "      <th>ECLI_NL_GHSHE_2021_1801.xml</th>\n",
       "      <td>8</td>\n",
       "      <td>ECLI:NL:GHSHE:2021:1801</td>\n",
       "      <td>Strafrecht</td>\n",
       "      <td>'s-Hertogenbosch</td>\n",
       "      <td>20-003457-18</td>\n",
       "      <td>2021-02-10</td>\n",
       "      <td>['      bewijsmiddelen     indien tegen dit ve...</td>\n",
       "    </tr>\n",
       "    <tr>\n",
       "      <th>ECLI_NL_GHARL_2020_820.xml</th>\n",
       "      <td>9</td>\n",
       "      <td>ECLI:NL:GHARL:2020:820</td>\n",
       "      <td>Strafrecht</td>\n",
       "      <td>Leeuwarden</td>\n",
       "      <td>21-001899-19</td>\n",
       "      <td>2020-01-30</td>\n",
       "      <td>['      bewijsmiddelen, feiten en omstandighed...</td>\n",
       "    </tr>\n",
       "  </tbody>\n",
       "</table>\n",
       "</div>"
      ],
      "text/plain": [
       "                             Unnamed: 0                     ecli     subject  \\\n",
       "filename                                                                       \n",
       "ECLI_NL_RBGEL_2018_50.xml             3    ECLI:NL:RBGEL:2018:50  Strafrecht   \n",
       "ECLI_NL_GHAMS_2019_194.xml            4   ECLI:NL:GHAMS:2019:194  Strafrecht   \n",
       "ECLI_NL_RBOVE_2021_606.xml            7   ECLI:NL:RBOVE:2021:606  Strafrecht   \n",
       "ECLI_NL_GHSHE_2021_1801.xml           8  ECLI:NL:GHSHE:2021:1801  Strafrecht   \n",
       "ECLI_NL_GHARL_2020_820.xml            9   ECLI:NL:GHARL:2020:820  Strafrecht   \n",
       "\n",
       "                                      spatial           case_nr        date  \\\n",
       "filename                                                                      \n",
       "ECLI_NL_RBGEL_2018_50.xml              Arnhem      05/881874-16  2018-01-08   \n",
       "ECLI_NL_GHAMS_2019_194.xml          Amsterdam      23-005312-13  2019-01-25   \n",
       "ECLI_NL_RBOVE_2021_606.xml             Almelo  08/760218-17 (P)  2021-02-10   \n",
       "ECLI_NL_GHSHE_2021_1801.xml  's-Hertogenbosch      20-003457-18  2021-02-10   \n",
       "ECLI_NL_GHARL_2020_820.xml         Leeuwarden      21-001899-19  2020-01-30   \n",
       "\n",
       "                                                                          bete  \n",
       "filename                                                                        \n",
       "ECLI_NL_RBGEL_2018_50.xml    [][' tenlastelegging   aan verdachte is ten la...  \n",
       "ECLI_NL_GHAMS_2019_194.xml   ['      het bewijs tegen de verdachte  de kern...  \n",
       "ECLI_NL_RBOVE_2021_606.xml   [][' tenlastelegging   de verdenking komt er, ...  \n",
       "ECLI_NL_GHSHE_2021_1801.xml  ['      bewijsmiddelen     indien tegen dit ve...  \n",
       "ECLI_NL_GHARL_2020_820.xml   ['      bewijsmiddelen, feiten en omstandighed...  "
      ]
     },
     "execution_count": 103,
     "metadata": {},
     "output_type": "execute_result"
    }
   ],
   "source": [
    "df.head()"
   ]
  },
  {
   "cell_type": "markdown",
   "metadata": {},
   "source": [
    "# Tokenize "
   ]
  },
  {
   "cell_type": "code",
   "execution_count": 104,
   "metadata": {},
   "outputs": [
    {
     "name": "stdout",
     "output_type": "stream",
     "text": [
      "[['tenlastelegging', 'aan', 'verdachte', 'is', 'ten', 'laste', 'gelegd', 'dat', 'hij', 'in', 'of', 'omstreeks', 'de', 'periode', 'van', 'november', 'tot', 'en', 'met', 'november', 'in', 'arnhem', 'en', 'of', 'in', 'nederland', 'en', 'of', 'in', 'duitsland', 'en', 'of', 'in', 'oostenrijk', 'en', 'of', 'in', 'hongarije', 'opzettelijk', 'een', 'of', 'meer', 'minderjarige', 'te', 'weten', 'naam', 'geboren', 'op', 'geboortedatum', 'in', 'geboorteplaats', 'en', 'of', 'naam', 'geboren', 'op', 'geboortedatum', 'in', 'geboorteplaats', 'heeft', 'onttrokken', 'aan', 'het', 'wettig', 'over', 'hen', 'haar', 'gesteld', 'gezag', 'en', 'of', 'aan', 'het', 'opzicht', 'van', 'degene', 'die', 'dit', 'desbevoegd', 'over', 'hen', 'haar', 'uitoefende', 'terwijl', 'die', 'minderjarige', 'beneden', 'de', 'twaalf', 'jaren', 'oud', 'was', 'waren', 'en', 'of', 'terwijl', 'list', 'was', 'gebezigd', 'bestaande', 'uit', 'het', 'door', 'verdachte', 'aan', 'de', 'school', 'van', 'de', 'minderjarig', 'in', 'strijd', 'met', 'de', 'waarheid', 'mededelen', 'dat', 'de', 'minderjarige', 'een', 'afspraak', 'bij', 'de', 'tandarts', 'zou', 'den', 'hebben', 'en', 'de', 'minderjarige', 'daarvoor', 'vroeger', 'op', 'te', 'halen', 'van', 'school', 'en', 'of', 'het', 'door', 'verdachte', 'uit', 'het', 'huis', 'lokken', 'van', 'zijn', 'verdachtes', 'echtgenote', 'genaamd', 'naam', 'door', 'het', 'maken', 'van', 'een', 'afspraak', 'met', 'haar', 'bij', 'een', 'woonboulevard', 'om', 'beweerdelijk', 'te', 'gaan', 'shoppen', 'zodat', 'verdachte', 'de', 'paspoorten', 'en', 'kleding', 'toiletartikelen', 'van', 'de', 'minderjarige', 'en', 'uit', 'de', 'woning', 'kon', 'pakken', 'toverwegingen', 'ten', 'aanzien', 'van', 'het', 'bewijs', 'de', 'feiten', 'op', 'grond', 'van', 'de', 'bewijsmiddelen', 'wordt', 'het', 'volgende', 'dat', 'verder', 'ook', 'niet', 'ter', 'discussie', 'staat', 'vastgesteld', 'aangeefster', 'naam', 'en', 'verdachte', 'zijn', 'getrouwd', 'en', 'hebben', 'samen', 'twee', 'kinderen', 'naam', 'geboren', 'op', 'geboortedatum', 'te', 'geboorteplaats', 'en', 'naam', 'geboren', 'op', 'geboortedatum', 'te', 'geboorteplaats', 'aangeefster', 'en', 'verdachte', 'hebben', 'beiden', 'gezag', 'over', 'deze', 'kinderen', 'verdachte', 'heeft', 'op', 'november', 'de', 'kinderen', 'eerder', 'van', 'school', 'gehaald', 'hij', 'is', 'vervolgens', 'in', 'een', 'bus', 'gestapt', 'in', 'nijmegen', 'heeft', 'in', 'kleve', 'duitsland', 'een', 'trein', 'genomen', 'in', 'dusseldorf', 'duitsland', 'de', 'bus', 'genomen', 'naar', 'salzburg', 'oostenrijk', 'en', 'heeft', 'vanuit', 'daar', 'een', 'trein', 'naar', 'boekarest', 'roemenie', 'genomen', 'in', 'deze', 'trein', 'is', 'hij', 'op', 'november', 'aangehouden', 'toen', 'de', 'trein', 'zich', 'in', 'hongarije', 'bevond', 'het', 'standpunt', 'van', 'de', 'officier', 'van', 'justitie', 'de', 'officier', 'van', 'justitie', 'heeft', 'gesteld', 'dat', 'wettig', 'en', 'overtuigend', 'bewezen', 'kan', 'worden', 'dat', 'verdachte', 'zich', 'schuldig', 'heeft', 'gemaakt', 'aan', 'het', 'ten', 'laste', 'gelegde', 'het', 'standpunt', 'van', 'de', 'verdediging', 'de', 'verdediging', 'heeft', 'zich', 'op', 'het', 'standpunt', 'gesteld', 'dat', 'verdachte', 'van', 'het', 'ten', 'laste', 'gelegde', 'dient', 'te', 'worden', 'vrijgesproken', 'omdat', 'verdachte', 'niet', 'het', 'opzet', 'had', 'de', 'kinderen', 'aan', 'het', 'gezag', 'van', 'aangeefster', 'te', 'onttrekken', 'daarnaast', 'heeft', 'verdachte', 'volgens', 'de', 'verdediging', 'ook', 'geen', 'list', 'gebezigd', 'beoordeling', 'door', 'de', 'rechtbank', 'aangeefster', 'heeft', 'verklaard', 'dat', 'zij', 'op', 'november', 'omstreeks', 'uur', 'door', 'verdachte', 'werd', 'gebeld', 'hij', 'vroeg', 'haar', 'of', 'ze', 'om', 'uur', 'op', 'hem', 'wilde', 'wachten', 'bij', 'de', 'woonboulevard', 'in', 'arnhem', 'zuid', 'zodat', 'ze', 'samen', 'konden', 'gaan', 'shoppen', 'aangeefster', 'is', 'vervolgens', 'naar', 'de', 'woonboulevard', 'gegaan', 'maar', 'verdachte', 'was', 'daar', 'niet', 'op', 'het', 'afgesproken', 'tijdstip', 'aanwezig', 'omstreeks', 'uur', 'is', 'zij', 'naar', 'de', 'school', 'van', 'haar', 'kinderen', 'gegaan', 'om', 'hen', 'op', 'te', 'halen', 'daar', 'hoorde', 'ze', 'van', 'de', 'leerkracht', 'dat', 'haar', 'kinderen', 'omstreeks', 'uur', 'waren', 'opgehaald', 'door', 'verdachte', 'met', 'de', 'mededeling', 'dat', 'ze', 'een', 'afspraak', 'hadden', 'bij', 'de', 'tandarts', 'aangeefster', 'raakte', 'in', 'paniek', 'omdat', 'ze', 'wist', 'dat', 'haar', 'kinderen', 'geen', 'afspraak', 'bij', 'de', 'tandarts', 'hadden', 'zij', 'heeft', 'verdachte', 'toen', 'meermalen', 'proberen', 'te', 'bellen', 'verdachte', 'nam', 'zijn', 'telefoon', 'echter', 'niet', 'op', 'zij', 'heeft', 'toen', 'de', 'voicemail', 'ingesproken', 'met', 'de', 'vraag', 'waarom', 'hij', 'hun', 'kinderen', 'had', 'meegenomen', 'eenmaal', 'thuis', 'gekomen', 'kwam', 'ze', 'er', 'achter', 'dat', 'de', 'paspoorten', 'van', 'de', 'kinderen', 'en', 'van', 'verdachte', 'weg', 'waren', 'ook', 'waren', 'de', 'toiletartikelen', 'en', 'wat', 'kleding', 'van', 'de', 'kinderen', 'weg', 'de', 'leerkracht', 'van', 'naam', 'getuige', 'heeft', 'verklaard', 'dat', 'verdachte', 'in', 'de', 'ochtend', 'net', 'voor', 'het', 'begin', 'van', 'de', 'schooldag', 'al', 'naar', 'haar', 'toe', 'was', 'gekomen', 'om', 'te', 'vertellen', 'dat', 'hij', 'met', 'zijn', 'dochter', 'naar', 'de', 'tandarts', 'zou', 'gaan', 'aan', 'het', 'einde', 'van', 'de', 'ochtend', 'heeft', 'hij', 'haar', 'toen', 'opgehaald', 'naam', 'moeder', 'is', 'toen', 'nog', 'na', 'schooltijd', 'geweest', 'om', 'haar', 'op', 'te', 'halen', 'de', 'leerkracht', 'van', 'naam', 'getuige', 'heeft', 'verklaard', 'dat', 'verdachte', 'in', 'de', 'ochtend', 'tegen', 'hem', 'had', 'gezegd', 'dat', 'hij', 'naam']]\n"
     ]
    }
   ],
   "source": [
    "def sent_to_words(sentences):\n",
    "    for sentence in sentences:\n",
    "        yield(gensim.utils.simple_preprocess(str(sentence), deacc=True))  # deacc=True removes punctuations\n",
    "\n",
    "data_words = list(sent_to_words(df['bete']))\n",
    "\n",
    "print(data_words[:1])"
   ]
  },
  {
   "cell_type": "markdown",
   "metadata": {},
   "source": [
    "# Creating Bigram and Trigram Models"
   ]
  },
  {
   "cell_type": "code",
   "execution_count": 105,
   "metadata": {},
   "outputs": [
    {
     "name": "stdout",
     "output_type": "stream",
     "text": [
      "['tenlastelegging', 'aan', 'verdachte', 'is', 'ten', 'laste', 'gelegd', 'dat', 'hij', 'in', 'of', 'omstreeks', 'de', 'periode', 'van', 'november', 'tot', 'en', 'met', 'november', 'in', 'arnhem', 'en', 'of', 'in', 'nederland', 'en', 'of', 'in', 'duitsland', 'en', 'of', 'in', 'oostenrijk', 'en', 'of', 'in', 'hongarije', 'opzettelijk', 'een', 'of', 'meer', 'minderjarige', 'te', 'weten', 'naam', 'geboren', 'op', 'geboortedatum', 'in', 'geboorteplaats', 'en', 'of', 'naam', 'geboren', 'op', 'geboortedatum', 'in', 'geboorteplaats', 'heeft', 'onttrokken', 'aan', 'het', 'wettig', 'over', 'hen', 'haar', 'gesteld', 'gezag', 'en', 'of', 'aan', 'het', 'opzicht', 'van', 'degene', 'die', 'dit', 'desbevoegd', 'over', 'hen', 'haar', 'uitoefende', 'terwijl', 'die', 'minderjarige', 'beneden', 'de', 'twaalf_jaren', 'oud', 'was', 'waren', 'en', 'of', 'terwijl', 'list', 'was', 'gebezigd', 'bestaande', 'uit', 'het', 'door', 'verdachte', 'aan', 'de', 'school', 'van', 'de', 'minderjarig', 'in', 'strijd', 'met', 'de', 'waarheid', 'mededelen', 'dat', 'de', 'minderjarige', 'een', 'afspraak', 'bij', 'de', 'tandarts', 'zou', 'den', 'hebben', 'en', 'de', 'minderjarige', 'daarvoor', 'vroeger', 'op', 'te', 'halen', 'van', 'school', 'en', 'of', 'het', 'door', 'verdachte', 'uit', 'het', 'huis', 'lokken', 'van', 'zijn', 'verdachtes', 'echtgenote', 'genaamd', 'naam', 'door', 'het', 'maken', 'van', 'een', 'afspraak', 'met', 'haar', 'bij', 'een', 'woonboulevard', 'om', 'beweerdelijk', 'te', 'gaan', 'shoppen', 'zodat', 'verdachte', 'de', 'paspoorten', 'en', 'kleding', 'toiletartikelen', 'van', 'de', 'minderjarige', 'en', 'uit', 'de', 'woning', 'kon', 'pakken', 'toverwegingen', 'ten', 'aanzien', 'van', 'het', 'bewijs', 'de', 'feiten', 'op', 'grond', 'van', 'de', 'bewijsmiddelen', 'wordt', 'het', 'volgende', 'dat', 'verder', 'ook', 'niet', 'ter', 'discussie_staat', 'vastgesteld', 'aangeefster', 'naam', 'en', 'verdachte', 'zijn', 'getrouwd', 'en', 'hebben', 'samen', 'twee', 'kinderen', 'naam', 'geboren', 'op', 'geboortedatum', 'te', 'geboorteplaats', 'en', 'naam', 'geboren', 'op', 'geboortedatum', 'te', 'geboorteplaats', 'aangeefster', 'en', 'verdachte', 'hebben', 'beiden', 'gezag', 'over', 'deze', 'kinderen', 'verdachte', 'heeft', 'op', 'november', 'de', 'kinderen', 'eerder', 'van', 'school', 'gehaald', 'hij', 'is', 'vervolgens', 'in', 'een', 'bus', 'gestapt', 'in', 'nijmegen', 'heeft', 'in', 'kleve', 'duitsland', 'een', 'trein', 'genomen', 'in', 'dusseldorf', 'duitsland', 'de', 'bus', 'genomen', 'naar', 'salzburg', 'oostenrijk', 'en', 'heeft', 'vanuit', 'daar', 'een', 'trein', 'naar', 'boekarest', 'roemenie', 'genomen', 'in', 'deze', 'trein', 'is', 'hij', 'op', 'november', 'aangehouden', 'toen', 'de', 'trein', 'zich', 'in', 'hongarije', 'bevond', 'het', 'standpunt', 'van', 'de', 'officier', 'van', 'justitie', 'de', 'officier', 'van', 'justitie', 'heeft', 'gesteld', 'dat', 'wettig', 'en', 'overtuigend', 'bewezen', 'kan', 'worden', 'dat', 'verdachte', 'zich', 'schuldig', 'heeft', 'gemaakt', 'aan', 'het', 'ten', 'laste', 'gelegde', 'het', 'standpunt', 'van', 'de', 'verdediging', 'de', 'verdediging', 'heeft', 'zich', 'op', 'het', 'standpunt', 'gesteld', 'dat', 'verdachte', 'van', 'het', 'ten', 'laste', 'gelegde', 'dient', 'te', 'worden', 'vrijgesproken', 'omdat', 'verdachte', 'niet', 'het', 'opzet', 'had', 'de', 'kinderen', 'aan', 'het', 'gezag', 'van', 'aangeefster', 'te', 'onttrekken', 'daarnaast', 'heeft', 'verdachte', 'volgens', 'de', 'verdediging', 'ook', 'geen', 'list', 'gebezigd', 'beoordeling', 'door', 'de', 'rechtbank', 'aangeefster', 'heeft', 'verklaard', 'dat', 'zij', 'op', 'november', 'omstreeks', 'uur', 'door', 'verdachte', 'werd', 'gebeld', 'hij', 'vroeg', 'haar', 'of', 'ze', 'om', 'uur', 'op', 'hem', 'wilde', 'wachten', 'bij', 'de', 'woonboulevard', 'in', 'arnhem', 'zuid', 'zodat', 'ze', 'samen', 'konden', 'gaan', 'shoppen', 'aangeefster', 'is', 'vervolgens', 'naar', 'de', 'woonboulevard', 'gegaan', 'maar', 'verdachte', 'was', 'daar', 'niet', 'op', 'het', 'afgesproken', 'tijdstip', 'aanwezig', 'omstreeks', 'uur', 'is', 'zij', 'naar', 'de', 'school', 'van', 'haar', 'kinderen', 'gegaan', 'om', 'hen', 'op', 'te', 'halen', 'daar', 'hoorde', 'ze', 'van', 'de', 'leerkracht', 'dat', 'haar', 'kinderen', 'omstreeks', 'uur', 'waren', 'opgehaald', 'door', 'verdachte', 'met', 'de', 'mededeling', 'dat', 'ze', 'een', 'afspraak', 'hadden', 'bij', 'de', 'tandarts', 'aangeefster', 'raakte', 'in', 'paniek', 'omdat', 'ze', 'wist', 'dat', 'haar', 'kinderen', 'geen', 'afspraak', 'bij', 'de', 'tandarts', 'hadden', 'zij', 'heeft', 'verdachte', 'toen', 'meermalen', 'proberen', 'te', 'bellen', 'verdachte', 'nam', 'zijn', 'telefoon', 'echter', 'niet', 'op', 'zij', 'heeft', 'toen', 'de', 'voicemail', 'ingesproken', 'met', 'de', 'vraag', 'waarom', 'hij', 'hun', 'kinderen', 'had', 'meegenomen', 'eenmaal', 'thuis', 'gekomen', 'kwam', 'ze', 'er', 'achter', 'dat', 'de', 'paspoorten', 'van', 'de', 'kinderen', 'en', 'van', 'verdachte', 'weg', 'waren', 'ook', 'waren', 'de', 'toiletartikelen', 'en', 'wat', 'kleding', 'van', 'de', 'kinderen', 'weg', 'de', 'leerkracht', 'van', 'naam', 'getuige', 'heeft', 'verklaard', 'dat', 'verdachte', 'in', 'de', 'ochtend', 'net', 'voor', 'het', 'begin', 'van', 'de', 'schooldag', 'al', 'naar', 'haar', 'toe', 'was', 'gekomen', 'om', 'te', 'vertellen', 'dat', 'hij', 'met', 'zijn', 'dochter', 'naar', 'de', 'tandarts', 'zou', 'gaan', 'aan', 'het', 'einde', 'van', 'de', 'ochtend', 'heeft', 'hij', 'haar', 'toen', 'opgehaald', 'naam', 'moeder', 'is', 'toen', 'nog', 'na', 'schooltijd', 'geweest', 'om', 'haar', 'op', 'te', 'halen', 'de', 'leerkracht', 'van', 'naam', 'getuige', 'heeft', 'verklaard', 'dat', 'verdachte', 'in', 'de', 'ochtend', 'tegen', 'hem', 'had', 'gezegd', 'dat', 'hij', 'naam']\n"
     ]
    }
   ],
   "source": [
    "# Build the bigram and trigram models\n",
    "bigram = gensim.models.Phrases(data_words, min_count=5, threshold=100) # higher threshold fewer phrases.\n",
    "trigram = gensim.models.Phrases(bigram[data_words], threshold=100)  \n",
    "\n",
    "# Faster way to get a sentence clubbed as a trigram/bigram\n",
    "bigram_mod = gensim.models.phrases.Phraser(bigram)\n",
    "trigram_mod = gensim.models.phrases.Phraser(trigram)\n",
    "\n",
    "# See trigram example\n",
    "print(trigram_mod[bigram_mod[data_words[0]]])"
   ]
  },
  {
   "cell_type": "markdown",
   "metadata": {},
   "source": [
    "# Remove Stopwords, Make Bigrams and Lemmatize"
   ]
  },
  {
   "cell_type": "code",
   "execution_count": 106,
   "metadata": {},
   "outputs": [],
   "source": [
    "# Define functions for stopwords, bigrams, trigrams and lemmatization\n",
    "def remove_stopwords(texts):\n",
    "    return [[word for word in simple_preprocess(str(doc)) if word not in stop_words] for doc in texts]\n",
    "\n",
    "def make_bigrams(texts):\n",
    "    return [bigram_mod[doc] for doc in texts]\n",
    "\n",
    "def make_trigrams(texts):\n",
    "    return [trigram_mod[bigram_mod[doc]] for doc in texts]\n",
    "\n",
    "def lemmatization(texts, allowed_postags=['NOUN', 'ADJ', 'VERB', 'ADV']):\n",
    "    \"\"\"https://spacy.io/api/annotation\"\"\"\n",
    "    texts_out = []\n",
    "    for sent in texts:\n",
    "        doc = nlp(\" \".join(sent)) \n",
    "        texts_out.append([token.lemma_ for token in doc if token.pos_ in allowed_postags])\n",
    "    return texts_out"
   ]
  },
  {
   "cell_type": "code",
   "execution_count": 107,
   "metadata": {},
   "outputs": [
    {
     "name": "stdout",
     "output_type": "stream",
     "text": [
      "[['tenlastelegging', 'verdenken', 'last', 'leggen', 'periode', 'oostenrijk', 'opzettelijk', 'minderjarig', 'weten', 'naam', 'baren', 'geboortedatum', 'geboorteplaats', 'naam', 'baren', 'geboortedatum', 'geboorteplaats', 'onttrekken', 'wettig', 'stellen', 'gezag', 'opzicht', 'desbevoegd', 'uitoefenen', 'minderjarig', 'twaalf_jar', 'oud', 'list', 'bezigen', 'bestaan', 'verdenken', 'school', 'minderjarig', 'strijd', 'waarheid', 'mededeel', 'minderjarig', 'afspraak', 'tandarts', 'minderjarig', 'daarvoor', 'vroeger', 'halen', 'school', 'verdenken', 'huis', 'lok', 'verdachte', 'echtgenote', 'genaamd', 'naam', 'maken', 'afspraak', 'woonboulevard', 'beweerdelijk', 'gaan', 'shopp', 'verdenken', 'paspoort', 'kleding', 'toiletartikel', 'minderjarig', 'woning', 'toverweging', 'aanzien', 'bewijs', 'feit', 'grond', 'bewijsmiddel', 'volgen', 'ver', 'discussie', 'staan', 'vaststellen', 'aangeefster', 'naam', 'verdenken', 'trouwen', 'samen', 'kind', 'naam', 'baren', 'geboortedatum', 'geboorteplaats', 'naam', 'baren', 'geboortedatum', 'geboorteplaats', 'aangeefster', 'verdenken', 'gezag', 'kind', 'verdenken', 'kind', 'eerder', 'school', 'halen', 'vervolgens', 'bus', 'stappen', 'nijmeg', 'klev', 'trein', 'nemen', 'dusseldorf', 'nemen', 'oostenrijk', 'trein', 'boekarest', 'roemenie', 'nemen', 'trein', 'aanhouden', 'trein', 'bevinden', 'standpunt', 'officier', 'justitie', 'officier', 'justitie', 'stellen', 'wettig', 'overtuigen', 'bewijzen', 'verdenken', 'schuldig', 'maken', 'last', 'leggen', 'standpunt', 'verdediging', 'verdediging', 'standpunt', 'stellen', 'verdenken', 'last', 'leggen', 'dienen', 'vrijspreken', 'verdenken', 'opzet', 'kind', 'gezag', 'aangeefster', 'onttrekken', 'daarnaast', 'verdenken', 'verdediging', 'list', 'bezigen', 'beoordeling', 'rechtbank', 'aangeefster', 'verklaren', 'uur', 'verdenken', 'bellen', 'vroeg', 'uur', 'willen', 'wachten', 'arnhem', 'zuid', 'samen', 'gaan', 'shoppen', 'aangeefster', 'vervolgens', 'woonboulevard', 'gaan', 'verdenken', 'afspreken', 'tijdstip', 'aanwezig', 'uur', 'school', 'kind', 'gaan', 'halen', 'horen', 'leerkracht', 'kind', 'uur', 'ophalen', 'verdenken', 'mededeling', 'afspraak', 'tandarts', 'aangeefster', 'raken', 'paniek', 'weten', 'kind', 'afspraak', 'tandarts', 'verdenken', 'meermalen', 'proberen', 'bellen', 'verdenken', 'nemen', 'telefoon', 'echter', 'voicemail', 'inspreken', 'vraag', 'waarom', 'kind', 'meenemen', 'eenmaal', 'thuis', 'komen', 'komen', 'paspoort', 'kind', 'verdenken', 'weg', 'toiletartikel', 'kleding', 'kind', 'weg', 'leerkracht', 'naam', 'getuige', 'verklaren', 'verdenken', 'ochtend', 'net', 'begin', 'schooldag', 'komen', 'vertellen', 'dochter', 'tandarts', 'gaan', 'einde', 'ochtend', 'ophalen', 'naam', 'moeder', 'schooltijd', 'halen', 'leerkracht', 'naam', 'getuige', 'verklaren', 'verdenken', 'ochtend', 'zeggen', 'naam']]\n"
     ]
    }
   ],
   "source": [
    "# Remove Stop Words\n",
    "data_words_nostops = remove_stopwords(data_words)\n",
    "\n",
    "# Form Bigrams\n",
    "data_words_bigrams = make_bigrams(data_words_nostops)\n",
    "\n",
    "# Initialize spacy 'en' model, keeping only tagger component (for efficiency)\n",
    "# python3 -m spacy download en\n",
    "# nlp = spacy.load('nl', disable=['parser', 'ner'])\n",
    "\n",
    "nlp = spacy.load(\"nl_core_news_sm\")\n",
    "\n",
    "# Do lemmatization keeping only noun, adj, vb, adv\n",
    "data_lemmatized = lemmatization(data_words_bigrams, allowed_postags=['NOUN', 'ADJ', 'VERB', 'ADV'])\n",
    "\n",
    "print(data_lemmatized[:1])"
   ]
  },
  {
   "cell_type": "markdown",
   "metadata": {},
   "source": [
    "#  Create the Dictionary and Corpus needed for Topic Modeling"
   ]
  },
  {
   "cell_type": "code",
   "execution_count": 108,
   "metadata": {},
   "outputs": [
    {
     "name": "stdout",
     "output_type": "stream",
     "text": [
      "[[(0, 6), (1, 1), (2, 1), (3, 1), (4, 4), (5, 1), (6, 1), (7, 4), (8, 1), (9, 2), (10, 1), (11, 1), (12, 1), (13, 1), (14, 1), (15, 1), (16, 1), (17, 2), (18, 1), (19, 1), (20, 1), (21, 1), (22, 1), (23, 1), (24, 1), (25, 1), (26, 1), (27, 1), (28, 1), (29, 1), (30, 1), (31, 1), (32, 1), (33, 5), (34, 4), (35, 4), (36, 1), (37, 2), (38, 3), (39, 1), (40, 4), (41, 1), (42, 1), (43, 1), (44, 2), (45, 10), (46, 2), (47, 1), (48, 3), (49, 3), (50, 3), (51, 3), (52, 2), (53, 1), (54, 2), (55, 1), (56, 1), (57, 1), (58, 1), (59, 6), (60, 1), (61, 10), (62, 4), (63, 1), (64, 1), (65, 3), (66, 2), (67, 2), (68, 2), (69, 2), (70, 1), (71, 1), (72, 1), (73, 1), (74, 1), (75, 1), (76, 2), (77, 1), (78, 1), (79, 1), (80, 1), (81, 1), (82, 2), (83, 4), (84, 1), (85, 1), (86, 1), (87, 1), (88, 1), (89, 1), (90, 3), (91, 1), (92, 3), (93, 1), (94, 4), (95, 1), (96, 1), (97, 1), (98, 1), (99, 2), (100, 1), (101, 4), (102, 1), (103, 1), (104, 1), (105, 4), (106, 1), (107, 1), (108, 1), (109, 3), (110, 19), (111, 3), (112, 1), (113, 2), (114, 1), (115, 1), (116, 1), (117, 1), (118, 1), (119, 1), (120, 1), (121, 1), (122, 1), (123, 2), (124, 2), (125, 2), (126, 1), (127, 1), (128, 2), (129, 1), (130, 1)]]\n"
     ]
    }
   ],
   "source": [
    "# Create Dictionary\n",
    "id2word = corpora.Dictionary(data_lemmatized)\n",
    "\n",
    "# Create Corpus\n",
    "texts = data_lemmatized\n",
    "\n",
    "# Term Document Frequency\n",
    "corpus = [id2word.doc2bow(text) for text in texts]\n",
    "# corpus1 = [str(item) for item in corpus]\n",
    "\n",
    "# View\n",
    "print(corpus[:1])"
   ]
  },
  {
   "cell_type": "code",
   "execution_count": 109,
   "metadata": {},
   "outputs": [
    {
     "data": {
      "text/plain": [
       "'aangeefster'"
      ]
     },
     "execution_count": 109,
     "metadata": {},
     "output_type": "execute_result"
    }
   ],
   "source": [
    "# Id word\n",
    "id2word[0]"
   ]
  },
  {
   "cell_type": "markdown",
   "metadata": {},
   "source": [
    "# Building the Topic Model"
   ]
  },
  {
   "cell_type": "code",
   "execution_count": 110,
   "metadata": {},
   "outputs": [],
   "source": [
    "# Build LDA model\n",
    "lda_model = gensim.models.ldamodel.LdaModel(corpus=corpus,\n",
    "                                           id2word=id2word,\n",
    "                                           num_topics=5, \n",
    "                                           random_state=100,\n",
    "                                           update_every=1,\n",
    "                                           chunksize=100,\n",
    "                                           passes=10,\n",
    "                                           alpha='auto',\n",
    "                                           per_word_topics=True)"
   ]
  },
  {
   "cell_type": "markdown",
   "metadata": {},
   "source": [
    "# View the topics in LDA model"
   ]
  },
  {
   "cell_type": "code",
   "execution_count": 111,
   "metadata": {},
   "outputs": [
    {
     "name": "stdout",
     "output_type": "stream",
     "text": [
      "[(0,\n",
      "  '0.041*\"verdenken\" + 0.031*\"slachtoffer\" + 0.021*\"zien\" + '\n",
      "  '0.013*\"medeverdacht\" + 0.012*\"verbalisant\" + 0.012*\"man\" + '\n",
      "  '0.010*\"verklaren\" + 0.010*\"komen\" + 0.009*\"rechtbank\" + 0.009*\"verklaring\"'),\n",
      " (1,\n",
      "  '0.064*\"slachtoffer\" + 0.034*\"verdenken\" + 0.027*\"althans\" + 0.026*\"naam\" + '\n",
      "  '0.023*\"ander\" + 0.015*\"geval\" + 0.012*\"weten\" + 0.010*\"geweld\" + '\n",
      "  '0.009*\"goed\" + 0.009*\"aangeefster\"'),\n",
      " (2,\n",
      "  '0.041*\"verdenken\" + 0.021*\"medeverdacht\" + 0.018*\"naam\" + 0.012*\"uur\" + '\n",
      "  '0.011*\"aantreffen\" + 0.011*\"adres\" + 0.010*\"rechtbank\" + 0.010*\"kenteken\" + '\n",
      "  '0.009*\"telefoonnummer\" + 0.008*\"auto\"'),\n",
      " (3,\n",
      "  '0.055*\"verdenken\" + 0.020*\"hof\" + 0.011*\"feit\" + 0.011*\"verklaren\" + '\n",
      "  '0.010*\"bewijzen\" + 0.009*\"benadelen\" + 0.008*\"rechtbank\" + 0.007*\"oordeel\" '\n",
      "  '+ 0.007*\"omstandigheid\" + 0.007*\"artikel\"'),\n",
      " (4,\n",
      "  '0.033*\"verdenken\" + 0.025*\"naam\" + 0.018*\"bedrijf\" + 0.016*\"benadelen\" + '\n",
      "  '0.013*\"althans\" + 0.013*\"geld\" + 0.012*\"telkens\" + 0.012*\"ander\" + '\n",
      "  '0.010*\"periode\" + 0.009*\"bedrag\"')]\n"
     ]
    }
   ],
   "source": [
    "# Print the Keyword in the 10 topics\n",
    "pprint(lda_model.print_topics())\n",
    "doc_lda = lda_model[corpus]"
   ]
  },
  {
   "cell_type": "markdown",
   "metadata": {},
   "source": [
    "# Compute Model Perplexity and Coherence Score"
   ]
  },
  {
   "cell_type": "code",
   "execution_count": 112,
   "metadata": {},
   "outputs": [
    {
     "name": "stdout",
     "output_type": "stream",
     "text": [
      "\n",
      "Perplexity:  -7.197103925749577\n",
      "\n",
      "Coherence Score:  0.4805791301370833\n"
     ]
    }
   ],
   "source": [
    "# Compute Perplexity\n",
    "print('\\nPerplexity: ', lda_model.log_perplexity(corpus))  # a measure of how good the model is. lower the better.\n",
    "\n",
    "# Compute Coherence Score\n",
    "coherence_model_lda = CoherenceModel(model=lda_model, texts=data_lemmatized, dictionary=id2word, coherence='c_v')\n",
    "coherence_lda = coherence_model_lda.get_coherence()\n",
    "print('\\nCoherence Score: ', coherence_lda)"
   ]
  },
  {
   "cell_type": "markdown",
   "metadata": {},
   "source": [
    "# Visualize the topics-keywords"
   ]
  },
  {
   "cell_type": "code",
   "execution_count": 113,
   "metadata": {},
   "outputs": [
    {
     "data": {
      "text/html": [
       "\n",
       "<link rel=\"stylesheet\" type=\"text/css\" href=\"https://cdn.jsdelivr.net/gh/bmabey/pyLDAvis@3.3.1/pyLDAvis/js/ldavis.v1.0.0.css\">\n",
       "\n",
       "\n",
       "<div id=\"ldavis_el21291403980986263842752565155\"></div>\n",
       "<script type=\"text/javascript\">\n",
       "\n",
       "var ldavis_el21291403980986263842752565155_data = {\"mdsDat\": {\"x\": [-0.16086703817493408, -0.11713078557344345, -0.03820051893322586, 0.1391614837358911, 0.17703685894571244], \"y\": [-0.09545739747871287, 0.09695009383153234, 0.05111957180168831, -0.19186599931784915, 0.13925373116334122], \"topics\": [1, 2, 3, 4, 5], \"cluster\": [1, 1, 1, 1, 1], \"Freq\": [25.35822901209298, 22.948805016004695, 19.644267533718857, 19.475390442348015, 12.573307995835462]}, \"tinfo\": {\"Term\": [\"slachtoffer\", \"naam\", \"althans\", \"hof\", \"bedrijf\", \"zien\", \"medeverdacht\", \"ander\", \"man\", \"benadelen\", \"zover_inhoudenen\", \"geit\", \"donker\", \"overvaller\", \"vastbinden\", \"schot\", \"bivakmuts\", \"ontvoering\", \"rennen\", \"luik\", \"bijnaam\", \"overval\", \"incident\", \"man\", \"camerabeeld\", \"zien\", \"lopen\", \"jongen\", \"verbalisant\", \"dader\", \"richting\", \"slachtoffer\", \"getuige\", \"aangever\", \"verdenken\", \"komen\", \"medeverdacht\", \"verklaren\", \"verklaring\", \"rechtbank\", \"undercover_agenten\", \"gevangenisstraf\", \"straf\", \"opleggen\", \"arrest\", \"ontvankelijk\", \"tijdig\", \"ongeval\", \"maatregel\", \"diamant\", \"veroordelen\", \"koerier\", \"uitlating\", \"aanvulling\", \"hof\", \"hoger_beroep\", \"strafbaarheid\", \"vonnis\", \"vordering\", \"omstandigheid\", \"verdediging\", \"artikel\", \"verdenken\", \"bewijzen\", \"oordeel\", \"terechtzitting\", \"verklaren\", \"feit\", \"benadelen\", \"rechtbank\", \"loods\", \"gram\", \"hennep\", \"doorzoeking\", \"mercedes_sprinter\", \"materiaal_bevattenen\", \"volkswagen\", \"opiumwet\", \"opiumwet_behorenen\", \"hennepplant\", \"telefoonnummer\", \"kenteken\", \"cocaine\", \"aantreffen\", \"merk\", \"voertuig\", \"uur\", \"medeverdacht\", \"adres\", \"verdenken\", \"naam\", \"auto\", \"rechtbank\", \"meisje\", \"vagina\", \"dele_toebehorenen\", \"feitelijkheid\", \"billen\", \"pinpas\", \"penis\", \"bereiden_gemakkelijk\", \"betrapping\", \"ontuchtige_handeling\", \"strekking\", \"borst\", \"althans\", \"geweld\", \"voorgenomen_misdrijf\", \"slachtoffer\", \"bedreiging\", \"lichaam\", \"ander\", \"geval\", \"geheel\", \"naam\", \"tenlastelegging\", \"vereniging\", \"aangeefster\", \"verdenken\", \"weten\", \"goed\", \"oplichting\", \"valselijk\", \"www_website\", \"rechtspersoon\", \"valse_hoedanigheid\", \"euro_geboekt\", \"samenweefsel\", \"onvervalst\", \"rekeningnummer\", \"valsheid\", \"website\", \"zegel\", \"factuur\", \"bankrekening\", \"bedrijf\", \"vals\", \"document\", \"gegeven\", \"geldbedrag\", \"bedrag\", \"telkens\", \"euro\", \"geld\", \"benadelen\", \"naam\", \"verdenken\", \"althans\", \"periode\", \"ander\"], \"Freq\": [19289.0, 11156.0, 7107.0, 4836.0, 2537.0, 6247.0, 7973.0, 7379.0, 3351.0, 5433.0, 267.765431666356, 231.43115269350932, 226.77815498500445, 216.55003165563133, 176.68696421640615, 162.76777266078403, 155.41463868603148, 143.61503090860788, 366.1271952364102, 134.44499508380372, 1812.913813776509, 604.6899817675554, 265.8179627849898, 2941.458563096341, 692.916022002364, 5142.577638441161, 1302.6548378004086, 731.8447793709435, 2943.0815842208863, 702.9455705635897, 1177.8506379309026, 7558.560256948861, 1723.1181192114655, 1343.522961238653, 9757.520743256395, 2373.783398692005, 3020.451030286313, 2518.360806134549, 2100.3654735233963, 2168.2670355821633, 490.42306067348994, 345.10758592946274, 317.24623507425144, 234.21043200967833, 203.07947153084382, 159.67596038374566, 150.51614543888476, 139.0574097354254, 134.0097947655896, 136.2173701075945, 304.12281291301247, 145.25017383375655, 190.87478829459045, 373.52593521698486, 4291.048763096908, 777.4084367104828, 403.9523665138572, 389.6164587966105, 623.2359839439013, 1555.2683789597045, 1490.9821424266083, 1523.2733856621267, 11880.271854058561, 2065.3698088891874, 1619.5158774503866, 1096.9040826953908, 2288.530062584641, 2427.2237848109, 2051.1184573167407, 1766.207336563901, 1168.4333970836162, 470.5920352650879, 383.4642668440319, 342.6160326484292, 270.99762492362515, 269.0944361642013, 269.3832001670158, 252.1745452399745, 235.65947802796114, 223.24617566306244, 1625.9285638363738, 1888.3907785129509, 581.769791039359, 2029.3013781683546, 927.7948233243428, 930.7730687130891, 2188.123874070899, 3874.3253921599785, 2003.952656260243, 7628.4640072390785, 3374.8431904860295, 1527.4784153580313, 1951.7163498741895, 1202.862315651199, 556.3006852063602, 463.32031185328134, 269.17080933748406, 256.93754582486133, 254.7862174191329, 226.4374325171028, 225.0956579988453, 204.7278650105077, 194.18570347556408, 339.132586762097, 463.205721974707, 4949.5143584607995, 1779.0137874892505, 827.3054476117236, 11727.363361511076, 861.123538750014, 905.275147717372, 4213.979524090823, 2683.619249639104, 1313.5695286319374, 4791.540666023127, 1615.1047685170038, 1598.6374733673963, 1676.7760969794372, 6193.012476767442, 2198.952989285303, 1706.82439570042, 359.78036369393277, 294.4980960435303, 239.07559351755222, 208.37250696852993, 190.60005666242722, 187.18145558866556, 181.1711996068717, 173.08014696805967, 165.0505358572001, 146.66301914376808, 421.50262470669287, 344.2438724153257, 586.3012987875286, 386.6987352437819, 2197.28203589754, 953.217746145117, 266.7659809832253, 695.0865233713964, 928.7417134292815, 1031.6573117833836, 1419.656667890127, 868.4396868425811, 1503.0512329993269, 1929.6781504061703, 2936.6090084907946, 3974.9535967812276, 1601.6211212622816, 1139.6034404337624, 1368.6631089840312], \"Total\": [19289.0, 11156.0, 7107.0, 4836.0, 2537.0, 6247.0, 7973.0, 7379.0, 3351.0, 5433.0, 268.5900219561377, 232.24792527653054, 227.60584896184974, 217.37053315557674, 177.50363600944155, 163.58557326765077, 156.24600900771642, 144.44283845397885, 368.3767636843678, 135.3110856599488, 1861.435771722006, 617.9515980490964, 269.42739507552517, 3351.0710700143923, 744.3060752205623, 6247.271790810695, 1491.7331673972205, 806.5584832121161, 3768.520003990665, 801.1693319440291, 1453.405211431488, 19289.813097987993, 2663.2515019244324, 1987.6206658196927, 39434.2226781027, 4896.362698837116, 7973.096340400244, 6336.935068243397, 4567.161084455404, 7633.915639669216, 491.2598298158446, 345.95351300224905, 318.08434990418374, 235.04713262958205, 203.93025104474503, 160.52160398321647, 151.39406206200232, 139.8951889594317, 134.8500506229264, 137.07290268597419, 306.51030359199535, 146.17637999144318, 193.15904295961968, 383.3409181421436, 4836.936315359677, 822.8550794501964, 422.1084351360456, 407.49836072556843, 700.6400616552976, 2191.4900721744025, 2195.117319784995, 2303.3124422533933, 39434.2226781027, 3854.5483054822657, 3024.7449247025916, 1753.4284388909846, 6336.935068243397, 7113.824667926035, 5433.651681154094, 7633.915639669216, 1169.2315472193638, 471.393352446324, 384.2754892170718, 343.42990647878713, 271.7964688945183, 269.8937946652125, 270.1888229158673, 252.97785347782838, 236.45995178991276, 224.0460486574344, 1634.6288019606654, 1981.8572119210933, 600.8685218653436, 2554.6272987453435, 1093.959778325287, 1153.3647825782282, 3525.6338338984006, 7973.096340400244, 3394.410021650325, 39434.2226781027, 11156.90692642919, 3808.5304498423347, 7633.915639669216, 1203.8168435889302, 557.1411432777297, 464.19845377805774, 270.0163350348223, 257.7813430783346, 255.65675689745063, 227.27913605032612, 225.95701321574776, 205.59709912195277, 195.0247418702222, 358.34637302588476, 507.3543687336651, 7107.221687191937, 2271.9442356035747, 970.4586208866002, 19289.813097987993, 1047.6292604891532, 1127.7083373996538, 7379.579491776388, 4329.931859777233, 1857.9753366727, 11156.90692642919, 2553.942422802701, 2590.567542105124, 2963.5758570669705, 39434.2226781027, 5293.6807901644515, 3498.5741898065016, 360.6185467543608, 295.33847425091176, 239.95625688301553, 209.20785907804523, 191.44176053123493, 188.0264612173649, 182.0105299153656, 173.9152108220986, 165.88658508260076, 147.4991676852599, 427.5763690170275, 349.01087985310585, 602.3946066052812, 396.35934211802913, 2537.2325161935505, 1076.4915090931243, 274.66909897990536, 837.5264713910306, 1193.3225449006381, 1426.1056672163681, 2299.266316368423, 1238.27706007687, 2962.062516849074, 5433.651681154094, 11156.90692642919, 39434.2226781027, 7107.221687191937, 3053.6030109504995, 7379.579491776388], \"Category\": [\"Default\", \"Default\", \"Default\", \"Default\", \"Default\", \"Default\", \"Default\", \"Default\", \"Default\", \"Default\", \"Topic1\", \"Topic1\", \"Topic1\", \"Topic1\", \"Topic1\", \"Topic1\", \"Topic1\", \"Topic1\", \"Topic1\", \"Topic1\", \"Topic1\", \"Topic1\", \"Topic1\", \"Topic1\", \"Topic1\", \"Topic1\", \"Topic1\", \"Topic1\", \"Topic1\", \"Topic1\", \"Topic1\", \"Topic1\", \"Topic1\", \"Topic1\", \"Topic1\", \"Topic1\", \"Topic1\", \"Topic1\", \"Topic1\", \"Topic1\", \"Topic2\", \"Topic2\", \"Topic2\", \"Topic2\", \"Topic2\", \"Topic2\", \"Topic2\", \"Topic2\", \"Topic2\", \"Topic2\", \"Topic2\", \"Topic2\", \"Topic2\", \"Topic2\", \"Topic2\", \"Topic2\", \"Topic2\", \"Topic2\", \"Topic2\", \"Topic2\", \"Topic2\", \"Topic2\", \"Topic2\", \"Topic2\", \"Topic2\", \"Topic2\", \"Topic2\", \"Topic2\", \"Topic2\", \"Topic2\", \"Topic3\", \"Topic3\", \"Topic3\", \"Topic3\", \"Topic3\", \"Topic3\", \"Topic3\", \"Topic3\", \"Topic3\", \"Topic3\", \"Topic3\", \"Topic3\", \"Topic3\", \"Topic3\", \"Topic3\", \"Topic3\", \"Topic3\", \"Topic3\", \"Topic3\", \"Topic3\", \"Topic3\", \"Topic3\", \"Topic3\", \"Topic4\", \"Topic4\", \"Topic4\", \"Topic4\", \"Topic4\", \"Topic4\", \"Topic4\", \"Topic4\", \"Topic4\", \"Topic4\", \"Topic4\", \"Topic4\", \"Topic4\", \"Topic4\", \"Topic4\", \"Topic4\", \"Topic4\", \"Topic4\", \"Topic4\", \"Topic4\", \"Topic4\", \"Topic4\", \"Topic4\", \"Topic4\", \"Topic4\", \"Topic4\", \"Topic4\", \"Topic4\", \"Topic5\", \"Topic5\", \"Topic5\", \"Topic5\", \"Topic5\", \"Topic5\", \"Topic5\", \"Topic5\", \"Topic5\", \"Topic5\", \"Topic5\", \"Topic5\", \"Topic5\", \"Topic5\", \"Topic5\", \"Topic5\", \"Topic5\", \"Topic5\", \"Topic5\", \"Topic5\", \"Topic5\", \"Topic5\", \"Topic5\", \"Topic5\", \"Topic5\", \"Topic5\", \"Topic5\", \"Topic5\", \"Topic5\"], \"logprob\": [10.0, 9.0, 8.0, 7.0, 6.0, 5.0, 4.0, 3.0, 2.0, 1.0, -6.7983, -6.9441, -6.9645, -7.0106, -7.2141, -7.2961, -7.3423, -7.4213, -6.4855, -7.4873, -4.8857, -5.9837, -6.8056, -4.4018, -5.8475, -3.8431, -5.2163, -5.7929, -4.4012, -5.8332, -5.317, -3.458, -4.9365, -5.1854, -3.2026, -4.6162, -4.3753, -4.5571, -4.7386, -4.7067, -6.0933, -6.4447, -6.5289, -6.8324, -6.975, -7.2154, -7.2745, -7.3537, -7.3907, -7.3743, -6.5712, -7.3101, -7.037, -6.3656, -3.9243, -5.6326, -6.2873, -6.3234, -5.8537, -4.9392, -4.9814, -4.96, -2.906, -4.6555, -4.8987, -5.2883, -4.5529, -4.4941, -4.6625, -4.812, -5.0697, -5.9791, -6.1839, -6.2965, -6.531, -6.5381, -6.537, -6.603, -6.6707, -6.7248, -4.7393, -4.5896, -5.767, -4.5177, -5.3003, -5.2971, -4.4423, -3.871, -4.5302, -3.1935, -4.009, -4.8017, -4.5566, -5.032, -5.8032, -5.9861, -6.5291, -6.5756, -6.5841, -6.702, -6.708, -6.8028, -6.8557, -6.2981, -5.9863, -3.6174, -4.6407, -5.4063, -2.7548, -5.3662, -5.3162, -3.7783, -4.2296, -4.944, -3.6499, -4.7373, -4.7476, -4.6999, -3.3933, -4.4287, -4.6821, -5.8014, -6.0016, -6.2101, -6.3476, -6.4367, -6.4548, -6.4875, -6.5331, -6.5807, -6.6988, -5.6431, -5.8456, -5.3131, -5.7293, -3.9919, -4.8271, -6.1005, -5.1429, -4.8531, -4.748, -4.4287, -4.9202, -4.3717, -4.1218, -3.7019, -3.3991, -4.3081, -4.6485, -4.4653], \"loglift\": [10.0, 9.0, 8.0, 7.0, 6.0, 5.0, 4.0, 3.0, 2.0, 1.0, 1.369, 1.3685, 1.3684, 1.3683, 1.3675, 1.3671, 1.3667, 1.3663, 1.3659, 1.3656, 1.3457, 1.3504, 1.3586, 1.2417, 1.3005, 1.1775, 1.2365, 1.2749, 1.1248, 1.2413, 1.1618, 0.4352, 0.9367, 0.9804, -0.0245, 0.6481, 0.4014, 0.4493, 0.5953, 0.1134, 1.4702, 1.4695, 1.4693, 1.4683, 1.4677, 1.4666, 1.4661, 1.4659, 1.4657, 1.4656, 1.4641, 1.4655, 1.46, 1.446, 1.3522, 1.4151, 1.4279, 1.427, 1.3548, 1.129, 1.0851, 1.0584, 0.2721, 0.848, 0.8472, 1.0028, 0.4534, 0.3966, 0.4977, 0.0081, 1.6267, 1.6257, 1.6253, 1.625, 1.6244, 1.6244, 1.6244, 1.6242, 1.624, 1.6238, 1.622, 1.5791, 1.5951, 1.3972, 1.4626, 1.413, 1.1504, 0.9057, 1.1004, -0.0154, 0.4317, 0.7138, 0.2635, 1.6352, 1.6345, 1.6341, 1.6329, 1.6327, 1.6326, 1.6323, 1.6322, 1.6318, 1.6317, 1.5809, 1.545, 1.2742, 1.3914, 1.4764, 1.1384, 1.44, 1.4163, 1.0757, 1.1576, 1.2893, 0.7908, 1.1778, 1.1533, 1.0665, -0.2152, 0.7575, 0.9183, 2.0713, 2.0707, 2.0699, 2.0696, 2.0692, 2.0691, 2.069, 2.0688, 2.0685, 2.0679, 2.0593, 2.0598, 2.0465, 2.0489, 1.9297, 1.952, 2.0444, 1.8872, 1.8229, 1.7498, 1.5914, 1.7188, 1.3952, 1.0383, 0.7388, -0.221, 0.5835, 1.088, 0.3887]}, \"token.table\": {\"Topic\": [1, 2, 4, 1, 4, 5, 1, 2, 3, 4, 5, 2, 4, 5, 1, 3, 4, 5, 1, 2, 3, 4, 5, 1, 2, 3, 4, 5, 2, 1, 2, 3, 4, 5, 1, 2, 3, 4, 5, 4, 5, 2, 3, 5, 1, 2, 4, 3, 5, 1, 2, 4, 5, 4, 4, 1, 2, 3, 4, 5, 1, 3, 4, 1, 1, 4, 1, 3, 2, 3, 1, 3, 4, 4, 2, 4, 5, 1, 3, 3, 4, 5, 5, 3, 5, 1, 2, 3, 4, 5, 4, 1, 2, 3, 5, 1, 2, 3, 4, 5, 1, 1, 3, 4, 5, 3, 4, 5, 1, 2, 3, 5, 1, 2, 3, 4, 5, 2, 1, 2, 4, 1, 2, 3, 4, 5, 3, 3, 3, 1, 2, 1, 2, 4, 1, 4, 1, 2, 3, 4, 1, 3, 4, 2, 1, 2, 3, 4, 5, 1, 4, 3, 1, 2, 3, 4, 1, 2, 1, 3, 3, 1, 2, 3, 4, 5, 4, 3, 1, 2, 3, 4, 1, 2, 3, 4, 5, 1, 2, 3, 4, 5, 2, 4, 2, 1, 5, 1, 2, 3, 4, 5, 3, 3, 2, 5, 1, 4, 1, 4, 2, 3, 4, 5, 4, 1, 2, 3, 4, 5, 5, 5, 1, 4, 1, 2, 4, 5, 1, 1, 2, 4, 2, 1, 2, 2, 4, 3, 5, 2, 3, 4, 5, 1, 2, 3, 4, 5, 1, 2, 3, 4, 5, 2, 2, 3, 2, 1, 2, 3, 5, 4, 3, 4, 5, 5, 5, 5, 1, 1, 2, 3, 1, 2, 3, 4, 5, 1, 2, 3, 4, 5, 1, 2, 3, 4, 5, 1, 2, 3, 4, 5, 1, 2, 3, 4, 5, 2, 3, 1, 2, 3, 3, 2, 3, 5, 1, 4, 1, 2, 4, 5, 4, 5, 1, 2, 3, 4, 5, 5, 3, 5, 1, 2, 3, 4, 5, 1], \"Freq\": [0.06040000615241717, 0.37353523357947377, 0.565870448701696, 0.6761853622837715, 0.25608508140062475, 0.0679204046936824, 0.14131219852590562, 0.04071043946452683, 0.7942450160915859, 0.004305911866440338, 0.01918088013232514, 0.9756328695944742, 0.0026086440363488617, 0.020869152290790893, 0.20504299585517147, 0.590382419100235, 0.13404391252026296, 0.07040987932383043, 0.011115454600546292, 0.03503478728526616, 0.031939344231949475, 0.696474686996255, 0.22540453506424254, 0.04173679548316096, 0.08455766357627416, 0.11707984187484113, 0.5710352472923386, 0.18551192537807581, 0.9954383862130346, 0.007380674756989737, 0.6612216267585511, 0.1806094528769253, 0.03516674443036286, 0.11548585207995705, 0.46290820651650155, 0.08087108769545234, 0.4009420484121939, 0.05382653564145367, 0.0013128423327183822, 0.02270666802479441, 0.9763867250661596, 0.23280182361804547, 0.04347503935035789, 0.7236490420898282, 0.09831722335810648, 0.07922650037594989, 0.8218556243818416, 0.13361014327081866, 0.8659040848554236, 0.16913119462320902, 0.3774625464332989, 0.09827645041218022, 0.35519391253840416, 0.995764622650442, 0.9970957804146906, 0.24827811825288928, 0.535730735833037, 0.11441029273722485, 0.06719334652821142, 0.034245257690053696, 0.9739793483837489, 0.02578654645472694, 0.9969689696352573, 0.9920253386590189, 0.08672439366161787, 0.9125771423938425, 0.9310685792731724, 0.06852019847464906, 0.02995663667672352, 0.9685979192140605, 0.8774674366206427, 0.08113141305880765, 0.04118979432216388, 0.9974182297069203, 0.992172758692999, 0.025485211208677378, 0.9720787703881228, 0.9973381661121051, 0.9987481973157347, 0.15747687354225456, 0.14051782562231946, 0.7009739806906511, 0.994540868286734, 0.02490062134608178, 0.9727842739202615, 0.15561249421722603, 0.34116668786378285, 0.17515191309364375, 0.22927188624055617, 0.09896223661149696, 0.996236023888365, 0.04059573179045923, 0.01193992111484095, 0.1170112269254413, 0.829824517481446, 0.03821363965312276, 0.08019482124387735, 0.07427439819902734, 0.7072214437211733, 0.10064719176245009, 0.9946267538233349, 0.02970902859052784, 0.28054775862191633, 0.18230540271460266, 0.5074167042223108, 0.06536371941795054, 0.1558673309197282, 0.7784986581958468, 0.6469535448510896, 0.19187072630232546, 0.10175531668870881, 0.05932597799563097, 0.001385703099796284, 0.08337313650440975, 0.1466535780617734, 0.6198711866422043, 0.14896308322810053, 0.9972438117654182, 0.19410687687184452, 0.02244773406000923, 0.7830297822109102, 0.028011411130149613, 0.02772558040433176, 0.3344219492068882, 0.4879130489710754, 0.12233555065004116, 0.9991655536840248, 0.9966807947608876, 0.9953310997283696, 0.1126746280014798, 0.8871317958795409, 0.02552089732985726, 0.9442732012047186, 0.029166739805551154, 0.9872789659174621, 0.01113472517952025, 0.9075597309259122, 0.0024796713959724377, 0.079349484671118, 0.01115852128187597, 0.03330209643913931, 0.9526417890468942, 0.013623584906920626, 0.9919523250506542, 0.4848497029363907, 0.2603973762611197, 0.17359825084074645, 0.04411437903717792, 0.03696621576726483, 0.19685941181556094, 0.8025124670859579, 0.998946703736918, 0.8734806120007893, 0.014077584690726458, 0.09653200930783856, 0.016759029393721973, 0.9903105820668405, 0.993696327001735, 0.8776298498459983, 0.1220505299513816, 0.9966883467390526, 0.37877380017314555, 0.019314955373067686, 0.48588400724197545, 0.0005016871525472126, 0.1153880450858589, 0.9993214552585135, 0.9970696127960831, 0.0987239221585772, 0.00731288312285757, 0.8482944422514781, 0.04479140912750262, 0.003405961907774204, 0.001434089224325981, 0.30250319575626156, 0.42950972268563126, 0.26324500324033784, 0.177048486290894, 0.7095628767586086, 0.09719414324732067, 0.011864073823616608, 0.004106794785098056, 0.9936010025356105, 0.994745580174109, 0.9967505683330263, 0.9969341612313999, 0.994737603354115, 0.2621708672105539, 0.535582351678559, 0.13092013041031444, 0.0026448511194002914, 0.06876612910440758, 0.9961346281329164, 0.9980548427485031, 0.9955450099821798, 0.9982847616687277, 0.9790410800943224, 0.021037246349134203, 0.998295384612635, 0.9943719600815322, 0.031110789339452875, 0.24102674688249806, 0.3543355164767159, 0.3733294720734345, 0.9974310990039115, 0.2839958027220145, 0.2313360643944085, 0.2557010179489725, 0.13191133456691356, 0.09693583672245883, 0.9942265119323522, 0.9946554745089285, 0.9935480086729784, 0.005429224091109172, 0.8105103729742129, 0.08394080263400167, 0.10527002297542833, 0.9944479590503061, 0.996420385636986, 0.3918648647139269, 0.00015552250220158496, 0.6079374611059956, 0.9965909988828109, 0.04264307107295451, 0.9571000396374233, 0.053021326376387116, 0.9460120863997491, 0.9947212468357859, 0.0048940774752068185, 0.013917483056309203, 0.05958422433482377, 0.30879415531186044, 0.6175883106237209, 0.015662060210466268, 0.15505439608361604, 0.07008771944183655, 0.6323556809975756, 0.12686268770477677, 0.23781979962851854, 0.6256314632913306, 0.03193743112517275, 0.053038948118590466, 0.05132801430831335, 0.9973971101862573, 0.9888224598417014, 0.010354161883159177, 0.9974355122495627, 0.3684443879311358, 0.005672738844205325, 0.6205976295560625, 0.005105464959784792, 0.9979517878162503, 0.0678128897286871, 0.045518241050762576, 0.8852833412525863, 0.9976924547182962, 0.9954679990329515, 0.9966157932068808, 0.9971626721527284, 0.7809431811118204, 0.0636854785820037, 0.15523335404363403, 0.20955599769266803, 0.6792347664342783, 0.07334459919243382, 0.02915561707028425, 0.009111130334463827, 0.2474500405308734, 0.30126116842660133, 0.19343604316145752, 0.157046331318682, 0.10080076973869868, 0.045549864298891, 0.011580473974294321, 0.1096284869566529, 0.6172392628298874, 0.21578283172101753, 0.3973529747241029, 0.36121563111337235, 0.18321159795658598, 0.00015780499393332125, 0.058072237767462224, 0.4598042331257969, 0.3312780022473003, 0.12611773251450428, 0.018611123721758445, 0.06393468384415843, 0.9918100515298276, 0.006525066128485708, 0.12658614360812373, 0.06589415694669455, 0.8072034225970082, 0.995600029257178, 0.9570590647422192, 0.009815990407612505, 0.03190196882474064, 0.14735301116636668, 0.8521744072348618, 0.00570906549441349, 0.8891869507549012, 0.002854532747206745, 0.10133591252583946, 0.011693817437794097, 0.9869581917498218, 0.06913903850795468, 0.11277597264822117, 0.2417977303010437, 0.4154009444781212, 0.16094661423163223, 0.9960148699790657, 0.011460960763411009, 0.9856426256533468, 0.8232393550677589, 0.0808352856910788, 0.08323633378091282, 0.00048020961796680473, 0.012325380194481322, 0.9978032618194801], \"Term\": [\"aangeefster\", \"aangeefster\", \"aangeefster\", \"aangever\", \"aangever\", \"aangever\", \"aantreffen\", \"aantreffen\", \"aantreffen\", \"aantreffen\", \"aantreffen\", \"aanvulling\", \"aanvulling\", \"aanvulling\", \"adres\", \"adres\", \"adres\", \"adres\", \"althans\", \"althans\", \"althans\", \"althans\", \"althans\", \"ander\", \"ander\", \"ander\", \"ander\", \"ander\", \"arrest\", \"artikel\", \"artikel\", \"artikel\", \"artikel\", \"artikel\", \"auto\", \"auto\", \"auto\", \"auto\", \"auto\", \"bankrekening\", \"bankrekening\", \"bedrag\", \"bedrag\", \"bedrag\", \"bedreiging\", \"bedreiging\", \"bedreiging\", \"bedrijf\", \"bedrijf\", \"benadelen\", \"benadelen\", \"benadelen\", \"benadelen\", \"bereiden_gemakkelijk\", \"betrapping\", \"bewijzen\", \"bewijzen\", \"bewijzen\", \"bewijzen\", \"bewijzen\", \"bijnaam\", \"bijnaam\", \"billen\", \"bivakmuts\", \"borst\", \"borst\", \"camerabeeld\", \"camerabeeld\", \"cocaine\", \"cocaine\", \"dader\", \"dader\", \"dader\", \"dele_toebehorenen\", \"diamant\", \"document\", \"document\", \"donker\", \"doorzoeking\", \"euro\", \"euro\", \"euro\", \"euro_geboekt\", \"factuur\", \"factuur\", \"feit\", \"feit\", \"feit\", \"feit\", \"feit\", \"feitelijkheid\", \"gegeven\", \"gegeven\", \"gegeven\", \"gegeven\", \"geheel\", \"geheel\", \"geheel\", \"geheel\", \"geheel\", \"geit\", \"geld\", \"geld\", \"geld\", \"geld\", \"geldbedrag\", \"geldbedrag\", \"geldbedrag\", \"getuige\", \"getuige\", \"getuige\", \"getuige\", \"geval\", \"geval\", \"geval\", \"geval\", \"geval\", \"gevangenisstraf\", \"geweld\", \"geweld\", \"geweld\", \"goed\", \"goed\", \"goed\", \"goed\", \"goed\", \"gram\", \"hennep\", \"hennepplant\", \"hof\", \"hof\", \"hoger_beroep\", \"hoger_beroep\", \"hoger_beroep\", \"incident\", \"incident\", \"jongen\", \"jongen\", \"jongen\", \"jongen\", \"kenteken\", \"kenteken\", \"kenteken\", \"koerier\", \"komen\", \"komen\", \"komen\", \"komen\", \"komen\", \"lichaam\", \"lichaam\", \"loods\", \"lopen\", \"lopen\", \"lopen\", \"lopen\", \"luik\", \"maatregel\", \"man\", \"man\", \"materiaal_bevattenen\", \"medeverdacht\", \"medeverdacht\", \"medeverdacht\", \"medeverdacht\", \"medeverdacht\", \"meisje\", \"mercedes_sprinter\", \"merk\", \"merk\", \"merk\", \"merk\", \"naam\", \"naam\", \"naam\", \"naam\", \"naam\", \"omstandigheid\", \"omstandigheid\", \"omstandigheid\", \"omstandigheid\", \"omstandigheid\", \"ongeval\", \"ontuchtige_handeling\", \"ontvankelijk\", \"ontvoering\", \"onvervalst\", \"oordeel\", \"oordeel\", \"oordeel\", \"oordeel\", \"oordeel\", \"opiumwet\", \"opiumwet_behorenen\", \"opleggen\", \"oplichting\", \"overval\", \"overval\", \"overvaller\", \"penis\", \"periode\", \"periode\", \"periode\", \"periode\", \"pinpas\", \"rechtbank\", \"rechtbank\", \"rechtbank\", \"rechtbank\", \"rechtbank\", \"rechtspersoon\", \"rekeningnummer\", \"rennen\", \"rennen\", \"richting\", \"richting\", \"richting\", \"samenweefsel\", \"schot\", \"slachtoffer\", \"slachtoffer\", \"slachtoffer\", \"straf\", \"strafbaarheid\", \"strafbaarheid\", \"strekking\", \"strekking\", \"telefoonnummer\", \"telefoonnummer\", \"telkens\", \"telkens\", \"telkens\", \"telkens\", \"tenlastelegging\", \"tenlastelegging\", \"tenlastelegging\", \"tenlastelegging\", \"tenlastelegging\", \"terechtzitting\", \"terechtzitting\", \"terechtzitting\", \"terechtzitting\", \"terechtzitting\", \"tijdig\", \"uitlating\", \"uitlating\", \"undercover_agenten\", \"uur\", \"uur\", \"uur\", \"uur\", \"vagina\", \"vals\", \"vals\", \"vals\", \"valse_hoedanigheid\", \"valselijk\", \"valsheid\", \"vastbinden\", \"verbalisant\", \"verbalisant\", \"verbalisant\", \"verdediging\", \"verdediging\", \"verdediging\", \"verdediging\", \"verdediging\", \"verdenken\", \"verdenken\", \"verdenken\", \"verdenken\", \"verdenken\", \"vereniging\", \"vereniging\", \"vereniging\", \"vereniging\", \"vereniging\", \"verklaren\", \"verklaren\", \"verklaren\", \"verklaren\", \"verklaren\", \"verklaring\", \"verklaring\", \"verklaring\", \"verklaring\", \"verklaring\", \"veroordelen\", \"veroordelen\", \"voertuig\", \"voertuig\", \"voertuig\", \"volkswagen\", \"vonnis\", \"vonnis\", \"vonnis\", \"voorgenomen_misdrijf\", \"voorgenomen_misdrijf\", \"vordering\", \"vordering\", \"vordering\", \"vordering\", \"website\", \"website\", \"weten\", \"weten\", \"weten\", \"weten\", \"weten\", \"www_website\", \"zegel\", \"zegel\", \"zien\", \"zien\", \"zien\", \"zien\", \"zien\", \"zover_inhoudenen\"]}, \"R\": 10, \"lambda.step\": 0.01, \"plot.opts\": {\"xlab\": \"PC1\", \"ylab\": \"PC2\"}, \"topic.order\": [1, 4, 3, 2, 5]};\n",
       "\n",
       "function LDAvis_load_lib(url, callback){\n",
       "  var s = document.createElement('script');\n",
       "  s.src = url;\n",
       "  s.async = true;\n",
       "  s.onreadystatechange = s.onload = callback;\n",
       "  s.onerror = function(){console.warn(\"failed to load library \" + url);};\n",
       "  document.getElementsByTagName(\"head\")[0].appendChild(s);\n",
       "}\n",
       "\n",
       "if(typeof(LDAvis) !== \"undefined\"){\n",
       "   // already loaded: just create the visualization\n",
       "   !function(LDAvis){\n",
       "       new LDAvis(\"#\" + \"ldavis_el21291403980986263842752565155\", ldavis_el21291403980986263842752565155_data);\n",
       "   }(LDAvis);\n",
       "}else if(typeof define === \"function\" && define.amd){\n",
       "   // require.js is available: use it to load d3/LDAvis\n",
       "   require.config({paths: {d3: \"https://d3js.org/d3.v5\"}});\n",
       "   require([\"d3\"], function(d3){\n",
       "      window.d3 = d3;\n",
       "      LDAvis_load_lib(\"https://cdn.jsdelivr.net/gh/bmabey/pyLDAvis@3.3.1/pyLDAvis/js/ldavis.v3.0.0.js\", function(){\n",
       "        new LDAvis(\"#\" + \"ldavis_el21291403980986263842752565155\", ldavis_el21291403980986263842752565155_data);\n",
       "      });\n",
       "    });\n",
       "}else{\n",
       "    // require.js not available: dynamically load d3 & LDAvis\n",
       "    LDAvis_load_lib(\"https://d3js.org/d3.v5.js\", function(){\n",
       "         LDAvis_load_lib(\"https://cdn.jsdelivr.net/gh/bmabey/pyLDAvis@3.3.1/pyLDAvis/js/ldavis.v3.0.0.js\", function(){\n",
       "                 new LDAvis(\"#\" + \"ldavis_el21291403980986263842752565155\", ldavis_el21291403980986263842752565155_data);\n",
       "            })\n",
       "         });\n",
       "}\n",
       "</script>"
      ],
      "text/plain": [
       "PreparedData(topic_coordinates=              x         y  topics  cluster       Freq\n",
       "topic                                                \n",
       "0     -0.160867 -0.095457       1        1  25.358229\n",
       "3     -0.117131  0.096950       2        1  22.948805\n",
       "2     -0.038201  0.051120       3        1  19.644268\n",
       "1      0.139161 -0.191866       4        1  19.475390\n",
       "4      0.177037  0.139254       5        1  12.573308, topic_info=            Term          Freq         Total Category  logprob  loglift\n",
       "975  slachtoffer  19289.000000  19289.000000  Default  10.0000  10.0000\n",
       "61          naam  11156.000000  11156.000000  Default   9.0000   9.0000\n",
       "581      althans   7107.000000   7107.000000  Default   8.0000   8.0000\n",
       "310          hof   4836.000000   4836.000000  Default   7.0000   7.0000\n",
       "750      bedrijf   2537.000000   2537.000000  Default   6.0000   6.0000\n",
       "..           ...           ...           ...      ...      ...      ...\n",
       "61          naam   2936.609008  11156.906926   Topic5  -3.7019   0.7388\n",
       "110    verdenken   3974.953597  39434.222678   Topic5  -3.3991  -0.2210\n",
       "581      althans   1601.621121   7107.221687   Topic5  -4.3081   0.5835\n",
       "77       periode   1139.603440   3053.603011   Topic5  -4.6485   1.0880\n",
       "163        ander   1368.663109   7379.579492   Topic5  -4.4653   0.3887\n",
       "\n",
       "[150 rows x 6 columns], token_table=      Topic      Freq              Term\n",
       "term                                   \n",
       "0         1  0.060400       aangeefster\n",
       "0         2  0.373535       aangeefster\n",
       "0         4  0.565870       aangeefster\n",
       "721       1  0.676185          aangever\n",
       "721       4  0.256085          aangever\n",
       "...     ...       ...               ...\n",
       "569       2  0.080835              zien\n",
       "569       3  0.083236              zien\n",
       "569       4  0.000480              zien\n",
       "569       5  0.012325              zien\n",
       "3353      1  0.997803  zover_inhoudenen\n",
       "\n",
       "[318 rows x 3 columns], R=10, lambda_step=0.01, plot_opts={'xlab': 'PC1', 'ylab': 'PC2'}, topic_order=[1, 4, 3, 2, 5])"
      ]
     },
     "execution_count": 113,
     "metadata": {},
     "output_type": "execute_result"
    }
   ],
   "source": [
    "# Visualize the topics\n",
    "pyLDAvis.enable_notebook()\n",
    "vis = gensimvis.prepare(lda_model, corpus, id2word, R = 10)\n",
    "vis"
   ]
  },
  {
   "cell_type": "markdown",
   "metadata": {},
   "source": [
    "# How to find the optimal number fo topics for LDA?"
   ]
  },
  {
   "cell_type": "code",
   "execution_count": 114,
   "metadata": {},
   "outputs": [],
   "source": [
    "def compute_coherence_values(dictionary, corpus, texts, limit, start=2, step=3):\n",
    "    \"\"\"\n",
    "    Compute c_v coherence for various number of topics\n",
    "\n",
    "    Parameters:\n",
    "    ----------\n",
    "    dictionary : Gensim dictionary\n",
    "    corpus : Gensim corpus\n",
    "    texts : List of input texts\n",
    "    limit : Max num of topics\n",
    "\n",
    "    Returns:\n",
    "    -------\n",
    "    model_list : List of LDA topic models\n",
    "    coherence_values : Coherence values corresponding to the LDA model with respective number of topics\n",
    "    \"\"\"\n",
    "    coherence_values = []\n",
    "    model_list = []\n",
    "    for num_topics in range(start, limit, step):\n",
    "        model = gensim.models.ldamodel.LdaModel(corpus=corpus, num_topics=num_topics, id2word=id2word)\n",
    "        model_list.append(model)\n",
    "        coherencemodel = CoherenceModel(model=model, texts=texts, dictionary=dictionary, coherence='c_v')\n",
    "        coherence_values.append(coherencemodel.get_coherence())\n",
    "\n",
    "    return model_list, coherence_values\n"
   ]
  },
  {
   "cell_type": "code",
   "execution_count": 115,
   "metadata": {},
   "outputs": [],
   "source": [
    "# Can take a long time to run.\n",
    "model_list, coherence_values = compute_coherence_values(dictionary=id2word, corpus=corpus, texts=data_lemmatized, start=2, limit=15, step=1)  # 2,40,6"
   ]
  },
  {
   "cell_type": "code",
   "execution_count": 116,
   "metadata": {},
   "outputs": [
    {
     "data": {
      "image/png": "[encoded data removed]",
      "text/plain": [
       "<Figure size 432x288 with 1 Axes>"
      ]
     },
     "metadata": {
      "needs_background": "light"
     },
     "output_type": "display_data"
    }
   ],
   "source": [
    "# Show graph\n",
    "\n",
    "plt.plot(coherence_values)\n",
    "plt.xlabel(\"Num Topics\")\n",
    "plt.ylabel(\"Coherence score\")\n",
    "plt.legend((\"coherence_values\"), loc='best')\n",
    "plt.show()"
   ]
  },
  {
   "cell_type": "code",
   "execution_count": null,
   "metadata": {},
   "outputs": [],
   "source": []
  },
  {
   "cell_type": "code",
   "execution_count": null,
   "metadata": {},
   "outputs": [],
   "source": []
  },
  {
   "cell_type": "code",
   "execution_count": null,
   "metadata": {},
   "outputs": [],
   "source": []
  },
  {
   "cell_type": "code",
   "execution_count": null,
   "metadata": {},
   "outputs": [],
   "source": []
  },
  {
   "cell_type": "markdown",
   "metadata": {},
   "source": [
    "# TF-IDF"
   ]
  },
  {
   "cell_type": "code",
   "execution_count": 117,
   "metadata": {},
   "outputs": [],
   "source": [
    "from sklearn.feature_extraction.text import TfidfVectorizer\n",
    "from sklearn.preprocessing import Normalizer\n",
    "from sklearn.cluster import KMeans\n",
    "from sklearn import metrics\n",
    "from sklearn.metrics.pairwise import cosine_distances"
   ]
  },
  {
   "cell_type": "code",
   "execution_count": 118,
   "metadata": {},
   "outputs": [],
   "source": [
    "sample = list(df['bete'])"
   ]
  },
  {
   "cell_type": "markdown",
   "metadata": {},
   "source": [
    "# Approach 2"
   ]
  },
  {
   "cell_type": "code",
   "execution_count": 119,
   "metadata": {},
   "outputs": [],
   "source": [
    "dat_lem_untok = [\" \".join(x) for x in data_lemmatized]\n",
    "tfidf_vectorizer = TfidfVectorizer(input=dat_lem_untok, stop_words=stop_words)"
   ]
  },
  {
   "cell_type": "code",
   "execution_count": 120,
   "metadata": {},
   "outputs": [
    {
     "name": "stderr",
     "output_type": "stream",
     "text": [
      "/opt/anaconda3/lib/python3.7/site-packages/sklearn/feature_extraction/text.py:391: UserWarning: Your stop_words may be inconsistent with your preprocessing. Tokenizing the stop words generated tokens ['tenlastelegging'] not in stop_words.\n",
      "  'stop_words.' % sorted(inconsistent))\n"
     ]
    }
   ],
   "source": [
    "tfidf_vector = tfidf_vectorizer.fit_transform(dat_lem_untok)"
   ]
  },
  {
   "cell_type": "code",
   "execution_count": 121,
   "metadata": {},
   "outputs": [],
   "source": [
    "tfidf_df = pd.DataFrame(tfidf_vector.toarray(), columns=tfidf_vectorizer.get_feature_names())"
   ]
  },
  {
   "cell_type": "code",
   "execution_count": 122,
   "metadata": {},
   "outputs": [
    {
     "data": {
      "text/html": [
       "<div>\n",
       "<style scoped>\n",
       "    .dataframe tbody tr th:only-of-type {\n",
       "        vertical-align: middle;\n",
       "    }\n",
       "\n",
       "    .dataframe tbody tr th {\n",
       "        vertical-align: top;\n",
       "    }\n",
       "\n",
       "    .dataframe thead th {\n",
       "        text-align: right;\n",
       "    }\n",
       "</style>\n",
       "<table border=\"1\" class=\"dataframe\">\n",
       "  <thead>\n",
       "    <tr style=\"text-align: right;\">\n",
       "      <th></th>\n",
       "      <th>level_0</th>\n",
       "      <th>level_1</th>\n",
       "      <th>0</th>\n",
       "    </tr>\n",
       "  </thead>\n",
       "  <tbody>\n",
       "    <tr>\n",
       "      <th>0</th>\n",
       "      <td>0</td>\n",
       "      <td>aa</td>\n",
       "      <td>0.0</td>\n",
       "    </tr>\n",
       "    <tr>\n",
       "      <th>1</th>\n",
       "      <td>0</td>\n",
       "      <td>aa_flesje</td>\n",
       "      <td>0.0</td>\n",
       "    </tr>\n",
       "    <tr>\n",
       "      <th>2</th>\n",
       "      <td>0</td>\n",
       "      <td>aaan</td>\n",
       "      <td>0.0</td>\n",
       "    </tr>\n",
       "    <tr>\n",
       "      <th>3</th>\n",
       "      <td>0</td>\n",
       "      <td>aaei</td>\n",
       "      <td>0.0</td>\n",
       "    </tr>\n",
       "    <tr>\n",
       "      <th>4</th>\n",
       "      <td>0</td>\n",
       "      <td>aafe</td>\n",
       "      <td>0.0</td>\n",
       "    </tr>\n",
       "    <tr>\n",
       "      <th>...</th>\n",
       "      <td>...</td>\n",
       "      <td>...</td>\n",
       "      <td>...</td>\n",
       "    </tr>\n",
       "    <tr>\n",
       "      <th>30914795</th>\n",
       "      <td>1447</td>\n",
       "      <td>zwoll</td>\n",
       "      <td>0.0</td>\n",
       "    </tr>\n",
       "    <tr>\n",
       "      <th>30914796</th>\n",
       "      <td>1447</td>\n",
       "      <td>zwolle</td>\n",
       "      <td>0.0</td>\n",
       "    </tr>\n",
       "    <tr>\n",
       "      <th>30914797</th>\n",
       "      <td>1447</td>\n",
       "      <td>zwz</td>\n",
       "      <td>0.0</td>\n",
       "    </tr>\n",
       "    <tr>\n",
       "      <th>30914798</th>\n",
       "      <td>1447</td>\n",
       "      <td>zygoma</td>\n",
       "      <td>0.0</td>\n",
       "    </tr>\n",
       "    <tr>\n",
       "      <th>30914799</th>\n",
       "      <td>1447</td>\n",
       "      <td>één</td>\n",
       "      <td>0.0</td>\n",
       "    </tr>\n",
       "  </tbody>\n",
       "</table>\n",
       "<p>30914800 rows × 3 columns</p>\n",
       "</div>"
      ],
      "text/plain": [
       "          level_0    level_1    0\n",
       "0               0         aa  0.0\n",
       "1               0  aa_flesje  0.0\n",
       "2               0       aaan  0.0\n",
       "3               0       aaei  0.0\n",
       "4               0       aafe  0.0\n",
       "...           ...        ...  ...\n",
       "30914795     1447      zwoll  0.0\n",
       "30914796     1447     zwolle  0.0\n",
       "30914797     1447        zwz  0.0\n",
       "30914798     1447     zygoma  0.0\n",
       "30914799     1447        één  0.0\n",
       "\n",
       "[30914800 rows x 3 columns]"
      ]
     },
     "execution_count": 122,
     "metadata": {},
     "output_type": "execute_result"
    }
   ],
   "source": [
    "tfidf_df.stack().reset_index()"
   ]
  },
  {
   "cell_type": "code",
   "execution_count": 123,
   "metadata": {},
   "outputs": [],
   "source": [
    "tfidf_df = tfidf_df.stack().reset_index()\n",
    "tfidf_df = tfidf_df.rename(columns={0:'tfidf', 'level_0': 'document','level_1': 'term', 'level_2': 'term'})\n",
    "tfidf_df.sort_values(by=['document','tfidf'], ascending=[True,False]).groupby(['document']).head(10)\n",
    "top_tfidf = tfidf_df.sort_values(by=['document','tfidf'], ascending=[True,False]).groupby(['document']).head(10)"
   ]
  },
  {
   "cell_type": "code",
   "execution_count": 124,
   "metadata": {},
   "outputs": [
    {
     "data": {
      "text/html": [
       "<div>\n",
       "<style scoped>\n",
       "    .dataframe tbody tr th:only-of-type {\n",
       "        vertical-align: middle;\n",
       "    }\n",
       "\n",
       "    .dataframe tbody tr th {\n",
       "        vertical-align: top;\n",
       "    }\n",
       "\n",
       "    .dataframe thead th {\n",
       "        text-align: right;\n",
       "    }\n",
       "</style>\n",
       "<table border=\"1\" class=\"dataframe\">\n",
       "  <thead>\n",
       "    <tr style=\"text-align: right;\">\n",
       "      <th></th>\n",
       "      <th>document</th>\n",
       "      <th>term</th>\n",
       "      <th>tfidf</th>\n",
       "    </tr>\n",
       "  </thead>\n",
       "  <tbody>\n",
       "    <tr>\n",
       "      <th>29008</th>\n",
       "      <td>1</td>\n",
       "      <td>hof</td>\n",
       "      <td>0.175662</td>\n",
       "    </tr>\n",
       "    <tr>\n",
       "      <th>71708</th>\n",
       "      <td>3</td>\n",
       "      <td>hof</td>\n",
       "      <td>0.527818</td>\n",
       "    </tr>\n",
       "    <tr>\n",
       "      <th>93058</th>\n",
       "      <td>4</td>\n",
       "      <td>hof</td>\n",
       "      <td>0.197094</td>\n",
       "    </tr>\n",
       "    <tr>\n",
       "      <th>114408</th>\n",
       "      <td>5</td>\n",
       "      <td>hof</td>\n",
       "      <td>0.155718</td>\n",
       "    </tr>\n",
       "    <tr>\n",
       "      <th>199808</th>\n",
       "      <td>9</td>\n",
       "      <td>hof</td>\n",
       "      <td>0.272591</td>\n",
       "    </tr>\n",
       "    <tr>\n",
       "      <th>...</th>\n",
       "      <td>...</td>\n",
       "      <td>...</td>\n",
       "      <td>...</td>\n",
       "    </tr>\n",
       "    <tr>\n",
       "      <th>29897658</th>\n",
       "      <td>1400</td>\n",
       "      <td>hof</td>\n",
       "      <td>0.231139</td>\n",
       "    </tr>\n",
       "    <tr>\n",
       "      <th>30196558</th>\n",
       "      <td>1414</td>\n",
       "      <td>hof</td>\n",
       "      <td>0.315010</td>\n",
       "    </tr>\n",
       "    <tr>\n",
       "      <th>30217908</th>\n",
       "      <td>1415</td>\n",
       "      <td>hof</td>\n",
       "      <td>0.186256</td>\n",
       "    </tr>\n",
       "    <tr>\n",
       "      <th>30708958</th>\n",
       "      <td>1438</td>\n",
       "      <td>hof</td>\n",
       "      <td>0.275683</td>\n",
       "    </tr>\n",
       "    <tr>\n",
       "      <th>30858408</th>\n",
       "      <td>1445</td>\n",
       "      <td>hof</td>\n",
       "      <td>0.182395</td>\n",
       "    </tr>\n",
       "  </tbody>\n",
       "</table>\n",
       "<p>157 rows × 3 columns</p>\n",
       "</div>"
      ],
      "text/plain": [
       "          document term     tfidf\n",
       "29008            1  hof  0.175662\n",
       "71708            3  hof  0.527818\n",
       "93058            4  hof  0.197094\n",
       "114408           5  hof  0.155718\n",
       "199808           9  hof  0.272591\n",
       "...            ...  ...       ...\n",
       "29897658      1400  hof  0.231139\n",
       "30196558      1414  hof  0.315010\n",
       "30217908      1415  hof  0.186256\n",
       "30708958      1438  hof  0.275683\n",
       "30858408      1445  hof  0.182395\n",
       "\n",
       "[157 rows x 3 columns]"
      ]
     },
     "execution_count": 124,
     "metadata": {},
     "output_type": "execute_result"
    }
   ],
   "source": [
    "top_tfidf[top_tfidf['term'].str.contains('hof')]"
   ]
  },
  {
   "cell_type": "code",
   "execution_count": 125,
   "metadata": {},
   "outputs": [
    {
     "data": {
      "text/html": [
       "\n",
       "<div id=\"altair-viz-d1566b15faed436db3343470fb04deed\"></div>\n",
       "<script type=\"text/javascript\">\n",
       "  var VEGA_DEBUG = (typeof VEGA_DEBUG == \"undefined\") ? {} : VEGA_DEBUG;\n",
       "  (function(spec, embedOpt){\n",
       "    let outputDiv = document.currentScript.previousElementSibling;\n",
       "    if (outputDiv.id !== \"altair-viz-d1566b15faed436db3343470fb04deed\") {\n",
       "      outputDiv = document.getElementById(\"altair-viz-d1566b15faed436db3343470fb04deed\");\n",
       "    }\n",
       "    const paths = {\n",
       "      \"vega\": \"https://cdn.jsdelivr.net/npm//vega@5?noext\",\n",
       "      \"vega-lib\": \"https://cdn.jsdelivr.net/npm//vega-lib?noext\",\n",
       "      \"vega-lite\": \"https://cdn.jsdelivr.net/npm//vega-lite@4.17.0?noext\",\n",
       "      \"vega-embed\": \"https://cdn.jsdelivr.net/npm//vega-embed@6?noext\",\n",
       "    };\n",
       "\n",
       "    function maybeLoadScript(lib, version) {\n",
       "      var key = `${lib.replace(\"-\", \"\")}_version`;\n",
       "      return (VEGA_DEBUG[key] == version) ?\n",
       "        Promise.resolve(paths[lib]) :\n",
       "        new Promise(function(resolve, reject) {\n",
       "          var s = document.createElement('script');\n",
       "          document.getElementsByTagName(\"head\")[0].appendChild(s);\n",
       "          s.async = true;\n",
       "          s.onload = () => {\n",
       "            VEGA_DEBUG[key] = version;\n",
       "            return resolve(paths[lib]);\n",
       "          };\n",
       "          s.onerror = () => reject(`Error loading script: ${paths[lib]}`);\n",
       "          s.src = paths[lib];\n",
       "        });\n",
       "    }\n",
       "\n",
       "    function showError(err) {\n",
       "      outputDiv.innerHTML = `<div class=\"error\" style=\"color:red;\">${err}</div>`;\n",
       "      throw err;\n",
       "    }\n",
       "\n",
       "    function displayChart(vegaEmbed) {\n",
       "      vegaEmbed(outputDiv, spec, embedOpt)\n",
       "        .catch(err => showError(`Javascript Error: ${err.message}<br>This usually means there's a typo in your chart specification. See the javascript console for the full traceback.`));\n",
       "    }\n",
       "\n",
       "    if(typeof define === \"function\" && define.amd) {\n",
       "      requirejs.config({paths});\n",
       "      require([\"vega-embed\"], displayChart, err => showError(`Error loading script: ${err.message}`));\n",
       "    } else {\n",
       "      maybeLoadScript(\"vega\", \"5\")\n",
       "        .then(() => maybeLoadScript(\"vega-lite\", \"4.17.0\"))\n",
       "        .then(() => maybeLoadScript(\"vega-embed\", \"6\"))\n",
       "        .catch(showError)\n",
       "        .then(() => displayChart(vegaEmbed));\n",
       "    }\n",
       "  })({\"config\": {\"view\": {\"continuousWidth\": 400, \"continuousHeight\": 300}}, \"layer\": [{\"mark\": \"rect\", \"encoding\": {\"color\": {\"field\": \"tfidf\", \"type\": \"quantitative\"}, \"x\": {\"field\": \"rank\", \"type\": \"ordinal\"}, \"y\": {\"field\": \"document\", \"type\": \"nominal\"}}, \"transform\": [{\"window\": [{\"op\": \"rank\", \"field\": \"\", \"as\": \"rank\"}], \"groupby\": [\"document\"], \"sort\": [{\"field\": \"tfidf\", \"order\": \"descending\"}]}]}, {\"mark\": {\"type\": \"circle\", \"size\": 100}, \"encoding\": {\"color\": {\"condition\": {\"value\": \"red\", \"test\": {\"field\": \"term\", \"oneOf\": [\"benadelen\", \"kasboek\", \"hof\"]}}, \"value\": \"#FFFFFF00\"}, \"x\": {\"field\": \"rank\", \"type\": \"ordinal\"}, \"y\": {\"field\": \"document\", \"type\": \"nominal\"}}, \"transform\": [{\"window\": [{\"op\": \"rank\", \"field\": \"\", \"as\": \"rank\"}], \"groupby\": [\"document\"], \"sort\": [{\"field\": \"tfidf\", \"order\": \"descending\"}]}]}, {\"mark\": {\"type\": \"text\", \"baseline\": \"middle\"}, \"encoding\": {\"color\": {\"condition\": {\"value\": \"white\", \"test\": \"(datum.tfidf >= 0.23)\"}, \"value\": \"black\"}, \"text\": {\"field\": \"term\", \"type\": \"nominal\"}, \"x\": {\"field\": \"rank\", \"type\": \"ordinal\"}, \"y\": {\"field\": \"document\", \"type\": \"nominal\"}}, \"transform\": [{\"window\": [{\"op\": \"rank\", \"field\": \"\", \"as\": \"rank\"}], \"groupby\": [\"document\"], \"sort\": [{\"field\": \"tfidf\", \"order\": \"descending\"}]}]}], \"data\": {\"name\": \"data-969e2e5a2ce5f65f56f928faaf2d9bac\"}, \"width\": 1200, \"$schema\": \"https://vega.github.io/schema/vega-lite/v4.17.0.json\", \"datasets\": {\"data-969e2e5a2ce5f65f56f928faaf2d9bac\": [{\"document\": 0, \"term\": \"kind\", \"tfidf\": 0.3759993638929646}, {\"document\": 0, \"term\": \"tandarts\", \"tfidf\": 0.26936059504748294}, {\"document\": 0, \"term\": \"minderjarig\", \"tfidf\": 0.2524977550262414}, {\"document\": 0, \"term\": \"leerkracht\", \"tfidf\": 0.2297358384498624}, {\"document\": 0, \"term\": \"trein\", \"tfidf\": 0.22495599457415622}, {\"document\": 0, \"term\": \"aangeefster\", \"tfidf\": 0.19714199148995978}, {\"document\": 0, \"term\": \"school\", \"tfidf\": 0.19443363329189683}, {\"document\": 0, \"term\": \"verdenken\", \"tfidf\": 0.19414324147496917}, {\"document\": 0, \"term\": \"geboorteplaats\", \"tfidf\": 0.19193849931495352}, {\"document\": 0, \"term\": \"naam\", \"tfidf\": 0.16934675271563238}, {\"document\": 1, \"term\": \"verbalisant\", \"tfidf\": 0.4264514599040065}, {\"document\": 1, \"term\": \"verdenken\", \"tfidf\": 0.24131232651607268}, {\"document\": 1, \"term\": \"camerabeeld\", \"tfidf\": 0.19568532435196853}, {\"document\": 1, \"term\": \"nek\", \"tfidf\": 0.17970150412943325}, {\"document\": 1, \"term\": \"hof\", \"tfidf\": 0.17569402214674484}, {\"document\": 1, \"term\": \"zaak\", \"tfidf\": 0.15939561591499002}, {\"document\": 1, \"term\": \"onjuistheid\", \"tfidf\": 0.15483895926622343}, {\"document\": 1, \"term\": \"vervolging\", \"tfidf\": 0.13449363940529793}, {\"document\": 1, \"term\": \"aanhouden\", \"tfidf\": 0.13027497846307917}, {\"document\": 1, \"term\": \"beeldmateriaal\", \"tfidf\": 0.11812812693668391}, {\"document\": 2, \"term\": \"ofeen_hoeveelheid\", \"tfidf\": 0.4284617558867489}, {\"document\": 2, \"term\": \"materiaal_bevattenen\", \"tfidf\": 0.42821593591382145}, {\"document\": 2, \"term\": \"lsd\", \"tfidf\": 0.38713003270730256}, {\"document\": 2, \"term\": \"amfetamine\", \"tfidf\": 0.278633839817441}, {\"document\": 2, \"term\": \"cb\", \"tfidf\": 0.2742502491039182}, {\"document\": 2, \"term\": \"cocaine\", \"tfidf\": 0.2192627341997432}, {\"document\": 2, \"term\": \"drug\", \"tfidf\": 0.14384693787857358}, {\"document\": 2, \"term\": \"aanwezig\", \"tfidf\": 0.13715738616129994}, {\"document\": 2, \"term\": \"opzettelijk\", \"tfidf\": 0.13093264320461842}, {\"document\": 2, \"term\": \"ghb\", \"tfidf\": 0.12602703678554536}, {\"document\": 3, \"term\": \"hof\", \"tfidf\": 0.5278906467536278}, {\"document\": 3, \"term\": \"verdenken\", \"tfidf\": 0.19771588416926553}, {\"document\": 3, \"term\": \"artikel\", \"tfidf\": 0.18273882811574085}, {\"document\": 3, \"term\": \"strafbaarheid\", \"tfidf\": 0.16792525803657601}, {\"document\": 3, \"term\": \"feit\", \"tfidf\": 0.15692464780161977}, {\"document\": 3, \"term\": \"arrest\", \"tfidf\": 0.15092042346300324}, {\"document\": 3, \"term\": \"afval\", \"tfidf\": 0.14702524639036305}, {\"document\": 3, \"term\": \"omstandigheid\", \"tfidf\": 0.1207616748556793}, {\"document\": 3, \"term\": \"strafbaar\", \"tfidf\": 0.11019983184418042}, {\"document\": 3, \"term\": \"hoger_beroep\", \"tfidf\": 0.1083084655836464}, {\"document\": 4, \"term\": \"benadelen\", \"tfidf\": 0.7569337853113107}, {\"document\": 4, \"term\": \"revolver\", \"tfidf\": 0.2728607259784755}, {\"document\": 4, \"term\": \"hof\", \"tfidf\": 0.1971625507345988}, {\"document\": 4, \"term\": \"wapen\", \"tfidf\": 0.13993260443580308}, {\"document\": 4, \"term\": \"verdenken\", \"tfidf\": 0.13598058037696037}, {\"document\": 4, \"term\": \"vuurwapen\", \"tfidf\": 0.1318339137392133}, {\"document\": 4, \"term\": \"verklaren\", \"tfidf\": 0.12054291470725904}, {\"document\": 4, \"term\": \"verklaring\", \"tfidf\": 0.11270735666484606}, {\"document\": 4, \"term\": \"kogel\", \"tfidf\": 0.11203290555097702}, {\"document\": 4, \"term\": \"schieten\", \"tfidf\": 0.0992982719150878}, {\"document\": 5, \"term\": \"liwa\", \"tfidf\": 0.5936802605260212}, {\"document\": 5, \"term\": \"tawhid\", \"tfidf\": 0.5936952755755035}, {\"document\": 5, \"term\": \"syrie\", \"tfidf\": 0.17260210886825603}, {\"document\": 5, \"term\": \"hof\", \"tfidf\": 0.15573273931432313}, {\"document\": 5, \"term\": \"salafistisch\", \"tfidf\": 0.14052608029766028}, {\"document\": 5, \"term\": \"geboorteplaats\", \"tfidf\": 0.13954596001698016}, {\"document\": 5, \"term\": \"organisatie\", \"tfidf\": 0.13665069266224605}, {\"document\": 5, \"term\": \"jihadi\", \"tfidf\": 0.11135154748097487}, {\"document\": 5, \"term\": \"vsl\", \"tfidf\": 0.11132007773432169}, {\"document\": 5, \"term\": \"sanctielijst\", \"tfidf\": 0.09789317386872269}, {\"document\": 6, \"term\": \"politierechter\", \"tfidf\": 0.258572387331064}, {\"document\": 6, \"term\": \"factor\", \"tfidf\": 0.23106135860588814}, {\"document\": 6, \"term\": \"ernstige_bezwar\", \"tfidf\": 0.21641444953923292}, {\"document\": 6, \"term\": \"norm\", \"tfidf\": 0.2135238353810412}, {\"document\": 6, \"term\": \"verzuim\", \"tfidf\": 0.20259233250062517}, {\"document\": 6, \"term\": \"opiumwet\", \"tfidf\": 0.18314958485092803}, {\"document\": 6, \"term\": \"client\", \"tfidf\": 0.17311127613704538}, {\"document\": 6, \"term\": \"fouilleren\", \"tfidf\": 0.15464050310478059}, {\"document\": 6, \"term\": \"ingrijpende_inbreuk\", \"tfidf\": 0.14371186852574805}, {\"document\": 6, \"term\": \"onrustig\", \"tfidf\": 0.14371413707794686}, {\"document\": 7, \"term\": \"jukbeen\", \"tfidf\": 0.40365023685767654}, {\"document\": 7, \"term\": \"letsel\", \"tfidf\": 0.3426159170962391}, {\"document\": 7, \"term\": \"slachtoffer\", \"tfidf\": 0.2737011001520694}, {\"document\": 7, \"term\": \"verdenken\", \"tfidf\": 0.24303067497994502}, {\"document\": 7, \"term\": \"breken\", \"tfidf\": 0.17552727371033267}, {\"document\": 7, \"term\": \"plaats\", \"tfidf\": 0.1691013953485485}, {\"document\": 7, \"term\": \"klap\", \"tfidf\": 0.16772019534822596}, {\"document\": 7, \"term\": \"zwaar_lichamelijk\", \"tfidf\": 0.1520459739773764}, {\"document\": 7, \"term\": \"opereren\", \"tfidf\": 0.14850115674905778}, {\"document\": 7, \"term\": \"tatoeage\", \"tfidf\": 0.14260946388647747}, {\"document\": 8, \"term\": \"goeree_overflakkee\", \"tfidf\": 0.4719627164625236}, {\"document\": 8, \"term\": \"hennep\", \"tfidf\": 0.28917564940171026}, {\"document\": 8, \"term\": \"hoeveelheid\", \"tfidf\": 0.28471143025930645}, {\"document\": 8, \"term\": \"elektriciteit\", \"tfidf\": 0.18878410311280192}, {\"document\": 8, \"term\": \"hennepplant\", \"tfidf\": 0.16114938354823885}, {\"document\": 8, \"term\": \"geval\", \"tfidf\": 0.15548547486993836}, {\"document\": 8, \"term\": \"telen\", \"tfidf\": 0.1554007473217207}, {\"document\": 8, \"term\": \"lijst_ii\", \"tfidf\": 0.15050442198227315}, {\"document\": 8, \"term\": \"ander\", \"tfidf\": 0.1495869136443109}, {\"document\": 8, \"term\": \"althans\", \"tfidf\": 0.14889190940662017}, {\"document\": 9, \"term\": \"still\", \"tfidf\": 0.331251742720932}, {\"document\": 9, \"term\": \"hof\", \"tfidf\": 0.2725914670915304}, {\"document\": 9, \"term\": \"bedrijfsinbraak\", \"tfidf\": 0.21983388871031018}, {\"document\": 9, \"term\": \"honswijck\", \"tfidf\": 0.21984394904096766}, {\"document\": 9, \"term\": \"verdenken\", \"tfidf\": 0.19802687053133228}, {\"document\": 9, \"term\": \"herkenning\", \"tfidf\": 0.18576447473912303}, {\"document\": 9, \"term\": \"tenlastegelegen\", \"tfidf\": 0.16794414723485968}, {\"document\": 9, \"term\": \"inbraak\", \"tfidf\": 0.1654376959073864}, {\"document\": 9, \"term\": \"camerabeeld\", \"tfidf\": 0.16342922845767716}, {\"document\": 9, \"term\": \"uur\", \"tfidf\": 0.15957253571642546}, {\"document\": 10, \"term\": \"neerijn\", \"tfidf\": 0.5534199888034285}, {\"document\": 10, \"term\": \"kabel\", \"tfidf\": 0.3972816194512187}, {\"document\": 10, \"term\": \"benadelen\", \"tfidf\": 0.32031200667199333}, {\"document\": 10, \"term\": \"enig\", \"tfidf\": 0.2082598564700764}, {\"document\": 10, \"term\": \"geval\", \"tfidf\": 0.2078597159925753}, {\"document\": 10, \"term\": \"ander\", \"tfidf\": 0.1999541694543665}, {\"document\": 10, \"term\": \"goed\", \"tfidf\": 0.1880382610870239}, {\"document\": 10, \"term\": \"werknemer\", \"tfidf\": 0.1745154186971857}, {\"document\": 10, \"term\": \"gemeente\", \"tfidf\": 0.1700768157999791}, {\"document\": 10, \"term\": \"tijdstip_pen\", \"tfidf\": 0.14808023645799087}, {\"document\": 11, \"term\": \"vernieling\", \"tfidf\": 0.5158859855498462}, {\"document\": 11, \"term\": \"persoon\", \"tfidf\": 0.3795102155046868}, {\"document\": 11, \"term\": \"zaak\", \"tfidf\": 0.3567895196696828}, {\"document\": 11, \"term\": \"kliniek\", \"tfidf\": 0.3209693129865272}, {\"document\": 11, \"term\": \"bedreiging\", \"tfidf\": 0.2672751882926377}, {\"document\": 11, \"term\": \"garage\", \"tfidf\": 0.2542691010875557}, {\"document\": 11, \"term\": \"kort_samengevat\", \"tfidf\": 0.2508252406983425}, {\"document\": 11, \"term\": \"muur\", \"tfidf\": 0.23636337669541}, {\"document\": 11, \"term\": \"naam\", \"tfidf\": 0.17367395007713723}, {\"document\": 11, \"term\": \"deur\", \"tfidf\": 0.16240752004948403}, {\"document\": 12, \"term\": \"feitelijke_verhouding\", \"tfidf\": 0.33178679235589825}, {\"document\": 12, \"term\": \"voortvloeiend_overwicht\", \"tfidf\": 0.3050872253140064}, {\"document\": 12, \"term\": \"geslachtsdeel\", \"tfidf\": 0.2958955895005833}, {\"document\": 12, \"term\": \"slachtoffer\", \"tfidf\": 0.26260522805307196}, {\"document\": 12, \"term\": \"ontuchtige_handeling\", \"tfidf\": 0.24698639506832068}, {\"document\": 12, \"term\": \"hellendoorn\", \"tfidf\": 0.22757755086830378}, {\"document\": 12, \"term\": \"duld\", \"tfidf\": 0.2007080690478603}, {\"document\": 12, \"term\": \"zoen\", \"tfidf\": 0.1745906647127373}, {\"document\": 12, \"term\": \"handeling\", \"tfidf\": 0.17164021756609524}, {\"document\": 12, \"term\": \"aftrekken\", \"tfidf\": 0.16440576250661493}, {\"document\": 13, \"term\": \"slachtoffer\", \"tfidf\": 0.3055194323311344}, {\"document\": 13, \"term\": \"celmateriaal\", \"tfidf\": 0.2964103975994839}, {\"document\": 13, \"term\": \"overvaller\", \"tfidf\": 0.20120821281546603}, {\"document\": 13, \"term\": \"dader\", \"tfidf\": 0.19320781386274796}, {\"document\": 13, \"term\": \"kelder\", \"tfidf\": 0.1820357839164571}, {\"document\": 13, \"term\": \"aangever\", \"tfidf\": 0.17894779638782335}, {\"document\": 13, \"term\": \"bemonstering\", \"tfidf\": 0.1771565942538198}, {\"document\": 13, \"term\": \"regenbroek\", \"tfidf\": 0.16038662908891688}, {\"document\": 13, \"term\": \"regenjas\", \"tfidf\": 0.16041636726910857}, {\"document\": 13, \"term\": \"volgen\", \"tfidf\": 0.14121485668764813}, {\"document\": 14, \"term\": \"aangever\", \"tfidf\": 0.508358753573814}, {\"document\": 14, \"term\": \"lokaal\", \"tfidf\": 0.3510649943703799}, {\"document\": 14, \"term\": \"hof\", \"tfidf\": 0.20002976077562723}, {\"document\": 14, \"term\": \"medeverdacht\", \"tfidf\": 0.1908211303538203}, {\"document\": 14, \"term\": \"trap\", \"tfidf\": 0.15388884088454377}, {\"document\": 14, \"term\": \"school\", \"tfidf\": 0.1512024625302345}, {\"document\": 14, \"term\": \"verdenken\", \"tfidf\": 0.14302957926406615}, {\"document\": 14, \"term\": \"docent\", \"tfidf\": 0.14298801316494572}, {\"document\": 14, \"term\": \"lokaal_lokaal\", \"tfidf\": 0.14305627852271263}, {\"document\": 14, \"term\": \"getuige\", \"tfidf\": 0.1398768396978239}, {\"document\": 15, \"term\": \"hekwerk\", \"tfidf\": 0.3968725369052108}, {\"document\": 15, \"term\": \"bedrijf\", \"tfidf\": 0.36803149868122903}, {\"document\": 15, \"term\": \"ander\", \"tfidf\": 0.2716017101356835}, {\"document\": 15, \"term\": \"voornoemd\", \"tfidf\": 0.26299106715836656}, {\"document\": 15, \"term\": \"althans\", \"tfidf\": 0.22125480600980837}, {\"document\": 15, \"term\": \"westhavenweg\", \"tfidf\": 0.21926946527592175}, {\"document\": 15, \"term\": \"apparatuur\", \"tfidf\": 0.19425328283843044}, {\"document\": 15, \"term\": \"openbare_weg\", \"tfidf\": 0.18442297549646902}, {\"document\": 15, \"term\": \"lange_tijd\", \"tfidf\": 0.1734622322095087}, {\"document\": 15, \"term\": \"hond\", \"tfidf\": 0.1636961825351644}, {\"document\": 16, \"term\": \"telen\", \"tfidf\": 0.3813201760671937}, {\"document\": 16, \"term\": \"betrokken\", \"tfidf\": 0.3649753337029365}, {\"document\": 16, \"term\": \"afleveren\", \"tfidf\": 0.35720674096159133}, {\"document\": 16, \"term\": \"bewerken\", \"tfidf\": 0.3456345218992703}, {\"document\": 16, \"term\": \"bereid\", \"tfidf\": 0.3334261026752109}, {\"document\": 16, \"term\": \"verwerken\", \"tfidf\": 0.32705420380369876}, {\"document\": 16, \"term\": \"verkopen\", \"tfidf\": 0.3178263239266779}, {\"document\": 16, \"term\": \"verstrekken\", \"tfidf\": 0.29978317329460796}, {\"document\": 16, \"term\": \"opzettelijk\", \"tfidf\": 0.14687322367694314}, {\"document\": 16, \"term\": \"last\", \"tfidf\": 0.11485342785640194}, {\"document\": 17, \"term\": \"benadelen\", \"tfidf\": 0.6695537112039337}, {\"document\": 17, \"term\": \"alias\", \"tfidf\": 0.389229014184784}, {\"document\": 17, \"term\": \"onderdak\", \"tfidf\": 0.16940281132481447}, {\"document\": 17, \"term\": \"perso\", \"tfidf\": 0.1559309987310304}, {\"document\": 17, \"term\": \"aangever\", \"tfidf\": 0.1523989832663537}, {\"document\": 17, \"term\": \"verblijf\", \"tfidf\": 0.1488791717382131}, {\"document\": 17, \"term\": \"hof\", \"tfidf\": 0.11864025625036691}, {\"document\": 17, \"term\": \"werkdag\", \"tfidf\": 0.11774527595538917}, {\"document\": 17, \"term\": \"illegaal\", \"tfidf\": 0.10801405323585735}, {\"document\": 17, \"term\": \"uitbuiting\", \"tfidf\": 0.10536503817009932}, {\"document\": 18, \"term\": \"hof\", \"tfidf\": 0.4919699622554375}, {\"document\": 18, \"term\": \"verdenken\", \"tfidf\": 0.26584123561812106}, {\"document\": 18, \"term\": \"handschoen\", \"tfidf\": 0.18248761016585113}, {\"document\": 18, \"term\": \"jongen\", \"tfidf\": 0.15381504725949033}, {\"document\": 18, \"term\": \"woning\", \"tfidf\": 0.15230495126933555}, {\"document\": 18, \"term\": \"braak\", \"tfidf\": 0.14687838165744832}, {\"document\": 18, \"term\": \"koevoet\", \"tfidf\": 0.14687353401941697}, {\"document\": 18, \"term\": \"achterdeur\", \"tfidf\": 0.12772434590042353}, {\"document\": 18, \"term\": \"kortenbospad\", \"tfidf\": 0.1173201305883416}, {\"document\": 18, \"term\": \"poging\", \"tfidf\": 0.11560351008445204}, {\"document\": 19, \"term\": \"slachtoffer\", \"tfidf\": 0.3612624821168329}, {\"document\": 19, \"term\": \"voornoemd\", \"tfidf\": 0.2869233317031683}, {\"document\": 19, \"term\": \"geweld\", \"tfidf\": 0.26675063602847127}, {\"document\": 19, \"term\": \"venlo\", \"tfidf\": 0.2621655173317113}, {\"document\": 19, \"term\": \"tong\", \"tfidf\": 0.23406674057553703}, {\"document\": 19, \"term\": \"woorden_toegevoegd\", \"tfidf\": 0.21675156604715992}, {\"document\": 19, \"term\": \"pincod\", \"tfidf\": 0.1691007044725188}, {\"document\": 19, \"term\": \"blerick\", \"tfidf\": 0.16476154921943062}, {\"document\": 19, \"term\": \"hebt_inleveren\", \"tfidf\": 0.16478997088543368}, {\"document\": 19, \"term\": \"woning\", \"tfidf\": 0.15078767880080524}, {\"document\": 20, \"term\": \"hennep\", \"tfidf\": 0.3718295435276017}, {\"document\": 20, \"term\": \"hennepplant\", \"tfidf\": 0.29597468974398367}, {\"document\": 20, \"term\": \"liand\", \"tfidf\": 0.20282173266394293}, {\"document\": 20, \"term\": \"gram\", \"tfidf\": 0.1862276891409633}, {\"document\": 20, \"term\": \"pand\", \"tfidf\": 0.18163042261994192}, {\"document\": 20, \"term\": \"opzettelijk\", \"tfidf\": 0.17594334813484278}, {\"document\": 20, \"term\": \"hoeveelheid\", \"tfidf\": 0.17440794473877022}, {\"document\": 20, \"term\": \"persoon\", \"tfidf\": 0.17156578645505657}, {\"document\": 20, \"term\": \"telen\", \"tfidf\": 0.17132444566722874}, {\"document\": 20, \"term\": \"kweek\", \"tfidf\": 0.1549172128923728}, {\"document\": 21, \"term\": \"naam\", \"tfidf\": 0.32726344687756037}, {\"document\": 21, \"term\": \"geweld\", \"tfidf\": 0.28648357468088537}, {\"document\": 21, \"term\": \"fles\", \"tfidf\": 0.2666250611276137}, {\"document\": 21, \"term\": \"gereedschap\", \"tfidf\": 0.23568509162322412}, {\"document\": 21, \"term\": \"slachtoffer\", \"tfidf\": 0.2297306219517636}, {\"document\": 21, \"term\": \"sterke_drank\", \"tfidf\": 0.2123311831207753}, {\"document\": 21, \"term\": \"verdenken\", \"tfidf\": 0.18702159192899945}, {\"document\": 21, \"term\": \"diefstal\", \"tfidf\": 0.16700664863150846}, {\"document\": 21, \"term\": \"dordrecht\", \"tfidf\": 0.1627221100684947}, {\"document\": 21, \"term\": \"inhouden\", \"tfidf\": 0.16164698739695363}, {\"document\": 22, \"term\": \"categorie\", \"tfidf\": 0.7401325293642419}, {\"document\": 22, \"term\": \"motorrijtuig\", \"tfidf\": 0.297549879411024}, {\"document\": 22, \"term\": \"rijbewijs\", \"tfidf\": 0.2767212653111226}, {\"document\": 22, \"term\": \"besturen\", \"tfidf\": 0.26090985850523074}, {\"document\": 22, \"term\": \"ongeldig\", \"tfidf\": 0.20820807298498037}, {\"document\": 22, \"term\": \"motorrijtuig_personenauto\", \"tfidf\": 0.16499585999915334}, {\"document\": 22, \"term\": \"weg\", \"tfidf\": 0.1438909334151843}, {\"document\": 22, \"term\": \"adres\", \"tfidf\": 0.14338007261534982}, {\"document\": 22, \"term\": \"afgeven\", \"tfidf\": 0.13792958548836284}, {\"document\": 22, \"term\": \"weten\", \"tfidf\": 0.13695851461628403}, {\"document\": 23, \"term\": \"chocobroodje\", \"tfidf\": 0.559067355508204}, {\"document\": 23, \"term\": \"draagtas\", \"tfidf\": 0.5590706423466612}, {\"document\": 23, \"term\": \"bedrijf\", \"tfidf\": 0.43006146050496663}, {\"document\": 23, \"term\": \"geval\", \"tfidf\": 0.21000524545284557}, {\"document\": 23, \"term\": \"toebehoren\", \"tfidf\": 0.18762725397406851}, {\"document\": 23, \"term\": \"deel\", \"tfidf\": 0.16138637928224214}, {\"document\": 23, \"term\": \"geheel\", \"tfidf\": 0.13649719279037742}, {\"document\": 23, \"term\": \"goed\", \"tfidf\": 0.12659199975498583}, {\"document\": 23, \"term\": \"ander\", \"tfidf\": 0.10101976353493287}, {\"document\": 23, \"term\": \"weten\", \"tfidf\": 0.10017661458877143}, {\"document\": 24, \"term\": \"benadelen\", \"tfidf\": 0.5642966341466594}, {\"document\": 24, \"term\": \"hak\", \"tfidf\": 0.3656713792103262}, {\"document\": 24, \"term\": \"machet\", \"tfidf\": 0.33221851044720435}, {\"document\": 24, \"term\": \"lichaam\", \"tfidf\": 0.22802355253752257}, {\"document\": 24, \"term\": \"slaan\", \"tfidf\": 0.22804182368324946}, {\"document\": 24, \"term\": \"schoppen_trapp\", \"tfidf\": 0.2237692583709152}, {\"document\": 24, \"term\": \"samenvatten\", \"tfidf\": 0.20771830728296425}, {\"document\": 24, \"term\": \"snijden\", \"tfidf\": 0.1949518539024989}, {\"document\": 24, \"term\": \"zware_mishandeling\", \"tfidf\": 0.1506495399504393}, {\"document\": 24, \"term\": \"steken\", \"tfidf\": 0.1461556922668021}, {\"document\": 25, \"term\": \"zeer_krachtig\", \"tfidf\": 0.36674335358126353}, {\"document\": 25, \"term\": \"gemeente\", \"tfidf\": 0.3366546551231087}, {\"document\": 25, \"term\": \"slachtoffer\", \"tfidf\": 0.2645190417230223}, {\"document\": 25, \"term\": \"partij\", \"tfidf\": 0.2548000495209445}, {\"document\": 25, \"term\": \"benadelen\", \"tfidf\": 0.2224585238651801}, {\"document\": 25, \"term\": \"keel\", \"tfidf\": 0.19921164821910978}, {\"document\": 25, \"term\": \"drukken\", \"tfidf\": 0.17945609818042693}, {\"document\": 25, \"term\": \"armgreep\", \"tfidf\": 0.17296765620321083}, {\"document\": 25, \"term\": \"benemen\", \"tfidf\": 0.1729705124392459}, {\"document\": 25, \"term\": \"voorgenomen_misdrijf\", \"tfidf\": 0.17154136047770513}, {\"document\": 26, \"term\": \"opzettelijk\", \"tfidf\": 0.3559358634906722}, {\"document\": 26, \"term\": \"naam\", \"tfidf\": 0.3110849805520459}, {\"document\": 26, \"term\": \"slachtoffer\", \"tfidf\": 0.30731783590089057}, {\"document\": 26, \"term\": \"voorbedachten_rade\", \"tfidf\": 0.2792439022816198}, {\"document\": 26, \"term\": \"gezicht\", \"tfidf\": 0.24718325434608523}, {\"document\": 26, \"term\": \"schedelbasis\", \"tfidf\": 0.2345097515220225}, {\"document\": 26, \"term\": \"vlaarding\", \"tfidf\": 0.20614267223581717}, {\"document\": 26, \"term\": \"vlaardingen\", \"tfidf\": 0.20618581615487028}, {\"document\": 26, \"term\": \"hard\", \"tfidf\": 0.20161966320768898}, {\"document\": 26, \"term\": \"kracht\", \"tfidf\": 0.17860886687952804}, {\"document\": 27, \"term\": \"aangever\", \"tfidf\": 0.6326715794560156}, {\"document\": 27, \"term\": \"bevelen\", \"tfidf\": 0.2970465029599762}, {\"document\": 27, \"term\": \"aangev\", \"tfidf\": 0.27123883096036994}, {\"document\": 27, \"term\": \"wel\", \"tfidf\": 0.19149402048743944}, {\"document\": 27, \"term\": \"hardenberg\", \"tfidf\": 0.17787474579329654}, {\"document\": 27, \"term\": \"beletten\", \"tfidf\": 0.15558502522343723}, {\"document\": 27, \"term\": \"dwingen\", \"tfidf\": 0.1431084260142565}, {\"document\": 27, \"term\": \"naakt\", \"tfidf\": 0.13958800564905896}, {\"document\": 27, \"term\": \"vervolgens\", \"tfidf\": 0.11194631001382507}, {\"document\": 27, \"term\": \"ander\", \"tfidf\": 0.1036032438098197}, {\"document\": 28, \"term\": \"geldautomaat\", \"tfidf\": 0.46559134956605547}, {\"document\": 28, \"term\": \"verbalisant\", \"tfidf\": 0.24010610771044621}, {\"document\": 28, \"term\": \"gerecht\", \"tfidf\": 0.21417012648667524}, {\"document\": 28, \"term\": \"verdenken\", \"tfidf\": 0.1803914694726334}, {\"document\": 28, \"term\": \"shirt\", \"tfidf\": 0.15835411670936525}, {\"document\": 28, \"term\": \"man\", \"tfidf\": 0.15246043688392763}, {\"document\": 28, \"term\": \"kabel\", \"tfidf\": 0.1502629461843762}, {\"document\": 28, \"term\": \"relaas\", \"tfidf\": 0.13493825344991653}, {\"document\": 28, \"term\": \"geldsleuf\", \"tfidf\": 0.12194939146723292}, {\"document\": 28, \"term\": \"pagina\", \"tfidf\": 0.11548321641387545}, {\"document\": 29, \"term\": \"snijdend_voorwerp\", \"tfidf\": 0.33259844374997255}, {\"document\": 29, \"term\": \"puntig\", \"tfidf\": 0.2684457303999949}, {\"document\": 29, \"term\": \"prikken\", \"tfidf\": 0.25944894780565086}, {\"document\": 29, \"term\": \"slachtoffer\", \"tfidf\": 0.24078190579150208}, {\"document\": 29, \"term\": \"gelijken\", \"tfidf\": 0.22823489034858815}, {\"document\": 29, \"term\": \"linker\", \"tfidf\": 0.2222461959418852}, {\"document\": 29, \"term\": \"snijden\", \"tfidf\": 0.2074267190534761}, {\"document\": 29, \"term\": \"perforeren\", \"tfidf\": 0.20426278989362312}, {\"document\": 29, \"term\": \"kroeg\", \"tfidf\": 0.19447957301495628}, {\"document\": 29, \"term\": \"althans\", \"tfidf\": 0.18656696108840296}, {\"document\": 30, \"term\": \"postpakket\", \"tfidf\": 0.7105906618884004}, {\"document\": 30, \"term\": \"mdma\", \"tfidf\": 0.3095638589138082}, {\"document\": 30, \"term\": \"indicatieve_test\", \"tfidf\": 0.19667712017675104}, {\"document\": 30, \"term\": \"versturen\", \"tfidf\": 0.1510229575344407}, {\"document\": 30, \"term\": \"verdenken\", \"tfidf\": 0.13858141211641192}, {\"document\": 30, \"term\": \"betekenisvol\", \"tfidf\": 0.13854017711994815}, {\"document\": 30, \"term\": \"pakket\", \"tfidf\": 0.13361345276855344}, {\"document\": 30, \"term\": \"sealbag\", \"tfidf\": 0.12182361863957547}, {\"document\": 30, \"term\": \"persoon\", \"tfidf\": 0.11719600564710919}, {\"document\": 30, \"term\": \"uitvoer\", \"tfidf\": 0.09739305210803612}, {\"document\": 31, \"term\": \"kasboek\", \"tfidf\": 0.6889484518165604}, {\"document\": 31, \"term\": \"getuige\", \"tfidf\": 0.304263068674801}, {\"document\": 31, \"term\": \"verdenken\", \"tfidf\": 0.17012427589815368}, {\"document\": 31, \"term\": \"medeverdacht\", \"tfidf\": 0.15333644432183666}, {\"document\": 31, \"term\": \"coke\", \"tfidf\": 0.13676130136463266}, {\"document\": 31, \"term\": \"naam\", \"tfidf\": 0.1307479209476978}, {\"document\": 31, \"term\": \"verklaring\", \"tfidf\": 0.12552067714562926}, {\"document\": 31, \"term\": \"dossier\", \"tfidf\": 0.12063452455150232}, {\"document\": 31, \"term\": \"rechtbank\", \"tfidf\": 0.11641007472910937}, {\"document\": 31, \"term\": \"gram\", \"tfidf\": 0.11432869479663142}, {\"document\": 32, \"term\": \"kasboek\", \"tfidf\": 0.6875897402291105}, {\"document\": 32, \"term\": \"verdenken\", \"tfidf\": 0.2443006079390955}, {\"document\": 32, \"term\": \"getuige\", \"tfidf\": 0.2429261064399921}, {\"document\": 32, \"term\": \"gram\", \"tfidf\": 0.18532080346723206}, {\"document\": 32, \"term\": \"cocaine\", \"tfidf\": 0.1804041872550511}, {\"document\": 32, \"term\": \"verklaring\", \"tfidf\": 0.14875761139466886}, {\"document\": 32, \"term\": \"medeverdacht\", \"tfidf\": 0.143432125314498}, {\"document\": 32, \"term\": \"rechtbank\", \"tfidf\": 0.13797039725432073}, {\"document\": 32, \"term\": \"verschuldigen\", \"tfidf\": 0.1309995094767355}, {\"document\": 32, \"term\": \"dossier\", \"tfidf\": 0.11117859503697088}, {\"document\": 33, \"term\": \"handelsnaam\", \"tfidf\": 0.7160627413410753}, {\"document\": 33, \"term\": \"getuige\", \"tfidf\": 0.2259267627000983}, {\"document\": 33, \"term\": \"naam\", \"tfidf\": 0.20431027533076634}, {\"document\": 33, \"term\": \"functionaris\", \"tfidf\": 0.19276452176498052}, {\"document\": 33, \"term\": \"geheim\", \"tfidf\": 0.16407882029622586}, {\"document\": 33, \"term\": \"verplichten\", \"tfidf\": 0.16244173831147662}, {\"document\": 33, \"term\": \"nederland\", \"tfidf\": 0.1565853009289681}, {\"document\": 33, \"term\": \"wettelijk_voorschrift\", \"tfidf\": 0.14559291920591333}, {\"document\": 33, \"term\": \"mevrouw\", \"tfidf\": 0.14472010615195255}, {\"document\": 33, \"term\": \"opzoeken\", \"tfidf\": 0.14467804655031144}, {\"document\": 34, \"term\": \"telkens\", \"tfidf\": 0.33914000996939814}, {\"document\": 34, \"term\": \"financierings\", \"tfidf\": 0.24836558313162177}, {\"document\": 34, \"term\": \"nijmegen\", \"tfidf\": 0.22647299393544806}, {\"document\": 34, \"term\": \"ster\", \"tfidf\": 0.22642323431275185}, {\"document\": 34, \"term\": \"aangever\", \"tfidf\": 0.20773390756546692}, {\"document\": 34, \"term\": \"aangifte\", \"tfidf\": 0.18933559244405243}, {\"document\": 34, \"term\": \"instelling\", \"tfidf\": 0.18550392345721642}, {\"document\": 34, \"term\": \"vorenomschreven_oogmerk\", \"tfidf\": 0.17698700602708795}, {\"document\": 34, \"term\": \"listiglijk\", \"tfidf\": 0.17093258398867853}, {\"document\": 34, \"term\": \"bevoordelen\", \"tfidf\": 0.16818620489964786}, {\"document\": 35, \"term\": \"verdenken\", \"tfidf\": 0.3681331422212277}, {\"document\": 35, \"term\": \"hof\", \"tfidf\": 0.2872265010684389}, {\"document\": 35, \"term\": \"overval\", \"tfidf\": 0.21542085618428036}, {\"document\": 35, \"term\": \"medeverdachte\", \"tfidf\": 0.21459387822360368}, {\"document\": 35, \"term\": \"politie\", \"tfidf\": 0.19556897846693008}, {\"document\": 35, \"term\": \"geweld\", \"tfidf\": 0.16351515090315788}, {\"document\": 35, \"term\": \"bedreiging\", \"tfidf\": 0.16017861794846291}, {\"document\": 35, \"term\": \"geldwagen\", \"tfidf\": 0.15679785452830586}, {\"document\": 35, \"term\": \"plan\", \"tfidf\": 0.1562473637374391}, {\"document\": 35, \"term\": \"afpersing\", \"tfidf\": 0.15566668153088298}, {\"document\": 36, \"term\": \"slachtoffer\", \"tfidf\": 0.5188514162867165}, {\"document\": 36, \"term\": \"hof\", \"tfidf\": 0.27819407122439527}, {\"document\": 36, \"term\": \"verdenken\", \"tfidf\": 0.255657839746455}, {\"document\": 36, \"term\": \"verbalisant\", \"tfidf\": 0.2430771730563886}, {\"document\": 36, \"term\": \"val\", \"tfidf\": 0.20685296597748945}, {\"document\": 36, \"term\": \"worsteling\", \"tfidf\": 0.1839551929191181}, {\"document\": 36, \"term\": \"letsel\", \"tfidf\": 0.1671596209905224}, {\"document\": 36, \"term\": \"parketnumm\", \"tfidf\": 0.16378061054302734}, {\"document\": 36, \"term\": \"zaak\", \"tfidf\": 0.13248860825027012}, {\"document\": 36, \"term\": \"ontstaan\", \"tfidf\": 0.12430562533312328}, {\"document\": 37, \"term\": \"hennepplant\", \"tfidf\": 0.4269124979111288}, {\"document\": 37, \"term\": \"hoeveelheid\", \"tfidf\": 0.37725641024320117}, {\"document\": 37, \"term\": \"heteren\", \"tfidf\": 0.3322813264512279}, {\"document\": 37, \"term\": \"lijst_ii\", \"tfidf\": 0.19931541825271953}, {\"document\": 37, \"term\": \"hennep\", \"tfidf\": 0.1916103903558586}, {\"document\": 37, \"term\": \"aangewezen_krachtens\", \"tfidf\": 0.18968392451180385}, {\"document\": 37, \"term\": \"tijdstip_p\", \"tfidf\": 0.1756349601204243}, {\"document\": 37, \"term\": \"opiumwet_behorenen\", \"tfidf\": 0.1703351449964473}, {\"document\": 37, \"term\": \"middel\", \"tfidf\": 0.1666990121892106}, {\"document\": 37, \"term\": \"althans\", \"tfidf\": 0.16433695080938102}, {\"document\": 38, \"term\": \"geldautomaat\", \"tfidf\": 0.46551824887926563}, {\"document\": 38, \"term\": \"verbalisant\", \"tfidf\": 0.2400947772578092}, {\"document\": 38, \"term\": \"gerecht\", \"tfidf\": 0.21415118575963357}, {\"document\": 38, \"term\": \"verdenken\", \"tfidf\": 0.18048061836335785}, {\"document\": 38, \"term\": \"shirt\", \"tfidf\": 0.15830510287633023}, {\"document\": 38, \"term\": \"man\", \"tfidf\": 0.15245178836795187}, {\"document\": 38, \"term\": \"kabel\", \"tfidf\": 0.15026706239988144}, {\"document\": 38, \"term\": \"relaas\", \"tfidf\": 0.13495023562610403}, {\"document\": 38, \"term\": \"geldsleuf\", \"tfidf\": 0.12193435791592187}, {\"document\": 38, \"term\": \"pagina\", \"tfidf\": 0.1154936199105766}, {\"document\": 39, \"term\": \"verkort_vonni\", \"tfidf\": 0.5179331387182664}, {\"document\": 39, \"term\": \"aanvulling\", \"tfidf\": 0.23608187916816034}, {\"document\": 39, \"term\": \"juwelier\", \"tfidf\": 0.23063011516342508}, {\"document\": 39, \"term\": \"woningoverval\", \"tfidf\": 0.2097838307655203}, {\"document\": 39, \"term\": \"mede\", \"tfidf\": 0.2057697958388841}, {\"document\": 39, \"term\": \"wapenen\", \"tfidf\": 0.20257933892469654}, {\"document\": 39, \"term\": \"braak\", \"tfidf\": 0.17685913349418877}, {\"document\": 39, \"term\": \"geweld\", \"tfidf\": 0.17304926267655132}, {\"document\": 39, \"term\": \"feit\", \"tfidf\": 0.16803727228704998}, {\"document\": 39, \"term\": \"gebruiken\", \"tfidf\": 0.164515171791771}, {\"document\": 40, \"term\": \"kledingwinkel\", \"tfidf\": 0.8901301902836513}, {\"document\": 40, \"term\": \"breken\", \"tfidf\": 0.24159602699005409}, {\"document\": 40, \"term\": \"verwijten\", \"tfidf\": 0.2265203954126769}, {\"document\": 40, \"term\": \"proberen\", \"tfidf\": 0.17166792372713335}, {\"document\": 40, \"term\": \"samen\", \"tfidf\": 0.14063405877274565}, {\"document\": 40, \"term\": \"zeggen\", \"tfidf\": 0.1231801537619377}, {\"document\": 40, \"term\": \"kort\", \"tfidf\": 0.11955495796942747}, {\"document\": 40, \"term\": \"naam\", \"tfidf\": 0.10398412964505939}, {\"document\": 40, \"term\": \"tenlastelegging\", \"tfidf\": 0.06886956240872771}, {\"document\": 40, \"term\": \"verdenken\", \"tfidf\": 0.0627216630750876}, {\"document\": 41, \"term\": \"geluiddemper\", \"tfidf\": 0.4053579438034684}, {\"document\": 41, \"term\": \"dna\", \"tfidf\": 0.3812257540417882}, {\"document\": 41, \"term\": \"wapen\", \"tfidf\": 0.32979941019734776}, {\"document\": 41, \"term\": \"vuurwapen\", \"tfidf\": 0.1946567513304933}, {\"document\": 41, \"term\": \"verdenken\", \"tfidf\": 0.1827114082275387}, {\"document\": 41, \"term\": \"rugzak\", \"tfidf\": 0.18015395957363986}, {\"document\": 41, \"term\": \"munitie\", \"tfidf\": 0.17311200663619883}, {\"document\": 41, \"term\": \"willekeurige_onbekenen\", \"tfidf\": 0.16605595116881938}, {\"document\": 41, \"term\": \"wanneer_hypothese\", \"tfidf\": 0.16099974604505632}, {\"document\": 41, \"term\": \"aantreffen\", \"tfidf\": 0.14974167845902636}, {\"document\": 42, \"term\": \"zware_mishandeling\", \"tfidf\": 0.4504223663412562}, {\"document\": 42, \"term\": \"persoon\", \"tfidf\": 0.35226419114069674}, {\"document\": 42, \"term\": \"mes\", \"tfidf\": 0.30430931874653566}, {\"document\": 42, \"term\": \"steken\", \"tfidf\": 0.29130031698387704}, {\"document\": 42, \"term\": \"poging\", \"tfidf\": 0.287382656950889}, {\"document\": 42, \"term\": \"kopstoot\", \"tfidf\": 0.26764925491323815}, {\"document\": 42, \"term\": \"kort_samengevat\", \"tfidf\": 0.23277085478452997}, {\"document\": 42, \"term\": \"primair\", \"tfidf\": 0.20822040152882723}, {\"document\": 42, \"term\": \"buik\", \"tfidf\": 0.19579167801362016}, {\"document\": 42, \"term\": \"subsidiair\", \"tfidf\": 0.18905295091367705}, {\"document\": 43, \"term\": \"schietoefening\", \"tfidf\": 0.3537012234599523}, {\"document\": 43, \"term\": \"wapen\", \"tfidf\": 0.29534651857522354}, {\"document\": 43, \"term\": \"ontlad\", \"tfidf\": 0.2357957498049172}, {\"document\": 43, \"term\": \"sergeant\", \"tfidf\": 0.22327541154959135}, {\"document\": 43, \"term\": \"schietpunt\", \"tfidf\": 0.21222949677226371}, {\"document\": 43, \"term\": \"slachtoffer\", \"tfidf\": 0.2009607551693458}, {\"document\": 43, \"term\": \"militaire_kamer\", \"tfidf\": 0.18663393127711983}, {\"document\": 43, \"term\": \"trekker\", \"tfidf\": 0.17900605117974702}, {\"document\": 43, \"term\": \"bevel\", \"tfidf\": 0.17591065155130753}, {\"document\": 43, \"term\": \"schot\", \"tfidf\": 0.15962043299589268}, {\"document\": 44, \"term\": \"naam\", \"tfidf\": 0.3574232463614316}, {\"document\": 44, \"term\": \"slachtoffer\", \"tfidf\": 0.3178383684488448}, {\"document\": 44, \"term\": \"herkenning\", \"tfidf\": 0.2731165294163596}, {\"document\": 44, \"term\": \"dader\", \"tfidf\": 0.22011663822951144}, {\"document\": 44, \"term\": \"camerabeeld\", \"tfidf\": 0.20605911332715698}, {\"document\": 44, \"term\": \"voorgenomen_misdrijf\", \"tfidf\": 0.19590337352577575}, {\"document\": 44, \"term\": \"uitvoering\", \"tfidf\": 0.18095244877349945}, {\"document\": 44, \"term\": \"voorhouden\", \"tfidf\": 0.16580060115469292}, {\"document\": 44, \"term\": \"geweld\", \"tfidf\": 0.16518664583428283}, {\"document\": 44, \"term\": \"geld\", \"tfidf\": 0.15697529367365742}, {\"document\": 45, \"term\": \"hof\", \"tfidf\": 0.42170946279904975}, {\"document\": 45, \"term\": \"dossierpagina\", \"tfidf\": 0.2267653488069574}, {\"document\": 45, \"term\": \"verdenken\", \"tfidf\": 0.22115114281273196}, {\"document\": 45, \"term\": \"oplegging\", \"tfidf\": 0.16742908258955538}, {\"document\": 45, \"term\": \"gevangenisstraf\", \"tfidf\": 0.15037552620449582}, {\"document\": 45, \"term\": \"omstandigheid\", \"tfidf\": 0.15011329053580724}, {\"document\": 45, \"term\": \"feit\", \"tfidf\": 0.1463256040973788}, {\"document\": 45, \"term\": \"strafbaar\", \"tfidf\": 0.13700280608916449}, {\"document\": 45, \"term\": \"aangever\", \"tfidf\": 0.13549844712639325}, {\"document\": 45, \"term\": \"duur\", \"tfidf\": 0.1331026394287488}, {\"document\": 46, \"term\": \"hof\", \"tfidf\": 0.2991688265002154}, {\"document\": 46, \"term\": \"verdenken\", \"tfidf\": 0.23244428358445104}, {\"document\": 46, \"term\": \"werkstraf\", \"tfidf\": 0.2235935981190946}, {\"document\": 46, \"term\": \"kind\", \"tfidf\": 0.2139156637767798}, {\"document\": 46, \"term\": \"seksueel\", \"tfidf\": 0.1796162673636819}, {\"document\": 46, \"term\": \"relatie\", \"tfidf\": 0.17677424025403182}, {\"document\": 46, \"term\": \"straf\", \"tfidf\": 0.17071591025936775}, {\"document\": 46, \"term\": \"verklaren\", \"tfidf\": 0.12364528266452729}, {\"document\": 46, \"term\": \"leeftijd\", \"tfidf\": 0.12361118205473372}, {\"document\": 46, \"term\": \"ernst\", \"tfidf\": 0.12009429950228726}, {\"document\": 47, \"term\": \"overval\", \"tfidf\": 0.32888157338099144}, {\"document\": 47, \"term\": \"medeverdacht\", \"tfidf\": 0.30723702477463627}, {\"document\": 47, \"term\": \"jongen\", \"tfidf\": 0.24417862060025947}, {\"document\": 47, \"term\": \"woonplaats\", \"tfidf\": 0.21869935020189762}, {\"document\": 47, \"term\": \"kassa\", \"tfidf\": 0.17959130307312124}, {\"document\": 47, \"term\": \"slachtoffer\", \"tfidf\": 0.17436245638720568}, {\"document\": 47, \"term\": \"gewoon\", \"tfidf\": 0.15378863676468796}, {\"document\": 47, \"term\": \"toonbank\", \"tfidf\": 0.1502654929103875}, {\"document\": 47, \"term\": \"zien\", \"tfidf\": 0.1325853374790375}, {\"document\": 47, \"term\": \"verdenken\", \"tfidf\": 0.12780235264819573}, {\"document\": 48, \"term\": \"ander\", \"tfidf\": 0.376785021408632}, {\"document\": 48, \"term\": \"toeeigening\", \"tfidf\": 0.3656651899705572}, {\"document\": 48, \"term\": \"ov_chipkaart\", \"tfidf\": 0.32918736199049126}, {\"document\": 48, \"term\": \"dele_toebehorenen\", \"tfidf\": 0.2902811902429353}, {\"document\": 48, \"term\": \"roze\", \"tfidf\": 0.29031850577430574}, {\"document\": 48, \"term\": \"wegnemen\", \"tfidf\": 0.22765991672266625}, {\"document\": 48, \"term\": \"geval\", \"tfidf\": 0.19592969204666877}, {\"document\": 48, \"term\": \"portemonnee\", \"tfidf\": 0.19032087073555676}, {\"document\": 48, \"term\": \"kleur\", \"tfidf\": 0.18743662952752696}, {\"document\": 48, \"term\": \"bankpas\", \"tfidf\": 0.17750464172509828}, {\"document\": 49, \"term\": \"snorfiets\", \"tfidf\": 0.5527944103652092}, {\"document\": 49, \"term\": \"bouwlustlaan\", \"tfidf\": 0.2751112060331336}, {\"document\": 49, \"term\": \"afslaan\", \"tfidf\": 0.26888756066552716}, {\"document\": 49, \"term\": \"rijden\", \"tfidf\": 0.178292716258842}, {\"document\": 49, \"term\": \"links\", \"tfidf\": 0.1741078219633848}, {\"document\": 49, \"term\": \"hof\", \"tfidf\": 0.16497674396834144}, {\"document\": 49, \"term\": \"bestuurder\", \"tfidf\": 0.14880411432631824}, {\"document\": 49, \"term\": \"rechts\", \"tfidf\": 0.147748566300865}, {\"document\": 49, \"term\": \"passagier\", \"tfidf\": 0.14437727511197712}, {\"document\": 49, \"term\": \"fietspad\", \"tfidf\": 0.12610611710500746}]}}, {\"mode\": \"vega-lite\"});\n",
       "</script>"
      ],
      "text/plain": [
       "alt.LayerChart(...)"
      ]
     },
     "execution_count": 125,
     "metadata": {},
     "output_type": "execute_result"
    }
   ],
   "source": [
    "# Doesn't work due to the length constraint of a document (max. 5000)\n",
    "\n",
    "import altair as alt\n",
    "import numpy as np\n",
    "\n",
    "# Terms in this list will get a red dot in the visualization\n",
    "term_list = ['benadelen', 'kasboek', 'hof']\n",
    "\n",
    "# adding a little randomness to break ties in term ranking\n",
    "top_tfidf_plusRand = top_tfidf.copy()\n",
    "top_tfidf_plusRand = top_tfidf_plusRand.iloc[:500,]\n",
    "top_tfidf_plusRand['tfidf'] = top_tfidf_plusRand['tfidf'] + np.random.rand(top_tfidf_plusRand.shape[0])*0.0001\n",
    "\n",
    "# base for all visualizations, with rank calculation\n",
    "base = alt.Chart(top_tfidf_plusRand).encode(\n",
    "    x = 'rank:O',\n",
    "    y = 'document:N'\n",
    ").transform_window(\n",
    "    rank = \"rank()\",\n",
    "    sort = [alt.SortField(\"tfidf\", order=\"descending\")],\n",
    "    groupby = [\"document\"],\n",
    ")\n",
    "\n",
    "# heatmap specification\n",
    "heatmap = base.mark_rect().encode(\n",
    "    color = 'tfidf:Q'\n",
    ")\n",
    "\n",
    "# red circle over terms in above list\n",
    "circle = base.mark_circle(size=100).encode(\n",
    "    color = alt.condition(\n",
    "        alt.FieldOneOfPredicate(field='term', oneOf=term_list),\n",
    "        alt.value('red'),\n",
    "        alt.value('#FFFFFF00')        \n",
    "    )\n",
    ")\n",
    "\n",
    "# text labels, white for darker heatmap colors\n",
    "text = base.mark_text(baseline='middle').encode(\n",
    "    text = 'term:N',\n",
    "    color = alt.condition(alt.datum.tfidf >= 0.23, alt.value('white'), alt.value('black'))\n",
    ")\n",
    "\n",
    "# display the three superimposed visualizations\n",
    "(heatmap + circle + text).properties(width = 1200)"
   ]
  },
  {
   "cell_type": "code",
   "execution_count": null,
   "metadata": {},
   "outputs": [],
   "source": []
  },
  {
   "cell_type": "code",
   "execution_count": null,
   "metadata": {},
   "outputs": [],
   "source": []
  }
 ],
 "metadata": {
  "interpreter": {
   "hash": "40d3a090f54c6569ab1632332b64b2c03c39dcf918b08424e98f38b5ae0af88f"
  },
  "kernelspec": {
   "display_name": "Python 3.7.10 64-bit ('base': conda)",
   "language": "python",
   "name": "python3"
  },
  "language_info": {
   "codemirror_mode": {
    "name": "ipython",
    "version": 3
   },
   "file_extension": ".py",
   "mimetype": "text/x-python",
   "name": "python",
   "nbconvert_exporter": "python",
   "pygments_lexer": "ipython3",
   "version": "3.7.10"
  },
  "orig_nbformat": 4
 },
 "nbformat": 4,
 "nbformat_minor": 2
}
