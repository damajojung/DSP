{
 "cells": [
  {
   "cell_type": "markdown",
   "metadata": {},
   "source": [
    "# Final LDA Model"
   ]
  },
  {
   "cell_type": "code",
   "execution_count": 1,
   "metadata": {},
   "outputs": [],
   "source": [
    "import re\n",
    "import numpy as np\n",
    "import pandas as pd\n",
    "from pprint import pprint\n",
    "\n",
    "from datetime import datetime\n",
    "\n",
    "# Gensim\n",
    "import gensim\n",
    "import gensim.corpora as corpora\n",
    "from gensim.utils import simple_preprocess\n",
    "from gensim.models import CoherenceModel\n",
    "\n",
    "# spacy for lemmatization\n",
    "import spacy\n",
    "\n",
    "# Plotting tools\n",
    "import pyLDAvis\n",
    "# import pyLDAvis.gensim  # Author: don't skip this\n",
    "# pyLDAvis.gensim.prepare\n",
    "\n",
    "# I think i need another one:\n",
    "import pyLDAvis.gensim_models\n",
    "import pyLDAvis.gensim_models as gensimvis\n",
    "\n",
    "# Plots\n",
    "import matplotlib.pyplot as plt\n",
    "from matplotlib.pyplot import figure\n",
    "%matplotlib inline\n",
    "\n",
    "# Enable logging for gensim - optional\n",
    "import logging\n",
    "logging.basicConfig(format='%(asctime)s : %(levelname)s : %(message)s', level=logging.ERROR)\n",
    "\n",
    "import warnings\n",
    "warnings.filterwarnings(\"ignore\",category=DeprecationWarning)\n",
    "\n",
    "# TF.IDF\n",
    "from sklearn.feature_extraction.text import TfidfVectorizer\n",
    "from sklearn.preprocessing import Normalizer\n",
    "from sklearn.cluster import KMeans\n",
    "from sklearn import metrics\n",
    "from sklearn.metrics.pairwise import cosine_distances"
   ]
  },
  {
   "cell_type": "code",
   "execution_count": 2,
   "metadata": {},
   "outputs": [],
   "source": [
    "# NLTK Stop words\n",
    "from nltk.corpus import stopwords\n",
    "stop_words = stopwords.words('dutch')\n",
    "stop_words.extend(['tenlastelegging', 'hof', 'althans', 'tenlastegelegd', 'naan', 'verklaring', 'verklaren', 'benadelen', 'naam', 'aangeefster', 'aangever', 'aangev', 'verbalisant', 'slachtoffer', 'rechtbank', 'uur', 'uren', 'weten', 'bestaan', 'waarheid', 'daarvoor', 'genaamd', 'maken', 'gaan', 'toverweging', 'aanzien', 'bewijs', 'feit', 'grond', 'staan', 'vaststellen', 'halen', 'vervolgens', 'nemen', 'aanhouden', 'bevinden', 'officier', 'justitie', 'overtuigen', 'bewijzen', 'maken', 'stellen', 'leggen', 'dienen', 'vrijspreken', 'daarnaast', 'bezigen', 'willen', 'gaan', 'vervolgens', 'raken', 'weten', 'proberen', 'echter', 'vraag', 'verdenken', 'vervatten', 'beslissing', 'hoger_beroep', 'verkort_vonni', 'geacht', 'instellen', 'ander', 'zien', 'toebehoren', 'hoeveelheid', 'lijst_ii', 'bereiken'])"
   ]
  },
  {
   "cell_type": "markdown",
   "metadata": {},
   "source": [
    "# Data 1"
   ]
  },
  {
   "cell_type": "code",
   "execution_count": 3,
   "metadata": {},
   "outputs": [],
   "source": [
    "df = pd.read_csv('/Users/dj/Python - UvA/DSP/data/dataset_10012022_cleaned.csv', index_col=6, parse_dates=['date']) \n",
    "\n",
    "df_be = df[df['bewijs'] != '[]'] #bewijs\n",
    "df_te = df[df['tll'] != '[]'] #tenlastelegging\n",
    "\n",
    "df['bete'] = df['bewijs'] + df['tll'] \n",
    "df = df[df['bete'] != '[][]']\n",
    "df = df.drop(labels=['bewijs', 'tll'], axis=1)\n"
   ]
  },
  {
   "cell_type": "code",
   "execution_count": 4,
   "metadata": {},
   "outputs": [
    {
     "data": {
      "text/html": [
       "<div>\n",
       "<style scoped>\n",
       "    .dataframe tbody tr th:only-of-type {\n",
       "        vertical-align: middle;\n",
       "    }\n",
       "\n",
       "    .dataframe tbody tr th {\n",
       "        vertical-align: top;\n",
       "    }\n",
       "\n",
       "    .dataframe thead th {\n",
       "        text-align: right;\n",
       "    }\n",
       "</style>\n",
       "<table border=\"1\" class=\"dataframe\">\n",
       "  <thead>\n",
       "    <tr style=\"text-align: right;\">\n",
       "      <th></th>\n",
       "      <th>Unnamed: 0</th>\n",
       "      <th>filename</th>\n",
       "      <th>ecli</th>\n",
       "      <th>subject</th>\n",
       "      <th>spatial</th>\n",
       "      <th>case_nr</th>\n",
       "      <th>bete</th>\n",
       "    </tr>\n",
       "    <tr>\n",
       "      <th>date</th>\n",
       "      <th></th>\n",
       "      <th></th>\n",
       "      <th></th>\n",
       "      <th></th>\n",
       "      <th></th>\n",
       "      <th></th>\n",
       "      <th></th>\n",
       "    </tr>\n",
       "  </thead>\n",
       "  <tbody>\n",
       "    <tr>\n",
       "      <th>2018-01-08</th>\n",
       "      <td>3</td>\n",
       "      <td>ECLI_NL_RBGEL_2018_50.xml</td>\n",
       "      <td>ECLI:NL:RBGEL:2018:50</td>\n",
       "      <td>Strafrecht</td>\n",
       "      <td>Arnhem</td>\n",
       "      <td>05/881874-16</td>\n",
       "      <td>[][' tenlastelegging   aan verdachte is ten la...</td>\n",
       "    </tr>\n",
       "    <tr>\n",
       "      <th>2019-01-25</th>\n",
       "      <td>4</td>\n",
       "      <td>ECLI_NL_GHAMS_2019_194.xml</td>\n",
       "      <td>ECLI:NL:GHAMS:2019:194</td>\n",
       "      <td>Strafrecht</td>\n",
       "      <td>Amsterdam</td>\n",
       "      <td>23-005312-13</td>\n",
       "      <td>['      het bewijs tegen de verdachte  de kern...</td>\n",
       "    </tr>\n",
       "    <tr>\n",
       "      <th>2021-02-10</th>\n",
       "      <td>7</td>\n",
       "      <td>ECLI_NL_RBOVE_2021_606.xml</td>\n",
       "      <td>ECLI:NL:RBOVE:2021:606</td>\n",
       "      <td>Strafrecht</td>\n",
       "      <td>Almelo</td>\n",
       "      <td>08/760218-17 (P)</td>\n",
       "      <td>[][' tenlastelegging   de verdenking komt er, ...</td>\n",
       "    </tr>\n",
       "    <tr>\n",
       "      <th>2021-02-10</th>\n",
       "      <td>8</td>\n",
       "      <td>ECLI_NL_GHSHE_2021_1801.xml</td>\n",
       "      <td>ECLI:NL:GHSHE:2021:1801</td>\n",
       "      <td>Strafrecht</td>\n",
       "      <td>'s-Hertogenbosch</td>\n",
       "      <td>20-003457-18</td>\n",
       "      <td>['      bewijsmiddelen     indien tegen dit ve...</td>\n",
       "    </tr>\n",
       "    <tr>\n",
       "      <th>2020-01-30</th>\n",
       "      <td>9</td>\n",
       "      <td>ECLI_NL_GHARL_2020_820.xml</td>\n",
       "      <td>ECLI:NL:GHARL:2020:820</td>\n",
       "      <td>Strafrecht</td>\n",
       "      <td>Leeuwarden</td>\n",
       "      <td>21-001899-19</td>\n",
       "      <td>['      bewijsmiddelen, feiten en omstandighed...</td>\n",
       "    </tr>\n",
       "  </tbody>\n",
       "</table>\n",
       "</div>"
      ],
      "text/plain": [
       "            Unnamed: 0                     filename                     ecli  \\\n",
       "date                                                                           \n",
       "2018-01-08           3    ECLI_NL_RBGEL_2018_50.xml    ECLI:NL:RBGEL:2018:50   \n",
       "2019-01-25           4   ECLI_NL_GHAMS_2019_194.xml   ECLI:NL:GHAMS:2019:194   \n",
       "2021-02-10           7   ECLI_NL_RBOVE_2021_606.xml   ECLI:NL:RBOVE:2021:606   \n",
       "2021-02-10           8  ECLI_NL_GHSHE_2021_1801.xml  ECLI:NL:GHSHE:2021:1801   \n",
       "2020-01-30           9   ECLI_NL_GHARL_2020_820.xml   ECLI:NL:GHARL:2020:820   \n",
       "\n",
       "               subject           spatial           case_nr  \\\n",
       "date                                                         \n",
       "2018-01-08  Strafrecht            Arnhem      05/881874-16   \n",
       "2019-01-25  Strafrecht         Amsterdam      23-005312-13   \n",
       "2021-02-10  Strafrecht            Almelo  08/760218-17 (P)   \n",
       "2021-02-10  Strafrecht  's-Hertogenbosch      20-003457-18   \n",
       "2020-01-30  Strafrecht        Leeuwarden      21-001899-19   \n",
       "\n",
       "                                                         bete  \n",
       "date                                                           \n",
       "2018-01-08  [][' tenlastelegging   aan verdachte is ten la...  \n",
       "2019-01-25  ['      het bewijs tegen de verdachte  de kern...  \n",
       "2021-02-10  [][' tenlastelegging   de verdenking komt er, ...  \n",
       "2021-02-10  ['      bewijsmiddelen     indien tegen dit ve...  \n",
       "2020-01-30  ['      bewijsmiddelen, feiten en omstandighed...  "
      ]
     },
     "execution_count": 4,
     "metadata": {},
     "output_type": "execute_result"
    }
   ],
   "source": [
    "df.head()"
   ]
  },
  {
   "cell_type": "markdown",
   "metadata": {},
   "source": [
    "# Data 2"
   ]
  },
  {
   "cell_type": "code",
   "execution_count": 5,
   "metadata": {},
   "outputs": [
    {
     "data": {
      "text/plain": [
       "'\\'\\ndf = pd.read_csv(\\'/Users/dj/Python - UvA/DSP/data/dataset_18_21.csv\\', index_col=5, parse_dates=[\\'date\\']) \\ndf = df.drop(labels=[\\'ecli\\', \\'case_nr\\', \\'bewijs\\'], axis=1)\\ndf = df.rename(columns={\"tll\": \"bete\"})\\ndf.head()\\n'"
      ]
     },
     "execution_count": 5,
     "metadata": {},
     "output_type": "execute_result"
    }
   ],
   "source": [
    "\n",
    "''''\n",
    "df = pd.read_csv('/Users/dj/Python - UvA/DSP/data/dataset_18_21.csv', index_col=5, parse_dates=['date']) \n",
    "df = df.drop(labels=['ecli', 'case_nr', 'bewijs'], axis=1)\n",
    "df = df.rename(columns={\"tll\": \"bete\"})\n",
    "df.head()\n",
    "'''"
   ]
  },
  {
   "cell_type": "code",
   "execution_count": 6,
   "metadata": {},
   "outputs": [
    {
     "name": "stderr",
     "output_type": "stream",
     "text": [
      "/opt/anaconda3/lib/python3.7/site-packages/ipykernel_launcher.py:1: FutureWarning: Value based partial slicing on non-monotonic DatetimeIndexes with non-existing keys is deprecated and will raise a KeyError in a future Version.\n",
      "  \"\"\"Entry point for launching an IPython kernel.\n",
      "/opt/anaconda3/lib/python3.7/site-packages/ipykernel_launcher.py:2: FutureWarning: Value based partial slicing on non-monotonic DatetimeIndexes with non-existing keys is deprecated and will raise a KeyError in a future Version.\n",
      "  \n",
      "/opt/anaconda3/lib/python3.7/site-packages/ipykernel_launcher.py:3: FutureWarning: Value based partial slicing on non-monotonic DatetimeIndexes with non-existing keys is deprecated and will raise a KeyError in a future Version.\n",
      "  This is separate from the ipykernel package so we can avoid doing imports until\n",
      "/opt/anaconda3/lib/python3.7/site-packages/ipykernel_launcher.py:4: FutureWarning: Value based partial slicing on non-monotonic DatetimeIndexes with non-existing keys is deprecated and will raise a KeyError in a future Version.\n",
      "  after removing the cwd from sys.path.\n"
     ]
    }
   ],
   "source": [
    "df18 = df.loc[\"2018-01-01 00:00:00\":\"2018-12-31 00:00:00\"]\n",
    "df19 = df.loc[\"2019-01-01 00:00:00\":\"2019-12-31 00:00:00\"]\n",
    "df20 = df.loc[\"2020-01-01 00:00:00\":\"2020-12-31 00:00:00\"]\n",
    "df21 = df.loc[\"2021-01-01 00:00:00\":\"2021-12-31 00:00:00\"]"
   ]
  },
  {
   "cell_type": "code",
   "execution_count": 7,
   "metadata": {},
   "outputs": [
    {
     "name": "stdout",
     "output_type": "stream",
     "text": [
      "(300, 7)\n",
      "(306, 7)\n",
      "(315, 7)\n",
      "(527, 7)\n"
     ]
    }
   ],
   "source": [
    "print(df18.shape)\n",
    "print(df19.shape)\n",
    "print(df20.shape)\n",
    "print(df21.shape)"
   ]
  },
  {
   "cell_type": "markdown",
   "metadata": {},
   "source": [
    "# Build Giant Function"
   ]
  },
  {
   "cell_type": "code",
   "execution_count": 8,
   "metadata": {},
   "outputs": [],
   "source": [
    "\n",
    "def get_lda_model(df):\n",
    "\n",
    "    def sent_to_words(sentences):\n",
    "        for sentence in sentences:\n",
    "            yield(gensim.utils.simple_preprocess(str(sentence), deacc=True))  # deacc=True removes punctuations\n",
    "\n",
    "    data_words = list(sent_to_words(df['bete']))\n",
    "\n",
    "        # Build the bigram and trigram models\n",
    "    bigram = gensim.models.Phrases(data_words, min_count=5, threshold=100) # higher threshold fewer phrases.\n",
    "    trigram = gensim.models.Phrases(bigram[data_words], threshold=100)  \n",
    "\n",
    "    # Faster way to get a sentence clubbed as a trigram/bigram\n",
    "    bigram_mod = gensim.models.phrases.Phraser(bigram)\n",
    "    trigram_mod = gensim.models.phrases.Phraser(trigram)\n",
    "\n",
    "    nlp = spacy.load(\"nl_core_news_sm\")\n",
    "\n",
    "    def sent_to_words(sentences):\n",
    "        for sentence in sentences:\n",
    "            yield(gensim.utils.simple_preprocess(str(sentence), deacc=True))  # deacc=True removes punctuations\n",
    "\n",
    "    # Define functions for stopwords, bigrams, trigrams and lemmatization\n",
    "    def remove_stopwords(texts):\n",
    "        return [[word for word in simple_preprocess(str(doc)) if word not in stop_words] for doc in texts]\n",
    "\n",
    "    def make_bigrams(texts):\n",
    "        return [bigram_mod[doc] for doc in texts]\n",
    "\n",
    "    def make_trigrams(texts):\n",
    "        return [trigram_mod[bigram_mod[doc]] for doc in texts]\n",
    "\n",
    "    def lemmatization(texts, allowed_postags=['NOUN', 'ADJ', 'VERB', 'ADV']):\n",
    "        \"\"\"https://spacy.io/api/annotation\"\"\"\n",
    "        texts_out = []\n",
    "        for sent in texts:\n",
    "            doc = nlp(\" \".join(sent)) \n",
    "            texts_out.append([token.lemma_ for token in doc if token.pos_ in allowed_postags])\n",
    "        return texts_out\n",
    "\n",
    "\n",
    "\n",
    "    # Remove Stop Words\n",
    "    data_words_nostops = remove_stopwords(data_words)\n",
    "\n",
    "    # Form Bigrams\n",
    "    data_words_bigrams = make_bigrams(data_words_nostops)\n",
    "\n",
    "    # Initialize spacy 'en' model, keeping only tagger component (for efficiency)\n",
    "    # python3 -m spacy download en\n",
    "    # nlp = spacy.load('nl', disable=['parser', 'ner'])\n",
    "\n",
    "    # Do lemmatization keeping only noun, adj, vb, adv\n",
    "    data_lemmatized = lemmatization(data_words_bigrams, allowed_postags=['NOUN', 'ADJ', 'VERB', 'ADV'])\n",
    "\n",
    "    data_lemmatized = remove_stopwords(data_lemmatized)\n",
    "\n",
    "    # Create Dictionary\n",
    "    id2word = corpora.Dictionary(data_lemmatized)\n",
    "\n",
    "    # Create Corpus\n",
    "    texts = data_lemmatized\n",
    "\n",
    "    # Term Document Frequency\n",
    "    corpus = [id2word.doc2bow(text) for text in texts]\n",
    "    # corpus1 = [str(item) for item in corpus]\n",
    "\n",
    "    # Build LDA model\n",
    "    lda_model = gensim.models.ldamodel.LdaModel(corpus=corpus,\n",
    "                                            id2word=id2word,\n",
    "                                            num_topics=5, \n",
    "                                            random_state=100,\n",
    "                                            update_every=1,\n",
    "                                            chunksize=100,\n",
    "                                            passes=10,\n",
    "                                            alpha='auto',\n",
    "                                            per_word_topics=True)\n",
    "\n",
    "\n",
    "    ######## TF.IDF ########\n",
    "\n",
    "    dat_lem_untok = [\" \".join(x) for x in data_lemmatized]\n",
    "    tfidf_vectorizer = TfidfVectorizer(input=dat_lem_untok, stop_words=stop_words)\n",
    "    tfidf_vector = tfidf_vectorizer.fit_transform(dat_lem_untok)\n",
    "    tfidf_df = pd.DataFrame(tfidf_vector.toarray(), columns=tfidf_vectorizer.get_feature_names())\n",
    "    tfidf_df = tfidf_df.stack().reset_index()\n",
    "    tfidf_df = tfidf_df.rename(columns={0:'tfidf', 'level_0': 'document','level_1': 'term', 'level_2': 'term'})\n",
    "    top_tfidf = tfidf_df.sort_values(by=['document','tfidf'], ascending=[True,False]).groupby(['document']).head(10)\n",
    "\n",
    "     \n",
    "\n",
    "    return(lda_model, data_lemmatized, corpus, id2word, top_tfidf)"
   ]
  },
  {
   "cell_type": "code",
   "execution_count": 9,
   "metadata": {},
   "outputs": [
    {
     "name": "stdout",
     "output_type": "stream",
     "text": [
      "1\n",
      "2\n",
      "3\n",
      "4\n"
     ]
    }
   ],
   "source": [
    "d = [df18, df19, df20, df21]\n",
    "q = 1\n",
    "lda_models = []\n",
    "dat_lems = []\n",
    "corps = []\n",
    "ids = []\n",
    "top_idfs = []\n",
    "\n",
    "for i in d:\n",
    "    print(q)\n",
    "    q += 1\n",
    "    l, dl, c, i2words, t = get_lda_model(i)\n",
    "    lda_models.append(l)\n",
    "    dat_lems.append(dl)\n",
    "    corps.append(c)\n",
    "    ids.append(i2words)\n",
    "    top_idfs.append(t)\n",
    "\n"
   ]
  },
  {
   "cell_type": "markdown",
   "metadata": {},
   "source": [
    "# Compute Model Perplexity and Coherence Score"
   ]
  },
  {
   "cell_type": "code",
   "execution_count": 10,
   "metadata": {},
   "outputs": [
    {
     "name": "stdout",
     "output_type": "stream",
     "text": [
      "\n",
      "Perplexity:  -7.504170862140938\n",
      "\n",
      "Coherence Score:  0.4612774046994995\n"
     ]
    }
   ],
   "source": [
    "# 18 = 0 / 19 = 1 / 20 = 2 / 21 = 3\n",
    "\n",
    "a = 3\n",
    "\n",
    "# Compute Perplexity\n",
    "print('\\nPerplexity: ', lda_models[a].log_perplexity(corps[a]))  # a measure of how good the model is. lower the better.\n",
    "\n",
    "# Compute Coherence Score\n",
    "coherence_model_lda = CoherenceModel(model=lda_models[a], texts=dat_lems[a], dictionary=ids[a], coherence='c_v')\n",
    "coherence_lda = coherence_model_lda.get_coherence()\n",
    "print('\\nCoherence Score: ', coherence_lda)"
   ]
  },
  {
   "cell_type": "markdown",
   "metadata": {},
   "source": [
    "# Visualize the topics-keywords"
   ]
  },
  {
   "cell_type": "code",
   "execution_count": 11,
   "metadata": {},
   "outputs": [
    {
     "data": {
      "text/html": [
       "\n",
       "<link rel=\"stylesheet\" type=\"text/css\" href=\"https://cdn.jsdelivr.net/gh/bmabey/pyLDAvis@3.3.1/pyLDAvis/js/ldavis.v1.0.0.css\">\n",
       "\n",
       "\n",
       "<div id=\"ldavis_el62301406631798983205832949258\"></div>\n",
       "<script type=\"text/javascript\">\n",
       "\n",
       "var ldavis_el62301406631798983205832949258_data = {\"mdsDat\": {\"x\": [0.1677324878172759, -0.05787435824584062, 0.12043250228812478, -0.14085667544365377, -0.0894339564159064], \"y\": [-0.10499204677381012, 0.06074828981659343, 0.12844149937129057, 0.03641042196201663, -0.1206081643760905], \"topics\": [1, 2, 3, 4, 5], \"cluster\": [1, 1, 1, 1, 1], \"Freq\": [28.51712375209307, 23.90176767117461, 20.214274772724654, 15.930231870386322, 11.436601933621363]}, \"tinfo\": {\"Term\": [\"betrokken\", \"bank\", \"man\", \"slaan\", \"mededader\", \"overval\", \"hoofd\", \"bedrag\", \"adres\", \"minderjarig\", \"overval\", \"betrokkene\", \"boompaal\", \"rennen\", \"gemakkelijk\", \"heterdaad\", \"tiewraps\", \"betrapping\", \"buurman\", \"bivakmuts\", \"betrokken\", \"overvaller\", \"gezicht\", \"hond\", \"hoofd\", \"man\", \"richting\", \"geweld\", \"slaan\", \"lopen\", \"medeverdacht\", \"adres\", \"komen\", \"woning\", \"plaats\", \"hennep\", \"opiumwet\", \"loods\", \"amfetamine\", \"hennepplant\", \"overmaken\", \"administratie\", \"mdma\", \"boot\", \"motorrijtuig\", \"gram\", \"cocaine\", \"contant\", \"munitie\", \"pand\", \"bedrag\", \"veroordelen\", \"bedrijf\", \"artikel\", \"bedoelen\", \"blijken\", \"aantreffen\", \"medeverdacht\", \"adres\", \"periode\", \"komen\", \"getuige\", \"vagina\", \"leeftijd\", \"penis\", \"trainer\", \"les\", \"seks\", \"perazijnzuur\", \"homo\", \"seksueel\", \"afbeelding\", \"minderjarig\", \"film\", \"kind\", \"meisje\", \"pijn\", \"training\", \"zeggen\", \"foto\", \"vertellen\", \"voelen\", \"wel\", \"komen\", \"geven\", \"slaan\", \"getuige\", \"oordeel\", \"periode\", \"downloadpas\", \"dentifier\", \"gerecht\", \"curacao\", \"aftappen\", \"samenweefsel\", \"drager\", \"pintransactie\", \"vastgoed\", \"programmeren\", \"bank\", \"vordering\", \"bankpas\", \"pincode\", \"gegeven\", \"kaart\", \"mededader\", \"geld\", \"alleen\", \"telkens\", \"tezamen\", \"vereniging\", \"oogmerk\", \"periode\", \"verbreking\", \"deskundig\", \"cobra\", \"curator\", \"zoekterm\", \"explosief\", \"voorgenoemde\", \"faillissement\", \"braak\", \"kelder\", \"toegang\", \"winkel\", \"verschaffen\", \"goed_er\", \"bereik\", \"geheel\", \"wegnemen\", \"enig_goed\", \"liggen\", \"woning\", \"brengen\", \"oogmerk\", \"vereniging\", \"persoon\", \"adres\", \"plaats\", \"periode\"], \"Freq\": [787.0, 321.0, 755.0, 722.0, 399.0, 305.0, 419.0, 404.0, 1020.0, 239.0, 303.938810593098, 142.92160280584818, 115.8461809394738, 124.62022581217389, 62.53268950793949, 56.50766870798131, 51.42756923156806, 52.1721454147537, 49.138533371873656, 46.8493524837057, 775.2699719002336, 64.68070622963067, 190.685327066897, 95.35187985902546, 376.4425678893463, 657.2476340368628, 320.9245454148164, 404.2312585019718, 542.1620946927733, 306.91367206917835, 861.6371787595915, 589.2092940844229, 508.27996258904085, 431.45383280727907, 408.36634776642086, 154.0925196605416, 84.79146837406802, 82.23707583156808, 71.24991293604145, 68.47693074440606, 60.14264454499913, 55.5601473898599, 52.382876689910695, 52.07989557898976, 44.69179600311964, 100.44465330752786, 87.03151624946015, 135.34417336686806, 102.88394376986561, 145.8939922749037, 291.460362794622, 102.04798913098234, 191.62040909158188, 261.76622196904214, 138.5769600186786, 247.2257636723592, 208.69312883652088, 289.8534979164511, 251.13432509064629, 206.5158589233621, 200.5796751965803, 178.501642250927, 110.44733419975728, 137.34262431942176, 63.8277661541099, 57.83622917590737, 56.36284354566658, 51.175176158229036, 45.247148210503354, 42.57163422984604, 37.16766273181986, 151.1892444435676, 233.9383109974977, 110.24241137435463, 100.76318036415985, 71.75562054775745, 112.51281195769158, 73.13314073739332, 386.3892199840645, 215.3214997711057, 107.45598623896397, 111.56860302899386, 182.84896869837954, 258.5028916607506, 192.81140026273442, 159.39825504952196, 154.06024658868523, 143.74267382586413, 143.86664759200409, 79.40599243402845, 74.74541034726481, 70.80492793245617, 62.38700614994921, 66.2651273164012, 38.047600650095625, 34.80894492725247, 34.516739278993455, 38.53589324938336, 33.804009430203564, 295.6769917745263, 163.57691528791852, 128.4073351202953, 79.27004794416943, 225.36484367056866, 93.88694751749388, 229.7668338202611, 264.0112346125917, 235.85681663060913, 197.34996100717876, 198.9222317636674, 202.8652021471474, 169.9243610411508, 164.10465734843936, 50.72199479482221, 48.155710114620575, 34.56345480290098, 27.651684689200984, 28.27362031926621, 21.807316450619147, 21.26204676435732, 21.173883368064388, 53.32910593817204, 19.954733131759337, 95.0734853169692, 44.5484594446757, 84.78305520263152, 30.938627740181637, 65.72088686901752, 148.86943510686285, 105.77085920662823, 94.56618649289456, 147.1448772723496, 179.78650512362663, 121.90515473362294, 114.75930038976566, 130.83538068245142, 128.89013480100138, 140.97880550999736, 116.12985376348834, 113.83804074201606], \"Total\": [787.0, 321.0, 755.0, 722.0, 399.0, 305.0, 419.0, 404.0, 1020.0, 239.0, 305.6226217207414, 143.7997881740707, 116.59718512968031, 125.53170100655139, 63.28868777048212, 57.29970800969311, 52.17852707763927, 52.937638750561014, 49.89265899903247, 47.602070482815435, 787.7383937688401, 65.80087601572112, 202.7610153089997, 98.83887580348252, 419.55318970670373, 755.7760398343731, 390.41421583919384, 510.41356920750695, 722.4316609904231, 377.1847165467991, 1415.9920316420387, 1020.2061588739948, 1068.368723823133, 837.4565429295254, 759.7067837336374, 154.85572744600015, 85.55270004992153, 82.9986699267811, 72.01108421391714, 69.24276070919808, 60.97506657296255, 56.32975767818564, 53.142894863448326, 52.84971096310568, 45.45149520521432, 102.59587185023756, 89.17032472892379, 144.5333505051074, 109.16762636992591, 159.26693454954315, 404.004958930461, 113.09574282303073, 265.1703748436742, 469.9381533760663, 206.01181291007805, 607.452520997077, 457.4088224269861, 1415.9920316420387, 1020.2061588739948, 628.5464980090442, 1068.368723823133, 667.6618474853416, 111.21876245185459, 138.81948003306331, 64.62543052615746, 58.606798926676966, 57.13456956118942, 51.954488858924464, 46.01812084531592, 43.34224342287619, 37.93923604010794, 154.38735774468745, 239.74337949251546, 115.4281371581847, 106.27605119961048, 75.27243602630953, 126.77185593560272, 77.70098589158737, 703.6345322504474, 368.7434036716744, 136.4377602522132, 144.8942820185672, 456.10011450427015, 1068.368723823133, 573.9807624676434, 722.4316609904231, 667.6618474853416, 522.2057651837863, 628.5464980090442, 80.21215394406862, 75.55025870675438, 71.62378851633919, 63.18020558388316, 67.39209750321294, 38.84882532624584, 35.60299287333495, 35.30894909954818, 39.42219989262616, 34.59839554611701, 321.6342751273603, 180.14425549703824, 140.97619873663896, 86.46746563801328, 272.6035744999832, 107.1286701019911, 399.3985845409687, 580.3237534954734, 610.1338798254534, 459.5471514966918, 510.5438493434083, 620.6928781233803, 425.57178868428986, 628.5464980090442, 51.51840723698993, 48.94719655153845, 35.35258514926629, 28.444143264272594, 29.086005634606746, 22.59709587565307, 22.05135807336293, 21.96482102630623, 55.43585973725544, 20.755016862246823, 105.83962317226084, 50.82541793821151, 112.45637098203207, 34.786626517854934, 92.74019395959014, 364.6551610780973, 240.4872558050502, 210.36349957664186, 501.87281655916524, 837.4565429295254, 457.9583319277041, 425.57178868428986, 620.6928781233803, 692.3292687130933, 1020.2061588739948, 759.7067837336374, 628.5464980090442], \"Category\": [\"Default\", \"Default\", \"Default\", \"Default\", \"Default\", \"Default\", \"Default\", \"Default\", \"Default\", \"Default\", \"Topic1\", \"Topic1\", \"Topic1\", \"Topic1\", \"Topic1\", \"Topic1\", \"Topic1\", \"Topic1\", \"Topic1\", \"Topic1\", \"Topic1\", \"Topic1\", \"Topic1\", \"Topic1\", \"Topic1\", \"Topic1\", \"Topic1\", \"Topic1\", \"Topic1\", \"Topic1\", \"Topic1\", \"Topic1\", \"Topic1\", \"Topic1\", \"Topic1\", \"Topic2\", \"Topic2\", \"Topic2\", \"Topic2\", \"Topic2\", \"Topic2\", \"Topic2\", \"Topic2\", \"Topic2\", \"Topic2\", \"Topic2\", \"Topic2\", \"Topic2\", \"Topic2\", \"Topic2\", \"Topic2\", \"Topic2\", \"Topic2\", \"Topic2\", \"Topic2\", \"Topic2\", \"Topic2\", \"Topic2\", \"Topic2\", \"Topic2\", \"Topic2\", \"Topic2\", \"Topic3\", \"Topic3\", \"Topic3\", \"Topic3\", \"Topic3\", \"Topic3\", \"Topic3\", \"Topic3\", \"Topic3\", \"Topic3\", \"Topic3\", \"Topic3\", \"Topic3\", \"Topic3\", \"Topic3\", \"Topic3\", \"Topic3\", \"Topic3\", \"Topic3\", \"Topic3\", \"Topic3\", \"Topic3\", \"Topic3\", \"Topic3\", \"Topic3\", \"Topic3\", \"Topic3\", \"Topic4\", \"Topic4\", \"Topic4\", \"Topic4\", \"Topic4\", \"Topic4\", \"Topic4\", \"Topic4\", \"Topic4\", \"Topic4\", \"Topic4\", \"Topic4\", \"Topic4\", \"Topic4\", \"Topic4\", \"Topic4\", \"Topic4\", \"Topic4\", \"Topic4\", \"Topic4\", \"Topic4\", \"Topic4\", \"Topic4\", \"Topic4\", \"Topic5\", \"Topic5\", \"Topic5\", \"Topic5\", \"Topic5\", \"Topic5\", \"Topic5\", \"Topic5\", \"Topic5\", \"Topic5\", \"Topic5\", \"Topic5\", \"Topic5\", \"Topic5\", \"Topic5\", \"Topic5\", \"Topic5\", \"Topic5\", \"Topic5\", \"Topic5\", \"Topic5\", \"Topic5\", \"Topic5\", \"Topic5\", \"Topic5\", \"Topic5\", \"Topic5\"], \"logprob\": [10.0, 9.0, 8.0, 7.0, 6.0, 5.0, 4.0, 3.0, 2.0, 1.0, -4.8845, -5.639, -5.849, -5.776, -6.4656, -6.5669, -6.6611, -6.6467, -6.7066, -6.7544, -3.9481, -6.4318, -5.3507, -6.0437, -4.6705, -4.1132, -4.8301, -4.5993, -4.3057, -4.8747, -3.8425, -4.2225, -4.3703, -4.5341, -4.5891, -5.3872, -5.9845, -6.0151, -6.1585, -6.1982, -6.328, -6.4073, -6.4662, -6.472, -6.6249, -5.8151, -5.9585, -5.5169, -5.7911, -5.4419, -4.7498, -5.7993, -5.1692, -4.8573, -5.4933, -4.9144, -5.0839, -4.7554, -4.8987, -5.0944, -5.1235, -5.2401, -5.5526, -5.3347, -6.101, -6.1996, -6.2254, -6.3219, -6.445, -6.506, -6.6417, -5.2386, -4.8021, -5.5545, -5.6444, -5.9839, -5.5341, -5.9649, -4.3003, -4.885, -5.5801, -5.5425, -5.0485, -4.7023, -4.9955, -5.1858, -5.2198, -5.2891, -5.2883, -5.6444, -5.7049, -5.7591, -5.8856, -5.8253, -6.3802, -6.4691, -6.4776, -6.3674, -6.4984, -4.3297, -4.9217, -5.1638, -5.6461, -4.6013, -5.4769, -4.5819, -4.443, -4.5558, -4.734, -4.7261, -4.7065, -4.8836, -4.9185, -5.7612, -5.8132, -6.1448, -6.3679, -6.3457, -6.6054, -6.6307, -6.6348, -5.7111, -6.6941, -5.133, -5.891, -5.2475, -6.2556, -5.5022, -4.6845, -5.0263, -5.1383, -4.6962, -4.4958, -4.8844, -4.9448, -4.8137, -4.8286, -4.739, -4.9329, -4.9528], \"loglift\": [10.0, 9.0, 8.0, 7.0, 6.0, 5.0, 4.0, 3.0, 2.0, 1.0, 1.2491, 1.2485, 1.2482, 1.2474, 1.2426, 1.2407, 1.2402, 1.2401, 1.2394, 1.2387, 1.2387, 1.2375, 1.1933, 1.2187, 1.1462, 1.115, 1.0587, 1.0214, 0.9676, 1.0485, 0.7579, 0.7057, 0.5118, 0.5915, 0.6339, 1.4263, 1.4223, 1.422, 1.4206, 1.4201, 1.4175, 1.4175, 1.4168, 1.4165, 1.4144, 1.41, 1.4069, 1.3655, 1.3719, 1.3435, 1.1047, 1.3284, 1.1064, 0.8461, 1.0347, 0.5322, 0.6465, -0.155, 0.0294, 0.3182, -0.2415, 0.112, 1.5918, 1.5881, 1.5864, 1.5855, 1.5852, 1.5837, 1.5819, 1.5808, 1.5782, 1.5778, 1.5743, 1.5528, 1.5455, 1.5509, 1.4795, 1.5382, 0.9994, 1.0608, 1.36, 1.3374, 0.6847, 0.1798, 0.5079, 0.0876, 0.1323, 0.3087, 0.1243, 1.8269, 1.8262, 1.8255, 1.8243, 1.8201, 1.8161, 1.8144, 1.8143, 1.8142, 1.8137, 1.7528, 1.7405, 1.7436, 1.75, 1.6467, 1.705, 1.2841, 1.0494, 0.8865, 0.9917, 0.8944, 0.7187, 0.9189, 0.494, 2.1528, 2.152, 2.1458, 2.1401, 2.14, 2.1328, 2.1319, 2.1317, 2.1296, 2.129, 2.0611, 2.0365, 1.8859, 2.0511, 1.824, 1.2725, 1.347, 1.3688, 0.9414, 0.6298, 0.8448, 0.8578, 0.6115, 0.4872, 0.1892, 0.2901, 0.4597]}, \"token.table\": {\"Topic\": [1, 2, 3, 4, 5, 2, 1, 2, 3, 4, 5, 2, 3, 5, 4, 1, 2, 3, 4, 5, 2, 1, 2, 3, 4, 5, 2, 3, 4, 5, 1, 4, 5, 1, 2, 3, 4, 5, 1, 2, 4, 2, 3, 4, 5, 4, 5, 1, 1, 2, 5, 1, 1, 1, 2, 3, 4, 5, 1, 2, 3, 5, 1, 2, 3, 4, 5, 1, 5, 2, 5, 1, 2, 4, 4, 5, 4, 5, 4, 4, 1, 4, 5, 5, 5, 1, 3, 1, 2, 3, 4, 5, 1, 2, 4, 5, 1, 2, 3, 4, 5, 1, 2, 3, 4, 5, 1, 4, 1, 2, 3, 5, 1, 2, 3, 4, 5, 1, 3, 4, 5, 1, 3, 5, 2, 4, 5, 2, 5, 2, 2, 1, 3, 1, 5, 1, 2, 3, 1, 4, 5, 5, 1, 2, 3, 1, 2, 3, 4, 5, 3, 5, 3, 1, 2, 3, 4, 5, 2, 1, 2, 3, 4, 5, 1, 2, 3, 4, 5, 2, 1, 3, 4, 5, 1, 2, 3, 4, 5, 1, 2, 3, 1, 2, 3, 5, 2, 2, 4, 5, 1, 2, 3, 4, 5, 1, 2, 3, 4, 5, 2, 2, 1, 3, 1, 5, 2, 5, 3, 3, 2, 3, 4, 5, 1, 2, 3, 4, 5, 1, 3, 4, 5, 4, 1, 2, 3, 4, 5, 4, 1, 1, 2, 3, 4, 3, 3, 1, 2, 3, 4, 5, 1, 2, 3, 4, 5, 1, 2, 3, 4, 5, 1, 1, 2, 4, 5, 3, 1, 3, 3, 4, 5, 1, 2, 3, 4, 5, 1, 2, 3, 4, 1, 2, 4, 5, 1, 2, 3, 4, 1, 3, 5, 1, 2, 4, 5, 1, 2, 4, 5, 1, 2, 3, 4, 5, 2, 3, 5, 1, 2, 3, 4, 5, 1, 2, 3, 4, 5, 5], \"Freq\": [0.19238806880260165, 0.4569216634061789, 0.06777306969182557, 0.04809701720065041, 0.233926401839527, 0.9941459418293691, 0.5773342915809109, 0.2460287049012031, 0.010782134477741968, 0.027445433216070465, 0.13820736012378343, 0.006477214291429964, 0.9780593580059245, 0.006477214291429964, 0.9793433124240336, 0.23273580552619574, 0.10817298003330224, 0.09506110366562924, 0.3868003528463535, 0.17701033096358548, 0.9859593252211896, 0.021279395869774245, 0.5575201717880852, 0.09362934182700668, 0.28514390465497486, 0.04255879173954849, 0.018654728255016132, 0.05285506338921237, 0.9202999272474625, 0.009327364127508066, 0.0567471677608856, 0.9079546841741696, 0.0283735838804428, 0.019416362311931876, 0.6747185903396327, 0.09708181155965938, 0.1844554419633528, 0.024270452889914845, 0.009900868570003114, 0.7202881884677266, 0.2648482342475833, 0.7240627845896801, 0.08296552740090084, 0.06410972571887792, 0.12821945143775584, 0.2803530906063128, 0.7116655376929479, 0.9822878622339181, 0.9838291571547062, 0.010155655815790516, 0.005077827907895258, 0.9944381825298481, 0.9873520106014552, 0.19425386498736383, 0.4066161411176175, 0.2107160569354455, 0.1547446043119678, 0.03457060309097153, 0.9948782200100619, 0.9839221265808084, 0.03607773036224616, 0.9560598545995233, 0.16377035806794737, 0.13756710077707582, 0.2685833872314337, 0.16377035806794737, 0.2663997824571944, 0.9821084099957514, 0.9900266091495827, 0.9756609080933423, 0.0224289863929504, 0.048431728563247, 0.9340404794340493, 0.006918818366178143, 0.9813200103897063, 0.9843854230325699, 0.9927166535737464, 0.9806486046541786, 0.9848881511782636, 0.9830634217892799, 0.19490073174534941, 0.3517720524184355, 0.4515992564831267, 0.9735764330541075, 0.9560742596012638, 0.0433169946522477, 0.9529738823494492, 0.2576317272500611, 0.12203608132897631, 0.5830612774606646, 0.02711912918421696, 0.010847651673686783, 0.04401996570298362, 0.05502495712872952, 0.8253743569309429, 0.07703493998022133, 0.17276596281742312, 0.10420804106447744, 0.06581560488282785, 0.24680851831060446, 0.40860521364755625, 0.16025537372859822, 0.20505795133014182, 0.07754292277190236, 0.45491848026182724, 0.101667387634272, 0.9954385565469606, 0.9912907634563776, 0.47928453783189334, 0.2680997883497153, 0.23065568383159868, 0.020968698530145335, 0.26481723768323784, 0.21429289628314638, 0.33624820311095327, 0.12195530682780689, 0.06271987208287211, 0.7915150073836598, 0.19004196959459158, 0.015673564502646727, 0.001959195562830841, 0.9419956775661417, 0.05425105996454219, 0.004931914542231108, 0.08624003820721707, 0.02874667940240569, 0.8911470614745763, 0.9746980867414741, 0.01949396173482948, 0.9944740342503732, 0.9820521207347963, 0.9947694670687953, 0.9921036984740954, 0.9611602643972276, 0.03035242940201771, 0.896191494248559, 0.0047669760332370165, 0.09533952066474033, 0.009334569345889918, 0.8774495185136524, 0.1026802628047891, 0.9636224404317304, 0.03763783048814163, 0.018818915244070814, 0.9503552198255761, 0.47549126876546294, 0.18813729335011428, 0.2424256665556199, 0.06458444398586012, 0.029952205906485854, 0.9868931937172654, 0.007203599954140623, 0.98014215264238, 0.40448494778371513, 0.12154473800397352, 0.10958951787243514, 0.07173132078923027, 0.29290289322269025, 0.987967639389136, 0.8139248133133439, 0.03446587157352922, 0.11665371917194506, 0.03446587157352922, 0.0026512208902714786, 0.8693051451379437, 0.0185240061368816, 0.023816579318847772, 0.06086459159261097, 0.0277860092053224, 0.978493929124768, 0.19278986701591988, 0.0025037645067002585, 0.5758658365410594, 0.2278425701097235, 0.6087604878682769, 0.20480341239187969, 0.07203430366886802, 0.09392708223489654, 0.020480341239187967, 0.013285075557412223, 0.026570151114824445, 0.95652544013368, 0.004171126652659949, 0.008342253305319899, 0.9760436367224282, 0.012513379957979848, 0.9900664388888459, 0.9435031558804231, 0.036640899257492164, 0.018320449628746082, 0.2467268808503991, 0.06579383489343976, 0.018798238540982788, 0.3994625689958842, 0.27022467902662756, 0.22021970584627046, 0.3025627262931368, 0.27575337079880824, 0.19341035035194187, 0.009574769819403063, 0.9935396539256036, 0.9840087657502467, 0.9946907669608828, 0.003272009101845009, 0.9878287940189463, 0.015197366061829944, 0.9167000068968101, 0.08162397321683924, 0.9903222226751076, 0.97787565362049, 0.329331243839054, 0.22909999571412454, 0.2609194395633085, 0.1813708299403486, 0.35532225938860945, 0.1242183508431724, 0.17043913255225981, 0.16177273598180592, 0.1863275262647586, 0.11043460629867002, 0.8913650365535509, 0.9136384351858418, 0.08095530438355561, 0.9912501190936851, 0.5370493047262954, 0.10925267718696695, 0.11451786644898945, 0.08687562282337132, 0.1526904885986526, 0.9827045290201566, 0.9957644084937267, 0.8222036672256202, 0.12806910704448912, 0.04866626067690587, 0.9781505536108867, 0.9816283659047007, 0.9752436754626524, 0.750243973605671, 0.0013842139734421973, 0.22009002177730938, 0.02491585152195955, 0.0027684279468843946, 0.06092954750955858, 0.22630974789264616, 0.22413369262444766, 0.4286828878351086, 0.06092954750955858, 0.24091956089214625, 0.11948043263756847, 0.039173912340186384, 0.3897804277848545, 0.20958043101999715, 0.9774135617916989, 0.009448257373067506, 0.03779302949227002, 0.05668954423840504, 0.8975844504414131, 0.9896462707776255, 0.05147939828692801, 0.9394990187364362, 0.9890417549612442, 0.9892903010543272, 0.9899374366407485, 0.3077206243729984, 0.10794388394236071, 0.04511087687143432, 0.3270538573178989, 0.2110544596484963, 0.017684131604578147, 0.9018907118334856, 0.008842065802289073, 0.07073652641831259, 0.008892337457339583, 0.06224636220137709, 0.1778467491467917, 0.7558486838738646, 0.14658698561914846, 0.02198804784287227, 0.7842403730624442, 0.036646746404787114, 0.22775225868313617, 0.7729773628033711, 0.9523222982518739, 0.005551106790726619, 0.07771549507017265, 0.9103815136791654, 0.011102213581453238, 0.22454412321863254, 0.012474673512146253, 0.3243415113158026, 0.4407717974291676, 0.07454503719420066, 0.3727251859710033, 0.40122770019231535, 0.09866254922761852, 0.05262002625472988, 0.019675194825071594, 0.09837597412535797, 0.8853837671282218, 0.5146535705510273, 0.19941333244088533, 0.025075928031488573, 0.045375488818884084, 0.21493652598418778, 0.29987158152280385, 0.09095630908748553, 0.5485802391838971, 0.05116292386171061, 0.00994834630644373, 0.9626622627991721], \"Term\": [\"aantreffen\", \"aantreffen\", \"aantreffen\", \"aantreffen\", \"aantreffen\", \"administratie\", \"adres\", \"adres\", \"adres\", \"adres\", \"adres\", \"afbeelding\", \"afbeelding\", \"afbeelding\", \"aftappen\", \"alleen\", \"alleen\", \"alleen\", \"alleen\", \"alleen\", \"amfetamine\", \"artikel\", \"artikel\", \"artikel\", \"artikel\", \"artikel\", \"bank\", \"bank\", \"bank\", \"bank\", \"bankpas\", \"bankpas\", \"bankpas\", \"bedoelen\", \"bedoelen\", \"bedoelen\", \"bedoelen\", \"bedoelen\", \"bedrag\", \"bedrag\", \"bedrag\", \"bedrijf\", \"bedrijf\", \"bedrijf\", \"bedrijf\", \"bereik\", \"bereik\", \"betrapping\", \"betrokken\", \"betrokken\", \"betrokken\", \"betrokkene\", \"bivakmuts\", \"blijken\", \"blijken\", \"blijken\", \"blijken\", \"blijken\", \"boompaal\", \"boot\", \"braak\", \"braak\", \"brengen\", \"brengen\", \"brengen\", \"brengen\", \"brengen\", \"buurman\", \"cobra\", \"cocaine\", \"cocaine\", \"contant\", \"contant\", \"contant\", \"curacao\", \"curator\", \"dentifier\", \"deskundig\", \"downloadpas\", \"drager\", \"enig_goed\", \"enig_goed\", \"enig_goed\", \"explosief\", \"faillissement\", \"film\", \"film\", \"foto\", \"foto\", \"foto\", \"foto\", \"foto\", \"gegeven\", \"gegeven\", \"gegeven\", \"gegeven\", \"geheel\", \"geheel\", \"geheel\", \"geheel\", \"geheel\", \"geld\", \"geld\", \"geld\", \"geld\", \"geld\", \"gemakkelijk\", \"gerecht\", \"getuige\", \"getuige\", \"getuige\", \"getuige\", \"geven\", \"geven\", \"geven\", \"geven\", \"geven\", \"geweld\", \"geweld\", \"geweld\", \"geweld\", \"gezicht\", \"gezicht\", \"gezicht\", \"goed_er\", \"goed_er\", \"goed_er\", \"gram\", \"gram\", \"hennep\", \"hennepplant\", \"heterdaad\", \"homo\", \"hond\", \"hond\", \"hoofd\", \"hoofd\", \"hoofd\", \"kaart\", \"kaart\", \"kaart\", \"kelder\", \"kind\", \"kind\", \"kind\", \"komen\", \"komen\", \"komen\", \"komen\", \"komen\", \"leeftijd\", \"leeftijd\", \"les\", \"liggen\", \"liggen\", \"liggen\", \"liggen\", \"liggen\", \"loods\", \"lopen\", \"lopen\", \"lopen\", \"lopen\", \"lopen\", \"man\", \"man\", \"man\", \"man\", \"man\", \"mdma\", \"mededader\", \"mededader\", \"mededader\", \"mededader\", \"medeverdacht\", \"medeverdacht\", \"medeverdacht\", \"medeverdacht\", \"medeverdacht\", \"meisje\", \"meisje\", \"meisje\", \"minderjarig\", \"minderjarig\", \"minderjarig\", \"minderjarig\", \"motorrijtuig\", \"munitie\", \"munitie\", \"munitie\", \"oogmerk\", \"oogmerk\", \"oogmerk\", \"oogmerk\", \"oogmerk\", \"oordeel\", \"oordeel\", \"oordeel\", \"oordeel\", \"oordeel\", \"opiumwet\", \"overmaken\", \"overval\", \"overval\", \"overvaller\", \"overvaller\", \"pand\", \"pand\", \"penis\", \"perazijnzuur\", \"periode\", \"periode\", \"periode\", \"periode\", \"persoon\", \"persoon\", \"persoon\", \"persoon\", \"persoon\", \"pijn\", \"pijn\", \"pincode\", \"pincode\", \"pintransactie\", \"plaats\", \"plaats\", \"plaats\", \"plaats\", \"plaats\", \"programmeren\", \"rennen\", \"richting\", \"richting\", \"richting\", \"samenweefsel\", \"seks\", \"seksueel\", \"slaan\", \"slaan\", \"slaan\", \"slaan\", \"slaan\", \"telkens\", \"telkens\", \"telkens\", \"telkens\", \"telkens\", \"tezamen\", \"tezamen\", \"tezamen\", \"tezamen\", \"tezamen\", \"tiewraps\", \"toegang\", \"toegang\", \"toegang\", \"toegang\", \"trainer\", \"training\", \"training\", \"vagina\", \"vastgoed\", \"verbreking\", \"vereniging\", \"vereniging\", \"vereniging\", \"vereniging\", \"vereniging\", \"veroordelen\", \"veroordelen\", \"veroordelen\", \"veroordelen\", \"verschaffen\", \"verschaffen\", \"verschaffen\", \"verschaffen\", \"vertellen\", \"vertellen\", \"vertellen\", \"vertellen\", \"voelen\", \"voelen\", \"voorgenoemde\", \"vordering\", \"vordering\", \"vordering\", \"vordering\", \"wegnemen\", \"wegnemen\", \"wegnemen\", \"wegnemen\", \"wel\", \"wel\", \"wel\", \"wel\", \"wel\", \"winkel\", \"winkel\", \"winkel\", \"woning\", \"woning\", \"woning\", \"woning\", \"woning\", \"zeggen\", \"zeggen\", \"zeggen\", \"zeggen\", \"zeggen\", \"zoekterm\"]}, \"R\": 10, \"lambda.step\": 0.01, \"plot.opts\": {\"xlab\": \"PC1\", \"ylab\": \"PC2\"}, \"topic.order\": [1, 5, 2, 4, 3]};\n",
       "\n",
       "function LDAvis_load_lib(url, callback){\n",
       "  var s = document.createElement('script');\n",
       "  s.src = url;\n",
       "  s.async = true;\n",
       "  s.onreadystatechange = s.onload = callback;\n",
       "  s.onerror = function(){console.warn(\"failed to load library \" + url);};\n",
       "  document.getElementsByTagName(\"head\")[0].appendChild(s);\n",
       "}\n",
       "\n",
       "if(typeof(LDAvis) !== \"undefined\"){\n",
       "   // already loaded: just create the visualization\n",
       "   !function(LDAvis){\n",
       "       new LDAvis(\"#\" + \"ldavis_el62301406631798983205832949258\", ldavis_el62301406631798983205832949258_data);\n",
       "   }(LDAvis);\n",
       "}else if(typeof define === \"function\" && define.amd){\n",
       "   // require.js is available: use it to load d3/LDAvis\n",
       "   require.config({paths: {d3: \"https://d3js.org/d3.v5\"}});\n",
       "   require([\"d3\"], function(d3){\n",
       "      window.d3 = d3;\n",
       "      LDAvis_load_lib(\"https://cdn.jsdelivr.net/gh/bmabey/pyLDAvis@3.3.1/pyLDAvis/js/ldavis.v3.0.0.js\", function(){\n",
       "        new LDAvis(\"#\" + \"ldavis_el62301406631798983205832949258\", ldavis_el62301406631798983205832949258_data);\n",
       "      });\n",
       "    });\n",
       "}else{\n",
       "    // require.js not available: dynamically load d3 & LDAvis\n",
       "    LDAvis_load_lib(\"https://d3js.org/d3.v5.js\", function(){\n",
       "         LDAvis_load_lib(\"https://cdn.jsdelivr.net/gh/bmabey/pyLDAvis@3.3.1/pyLDAvis/js/ldavis.v3.0.0.js\", function(){\n",
       "                 new LDAvis(\"#\" + \"ldavis_el62301406631798983205832949258\", ldavis_el62301406631798983205832949258_data);\n",
       "            })\n",
       "         });\n",
       "}\n",
       "</script>"
      ],
      "text/plain": [
       "PreparedData(topic_coordinates=              x         y  topics  cluster       Freq\n",
       "topic                                                \n",
       "0      0.167732 -0.104992       1        1  28.517124\n",
       "4     -0.057874  0.060748       2        1  23.901768\n",
       "1      0.120433  0.128441       3        1  20.214275\n",
       "3     -0.140857  0.036410       4        1  15.930232\n",
       "2     -0.089434 -0.120608       5        1  11.436602, topic_info=            Term        Freq        Total Category  logprob  loglift\n",
       "2306   betrokken  787.000000   787.000000  Default  10.0000  10.0000\n",
       "986         bank  321.000000   321.000000  Default   9.0000   9.0000\n",
       "183          man  755.000000   755.000000  Default   8.0000   8.0000\n",
       "591        slaan  722.000000   722.000000  Default   7.0000   7.0000\n",
       "185    mededader  399.000000   399.000000  Default   6.0000   6.0000\n",
       "...          ...         ...          ...      ...      ...      ...\n",
       "261   vereniging  130.835381   620.692878   Topic5  -4.8137   0.6115\n",
       "210      persoon  128.890135   692.329269   Topic5  -4.8286   0.4872\n",
       "313        adres  140.978806  1020.206159   Topic5  -4.7390   0.1892\n",
       "212       plaats  116.129854   759.706784   Topic5  -4.9329   0.2901\n",
       "52       periode  113.838041   628.546498   Topic5  -4.9528   0.4597\n",
       "\n",
       "[140 rows x 6 columns], token_table=      Topic      Freq        Term\n",
       "term                             \n",
       "88        1  0.192388  aantreffen\n",
       "88        2  0.456922  aantreffen\n",
       "88        3  0.067773  aantreffen\n",
       "88        4  0.048097  aantreffen\n",
       "88        5  0.233926  aantreffen\n",
       "...     ...       ...         ...\n",
       "86        2  0.090956      zeggen\n",
       "86        3  0.548580      zeggen\n",
       "86        4  0.051163      zeggen\n",
       "86        5  0.009948      zeggen\n",
       "5493      5  0.962662    zoekterm\n",
       "\n",
       "[310 rows x 3 columns], R=10, lambda_step=0.01, plot_opts={'xlab': 'PC1', 'ylab': 'PC2'}, topic_order=[1, 5, 2, 4, 3])"
      ]
     },
     "execution_count": 11,
     "metadata": {},
     "output_type": "execute_result"
    }
   ],
   "source": [
    "# 18 = 0 / 19 = 1 / 20 = 2 / 21 = 3\n",
    "\n",
    "a = 0\n",
    "\n",
    "# Visualize the topics\n",
    "pyLDAvis.enable_notebook()\n",
    "vis = gensimvis.prepare(lda_models[a], corps[a], ids[a], R = 10)\n",
    "vis"
   ]
  },
  {
   "cell_type": "markdown",
   "metadata": {},
   "source": [
    "# TF.IDF "
   ]
  },
  {
   "cell_type": "code",
   "execution_count": 12,
   "metadata": {},
   "outputs": [],
   "source": [
    "test = top_idfs[0].sort_values(by=['tfidf'], ascending=[False]).head(20)"
   ]
  },
  {
   "cell_type": "code",
   "execution_count": 13,
   "metadata": {},
   "outputs": [
    {
     "data": {
      "text/html": [
       "<div>\n",
       "<style scoped>\n",
       "    .dataframe tbody tr th:only-of-type {\n",
       "        vertical-align: middle;\n",
       "    }\n",
       "\n",
       "    .dataframe tbody tr th {\n",
       "        vertical-align: top;\n",
       "    }\n",
       "\n",
       "    .dataframe thead th {\n",
       "        text-align: right;\n",
       "    }\n",
       "</style>\n",
       "<table border=\"1\" class=\"dataframe\">\n",
       "  <thead>\n",
       "    <tr style=\"text-align: right;\">\n",
       "      <th></th>\n",
       "      <th>document</th>\n",
       "      <th>term</th>\n",
       "      <th>tfidf</th>\n",
       "    </tr>\n",
       "  </thead>\n",
       "  <tbody>\n",
       "    <tr>\n",
       "      <th>846311</th>\n",
       "      <td>102</td>\n",
       "      <td>inleiding</td>\n",
       "      <td>1.000000</td>\n",
       "    </tr>\n",
       "    <tr>\n",
       "      <th>69614</th>\n",
       "      <td>8</td>\n",
       "      <td>kledingwinkel</td>\n",
       "      <td>0.864611</td>\n",
       "    </tr>\n",
       "    <tr>\n",
       "      <th>168806</th>\n",
       "      <td>20</td>\n",
       "      <td>kledingwinkel</td>\n",
       "      <td>0.850613</td>\n",
       "    </tr>\n",
       "    <tr>\n",
       "      <th>1549824</th>\n",
       "      <td>187</td>\n",
       "      <td>meerkerk</td>\n",
       "      <td>0.849084</td>\n",
       "    </tr>\n",
       "    <tr>\n",
       "      <th>868844</th>\n",
       "      <td>105</td>\n",
       "      <td>betrokken</td>\n",
       "      <td>0.836630</td>\n",
       "    </tr>\n",
       "    <tr>\n",
       "      <th>44088</th>\n",
       "      <td>5</td>\n",
       "      <td>handelsnaam</td>\n",
       "      <td>0.747824</td>\n",
       "    </tr>\n",
       "    <tr>\n",
       "      <th>2029373</th>\n",
       "      <td>245</td>\n",
       "      <td>minderjarig</td>\n",
       "      <td>0.734323</td>\n",
       "    </tr>\n",
       "    <tr>\n",
       "      <th>405657</th>\n",
       "      <td>49</td>\n",
       "      <td>bedrijf</td>\n",
       "      <td>0.730678</td>\n",
       "    </tr>\n",
       "    <tr>\n",
       "      <th>1559082</th>\n",
       "      <td>188</td>\n",
       "      <td>pagina</td>\n",
       "      <td>0.721468</td>\n",
       "    </tr>\n",
       "    <tr>\n",
       "      <th>1932826</th>\n",
       "      <td>233</td>\n",
       "      <td>tussenkomst</td>\n",
       "      <td>0.716773</td>\n",
       "    </tr>\n",
       "    <tr>\n",
       "      <th>779213</th>\n",
       "      <td>94</td>\n",
       "      <td>fiets</td>\n",
       "      <td>0.698559</td>\n",
       "    </tr>\n",
       "    <tr>\n",
       "      <th>2441320</th>\n",
       "      <td>295</td>\n",
       "      <td>hennep</td>\n",
       "      <td>0.695802</td>\n",
       "    </tr>\n",
       "    <tr>\n",
       "      <th>110308</th>\n",
       "      <td>13</td>\n",
       "      <td>hennep</td>\n",
       "      <td>0.695802</td>\n",
       "    </tr>\n",
       "    <tr>\n",
       "      <th>2093664</th>\n",
       "      <td>253</td>\n",
       "      <td>geboortedag</td>\n",
       "      <td>0.683285</td>\n",
       "    </tr>\n",
       "    <tr>\n",
       "      <th>233669</th>\n",
       "      <td>28</td>\n",
       "      <td>filiaal</td>\n",
       "      <td>0.671838</td>\n",
       "    </tr>\n",
       "    <tr>\n",
       "      <th>1265612</th>\n",
       "      <td>153</td>\n",
       "      <td>betrokken</td>\n",
       "      <td>0.667051</td>\n",
       "    </tr>\n",
       "    <tr>\n",
       "      <th>2016642</th>\n",
       "      <td>243</td>\n",
       "      <td>winkelbedrijf</td>\n",
       "      <td>0.664740</td>\n",
       "    </tr>\n",
       "    <tr>\n",
       "      <th>1443156</th>\n",
       "      <td>174</td>\n",
       "      <td>oplichting</td>\n",
       "      <td>0.662622</td>\n",
       "    </tr>\n",
       "    <tr>\n",
       "      <th>1042897</th>\n",
       "      <td>126</td>\n",
       "      <td>chalet</td>\n",
       "      <td>0.650922</td>\n",
       "    </tr>\n",
       "    <tr>\n",
       "      <th>1191469</th>\n",
       "      <td>144</td>\n",
       "      <td>boot</td>\n",
       "      <td>0.642733</td>\n",
       "    </tr>\n",
       "  </tbody>\n",
       "</table>\n",
       "</div>"
      ],
      "text/plain": [
       "         document           term     tfidf\n",
       "846311        102      inleiding  1.000000\n",
       "69614           8  kledingwinkel  0.864611\n",
       "168806         20  kledingwinkel  0.850613\n",
       "1549824       187       meerkerk  0.849084\n",
       "868844        105      betrokken  0.836630\n",
       "44088           5    handelsnaam  0.747824\n",
       "2029373       245    minderjarig  0.734323\n",
       "405657         49        bedrijf  0.730678\n",
       "1559082       188         pagina  0.721468\n",
       "1932826       233    tussenkomst  0.716773\n",
       "779213         94          fiets  0.698559\n",
       "2441320       295         hennep  0.695802\n",
       "110308         13         hennep  0.695802\n",
       "2093664       253    geboortedag  0.683285\n",
       "233669         28        filiaal  0.671838\n",
       "1265612       153      betrokken  0.667051\n",
       "2016642       243  winkelbedrijf  0.664740\n",
       "1443156       174     oplichting  0.662622\n",
       "1042897       126         chalet  0.650922\n",
       "1191469       144           boot  0.642733"
      ]
     },
     "execution_count": 13,
     "metadata": {},
     "output_type": "execute_result"
    }
   ],
   "source": [
    "top_idfs[0].sort_values(by=['tfidf'], ascending=[False]).head(20)"
   ]
  },
  {
   "cell_type": "code",
   "execution_count": 14,
   "metadata": {},
   "outputs": [
    {
     "data": {
      "text/html": [
       "<div>\n",
       "<style scoped>\n",
       "    .dataframe tbody tr th:only-of-type {\n",
       "        vertical-align: middle;\n",
       "    }\n",
       "\n",
       "    .dataframe tbody tr th {\n",
       "        vertical-align: top;\n",
       "    }\n",
       "\n",
       "    .dataframe thead th {\n",
       "        text-align: right;\n",
       "    }\n",
       "</style>\n",
       "<table border=\"1\" class=\"dataframe\">\n",
       "  <thead>\n",
       "    <tr style=\"text-align: right;\">\n",
       "      <th></th>\n",
       "      <th>document</th>\n",
       "      <th>term</th>\n",
       "      <th>tfidf</th>\n",
       "    </tr>\n",
       "  </thead>\n",
       "  <tbody>\n",
       "  </tbody>\n",
       "</table>\n",
       "</div>"
      ],
      "text/plain": [
       "Empty DataFrame\n",
       "Columns: [document, term, tfidf]\n",
       "Index: []"
      ]
     },
     "execution_count": 14,
     "metadata": {},
     "output_type": "execute_result"
    }
   ],
   "source": [
    "top_idfs[3][top_idfs[3]['term'].str.contains('hof')]"
   ]
  },
  {
   "cell_type": "code",
   "execution_count": 15,
   "metadata": {},
   "outputs": [],
   "source": [
    "values = []\n",
    "years = ('2018', '2019', '2020', '2021')\n",
    "term = 'kledingwinkel'\n",
    "\n",
    "def avg_terms(data, term):\n",
    "    avg = data[data['term'].str.contains(term)]['tfidf'].mean()\n",
    "    return(avg)\n",
    "    \n",
    "for i in top_idfs:\n",
    "    if term in list(i['term']):\n",
    "        a  = avg_terms(i, term)\n",
    "        values.append(a)\n",
    "    else:\n",
    "        values.append(0)"
   ]
  },
  {
   "cell_type": "code",
   "execution_count": 16,
   "metadata": {},
   "outputs": [
    {
     "data": {
      "image/png": "[encoded data removed]",
      "text/plain": [
       "<Figure size 960x800 with 1 Axes>"
      ]
     },
     "metadata": {
      "needs_background": "light"
     },
     "output_type": "display_data"
    }
   ],
   "source": [
    "x_pos = [0,1,2,3]\n",
    "\n",
    "figure(figsize=(12, 10), dpi=80)\n",
    "\n",
    "plt.plot(values)\n",
    "\n",
    "\n",
    "# Add title and axis names\n",
    "plt.title('Average TF-IDF Scores of term: {}'.format(term))\n",
    "plt.xlabel('Years')\n",
    "plt.ylabel('TF.IDF Scores')\n",
    " \n",
    "# Create names on the x axis\n",
    "plt.xticks(x_pos, years)\n",
    " \n",
    "# Show graph\n",
    "plt.show()"
   ]
  },
  {
   "cell_type": "code",
   "execution_count": 17,
   "metadata": {},
   "outputs": [
    {
     "data": {
      "text/plain": [
       "[0.8576124034348787, 0, 0, 0]"
      ]
     },
     "execution_count": 17,
     "metadata": {},
     "output_type": "execute_result"
    }
   ],
   "source": [
    "values"
   ]
  },
  {
   "cell_type": "code",
   "execution_count": 18,
   "metadata": {},
   "outputs": [
    {
     "data": {
      "text/html": [
       "\n",
       "<div id=\"altair-viz-595715c7d0f14843a9c2594012b0b6b9\"></div>\n",
       "<script type=\"text/javascript\">\n",
       "  var VEGA_DEBUG = (typeof VEGA_DEBUG == \"undefined\") ? {} : VEGA_DEBUG;\n",
       "  (function(spec, embedOpt){\n",
       "    let outputDiv = document.currentScript.previousElementSibling;\n",
       "    if (outputDiv.id !== \"altair-viz-595715c7d0f14843a9c2594012b0b6b9\") {\n",
       "      outputDiv = document.getElementById(\"altair-viz-595715c7d0f14843a9c2594012b0b6b9\");\n",
       "    }\n",
       "    const paths = {\n",
       "      \"vega\": \"https://cdn.jsdelivr.net/npm//vega@5?noext\",\n",
       "      \"vega-lib\": \"https://cdn.jsdelivr.net/npm//vega-lib?noext\",\n",
       "      \"vega-lite\": \"https://cdn.jsdelivr.net/npm//vega-lite@4.17.0?noext\",\n",
       "      \"vega-embed\": \"https://cdn.jsdelivr.net/npm//vega-embed@6?noext\",\n",
       "    };\n",
       "\n",
       "    function maybeLoadScript(lib, version) {\n",
       "      var key = `${lib.replace(\"-\", \"\")}_version`;\n",
       "      return (VEGA_DEBUG[key] == version) ?\n",
       "        Promise.resolve(paths[lib]) :\n",
       "        new Promise(function(resolve, reject) {\n",
       "          var s = document.createElement('script');\n",
       "          document.getElementsByTagName(\"head\")[0].appendChild(s);\n",
       "          s.async = true;\n",
       "          s.onload = () => {\n",
       "            VEGA_DEBUG[key] = version;\n",
       "            return resolve(paths[lib]);\n",
       "          };\n",
       "          s.onerror = () => reject(`Error loading script: ${paths[lib]}`);\n",
       "          s.src = paths[lib];\n",
       "        });\n",
       "    }\n",
       "\n",
       "    function showError(err) {\n",
       "      outputDiv.innerHTML = `<div class=\"error\" style=\"color:red;\">${err}</div>`;\n",
       "      throw err;\n",
       "    }\n",
       "\n",
       "    function displayChart(vegaEmbed) {\n",
       "      vegaEmbed(outputDiv, spec, embedOpt)\n",
       "        .catch(err => showError(`Javascript Error: ${err.message}<br>This usually means there's a typo in your chart specification. See the javascript console for the full traceback.`));\n",
       "    }\n",
       "\n",
       "    if(typeof define === \"function\" && define.amd) {\n",
       "      requirejs.config({paths});\n",
       "      require([\"vega-embed\"], displayChart, err => showError(`Error loading script: ${err.message}`));\n",
       "    } else {\n",
       "      maybeLoadScript(\"vega\", \"5\")\n",
       "        .then(() => maybeLoadScript(\"vega-lite\", \"4.17.0\"))\n",
       "        .then(() => maybeLoadScript(\"vega-embed\", \"6\"))\n",
       "        .catch(showError)\n",
       "        .then(() => displayChart(vegaEmbed));\n",
       "    }\n",
       "  })({\"config\": {\"view\": {\"continuousWidth\": 400, \"continuousHeight\": 300}}, \"layer\": [{\"mark\": \"rect\", \"encoding\": {\"color\": {\"field\": \"tfidf\", \"type\": \"quantitative\"}, \"x\": {\"field\": \"rank\", \"type\": \"ordinal\"}, \"y\": {\"field\": \"document\", \"type\": \"nominal\"}}, \"transform\": [{\"window\": [{\"op\": \"rank\", \"field\": \"\", \"as\": \"rank\"}], \"groupby\": [\"document\"], \"sort\": [{\"field\": \"tfidf\", \"order\": \"descending\"}]}]}, {\"mark\": {\"type\": \"circle\", \"size\": 100}, \"encoding\": {\"color\": {\"condition\": {\"value\": \"red\", \"test\": {\"field\": \"term\", \"oneOf\": [\"kledingwinkel\", \"albert_heijn\"]}}, \"value\": \"#FFFFFF00\"}, \"x\": {\"field\": \"rank\", \"type\": \"ordinal\"}, \"y\": {\"field\": \"document\", \"type\": \"nominal\"}}, \"transform\": [{\"window\": [{\"op\": \"rank\", \"field\": \"\", \"as\": \"rank\"}], \"groupby\": [\"document\"], \"sort\": [{\"field\": \"tfidf\", \"order\": \"descending\"}]}]}, {\"mark\": {\"type\": \"text\", \"baseline\": \"middle\"}, \"encoding\": {\"color\": {\"condition\": {\"value\": \"white\", \"test\": \"(datum.tfidf >= 0.23)\"}, \"value\": \"black\"}, \"text\": {\"field\": \"term\", \"type\": \"nominal\"}, \"x\": {\"field\": \"rank\", \"type\": \"ordinal\"}, \"y\": {\"field\": \"document\", \"type\": \"nominal\"}}, \"transform\": [{\"window\": [{\"op\": \"rank\", \"field\": \"\", \"as\": \"rank\"}], \"groupby\": [\"document\"], \"sort\": [{\"field\": \"tfidf\", \"order\": \"descending\"}]}]}], \"data\": {\"name\": \"data-8a0923bd2edf3b9fccf86110d10fcdcf\"}, \"width\": 1200, \"$schema\": \"https://vega.github.io/schema/vega-lite/v4.17.0.json\", \"datasets\": {\"data-8a0923bd2edf3b9fccf86110d10fcdcf\": [{\"document\": 0, \"term\": \"kind\", \"tfidf\": 0.4501497696715146}, {\"document\": 0, \"term\": \"minderjarig\", \"tfidf\": 0.2774932483437428}, {\"document\": 0, \"term\": \"tandarts\", \"tfidf\": 0.275758741719987}, {\"document\": 0, \"term\": \"geboorteplaats\", \"tfidf\": 0.2615474320792555}, {\"document\": 0, \"term\": \"trein\", \"tfidf\": 0.2416196753295923}, {\"document\": 0, \"term\": \"school\", \"tfidf\": 0.23406270218385253}, {\"document\": 0, \"term\": \"leerkracht\", \"tfidf\": 0.2217772944399673}, {\"document\": 0, \"term\": \"gezag\", \"tfidf\": 0.18126247244316698}, {\"document\": 0, \"term\": \"afspraak\", \"tfidf\": 0.1777906150286837}, {\"document\": 0, \"term\": \"ochtend\", \"tfidf\": 0.1755617556450764}, {\"document\": 1, \"term\": \"still\", \"tfidf\": 0.3807716760121783}, {\"document\": 1, \"term\": \"herkenning\", \"tfidf\": 0.22968131595342986}, {\"document\": 1, \"term\": \"bedrijfsinbraak\", \"tfidf\": 0.2041833057510991}, {\"document\": 1, \"term\": \"honswijck\", \"tfidf\": 0.204176174833506}, {\"document\": 1, \"term\": \"inbraak\", \"tfidf\": 0.20204783198609993}, {\"document\": 1, \"term\": \"camerabeeld\", \"tfidf\": 0.19259334774205464}, {\"document\": 1, \"term\": \"inzittende\", \"tfidf\": 0.19042369189304303}, {\"document\": 1, \"term\": \"tenlastegelegen\", \"tfidf\": 0.18256873395135692}, {\"document\": 1, \"term\": \"tankstation\", \"tfidf\": 0.17305649069716775}, {\"document\": 1, \"term\": \"nacht\", \"tfidf\": 0.1314761156448803}, {\"document\": 2, \"term\": \"celmateriaal\", \"tfidf\": 0.30635113344753007}, {\"document\": 2, \"term\": \"overvaller\", \"tfidf\": 0.2323918482614638}, {\"document\": 2, \"term\": \"dader\", \"tfidf\": 0.23095551835739175}, {\"document\": 2, \"term\": \"bemonstering\", \"tfidf\": 0.20265878401169782}, {\"document\": 2, \"term\": \"kelder\", \"tfidf\": 0.16876841587038666}, {\"document\": 2, \"term\": \"volgen\", \"tfidf\": 0.1607845344303946}, {\"document\": 2, \"term\": \"regenbroek\", \"tfidf\": 0.15911056861681322}, {\"document\": 2, \"term\": \"regenjas\", \"tfidf\": 0.15914862959872855}, {\"document\": 2, \"term\": \"dna\", \"tfidf\": 0.12819678627324624}, {\"document\": 2, \"term\": \"aantreffen\", \"tfidf\": 0.12718028493502848}, {\"document\": 3, \"term\": \"gemeente\", \"tfidf\": 0.42024682890406273}, {\"document\": 3, \"term\": \"zeer_krachtig\", \"tfidf\": 0.37748260743914636}, {\"document\": 3, \"term\": \"keel\", \"tfidf\": 0.2307199232996079}, {\"document\": 3, \"term\": \"drukken\", \"tfidf\": 0.20606159474182997}, {\"document\": 3, \"term\": \"vastgrijpen\", \"tfidf\": 0.19607153713639514}, {\"document\": 3, \"term\": \"hand\", \"tfidf\": 0.18485587788746727}, {\"document\": 3, \"term\": \"uitvoering\", \"tfidf\": 0.18282174677769655}, {\"document\": 3, \"term\": \"armgreep\", \"tfidf\": 0.1735132755512559}, {\"document\": 3, \"term\": \"benemen\", \"tfidf\": 0.17355201344436763}, {\"document\": 3, \"term\": \"dicht\", \"tfidf\": 0.16238774924178023}, {\"document\": 4, \"term\": \"puntig\", \"tfidf\": 0.3261372266956041}, {\"document\": 4, \"term\": \"prikken\", \"tfidf\": 0.30462928519200416}, {\"document\": 4, \"term\": \"linker\", \"tfidf\": 0.2770463824698036}, {\"document\": 4, \"term\": \"snijden\", \"tfidf\": 0.24785072098926425}, {\"document\": 4, \"term\": \"perforeren\", \"tfidf\": 0.2392329479176622}, {\"document\": 4, \"term\": \"mes\", \"tfidf\": 0.20165836977229784}, {\"document\": 4, \"term\": \"steken\", \"tfidf\": 0.19318640056319897}, {\"document\": 4, \"term\": \"kroeg\", \"tfidf\": 0.19243454224808676}, {\"document\": 4, \"term\": \"woest\", \"tfidf\": 0.19247012676238073}, {\"document\": 4, \"term\": \"daarop\", \"tfidf\": 0.1739960781637827}, {\"document\": 5, \"term\": \"handelsnaam\", \"tfidf\": 0.747850562964342}, {\"document\": 5, \"term\": \"getuige\", \"tfidf\": 0.2445505684197005}, {\"document\": 5, \"term\": \"functionaris\", \"tfidf\": 0.18699825932150746}, {\"document\": 5, \"term\": \"verplichten\", \"tfidf\": 0.16387612834939236}, {\"document\": 5, \"term\": \"geheim\", \"tfidf\": 0.15880923643048345}, {\"document\": 5, \"term\": \"mevrouw\", \"tfidf\": 0.15873426937335483}, {\"document\": 5, \"term\": \"bevoegd\", \"tfidf\": 0.15040690231002374}, {\"document\": 5, \"term\": \"politie\", \"tfidf\": 0.1464992947687678}, {\"document\": 5, \"term\": \"opzoeken\", \"tfidf\": 0.14368091749408046}, {\"document\": 5, \"term\": \"bewaren\", \"tfidf\": 0.14084034603713866}, {\"document\": 6, \"term\": \"worsteling\", \"tfidf\": 0.27649846061844763}, {\"document\": 6, \"term\": \"val\", \"tfidf\": 0.27216994753530693}, {\"document\": 6, \"term\": \"parketnumm\", \"tfidf\": 0.23825872953525032}, {\"document\": 6, \"term\": \"letsel\", \"tfidf\": 0.2242453636082161}, {\"document\": 6, \"term\": \"zaak\", \"tfidf\": 0.20629300099775227}, {\"document\": 6, \"term\": \"ontstaan\", \"tfidf\": 0.18799521236616704}, {\"document\": 6, \"term\": \"mishandeling\", \"tfidf\": 0.14724972666734512}, {\"document\": 6, \"term\": \"gewaarwording\", \"tfidf\": 0.14499860301085943}, {\"document\": 6, \"term\": \"tenlastegelegen\", \"tfidf\": 0.1440762923037326}, {\"document\": 6, \"term\": \"veroorzaken\", \"tfidf\": 0.12553458490558006}, {\"document\": 7, \"term\": \"hennepplant\", \"tfidf\": 0.4905568137223661}, {\"document\": 7, \"term\": \"heteren\", \"tfidf\": 0.31510803754010025}, {\"document\": 7, \"term\": \"delen_daarvan\", \"tfidf\": 0.2608771199331691}, {\"document\": 7, \"term\": \"elk_geval\", \"tfidf\": 0.23350395557023126}, {\"document\": 7, \"term\": \"hennep\", \"tfidf\": 0.21982024022270572}, {\"document\": 7, \"term\": \"middel\", \"tfidf\": 0.20013417943426104}, {\"document\": 7, \"term\": \"wet\", \"tfidf\": 0.1866356453566631}, {\"document\": 7, \"term\": \"vermelden\", \"tfidf\": 0.15995558827745746}, {\"document\": 7, \"term\": \"zulks\", \"tfidf\": 0.1575403832188988}, {\"document\": 7, \"term\": \"stroom\", \"tfidf\": 0.14561659144453967}, {\"document\": 8, \"term\": \"kledingwinkel\", \"tfidf\": 0.8646200288882725}, {\"document\": 8, \"term\": \"verwijten\", \"tfidf\": 0.31364386308887493}, {\"document\": 8, \"term\": \"breken\", \"tfidf\": 0.2753101548422212}, {\"document\": 8, \"term\": \"samen\", \"tfidf\": 0.1764095364889547}, {\"document\": 8, \"term\": \"zeggen\", \"tfidf\": 0.15543868449397133}, {\"document\": 8, \"term\": \"kort\", \"tfidf\": 0.15197819862119916}, {\"document\": 8, \"term\": \"aa_flesje\", \"tfidf\": 1.4769322083410697e-05}, {\"document\": 8, \"term\": \"aagg_nl\", \"tfidf\": 6.204478688956584e-05}, {\"document\": 8, \"term\": \"aaik\", \"tfidf\": 9.996151942835474e-06}, {\"document\": 8, \"term\": \"aain_nl\", \"tfidf\": 7.805012164305553e-05}, {\"document\": 9, \"term\": \"schietoefening\", \"tfidf\": 0.3331864870873509}, {\"document\": 9, \"term\": \"wapen\", \"tfidf\": 0.3260115030372421}, {\"document\": 9, \"term\": \"ontlad\", \"tfidf\": 0.22218870204913238}, {\"document\": 9, \"term\": \"sergeant\", \"tfidf\": 0.22218155562971723}, {\"document\": 9, \"term\": \"trekker\", \"tfidf\": 0.2161797550965837}, {\"document\": 9, \"term\": \"schietpunt\", \"tfidf\": 0.19997291908308934}, {\"document\": 9, \"term\": \"schot\", \"tfidf\": 0.1997794196494308}, {\"document\": 9, \"term\": \"bevel\", \"tfidf\": 0.18805075680383693}, {\"document\": 9, \"term\": \"militair\", \"tfidf\": 0.1657962501423407}, {\"document\": 9, \"term\": \"militaire_kamer\", \"tfidf\": 0.15724870329740226}, {\"document\": 10, \"term\": \"herkenning\", \"tfidf\": 0.3684977288476447}, {\"document\": 10, \"term\": \"dader\", \"tfidf\": 0.2849732089896823}, {\"document\": 10, \"term\": \"camerabeeld\", \"tfidf\": 0.26484981373437877}, {\"document\": 10, \"term\": \"geweld\", \"tfidf\": 0.21342556019800135}, {\"document\": 10, \"term\": \"uitvoering\", \"tfidf\": 0.21088392226927724}, {\"document\": 10, \"term\": \"geld\", \"tfidf\": 0.19974462106150925}, {\"document\": 10, \"term\": \"voorhouden\", \"tfidf\": 0.1815098818795187}, {\"document\": 10, \"term\": \"mes\", \"tfidf\": 0.17172640691323332}, {\"document\": 10, \"term\": \"tonen\", \"tfidf\": 0.15443956056773883}, {\"document\": 10, \"term\": \"puntig_voorwerp\", \"tfidf\": 0.15329019752335266}, {\"document\": 11, \"term\": \"straf\", \"tfidf\": 0.25802101322197296}, {\"document\": 11, \"term\": \"kind\", \"tfidf\": 0.24013810662621377}, {\"document\": 11, \"term\": \"werkstraf\", \"tfidf\": 0.22064283958075376}, {\"document\": 11, \"term\": \"relatie\", \"tfidf\": 0.20640794548362149}, {\"document\": 11, \"term\": \"seksueel\", \"tfidf\": 0.20642053635351265}, {\"document\": 11, \"term\": \"komen\", \"tfidf\": 0.15826978783109136}, {\"document\": 11, \"term\": \"ernst\", \"tfidf\": 0.1423128231017026}, {\"document\": 11, \"term\": \"leeftijd\", \"tfidf\": 0.138908523117676}, {\"document\": 11, \"term\": \"verminderen\", \"tfidf\": 0.121352683068173}, {\"document\": 11, \"term\": \"zorg\", \"tfidf\": 0.12142983618172087}, {\"document\": 12, \"term\": \"bierfles\", \"tfidf\": 0.33247391243980623}, {\"document\": 12, \"term\": \"medeverdacht\", \"tfidf\": 0.28022792828325815}, {\"document\": 12, \"term\": \"gezicht\", \"tfidf\": 0.25956129178840365}, {\"document\": 12, \"term\": \"slaan\", \"tfidf\": 0.20622631493260854}, {\"document\": 12, \"term\": \"bank\", \"tfidf\": 0.19036776146566803}, {\"document\": 12, \"term\": \"vriendin\", \"tfidf\": 0.1837850522787296}, {\"document\": 12, \"term\": \"neus\", \"tfidf\": 0.15332687101863995}, {\"document\": 12, \"term\": \"constateren\", \"tfidf\": 0.1456206823702628}, {\"document\": 12, \"term\": \"neusbrug\", \"tfidf\": 0.142651836192771}, {\"document\": 12, \"term\": \"ringving\", \"tfidf\": 0.14261007874660328}, {\"document\": 13, \"term\": \"hennep\", \"tfidf\": 0.6958231029046281}, {\"document\": 13, \"term\": \"gewicht\", \"tfidf\": 0.2603321778326599}, {\"document\": 13, \"term\": \"droog\", \"tfidf\": 0.21035843009819802}, {\"document\": 13, \"term\": \"vochtgehalte\", \"tfidf\": 0.21037933617972837}, {\"document\": 13, \"term\": \"drogen\", \"tfidf\": 0.19959743613569686}, {\"document\": 13, \"term\": \"nat\", \"tfidf\": 0.1995518565272421}, {\"document\": 13, \"term\": \"kilogram\", \"tfidf\": 0.1736167894146938}, {\"document\": 13, \"term\": \"belang\", \"tfidf\": 0.12163545394180672}, {\"document\": 13, \"term\": \"bewerken\", \"tfidf\": 0.1215721302514954}, {\"document\": 13, \"term\": \"drog\", \"tfidf\": 0.10522998864461357}, {\"document\": 14, \"term\": \"nek\", \"tfidf\": 0.42995883391641143}, {\"document\": 14, \"term\": \"afknellen\", \"tfidf\": 0.30642640956766204}, {\"document\": 14, \"term\": \"knel\", \"tfidf\": 0.3064424454583604}, {\"document\": 14, \"term\": \"wurggreep\", \"tfidf\": 0.3064287056728632}, {\"document\": 14, \"term\": \"duim\", \"tfidf\": 0.27853904109919786}, {\"document\": 14, \"term\": \"kracht\", \"tfidf\": 0.214172271632884}, {\"document\": 14, \"term\": \"val\", \"tfidf\": 0.20563540838428443}, {\"document\": 14, \"term\": \"auto\", \"tfidf\": 0.19481980478346625}, {\"document\": 14, \"term\": \"meermalen\", \"tfidf\": 0.1652379805269372}, {\"document\": 14, \"term\": \"elk_geval\", \"tfidf\": 0.16157864824959903}, {\"document\": 15, \"term\": \"paspoort\", \"tfidf\": 0.45839845789269673}, {\"document\": 15, \"term\": \"pasfoto\", \"tfidf\": 0.39120675853502646}, {\"document\": 15, \"term\": \"reisdocument\", \"tfidf\": 0.3647896621346817}, {\"document\": 15, \"term\": \"artikel\", \"tfidf\": 0.15879253056014686}, {\"document\": 15, \"term\": \"documentnummer\", \"tfidf\": 0.15653896400333817}, {\"document\": 15, \"term\": \"beroep\", \"tfidf\": 0.15456198030670082}, {\"document\": 15, \"term\": \"burgemeester\", \"tfidf\": 0.145906003901326}, {\"document\": 15, \"term\": \"vonnis_waarvan\", \"tfidf\": 0.14298165201043952}, {\"document\": 15, \"term\": \"raadsman\", \"tfidf\": 0.13023032476300087}, {\"document\": 15, \"term\": \"nationaal\", \"tfidf\": 0.12791435760014638}, {\"document\": 16, \"term\": \"sliding\", \"tfidf\": 0.4190952624014766}, {\"document\": 16, \"term\": \"tackelen\", \"tfidf\": 0.390784882592712}, {\"document\": 16, \"term\": \"been\", \"tfidf\": 0.35655228067733447}, {\"document\": 16, \"term\": \"achteren\", \"tfidf\": 0.2786916418623092}, {\"document\": 16, \"term\": \"grovelijk\", \"tfidf\": 0.20959281264946564}, {\"document\": 16, \"term\": \"kruisband\", \"tfidf\": 0.20950620298919734}, {\"document\": 16, \"term\": \"linkerknie\", \"tfidf\": 0.20953232253374587}, {\"document\": 16, \"term\": \"nalatig\", \"tfidf\": 0.19538466652022207}, {\"document\": 16, \"term\": \"scheur\", \"tfidf\": 0.19539708331068897}, {\"document\": 16, \"term\": \"scheuren\", \"tfidf\": 0.185450734625329}, {\"document\": 17, \"term\": \"politieshirt\", \"tfidf\": 0.6132553639661676}, {\"document\": 17, \"term\": \"shirt\", \"tfidf\": 0.3072440778104774}, {\"document\": 17, \"term\": \"betreffen\", \"tfidf\": 0.20569385685338215}, {\"document\": 17, \"term\": \"prijs\", \"tfidf\": 0.18234067477125862}, {\"document\": 17, \"term\": \"kledingstuk\", \"tfidf\": 0.17165210852260476}, {\"document\": 17, \"term\": \"verkrijgen\", \"tfidf\": 0.14116836096975524}, {\"document\": 17, \"term\": \"afkomstig\", \"tfidf\": 0.13654491135355865}, {\"document\": 17, \"term\": \"kleding\", \"tfidf\": 0.13090670449509448}, {\"document\": 17, \"term\": \"misdrijf\", \"tfidf\": 0.12599647053431126}, {\"document\": 17, \"term\": \"echt\", \"tfidf\": 0.11797233448437726}, {\"document\": 18, \"term\": \"ongeval\", \"tfidf\": 0.3322126640642813}, {\"document\": 18, \"term\": \"fietser\", \"tfidf\": 0.32726539635668483}, {\"document\": 18, \"term\": \"audi\", \"tfidf\": 0.3055595222171896}, {\"document\": 18, \"term\": \"bestuurder\", \"tfidf\": 0.19432778082922816}, {\"document\": 18, \"term\": \"krimpenerbosweg\", \"tfidf\": 0.1820510264102673}, {\"document\": 18, \"term\": \"middenberm\", \"tfidf\": 0.18203241742774087}, {\"document\": 18, \"term\": \"krimp\", \"tfidf\": 0.16977959938550383}, {\"document\": 18, \"term\": \"verkeersongeval\", \"tfidf\": 0.16804086248640268}, {\"document\": 18, \"term\": \"motorrijtuig\", \"tfidf\": 0.16001500683662256}, {\"document\": 18, \"term\": \"weg\", \"tfidf\": 0.1512921748620179}, {\"document\": 19, \"term\": \"lichaam\", \"tfidf\": 0.28668289693333343}, {\"document\": 19, \"term\": \"nauw\", \"tfidf\": 0.2656287592356889}, {\"document\": 19, \"term\": \"geweldpleging\", \"tfidf\": 0.2511203921823852}, {\"document\": 19, \"term\": \"leidsestraat\", \"tfidf\": 0.2511565009097581}, {\"document\": 19, \"term\": \"voornoemd\", \"tfidf\": 0.24475253279820447}, {\"document\": 19, \"term\": \"genoegzaam\", \"tfidf\": 0.2052780106212794}, {\"document\": 19, \"term\": \"opgemaakt\", \"tfidf\": 0.20529272398740067}, {\"document\": 19, \"term\": \"bewijsverweer\", \"tfidf\": 0.1988405400402703}, {\"document\": 19, \"term\": \"hoofd\", \"tfidf\": 0.1984928513160666}, {\"document\": 19, \"term\": \"medeverdacht\", \"tfidf\": 0.19735130044212626}, {\"document\": 20, \"term\": \"kledingwinkel\", \"tfidf\": 0.8506493600145101}, {\"document\": 20, \"term\": \"verwijten\", \"tfidf\": 0.3085826051550867}, {\"document\": 20, \"term\": \"breken\", \"tfidf\": 0.2708487598156935}, {\"document\": 20, \"term\": \"medeverdacht\", \"tfidf\": 0.1792836026621329}, {\"document\": 20, \"term\": \"samen\", \"tfidf\": 0.17358298603522068}, {\"document\": 20, \"term\": \"zeggen\", \"tfidf\": 0.15288319840663753}, {\"document\": 20, \"term\": \"kort\", \"tfidf\": 0.14954720576927122}, {\"document\": 20, \"term\": \"aa_flesje\", \"tfidf\": 9.583927072436479e-05}, {\"document\": 20, \"term\": \"aagg_nl\", \"tfidf\": 1.6126631712497153e-05}, {\"document\": 20, \"term\": \"aaik\", \"tfidf\": 7.613183341375575e-05}, {\"document\": 21, \"term\": \"filmen\", \"tfidf\": 0.5088926020845722}, {\"document\": 21, \"term\": \"opname\", \"tfidf\": 0.3001138658170237}, {\"document\": 21, \"term\": \"gsm\", \"tfidf\": 0.21536894437878568}, {\"document\": 21, \"term\": \"toestemming\", \"tfidf\": 0.2061032578440722}, {\"document\": 21, \"term\": \"meisje\", \"tfidf\": 0.1971636775243799}, {\"document\": 21, \"term\": \"omkled\", \"tfidf\": 0.15488136634084376}, {\"document\": 21, \"term\": \"aangifte\", \"tfidf\": 0.1500111495484375}, {\"document\": 21, \"term\": \"proces_verbaal\", \"tfidf\": 0.13992472693690758}, {\"document\": 21, \"term\": \"texel\", \"tfidf\": 0.13278601023664333}, {\"document\": 21, \"term\": \"passen\", \"tfidf\": 0.12641781913275368}, {\"document\": 22, \"term\": \"beroep\", \"tfidf\": 0.3763695351452978}, {\"document\": 22, \"term\": \"vonnis_waarvan\", \"tfidf\": 0.3482303756475609}, {\"document\": 22, \"term\": \"springen\", \"tfidf\": 0.2625615508049784}, {\"document\": 22, \"term\": \"val\", \"tfidf\": 0.2384316509066391}, {\"document\": 22, \"term\": \"rennen\", \"tfidf\": 0.21863550970850337}, {\"document\": 22, \"term\": \"noodweerexce\", \"tfidf\": 0.19062226336084234}, {\"document\": 22, \"term\": \"ontslaan\", \"tfidf\": 0.19060101767590518}, {\"document\": 22, \"term\": \"mishandelen\", \"tfidf\": 0.16883014763739568}, {\"document\": 22, \"term\": \"krabben\", \"tfidf\": 0.1686372409684995}, {\"document\": 22, \"term\": \"lopen\", \"tfidf\": 0.15954800257990792}, {\"document\": 23, \"term\": \"woonplaats\", \"tfidf\": 0.35981748261202523}, {\"document\": 23, \"term\": \"vuurwapen\", \"tfidf\": 0.25426409164449204}, {\"document\": 23, \"term\": \"kogel\", \"tfidf\": 0.24700513630518534}, {\"document\": 23, \"term\": \"gemeente\", \"tfidf\": 0.24004249678395156}, {\"document\": 23, \"term\": \"tezamen\", \"tfidf\": 0.20973230763958114}, {\"document\": 23, \"term\": \"personenauto\", \"tfidf\": 0.2056903161282194}, {\"document\": 23, \"term\": \"alleen\", \"tfidf\": 0.20070404011891474}, {\"document\": 23, \"term\": \"vereniging\", \"tfidf\": 0.19687432939982336}, {\"document\": 23, \"term\": \"strafzaak\", \"tfidf\": 0.18189273036944056}, {\"document\": 23, \"term\": \"politieshirts\", \"tfidf\": 0.17928900469590883}, {\"document\": 24, \"term\": \"medeverdacht\", \"tfidf\": 0.34735350267299425}, {\"document\": 24, \"term\": \"herkenning\", \"tfidf\": 0.3313823112776142}, {\"document\": 24, \"term\": \"dader\", \"tfidf\": 0.29906037086474446}, {\"document\": 24, \"term\": \"woning\", \"tfidf\": 0.26768553921490124}, {\"document\": 24, \"term\": \"berkel\", \"tfidf\": 0.26073614809144524}, {\"document\": 24, \"term\": \"bleiswijk\", \"tfidf\": 0.1373762947594006}, {\"document\": 24, \"term\": \"lansingerland\", \"tfidf\": 0.13742667455596347}, {\"document\": 24, \"term\": \"pandora\", \"tfidf\": 0.13745448936671928}, {\"document\": 24, \"term\": \"rodenrij\", \"tfidf\": 0.137459603638993}, {\"document\": 24, \"term\": \"aanhouding\", \"tfidf\": 0.13295166854340043}, {\"document\": 25, \"term\": \"getuige\", \"tfidf\": 0.40781643459596206}, {\"document\": 25, \"term\": \"verplichten\", \"tfidf\": 0.2733584328528898}, {\"document\": 25, \"term\": \"geheim\", \"tfidf\": 0.2648256990335637}, {\"document\": 25, \"term\": \"mevrouw\", \"tfidf\": 0.26485015999397515}, {\"document\": 25, \"term\": \"politie\", \"tfidf\": 0.2443266785269223}, {\"document\": 25, \"term\": \"opzoeken\", \"tfidf\": 0.23966676632850553}, {\"document\": 25, \"term\": \"bewaren\", \"tfidf\": 0.2347948603008425}, {\"document\": 25, \"term\": \"schenden\", \"tfidf\": 0.23485162903997292}, {\"document\": 25, \"term\": \"kamer\", \"tfidf\": 0.21224124534005448}, {\"document\": 25, \"term\": \"werkzaam\", \"tfidf\": 0.2036769601075029}, {\"document\": 26, \"term\": \"voorgenoemde\", \"tfidf\": 0.33990276275433257}, {\"document\": 26, \"term\": \"verschaffen\", \"tfidf\": 0.22947657330064944}, {\"document\": 26, \"term\": \"plaats\", \"tfidf\": 0.20922775152797166}, {\"document\": 26, \"term\": \"medeverdachen\", \"tfidf\": 0.2040247691339872}, {\"document\": 26, \"term\": \"woning\", \"tfidf\": 0.1970941054287002}, {\"document\": 26, \"term\": \"weg\", \"tfidf\": 0.1956483705188568}, {\"document\": 26, \"term\": \"misdrijf\", \"tfidf\": 0.18717629181599782}, {\"document\": 26, \"term\": \"verbreking\", \"tfidf\": 0.18564035188568453}, {\"document\": 26, \"term\": \"braak\", \"tfidf\": 0.18142360757934417}, {\"document\": 26, \"term\": \"bereik\", \"tfidf\": 0.16742579466485025}, {\"document\": 27, \"term\": \"stijgen\", \"tfidf\": 0.4828205555873571}, {\"document\": 27, \"term\": \"motorrijtuig\", \"tfidf\": 0.379216373894079}, {\"document\": 27, \"term\": \"rijden\", \"tfidf\": 0.30912432206040713}, {\"document\": 27, \"term\": \"adres\", \"tfidf\": 0.21541796224429044}, {\"document\": 27, \"term\": \"scooter\", \"tfidf\": 0.1897702833780846}, {\"document\": 27, \"term\": \"bestuurder\", \"tfidf\": 0.18429411759548406}, {\"document\": 27, \"term\": \"ongeval\", \"tfidf\": 0.173130898529872}, {\"document\": 27, \"term\": \"woonplaats\", \"tfidf\": 0.16967120933706925}, {\"document\": 27, \"term\": \"veroorzaken\", \"tfidf\": 0.16653368328310567}, {\"document\": 27, \"term\": \"verkeersongeval\", \"tfidf\": 0.151845692587656}, {\"document\": 28, \"term\": \"filiaal\", \"tfidf\": 0.6719078809923215}, {\"document\": 28, \"term\": \"brood\", \"tfidf\": 0.40712191885236043}, {\"document\": 28, \"term\": \"albert_heijn\", \"tfidf\": 0.37012942669798166}, {\"document\": 28, \"term\": \"winkelbedrijf\", \"tfidf\": 0.3568388633287792}, {\"document\": 28, \"term\": \"toeeigening\", \"tfidf\": 0.2173371279252719}, {\"document\": 28, \"term\": \"wegnemen\", \"tfidf\": 0.1579059126115004}, {\"document\": 28, \"term\": \"enig_goed\", \"tfidf\": 0.15043943681679112}, {\"document\": 28, \"term\": \"geheel\", \"tfidf\": 0.12417536347759432}, {\"document\": 28, \"term\": \"laste_gelegd\", \"tfidf\": 0.09211809293759154}, {\"document\": 28, \"term\": \"aa_flesje\", \"tfidf\": 5.7012029099940315e-05}, {\"document\": 29, \"term\": \"kruidvat\", \"tfidf\": 0.38231104977129193}, {\"document\": 29, \"term\": \"landelijk\", \"tfidf\": 0.3626435640125197}, {\"document\": 29, \"term\": \"vervangen\", \"tfidf\": 0.3475095189411658}, {\"document\": 29, \"term\": \"winkeldiefstal\", \"tfidf\": 0.34744257790776506}, {\"document\": 29, \"term\": \"onderneming\", \"tfidf\": 0.324511598626403}, {\"document\": 29, \"term\": \"bespreken\", \"tfidf\": 0.2726411909710718}, {\"document\": 29, \"term\": \"vestigen\", \"tfidf\": 0.2640909838882766}, {\"document\": 29, \"term\": \"bewijsmiddel\", \"tfidf\": 0.24170051840266557}, {\"document\": 29, \"term\": \"verhoor\", \"tfidf\": 0.19773407617933325}, {\"document\": 29, \"term\": \"voeren\", \"tfidf\": 0.19774960185173568}, {\"document\": 30, \"term\": \"vordering\", \"tfidf\": 0.27499653075896335}, {\"document\": 30, \"term\": \"organisatie\", \"tfidf\": 0.2530539414980306}, {\"document\": 30, \"term\": \"rijbewijs\", \"tfidf\": 0.224035982934732}, {\"document\": 30, \"term\": \"hertogenbosch\", \"tfidf\": 0.19587773338512682}, {\"document\": 30, \"term\": \"vals\", \"tfidf\": 0.15279761621490745}, {\"document\": 30, \"term\": \"euro\", \"tfidf\": 0.13600321621249806}, {\"document\": 30, \"term\": \"rekeningnummer\", \"tfidf\": 0.13543676047562042}, {\"document\": 30, \"term\": \"schade\", \"tfidf\": 0.13080894058745848}, {\"document\": 30, \"term\": \"bankrekening\", \"tfidf\": 0.12265624021458725}, {\"document\": 30, \"term\": \"gegeven\", \"tfidf\": 0.12222513661818504}, {\"document\": 31, \"term\": \"badschuim\", \"tfidf\": 0.3186986721078684}, {\"document\": 31, \"term\": \"eto\", \"tfidf\": 0.31866498071997845}, {\"document\": 31, \"term\": \"nivea\", \"tfidf\": 0.31866871632500476}, {\"document\": 31, \"term\": \"vonnis_waarvan\", \"tfidf\": 0.291179105187137}, {\"document\": 31, \"term\": \"vordering\", \"tfidf\": 0.2654565400100789}, {\"document\": 31, \"term\": \"beroep\", \"tfidf\": 0.23608299495920568}, {\"document\": 31, \"term\": \"fles\", \"tfidf\": 0.22371784381607596}, {\"document\": 31, \"term\": \"gravenhage\", \"tfidf\": 0.21953997030002684}, {\"document\": 31, \"term\": \"vestigen\", \"tfidf\": 0.20528716462185187}, {\"document\": 31, \"term\": \"vorderen\", \"tfidf\": 0.1718307331374694}, {\"document\": 32, \"term\": \"klui\", \"tfidf\": 0.4125810039629319}, {\"document\": 32, \"term\": \"polis\", \"tfidf\": 0.4125975382483491}, {\"document\": 32, \"term\": \"siera\", \"tfidf\": 0.4126115952991121}, {\"document\": 32, \"term\": \"sen\", \"tfidf\": 0.2790943252388018}, {\"document\": 32, \"term\": \"euro\", \"tfidf\": 0.2124776166122502}, {\"document\": 32, \"term\": \"delict\", \"tfidf\": 0.2053969191434856}, {\"document\": 32, \"term\": \"toeeigening\", \"tfidf\": 0.20541821994321868}, {\"document\": 32, \"term\": \"totaal\", \"tfidf\": 0.20054965859307552}, {\"document\": 32, \"term\": \"ongeveer\", \"tfidf\": 0.17277465628406327}, {\"document\": 32, \"term\": \"geld\", \"tfidf\": 0.16772301442836407}, {\"document\": 33, \"term\": \"nek\", \"tfidf\": 0.42995541904836915}, {\"document\": 33, \"term\": \"afknellen\", \"tfidf\": 0.30637613910894135}, {\"document\": 33, \"term\": \"knel\", \"tfidf\": 0.3064298534922526}, {\"document\": 33, \"term\": \"wurggreep\", \"tfidf\": 0.3064681725007472}, {\"document\": 33, \"term\": \"duim\", \"tfidf\": 0.27852932485261245}, {\"document\": 33, \"term\": \"kracht\", \"tfidf\": 0.21418484491079495}, {\"document\": 33, \"term\": \"val\", \"tfidf\": 0.20564120442435446}, {\"document\": 33, \"term\": \"auto\", \"tfidf\": 0.19478400311770241}, {\"document\": 33, \"term\": \"meermalen\", \"tfidf\": 0.16522132231746162}, {\"document\": 33, \"term\": \"elk_geval\", \"tfidf\": 0.16155625673229038}, {\"document\": 34, \"term\": \"cafe\", \"tfidf\": 0.42915050320452797}, {\"document\": 34, \"term\": \"getuige\", \"tfidf\": 0.3201332815643171}, {\"document\": 34, \"term\": \"jongen\", \"tfidf\": 0.26108473816681727}, {\"document\": 34, \"term\": \"aanloop\", \"tfidf\": 0.17819945592146985}, {\"document\": 34, \"term\": \"nummeren\", \"tfidf\": 0.16876375078693695}, {\"document\": 34, \"term\": \"pl\", \"tfidf\": 0.16874649377918693}, {\"document\": 34, \"term\": \"tackle\", \"tfidf\": 0.16880582512198036}, {\"document\": 34, \"term\": \"grijpen\", \"tfidf\": 0.16880036130388873}, {\"document\": 34, \"term\": \"onverhoeds\", \"tfidf\": 0.16477638995431465}, {\"document\": 34, \"term\": \"verhogen\", \"tfidf\": 0.1574245218238834}, {\"document\": 35, \"term\": \"medeverdacht\", \"tfidf\": 0.5008112114742792}, {\"document\": 35, \"term\": \"verhoor\", \"tfidf\": 0.24587465752226198}, {\"document\": 35, \"term\": \"suggestie\", \"tfidf\": 0.2039196182728121}, {\"document\": 35, \"term\": \"vuurwapen\", \"tfidf\": 0.17352459886871605}, {\"document\": 35, \"term\": \"gebruiken\", \"tfidf\": 0.14337950261367596}, {\"document\": 35, \"term\": \"laat\", \"tfidf\": 0.13823149126833637}, {\"document\": 35, \"term\": \"dna\", \"tfidf\": 0.13136379037964205}, {\"document\": 35, \"term\": \"elektrisch\", \"tfidf\": 0.12966404782390717}, {\"document\": 35, \"term\": \"medeverdachen\", \"tfidf\": 0.12109505882475165}, {\"document\": 35, \"term\": \"noemen\", \"tfidf\": 0.12090392700365264}, {\"document\": 36, \"term\": \"koord\", \"tfidf\": 0.44183246910408625}, {\"document\": 36, \"term\": \"touw\", \"tfidf\": 0.34979483056841115}, {\"document\": 36, \"term\": \"vastbinden\", \"tfidf\": 0.33133296582336663}, {\"document\": 36, \"term\": \"binden\", \"tfidf\": 0.32356543244753744}, {\"document\": 36, \"term\": \"bed\", \"tfidf\": 0.2938418458346413}, {\"document\": 36, \"term\": \"kind\", \"tfidf\": 0.26912532553731733}, {\"document\": 36, \"term\": \"tijdstip_pen\", \"tfidf\": 0.26912186843991587}, {\"document\": 36, \"term\": \"arm\", \"tfidf\": 0.20534249480088673}, {\"document\": 36, \"term\": \"mishandelen\", \"tfidf\": 0.19571333833463184}, {\"document\": 36, \"term\": \"laten\", \"tfidf\": 0.18727859055646212}, {\"document\": 37, \"term\": \"hennepplant\", \"tfidf\": 0.5318870818585776}, {\"document\": 37, \"term\": \"loods\", \"tfidf\": 0.28953334087161975}, {\"document\": 37, \"term\": \"hennep\", \"tfidf\": 0.2382886542302212}, {\"document\": 37, \"term\": \"pand\", \"tfidf\": 0.22937489533530694}, {\"document\": 37, \"term\": \"tijdstip\", \"tfidf\": 0.18342247116848362}, {\"document\": 37, \"term\": \"wijch\", \"tfidf\": 0.18007419605527905}, {\"document\": 37, \"term\": \"wijchen\", \"tfidf\": 0.1801173580244061}, {\"document\": 37, \"term\": \"ongeveer\", \"tfidf\": 0.16167386056075245}, {\"document\": 37, \"term\": \"telkens\", \"tfidf\": 0.14622845633764617}, {\"document\": 37, \"term\": \"bestuur\", \"tfidf\": 0.14482985895222847}, {\"document\": 38, \"term\": \"vagina\", \"tfidf\": 0.38282226377784145}, {\"document\": 38, \"term\": \"borst\", \"tfidf\": 0.3055718682079645}, {\"document\": 38, \"term\": \"heerhugowaard\", \"tfidf\": 0.23116260795645918}, {\"document\": 38, \"term\": \"naakt\", \"tfidf\": 0.2086394859226327}, {\"document\": 38, \"term\": \"leeftijd\", \"tfidf\": 0.19377285877081357}, {\"document\": 38, \"term\": \"versturen\", \"tfidf\": 0.18927136601120106}, {\"document\": 38, \"term\": \"telkens\", \"tfidf\": 0.17493227646922624}, {\"document\": 38, \"term\": \"kleding\", \"tfidf\": 0.17438111521079303}, {\"document\": 38, \"term\": \"alkmaar\", \"tfidf\": 0.16931373794940005}, {\"document\": 38, \"term\": \"foto\", \"tfidf\": 0.16419410557641817}, {\"document\": 39, \"term\": \"kwartaal\", \"tfidf\": 0.5458910875884176}, {\"document\": 39, \"term\": \"plof\", \"tfidf\": 0.5138174331406803}, {\"document\": 39, \"term\": \"aangifte\", \"tfidf\": 0.24497008935673165}, {\"document\": 39, \"term\": \"betrekking\", \"tfidf\": 0.17172962360731184}, {\"document\": 39, \"term\": \"telkens\", \"tfidf\": 0.14587578841260482}, {\"document\": 39, \"term\": \"belasting\", \"tfidf\": 0.1361322956163167}, {\"document\": 39, \"term\": \"heffen\", \"tfidf\": 0.13612494746994186}, {\"document\": 39, \"term\": \"factu\", \"tfidf\": 0.12853229876330158}, {\"document\": 39, \"term\": \"reeuwijk\", \"tfidf\": 0.1285293359677325}, {\"document\": 39, \"term\": \"apeldoorn\", \"tfidf\": 0.11364163321864464}, {\"document\": 40, \"term\": \"bestelbus\", \"tfidf\": 0.4771907131719461}, {\"document\": 40, \"term\": \"loods\", \"tfidf\": 0.3288874799064586}, {\"document\": 40, \"term\": \"medeverdacht\", \"tfidf\": 0.28726213081133506}, {\"document\": 40, \"term\": \"bavel\", \"tfidf\": 0.26809293558422315}, {\"document\": 40, \"term\": \"amfetamine\", \"tfidf\": 0.18749284589475962}, {\"document\": 40, \"term\": \"geldrop\", \"tfidf\": 0.17058343961820885}, {\"document\": 40, \"term\": \"jerrycan\", \"tfidf\": 0.1652888668277423}, {\"document\": 40, \"term\": \"zoutzuur\", \"tfidf\": 0.14620656033361634}, {\"document\": 40, \"term\": \"opslag\", \"tfidf\": 0.14462447069455145}, {\"document\": 40, \"term\": \"vaten\", \"tfidf\": 0.1363784293228674}, {\"document\": 41, \"term\": \"hennepkwekerij\", \"tfidf\": 0.35682327233137656}, {\"document\": 41, \"term\": \"pand\", \"tfidf\": 0.22039921780445426}, {\"document\": 41, \"term\": \"woonplaats\", \"tfidf\": 0.21284471097818503}, {\"document\": 41, \"term\": \"aantreffen\", \"tfidf\": 0.20740723128439764}, {\"document\": 41, \"term\": \"ruimte\", \"tfidf\": 0.20607490296564915}, {\"document\": 41, \"term\": \"hennep\", \"tfidf\": 0.20036852353653478}, {\"document\": 41, \"term\": \"medeverdacht\", \"tfidf\": 0.18223870160931324}, {\"document\": 41, \"term\": \"adres\", \"tfidf\": 0.17836756770613735}, {\"document\": 41, \"term\": \"hennepplantage\", \"tfidf\": 0.17298459598040755}, {\"document\": 41, \"term\": \"hennepplant\", \"tfidf\": 0.1597424664985164}, {\"document\": 42, \"term\": \"voetganger\", \"tfidf\": 0.35916539370572703}, {\"document\": 42, \"term\": \"ongeval\", \"tfidf\": 0.283669013248897}, {\"document\": 42, \"term\": \"rijden\", \"tfidf\": 0.2815606698140597}, {\"document\": 42, \"term\": \"aanrijding\", \"tfidf\": 0.23022251150393144}, {\"document\": 42, \"term\": \"rijbewijs\", \"tfidf\": 0.18918458800449514}, {\"document\": 42, \"term\": \"fietser\", \"tfidf\": 0.16516137075522486}, {\"document\": 42, \"term\": \"epilepsie\", \"tfidf\": 0.15722339509750963}, {\"document\": 42, \"term\": \"weg\", \"tfidf\": 0.13994269920131677}, {\"document\": 42, \"term\": \"verkeersongeval\", \"tfidf\": 0.1382138548434782}, {\"document\": 42, \"term\": \"keuringsarts\", \"tfidf\": 0.13471098789404193}, {\"document\": 43, \"term\": \"letsel\", \"tfidf\": 0.38352927797732084}, {\"document\": 43, \"term\": \"ondeugdelijk\", \"tfidf\": 0.3468731501666597}, {\"document\": 43, \"term\": \"souvenir\", \"tfidf\": 0.24803270177217115}, {\"document\": 43, \"term\": \"honkbalknuppel\", \"tfidf\": 0.21024567708029412}, {\"document\": 43, \"term\": \"toebreng\", \"tfidf\": 0.1648826049389746}, {\"document\": 43, \"term\": \"stelen\", \"tfidf\": 0.15109733305711617}, {\"document\": 43, \"term\": \"middel\", \"tfidf\": 0.13937201472801053}, {\"document\": 43, \"term\": \"slaan\", \"tfidf\": 0.1345617299326357}, {\"document\": 43, \"term\": \"dergelijk\", \"tfidf\": 0.13242230864045942}, {\"document\": 43, \"term\": \"uitvoering\", \"tfidf\": 0.1306200988887906}, {\"document\": 44, \"term\": \"veroordelen\", \"tfidf\": 0.5652571972231291}, {\"document\": 44, \"term\": \"voordeel\", \"tfidf\": 0.4148097946103869}, {\"document\": 44, \"term\": \"onderneming\", \"tfidf\": 0.2731383114313762}, {\"document\": 44, \"term\": \"berekening\", \"tfidf\": 0.15171908495733546}, {\"document\": 44, \"term\": \"genieten\", \"tfidf\": 0.14749471158087443}, {\"document\": 44, \"term\": \"client\", \"tfidf\": 0.13566642613974494}, {\"document\": 44, \"term\": \"ontneming\", \"tfidf\": 0.13568641793812677}, {\"document\": 44, \"term\": \"belasting\", \"tfidf\": 0.1299907389324487}, {\"document\": 44, \"term\": \"lening\", \"tfidf\": 0.12999028270323096}, {\"document\": 44, \"term\": \"betalen\", \"tfidf\": 0.12395700540864045}, {\"document\": 45, \"term\": \"minuut\", \"tfidf\": 0.2719705750966797}, {\"document\": 45, \"term\": \"alleen\", \"tfidf\": 0.2531801987630531}, {\"document\": 45, \"term\": \"duwen\", \"tfidf\": 0.2233016861101082}, {\"document\": 45, \"term\": \"feitelijkheid\", \"tfidf\": 0.22188248863126414}, {\"document\": 45, \"term\": \"poot\", \"tfidf\": 0.19174779981095266}, {\"document\": 45, \"term\": \"geweld\", \"tfidf\": 0.17678860410669484}, {\"document\": 45, \"term\": \"mede_bestonden\", \"tfidf\": 0.17401105360495175}, {\"document\": 45, \"term\": \"gelijke_aard\", \"tfidf\": 0.16959586155280515}, {\"document\": 45, \"term\": \"ondergaan\", \"tfidf\": 0.1695662722400051}, {\"document\": 45, \"term\": \"pols\", \"tfidf\": 0.16963834339416053}, {\"document\": 46, \"term\": \"mierd\", \"tfidf\": 0.5170339452841818}, {\"document\": 46, \"term\": \"militaire_kamer\", \"tfidf\": 0.45741951771407136}, {\"document\": 46, \"term\": \"meerdere_mal\", \"tfidf\": 0.31089187948369945}, {\"document\": 46, \"term\": \"stomp\", \"tfidf\": 0.31094627320582663}, {\"document\": 46, \"term\": \"wijziging\", \"tfidf\": 0.27605583328791966}, {\"document\": 46, \"term\": \"duwen\", \"tfidf\": 0.25532550350452005}, {\"document\": 46, \"term\": \"mishandelen\", \"tfidf\": 0.22908195898712616}, {\"document\": 46, \"term\": \"kracht\", \"tfidf\": 0.22467861565607458}, {\"document\": 46, \"term\": \"gemeente\", \"tfidf\": 0.19782312814287123}, {\"document\": 46, \"term\": \"slaan\", \"tfidf\": 0.18701088148716055}, {\"document\": 47, \"term\": \"afbeelding\", \"tfidf\": 0.3580356760797769}, {\"document\": 47, \"term\": \"insmeren\", \"tfidf\": 0.2631074646737832}, {\"document\": 47, \"term\": \"verspreid\", \"tfidf\": 0.2631171557357216}, {\"document\": 47, \"term\": \"gegevensdrager\", \"tfidf\": 0.2115397107415128}, {\"document\": 47, \"term\": \"verspreiden\", \"tfidf\": 0.1980556692992044}, {\"document\": 47, \"term\": \"foto\", \"tfidf\": 0.19131068306388713}, {\"document\": 47, \"term\": \"bezit\", \"tfidf\": 0.16958896904549545}, {\"document\": 47, \"term\": \"been\", \"tfidf\": 0.16001616296069043}, {\"document\": 47, \"term\": \"aanbied\", \"tfidf\": 0.14106108453847116}, {\"document\": 47, \"term\": \"opgewonden\", \"tfidf\": 0.14104412678896375}, {\"document\": 48, \"term\": \"veroordelen\", \"tfidf\": 0.45030422583713464}, {\"document\": 48, \"term\": \"voordeel\", \"tfidf\": 0.4422729126045149}, {\"document\": 48, \"term\": \"bedrijf\", \"tfidf\": 0.2859804450798518}, {\"document\": 48, \"term\": \"berekening\", \"tfidf\": 0.2218677019372251}, {\"document\": 48, \"term\": \"winstverdeling\", \"tfidf\": 0.17419026924920414}, {\"document\": 48, \"term\": \"factuur\", \"tfidf\": 0.17106496456981468}, {\"document\": 48, \"term\": \"inkomst\", \"tfidf\": 0.16083901531811165}, {\"document\": 48, \"term\": \"beslag\", \"tfidf\": 0.14787596873638728}, {\"document\": 48, \"term\": \"persoon\", \"tfidf\": 0.14713849630944587}, {\"document\": 48, \"term\": \"zorgfraud\", \"tfidf\": 0.12394034523314089}, {\"document\": 49, \"term\": \"bedrijf\", \"tfidf\": 0.7306817087242766}, {\"document\": 49, \"term\": \"tijdstip\", \"tfidf\": 0.3401175013492368}, {\"document\": 49, \"term\": \"auto\", \"tfidf\": 0.2828944160613267}, {\"document\": 49, \"term\": \"enig_goed\", \"tfidf\": 0.24672457319756944}, {\"document\": 49, \"term\": \"elk_geval\", \"tfidf\": 0.23460246683880387}, {\"document\": 49, \"term\": \"periode\", \"tfidf\": 0.229496059785984}, {\"document\": 49, \"term\": \"geheel\", \"tfidf\": 0.20352545334525834}, {\"document\": 49, \"term\": \"opzettelijk\", \"tfidf\": 0.19423631104292574}, {\"document\": 49, \"term\": \"laste_gelegd\", \"tfidf\": 0.151065250998029}, {\"document\": 49, \"term\": \"aa_flesje\", \"tfidf\": 8.902021120022224e-05}]}}, {\"mode\": \"vega-lite\"});\n",
       "</script>"
      ],
      "text/plain": [
       "alt.LayerChart(...)"
      ]
     },
     "execution_count": 18,
     "metadata": {},
     "output_type": "execute_result"
    }
   ],
   "source": [
    "import altair as alt\n",
    "import numpy as np\n",
    "\n",
    "# 18 = 0 / 19 = 1 / 20 = 2 / 21 = 3\n",
    "\n",
    "a = 0\n",
    "\n",
    "# Terms in this list will get a red dot in the visualization\n",
    "term_list = ['kledingwinkel', 'albert_heijn'] # Highlight the words of interest\n",
    "\n",
    "# adding a little randomness to break ties in term ranking\n",
    "top_tfidf_plusRand = top_idfs[a].copy()\n",
    "top_tfidf_plusRand = top_tfidf_plusRand.iloc[:500,]\n",
    "top_tfidf_plusRand['tfidf'] = top_tfidf_plusRand['tfidf'] + np.random.rand(top_tfidf_plusRand.shape[0])*0.0001\n",
    "\n",
    "# base for all visualizations, with rank calculation\n",
    "base = alt.Chart(top_tfidf_plusRand).encode(\n",
    "    x = 'rank:O',\n",
    "    y = 'document:N'\n",
    ").transform_window(\n",
    "    rank = \"rank()\",\n",
    "    sort = [alt.SortField(\"tfidf\", order=\"descending\")],\n",
    "    groupby = [\"document\"],\n",
    ")\n",
    "\n",
    "# heatmap specification\n",
    "heatmap = base.mark_rect().encode(\n",
    "    color = 'tfidf:Q'\n",
    ")\n",
    "\n",
    "# red circle over terms in above list\n",
    "circle = base.mark_circle(size=100).encode(\n",
    "    color = alt.condition(\n",
    "        alt.FieldOneOfPredicate(field='term', oneOf=term_list),\n",
    "        alt.value('red'),\n",
    "        alt.value('#FFFFFF00')        \n",
    "    )\n",
    ")\n",
    "\n",
    "# text labels, white for darker heatmap colors\n",
    "text = base.mark_text(baseline='middle').encode(\n",
    "    text = 'term:N',\n",
    "    color = alt.condition(alt.datum.tfidf >= 0.23, alt.value('white'), alt.value('black'))\n",
    ")\n",
    "\n",
    "# display the three superimposed visualizations\n",
    "(heatmap + circle + text).properties(width = 1200)"
   ]
  },
  {
   "cell_type": "markdown",
   "metadata": {},
   "source": [
    "# Scattertext"
   ]
  },
  {
   "cell_type": "markdown",
   "metadata": {},
   "source": [
    "For some reason, this plot does not work in visual studio code. One has to use the jupyter notebook in the safari browser. At least thats the case for me. "
   ]
  },
  {
   "cell_type": "code",
   "execution_count": 19,
   "metadata": {},
   "outputs": [
    {
     "data": {
      "text/html": [
       "<style>.container { width:98% !important; }</style>"
      ],
      "text/plain": [
       "<IPython.core.display.HTML object>"
      ]
     },
     "metadata": {},
     "output_type": "display_data"
    }
   ],
   "source": [
    "import scattertext as st\n",
    "import re, io\n",
    "from pprint import pprint\n",
    "import pandas as pd\n",
    "import numpy as np\n",
    "from scipy.stats import rankdata, hmean, norm\n",
    "import spacy\n",
    "import os, pkgutil, json, urllib\n",
    "from urllib.request import urlopen\n",
    "from IPython.display import IFrame\n",
    "from IPython.core.display import display, HTML\n",
    "from scattertext import CorpusFromPandas, produce_scattertext_explorer\n",
    "display(HTML(\"<style>.container { width:98% !important; }</style>\"))"
   ]
  },
  {
   "cell_type": "code",
   "execution_count": 20,
   "metadata": {},
   "outputs": [
    {
     "data": {
      "text/html": [
       "<style>.container { width:98% !important; }</style>"
      ],
      "text/plain": [
       "<IPython.core.display.HTML object>"
      ]
     },
     "metadata": {},
     "output_type": "display_data"
    }
   ],
   "source": [
    "import scattertext as st\n",
    "import re, io\n",
    "from pprint import pprint\n",
    "import pandas as pd\n",
    "import numpy as np\n",
    "from scipy.stats import rankdata, hmean, norm\n",
    "import spacy\n",
    "import os, pkgutil, json, urllib\n",
    "from urllib.request import urlopen\n",
    "from IPython.display import IFrame\n",
    "from IPython.core.display import display, HTML\n",
    "from scattertext import CorpusFromPandas, produce_scattertext_explorer\n",
    "import selenium\n",
    "from selenium import webdriver\n",
    "import webbrowser\n",
    "import codecs\n",
    "display(HTML(\"<style>.container { width:98% !important; }</style>\"))"
   ]
  },
  {
   "cell_type": "code",
   "execution_count": 21,
   "metadata": {},
   "outputs": [],
   "source": [
    "d0 = d[0]\n",
    "d1 = d[1]\n",
    "\n",
    "d[0]['lemm'] = [\" \".join(x) for x in dat_lems[0]]\n",
    "d[1]['lemm'] = [\" \".join(x) for x in dat_lems[1]]\n",
    "\n",
    "d0['year'] = pd.to_datetime(d0.index).year\n",
    "d1['year'] = pd.to_datetime(d1.index).year\n",
    "\n",
    "d0['year'] = d0['year'].astype(\"string\")\n",
    "d1['year'] = d1['year'].astype(\"string\")\n",
    "\n",
    "frames = [d0, d1]\n",
    "\n",
    "result = pd.concat(frames)\n",
    "\n",
    "nlp = spacy.load(\"nl_core_news_sm\")"
   ]
  },
  {
   "cell_type": "code",
   "execution_count": 22,
   "metadata": {},
   "outputs": [],
   "source": [
    "result['parsed'] = result.lemm.apply(nlp)"
   ]
  },
  {
   "cell_type": "code",
   "execution_count": 23,
   "metadata": {},
   "outputs": [],
   "source": [
    "result = result.rename(columns={\"Unnamed: 0\": \"Doc_Number\"})\n",
    "result[\"Doc_Number\"] = result[\"Doc_Number\"].astype(\"category\")\n",
    "result[\"year\"] = result[\"year\"].astype(\"category\")"
   ]
  },
  {
   "cell_type": "code",
   "execution_count": 24,
   "metadata": {},
   "outputs": [],
   "source": [
    "corpus_scat_text = st.CorpusFromParsedDocuments(result, category_col='year', parsed_col='parsed').build()"
   ]
  },
  {
   "cell_type": "code",
   "execution_count": 25,
   "metadata": {},
   "outputs": [],
   "source": [
    "html = produce_scattertext_explorer(corpus_scat_text,\n",
    "                                    category='2018',\n",
    "                                    category_name='2018',\n",
    "                                    not_category_name='2019',\n",
    "                                    width_in_pixels=1000,\n",
    "                                    minimum_term_frequency=5,\n",
    "                                    metadata=corpus_scat_text.get_df()['filename'],\n",
    "                                    transform= st.Scalers.log_scale_standardize) \n"
   ]
  },
  {
   "cell_type": "code",
   "execution_count": 26,
   "metadata": {
    "scrolled": false
   },
   "outputs": [
    {
     "data": {
      "text/html": [
       "\n",
       "        <iframe\n",
       "            width=\"1200\"\n",
       "            height=\"700\"\n",
       "            src=\"result_scatter_scale.html\"\n",
       "            frameborder=\"0\"\n",
       "            allowfullscreen\n",
       "        ></iframe>\n",
       "        "
      ],
      "text/plain": [
       "<IPython.lib.display.IFrame at 0x7fee528130d0>"
      ]
     },
     "execution_count": 26,
     "metadata": {},
     "output_type": "execute_result"
    }
   ],
   "source": [
    "import codecs\n",
    "import webbrowser\n",
    "import IPython\n",
    "\n",
    "file_name = 'result_scatter_scale.html'\n",
    "open(file_name, 'wb').write(html.encode('utf-8'))\n",
    "IFrame(src=file_name, width = 1200, height=700)"
   ]
  },
  {
   "cell_type": "code",
   "execution_count": 27,
   "metadata": {},
   "outputs": [],
   "source": [
    "# Trying so use data_lemmatized as input\n",
    "test = df.iloc[0:10, :]"
   ]
  },
  {
   "cell_type": "code",
   "execution_count": 28,
   "metadata": {},
   "outputs": [],
   "source": [
    "test['test'] = test.bete.apply(nlp)"
   ]
  },
  {
   "cell_type": "code",
   "execution_count": 29,
   "metadata": {},
   "outputs": [
    {
     "data": {
      "text/html": [
       "<div>\n",
       "<style scoped>\n",
       "    .dataframe tbody tr th:only-of-type {\n",
       "        vertical-align: middle;\n",
       "    }\n",
       "\n",
       "    .dataframe tbody tr th {\n",
       "        vertical-align: top;\n",
       "    }\n",
       "\n",
       "    .dataframe thead th {\n",
       "        text-align: right;\n",
       "    }\n",
       "</style>\n",
       "<table border=\"1\" class=\"dataframe\">\n",
       "  <thead>\n",
       "    <tr style=\"text-align: right;\">\n",
       "      <th></th>\n",
       "      <th>Unnamed: 0</th>\n",
       "      <th>filename</th>\n",
       "      <th>ecli</th>\n",
       "      <th>subject</th>\n",
       "      <th>spatial</th>\n",
       "      <th>case_nr</th>\n",
       "      <th>bete</th>\n",
       "      <th>test</th>\n",
       "    </tr>\n",
       "    <tr>\n",
       "      <th>date</th>\n",
       "      <th></th>\n",
       "      <th></th>\n",
       "      <th></th>\n",
       "      <th></th>\n",
       "      <th></th>\n",
       "      <th></th>\n",
       "      <th></th>\n",
       "      <th></th>\n",
       "    </tr>\n",
       "  </thead>\n",
       "  <tbody>\n",
       "    <tr>\n",
       "      <th>2018-01-08</th>\n",
       "      <td>3</td>\n",
       "      <td>ECLI_NL_RBGEL_2018_50.xml</td>\n",
       "      <td>ECLI:NL:RBGEL:2018:50</td>\n",
       "      <td>Strafrecht</td>\n",
       "      <td>Arnhem</td>\n",
       "      <td>05/881874-16</td>\n",
       "      <td>[][' tenlastelegging   aan verdachte is ten la...</td>\n",
       "      <td>([, ], [, ', tenlastelegging,   , aan, verdach...</td>\n",
       "    </tr>\n",
       "    <tr>\n",
       "      <th>2019-01-25</th>\n",
       "      <td>4</td>\n",
       "      <td>ECLI_NL_GHAMS_2019_194.xml</td>\n",
       "      <td>ECLI:NL:GHAMS:2019:194</td>\n",
       "      <td>Strafrecht</td>\n",
       "      <td>Amsterdam</td>\n",
       "      <td>23-005312-13</td>\n",
       "      <td>['      het bewijs tegen de verdachte  de kern...</td>\n",
       "      <td>([, ',      , het, bewijs, tegen, de, verdacht...</td>\n",
       "    </tr>\n",
       "    <tr>\n",
       "      <th>2021-02-10</th>\n",
       "      <td>7</td>\n",
       "      <td>ECLI_NL_RBOVE_2021_606.xml</td>\n",
       "      <td>ECLI:NL:RBOVE:2021:606</td>\n",
       "      <td>Strafrecht</td>\n",
       "      <td>Almelo</td>\n",
       "      <td>08/760218-17 (P)</td>\n",
       "      <td>[][' tenlastelegging   de verdenking komt er, ...</td>\n",
       "      <td>([, ], [, ', tenlastelegging,   , de, verdenki...</td>\n",
       "    </tr>\n",
       "    <tr>\n",
       "      <th>2021-02-10</th>\n",
       "      <td>8</td>\n",
       "      <td>ECLI_NL_GHSHE_2021_1801.xml</td>\n",
       "      <td>ECLI:NL:GHSHE:2021:1801</td>\n",
       "      <td>Strafrecht</td>\n",
       "      <td>'s-Hertogenbosch</td>\n",
       "      <td>20-003457-18</td>\n",
       "      <td>['      bewijsmiddelen     indien tegen dit ve...</td>\n",
       "      <td>([, ',      , bewijsmiddelen,     , indien, te...</td>\n",
       "    </tr>\n",
       "    <tr>\n",
       "      <th>2020-01-30</th>\n",
       "      <td>9</td>\n",
       "      <td>ECLI_NL_GHARL_2020_820.xml</td>\n",
       "      <td>ECLI:NL:GHARL:2020:820</td>\n",
       "      <td>Strafrecht</td>\n",
       "      <td>Leeuwarden</td>\n",
       "      <td>21-001899-19</td>\n",
       "      <td>['      bewijsmiddelen, feiten en omstandighed...</td>\n",
       "      <td>([, ',      , bewijsmiddelen, ,, feiten, en, o...</td>\n",
       "    </tr>\n",
       "  </tbody>\n",
       "</table>\n",
       "</div>"
      ],
      "text/plain": [
       "            Unnamed: 0                     filename                     ecli  \\\n",
       "date                                                                           \n",
       "2018-01-08           3    ECLI_NL_RBGEL_2018_50.xml    ECLI:NL:RBGEL:2018:50   \n",
       "2019-01-25           4   ECLI_NL_GHAMS_2019_194.xml   ECLI:NL:GHAMS:2019:194   \n",
       "2021-02-10           7   ECLI_NL_RBOVE_2021_606.xml   ECLI:NL:RBOVE:2021:606   \n",
       "2021-02-10           8  ECLI_NL_GHSHE_2021_1801.xml  ECLI:NL:GHSHE:2021:1801   \n",
       "2020-01-30           9   ECLI_NL_GHARL_2020_820.xml   ECLI:NL:GHARL:2020:820   \n",
       "\n",
       "               subject           spatial           case_nr  \\\n",
       "date                                                         \n",
       "2018-01-08  Strafrecht            Arnhem      05/881874-16   \n",
       "2019-01-25  Strafrecht         Amsterdam      23-005312-13   \n",
       "2021-02-10  Strafrecht            Almelo  08/760218-17 (P)   \n",
       "2021-02-10  Strafrecht  's-Hertogenbosch      20-003457-18   \n",
       "2020-01-30  Strafrecht        Leeuwarden      21-001899-19   \n",
       "\n",
       "                                                         bete  \\\n",
       "date                                                            \n",
       "2018-01-08  [][' tenlastelegging   aan verdachte is ten la...   \n",
       "2019-01-25  ['      het bewijs tegen de verdachte  de kern...   \n",
       "2021-02-10  [][' tenlastelegging   de verdenking komt er, ...   \n",
       "2021-02-10  ['      bewijsmiddelen     indien tegen dit ve...   \n",
       "2020-01-30  ['      bewijsmiddelen, feiten en omstandighed...   \n",
       "\n",
       "                                                         test  \n",
       "date                                                           \n",
       "2018-01-08  ([, ], [, ', tenlastelegging,   , aan, verdach...  \n",
       "2019-01-25  ([, ',      , het, bewijs, tegen, de, verdacht...  \n",
       "2021-02-10  ([, ], [, ', tenlastelegging,   , de, verdenki...  \n",
       "2021-02-10  ([, ',      , bewijsmiddelen,     , indien, te...  \n",
       "2020-01-30  ([, ',      , bewijsmiddelen, ,, feiten, en, o...  "
      ]
     },
     "execution_count": 29,
     "metadata": {},
     "output_type": "execute_result"
    }
   ],
   "source": [
    "test.head()"
   ]
  },
  {
   "cell_type": "code",
   "execution_count": 30,
   "metadata": {},
   "outputs": [
    {
     "data": {
      "text/plain": [
       "str"
      ]
     },
     "execution_count": 30,
     "metadata": {},
     "output_type": "execute_result"
    }
   ],
   "source": [
    "type(test['bete'][0])"
   ]
  },
  {
   "cell_type": "code",
   "execution_count": 31,
   "metadata": {},
   "outputs": [
    {
     "data": {
      "text/plain": [
       "spacy.tokens.doc.Doc"
      ]
     },
     "execution_count": 31,
     "metadata": {},
     "output_type": "execute_result"
    }
   ],
   "source": [
    "type(test['test'][0])"
   ]
  },
  {
   "cell_type": "code",
   "execution_count": 32,
   "metadata": {},
   "outputs": [
    {
     "data": {
      "text/plain": [
       "(300, 9)"
      ]
     },
     "execution_count": 32,
     "metadata": {},
     "output_type": "execute_result"
    }
   ],
   "source": [
    "d[0].shape"
   ]
  },
  {
   "cell_type": "code",
   "execution_count": 33,
   "metadata": {},
   "outputs": [
    {
     "data": {
      "text/plain": [
       "527"
      ]
     },
     "execution_count": 33,
     "metadata": {},
     "output_type": "execute_result"
    }
   ],
   "source": [
    "len(dat_lems[3])"
   ]
  },
  {
   "cell_type": "code",
   "execution_count": 34,
   "metadata": {},
   "outputs": [],
   "source": [
    "d[0]['lemm'] = dat_lems[0]"
   ]
  },
  {
   "cell_type": "code",
   "execution_count": 35,
   "metadata": {},
   "outputs": [
    {
     "data": {
      "text/html": [
       "<div>\n",
       "<style scoped>\n",
       "    .dataframe tbody tr th:only-of-type {\n",
       "        vertical-align: middle;\n",
       "    }\n",
       "\n",
       "    .dataframe tbody tr th {\n",
       "        vertical-align: top;\n",
       "    }\n",
       "\n",
       "    .dataframe thead th {\n",
       "        text-align: right;\n",
       "    }\n",
       "</style>\n",
       "<table border=\"1\" class=\"dataframe\">\n",
       "  <thead>\n",
       "    <tr style=\"text-align: right;\">\n",
       "      <th></th>\n",
       "      <th>Unnamed: 0</th>\n",
       "      <th>filename</th>\n",
       "      <th>ecli</th>\n",
       "      <th>subject</th>\n",
       "      <th>spatial</th>\n",
       "      <th>case_nr</th>\n",
       "      <th>bete</th>\n",
       "      <th>lemm</th>\n",
       "      <th>year</th>\n",
       "    </tr>\n",
       "    <tr>\n",
       "      <th>date</th>\n",
       "      <th></th>\n",
       "      <th></th>\n",
       "      <th></th>\n",
       "      <th></th>\n",
       "      <th></th>\n",
       "      <th></th>\n",
       "      <th></th>\n",
       "      <th></th>\n",
       "      <th></th>\n",
       "    </tr>\n",
       "  </thead>\n",
       "  <tbody>\n",
       "    <tr>\n",
       "      <th>2018-01-08</th>\n",
       "      <td>3</td>\n",
       "      <td>ECLI_NL_RBGEL_2018_50.xml</td>\n",
       "      <td>ECLI:NL:RBGEL:2018:50</td>\n",
       "      <td>Strafrecht</td>\n",
       "      <td>Arnhem</td>\n",
       "      <td>05/881874-16</td>\n",
       "      <td>[][' tenlastelegging   aan verdachte is ten la...</td>\n",
       "      <td>[laste_gelegd, periode, oostenrijk, opzettelij...</td>\n",
       "      <td>2018</td>\n",
       "    </tr>\n",
       "    <tr>\n",
       "      <th>2018-01-24</th>\n",
       "      <td>24</td>\n",
       "      <td>ECLI_NL_GHAMS_2018_185.xml</td>\n",
       "      <td>ECLI:NL:GHAMS:2018:185</td>\n",
       "      <td>Strafrecht</td>\n",
       "      <td>Amsterdam</td>\n",
       "      <td>23-002003-17</td>\n",
       "      <td>['      bewijsverweren     ter terechtzitting ...</td>\n",
       "      <td>[bewijsverweren, terechtzitting, raadsman, sta...</td>\n",
       "      <td>2018</td>\n",
       "    </tr>\n",
       "    <tr>\n",
       "      <th>2018-01-26</th>\n",
       "      <td>31</td>\n",
       "      <td>ECLI_NL_RBMNE_2018_269.xml</td>\n",
       "      <td>ECLI:NL:RBMNE:2018:269</td>\n",
       "      <td>Strafrecht</td>\n",
       "      <td>Utrecht</td>\n",
       "      <td>16/705582-17 (P)</td>\n",
       "      <td>['     bewijsmiddelen       ten aanzien van de...</td>\n",
       "      <td>[bewijsmiddel, volgen, bewonen, vrouw, zoon, v...</td>\n",
       "      <td>2018</td>\n",
       "    </tr>\n",
       "    <tr>\n",
       "      <th>2018-01-26</th>\n",
       "      <td>62</td>\n",
       "      <td>ECLI_NL_GHARL_2018_849.xml</td>\n",
       "      <td>ECLI:NL:GHARL:2018:849</td>\n",
       "      <td>Strafrecht</td>\n",
       "      <td>NaN</td>\n",
       "      <td>21-005366-16</td>\n",
       "      <td>[][' tenlastelegging   aan verdachte is tenlas...</td>\n",
       "      <td>[primair, plaats, gemeente, gemeente, uitvoeri...</td>\n",
       "      <td>2018</td>\n",
       "    </tr>\n",
       "    <tr>\n",
       "      <th>2018-01-03</th>\n",
       "      <td>74</td>\n",
       "      <td>ECLI_NL_GHARL_2018_108.xml</td>\n",
       "      <td>ECLI:NL:GHARL:2018:108</td>\n",
       "      <td>Strafrecht</td>\n",
       "      <td>Arnhem</td>\n",
       "      <td>21-002023-17</td>\n",
       "      <td>[][' tenlastelegging   aan verdachte is – voor...</td>\n",
       "      <td>[zover, oordeel, onderwerpen, laste_gelegd, za...</td>\n",
       "      <td>2018</td>\n",
       "    </tr>\n",
       "  </tbody>\n",
       "</table>\n",
       "</div>"
      ],
      "text/plain": [
       "            Unnamed: 0                    filename                    ecli  \\\n",
       "date                                                                         \n",
       "2018-01-08           3   ECLI_NL_RBGEL_2018_50.xml   ECLI:NL:RBGEL:2018:50   \n",
       "2018-01-24          24  ECLI_NL_GHAMS_2018_185.xml  ECLI:NL:GHAMS:2018:185   \n",
       "2018-01-26          31  ECLI_NL_RBMNE_2018_269.xml  ECLI:NL:RBMNE:2018:269   \n",
       "2018-01-26          62  ECLI_NL_GHARL_2018_849.xml  ECLI:NL:GHARL:2018:849   \n",
       "2018-01-03          74  ECLI_NL_GHARL_2018_108.xml  ECLI:NL:GHARL:2018:108   \n",
       "\n",
       "               subject    spatial           case_nr  \\\n",
       "date                                                  \n",
       "2018-01-08  Strafrecht     Arnhem      05/881874-16   \n",
       "2018-01-24  Strafrecht  Amsterdam      23-002003-17   \n",
       "2018-01-26  Strafrecht    Utrecht  16/705582-17 (P)   \n",
       "2018-01-26  Strafrecht        NaN      21-005366-16   \n",
       "2018-01-03  Strafrecht     Arnhem      21-002023-17   \n",
       "\n",
       "                                                         bete  \\\n",
       "date                                                            \n",
       "2018-01-08  [][' tenlastelegging   aan verdachte is ten la...   \n",
       "2018-01-24  ['      bewijsverweren     ter terechtzitting ...   \n",
       "2018-01-26  ['     bewijsmiddelen       ten aanzien van de...   \n",
       "2018-01-26  [][' tenlastelegging   aan verdachte is tenlas...   \n",
       "2018-01-03  [][' tenlastelegging   aan verdachte is – voor...   \n",
       "\n",
       "                                                         lemm  year  \n",
       "date                                                                 \n",
       "2018-01-08  [laste_gelegd, periode, oostenrijk, opzettelij...  2018  \n",
       "2018-01-24  [bewijsverweren, terechtzitting, raadsman, sta...  2018  \n",
       "2018-01-26  [bewijsmiddel, volgen, bewonen, vrouw, zoon, v...  2018  \n",
       "2018-01-26  [primair, plaats, gemeente, gemeente, uitvoeri...  2018  \n",
       "2018-01-03  [zover, oordeel, onderwerpen, laste_gelegd, za...  2018  "
      ]
     },
     "execution_count": 35,
     "metadata": {},
     "output_type": "execute_result"
    }
   ],
   "source": [
    "d[0].head()"
   ]
  },
  {
   "cell_type": "code",
   "execution_count": 36,
   "metadata": {},
   "outputs": [],
   "source": [
    "dat_lem_untok = [\" \".join(x) for x in dat_lems[0]]"
   ]
  },
  {
   "cell_type": "code",
   "execution_count": 37,
   "metadata": {},
   "outputs": [
    {
     "data": {
      "text/plain": [
       "300"
      ]
     },
     "execution_count": 37,
     "metadata": {},
     "output_type": "execute_result"
    }
   ],
   "source": [
    "len(dat_lem_untok)"
   ]
  },
  {
   "cell_type": "code",
   "execution_count": 53,
   "metadata": {},
   "outputs": [
    {
     "data": {
      "text/plain": [
       "str"
      ]
     },
     "execution_count": 53,
     "metadata": {},
     "output_type": "execute_result"
    }
   ],
   "source": [
    "type(d[0]['lemm'][0][0])"
   ]
  },
  {
   "cell_type": "code",
   "execution_count": null,
   "metadata": {},
   "outputs": [],
   "source": []
  },
  {
   "cell_type": "code",
   "execution_count": 54,
   "metadata": {},
   "outputs": [
    {
     "data": {
      "text/plain": [
       "'\\nd \\nq \\nlda_models \\ndat_lems \\ncorps \\nids \\ntop_idfs \\n'"
      ]
     },
     "execution_count": 54,
     "metadata": {},
     "output_type": "execute_result"
    }
   ],
   "source": [
    "'''\n",
    "d \n",
    "q \n",
    "lda_models \n",
    "dat_lems \n",
    "corps \n",
    "ids \n",
    "top_idfs \n",
    "'''"
   ]
  },
  {
   "cell_type": "code",
   "execution_count": 57,
   "metadata": {},
   "outputs": [
    {
     "data": {
      "text/html": [
       "<div>\n",
       "<style scoped>\n",
       "    .dataframe tbody tr th:only-of-type {\n",
       "        vertical-align: middle;\n",
       "    }\n",
       "\n",
       "    .dataframe tbody tr th {\n",
       "        vertical-align: top;\n",
       "    }\n",
       "\n",
       "    .dataframe thead th {\n",
       "        text-align: right;\n",
       "    }\n",
       "</style>\n",
       "<table border=\"1\" class=\"dataframe\">\n",
       "  <thead>\n",
       "    <tr style=\"text-align: right;\">\n",
       "      <th></th>\n",
       "      <th>Unnamed: 0</th>\n",
       "      <th>filename</th>\n",
       "      <th>ecli</th>\n",
       "      <th>subject</th>\n",
       "      <th>spatial</th>\n",
       "      <th>case_nr</th>\n",
       "      <th>bete</th>\n",
       "      <th>lemm</th>\n",
       "      <th>year</th>\n",
       "    </tr>\n",
       "    <tr>\n",
       "      <th>date</th>\n",
       "      <th></th>\n",
       "      <th></th>\n",
       "      <th></th>\n",
       "      <th></th>\n",
       "      <th></th>\n",
       "      <th></th>\n",
       "      <th></th>\n",
       "      <th></th>\n",
       "      <th></th>\n",
       "    </tr>\n",
       "  </thead>\n",
       "  <tbody>\n",
       "    <tr>\n",
       "      <th>2018-01-08</th>\n",
       "      <td>3</td>\n",
       "      <td>ECLI_NL_RBGEL_2018_50.xml</td>\n",
       "      <td>ECLI:NL:RBGEL:2018:50</td>\n",
       "      <td>Strafrecht</td>\n",
       "      <td>Arnhem</td>\n",
       "      <td>05/881874-16</td>\n",
       "      <td>[][' tenlastelegging   aan verdachte is ten la...</td>\n",
       "      <td>[laste_gelegd, periode, oostenrijk, opzettelij...</td>\n",
       "      <td>2018</td>\n",
       "    </tr>\n",
       "    <tr>\n",
       "      <th>2018-01-24</th>\n",
       "      <td>24</td>\n",
       "      <td>ECLI_NL_GHAMS_2018_185.xml</td>\n",
       "      <td>ECLI:NL:GHAMS:2018:185</td>\n",
       "      <td>Strafrecht</td>\n",
       "      <td>Amsterdam</td>\n",
       "      <td>23-002003-17</td>\n",
       "      <td>['      bewijsverweren     ter terechtzitting ...</td>\n",
       "      <td>[bewijsverweren, terechtzitting, raadsman, sta...</td>\n",
       "      <td>2018</td>\n",
       "    </tr>\n",
       "    <tr>\n",
       "      <th>2018-01-26</th>\n",
       "      <td>31</td>\n",
       "      <td>ECLI_NL_RBMNE_2018_269.xml</td>\n",
       "      <td>ECLI:NL:RBMNE:2018:269</td>\n",
       "      <td>Strafrecht</td>\n",
       "      <td>Utrecht</td>\n",
       "      <td>16/705582-17 (P)</td>\n",
       "      <td>['     bewijsmiddelen       ten aanzien van de...</td>\n",
       "      <td>[bewijsmiddel, volgen, bewonen, vrouw, zoon, v...</td>\n",
       "      <td>2018</td>\n",
       "    </tr>\n",
       "    <tr>\n",
       "      <th>2018-01-26</th>\n",
       "      <td>62</td>\n",
       "      <td>ECLI_NL_GHARL_2018_849.xml</td>\n",
       "      <td>ECLI:NL:GHARL:2018:849</td>\n",
       "      <td>Strafrecht</td>\n",
       "      <td>NaN</td>\n",
       "      <td>21-005366-16</td>\n",
       "      <td>[][' tenlastelegging   aan verdachte is tenlas...</td>\n",
       "      <td>[primair, plaats, gemeente, gemeente, uitvoeri...</td>\n",
       "      <td>2018</td>\n",
       "    </tr>\n",
       "    <tr>\n",
       "      <th>2018-01-03</th>\n",
       "      <td>74</td>\n",
       "      <td>ECLI_NL_GHARL_2018_108.xml</td>\n",
       "      <td>ECLI:NL:GHARL:2018:108</td>\n",
       "      <td>Strafrecht</td>\n",
       "      <td>Arnhem</td>\n",
       "      <td>21-002023-17</td>\n",
       "      <td>[][' tenlastelegging   aan verdachte is – voor...</td>\n",
       "      <td>[zover, oordeel, onderwerpen, laste_gelegd, za...</td>\n",
       "      <td>2018</td>\n",
       "    </tr>\n",
       "    <tr>\n",
       "      <th>...</th>\n",
       "      <td>...</td>\n",
       "      <td>...</td>\n",
       "      <td>...</td>\n",
       "      <td>...</td>\n",
       "      <td>...</td>\n",
       "      <td>...</td>\n",
       "      <td>...</td>\n",
       "      <td>...</td>\n",
       "      <td>...</td>\n",
       "    </tr>\n",
       "    <tr>\n",
       "      <th>2018-01-19</th>\n",
       "      <td>2875</td>\n",
       "      <td>ECLI_NL_RBROT_2018_1631.xml</td>\n",
       "      <td>ECLI:NL:RBROT:2018:1631</td>\n",
       "      <td>Strafrecht</td>\n",
       "      <td>Rotterdam</td>\n",
       "      <td>10/691154-17</td>\n",
       "      <td>['  bewijswaardering   4.1.1.   standpunt verd...</td>\n",
       "      <td>[standpunt, verdediging, bekend, groot, hennep...</td>\n",
       "      <td>2018</td>\n",
       "    </tr>\n",
       "    <tr>\n",
       "      <th>2018-01-26</th>\n",
       "      <td>2876</td>\n",
       "      <td>ECLI_NL_RBMNE_2018_270.xml</td>\n",
       "      <td>ECLI:NL:RBMNE:2018:270</td>\n",
       "      <td>Strafrecht</td>\n",
       "      <td>Utrecht</td>\n",
       "      <td>16/707109-16 (P)</td>\n",
       "      <td>['     bewijsmiddelen       ten aanzien van de...</td>\n",
       "      <td>[bewijsmiddel, volgen, bewonen, samen, vrouw, ...</td>\n",
       "      <td>2018</td>\n",
       "    </tr>\n",
       "    <tr>\n",
       "      <th>2018-01-05</th>\n",
       "      <td>2878</td>\n",
       "      <td>ECLI_NL_RBROT_2018_1625.xml</td>\n",
       "      <td>ECLI:NL:RBROT:2018:1625</td>\n",
       "      <td>Strafrecht</td>\n",
       "      <td>Rotterdam</td>\n",
       "      <td>10/652103-16</td>\n",
       "      <td>[][' tenlastelegging     aan de verdachte word...</td>\n",
       "      <td>[laste_gelegd, tezamen, vereniging, alleen, oo...</td>\n",
       "      <td>2018</td>\n",
       "    </tr>\n",
       "    <tr>\n",
       "      <th>2018-01-22</th>\n",
       "      <td>2884</td>\n",
       "      <td>ECLI_NL_GHAMS_2018_188.xml</td>\n",
       "      <td>ECLI:NL:GHAMS:2018:188</td>\n",
       "      <td>Strafrecht</td>\n",
       "      <td>Amsterdam</td>\n",
       "      <td>23-003466-15</td>\n",
       "      <td>[][' tenlastelegging   gelet op de in hoger be...</td>\n",
       "      <td>[letten, gerechtshof, laste_gelegd, primair, e...</td>\n",
       "      <td>2018</td>\n",
       "    </tr>\n",
       "    <tr>\n",
       "      <th>2018-01-10</th>\n",
       "      <td>2900</td>\n",
       "      <td>ECLI_NL_RBGEL_2018_75.xml</td>\n",
       "      <td>ECLI:NL:RBGEL:2018:75</td>\n",
       "      <td>Strafrecht</td>\n",
       "      <td>Arnhem</td>\n",
       "      <td>05/740462-17 en 01/215631-16 (TUL)</td>\n",
       "      <td>[][\" tenlastelegging   aan verdachte is ten la...</td>\n",
       "      <td>[laste_gelegd, periode, opzettelijk, minderjar...</td>\n",
       "      <td>2018</td>\n",
       "    </tr>\n",
       "  </tbody>\n",
       "</table>\n",
       "<p>300 rows × 9 columns</p>\n",
       "</div>"
      ],
      "text/plain": [
       "            Unnamed: 0                     filename                     ecli  \\\n",
       "date                                                                           \n",
       "2018-01-08           3    ECLI_NL_RBGEL_2018_50.xml    ECLI:NL:RBGEL:2018:50   \n",
       "2018-01-24          24   ECLI_NL_GHAMS_2018_185.xml   ECLI:NL:GHAMS:2018:185   \n",
       "2018-01-26          31   ECLI_NL_RBMNE_2018_269.xml   ECLI:NL:RBMNE:2018:269   \n",
       "2018-01-26          62   ECLI_NL_GHARL_2018_849.xml   ECLI:NL:GHARL:2018:849   \n",
       "2018-01-03          74   ECLI_NL_GHARL_2018_108.xml   ECLI:NL:GHARL:2018:108   \n",
       "...                ...                          ...                      ...   \n",
       "2018-01-19        2875  ECLI_NL_RBROT_2018_1631.xml  ECLI:NL:RBROT:2018:1631   \n",
       "2018-01-26        2876   ECLI_NL_RBMNE_2018_270.xml   ECLI:NL:RBMNE:2018:270   \n",
       "2018-01-05        2878  ECLI_NL_RBROT_2018_1625.xml  ECLI:NL:RBROT:2018:1625   \n",
       "2018-01-22        2884   ECLI_NL_GHAMS_2018_188.xml   ECLI:NL:GHAMS:2018:188   \n",
       "2018-01-10        2900    ECLI_NL_RBGEL_2018_75.xml    ECLI:NL:RBGEL:2018:75   \n",
       "\n",
       "               subject    spatial                             case_nr  \\\n",
       "date                                                                    \n",
       "2018-01-08  Strafrecht     Arnhem                        05/881874-16   \n",
       "2018-01-24  Strafrecht  Amsterdam                        23-002003-17   \n",
       "2018-01-26  Strafrecht    Utrecht                    16/705582-17 (P)   \n",
       "2018-01-26  Strafrecht        NaN                        21-005366-16   \n",
       "2018-01-03  Strafrecht     Arnhem                        21-002023-17   \n",
       "...                ...        ...                                 ...   \n",
       "2018-01-19  Strafrecht  Rotterdam                        10/691154-17   \n",
       "2018-01-26  Strafrecht    Utrecht                    16/707109-16 (P)   \n",
       "2018-01-05  Strafrecht  Rotterdam                        10/652103-16   \n",
       "2018-01-22  Strafrecht  Amsterdam                        23-003466-15   \n",
       "2018-01-10  Strafrecht     Arnhem  05/740462-17 en 01/215631-16 (TUL)   \n",
       "\n",
       "                                                         bete  \\\n",
       "date                                                            \n",
       "2018-01-08  [][' tenlastelegging   aan verdachte is ten la...   \n",
       "2018-01-24  ['      bewijsverweren     ter terechtzitting ...   \n",
       "2018-01-26  ['     bewijsmiddelen       ten aanzien van de...   \n",
       "2018-01-26  [][' tenlastelegging   aan verdachte is tenlas...   \n",
       "2018-01-03  [][' tenlastelegging   aan verdachte is – voor...   \n",
       "...                                                       ...   \n",
       "2018-01-19  ['  bewijswaardering   4.1.1.   standpunt verd...   \n",
       "2018-01-26  ['     bewijsmiddelen       ten aanzien van de...   \n",
       "2018-01-05  [][' tenlastelegging     aan de verdachte word...   \n",
       "2018-01-22  [][' tenlastelegging   gelet op de in hoger be...   \n",
       "2018-01-10  [][\" tenlastelegging   aan verdachte is ten la...   \n",
       "\n",
       "                                                         lemm  year  \n",
       "date                                                                 \n",
       "2018-01-08  [laste_gelegd, periode, oostenrijk, opzettelij...  2018  \n",
       "2018-01-24  [bewijsverweren, terechtzitting, raadsman, sta...  2018  \n",
       "2018-01-26  [bewijsmiddel, volgen, bewonen, vrouw, zoon, v...  2018  \n",
       "2018-01-26  [primair, plaats, gemeente, gemeente, uitvoeri...  2018  \n",
       "2018-01-03  [zover, oordeel, onderwerpen, laste_gelegd, za...  2018  \n",
       "...                                                       ...   ...  \n",
       "2018-01-19  [standpunt, verdediging, bekend, groot, hennep...  2018  \n",
       "2018-01-26  [bewijsmiddel, volgen, bewonen, samen, vrouw, ...  2018  \n",
       "2018-01-05  [laste_gelegd, tezamen, vereniging, alleen, oo...  2018  \n",
       "2018-01-22  [letten, gerechtshof, laste_gelegd, primair, e...  2018  \n",
       "2018-01-10  [laste_gelegd, periode, opzettelijk, minderjar...  2018  \n",
       "\n",
       "[300 rows x 9 columns]"
      ]
     },
     "execution_count": 57,
     "metadata": {},
     "output_type": "execute_result"
    }
   ],
   "source": [
    "d[0]"
   ]
  },
  {
   "cell_type": "code",
   "execution_count": 58,
   "metadata": {},
   "outputs": [
    {
     "data": {
      "text/html": [
       "<div>\n",
       "<style scoped>\n",
       "    .dataframe tbody tr th:only-of-type {\n",
       "        vertical-align: middle;\n",
       "    }\n",
       "\n",
       "    .dataframe tbody tr th {\n",
       "        vertical-align: top;\n",
       "    }\n",
       "\n",
       "    .dataframe thead th {\n",
       "        text-align: right;\n",
       "    }\n",
       "</style>\n",
       "<table border=\"1\" class=\"dataframe\">\n",
       "  <thead>\n",
       "    <tr style=\"text-align: right;\">\n",
       "      <th></th>\n",
       "      <th>document</th>\n",
       "      <th>term</th>\n",
       "      <th>tfidf</th>\n",
       "    </tr>\n",
       "  </thead>\n",
       "  <tbody>\n",
       "    <tr>\n",
       "      <th>3458</th>\n",
       "      <td>0</td>\n",
       "      <td>kind</td>\n",
       "      <td>0.450057</td>\n",
       "    </tr>\n",
       "    <tr>\n",
       "      <th>4203</th>\n",
       "      <td>0</td>\n",
       "      <td>minderjarig</td>\n",
       "      <td>0.277413</td>\n",
       "    </tr>\n",
       "    <tr>\n",
       "      <th>6477</th>\n",
       "      <td>0</td>\n",
       "      <td>tandarts</td>\n",
       "      <td>0.275668</td>\n",
       "    </tr>\n",
       "    <tr>\n",
       "      <th>2368</th>\n",
       "      <td>0</td>\n",
       "      <td>geboorteplaats</td>\n",
       "      <td>0.261528</td>\n",
       "    </tr>\n",
       "    <tr>\n",
       "      <th>6813</th>\n",
       "      <td>0</td>\n",
       "      <td>trein</td>\n",
       "      <td>0.241599</td>\n",
       "    </tr>\n",
       "    <tr>\n",
       "      <th>...</th>\n",
       "      <td>...</td>\n",
       "      <td>...</td>\n",
       "      <td>...</td>\n",
       "    </tr>\n",
       "    <tr>\n",
       "      <th>2478260</th>\n",
       "      <td>299</td>\n",
       "      <td>toestemming</td>\n",
       "      <td>0.187795</td>\n",
       "    </tr>\n",
       "    <tr>\n",
       "      <th>2479746</th>\n",
       "      <td>299</td>\n",
       "      <td>zoon</td>\n",
       "      <td>0.184555</td>\n",
       "    </tr>\n",
       "    <tr>\n",
       "      <th>2478899</th>\n",
       "      <td>299</td>\n",
       "      <td>vertrekken</td>\n",
       "      <td>0.147202</td>\n",
       "    </tr>\n",
       "    <tr>\n",
       "      <th>2476247</th>\n",
       "      <td>299</td>\n",
       "      <td>onttrekking</td>\n",
       "      <td>0.133293</td>\n",
       "    </tr>\n",
       "    <tr>\n",
       "      <th>2476655</th>\n",
       "      <td>299</td>\n",
       "      <td>paspoort</td>\n",
       "      <td>0.115169</td>\n",
       "    </tr>\n",
       "  </tbody>\n",
       "</table>\n",
       "<p>3000 rows × 3 columns</p>\n",
       "</div>"
      ],
      "text/plain": [
       "         document            term     tfidf\n",
       "3458            0            kind  0.450057\n",
       "4203            0     minderjarig  0.277413\n",
       "6477            0        tandarts  0.275668\n",
       "2368            0  geboorteplaats  0.261528\n",
       "6813            0           trein  0.241599\n",
       "...           ...             ...       ...\n",
       "2478260       299     toestemming  0.187795\n",
       "2479746       299            zoon  0.184555\n",
       "2478899       299      vertrekken  0.147202\n",
       "2476247       299     onttrekking  0.133293\n",
       "2476655       299        paspoort  0.115169\n",
       "\n",
       "[3000 rows x 3 columns]"
      ]
     },
     "execution_count": 58,
     "metadata": {},
     "output_type": "execute_result"
    }
   ],
   "source": [
    "top_idfs[0]"
   ]
  },
  {
   "cell_type": "code",
   "execution_count": 42,
   "metadata": {},
   "outputs": [],
   "source": [
    "test = pd.read_csv('/Users/dj/Python - UvA/DSP/data_2018.csv', index_col=0) "
   ]
  },
  {
   "cell_type": "code",
   "execution_count": 46,
   "metadata": {},
   "outputs": [
    {
     "data": {
      "text/plain": [
       "str"
      ]
     },
     "execution_count": 46,
     "metadata": {},
     "output_type": "execute_result"
    }
   ],
   "source": [
    "type(test.index[0])"
   ]
  },
  {
   "cell_type": "code",
   "execution_count": null,
   "metadata": {},
   "outputs": [],
   "source": []
  },
  {
   "cell_type": "code",
   "execution_count": null,
   "metadata": {},
   "outputs": [],
   "source": []
  },
  {
   "cell_type": "code",
   "execution_count": null,
   "metadata": {},
   "outputs": [],
   "source": []
  }
 ],
 "metadata": {
  "interpreter": {
   "hash": "40d3a090f54c6569ab1632332b64b2c03c39dcf918b08424e98f38b5ae0af88f"
  },
  "kernelspec": {
   "display_name": "Python 3",
   "language": "python",
   "name": "python3"
  },
  "language_info": {
   "codemirror_mode": {
    "name": "ipython",
    "version": 3
   },
   "file_extension": ".py",
   "mimetype": "text/x-python",
   "name": "python",
   "nbconvert_exporter": "python",
   "pygments_lexer": "ipython3",
   "version": "3.7.10"
  }
 },
 "nbformat": 4,
 "nbformat_minor": 2
}
