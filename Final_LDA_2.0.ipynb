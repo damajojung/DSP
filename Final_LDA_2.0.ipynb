{
 "cells": [
  {
   "cell_type": "markdown",
   "metadata": {},
   "source": [
    "# Final LDA Model"
   ]
  },
  {
   "cell_type": "code",
   "execution_count": 1,
   "metadata": {},
   "outputs": [],
   "source": [
    "import re\n",
    "import numpy as np\n",
    "import pandas as pd\n",
    "from pprint import pprint\n",
    "\n",
    "from datetime import datetime\n",
    "\n",
    "# Gensim\n",
    "import gensim\n",
    "import gensim.corpora as corpora\n",
    "from gensim.utils import simple_preprocess\n",
    "from gensim.models import CoherenceModel\n",
    "\n",
    "# spacy for lemmatization\n",
    "import spacy\n",
    "\n",
    "# Plotting tools\n",
    "import pyLDAvis\n",
    "# import pyLDAvis.gensim  # Author: don't skip this\n",
    "# pyLDAvis.gensim.prepare\n",
    "\n",
    "# I think i need another one:\n",
    "import pyLDAvis.gensim_models\n",
    "import pyLDAvis.gensim_models as gensimvis\n",
    "\n",
    "# Plots\n",
    "import matplotlib.pyplot as plt\n",
    "%matplotlib inline\n",
    "\n",
    "# Enable logging for gensim - optional\n",
    "import logging\n",
    "logging.basicConfig(format='%(asctime)s : %(levelname)s : %(message)s', level=logging.ERROR)\n",
    "\n",
    "import warnings\n",
    "warnings.filterwarnings(\"ignore\",category=DeprecationWarning)"
   ]
  },
  {
   "cell_type": "code",
   "execution_count": 2,
   "metadata": {},
   "outputs": [],
   "source": [
    "# NLTK Stop words\n",
    "from nltk.corpus import stopwords\n",
    "stop_words = stopwords.words('dutch')\n",
    "stop_words.extend(['tenlastelegging\\\\n\\\\n\\\\naan', '\\\\n\\\\n\\\\n\\\\n\\\\n\\\\n', '\\\\n\\\\n\\\\n\\\\n\\\\n', '\\\\n\\\\n', 'een', 'naan', 'nde', 'nhij', '\\\\n'])"
   ]
  },
  {
   "cell_type": "markdown",
   "metadata": {},
   "source": [
    "# Data Final"
   ]
  },
  {
   "cell_type": "code",
   "execution_count": 109,
   "metadata": {},
   "outputs": [],
   "source": [
    "df = pd.read_csv('/Users/dj/Python - UvA/DSP/data/dataset_10012022_cleaned.csv', index_col=6, parse_dates=['date']) \n",
    "df.head()\n",
    "\n",
    "df_be = df[df['bewijs'] != '[]'] #bewijs\n",
    "df_te = df[df['tll'] != '[]'] #tenlastelegging\n",
    "\n",
    "df['bete'] = df['bewijs'] + df['tll'] \n",
    "df = df[df['bete'] != '[][]']\n",
    "df = df.drop(labels=['bewijs', 'tll'], axis=1)\n"
   ]
  },
  {
   "cell_type": "code",
   "execution_count": 110,
   "metadata": {},
   "outputs": [
    {
     "name": "stderr",
     "output_type": "stream",
     "text": [
      "/opt/anaconda3/lib/python3.7/site-packages/ipykernel_launcher.py:1: FutureWarning: Value based partial slicing on non-monotonic DatetimeIndexes with non-existing keys is deprecated and will raise a KeyError in a future Version.\n",
      "  \"\"\"Entry point for launching an IPython kernel.\n",
      "/opt/anaconda3/lib/python3.7/site-packages/ipykernel_launcher.py:2: FutureWarning: Value based partial slicing on non-monotonic DatetimeIndexes with non-existing keys is deprecated and will raise a KeyError in a future Version.\n",
      "  \n",
      "/opt/anaconda3/lib/python3.7/site-packages/ipykernel_launcher.py:3: FutureWarning: Value based partial slicing on non-monotonic DatetimeIndexes with non-existing keys is deprecated and will raise a KeyError in a future Version.\n",
      "  This is separate from the ipykernel package so we can avoid doing imports until\n",
      "/opt/anaconda3/lib/python3.7/site-packages/ipykernel_launcher.py:4: FutureWarning: Value based partial slicing on non-monotonic DatetimeIndexes with non-existing keys is deprecated and will raise a KeyError in a future Version.\n",
      "  after removing the cwd from sys.path.\n"
     ]
    }
   ],
   "source": [
    "df18 = df.loc[\"2018-01-01 00:00:00\":\"2018-12-31 00:00:00\"]\n",
    "df19 = df.loc[\"2019-01-01 00:00:00\":\"2019-12-31 00:00:00\"]\n",
    "df20 = df.loc[\"2020-01-01 00:00:00\":\"2020-12-31 00:00:00\"]\n",
    "df21 = df.loc[\"2021-01-01 00:00:00\":\"2021-12-31 00:00:00\"]"
   ]
  },
  {
   "cell_type": "code",
   "execution_count": 124,
   "metadata": {},
   "outputs": [
    {
     "name": "stdout",
     "output_type": "stream",
     "text": [
      "(300, 7)\n",
      "(306, 7)\n",
      "(315, 7)\n",
      "(527, 7)\n"
     ]
    }
   ],
   "source": [
    "print(df18.shape)\n",
    "print(df19.shape)\n",
    "print(df20.shape)\n",
    "print(df21.shape)"
   ]
  },
  {
   "cell_type": "markdown",
   "metadata": {},
   "source": [
    "# Build Giant Function"
   ]
  },
  {
   "cell_type": "code",
   "execution_count": 157,
   "metadata": {},
   "outputs": [],
   "source": [
    "def sent_to_words(sentences):\n",
    "    for sentence in sentences:\n",
    "        yield(gensim.utils.simple_preprocess(str(sentence), deacc=True))  # deacc=True removes punctuations\n",
    "\n",
    "# Define functions for stopwords, bigrams, trigrams and lemmatization\n",
    "def remove_stopwords(texts):\n",
    "    return [[word for word in simple_preprocess(str(doc)) if word not in stop_words] for doc in texts]\n",
    "\n",
    "def make_bigrams(texts):\n",
    "    return [bigram_mod[doc] for doc in texts]\n",
    "\n",
    "def make_trigrams(texts):\n",
    "    return [trigram_mod[bigram_mod[doc]] for doc in texts]\n",
    "\n",
    "def lemmatization(texts, allowed_postags=['NOUN', 'ADJ', 'VERB', 'ADV']):\n",
    "    \"\"\"https://spacy.io/api/annotation\"\"\"\n",
    "    texts_out = []\n",
    "    for sent in texts:\n",
    "        doc = nlp(\" \".join(sent)) \n",
    "        texts_out.append([token.lemma_ for token in doc if token.pos_ in allowed_postags])\n",
    "    return texts_out\n",
    "        \n",
    "\n",
    "def get_lda_model(df):\n",
    "    data_words = list(sent_to_words(df['bete']))\n",
    "\n",
    "    # Build the bigram and trigram models\n",
    "    bigram = gensim.models.Phrases(data_words, min_count=5, threshold=100) # higher threshold fewer phrases.\n",
    "    trigram = gensim.models.Phrases(bigram[data_words], threshold=100)  \n",
    "\n",
    "    # Faster way to get a sentence clubbed as a trigram/bigram\n",
    "    bigram_mod = gensim.models.phrases.Phraser(bigram)\n",
    "    trigram_mod = gensim.models.phrases.Phraser(trigram)\n",
    "\n",
    "    # Remove Stop Words\n",
    "    data_words_nostops = remove_stopwords(data_words)\n",
    "\n",
    "    # Form Bigrams\n",
    "    data_words_bigrams = make_bigrams(data_words_nostops)\n",
    "\n",
    "    # Initialize spacy 'en' model, keeping only tagger component (for efficiency)\n",
    "    # python3 -m spacy download en\n",
    "    # nlp = spacy.load('nl', disable=['parser', 'ner'])\n",
    "\n",
    "    nlp = spacy.load(\"nl_core_news_sm\")\n",
    "\n",
    "    # Do lemmatization keeping only noun, adj, vb, adv\n",
    "    data_lemmatized = lemmatization(data_words_bigrams, allowed_postags=['NOUN', 'ADJ', 'VERB', 'ADV'])\n",
    "\n",
    "    # Create Dictionary\n",
    "    id2word = corpora.Dictionary(data_lemmatized)\n",
    "\n",
    "    # Create Corpus\n",
    "    texts = data_lemmatized\n",
    "\n",
    "    # Term Document Frequency\n",
    "    corpus = [id2word.doc2bow(text) for text in texts]\n",
    "    # corpus1 = [str(item) for item in corpus]\n",
    "\n",
    "    # Build LDA model\n",
    "    lda_model = gensim.models.ldamodel.LdaModel(corpus=corpus,\n",
    "                                            id2word=id2word,\n",
    "                                            num_topics=5, \n",
    "                                            random_state=100,\n",
    "                                            update_every=1,\n",
    "                                            chunksize=100,\n",
    "                                            passes=10,\n",
    "                                            alpha='auto',\n",
    "                                            per_word_topics=True)\n",
    "\n",
    "    return(lda_model, data_lemmatized, corpus, id2word)"
   ]
  },
  {
   "cell_type": "code",
   "execution_count": 158,
   "metadata": {},
   "outputs": [
    {
     "name": "stdout",
     "output_type": "stream",
     "text": [
      "1\n",
      "2\n",
      "3\n",
      "4\n"
     ]
    }
   ],
   "source": [
    "d = [df18, df19, df20, df21]\n",
    "q = 1\n",
    "lda_models = []\n",
    "dat_lems = []\n",
    "corps = []\n",
    "ids = []\n",
    "\n",
    "for i in d:\n",
    "    print(q)\n",
    "    q += 1\n",
    "    l, dl, c, i = get_lda_model(i)\n",
    "    lda_models.append(l)\n",
    "    dat_lems.append(dl)\n",
    "    corps.append(c)\n",
    "    ids.append(i)\n",
    "\n"
   ]
  },
  {
   "cell_type": "code",
   "execution_count": 156,
   "metadata": {},
   "outputs": [
    {
     "data": {
      "text/html": [
       "<div>\n",
       "<style scoped>\n",
       "    .dataframe tbody tr th:only-of-type {\n",
       "        vertical-align: middle;\n",
       "    }\n",
       "\n",
       "    .dataframe tbody tr th {\n",
       "        vertical-align: top;\n",
       "    }\n",
       "\n",
       "    .dataframe thead th {\n",
       "        text-align: right;\n",
       "    }\n",
       "</style>\n",
       "<table border=\"1\" class=\"dataframe\">\n",
       "  <thead>\n",
       "    <tr style=\"text-align: right;\">\n",
       "      <th></th>\n",
       "      <th>Unnamed: 0</th>\n",
       "      <th>filename</th>\n",
       "      <th>ecli</th>\n",
       "      <th>subject</th>\n",
       "      <th>spatial</th>\n",
       "      <th>case_nr</th>\n",
       "      <th>bete</th>\n",
       "    </tr>\n",
       "    <tr>\n",
       "      <th>date</th>\n",
       "      <th></th>\n",
       "      <th></th>\n",
       "      <th></th>\n",
       "      <th></th>\n",
       "      <th></th>\n",
       "      <th></th>\n",
       "      <th></th>\n",
       "    </tr>\n",
       "  </thead>\n",
       "  <tbody>\n",
       "    <tr>\n",
       "      <th>2021-02-10</th>\n",
       "      <td>7</td>\n",
       "      <td>ECLI_NL_RBOVE_2021_606.xml</td>\n",
       "      <td>ECLI:NL:RBOVE:2021:606</td>\n",
       "      <td>Strafrecht</td>\n",
       "      <td>Almelo</td>\n",
       "      <td>08/760218-17 (P)</td>\n",
       "      <td>[][' tenlastelegging   de verdenking komt er, ...</td>\n",
       "    </tr>\n",
       "    <tr>\n",
       "      <th>2021-02-10</th>\n",
       "      <td>8</td>\n",
       "      <td>ECLI_NL_GHSHE_2021_1801.xml</td>\n",
       "      <td>ECLI:NL:GHSHE:2021:1801</td>\n",
       "      <td>Strafrecht</td>\n",
       "      <td>'s-Hertogenbosch</td>\n",
       "      <td>20-003457-18</td>\n",
       "      <td>['      bewijsmiddelen     indien tegen dit ve...</td>\n",
       "    </tr>\n",
       "    <tr>\n",
       "      <th>2021-02-09</th>\n",
       "      <td>16</td>\n",
       "      <td>ECLI_NL_RBROT_2021_2966.xml</td>\n",
       "      <td>ECLI:NL:RBROT:2021:2966</td>\n",
       "      <td>Strafrecht</td>\n",
       "      <td>Rotterdam</td>\n",
       "      <td>10.295806.20</td>\n",
       "      <td>['  bewijswaardering   4.1.1.   standpunt verd...</td>\n",
       "    </tr>\n",
       "    <tr>\n",
       "      <th>2021-02-02</th>\n",
       "      <td>28</td>\n",
       "      <td>ECLI_NL_RBAMS_2021_378.xml</td>\n",
       "      <td>ECLI:NL:RBAMS:2021:378</td>\n",
       "      <td>Strafrecht</td>\n",
       "      <td>Amsterdam</td>\n",
       "      <td>13/701115-19</td>\n",
       "      <td>[]['  2tenlastelegging   aan verdachte is – ko...</td>\n",
       "    </tr>\n",
       "    <tr>\n",
       "      <th>2021-02-23</th>\n",
       "      <td>43</td>\n",
       "      <td>ECLI_NL_GHDHA_2021_497.xml</td>\n",
       "      <td>ECLI:NL:GHDHA:2021:497</td>\n",
       "      <td>Strafrecht</td>\n",
       "      <td>Den Haag</td>\n",
       "      <td>2200469519</td>\n",
       "      <td>['      bewijsvoering     het hof grondt zijn ...</td>\n",
       "    </tr>\n",
       "    <tr>\n",
       "      <th>...</th>\n",
       "      <td>...</td>\n",
       "      <td>...</td>\n",
       "      <td>...</td>\n",
       "      <td>...</td>\n",
       "      <td>...</td>\n",
       "      <td>...</td>\n",
       "      <td>...</td>\n",
       "    </tr>\n",
       "    <tr>\n",
       "      <th>2021-02-03</th>\n",
       "      <td>2882</td>\n",
       "      <td>ECLI_NL_RBROT_2021_1286.xml</td>\n",
       "      <td>ECLI:NL:RBROT:2021:1286</td>\n",
       "      <td>Strafrecht</td>\n",
       "      <td>Rotterdam</td>\n",
       "      <td>10/750172-20</td>\n",
       "      <td>[][' tenlastelegging     aan de verdachte word...</td>\n",
       "    </tr>\n",
       "    <tr>\n",
       "      <th>2021-02-25</th>\n",
       "      <td>2898</td>\n",
       "      <td>ECLI_NL_RBZWB_2021_786.xml</td>\n",
       "      <td>ECLI:NL:RBZWB:2021:786</td>\n",
       "      <td>Strafrecht</td>\n",
       "      <td>Middelburg</td>\n",
       "      <td>02-220946-20</td>\n",
       "      <td>[][' tenlastelegging  de tenlastelegging is ge...</td>\n",
       "    </tr>\n",
       "    <tr>\n",
       "      <th>2021-02-25</th>\n",
       "      <td>2902</td>\n",
       "      <td>ECLI_NL_RBNHO_2021_1491.xml</td>\n",
       "      <td>ECLI:NL:RBNHO:2021:1491</td>\n",
       "      <td>Strafrecht</td>\n",
       "      <td>Haarlem</td>\n",
       "      <td>15/246961-19</td>\n",
       "      <td>[]['  1tenlastelegging  aan verdachte is ten l...</td>\n",
       "    </tr>\n",
       "    <tr>\n",
       "      <th>2021-02-26</th>\n",
       "      <td>2907</td>\n",
       "      <td>ECLI_NL_GHARL_2021_1849.xml</td>\n",
       "      <td>ECLI:NL:GHARL:2021:1849</td>\n",
       "      <td>Strafrecht</td>\n",
       "      <td>Leeuwarden</td>\n",
       "      <td>21-002353-20</td>\n",
       "      <td>['    bewijsmiddel 3:   het hof voegt aan het ...</td>\n",
       "    </tr>\n",
       "    <tr>\n",
       "      <th>2021-02-22</th>\n",
       "      <td>2909</td>\n",
       "      <td>ECLI_NL_RBLIM_2021_1482.xml</td>\n",
       "      <td>ECLI:NL:RBLIM:2021:1482</td>\n",
       "      <td>Strafrecht</td>\n",
       "      <td>Maastricht</td>\n",
       "      <td>03/700386-17</td>\n",
       "      <td>[][' tenlastelegging  de tenlastelegging is al...</td>\n",
       "    </tr>\n",
       "  </tbody>\n",
       "</table>\n",
       "<p>527 rows × 7 columns</p>\n",
       "</div>"
      ],
      "text/plain": [
       "            Unnamed: 0                     filename                     ecli  \\\n",
       "date                                                                           \n",
       "2021-02-10           7   ECLI_NL_RBOVE_2021_606.xml   ECLI:NL:RBOVE:2021:606   \n",
       "2021-02-10           8  ECLI_NL_GHSHE_2021_1801.xml  ECLI:NL:GHSHE:2021:1801   \n",
       "2021-02-09          16  ECLI_NL_RBROT_2021_2966.xml  ECLI:NL:RBROT:2021:2966   \n",
       "2021-02-02          28   ECLI_NL_RBAMS_2021_378.xml   ECLI:NL:RBAMS:2021:378   \n",
       "2021-02-23          43   ECLI_NL_GHDHA_2021_497.xml   ECLI:NL:GHDHA:2021:497   \n",
       "...                ...                          ...                      ...   \n",
       "2021-02-03        2882  ECLI_NL_RBROT_2021_1286.xml  ECLI:NL:RBROT:2021:1286   \n",
       "2021-02-25        2898   ECLI_NL_RBZWB_2021_786.xml   ECLI:NL:RBZWB:2021:786   \n",
       "2021-02-25        2902  ECLI_NL_RBNHO_2021_1491.xml  ECLI:NL:RBNHO:2021:1491   \n",
       "2021-02-26        2907  ECLI_NL_GHARL_2021_1849.xml  ECLI:NL:GHARL:2021:1849   \n",
       "2021-02-22        2909  ECLI_NL_RBLIM_2021_1482.xml  ECLI:NL:RBLIM:2021:1482   \n",
       "\n",
       "               subject           spatial           case_nr  \\\n",
       "date                                                         \n",
       "2021-02-10  Strafrecht            Almelo  08/760218-17 (P)   \n",
       "2021-02-10  Strafrecht  's-Hertogenbosch      20-003457-18   \n",
       "2021-02-09  Strafrecht         Rotterdam      10.295806.20   \n",
       "2021-02-02  Strafrecht         Amsterdam      13/701115-19   \n",
       "2021-02-23  Strafrecht          Den Haag        2200469519   \n",
       "...                ...               ...               ...   \n",
       "2021-02-03  Strafrecht         Rotterdam      10/750172-20   \n",
       "2021-02-25  Strafrecht        Middelburg      02-220946-20   \n",
       "2021-02-25  Strafrecht           Haarlem      15/246961-19   \n",
       "2021-02-26  Strafrecht        Leeuwarden      21-002353-20   \n",
       "2021-02-22  Strafrecht        Maastricht      03/700386-17   \n",
       "\n",
       "                                                         bete  \n",
       "date                                                           \n",
       "2021-02-10  [][' tenlastelegging   de verdenking komt er, ...  \n",
       "2021-02-10  ['      bewijsmiddelen     indien tegen dit ve...  \n",
       "2021-02-09  ['  bewijswaardering   4.1.1.   standpunt verd...  \n",
       "2021-02-02  []['  2tenlastelegging   aan verdachte is – ko...  \n",
       "2021-02-23  ['      bewijsvoering     het hof grondt zijn ...  \n",
       "...                                                       ...  \n",
       "2021-02-03  [][' tenlastelegging     aan de verdachte word...  \n",
       "2021-02-25  [][' tenlastelegging  de tenlastelegging is ge...  \n",
       "2021-02-25  []['  1tenlastelegging  aan verdachte is ten l...  \n",
       "2021-02-26  ['    bewijsmiddel 3:   het hof voegt aan het ...  \n",
       "2021-02-22  [][' tenlastelegging  de tenlastelegging is al...  \n",
       "\n",
       "[527 rows x 7 columns]"
      ]
     },
     "execution_count": 156,
     "metadata": {},
     "output_type": "execute_result"
    }
   ],
   "source": [
    "d[3]"
   ]
  },
  {
   "cell_type": "markdown",
   "metadata": {},
   "source": [
    "# Building the Topic Model"
   ]
  },
  {
   "cell_type": "code",
   "execution_count": 136,
   "metadata": {},
   "outputs": [],
   "source": [
    "# Build LDA model\n",
    "lda_model = gensim.models.ldamodel.LdaModel(corpus=corp18,\n",
    "                                           id2word=i2w18,\n",
    "                                           num_topics=5, \n",
    "                                           random_state=100,\n",
    "                                           update_every=1,\n",
    "                                           chunksize=100,\n",
    "                                           passes=10,\n",
    "                                           alpha='auto',\n",
    "                                           per_word_topics=True)"
   ]
  },
  {
   "cell_type": "markdown",
   "metadata": {},
   "source": [
    "# View the topics in LDA model"
   ]
  },
  {
   "cell_type": "code",
   "execution_count": 137,
   "metadata": {},
   "outputs": [
    {
     "name": "stdout",
     "output_type": "stream",
     "text": [
      "[(0,\n",
      "  '0.075*\"slachtoffer\" + 0.039*\"verdenken\" + 0.017*\"althans\" + 0.014*\"naam\" + '\n",
      "  '0.013*\"slaan\" + 0.011*\"rechtbank\" + 0.010*\"ander\" + 0.008*\"zien\" + '\n",
      "  '0.008*\"medeverdacht\" + 0.008*\"verklaren\"'),\n",
      " (1,\n",
      "  '0.040*\"verdenken\" + 0.027*\"ander\" + 0.016*\"althans\" + 0.016*\"geval\" + '\n",
      "  '0.013*\"slachtoffer\" + 0.011*\"feit\" + 0.011*\"naam\" + 0.010*\"geld\" + '\n",
      "  '0.010*\"goed\" + 0.010*\"mededader\"'),\n",
      " (2,\n",
      "  '0.049*\"verdenken\" + 0.036*\"slachtoffer\" + 0.021*\"naam\" + '\n",
      "  '0.013*\"aangeefster\" + 0.011*\"zeggen\" + 0.011*\"rechtbank\" + 0.010*\"gaan\" + '\n",
      "  '0.009*\"feit\" + 0.008*\"weten\" + 0.008*\"maken\"'),\n",
      " (3,\n",
      "  '0.029*\"verdenken\" + 0.023*\"betrokken\" + 0.021*\"adres\" + '\n",
      "  '0.018*\"medeverdacht\" + 0.017*\"man\" + 0.015*\"woning\" + 0.014*\"verbalisant\" + '\n",
      "  '0.012*\"plaats\" + 0.012*\"zien\" + 0.009*\"komen\"'),\n",
      " (4,\n",
      "  '0.037*\"verdenken\" + 0.011*\"althans\" + 0.010*\"ander\" + 0.009*\"rechtbank\" + '\n",
      "  '0.009*\"feit\" + 0.008*\"naam\" + 0.008*\"hof\" + 0.007*\"verklaren\" + '\n",
      "  '0.007*\"bedrag\" + 0.007*\"weten\"')]\n"
     ]
    }
   ],
   "source": [
    "# Print the Keyword in the 10 topics\n",
    "pprint(lda_model.print_topics())\n",
    "doc_lda = lda_model[corpus]"
   ]
  },
  {
   "cell_type": "markdown",
   "metadata": {},
   "source": [
    "# Compute Model Perplexity and Coherence Score"
   ]
  },
  {
   "cell_type": "code",
   "execution_count": 112,
   "metadata": {},
   "outputs": [
    {
     "name": "stdout",
     "output_type": "stream",
     "text": [
      "\n",
      "Perplexity:  -7.197103925749577\n",
      "\n",
      "Coherence Score:  0.4805791301370833\n"
     ]
    }
   ],
   "source": [
    "# Compute Perplexity\n",
    "print('\\nPerplexity: ', lda_model.log_perplexity(corpus))  # a measure of how good the model is. lower the better.\n",
    "\n",
    "# Compute Coherence Score\n",
    "coherence_model_lda = CoherenceModel(model=lda_model, texts=data_lemmatized, dictionary=id2word, coherence='c_v')\n",
    "coherence_lda = coherence_model_lda.get_coherence()\n",
    "print('\\nCoherence Score: ', coherence_lda)"
   ]
  },
  {
   "cell_type": "markdown",
   "metadata": {},
   "source": [
    "# Visualize the topics-keywords"
   ]
  },
  {
   "cell_type": "code",
   "execution_count": 162,
   "metadata": {},
   "outputs": [
    {
     "data": {
      "text/html": [
       "\n",
       "<link rel=\"stylesheet\" type=\"text/css\" href=\"https://cdn.jsdelivr.net/gh/bmabey/pyLDAvis@3.3.1/pyLDAvis/js/ldavis.v1.0.0.css\">\n",
       "\n",
       "\n",
       "<div id=\"ldavis_el22621401949284048169368147576\"></div>\n",
       "<script type=\"text/javascript\">\n",
       "\n",
       "var ldavis_el22621401949284048169368147576_data = {\"mdsDat\": {\"x\": [-0.04312869757819165, -0.19727504684171485, 0.09969385766249797, 0.10768542982572589, 0.033024456931682454], \"y\": [-0.06075636227915549, -0.009481775305742067, -0.14490808477608264, 0.03817922899573224, 0.17696699336524785], \"topics\": [1, 2, 3, 4, 5], \"cluster\": [1, 1, 1, 1, 1], \"Freq\": [45.349315978224304, 19.700064612548548, 14.537534249843787, 10.576051808924426, 9.83703335045894]}, \"tinfo\": {\"Term\": [\"slachtoffer\", \"naam\", \"althans\", \"kenteken\", \"bedrijf\", \"verdenken\", \"uur\", \"telefoonnummer\", \"hof\", \"ander\", \"stappen\", \"zover_inhoudenen\", \"kans\", \"ontvoering\", \"bijnaam\", \"seksueel\", \"minuut\", \"vroeg\", \"gebeurtenis\", \"kettingslot\", \"beeld\", \"verhoor\", \"jongen\", \"proces_verbaal\", \"zeer\", \"zien\", \"aangeefster\", \"hof\", \"benadelen\", \"lopen\", \"getuige\", \"verdenken\", \"verklaring\", \"komen\", \"slachtoffer\", \"verklaren\", \"gaan\", \"medeverdacht\", \"sieraad\", \"bankpas\", \"dele_toebehorenen\", \"betrapping\", \"vuurwapen_gelijken\", \"maken_hetzij\", \"vlucht_mogelijk\", \"nijmeg\", \"portemonnee\", \"gelijke_dreigenen\", \"geweld\", \"bedreiging\", \"mes\", \"althans\", \"veroordeling_mocht\", \"mededader\", \"voorgenomen_misdrijf\", \"ander\", \"geval\", \"vereniging\", \"slachtoffer\", \"naam\", \"tezamen\", \"weten\", \"verdenken\", \"goed\", \"loods\", \"volkswagen\", \"wijnjewoud\", \"noordwolen\", \"bedrijfsnaam\", \"bestelauto\", \"sprinter\", \"hertogenbosch\", \"mercedes_benz\", \"veiligstellen\", \"kenteken\", \"stelen\", \"koppelen\", \"merk\", \"voertuig\", \"voorzien\", \"uur\", \"aantreffen\", \"winkel\", \"zaak\", \"naam\", \"verdenken\", \"auto\", \"rechtbank\", \"medeverdacht\", \"heroine\", \"koerier\", \"madagaskar\", \"materiaal_bevattenen\", \"opiumwet\", \"afnemer\", \"mdma\", \"observatie\", \"goednr_kenmerk\", \"container\", \"reis\", \"cocaine\", \"gram\", \"verdovende_middelen\", \"drug\", \"telefoonnummer\", \"naam\", \"verdenken\", \"hoeveelheid\", \"medeverdacht\", \"feit\", \"hof\", \"verklaring\", \"verklaren\", \"adres\", \"geven\", \"www_website\", \"werknemer\", \"schip\", \"phishing\", \"creditcard\", \"android\", \"mailadres\", \"valselijk\", \"website\", \"asbest\", \"rabobank\", \"transactie\", \"mail\", \"bedrijf\", \"werkzaamheid\", \"vals\", \"rekening\", \"telkens\", \"naam\", \"verdenken\", \"periode\", \"slachtoffer\", \"weten\", \"althans\", \"ander\"], \"Freq\": [6909.0, 5042.0, 2442.0, 1171.0, 1180.0, 13174.0, 1668.0, 1367.0, 2279.0, 2617.0, 197.7660495248412, 149.48384415633848, 107.66320041313112, 95.39419220774302, 1360.6595089892091, 93.85572686823248, 95.50299240167995, 91.56994188396556, 90.78332278123376, 90.49664461927719, 416.51860355501424, 378.61229201658585, 212.38265814312757, 696.3745163947275, 187.810408817733, 2201.113487632328, 677.6515238811072, 1909.8782803981258, 2363.7595004943064, 456.18324861643265, 729.5543099299482, 7495.462168774582, 1374.1807543315967, 1111.9592921147998, 3396.4652396601464, 1332.5637532342619, 1150.6725789212771, 1429.7652165542943, 164.9502874341117, 193.74419627729668, 94.15748786200709, 85.91957554123712, 75.00198655149654, 73.41887176162356, 73.41779279164626, 68.62518016221323, 61.703767586202304, 58.544953970394474, 746.9654109699687, 410.68912431968533, 345.6710815267801, 1883.567709552506, 142.68233303301335, 614.5893678855748, 259.0703397290805, 1563.2448540650455, 945.3263164959075, 634.1110309495391, 3076.735493949304, 2163.6579325266307, 554.4338831236741, 839.2962808466474, 2021.8520045856087, 652.2178359911042, 321.87008966732543, 250.02119214939623, 180.45511180181356, 174.54653318898636, 137.05444488754677, 113.95172768942516, 103.51799496435373, 100.93705729743492, 224.89806382281137, 79.0941545066398, 1095.2692484818506, 400.3705995466704, 133.10359536186752, 431.9062668672244, 442.8218504758015, 305.8460350855895, 1010.3578843614878, 608.5437977175765, 352.12372922828274, 500.91356312632183, 819.5136857878151, 1085.2000570614903, 477.8947604724648, 476.43571825893275, 438.1837486793905, 209.29259691972237, 183.90191455375404, 82.79887372435238, 138.0673948959469, 74.90375206873412, 61.342861797606474, 60.54539964963396, 54.47103803634004, 51.14266918598365, 46.78868124788943, 135.62531476577794, 177.66378917923885, 183.63438547301075, 117.65682664348884, 158.01151660913862, 624.180167472353, 1225.3738548624049, 1586.917093808776, 191.6907817982085, 410.55569481482127, 374.1633449209447, 334.391001660519, 298.3390151107386, 293.9569377944541, 262.7879026375701, 216.7950129500083, 125.20255369321298, 110.13713996042678, 99.99862606481399, 98.1055884351756, 72.70533659688466, 67.44327308054001, 125.382363338259, 59.332942955631104, 168.71287254918548, 46.591593090809916, 73.17310871803161, 210.7491630326179, 221.31490833037995, 829.8282270295989, 95.45555126289689, 206.8887214775526, 184.72383296283184, 281.4496002239857, 762.241476346674, 984.6979588522202, 272.7506800763406, 435.86648159610803, 280.23150466088083, 269.7372990525365, 246.46915952305795], \"Total\": [6909.0, 5042.0, 2442.0, 1171.0, 1180.0, 13174.0, 1668.0, 1367.0, 2279.0, 2617.0, 198.5604611490051, 150.2762155031393, 108.45830106998297, 96.18516503412248, 1372.087462871196, 94.64962211421292, 96.31467562459659, 92.36597709654622, 91.573357730134, 91.28538976806013, 422.3599474754726, 391.42058938715775, 217.95946304588375, 745.491578008837, 193.14900143507924, 2459.8960831915974, 743.7172694033394, 2279.0222014091896, 2902.015615973594, 505.41688240640144, 852.117756001151, 13174.129283082679, 1893.0789228402823, 1501.9999177248596, 6909.459193398748, 1952.0086214059143, 1642.128702712801, 2698.3796163343486, 165.75658609965075, 194.9568477304671, 94.96005905968369, 86.72297049938715, 75.80606035689428, 74.21913212372586, 74.21845764979011, 69.46069089048655, 62.50917077806075, 59.3476489066796, 842.880008362406, 454.732971850313, 381.50724829627444, 2442.6856636590196, 153.35398533969084, 806.7157305903138, 310.6933828918116, 2617.0539626538894, 1449.6067323363538, 902.0509937093648, 6909.459193398748, 5042.782422636655, 808.0153815455999, 1933.350502086522, 13174.129283082679, 1304.552521188643, 322.646496146317, 250.7937769723142, 181.22646949133858, 175.3178928574356, 137.8257901077391, 114.73636505784727, 104.28943059428265, 101.72764828037708, 226.75719698101307, 79.88344676914691, 1171.4803324706158, 419.4225838365868, 136.22666480561165, 520.7520759722581, 540.1803048743726, 357.89191414276235, 1668.2647190026269, 978.5219273362112, 548.862041886342, 1145.860092757647, 5042.782422636655, 13174.129283082679, 1577.9478237599562, 2203.753399699453, 2698.3796163343486, 210.11772945648033, 184.73349006632344, 83.62368086261024, 139.5327404042863, 75.73412824810964, 62.170043060064955, 61.369816750901194, 55.29736069372023, 51.969862512936146, 47.63124796598617, 140.56119878812615, 185.17265364305928, 194.24887281609338, 126.62825094648245, 180.04799472620806, 1367.0114604169498, 5042.782422636655, 13174.129283082679, 322.78427440543226, 2698.3796163343486, 2580.790472653836, 2279.0222014091896, 1893.0789228402823, 1952.0086214059143, 1167.9468767392073, 1009.4704965199899, 125.99589297865442, 110.92780738115569, 100.78914872203836, 98.8985103068757, 73.56229829457294, 68.23914618581401, 126.97178771648252, 60.127754234590746, 171.3894975093435, 47.381892467224354, 74.4992061032225, 230.3531966979991, 245.5093357319315, 1180.2394038974276, 106.50651932476637, 323.7101757053286, 298.07617158464814, 629.6718148731056, 5042.782422636655, 13174.129283082679, 997.5103176752708, 6909.459193398748, 1933.350502086522, 2442.6856636590196, 2617.0539626538894], \"Category\": [\"Default\", \"Default\", \"Default\", \"Default\", \"Default\", \"Default\", \"Default\", \"Default\", \"Default\", \"Default\", \"Topic1\", \"Topic1\", \"Topic1\", \"Topic1\", \"Topic1\", \"Topic1\", \"Topic1\", \"Topic1\", \"Topic1\", \"Topic1\", \"Topic1\", \"Topic1\", \"Topic1\", \"Topic1\", \"Topic1\", \"Topic1\", \"Topic1\", \"Topic1\", \"Topic1\", \"Topic1\", \"Topic1\", \"Topic1\", \"Topic1\", \"Topic1\", \"Topic1\", \"Topic1\", \"Topic1\", \"Topic1\", \"Topic2\", \"Topic2\", \"Topic2\", \"Topic2\", \"Topic2\", \"Topic2\", \"Topic2\", \"Topic2\", \"Topic2\", \"Topic2\", \"Topic2\", \"Topic2\", \"Topic2\", \"Topic2\", \"Topic2\", \"Topic2\", \"Topic2\", \"Topic2\", \"Topic2\", \"Topic2\", \"Topic2\", \"Topic2\", \"Topic2\", \"Topic2\", \"Topic2\", \"Topic2\", \"Topic3\", \"Topic3\", \"Topic3\", \"Topic3\", \"Topic3\", \"Topic3\", \"Topic3\", \"Topic3\", \"Topic3\", \"Topic3\", \"Topic3\", \"Topic3\", \"Topic3\", \"Topic3\", \"Topic3\", \"Topic3\", \"Topic3\", \"Topic3\", \"Topic3\", \"Topic3\", \"Topic3\", \"Topic3\", \"Topic3\", \"Topic3\", \"Topic3\", \"Topic4\", \"Topic4\", \"Topic4\", \"Topic4\", \"Topic4\", \"Topic4\", \"Topic4\", \"Topic4\", \"Topic4\", \"Topic4\", \"Topic4\", \"Topic4\", \"Topic4\", \"Topic4\", \"Topic4\", \"Topic4\", \"Topic4\", \"Topic4\", \"Topic4\", \"Topic4\", \"Topic4\", \"Topic4\", \"Topic4\", \"Topic4\", \"Topic4\", \"Topic4\", \"Topic5\", \"Topic5\", \"Topic5\", \"Topic5\", \"Topic5\", \"Topic5\", \"Topic5\", \"Topic5\", \"Topic5\", \"Topic5\", \"Topic5\", \"Topic5\", \"Topic5\", \"Topic5\", \"Topic5\", \"Topic5\", \"Topic5\", \"Topic5\", \"Topic5\", \"Topic5\", \"Topic5\", \"Topic5\", \"Topic5\", \"Topic5\", \"Topic5\"], \"logprob\": [10.0, 9.0, 8.0, 7.0, 6.0, 5.0, 4.0, 3.0, 2.0, 1.0, -6.6615, -6.9414, -7.2696, -7.3906, -4.7329, -7.4069, -7.3895, -7.4315, -7.4402, -7.4433, -5.9167, -6.0121, -6.5902, -5.4027, -6.7132, -4.2519, -5.43, -4.3938, -4.1806, -5.8257, -5.3562, -3.0266, -4.723, -4.9347, -3.8181, -4.7538, -4.9005, -4.6834, -6.0092, -5.8483, -6.5699, -6.6614, -6.7973, -6.8187, -6.8187, -6.8862, -6.9925, -7.0451, -4.4988, -5.097, -5.2694, -3.5739, -6.1542, -4.6939, -5.5578, -3.7603, -4.2633, -4.6626, -3.0832, -3.4353, -4.7969, -4.3823, -3.5031, -4.6345, -5.0368, -5.2894, -5.6155, -5.6488, -5.8906, -6.0752, -6.1712, -6.1965, -5.3953, -6.4403, -3.8122, -4.8186, -5.9198, -4.7428, -4.7178, -5.0879, -3.8929, -4.3999, -4.947, -4.5945, -4.1023, -3.8214, -4.6416, -4.6446, -4.7283, -5.1491, -5.2784, -6.0764, -5.5651, -6.1766, -6.3763, -6.3894, -6.4952, -6.5582, -6.6472, -5.5829, -5.3129, -5.2799, -5.7251, -5.4302, -4.0564, -3.3818, -3.1233, -5.2369, -4.4753, -4.5681, -4.6805, -4.7946, -4.8094, -4.9215, -5.1139, -5.5905, -5.7187, -5.8152, -5.8343, -6.134, -6.2091, -5.589, -6.3372, -5.2922, -6.579, -6.1276, -5.0697, -5.0208, -3.6992, -5.8617, -5.0882, -5.2015, -4.7804, -3.7841, -3.5281, -4.8118, -4.3431, -4.7848, -4.8229, -4.9132], \"loglift\": [10.0, 9.0, 8.0, 7.0, 6.0, 5.0, 4.0, 3.0, 2.0, 1.0, 0.7868, 0.7855, 0.7834, 0.7825, 0.7824, 0.7824, 0.7823, 0.7821, 0.7821, 0.7821, 0.7768, 0.7575, 0.7649, 0.7226, 0.7627, 0.6796, 0.6977, 0.6141, 0.5856, 0.6883, 0.6355, 0.2268, 0.4704, 0.4901, 0.0806, 0.409, 0.4351, 0.1556, 1.6197, 1.6183, 1.6161, 1.6152, 1.6139, 1.6137, 1.6137, 1.6124, 1.6116, 1.6109, 1.5037, 1.5227, 1.5259, 1.3646, 1.5524, 1.3525, 1.4428, 1.1093, 1.197, 1.2721, 0.8155, 0.7784, 1.2479, 0.7901, -0.2497, 0.9313, 1.926, 1.9254, 1.9242, 1.924, 1.9228, 1.9216, 1.921, 1.9206, 1.9202, 1.9185, 1.8612, 1.8819, 1.9052, 1.7414, 1.7297, 1.7713, 1.427, 1.4535, 1.4846, 1.101, 0.1114, -0.5681, 0.7339, 0.3969, 0.1107, 2.2426, 2.2421, 2.2367, 2.236, 2.2356, 2.2332, 2.2331, 2.2315, 2.2305, 2.2287, 2.2108, 2.2052, 2.1904, 2.1731, 2.116, 1.4626, 0.8319, 0.1301, 1.7255, 0.3637, 0.3154, 0.3274, 0.3988, 0.3534, 0.7549, 0.7083, 2.3127, 2.3119, 2.3111, 2.311, 2.3073, 2.3073, 2.3064, 2.3057, 2.3033, 2.3022, 2.3011, 2.2301, 2.2153, 1.9668, 2.2095, 1.8713, 1.8405, 1.5138, 0.4296, -0.2747, 1.0223, -0.4443, 0.3876, 0.1156, -0.0436]}, \"token.table\": {\"Topic\": [1, 2, 1, 2, 3, 4, 5, 1, 2, 3, 4, 5, 4, 1, 2, 3, 4, 5, 1, 2, 3, 4, 5, 5, 5, 1, 2, 3, 4, 2, 3, 1, 2, 3, 3, 4, 5, 3, 1, 3, 1, 2, 3, 5, 3, 2, 1, 3, 4, 1, 3, 4, 4, 5, 2, 1, 4, 1, 2, 3, 4, 5, 1, 2, 3, 4, 5, 1, 2, 1, 3, 4, 5, 1, 2, 3, 4, 5, 1, 2, 3, 4, 5, 1, 2, 1, 2, 3, 4, 5, 4, 1, 3, 4, 4, 3, 2, 3, 4, 5, 1, 4, 5, 1, 2, 3, 1, 1, 3, 4, 1, 4, 1, 2, 3, 4, 5, 2, 3, 4, 3, 1, 2, 3, 4, 4, 1, 5, 1, 5, 2, 3, 4, 4, 1, 2, 3, 4, 5, 1, 2, 3, 4, 5, 3, 4, 1, 2, 3, 4, 1, 2, 1, 1, 2, 3, 4, 5, 2, 3, 4, 1, 4, 1, 2, 3, 4, 5, 5, 2, 1, 2, 4, 3, 5, 1, 2, 3, 4, 5, 4, 5, 1, 3, 4, 5, 5, 1, 2, 1, 2, 5, 3, 1, 2, 3, 1, 3, 4, 5, 1, 2, 3, 4, 5, 1, 2, 3, 4, 5, 3, 4, 5, 1, 2, 3, 4, 5, 2, 3, 5, 5, 3, 1, 2, 3, 4, 5, 1, 2, 4, 1, 2, 3, 4, 5, 1, 4, 1, 2, 3, 4, 5, 1, 2, 3, 4, 5, 1, 2, 5, 2, 1, 2, 3, 4, 3, 1, 2, 1, 2, 3, 4, 5, 1, 2, 1, 3, 5, 5, 1, 3, 5, 1, 2, 3, 4, 5, 3, 1, 2, 3, 5, 1, 2, 3, 4, 5, 1, 4, 1, 2, 3, 4, 5, 1], \"Freq\": [0.9116367575327889, 0.08739880418824673, 0.16759971894186393, 0.042921879241209056, 0.6223672489975313, 0.14409488030977327, 0.023504838632090675, 0.17980269837811402, 0.19435815491348515, 0.35361197347695755, 0.22518147463544758, 0.04794738623416374, 0.9811799541632209, 0.04707932818000651, 0.7712822112272372, 0.04011977531861425, 0.031113295145047785, 0.1105340748574066, 0.14749409278842954, 0.5972364430785373, 0.0886492992925276, 0.07221861019951602, 0.09399882597397324, 0.9818411241189942, 0.9919401178944357, 0.5906405686971432, 0.07414693834502763, 0.3029250985378052, 0.032320460304242814, 0.9950920024528198, 0.005129340218828968, 0.08356552603911174, 0.9038271368967087, 0.013194556743017645, 0.2685895750923004, 0.027960428952826227, 0.7032471524498718, 0.9940084500361394, 0.9873095270810832, 0.011838243729989007, 0.8146062298865006, 0.09166043026641674, 0.03756010112420836, 0.05616785764445837, 0.9935821127200952, 0.9916634486200833, 0.9919192739739822, 0.0014576330256781515, 0.006559348615551682, 0.027001827222490702, 0.01080073088899628, 0.961265049120669, 0.9867471881812345, 0.9923561619524002, 0.9898898645473643, 0.11663556726601637, 0.8775437918109803, 0.41537661091009015, 0.2417863854551271, 0.12864275636394581, 0.1449168400003486, 0.06935859454562139, 0.7009194821931709, 0.18695245962928192, 0.03532000865960375, 0.06759518898648303, 0.009134484998173382, 0.9937388150402469, 0.994142162106097, 0.8566891076484199, 0.1267430460630539, 0.014082560673672655, 0.0023470934456121095, 0.10485602516140306, 0.6519009459047757, 0.08554044157903934, 0.08416075703744194, 0.07312328070466266, 0.48044990088563316, 0.15849893637464185, 0.03566226068429442, 0.21496418245810803, 0.1109492554622493, 0.11270880677852506, 0.8862471438269286, 0.1464103567298083, 0.49978823344416234, 0.260625765906465, 0.043693143107848546, 0.04905896770004047, 0.9813379819372289, 0.020592140083031684, 0.030888210124547524, 0.9472384438194574, 0.9946804609997851, 0.992847094249426, 0.2912161696016565, 0.06815697586421748, 0.5948245166331708, 0.0495687097194309, 0.8380787158716524, 0.14655407911054028, 0.014918678711851404, 0.9726579293112445, 0.004588009100524738, 0.018352036402098953, 0.9957744030151529, 0.018779658002113172, 0.9347147960142692, 0.046095524187005056, 0.9859189978667334, 0.9960294689064766, 0.7403462456139089, 0.11185087163951142, 0.08521971172534204, 0.051930761832630304, 0.011318242963521989, 0.014681413531292833, 0.9763139998309734, 0.007340706765646417, 0.9979962709837585, 0.9022255011128304, 0.051442682080994714, 0.041549858603880344, 0.0039571293908457475, 0.9925418152349103, 0.09775595672746756, 0.9001694348654304, 0.007875765301760712, 0.984470662720089, 0.9835738833257506, 0.007166776751481913, 0.9890151917045039, 0.9939739635788343, 0.01487512830724028, 0.7623503257460643, 0.14999087709800615, 0.0371878207681007, 0.034708632716893985, 0.5299476735384636, 0.08523633910059204, 0.1623196370698231, 0.152313632044971, 0.070412627952663, 0.9922507554141261, 0.004410003357396116, 0.12673977319586527, 0.030724793502027947, 0.8295694245547546, 0.013442097157137227, 0.09174137622889769, 0.9069290335771029, 0.9967328382455121, 0.014277831951820417, 0.42912817144082477, 0.1626086416735103, 0.24292144640250016, 0.15110705482343276, 0.993367602818508, 0.9981867631862648, 0.9765384698755151, 0.987678297025305, 0.9903065069197787, 0.0731822004308976, 0.2576414453526121, 0.21653911360375178, 0.1784442695438325, 0.2736813796936307, 0.9909148246612847, 0.9918544627656546, 0.9336121567717425, 0.06170425174066114, 0.002682793553941789, 0.013422961831491845, 0.9798762136989047, 0.43289780069317474, 0.2055583896373251, 0.21599512906703477, 0.07214963344886245, 0.07305717600796764, 0.9675500861727749, 0.02845735547566985, 0.23483930173909018, 0.030193624509311595, 0.11741965086954509, 0.6206467260247384, 0.992170300751178, 0.9931365588187027, 0.9954355593496846, 0.49150011671601107, 0.44533152506924795, 0.06310189955482357, 0.9972247370358304, 0.9971773778839861, 0.04291614398859615, 0.9536920886354701, 0.11192298267443473, 0.3145547879085421, 0.456470203848675, 0.11704364201248077, 0.03176257778670067, 0.29539197341631623, 0.015881288893350335, 0.2096330133922244, 0.44626421790314436, 0.018564003040768207, 0.6856305123057058, 0.1014832166228662, 0.113859218650045, 0.07920641297394436, 0.07814087348481043, 0.004341159638045024, 0.9159846836275001, 0.314698257428756, 0.04735459492737472, 0.605419504767702, 0.02877241210777198, 0.0035965515134714974, 0.12665650658236352, 0.231688731553104, 0.639460899086567, 0.9812440319957607, 0.9889408030715053, 0.5689180543889584, 0.1534826292160739, 0.0823583841243522, 0.12046336922151793, 0.07476774964284509, 0.03948565950036833, 0.023691395700221, 0.9318615642086926, 0.024388865101220944, 0.7028427488260944, 0.09755546040488378, 0.10198979951419668, 0.07316659530366283, 0.9682679201760834, 0.030657559477870716, 0.6828863281556208, 0.02407776250811266, 0.12551174073377874, 0.1506140888805345, 0.017417955856932562, 0.7258017525959869, 0.07131239927253147, 0.031166159682069306, 0.15741551839418058, 0.01373423985989495, 0.05216688684209534, 0.9324831023024542, 0.019562582565785754, 0.9835828217349979, 0.1592061006741085, 0.016661103558918335, 0.8200965418445357, 0.0037024674575374074, 0.9968349415129155, 0.1641489739025405, 0.8336192988383918, 0.03632381589603147, 0.01117655873724045, 0.8550067433988945, 0.0866183302136135, 0.01117655873724045, 0.9960377499589088, 0.9893668084965852, 0.005834663235099828, 0.011669326470199656, 0.9860580867318709, 0.9916359350909401, 0.04694548307182667, 0.04694548307182667, 0.8919641783647068, 0.20327405691614853, 0.43396166349274456, 0.13499880115805282, 0.08224064898134253, 0.14482630009293024, 0.9932323931775474, 0.22956588429208954, 0.12753660238449419, 0.6413269148477423, 0.992095829831349, 0.30719282591722924, 0.05323512040042893, 0.4372261527969655, 0.18850468863102704, 0.014836017160775277, 0.9733418169557044, 0.025886750450949587, 0.8947532438623618, 0.026017359203630692, 0.07195425904754113, 0.002845648662897107, 0.004471733613124025, 0.9915075349823895], \"Term\": [\"aangeefster\", \"aangeefster\", \"aantreffen\", \"aantreffen\", \"aantreffen\", \"aantreffen\", \"aantreffen\", \"adres\", \"adres\", \"adres\", \"adres\", \"adres\", \"afnemer\", \"althans\", \"althans\", \"althans\", \"althans\", \"althans\", \"ander\", \"ander\", \"ander\", \"ander\", \"ander\", \"android\", \"asbest\", \"auto\", \"auto\", \"auto\", \"auto\", \"bankpas\", \"bankpas\", \"bedreiging\", \"bedreiging\", \"bedreiging\", \"bedrijf\", \"bedrijf\", \"bedrijf\", \"bedrijfsnaam\", \"beeld\", \"beeld\", \"benadelen\", \"benadelen\", \"benadelen\", \"benadelen\", \"bestelauto\", \"betrapping\", \"bijnaam\", \"bijnaam\", \"bijnaam\", \"cocaine\", \"cocaine\", \"cocaine\", \"container\", \"creditcard\", \"dele_toebehorenen\", \"drug\", \"drug\", \"feit\", \"feit\", \"feit\", \"feit\", \"feit\", \"gaan\", \"gaan\", \"gaan\", \"gaan\", \"gaan\", \"gebeurtenis\", \"gelijke_dreigenen\", \"getuige\", \"getuige\", \"getuige\", \"getuige\", \"geval\", \"geval\", \"geval\", \"geval\", \"geval\", \"geven\", \"geven\", \"geven\", \"geven\", \"geven\", \"geweld\", \"geweld\", \"goed\", \"goed\", \"goed\", \"goed\", \"goed\", \"goednr_kenmerk\", \"gram\", \"gram\", \"gram\", \"heroine\", \"hertogenbosch\", \"hoeveelheid\", \"hoeveelheid\", \"hoeveelheid\", \"hoeveelheid\", \"hof\", \"hof\", \"hof\", \"jongen\", \"jongen\", \"jongen\", \"kans\", \"kenteken\", \"kenteken\", \"kenteken\", \"kettingslot\", \"koerier\", \"komen\", \"komen\", \"komen\", \"komen\", \"komen\", \"koppelen\", \"koppelen\", \"koppelen\", \"loods\", \"lopen\", \"lopen\", \"lopen\", \"lopen\", \"madagaskar\", \"mail\", \"mail\", \"mailadres\", \"mailadres\", \"maken_hetzij\", \"materiaal_bevattenen\", \"materiaal_bevattenen\", \"mdma\", \"mededader\", \"mededader\", \"mededader\", \"mededader\", \"mededader\", \"medeverdacht\", \"medeverdacht\", \"medeverdacht\", \"medeverdacht\", \"medeverdacht\", \"mercedes_benz\", \"mercedes_benz\", \"merk\", \"merk\", \"merk\", \"merk\", \"mes\", \"mes\", \"minuut\", \"naam\", \"naam\", \"naam\", \"naam\", \"naam\", \"nijmeg\", \"noordwolen\", \"observatie\", \"ontvoering\", \"opiumwet\", \"periode\", \"periode\", \"periode\", \"periode\", \"periode\", \"phishing\", \"portemonnee\", \"proces_verbaal\", \"proces_verbaal\", \"proces_verbaal\", \"rabobank\", \"rabobank\", \"rechtbank\", \"rechtbank\", \"rechtbank\", \"rechtbank\", \"rechtbank\", \"reis\", \"reis\", \"rekening\", \"rekening\", \"rekening\", \"rekening\", \"schip\", \"seksueel\", \"sieraad\", \"slachtoffer\", \"slachtoffer\", \"slachtoffer\", \"sprinter\", \"stappen\", \"stelen\", \"stelen\", \"telefoonnummer\", \"telefoonnummer\", \"telefoonnummer\", \"telefoonnummer\", \"telkens\", \"telkens\", \"telkens\", \"telkens\", \"telkens\", \"tezamen\", \"tezamen\", \"tezamen\", \"tezamen\", \"tezamen\", \"transactie\", \"transactie\", \"transactie\", \"uur\", \"uur\", \"uur\", \"uur\", \"uur\", \"vals\", \"vals\", \"vals\", \"valselijk\", \"veiligstellen\", \"verdenken\", \"verdenken\", \"verdenken\", \"verdenken\", \"verdenken\", \"verdovende_middelen\", \"verdovende_middelen\", \"verdovende_middelen\", \"vereniging\", \"vereniging\", \"vereniging\", \"vereniging\", \"vereniging\", \"verhoor\", \"verhoor\", \"verklaren\", \"verklaren\", \"verklaren\", \"verklaren\", \"verklaren\", \"verklaring\", \"verklaring\", \"verklaring\", \"verklaring\", \"verklaring\", \"veroordeling_mocht\", \"veroordeling_mocht\", \"veroordeling_mocht\", \"vlucht_mogelijk\", \"voertuig\", \"voertuig\", \"voertuig\", \"voertuig\", \"volkswagen\", \"voorgenomen_misdrijf\", \"voorgenomen_misdrijf\", \"voorzien\", \"voorzien\", \"voorzien\", \"voorzien\", \"voorzien\", \"vroeg\", \"vuurwapen_gelijken\", \"website\", \"website\", \"website\", \"werknemer\", \"werkzaamheid\", \"werkzaamheid\", \"werkzaamheid\", \"weten\", \"weten\", \"weten\", \"weten\", \"weten\", \"wijnjewoud\", \"winkel\", \"winkel\", \"winkel\", \"www_website\", \"zaak\", \"zaak\", \"zaak\", \"zaak\", \"zaak\", \"zeer\", \"zeer\", \"zien\", \"zien\", \"zien\", \"zien\", \"zien\", \"zover_inhoudenen\"]}, \"R\": 10, \"lambda.step\": 0.01, \"plot.opts\": {\"xlab\": \"PC1\", \"ylab\": \"PC2\"}, \"topic.order\": [5, 4, 1, 2, 3]};\n",
       "\n",
       "function LDAvis_load_lib(url, callback){\n",
       "  var s = document.createElement('script');\n",
       "  s.src = url;\n",
       "  s.async = true;\n",
       "  s.onreadystatechange = s.onload = callback;\n",
       "  s.onerror = function(){console.warn(\"failed to load library \" + url);};\n",
       "  document.getElementsByTagName(\"head\")[0].appendChild(s);\n",
       "}\n",
       "\n",
       "if(typeof(LDAvis) !== \"undefined\"){\n",
       "   // already loaded: just create the visualization\n",
       "   !function(LDAvis){\n",
       "       new LDAvis(\"#\" + \"ldavis_el22621401949284048169368147576\", ldavis_el22621401949284048169368147576_data);\n",
       "   }(LDAvis);\n",
       "}else if(typeof define === \"function\" && define.amd){\n",
       "   // require.js is available: use it to load d3/LDAvis\n",
       "   require.config({paths: {d3: \"https://d3js.org/d3.v5\"}});\n",
       "   require([\"d3\"], function(d3){\n",
       "      window.d3 = d3;\n",
       "      LDAvis_load_lib(\"https://cdn.jsdelivr.net/gh/bmabey/pyLDAvis@3.3.1/pyLDAvis/js/ldavis.v3.0.0.js\", function(){\n",
       "        new LDAvis(\"#\" + \"ldavis_el22621401949284048169368147576\", ldavis_el22621401949284048169368147576_data);\n",
       "      });\n",
       "    });\n",
       "}else{\n",
       "    // require.js not available: dynamically load d3 & LDAvis\n",
       "    LDAvis_load_lib(\"https://d3js.org/d3.v5.js\", function(){\n",
       "         LDAvis_load_lib(\"https://cdn.jsdelivr.net/gh/bmabey/pyLDAvis@3.3.1/pyLDAvis/js/ldavis.v3.0.0.js\", function(){\n",
       "                 new LDAvis(\"#\" + \"ldavis_el22621401949284048169368147576\", ldavis_el22621401949284048169368147576_data);\n",
       "            })\n",
       "         });\n",
       "}\n",
       "</script>"
      ],
      "text/plain": [
       "PreparedData(topic_coordinates=              x         y  topics  cluster       Freq\n",
       "topic                                                \n",
       "4     -0.043129 -0.060756       1        1  45.349316\n",
       "3     -0.197275 -0.009482       2        1  19.700065\n",
       "0      0.099694 -0.144908       3        1  14.537534\n",
       "1      0.107685  0.038179       4        1  10.576052\n",
       "2      0.033024  0.176967       5        1   9.837033, topic_info=             Term         Freq        Total Category  logprob  loglift\n",
       "581   slachtoffer  6909.000000  6909.000000  Default  10.0000  10.0000\n",
       "28           naam  5042.000000  5042.000000  Default   9.0000   9.0000\n",
       "4         althans  2442.000000  2442.000000  Default   8.0000   8.0000\n",
       "1779     kenteken  1171.000000  1171.000000  Default   7.0000   7.0000\n",
       "691       bedrijf  1180.000000  1180.000000  Default   6.0000   6.0000\n",
       "...           ...          ...          ...      ...      ...      ...\n",
       "32        periode   272.750680   997.510318   Topic5  -4.8118   1.0223\n",
       "581   slachtoffer   435.866482  6909.459193   Topic5  -4.3431  -0.4443\n",
       "203         weten   280.231505  1933.350502   Topic5  -4.7848   0.3876\n",
       "4         althans   269.737299  2442.685664   Topic5  -4.8229   0.1156\n",
       "6           ander   246.469160  2617.053963   Topic5  -4.9132  -0.0436\n",
       "\n",
       "[140 rows x 6 columns], token_table=      Topic      Freq              Term\n",
       "term                                   \n",
       "456       1  0.911637       aangeefster\n",
       "456       2  0.087399       aangeefster\n",
       "211       1  0.167600        aantreffen\n",
       "211       2  0.042922        aantreffen\n",
       "211       3  0.622367        aantreffen\n",
       "...     ...       ...               ...\n",
       "443       2  0.026017              zien\n",
       "443       3  0.071954              zien\n",
       "443       4  0.002846              zien\n",
       "443       5  0.004472              zien\n",
       "5860      1  0.991508  zover_inhoudenen\n",
       "\n",
       "[296 rows x 3 columns], R=10, lambda_step=0.01, plot_opts={'xlab': 'PC1', 'ylab': 'PC2'}, topic_order=[5, 4, 1, 2, 3])"
      ]
     },
     "execution_count": 162,
     "metadata": {},
     "output_type": "execute_result"
    }
   ],
   "source": [
    "# 18 = 0 / 19 = 1 / 20 = 2 / 21 = 3\n",
    "\n",
    "a = 3\n",
    "\n",
    "# Visualize the topics\n",
    "pyLDAvis.enable_notebook()\n",
    "vis = gensimvis.prepare(lda_models[a], corps[a], ids[a], R = 10)\n",
    "vis"
   ]
  },
  {
   "cell_type": "markdown",
   "metadata": {},
   "source": [
    "# How to find the optimal number fo topics for LDA?"
   ]
  },
  {
   "cell_type": "code",
   "execution_count": 114,
   "metadata": {},
   "outputs": [],
   "source": [
    "def compute_coherence_values(dictionary, corpus, texts, limit, start=2, step=3):\n",
    "    \"\"\"\n",
    "    Compute c_v coherence for various number of topics\n",
    "\n",
    "    Parameters:\n",
    "    ----------\n",
    "    dictionary : Gensim dictionary\n",
    "    corpus : Gensim corpus\n",
    "    texts : List of input texts\n",
    "    limit : Max num of topics\n",
    "\n",
    "    Returns:\n",
    "    -------\n",
    "    model_list : List of LDA topic models\n",
    "    coherence_values : Coherence values corresponding to the LDA model with respective number of topics\n",
    "    \"\"\"\n",
    "    coherence_values = []\n",
    "    model_list = []\n",
    "    for num_topics in range(start, limit, step):\n",
    "        model = gensim.models.ldamodel.LdaModel(corpus=corpus, num_topics=num_topics, id2word=id2word)\n",
    "        model_list.append(model)\n",
    "        coherencemodel = CoherenceModel(model=model, texts=texts, dictionary=dictionary, coherence='c_v')\n",
    "        coherence_values.append(coherencemodel.get_coherence())\n",
    "\n",
    "    return model_list, coherence_values\n"
   ]
  },
  {
   "cell_type": "code",
   "execution_count": 115,
   "metadata": {},
   "outputs": [],
   "source": [
    "# Can take a long time to run.\n",
    "model_list, coherence_values = compute_coherence_values(dictionary=id2word, corpus=corpus, texts=data_lemmatized, start=2, limit=15, step=1)  # 2,40,6"
   ]
  },
  {
   "cell_type": "code",
   "execution_count": 116,
   "metadata": {},
   "outputs": [
    {
     "data": {
      "image/png": "[encoded data removed]",
      "text/plain": [
       "<Figure size 432x288 with 1 Axes>"
      ]
     },
     "metadata": {
      "needs_background": "light"
     },
     "output_type": "display_data"
    }
   ],
   "source": [
    "# Show graph\n",
    "\n",
    "plt.plot(coherence_values)\n",
    "plt.xlabel(\"Num Topics\")\n",
    "plt.ylabel(\"Coherence score\")\n",
    "plt.legend((\"coherence_values\"), loc='best')\n",
    "plt.show()"
   ]
  },
  {
   "cell_type": "code",
   "execution_count": null,
   "metadata": {},
   "outputs": [],
   "source": []
  },
  {
   "cell_type": "code",
   "execution_count": null,
   "metadata": {},
   "outputs": [],
   "source": []
  },
  {
   "cell_type": "code",
   "execution_count": null,
   "metadata": {},
   "outputs": [],
   "source": []
  },
  {
   "cell_type": "code",
   "execution_count": null,
   "metadata": {},
   "outputs": [],
   "source": []
  },
  {
   "cell_type": "markdown",
   "metadata": {},
   "source": [
    "# TF-IDF"
   ]
  },
  {
   "cell_type": "code",
   "execution_count": 117,
   "metadata": {},
   "outputs": [],
   "source": [
    "from sklearn.feature_extraction.text import TfidfVectorizer\n",
    "from sklearn.preprocessing import Normalizer\n",
    "from sklearn.cluster import KMeans\n",
    "from sklearn import metrics\n",
    "from sklearn.metrics.pairwise import cosine_distances"
   ]
  },
  {
   "cell_type": "code",
   "execution_count": 118,
   "metadata": {},
   "outputs": [],
   "source": [
    "sample = list(df['bete'])"
   ]
  },
  {
   "cell_type": "markdown",
   "metadata": {},
   "source": [
    "# Approach 2"
   ]
  },
  {
   "cell_type": "code",
   "execution_count": 119,
   "metadata": {},
   "outputs": [],
   "source": [
    "dat_lem_untok = [\" \".join(x) for x in data_lemmatized]\n",
    "tfidf_vectorizer = TfidfVectorizer(input=dat_lem_untok, stop_words=stop_words)"
   ]
  },
  {
   "cell_type": "code",
   "execution_count": 120,
   "metadata": {},
   "outputs": [
    {
     "name": "stderr",
     "output_type": "stream",
     "text": [
      "/opt/anaconda3/lib/python3.7/site-packages/sklearn/feature_extraction/text.py:391: UserWarning: Your stop_words may be inconsistent with your preprocessing. Tokenizing the stop words generated tokens ['tenlastelegging'] not in stop_words.\n",
      "  'stop_words.' % sorted(inconsistent))\n"
     ]
    }
   ],
   "source": [
    "tfidf_vector = tfidf_vectorizer.fit_transform(dat_lem_untok)"
   ]
  },
  {
   "cell_type": "code",
   "execution_count": 121,
   "metadata": {},
   "outputs": [],
   "source": [
    "tfidf_df = pd.DataFrame(tfidf_vector.toarray(), columns=tfidf_vectorizer.get_feature_names())"
   ]
  },
  {
   "cell_type": "code",
   "execution_count": 122,
   "metadata": {},
   "outputs": [
    {
     "data": {
      "text/html": [
       "<div>\n",
       "<style scoped>\n",
       "    .dataframe tbody tr th:only-of-type {\n",
       "        vertical-align: middle;\n",
       "    }\n",
       "\n",
       "    .dataframe tbody tr th {\n",
       "        vertical-align: top;\n",
       "    }\n",
       "\n",
       "    .dataframe thead th {\n",
       "        text-align: right;\n",
       "    }\n",
       "</style>\n",
       "<table border=\"1\" class=\"dataframe\">\n",
       "  <thead>\n",
       "    <tr style=\"text-align: right;\">\n",
       "      <th></th>\n",
       "      <th>level_0</th>\n",
       "      <th>level_1</th>\n",
       "      <th>0</th>\n",
       "    </tr>\n",
       "  </thead>\n",
       "  <tbody>\n",
       "    <tr>\n",
       "      <th>0</th>\n",
       "      <td>0</td>\n",
       "      <td>aa</td>\n",
       "      <td>0.0</td>\n",
       "    </tr>\n",
       "    <tr>\n",
       "      <th>1</th>\n",
       "      <td>0</td>\n",
       "      <td>aa_flesje</td>\n",
       "      <td>0.0</td>\n",
       "    </tr>\n",
       "    <tr>\n",
       "      <th>2</th>\n",
       "      <td>0</td>\n",
       "      <td>aaan</td>\n",
       "      <td>0.0</td>\n",
       "    </tr>\n",
       "    <tr>\n",
       "      <th>3</th>\n",
       "      <td>0</td>\n",
       "      <td>aaei</td>\n",
       "      <td>0.0</td>\n",
       "    </tr>\n",
       "    <tr>\n",
       "      <th>4</th>\n",
       "      <td>0</td>\n",
       "      <td>aafe</td>\n",
       "      <td>0.0</td>\n",
       "    </tr>\n",
       "    <tr>\n",
       "      <th>...</th>\n",
       "      <td>...</td>\n",
       "      <td>...</td>\n",
       "      <td>...</td>\n",
       "    </tr>\n",
       "    <tr>\n",
       "      <th>30914795</th>\n",
       "      <td>1447</td>\n",
       "      <td>zwoll</td>\n",
       "      <td>0.0</td>\n",
       "    </tr>\n",
       "    <tr>\n",
       "      <th>30914796</th>\n",
       "      <td>1447</td>\n",
       "      <td>zwolle</td>\n",
       "      <td>0.0</td>\n",
       "    </tr>\n",
       "    <tr>\n",
       "      <th>30914797</th>\n",
       "      <td>1447</td>\n",
       "      <td>zwz</td>\n",
       "      <td>0.0</td>\n",
       "    </tr>\n",
       "    <tr>\n",
       "      <th>30914798</th>\n",
       "      <td>1447</td>\n",
       "      <td>zygoma</td>\n",
       "      <td>0.0</td>\n",
       "    </tr>\n",
       "    <tr>\n",
       "      <th>30914799</th>\n",
       "      <td>1447</td>\n",
       "      <td>één</td>\n",
       "      <td>0.0</td>\n",
       "    </tr>\n",
       "  </tbody>\n",
       "</table>\n",
       "<p>30914800 rows × 3 columns</p>\n",
       "</div>"
      ],
      "text/plain": [
       "          level_0    level_1    0\n",
       "0               0         aa  0.0\n",
       "1               0  aa_flesje  0.0\n",
       "2               0       aaan  0.0\n",
       "3               0       aaei  0.0\n",
       "4               0       aafe  0.0\n",
       "...           ...        ...  ...\n",
       "30914795     1447      zwoll  0.0\n",
       "30914796     1447     zwolle  0.0\n",
       "30914797     1447        zwz  0.0\n",
       "30914798     1447     zygoma  0.0\n",
       "30914799     1447        één  0.0\n",
       "\n",
       "[30914800 rows x 3 columns]"
      ]
     },
     "execution_count": 122,
     "metadata": {},
     "output_type": "execute_result"
    }
   ],
   "source": [
    "tfidf_df.stack().reset_index()"
   ]
  },
  {
   "cell_type": "code",
   "execution_count": 123,
   "metadata": {},
   "outputs": [],
   "source": [
    "tfidf_df = tfidf_df.stack().reset_index()\n",
    "tfidf_df = tfidf_df.rename(columns={0:'tfidf', 'level_0': 'document','level_1': 'term', 'level_2': 'term'})\n",
    "tfidf_df.sort_values(by=['document','tfidf'], ascending=[True,False]).groupby(['document']).head(10)\n",
    "top_tfidf = tfidf_df.sort_values(by=['document','tfidf'], ascending=[True,False]).groupby(['document']).head(10)"
   ]
  },
  {
   "cell_type": "code",
   "execution_count": 124,
   "metadata": {},
   "outputs": [
    {
     "data": {
      "text/html": [
       "<div>\n",
       "<style scoped>\n",
       "    .dataframe tbody tr th:only-of-type {\n",
       "        vertical-align: middle;\n",
       "    }\n",
       "\n",
       "    .dataframe tbody tr th {\n",
       "        vertical-align: top;\n",
       "    }\n",
       "\n",
       "    .dataframe thead th {\n",
       "        text-align: right;\n",
       "    }\n",
       "</style>\n",
       "<table border=\"1\" class=\"dataframe\">\n",
       "  <thead>\n",
       "    <tr style=\"text-align: right;\">\n",
       "      <th></th>\n",
       "      <th>document</th>\n",
       "      <th>term</th>\n",
       "      <th>tfidf</th>\n",
       "    </tr>\n",
       "  </thead>\n",
       "  <tbody>\n",
       "    <tr>\n",
       "      <th>29008</th>\n",
       "      <td>1</td>\n",
       "      <td>hof</td>\n",
       "      <td>0.175662</td>\n",
       "    </tr>\n",
       "    <tr>\n",
       "      <th>71708</th>\n",
       "      <td>3</td>\n",
       "      <td>hof</td>\n",
       "      <td>0.527818</td>\n",
       "    </tr>\n",
       "    <tr>\n",
       "      <th>93058</th>\n",
       "      <td>4</td>\n",
       "      <td>hof</td>\n",
       "      <td>0.197094</td>\n",
       "    </tr>\n",
       "    <tr>\n",
       "      <th>114408</th>\n",
       "      <td>5</td>\n",
       "      <td>hof</td>\n",
       "      <td>0.155718</td>\n",
       "    </tr>\n",
       "    <tr>\n",
       "      <th>199808</th>\n",
       "      <td>9</td>\n",
       "      <td>hof</td>\n",
       "      <td>0.272591</td>\n",
       "    </tr>\n",
       "    <tr>\n",
       "      <th>...</th>\n",
       "      <td>...</td>\n",
       "      <td>...</td>\n",
       "      <td>...</td>\n",
       "    </tr>\n",
       "    <tr>\n",
       "      <th>29897658</th>\n",
       "      <td>1400</td>\n",
       "      <td>hof</td>\n",
       "      <td>0.231139</td>\n",
       "    </tr>\n",
       "    <tr>\n",
       "      <th>30196558</th>\n",
       "      <td>1414</td>\n",
       "      <td>hof</td>\n",
       "      <td>0.315010</td>\n",
       "    </tr>\n",
       "    <tr>\n",
       "      <th>30217908</th>\n",
       "      <td>1415</td>\n",
       "      <td>hof</td>\n",
       "      <td>0.186256</td>\n",
       "    </tr>\n",
       "    <tr>\n",
       "      <th>30708958</th>\n",
       "      <td>1438</td>\n",
       "      <td>hof</td>\n",
       "      <td>0.275683</td>\n",
       "    </tr>\n",
       "    <tr>\n",
       "      <th>30858408</th>\n",
       "      <td>1445</td>\n",
       "      <td>hof</td>\n",
       "      <td>0.182395</td>\n",
       "    </tr>\n",
       "  </tbody>\n",
       "</table>\n",
       "<p>157 rows × 3 columns</p>\n",
       "</div>"
      ],
      "text/plain": [
       "          document term     tfidf\n",
       "29008            1  hof  0.175662\n",
       "71708            3  hof  0.527818\n",
       "93058            4  hof  0.197094\n",
       "114408           5  hof  0.155718\n",
       "199808           9  hof  0.272591\n",
       "...            ...  ...       ...\n",
       "29897658      1400  hof  0.231139\n",
       "30196558      1414  hof  0.315010\n",
       "30217908      1415  hof  0.186256\n",
       "30708958      1438  hof  0.275683\n",
       "30858408      1445  hof  0.182395\n",
       "\n",
       "[157 rows x 3 columns]"
      ]
     },
     "execution_count": 124,
     "metadata": {},
     "output_type": "execute_result"
    }
   ],
   "source": [
    "top_tfidf[top_tfidf['term'].str.contains('hof')]"
   ]
  },
  {
   "cell_type": "code",
   "execution_count": 125,
   "metadata": {},
   "outputs": [
    {
     "data": {
      "text/html": [
       "\n",
       "<div id=\"altair-viz-d1566b15faed436db3343470fb04deed\"></div>\n",
       "<script type=\"text/javascript\">\n",
       "  var VEGA_DEBUG = (typeof VEGA_DEBUG == \"undefined\") ? {} : VEGA_DEBUG;\n",
       "  (function(spec, embedOpt){\n",
       "    let outputDiv = document.currentScript.previousElementSibling;\n",
       "    if (outputDiv.id !== \"altair-viz-d1566b15faed436db3343470fb04deed\") {\n",
       "      outputDiv = document.getElementById(\"altair-viz-d1566b15faed436db3343470fb04deed\");\n",
       "    }\n",
       "    const paths = {\n",
       "      \"vega\": \"https://cdn.jsdelivr.net/npm//vega@5?noext\",\n",
       "      \"vega-lib\": \"https://cdn.jsdelivr.net/npm//vega-lib?noext\",\n",
       "      \"vega-lite\": \"https://cdn.jsdelivr.net/npm//vega-lite@4.17.0?noext\",\n",
       "      \"vega-embed\": \"https://cdn.jsdelivr.net/npm//vega-embed@6?noext\",\n",
       "    };\n",
       "\n",
       "    function maybeLoadScript(lib, version) {\n",
       "      var key = `${lib.replace(\"-\", \"\")}_version`;\n",
       "      return (VEGA_DEBUG[key] == version) ?\n",
       "        Promise.resolve(paths[lib]) :\n",
       "        new Promise(function(resolve, reject) {\n",
       "          var s = document.createElement('script');\n",
       "          document.getElementsByTagName(\"head\")[0].appendChild(s);\n",
       "          s.async = true;\n",
       "          s.onload = () => {\n",
       "            VEGA_DEBUG[key] = version;\n",
       "            return resolve(paths[lib]);\n",
       "          };\n",
       "          s.onerror = () => reject(`Error loading script: ${paths[lib]}`);\n",
       "          s.src = paths[lib];\n",
       "        });\n",
       "    }\n",
       "\n",
       "    function showError(err) {\n",
       "      outputDiv.innerHTML = `<div class=\"error\" style=\"color:red;\">${err}</div>`;\n",
       "      throw err;\n",
       "    }\n",
       "\n",
       "    function displayChart(vegaEmbed) {\n",
       "      vegaEmbed(outputDiv, spec, embedOpt)\n",
       "        .catch(err => showError(`Javascript Error: ${err.message}<br>This usually means there's a typo in your chart specification. See the javascript console for the full traceback.`));\n",
       "    }\n",
       "\n",
       "    if(typeof define === \"function\" && define.amd) {\n",
       "      requirejs.config({paths});\n",
       "      require([\"vega-embed\"], displayChart, err => showError(`Error loading script: ${err.message}`));\n",
       "    } else {\n",
       "      maybeLoadScript(\"vega\", \"5\")\n",
       "        .then(() => maybeLoadScript(\"vega-lite\", \"4.17.0\"))\n",
       "        .then(() => maybeLoadScript(\"vega-embed\", \"6\"))\n",
       "        .catch(showError)\n",
       "        .then(() => displayChart(vegaEmbed));\n",
       "    }\n",
       "  })({\"config\": {\"view\": {\"continuousWidth\": 400, \"continuousHeight\": 300}}, \"layer\": [{\"mark\": \"rect\", \"encoding\": {\"color\": {\"field\": \"tfidf\", \"type\": \"quantitative\"}, \"x\": {\"field\": \"rank\", \"type\": \"ordinal\"}, \"y\": {\"field\": \"document\", \"type\": \"nominal\"}}, \"transform\": [{\"window\": [{\"op\": \"rank\", \"field\": \"\", \"as\": \"rank\"}], \"groupby\": [\"document\"], \"sort\": [{\"field\": \"tfidf\", \"order\": \"descending\"}]}]}, {\"mark\": {\"type\": \"circle\", \"size\": 100}, \"encoding\": {\"color\": {\"condition\": {\"value\": \"red\", \"test\": {\"field\": \"term\", \"oneOf\": [\"benadelen\", \"kasboek\", \"hof\"]}}, \"value\": \"#FFFFFF00\"}, \"x\": {\"field\": \"rank\", \"type\": \"ordinal\"}, \"y\": {\"field\": \"document\", \"type\": \"nominal\"}}, \"transform\": [{\"window\": [{\"op\": \"rank\", \"field\": \"\", \"as\": \"rank\"}], \"groupby\": [\"document\"], \"sort\": [{\"field\": \"tfidf\", \"order\": \"descending\"}]}]}, {\"mark\": {\"type\": \"text\", \"baseline\": \"middle\"}, \"encoding\": {\"color\": {\"condition\": {\"value\": \"white\", \"test\": \"(datum.tfidf >= 0.23)\"}, \"value\": \"black\"}, \"text\": {\"field\": \"term\", \"type\": \"nominal\"}, \"x\": {\"field\": \"rank\", \"type\": \"ordinal\"}, \"y\": {\"field\": \"document\", \"type\": \"nominal\"}}, \"transform\": [{\"window\": [{\"op\": \"rank\", \"field\": \"\", \"as\": \"rank\"}], \"groupby\": [\"document\"], \"sort\": [{\"field\": \"tfidf\", \"order\": \"descending\"}]}]}], \"data\": {\"name\": \"data-969e2e5a2ce5f65f56f928faaf2d9bac\"}, \"width\": 1200, \"$schema\": \"https://vega.github.io/schema/vega-lite/v4.17.0.json\", \"datasets\": {\"data-969e2e5a2ce5f65f56f928faaf2d9bac\": [{\"document\": 0, \"term\": \"kind\", \"tfidf\": 0.3759993638929646}, {\"document\": 0, \"term\": \"tandarts\", \"tfidf\": 0.26936059504748294}, {\"document\": 0, \"term\": \"minderjarig\", \"tfidf\": 0.2524977550262414}, {\"document\": 0, \"term\": \"leerkracht\", \"tfidf\": 0.2297358384498624}, {\"document\": 0, \"term\": \"trein\", \"tfidf\": 0.22495599457415622}, {\"document\": 0, \"term\": \"aangeefster\", \"tfidf\": 0.19714199148995978}, {\"document\": 0, \"term\": \"school\", \"tfidf\": 0.19443363329189683}, {\"document\": 0, \"term\": \"verdenken\", \"tfidf\": 0.19414324147496917}, {\"document\": 0, \"term\": \"geboorteplaats\", \"tfidf\": 0.19193849931495352}, {\"document\": 0, \"term\": \"naam\", \"tfidf\": 0.16934675271563238}, {\"document\": 1, \"term\": \"verbalisant\", \"tfidf\": 0.4264514599040065}, {\"document\": 1, \"term\": \"verdenken\", \"tfidf\": 0.24131232651607268}, {\"document\": 1, \"term\": \"camerabeeld\", \"tfidf\": 0.19568532435196853}, {\"document\": 1, \"term\": \"nek\", \"tfidf\": 0.17970150412943325}, {\"document\": 1, \"term\": \"hof\", \"tfidf\": 0.17569402214674484}, {\"document\": 1, \"term\": \"zaak\", \"tfidf\": 0.15939561591499002}, {\"document\": 1, \"term\": \"onjuistheid\", \"tfidf\": 0.15483895926622343}, {\"document\": 1, \"term\": \"vervolging\", \"tfidf\": 0.13449363940529793}, {\"document\": 1, \"term\": \"aanhouden\", \"tfidf\": 0.13027497846307917}, {\"document\": 1, \"term\": \"beeldmateriaal\", \"tfidf\": 0.11812812693668391}, {\"document\": 2, \"term\": \"ofeen_hoeveelheid\", \"tfidf\": 0.4284617558867489}, {\"document\": 2, \"term\": \"materiaal_bevattenen\", \"tfidf\": 0.42821593591382145}, {\"document\": 2, \"term\": \"lsd\", \"tfidf\": 0.38713003270730256}, {\"document\": 2, \"term\": \"amfetamine\", \"tfidf\": 0.278633839817441}, {\"document\": 2, \"term\": \"cb\", \"tfidf\": 0.2742502491039182}, {\"document\": 2, \"term\": \"cocaine\", \"tfidf\": 0.2192627341997432}, {\"document\": 2, \"term\": \"drug\", \"tfidf\": 0.14384693787857358}, {\"document\": 2, \"term\": \"aanwezig\", \"tfidf\": 0.13715738616129994}, {\"document\": 2, \"term\": \"opzettelijk\", \"tfidf\": 0.13093264320461842}, {\"document\": 2, \"term\": \"ghb\", \"tfidf\": 0.12602703678554536}, {\"document\": 3, \"term\": \"hof\", \"tfidf\": 0.5278906467536278}, {\"document\": 3, \"term\": \"verdenken\", \"tfidf\": 0.19771588416926553}, {\"document\": 3, \"term\": \"artikel\", \"tfidf\": 0.18273882811574085}, {\"document\": 3, \"term\": \"strafbaarheid\", \"tfidf\": 0.16792525803657601}, {\"document\": 3, \"term\": \"feit\", \"tfidf\": 0.15692464780161977}, {\"document\": 3, \"term\": \"arrest\", \"tfidf\": 0.15092042346300324}, {\"document\": 3, \"term\": \"afval\", \"tfidf\": 0.14702524639036305}, {\"document\": 3, \"term\": \"omstandigheid\", \"tfidf\": 0.1207616748556793}, {\"document\": 3, \"term\": \"strafbaar\", \"tfidf\": 0.11019983184418042}, {\"document\": 3, \"term\": \"hoger_beroep\", \"tfidf\": 0.1083084655836464}, {\"document\": 4, \"term\": \"benadelen\", \"tfidf\": 0.7569337853113107}, {\"document\": 4, \"term\": \"revolver\", \"tfidf\": 0.2728607259784755}, {\"document\": 4, \"term\": \"hof\", \"tfidf\": 0.1971625507345988}, {\"document\": 4, \"term\": \"wapen\", \"tfidf\": 0.13993260443580308}, {\"document\": 4, \"term\": \"verdenken\", \"tfidf\": 0.13598058037696037}, {\"document\": 4, \"term\": \"vuurwapen\", \"tfidf\": 0.1318339137392133}, {\"document\": 4, \"term\": \"verklaren\", \"tfidf\": 0.12054291470725904}, {\"document\": 4, \"term\": \"verklaring\", \"tfidf\": 0.11270735666484606}, {\"document\": 4, \"term\": \"kogel\", \"tfidf\": 0.11203290555097702}, {\"document\": 4, \"term\": \"schieten\", \"tfidf\": 0.0992982719150878}, {\"document\": 5, \"term\": \"liwa\", \"tfidf\": 0.5936802605260212}, {\"document\": 5, \"term\": \"tawhid\", \"tfidf\": 0.5936952755755035}, {\"document\": 5, \"term\": \"syrie\", \"tfidf\": 0.17260210886825603}, {\"document\": 5, \"term\": \"hof\", \"tfidf\": 0.15573273931432313}, {\"document\": 5, \"term\": \"salafistisch\", \"tfidf\": 0.14052608029766028}, {\"document\": 5, \"term\": \"geboorteplaats\", \"tfidf\": 0.13954596001698016}, {\"document\": 5, \"term\": \"organisatie\", \"tfidf\": 0.13665069266224605}, {\"document\": 5, \"term\": \"jihadi\", \"tfidf\": 0.11135154748097487}, {\"document\": 5, \"term\": \"vsl\", \"tfidf\": 0.11132007773432169}, {\"document\": 5, \"term\": \"sanctielijst\", \"tfidf\": 0.09789317386872269}, {\"document\": 6, \"term\": \"politierechter\", \"tfidf\": 0.258572387331064}, {\"document\": 6, \"term\": \"factor\", \"tfidf\": 0.23106135860588814}, {\"document\": 6, \"term\": \"ernstige_bezwar\", \"tfidf\": 0.21641444953923292}, {\"document\": 6, \"term\": \"norm\", \"tfidf\": 0.2135238353810412}, {\"document\": 6, \"term\": \"verzuim\", \"tfidf\": 0.20259233250062517}, {\"document\": 6, \"term\": \"opiumwet\", \"tfidf\": 0.18314958485092803}, {\"document\": 6, \"term\": \"client\", \"tfidf\": 0.17311127613704538}, {\"document\": 6, \"term\": \"fouilleren\", \"tfidf\": 0.15464050310478059}, {\"document\": 6, \"term\": \"ingrijpende_inbreuk\", \"tfidf\": 0.14371186852574805}, {\"document\": 6, \"term\": \"onrustig\", \"tfidf\": 0.14371413707794686}, {\"document\": 7, \"term\": \"jukbeen\", \"tfidf\": 0.40365023685767654}, {\"document\": 7, \"term\": \"letsel\", \"tfidf\": 0.3426159170962391}, {\"document\": 7, \"term\": \"slachtoffer\", \"tfidf\": 0.2737011001520694}, {\"document\": 7, \"term\": \"verdenken\", \"tfidf\": 0.24303067497994502}, {\"document\": 7, \"term\": \"breken\", \"tfidf\": 0.17552727371033267}, {\"document\": 7, \"term\": \"plaats\", \"tfidf\": 0.1691013953485485}, {\"document\": 7, \"term\": \"klap\", \"tfidf\": 0.16772019534822596}, {\"document\": 7, \"term\": \"zwaar_lichamelijk\", \"tfidf\": 0.1520459739773764}, {\"document\": 7, \"term\": \"opereren\", \"tfidf\": 0.14850115674905778}, {\"document\": 7, \"term\": \"tatoeage\", \"tfidf\": 0.14260946388647747}, {\"document\": 8, \"term\": \"goeree_overflakkee\", \"tfidf\": 0.4719627164625236}, {\"document\": 8, \"term\": \"hennep\", \"tfidf\": 0.28917564940171026}, {\"document\": 8, \"term\": \"hoeveelheid\", \"tfidf\": 0.28471143025930645}, {\"document\": 8, \"term\": \"elektriciteit\", \"tfidf\": 0.18878410311280192}, {\"document\": 8, \"term\": \"hennepplant\", \"tfidf\": 0.16114938354823885}, {\"document\": 8, \"term\": \"geval\", \"tfidf\": 0.15548547486993836}, {\"document\": 8, \"term\": \"telen\", \"tfidf\": 0.1554007473217207}, {\"document\": 8, \"term\": \"lijst_ii\", \"tfidf\": 0.15050442198227315}, {\"document\": 8, \"term\": \"ander\", \"tfidf\": 0.1495869136443109}, {\"document\": 8, \"term\": \"althans\", \"tfidf\": 0.14889190940662017}, {\"document\": 9, \"term\": \"still\", \"tfidf\": 0.331251742720932}, {\"document\": 9, \"term\": \"hof\", \"tfidf\": 0.2725914670915304}, {\"document\": 9, \"term\": \"bedrijfsinbraak\", \"tfidf\": 0.21983388871031018}, {\"document\": 9, \"term\": \"honswijck\", \"tfidf\": 0.21984394904096766}, {\"document\": 9, \"term\": \"verdenken\", \"tfidf\": 0.19802687053133228}, {\"document\": 9, \"term\": \"herkenning\", \"tfidf\": 0.18576447473912303}, {\"document\": 9, \"term\": \"tenlastegelegen\", \"tfidf\": 0.16794414723485968}, {\"document\": 9, \"term\": \"inbraak\", \"tfidf\": 0.1654376959073864}, {\"document\": 9, \"term\": \"camerabeeld\", \"tfidf\": 0.16342922845767716}, {\"document\": 9, \"term\": \"uur\", \"tfidf\": 0.15957253571642546}, {\"document\": 10, \"term\": \"neerijn\", \"tfidf\": 0.5534199888034285}, {\"document\": 10, \"term\": \"kabel\", \"tfidf\": 0.3972816194512187}, {\"document\": 10, \"term\": \"benadelen\", \"tfidf\": 0.32031200667199333}, {\"document\": 10, \"term\": \"enig\", \"tfidf\": 0.2082598564700764}, {\"document\": 10, \"term\": \"geval\", \"tfidf\": 0.2078597159925753}, {\"document\": 10, \"term\": \"ander\", \"tfidf\": 0.1999541694543665}, {\"document\": 10, \"term\": \"goed\", \"tfidf\": 0.1880382610870239}, {\"document\": 10, \"term\": \"werknemer\", \"tfidf\": 0.1745154186971857}, {\"document\": 10, \"term\": \"gemeente\", \"tfidf\": 0.1700768157999791}, {\"document\": 10, \"term\": \"tijdstip_pen\", \"tfidf\": 0.14808023645799087}, {\"document\": 11, \"term\": \"vernieling\", \"tfidf\": 0.5158859855498462}, {\"document\": 11, \"term\": \"persoon\", \"tfidf\": 0.3795102155046868}, {\"document\": 11, \"term\": \"zaak\", \"tfidf\": 0.3567895196696828}, {\"document\": 11, \"term\": \"kliniek\", \"tfidf\": 0.3209693129865272}, {\"document\": 11, \"term\": \"bedreiging\", \"tfidf\": 0.2672751882926377}, {\"document\": 11, \"term\": \"garage\", \"tfidf\": 0.2542691010875557}, {\"document\": 11, \"term\": \"kort_samengevat\", \"tfidf\": 0.2508252406983425}, {\"document\": 11, \"term\": \"muur\", \"tfidf\": 0.23636337669541}, {\"document\": 11, \"term\": \"naam\", \"tfidf\": 0.17367395007713723}, {\"document\": 11, \"term\": \"deur\", \"tfidf\": 0.16240752004948403}, {\"document\": 12, \"term\": \"feitelijke_verhouding\", \"tfidf\": 0.33178679235589825}, {\"document\": 12, \"term\": \"voortvloeiend_overwicht\", \"tfidf\": 0.3050872253140064}, {\"document\": 12, \"term\": \"geslachtsdeel\", \"tfidf\": 0.2958955895005833}, {\"document\": 12, \"term\": \"slachtoffer\", \"tfidf\": 0.26260522805307196}, {\"document\": 12, \"term\": \"ontuchtige_handeling\", \"tfidf\": 0.24698639506832068}, {\"document\": 12, \"term\": \"hellendoorn\", \"tfidf\": 0.22757755086830378}, {\"document\": 12, \"term\": \"duld\", \"tfidf\": 0.2007080690478603}, {\"document\": 12, \"term\": \"zoen\", \"tfidf\": 0.1745906647127373}, {\"document\": 12, \"term\": \"handeling\", \"tfidf\": 0.17164021756609524}, {\"document\": 12, \"term\": \"aftrekken\", \"tfidf\": 0.16440576250661493}, {\"document\": 13, \"term\": \"slachtoffer\", \"tfidf\": 0.3055194323311344}, {\"document\": 13, \"term\": \"celmateriaal\", \"tfidf\": 0.2964103975994839}, {\"document\": 13, \"term\": \"overvaller\", \"tfidf\": 0.20120821281546603}, {\"document\": 13, \"term\": \"dader\", \"tfidf\": 0.19320781386274796}, {\"document\": 13, \"term\": \"kelder\", \"tfidf\": 0.1820357839164571}, {\"document\": 13, \"term\": \"aangever\", \"tfidf\": 0.17894779638782335}, {\"document\": 13, \"term\": \"bemonstering\", \"tfidf\": 0.1771565942538198}, {\"document\": 13, \"term\": \"regenbroek\", \"tfidf\": 0.16038662908891688}, {\"document\": 13, \"term\": \"regenjas\", \"tfidf\": 0.16041636726910857}, {\"document\": 13, \"term\": \"volgen\", \"tfidf\": 0.14121485668764813}, {\"document\": 14, \"term\": \"aangever\", \"tfidf\": 0.508358753573814}, {\"document\": 14, \"term\": \"lokaal\", \"tfidf\": 0.3510649943703799}, {\"document\": 14, \"term\": \"hof\", \"tfidf\": 0.20002976077562723}, {\"document\": 14, \"term\": \"medeverdacht\", \"tfidf\": 0.1908211303538203}, {\"document\": 14, \"term\": \"trap\", \"tfidf\": 0.15388884088454377}, {\"document\": 14, \"term\": \"school\", \"tfidf\": 0.1512024625302345}, {\"document\": 14, \"term\": \"verdenken\", \"tfidf\": 0.14302957926406615}, {\"document\": 14, \"term\": \"docent\", \"tfidf\": 0.14298801316494572}, {\"document\": 14, \"term\": \"lokaal_lokaal\", \"tfidf\": 0.14305627852271263}, {\"document\": 14, \"term\": \"getuige\", \"tfidf\": 0.1398768396978239}, {\"document\": 15, \"term\": \"hekwerk\", \"tfidf\": 0.3968725369052108}, {\"document\": 15, \"term\": \"bedrijf\", \"tfidf\": 0.36803149868122903}, {\"document\": 15, \"term\": \"ander\", \"tfidf\": 0.2716017101356835}, {\"document\": 15, \"term\": \"voornoemd\", \"tfidf\": 0.26299106715836656}, {\"document\": 15, \"term\": \"althans\", \"tfidf\": 0.22125480600980837}, {\"document\": 15, \"term\": \"westhavenweg\", \"tfidf\": 0.21926946527592175}, {\"document\": 15, \"term\": \"apparatuur\", \"tfidf\": 0.19425328283843044}, {\"document\": 15, \"term\": \"openbare_weg\", \"tfidf\": 0.18442297549646902}, {\"document\": 15, \"term\": \"lange_tijd\", \"tfidf\": 0.1734622322095087}, {\"document\": 15, \"term\": \"hond\", \"tfidf\": 0.1636961825351644}, {\"document\": 16, \"term\": \"telen\", \"tfidf\": 0.3813201760671937}, {\"document\": 16, \"term\": \"betrokken\", \"tfidf\": 0.3649753337029365}, {\"document\": 16, \"term\": \"afleveren\", \"tfidf\": 0.35720674096159133}, {\"document\": 16, \"term\": \"bewerken\", \"tfidf\": 0.3456345218992703}, {\"document\": 16, \"term\": \"bereid\", \"tfidf\": 0.3334261026752109}, {\"document\": 16, \"term\": \"verwerken\", \"tfidf\": 0.32705420380369876}, {\"document\": 16, \"term\": \"verkopen\", \"tfidf\": 0.3178263239266779}, {\"document\": 16, \"term\": \"verstrekken\", \"tfidf\": 0.29978317329460796}, {\"document\": 16, \"term\": \"opzettelijk\", \"tfidf\": 0.14687322367694314}, {\"document\": 16, \"term\": \"last\", \"tfidf\": 0.11485342785640194}, {\"document\": 17, \"term\": \"benadelen\", \"tfidf\": 0.6695537112039337}, {\"document\": 17, \"term\": \"alias\", \"tfidf\": 0.389229014184784}, {\"document\": 17, \"term\": \"onderdak\", \"tfidf\": 0.16940281132481447}, {\"document\": 17, \"term\": \"perso\", \"tfidf\": 0.1559309987310304}, {\"document\": 17, \"term\": \"aangever\", \"tfidf\": 0.1523989832663537}, {\"document\": 17, \"term\": \"verblijf\", \"tfidf\": 0.1488791717382131}, {\"document\": 17, \"term\": \"hof\", \"tfidf\": 0.11864025625036691}, {\"document\": 17, \"term\": \"werkdag\", \"tfidf\": 0.11774527595538917}, {\"document\": 17, \"term\": \"illegaal\", \"tfidf\": 0.10801405323585735}, {\"document\": 17, \"term\": \"uitbuiting\", \"tfidf\": 0.10536503817009932}, {\"document\": 18, \"term\": \"hof\", \"tfidf\": 0.4919699622554375}, {\"document\": 18, \"term\": \"verdenken\", \"tfidf\": 0.26584123561812106}, {\"document\": 18, \"term\": \"handschoen\", \"tfidf\": 0.18248761016585113}, {\"document\": 18, \"term\": \"jongen\", \"tfidf\": 0.15381504725949033}, {\"document\": 18, \"term\": \"woning\", \"tfidf\": 0.15230495126933555}, {\"document\": 18, \"term\": \"braak\", \"tfidf\": 0.14687838165744832}, {\"document\": 18, \"term\": \"koevoet\", \"tfidf\": 0.14687353401941697}, {\"document\": 18, \"term\": \"achterdeur\", \"tfidf\": 0.12772434590042353}, {\"document\": 18, \"term\": \"kortenbospad\", \"tfidf\": 0.1173201305883416}, {\"document\": 18, \"term\": \"poging\", \"tfidf\": 0.11560351008445204}, {\"document\": 19, \"term\": \"slachtoffer\", \"tfidf\": 0.3612624821168329}, {\"document\": 19, \"term\": \"voornoemd\", \"tfidf\": 0.2869233317031683}, {\"document\": 19, \"term\": \"geweld\", \"tfidf\": 0.26675063602847127}, {\"document\": 19, \"term\": \"venlo\", \"tfidf\": 0.2621655173317113}, {\"document\": 19, \"term\": \"tong\", \"tfidf\": 0.23406674057553703}, {\"document\": 19, \"term\": \"woorden_toegevoegd\", \"tfidf\": 0.21675156604715992}, {\"document\": 19, \"term\": \"pincod\", \"tfidf\": 0.1691007044725188}, {\"document\": 19, \"term\": \"blerick\", \"tfidf\": 0.16476154921943062}, {\"document\": 19, \"term\": \"hebt_inleveren\", \"tfidf\": 0.16478997088543368}, {\"document\": 19, \"term\": \"woning\", \"tfidf\": 0.15078767880080524}, {\"document\": 20, \"term\": \"hennep\", \"tfidf\": 0.3718295435276017}, {\"document\": 20, \"term\": \"hennepplant\", \"tfidf\": 0.29597468974398367}, {\"document\": 20, \"term\": \"liand\", \"tfidf\": 0.20282173266394293}, {\"document\": 20, \"term\": \"gram\", \"tfidf\": 0.1862276891409633}, {\"document\": 20, \"term\": \"pand\", \"tfidf\": 0.18163042261994192}, {\"document\": 20, \"term\": \"opzettelijk\", \"tfidf\": 0.17594334813484278}, {\"document\": 20, \"term\": \"hoeveelheid\", \"tfidf\": 0.17440794473877022}, {\"document\": 20, \"term\": \"persoon\", \"tfidf\": 0.17156578645505657}, {\"document\": 20, \"term\": \"telen\", \"tfidf\": 0.17132444566722874}, {\"document\": 20, \"term\": \"kweek\", \"tfidf\": 0.1549172128923728}, {\"document\": 21, \"term\": \"naam\", \"tfidf\": 0.32726344687756037}, {\"document\": 21, \"term\": \"geweld\", \"tfidf\": 0.28648357468088537}, {\"document\": 21, \"term\": \"fles\", \"tfidf\": 0.2666250611276137}, {\"document\": 21, \"term\": \"gereedschap\", \"tfidf\": 0.23568509162322412}, {\"document\": 21, \"term\": \"slachtoffer\", \"tfidf\": 0.2297306219517636}, {\"document\": 21, \"term\": \"sterke_drank\", \"tfidf\": 0.2123311831207753}, {\"document\": 21, \"term\": \"verdenken\", \"tfidf\": 0.18702159192899945}, {\"document\": 21, \"term\": \"diefstal\", \"tfidf\": 0.16700664863150846}, {\"document\": 21, \"term\": \"dordrecht\", \"tfidf\": 0.1627221100684947}, {\"document\": 21, \"term\": \"inhouden\", \"tfidf\": 0.16164698739695363}, {\"document\": 22, \"term\": \"categorie\", \"tfidf\": 0.7401325293642419}, {\"document\": 22, \"term\": \"motorrijtuig\", \"tfidf\": 0.297549879411024}, {\"document\": 22, \"term\": \"rijbewijs\", \"tfidf\": 0.2767212653111226}, {\"document\": 22, \"term\": \"besturen\", \"tfidf\": 0.26090985850523074}, {\"document\": 22, \"term\": \"ongeldig\", \"tfidf\": 0.20820807298498037}, {\"document\": 22, \"term\": \"motorrijtuig_personenauto\", \"tfidf\": 0.16499585999915334}, {\"document\": 22, \"term\": \"weg\", \"tfidf\": 0.1438909334151843}, {\"document\": 22, \"term\": \"adres\", \"tfidf\": 0.14338007261534982}, {\"document\": 22, \"term\": \"afgeven\", \"tfidf\": 0.13792958548836284}, {\"document\": 22, \"term\": \"weten\", \"tfidf\": 0.13695851461628403}, {\"document\": 23, \"term\": \"chocobroodje\", \"tfidf\": 0.559067355508204}, {\"document\": 23, \"term\": \"draagtas\", \"tfidf\": 0.5590706423466612}, {\"document\": 23, \"term\": \"bedrijf\", \"tfidf\": 0.43006146050496663}, {\"document\": 23, \"term\": \"geval\", \"tfidf\": 0.21000524545284557}, {\"document\": 23, \"term\": \"toebehoren\", \"tfidf\": 0.18762725397406851}, {\"document\": 23, \"term\": \"deel\", \"tfidf\": 0.16138637928224214}, {\"document\": 23, \"term\": \"geheel\", \"tfidf\": 0.13649719279037742}, {\"document\": 23, \"term\": \"goed\", \"tfidf\": 0.12659199975498583}, {\"document\": 23, \"term\": \"ander\", \"tfidf\": 0.10101976353493287}, {\"document\": 23, \"term\": \"weten\", \"tfidf\": 0.10017661458877143}, {\"document\": 24, \"term\": \"benadelen\", \"tfidf\": 0.5642966341466594}, {\"document\": 24, \"term\": \"hak\", \"tfidf\": 0.3656713792103262}, {\"document\": 24, \"term\": \"machet\", \"tfidf\": 0.33221851044720435}, {\"document\": 24, \"term\": \"lichaam\", \"tfidf\": 0.22802355253752257}, {\"document\": 24, \"term\": \"slaan\", \"tfidf\": 0.22804182368324946}, {\"document\": 24, \"term\": \"schoppen_trapp\", \"tfidf\": 0.2237692583709152}, {\"document\": 24, \"term\": \"samenvatten\", \"tfidf\": 0.20771830728296425}, {\"document\": 24, \"term\": \"snijden\", \"tfidf\": 0.1949518539024989}, {\"document\": 24, \"term\": \"zware_mishandeling\", \"tfidf\": 0.1506495399504393}, {\"document\": 24, \"term\": \"steken\", \"tfidf\": 0.1461556922668021}, {\"document\": 25, \"term\": \"zeer_krachtig\", \"tfidf\": 0.36674335358126353}, {\"document\": 25, \"term\": \"gemeente\", \"tfidf\": 0.3366546551231087}, {\"document\": 25, \"term\": \"slachtoffer\", \"tfidf\": 0.2645190417230223}, {\"document\": 25, \"term\": \"partij\", \"tfidf\": 0.2548000495209445}, {\"document\": 25, \"term\": \"benadelen\", \"tfidf\": 0.2224585238651801}, {\"document\": 25, \"term\": \"keel\", \"tfidf\": 0.19921164821910978}, {\"document\": 25, \"term\": \"drukken\", \"tfidf\": 0.17945609818042693}, {\"document\": 25, \"term\": \"armgreep\", \"tfidf\": 0.17296765620321083}, {\"document\": 25, \"term\": \"benemen\", \"tfidf\": 0.1729705124392459}, {\"document\": 25, \"term\": \"voorgenomen_misdrijf\", \"tfidf\": 0.17154136047770513}, {\"document\": 26, \"term\": \"opzettelijk\", \"tfidf\": 0.3559358634906722}, {\"document\": 26, \"term\": \"naam\", \"tfidf\": 0.3110849805520459}, {\"document\": 26, \"term\": \"slachtoffer\", \"tfidf\": 0.30731783590089057}, {\"document\": 26, \"term\": \"voorbedachten_rade\", \"tfidf\": 0.2792439022816198}, {\"document\": 26, \"term\": \"gezicht\", \"tfidf\": 0.24718325434608523}, {\"document\": 26, \"term\": \"schedelbasis\", \"tfidf\": 0.2345097515220225}, {\"document\": 26, \"term\": \"vlaarding\", \"tfidf\": 0.20614267223581717}, {\"document\": 26, \"term\": \"vlaardingen\", \"tfidf\": 0.20618581615487028}, {\"document\": 26, \"term\": \"hard\", \"tfidf\": 0.20161966320768898}, {\"document\": 26, \"term\": \"kracht\", \"tfidf\": 0.17860886687952804}, {\"document\": 27, \"term\": \"aangever\", \"tfidf\": 0.6326715794560156}, {\"document\": 27, \"term\": \"bevelen\", \"tfidf\": 0.2970465029599762}, {\"document\": 27, \"term\": \"aangev\", \"tfidf\": 0.27123883096036994}, {\"document\": 27, \"term\": \"wel\", \"tfidf\": 0.19149402048743944}, {\"document\": 27, \"term\": \"hardenberg\", \"tfidf\": 0.17787474579329654}, {\"document\": 27, \"term\": \"beletten\", \"tfidf\": 0.15558502522343723}, {\"document\": 27, \"term\": \"dwingen\", \"tfidf\": 0.1431084260142565}, {\"document\": 27, \"term\": \"naakt\", \"tfidf\": 0.13958800564905896}, {\"document\": 27, \"term\": \"vervolgens\", \"tfidf\": 0.11194631001382507}, {\"document\": 27, \"term\": \"ander\", \"tfidf\": 0.1036032438098197}, {\"document\": 28, \"term\": \"geldautomaat\", \"tfidf\": 0.46559134956605547}, {\"document\": 28, \"term\": \"verbalisant\", \"tfidf\": 0.24010610771044621}, {\"document\": 28, \"term\": \"gerecht\", \"tfidf\": 0.21417012648667524}, {\"document\": 28, \"term\": \"verdenken\", \"tfidf\": 0.1803914694726334}, {\"document\": 28, \"term\": \"shirt\", \"tfidf\": 0.15835411670936525}, {\"document\": 28, \"term\": \"man\", \"tfidf\": 0.15246043688392763}, {\"document\": 28, \"term\": \"kabel\", \"tfidf\": 0.1502629461843762}, {\"document\": 28, \"term\": \"relaas\", \"tfidf\": 0.13493825344991653}, {\"document\": 28, \"term\": \"geldsleuf\", \"tfidf\": 0.12194939146723292}, {\"document\": 28, \"term\": \"pagina\", \"tfidf\": 0.11548321641387545}, {\"document\": 29, \"term\": \"snijdend_voorwerp\", \"tfidf\": 0.33259844374997255}, {\"document\": 29, \"term\": \"puntig\", \"tfidf\": 0.2684457303999949}, {\"document\": 29, \"term\": \"prikken\", \"tfidf\": 0.25944894780565086}, {\"document\": 29, \"term\": \"slachtoffer\", \"tfidf\": 0.24078190579150208}, {\"document\": 29, \"term\": \"gelijken\", \"tfidf\": 0.22823489034858815}, {\"document\": 29, \"term\": \"linker\", \"tfidf\": 0.2222461959418852}, {\"document\": 29, \"term\": \"snijden\", \"tfidf\": 0.2074267190534761}, {\"document\": 29, \"term\": \"perforeren\", \"tfidf\": 0.20426278989362312}, {\"document\": 29, \"term\": \"kroeg\", \"tfidf\": 0.19447957301495628}, {\"document\": 29, \"term\": \"althans\", \"tfidf\": 0.18656696108840296}, {\"document\": 30, \"term\": \"postpakket\", \"tfidf\": 0.7105906618884004}, {\"document\": 30, \"term\": \"mdma\", \"tfidf\": 0.3095638589138082}, {\"document\": 30, \"term\": \"indicatieve_test\", \"tfidf\": 0.19667712017675104}, {\"document\": 30, \"term\": \"versturen\", \"tfidf\": 0.1510229575344407}, {\"document\": 30, \"term\": \"verdenken\", \"tfidf\": 0.13858141211641192}, {\"document\": 30, \"term\": \"betekenisvol\", \"tfidf\": 0.13854017711994815}, {\"document\": 30, \"term\": \"pakket\", \"tfidf\": 0.13361345276855344}, {\"document\": 30, \"term\": \"sealbag\", \"tfidf\": 0.12182361863957547}, {\"document\": 30, \"term\": \"persoon\", \"tfidf\": 0.11719600564710919}, {\"document\": 30, \"term\": \"uitvoer\", \"tfidf\": 0.09739305210803612}, {\"document\": 31, \"term\": \"kasboek\", \"tfidf\": 0.6889484518165604}, {\"document\": 31, \"term\": \"getuige\", \"tfidf\": 0.304263068674801}, {\"document\": 31, \"term\": \"verdenken\", \"tfidf\": 0.17012427589815368}, {\"document\": 31, \"term\": \"medeverdacht\", \"tfidf\": 0.15333644432183666}, {\"document\": 31, \"term\": \"coke\", \"tfidf\": 0.13676130136463266}, {\"document\": 31, \"term\": \"naam\", \"tfidf\": 0.1307479209476978}, {\"document\": 31, \"term\": \"verklaring\", \"tfidf\": 0.12552067714562926}, {\"document\": 31, \"term\": \"dossier\", \"tfidf\": 0.12063452455150232}, {\"document\": 31, \"term\": \"rechtbank\", \"tfidf\": 0.11641007472910937}, {\"document\": 31, \"term\": \"gram\", \"tfidf\": 0.11432869479663142}, {\"document\": 32, \"term\": \"kasboek\", \"tfidf\": 0.6875897402291105}, {\"document\": 32, \"term\": \"verdenken\", \"tfidf\": 0.2443006079390955}, {\"document\": 32, \"term\": \"getuige\", \"tfidf\": 0.2429261064399921}, {\"document\": 32, \"term\": \"gram\", \"tfidf\": 0.18532080346723206}, {\"document\": 32, \"term\": \"cocaine\", \"tfidf\": 0.1804041872550511}, {\"document\": 32, \"term\": \"verklaring\", \"tfidf\": 0.14875761139466886}, {\"document\": 32, \"term\": \"medeverdacht\", \"tfidf\": 0.143432125314498}, {\"document\": 32, \"term\": \"rechtbank\", \"tfidf\": 0.13797039725432073}, {\"document\": 32, \"term\": \"verschuldigen\", \"tfidf\": 0.1309995094767355}, {\"document\": 32, \"term\": \"dossier\", \"tfidf\": 0.11117859503697088}, {\"document\": 33, \"term\": \"handelsnaam\", \"tfidf\": 0.7160627413410753}, {\"document\": 33, \"term\": \"getuige\", \"tfidf\": 0.2259267627000983}, {\"document\": 33, \"term\": \"naam\", \"tfidf\": 0.20431027533076634}, {\"document\": 33, \"term\": \"functionaris\", \"tfidf\": 0.19276452176498052}, {\"document\": 33, \"term\": \"geheim\", \"tfidf\": 0.16407882029622586}, {\"document\": 33, \"term\": \"verplichten\", \"tfidf\": 0.16244173831147662}, {\"document\": 33, \"term\": \"nederland\", \"tfidf\": 0.1565853009289681}, {\"document\": 33, \"term\": \"wettelijk_voorschrift\", \"tfidf\": 0.14559291920591333}, {\"document\": 33, \"term\": \"mevrouw\", \"tfidf\": 0.14472010615195255}, {\"document\": 33, \"term\": \"opzoeken\", \"tfidf\": 0.14467804655031144}, {\"document\": 34, \"term\": \"telkens\", \"tfidf\": 0.33914000996939814}, {\"document\": 34, \"term\": \"financierings\", \"tfidf\": 0.24836558313162177}, {\"document\": 34, \"term\": \"nijmegen\", \"tfidf\": 0.22647299393544806}, {\"document\": 34, \"term\": \"ster\", \"tfidf\": 0.22642323431275185}, {\"document\": 34, \"term\": \"aangever\", \"tfidf\": 0.20773390756546692}, {\"document\": 34, \"term\": \"aangifte\", \"tfidf\": 0.18933559244405243}, {\"document\": 34, \"term\": \"instelling\", \"tfidf\": 0.18550392345721642}, {\"document\": 34, \"term\": \"vorenomschreven_oogmerk\", \"tfidf\": 0.17698700602708795}, {\"document\": 34, \"term\": \"listiglijk\", \"tfidf\": 0.17093258398867853}, {\"document\": 34, \"term\": \"bevoordelen\", \"tfidf\": 0.16818620489964786}, {\"document\": 35, \"term\": \"verdenken\", \"tfidf\": 0.3681331422212277}, {\"document\": 35, \"term\": \"hof\", \"tfidf\": 0.2872265010684389}, {\"document\": 35, \"term\": \"overval\", \"tfidf\": 0.21542085618428036}, {\"document\": 35, \"term\": \"medeverdachte\", \"tfidf\": 0.21459387822360368}, {\"document\": 35, \"term\": \"politie\", \"tfidf\": 0.19556897846693008}, {\"document\": 35, \"term\": \"geweld\", \"tfidf\": 0.16351515090315788}, {\"document\": 35, \"term\": \"bedreiging\", \"tfidf\": 0.16017861794846291}, {\"document\": 35, \"term\": \"geldwagen\", \"tfidf\": 0.15679785452830586}, {\"document\": 35, \"term\": \"plan\", \"tfidf\": 0.1562473637374391}, {\"document\": 35, \"term\": \"afpersing\", \"tfidf\": 0.15566668153088298}, {\"document\": 36, \"term\": \"slachtoffer\", \"tfidf\": 0.5188514162867165}, {\"document\": 36, \"term\": \"hof\", \"tfidf\": 0.27819407122439527}, {\"document\": 36, \"term\": \"verdenken\", \"tfidf\": 0.255657839746455}, {\"document\": 36, \"term\": \"verbalisant\", \"tfidf\": 0.2430771730563886}, {\"document\": 36, \"term\": \"val\", \"tfidf\": 0.20685296597748945}, {\"document\": 36, \"term\": \"worsteling\", \"tfidf\": 0.1839551929191181}, {\"document\": 36, \"term\": \"letsel\", \"tfidf\": 0.1671596209905224}, {\"document\": 36, \"term\": \"parketnumm\", \"tfidf\": 0.16378061054302734}, {\"document\": 36, \"term\": \"zaak\", \"tfidf\": 0.13248860825027012}, {\"document\": 36, \"term\": \"ontstaan\", \"tfidf\": 0.12430562533312328}, {\"document\": 37, \"term\": \"hennepplant\", \"tfidf\": 0.4269124979111288}, {\"document\": 37, \"term\": \"hoeveelheid\", \"tfidf\": 0.37725641024320117}, {\"document\": 37, \"term\": \"heteren\", \"tfidf\": 0.3322813264512279}, {\"document\": 37, \"term\": \"lijst_ii\", \"tfidf\": 0.19931541825271953}, {\"document\": 37, \"term\": \"hennep\", \"tfidf\": 0.1916103903558586}, {\"document\": 37, \"term\": \"aangewezen_krachtens\", \"tfidf\": 0.18968392451180385}, {\"document\": 37, \"term\": \"tijdstip_p\", \"tfidf\": 0.1756349601204243}, {\"document\": 37, \"term\": \"opiumwet_behorenen\", \"tfidf\": 0.1703351449964473}, {\"document\": 37, \"term\": \"middel\", \"tfidf\": 0.1666990121892106}, {\"document\": 37, \"term\": \"althans\", \"tfidf\": 0.16433695080938102}, {\"document\": 38, \"term\": \"geldautomaat\", \"tfidf\": 0.46551824887926563}, {\"document\": 38, \"term\": \"verbalisant\", \"tfidf\": 0.2400947772578092}, {\"document\": 38, \"term\": \"gerecht\", \"tfidf\": 0.21415118575963357}, {\"document\": 38, \"term\": \"verdenken\", \"tfidf\": 0.18048061836335785}, {\"document\": 38, \"term\": \"shirt\", \"tfidf\": 0.15830510287633023}, {\"document\": 38, \"term\": \"man\", \"tfidf\": 0.15245178836795187}, {\"document\": 38, \"term\": \"kabel\", \"tfidf\": 0.15026706239988144}, {\"document\": 38, \"term\": \"relaas\", \"tfidf\": 0.13495023562610403}, {\"document\": 38, \"term\": \"geldsleuf\", \"tfidf\": 0.12193435791592187}, {\"document\": 38, \"term\": \"pagina\", \"tfidf\": 0.1154936199105766}, {\"document\": 39, \"term\": \"verkort_vonni\", \"tfidf\": 0.5179331387182664}, {\"document\": 39, \"term\": \"aanvulling\", \"tfidf\": 0.23608187916816034}, {\"document\": 39, \"term\": \"juwelier\", \"tfidf\": 0.23063011516342508}, {\"document\": 39, \"term\": \"woningoverval\", \"tfidf\": 0.2097838307655203}, {\"document\": 39, \"term\": \"mede\", \"tfidf\": 0.2057697958388841}, {\"document\": 39, \"term\": \"wapenen\", \"tfidf\": 0.20257933892469654}, {\"document\": 39, \"term\": \"braak\", \"tfidf\": 0.17685913349418877}, {\"document\": 39, \"term\": \"geweld\", \"tfidf\": 0.17304926267655132}, {\"document\": 39, \"term\": \"feit\", \"tfidf\": 0.16803727228704998}, {\"document\": 39, \"term\": \"gebruiken\", \"tfidf\": 0.164515171791771}, {\"document\": 40, \"term\": \"kledingwinkel\", \"tfidf\": 0.8901301902836513}, {\"document\": 40, \"term\": \"breken\", \"tfidf\": 0.24159602699005409}, {\"document\": 40, \"term\": \"verwijten\", \"tfidf\": 0.2265203954126769}, {\"document\": 40, \"term\": \"proberen\", \"tfidf\": 0.17166792372713335}, {\"document\": 40, \"term\": \"samen\", \"tfidf\": 0.14063405877274565}, {\"document\": 40, \"term\": \"zeggen\", \"tfidf\": 0.1231801537619377}, {\"document\": 40, \"term\": \"kort\", \"tfidf\": 0.11955495796942747}, {\"document\": 40, \"term\": \"naam\", \"tfidf\": 0.10398412964505939}, {\"document\": 40, \"term\": \"tenlastelegging\", \"tfidf\": 0.06886956240872771}, {\"document\": 40, \"term\": \"verdenken\", \"tfidf\": 0.0627216630750876}, {\"document\": 41, \"term\": \"geluiddemper\", \"tfidf\": 0.4053579438034684}, {\"document\": 41, \"term\": \"dna\", \"tfidf\": 0.3812257540417882}, {\"document\": 41, \"term\": \"wapen\", \"tfidf\": 0.32979941019734776}, {\"document\": 41, \"term\": \"vuurwapen\", \"tfidf\": 0.1946567513304933}, {\"document\": 41, \"term\": \"verdenken\", \"tfidf\": 0.1827114082275387}, {\"document\": 41, \"term\": \"rugzak\", \"tfidf\": 0.18015395957363986}, {\"document\": 41, \"term\": \"munitie\", \"tfidf\": 0.17311200663619883}, {\"document\": 41, \"term\": \"willekeurige_onbekenen\", \"tfidf\": 0.16605595116881938}, {\"document\": 41, \"term\": \"wanneer_hypothese\", \"tfidf\": 0.16099974604505632}, {\"document\": 41, \"term\": \"aantreffen\", \"tfidf\": 0.14974167845902636}, {\"document\": 42, \"term\": \"zware_mishandeling\", \"tfidf\": 0.4504223663412562}, {\"document\": 42, \"term\": \"persoon\", \"tfidf\": 0.35226419114069674}, {\"document\": 42, \"term\": \"mes\", \"tfidf\": 0.30430931874653566}, {\"document\": 42, \"term\": \"steken\", \"tfidf\": 0.29130031698387704}, {\"document\": 42, \"term\": \"poging\", \"tfidf\": 0.287382656950889}, {\"document\": 42, \"term\": \"kopstoot\", \"tfidf\": 0.26764925491323815}, {\"document\": 42, \"term\": \"kort_samengevat\", \"tfidf\": 0.23277085478452997}, {\"document\": 42, \"term\": \"primair\", \"tfidf\": 0.20822040152882723}, {\"document\": 42, \"term\": \"buik\", \"tfidf\": 0.19579167801362016}, {\"document\": 42, \"term\": \"subsidiair\", \"tfidf\": 0.18905295091367705}, {\"document\": 43, \"term\": \"schietoefening\", \"tfidf\": 0.3537012234599523}, {\"document\": 43, \"term\": \"wapen\", \"tfidf\": 0.29534651857522354}, {\"document\": 43, \"term\": \"ontlad\", \"tfidf\": 0.2357957498049172}, {\"document\": 43, \"term\": \"sergeant\", \"tfidf\": 0.22327541154959135}, {\"document\": 43, \"term\": \"schietpunt\", \"tfidf\": 0.21222949677226371}, {\"document\": 43, \"term\": \"slachtoffer\", \"tfidf\": 0.2009607551693458}, {\"document\": 43, \"term\": \"militaire_kamer\", \"tfidf\": 0.18663393127711983}, {\"document\": 43, \"term\": \"trekker\", \"tfidf\": 0.17900605117974702}, {\"document\": 43, \"term\": \"bevel\", \"tfidf\": 0.17591065155130753}, {\"document\": 43, \"term\": \"schot\", \"tfidf\": 0.15962043299589268}, {\"document\": 44, \"term\": \"naam\", \"tfidf\": 0.3574232463614316}, {\"document\": 44, \"term\": \"slachtoffer\", \"tfidf\": 0.3178383684488448}, {\"document\": 44, \"term\": \"herkenning\", \"tfidf\": 0.2731165294163596}, {\"document\": 44, \"term\": \"dader\", \"tfidf\": 0.22011663822951144}, {\"document\": 44, \"term\": \"camerabeeld\", \"tfidf\": 0.20605911332715698}, {\"document\": 44, \"term\": \"voorgenomen_misdrijf\", \"tfidf\": 0.19590337352577575}, {\"document\": 44, \"term\": \"uitvoering\", \"tfidf\": 0.18095244877349945}, {\"document\": 44, \"term\": \"voorhouden\", \"tfidf\": 0.16580060115469292}, {\"document\": 44, \"term\": \"geweld\", \"tfidf\": 0.16518664583428283}, {\"document\": 44, \"term\": \"geld\", \"tfidf\": 0.15697529367365742}, {\"document\": 45, \"term\": \"hof\", \"tfidf\": 0.42170946279904975}, {\"document\": 45, \"term\": \"dossierpagina\", \"tfidf\": 0.2267653488069574}, {\"document\": 45, \"term\": \"verdenken\", \"tfidf\": 0.22115114281273196}, {\"document\": 45, \"term\": \"oplegging\", \"tfidf\": 0.16742908258955538}, {\"document\": 45, \"term\": \"gevangenisstraf\", \"tfidf\": 0.15037552620449582}, {\"document\": 45, \"term\": \"omstandigheid\", \"tfidf\": 0.15011329053580724}, {\"document\": 45, \"term\": \"feit\", \"tfidf\": 0.1463256040973788}, {\"document\": 45, \"term\": \"strafbaar\", \"tfidf\": 0.13700280608916449}, {\"document\": 45, \"term\": \"aangever\", \"tfidf\": 0.13549844712639325}, {\"document\": 45, \"term\": \"duur\", \"tfidf\": 0.1331026394287488}, {\"document\": 46, \"term\": \"hof\", \"tfidf\": 0.2991688265002154}, {\"document\": 46, \"term\": \"verdenken\", \"tfidf\": 0.23244428358445104}, {\"document\": 46, \"term\": \"werkstraf\", \"tfidf\": 0.2235935981190946}, {\"document\": 46, \"term\": \"kind\", \"tfidf\": 0.2139156637767798}, {\"document\": 46, \"term\": \"seksueel\", \"tfidf\": 0.1796162673636819}, {\"document\": 46, \"term\": \"relatie\", \"tfidf\": 0.17677424025403182}, {\"document\": 46, \"term\": \"straf\", \"tfidf\": 0.17071591025936775}, {\"document\": 46, \"term\": \"verklaren\", \"tfidf\": 0.12364528266452729}, {\"document\": 46, \"term\": \"leeftijd\", \"tfidf\": 0.12361118205473372}, {\"document\": 46, \"term\": \"ernst\", \"tfidf\": 0.12009429950228726}, {\"document\": 47, \"term\": \"overval\", \"tfidf\": 0.32888157338099144}, {\"document\": 47, \"term\": \"medeverdacht\", \"tfidf\": 0.30723702477463627}, {\"document\": 47, \"term\": \"jongen\", \"tfidf\": 0.24417862060025947}, {\"document\": 47, \"term\": \"woonplaats\", \"tfidf\": 0.21869935020189762}, {\"document\": 47, \"term\": \"kassa\", \"tfidf\": 0.17959130307312124}, {\"document\": 47, \"term\": \"slachtoffer\", \"tfidf\": 0.17436245638720568}, {\"document\": 47, \"term\": \"gewoon\", \"tfidf\": 0.15378863676468796}, {\"document\": 47, \"term\": \"toonbank\", \"tfidf\": 0.1502654929103875}, {\"document\": 47, \"term\": \"zien\", \"tfidf\": 0.1325853374790375}, {\"document\": 47, \"term\": \"verdenken\", \"tfidf\": 0.12780235264819573}, {\"document\": 48, \"term\": \"ander\", \"tfidf\": 0.376785021408632}, {\"document\": 48, \"term\": \"toeeigening\", \"tfidf\": 0.3656651899705572}, {\"document\": 48, \"term\": \"ov_chipkaart\", \"tfidf\": 0.32918736199049126}, {\"document\": 48, \"term\": \"dele_toebehorenen\", \"tfidf\": 0.2902811902429353}, {\"document\": 48, \"term\": \"roze\", \"tfidf\": 0.29031850577430574}, {\"document\": 48, \"term\": \"wegnemen\", \"tfidf\": 0.22765991672266625}, {\"document\": 48, \"term\": \"geval\", \"tfidf\": 0.19592969204666877}, {\"document\": 48, \"term\": \"portemonnee\", \"tfidf\": 0.19032087073555676}, {\"document\": 48, \"term\": \"kleur\", \"tfidf\": 0.18743662952752696}, {\"document\": 48, \"term\": \"bankpas\", \"tfidf\": 0.17750464172509828}, {\"document\": 49, \"term\": \"snorfiets\", \"tfidf\": 0.5527944103652092}, {\"document\": 49, \"term\": \"bouwlustlaan\", \"tfidf\": 0.2751112060331336}, {\"document\": 49, \"term\": \"afslaan\", \"tfidf\": 0.26888756066552716}, {\"document\": 49, \"term\": \"rijden\", \"tfidf\": 0.178292716258842}, {\"document\": 49, \"term\": \"links\", \"tfidf\": 0.1741078219633848}, {\"document\": 49, \"term\": \"hof\", \"tfidf\": 0.16497674396834144}, {\"document\": 49, \"term\": \"bestuurder\", \"tfidf\": 0.14880411432631824}, {\"document\": 49, \"term\": \"rechts\", \"tfidf\": 0.147748566300865}, {\"document\": 49, \"term\": \"passagier\", \"tfidf\": 0.14437727511197712}, {\"document\": 49, \"term\": \"fietspad\", \"tfidf\": 0.12610611710500746}]}}, {\"mode\": \"vega-lite\"});\n",
       "</script>"
      ],
      "text/plain": [
       "alt.LayerChart(...)"
      ]
     },
     "execution_count": 125,
     "metadata": {},
     "output_type": "execute_result"
    }
   ],
   "source": [
    "# Doesn't work due to the length constraint of a document (max. 5000)\n",
    "\n",
    "import altair as alt\n",
    "import numpy as np\n",
    "\n",
    "# Terms in this list will get a red dot in the visualization\n",
    "term_list = ['benadelen', 'kasboek', 'hof']\n",
    "\n",
    "# adding a little randomness to break ties in term ranking\n",
    "top_tfidf_plusRand = top_tfidf.copy()\n",
    "top_tfidf_plusRand = top_tfidf_plusRand.iloc[:500,]\n",
    "top_tfidf_plusRand['tfidf'] = top_tfidf_plusRand['tfidf'] + np.random.rand(top_tfidf_plusRand.shape[0])*0.0001\n",
    "\n",
    "# base for all visualizations, with rank calculation\n",
    "base = alt.Chart(top_tfidf_plusRand).encode(\n",
    "    x = 'rank:O',\n",
    "    y = 'document:N'\n",
    ").transform_window(\n",
    "    rank = \"rank()\",\n",
    "    sort = [alt.SortField(\"tfidf\", order=\"descending\")],\n",
    "    groupby = [\"document\"],\n",
    ")\n",
    "\n",
    "# heatmap specification\n",
    "heatmap = base.mark_rect().encode(\n",
    "    color = 'tfidf:Q'\n",
    ")\n",
    "\n",
    "# red circle over terms in above list\n",
    "circle = base.mark_circle(size=100).encode(\n",
    "    color = alt.condition(\n",
    "        alt.FieldOneOfPredicate(field='term', oneOf=term_list),\n",
    "        alt.value('red'),\n",
    "        alt.value('#FFFFFF00')        \n",
    "    )\n",
    ")\n",
    "\n",
    "# text labels, white for darker heatmap colors\n",
    "text = base.mark_text(baseline='middle').encode(\n",
    "    text = 'term:N',\n",
    "    color = alt.condition(alt.datum.tfidf >= 0.23, alt.value('white'), alt.value('black'))\n",
    ")\n",
    "\n",
    "# display the three superimposed visualizations\n",
    "(heatmap + circle + text).properties(width = 1200)"
   ]
  },
  {
   "cell_type": "code",
   "execution_count": null,
   "metadata": {},
   "outputs": [],
   "source": []
  },
  {
   "cell_type": "code",
   "execution_count": null,
   "metadata": {},
   "outputs": [],
   "source": []
  }
 ],
 "metadata": {
  "interpreter": {
   "hash": "40d3a090f54c6569ab1632332b64b2c03c39dcf918b08424e98f38b5ae0af88f"
  },
  "kernelspec": {
   "display_name": "Python 3.7.10 64-bit ('base': conda)",
   "language": "python",
   "name": "python3"
  },
  "language_info": {
   "codemirror_mode": {
    "name": "ipython",
    "version": 3
   },
   "file_extension": ".py",
   "mimetype": "text/x-python",
   "name": "python",
   "nbconvert_exporter": "python",
   "pygments_lexer": "ipython3",
   "version": "3.7.10"
  },
  "orig_nbformat": 4
 },
 "nbformat": 4,
 "nbformat_minor": 2
}
