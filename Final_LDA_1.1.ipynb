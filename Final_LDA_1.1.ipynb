{
 "cells": [
  {
   "cell_type": "markdown",
   "metadata": {},
   "source": [
    "# Final LDA Model"
   ]
  },
  {
   "cell_type": "code",
   "execution_count": 33,
   "metadata": {},
   "outputs": [],
   "source": [
    "import re\n",
    "import numpy as np\n",
    "import pandas as pd\n",
    "from pprint import pprint\n",
    "\n",
    "# Gensim\n",
    "import gensim\n",
    "import gensim.corpora as corpora\n",
    "from gensim.utils import simple_preprocess\n",
    "from gensim.models import CoherenceModel\n",
    "\n",
    "# spacy for lemmatization\n",
    "import spacy\n",
    "\n",
    "# Plotting tools\n",
    "import pyLDAvis\n",
    "# import pyLDAvis.gensim  # Author: don't skip this\n",
    "# pyLDAvis.gensim.prepare\n",
    "\n",
    "# I think i need another one:\n",
    "import pyLDAvis.gensim_models\n",
    "import pyLDAvis.gensim_models as gensimvis\n",
    "\n",
    "# Plots\n",
    "import matplotlib.pyplot as plt\n",
    "%matplotlib inline\n",
    "\n",
    "# Enable logging for gensim - optional\n",
    "import logging\n",
    "logging.basicConfig(format='%(asctime)s : %(levelname)s : %(message)s', level=logging.ERROR)\n",
    "\n",
    "import warnings\n",
    "warnings.filterwarnings(\"ignore\",category=DeprecationWarning)"
   ]
  },
  {
   "cell_type": "code",
   "execution_count": 34,
   "metadata": {},
   "outputs": [],
   "source": [
    "# NLTK Stop words\n",
    "from nltk.corpus import stopwords\n",
    "stop_words = stopwords.words('dutch')\n",
    "stop_words.extend(['tenlastelegging\\\\n\\\\n\\\\naan', '\\\\n\\\\n\\\\n\\\\n\\\\n\\\\n', '\\\\n\\\\n\\\\n\\\\n\\\\n', '\\\\n\\\\n', 'een', 'naan', 'nde', 'nhij', '\\\\n'])"
   ]
  },
  {
   "cell_type": "markdown",
   "metadata": {},
   "source": [
    "# Data"
   ]
  },
  {
   "cell_type": "code",
   "execution_count": 35,
   "metadata": {},
   "outputs": [],
   "source": [
    "# Data\n",
    "df = pd.read_csv('DataSample_DSP_07123.csv', index_col=1) \n",
    "df = df[df['re_tll'] != '[]'][['re_tll']] #re_bewijs\n",
    "# data = [i for i in df['re_tll']]"
   ]
  },
  {
   "cell_type": "markdown",
   "metadata": {},
   "source": [
    "# Tokenize "
   ]
  },
  {
   "cell_type": "code",
   "execution_count": 36,
   "metadata": {},
   "outputs": [
    {
     "name": "stdout",
     "output_type": "stream",
     "text": [
      "[['tenlastelegging', 'naan', 'verdachte', 'is', 'ten', 'laste', 'gelegd', 'dat', 'nhij', 'in', 'of', 'omstreeks', 'de', 'periode', 'van', 'november', 'tot', 'en', 'met', 'november', 'in', 'arnhem', 'en', 'of', 'in', 'nederland', 'en', 'of', 'in', 'duitsland', 'en', 'of', 'in', 'oostenrijk', 'en', 'of', 'in', 'hongarije', 'opzettelijk', 'een', 'of', 'meer', 'minderjarige', 'te', 'weten', 'naam', 'geboren', 'op', 'geboortedatum', 'in', 'geboorteplaats', 'en', 'of', 'naam', 'geboren', 'op', 'geboortedatum', 'in', 'geboorteplaats', 'heeft', 'onttrokken', 'aan', 'het', 'wettig', 'over', 'hen', 'haar', 'gesteld', 'gezag', 'en', 'of', 'aan', 'het', 'opzicht', 'van', 'degene', 'die', 'dit', 'desbevoegd', 'over', 'hen', 'haar', 'uitoefende', 'terwijl', 'die', 'minderjarige', 'beneden', 'de', 'twaalf', 'jaren', 'oud', 'was', 'waren', 'en', 'of', 'terwijl', 'list', 'was', 'gebezigd', 'bestaande', 'uit', 'het', 'door', 'verdachte', 'aan', 'de', 'school', 'van', 'de', 'minderjarig', 'in', 'strijd', 'met', 'de', 'waarheid', 'mededelen', 'dat', 'de', 'minderjarige', 'een', 'afspraak', 'bij', 'de', 'tandarts', 'zou', 'den', 'hebben', 'en', 'de', 'minderjarige', 'daarvoor', 'vroeger', 'op', 'te', 'halen', 'van', 'school', 'en', 'of', 'het', 'door', 'verdachte', 'uit', 'het', 'huis', 'lokken', 'van', 'zijn', 'verdachtes', 'echtgenote', 'genaamd', 'naam', 'door', 'het', 'maken', 'van', 'een', 'afspraak', 'met', 'haar', 'bij', 'een', 'woonboulevard', 'om', 'beweerdelijk', 'te', 'gaan', 'shoppen', 'zodat', 'verdachte', 'de', 'paspoorten', 'en', 'kleding', 'toiletartikelen', 'van', 'de', 'minderjarige', 'en', 'uit', 'de', 'woning', 'kon', 'pakken', 'toverwegingen', 'ten', 'aanzien', 'van', 'het', 'bewijs', 'nde', 'feiten', 'nop', 'grond', 'van', 'de', 'bewijsmiddelen', 'wordt', 'het', 'volgende', 'dat', 'verder', 'ook', 'niet', 'ter', 'discussie', 'staat', 'vastgesteld', 'naangeefster', 'naam', 'en', 'verdachte', 'zijn', 'getrouwd', 'en', 'hebben', 'samen', 'twee', 'kinderen', 'naam', 'geboren', 'op', 'geboortedatum', 'te', 'geboorteplaats', 'en', 'naam', 'geboren', 'op', 'geboortedatum', 'te', 'geboorteplaats', 'aangeefster', 'en', 'verdachte', 'hebben', 'beiden', 'gezag', 'over', 'deze', 'kinderen', 'verdachte', 'heeft', 'op', 'november', 'de', 'kinderen', 'eerder', 'van', 'school', 'gehaald', 'hij', 'is', 'vervolgens', 'in', 'een', 'bus', 'gestapt', 'in', 'nijmegen', 'heeft', 'in', 'kleve', 'duitsland', 'een', 'trein', 'genomen', 'in', 'dusseldorf', 'duitsland', 'de', 'bus', 'genomen', 'naar', 'salzburg', 'oostenrijk', 'en', 'heeft', 'vanuit', 'daar', 'een', 'trein', 'naar', 'boekarest', 'roemenie', 'genomen', 'in', 'deze', 'trein', 'is', 'hij', 'op', 'november', 'aangehouden', 'toen', 'de', 'trein', 'zich', 'in', 'hongarije', 'bevond', 'nhet', 'standpunt', 'van', 'de', 'officier', 'van', 'justitie', 'nde', 'officier', 'van', 'justitie', 'heeft', 'gesteld', 'dat', 'wettig', 'en', 'overtuigend', 'bewezen', 'kan', 'worden', 'dat', 'verdachte', 'zich', 'schuldig', 'heeft', 'gemaakt', 'aan', 'het', 'ten', 'laste', 'gelegde', 'nhet', 'standpunt', 'van', 'de', 'verdediging', 'nde', 'verdediging', 'heeft', 'zich', 'op', 'het', 'standpunt', 'gesteld', 'dat', 'verdachte', 'van', 'het', 'ten', 'laste', 'gelegde', 'dient', 'te', 'worden', 'vrijgesproken', 'omdat', 'verdachte', 'niet', 'het', 'opzet', 'had', 'de', 'kinderen', 'aan', 'het', 'gezag', 'van', 'aangeefster', 'te', 'onttrekken', 'daarnaast', 'heeft', 'verdachte', 'volgens', 'de', 'verdediging', 'ook', 'geen', 'list', 'gebezigd', 'nbeoordeling', 'door', 'de', 'rechtbank', 'naangeefster', 'heeft', 'verklaard', 'dat', 'zij', 'op', 'november', 'omstreeks', 'uur', 'door', 'verdachte', 'werd', 'gebeld', 'hij', 'vroeg', 'haar', 'of', 'ze', 'om', 'uur', 'op', 'hem', 'wilde', 'wachten', 'bij', 'de', 'woonboulevard', 'in', 'arnhem', 'zuid', 'zodat', 'ze', 'samen', 'konden', 'gaan', 'shoppen', 'aangeefster', 'is', 'vervolgens', 'naar', 'de', 'woonboulevard', 'gegaan', 'maar', 'verdachte', 'was', 'daar', 'niet', 'op', 'het', 'afgesproken', 'tijdstip', 'aanwezig', 'omstreeks', 'uur', 'is', 'zij', 'naar', 'de', 'school', 'van', 'haar', 'kinderen', 'gegaan', 'om', 'hen', 'op', 'te', 'halen', 'daar', 'hoorde', 'ze', 'van', 'de', 'leerkracht', 'dat', 'haar', 'kinderen', 'omstreeks', 'uur', 'waren', 'opgehaald', 'door', 'verdachte', 'met', 'de', 'mededeling', 'dat', 'ze', 'een', 'afspraak', 'hadden', 'bij', 'de', 'tandarts', 'aangeefster', 'raakte', 'in', 'paniek', 'omdat', 'ze', 'wist', 'dat', 'haar', 'kinderen', 'geen', 'afspraak', 'bij', 'de', 'tandarts', 'hadden', 'zij', 'heeft', 'verdachte', 'toen', 'meermalen', 'proberen', 'te', 'bellen', 'verdachte', 'nam', 'zijn', 'telefoon', 'echter', 'niet', 'op', 'zij', 'heeft', 'toen', 'de', 'voicemail', 'ingesproken', 'met', 'de', 'vraag', 'waarom', 'hij', 'hun', 'kinderen', 'had', 'meegenomen', 'eenmaal', 'thuis', 'gekomen', 'kwam', 'ze', 'er', 'achter', 'dat', 'de', 'paspoorten', 'van', 'de', 'kinderen', 'en', 'van', 'verdachte', 'weg', 'waren', 'ook', 'waren', 'de', 'toiletartikelen', 'en', 'wat', 'kleding', 'van', 'de', 'kinderen', 'weg', 'nde', 'leerkracht', 'van', 'naam', 'getuige', 'heeft', 'verklaard', 'dat', 'verdachte', 'in', 'de', 'ochtend', 'net', 'voor', 'het', 'begin', 'van', 'de', 'schooldag', 'al', 'naar', 'haar', 'toe', 'was', 'gekomen', 'om', 'te', 'vertellen', 'dat', 'hij', 'met', 'zijn', 'dochter', 'naar', 'de', 'tandarts', 'zou', 'gaan', 'aan', 'het', 'einde', 'van', 'de', 'ochtend', 'heeft', 'hij', 'haar', 'toen', 'opgehaald', 'naam', 'moeder', 'is', 'toen', 'nog', 'na', 'schooltijd', 'geweest', 'om', 'haar', 'op', 'te', 'halen', 'de', 'leerkracht', 'van', 'naam', 'getuige', 'heeft', 'verklaard', 'dat', 'verdachte', 'in', 'de', 'ochtend', 'tegen', 'hem', 'had', 'gezegd', 'dat', 'hij', 'naam']]\n"
     ]
    }
   ],
   "source": [
    "def sent_to_words(sentences):\n",
    "    for sentence in sentences:\n",
    "        yield(gensim.utils.simple_preprocess(str(sentence), deacc=True))  # deacc=True removes punctuations\n",
    "\n",
    "data_words = list(sent_to_words(df['re_tll']))\n",
    "\n",
    "print(data_words[:1])"
   ]
  },
  {
   "cell_type": "markdown",
   "metadata": {},
   "source": [
    "# Creating Bigram and Trigram Models"
   ]
  },
  {
   "cell_type": "code",
   "execution_count": 37,
   "metadata": {},
   "outputs": [
    {
     "name": "stdout",
     "output_type": "stream",
     "text": [
      "['tenlastelegging', 'naan', 'verdachte', 'is', 'ten_laste_gelegd', 'dat', 'nhij', 'in', 'of', 'omstreeks', 'de', 'periode', 'van', 'november', 'tot', 'en', 'met', 'november', 'in', 'arnhem', 'en', 'of', 'in', 'nederland', 'en', 'of', 'in', 'duitsland', 'en', 'of', 'in', 'oostenrijk', 'en', 'of', 'in', 'hongarije', 'opzettelijk', 'een', 'of', 'meer', 'minderjarige', 'te', 'weten', 'naam', 'geboren', 'op', 'geboortedatum', 'in', 'geboorteplaats', 'en', 'of', 'naam', 'geboren', 'op', 'geboortedatum', 'in', 'geboorteplaats', 'heeft', 'onttrokken', 'aan', 'het', 'wettig', 'over', 'hen', 'haar', 'gesteld', 'gezag', 'en', 'of', 'aan', 'het', 'opzicht', 'van', 'degene', 'die', 'dit', 'desbevoegd', 'over', 'hen', 'haar', 'uitoefende', 'terwijl', 'die', 'minderjarige', 'beneden', 'de', 'twaalf_jaren', 'oud', 'was', 'waren', 'en', 'of', 'terwijl', 'list', 'was', 'gebezigd', 'bestaande', 'uit', 'het', 'door', 'verdachte', 'aan', 'de', 'school', 'van', 'de', 'minderjarig', 'in', 'strijd', 'met', 'de', 'waarheid', 'mededelen', 'dat', 'de', 'minderjarige', 'een', 'afspraak', 'bij', 'de', 'tandarts', 'zou', 'den', 'hebben', 'en', 'de', 'minderjarige', 'daarvoor', 'vroeger', 'op', 'te', 'halen', 'van', 'school', 'en', 'of', 'het', 'door', 'verdachte', 'uit', 'het', 'huis', 'lokken', 'van', 'zijn', 'verdachtes', 'echtgenote', 'genaamd', 'naam', 'door', 'het', 'maken', 'van', 'een', 'afspraak', 'met', 'haar', 'bij', 'een', 'woonboulevard', 'om', 'beweerdelijk', 'te', 'gaan', 'shoppen', 'zodat', 'verdachte', 'de', 'paspoorten', 'en', 'kleding', 'toiletartikelen', 'van', 'de', 'minderjarige', 'en', 'uit', 'de', 'woning', 'kon', 'pakken', 'toverwegingen', 'ten', 'aanzien', 'van', 'het', 'bewijs', 'nde', 'feiten', 'nop', 'grond', 'van', 'de', 'bewijsmiddelen', 'wordt', 'het', 'volgende', 'dat', 'verder', 'ook', 'niet', 'ter', 'discussie_staat_vastgesteld', 'naangeefster', 'naam', 'en', 'verdachte', 'zijn', 'getrouwd', 'en', 'hebben', 'samen', 'twee', 'kinderen', 'naam', 'geboren', 'op', 'geboortedatum', 'te', 'geboorteplaats', 'en', 'naam', 'geboren', 'op', 'geboortedatum', 'te', 'geboorteplaats', 'aangeefster', 'en', 'verdachte', 'hebben', 'beiden', 'gezag', 'over', 'deze', 'kinderen', 'verdachte', 'heeft', 'op', 'november', 'de', 'kinderen', 'eerder', 'van', 'school', 'gehaald', 'hij', 'is', 'vervolgens', 'in', 'een', 'bus', 'gestapt', 'in', 'nijmegen', 'heeft', 'in', 'kleve', 'duitsland', 'een', 'trein', 'genomen', 'in', 'dusseldorf', 'duitsland', 'de', 'bus', 'genomen', 'naar', 'salzburg', 'oostenrijk', 'en', 'heeft', 'vanuit', 'daar', 'een', 'trein', 'naar', 'boekarest', 'roemenie', 'genomen', 'in', 'deze', 'trein', 'is', 'hij', 'op', 'november', 'aangehouden', 'toen', 'de', 'trein', 'zich', 'in', 'hongarije', 'bevond', 'nhet', 'standpunt', 'van', 'de', 'officier', 'van', 'justitie', 'nde', 'officier', 'van', 'justitie', 'heeft', 'gesteld', 'dat', 'wettig', 'en', 'overtuigend_bewezen_kan', 'worden', 'dat', 'verdachte', 'zich', 'schuldig', 'heeft', 'gemaakt', 'aan', 'het', 'ten_laste_gelegde', 'nhet', 'standpunt', 'van', 'de', 'verdediging', 'nde', 'verdediging', 'heeft', 'zich', 'op', 'het', 'standpunt_gesteld', 'dat', 'verdachte', 'van', 'het', 'ten_laste_gelegde', 'dient', 'te', 'worden', 'vrijgesproken', 'omdat', 'verdachte', 'niet', 'het', 'opzet', 'had', 'de', 'kinderen', 'aan', 'het', 'gezag', 'van', 'aangeefster', 'te', 'onttrekken', 'daarnaast', 'heeft', 'verdachte', 'volgens', 'de', 'verdediging', 'ook', 'geen', 'list', 'gebezigd', 'nbeoordeling', 'door', 'de', 'rechtbank', 'naangeefster', 'heeft', 'verklaard', 'dat', 'zij', 'op', 'november', 'omstreeks', 'uur', 'door', 'verdachte', 'werd', 'gebeld', 'hij', 'vroeg', 'haar', 'of', 'ze', 'om', 'uur', 'op', 'hem', 'wilde', 'wachten', 'bij', 'de', 'woonboulevard', 'in', 'arnhem', 'zuid', 'zodat', 'ze', 'samen', 'konden', 'gaan', 'shoppen', 'aangeefster', 'is', 'vervolgens', 'naar', 'de', 'woonboulevard', 'gegaan', 'maar', 'verdachte', 'was', 'daar', 'niet', 'op', 'het', 'afgesproken', 'tijdstip', 'aanwezig', 'omstreeks', 'uur', 'is', 'zij', 'naar', 'de', 'school', 'van', 'haar', 'kinderen', 'gegaan', 'om', 'hen', 'op', 'te', 'halen', 'daar', 'hoorde', 'ze', 'van', 'de', 'leerkracht', 'dat', 'haar', 'kinderen', 'omstreeks', 'uur', 'waren', 'opgehaald', 'door', 'verdachte', 'met', 'de', 'mededeling', 'dat', 'ze', 'een', 'afspraak', 'hadden', 'bij', 'de', 'tandarts', 'aangeefster', 'raakte', 'in', 'paniek', 'omdat', 'ze', 'wist', 'dat', 'haar', 'kinderen', 'geen', 'afspraak', 'bij', 'de', 'tandarts', 'hadden', 'zij', 'heeft', 'verdachte', 'toen', 'meermalen', 'proberen', 'te', 'bellen', 'verdachte', 'nam', 'zijn', 'telefoon', 'echter', 'niet', 'op', 'zij', 'heeft', 'toen', 'de', 'voicemail', 'ingesproken', 'met', 'de', 'vraag', 'waarom', 'hij', 'hun', 'kinderen', 'had', 'meegenomen', 'eenmaal', 'thuis', 'gekomen', 'kwam', 'ze', 'er', 'achter', 'dat', 'de', 'paspoorten', 'van', 'de', 'kinderen', 'en', 'van', 'verdachte', 'weg', 'waren', 'ook', 'waren', 'de', 'toiletartikelen', 'en', 'wat', 'kleding', 'van', 'de', 'kinderen', 'weg', 'nde', 'leerkracht', 'van', 'naam', 'getuige', 'heeft', 'verklaard', 'dat', 'verdachte', 'in', 'de', 'ochtend', 'net', 'voor', 'het', 'begin', 'van', 'de', 'schooldag', 'al', 'naar', 'haar', 'toe', 'was', 'gekomen', 'om', 'te', 'vertellen', 'dat', 'hij', 'met', 'zijn', 'dochter', 'naar', 'de', 'tandarts', 'zou', 'gaan', 'aan', 'het', 'einde', 'van', 'de', 'ochtend', 'heeft', 'hij', 'haar', 'toen', 'opgehaald', 'naam', 'moeder', 'is', 'toen', 'nog', 'na', 'schooltijd', 'geweest', 'om', 'haar', 'op', 'te', 'halen', 'de', 'leerkracht', 'van', 'naam', 'getuige', 'heeft', 'verklaard', 'dat', 'verdachte', 'in', 'de', 'ochtend', 'tegen', 'hem', 'had', 'gezegd', 'dat', 'hij', 'naam']\n"
     ]
    }
   ],
   "source": [
    "# Build the bigram and trigram models\n",
    "bigram = gensim.models.Phrases(data_words, min_count=5, threshold=100) # higher threshold fewer phrases.\n",
    "trigram = gensim.models.Phrases(bigram[data_words], threshold=100)  \n",
    "\n",
    "# Faster way to get a sentence clubbed as a trigram/bigram\n",
    "bigram_mod = gensim.models.phrases.Phraser(bigram)\n",
    "trigram_mod = gensim.models.phrases.Phraser(trigram)\n",
    "\n",
    "# See trigram example\n",
    "print(trigram_mod[bigram_mod[data_words[0]]])"
   ]
  },
  {
   "cell_type": "markdown",
   "metadata": {},
   "source": [
    "# Remove Stopwords, Make Bigrams and Lemmatize"
   ]
  },
  {
   "cell_type": "code",
   "execution_count": 38,
   "metadata": {},
   "outputs": [],
   "source": [
    "# Define functions for stopwords, bigrams, trigrams and lemmatization\n",
    "def remove_stopwords(texts):\n",
    "    return [[word for word in simple_preprocess(str(doc)) if word not in stop_words] for doc in texts]\n",
    "\n",
    "def make_bigrams(texts):\n",
    "    return [bigram_mod[doc] for doc in texts]\n",
    "\n",
    "def make_trigrams(texts):\n",
    "    return [trigram_mod[bigram_mod[doc]] for doc in texts]\n",
    "\n",
    "def lemmatization(texts, allowed_postags=['NOUN', 'ADJ', 'VERB', 'ADV']):\n",
    "    \"\"\"https://spacy.io/api/annotation\"\"\"\n",
    "    texts_out = []\n",
    "    for sent in texts:\n",
    "        doc = nlp(\" \".join(sent)) \n",
    "        texts_out.append([token.lemma_ for token in doc if token.pos_ in allowed_postags])\n",
    "    return texts_out"
   ]
  },
  {
   "cell_type": "code",
   "execution_count": 39,
   "metadata": {},
   "outputs": [
    {
     "name": "stdout",
     "output_type": "stream",
     "text": [
      "[['tenlastelegging', 'verdenken', 'laste_gelegd', 'periode', 'oostenrijk', 'opzettelijk', 'minderjarig', 'weten', 'naam', 'baren', 'geboortedatum', 'geboorteplaats', 'naam', 'baren', 'geboortedatum', 'geboorteplaats', 'onttrekken', 'wettig', 'stellen', 'gezag', 'opzicht', 'desbevoegd', 'uitoefenen', 'minderjarig', 'twaalf_jar', 'oud', 'list', 'bezigen', 'bestaan', 'verdenken', 'school', 'minderjarig', 'strijd', 'waarheid', 'mededeel', 'minderjarig', 'afspraak', 'tandarts', 'minderjarig', 'daarvoor', 'vroeger', 'halen', 'school', 'verdenken', 'huis', 'lok', 'verdachte', 'echtgenote', 'genaamd', 'naam', 'maken', 'afspraak', 'woonboulevard', 'beweerdelijk', 'gaan', 'shopp', 'verdenken', 'paspoort', 'kleding', 'toiletartikel', 'minderjarig', 'woning', 'toverweging', 'aanzien', 'bewijs', 'feit', 'nop', 'grond', 'bewijsmiddel', 'volgen', 'ver', 'discussie_staat', 'vaststellen', 'naangeefst', 'naam', 'verdenken', 'trouwen', 'samen', 'kind', 'naam', 'baren', 'geboortedatum', 'geboorteplaats', 'naam', 'baren', 'geboortedatum', 'geboorteplaats', 'aangeefster', 'verdenken', 'gezag', 'kind', 'verdenken', 'kind', 'eerder', 'school', 'halen', 'vervolgens', 'bus', 'stappen', 'nijmeg', 'klev', 'trein', 'nemen', 'dusseldorf', 'nemen', 'oostenrijk', 'trein', 'boekarest', 'roemenie', 'nemen', 'trein', 'aanhouden', 'trein', 'bevinden', 'standpunt', 'officier', 'justitie', 'officier', 'justitie', 'stellen', 'wettig', 'overtuigend_bewezen', 'verdenken', 'schuldig', 'maken', 'laste_gelegen', 'standpunt', 'verdediging', 'verdediging', 'standpunt_gesteld', 'verdenken', 'dienen', 'vrijspreken', 'verdenken', 'opzet', 'kind', 'gezag', 'aangeefster', 'onttrekken', 'daarnaast', 'verdenken', 'verdediging', 'list', 'bezigen', 'nbeoordeling', 'rechtbank', 'naangeefster', 'verklaren', 'uur', 'verdenken', 'bellen', 'vroeg', 'uur', 'willen', 'wachten', 'arnhem', 'zuid', 'samen', 'gaan', 'shoppen', 'aangeefster', 'vervolgens', 'woonboulevard', 'gaan', 'verdenken', 'afspreken', 'tijdstip', 'aanwezig', 'uur', 'school', 'kind', 'gaan', 'halen', 'horen', 'leerkracht', 'kind', 'uur', 'ophalen', 'verdenken', 'mededeling', 'afspraak', 'tandarts', 'aangeefster', 'raken', 'paniek', 'weten', 'kind', 'afspraak', 'tandarts', 'verdenken', 'meermalen', 'proberen', 'bellen', 'verdenken', 'nemen', 'telefoon', 'echter', 'voicemail', 'inspreken', 'vraag', 'waarom', 'kind', 'meenemen', 'eenmaal', 'thuis', 'komen', 'komen', 'paspoort', 'kind', 'verdenken', 'weg', 'toiletartikel', 'kleding', 'kind', 'weg', 'leerkracht', 'naam', 'getuige', 'verklaren', 'verdenken', 'ochtend', 'net', 'begin', 'schooldag', 'komen', 'vertellen', 'dochter', 'tandarts', 'gaan', 'einde', 'ochtend', 'ophalen', 'naam', 'moeder', 'schooltijd', 'halen', 'leerkracht', 'naam', 'getuige', 'verklaren', 'verdenken', 'ochtend', 'zeggen', 'naam']]\n"
     ]
    }
   ],
   "source": [
    "# Remove Stop Words\n",
    "data_words_nostops = remove_stopwords(data_words)\n",
    "\n",
    "# Form Bigrams\n",
    "data_words_bigrams = make_bigrams(data_words_nostops)\n",
    "\n",
    "# Initialize spacy 'en' model, keeping only tagger component (for efficiency)\n",
    "# python3 -m spacy download en\n",
    "# nlp = spacy.load('nl', disable=['parser', 'ner'])\n",
    "\n",
    "nlp = spacy.load(\"nl_core_news_sm\")\n",
    "\n",
    "# Do lemmatization keeping only noun, adj, vb, adv\n",
    "data_lemmatized = lemmatization(data_words_bigrams, allowed_postags=['NOUN', 'ADJ', 'VERB', 'ADV'])\n",
    "\n",
    "print(data_lemmatized[:1])"
   ]
  },
  {
   "cell_type": "markdown",
   "metadata": {},
   "source": [
    "#  Create the Dictionary and Corpus needed for Topic Modeling"
   ]
  },
  {
   "cell_type": "code",
   "execution_count": 40,
   "metadata": {},
   "outputs": [
    {
     "name": "stdout",
     "output_type": "stream",
     "text": [
      "[[(0, 4), (1, 1), (2, 1), (3, 1), (4, 4), (5, 1), (6, 1), (7, 4), (8, 1), (9, 2), (10, 1), (11, 1), (12, 1), (13, 1), (14, 1), (15, 2), (16, 1), (17, 1), (18, 1), (19, 1), (20, 1), (21, 1), (22, 1), (23, 1), (24, 1), (25, 1), (26, 1), (27, 1), (28, 1), (29, 1), (30, 1), (31, 5), (32, 4), (33, 4), (34, 1), (35, 2), (36, 3), (37, 1), (38, 4), (39, 1), (40, 1), (41, 1), (42, 2), (43, 10), (44, 2), (45, 1), (46, 3), (47, 1), (48, 1), (49, 3), (50, 2), (51, 1), (52, 2), (53, 1), (54, 1), (55, 1), (56, 1), (57, 6), (58, 1), (59, 10), (60, 1), (61, 1), (62, 1), (63, 4), (64, 1), (65, 1), (66, 1), (67, 3), (68, 2), (69, 2), (70, 2), (71, 2), (72, 1), (73, 1), (74, 1), (75, 1), (76, 1), (77, 1), (78, 2), (79, 1), (80, 1), (81, 1), (82, 1), (83, 1), (84, 2), (85, 4), (86, 1), (87, 1), (88, 1), (89, 1), (90, 1), (91, 2), (92, 1), (93, 1), (94, 2), (95, 1), (96, 4), (97, 1), (98, 1), (99, 1), (100, 1), (101, 2), (102, 1), (103, 4), (104, 1), (105, 1), (106, 1), (107, 4), (108, 1), (109, 1), (110, 1), (111, 3), (112, 19), (113, 3), (114, 1), (115, 2), (116, 1), (117, 1), (118, 1), (119, 1), (120, 1), (121, 1), (122, 1), (123, 1), (124, 1), (125, 2), (126, 2), (127, 2), (128, 1), (129, 1), (130, 2), (131, 1), (132, 1)]]\n"
     ]
    }
   ],
   "source": [
    "# Create Dictionary\n",
    "id2word = corpora.Dictionary(data_lemmatized)\n",
    "\n",
    "# Create Corpus\n",
    "texts = data_lemmatized\n",
    "\n",
    "# Term Document Frequency\n",
    "corpus = [id2word.doc2bow(text) for text in texts]\n",
    "\n",
    "# View\n",
    "print(corpus[:1])"
   ]
  },
  {
   "cell_type": "code",
   "execution_count": 41,
   "metadata": {},
   "outputs": [
    {
     "data": {
      "text/plain": [
       "'aangeefster'"
      ]
     },
     "execution_count": 41,
     "metadata": {},
     "output_type": "execute_result"
    }
   ],
   "source": [
    "# Id word\n",
    "id2word[0]"
   ]
  },
  {
   "cell_type": "markdown",
   "metadata": {},
   "source": [
    "# Building the Topic Model"
   ]
  },
  {
   "cell_type": "code",
   "execution_count": 42,
   "metadata": {},
   "outputs": [],
   "source": [
    "# Build LDA model\n",
    "lda_model = gensim.models.ldamodel.LdaModel(corpus=corpus,\n",
    "                                           id2word=id2word,\n",
    "                                           num_topics=5, \n",
    "                                           random_state=100,\n",
    "                                           update_every=1,\n",
    "                                           chunksize=100,\n",
    "                                           passes=10,\n",
    "                                           alpha='auto',\n",
    "                                           per_word_topics=True)"
   ]
  },
  {
   "cell_type": "markdown",
   "metadata": {},
   "source": [
    "# View the topics in LDA model"
   ]
  },
  {
   "cell_type": "code",
   "execution_count": 30,
   "metadata": {},
   "outputs": [
    {
     "name": "stdout",
     "output_type": "stream",
     "text": [
      "[(0,\n",
      "  '0.024*\"ander\" + 0.023*\"althans\" + 0.021*\"naam\" + 0.020*\"verdenken\" + '\n",
      "  '0.016*\"geval\" + 0.015*\"bedrijf\" + 0.014*\"goed\" + 0.014*\"weten\" + '\n",
      "  '0.012*\"periode\" + 0.012*\"telkens\"'),\n",
      " (1,\n",
      "  '0.031*\"verbalisant\" + 0.023*\"zien\" + 0.021*\"man\" + 0.014*\"medeverdacht\" + '\n",
      "  '0.012*\"adres\" + 0.011*\"woning\" + 0.009*\"persoon\" + 0.008*\"uur\" + '\n",
      "  '0.008*\"overval\" + 0.007*\"liggen\"'),\n",
      " (2,\n",
      "  '0.063*\"verdenken\" + 0.014*\"hof\" + 0.013*\"rechtbank\" + 0.012*\"verklaren\" + '\n",
      "  '0.012*\"benadelen\" + 0.010*\"gaan\" + 0.010*\"feit\" + 0.009*\"komen\" + '\n",
      "  '0.009*\"zien\" + 0.009*\"medeverdacht\"'),\n",
      " (3,\n",
      "  '0.041*\"naam\" + 0.035*\"verdenken\" + 0.031*\"aangeefster\" + 0.022*\"laten\" + '\n",
      "  '0.019*\"zoon\" + 0.013*\"minderjarig\" + 0.011*\"kind\" + 0.009*\"telkens\" + '\n",
      "  '0.008*\"huis\" + 0.007*\"gezag\"'),\n",
      " (4,\n",
      "  '0.096*\"slachtoffer\" + 0.038*\"althans\" + 0.030*\"naam\" + 0.024*\"verdenken\" + '\n",
      "  '0.020*\"ander\" + 0.016*\"geweld\" + 0.014*\"geval\" + 0.012*\"weten\" + '\n",
      "  '0.012*\"lichaam\" + 0.011*\"hoofd\"')]\n"
     ]
    }
   ],
   "source": [
    "# Print the Keyword in the 10 topics\n",
    "pprint(lda_model.print_topics())\n",
    "doc_lda = lda_model[corpus]"
   ]
  },
  {
   "cell_type": "markdown",
   "metadata": {},
   "source": [
    "# Compute Model Perplexity and Coherence Score"
   ]
  },
  {
   "cell_type": "code",
   "execution_count": 31,
   "metadata": {},
   "outputs": [
    {
     "name": "stdout",
     "output_type": "stream",
     "text": [
      "\n",
      "Perplexity:  -7.213709810029745\n",
      "\n",
      "Coherence Score:  0.5126723333867096\n"
     ]
    }
   ],
   "source": [
    "# Compute Perplexity\n",
    "print('\\nPerplexity: ', lda_model.log_perplexity(corpus))  # a measure of how good the model is. lower the better.\n",
    "\n",
    "# Compute Coherence Score\n",
    "coherence_model_lda = CoherenceModel(model=lda_model, texts=data_lemmatized, dictionary=id2word, coherence='c_v')\n",
    "coherence_lda = coherence_model_lda.get_coherence()\n",
    "print('\\nCoherence Score: ', coherence_lda)"
   ]
  },
  {
   "cell_type": "markdown",
   "metadata": {},
   "source": [
    "# Visualize the topics-keywords"
   ]
  },
  {
   "cell_type": "code",
   "execution_count": 32,
   "metadata": {},
   "outputs": [
    {
     "name": "stderr",
     "output_type": "stream",
     "text": [
      "C:\\Users\\Eveline Kalff\\Anaconda3\\lib\\site-packages\\pyLDAvis\\_prepare.py:247: FutureWarning: In a future version of pandas all arguments of DataFrame.drop except for the argument 'labels' will be keyword-only\n",
      "  by='saliency', ascending=False).head(R).drop('saliency', 1)\n"
     ]
    },
    {
     "data": {
      "text/html": [
       "\n",
       "<link rel=\"stylesheet\" type=\"text/css\" href=\"https://cdn.jsdelivr.net/gh/bmabey/pyLDAvis@3.3.1/pyLDAvis/js/ldavis.v1.0.0.css\">\n",
       "\n",
       "\n",
       "<div id=\"ldavis_el1960420009056976087857627933\"></div>\n",
       "<script type=\"text/javascript\">\n",
       "\n",
       "var ldavis_el1960420009056976087857627933_data = {\"mdsDat\": {\"x\": [0.14632531199578158, -0.2003370453018965, -0.1762112625494326, -0.010647237418368542, 0.24087023327391652], \"y\": [0.05295045746529529, -0.0832706042583346, -0.09351552729576688, 0.281240884261497, -0.1574052101726909], \"topics\": [1, 2, 3, 4, 5], \"cluster\": [1, 1, 1, 1, 1], \"Freq\": [32.43680645203411, 27.69164733235488, 25.671490453220848, 7.1259169444675114, 7.074138817922653]}, \"tinfo\": {\"Term\": [\"slachtoffer\", \"naam\", \"althans\", \"zien\", \"verdenken\", \"verbalisant\", \"aangeefster\", \"ander\", \"bedrijf\", \"laten\", \"geweld\", \"geval\", \"hof\", \"man\", \"lichaam\", \"medeverdacht\", \"rechtbank\", \"telkens\", \"adres\", \"verklaren\", \"zoon\", \"hoofd\", \"kenteken\", \"periode\", \"goed\", \"slaan\", \"woning\", \"verklaring\", \"kind\", \"gemeente\", \"hof\", \"oordeel\", \"sprake\", \"laste_gelegen\", \"raadsman\", \"standpunt\", \"overtuigend_bewezen\", \"vordering\", \"vrijspreken\", \"medisch\", \"afleggen\", \"advocaat_generaal\", \"verklaring\", \"vonnis_waarvan\", \"duur\", \"daarom\", \"onvoldoende\", \"voldoende\", \"wederom\", \"slechts\", \"water\", \"maat\", \"verweer\", \"overtuigend_bewees\", \"getuigen\", \"toverweging\", \"avond\", \"verzorging\", \"vorderen\", \"veroordelen\", \"getuige\", \"bewijzen\", \"vaststellen\", \"verklaren\", \"overwegen\", \"plaatsvinden\", \"officier\", \"blijken\", \"tenlastegelegen\", \"rechtbank\", \"verdediging\", \"rijden\", \"bewijsmiddel\", \"terechtzitting\", \"omstandigheid\", \"justitie\", \"toestemming\", \"komen\", \"wettig\", \"verdenken\", \"hoger_beroep\", \"gaan\", \"feit\", \"horen\", \"benadelen\", \"moment\", \"zien\", \"grond\", \"volgen\", \"medeverdacht\", \"uur\", \"staan\", \"auto\", \"stellen\", \"vervolgens\", \"maken\", \"slachtoffer\", \"geven\", \"lichaam\", \"uf\", \"kracht\", \"vagina\", \"borst\", \"danwel\", \"nijmeg\", \"scherp\", \"oor\", \"stompen\", \"verzorgen\", \"zware_mishandeling\", \"opvoeden\", \"dichtdrukken\", \"fors_stomp\", \"hard_oppervlak\", \"penis\", \"schudden\", \"mishandelen\", \"stevig\", \"naakt\", \"gelijke_dreigenen\", \"dulden\", \"intimideren\", \"gezin\", \"leven_gericht\", \"stomp\", \"heterdaad\", \"betrapping\", \"bereiden_gemakkelijk\", \"geweld\", \"bedreiging\", \"woord\", \"duwen\", \"bedreigen\", \"slachtoffer\", \"strekking\", \"hoofd\", \"voornemen\", \"drukken\", \"gezicht\", \"beroven\", \"uitvoering\", \"slaan\", \"kapot\", \"meermalen\", \"althans\", \"hard\", \"dood\", \"eenmaal\", \"naam\", \"tenlastelegging\", \"ander\", \"geval\", \"voorwerp\", \"weten\", \"laste_gelegd\", \"misdrijf\", \"gemeente\", \"vereniging\", \"verdenken\", \"brengen\", \"alleen\", \"opzettelijk\", \"voornoemd\", \"telkens\", \"goed\", \"tezamen\", \"maken\", \"woning\", \"loods\", \"valselijk\", \"volkswagen\", \"factuur\", \"gram\", \"mercedes_benz\", \"hennep\", \"kentekenen\", \"materiaal_bevattenen\", \"bedrijfsnaam\", \"euro_geboekt\", \"opiumwet_behorenen\", \"werknemer\", \"hennepplant\", \"verwerken\", \"witwas\", \"overdragen\", \"samenweefsel\", \"wijnjewoud\", \"website\", \"noordwolen\", \"valse_hoedanigheid\", \"verhullen\", \"opiumwet\", \"braak_verbreking\", \"stichting\", \"rechtspersoon\", \"verdichtsel\", \"document\", \"verworven_voorhand\", \"bedrijf\", \"kenteken\", \"vals\", \"totaal\", \"hoeveelheid\", \"stelen\", \"euro\", \"bereik\", \"gegeven\", \"merk\", \"geldbedrag\", \"bestemmen\", \"middel\", \"pand\", \"periode\", \"goed\", \"voorhanden\", \"ander\", \"zijn\", \"geval\", \"telkens\", \"adres\", \"weten\", \"althans\", \"vereniging\", \"alleen\", \"mededader\", \"naam\", \"tezamen\", \"gemeente\", \"geld\", \"ongeveer\", \"artikel\", \"oogmerk\", \"opzettelijk\", \"geheel\", \"verdenken\", \"hebben\", \"misdrijf\", \"een\", \"benadelen\", \"aangeefster\", \"gezag\", \"ouderlijk\", \"kwetsbare_positie\", \"uitbuiting\", \"arbeid\", \"roepnaam\", \"dwang\", \"koud\", \"omstandigheden_voortvloeien\", \"sub\", \"afpersing_misleiding\", \"verstandelijk\", \"hulpverlener\", \"opdragen\", \"boodschap\", \"desbevoegd\", \"positie\", \"overal\", \"innemen\", \"straffen\", \"stelselmatig\", \"intimidatie\", \"onderbrengen\", \"koken\", \"omgang\", \"levensonderhoud\", \"weed\", \"beinvloeden\", \"agressie\", \"misbruik\", \"minderjarig\", \"invloedssfeer\", \"dreiging\", \"zoon\", \"sporen\", \"onttrekken\", \"familielid\", \"beperken\", \"overwicht\", \"kaart\", \"verblijven\", \"beschikbaar\", \"kind\", \"laten\", \"huis\", \"paspoort\", \"meisje\", \"feitelijk\", \"naam\", \"vertrekken\", \"brief\", \"verdenken\", \"baren\", \"meenemen\", \"geboortedatum\", \"vriend\", \"telkens\", \"stellen\", \"aanzien\", \"feitelijkheid\", \"betalen\", \"maken\", \"voornoemd\", \"weten\", \"periode\", \"geven\", \"adres\", \"gaan\", \"woning\", \"wel\", \"schip\", \"geit\", \"lengte\", \"schip_genaamd\", \"spoor_bevat\", \"garage\", \"tape\", \"zover_inhoudenen\", \"wanneer_hypothese\", \"nbijzonderheden\", \"dossierpagina\", \"hek\", \"donor\", \"wanneer_hypothes\", \"overvallen\", \"tonbekenen\", \"tverwante_person\", \"pinautomaat\", \"bodem\", \"tablet\", \"signalement\", \"hal\", \"aanr_nl\", \"bushalte\", \"buit\", \"verpakking\", \"ndna_mengprofiel\", \"verzegelen\", \"postuur\", \"bonair\", \"achterbank\", \"bemonsteren\", \"overval\", \"verbalisant\", \"zwart\", \"pagina\", \"nikken\", \"donker\", \"man\", \"spoor\", \"dader\", \"bivakmuts\", \"wit\", \"herkennen\", \"bemonstering\", \"jas\", \"resultaat\", \"zien\", \"camerabeeld\", \"rennen\", \"proces_verbaal\", \"lopen\", \"winkel\", \"adres\", \"klein\", \"woning\", \"medeverdacht\", \"persoon\", \"beeld\", \"uur\", \"liggen\", \"plaats\", \"staan\", \"volgen\", \"richting\", \"verdenken\", \"hand\", \"aantreffen\", \"komen\"], \"Freq\": [12255.0, 7173.0, 7219.0, 2011.0, 15145.0, 1148.0, 961.0, 5216.0, 1738.0, 1258.0, 1924.0, 3424.0, 1900.0, 961.0, 1405.0, 2323.0, 1961.0, 2475.0, 1596.0, 1725.0, 640.0, 1387.0, 1227.0, 2006.0, 2414.0, 1568.0, 1439.0, 1102.0, 530.0, 1797.0, 1899.7785865974881, 867.4063702397531, 548.9001006285298, 418.86215723593267, 368.65016986842085, 326.3722603143387, 311.56010895220436, 253.3434876038743, 233.47897506146407, 219.95231946099528, 210.56785865717555, 200.9905661309889, 1098.0160393589204, 181.3530433257022, 182.39024351337113, 172.18291629757874, 166.17336218966457, 159.79253384380723, 178.85080931891085, 143.81099780798561, 148.01084754002568, 143.67997426933334, 141.38780633031507, 138.24912789634757, 131.5083077587807, 135.444851357922, 126.86075747909314, 132.0446736175903, 117.91627937564226, 115.85917057551028, 910.0795905476674, 444.91041504528147, 288.91715503810644, 1672.9892518812558, 251.638203085461, 296.6648926235963, 452.4654680707466, 864.7038155825151, 349.7516472914369, 1813.073674049645, 747.7889595940212, 644.4108807048636, 630.624385462223, 634.9529204868119, 489.8367235146802, 434.13499213456885, 368.0871594499914, 1320.231306858326, 572.0274802703343, 8846.913394916146, 360.2524325689031, 1448.4076139196316, 1355.8299428366142, 445.06876172546475, 1662.3939556773687, 497.3443575632214, 1278.8694011274436, 625.1781360974227, 815.2649864580626, 1239.315695446271, 767.0033906655468, 681.2658252469523, 769.1061116160682, 515.9174224447936, 566.4431599258285, 611.7144169252919, 732.4087942938233, 502.75224661082746, 1404.9773044572055, 621.357191653591, 600.4744657525081, 285.0147401475192, 255.2394959032854, 343.1949798242139, 270.4497881688837, 227.48514530697707, 221.83161261781623, 220.4491075055468, 220.30055220955163, 196.8268890533962, 214.16757202967, 174.42865344877893, 172.39716466181378, 172.39716466181378, 172.59928194528626, 180.17364773344443, 275.4814880995967, 188.86737111603648, 169.37609826414587, 149.01891359437542, 149.01335777706606, 173.84159340620445, 142.09351752157306, 128.60935348102538, 124.61082617975151, 120.05996967375658, 119.8546696607702, 118.74727522069333, 1899.2693806549705, 569.576415956867, 628.6198453801468, 399.2476764955876, 369.54328986105793, 11522.027599738662, 338.3409543726802, 1315.8198934459015, 590.3614264781372, 363.06847336391166, 581.7968688683175, 269.53210115904307, 578.0253343943484, 1287.4043726711006, 214.6059092641696, 928.4408944944388, 4600.890354050042, 474.64436102279427, 417.4239655626593, 553.6227888376939, 3561.8647408721813, 1147.537369875259, 2446.1366865060163, 1620.6829444838068, 775.6206292759115, 1457.6806250140808, 672.3835487808013, 821.4766702264745, 915.4772463228131, 917.1143977148744, 2833.8909683533193, 735.982022512068, 842.4575023688893, 812.3257645004189, 681.2931812747595, 898.6893532094795, 764.3100461439165, 693.2706858333158, 681.6035811584044, 616.2846466941163, 270.80171161537316, 262.6660796424529, 253.71213772066324, 250.3600097092209, 230.18786842290842, 195.06443024130945, 188.14668686626456, 188.6121351050441, 186.7786052509211, 183.26514203796444, 179.9495981778561, 172.41402652089127, 175.24434832430768, 169.8480630632304, 168.8300090832891, 167.08914958915997, 218.20203598840686, 164.81637698138343, 158.910708853377, 167.5227888983396, 157.9856228759767, 151.69507705259554, 151.11259058789994, 134.58227409823067, 179.30019390398184, 128.7701951398201, 121.35300757072348, 118.52040815477268, 124.21750650313636, 111.40305015845898, 1718.0949639033704, 1210.6091411596938, 431.4971110631864, 467.1380202244078, 696.1719931970697, 292.06959158642286, 882.3938904160709, 436.99169601069207, 320.4078279133033, 682.7399285671377, 599.0089389512042, 294.20474980959176, 719.6164425282776, 272.88859998198893, 1343.0372984986025, 1538.1081862890862, 377.9516827132661, 2625.782052097616, 407.77158363966356, 1798.2999504964278, 1307.6065508576019, 916.3990596662145, 1527.1621875043863, 2611.243637179093, 1016.5335700467481, 954.9529317311066, 738.5261135395497, 2348.0019427324887, 829.5925166700061, 881.0542401344667, 670.7363411076519, 456.2434230134958, 645.0849369945198, 665.1011653500675, 798.0117106709806, 619.0702019182278, 2194.4883732448898, 594.4777841057548, 616.2267061968566, 551.1566619506532, 635.2960171412225, 960.1428850246875, 226.91598228610655, 123.40064278206721, 116.80342191620913, 105.77701267044135, 100.31737448253233, 99.4577036077126, 91.3388468296712, 124.06194686020096, 83.7354951448682, 86.05043300398798, 81.0586605543927, 75.31927855679338, 75.72760048970589, 58.64281379803731, 53.557838912695146, 51.60146065925434, 54.440147641136896, 52.11304669532017, 51.702946638392596, 52.33015384147395, 51.05816654100484, 51.05123365343098, 49.908341748624835, 50.18855972471915, 50.24479154963172, 50.833361375125264, 49.89893026393907, 49.478452428669065, 49.38328148391157, 223.60700485134424, 407.58369892750574, 98.62472973830684, 140.66879177747046, 574.941420921398, 51.55878927506267, 206.21022744234259, 148.02533984898335, 134.6882171356952, 89.5056404840129, 104.6683325901189, 68.28218932347681, 80.29172513325528, 349.75775530198626, 693.0238564220631, 235.63768417213814, 100.3881617791803, 190.352522337381, 117.06603826063922, 1263.0848118650388, 98.12874449536707, 134.0821031532531, 1071.8478111287006, 190.7580351935667, 114.15240065739465, 134.21130631400789, 126.30011286790695, 268.3015996142394, 183.21002447558388, 155.51732708789777, 138.43805437676073, 140.06649986361828, 200.47275647903822, 165.31223997036358, 187.33880688553134, 165.91272143067314, 140.55657239518678, 144.12182958698003, 144.09223010842632, 138.04344734786739, 136.55312797136745, 201.88665823236244, 135.86908931128602, 96.51591254222892, 125.9534363970001, 75.33875823138837, 57.319300440651546, 56.008962867611224, 54.751706222856164, 53.89609586313763, 50.91346477342556, 54.11256334777127, 49.579619677425455, 47.09459777366737, 39.42837088755378, 38.96910050307745, 38.55277984653311, 38.55277984653311, 37.90280682168655, 36.378344670958064, 39.963755436176605, 33.99265916883345, 31.94967284092538, 30.027861517594612, 30.256289595675938, 28.405473345288875, 29.31373670508345, 27.6090864666921, 27.01848848087474, 26.838015107739064, 35.9582974729251, 40.15151250404004, 53.11814020911878, 257.34030579500643, 964.6433007588961, 179.12619807595732, 153.92044201788332, 161.0296276219192, 58.30137428439966, 634.4382038241878, 96.01349629605804, 133.18423919809612, 69.53677919232872, 88.38991245599317, 115.69666764287174, 111.32793429067706, 106.85439418790772, 57.410873511356094, 706.3096594761022, 124.94192822459453, 101.10024325836517, 192.75317249888778, 216.73783541195417, 147.05798555500976, 378.48059113026386, 107.05740333036141, 336.6599089854794, 423.11669854914476, 285.8564431582337, 116.57952633131234, 258.53299877119554, 226.9402002264171, 198.398415699184, 177.81334285861945, 175.87076275286788, 131.35287763392068, 198.68783781135272, 122.08875968244497, 122.88039834095362, 124.10909434381169], \"Total\": [12255.0, 7173.0, 7219.0, 2011.0, 15145.0, 1148.0, 961.0, 5216.0, 1738.0, 1258.0, 1924.0, 3424.0, 1900.0, 961.0, 1405.0, 2323.0, 1961.0, 2475.0, 1596.0, 1725.0, 640.0, 1387.0, 1227.0, 2006.0, 2414.0, 1568.0, 1439.0, 1102.0, 530.0, 1797.0, 1900.5492970215407, 868.2371113127158, 549.6735892354574, 419.636229892224, 369.42362701240876, 327.1669063379391, 312.33155094560595, 254.14002223007842, 234.25181125915765, 220.74711179541058, 211.3408558826923, 201.7612784696695, 1102.4398968459375, 182.12335396484735, 183.17861420525864, 172.96336983184256, 166.94455665083825, 160.56211529460202, 179.7432353216694, 144.58555951393728, 148.80883785653592, 144.4602120498433, 142.1605660322563, 139.05822072233704, 132.2824260637552, 136.25079548012465, 127.63562600383251, 132.8790182888159, 118.68556609354813, 116.62733209286216, 922.8638940516191, 447.93825470474945, 292.4548266664732, 1725.295938402571, 254.669151998449, 302.81344966632264, 467.3770179890295, 912.2272036925233, 359.0213940350426, 1961.9234434674343, 792.8378427755893, 682.2009314415426, 667.2772478800924, 676.6077530208624, 521.6477722203338, 463.61841799899037, 392.98197765005614, 1648.590494357362, 650.8210858155832, 15145.828385454408, 388.95816184883023, 2037.812456382982, 1998.2702183638887, 505.80862273861237, 2714.659391772978, 586.4299515697401, 2011.226564386031, 822.6306626893003, 1214.0890400314943, 2323.238817287377, 1407.998936961011, 1143.3611288902398, 1464.0484381003087, 884.6417344299447, 1316.031511974512, 2041.0467789212737, 12255.040457802439, 1077.6895042219762, 1405.828626305033, 622.3171001914342, 601.7025126558565, 285.8667341929101, 256.09729487154823, 344.3558531486623, 271.39338491426673, 228.34358352516276, 222.6794986899135, 221.3024360277631, 221.2475014801844, 197.6822890802873, 215.11515015769635, 175.2738006285161, 173.2422635977972, 173.2422635977972, 173.45132031968973, 181.0730786859247, 276.87714098154333, 189.82538455528683, 170.2519111479591, 149.8714562198685, 149.87478623592904, 174.8468368718855, 143.01129003140554, 129.48007885039493, 125.47425174844861, 120.9155628463301, 120.70915377981055, 119.60477422221969, 1924.2648632797795, 578.9466852334842, 640.5628729596402, 405.6703854406364, 375.52649802338493, 12255.040457802439, 345.3837761837513, 1387.9869328068107, 614.0129528161153, 374.7298736801535, 622.2072000861688, 280.85987953306903, 648.0488652992808, 1568.6209769273655, 220.16682194963929, 1152.6092242450256, 7219.65513243828, 558.209985798646, 487.3550706060729, 695.215902587442, 7173.4694226728325, 1864.739607913655, 5216.9402342333, 3424.7748635294997, 1266.6230321741878, 3359.4362641503617, 1078.8527403403293, 1470.3835894931826, 1797.3798688521772, 1967.9867860190127, 15145.828385454408, 1385.9029231263976, 1807.0751162456802, 1733.444527925437, 1259.765356315949, 2475.1116585538234, 2414.239007733121, 1534.2935318107855, 2041.0467789212737, 1439.3455051038488, 271.5813458439426, 263.4478724070646, 254.4925728787158, 251.14541254547783, 230.96775274651995, 195.84112049070828, 188.92573867645828, 189.3950184097573, 187.55625639052704, 184.04351720483353, 180.7324987091535, 173.19273504106945, 176.0429752725671, 170.62728808907866, 169.61018910723294, 167.8669558219101, 219.23022978138653, 165.59615732091584, 159.68777511865534, 168.34347475669892, 158.76275426857748, 152.4738704669816, 151.88839786092038, 135.35993932408095, 180.36039664882705, 129.54941819696396, 122.13514168838563, 119.30006735123224, 125.06007509684657, 112.1835032334979, 1738.8112422831748, 1227.5486634750046, 437.1056744471752, 485.8411307641568, 734.8910028559372, 302.6622807676559, 961.3958587934652, 466.85381132702815, 335.9867752247709, 761.2984781369416, 666.9483795658846, 312.8450085593444, 876.3162430263617, 296.67859957280047, 2006.2993160725562, 2414.239007733121, 455.01793168533203, 5216.9402342333, 509.6747257197977, 3424.7748635294997, 2475.1116585538234, 1596.6129910744507, 3359.4362641503617, 7219.65513243828, 1967.9867860190127, 1807.0751162456802, 1260.8860327366328, 7173.4694226728325, 1534.2935318107855, 1797.3798688521772, 1198.5928534885745, 645.1345018176663, 1153.0426301329528, 1249.8084801024565, 1733.444527925437, 1173.9059704609272, 15145.828385454408, 1122.9526902916975, 1470.3835894931826, 1013.6020272015253, 2714.659391772978, 961.0733512020669, 227.8420617656971, 124.32514979441713, 117.7305582590396, 106.69769751191745, 101.24346862369485, 100.40773757777785, 92.26489409978721, 125.37999545207586, 84.66090406221036, 87.02981613551097, 81.98315871870587, 76.26026910898818, 76.67925440442299, 59.5655526850242, 54.50072891362144, 52.523903520331466, 55.41925450511146, 53.05936501199943, 52.64211180660779, 53.28235244447131, 51.9925454271153, 51.98944599407323, 50.83098697180501, 51.12635007488821, 51.18627697683245, 51.7883998708558, 50.839729474429156, 50.422670374127755, 50.328220070100905, 229.22385519122423, 429.64811334267426, 101.7532358708362, 146.59017675042838, 640.8581381975018, 52.57772717268276, 231.97509209431723, 163.6127666001491, 150.87247694671893, 97.5478282066857, 118.83117579771188, 72.50592309379192, 89.20782048129671, 530.8453633600328, 1258.184675797097, 336.99678381994505, 120.67597987860364, 290.64253026319824, 156.72781226573332, 7173.4694226728325, 122.75969390520521, 216.59660318123613, 15145.828385454408, 484.53499900825767, 162.6046914082873, 238.16923679624315, 236.45030293153394, 2475.1116585538234, 884.6417344299447, 518.9586265937128, 375.2581602356666, 400.3797286267241, 2041.0467789212737, 1259.765356315949, 3359.4362641503617, 2006.2993160725562, 1077.6895042219762, 1596.6129910744507, 2037.812456382982, 1439.3455051038488, 805.043706020167, 202.7666851605285, 136.63403731839773, 97.35742742712615, 127.07647890973746, 76.10750113714631, 58.10305264882153, 56.78855252703035, 55.52748310095957, 54.668935266441444, 51.67942199493737, 54.92943000867965, 50.34914121628249, 47.86502510996727, 40.20003784566204, 39.737036981383895, 39.320512631835214, 39.320512631835214, 38.67317281221236, 37.144154665426306, 40.809907773170515, 34.79120678850756, 32.736622752622125, 30.795754112035343, 31.052286972179285, 29.177963304447868, 30.111789183755928, 28.374369040043064, 27.785319169986362, 27.604653898241498, 36.99243243244408, 41.520009589660134, 55.292965880519844, 280.4587250977453, 1148.5519843741386, 206.60400000080523, 178.4595117664226, 193.08231647865247, 63.490339032970596, 961.6952492407037, 112.95049484819401, 165.81933675939433, 80.21865221257744, 112.54073998357063, 159.4240865531752, 152.97886770095425, 146.4037441603037, 66.12600900283965, 2011.226564386031, 192.60475162096148, 150.91481301338936, 430.9599704520666, 527.4704042046067, 291.1905245926899, 1596.6129910744507, 185.2203285910964, 1439.3455051038488, 2323.238817287377, 1371.1444440195569, 243.02051909423392, 1407.998936961011, 1335.1369575362262, 1385.8397508661415, 1143.3611288902398, 1214.0890400314943, 743.3708888157187, 15145.828385454408, 616.5262724355716, 675.8880446551485, 1648.590494357362], \"Category\": [\"Default\", \"Default\", \"Default\", \"Default\", \"Default\", \"Default\", \"Default\", \"Default\", \"Default\", \"Default\", \"Default\", \"Default\", \"Default\", \"Default\", \"Default\", \"Default\", \"Default\", \"Default\", \"Default\", \"Default\", \"Default\", \"Default\", \"Default\", \"Default\", \"Default\", \"Default\", \"Default\", \"Default\", \"Default\", \"Default\", \"Topic1\", \"Topic1\", \"Topic1\", \"Topic1\", \"Topic1\", \"Topic1\", \"Topic1\", \"Topic1\", \"Topic1\", \"Topic1\", \"Topic1\", \"Topic1\", \"Topic1\", \"Topic1\", \"Topic1\", \"Topic1\", \"Topic1\", \"Topic1\", \"Topic1\", \"Topic1\", \"Topic1\", \"Topic1\", \"Topic1\", \"Topic1\", \"Topic1\", \"Topic1\", \"Topic1\", \"Topic1\", \"Topic1\", \"Topic1\", \"Topic1\", \"Topic1\", \"Topic1\", \"Topic1\", \"Topic1\", \"Topic1\", \"Topic1\", \"Topic1\", \"Topic1\", \"Topic1\", \"Topic1\", \"Topic1\", \"Topic1\", \"Topic1\", \"Topic1\", \"Topic1\", \"Topic1\", \"Topic1\", \"Topic1\", \"Topic1\", \"Topic1\", \"Topic1\", \"Topic1\", \"Topic1\", \"Topic1\", \"Topic1\", \"Topic1\", \"Topic1\", \"Topic1\", \"Topic1\", \"Topic1\", \"Topic1\", \"Topic1\", \"Topic1\", \"Topic1\", \"Topic1\", \"Topic1\", \"Topic1\", \"Topic2\", \"Topic2\", \"Topic2\", \"Topic2\", \"Topic2\", \"Topic2\", \"Topic2\", \"Topic2\", \"Topic2\", \"Topic2\", \"Topic2\", \"Topic2\", \"Topic2\", \"Topic2\", \"Topic2\", \"Topic2\", \"Topic2\", \"Topic2\", \"Topic2\", \"Topic2\", \"Topic2\", \"Topic2\", \"Topic2\", \"Topic2\", \"Topic2\", \"Topic2\", \"Topic2\", \"Topic2\", \"Topic2\", \"Topic2\", \"Topic2\", \"Topic2\", \"Topic2\", \"Topic2\", \"Topic2\", \"Topic2\", \"Topic2\", \"Topic2\", \"Topic2\", \"Topic2\", \"Topic2\", \"Topic2\", \"Topic2\", \"Topic2\", \"Topic2\", \"Topic2\", \"Topic2\", \"Topic2\", \"Topic2\", \"Topic2\", \"Topic2\", \"Topic2\", \"Topic2\", \"Topic2\", \"Topic2\", \"Topic2\", \"Topic2\", \"Topic2\", \"Topic2\", \"Topic2\", \"Topic2\", \"Topic2\", \"Topic2\", \"Topic2\", \"Topic2\", \"Topic2\", \"Topic2\", \"Topic2\", \"Topic2\", \"Topic2\", \"Topic3\", \"Topic3\", \"Topic3\", \"Topic3\", \"Topic3\", \"Topic3\", \"Topic3\", \"Topic3\", \"Topic3\", \"Topic3\", \"Topic3\", \"Topic3\", \"Topic3\", \"Topic3\", \"Topic3\", \"Topic3\", \"Topic3\", \"Topic3\", \"Topic3\", \"Topic3\", \"Topic3\", \"Topic3\", \"Topic3\", \"Topic3\", \"Topic3\", \"Topic3\", \"Topic3\", \"Topic3\", \"Topic3\", \"Topic3\", \"Topic3\", \"Topic3\", \"Topic3\", \"Topic3\", \"Topic3\", \"Topic3\", \"Topic3\", \"Topic3\", \"Topic3\", \"Topic3\", \"Topic3\", \"Topic3\", \"Topic3\", \"Topic3\", \"Topic3\", \"Topic3\", \"Topic3\", \"Topic3\", \"Topic3\", \"Topic3\", \"Topic3\", \"Topic3\", \"Topic3\", \"Topic3\", \"Topic3\", \"Topic3\", \"Topic3\", \"Topic3\", \"Topic3\", \"Topic3\", \"Topic3\", \"Topic3\", \"Topic3\", \"Topic3\", \"Topic3\", \"Topic3\", \"Topic3\", \"Topic3\", \"Topic3\", \"Topic3\", \"Topic3\", \"Topic4\", \"Topic4\", \"Topic4\", \"Topic4\", \"Topic4\", \"Topic4\", \"Topic4\", \"Topic4\", \"Topic4\", \"Topic4\", \"Topic4\", \"Topic4\", \"Topic4\", \"Topic4\", \"Topic4\", \"Topic4\", \"Topic4\", \"Topic4\", \"Topic4\", \"Topic4\", \"Topic4\", \"Topic4\", \"Topic4\", \"Topic4\", \"Topic4\", \"Topic4\", \"Topic4\", \"Topic4\", \"Topic4\", \"Topic4\", \"Topic4\", \"Topic4\", \"Topic4\", \"Topic4\", \"Topic4\", \"Topic4\", \"Topic4\", \"Topic4\", \"Topic4\", \"Topic4\", \"Topic4\", \"Topic4\", \"Topic4\", \"Topic4\", \"Topic4\", \"Topic4\", \"Topic4\", \"Topic4\", \"Topic4\", \"Topic4\", \"Topic4\", \"Topic4\", \"Topic4\", \"Topic4\", \"Topic4\", \"Topic4\", \"Topic4\", \"Topic4\", \"Topic4\", \"Topic4\", \"Topic4\", \"Topic4\", \"Topic4\", \"Topic4\", \"Topic4\", \"Topic4\", \"Topic4\", \"Topic4\", \"Topic4\", \"Topic4\", \"Topic4\", \"Topic5\", \"Topic5\", \"Topic5\", \"Topic5\", \"Topic5\", \"Topic5\", \"Topic5\", \"Topic5\", \"Topic5\", \"Topic5\", \"Topic5\", \"Topic5\", \"Topic5\", \"Topic5\", \"Topic5\", \"Topic5\", \"Topic5\", \"Topic5\", \"Topic5\", \"Topic5\", \"Topic5\", \"Topic5\", \"Topic5\", \"Topic5\", \"Topic5\", \"Topic5\", \"Topic5\", \"Topic5\", \"Topic5\", \"Topic5\", \"Topic5\", \"Topic5\", \"Topic5\", \"Topic5\", \"Topic5\", \"Topic5\", \"Topic5\", \"Topic5\", \"Topic5\", \"Topic5\", \"Topic5\", \"Topic5\", \"Topic5\", \"Topic5\", \"Topic5\", \"Topic5\", \"Topic5\", \"Topic5\", \"Topic5\", \"Topic5\", \"Topic5\", \"Topic5\", \"Topic5\", \"Topic5\", \"Topic5\", \"Topic5\", \"Topic5\", \"Topic5\", \"Topic5\", \"Topic5\", \"Topic5\", \"Topic5\", \"Topic5\", \"Topic5\", \"Topic5\", \"Topic5\", \"Topic5\", \"Topic5\", \"Topic5\"], \"logprob\": [30.0, 29.0, 28.0, 27.0, 26.0, 25.0, 24.0, 23.0, 22.0, 21.0, 20.0, 19.0, 18.0, 17.0, 16.0, 15.0, 14.0, 13.0, 12.0, 11.0, 10.0, 9.0, 8.0, 7.0, 6.0, 5.0, 4.0, 3.0, 2.0, 1.0, -4.3032, -5.0872, -5.5447, -5.8151, -5.9428, -6.0646, -6.1111, -6.3179, -6.3996, -6.4592, -6.5029, -6.5494, -4.8514, -6.6522, -6.6465, -6.7041, -6.7396, -6.7788, -6.6661, -6.8842, -6.8554, -6.8851, -6.9012, -6.9236, -6.9736, -6.9441, -7.0096, -6.9695, -7.0827, -7.1003, -5.0391, -5.7548, -6.1865, -4.4303, -6.3247, -6.1601, -5.7379, -5.0903, -5.9954, -4.3499, -5.2355, -5.3843, -5.4059, -5.3991, -5.6586, -5.7793, -5.9443, -4.6671, -5.5035, -2.7648, -5.9659, -4.5744, -4.6405, -5.7544, -4.4366, -5.6434, -4.6989, -5.4146, -5.1491, -4.7303, -5.2102, -5.3287, -5.2074, -5.6067, -5.5133, -5.4364, -5.2563, -5.6326, -4.4467, -5.2626, -5.2968, -6.042, -6.1523, -5.8562, -6.0944, -6.2674, -6.2926, -6.2988, -6.2995, -6.4122, -6.3277, -6.533, -6.5447, -6.5447, -6.5435, -6.5006, -6.076, -6.4535, -6.5624, -6.6904, -6.6905, -6.5364, -6.738, -6.8377, -6.8693, -6.9065, -6.9082, -6.9175, -4.1453, -5.3496, -5.251, -5.7049, -5.7822, -2.3425, -5.8704, -4.5123, -5.3138, -5.7999, -5.3284, -6.0978, -5.3349, -4.5341, -6.3257, -4.861, -3.2605, -5.5319, -5.6604, -5.378, -3.5165, -4.6491, -3.8922, -4.3039, -5.0408, -4.4099, -5.1837, -4.9834, -4.875, -4.8733, -3.7451, -5.0933, -4.9582, -4.9946, -5.1705, -4.8936, -5.0555, -5.1531, -5.17, -5.2708, -6.0174, -6.0479, -6.0825, -6.0958, -6.1798, -6.3454, -6.3815, -6.3791, -6.3888, -6.4078, -6.4261, -6.4688, -6.4526, -6.4838, -6.4899, -6.5002, -6.2333, -6.5139, -6.5504, -6.4976, -6.5562, -6.5969, -6.6007, -6.7166, -6.4297, -6.7607, -6.82, -6.8437, -6.7967, -6.9056, -4.1698, -4.5199, -5.5515, -5.4721, -5.0731, -5.9418, -4.8361, -5.5388, -5.8492, -5.0926, -5.2235, -5.9345, -5.04, -6.0097, -4.4161, -4.2804, -5.684, -3.7456, -5.608, -4.1241, -4.4428, -4.7983, -4.2876, -3.7512, -4.6946, -4.7571, -5.0141, -3.8574, -4.8978, -4.8376, -5.1104, -5.4957, -5.1494, -5.1188, -4.9366, -5.1905, -3.925, -5.2311, -5.1951, -5.3067, -5.1647, -3.47, -4.9125, -5.5217, -5.5766, -5.6758, -5.7288, -5.7374, -5.8225, -5.5163, -5.9094, -5.8822, -5.9419, -6.0154, -6.01, -6.2656, -6.3563, -6.3936, -6.34, -6.3837, -6.3916, -6.3795, -6.4041, -6.4043, -6.4269, -6.4213, -6.4202, -6.4085, -6.4271, -6.4356, -6.4375, -4.9272, -4.3269, -5.7458, -5.3907, -3.9828, -6.3944, -5.0082, -5.3397, -5.4341, -5.8428, -5.6863, -6.1135, -5.9514, -4.4799, -3.796, -4.8748, -5.7281, -5.0882, -5.5744, -3.1958, -5.7508, -5.4387, -3.36, -5.0861, -5.5996, -5.4377, -5.4984, -4.745, -5.1265, -5.2903, -5.4067, -5.395, -5.0364, -5.2293, -5.1042, -5.2256, -5.3915, -5.3664, -5.3666, -5.4095, -5.4204, -5.0221, -5.4181, -5.7601, -5.4939, -6.0078, -6.2812, -6.3043, -6.327, -6.3428, -6.3997, -6.3387, -6.4262, -6.4777, -6.6553, -6.667, -6.6778, -6.6778, -6.6948, -6.7358, -6.6418, -6.8037, -6.8656, -6.9277, -6.9201, -6.9832, -6.9518, -7.0117, -7.0333, -7.04, -6.7475, -6.6371, -6.3573, -4.7794, -3.4581, -5.1417, -5.2934, -5.2482, -6.2642, -3.8771, -5.7653, -5.4381, -6.088, -5.8481, -5.5788, -5.6173, -5.6583, -6.2796, -3.7698, -5.502, -5.7137, -5.0684, -4.9511, -5.339, -4.3936, -5.6564, -4.5107, -4.2822, -4.6743, -5.5712, -4.7748, -4.9051, -5.0395, -5.1491, -5.1601, -5.4519, -5.0381, -5.5251, -5.5186, -5.5086], \"loglift\": [30.0, 29.0, 28.0, 27.0, 26.0, 25.0, 24.0, 23.0, 22.0, 21.0, 20.0, 19.0, 18.0, 17.0, 16.0, 15.0, 14.0, 13.0, 12.0, 11.0, 10.0, 9.0, 8.0, 7.0, 6.0, 5.0, 4.0, 3.0, 2.0, 1.0, 1.1255, 1.1249, 1.1245, 1.124, 1.1238, 1.1234, 1.1234, 1.1227, 1.1226, 1.1223, 1.1222, 1.122, 1.1219, 1.1216, 1.1216, 1.1214, 1.1212, 1.1211, 1.1209, 1.1205, 1.1205, 1.1205, 1.1204, 1.12, 1.12, 1.1199, 1.1198, 1.1196, 1.1194, 1.1193, 1.1119, 1.1191, 1.1137, 1.0951, 1.1139, 1.1054, 1.0935, 1.0724, 1.0997, 1.047, 1.0674, 1.0689, 1.0694, 1.0623, 1.063, 1.0602, 1.0604, 0.9038, 0.9968, 0.5882, 1.0492, 0.7845, 0.738, 0.9979, 0.6355, 0.9611, 0.6731, 0.8514, 0.7276, 0.4975, 0.5184, 0.6081, 0.4821, 0.5866, 0.2829, -0.0791, -1.6915, 0.3634, 1.2834, 1.2825, 1.282, 1.2811, 1.2807, 1.2807, 1.2806, 1.2803, 1.2802, 1.2802, 1.2798, 1.2797, 1.2796, 1.2792, 1.2791, 1.2791, 1.2791, 1.2791, 1.279, 1.279, 1.2789, 1.2783, 1.2783, 1.2783, 1.2776, 1.2773, 1.2771, 1.2769, 1.2769, 1.2768, 1.271, 1.2677, 1.2652, 1.2681, 1.268, 1.2224, 1.2634, 1.2306, 1.2448, 1.2524, 1.2169, 1.2429, 1.1697, 1.0865, 1.2585, 1.0678, 0.8335, 1.1219, 1.1291, 1.0563, 0.5839, 0.7985, 0.5266, 0.5359, 0.7936, 0.4491, 0.8112, 0.7019, 0.6094, 0.5205, -0.392, 0.6511, 0.5209, 0.5261, 0.6694, 0.2709, 0.1339, 0.4896, 0.1873, 0.4358, 1.3569, 1.3568, 1.3567, 1.3567, 1.3564, 1.3558, 1.3557, 1.3556, 1.3556, 1.3556, 1.3554, 1.3553, 1.3552, 1.3552, 1.3552, 1.3551, 1.3551, 1.3551, 1.3549, 1.3549, 1.3549, 1.3547, 1.3547, 1.354, 1.3539, 1.3538, 1.3534, 1.3532, 1.353, 1.3528, 1.3478, 1.3459, 1.3469, 1.3205, 1.3057, 1.3242, 1.274, 1.2937, 1.3123, 1.2509, 1.2524, 1.2984, 1.1628, 1.2762, 0.9584, 0.909, 1.1742, 0.6733, 1.1367, 0.7156, 0.7217, 0.8046, 0.5714, 0.3428, 0.6992, 0.722, 0.8249, 0.243, 0.7449, 0.6468, 0.7793, 1.0134, 0.779, 0.729, 0.584, 0.7199, -0.572, 0.7238, 0.4901, 0.7505, -0.0925, 2.6405, 2.6374, 2.634, 2.6335, 2.6328, 2.6322, 2.6319, 2.6313, 2.6309, 2.6304, 2.6301, 2.6301, 2.629, 2.6289, 2.6258, 2.624, 2.6237, 2.6236, 2.6234, 2.6234, 2.6234, 2.6233, 2.6232, 2.6231, 2.6229, 2.6229, 2.6228, 2.6228, 2.6225, 2.6225, 2.6166, 2.5887, 2.6102, 2.6002, 2.5329, 2.6219, 2.5237, 2.5413, 2.528, 2.5554, 2.5145, 2.5814, 2.5361, 2.2242, 2.0451, 2.2837, 2.4574, 2.2182, 2.3497, 0.9046, 2.4175, 2.1618, -0.0069, 1.7092, 2.2876, 2.0679, 2.0144, 0.4195, 1.0669, 1.4364, 1.6442, 1.5911, 0.3209, 0.6106, -0.2452, 0.1488, 0.6045, 0.2365, -0.0077, 0.2971, 0.8672, 2.6444, 2.6431, 2.64, 2.6398, 2.6386, 2.6351, 2.6349, 2.6347, 2.6345, 2.6338, 2.6337, 2.6333, 2.6325, 2.6293, 2.6292, 2.629, 2.629, 2.6286, 2.6279, 2.6278, 2.6255, 2.6244, 2.6235, 2.6228, 2.6219, 2.6219, 2.6214, 2.6207, 2.6206, 2.6204, 2.6152, 2.6086, 2.5627, 2.4742, 2.506, 2.5008, 2.4672, 2.5635, 2.2328, 2.4863, 2.4296, 2.5058, 2.4072, 2.3281, 2.3309, 2.3338, 2.5074, 1.6023, 2.2159, 2.2481, 1.8441, 1.7593, 1.9656, 1.2092, 2.1005, 1.1959, 0.9457, 1.0808, 1.9142, 0.9538, 0.8766, 0.7049, 0.7877, 0.7167, 0.9154, -1.685, 1.0294, 0.9439, 0.0622]}, \"token.table\": {\"Topic\": [4, 5, 1, 3, 4, 5, 1, 4, 4, 5, 2, 3, 4, 5, 1, 1, 4, 4, 1, 2, 3, 4, 1, 2, 3, 5, 1, 2, 3, 4, 5, 4, 1, 2, 3, 4, 1, 2, 3, 4, 1, 2, 4, 1, 2, 1, 2, 4, 1, 3, 3, 1, 2, 5, 4, 3, 5, 1, 5, 1, 2, 3, 1, 4, 2, 2, 3, 4, 1, 2, 1, 4, 3, 5, 1, 2, 3, 4, 2, 1, 4, 5, 1, 5, 2, 5, 1, 4, 5, 5, 4, 2, 3, 1, 2, 3, 4, 5, 3, 4, 5, 5, 1, 5, 1, 2, 5, 2, 4, 2, 3, 1, 5, 5, 1, 2, 5, 2, 4, 1, 2, 2, 1, 1, 2, 4, 2, 3, 2, 3, 2, 3, 4, 3, 3, 2, 4, 1, 2, 3, 4, 1, 3, 4, 2, 4, 2, 1, 2, 4, 5, 5, 2, 3, 4, 3, 4, 1, 2, 3, 5, 5, 1, 2, 3, 4, 2, 3, 2, 2, 3, 1, 3, 1, 1, 2, 3, 1, 2, 3, 4, 5, 2, 5, 4, 1, 2, 2, 1, 2, 3, 5, 3, 1, 2, 3, 5, 5, 1, 2, 5, 1, 2, 2, 1, 2, 3, 4, 5, 3, 3, 1, 3, 5, 2, 2, 3, 1, 1, 2, 3, 1, 2, 1, 2, 5, 1, 2, 4, 4, 4, 4, 2, 2, 4, 2, 5, 1, 3, 4, 2, 3, 4, 1, 2, 1, 3, 4, 3, 2, 4, 1, 4, 5, 4, 1, 2, 3, 4, 5, 4, 1, 2, 4, 1, 2, 3, 4, 1, 1, 2, 3, 4, 5, 2, 4, 2, 1, 2, 3, 4, 5, 3, 1, 2, 5, 1, 1, 2, 3, 4, 5, 1, 4, 5, 3, 2, 3, 5, 1, 2, 3, 4, 5, 1, 1, 2, 4, 1, 2, 3, 4, 2, 4, 3, 1, 2, 3, 5, 2, 3, 4, 2, 4, 2, 4, 1, 2, 3, 1, 2, 1, 4, 5, 2, 2, 3, 4, 5, 5, 2, 1, 5, 3, 1, 4, 4, 4, 1, 4, 4, 1, 2, 3, 5, 1, 2, 4, 1, 2, 3, 4, 2, 1, 4, 3, 3, 2, 1, 2, 3, 4, 4, 4, 3, 1, 1, 2, 5, 5, 1, 3, 2, 4, 1, 3, 4, 5, 2, 3, 5, 2, 3, 4, 2, 1, 2, 3, 4, 1, 2, 3, 4, 5, 5, 1, 2, 3, 4, 5, 1, 3, 4, 5, 1, 5, 1, 1, 3, 4, 3, 1, 2, 5, 4, 5, 1, 2, 5, 1, 2, 3, 4, 3, 2, 5, 5, 2, 5, 1, 2, 1, 2, 1, 1, 3, 5, 5, 4, 1, 1, 2, 3, 4, 5, 1, 2, 3, 1, 2, 3, 4, 4, 2, 3, 2, 2, 4, 1, 2, 4, 5, 5, 2, 3, 4, 1, 4, 1, 2, 3, 4, 1, 2, 3, 4, 2, 3, 5, 1, 2, 4, 5, 1, 3, 5, 1, 5, 2, 4, 1, 2, 3, 5, 1, 3, 4, 5, 2, 1, 3, 3, 3, 1, 4, 1, 5, 2, 4, 5, 1, 4, 1, 2, 3, 4, 5, 3, 2, 3, 5, 3, 1, 3, 4, 1, 4, 5, 1, 5, 4, 1, 4, 1, 2, 3, 4, 5, 1, 3, 3, 5, 2, 1, 1, 1, 2, 3, 4, 5, 3, 1, 1, 2, 3, 4, 1, 2, 5, 1, 2, 3, 4, 5, 1, 2, 3, 4, 5, 1, 1, 1, 2, 4, 5, 1, 5, 5, 1, 3, 1, 4, 1, 2, 3, 4, 3, 1, 2, 3, 4, 5, 1, 4, 3, 2, 5, 1, 3, 5, 3, 1, 2, 3, 4, 5, 1, 2, 1, 2, 5, 1, 2, 3, 1, 2, 4, 5, 2, 1, 3, 5], \"Freq\": [0.9988831745248952, 0.9741602654333328, 0.36248606842129283, 0.4542172367564772, 0.0029590699462962683, 0.1819828016972205, 0.6994777259655978, 0.3006019979356288, 0.02408477285730284, 0.9633909142921135, 0.09833315955568285, 0.5737144850509903, 0.09019092341412949, 0.23675117396208992, 0.9962268356175987, 0.9983871746839074, 0.9880077965514942, 0.9736088407606933, 0.0005533804273048522, 0.46594631979068557, 0.5284783080761338, 0.004427043418438818, 0.00027702154234679406, 0.6372880581687997, 0.36165162353373964, 0.0008310646270403821, 0.01878495738880214, 0.46885720176540857, 0.5033601847244329, 0.00210851562527371, 0.006708913353143622, 0.9877180361301466, 0.34257189602300664, 0.008672706228430548, 0.5593895517337704, 0.08932887415283464, 0.5252558453583844, 0.15709862735036206, 0.316246367231381, 0.0013660750204379309, 0.995019995406193, 0.6047034798305799, 0.3941923708110606, 0.013314639649446623, 0.9852833340590501, 0.006909099062181925, 0.9845466163609243, 0.008636373827727407, 0.011502111047855125, 0.9880313390107552, 0.9943300518231667, 0.3250754310559549, 0.1933993070839225, 0.48144082827274326, 0.9717851045259647, 0.03617096620068659, 0.9585306043181946, 0.26801087376426075, 0.7255904143373889, 0.6122315031627328, 0.1536104312989528, 0.23391516516747007, 0.10604982647464883, 0.8947954108798496, 0.9949435611901575, 0.055691951889811526, 0.9360531913787553, 0.006425994448824407, 0.039165437293099875, 0.9613334608306333, 0.08967823624473908, 0.8967823624473908, 0.9397624764859572, 0.05753647815220146, 0.06493835262134343, 0.004995257893949495, 0.5794499156981414, 0.3496680525764646, 0.9941251035434799, 0.9456339205400102, 0.010490392145451777, 0.04346019603115736, 0.9934404916885562, 0.006697351629361053, 0.12465928713811157, 0.872615009966781, 0.9482286830502791, 0.05152225214261632, 0.9691969119843429, 0.9731720147287835, 0.9908124363911711, 0.9957153203351929, 0.9924573427753332, 0.13565163682308934, 0.5310617271372009, 0.2453274282970765, 0.06999047219063652, 0.018038781492432095, 0.3785839611315922, 0.6186615950199189, 0.9596283231918281, 0.9661124163536792, 0.34786265362680846, 0.6489974881097172, 0.9944302089351106, 0.19298111200645043, 0.8020777467768095, 0.9960626394578026, 0.9900254268015577, 0.9927325097992491, 0.9915234730506467, 0.07875213892626239, 0.9135248115446437, 0.981927825004167, 0.14158055217152427, 0.8556389892105163, 0.9830795621120993, 0.03410869753239034, 0.9618652704134075, 0.02935447844595632, 0.9686977887165585, 0.9941632194587289, 0.9935657652484587, 0.014790332780843348, 0.9835571299260826, 0.986290624271251, 0.45580019337130306, 0.5436058583281125, 0.7968747520563508, 0.20281469321289797, 0.07281079834049708, 0.9174160590902631, 0.00936138835806391, 0.9959470559285949, 0.9954392455993183, 0.09167988728323559, 0.9045748878612577, 0.678586903582161, 0.08857660909590155, 0.21768827659162246, 0.015012984592525687, 0.14675123494356768, 0.10208781561291665, 0.746517151669453, 0.6289003811450474, 0.367746833042443, 0.9928293271399335, 0.7105658793401085, 0.19874252840659112, 0.07066401010012129, 0.019628891694478134, 0.9810155818234121, 0.3358956054783894, 0.10076868164351682, 0.5626251391763023, 0.9524184390469657, 0.044644614330326515, 0.020444567626295096, 0.4497804877784921, 0.5272994733615277, 0.002555570953286887, 0.9953595946453647, 0.14183298315621112, 0.20941222807181759, 0.5598231276342215, 0.08927134822185052, 0.10045754971863066, 0.8981204818128323, 0.9941853089183972, 0.5090743564321365, 0.4901579322587019, 0.9860608978912988, 0.01300300085131383, 0.997864976685421, 0.0014599499818937316, 0.47331578412994774, 0.5249980134889859, 0.466739258412964, 0.12990754707319077, 0.2616709162474271, 0.13083545812371355, 0.011134932606273495, 0.9868703816392941, 0.01247229550255032, 0.9963041865089728, 0.06428726635509914, 0.9353797254666926, 0.9929286000344206, 0.006213137950282906, 0.31645582626774266, 0.6370537445023406, 0.040178292078496124, 0.9958100092544866, 0.7597577240274309, 0.17869501669125176, 0.04133082018709224, 0.01944979773510223, 0.9774985111265602, 0.4379375414665976, 0.3633259603278439, 0.19788288910712928, 0.14868956505901568, 0.8509342578678608, 0.9928293271399335, 0.2297514420959106, 0.2110507433206621, 0.5289626224998872, 0.030277321826592873, 0.9930655973895821, 0.9950999864658799, 0.9963236355913295, 0.24463053760067632, 0.025090311548787315, 0.7276190349148322, 0.9924280810114271, 0.051708348384079, 0.9470792230347101, 0.9997109798612425, 0.92554941716306, 0.03856455904846084, 0.03599358844523012, 0.05187368720712693, 0.94813572728582, 0.8797793868966197, 0.01779329097094287, 0.1028056811654477, 0.2047497285222348, 0.09495639583639875, 0.7003034192934408, 0.9911416143818972, 0.9878023167275902, 0.9809683297224204, 0.9951566932119796, 0.01965539457181259, 0.9729420313047231, 0.2663866298207322, 0.7308556254055986, 0.9361146648857792, 0.012941677394734275, 0.049609763346481386, 0.033661200212385854, 0.08415300053096464, 0.8836065055751287, 0.02271005211286419, 0.9765322408531603, 0.0032585266222168374, 0.9865189348761476, 0.009775579866650513, 0.9979143146790551, 0.33908179749498807, 0.6593257173513657, 0.3779282788906839, 0.043191803301792446, 0.577690369161474, 0.9779692844641097, 0.8006839809631136, 0.09098681601853563, 0.011524996695681178, 0.021230257070991645, 0.07521576790865611, 0.9889934957558414, 0.0016619508460852142, 0.9971705076511286, 0.9937946590091574, 0.11493690970362053, 0.6228838977486532, 0.2382160144663748, 0.0231727640531493, 0.9984838537597496, 0.10252866886832389, 0.21459488832905, 0.13193611652823073, 0.5507935467112283, 0.9963287092051226, 0.9962922570432658, 0.9847765161151566, 0.9994105780110547, 0.22394706274310233, 0.3617606398157807, 0.22020212858351867, 0.023967578621335365, 0.17002001084509777, 0.9978594043632266, 0.5118770604905191, 0.07583363859118801, 0.41139748935719495, 0.9968142643340124, 0.2998461408726026, 0.3341422680965931, 0.21508571216188324, 0.09798893492568712, 0.052914024859871046, 0.33690506452622154, 0.0020796608921371702, 0.6592525028074829, 0.9970341890948772, 0.4060636621445896, 0.586095793603226, 0.007930930901261516, 0.5333072049160497, 0.010330405906364158, 0.2350167343697846, 0.03916945572829743, 0.18207340409966827, 0.9966155308246887, 0.2213958262102469, 0.07379860873674897, 0.7010867829991152, 0.014749144499633191, 0.8051297703329178, 0.16137299276069256, 0.018219531440723354, 0.3440652677687695, 0.6537240087606621, 0.9957050874269882, 0.043346993259145844, 0.043346993259145844, 0.8971514059392913, 0.01707608825360291, 0.1723122231290851, 0.8216211963770945, 0.005705702752618712, 0.04887720752831757, 0.9496143176930271, 0.021812738450929882, 0.9772106826016587, 0.021763028524434146, 0.5583577005800135, 0.4189382990953573, 0.0036117102208400084, 0.9932203107310023, 0.8475010504999679, 0.07673550759054035, 0.07503027408852835, 0.9926467130999127, 0.4965519179243675, 0.32731721035553474, 0.17606543299788774, 0.9868531425331357, 0.9868060840572441, 0.9948658110634977, 0.16573242223110565, 0.8338412493502503, 0.9951956346934676, 0.9670993279575624, 0.02995440396328733, 0.9768243160687506, 0.9921935151823477, 0.9393311465979647, 0.059427072539871235, 0.9836519607170732, 0.19065791653282768, 0.0015500643620555098, 0.7068293490973124, 0.09920411917155263, 0.056040499359795125, 0.056040499359795125, 0.8880263744705996, 0.9943420937478437, 0.40726239908235645, 0.5320815233590708, 0.060009194363804974, 0.9969485350294429, 0.9985751457791923, 0.9905053733318856, 0.9973408725958485, 0.9931132501557492, 0.9948160315213557, 0.01442215173156978, 0.4684314882413865, 0.4603550832717074, 0.055957948718490746, 0.9893412572065396, 0.9800343443280963, 0.9943884117504539, 0.9923900887208241, 0.9989384647673213, 0.08200850229203621, 0.9163558734371003, 0.9814521404369132, 0.9895191389396654, 0.01177998974928173, 0.07175967039643674, 0.9226243336684723, 0.06163863103244052, 0.06163863103244052, 0.011207023824080094, 0.8629408344541672, 0.03370650938220487, 0.9201877061341929, 0.047189113135086815, 0.008286653242890338, 0.1574464116149164, 0.8286653242890337, 0.9973980000909887, 0.0004984301155809375, 0.247221337328145, 0.669391645225199, 0.08273939918643562, 0.18014148770198932, 0.3303809470809764, 0.27130620819894746, 0.010210448695659314, 0.20858488049704027, 0.9825932871998602, 0.20853781962840706, 0.2965710860459353, 0.34491722416047954, 0.006494257358670116, 0.14287366189074255, 0.9808018776156455, 0.019814179345770615, 0.9743905882930893, 0.9780959435147993, 0.5522554676025797, 0.4478374170054533, 0.9988532758019981, 0.924093142388761, 0.021407563144141183, 0.05453831562912158, 0.99070585522976, 0.2783027004530941, 0.05301003818154172, 0.6692517320419643, 0.12098114071357997, 0.8619906275842573, 0.524637170849289, 0.2972943968145971, 0.17622428046476116, 0.9440034018118076, 0.05130453270716346, 0.0029316875832664834, 0.9859797898873343, 0.9963999326399796, 0.9941159567331801, 0.9962188800397781, 0.991528889382416, 0.994073781184303, 0.9772584264375412, 0.17913823934091863, 0.8204658862340295, 0.059730524964032757, 0.9401845746387779, 0.9959500830103242, 0.09738779821003929, 0.05312061720547597, 0.8499298752876155, 0.9854481999724234, 0.9890119409158689, 0.9987745650352343, 0.5956123422360763, 0.10145525947046233, 0.10058064516468249, 0.04635455820633193, 0.15568134642881287, 0.9964332995931631, 0.03304012635679792, 0.9647716896184994, 0.5832869736046377, 0.0022608022232737893, 0.20686340342955173, 0.20686340342955173, 0.9809098512303714, 0.9956518747099051, 0.9957590068360737, 0.9962203261478746, 0.9941146783056662, 0.9759328861125695, 0.01737197984889677, 0.9786215314878514, 0.9881670882320666, 0.9801541386059449, 0.9861142344373893, 0.36321593690252924, 0.528461007195226, 0.10827794337027567, 0.9748722661520219, 0.02506814398676628, 0.0836577929368589, 0.6156355531507309, 0.29172973947212333, 0.009652822261945257, 0.9385053558208644, 0.016257573092959856, 0.011823689522152622, 0.03251514618591971, 0.4516736762763484, 0.540965586305006, 0.007169423432957911, 0.9364297116131312, 0.06107150293129116, 0.002544645955470465, 0.9918487168558501, 0.02675771806218405, 0.9612195642338424, 0.010291430023916942, 0.9908199032841088, 0.9918487168558501, 0.9978835545559828, 0.9934609881170161, 0.04320661835750471, 0.8919080503799186, 0.030861870255360503, 0.03394805728089655, 0.5447447294636978, 0.23792631599783412, 0.03338070702059165, 0.18394900251772847, 0.9969680480824146, 0.011438881470307374, 0.9860315827404956, 0.9968921201676703, 0.9982999581550137, 0.9881868023658463, 0.01025799448822678, 0.1593310555287745, 0.8401883529249584, 0.0275839533469955, 0.9378544137978471, 0.0275839533469955, 0.9434463892154547, 0.05549684642443851, 0.5841212362142165, 0.18711422893987675, 0.1448583691933979, 0.07077856507535212, 0.013138931389920774, 0.9974847679645577, 0.46595841319390896, 0.5167717625062218, 0.017276538766186372, 0.9941509827384324, 0.9696887141280869, 0.0017388321233617816, 0.028400924681575766, 0.9959726631278132, 0.0018141578563348145, 0.0018141578563348145, 0.9946210542451347, 0.9630779434270318, 0.9834741061930026, 0.19550390878729912, 0.7983076275481381, 0.4300808870076372, 0.4300808870076372, 0.06306839862479485, 0.008358462468346307, 0.06838742019556068, 0.9918362309278301, 0.9964024030015841, 0.9894502917150433, 0.9717361832274843, 0.9943615115567932, 0.9933848225240095, 0.9964990789167754, 0.6712851966597593, 0.1284913996060398, 0.027180872993585344, 0.02800453581157278, 0.1449646559657885, 0.9980644901611704, 0.9938319060109986, 0.1362583662809934, 0.02417487143695044, 0.8307364911970242, 0.00879086234070925, 0.011400410965102817, 0.9608917813443804, 0.026058082205949296, 0.07302947294013887, 0.5405768594808106, 0.2429023773878532, 0.13097677212090122, 0.011906979283718293, 0.005526506168125127, 0.6126526837807283, 0.3402748797802757, 0.0023685026434821974, 0.03868554317687589, 0.9942236776036627, 0.9955141963864065, 0.13533499261054385, 0.17339795928225932, 0.5328815334040164, 0.1564810852059413, 0.9946561298611573, 0.9701483404003428, 0.9877638870561273, 0.9945645845489655, 0.9979596788221502, 0.9958650164478273, 0.9834828099380128, 0.5030782763362843, 0.16148191586102953, 0.16520842161166868, 0.1701770959458542, 0.9940754507758559, 0.03512494082986971, 0.43400138754194945, 0.45454054785772074, 0.05566410114564098, 0.02053916031577127, 0.8788897785682409, 0.11984860616839649, 0.9956930008064532, 0.49108740814978397, 0.5048241188672604, 0.05331402655496948, 0.15994207966490845, 0.7819390561395524, 0.9948354587258386, 0.05071749607105838, 0.42797229561331457, 0.1910590605416583, 0.09587691038090489, 0.23413419419105036, 0.01717239706568675, 0.9819488867560877, 0.6359303435266834, 0.012927434661214831, 0.35102957195452583, 0.12164621251807088, 0.07651939174523814, 0.8005105597963375, 0.00468122322428158, 0.09674527996848599, 0.8972344513206362, 0.9905005040476892, 0.9965485573671692, 0.08712319219342242, 0.04356159609671121, 0.8663917445901452], \"Term\": [\"aangeefster\", \"aanr_nl\", \"aantreffen\", \"aantreffen\", \"aantreffen\", \"aantreffen\", \"aanzien\", \"aanzien\", \"achterbank\", \"achterbank\", \"adres\", \"adres\", \"adres\", \"adres\", \"advocaat_generaal\", \"afleggen\", \"afpersing_misleiding\", \"agressie\", \"alleen\", \"alleen\", \"alleen\", \"alleen\", \"althans\", \"althans\", \"althans\", \"althans\", \"ander\", \"ander\", \"ander\", \"ander\", \"ander\", \"arbeid\", \"artikel\", \"artikel\", \"artikel\", \"artikel\", \"auto\", \"auto\", \"auto\", \"auto\", \"avond\", \"baren\", \"baren\", \"bedreigen\", \"bedreigen\", \"bedreiging\", \"bedreiging\", \"bedreiging\", \"bedrijf\", \"bedrijf\", \"bedrijfsnaam\", \"beeld\", \"beeld\", \"beeld\", \"beinvloeden\", \"bemonsteren\", \"bemonsteren\", \"bemonstering\", \"bemonstering\", \"benadelen\", \"benadelen\", \"benadelen\", \"beperken\", \"beperken\", \"bereiden_gemakkelijk\", \"bereik\", \"bereik\", \"bereik\", \"beroven\", \"beroven\", \"beschikbaar\", \"beschikbaar\", \"bestemmen\", \"bestemmen\", \"betalen\", \"betalen\", \"betalen\", \"betalen\", \"betrapping\", \"bewijsmiddel\", \"bewijsmiddel\", \"bewijsmiddel\", \"bewijzen\", \"bewijzen\", \"bivakmuts\", \"bivakmuts\", \"blijken\", \"blijken\", \"bodem\", \"bonair\", \"boodschap\", \"borst\", \"braak_verbreking\", \"brengen\", \"brengen\", \"brengen\", \"brengen\", \"brengen\", \"brief\", \"brief\", \"buit\", \"bushalte\", \"camerabeeld\", \"camerabeeld\", \"daarom\", \"dader\", \"dader\", \"danwel\", \"desbevoegd\", \"dichtdrukken\", \"document\", \"donker\", \"donker\", \"donor\", \"dood\", \"dood\", \"dossierpagina\", \"dreiging\", \"dreiging\", \"drukken\", \"drukken\", \"dulden\", \"duur\", \"duwen\", \"duwen\", \"dwang\", \"een\", \"een\", \"eenmaal\", \"eenmaal\", \"euro\", \"euro\", \"euro\", \"euro_geboekt\", \"factuur\", \"familielid\", \"familielid\", \"feit\", \"feit\", \"feit\", \"feit\", \"feitelijk\", \"feitelijk\", \"feitelijk\", \"feitelijkheid\", \"feitelijkheid\", \"fors_stomp\", \"gaan\", \"gaan\", \"gaan\", \"gaan\", \"garage\", \"geboortedatum\", \"geboortedatum\", \"geboortedatum\", \"gegeven\", \"gegeven\", \"geheel\", \"geheel\", \"geheel\", \"geheel\", \"geit\", \"geld\", \"geld\", \"geld\", \"geld\", \"geldbedrag\", \"geldbedrag\", \"gelijke_dreigenen\", \"gemeente\", \"gemeente\", \"getuige\", \"getuige\", \"getuigen\", \"geval\", \"geval\", \"geval\", \"geven\", \"geven\", \"geven\", \"geven\", \"geven\", \"geweld\", \"geweld\", \"gezag\", \"gezicht\", \"gezicht\", \"gezin\", \"goed\", \"goed\", \"goed\", \"goed\", \"gram\", \"grond\", \"grond\", \"grond\", \"grond\", \"hal\", \"hand\", \"hand\", \"hand\", \"hard\", \"hard\", \"hard_oppervlak\", \"hebben\", \"hebben\", \"hebben\", \"hebben\", \"hek\", \"hennep\", \"hennepplant\", \"herkennen\", \"herkennen\", \"herkennen\", \"heterdaad\", \"hoeveelheid\", \"hoeveelheid\", \"hof\", \"hoger_beroep\", \"hoger_beroep\", \"hoger_beroep\", \"hoofd\", \"hoofd\", \"horen\", \"horen\", \"horen\", \"huis\", \"huis\", \"huis\", \"hulpverlener\", \"innemen\", \"intimidatie\", \"intimideren\", \"invloedssfeer\", \"invloedssfeer\", \"jas\", \"jas\", \"justitie\", \"justitie\", \"justitie\", \"kaart\", \"kaart\", \"kaart\", \"kapot\", \"kapot\", \"kenteken\", \"kenteken\", \"kenteken\", \"kentekenen\", \"kind\", \"kind\", \"klein\", \"klein\", \"klein\", \"koken\", \"komen\", \"komen\", \"komen\", \"komen\", \"komen\", \"koud\", \"kracht\", \"kracht\", \"kwetsbare_positie\", \"laste_gelegd\", \"laste_gelegd\", \"laste_gelegd\", \"laste_gelegd\", \"laste_gelegen\", \"laten\", \"laten\", \"laten\", \"laten\", \"lengte\", \"leven_gericht\", \"levensonderhoud\", \"lichaam\", \"liggen\", \"liggen\", \"liggen\", \"liggen\", \"liggen\", \"loods\", \"lopen\", \"lopen\", \"lopen\", \"maat\", \"maken\", \"maken\", \"maken\", \"maken\", \"maken\", \"man\", \"man\", \"man\", \"materiaal_bevattenen\", \"mededader\", \"mededader\", \"mededader\", \"medeverdacht\", \"medeverdacht\", \"medeverdacht\", \"medeverdacht\", \"medeverdacht\", \"medisch\", \"meenemen\", \"meenemen\", \"meenemen\", \"meermalen\", \"meermalen\", \"meermalen\", \"meermalen\", \"meisje\", \"meisje\", \"mercedes_benz\", \"merk\", \"merk\", \"merk\", \"merk\", \"middel\", \"middel\", \"middel\", \"minderjarig\", \"minderjarig\", \"misbruik\", \"misbruik\", \"misdrijf\", \"misdrijf\", \"misdrijf\", \"mishandelen\", \"mishandelen\", \"moment\", \"moment\", \"moment\", \"naakt\", \"naam\", \"naam\", \"naam\", \"nbijzonderheden\", \"ndna_mengprofiel\", \"nijmeg\", \"nikken\", \"nikken\", \"noordwolen\", \"officier\", \"officier\", \"omgang\", \"omstandigheden_voortvloeien\", \"omstandigheid\", \"omstandigheid\", \"onderbrengen\", \"ongeveer\", \"ongeveer\", \"ongeveer\", \"ongeveer\", \"onttrekken\", \"onttrekken\", \"onttrekken\", \"onvoldoende\", \"oogmerk\", \"oogmerk\", \"oogmerk\", \"oor\", \"oordeel\", \"opdragen\", \"opiumwet\", \"opiumwet_behorenen\", \"opvoeden\", \"opzettelijk\", \"opzettelijk\", \"opzettelijk\", \"opzettelijk\", \"ouderlijk\", \"overal\", \"overdragen\", \"overtuigend_bewees\", \"overtuigend_bewezen\", \"overval\", \"overval\", \"overvallen\", \"overwegen\", \"overwegen\", \"overwicht\", \"overwicht\", \"pagina\", \"pagina\", \"pagina\", \"pagina\", \"pand\", \"pand\", \"pand\", \"paspoort\", \"paspoort\", \"paspoort\", \"penis\", \"periode\", \"periode\", \"periode\", \"periode\", \"persoon\", \"persoon\", \"persoon\", \"persoon\", \"persoon\", \"pinautomaat\", \"plaats\", \"plaats\", \"plaats\", \"plaats\", \"plaats\", \"plaatsvinden\", \"plaatsvinden\", \"positie\", \"postuur\", \"proces_verbaal\", \"proces_verbaal\", \"raadsman\", \"rechtbank\", \"rechtbank\", \"rechtbank\", \"rechtspersoon\", \"rennen\", \"rennen\", \"rennen\", \"resultaat\", \"resultaat\", \"richting\", \"richting\", \"richting\", \"rijden\", \"rijden\", \"rijden\", \"roepnaam\", \"samenweefsel\", \"scherp\", \"schip\", \"schip_genaamd\", \"schudden\", \"signalement\", \"slaan\", \"slaan\", \"slachtoffer\", \"slachtoffer\", \"slechts\", \"spoor\", \"spoor\", \"spoor\", \"spoor_bevat\", \"sporen\", \"sprake\", \"staan\", \"staan\", \"staan\", \"staan\", \"staan\", \"standpunt\", \"stelen\", \"stelen\", \"stellen\", \"stellen\", \"stellen\", \"stellen\", \"stelselmatig\", \"stevig\", \"stichting\", \"stomp\", \"stompen\", \"straffen\", \"strekking\", \"strekking\", \"sub\", \"tablet\", \"tape\", \"telkens\", \"telkens\", \"telkens\", \"tenlastegelegen\", \"tenlastegelegen\", \"tenlastelegging\", \"tenlastelegging\", \"tenlastelegging\", \"tenlastelegging\", \"terechtzitting\", \"terechtzitting\", \"terechtzitting\", \"terechtzitting\", \"tezamen\", \"tezamen\", \"tezamen\", \"toestemming\", \"toestemming\", \"toestemming\", \"tonbekenen\", \"totaal\", \"totaal\", \"totaal\", \"toverweging\", \"tverwante_person\", \"uf\", \"uitbuiting\", \"uitvoering\", \"uitvoering\", \"uitvoering\", \"uitvoering\", \"uur\", \"uur\", \"uur\", \"uur\", \"vagina\", \"vals\", \"vals\", \"valse_hoedanigheid\", \"valselijk\", \"vaststellen\", \"vaststellen\", \"verbalisant\", \"verbalisant\", \"verblijven\", \"verblijven\", \"verblijven\", \"verdediging\", \"verdediging\", \"verdenken\", \"verdenken\", \"verdenken\", \"verdenken\", \"verdenken\", \"verdichtsel\", \"vereniging\", \"vereniging\", \"vereniging\", \"verhullen\", \"verklaren\", \"verklaren\", \"verklaren\", \"verklaring\", \"verklaring\", \"verklaring\", \"veroordelen\", \"verpakking\", \"verstandelijk\", \"vertrekken\", \"vertrekken\", \"vervolgens\", \"vervolgens\", \"vervolgens\", \"vervolgens\", \"vervolgens\", \"verweer\", \"verwerken\", \"verworven_voorhand\", \"verzegelen\", \"verzorgen\", \"verzorging\", \"voldoende\", \"volgen\", \"volgen\", \"volgen\", \"volgen\", \"volgen\", \"volkswagen\", \"vonnis_waarvan\", \"voorhanden\", \"voorhanden\", \"voorhanden\", \"voorhanden\", \"voornemen\", \"voornemen\", \"voornemen\", \"voornoemd\", \"voornoemd\", \"voornoemd\", \"voornoemd\", \"voornoemd\", \"voorwerp\", \"voorwerp\", \"voorwerp\", \"voorwerp\", \"voorwerp\", \"vorderen\", \"vordering\", \"vriend\", \"vriend\", \"vriend\", \"vriend\", \"vrijspreken\", \"wanneer_hypothes\", \"wanneer_hypothese\", \"water\", \"website\", \"wederom\", \"weed\", \"wel\", \"wel\", \"wel\", \"wel\", \"werknemer\", \"weten\", \"weten\", \"weten\", \"weten\", \"weten\", \"wettig\", \"wettig\", \"wijnjewoud\", \"winkel\", \"winkel\", \"wit\", \"wit\", \"wit\", \"witwas\", \"woning\", \"woning\", \"woning\", \"woning\", \"woning\", \"woord\", \"woord\", \"zien\", \"zien\", \"zien\", \"zijn\", \"zijn\", \"zijn\", \"zoon\", \"zoon\", \"zoon\", \"zover_inhoudenen\", \"zware_mishandeling\", \"zwart\", \"zwart\", \"zwart\"]}, \"R\": 30, \"lambda.step\": 0.01, \"plot.opts\": {\"xlab\": \"PC1\", \"ylab\": \"PC2\"}, \"topic.order\": [3, 5, 1, 4, 2]};\n",
       "\n",
       "function LDAvis_load_lib(url, callback){\n",
       "  var s = document.createElement('script');\n",
       "  s.src = url;\n",
       "  s.async = true;\n",
       "  s.onreadystatechange = s.onload = callback;\n",
       "  s.onerror = function(){console.warn(\"failed to load library \" + url);};\n",
       "  document.getElementsByTagName(\"head\")[0].appendChild(s);\n",
       "}\n",
       "\n",
       "if(typeof(LDAvis) !== \"undefined\"){\n",
       "   // already loaded: just create the visualization\n",
       "   !function(LDAvis){\n",
       "       new LDAvis(\"#\" + \"ldavis_el1960420009056976087857627933\", ldavis_el1960420009056976087857627933_data);\n",
       "   }(LDAvis);\n",
       "}else if(typeof define === \"function\" && define.amd){\n",
       "   // require.js is available: use it to load d3/LDAvis\n",
       "   require.config({paths: {d3: \"https://d3js.org/d3.v5\"}});\n",
       "   require([\"d3\"], function(d3){\n",
       "      window.d3 = d3;\n",
       "      LDAvis_load_lib(\"https://cdn.jsdelivr.net/gh/bmabey/pyLDAvis@3.3.1/pyLDAvis/js/ldavis.v3.0.0.js\", function(){\n",
       "        new LDAvis(\"#\" + \"ldavis_el1960420009056976087857627933\", ldavis_el1960420009056976087857627933_data);\n",
       "      });\n",
       "    });\n",
       "}else{\n",
       "    // require.js not available: dynamically load d3 & LDAvis\n",
       "    LDAvis_load_lib(\"https://d3js.org/d3.v5.js\", function(){\n",
       "         LDAvis_load_lib(\"https://cdn.jsdelivr.net/gh/bmabey/pyLDAvis@3.3.1/pyLDAvis/js/ldavis.v3.0.0.js\", function(){\n",
       "                 new LDAvis(\"#\" + \"ldavis_el1960420009056976087857627933\", ldavis_el1960420009056976087857627933_data);\n",
       "            })\n",
       "         });\n",
       "}\n",
       "</script>"
      ],
      "text/plain": [
       "PreparedData(topic_coordinates=              x         y  topics  cluster       Freq\n",
       "topic                                                \n",
       "2      0.146325  0.052950       1        1  32.436806\n",
       "4     -0.200337 -0.083271       2        1  27.691647\n",
       "0     -0.176211 -0.093516       3        1  25.671490\n",
       "3     -0.010647  0.281241       4        1   7.125917\n",
       "1      0.240870 -0.157405       5        1   7.074139, topic_info=            Term          Freq         Total Category  logprob  loglift\n",
       "584  slachtoffer  12255.000000  12255.000000  Default  30.0000  30.0000\n",
       "59          naam   7173.000000   7173.000000  Default  29.0000  29.0000\n",
       "171      althans   7219.000000   7219.000000  Default  28.0000  28.0000\n",
       "695         zien   2011.000000   2011.000000  Default  27.0000  27.0000\n",
       "112    verdenken  15145.000000  15145.000000  Default  26.0000  26.0000\n",
       "..           ...           ...           ...      ...      ...      ...\n",
       "154     richting    131.352878    743.370889   Topic5  -5.4519   0.9154\n",
       "112    verdenken    198.687838  15145.828385   Topic5  -5.0381  -1.6850\n",
       "399         hand    122.088760    616.526272   Topic5  -5.5251   1.0294\n",
       "225   aantreffen    122.880398    675.888045   Topic5  -5.5186   0.9439\n",
       "46         komen    124.109094   1648.590494   Topic5  -5.5086   0.0622\n",
       "\n",
       "[379 rows x 6 columns], token_table=       Topic      Freq                Term\n",
       "term                                      \n",
       "0          4  0.998883         aangeefster\n",
       "14661      5  0.974160             aanr_nl\n",
       "225        1  0.362486          aantreffen\n",
       "225        3  0.454217          aantreffen\n",
       "225        4  0.002959          aantreffen\n",
       "...      ...       ...                 ...\n",
       "2850       5  0.990501    zover_inhoudenen\n",
       "700        2  0.996549  zware_mishandeling\n",
       "1144       1  0.087123               zwart\n",
       "1144       3  0.043562               zwart\n",
       "1144       5  0.866392               zwart\n",
       "\n",
       "[632 rows x 3 columns], R=30, lambda_step=0.01, plot_opts={'xlab': 'PC1', 'ylab': 'PC2'}, topic_order=[3, 5, 1, 4, 2])"
      ]
     },
     "execution_count": 32,
     "metadata": {},
     "output_type": "execute_result"
    }
   ],
   "source": [
    "# Visualize the topics\n",
    "pyLDAvis.enable_notebook()\n",
    "vis = gensimvis.prepare(lda_model, corpus, id2word)\n",
    "vis"
   ]
  },
  {
   "cell_type": "markdown",
   "metadata": {},
   "source": [
    "# How to find the optimal number fo topics for LDA?"
   ]
  },
  {
   "cell_type": "code",
   "execution_count": 14,
   "metadata": {},
   "outputs": [],
   "source": [
    "def compute_coherence_values(dictionary, corpus, texts, limit, start=2, step=3):\n",
    "    \"\"\"\n",
    "    Compute c_v coherence for various number of topics\n",
    "\n",
    "    Parameters:\n",
    "    ----------\n",
    "    dictionary : Gensim dictionary\n",
    "    corpus : Gensim corpus\n",
    "    texts : List of input texts\n",
    "    limit : Max num of topics\n",
    "\n",
    "    Returns:\n",
    "    -------\n",
    "    model_list : List of LDA topic models\n",
    "    coherence_values : Coherence values corresponding to the LDA model with respective number of topics\n",
    "    \"\"\"\n",
    "    coherence_values = []\n",
    "    model_list = []\n",
    "    for num_topics in range(start, limit, step):\n",
    "        model = gensim.models.ldamodel.LdaModel(corpus=corpus, num_topics=num_topics, id2word=id2word)\n",
    "        model_list.append(model)\n",
    "        coherencemodel = CoherenceModel(model=model, texts=texts, dictionary=dictionary, coherence='c_v')\n",
    "        coherence_values.append(coherencemodel.get_coherence())\n",
    "\n",
    "    return model_list, coherence_values\n"
   ]
  },
  {
   "cell_type": "code",
   "execution_count": 15,
   "metadata": {},
   "outputs": [],
   "source": [
    "# Can take a long time to run.\n",
    "model_list, coherence_values = compute_coherence_values(dictionary=id2word, corpus=corpus, texts=data_lemmatized, start=2, limit=40, step=6)"
   ]
  },
  {
   "cell_type": "code",
   "execution_count": 16,
   "metadata": {},
   "outputs": [
    {
     "data": {
      "image/png": "[encoded data removed]",
      "text/plain": [
       "<Figure size 432x288 with 1 Axes>"
      ]
     },
     "metadata": {
      "needs_background": "light"
     },
     "output_type": "display_data"
    }
   ],
   "source": [
    "# Show graph\n",
    "\n",
    "plt.plot(coherence_values)\n",
    "plt.xlabel(\"Num Topics\")\n",
    "plt.ylabel(\"Coherence score\")\n",
    "plt.legend((\"coherence_values\"), loc='best')\n",
    "plt.show()"
   ]
  },
  {
   "cell_type": "code",
   "execution_count": 17,
   "metadata": {},
   "outputs": [
    {
     "data": {
      "text/plain": [
       "[0.3412456880774918,\n",
       " 0.35285554255841833,\n",
       " 0.3152764177254558,\n",
       " 0.3583540605690488,\n",
       " 0.3387748899388256,\n",
       " 0.34080056947872284,\n",
       " 0.33987256479266986]"
      ]
     },
     "execution_count": 17,
     "metadata": {},
     "output_type": "execute_result"
    }
   ],
   "source": [
    "coherence_values"
   ]
  },
  {
   "cell_type": "code",
   "execution_count": null,
   "metadata": {},
   "outputs": [],
   "source": []
  },
  {
   "cell_type": "code",
   "execution_count": null,
   "metadata": {},
   "outputs": [],
   "source": []
  },
  {
   "cell_type": "code",
   "execution_count": null,
   "metadata": {},
   "outputs": [],
   "source": []
  }
 ],
 "metadata": {
  "interpreter": {
   "hash": "40d3a090f54c6569ab1632332b64b2c03c39dcf918b08424e98f38b5ae0af88f"
  },
  "kernelspec": {
   "display_name": "Python 3",
   "language": "python",
   "name": "python3"
  },
  "language_info": {
   "codemirror_mode": {
    "name": "ipython",
    "version": 3
   },
   "file_extension": ".py",
   "mimetype": "text/x-python",
   "name": "python",
   "nbconvert_exporter": "python",
   "pygments_lexer": "ipython3",
   "version": "3.7.4"
  }
 },
 "nbformat": 4,
 "nbformat_minor": 4
}
