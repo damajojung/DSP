{
 "cells": [
  {
   "cell_type": "markdown",
   "metadata": {},
   "source": [
    "# Final LDA Model"
   ]
  },
  {
   "cell_type": "code",
   "execution_count": 1,
   "metadata": {},
   "outputs": [],
   "source": [
    "import re\n",
    "import numpy as np\n",
    "import pandas as pd\n",
    "from pprint import pprint\n",
    "\n",
    "# Gensim\n",
    "import gensim\n",
    "import gensim.corpora as corpora\n",
    "from gensim.utils import simple_preprocess\n",
    "from gensim.models import CoherenceModel\n",
    "\n",
    "# spacy for lemmatization\n",
    "import spacy\n",
    "\n",
    "# Plotting tools\n",
    "import pyLDAvis\n",
    "# import pyLDAvis.gensim  # Author: don't skip this\n",
    "# pyLDAvis.gensim.prepare\n",
    "\n",
    "# I think i need another one:\n",
    "import pyLDAvis.gensim_models\n",
    "import pyLDAvis.gensim_models as gensimvis\n",
    "\n",
    "# Plots\n",
    "import matplotlib.pyplot as plt\n",
    "%matplotlib inline\n",
    "\n",
    "# Enable logging for gensim - optional\n",
    "import logging\n",
    "logging.basicConfig(format='%(asctime)s : %(levelname)s : %(message)s', level=logging.ERROR)\n",
    "\n",
    "import warnings\n",
    "warnings.filterwarnings(\"ignore\",category=DeprecationWarning)"
   ]
  },
  {
   "cell_type": "code",
   "execution_count": 2,
   "metadata": {},
   "outputs": [],
   "source": [
    "# NLTK Stop words\n",
    "from nltk.corpus import stopwords\n",
    "stop_words = stopwords.words('dutch')\n",
    "stop_words.extend(['tenlastelegging\\\\n\\\\n\\\\naan', '\\\\n\\\\n\\\\n\\\\n\\\\n\\\\n', '\\\\n\\\\n\\\\n\\\\n\\\\n', '\\\\n\\\\n', 'een', 'naan', 'nde', 'nhij', '\\\\n'])"
   ]
  },
  {
   "cell_type": "markdown",
   "metadata": {},
   "source": [
    "# Data"
   ]
  },
  {
   "cell_type": "code",
   "execution_count": 4,
   "metadata": {},
   "outputs": [],
   "source": [
    "# Data\n",
    "df = pd.read_csv('/Users/dj/Python - UvA/DSP/data/DataSample_DSP_0712.csv', index_col=1) \n",
    "df = df[df['re_tll'] != '[]'][['re_tll']] #re_bewijs\n",
    "# data = [i for i in df['re_tll']]"
   ]
  },
  {
   "cell_type": "markdown",
   "metadata": {},
   "source": [
    "# Tokenize "
   ]
  },
  {
   "cell_type": "code",
   "execution_count": 5,
   "metadata": {},
   "outputs": [
    {
     "name": "stdout",
     "output_type": "stream",
     "text": [
      "[['tenlastelegging', 'naan', 'verdachte', 'is', 'ten', 'laste', 'gelegd', 'dat', 'nhij', 'in', 'of', 'omstreeks', 'de', 'periode', 'van', 'november', 'tot', 'en', 'met', 'november', 'in', 'arnhem', 'en', 'of', 'in', 'nederland', 'en', 'of', 'in', 'duitsland', 'en', 'of', 'in', 'oostenrijk', 'en', 'of', 'in', 'hongarije', 'opzettelijk', 'een', 'of', 'meer', 'minderjarige', 'te', 'weten', 'naam', 'geboren', 'op', 'geboortedatum', 'in', 'geboorteplaats', 'en', 'of', 'naam', 'geboren', 'op', 'geboortedatum', 'in', 'geboorteplaats', 'heeft', 'onttrokken', 'aan', 'het', 'wettig', 'over', 'hen', 'haar', 'gesteld', 'gezag', 'en', 'of', 'aan', 'het', 'opzicht', 'van', 'degene', 'die', 'dit', 'desbevoegd', 'over', 'hen', 'haar', 'uitoefende', 'terwijl', 'die', 'minderjarige', 'beneden', 'de', 'twaalf', 'jaren', 'oud', 'was', 'waren', 'en', 'of', 'terwijl', 'list', 'was', 'gebezigd', 'bestaande', 'uit', 'het', 'door', 'verdachte', 'aan', 'de', 'school', 'van', 'de', 'minderjarig', 'in', 'strijd', 'met', 'de', 'waarheid', 'mededelen', 'dat', 'de', 'minderjarige', 'een', 'afspraak', 'bij', 'de', 'tandarts', 'zou', 'den', 'hebben', 'en', 'de', 'minderjarige', 'daarvoor', 'vroeger', 'op', 'te', 'halen', 'van', 'school', 'en', 'of', 'het', 'door', 'verdachte', 'uit', 'het', 'huis', 'lokken', 'van', 'zijn', 'verdachtes', 'echtgenote', 'genaamd', 'naam', 'door', 'het', 'maken', 'van', 'een', 'afspraak', 'met', 'haar', 'bij', 'een', 'woonboulevard', 'om', 'beweerdelijk', 'te', 'gaan', 'shoppen', 'zodat', 'verdachte', 'de', 'paspoorten', 'en', 'kleding', 'toiletartikelen', 'van', 'de', 'minderjarige', 'en', 'uit', 'de', 'woning', 'kon', 'pakken', 'toverwegingen', 'ten', 'aanzien', 'van', 'het', 'bewijs', 'nde', 'feiten', 'nop', 'grond', 'van', 'de', 'bewijsmiddelen', 'wordt', 'het', 'volgende', 'dat', 'verder', 'ook', 'niet', 'ter', 'discussie', 'staat', 'vastgesteld', 'naangeefster', 'naam', 'en', 'verdachte', 'zijn', 'getrouwd', 'en', 'hebben', 'samen', 'twee', 'kinderen', 'naam', 'geboren', 'op', 'geboortedatum', 'te', 'geboorteplaats', 'en', 'naam', 'geboren', 'op', 'geboortedatum', 'te', 'geboorteplaats', 'aangeefster', 'en', 'verdachte', 'hebben', 'beiden', 'gezag', 'over', 'deze', 'kinderen', 'verdachte', 'heeft', 'op', 'november', 'de', 'kinderen', 'eerder', 'van', 'school', 'gehaald', 'hij', 'is', 'vervolgens', 'in', 'een', 'bus', 'gestapt', 'in', 'nijmegen', 'heeft', 'in', 'kleve', 'duitsland', 'een', 'trein', 'genomen', 'in', 'dusseldorf', 'duitsland', 'de', 'bus', 'genomen', 'naar', 'salzburg', 'oostenrijk', 'en', 'heeft', 'vanuit', 'daar', 'een', 'trein', 'naar', 'boekarest', 'roemenie', 'genomen', 'in', 'deze', 'trein', 'is', 'hij', 'op', 'november', 'aangehouden', 'toen', 'de', 'trein', 'zich', 'in', 'hongarije', 'bevond', 'nhet', 'standpunt', 'van', 'de', 'officier', 'van', 'justitie', 'nde', 'officier', 'van', 'justitie', 'heeft', 'gesteld', 'dat', 'wettig', 'en', 'overtuigend', 'bewezen', 'kan', 'worden', 'dat', 'verdachte', 'zich', 'schuldig', 'heeft', 'gemaakt', 'aan', 'het', 'ten', 'laste', 'gelegde', 'nhet', 'standpunt', 'van', 'de', 'verdediging', 'nde', 'verdediging', 'heeft', 'zich', 'op', 'het', 'standpunt', 'gesteld', 'dat', 'verdachte', 'van', 'het', 'ten', 'laste', 'gelegde', 'dient', 'te', 'worden', 'vrijgesproken', 'omdat', 'verdachte', 'niet', 'het', 'opzet', 'had', 'de', 'kinderen', 'aan', 'het', 'gezag', 'van', 'aangeefster', 'te', 'onttrekken', 'daarnaast', 'heeft', 'verdachte', 'volgens', 'de', 'verdediging', 'ook', 'geen', 'list', 'gebezigd', 'nbeoordeling', 'door', 'de', 'rechtbank', 'naangeefster', 'heeft', 'verklaard', 'dat', 'zij', 'op', 'november', 'omstreeks', 'uur', 'door', 'verdachte', 'werd', 'gebeld', 'hij', 'vroeg', 'haar', 'of', 'ze', 'om', 'uur', 'op', 'hem', 'wilde', 'wachten', 'bij', 'de', 'woonboulevard', 'in', 'arnhem', 'zuid', 'zodat', 'ze', 'samen', 'konden', 'gaan', 'shoppen', 'aangeefster', 'is', 'vervolgens', 'naar', 'de', 'woonboulevard', 'gegaan', 'maar', 'verdachte', 'was', 'daar', 'niet', 'op', 'het', 'afgesproken', 'tijdstip', 'aanwezig', 'omstreeks', 'uur', 'is', 'zij', 'naar', 'de', 'school', 'van', 'haar', 'kinderen', 'gegaan', 'om', 'hen', 'op', 'te', 'halen', 'daar', 'hoorde', 'ze', 'van', 'de', 'leerkracht', 'dat', 'haar', 'kinderen', 'omstreeks', 'uur', 'waren', 'opgehaald', 'door', 'verdachte', 'met', 'de', 'mededeling', 'dat', 'ze', 'een', 'afspraak', 'hadden', 'bij', 'de', 'tandarts', 'aangeefster', 'raakte', 'in', 'paniek', 'omdat', 'ze', 'wist', 'dat', 'haar', 'kinderen', 'geen', 'afspraak', 'bij', 'de', 'tandarts', 'hadden', 'zij', 'heeft', 'verdachte', 'toen', 'meermalen', 'proberen', 'te', 'bellen', 'verdachte', 'nam', 'zijn', 'telefoon', 'echter', 'niet', 'op', 'zij', 'heeft', 'toen', 'de', 'voicemail', 'ingesproken', 'met', 'de', 'vraag', 'waarom', 'hij', 'hun', 'kinderen', 'had', 'meegenomen', 'eenmaal', 'thuis', 'gekomen', 'kwam', 'ze', 'er', 'achter', 'dat', 'de', 'paspoorten', 'van', 'de', 'kinderen', 'en', 'van', 'verdachte', 'weg', 'waren', 'ook', 'waren', 'de', 'toiletartikelen', 'en', 'wat', 'kleding', 'van', 'de', 'kinderen', 'weg', 'nde', 'leerkracht', 'van', 'naam', 'getuige', 'heeft', 'verklaard', 'dat', 'verdachte', 'in', 'de', 'ochtend', 'net', 'voor', 'het', 'begin', 'van', 'de', 'schooldag', 'al', 'naar', 'haar', 'toe', 'was', 'gekomen', 'om', 'te', 'vertellen', 'dat', 'hij', 'met', 'zijn', 'dochter', 'naar', 'de', 'tandarts', 'zou', 'gaan', 'aan', 'het', 'einde', 'van', 'de', 'ochtend', 'heeft', 'hij', 'haar', 'toen', 'opgehaald', 'naam', 'moeder', 'is', 'toen', 'nog', 'na', 'schooltijd', 'geweest', 'om', 'haar', 'op', 'te', 'halen', 'de', 'leerkracht', 'van', 'naam', 'getuige', 'heeft', 'verklaard', 'dat', 'verdachte', 'in', 'de', 'ochtend', 'tegen', 'hem', 'had', 'gezegd', 'dat', 'hij', 'naam']]\n"
     ]
    }
   ],
   "source": [
    "def sent_to_words(sentences):\n",
    "    for sentence in sentences:\n",
    "        yield(gensim.utils.simple_preprocess(str(sentence), deacc=True))  # deacc=True removes punctuations\n",
    "\n",
    "data_words = list(sent_to_words(df['re_tll']))\n",
    "\n",
    "print(data_words[:1])"
   ]
  },
  {
   "cell_type": "markdown",
   "metadata": {},
   "source": [
    "# Creating Bigram and Trigram Models"
   ]
  },
  {
   "cell_type": "code",
   "execution_count": 6,
   "metadata": {},
   "outputs": [
    {
     "name": "stdout",
     "output_type": "stream",
     "text": [
      "['tenlastelegging', 'naan', 'verdachte', 'is', 'ten_laste_gelegd', 'dat', 'nhij', 'in', 'of', 'omstreeks', 'de', 'periode', 'van', 'november', 'tot', 'en', 'met', 'november', 'in', 'arnhem', 'en', 'of', 'in', 'nederland', 'en', 'of', 'in', 'duitsland', 'en', 'of', 'in', 'oostenrijk', 'en', 'of', 'in', 'hongarije', 'opzettelijk', 'een', 'of', 'meer', 'minderjarige', 'te', 'weten', 'naam', 'geboren', 'op', 'geboortedatum', 'in', 'geboorteplaats', 'en', 'of', 'naam', 'geboren', 'op', 'geboortedatum', 'in', 'geboorteplaats', 'heeft', 'onttrokken', 'aan', 'het', 'wettig', 'over', 'hen', 'haar', 'gesteld', 'gezag', 'en', 'of', 'aan', 'het', 'opzicht', 'van', 'degene', 'die', 'dit', 'desbevoegd', 'over', 'hen', 'haar', 'uitoefende', 'terwijl', 'die', 'minderjarige', 'beneden', 'de', 'twaalf_jaren', 'oud', 'was', 'waren', 'en', 'of', 'terwijl', 'list', 'was', 'gebezigd', 'bestaande', 'uit', 'het', 'door', 'verdachte', 'aan', 'de', 'school', 'van', 'de', 'minderjarig', 'in', 'strijd', 'met', 'de', 'waarheid', 'mededelen', 'dat', 'de', 'minderjarige', 'een', 'afspraak', 'bij', 'de', 'tandarts', 'zou', 'den', 'hebben', 'en', 'de', 'minderjarige', 'daarvoor', 'vroeger', 'op', 'te', 'halen', 'van', 'school', 'en', 'of', 'het', 'door', 'verdachte', 'uit', 'het', 'huis', 'lokken', 'van', 'zijn', 'verdachtes', 'echtgenote', 'genaamd', 'naam', 'door', 'het', 'maken', 'van', 'een', 'afspraak', 'met', 'haar', 'bij', 'een', 'woonboulevard', 'om', 'beweerdelijk', 'te', 'gaan', 'shoppen', 'zodat', 'verdachte', 'de', 'paspoorten', 'en', 'kleding', 'toiletartikelen', 'van', 'de', 'minderjarige', 'en', 'uit', 'de', 'woning', 'kon', 'pakken', 'toverwegingen', 'ten', 'aanzien', 'van', 'het', 'bewijs', 'nde', 'feiten', 'nop', 'grond', 'van', 'de', 'bewijsmiddelen', 'wordt', 'het', 'volgende', 'dat', 'verder', 'ook', 'niet', 'ter', 'discussie_staat_vastgesteld', 'naangeefster', 'naam', 'en', 'verdachte', 'zijn', 'getrouwd', 'en', 'hebben', 'samen', 'twee', 'kinderen', 'naam', 'geboren', 'op', 'geboortedatum', 'te', 'geboorteplaats', 'en', 'naam', 'geboren', 'op', 'geboortedatum', 'te', 'geboorteplaats', 'aangeefster', 'en', 'verdachte', 'hebben', 'beiden', 'gezag', 'over', 'deze', 'kinderen', 'verdachte', 'heeft', 'op', 'november', 'de', 'kinderen', 'eerder', 'van', 'school', 'gehaald', 'hij', 'is', 'vervolgens', 'in', 'een', 'bus', 'gestapt', 'in', 'nijmegen', 'heeft', 'in', 'kleve', 'duitsland', 'een', 'trein', 'genomen', 'in', 'dusseldorf', 'duitsland', 'de', 'bus', 'genomen', 'naar', 'salzburg', 'oostenrijk', 'en', 'heeft', 'vanuit', 'daar', 'een', 'trein', 'naar', 'boekarest', 'roemenie', 'genomen', 'in', 'deze', 'trein', 'is', 'hij', 'op', 'november', 'aangehouden', 'toen', 'de', 'trein', 'zich', 'in', 'hongarije', 'bevond', 'nhet', 'standpunt', 'van', 'de', 'officier', 'van', 'justitie', 'nde', 'officier', 'van', 'justitie', 'heeft', 'gesteld', 'dat', 'wettig', 'en', 'overtuigend_bewezen_kan', 'worden', 'dat', 'verdachte', 'zich', 'schuldig', 'heeft', 'gemaakt', 'aan', 'het', 'ten_laste_gelegde', 'nhet', 'standpunt', 'van', 'de', 'verdediging', 'nde', 'verdediging', 'heeft', 'zich', 'op', 'het', 'standpunt_gesteld', 'dat', 'verdachte', 'van', 'het', 'ten_laste_gelegde', 'dient', 'te', 'worden', 'vrijgesproken', 'omdat', 'verdachte', 'niet', 'het', 'opzet', 'had', 'de', 'kinderen', 'aan', 'het', 'gezag', 'van', 'aangeefster', 'te', 'onttrekken', 'daarnaast', 'heeft', 'verdachte', 'volgens', 'de', 'verdediging', 'ook', 'geen', 'list', 'gebezigd', 'nbeoordeling', 'door', 'de', 'rechtbank', 'naangeefster', 'heeft', 'verklaard', 'dat', 'zij', 'op', 'november', 'omstreeks', 'uur', 'door', 'verdachte', 'werd', 'gebeld', 'hij', 'vroeg', 'haar', 'of', 'ze', 'om', 'uur', 'op', 'hem', 'wilde', 'wachten', 'bij', 'de', 'woonboulevard', 'in', 'arnhem', 'zuid', 'zodat', 'ze', 'samen', 'konden', 'gaan', 'shoppen', 'aangeefster', 'is', 'vervolgens', 'naar', 'de', 'woonboulevard', 'gegaan', 'maar', 'verdachte', 'was', 'daar', 'niet', 'op', 'het', 'afgesproken', 'tijdstip', 'aanwezig', 'omstreeks', 'uur', 'is', 'zij', 'naar', 'de', 'school', 'van', 'haar', 'kinderen', 'gegaan', 'om', 'hen', 'op', 'te', 'halen', 'daar', 'hoorde', 'ze', 'van', 'de', 'leerkracht', 'dat', 'haar', 'kinderen', 'omstreeks', 'uur', 'waren', 'opgehaald', 'door', 'verdachte', 'met', 'de', 'mededeling', 'dat', 'ze', 'een', 'afspraak', 'hadden', 'bij', 'de', 'tandarts', 'aangeefster', 'raakte', 'in', 'paniek', 'omdat', 'ze', 'wist', 'dat', 'haar', 'kinderen', 'geen', 'afspraak', 'bij', 'de', 'tandarts', 'hadden', 'zij', 'heeft', 'verdachte', 'toen', 'meermalen', 'proberen', 'te', 'bellen', 'verdachte', 'nam', 'zijn', 'telefoon', 'echter', 'niet', 'op', 'zij', 'heeft', 'toen', 'de', 'voicemail', 'ingesproken', 'met', 'de', 'vraag', 'waarom', 'hij', 'hun', 'kinderen', 'had', 'meegenomen', 'eenmaal', 'thuis', 'gekomen', 'kwam', 'ze', 'er', 'achter', 'dat', 'de', 'paspoorten', 'van', 'de', 'kinderen', 'en', 'van', 'verdachte', 'weg', 'waren', 'ook', 'waren', 'de', 'toiletartikelen', 'en', 'wat', 'kleding', 'van', 'de', 'kinderen', 'weg', 'nde', 'leerkracht', 'van', 'naam', 'getuige', 'heeft', 'verklaard', 'dat', 'verdachte', 'in', 'de', 'ochtend', 'net', 'voor', 'het', 'begin', 'van', 'de', 'schooldag', 'al', 'naar', 'haar', 'toe', 'was', 'gekomen', 'om', 'te', 'vertellen', 'dat', 'hij', 'met', 'zijn', 'dochter', 'naar', 'de', 'tandarts', 'zou', 'gaan', 'aan', 'het', 'einde', 'van', 'de', 'ochtend', 'heeft', 'hij', 'haar', 'toen', 'opgehaald', 'naam', 'moeder', 'is', 'toen', 'nog', 'na', 'schooltijd', 'geweest', 'om', 'haar', 'op', 'te', 'halen', 'de', 'leerkracht', 'van', 'naam', 'getuige', 'heeft', 'verklaard', 'dat', 'verdachte', 'in', 'de', 'ochtend', 'tegen', 'hem', 'had', 'gezegd', 'dat', 'hij', 'naam']\n"
     ]
    }
   ],
   "source": [
    "# Build the bigram and trigram models\n",
    "bigram = gensim.models.Phrases(data_words, min_count=5, threshold=100) # higher threshold fewer phrases.\n",
    "trigram = gensim.models.Phrases(bigram[data_words], threshold=100)  \n",
    "\n",
    "# Faster way to get a sentence clubbed as a trigram/bigram\n",
    "bigram_mod = gensim.models.phrases.Phraser(bigram)\n",
    "trigram_mod = gensim.models.phrases.Phraser(trigram)\n",
    "\n",
    "# See trigram example\n",
    "print(trigram_mod[bigram_mod[data_words[0]]])"
   ]
  },
  {
   "cell_type": "markdown",
   "metadata": {},
   "source": [
    "# Remove Stopwords, Make Bigrams and Lemmatize"
   ]
  },
  {
   "cell_type": "code",
   "execution_count": 7,
   "metadata": {},
   "outputs": [],
   "source": [
    "# Define functions for stopwords, bigrams, trigrams and lemmatization\n",
    "def remove_stopwords(texts):\n",
    "    return [[word for word in simple_preprocess(str(doc)) if word not in stop_words] for doc in texts]\n",
    "\n",
    "def make_bigrams(texts):\n",
    "    return [bigram_mod[doc] for doc in texts]\n",
    "\n",
    "def make_trigrams(texts):\n",
    "    return [trigram_mod[bigram_mod[doc]] for doc in texts]\n",
    "\n",
    "def lemmatization(texts, allowed_postags=['NOUN', 'ADJ', 'VERB', 'ADV']):\n",
    "    \"\"\"https://spacy.io/api/annotation\"\"\"\n",
    "    texts_out = []\n",
    "    for sent in texts:\n",
    "        doc = nlp(\" \".join(sent)) \n",
    "        texts_out.append([token.lemma_ for token in doc if token.pos_ in allowed_postags])\n",
    "    return texts_out"
   ]
  },
  {
   "cell_type": "code",
   "execution_count": 8,
   "metadata": {},
   "outputs": [
    {
     "name": "stdout",
     "output_type": "stream",
     "text": [
      "[['tenlastelegging', 'verdenken', 'laste_gelegd', 'periode', 'oostenrijk', 'opzettelijk', 'minderjarig', 'weten', 'naam', 'baren', 'geboortedatum', 'geboorteplaats', 'naam', 'baren', 'geboortedatum', 'geboorteplaats', 'onttrekken', 'wettig', 'stellen', 'gezag', 'opzicht', 'desbevoegd', 'uitoefenen', 'minderjarig', 'twaalf_jar', 'oud', 'list', 'bezigen', 'bestaan', 'verdenken', 'school', 'minderjarig', 'strijd', 'waarheid', 'mededeel', 'minderjarig', 'afspraak', 'tandarts', 'minderjarig', 'daarvoor', 'vroeger', 'halen', 'school', 'verdenken', 'huis', 'lok', 'verdachte', 'echtgenote', 'genaamd', 'naam', 'maken', 'afspraak', 'woonboulevard', 'beweerdelijk', 'gaan', 'shopp', 'verdenken', 'paspoort', 'kleding', 'toiletartikel', 'minderjarig', 'woning', 'toverweging', 'aanzien', 'bewijs', 'feit', 'nop', 'grond', 'bewijsmiddel', 'volgen', 'ver', 'discussie_staat', 'vaststellen', 'naangeefst', 'naam', 'verdenken', 'trouwen', 'samen', 'kind', 'naam', 'baren', 'geboortedatum', 'geboorteplaats', 'naam', 'baren', 'geboortedatum', 'geboorteplaats', 'aangeefster', 'verdenken', 'gezag', 'kind', 'verdenken', 'kind', 'eerder', 'school', 'halen', 'vervolgens', 'bus', 'stappen', 'nijmeg', 'klev', 'trein', 'nemen', 'dusseldorf', 'nemen', 'oostenrijk', 'trein', 'boekarest', 'roemenie', 'nemen', 'trein', 'aanhouden', 'trein', 'bevinden', 'standpunt', 'officier', 'justitie', 'officier', 'justitie', 'stellen', 'wettig', 'overtuigend_bewezen', 'verdenken', 'schuldig', 'maken', 'laste_gelegen', 'standpunt', 'verdediging', 'verdediging', 'standpunt_gesteld', 'verdenken', 'dienen', 'vrijspreken', 'verdenken', 'opzet', 'kind', 'gezag', 'aangeefster', 'onttrekken', 'daarnaast', 'verdenken', 'verdediging', 'list', 'bezigen', 'nbeoordeling', 'rechtbank', 'naangeefster', 'verklaren', 'uur', 'verdenken', 'bellen', 'vroeg', 'uur', 'willen', 'wachten', 'arnhem', 'zuid', 'samen', 'gaan', 'shoppen', 'aangeefster', 'vervolgens', 'woonboulevard', 'gaan', 'verdenken', 'afspreken', 'tijdstip', 'aanwezig', 'uur', 'school', 'kind', 'gaan', 'halen', 'horen', 'leerkracht', 'kind', 'uur', 'ophalen', 'verdenken', 'mededeling', 'afspraak', 'tandarts', 'aangeefster', 'raken', 'paniek', 'weten', 'kind', 'afspraak', 'tandarts', 'verdenken', 'meermalen', 'proberen', 'bellen', 'verdenken', 'nemen', 'telefoon', 'echter', 'voicemail', 'inspreken', 'vraag', 'waarom', 'kind', 'meenemen', 'eenmaal', 'thuis', 'komen', 'komen', 'paspoort', 'kind', 'verdenken', 'weg', 'toiletartikel', 'kleding', 'kind', 'weg', 'leerkracht', 'naam', 'getuige', 'verklaren', 'verdenken', 'ochtend', 'net', 'begin', 'schooldag', 'komen', 'vertellen', 'dochter', 'tandarts', 'gaan', 'einde', 'ochtend', 'ophalen', 'naam', 'moeder', 'schooltijd', 'halen', 'leerkracht', 'naam', 'getuige', 'verklaren', 'verdenken', 'ochtend', 'zeggen', 'naam']]\n"
     ]
    }
   ],
   "source": [
    "# Remove Stop Words\n",
    "data_words_nostops = remove_stopwords(data_words)\n",
    "\n",
    "# Form Bigrams\n",
    "data_words_bigrams = make_bigrams(data_words_nostops)\n",
    "\n",
    "# Initialize spacy 'en' model, keeping only tagger component (for efficiency)\n",
    "# python3 -m spacy download en\n",
    "# nlp = spacy.load('nl', disable=['parser', 'ner'])\n",
    "\n",
    "nlp = spacy.load(\"nl_core_news_sm\")\n",
    "\n",
    "# Do lemmatization keeping only noun, adj, vb, adv\n",
    "data_lemmatized = lemmatization(data_words_bigrams, allowed_postags=['NOUN', 'ADJ', 'VERB', 'ADV'])\n",
    "\n",
    "print(data_lemmatized[:1])"
   ]
  },
  {
   "cell_type": "markdown",
   "metadata": {},
   "source": [
    "#  Create the Dictionary and Corpus needed for Topic Modeling"
   ]
  },
  {
   "cell_type": "code",
   "execution_count": 9,
   "metadata": {},
   "outputs": [
    {
     "name": "stdout",
     "output_type": "stream",
     "text": [
      "[[(0, 4), (1, 1), (2, 1), (3, 1), (4, 4), (5, 1), (6, 1), (7, 4), (8, 1), (9, 2), (10, 1), (11, 1), (12, 1), (13, 1), (14, 1), (15, 2), (16, 1), (17, 1), (18, 1), (19, 1), (20, 1), (21, 1), (22, 1), (23, 1), (24, 1), (25, 1), (26, 1), (27, 1), (28, 1), (29, 1), (30, 1), (31, 5), (32, 4), (33, 4), (34, 1), (35, 2), (36, 3), (37, 1), (38, 4), (39, 1), (40, 1), (41, 1), (42, 2), (43, 10), (44, 2), (45, 1), (46, 3), (47, 1), (48, 1), (49, 3), (50, 2), (51, 1), (52, 2), (53, 1), (54, 1), (55, 1), (56, 1), (57, 6), (58, 1), (59, 10), (60, 1), (61, 1), (62, 1), (63, 4), (64, 1), (65, 1), (66, 1), (67, 3), (68, 2), (69, 2), (70, 2), (71, 2), (72, 1), (73, 1), (74, 1), (75, 1), (76, 1), (77, 1), (78, 2), (79, 1), (80, 1), (81, 1), (82, 1), (83, 1), (84, 2), (85, 4), (86, 1), (87, 1), (88, 1), (89, 1), (90, 1), (91, 2), (92, 1), (93, 1), (94, 2), (95, 1), (96, 4), (97, 1), (98, 1), (99, 1), (100, 1), (101, 2), (102, 1), (103, 4), (104, 1), (105, 1), (106, 1), (107, 4), (108, 1), (109, 1), (110, 1), (111, 3), (112, 19), (113, 3), (114, 1), (115, 2), (116, 1), (117, 1), (118, 1), (119, 1), (120, 1), (121, 1), (122, 1), (123, 1), (124, 1), (125, 2), (126, 2), (127, 2), (128, 1), (129, 1), (130, 2), (131, 1), (132, 1)]]\n"
     ]
    }
   ],
   "source": [
    "# Create Dictionary\n",
    "id2word = corpora.Dictionary(data_lemmatized)\n",
    "\n",
    "# Create Corpus\n",
    "texts = data_lemmatized\n",
    "\n",
    "# Term Document Frequency\n",
    "corpus = [id2word.doc2bow(text) for text in texts]\n",
    "\n",
    "# View\n",
    "print(corpus[:1])"
   ]
  },
  {
   "cell_type": "code",
   "execution_count": 10,
   "metadata": {},
   "outputs": [
    {
     "data": {
      "text/plain": [
       "'aangeefster'"
      ]
     },
     "execution_count": 10,
     "metadata": {},
     "output_type": "execute_result"
    }
   ],
   "source": [
    "# Id word\n",
    "id2word[0]"
   ]
  },
  {
   "cell_type": "markdown",
   "metadata": {},
   "source": [
    "# Building the Topic Model"
   ]
  },
  {
   "cell_type": "code",
   "execution_count": 11,
   "metadata": {},
   "outputs": [],
   "source": [
    "# Build LDA model\n",
    "lda_model = gensim.models.ldamodel.LdaModel(corpus=corpus,\n",
    "                                           id2word=id2word,\n",
    "                                           num_topics=5, \n",
    "                                           random_state=100,\n",
    "                                           update_every=1,\n",
    "                                           chunksize=100,\n",
    "                                           passes=10,\n",
    "                                           alpha='auto',\n",
    "                                           per_word_topics=True)"
   ]
  },
  {
   "cell_type": "markdown",
   "metadata": {},
   "source": [
    "# View the topics in LDA model"
   ]
  },
  {
   "cell_type": "code",
   "execution_count": 12,
   "metadata": {},
   "outputs": [
    {
     "name": "stdout",
     "output_type": "stream",
     "text": [
      "[(0,\n",
      "  '0.024*\"ander\" + 0.023*\"althans\" + 0.021*\"naam\" + 0.020*\"verdenken\" + '\n",
      "  '0.016*\"geval\" + 0.015*\"bedrijf\" + 0.014*\"goed\" + 0.014*\"weten\" + '\n",
      "  '0.012*\"periode\" + 0.012*\"telkens\"'),\n",
      " (1,\n",
      "  '0.031*\"verbalisant\" + 0.023*\"zien\" + 0.021*\"man\" + 0.014*\"medeverdacht\" + '\n",
      "  '0.012*\"adres\" + 0.011*\"woning\" + 0.009*\"persoon\" + 0.008*\"uur\" + '\n",
      "  '0.008*\"overval\" + 0.007*\"liggen\"'),\n",
      " (2,\n",
      "  '0.063*\"verdenken\" + 0.014*\"hof\" + 0.013*\"rechtbank\" + 0.012*\"verklaren\" + '\n",
      "  '0.012*\"benadelen\" + 0.010*\"gaan\" + 0.010*\"feit\" + 0.009*\"komen\" + '\n",
      "  '0.009*\"zien\" + 0.009*\"medeverdacht\"'),\n",
      " (3,\n",
      "  '0.041*\"naam\" + 0.035*\"verdenken\" + 0.031*\"aangeefster\" + 0.022*\"laten\" + '\n",
      "  '0.019*\"zoon\" + 0.013*\"minderjarig\" + 0.011*\"kind\" + 0.009*\"telkens\" + '\n",
      "  '0.008*\"huis\" + 0.007*\"gezag\"'),\n",
      " (4,\n",
      "  '0.096*\"slachtoffer\" + 0.038*\"althans\" + 0.030*\"naam\" + 0.024*\"verdenken\" + '\n",
      "  '0.020*\"ander\" + 0.016*\"geweld\" + 0.014*\"geval\" + 0.012*\"weten\" + '\n",
      "  '0.012*\"lichaam\" + 0.011*\"hoofd\"')]\n"
     ]
    }
   ],
   "source": [
    "# Print the Keyword in the 10 topics\n",
    "pprint(lda_model.print_topics())\n",
    "doc_lda = lda_model[corpus]"
   ]
  },
  {
   "cell_type": "markdown",
   "metadata": {},
   "source": [
    "# Compute Model Perplexity and Coherence Score"
   ]
  },
  {
   "cell_type": "code",
   "execution_count": 14,
   "metadata": {},
   "outputs": [
    {
     "name": "stdout",
     "output_type": "stream",
     "text": [
      "\n",
      "Perplexity:  -7.213707384639861\n",
      "\n",
      "Coherence Score:  0.5126723333867096\n"
     ]
    }
   ],
   "source": [
    "# Compute Perplexity\n",
    "print('\\nPerplexity: ', lda_model.log_perplexity(corpus))  # a measure of how good the model is. lower the better.\n",
    "\n",
    "# Compute Coherence Score\n",
    "coherence_model_lda = CoherenceModel(model=lda_model, texts=data_lemmatized, dictionary=id2word, coherence='c_v')\n",
    "coherence_lda = coherence_model_lda.get_coherence()\n",
    "print('\\nCoherence Score: ', coherence_lda)"
   ]
  },
  {
   "cell_type": "markdown",
   "metadata": {},
   "source": [
    "# Visualize the topics-keywords"
   ]
  },
  {
   "cell_type": "code",
   "execution_count": 15,
   "metadata": {},
   "outputs": [
    {
     "data": {
      "text/html": [
       "\n",
       "<link rel=\"stylesheet\" type=\"text/css\" href=\"https://cdn.jsdelivr.net/gh/bmabey/pyLDAvis@3.3.1/pyLDAvis/js/ldavis.v1.0.0.css\">\n",
       "\n",
       "\n",
       "<div id=\"ldavis_el1207140343436870096365046189\"></div>\n",
       "<script type=\"text/javascript\">\n",
       "\n",
       "var ldavis_el1207140343436870096365046189_data = {\"mdsDat\": {\"x\": [0.14632615257987508, -0.2003384460769247, -0.17621320092743564, -0.010641820135338374, 0.240867314559823], \"y\": [0.05294990115182914, -0.08326761717479346, -0.09351263516808986, 0.2812403030872366, -0.15740995189618234], \"topics\": [1, 2, 3, 4, 5], \"cluster\": [1, 1, 1, 1, 1], \"Freq\": [32.43839648819221, 27.691896831329938, 25.671753224466386, 7.124049160632591, 7.0739042953788855]}, \"tinfo\": {\"Term\": [\"slachtoffer\", \"naam\", \"althans\", \"zien\", \"verdenken\", \"verbalisant\", \"aangeefster\", \"ander\", \"bedrijf\", \"laten\", \"geweld\", \"geval\", \"hof\", \"man\", \"lichaam\", \"medeverdacht\", \"rechtbank\", \"telkens\", \"adres\", \"verklaren\", \"zoon\", \"hoofd\", \"kenteken\", \"periode\", \"goed\", \"slaan\", \"woning\", \"verklaring\", \"kind\", \"gemeente\", \"hof\", \"oordeel\", \"sprake\", \"laste_gelegen\", \"raadsman\", \"standpunt\", \"overtuigend_bewezen\", \"vordering\", \"vrijspreken\", \"medisch\", \"afleggen\", \"advocaat_generaal\", \"verklaring\", \"vonnis_waarvan\", \"duur\", \"daarom\", \"onvoldoende\", \"voldoende\", \"wederom\", \"slechts\", \"water\", \"maat\", \"verweer\", \"overtuigend_bewees\", \"getuigen\", \"toverweging\", \"avond\", \"verzorging\", \"vorderen\", \"veroordelen\", \"getuige\", \"bewijzen\", \"vaststellen\", \"verklaren\", \"overwegen\", \"plaatsvinden\", \"officier\", \"blijken\", \"tenlastegelegen\", \"rechtbank\", \"verdediging\", \"rijden\", \"bewijsmiddel\", \"terechtzitting\", \"omstandigheid\", \"justitie\", \"toestemming\", \"komen\", \"wettig\", \"verdenken\", \"hoger_beroep\", \"gaan\", \"feit\", \"horen\", \"benadelen\", \"moment\", \"zien\", \"grond\", \"volgen\", \"medeverdacht\", \"uur\", \"staan\", \"auto\", \"stellen\", \"vervolgens\", \"maken\", \"slachtoffer\", \"geven\", \"lichaam\", \"uf\", \"kracht\", \"vagina\", \"borst\", \"danwel\", \"nijmeg\", \"scherp\", \"oor\", \"stompen\", \"verzorgen\", \"zware_mishandeling\", \"opvoeden\", \"dichtdrukken\", \"fors_stomp\", \"hard_oppervlak\", \"penis\", \"schudden\", \"mishandelen\", \"stevig\", \"naakt\", \"gelijke_dreigenen\", \"dulden\", \"intimideren\", \"gezin\", \"leven_gericht\", \"stomp\", \"heterdaad\", \"betrapping\", \"bereiden_gemakkelijk\", \"geweld\", \"bedreiging\", \"woord\", \"duwen\", \"bedreigen\", \"slachtoffer\", \"strekking\", \"hoofd\", \"voornemen\", \"drukken\", \"gezicht\", \"beroven\", \"uitvoering\", \"slaan\", \"kapot\", \"meermalen\", \"althans\", \"hard\", \"dood\", \"eenmaal\", \"naam\", \"tenlastelegging\", \"ander\", \"geval\", \"voorwerp\", \"weten\", \"laste_gelegd\", \"misdrijf\", \"gemeente\", \"vereniging\", \"verdenken\", \"brengen\", \"alleen\", \"opzettelijk\", \"voornoemd\", \"telkens\", \"goed\", \"tezamen\", \"maken\", \"woning\", \"loods\", \"valselijk\", \"volkswagen\", \"factuur\", \"gram\", \"mercedes_benz\", \"hennep\", \"kentekenen\", \"materiaal_bevattenen\", \"bedrijfsnaam\", \"euro_geboekt\", \"opiumwet_behorenen\", \"werknemer\", \"hennepplant\", \"verwerken\", \"witwas\", \"overdragen\", \"samenweefsel\", \"wijnjewoud\", \"website\", \"noordwolen\", \"valse_hoedanigheid\", \"verhullen\", \"opiumwet\", \"braak_verbreking\", \"stichting\", \"rechtspersoon\", \"verdichtsel\", \"document\", \"verworven_voorhand\", \"bedrijf\", \"kenteken\", \"vals\", \"totaal\", \"hoeveelheid\", \"stelen\", \"euro\", \"bereik\", \"gegeven\", \"merk\", \"geldbedrag\", \"bestemmen\", \"middel\", \"pand\", \"periode\", \"goed\", \"voorhanden\", \"ander\", \"zijn\", \"geval\", \"telkens\", \"adres\", \"weten\", \"althans\", \"vereniging\", \"alleen\", \"mededader\", \"naam\", \"tezamen\", \"gemeente\", \"geld\", \"ongeveer\", \"artikel\", \"oogmerk\", \"opzettelijk\", \"geheel\", \"verdenken\", \"hebben\", \"misdrijf\", \"een\", \"benadelen\", \"aangeefster\", \"gezag\", \"ouderlijk\", \"kwetsbare_positie\", \"uitbuiting\", \"arbeid\", \"roepnaam\", \"dwang\", \"koud\", \"omstandigheden_voortvloeien\", \"sub\", \"afpersing_misleiding\", \"verstandelijk\", \"hulpverlener\", \"opdragen\", \"boodschap\", \"desbevoegd\", \"positie\", \"overal\", \"innemen\", \"straffen\", \"stelselmatig\", \"intimidatie\", \"onderbrengen\", \"koken\", \"omgang\", \"levensonderhoud\", \"weed\", \"beinvloeden\", \"agressie\", \"misbruik\", \"minderjarig\", \"invloedssfeer\", \"dreiging\", \"zoon\", \"sporen\", \"onttrekken\", \"familielid\", \"beperken\", \"overwicht\", \"kaart\", \"verblijven\", \"beschikbaar\", \"kind\", \"laten\", \"huis\", \"paspoort\", \"meisje\", \"feitelijk\", \"naam\", \"vertrekken\", \"brief\", \"verdenken\", \"baren\", \"meenemen\", \"geboortedatum\", \"vriend\", \"telkens\", \"stellen\", \"aanzien\", \"feitelijkheid\", \"betalen\", \"maken\", \"voornoemd\", \"weten\", \"periode\", \"geven\", \"adres\", \"gaan\", \"woning\", \"wel\", \"schip\", \"geit\", \"lengte\", \"schip_genaamd\", \"spoor_bevat\", \"garage\", \"tape\", \"zover_inhoudenen\", \"wanneer_hypothese\", \"nbijzonderheden\", \"dossierpagina\", \"hek\", \"donor\", \"wanneer_hypothes\", \"overvallen\", \"tonbekenen\", \"tverwante_person\", \"pinautomaat\", \"bodem\", \"tablet\", \"signalement\", \"hal\", \"aanr_nl\", \"bushalte\", \"buit\", \"verpakking\", \"ndna_mengprofiel\", \"verzegelen\", \"postuur\", \"bonair\", \"achterbank\", \"bemonsteren\", \"overval\", \"verbalisant\", \"zwart\", \"pagina\", \"nikken\", \"donker\", \"man\", \"spoor\", \"dader\", \"bivakmuts\", \"wit\", \"herkennen\", \"bemonstering\", \"jas\", \"resultaat\", \"zien\", \"camerabeeld\", \"rennen\", \"proces_verbaal\", \"lopen\", \"winkel\", \"adres\", \"klein\", \"woning\", \"medeverdacht\", \"persoon\", \"beeld\", \"uur\", \"liggen\", \"plaats\", \"staan\", \"volgen\", \"richting\", \"verdenken\", \"hand\", \"aantreffen\", \"komen\"], \"Freq\": [12255.0, 7173.0, 7219.0, 2011.0, 15146.0, 1148.0, 960.0, 5216.0, 1738.0, 1258.0, 1924.0, 3424.0, 1900.0, 961.0, 1405.0, 2323.0, 1961.0, 2475.0, 1596.0, 1725.0, 640.0, 1388.0, 1227.0, 2006.0, 2414.0, 1568.0, 1439.0, 1102.0, 530.0, 1797.0, 1899.8796745393497, 867.4524138646956, 548.9292915072973, 418.88438628145946, 368.66970909579834, 326.3895966854772, 311.5766539716358, 253.35691779398167, 233.4913826359937, 219.9639659815743, 210.57904524566135, 201.00121792801463, 1098.0732543382362, 181.36269998408193, 182.39993465272278, 172.19205811966512, 166.1821931315432, 159.80100300499532, 178.86027793419916, 143.81863465813768, 148.01870657683781, 143.6876046980264, 141.39532441993825, 138.25645945510584, 131.51527624583616, 135.45203730309962, 126.86749001378685, 132.0516683919176, 117.92252448526118, 115.86532304238578, 910.1280526290877, 444.9336590802417, 288.93138026638235, 1673.0692827647947, 251.65154969963422, 296.6807076290005, 452.48555030927895, 864.7448211035291, 349.76823263347, 1813.1639717177054, 747.824431348137, 644.4449487896691, 630.6549652976723, 634.9856093156473, 489.8625618385806, 434.1552225361765, 368.1065075625208, 1320.2941799047949, 572.0532914214884, 8847.328144126815, 360.27149481478057, 1448.4700971959167, 1355.8965228317059, 445.0911305036626, 1662.4840634937455, 497.36435001036324, 1278.93090111528, 625.2115232208564, 815.3023262186761, 1239.3589047356527, 767.0305814928305, 681.2984945654349, 769.1462256010544, 515.9437540785381, 566.4707904677492, 611.741846088358, 732.4463248402899, 502.7757091242766, 1404.9930766809573, 621.3641242015535, 600.4811545105288, 285.01794751859404, 255.24235152960853, 343.198794595264, 270.45283653119617, 227.48772321518405, 221.83412568272038, 220.45158020847416, 220.3029956564964, 196.82912122888993, 214.1699742370425, 174.43062819419575, 172.39909320416618, 172.39909320416618, 172.60122626623286, 180.17566022642023, 275.48455383009565, 188.86951769352683, 169.37799961580896, 149.02058984562322, 149.0150339783095, 173.84354890840314, 142.09510352282234, 128.61079020099433, 124.61225483046103, 120.06131548671617, 119.85601362595547, 118.74862317839408, 1899.290271740379, 569.5829382969988, 628.6268991324798, 399.2523028694069, 369.54750929000716, 11522.157210918935, 338.3447812936096, 1315.8355332750848, 590.3680800530124, 363.0726065982414, 581.803557034804, 269.5351691807721, 578.0312627234499, 1287.4191983717042, 214.60832937620123, 928.451428474634, 4600.929530211348, 474.64980558867643, 417.4288672053735, 553.6286650486545, 3561.9001492137418, 1147.547251423372, 2446.143961424465, 1620.686251967756, 775.6292852777333, 1457.6907294218934, 672.3898796650309, 821.4807135416154, 915.4809072441338, 917.1182408847365, 2833.907093635222, 735.9872506696701, 842.4612319783392, 812.3329640501236, 681.299704024626, 898.7076600672447, 764.3061485030767, 693.2727935181932, 681.6103858912943, 616.285558936059, 270.8033680004308, 262.6677045939109, 253.71369698794922, 250.36156057860305, 230.1892906510187, 195.06563563609305, 188.14784739981278, 188.61331333955474, 186.7797647350618, 183.26626559210123, 179.95070076709976, 172.41509087186648, 175.24541573699904, 169.84911411480527, 168.83104972385883, 167.09017242704195, 218.20369799601465, 164.8173895181456, 158.91168687876814, 167.52382911189386, 157.98659144108868, 151.69600717043156, 151.11351474900903, 134.5831068607459, 179.30150985108676, 128.77099434804254, 121.35375681020525, 118.52112842702127, 124.21828503606784, 111.40374941036286, 1718.105597356035, 1210.6183119107993, 431.4997637245563, 467.1409338342963, 696.1774560528102, 292.0715689937677, 882.4012576473789, 436.9967860264935, 320.4098104136948, 682.7449434748004, 599.0141328831041, 294.2064384651688, 719.6237498337941, 272.8904847661588, 1343.0482376257464, 1538.134993157682, 377.95459014781403, 2625.8271254248048, 407.774356025969, 1798.3320064069626, 1307.616299425308, 916.4080169940613, 1527.1823601142828, 2611.276138362809, 1016.5483137174328, 954.9672527126908, 738.5410165389503, 2348.019949612319, 829.6054003752112, 881.0689442179884, 670.7527767345708, 456.24638050446373, 645.0907056459072, 665.1163527671838, 798.020026733968, 619.0862127165636, 2194.523238381297, 594.4821552335924, 616.2377702937232, 551.1617288782205, 635.3061374301635, 959.8871893285608, 226.85554041464636, 123.36779412213649, 116.77230252577299, 105.74884099201047, 100.29065543676543, 99.43121708210849, 91.31451715596708, 124.02891049373515, 83.7132015633158, 86.02752544637589, 81.03706862714193, 75.2992054064505, 75.7074274921053, 58.62719090472498, 53.54357762741969, 51.5877157728426, 54.425647901843995, 52.099160529058096, 51.68917155915615, 52.31621435811869, 51.044567654566436, 51.03764376670361, 49.895047846528136, 50.1751887804052, 50.231409457009164, 50.819817823591926, 49.88564242001738, 49.46527480077749, 49.37012521108589, 223.54751652151472, 407.4749952814163, 98.5984328227409, 140.63127312559584, 574.7875564758635, 51.54505198248456, 206.1554140908278, 147.98576360786765, 134.65228048236227, 89.48189188640063, 104.64046588482503, 68.26401820097279, 80.27055689195508, 349.6646399918686, 692.839557238689, 235.5754158375012, 100.36146727332097, 190.30348885697867, 117.03492903998877, 1262.7493639994093, 98.10281460895872, 134.04658394349133, 1071.5815670824095, 190.707229089909, 114.1223999199674, 134.17576760230946, 126.26667657520831, 268.2246930265511, 183.1619007440323, 155.47647655612104, 138.3970120827918, 140.02965622189717, 200.4207973403791, 165.26882198717144, 187.28863846466092, 165.8684278031091, 140.5202467162769, 144.08472739367184, 144.05832468435264, 138.00875722562108, 136.51716216312366, 201.87875091736586, 135.86378489712058, 96.51214136461056, 125.94853212111386, 75.33581769706574, 57.31706800549017, 56.00677388538795, 54.74956249927069, 53.89399834274253, 50.91148755765895, 54.110440819209394, 49.57768312819471, 47.09276146158009, 39.42682445959622, 38.96758000312783, 38.5512731524577, 38.5512731524577, 37.90132524773039, 36.376924348511835, 39.96218768804118, 33.99132865747274, 31.948424342134967, 30.02668031516259, 30.255111516045517, 28.404365556629287, 29.312591665024307, 27.60800687049965, 27.017433818803156, 26.83696821343493, 35.95688751398115, 40.149934963622854, 53.11644291177229, 257.3306023377169, 964.6101705044989, 179.11943065768023, 153.9148527949373, 161.02367427253986, 58.299558591781945, 634.4201887409157, 96.00998426399497, 133.179052345555, 69.53432346903769, 88.38765883238838, 115.69347282308, 111.32413549569982, 106.85025164171938, 57.408745017986455, 706.2884051897169, 124.93849813583647, 101.09756813939241, 192.7465950588679, 216.73121858269732, 147.05609000589862, 378.46547261042446, 107.05430244140284, 336.64857362639634, 423.10865810331137, 285.8472489668294, 116.57563896775326, 258.52995974854383, 226.93180442618635, 198.39175090026632, 177.80877281066233, 175.86620006884337, 131.3490780457829, 198.68658365895752, 122.08657957727429, 122.87767848692752, 124.10737500166039], \"Total\": [12255.0, 7173.0, 7219.0, 2011.0, 15146.0, 1148.0, 960.0, 5216.0, 1738.0, 1258.0, 1924.0, 3424.0, 1900.0, 961.0, 1405.0, 2323.0, 1961.0, 2475.0, 1596.0, 1725.0, 640.0, 1388.0, 1227.0, 2006.0, 2414.0, 1568.0, 1439.0, 1102.0, 530.0, 1797.0, 1900.6503514947974, 868.2831379935068, 549.7027468239281, 419.65842623120096, 369.4431328359326, 327.1842036251677, 312.3480626894441, 254.1534193714587, 234.26418555872962, 220.7587235794858, 211.3520091606696, 201.7718969648204, 1102.497302720899, 182.1329773084317, 183.18827191236477, 172.97247824965714, 166.95335435108856, 160.57055115232905, 179.75267049124741, 144.5931627022296, 148.81666227046998, 144.46780676147094, 142.16805042464452, 139.06551099451409, 132.28936047784703, 136.25793992804628, 127.64232503798446, 132.88597564547814, 118.69177789683188, 116.63345126102232, 922.9123251944725, 447.96174484912694, 292.4687293389124, 1725.366431911012, 254.68246978076547, 302.82922781458683, 467.39482182538245, 912.2576110430989, 359.03645134061026, 1961.9879219239776, 792.8631549180762, 682.2353824897939, 667.3064491672246, 676.6349804850115, 521.6653561641698, 463.6336647482677, 393.00143943432505, 1648.6453695429607, 650.8278999171919, 15146.0266268847, 388.97754359178236, 2037.846830463584, 1998.3364027804766, 505.8303334308918, 2714.7588935896947, 586.4398002616051, 2011.2669079990633, 822.6651173303248, 1214.1161353303792, 2323.259397348807, 1408.0144735507413, 1143.3774379639406, 1464.0939928031592, 884.6205912369231, 1316.061493190592, 2041.0301799537517, 12255.207562994243, 1077.6800152316314, 1405.8443769843136, 622.3239817035212, 601.7091778391866, 285.8699197712098, 256.1001282956759, 344.3595652319755, 271.3963865176386, 228.34613879972378, 222.6819902921378, 221.3048861206429, 221.24991108708218, 197.6844990181272, 215.11750161014422, 175.27575397017108, 173.24417073402037, 173.24417073402037, 173.453243078624, 181.07506978357742, 276.8801944229228, 189.82749752840778, 170.25378965632808, 149.87311014618868, 149.87643765097903, 174.84872558316223, 143.01285326002457, 129.48149303169407, 125.47565478221297, 120.91688689477509, 120.71047595152892, 119.606099988642, 1924.2848255294598, 578.9515201395445, 640.5704989401412, 405.67508817780225, 375.5308704915215, 12255.207562994243, 345.38789244019335, 1388.0052349885123, 614.019230891928, 374.7345094863017, 622.2156693372038, 280.86337704203396, 648.0563471195957, 1568.6498795993307, 220.16945746288457, 1152.61646187024, 7219.726429081381, 558.2195595354613, 487.3633237975568, 695.2230932287624, 7173.187392464202, 1864.7602671510176, 5216.99320439965, 3424.81047237613, 1266.6326475486985, 3359.419062869967, 1078.8625886693076, 1470.4001596461428, 1797.398275855915, 1968.004289776118, 15146.0266268847, 1385.897346097083, 1807.090941925256, 1733.4350937895279, 1259.7345485478304, 2475.0628111262977, 2414.2591458928378, 1534.3081657135858, 2041.0301799537517, 1439.3073109284937, 271.5829813368296, 263.4494758661691, 254.49411131540205, 251.14694264859244, 230.96915399074766, 195.84230494473238, 188.92687804842285, 189.3961755915255, 187.55739487979605, 184.0446198582389, 180.7335804697045, 173.19377840187474, 176.04402121798725, 170.62831810391447, 169.61120878959295, 167.86795768802997, 219.23164554628795, 165.59714887865508, 159.6887321549282, 168.3444925238078, 158.76370188942806, 152.47477961791083, 151.8893010297528, 135.36075106930255, 180.36154099894634, 129.55019622767816, 122.1358687142692, 119.30076665793831, 125.06083810875444, 112.18418096480187, 1738.822989813408, 1227.5523738421189, 437.1085379233898, 485.84450942217177, 734.8960279603525, 302.66420451083553, 961.4002486734443, 466.8563791832784, 335.98478447304706, 761.304597185192, 666.9531713108563, 312.8460660619314, 876.3222086431002, 296.6799357619743, 2006.2697720369085, 2414.2591458928378, 455.02296116987225, 5216.99320439965, 509.68115122929856, 3424.81047237613, 2475.0628111262977, 1596.567248841074, 3359.419062869967, 7219.726429081381, 1968.004289776118, 1807.090941925256, 1260.899034934849, 7173.187392464202, 1534.3081657135858, 1797.398275855915, 1198.5773938445225, 645.1415170154206, 1153.0421115832546, 1249.8020257886344, 1733.4350937895279, 1173.9205762038237, 15146.0266268847, 1122.9636558479547, 1470.4001596461428, 1013.6111141031987, 2714.7588935896947, 960.8176613217408, 227.7816272461688, 124.29230830816205, 117.69944604922527, 106.669532874314, 101.21675683854431, 100.38125815252893, 92.24057153603049, 125.34698093763697, 84.63861765492035, 87.00691266776487, 81.96157396969046, 76.24020345591033, 76.65908895892528, 59.549936921304244, 54.48647468014758, 52.51016568691099, 55.40476058916089, 53.04548628664152, 52.62834446671862, 53.268421499692025, 51.978954124941076, 51.9758637967451, 50.817700209783865, 51.112986655735035, 51.17290254951283, 51.77486401940414, 50.826449032983675, 50.409500427855924, 50.315071496467645, 229.16434351067147, 429.5398509772097, 101.72701215793218, 146.5527897238005, 640.7059797913723, 52.5639942874114, 231.92076865389882, 163.5736532374193, 150.8374593790972, 97.52401366593283, 118.80341111399808, 72.48769029224343, 89.18650771874292, 530.7540969771399, 1258.010109088461, 336.9373753152268, 120.64936716499034, 290.5918638088925, 156.69786869599864, 7173.187392464202, 122.73450229965026, 216.56111262542365, 15146.0266268847, 484.48747667088253, 162.5757371347737, 238.13426812375064, 236.4171167167225, 2475.0628111262977, 884.6205912369231, 518.9355158903863, 375.2269533268828, 400.3446817555014, 2041.0301799537517, 1259.7345485478304, 3359.419062869967, 2006.2697720369085, 1077.6800152316314, 1596.567248841074, 2037.846830463584, 1439.3073109284937, 805.030317671637, 202.75874324796547, 136.62872332111039, 97.35364215137105, 127.07148073997497, 76.10455082867098, 58.10081073754855, 56.78634847486278, 55.525330009392555, 54.666827777117, 51.6774350471379, 54.927299030188905, 50.34719502619747, 47.8631789837983, 40.198481512451636, 39.73550671911808, 39.31899613276693, 39.31899613276693, 38.67168178431451, 37.14272465579303, 40.80832988686004, 34.789864440221606, 32.73536481687071, 30.79456313174921, 31.051099801338943, 29.176845643861302, 30.110634289282597, 28.37327976196717, 27.78425462337798, 27.603597389561692, 36.99101667841781, 41.51827278576334, 55.29090557250483, 280.4490277612431, 1148.523974957391, 206.59797841365716, 178.45319625087095, 193.07770550016028, 63.48829069744266, 961.6867556474449, 112.94734920249412, 165.8144925447651, 80.2161207046166, 112.53763843380848, 159.42152086364246, 152.97668867965743, 146.400028001365, 66.12170987378332, 2011.2669079990633, 192.6034403278939, 150.91327140652584, 430.9649848980314, 527.4765884589164, 291.1876394196425, 1596.567248841074, 185.21734510941846, 1439.3073109284937, 2323.259397348807, 1371.1498289081128, 243.02059850754364, 1408.0144735507413, 1335.1420839238344, 1385.8534606931537, 1143.3774379639406, 1214.1161353303792, 743.3889102592809, 15146.0266268847, 616.5381438566191, 675.8972659014817, 1648.6453695429607], \"Category\": [\"Default\", \"Default\", \"Default\", \"Default\", \"Default\", \"Default\", \"Default\", \"Default\", \"Default\", \"Default\", \"Default\", \"Default\", \"Default\", \"Default\", \"Default\", \"Default\", \"Default\", \"Default\", \"Default\", \"Default\", \"Default\", \"Default\", \"Default\", \"Default\", \"Default\", \"Default\", \"Default\", \"Default\", \"Default\", \"Default\", \"Topic1\", \"Topic1\", \"Topic1\", \"Topic1\", \"Topic1\", \"Topic1\", \"Topic1\", \"Topic1\", \"Topic1\", \"Topic1\", \"Topic1\", \"Topic1\", \"Topic1\", \"Topic1\", \"Topic1\", \"Topic1\", \"Topic1\", \"Topic1\", \"Topic1\", \"Topic1\", \"Topic1\", \"Topic1\", \"Topic1\", \"Topic1\", \"Topic1\", \"Topic1\", \"Topic1\", \"Topic1\", \"Topic1\", \"Topic1\", \"Topic1\", \"Topic1\", \"Topic1\", \"Topic1\", \"Topic1\", \"Topic1\", \"Topic1\", \"Topic1\", \"Topic1\", \"Topic1\", \"Topic1\", \"Topic1\", \"Topic1\", \"Topic1\", \"Topic1\", \"Topic1\", \"Topic1\", \"Topic1\", \"Topic1\", \"Topic1\", \"Topic1\", \"Topic1\", \"Topic1\", \"Topic1\", \"Topic1\", \"Topic1\", \"Topic1\", \"Topic1\", \"Topic1\", \"Topic1\", \"Topic1\", \"Topic1\", \"Topic1\", \"Topic1\", \"Topic1\", \"Topic1\", \"Topic1\", \"Topic1\", \"Topic2\", \"Topic2\", \"Topic2\", \"Topic2\", \"Topic2\", \"Topic2\", \"Topic2\", \"Topic2\", \"Topic2\", \"Topic2\", \"Topic2\", \"Topic2\", \"Topic2\", \"Topic2\", \"Topic2\", \"Topic2\", \"Topic2\", \"Topic2\", \"Topic2\", \"Topic2\", \"Topic2\", \"Topic2\", \"Topic2\", \"Topic2\", \"Topic2\", \"Topic2\", \"Topic2\", \"Topic2\", \"Topic2\", \"Topic2\", \"Topic2\", \"Topic2\", \"Topic2\", \"Topic2\", \"Topic2\", \"Topic2\", \"Topic2\", \"Topic2\", \"Topic2\", \"Topic2\", \"Topic2\", \"Topic2\", \"Topic2\", \"Topic2\", \"Topic2\", \"Topic2\", \"Topic2\", \"Topic2\", \"Topic2\", \"Topic2\", \"Topic2\", \"Topic2\", \"Topic2\", \"Topic2\", \"Topic2\", \"Topic2\", \"Topic2\", \"Topic2\", \"Topic2\", \"Topic2\", \"Topic2\", \"Topic2\", \"Topic2\", \"Topic2\", \"Topic2\", \"Topic2\", \"Topic2\", \"Topic2\", \"Topic2\", \"Topic2\", \"Topic3\", \"Topic3\", \"Topic3\", \"Topic3\", \"Topic3\", \"Topic3\", \"Topic3\", \"Topic3\", \"Topic3\", \"Topic3\", \"Topic3\", \"Topic3\", \"Topic3\", \"Topic3\", \"Topic3\", \"Topic3\", \"Topic3\", \"Topic3\", \"Topic3\", \"Topic3\", \"Topic3\", \"Topic3\", \"Topic3\", \"Topic3\", \"Topic3\", \"Topic3\", \"Topic3\", \"Topic3\", \"Topic3\", \"Topic3\", \"Topic3\", \"Topic3\", \"Topic3\", \"Topic3\", \"Topic3\", \"Topic3\", \"Topic3\", \"Topic3\", \"Topic3\", \"Topic3\", \"Topic3\", \"Topic3\", \"Topic3\", \"Topic3\", \"Topic3\", \"Topic3\", \"Topic3\", \"Topic3\", \"Topic3\", \"Topic3\", \"Topic3\", \"Topic3\", \"Topic3\", \"Topic3\", \"Topic3\", \"Topic3\", \"Topic3\", \"Topic3\", \"Topic3\", \"Topic3\", \"Topic3\", \"Topic3\", \"Topic3\", \"Topic3\", \"Topic3\", \"Topic3\", \"Topic3\", \"Topic3\", \"Topic3\", \"Topic3\", \"Topic3\", \"Topic4\", \"Topic4\", \"Topic4\", \"Topic4\", \"Topic4\", \"Topic4\", \"Topic4\", \"Topic4\", \"Topic4\", \"Topic4\", \"Topic4\", \"Topic4\", \"Topic4\", \"Topic4\", \"Topic4\", \"Topic4\", \"Topic4\", \"Topic4\", \"Topic4\", \"Topic4\", \"Topic4\", \"Topic4\", \"Topic4\", \"Topic4\", \"Topic4\", \"Topic4\", \"Topic4\", \"Topic4\", \"Topic4\", \"Topic4\", \"Topic4\", \"Topic4\", \"Topic4\", \"Topic4\", \"Topic4\", \"Topic4\", \"Topic4\", \"Topic4\", \"Topic4\", \"Topic4\", \"Topic4\", \"Topic4\", \"Topic4\", \"Topic4\", \"Topic4\", \"Topic4\", \"Topic4\", \"Topic4\", \"Topic4\", \"Topic4\", \"Topic4\", \"Topic4\", \"Topic4\", \"Topic4\", \"Topic4\", \"Topic4\", \"Topic4\", \"Topic4\", \"Topic4\", \"Topic4\", \"Topic4\", \"Topic4\", \"Topic4\", \"Topic4\", \"Topic4\", \"Topic4\", \"Topic4\", \"Topic4\", \"Topic4\", \"Topic4\", \"Topic4\", \"Topic5\", \"Topic5\", \"Topic5\", \"Topic5\", \"Topic5\", \"Topic5\", \"Topic5\", \"Topic5\", \"Topic5\", \"Topic5\", \"Topic5\", \"Topic5\", \"Topic5\", \"Topic5\", \"Topic5\", \"Topic5\", \"Topic5\", \"Topic5\", \"Topic5\", \"Topic5\", \"Topic5\", \"Topic5\", \"Topic5\", \"Topic5\", \"Topic5\", \"Topic5\", \"Topic5\", \"Topic5\", \"Topic5\", \"Topic5\", \"Topic5\", \"Topic5\", \"Topic5\", \"Topic5\", \"Topic5\", \"Topic5\", \"Topic5\", \"Topic5\", \"Topic5\", \"Topic5\", \"Topic5\", \"Topic5\", \"Topic5\", \"Topic5\", \"Topic5\", \"Topic5\", \"Topic5\", \"Topic5\", \"Topic5\", \"Topic5\", \"Topic5\", \"Topic5\", \"Topic5\", \"Topic5\", \"Topic5\", \"Topic5\", \"Topic5\", \"Topic5\", \"Topic5\", \"Topic5\", \"Topic5\", \"Topic5\", \"Topic5\", \"Topic5\", \"Topic5\", \"Topic5\", \"Topic5\", \"Topic5\", \"Topic5\"], \"logprob\": [30.0, 29.0, 28.0, 27.0, 26.0, 25.0, 24.0, 23.0, 22.0, 21.0, 20.0, 19.0, 18.0, 17.0, 16.0, 15.0, 14.0, 13.0, 12.0, 11.0, 10.0, 9.0, 8.0, 7.0, 6.0, 5.0, 4.0, 3.0, 2.0, 1.0, -4.3032, -5.0871, -5.5447, -5.8151, -5.9428, -6.0646, -6.1111, -6.3179, -6.3996, -6.4592, -6.5028, -6.5494, -4.8514, -6.6522, -6.6465, -6.7041, -6.7396, -6.7788, -6.6661, -6.8842, -6.8554, -6.8851, -6.9011, -6.9236, -6.9736, -6.9441, -7.0096, -6.9695, -7.0827, -7.1003, -5.0391, -5.7548, -6.1865, -4.4303, -6.3247, -6.1601, -5.738, -5.0903, -5.9954, -4.3499, -5.2355, -5.3843, -5.4059, -5.3991, -5.6586, -5.7793, -5.9443, -4.6671, -5.5035, -2.7648, -5.9658, -4.5744, -4.6405, -5.7544, -4.4366, -5.6434, -4.6989, -5.4146, -5.1491, -4.7304, -5.2102, -5.3287, -5.2074, -5.6067, -5.5133, -5.4364, -5.2563, -5.6326, -4.4467, -5.2626, -5.2968, -6.042, -6.1523, -5.8562, -6.0944, -6.2674, -6.2926, -6.2988, -6.2995, -6.4122, -6.3277, -6.533, -6.5447, -6.5447, -6.5435, -6.5006, -6.076, -6.4534, -6.5624, -6.6904, -6.6905, -6.5363, -6.738, -6.8377, -6.8693, -6.9065, -6.9082, -6.9175, -4.1453, -5.3496, -5.251, -5.7049, -5.7822, -2.3425, -5.8704, -4.5123, -5.3138, -5.7999, -5.3284, -6.0978, -5.3349, -4.5341, -6.3257, -4.861, -3.2605, -5.5319, -5.6604, -5.378, -3.5165, -4.6491, -3.8922, -4.3039, -5.0408, -4.4099, -5.1837, -4.9834, -4.8751, -4.8733, -3.7451, -5.0933, -4.9582, -4.9946, -5.1705, -4.8935, -5.0555, -5.1531, -5.17, -5.2708, -6.0174, -6.0479, -6.0825, -6.0958, -6.1799, -6.3454, -6.3815, -6.3791, -6.3888, -6.4078, -6.4261, -6.4689, -6.4526, -6.4838, -6.4899, -6.5002, -6.2333, -6.5139, -6.5504, -6.4976, -6.5562, -6.5969, -6.6007, -6.7166, -6.4297, -6.7607, -6.82, -6.8437, -6.7967, -6.9056, -4.1698, -4.5199, -5.5515, -5.4721, -5.0732, -5.9418, -4.8361, -5.5388, -5.8492, -5.0926, -5.2235, -5.9345, -5.04, -6.0097, -4.4161, -4.2804, -5.684, -3.7456, -5.608, -4.1241, -4.4428, -4.7983, -4.2876, -3.7512, -4.6946, -4.7571, -5.0141, -3.8574, -4.8978, -4.8376, -5.1104, -5.4957, -5.1494, -5.1188, -4.9366, -5.1905, -3.925, -5.2311, -5.1951, -5.3067, -5.1646, -3.47, -4.9125, -5.5217, -5.5766, -5.6758, -5.7288, -5.7374, -5.8225, -5.5163, -5.9094, -5.8822, -5.9419, -6.0154, -6.01, -6.2656, -6.3563, -6.3936, -6.34, -6.3837, -6.3916, -6.3795, -6.4041, -6.4043, -6.4269, -6.4213, -6.4202, -6.4086, -6.4271, -6.4356, -6.4375, -4.9272, -4.3269, -5.7458, -5.3907, -3.9828, -6.3944, -5.0082, -5.3397, -5.4341, -5.8428, -5.6863, -6.1135, -5.9514, -4.4799, -3.796, -4.8748, -5.7281, -5.0882, -5.5744, -3.1958, -5.7508, -5.4387, -3.3599, -5.0861, -5.5996, -5.4377, -5.4984, -4.745, -5.1265, -5.2903, -5.4067, -5.395, -5.0364, -5.2293, -5.1042, -5.2256, -5.3915, -5.3664, -5.3666, -5.4095, -5.4204, -5.0221, -5.4181, -5.7601, -5.4939, -6.0078, -6.2812, -6.3043, -6.327, -6.3428, -6.3997, -6.3387, -6.4262, -6.4777, -6.6553, -6.667, -6.6778, -6.6778, -6.6948, -6.7358, -6.6418, -6.8037, -6.8657, -6.9277, -6.9201, -6.9832, -6.9518, -7.0117, -7.0333, -7.04, -6.7475, -6.6372, -6.3573, -4.7794, -3.4581, -5.1417, -5.2934, -5.2482, -6.2642, -3.8771, -5.7653, -5.4381, -6.088, -5.848, -5.5788, -5.6173, -5.6583, -6.2796, -3.7698, -5.502, -5.7137, -5.0684, -4.9511, -5.339, -4.3937, -5.6564, -4.5107, -4.2821, -4.6743, -5.5712, -4.7748, -4.9051, -5.0395, -5.1491, -5.1601, -5.4519, -5.038, -5.525, -5.5186, -5.5086], \"loglift\": [30.0, 29.0, 28.0, 27.0, 26.0, 25.0, 24.0, 23.0, 22.0, 21.0, 20.0, 19.0, 18.0, 17.0, 16.0, 15.0, 14.0, 13.0, 12.0, 11.0, 10.0, 9.0, 8.0, 7.0, 6.0, 5.0, 4.0, 3.0, 2.0, 1.0, 1.1254, 1.1249, 1.1244, 1.124, 1.1237, 1.1234, 1.1234, 1.1227, 1.1225, 1.1222, 1.1222, 1.122, 1.1218, 1.1216, 1.1215, 1.1213, 1.1212, 1.121, 1.1209, 1.1205, 1.1205, 1.1204, 1.1204, 1.12, 1.12, 1.1199, 1.1197, 1.1195, 1.1193, 1.1192, 1.1119, 1.119, 1.1137, 1.095, 1.1139, 1.1053, 1.0934, 1.0723, 1.0997, 1.0469, 1.0673, 1.0688, 1.0693, 1.0623, 1.0629, 1.0601, 1.0604, 0.9037, 0.9968, 0.5882, 1.0492, 0.7844, 0.738, 0.9979, 0.6354, 0.9611, 0.6731, 0.8514, 0.7276, 0.4975, 0.5184, 0.6081, 0.4821, 0.5867, 0.2829, -0.0791, -1.6915, 0.3634, 1.2834, 1.2825, 1.282, 1.281, 1.2807, 1.2807, 1.2805, 1.2803, 1.2802, 1.2802, 1.2797, 1.2797, 1.2796, 1.2792, 1.2791, 1.2791, 1.2791, 1.2791, 1.279, 1.279, 1.2789, 1.2783, 1.2783, 1.2783, 1.2776, 1.2773, 1.2771, 1.2769, 1.2769, 1.2768, 1.271, 1.2677, 1.2652, 1.2681, 1.268, 1.2224, 1.2634, 1.2306, 1.2448, 1.2524, 1.2169, 1.2429, 1.1697, 1.0865, 1.2584, 1.0678, 0.8335, 1.1219, 1.1291, 1.0563, 0.584, 0.7985, 0.5266, 0.5358, 0.7936, 0.4491, 0.8112, 0.7018, 0.6094, 0.5205, -0.3921, 0.6511, 0.5209, 0.5261, 0.6694, 0.271, 0.1339, 0.4896, 0.1873, 0.4358, 1.3569, 1.3568, 1.3567, 1.3566, 1.3564, 1.3558, 1.3556, 1.3556, 1.3556, 1.3555, 1.3554, 1.3553, 1.3552, 1.3552, 1.3552, 1.3551, 1.3551, 1.3551, 1.3549, 1.3549, 1.3549, 1.3547, 1.3547, 1.354, 1.3539, 1.3537, 1.3534, 1.3532, 1.353, 1.3528, 1.3478, 1.3459, 1.3469, 1.3205, 1.3057, 1.3242, 1.274, 1.2937, 1.3123, 1.2509, 1.2523, 1.2983, 1.1628, 1.2762, 0.9584, 0.909, 1.1742, 0.6733, 1.1367, 0.7156, 0.7217, 0.8046, 0.5714, 0.3428, 0.6992, 0.722, 0.8249, 0.243, 0.7449, 0.6468, 0.7793, 1.0133, 0.779, 0.729, 0.5841, 0.7199, -0.572, 0.7237, 0.4901, 0.7505, -0.0926, 2.6407, 2.6376, 2.6342, 2.6338, 2.633, 2.6325, 2.6322, 2.6316, 2.6311, 2.6307, 2.6304, 2.6304, 2.6293, 2.6292, 2.6261, 2.6242, 2.624, 2.6239, 2.6237, 2.6237, 2.6237, 2.6236, 2.6235, 2.6234, 2.6232, 2.6231, 2.6231, 2.623, 2.6228, 2.6227, 2.6169, 2.589, 2.6105, 2.6004, 2.5331, 2.6221, 2.5239, 2.5415, 2.5282, 2.5556, 2.5148, 2.5817, 2.5364, 2.2244, 2.0452, 2.2838, 2.4576, 2.2184, 2.3498, 0.9046, 2.4177, 2.162, -0.0069, 1.7093, 2.2878, 2.068, 2.0145, 0.4195, 1.0669, 1.4364, 1.6443, 1.5912, 0.3209, 0.6106, -0.2452, 0.1489, 0.6045, 0.2365, -0.0077, 0.2971, 0.8673, 2.6444, 2.6431, 2.6401, 2.6399, 2.6386, 2.6352, 2.6349, 2.6347, 2.6345, 2.6338, 2.6338, 2.6334, 2.6325, 2.6294, 2.6292, 2.629, 2.629, 2.6286, 2.6279, 2.6278, 2.6255, 2.6244, 2.6235, 2.6228, 2.6219, 2.6219, 2.6214, 2.6208, 2.6206, 2.6204, 2.6152, 2.6086, 2.5627, 2.4742, 2.506, 2.5008, 2.4672, 2.5635, 2.2328, 2.4863, 2.4296, 2.5059, 2.4072, 2.3282, 2.3309, 2.3338, 2.5075, 1.6023, 2.2159, 2.2481, 1.8441, 1.7593, 1.9656, 1.2093, 2.1006, 1.1959, 0.9457, 1.0808, 1.9142, 0.9538, 0.8766, 0.7049, 0.7877, 0.7167, 0.9154, -1.685, 1.0294, 0.9439, 0.0622]}, \"token.table\": {\"Topic\": [4, 5, 1, 3, 4, 5, 1, 4, 4, 5, 2, 3, 4, 5, 1, 1, 4, 4, 1, 2, 3, 4, 1, 2, 3, 5, 1, 2, 3, 4, 5, 4, 1, 2, 3, 4, 1, 2, 3, 4, 1, 2, 4, 1, 2, 1, 2, 4, 1, 3, 3, 1, 2, 5, 4, 3, 5, 1, 5, 1, 2, 3, 1, 4, 2, 2, 3, 4, 1, 2, 1, 4, 3, 5, 1, 2, 3, 4, 2, 1, 4, 5, 1, 5, 2, 5, 1, 4, 5, 5, 4, 2, 3, 1, 2, 3, 4, 5, 3, 4, 5, 5, 1, 5, 1, 2, 5, 2, 4, 2, 3, 1, 5, 5, 1, 2, 5, 2, 4, 1, 2, 2, 1, 1, 2, 4, 2, 3, 2, 3, 2, 3, 4, 3, 3, 2, 4, 1, 2, 3, 4, 1, 3, 4, 2, 4, 2, 1, 2, 4, 5, 5, 2, 3, 4, 3, 4, 1, 2, 3, 5, 5, 1, 2, 3, 4, 2, 3, 2, 2, 3, 1, 3, 1, 1, 2, 3, 1, 2, 3, 4, 5, 2, 5, 4, 1, 2, 2, 1, 2, 3, 5, 3, 1, 2, 3, 5, 5, 1, 2, 5, 1, 2, 2, 1, 2, 3, 4, 5, 3, 3, 1, 3, 5, 2, 2, 3, 1, 1, 2, 3, 1, 2, 1, 2, 5, 1, 2, 4, 4, 4, 4, 2, 2, 4, 2, 5, 1, 3, 4, 2, 3, 4, 1, 2, 1, 3, 4, 3, 2, 4, 1, 4, 5, 4, 1, 2, 3, 4, 5, 4, 1, 2, 4, 1, 2, 3, 4, 1, 1, 2, 3, 4, 5, 2, 4, 2, 1, 2, 3, 4, 5, 3, 1, 2, 5, 1, 1, 2, 3, 4, 5, 1, 4, 5, 3, 2, 3, 5, 1, 2, 3, 4, 5, 1, 1, 2, 4, 1, 2, 3, 4, 2, 4, 3, 1, 2, 3, 5, 2, 3, 4, 2, 4, 2, 4, 1, 2, 3, 1, 2, 1, 4, 5, 2, 2, 3, 4, 5, 5, 2, 1, 5, 3, 1, 4, 4, 4, 1, 4, 4, 1, 2, 3, 5, 1, 2, 4, 1, 2, 3, 4, 2, 1, 4, 3, 3, 2, 1, 2, 3, 4, 4, 4, 3, 1, 1, 2, 5, 5, 1, 3, 2, 4, 1, 3, 4, 5, 2, 3, 5, 2, 3, 4, 2, 1, 2, 3, 4, 1, 2, 3, 4, 5, 5, 1, 2, 3, 4, 5, 1, 3, 4, 5, 1, 5, 1, 1, 3, 4, 3, 1, 2, 5, 4, 5, 1, 2, 5, 1, 2, 3, 4, 3, 2, 5, 5, 2, 5, 1, 2, 1, 2, 1, 1, 3, 5, 5, 4, 1, 1, 2, 3, 4, 5, 1, 2, 3, 1, 2, 3, 4, 4, 2, 3, 2, 2, 4, 1, 2, 4, 5, 5, 2, 3, 4, 1, 4, 1, 2, 3, 4, 1, 2, 3, 4, 2, 3, 5, 1, 2, 4, 5, 1, 3, 5, 1, 5, 2, 4, 1, 2, 3, 5, 1, 3, 4, 5, 2, 1, 3, 3, 3, 1, 4, 1, 5, 2, 4, 5, 1, 4, 1, 2, 3, 4, 5, 3, 2, 3, 5, 3, 1, 3, 4, 1, 4, 5, 1, 5, 4, 1, 4, 1, 2, 3, 4, 5, 1, 3, 3, 5, 2, 1, 1, 1, 2, 3, 4, 5, 3, 1, 1, 2, 3, 4, 1, 2, 5, 1, 2, 3, 4, 5, 1, 2, 3, 4, 5, 1, 1, 1, 2, 4, 5, 1, 5, 5, 1, 3, 1, 4, 1, 2, 3, 4, 3, 1, 2, 3, 4, 5, 1, 4, 3, 2, 5, 1, 3, 5, 3, 1, 2, 3, 4, 5, 1, 2, 1, 2, 5, 1, 2, 3, 1, 2, 4, 5, 2, 1, 3, 5], \"Freq\": [0.9991489942840809, 0.9741979410992191, 0.3624811230346226, 0.4542110398842006, 0.0029590295757928376, 0.18198031891125951, 0.699508877084982, 0.29868836349358735, 0.024085780378197745, 0.9634312151279097, 0.09833597683653109, 0.5737309221800158, 0.0901935074169457, 0.23675795696948249, 0.9961744079506029, 0.9983344886946307, 0.9882679904360298, 0.9738632688505676, 0.0005533755810510623, 0.46594223924499445, 0.5284736799037645, 0.004427004648408499, 0.00027701880668828537, 0.6372817647864005, 0.36164805213155654, 0.0008310564200648561, 0.018784766657804656, 0.46885244127541004, 0.5033550739121941, 0.002108494216692359, 0.006708845234930234, 0.9879787015851019, 0.3425720500855092, 0.008672710128747069, 0.559389803304186, 0.08932891432609481, 0.5252395022314585, 0.1570937392889928, 0.3162365273513203, 0.0013660325155564592, 0.9949677739120365, 0.6047627938978452, 0.39423103629518236, 0.013314484621345895, 0.9852718619795962, 0.006909041363318091, 0.984538394272828, 0.008636301704147614, 0.011502033339314308, 0.988024663847099, 0.9943240945644404, 0.32507532482909157, 0.1933992438856621, 0.4814406709494141, 0.9720389923349242, 0.03617231404136314, 0.9585663220961231, 0.2680146913485395, 0.725600749748485, 0.6122090635468391, 0.15360480114261849, 0.23390659166801614, 0.10607444639986593, 0.8950031414988687, 0.9949325327997522, 0.055691645566639934, 0.9360480427931405, 0.00642595910384307, 0.03916494957743723, 0.9613214896280046, 0.0896996665149023, 0.8969966651490231, 0.9397592998398112, 0.05753628366366191, 0.06494403743791637, 0.004995695187532029, 0.5795006417537153, 0.349698663127242, 0.9941142146451795, 0.9455925396607003, 0.010489933086568783, 0.04345829421578496, 0.9933883978192726, 0.006697000434736669, 0.12466322120990425, 0.8726425484693298, 0.9481970767127245, 0.05152053480404399, 0.9692342264499219, 0.9732092608582988, 0.9910716433205977, 0.9957043040040738, 0.9924510458748282, 0.1356521827027371, 0.5310638641979495, 0.2453284155262267, 0.06999075384130585, 0.018038854082810786, 0.3786460043813676, 0.6187629827695519, 0.959665083120152, 0.9661493535474187, 0.3478650219639752, 0.6490019066492074, 0.9943778440391337, 0.19298674988472994, 0.8021011792084088, 0.9960519022288239, 0.990284439589225, 0.9927214463993224, 0.9915174236411888, 0.07875467972240435, 0.9135542847798904, 0.9819656988498301, 0.14157815459388473, 0.855624499502173, 0.9831177020068064, 0.03411739898928713, 0.9621106514978971, 0.029354115304403534, 0.9686858050453167, 0.9941522652612013, 0.9935133843451877, 0.014790161325780685, 0.9835457281644155, 0.9865506954762753, 0.4557961071774144, 0.5436009849670029, 0.7968665100393996, 0.20281259551544284, 0.07281046587681576, 0.9174118700478786, 0.009361345612733454, 0.9959410947993284, 0.9954331809238974, 0.09170180957093511, 0.9047911877665599, 0.6785644289486332, 0.0885736754601092, 0.21768106680874294, 0.015012487366120203, 0.14677927780001335, 0.10210732368696582, 0.7466598044609375, 0.6289526855881438, 0.3677774178439146, 0.9928183977056837, 0.7105538936263421, 0.19873917604880428, 0.07066281815068597, 0.01962856059741277, 0.9810534358544306, 0.3359449298511989, 0.10078347895535968, 0.5627077575007582, 0.9524240822449227, 0.04464487885523075, 0.020444313258065738, 0.44977489167744616, 0.5272929127809455, 0.002555539157258217, 0.9953983078680115, 0.14183481256451272, 0.2094149291393688, 0.5598303484164002, 0.08927249967295801, 0.10045682797836546, 0.8981140292394165, 0.9941743375757197, 0.5090691430447045, 0.4901529125927701, 0.9860091529368712, 0.013002318500266433, 0.9978126700680855, 0.0014599348023282017, 0.47331086291480295, 0.5249925549172213, 0.46674336805984806, 0.12990869091128973, 0.2616732202641693, 0.13083661013208464, 0.01113503064953912, 0.9868601439901171, 0.01247216611677873, 0.9965685237408368, 0.06428639131285262, 0.9353669936020056, 0.9929177466434922, 0.006213086124378219, 0.31645318660166394, 0.63704843061958, 0.040177956937645816, 0.9958039678718896, 0.7597259040570741, 0.17868753263422382, 0.04132908918070483, 0.019448983143861096, 0.9775360738765396, 0.4379291089940912, 0.3633189644988016, 0.19787907887881157, 0.14868701496069195, 0.8509196639316708, 0.9928183977056837, 0.22974919861069154, 0.211048682444705, 0.5289574572664759, 0.030277026173501986, 0.9931039847201655, 0.9950939852603435, 0.9963176211844753, 0.24463447462251822, 0.025090715345899305, 0.7276307450310798, 0.9924172138539012, 0.051707994810457854, 0.9470727470547018, 0.9996578268621128, 0.9255032994341873, 0.03856263747642447, 0.03599179497799617, 0.05187300320275514, 0.9481232252059134, 0.879741625975061, 0.017792527266911346, 0.10280126865326555, 0.20478582981613724, 0.09497313846545495, 0.7004268961827304, 0.9914023377022074, 0.9880607214023999, 0.9812246738108812, 0.995145943555885, 0.01966046144061501, 0.973192841310443, 0.26639339167091125, 0.7308741771483975, 0.9360838804396194, 0.01294125180331271, 0.04960813191269873, 0.0336690669273948, 0.084172667318487, 0.8838130068441133, 0.022709780264789377, 0.9765205513859432, 0.003258516773081047, 0.9865159530502869, 0.00977555031924314, 0.9979082175746783, 0.3391401046646142, 0.6594390924034165, 0.37793436656079377, 0.04319249903551929, 0.5776996746000704, 0.9782249731710766, 0.8006573301849214, 0.0909837875210138, 0.01152461308599508, 0.021229550421569886, 0.07521326435070473, 0.9892539818066529, 0.0016619324365154706, 0.9971594619092823, 0.9940573547904996, 0.114935860509302, 0.6228782117923464, 0.23821383992653722, 0.023172552522036694, 0.9984310425097047, 0.10254289617233033, 0.214624666407203, 0.13195442453183592, 0.5508699771118211, 0.9963674481657174, 0.9962813756590201, 0.9850339728731351, 0.9993993809000931, 0.22394620287997527, 0.36175925080611393, 0.22020128309937367, 0.023967486595850195, 0.17001935803931234, 0.9978533951797717, 0.5118710591285883, 0.0758327495005316, 0.41139266604038394, 0.9967618615388595, 0.2998485794138857, 0.33414498555599687, 0.21508746137695398, 0.09798973183460317, 0.052914455190685716, 0.33794787969311, 0.002079679259649908, 0.6592583253090207, 0.9970281370129219, 0.40605947487814137, 0.5860897498729424, 0.007930849118713699, 0.5333024807362827, 0.010330314396828721, 0.23501465252785342, 0.03916910875464224, 0.18207179124410622, 0.9965631094111096, 0.22143525617328957, 0.07381175205776319, 0.7012116445487503, 0.01474905188532162, 0.8051247146810862, 0.16137197945116596, 0.01821941703480906, 0.34412525763544743, 0.6538379895073502, 0.9956990654038202, 0.04334664485412604, 0.04334664485412604, 0.897144195011154, 0.01707595100314056, 0.17231105010314507, 0.8216156031408243, 0.005705663910700169, 0.04888952666958533, 0.9475255883105346, 0.021818403000234483, 0.9774644544105048, 0.021762783273704837, 0.5583514083659897, 0.41893357801881814, 0.003611670390813661, 0.9932093574737568, 0.8474868175357353, 0.07673421889156558, 0.07502901402730856, 0.9926357606555545, 0.4965714409945657, 0.327330079577552, 0.17607235541160485, 0.986891086089703, 0.9868439685119684, 0.9948548079966871, 0.16573638016416886, 0.8338611627009745, 0.9951896946194921, 0.96706248955592, 0.02995326295084708, 0.9770796165338096, 0.9924547721523046, 0.9392994842574813, 0.059425069412208, 0.9839091457030077, 0.19065584333965593, 0.001550047506826471, 0.7068216631128708, 0.09920304043689414, 0.05605362588031185, 0.05605362588031185, 0.8882343793341724, 0.9942896963358775, 0.4072645022949272, 0.5320842711711721, 0.06000950426742543, 0.9969373801121362, 0.9985222124703792, 0.9907651132858295, 0.9973348916399123, 0.9931072674036551, 0.9948051571732668, 0.0144222302234268, 0.4684340376569025, 0.4603575887317835, 0.05595825326689599, 0.989602668694848, 0.9802907587463326, 0.994381990140069, 0.9923380643633768, 0.9988856576011802, 0.08201133797326185, 0.9163875590925346, 0.9814899373420045, 0.9894673952900073, 0.011779373753452468, 0.07177719350208867, 0.9125957459551274, 0.061640812443258856, 0.061640812443258856, 0.011207420444228882, 0.862971374205624, 0.03370635757459169, 0.9201835617863532, 0.04718890060442837, 0.008288481104359882, 0.15748114098283775, 0.8288481104359882, 0.9973869437631756, 0.0004984374553900239, 0.24722497787345185, 0.669401502588802, 0.08274061759474396, 0.18014078023602528, 0.33037964958266985, 0.2713051427036494, 0.010210408596373902, 0.208584061325924, 0.9826311721310516, 0.2085357566271492, 0.2965681521583333, 0.3449138119992295, 0.006494193112956204, 0.1428722484850365, 0.9807507754233158, 0.019813146978248805, 0.974645489408798, 0.9781333794634339, 0.552249041894464, 0.4478322062421494, 0.9988005384413806, 0.9240627731398692, 0.02140685960941782, 0.05453652329065969, 0.9906999579548044, 0.27830554336643865, 0.053010579688845455, 0.6692585685716739, 0.12098900671611232, 0.8620466728523003, 0.5246244524470709, 0.29728718972000684, 0.1762200083860674, 0.9439557321840224, 0.051301941966522956, 0.002931539540944169, 0.9862398800538034, 0.9963939664257586, 0.9941048322218208, 0.9962579012090366, 0.9915678897126607, 0.9940628503699468, 0.9772961334305051, 0.17913493868483507, 0.8204507689942445, 0.059729710511827086, 0.9401717548050159, 0.99589771265014, 0.09739051051369957, 0.053122096643836124, 0.849953546301378, 0.9854864023682686, 0.9892703304789289, 0.9987215875707581, 0.5956038464539626, 0.10145381231814929, 0.10057921048782041, 0.04635389700743028, 0.1556791257985394, 0.9963806210322905, 0.0330399163527182, 0.9647655574993714, 0.5833009146650109, 0.002260856258391515, 0.20686834764282364, 0.20686834764282364, 0.9811663366179324, 0.9956407920918625, 0.9957530266746087, 0.9962091866901308, 0.994103672343088, 0.9761881155104369, 0.017371772813486643, 0.978609868493081, 0.9884272107020996, 0.9801920370399595, 0.9861525085521062, 0.36322310527178203, 0.5284714368136717, 0.10828008032573702, 0.9748313818642398, 0.025067092676509025, 0.08365686611198389, 0.6156287326702404, 0.291726507467431, 0.009652715320613526, 0.9384675908195471, 0.01625691889608664, 0.011823213742608467, 0.03251383779217328, 0.45166936830952414, 0.5409604266910607, 0.007169355052532129, 0.9363833387727246, 0.06106847861561247, 0.0025445199423171864, 0.9918869715877338, 0.026757531983764224, 0.9612128797244532, 0.010291358455293931, 0.9907679513670135, 0.9918869715877338, 0.9978725201945504, 0.9937232979626629, 0.04320611953644323, 0.8918977532880067, 0.03086151395460231, 0.03394766535006254, 0.5447387185344578, 0.2379236906245676, 0.033380338684640826, 0.18394697275153138, 0.9969569384148355, 0.011438806534765809, 0.9860251232968128, 0.9968861760672776, 0.9982938821013353, 0.9881398283271069, 0.010257506868447477, 0.15933494118552388, 0.8402088428635549, 0.027590891528433907, 0.9380903119667529, 0.027590891528433907, 0.943416269705821, 0.05549507468857771, 0.5841135908408005, 0.18711177986241986, 0.14492249710586155, 0.07077763867766906, 0.013138759418709088, 0.9974789209963698, 0.46595426888237057, 0.5167671662523129, 0.01727638510578037, 0.9941450712872884, 0.9696490954370713, 0.0017387610796839295, 0.02839976430150418, 0.9959208038787942, 0.001814063395043341, 0.001814063395043341, 0.9945688715014985, 0.9631148823165804, 0.9837329466647142, 0.19554403652043317, 0.7984714824584355, 0.4300710893286746, 0.4300710893286746, 0.0630669618626855, 0.00835827205409085, 0.06838586226074331, 0.9917840160207891, 0.9963964127491647, 0.9894443142106336, 0.9717734150507641, 0.9943506820819005, 0.9933328130288045, 0.9964467260762667, 0.6712702156604041, 0.12848853207732888, 0.02718026640097342, 0.02800391083736655, 0.14496142080519156, 0.9980584567837419, 0.9937793950048208, 0.136256860182609, 0.024174604225946757, 0.8307273088552612, 0.008790765173071547, 0.011400294400929037, 0.960881956649733, 0.02605781577355208, 0.07303125893153742, 0.5405900796997498, 0.24290831775054839, 0.13097997525764862, 0.011907270477968059, 0.005526464214819529, 0.6126480329571364, 0.3402722966553167, 0.002368484663494084, 0.03868524950373671, 0.9941716443287826, 0.995461720033863, 0.13535398978045546, 0.17342229940620854, 0.5329563347605434, 0.1565030506836516, 0.9946035901488122, 0.9701859008758726, 0.9878019668557368, 0.9945122927902675, 0.9979536454169472, 0.9958127437595756, 0.9837397841338994, 0.5030866429619301, 0.16148460144457014, 0.16521116917021408, 0.1701799261377393, 0.9940695445902449, 0.03512512068059531, 0.4340036097653217, 0.4545428752480427, 0.0556643861633163, 0.020539265482720986, 0.8788805766820668, 0.11984735136573638, 0.9956870334829886, 0.49109227398872113, 0.5048291208135804, 0.053315495895437985, 0.15994648768631395, 0.7819606064664237, 0.9948295213691525, 0.05071884193578359, 0.42798365249921494, 0.19106413058000668, 0.09587945461833063, 0.23414040729259, 0.017172192628602315, 0.981937196671896, 0.6359175875231949, 0.01292717535230889, 0.3510225307203875, 0.12164467893400094, 0.07651842707138769, 0.8005004678237481, 0.004682334947110786, 0.09676825557362292, 0.8974475315295675, 0.990538912433232, 0.9965374168357811, 0.0871257315207597, 0.04356286576037985, 0.8664169967897769], \"Term\": [\"aangeefster\", \"aanr_nl\", \"aantreffen\", \"aantreffen\", \"aantreffen\", \"aantreffen\", \"aanzien\", \"aanzien\", \"achterbank\", \"achterbank\", \"adres\", \"adres\", \"adres\", \"adres\", \"advocaat_generaal\", \"afleggen\", \"afpersing_misleiding\", \"agressie\", \"alleen\", \"alleen\", \"alleen\", \"alleen\", \"althans\", \"althans\", \"althans\", \"althans\", \"ander\", \"ander\", \"ander\", \"ander\", \"ander\", \"arbeid\", \"artikel\", \"artikel\", \"artikel\", \"artikel\", \"auto\", \"auto\", \"auto\", \"auto\", \"avond\", \"baren\", \"baren\", \"bedreigen\", \"bedreigen\", \"bedreiging\", \"bedreiging\", \"bedreiging\", \"bedrijf\", \"bedrijf\", \"bedrijfsnaam\", \"beeld\", \"beeld\", \"beeld\", \"beinvloeden\", \"bemonsteren\", \"bemonsteren\", \"bemonstering\", \"bemonstering\", \"benadelen\", \"benadelen\", \"benadelen\", \"beperken\", \"beperken\", \"bereiden_gemakkelijk\", \"bereik\", \"bereik\", \"bereik\", \"beroven\", \"beroven\", \"beschikbaar\", \"beschikbaar\", \"bestemmen\", \"bestemmen\", \"betalen\", \"betalen\", \"betalen\", \"betalen\", \"betrapping\", \"bewijsmiddel\", \"bewijsmiddel\", \"bewijsmiddel\", \"bewijzen\", \"bewijzen\", \"bivakmuts\", \"bivakmuts\", \"blijken\", \"blijken\", \"bodem\", \"bonair\", \"boodschap\", \"borst\", \"braak_verbreking\", \"brengen\", \"brengen\", \"brengen\", \"brengen\", \"brengen\", \"brief\", \"brief\", \"buit\", \"bushalte\", \"camerabeeld\", \"camerabeeld\", \"daarom\", \"dader\", \"dader\", \"danwel\", \"desbevoegd\", \"dichtdrukken\", \"document\", \"donker\", \"donker\", \"donor\", \"dood\", \"dood\", \"dossierpagina\", \"dreiging\", \"dreiging\", \"drukken\", \"drukken\", \"dulden\", \"duur\", \"duwen\", \"duwen\", \"dwang\", \"een\", \"een\", \"eenmaal\", \"eenmaal\", \"euro\", \"euro\", \"euro\", \"euro_geboekt\", \"factuur\", \"familielid\", \"familielid\", \"feit\", \"feit\", \"feit\", \"feit\", \"feitelijk\", \"feitelijk\", \"feitelijk\", \"feitelijkheid\", \"feitelijkheid\", \"fors_stomp\", \"gaan\", \"gaan\", \"gaan\", \"gaan\", \"garage\", \"geboortedatum\", \"geboortedatum\", \"geboortedatum\", \"gegeven\", \"gegeven\", \"geheel\", \"geheel\", \"geheel\", \"geheel\", \"geit\", \"geld\", \"geld\", \"geld\", \"geld\", \"geldbedrag\", \"geldbedrag\", \"gelijke_dreigenen\", \"gemeente\", \"gemeente\", \"getuige\", \"getuige\", \"getuigen\", \"geval\", \"geval\", \"geval\", \"geven\", \"geven\", \"geven\", \"geven\", \"geven\", \"geweld\", \"geweld\", \"gezag\", \"gezicht\", \"gezicht\", \"gezin\", \"goed\", \"goed\", \"goed\", \"goed\", \"gram\", \"grond\", \"grond\", \"grond\", \"grond\", \"hal\", \"hand\", \"hand\", \"hand\", \"hard\", \"hard\", \"hard_oppervlak\", \"hebben\", \"hebben\", \"hebben\", \"hebben\", \"hek\", \"hennep\", \"hennepplant\", \"herkennen\", \"herkennen\", \"herkennen\", \"heterdaad\", \"hoeveelheid\", \"hoeveelheid\", \"hof\", \"hoger_beroep\", \"hoger_beroep\", \"hoger_beroep\", \"hoofd\", \"hoofd\", \"horen\", \"horen\", \"horen\", \"huis\", \"huis\", \"huis\", \"hulpverlener\", \"innemen\", \"intimidatie\", \"intimideren\", \"invloedssfeer\", \"invloedssfeer\", \"jas\", \"jas\", \"justitie\", \"justitie\", \"justitie\", \"kaart\", \"kaart\", \"kaart\", \"kapot\", \"kapot\", \"kenteken\", \"kenteken\", \"kenteken\", \"kentekenen\", \"kind\", \"kind\", \"klein\", \"klein\", \"klein\", \"koken\", \"komen\", \"komen\", \"komen\", \"komen\", \"komen\", \"koud\", \"kracht\", \"kracht\", \"kwetsbare_positie\", \"laste_gelegd\", \"laste_gelegd\", \"laste_gelegd\", \"laste_gelegd\", \"laste_gelegen\", \"laten\", \"laten\", \"laten\", \"laten\", \"lengte\", \"leven_gericht\", \"levensonderhoud\", \"lichaam\", \"liggen\", \"liggen\", \"liggen\", \"liggen\", \"liggen\", \"loods\", \"lopen\", \"lopen\", \"lopen\", \"maat\", \"maken\", \"maken\", \"maken\", \"maken\", \"maken\", \"man\", \"man\", \"man\", \"materiaal_bevattenen\", \"mededader\", \"mededader\", \"mededader\", \"medeverdacht\", \"medeverdacht\", \"medeverdacht\", \"medeverdacht\", \"medeverdacht\", \"medisch\", \"meenemen\", \"meenemen\", \"meenemen\", \"meermalen\", \"meermalen\", \"meermalen\", \"meermalen\", \"meisje\", \"meisje\", \"mercedes_benz\", \"merk\", \"merk\", \"merk\", \"merk\", \"middel\", \"middel\", \"middel\", \"minderjarig\", \"minderjarig\", \"misbruik\", \"misbruik\", \"misdrijf\", \"misdrijf\", \"misdrijf\", \"mishandelen\", \"mishandelen\", \"moment\", \"moment\", \"moment\", \"naakt\", \"naam\", \"naam\", \"naam\", \"nbijzonderheden\", \"ndna_mengprofiel\", \"nijmeg\", \"nikken\", \"nikken\", \"noordwolen\", \"officier\", \"officier\", \"omgang\", \"omstandigheden_voortvloeien\", \"omstandigheid\", \"omstandigheid\", \"onderbrengen\", \"ongeveer\", \"ongeveer\", \"ongeveer\", \"ongeveer\", \"onttrekken\", \"onttrekken\", \"onttrekken\", \"onvoldoende\", \"oogmerk\", \"oogmerk\", \"oogmerk\", \"oor\", \"oordeel\", \"opdragen\", \"opiumwet\", \"opiumwet_behorenen\", \"opvoeden\", \"opzettelijk\", \"opzettelijk\", \"opzettelijk\", \"opzettelijk\", \"ouderlijk\", \"overal\", \"overdragen\", \"overtuigend_bewees\", \"overtuigend_bewezen\", \"overval\", \"overval\", \"overvallen\", \"overwegen\", \"overwegen\", \"overwicht\", \"overwicht\", \"pagina\", \"pagina\", \"pagina\", \"pagina\", \"pand\", \"pand\", \"pand\", \"paspoort\", \"paspoort\", \"paspoort\", \"penis\", \"periode\", \"periode\", \"periode\", \"periode\", \"persoon\", \"persoon\", \"persoon\", \"persoon\", \"persoon\", \"pinautomaat\", \"plaats\", \"plaats\", \"plaats\", \"plaats\", \"plaats\", \"plaatsvinden\", \"plaatsvinden\", \"positie\", \"postuur\", \"proces_verbaal\", \"proces_verbaal\", \"raadsman\", \"rechtbank\", \"rechtbank\", \"rechtbank\", \"rechtspersoon\", \"rennen\", \"rennen\", \"rennen\", \"resultaat\", \"resultaat\", \"richting\", \"richting\", \"richting\", \"rijden\", \"rijden\", \"rijden\", \"roepnaam\", \"samenweefsel\", \"scherp\", \"schip\", \"schip_genaamd\", \"schudden\", \"signalement\", \"slaan\", \"slaan\", \"slachtoffer\", \"slachtoffer\", \"slechts\", \"spoor\", \"spoor\", \"spoor\", \"spoor_bevat\", \"sporen\", \"sprake\", \"staan\", \"staan\", \"staan\", \"staan\", \"staan\", \"standpunt\", \"stelen\", \"stelen\", \"stellen\", \"stellen\", \"stellen\", \"stellen\", \"stelselmatig\", \"stevig\", \"stichting\", \"stomp\", \"stompen\", \"straffen\", \"strekking\", \"strekking\", \"sub\", \"tablet\", \"tape\", \"telkens\", \"telkens\", \"telkens\", \"tenlastegelegen\", \"tenlastegelegen\", \"tenlastelegging\", \"tenlastelegging\", \"tenlastelegging\", \"tenlastelegging\", \"terechtzitting\", \"terechtzitting\", \"terechtzitting\", \"terechtzitting\", \"tezamen\", \"tezamen\", \"tezamen\", \"toestemming\", \"toestemming\", \"toestemming\", \"tonbekenen\", \"totaal\", \"totaal\", \"totaal\", \"toverweging\", \"tverwante_person\", \"uf\", \"uitbuiting\", \"uitvoering\", \"uitvoering\", \"uitvoering\", \"uitvoering\", \"uur\", \"uur\", \"uur\", \"uur\", \"vagina\", \"vals\", \"vals\", \"valse_hoedanigheid\", \"valselijk\", \"vaststellen\", \"vaststellen\", \"verbalisant\", \"verbalisant\", \"verblijven\", \"verblijven\", \"verblijven\", \"verdediging\", \"verdediging\", \"verdenken\", \"verdenken\", \"verdenken\", \"verdenken\", \"verdenken\", \"verdichtsel\", \"vereniging\", \"vereniging\", \"vereniging\", \"verhullen\", \"verklaren\", \"verklaren\", \"verklaren\", \"verklaring\", \"verklaring\", \"verklaring\", \"veroordelen\", \"verpakking\", \"verstandelijk\", \"vertrekken\", \"vertrekken\", \"vervolgens\", \"vervolgens\", \"vervolgens\", \"vervolgens\", \"vervolgens\", \"verweer\", \"verwerken\", \"verworven_voorhand\", \"verzegelen\", \"verzorgen\", \"verzorging\", \"voldoende\", \"volgen\", \"volgen\", \"volgen\", \"volgen\", \"volgen\", \"volkswagen\", \"vonnis_waarvan\", \"voorhanden\", \"voorhanden\", \"voorhanden\", \"voorhanden\", \"voornemen\", \"voornemen\", \"voornemen\", \"voornoemd\", \"voornoemd\", \"voornoemd\", \"voornoemd\", \"voornoemd\", \"voorwerp\", \"voorwerp\", \"voorwerp\", \"voorwerp\", \"voorwerp\", \"vorderen\", \"vordering\", \"vriend\", \"vriend\", \"vriend\", \"vriend\", \"vrijspreken\", \"wanneer_hypothes\", \"wanneer_hypothese\", \"water\", \"website\", \"wederom\", \"weed\", \"wel\", \"wel\", \"wel\", \"wel\", \"werknemer\", \"weten\", \"weten\", \"weten\", \"weten\", \"weten\", \"wettig\", \"wettig\", \"wijnjewoud\", \"winkel\", \"winkel\", \"wit\", \"wit\", \"wit\", \"witwas\", \"woning\", \"woning\", \"woning\", \"woning\", \"woning\", \"woord\", \"woord\", \"zien\", \"zien\", \"zien\", \"zijn\", \"zijn\", \"zijn\", \"zoon\", \"zoon\", \"zoon\", \"zover_inhoudenen\", \"zware_mishandeling\", \"zwart\", \"zwart\", \"zwart\"]}, \"R\": 30, \"lambda.step\": 0.01, \"plot.opts\": {\"xlab\": \"PC1\", \"ylab\": \"PC2\"}, \"topic.order\": [3, 5, 1, 4, 2]};\n",
       "\n",
       "function LDAvis_load_lib(url, callback){\n",
       "  var s = document.createElement('script');\n",
       "  s.src = url;\n",
       "  s.async = true;\n",
       "  s.onreadystatechange = s.onload = callback;\n",
       "  s.onerror = function(){console.warn(\"failed to load library \" + url);};\n",
       "  document.getElementsByTagName(\"head\")[0].appendChild(s);\n",
       "}\n",
       "\n",
       "if(typeof(LDAvis) !== \"undefined\"){\n",
       "   // already loaded: just create the visualization\n",
       "   !function(LDAvis){\n",
       "       new LDAvis(\"#\" + \"ldavis_el1207140343436870096365046189\", ldavis_el1207140343436870096365046189_data);\n",
       "   }(LDAvis);\n",
       "}else if(typeof define === \"function\" && define.amd){\n",
       "   // require.js is available: use it to load d3/LDAvis\n",
       "   require.config({paths: {d3: \"https://d3js.org/d3.v5\"}});\n",
       "   require([\"d3\"], function(d3){\n",
       "      window.d3 = d3;\n",
       "      LDAvis_load_lib(\"https://cdn.jsdelivr.net/gh/bmabey/pyLDAvis@3.3.1/pyLDAvis/js/ldavis.v3.0.0.js\", function(){\n",
       "        new LDAvis(\"#\" + \"ldavis_el1207140343436870096365046189\", ldavis_el1207140343436870096365046189_data);\n",
       "      });\n",
       "    });\n",
       "}else{\n",
       "    // require.js not available: dynamically load d3 & LDAvis\n",
       "    LDAvis_load_lib(\"https://d3js.org/d3.v5.js\", function(){\n",
       "         LDAvis_load_lib(\"https://cdn.jsdelivr.net/gh/bmabey/pyLDAvis@3.3.1/pyLDAvis/js/ldavis.v3.0.0.js\", function(){\n",
       "                 new LDAvis(\"#\" + \"ldavis_el1207140343436870096365046189\", ldavis_el1207140343436870096365046189_data);\n",
       "            })\n",
       "         });\n",
       "}\n",
       "</script>"
      ],
      "text/plain": [
       "PreparedData(topic_coordinates=              x         y  topics  cluster       Freq\n",
       "topic                                                \n",
       "2      0.146326  0.052950       1        1  32.438396\n",
       "4     -0.200338 -0.083268       2        1  27.691897\n",
       "0     -0.176213 -0.093513       3        1  25.671753\n",
       "3     -0.010642  0.281240       4        1   7.124049\n",
       "1      0.240867 -0.157410       5        1   7.073904, topic_info=            Term          Freq         Total Category  logprob  loglift\n",
       "584  slachtoffer  12255.000000  12255.000000  Default  30.0000  30.0000\n",
       "59          naam   7173.000000   7173.000000  Default  29.0000  29.0000\n",
       "171      althans   7219.000000   7219.000000  Default  28.0000  28.0000\n",
       "695         zien   2011.000000   2011.000000  Default  27.0000  27.0000\n",
       "112    verdenken  15146.000000  15146.000000  Default  26.0000  26.0000\n",
       "..           ...           ...           ...      ...      ...      ...\n",
       "154     richting    131.349078    743.388910   Topic5  -5.4519   0.9154\n",
       "112    verdenken    198.686584  15146.026627   Topic5  -5.0380  -1.6850\n",
       "399         hand    122.086580    616.538144   Topic5  -5.5250   1.0294\n",
       "225   aantreffen    122.877678    675.897266   Topic5  -5.5186   0.9439\n",
       "46         komen    124.107375   1648.645370   Topic5  -5.5086   0.0622\n",
       "\n",
       "[379 rows x 6 columns], token_table=       Topic      Freq                Term\n",
       "term                                      \n",
       "0          4  0.999149         aangeefster\n",
       "14661      5  0.974198             aanr_nl\n",
       "225        1  0.362481          aantreffen\n",
       "225        3  0.454211          aantreffen\n",
       "225        4  0.002959          aantreffen\n",
       "...      ...       ...                 ...\n",
       "2850       5  0.990539    zover_inhoudenen\n",
       "700        2  0.996537  zware_mishandeling\n",
       "1144       1  0.087126               zwart\n",
       "1144       3  0.043563               zwart\n",
       "1144       5  0.866417               zwart\n",
       "\n",
       "[632 rows x 3 columns], R=30, lambda_step=0.01, plot_opts={'xlab': 'PC1', 'ylab': 'PC2'}, topic_order=[3, 5, 1, 4, 2])"
      ]
     },
     "execution_count": 15,
     "metadata": {},
     "output_type": "execute_result"
    }
   ],
   "source": [
    "# Visualize the topics\n",
    "pyLDAvis.enable_notebook()\n",
    "vis = gensimvis.prepare(lda_model, corpus, id2word)\n",
    "vis"
   ]
  },
  {
   "cell_type": "markdown",
   "metadata": {},
   "source": [
    "# How to find the optimal number fo topics for LDA?"
   ]
  },
  {
   "cell_type": "code",
   "execution_count": 16,
   "metadata": {},
   "outputs": [],
   "source": [
    "def compute_coherence_values(dictionary, corpus, texts, limit, start=2, step=3):\n",
    "    \"\"\"\n",
    "    Compute c_v coherence for various number of topics\n",
    "\n",
    "    Parameters:\n",
    "    ----------\n",
    "    dictionary : Gensim dictionary\n",
    "    corpus : Gensim corpus\n",
    "    texts : List of input texts\n",
    "    limit : Max num of topics\n",
    "\n",
    "    Returns:\n",
    "    -------\n",
    "    model_list : List of LDA topic models\n",
    "    coherence_values : Coherence values corresponding to the LDA model with respective number of topics\n",
    "    \"\"\"\n",
    "    coherence_values = []\n",
    "    model_list = []\n",
    "    for num_topics in range(start, limit, step):\n",
    "        model = gensim.models.ldamodel.LdaModel(corpus=corpus, num_topics=num_topics, id2word=id2word)\n",
    "        model_list.append(model)\n",
    "        coherencemodel = CoherenceModel(model=model, texts=texts, dictionary=dictionary, coherence='c_v')\n",
    "        coherence_values.append(coherencemodel.get_coherence())\n",
    "\n",
    "    return model_list, coherence_values\n"
   ]
  },
  {
   "cell_type": "code",
   "execution_count": 17,
   "metadata": {},
   "outputs": [],
   "source": [
    "# Can take a long time to run.\n",
    "model_list, coherence_values = compute_coherence_values(dictionary=id2word, corpus=corpus, texts=data_lemmatized, start=2, limit=40, step=6)"
   ]
  },
  {
   "cell_type": "code",
   "execution_count": 18,
   "metadata": {},
   "outputs": [
    {
     "data": {
      "image/png": "[encoded data removed]",
      "text/plain": [
       "<Figure size 432x288 with 1 Axes>"
      ]
     },
     "metadata": {
      "needs_background": "light"
     },
     "output_type": "display_data"
    }
   ],
   "source": [
    "# Show graph\n",
    "\n",
    "plt.plot(coherence_values)\n",
    "plt.xlabel(\"Num Topics\")\n",
    "plt.ylabel(\"Coherence score\")\n",
    "plt.legend((\"coherence_values\"), loc='best')\n",
    "plt.show()"
   ]
  },
  {
   "cell_type": "code",
   "execution_count": 19,
   "metadata": {},
   "outputs": [
    {
     "data": {
      "text/plain": [
       "[0.3592820724024158,\n",
       " 0.32029040051631297,\n",
       " 0.3307766218700309,\n",
       " 0.31585213117542377,\n",
       " 0.344116876258215,\n",
       " 0.319719487315584,\n",
       " 0.33459540261323845]"
      ]
     },
     "execution_count": 19,
     "metadata": {},
     "output_type": "execute_result"
    }
   ],
   "source": [
    "coherence_values"
   ]
  },
  {
   "cell_type": "code",
   "execution_count": null,
   "metadata": {},
   "outputs": [],
   "source": [
    "# Basic descriptive statistic"
   ]
  },
  {
   "cell_type": "code",
   "execution_count": null,
   "metadata": {},
   "outputs": [],
   "source": []
  },
  {
   "cell_type": "code",
   "execution_count": null,
   "metadata": {},
   "outputs": [],
   "source": []
  }
 ],
 "metadata": {
  "interpreter": {
   "hash": "40d3a090f54c6569ab1632332b64b2c03c39dcf918b08424e98f38b5ae0af88f"
  },
  "kernelspec": {
   "display_name": "Python 3",
   "language": "python",
   "name": "python3"
  },
  "language_info": {
   "codemirror_mode": {
    "name": "ipython",
    "version": 3
   },
   "file_extension": ".py",
   "mimetype": "text/x-python",
   "name": "python",
   "nbconvert_exporter": "python",
   "pygments_lexer": "ipython3",
   "version": "3.7.10"
  }
 },
 "nbformat": 4,
 "nbformat_minor": 4
}
