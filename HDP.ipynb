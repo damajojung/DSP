{
 "cells": [
  {
   "cell_type": "markdown",
   "metadata": {},
   "source": [
    "# HDP Model"
   ]
  },
  {
   "cell_type": "code",
   "execution_count": 18,
   "metadata": {},
   "outputs": [],
   "source": [
    "import re\n",
    "import numpy as np\n",
    "import pandas as pd\n",
    "from pprint import pprint\n",
    "\n",
    "# Gensim\n",
    "import gensim\n",
    "import gensim.corpora as corpora\n",
    "from gensim.utils import simple_preprocess\n",
    "from gensim.models import CoherenceModel\n",
    "\n",
    "# spacy for lemmatization\n",
    "import spacy\n",
    "\n",
    "# Plotting tools\n",
    "import pyLDAvis\n",
    "# import pyLDAvis.gensim  # Author: don't skip this\n",
    "# pyLDAvis.gensim.prepare\n",
    "\n",
    "# I think i need another one:\n",
    "import pyLDAvis.gensim_models\n",
    "import pyLDAvis.gensim_models as gensimvis\n",
    "\n",
    "# Plots\n",
    "import matplotlib.pyplot as plt\n",
    "%matplotlib inline\n",
    "\n",
    "# Enable logging for gensim - optional\n",
    "import logging\n",
    "logging.basicConfig(format='%(asctime)s : %(levelname)s : %(message)s', level=logging.ERROR)\n",
    "\n",
    "import warnings\n",
    "warnings.filterwarnings(\"ignore\",category=DeprecationWarning)"
   ]
  },
  {
   "cell_type": "code",
   "execution_count": 19,
   "metadata": {},
   "outputs": [],
   "source": [
    "# NLTK Stop words\n",
    "from nltk.corpus import stopwords\n",
    "stop_words = stopwords.words('dutch')\n",
    "stop_words.extend(['tenlastelegging\\\\n\\\\n\\\\naan', '\\\\n\\\\n\\\\n\\\\n\\\\n\\\\n', '\\\\n\\\\n\\\\n\\\\n\\\\n', '\\\\n\\\\n', 'een', '\\\\n'])"
   ]
  },
  {
   "cell_type": "markdown",
   "metadata": {},
   "source": [
    "# Data"
   ]
  },
  {
   "cell_type": "code",
   "execution_count": 20,
   "metadata": {},
   "outputs": [
    {
     "data": {
      "text/html": [
       "<div>\n",
       "<style scoped>\n",
       "    .dataframe tbody tr th:only-of-type {\n",
       "        vertical-align: middle;\n",
       "    }\n",
       "\n",
       "    .dataframe tbody tr th {\n",
       "        vertical-align: top;\n",
       "    }\n",
       "\n",
       "    .dataframe thead th {\n",
       "        text-align: right;\n",
       "    }\n",
       "</style>\n",
       "<table border=\"1\" class=\"dataframe\">\n",
       "  <thead>\n",
       "    <tr style=\"text-align: right;\">\n",
       "      <th></th>\n",
       "      <th>Unnamed: 0</th>\n",
       "      <th>ecli</th>\n",
       "      <th>subject</th>\n",
       "      <th>spatial</th>\n",
       "      <th>case_nr</th>\n",
       "      <th>date</th>\n",
       "      <th>bewijs</th>\n",
       "      <th>tll</th>\n",
       "    </tr>\n",
       "    <tr>\n",
       "      <th>filename</th>\n",
       "      <th></th>\n",
       "      <th></th>\n",
       "      <th></th>\n",
       "      <th></th>\n",
       "      <th></th>\n",
       "      <th></th>\n",
       "      <th></th>\n",
       "      <th></th>\n",
       "    </tr>\n",
       "  </thead>\n",
       "  <tbody>\n",
       "    <tr>\n",
       "      <th>ECLI_NL_GHSHE_2021_1801.xml</th>\n",
       "      <td>9</td>\n",
       "      <td>ECLI:NL:GHSHE:2021:1801</td>\n",
       "      <td>Strafrecht</td>\n",
       "      <td>'s-Hertogenbosch</td>\n",
       "      <td>20-003457-18</td>\n",
       "      <td>2021-02-10</td>\n",
       "      <td>['[\\'\\\\n\\\\n\\\\n\\\\n\\\\n\\\\nbewijsmiddelen\\\\n\\\\n\\\\n...</td>\n",
       "      <td>[]</td>\n",
       "    </tr>\n",
       "    <tr>\n",
       "      <th>ECLI_NL_GHARL_2020_820.xml</th>\n",
       "      <td>10</td>\n",
       "      <td>ECLI:NL:GHARL:2020:820</td>\n",
       "      <td>Strafrecht</td>\n",
       "      <td>Leeuwarden</td>\n",
       "      <td>21-001899-19</td>\n",
       "      <td>2020-01-30</td>\n",
       "      <td>[\"['\\\\n\\\\n\\\\n\\\\n\\\\n\\\\nbewijsmiddelen, feiten e...</td>\n",
       "      <td>[\"[' tenlastelegging\\\\n\\\\n\\\\naan verdachte is ...</td>\n",
       "    </tr>\n",
       "    <tr>\n",
       "      <th>ECLI_NL_RBROT_2021_2966.xml</th>\n",
       "      <td>24</td>\n",
       "      <td>ECLI:NL:RBROT:2021:2966</td>\n",
       "      <td>Strafrecht</td>\n",
       "      <td>Rotterdam</td>\n",
       "      <td>10.295806.20</td>\n",
       "      <td>2021-02-09</td>\n",
       "      <td>['[\\'\\\\n\\\\nbewijswaardering\\\\n\\\\n\\\\n4.1.1.\\\\n\\...</td>\n",
       "      <td>[]</td>\n",
       "    </tr>\n",
       "    <tr>\n",
       "      <th>ECLI_NL_RBMNE_2019_6577.xml</th>\n",
       "      <td>28</td>\n",
       "      <td>ECLI:NL:RBMNE:2019:6577</td>\n",
       "      <td>Strafrecht</td>\n",
       "      <td>Utrecht</td>\n",
       "      <td>16/018445-18</td>\n",
       "      <td>2019-01-18</td>\n",
       "      <td>[\"['\\\\n\\\\n\\\\nbewijsmiddelen\\\\n\\\\n\\\\n\\\\n       ...</td>\n",
       "      <td>[\"['\\\\n\\\\n2tenlastelegging\\\\n\\\\n\\\\nde tenlaste...</td>\n",
       "    </tr>\n",
       "    <tr>\n",
       "      <th>ECLI_NL_GHAMS_2018_185.xml</th>\n",
       "      <td>32</td>\n",
       "      <td>ECLI:NL:GHAMS:2018:185</td>\n",
       "      <td>Strafrecht</td>\n",
       "      <td>Amsterdam</td>\n",
       "      <td>23-002003-17</td>\n",
       "      <td>2018-01-24</td>\n",
       "      <td>[\"['\\\\n\\\\n\\\\n\\\\n\\\\n\\\\nbewijsverweren\\\\n\\\\n\\\\n\\...</td>\n",
       "      <td>[]</td>\n",
       "    </tr>\n",
       "    <tr>\n",
       "      <th>...</th>\n",
       "      <td>...</td>\n",
       "      <td>...</td>\n",
       "      <td>...</td>\n",
       "      <td>...</td>\n",
       "      <td>...</td>\n",
       "      <td>...</td>\n",
       "      <td>...</td>\n",
       "      <td>...</td>\n",
       "    </tr>\n",
       "    <tr>\n",
       "      <th>ECLI_NL_RBLIM_2019_553.xml</th>\n",
       "      <td>3415</td>\n",
       "      <td>ECLI:NL:RBLIM:2019:553</td>\n",
       "      <td>Strafrecht</td>\n",
       "      <td>Maastricht</td>\n",
       "      <td>03/700387-18</td>\n",
       "      <td>2019-01-23</td>\n",
       "      <td>[\"['\\\\n\\\\n\\\\n\\\\n\\\\nbewijsoverweging\\\\n\\\\n\\\\n\\\\...</td>\n",
       "      <td>[\"[' tenlastelegging\\\\n\\\\nde tenlastelegging i...</td>\n",
       "    </tr>\n",
       "    <tr>\n",
       "      <th>ECLI_NL_GHSHE_2020_1165.xml</th>\n",
       "      <td>3418</td>\n",
       "      <td>ECLI:NL:GHSHE:2020:1165</td>\n",
       "      <td>Strafrecht</td>\n",
       "      <td>'s-Hertogenbosch</td>\n",
       "      <td>20-002048-18</td>\n",
       "      <td>2020-01-29</td>\n",
       "      <td>[\"['\\\\n\\\\n\\\\n\\\\n\\\\n\\\\nbewijsmiddelen\\\\n\\\\n\\\\n\\...</td>\n",
       "      <td>['[\"\\\\n\\\\n\\\\n\\\\n\\\\n\\\\ntenlastelegging\\\\n\\\\n\\\\n...</td>\n",
       "    </tr>\n",
       "    <tr>\n",
       "      <th>ECLI_NL_RBMNE_2019_275.xml</th>\n",
       "      <td>3422</td>\n",
       "      <td>ECLI:NL:RBMNE:2019:275</td>\n",
       "      <td>Strafrecht; Materieel strafrecht</td>\n",
       "      <td>Lelystad</td>\n",
       "      <td>16/659548-18</td>\n",
       "      <td>2019-01-25</td>\n",
       "      <td>[\"['\\\\n\\\\n\\\\n\\\\n\\\\nbewijsmiddelen\\\\n\\\\n\\\\n\\\\n ...</td>\n",
       "      <td>[\"['\\\\n\\\\n2tenlastelegging\\\\n\\\\n\\\\nde tenlaste...</td>\n",
       "    </tr>\n",
       "    <tr>\n",
       "      <th>ECLI_NL_RBMNE_2020_153.xml</th>\n",
       "      <td>3426</td>\n",
       "      <td>ECLI:NL:RBMNE:2020:153</td>\n",
       "      <td>Strafrecht</td>\n",
       "      <td>Utrecht</td>\n",
       "      <td>16/660053-17 (P)</td>\n",
       "      <td>2020-01-20</td>\n",
       "      <td>[\"['\\\\n\\\\n\\\\nbewijsmiddelen ten aanzien van he...</td>\n",
       "      <td>[]</td>\n",
       "    </tr>\n",
       "    <tr>\n",
       "      <th>ECLI_NL_GHARL_2021_1849.xml</th>\n",
       "      <td>3432</td>\n",
       "      <td>ECLI:NL:GHARL:2021:1849</td>\n",
       "      <td>Strafrecht</td>\n",
       "      <td>Leeuwarden</td>\n",
       "      <td>21-002353-20</td>\n",
       "      <td>2021-02-26</td>\n",
       "      <td>[\"['\\\\n\\\\n\\\\n\\\\nbewijsmiddel 3: \\\\n\\\\nhet hof ...</td>\n",
       "      <td>[]</td>\n",
       "    </tr>\n",
       "  </tbody>\n",
       "</table>\n",
       "<p>669 rows × 8 columns</p>\n",
       "</div>"
      ],
      "text/plain": [
       "                             Unnamed: 0                     ecli  \\\n",
       "filename                                                           \n",
       "ECLI_NL_GHSHE_2021_1801.xml           9  ECLI:NL:GHSHE:2021:1801   \n",
       "ECLI_NL_GHARL_2020_820.xml           10   ECLI:NL:GHARL:2020:820   \n",
       "ECLI_NL_RBROT_2021_2966.xml          24  ECLI:NL:RBROT:2021:2966   \n",
       "ECLI_NL_RBMNE_2019_6577.xml          28  ECLI:NL:RBMNE:2019:6577   \n",
       "ECLI_NL_GHAMS_2018_185.xml           32   ECLI:NL:GHAMS:2018:185   \n",
       "...                                 ...                      ...   \n",
       "ECLI_NL_RBLIM_2019_553.xml         3415   ECLI:NL:RBLIM:2019:553   \n",
       "ECLI_NL_GHSHE_2020_1165.xml        3418  ECLI:NL:GHSHE:2020:1165   \n",
       "ECLI_NL_RBMNE_2019_275.xml         3422   ECLI:NL:RBMNE:2019:275   \n",
       "ECLI_NL_RBMNE_2020_153.xml         3426   ECLI:NL:RBMNE:2020:153   \n",
       "ECLI_NL_GHARL_2021_1849.xml        3432  ECLI:NL:GHARL:2021:1849   \n",
       "\n",
       "                                                      subject  \\\n",
       "filename                                                        \n",
       "ECLI_NL_GHSHE_2021_1801.xml                        Strafrecht   \n",
       "ECLI_NL_GHARL_2020_820.xml                         Strafrecht   \n",
       "ECLI_NL_RBROT_2021_2966.xml                        Strafrecht   \n",
       "ECLI_NL_RBMNE_2019_6577.xml                        Strafrecht   \n",
       "ECLI_NL_GHAMS_2018_185.xml                         Strafrecht   \n",
       "...                                                       ...   \n",
       "ECLI_NL_RBLIM_2019_553.xml                         Strafrecht   \n",
       "ECLI_NL_GHSHE_2020_1165.xml                        Strafrecht   \n",
       "ECLI_NL_RBMNE_2019_275.xml   Strafrecht; Materieel strafrecht   \n",
       "ECLI_NL_RBMNE_2020_153.xml                         Strafrecht   \n",
       "ECLI_NL_GHARL_2021_1849.xml                        Strafrecht   \n",
       "\n",
       "                                      spatial           case_nr        date  \\\n",
       "filename                                                                      \n",
       "ECLI_NL_GHSHE_2021_1801.xml  's-Hertogenbosch      20-003457-18  2021-02-10   \n",
       "ECLI_NL_GHARL_2020_820.xml         Leeuwarden      21-001899-19  2020-01-30   \n",
       "ECLI_NL_RBROT_2021_2966.xml         Rotterdam      10.295806.20  2021-02-09   \n",
       "ECLI_NL_RBMNE_2019_6577.xml           Utrecht      16/018445-18  2019-01-18   \n",
       "ECLI_NL_GHAMS_2018_185.xml          Amsterdam      23-002003-17  2018-01-24   \n",
       "...                                       ...               ...         ...   \n",
       "ECLI_NL_RBLIM_2019_553.xml         Maastricht      03/700387-18  2019-01-23   \n",
       "ECLI_NL_GHSHE_2020_1165.xml  's-Hertogenbosch      20-002048-18  2020-01-29   \n",
       "ECLI_NL_RBMNE_2019_275.xml           Lelystad      16/659548-18  2019-01-25   \n",
       "ECLI_NL_RBMNE_2020_153.xml            Utrecht  16/660053-17 (P)  2020-01-20   \n",
       "ECLI_NL_GHARL_2021_1849.xml        Leeuwarden      21-002353-20  2021-02-26   \n",
       "\n",
       "                                                                        bewijs  \\\n",
       "filename                                                                         \n",
       "ECLI_NL_GHSHE_2021_1801.xml  ['[\\'\\\\n\\\\n\\\\n\\\\n\\\\n\\\\nbewijsmiddelen\\\\n\\\\n\\\\n...   \n",
       "ECLI_NL_GHARL_2020_820.xml   [\"['\\\\n\\\\n\\\\n\\\\n\\\\n\\\\nbewijsmiddelen, feiten e...   \n",
       "ECLI_NL_RBROT_2021_2966.xml  ['[\\'\\\\n\\\\nbewijswaardering\\\\n\\\\n\\\\n4.1.1.\\\\n\\...   \n",
       "ECLI_NL_RBMNE_2019_6577.xml  [\"['\\\\n\\\\n\\\\nbewijsmiddelen\\\\n\\\\n\\\\n\\\\n       ...   \n",
       "ECLI_NL_GHAMS_2018_185.xml   [\"['\\\\n\\\\n\\\\n\\\\n\\\\n\\\\nbewijsverweren\\\\n\\\\n\\\\n\\...   \n",
       "...                                                                        ...   \n",
       "ECLI_NL_RBLIM_2019_553.xml   [\"['\\\\n\\\\n\\\\n\\\\n\\\\nbewijsoverweging\\\\n\\\\n\\\\n\\\\...   \n",
       "ECLI_NL_GHSHE_2020_1165.xml  [\"['\\\\n\\\\n\\\\n\\\\n\\\\n\\\\nbewijsmiddelen\\\\n\\\\n\\\\n\\...   \n",
       "ECLI_NL_RBMNE_2019_275.xml   [\"['\\\\n\\\\n\\\\n\\\\n\\\\nbewijsmiddelen\\\\n\\\\n\\\\n\\\\n ...   \n",
       "ECLI_NL_RBMNE_2020_153.xml   [\"['\\\\n\\\\n\\\\nbewijsmiddelen ten aanzien van he...   \n",
       "ECLI_NL_GHARL_2021_1849.xml  [\"['\\\\n\\\\n\\\\n\\\\nbewijsmiddel 3: \\\\n\\\\nhet hof ...   \n",
       "\n",
       "                                                                           tll  \n",
       "filename                                                                        \n",
       "ECLI_NL_GHSHE_2021_1801.xml                                                 []  \n",
       "ECLI_NL_GHARL_2020_820.xml   [\"[' tenlastelegging\\\\n\\\\n\\\\naan verdachte is ...  \n",
       "ECLI_NL_RBROT_2021_2966.xml                                                 []  \n",
       "ECLI_NL_RBMNE_2019_6577.xml  [\"['\\\\n\\\\n2tenlastelegging\\\\n\\\\n\\\\nde tenlaste...  \n",
       "ECLI_NL_GHAMS_2018_185.xml                                                  []  \n",
       "...                                                                        ...  \n",
       "ECLI_NL_RBLIM_2019_553.xml   [\"[' tenlastelegging\\\\n\\\\nde tenlastelegging i...  \n",
       "ECLI_NL_GHSHE_2020_1165.xml  ['[\"\\\\n\\\\n\\\\n\\\\n\\\\n\\\\ntenlastelegging\\\\n\\\\n\\\\n...  \n",
       "ECLI_NL_RBMNE_2019_275.xml   [\"['\\\\n\\\\n2tenlastelegging\\\\n\\\\n\\\\nde tenlaste...  \n",
       "ECLI_NL_RBMNE_2020_153.xml                                                  []  \n",
       "ECLI_NL_GHARL_2021_1849.xml                                                 []  \n",
       "\n",
       "[669 rows x 8 columns]"
      ]
     },
     "execution_count": 20,
     "metadata": {},
     "output_type": "execute_result"
    }
   ],
   "source": [
    "df = pd.read_csv('dataset_10012022.csv', index_col=1) \n",
    "\n",
    "df_be = df[df['bewijs'] != '[]'] #bewijs\n",
    "df_te = df[df['tll'] != '[]'] #tenlastelegging\n",
    "df_be"
   ]
  },
  {
   "cell_type": "markdown",
   "metadata": {},
   "source": [
    "# Tokenize "
   ]
  },
  {
   "cell_type": "code",
   "execution_count": 21,
   "metadata": {},
   "outputs": [
    {
     "name": "stdout",
     "output_type": "stream",
     "text": [
      "[['nbewijsmiddelen', 'nindien', 'tegen', 'dit', 'verkorte', 'arrest', 'beroep', 'in', 'cassatie', 'wordt', 'ingesteld', 'worden', 'de', 'door', 'het', 'hof', 'gebruikte', 'bewijsmiddelen', 'die', 'redengevend', 'zijn', 'voor', 'de', 'opgenomen', 'in', 'een', 'aanvulling', 'op', 'het', 'arrest', 'deze', 'aanvulling', 'wordt', 'dan', 'aan', 'dit', 'arrest', 'gehecht', 'nde', 'beslissing', 'dat', 'het', 'door', 'de', 'verdachte', 'is', 'begaan', 'berust', 'op', 'de', 'feiten', 'en', 'omstandigheden', 'als', 'vervat', 'in', 'de', 'hierboven', 'bedoelde', 'bewijsmiddelen', 'in', 'onderlinge', 'samenhang', 'beschouwd', 'nstrafbaarheid', 'van', 'het', 'nhet', 'wordt', 'als', 'volgt', 'gekwalificeerd', 'novertreding', 'van', 'een', 'voorschrift', 'gesteld', 'krachtens', 'artikel', 'eerste', 'lid', 'van', 'de', 'wet', 'milieubeheer', 'ner', 'zijn', 'geen', 'feiten', 'of', 'omstandigheden', 'aannemelijk', 'geworden', 'die', 'de', 'strafbaarheid', 'van', 'het', 'uitsluiten', 'het', 'feit', 'is', 'strafbaar', 'nstrafbaarheid', 'van', 'de', 'verdachte', 'ner', 'zijn', 'geen', 'feiten', 'of', 'omstandigheden', 'aannemelijk', 'geworden', 'die', 'de', 'strafbaarheid', 'van', 'verdachte', 'uitsluiten', 'de', 'verdachte', 'is', 'daarom', 'strafbaar', 'voor', 'het', 'hiervoor', 'nop', 'te', 'leggen', 'sanctie', 'nhet', 'hof', 'heeft', 'bij', 'de', 'bepaling', 'van', 'de', 'op', 'te', 'leggen', 'straf', 'gelet', 'op', 'de', 'aard', 'en', 'de', 'ernst', 'van', 'hetgeen', 'bewezen', 'is', 'verklaard', 'op', 'de', 'omstandigheden', 'waaronder', 'het', 'is', 'begaan', 'en', 'op', 'de', 'persoon', 'van', 'de', 'verdachte', 'zoals', 'een', 'en', 'ander', 'uit', 'het', 'onderzoek', 'ter', 'terechtzitting', 'naar', 'voren', 'is', 'gekomen', 'daarnaast', 'is', 'gelet', 'op', 'de', 'verhouding', 'tot', 'andere', 'strafbare', 'feiten', 'zoals', 'onder', 'meer', 'tot', 'uitdrukking', 'komt', 'in', 'het', 'hierop', 'gestelde', 'wettelijk', 'strafmaximum', 'en', 'in', 'de', 'straffen', 'die', 'voor', 'soortgelijke', 'feiten', 'worden', 'opgelegd', 'nde', 'verdachte', 'heeft', 'afval', 'op', 'straat', 'geplaatst', 'en', 'achtergelaten', 'te', 'weten', 'een', 'bankstel', 'en', 'laminaat', 'de', 'verdachte', 'heeft', 'daarover', 'desgevraagd', 'het', 'volgende', 'verklaard', 'het', 'is', 'mijn', 'afval', 'dat', 'ik', 'daar', 'neergezet', 'heb', 'ik', 'ruim', 'het', 'niet', 'op', 'laat', 'de', 'gemeente', 'het', 'maar', 'doen', 'en', 'stuur', 'mij', 'de', 'rekening', 'daarmee', 'heeft', 'de', 'verdachte', 'aangetoond', 'dat', 'hij', 'welbewust', 'bijzonder', 'gemakzuchtig', 'en', 'asociaal', 'heeft', 'gehandeld', 'bovendien', 'heeft', 'hij', 'de', 'milieu', 'normen', 'van', 'het', 'bevoegd', 'gezag', 'ondermijnd', 'het', 'hof', 'rekent', 'dit', 'de', 'verdachte', 'aan', 'nbij', 'de', 'strafoplegging', 'heeft', 'het', 'hof', 'acht', 'geslagen', 'op', 'het', 'uittreksel', 'justitiele', 'documentatie', 'november', 'waaruit', 'volgt', 'dat', 'de', 'verdachte', 'voorafgaande', 'aan', 'het', 'feit', 'niet', 'eerder', 'ter', 'zake', 'van', 'soortgelijke', 'feiten', 'onherroepelijk', 'is', 'veroordeeld', 'nnaar', 'het', 'oordeel', 'van', 'het', 'hof', 'is', 'in', 'dit', 'geval', 'een', 'geldboete', 'van', 'subsidiair', 'dagen', 'hechtenis', 'een', 'passende', 'en', 'geboden', 'straf', 'bij', 'de', 'vaststelling', 'van', 'de', 'hoogte', 'van', 'de', 'geldboete', 'heeft', 'het', 'hof', 'rekening', 'gehouden', 'met', 'de', 'financiele', 'draagkracht', 'van', 'de', 'verdachte', 'voor', 'zover', 'daarvan', 'ter', 'terechtzitting', 'is', 'gebleken', 'ntenslotte', 'heeft', 'het', 'hof', 'zich', 'rekenschap', 'ervan', 'gegeven', 'dat', 'elke', 'verdachte', 'recht', 'heeft', 'op', 'een', 'openbare', 'behandeling', 'van', 'zijn', 'zaak', 'binnen', 'een', 'redelijke', 'termijn', 'als', 'bedoeld', 'in', 'artikel', 'evrm', 'deze', 'waarborg', 'strekt', 'er', 'onder', 'meer', 'toe', 'te', 'voorkomen', 'dat', 'een', 'verdachte', 'langer', 'dan', 'redelijk', 'is', 'onder', 'de', 'dreiging', 'van', 'een', 'strafvervolging', 'zou', 'moeten', 'leven', 'nin', 'dat', 'kader', 'heeft', 'het', 'hof', 'het', 'volgende', 'geconstateerd', 'nde', 'redelijke', 'termijn', 'in', 'hoger', 'beroep', 'is', 'aangevangen', 'op', 'oktober', 'met', 'het', 'instellen', 'van', 'hoger', 'beroep', 'namens', 'de', 'verdachte', 'het', 'hof', 'wijst', 'arrest', 'op', 'februari', 'dus', 'de', 'behandeling', 'in', 'hoger', 'beroep', 'is', 'niet', 'afgerond', 'met', 'een', 'einduitspraak', 'binnen', 'twee', 'jaar', 'na', 'aanvang', 'van', 'de', 'hiervoor', 'genoemde', 'termijn', 'terwijl', 'het', 'hof', 'geen', 'bijzondere', 'omstandigheden', 'aanwezig', 'acht', 'die', 'deze', 'overschrijding', 'rechtvaardigen', 'het', 'hof', 'stelt', 'vast', 'dat', 'de', 'schending', 'van', 'de', 'redelijke', 'termijn', 'ongeveer', 'maanden', 'en', 'weken', 'bedraagt', 'ngelet', 'op', 'de', 'aard', 'en', 'hoogte', 'van', 'de', 'op', 'te', 'leggen', 'straf', 'volstaat', 'het', 'hof', 'met', 'deze', 'constatering', 'naangezien', 'het', 'hof', 'komt', 'tot', 'een', 'veroordeling', 'van', 'de', 'verdachte', 'zal', 'het', 'hof', 'de', 'uitgevaardigde', 'op', 'de', 'voet', 'van', 'artikel', 'vierde', 'lid', 'tweede', 'volzin', 'van', 'het', 'wetboek', 'van', 'strafvordering', 'vernietigen', 'ntoepasselijke', 'wettelijke', 'voorschriften', 'nde', 'beslissing', 'is', 'gegrond', 'op', 'de', 'artikelen', 'en', 'van', 'het', 'wetboek', 'van', 'strafrecht', 'de', 'artikelen', 'en', 'van', 'de', 'wet', 'op', 'de', 'economische', 'delicten', 'artikel', 'van', 'de', 'wet', 'milieubeheer', 'en', 'de', 'artikelen', 'eerste', 'lid', 'en', 'van', 'de', 'venlo', 'zoals', 'deze', 'ten', 'tijde', 'van', 'het', 'rechtens', 'golden', 'dan', 'wel', 'ten', 'tijde', 'van', 'het', 'wijzen', 'van', 'dit', 'arrest', 'rechtens', 'gelden']]\n"
     ]
    }
   ],
   "source": [
    "def sent_to_words(sentences):\n",
    "    for sentence in sentences:\n",
    "        yield(gensim.utils.simple_preprocess(str(sentence), deacc=True))  # deacc=True removes punctuations\n",
    "\n",
    "data_words = list(sent_to_words(df_be['bewijs']))\n",
    "\n",
    "print(data_words[:1])"
   ]
  },
  {
   "cell_type": "markdown",
   "metadata": {},
   "source": [
    "# Creating Bigram and Trigram Models"
   ]
  },
  {
   "cell_type": "code",
   "execution_count": 22,
   "metadata": {},
   "outputs": [
    {
     "name": "stdout",
     "output_type": "stream",
     "text": [
      "['nbewijsmiddelen_nindien', 'tegen', 'dit', 'verkorte_arrest', 'beroep', 'in', 'cassatie', 'wordt', 'ingesteld', 'worden', 'de', 'door', 'het', 'hof', 'gebruikte', 'bewijsmiddelen', 'die', 'redengevend', 'zijn', 'voor', 'de', 'opgenomen', 'in', 'een', 'aanvulling', 'op', 'het', 'arrest', 'deze', 'aanvulling', 'wordt', 'dan', 'aan', 'dit', 'arrest_gehecht', 'nde', 'beslissing', 'dat', 'het', 'door', 'de', 'verdachte', 'is', 'begaan_berust', 'op', 'de', 'feiten', 'en', 'omstandigheden', 'als', 'vervat', 'in', 'de', 'hierboven_bedoelde', 'bewijsmiddelen', 'in', 'onderlinge_samenhang_beschouwd', 'nstrafbaarheid', 'van', 'het', 'nhet', 'wordt', 'als', 'volgt_gekwalificeerd', 'novertreding', 'van', 'een', 'voorschrift', 'gesteld', 'krachtens', 'artikel', 'eerste_lid', 'van', 'de', 'wet_milieubeheer', 'ner', 'zijn', 'geen', 'feiten', 'of', 'omstandigheden_aannemelijk_geworden', 'die', 'de', 'strafbaarheid', 'van', 'het', 'uitsluiten', 'het', 'feit', 'is', 'strafbaar_nstrafbaarheid', 'van', 'de', 'verdachte', 'ner', 'zijn', 'geen', 'feiten', 'of', 'omstandigheden_aannemelijk_geworden', 'die', 'de', 'strafbaarheid', 'van', 'verdachte', 'uitsluiten', 'de', 'verdachte', 'is', 'daarom', 'strafbaar', 'voor', 'het', 'hiervoor', 'nop', 'te', 'leggen_sanctie', 'nhet', 'hof', 'heeft', 'bij', 'de', 'bepaling', 'van', 'de', 'op', 'te', 'leggen_straf', 'gelet', 'op', 'de', 'aard', 'en', 'de', 'ernst', 'van', 'hetgeen', 'bewezen', 'is', 'verklaard', 'op', 'de', 'omstandigheden', 'waaronder', 'het', 'is', 'begaan', 'en', 'op', 'de', 'persoon', 'van', 'de', 'verdachte', 'zoals', 'een', 'en', 'ander', 'uit', 'het', 'onderzoek_ter_terechtzitting', 'naar', 'voren', 'is', 'gekomen', 'daarnaast', 'is', 'gelet', 'op', 'de', 'verhouding', 'tot', 'andere', 'strafbare', 'feiten', 'zoals', 'onder', 'meer', 'tot', 'uitdrukking_komt', 'in', 'het', 'hierop_gestelde_wettelijk_strafmaximum', 'en', 'in', 'de', 'straffen', 'die', 'voor', 'soortgelijke', 'feiten', 'worden', 'opgelegd', 'nde', 'verdachte', 'heeft', 'afval', 'op', 'straat', 'geplaatst', 'en', 'achtergelaten', 'te', 'weten', 'een', 'bankstel', 'en', 'laminaat', 'de', 'verdachte', 'heeft', 'daarover', 'desgevraagd', 'het', 'volgende', 'verklaard', 'het', 'is', 'mijn', 'afval', 'dat', 'ik', 'daar', 'neergezet', 'heb', 'ik', 'ruim', 'het', 'niet', 'op', 'laat', 'de', 'gemeente', 'het', 'maar', 'doen', 'en', 'stuur', 'mij', 'de', 'rekening', 'daarmee', 'heeft', 'de', 'verdachte', 'aangetoond', 'dat', 'hij', 'welbewust', 'bijzonder', 'gemakzuchtig', 'en', 'asociaal', 'heeft', 'gehandeld', 'bovendien', 'heeft', 'hij', 'de', 'milieu', 'normen', 'van', 'het', 'bevoegd', 'gezag', 'ondermijnd', 'het', 'hof', 'rekent', 'dit', 'de', 'verdachte', 'aan', 'nbij', 'de', 'strafoplegging', 'heeft', 'het', 'hof', 'acht', 'geslagen', 'op', 'het', 'uittreksel_justitiele_documentatie', 'november', 'waaruit', 'volgt', 'dat', 'de', 'verdachte', 'voorafgaande', 'aan', 'het', 'feit', 'niet', 'eerder_ter_zake', 'van', 'soortgelijke', 'feiten', 'onherroepelijk', 'is', 'veroordeeld', 'nnaar', 'het', 'oordeel', 'van', 'het', 'hof', 'is', 'in', 'dit', 'geval', 'een', 'geldboete', 'van', 'subsidiair', 'dagen_hechtenis', 'een', 'passende', 'en', 'geboden', 'straf', 'bij', 'de', 'vaststelling', 'van', 'de', 'hoogte', 'van', 'de', 'geldboete', 'heeft', 'het', 'hof', 'rekening', 'gehouden', 'met', 'de', 'financiele', 'draagkracht', 'van', 'de', 'verdachte', 'voor', 'zover', 'daarvan', 'ter_terechtzitting', 'is', 'gebleken', 'ntenslotte', 'heeft', 'het', 'hof', 'zich', 'rekenschap', 'ervan', 'gegeven', 'dat', 'elke', 'verdachte', 'recht', 'heeft', 'op', 'een', 'openbare', 'behandeling', 'van', 'zijn', 'zaak', 'binnen', 'een', 'redelijke_termijn', 'als', 'bedoeld', 'in', 'artikel', 'evrm', 'deze', 'waarborg_strekt', 'er', 'onder', 'meer', 'toe', 'te', 'voorkomen', 'dat', 'een', 'verdachte', 'langer', 'dan', 'redelijk', 'is', 'onder', 'de', 'dreiging', 'van', 'een', 'strafvervolging', 'zou', 'moeten', 'leven', 'nin', 'dat', 'kader', 'heeft', 'het', 'hof', 'het', 'volgende', 'geconstateerd', 'nde', 'redelijke_termijn', 'in', 'hoger_beroep', 'is', 'aangevangen', 'op', 'oktober', 'met', 'het', 'instellen', 'van', 'hoger_beroep', 'namens', 'de', 'verdachte', 'het', 'hof', 'wijst', 'arrest', 'op', 'februari', 'dus', 'de', 'behandeling', 'in', 'hoger_beroep', 'is', 'niet', 'afgerond', 'met', 'een', 'einduitspraak', 'binnen', 'twee', 'jaar', 'na', 'aanvang', 'van', 'de', 'hiervoor', 'genoemde', 'termijn', 'terwijl', 'het', 'hof', 'geen', 'bijzondere', 'omstandigheden', 'aanwezig', 'acht', 'die', 'deze', 'overschrijding', 'rechtvaardigen', 'het', 'hof', 'stelt', 'vast', 'dat', 'de', 'schending', 'van', 'de', 'redelijke_termijn', 'ongeveer', 'maanden', 'en', 'weken', 'bedraagt', 'ngelet', 'op', 'de', 'aard', 'en', 'hoogte', 'van', 'de', 'op', 'te', 'leggen_straf', 'volstaat', 'het', 'hof', 'met', 'deze', 'constatering', 'naangezien', 'het', 'hof', 'komt', 'tot', 'een', 'veroordeling', 'van', 'de', 'verdachte', 'zal', 'het', 'hof', 'de', 'uitgevaardigde', 'op', 'de', 'voet', 'van', 'artikel', 'vierde_lid', 'tweede_volzin', 'van', 'het', 'wetboek', 'van', 'strafvordering', 'vernietigen', 'ntoepasselijke_wettelijke_voorschriften', 'nde', 'beslissing', 'is', 'gegrond', 'op', 'de', 'artikelen', 'en', 'van', 'het', 'wetboek', 'van', 'strafrecht', 'de', 'artikelen', 'en', 'van', 'de', 'wet', 'op', 'de', 'economische', 'delicten', 'artikel', 'van', 'de', 'wet_milieubeheer', 'en', 'de', 'artikelen', 'eerste_lid', 'en', 'van', 'de', 'venlo', 'zoals', 'deze', 'ten', 'tijde', 'van', 'het', 'rechtens_golden', 'dan', 'wel', 'ten', 'tijde', 'van', 'het', 'wijzen', 'van', 'dit', 'arrest_rechtens', 'gelden']\n"
     ]
    }
   ],
   "source": [
    "# Build the bigram and trigram models\n",
    "bigram = gensim.models.Phrases(data_words, min_count=5, threshold=100) # higher threshold fewer phrases.\n",
    "trigram = gensim.models.Phrases(bigram[data_words], threshold=100)  \n",
    "\n",
    "# Faster way to get a sentence clubbed as a trigram/bigram\n",
    "bigram_mod = gensim.models.phrases.Phraser(bigram)\n",
    "trigram_mod = gensim.models.phrases.Phraser(trigram)\n",
    "\n",
    "# See trigram example\n",
    "print(trigram_mod[bigram_mod[data_words[0]]])"
   ]
  },
  {
   "cell_type": "markdown",
   "metadata": {},
   "source": [
    "# Remove Stopwords, Make Bigrams and Lemmatize"
   ]
  },
  {
   "cell_type": "code",
   "execution_count": 23,
   "metadata": {},
   "outputs": [],
   "source": [
    "# Define functions for stopwords, bigrams, trigrams and lemmatization\n",
    "def remove_stopwords(texts):\n",
    "    return [[word for word in simple_preprocess(str(doc)) if word not in stop_words] for doc in texts]\n",
    "\n",
    "def make_bigrams(texts):\n",
    "    return [bigram_mod[doc] for doc in texts]\n",
    "\n",
    "def make_trigrams(texts):\n",
    "    return [trigram_mod[bigram_mod[doc]] for doc in texts]\n",
    "\n",
    "def lemmatization(texts, allowed_postags=['NOUN', 'ADJ', 'VERB', 'ADV']):\n",
    "    \"\"\"https://spacy.io/api/annotation\"\"\"\n",
    "    texts_out = []\n",
    "    for sent in texts:\n",
    "        doc = nlp(\" \".join(sent)) \n",
    "        texts_out.append([token.lemma_ for token in doc if token.pos_ in allowed_postags])\n",
    "    return texts_out"
   ]
  },
  {
   "cell_type": "code",
   "execution_count": 24,
   "metadata": {},
   "outputs": [
    {
     "name": "stdout",
     "output_type": "stream",
     "text": [
      "[['verkorte_arrest', 'beroep', 'cassatie', 'instellen', 'hof', 'gebruiken', 'bewijsmiddel', 'redengevend', 'opnemen', 'aanvulling', 'arrest', 'aanvulling', 'nd', 'beslissing', 'verdenken', 'begaan_berust', 'feit', 'omstandigheid', 'vervatten', 'hierboven_bedoelde', 'bewijsmiddel', 'onderlinge_samenhang', 'beschouwen', 'nstrafbaarheid', 'novertreding', 'voorschrift', 'stellen', 'artikel', 'één', 'lid', 'feit', 'omstandigheid', 'aannemelijk_geworden', 'strafbaarheid', 'uitsluiten', 'feit', 'verdenken', 'feit', 'omstandigheid', 'aannemelijk_geworden', 'strafbaarheid', 'verdenken', 'verdenken', 'daarom', 'strafbaar', 'hiervoor', 'leggen_sanctie', 'hof', 'letten', 'aard', 'ernst', 'bewijzen', 'verklaren', 'omstandigheid', 'waaronder', 'persoon', 'verdenken', 'ander', 'onderzoek', 'ter_terechtzitting', 'voren', 'komen', 'daarnaast', 'letten', 'verhouding', 'strafbaar', 'feit', 'uitdrukking_komt', 'hierop_gestelen', 'wettelijk_strafmaximum', 'straf', 'soortgelijk', 'feit', 'opleggen', 'nd', 'verdenken', 'afval', 'straat', 'plaatsen', 'achterlaten', 'weten', 'bankstel', 'laminaat', 'verdenken', 'daarover', 'desgevraagd', 'volgen', 'verklaren', 'afval', 'neerzetten', 'ruim', 'laat', 'gemeente', 'stuur', 'rekening', 'daarmee', 'verdenken', 'aantonen', 'welbewust', 'bijzonder', 'gemakzuchtig', 'asociaal', 'handelen', 'bovendien', 'milieu', 'norm', 'bevoegd', 'gezag', 'ondermijnen', 'hof', 'rekenen', 'verdenken', 'strafoplegging', 'hof', 'slaan', 'uittreksel_justitiel', 'documentatie', 'waaruit', 'volgen', 'verdenken', 'voorafgaan', 'feit', 'eerder', 'soortgelijk', 'feit', 'onherroepelijk', 'veroordelen', 'oordeel', 'hof', 'geval', 'geldboet', 'subsidiair', 'dagen_hechteni', 'passen', 'geboden', 'straf', 'vaststelling', 'hoogte', 'geldboete', 'hof', 'rekening', 'houden', 'financiel', 'draagkracht', 'verdenken', 'zover', 'daarvan', 'ter_terechtzitting', 'blijken', 'ntenslott', 'hof', 'rekenschap', 'ervan', 'geven', 'verdenken', 'recht', 'openbaar', 'behandeling', 'zaak', 'bedoelen', 'artikel', 'evrm', 'voorkomen', 'verdenken', 'lang', 'redelijk', 'dreiging', 'strafvervolging', 'leven', 'kader', 'hof', 'volgen', 'constateren', 'nd', 'hoger_beroep', 'aanvangen', 'instellen', 'hoger_beroep', 'verdenken', 'hof', 'wijzen', 'arrest', 'behandeling', 'hoger_beroep', 'afronden', 'einduitspraak', 'jaar', 'aanvang', 'hiervoor', 'noemen', 'termijn', 'hof', 'bijzonder', 'omstandigheid', 'aanwezig', 'overschrijding', 'rechtvaardigen', 'hof', 'stellen', 'vast', 'schending', 'ongeveer', 'maand', 'week', 'bedragen', 'aard', 'hoogte', 'volstaan', 'hof', 'constatering', 'naangezi', 'hof', 'komen', 'veroordeling', 'verdenken', 'hof', 'uitvaardigen', 'voet', 'artikel', 'vier', 'lid', 'wetboek', 'strafvordering', 'vernietigen', 'ntoepasselijke_wettelijk', 'voorschrift', 'nde', 'beslissing', 'gronden', 'artikel', 'wetboek', 'strafrecht', 'artikel', 'wet', 'economisch', 'delict', 'artikel', 'artikel', 'één', 'lid', 'venlo', 'tijd', 'rechtens_gold', 'wel', 'tijd', 'wijzen', 'arrest_rechten', 'gelden']]\n"
     ]
    }
   ],
   "source": [
    "# Remove Stop Words\n",
    "data_words_nostops = remove_stopwords(data_words)\n",
    "\n",
    "# Form Bigrams\n",
    "data_words_bigrams = make_bigrams(data_words_nostops)\n",
    "\n",
    "# Initialize spacy 'en' model, keeping only tagger component (for efficiency)\n",
    "# python3 -m spacy download en\n",
    "# nlp = spacy.load('nl', disable=['parser', 'ner'])\n",
    "\n",
    "nlp = spacy.load(\"nl_core_news_sm\")\n",
    "\n",
    "# Do lemmatization keeping only noun, adj, vb, adv\n",
    "data_lemmatized = lemmatization(data_words_bigrams, allowed_postags=['NOUN', 'ADJ', 'VERB', 'ADV'])\n",
    "\n",
    "print(data_lemmatized[:1])"
   ]
  },
  {
   "cell_type": "markdown",
   "metadata": {},
   "source": [
    "#  Create the Dictionary and Corpus needed for Topic Modeling"
   ]
  },
  {
   "cell_type": "code",
   "execution_count": 25,
   "metadata": {},
   "outputs": [
    {
     "name": "stdout",
     "output_type": "stream",
     "text": [
      "[[(0, 2), (1, 1), (2, 1), (3, 1), (4, 2), (5, 1), (6, 2), (7, 1), (8, 1), (9, 2), (10, 1), (11, 2), (12, 1), (13, 7), (14, 1), (15, 1), (16, 1), (17, 1), (18, 1), (19, 2), (20, 1), (21, 1), (22, 2), (23, 1), (24, 2), (25, 1), (26, 2), (27, 1), (28, 1), (29, 1), (30, 1), (31, 1), (32, 1), (33, 1), (34, 1), (35, 1), (36, 1), (37, 1), (38, 1), (39, 1), (40, 1), (41, 1), (42, 1), (43, 1), (44, 1), (45, 1), (46, 1), (47, 1), (48, 1), (49, 8), (50, 1), (51, 1), (52, 1), (53, 1), (54, 1), (55, 1), (56, 1), (57, 1), (58, 1), (59, 1), (60, 1), (61, 1), (62, 1), (63, 1), (64, 1), (65, 2), (66, 14), (67, 3), (68, 2), (69, 1), (70, 2), (71, 1), (72, 1), (73, 2), (74, 1), (75, 1), (76, 1), (77, 1), (78, 2), (79, 1), (80, 3), (81, 1), (82, 1), (83, 1), (84, 3), (85, 1), (86, 1), (87, 1), (88, 1), (89, 1), (90, 1), (91, 1), (92, 1), (93, 5), (94, 1), (95, 1), (96, 1), (97, 1), (98, 1), (99, 1), (100, 1), (101, 1), (102, 1), (103, 1), (104, 1), (105, 1), (106, 1), (107, 1), (108, 1), (109, 1), (110, 1), (111, 1), (112, 1), (113, 2), (114, 1), (115, 1), (116, 1), (117, 1), (118, 2), (119, 2), (120, 1), (121, 2), (122, 2), (123, 2), (124, 1), (125, 1), (126, 1), (127, 1), (128, 1), (129, 1), (130, 2), (131, 1), (132, 2), (133, 1), (134, 1), (135, 1), (136, 1), (137, 1), (138, 1), (139, 1), (140, 15), (141, 1), (142, 2), (143, 1), (144, 1), (145, 1), (146, 1), (147, 1), (148, 1), (149, 1), (150, 3), (151, 1), (152, 1), (153, 1), (154, 2), (155, 1), (156, 1), (157, 1), (158, 1), (159, 1), (160, 1), (161, 1), (162, 2), (163, 1), (164, 1), (165, 2), (166, 1), (167, 1), (168, 2)]]\n"
     ]
    }
   ],
   "source": [
    "# Create Dictionary\n",
    "id2word = corpora.Dictionary(data_lemmatized)\n",
    "\n",
    "# Create Corpus\n",
    "texts = data_lemmatized\n",
    "\n",
    "# Term Document Frequency\n",
    "corpus = [id2word.doc2bow(text) for text in texts]\n",
    "\n",
    "# View\n",
    "print(corpus[:1])"
   ]
  },
  {
   "cell_type": "code",
   "execution_count": 26,
   "metadata": {},
   "outputs": [
    {
     "data": {
      "text/plain": [
       "'aannemelijk_geworden'"
      ]
     },
     "execution_count": 26,
     "metadata": {},
     "output_type": "execute_result"
    }
   ],
   "source": [
    "# Id word\n",
    "id2word[0]"
   ]
  },
  {
   "cell_type": "markdown",
   "metadata": {},
   "source": [
    "# Building the Topic Model"
   ]
  },
  {
   "cell_type": "code",
   "execution_count": 27,
   "metadata": {},
   "outputs": [],
   "source": [
    "# Build HDP model\n",
    "from gensim.models import HdpModel\n",
    "hdp_model = HdpModel(corpus=corpus,\n",
    "                     id2word=id2word)"
   ]
  },
  {
   "cell_type": "markdown",
   "metadata": {},
   "source": [
    "# View the topics in HDP model"
   ]
  },
  {
   "cell_type": "code",
   "execution_count": 28,
   "metadata": {},
   "outputs": [
    {
     "name": "stdout",
     "output_type": "stream",
     "text": [
      "[(0,\n",
      "  '0.042*verdenken + 0.019*slachtoffer + 0.009*rechtbank + 0.008*zien + '\n",
      "  '0.008*medeverdacht + 0.008*feit + 0.008*verklaren + 0.008*hof + 0.008*naam '\n",
      "  '+ 0.007*bijnaam'),\n",
      " (1,\n",
      "  '0.041*verdenken + 0.017*slachtoffer + 0.012*rechtbank + 0.011*naam + '\n",
      "  '0.008*verklaren + 0.008*medeverdacht + 0.008*feit + 0.007*zien + '\n",
      "  '0.006*verklaring + 0.005*komen'),\n",
      " (2,\n",
      "  '0.033*verdenken + 0.018*naam + 0.014*medeverdacht + 0.010*hof + '\n",
      "  '0.010*verklaren + 0.007*geld + 0.007*benadelen + 0.007*rechtbank + '\n",
      "  '0.006*blijken + 0.006*feit'),\n",
      " (3,\n",
      "  '0.028*verdenken + 0.020*naam + 0.013*benadelen + 0.009*slachtoffer + '\n",
      "  '0.008*zegel + 0.008*rechtbank + 0.008*medeverdacht + 0.006*verklaren + '\n",
      "  '0.005*feit + 0.005*komen'),\n",
      " (4,\n",
      "  '0.038*verdenken + 0.026*medeverdacht + 0.025*zeggen + 0.017*gaan + '\n",
      "  '0.010*uur + 0.009*bellen + 0.008*weten + 0.007*goed + 0.006*komen + '\n",
      "  '0.006*medeverdachen'),\n",
      " (5,\n",
      "  '0.043*verdenken + 0.012*rechtbank + 0.009*undercover_agenten + 0.006*feit + '\n",
      "  '0.005*verklaren + 0.005*oordeel + 0.004*verdediging + 0.004*blijken + '\n",
      "  '0.004*maken + 0.004*komen'),\n",
      " (6,\n",
      "  '0.029*verdenken + 0.015*benadelen + 0.012*bedrijf + 0.009*aangever + '\n",
      "  '0.007*rechtbank + 0.007*verklaren + 0.006*euro + 0.006*bedrag + 0.005*naam '\n",
      "  '+ 0.005*feit'),\n",
      " (7,\n",
      "  '0.030*verdenken + 0.012*slachtoffer + 0.011*naam + 0.008*bedrijf + '\n",
      "  '0.007*rechtbank + 0.005*zien + 0.004*medeverdacht + 0.004*verbalisant + '\n",
      "  '0.004*verklaren + 0.004*feit'),\n",
      " (8,\n",
      "  '0.020*verdenken + 0.011*medeverdacht + 0.006*hof + 0.006*zeggen + '\n",
      "  '0.005*adres + 0.005*feit + 0.005*komen + 0.004*overval + 0.004*zien + '\n",
      "  '0.004*volgen'),\n",
      " (9,\n",
      "  '0.019*verdenken + 0.010*slachtoffer + 0.008*rechtbank + 0.008*verklaring + '\n",
      "  '0.007*verklaren + 0.007*medeverdacht + 0.006*wapen + 0.005*zien + '\n",
      "  '0.005*woning + 0.004*moment'),\n",
      " (10,\n",
      "  '0.022*verdenken + 0.012*slachtoffer + 0.010*naam + 0.007*feit + '\n",
      "  '0.007*rechtbank + 0.006*verklaren + 0.004*bewijzen + 0.004*zien + '\n",
      "  '0.004*aangever + 0.003*hof'),\n",
      " (11,\n",
      "  '0.021*verdenken + 0.010*geit + 0.006*zien + 0.006*verbalisant + '\n",
      "  '0.006*slachtoffer + 0.006*verklaren + 0.005*rechtbank + 0.005*man + '\n",
      "  '0.005*getuige + 0.004*feit'),\n",
      " (12,\n",
      "  '0.014*verdenken + 0.008*schip + 0.007*medeverdacht + 0.006*rechtbank + '\n",
      "  '0.005*naam + 0.004*slachtoffer + 0.004*asbest + 0.003*volgen + '\n",
      "  '0.002*bedrijf + 0.002*container'),\n",
      " (13,\n",
      "  '0.029*naam + 0.021*verdenken + 0.015*medeverdacht + 0.011*informatie + '\n",
      "  '0.008*verklaren + 0.005*nuit + 0.005*politie + 0.004*onderzoek + 0.004*geld '\n",
      "  '+ 0.004*bevragen'),\n",
      " (14,\n",
      "  '0.018*verdenken + 0.009*slachtoffer + 0.005*rechtbank + 0.005*verklaren + '\n",
      "  '0.004*medeverdacht + 0.004*aangever + 0.004*naam + 0.003*blijken + '\n",
      "  '0.003*feit + 0.003*gaan'),\n",
      " (15,\n",
      "  '0.016*verdenken + 0.005*medeverdacht + 0.004*verbalisant + '\n",
      "  '0.004*slachtoffer + 0.004*naam + 0.003*verklaring + 0.003*verklaren + '\n",
      "  '0.003*zeggen + 0.003*kenmerk + 0.003*roepnaam'),\n",
      " (16,\n",
      "  '0.012*verdenken + 0.006*slachtoffer + 0.005*zien + 0.004*persoon + '\n",
      "  '0.004*hof + 0.003*bewijzen + 0.003*verklaren + 0.003*detineren + '\n",
      "  '0.003*bezoeker + 0.002*verbalisant'),\n",
      " (17,\n",
      "  '0.011*verdenken + 0.006*geldautomaat + 0.006*ander + 0.005*althans + '\n",
      "  '0.005*bank + 0.005*geld + 0.005*kaart + 0.004*proces_verbaal + '\n",
      "  '0.003*opnemen + 0.003*telkens'),\n",
      " (18,\n",
      "  '0.016*verdenken + 0.007*aangeefster + 0.006*zeggen + 0.004*slachtoffer + '\n",
      "  '0.004*gaan + 0.004*foto + 0.003*rechtbank + 0.003*feit + 0.003*maken + '\n",
      "  '0.003*naam'),\n",
      " (19,\n",
      "  '0.010*verdenken + 0.006*drug + 0.006*verklaring + 0.005*medeverdachen + '\n",
      "  '0.004*kapitein + 0.004*hof + 0.004*gerecht + 0.002*verklaren + '\n",
      "  '0.002*medeverdacht + 0.002*medepleg')]\n"
     ]
    }
   ],
   "source": [
    "# Print the Keyword in the 10 topics\n",
    "pprint(hdp_model.print_topics())\n",
    "doc_hdp = hdp_model[corpus]"
   ]
  },
  {
   "cell_type": "markdown",
   "metadata": {},
   "source": [
    "# Compute Coherence Score"
   ]
  },
  {
   "cell_type": "code",
   "execution_count": null,
   "metadata": {},
   "outputs": [],
   "source": [
    "# Compute Coherence Score\n",
    "coherence_model_hdp = CoherenceModel(model=hdp_model, texts=data_lemmatized, dictionary=id2word, coherence='c_v')\n",
    "coherence_hdp = coherence_model_hdp.get_coherence()\n",
    "print('\\nCoherence Score: ', coherence_hdp)"
   ]
  },
  {
   "cell_type": "markdown",
   "metadata": {},
   "source": [
    "## LDA to LSA"
   ]
  },
  {
   "cell_type": "code",
   "execution_count": null,
   "metadata": {},
   "outputs": [],
   "source": [
    "def ret_top_model():\n",
    "    top_topics = [(0, 0)]\n",
    "    while top_topics[0][1] < 0.97:\n",
    "        lm = lda_model(corpus=corpus, id2word=id2word)\n",
    "        coherence_values = {}\n",
    "        for n, topic in lm.show_topics(num_topics=-1, formatted=False):\n",
    "            topic = [word for word, _ in topic]\n",
    "            cm = CoherenceModel(topics=[topic], texts=train_texts, dictionary=dictionary, window_size=10)\n",
    "            coherence_values[n] = cm.get_coherence()\n",
    "        top_topics = sorted(coherence_values.items(), key=operator.itemgetter(1), reverse=True)\n",
    "    return lm, top_topics"
   ]
  },
  {
   "cell_type": "code",
   "execution_count": null,
   "metadata": {},
   "outputs": [],
   "source": []
  }
 ],
 "metadata": {
  "interpreter": {
   "hash": "40d3a090f54c6569ab1632332b64b2c03c39dcf918b08424e98f38b5ae0af88f"
  },
  "kernelspec": {
   "display_name": "Python 3",
   "language": "python",
   "name": "python3"
  },
  "language_info": {
   "codemirror_mode": {
    "name": "ipython",
    "version": 3
   },
   "file_extension": ".py",
   "mimetype": "text/x-python",
   "name": "python",
   "nbconvert_exporter": "python",
   "pygments_lexer": "ipython3",
   "version": "3.7.4"
  }
 },
 "nbformat": 4,
 "nbformat_minor": 4
}
