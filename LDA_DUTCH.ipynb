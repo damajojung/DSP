{
 "cells": [
  {
   "cell_type": "markdown",
   "metadata": {},
   "source": [
    "# <center>Implementing LDA in Python</center>"
   ]
  },
  {
   "cell_type": "markdown",
   "metadata": {},
   "source": [
    "## Key Concepts in this Notebook"
   ]
  },
  {
   "cell_type": "markdown",
   "metadata": {},
   "source": []
  },
  {
   "cell_type": "markdown",
   "metadata": {},
   "source": [
    "## Introduction"
   ]
  },
  {
   "cell_type": "markdown",
   "metadata": {},
   "source": [
    " "
   ]
  },
  {
   "cell_type": "markdown",
   "metadata": {},
   "source": [
    "## Importing the Required Libraries"
   ]
  },
  {
   "cell_type": "code",
   "execution_count": 1,
   "metadata": {},
   "outputs": [],
   "source": [
    "#https://www.machinelearningplus.com/nlp/topic-modeling-gensim-python/#1introduction\n",
    "import numpy as np\n",
    "import pandas as pd\n",
    "import json\n",
    "import glob\n",
    "from pprint import pprint\n",
    "import matplotlib.pyplot as plt\n",
    "\n",
    "#Gensim\n",
    "import gensim\n",
    "import gensim.corpora as corpora\n",
    "from gensim.utils import simple_preprocess\n",
    "from gensim.models import CoherenceModel\n",
    "\n",
    "\n",
    "#spacy\n",
    "import spacy\n",
    "from spacy.lang.nl import Dutch\n",
    "from spacy.lang.nl.stop_words import STOP_WORDS\n",
    "import nltk\n",
    "from nltk.corpus import stopwords\n",
    "from nltk.tokenize import RegexpTokenizer\n",
    "\n",
    "#vis\n",
    "import pyLDAvis\n",
    "# import pyLDAvis.gensim\n",
    "import pyLDAvis.gensim_models as gensimvis\n",
    "\n",
    "import warnings\n",
    "warnings.filterwarnings(\"ignore\", category=DeprecationWarning)\n",
    "\n",
    "import string\n",
    "from nltk.stem.porter import PorterStemmer\n",
    "from nltk.stem import WordNetLemmatizer\n",
    "from nltk.tokenize import sent_tokenize, word_tokenize\n",
    "from nltk.corpus import stopwords\n",
    "from nltk.tokenize import word_tokenize\n",
    "from nltk import pos_tag"
   ]
  },
  {
   "cell_type": "markdown",
   "metadata": {},
   "source": [
    "## Preparing the Data"
   ]
  },
  {
   "cell_type": "code",
   "execution_count": 2,
   "metadata": {},
   "outputs": [],
   "source": [
    "def load_data(file):\n",
    "    with open (file, \"r\", encoding=\"utf-8\") as f:\n",
    "        data = json.load(f) \n",
    "    return (data)\n",
    "\n",
    "def write_data(file, data):\n",
    "    with open (file, \"w\", encoding=\"utf-8\") as f:\n",
    "        json.dump(data, f, indent=4)\n"
   ]
  },
  {
   "cell_type": "code",
   "execution_count": 2,
   "metadata": {},
   "outputs": [],
   "source": [
    "df = pd.read_csv('/Users/dj/Python - UvA/DSP/data/DataSample_DSP_0712.csv', index_col=1) "
   ]
  },
  {
   "cell_type": "code",
   "execution_count": 3,
   "metadata": {},
   "outputs": [
    {
     "data": {
      "text/html": [
       "<div>\n",
       "<style scoped>\n",
       "    .dataframe tbody tr th:only-of-type {\n",
       "        vertical-align: middle;\n",
       "    }\n",
       "\n",
       "    .dataframe tbody tr th {\n",
       "        vertical-align: top;\n",
       "    }\n",
       "\n",
       "    .dataframe thead th {\n",
       "        text-align: right;\n",
       "    }\n",
       "</style>\n",
       "<table border=\"1\" class=\"dataframe\">\n",
       "  <thead>\n",
       "    <tr style=\"text-align: right;\">\n",
       "      <th></th>\n",
       "      <th>Unnamed: 0</th>\n",
       "      <th>re_tll</th>\n",
       "      <th>xml_bewijs</th>\n",
       "      <th>re_bewijs</th>\n",
       "    </tr>\n",
       "    <tr>\n",
       "      <th>xml_tll</th>\n",
       "      <th></th>\n",
       "      <th></th>\n",
       "      <th></th>\n",
       "      <th></th>\n",
       "    </tr>\n",
       "  </thead>\n",
       "  <tbody>\n",
       "    <tr>\n",
       "      <th>NaN</th>\n",
       "      <td>0</td>\n",
       "      <td>[]</td>\n",
       "      <td>NaN</td>\n",
       "      <td>[]</td>\n",
       "    </tr>\n",
       "    <tr>\n",
       "      <th>NaN</th>\n",
       "      <td>1</td>\n",
       "      <td>[]</td>\n",
       "      <td>NaN</td>\n",
       "      <td>[]</td>\n",
       "    </tr>\n",
       "    <tr>\n",
       "      <th>NaN</th>\n",
       "      <td>2</td>\n",
       "      <td>[]</td>\n",
       "      <td>NaN</td>\n",
       "      <td>[]</td>\n",
       "    </tr>\n",
       "    <tr>\n",
       "      <th>NaN</th>\n",
       "      <td>3</td>\n",
       "      <td>[]</td>\n",
       "      <td>NaN</td>\n",
       "      <td>[]</td>\n",
       "    </tr>\n",
       "    <tr>\n",
       "      <th>NaN</th>\n",
       "      <td>4</td>\n",
       "      <td>[]</td>\n",
       "      <td>NaN</td>\n",
       "      <td>[]</td>\n",
       "    </tr>\n",
       "    <tr>\n",
       "      <th>...</th>\n",
       "      <td>...</td>\n",
       "      <td>...</td>\n",
       "      <td>...</td>\n",
       "      <td>...</td>\n",
       "    </tr>\n",
       "    <tr>\n",
       "      <th>NaN</th>\n",
       "      <td>21650</td>\n",
       "      <td>[]</td>\n",
       "      <td>NaN</td>\n",
       "      <td>[]</td>\n",
       "    </tr>\n",
       "    <tr>\n",
       "      <th>NaN</th>\n",
       "      <td>21651</td>\n",
       "      <td>[]</td>\n",
       "      <td>NaN</td>\n",
       "      <td>[]</td>\n",
       "    </tr>\n",
       "    <tr>\n",
       "      <th>NaN</th>\n",
       "      <td>21652</td>\n",
       "      <td>[]</td>\n",
       "      <td>NaN</td>\n",
       "      <td>[]</td>\n",
       "    </tr>\n",
       "    <tr>\n",
       "      <th>NaN</th>\n",
       "      <td>21653</td>\n",
       "      <td>[]</td>\n",
       "      <td>NaN</td>\n",
       "      <td>[]</td>\n",
       "    </tr>\n",
       "    <tr>\n",
       "      <th>NaN</th>\n",
       "      <td>21654</td>\n",
       "      <td>[' tenlastelegging\\n\\n\\n\\naan de verdachte is ...</td>\n",
       "      <td>NaN</td>\n",
       "      <td>[]</td>\n",
       "    </tr>\n",
       "  </tbody>\n",
       "</table>\n",
       "<p>21655 rows × 4 columns</p>\n",
       "</div>"
      ],
      "text/plain": [
       "         Unnamed: 0                                             re_tll  \\\n",
       "xml_tll                                                                  \n",
       "NaN               0                                                 []   \n",
       "NaN               1                                                 []   \n",
       "NaN               2                                                 []   \n",
       "NaN               3                                                 []   \n",
       "NaN               4                                                 []   \n",
       "...             ...                                                ...   \n",
       "NaN           21650                                                 []   \n",
       "NaN           21651                                                 []   \n",
       "NaN           21652                                                 []   \n",
       "NaN           21653                                                 []   \n",
       "NaN           21654  [' tenlastelegging\\n\\n\\n\\naan de verdachte is ...   \n",
       "\n",
       "        xml_bewijs re_bewijs  \n",
       "xml_tll                       \n",
       "NaN            NaN        []  \n",
       "NaN            NaN        []  \n",
       "NaN            NaN        []  \n",
       "NaN            NaN        []  \n",
       "NaN            NaN        []  \n",
       "...            ...       ...  \n",
       "NaN            NaN        []  \n",
       "NaN            NaN        []  \n",
       "NaN            NaN        []  \n",
       "NaN            NaN        []  \n",
       "NaN            NaN        []  \n",
       "\n",
       "[21655 rows x 4 columns]"
      ]
     },
     "execution_count": 3,
     "metadata": {},
     "output_type": "execute_result"
    }
   ],
   "source": [
    "df"
   ]
  },
  {
   "cell_type": "code",
   "execution_count": 4,
   "metadata": {},
   "outputs": [],
   "source": [
    "df = df[df['re_tll'] != '[]'][['re_tll']] #re_bewijs"
   ]
  },
  {
   "cell_type": "code",
   "execution_count": 5,
   "metadata": {},
   "outputs": [],
   "source": [
    "data = [i for i in df['re_tll']]"
   ]
  },
  {
   "cell_type": "code",
   "execution_count": 6,
   "metadata": {},
   "outputs": [],
   "source": [
    "stopwords = stopwords.words(\"dutch\")\n",
    "# stopwords.extend(['een', ])"
   ]
  },
  {
   "cell_type": "code",
   "execution_count": 7,
   "metadata": {},
   "outputs": [
    {
     "name": "stdout",
     "output_type": "stream",
     "text": [
      "['de', 'en', 'van', 'ik', 'te', 'dat', 'die', 'in', 'een', 'hij', 'het', 'niet', 'zijn', 'is', 'was', 'op', 'aan', 'met', 'als', 'voor', 'had', 'er', 'maar', 'om', 'hem', 'dan', 'zou', 'of', 'wat', 'mijn', 'men', 'dit', 'zo', 'door', 'over', 'ze', 'zich', 'bij', 'ook', 'tot', 'je', 'mij', 'uit', 'der', 'daar', 'haar', 'naar', 'heb', 'hoe', 'heeft', 'hebben', 'deze', 'u', 'want', 'nog', 'zal', 'me', 'zij', 'nu', 'ge', 'geen', 'omdat', 'iets', 'worden', 'toch', 'al', 'waren', 'veel', 'meer', 'doen', 'toen', 'moet', 'ben', 'zonder', 'kan', 'hun', 'dus', 'alles', 'onder', 'ja', 'eens', 'hier', 'wie', 'werd', 'altijd', 'doch', 'wordt', 'wezen', 'kunnen', 'ons', 'zelf', 'tegen', 'na', 'reeds', 'wil', 'kon', 'niets', 'uw', 'iemand', 'geweest', 'andere']\n",
      "101\n"
     ]
    }
   ],
   "source": [
    "print(stopwords)\n",
    "print(len(stopwords))"
   ]
  },
  {
   "cell_type": "code",
   "execution_count": 8,
   "metadata": {},
   "outputs": [],
   "source": [
    "def lemmatization(texts):\n",
    "    \"\"\"https://spacy.io/api/annotation\"\"\"\n",
    "    nlp = Dutch()\n",
    "    texts_out = []\n",
    "    for sent in texts:\n",
    "        doc = nlp(\" \".join(sent)) \n",
    "        texts_out.append([token.lemma_ for token in doc])\n",
    "    return texts_out"
   ]
  },
  {
   "cell_type": "code",
   "execution_count": 9,
   "metadata": {},
   "outputs": [],
   "source": [
    "def preprocess(filename):\n",
    "    text = filename\n",
    "    text = text.lower()\n",
    "\n",
    "    text_p = \"\".join([char for char in text if char not in string.punctuation])\n",
    "    \n",
    "    no_numb = ''.join(c for c in text_p if not c.isdigit())\n",
    "    \n",
    "    words = word_tokenize(no_numb)\n",
    "    \n",
    "    # stop_words = stopwords.words('dutch')\n",
    "    filtered_words = [word for word in words if word not in stopwords and len(word) > 2]\n",
    "    \n",
    "    # Approach One\n",
    "    lemmatizer = WordNetLemmatizer()\n",
    "    lemmatized = [lemmatizer.lemmatize(word) for word in filtered_words]\n",
    "    \n",
    "    # Approach Two - takes way too long for now - must be optimized\n",
    "    # lemmatized = [lemmatization(word) for word in filtered_words]\n",
    "    # lemmatized = lemmatization(filtered_words) \n",
    "    \n",
    "    return lemmatized"
   ]
  },
  {
   "cell_type": "code",
   "execution_count": 10,
   "metadata": {},
   "outputs": [],
   "source": [
    "data_words = []\n",
    "for i in data:\n",
    "    a = preprocess(i)\n",
    "    data_words.append(a)"
   ]
  },
  {
   "cell_type": "markdown",
   "metadata": {},
   "source": [
    "# Getting Data"
   ]
  },
  {
   "cell_type": "code",
   "execution_count": 11,
   "metadata": {},
   "outputs": [],
   "source": [
    "#BIGRAMS AND TRIGRAMS\n",
    "bigram_phrases = gensim.models.Phrases(data_words, min_count=5, threshold=100) # min_counts = Minimum counts that it is being taken into consideration\n",
    "trigram_phrases = gensim.models.Phrases(bigram_phrases[data_words], threshold=100)\n",
    "\n",
    "bigram = gensim.models.phrases.Phraser(bigram_phrases)\n",
    "trigram = gensim.models.phrases.Phraser(trigram_phrases)\n",
    "\n",
    "def make_bigrams(texts):\n",
    "    return([bigram[doc] for doc in texts])\n",
    "\n",
    "def make_trigrams(texts):\n",
    "    return ([trigram[bigram[doc]] for doc in texts])\n",
    "\n",
    "data_bigrams = make_bigrams(data_words)\n",
    "data_bigrams_trigrams = make_trigrams(data_bigrams)\n"
   ]
  },
  {
   "cell_type": "code",
   "execution_count": 12,
   "metadata": {},
   "outputs": [
    {
     "name": "stdout",
     "output_type": "stream",
     "text": [
      "['tenlasteleggingnnnde_verdenking_komt', 'wijziging_tenlastelegging', 'januari', 'kort_zakelijk_weergegeven', 'neer', 'verdachte', 'nnfeit', 'primair', 'periode', 'december', 'december', 'anderen', 'alleen', 'ghb', 'mdma_xtc', 'amfetamine', 'lsd', 'cocaïne', 'gehandeld', 'drug', 'opzettelijk', 'aanwezig_gehad', 'wel', 'subsidiair', 'hieraan_medeplichtig', 'nnfeit', 'december', 'anderen', 'alleen', 'diverse', 'soorten', 'drug', 'bereid', 'bewerkt', 'verwerkt', 'wel', 'opzettelijk', 'aanwezig_gehad', 'nnnnvoluit_luidt', 'tenlastelegging', 'verdachte', 'datnnn', 'tijdstippen', 'omstreeks', 'periode', 'december', 'december', 'enschede', 'enof', 'almelo', 'ieder', 'geval', 'nederland_tezamen_vereniging', 'anderen', 'althans', 'alleen', 'opzettelijk', 'verkocht', 'enof', 'afgeleverd', 'enof', 'verstrekt', 'enof', 'vervoerd', 'elk', 'geval', 'opzettelijk', 'aanwezig', 'gehadeen', 'hoeveelheid_materiaal_bevattende', 'ghb', 'zijnde', 'ghb', 'enofeen_hoeveelheid_materiaal_bevattende', 'mdma_xtc', 'zijnde', 'mdma_xtc', 'enofeen_hoeveelheid_materiaal_bevattende', 'amfetamine', 'zijnde_amfetamine', 'enofeen_hoeveelheid_materiaal_bevattende', 'lsd', 'zijnde', 'lsd', 'enofeen_hoeveelheid_materiaal_bevattende', 'cocaïne', 'zijnde', 'cocaïne', 'enofeen_hoeveelheid_materiaal_bevattende', 'zijnde', 'cbnnntelkens', 'middel_bedoeld_opiumwet', 'behorende_lijst_wel_aangewezen', 'krachtens_vijfde_lid', 'artikel', 'wetnnnnalthans', 'zover_vorenstaande_veroordeling', 'mocht_volgen_subsidiair_terzake', 'datneen', 'onbekend_gebleven_persoonen', 'enof', 'naam', 'enof', 'naam']\n"
     ]
    }
   ],
   "source": [
    "print (data_bigrams_trigrams[2])"
   ]
  },
  {
   "cell_type": "code",
   "execution_count": 13,
   "metadata": {},
   "outputs": [],
   "source": [
    "#TF-IDF REMOVAL\n",
    "from gensim.models import TfidfModel\n",
    "\n",
    "id2word = corpora.Dictionary(data_bigrams_trigrams)\n",
    "\n",
    "texts = data_bigrams_trigrams\n",
    "\n",
    "corpus = [id2word.doc2bow(text) for text in texts]\n",
    "# print (corpus[0][0:20])\n",
    "\n",
    "tfidf = TfidfModel(corpus, id2word=id2word)\n",
    "\n",
    "low_value = 0.03\n",
    "words  = []\n",
    "words_missing_in_tfidf = []\n",
    "for i in range(0, len(corpus)):\n",
    "    bow = corpus[i]\n",
    "    low_value_words = [] #reinitialize to be safe. You can skip this.\n",
    "    tfidf_ids = [id for id, value in tfidf[bow]]\n",
    "    bow_ids = [id for id, value in bow]\n",
    "    low_value_words = [id for id, value in tfidf[bow] if value < low_value]\n",
    "    drops = low_value_words+words_missing_in_tfidf\n",
    "    for item in drops:\n",
    "        words.append(id2word[item])\n",
    "    words_missing_in_tfidf = [id for id in bow_ids if id not in tfidf_ids] # The words with tf-idf socre 0 will be missing\n",
    "\n",
    "    new_bow = [b for b in bow if b[0] not in low_value_words and b[0] not in words_missing_in_tfidf]\n",
    "    corpus[i] = new_bow\n"
   ]
  },
  {
   "cell_type": "code",
   "execution_count": 14,
   "metadata": {},
   "outputs": [
    {
     "name": "stdout",
     "output_type": "stream",
     "text": [
      "'aangeefster'\n",
      "[(0, 4), (1, 1), (3, 1), (5, 1), (6, 4), (7, 1), (8, 1), (9, 1), (10, 1), (11, 1), (12, 1), (14, 1), (15, 1), (17, 1), (18, 2), (20, 1), (22, 1), (23, 1), (24, 1), (25, 1), (26, 3), (27, 1), (29, 1), (32, 1), (34, 1), (35, 3), (36, 1), (37, 2), (38, 4), (39, 2), (40, 1), (41, 2), (42, 1), (43, 3), (44, 1), (46, 1), (47, 2), (48, 3), (50, 2), (51, 3), (53, 2), (54, 2), (55, 1), (56, 1), (57, 1), (58, 10), (59, 1), (60, 1), (61, 1), (62, 1), (64, 2), (65, 3), (66, 2), (67, 1), (69, 1), (70, 1), (71, 1), (73, 1), (74, 1), (75, 4), (76, 1), (77, 10), (78, 1), (80, 1), (81, 1), (82, 1), (83, 1), (84, 1), (85, 1), (86, 5), (87, 3), (88, 1), (90, 1), (91, 1), (92, 2), (93, 2), (96, 1), (97, 1), (98, 1), (99, 1), (100, 2), (102, 1), (103, 1), (105, 1), (106, 1), (107, 2), (108, 4), (109, 1), (110, 1), (112, 2), (113, 1), (114, 1), (115, 1), (116, 4), (123, 1), (124, 1), (126, 1), (127, 4), (128, 1), (130, 1), (131, 4), (133, 1), (137, 1), (139, 3), (140, 1), (142, 1), (146, 1), (147, 1), (148, 1), (149, 1), (150, 1), (152, 1), (158, 3), (159, 2)]\n"
     ]
    }
   ],
   "source": [
    "pprint(id2word[0])\n",
    "print((corpus)[0])"
   ]
  },
  {
   "cell_type": "code",
   "execution_count": 15,
   "metadata": {
    "collapsed": true
   },
   "outputs": [
    {
     "data": {
      "text/plain": [
       "[[('aangeefster', 4),\n",
       "  ('aangehouden', 1),\n",
       "  ('aanzien_bewijsnnnnnnde', 1),\n",
       "  ('afgesproken', 1),\n",
       "  ('afspraak', 4),\n",
       "  ('arnhem', 1),\n",
       "  ('arnhemzuid', 1),\n",
       "  ('begin', 1),\n",
       "  ('beiden', 1),\n",
       "  ('bellen', 1),\n",
       "  ('beneden', 1),\n",
       "  ('bevondnnnnnhet', 1),\n",
       "  ('beweerdelijk', 1),\n",
       "  ('boekarest', 1),\n",
       "  ('bus', 2),\n",
       "  ('daarvoor', 1),\n",
       "  ('desbevoegd', 1),\n",
       "  ('dient_vrijgesproken', 1),\n",
       "  ('discussie_staat', 1),\n",
       "  ('dochter', 1),\n",
       "  ('duitsland', 3),\n",
       "  ('düsseldorf', 1),\n",
       "  ('echtgenote', 1),\n",
       "  ('einde', 1),\n",
       "  ('feitennnop_grond', 1),\n",
       "  ('gaan', 3),\n",
       "  ('gebeld', 1),\n",
       "  ('gebezigd', 2),\n",
       "  ('geboren_geboortedatum_geboorteplaats', 4),\n",
       "  ('gegaan', 2),\n",
       "  ('gehaald', 1),\n",
       "  ('gekomen', 2),\n",
       "  ('genaamd', 1),\n",
       "  ('genomen', 3),\n",
       "  ('gestapt', 1),\n",
       "  ('getrouwd', 1),\n",
       "  ('getuige', 2),\n",
       "  ('gezag', 3),\n",
       "  ('hadden', 2),\n",
       "  ('halen', 3),\n",
       "  ('henhaar', 2),\n",
       "  ('hongarije', 2),\n",
       "  ('hoorde', 1),\n",
       "  ('huis', 1),\n",
       "  ('ingesproken', 1),\n",
       "  ('kinderen', 10),\n",
       "  ('kleding', 1),\n",
       "  ('kledingtoiletartikelen', 1),\n",
       "  ('kleve', 1),\n",
       "  ('konden', 1),\n",
       "  ('laste_gelegde', 2),\n",
       "  ('leerkracht', 3),\n",
       "  ('list', 2),\n",
       "  ('lokken', 1),\n",
       "  ('mededelen', 1),\n",
       "  ('mededeling', 1),\n",
       "  ('meegenomen', 1),\n",
       "  ('minderjarige', 1),\n",
       "  ('minderjarigeen', 1),\n",
       "  ('minderjarigen', 4),\n",
       "  ('moeder', 1),\n",
       "  ('naam', 10),\n",
       "  ('nam', 1),\n",
       "  ('net', 1),\n",
       "  ('nijmegen', 1),\n",
       "  ('nnaangeefster', 1),\n",
       "  ('nnnnnbeoordeling', 1),\n",
       "  ('nnnnnhet_standpunt', 1),\n",
       "  ('nnntoverwegingen', 1),\n",
       "  ('november', 5),\n",
       "  ('ochtend', 3),\n",
       "  ('officier_justitie_gesteld', 1),\n",
       "  ('onttrekken', 1),\n",
       "  ('onttrokken_wettig', 1),\n",
       "  ('oostenrijk', 2),\n",
       "  ('opgehaald', 2),\n",
       "  ('opzicht_degene', 1),\n",
       "  ('oud', 1),\n",
       "  ('pakken', 1),\n",
       "  ('paniek', 1),\n",
       "  ('paspoorten', 2),\n",
       "  ('proberen', 1),\n",
       "  ('raakte', 1),\n",
       "  ('roemenië', 1),\n",
       "  ('salzburg', 1),\n",
       "  ('saman', 2),\n",
       "  ('school', 4),\n",
       "  ('schooldag', 1),\n",
       "  ('schooltijd', 1),\n",
       "  ('shoppen', 2),\n",
       "  ('standpunt_gesteld', 1),\n",
       "  ('standpunt_officier_justitie_nnde', 1),\n",
       "  ('strijd_waarheid', 1),\n",
       "  ('tandarts', 4),\n",
       "  ('thuis', 1),\n",
       "  ('tijdstip', 1),\n",
       "  ('toiletartikelen', 1),\n",
       "  ('trein', 4),\n",
       "  ('twaalf_jaren', 1),\n",
       "  ('uitoefende', 1),\n",
       "  ('uur', 4),\n",
       "  ('vastgesteldnaangeefster', 1),\n",
       "  ('verdedigingnnde_verdediging', 1),\n",
       "  ('verklaard', 3),\n",
       "  ('vertellen', 1),\n",
       "  ('voicemail', 1),\n",
       "  ('vroeg', 1),\n",
       "  ('vroeger', 1),\n",
       "  ('waarom', 1),\n",
       "  ('wachten', 1),\n",
       "  ('waswaren', 1),\n",
       "  ('wegnnnnde', 1),\n",
       "  ('woonboulevard', 3),\n",
       "  ('zodat', 2)]]"
      ]
     },
     "execution_count": 15,
     "metadata": {},
     "output_type": "execute_result"
    }
   ],
   "source": [
    "# Human readable format of corpus (term-frequency)\n",
    "[[(id2word[id], freq) for id, freq in cp] for cp in corpus[:1]]"
   ]
  },
  {
   "cell_type": "code",
   "execution_count": 16,
   "metadata": {},
   "outputs": [],
   "source": [
    "#id2word = corpora.Dictionary(all_texts)\n",
    "\n",
    "# corpus = []\n",
    "# for text in data_words:\n",
    "#     new = id2word.doc2bow(text)\n",
    "#     corpus.append(new)\n",
    "\n",
    "# print (corpus[0][0:20])\n",
    "\n",
    "# word = id2word[[0][:1][0]]\n",
    "# print (word)"
   ]
  },
  {
   "cell_type": "code",
   "execution_count": 17,
   "metadata": {},
   "outputs": [],
   "source": [
    "lda_model = gensim.models.ldamodel.LdaModel(corpus=corpus[:-1],\n",
    "                                           id2word=id2word,\n",
    "                                           num_topics=10,\n",
    "                                           random_state=100,\n",
    "                                           update_every=1,\n",
    "                                           chunksize=100,\n",
    "                                           passes=10,\n",
    "                                           alpha=\"auto\")\n"
   ]
  },
  {
   "cell_type": "code",
   "execution_count": 18,
   "metadata": {},
   "outputs": [
    {
     "name": "stdout",
     "output_type": "stream",
     "text": [
      "[(0, '0.049*\"medeverdachte\" + 0.031*\"hof\" + 0.027*\"benadeelde\" + 0.024*\"rechtbank\" + 0.020*\"getuige\" + 0.018*\"zag\" + 0.017*\"uur\" + 0.016*\"verklaard\" + 0.016*\"auto\" + 0.016*\"verbalisant\"'), (1, '0.014*\"the\" + 0.013*\"zoals\" + 0.013*\"oogmerk\" + 0.011*\"internationale\" + 0.008*\"jund_alaqsa\" + 0.006*\"ahrar_alsham\" + 0.006*\"terroristisch\" + 0.006*\"organisatie\" + 0.006*\"syrië\" + 0.005*\"organisaties\"'), (2, '0.018*\"weg\" + 0.012*\"bestuurder\" + 0.012*\"reed\" + 0.010*\"schip\" + 0.010*\"personenauto\" + 0.010*\"gevolg\" + 0.009*\"tijdig\" + 0.008*\"snelheid\" + 0.007*\"werknemers\" + 0.007*\"gereden\"'), (3, '0.185*\"enof\" + 0.022*\"althans\" + 0.018*\"slachtoffer\" + 0.015*\"enofnufd\" + 0.014*\"geval\" + 0.014*\"elk\" + 0.012*\"naam\" + 0.009*\"telkens\" + 0.008*\"woning\" + 0.008*\"ander\"'), (4, '0.277*\"naam\" + 0.048*\"medeverdachte\" + 0.046*\"september\" + 0.045*\"kinderen\" + 0.021*\"rechtbank\" + 0.019*\"verklaard\" + 0.016*\"zoons\" + 0.012*\"geld\" + 0.007*\"uur\" + 0.007*\"verzoek\"'), (5, '0.131*\"enof\" + 0.029*\"bedrijf\" + 0.020*\"verdachte\" + 0.018*\"euro\" + 0.016*\"telkens\" + 0.014*\"enofn\" + 0.013*\"kenteken\" + 0.012*\"benadeelde\" + 0.012*\"één\" + 0.008*\"merk\"'), (6, '0.228*\"slachtoffer\" + 0.019*\"zoon\" + 0.016*\"jullie\" + 0.014*\"geweld\" + 0.014*\"laten\" + 0.013*\"terwijl\" + 0.011*\"aangever\" + 0.011*\"nufd\" + 0.010*\"dood\" + 0.010*\"feitelijkheid\"'), (7, '0.126*\"aangeefster\" + 0.055*\"minderjarige\" + 0.035*\"laten\" + 0.026*\"meisje\" + 0.020*\"dreiging\" + 0.014*\"geboren_geboortedatum\" + 0.013*\"misleiding\" + 0.013*\"ouderlijk\" + 0.013*\"milaan\" + 0.013*\"dwang\"'), (8, '0.013*\"veenendaal\" + 0.012*\"saman\" + 0.012*\"nntenlasteleggingnnnde_tenlastelegging_bijlage_vonnis\" + 0.012*\"nnop\" + 0.010*\"neer\" + 0.010*\"komt_kort_feitelijk_weergegeven\" + 0.009*\"gehechtnnnnde_verdenking\" + 0.004*\"hilversum\" + 0.004*\"neer_verdachtennnnnfeit\" + 0.004*\"bussum\"'), (9, '0.006*\"gegijzeld\" + 0.006*\"verdenking_komt_kort_feitelijk\" + 0.005*\"weergegeven_neer\" + 0.005*\"terechtzitting\" + 0.005*\"althans_aanmerkelijk_onvoorzichtig\" + 0.004*\"hoger\" + 0.002*\"onachtzaam\" + 0.002*\"bestuurd\" + 0.002*\"gehecht_nnnnde\" + 0.002*\"tenlasteleggingen\"')]\n"
     ]
    }
   ],
   "source": [
    "# Print the Keyword in the 10 topics\n",
    "print(lda_model.print_topics())\n",
    "doc_lda = lda_model[corpus]"
   ]
  },
  {
   "cell_type": "code",
   "execution_count": 19,
   "metadata": {},
   "outputs": [
    {
     "name": "stdout",
     "output_type": "stream",
     "text": [
      "[(2, 0.022763673), (3, 0.7667555), (4, 0.08246679), (6, 0.10881156), (7, 0.011538684)]\n",
      "[(3, 0.7667555), (6, 0.10881156), (4, 0.08246679), (2, 0.022763673), (7, 0.011538684)]\n"
     ]
    }
   ],
   "source": [
    "test_doc = corpus[-1]\n",
    "\n",
    "vector = lda_model[test_doc]\n",
    "print (vector)\n",
    "\n",
    "def Sort(sub_li):\n",
    "    sub_li.sort(key = lambda x: x[1])\n",
    "    sub_li.reverse()\n",
    "    return (sub_li)\n",
    "new_vector = Sort(vector)\n",
    "print (new_vector)"
   ]
  },
  {
   "cell_type": "code",
   "execution_count": 20,
   "metadata": {},
   "outputs": [],
   "source": [
    "# lda_model.save(\"/Users/dj/Documents/GitHub/DSP/topic_modeling_textbook-main/models/test_model.model\")"
   ]
  },
  {
   "cell_type": "code",
   "execution_count": 21,
   "metadata": {},
   "outputs": [],
   "source": [
    "# new_model = gensim.models.ldamodel.LdaModel.load(\"models/test_model.model\")"
   ]
  },
  {
   "cell_type": "code",
   "execution_count": 22,
   "metadata": {},
   "outputs": [
    {
     "name": "stdout",
     "output_type": "stream",
     "text": [
      "[(2, 0.022763668), (3, 0.7667548), (4, 0.08246695), (6, 0.10881186), (7, 0.011538683)]\n",
      "[(3, 0.7667548), (6, 0.10881186), (4, 0.08246695), (2, 0.022763668), (7, 0.011538683)]\n"
     ]
    }
   ],
   "source": [
    "test_doc = corpus[-1]\n",
    "\n",
    "vector = lda_model[test_doc] # lda_model can be replaced by new_model\n",
    "print (vector)\n",
    "\n",
    "def Sort(sub_li):\n",
    "    sub_li.sort(key = lambda x: x[1])\n",
    "    sub_li.reverse()\n",
    "    return (sub_li)\n",
    "new_vector = Sort(vector)\n",
    "print (new_vector)"
   ]
  },
  {
   "cell_type": "markdown",
   "metadata": {},
   "source": [
    "## Vizualizing the Data"
   ]
  },
  {
   "cell_type": "code",
   "execution_count": 23,
   "metadata": {},
   "outputs": [
    {
     "data": {
      "text/html": [
       "\n",
       "<link rel=\"stylesheet\" type=\"text/css\" href=\"https://cdn.jsdelivr.net/gh/bmabey/pyLDAvis@3.3.1/pyLDAvis/js/ldavis.v1.0.0.css\">\n",
       "\n",
       "\n",
       "<div id=\"ldavis_el1726140361089993424836801735\"></div>\n",
       "<script type=\"text/javascript\">\n",
       "\n",
       "var ldavis_el1726140361089993424836801735_data = {\"mdsDat\": {\"x\": [-0.40498539738803396, -0.08131675647190155, -0.33545352769108583, -0.18437800397129572, 0.2513447636390058, 0.32494882813148984, 0.1857761443928284, 0.06207219099043673, 0.07700893613033438, 0.10498282223822174], \"y\": [0.06632177781612404, -0.3964644166946861, -0.14459707239342653, 0.39544623769757536, -0.2836768408794841, 0.04582268252739073, 0.3102716180475872, -0.051128805434544816, 0.039396280275926406, 0.01860853903753777], \"topics\": [1, 2, 3, 4, 5, 6, 7, 8, 9, 10], \"cluster\": [1, 1, 1, 1, 1, 1, 1, 1, 1, 1], \"Freq\": [39.574873715279566, 19.708900490364332, 16.580990744361877, 11.79465764744382, 4.236180568321031, 4.12644267466737, 2.7016425140278217, 0.9094996356253481, 0.25309358982703634, 0.11371842008179373]}, \"tinfo\": {\"Term\": [\"slachtoffer\", \"enof\", \"naam\", \"medeverdachte\", \"aangeefster\", \"hof\", \"september\", \"rechtbank\", \"bedrijf\", \"laten\", \"voornoemde\", \"itali\\u00eb\", \"betrokkene\", \"gezag\", \"goed_geheel\", \"meermalen\", \"danwel\", \"bedreiging_geweld\", \"onttrokken\", \"toestemming\", \"meerdere\", \"ander\", \"enofnufd\", \"althans\", \"enof\", \"geval\", \"elk\", \"weten\", \"gemeente\", \"anderen\", \"woning\", \"telkens\", \"slachtoffer\", \"naam\", \"hof\", \"getuige\", \"zag\", \"verbalisant\", \"man\", \"verklaring\", \"oordeel\", \"brief\", \"telefoonnummer\", \"bewezen\", \"moment\", \"aangetroffen\", \"uur\", \"medeverdachte\", \"rechtbank\", \"verklaard\", \"benadeelde\", \"auto\", \"bedrijf\", \"verdachte\", \"geldbedragen\", \"zaak\", \"valse\", \"totaal\", \"factuur\", \"bewogen_afgifte\", \"volkswagen\", \"bonafide\", \"euro\", \"geldbedrag\", \"\\u00e9\\u00e9n\", \"enof\", \"telkens\", \"kenteken\", \"enofn\", \"merk\", \"benadeelde\", \"zoon\", \"jullie\", \"aangever\", \"nufd\", \"dood\", \"feitelijkheid\", \"huis\", \"maak\", \"beneden\", \"gegaan\", \"nijmegen\", \"slachtoffer\", \"geweld\", \"laten\", \"terwijl\", \"kinderen\", \"zoons\", \"verzoek\", \"geschreven\", \"vertrokken\", \"avond\", \"vriendin\", \"zegt\", \"groot\", \"italiaanse\", \"naam\", \"september\", \"handelen\", \"medeverdachte\", \"later\", \"verklaard\", \"rechtbank\", \"geld\", \"uur\", \"reed\", \"schip\", \"tijdig\", \"snelheid\", \"werknemers\", \"tenlasteleggingnnde_tenlastelegging_bijlage_vonnis\", \"rechtspersoon\", \"gehecht_nde_verdenking_komt\", \"kort_feitelijk_weergegeven_neer\", \"verkeer\", \"bestuurder\", \"weg\", \"gevolg\", \"personenauto\", \"gereden\", \"aangeefster\", \"minderjarige\", \"meisje\", \"dreiging\", \"misleiding\", \"dwang\", \"naakt\", \"onttrekking\", \"uitbuiting\", \"misbruik_kwetsbare_positie\", \"wettig\", \"milaan\", \"laten\", \"geboren_geboortedatum\", \"ouderlijk\", \"the\", \"internationale\", \"jund_alaqsa\", \"ahrar_alsham\", \"terroristisch\", \"syri\\u00eb\", \"organisaties\", \"irak\", \"gemeente_goereeoverflakkee\", \"service\", \"zoals\", \"oogmerk\", \"organisatie\", \"veenendaal\", \"nntenlasteleggingnnnde_tenlastelegging_bijlage_vonnis\", \"nnop\", \"komt_kort_feitelijk_weergegeven\", \"gehechtnnnnde_verdenking\", \"neer_verdachtennnnnfeit\", \"bussum\", \"nnnnnnfeit\", \"erop\", \"weesp\", \"neer\", \"saman\", \"hilversum\", \"gegijzeld\", \"verdenking_komt_kort_feitelijk\", \"weergegeven_neer\", \"terechtzitting\", \"althans_aanmerkelijk_onvoorzichtig\", \"hoger\", \"gehecht_nnnnde\", \"tenlasteleggingen\", \"ervan\", \"verdenkt\", \"bestuurd\", \"onachtzaam\"], \"Freq\": [10564.0, 29372.0, 5148.0, 3848.0, 1056.0, 1862.0, 1236.0, 1748.0, 1490.0, 1136.0, 962.859807947087, 915.7590020973893, 563.3779560449568, 547.6636687717239, 542.1665317931555, 501.62999042099653, 483.0018170853451, 372.78297836132697, 366.8409769792174, 359.93080499774027, 420.5518073930539, 988.4941183773345, 1817.874432073211, 2729.5735514188573, 22676.746792567305, 1749.3604700830888, 1699.254941834683, 841.5513000169051, 769.1970808961566, 841.736619819674, 991.3209861928809, 1147.5093365708497, 2255.040427620625, 1492.8991759679004, 1861.7783435047436, 1202.828285420502, 1081.0891710075955, 952.9915485813435, 706.0378908683533, 548.9512864192141, 486.7507018176227, 357.2718759528508, 294.80817930477065, 294.02775452142515, 549.1192967002208, 469.0176423590833, 1061.1293225830707, 2984.4381394132006, 1469.9757572263652, 995.2031100001541, 1618.4993430864758, 971.7115265402225, 1489.5525612993063, 1015.1702913322956, 357.6263510767745, 276.4625350921201, 197.8059178095637, 167.48640776537187, 164.51936854100387, 162.1399782615395, 152.77192888336657, 143.6209843038126, 905.7543435397649, 336.03608705795125, 594.4727638473181, 6695.7314579344675, 822.2573612820387, 651.2577618985883, 696.4375259647798, 400.8466565909963, 638.7092812210824, 703.0526941383398, 595.6635759926672, 415.7620915429324, 409.69184648604784, 374.8064668297898, 369.4640153029983, 305.8680198885923, 302.00601983270417, 291.31466290202235, 275.9283991080854, 330.421931181859, 8309.046924070435, 515.8554752739916, 494.2224868522936, 466.9765275500441, 584.1440187694359, 214.21630812423805, 96.21025321385193, 86.9031032186854, 86.23174890935537, 62.81710609364093, 57.36283651380239, 53.77804276599588, 46.24371490774027, 44.759496617495024, 3625.563075501943, 599.8289889536187, 90.43716978891999, 630.6114798139412, 94.27742940934702, 243.10227597776253, 278.34312211135097, 153.04626151479033, 96.46883006056596, 155.642821687864, 132.15163696344513, 115.47097418877014, 107.21897554088447, 89.2652719731693, 86.93102615287648, 86.65316365489547, 84.4633661661023, 84.4633661661023, 77.32372662551374, 157.9847385404878, 226.57586535000866, 124.82416705646268, 125.9704605290907, 87.69551493653529, 1055.6971422986817, 456.6721466037287, 220.6336362690127, 167.1100232883791, 111.91308110631424, 106.48561894254502, 98.85175957227794, 95.80223213792493, 84.1262509690474, 68.39183221321817, 98.05954518557931, 109.81149552821175, 288.47399950461914, 118.41169772727446, 110.98797512931101, 38.92572648673077, 31.59258807320589, 23.152609274777394, 18.251460634354743, 17.448729472562587, 16.249530155188086, 14.973842208846316, 12.86152550493882, 11.40172082167213, 11.379012850682756, 37.342606742596175, 35.24515453322293, 16.91646531929195, 9.95668874326317, 9.12482380545559, 9.018997503804622, 7.730028659724082, 7.077114607283273, 3.1141204929567583, 2.9768352334080594, 2.114021743987917, 1.7757477462620102, 1.7577377479775904, 8.06316269669106, 9.383656827797429, 3.164996027544914, 2.223916998039776, 2.1453193894023284, 1.8327377426142328, 1.7110120247687597, 1.6087139909376786, 1.265442393623687, 0.8087243844234073, 0.6750715321948547, 0.6527367040986912, 0.6120450791658053, 0.809587021932787, 0.835576187534279], \"Total\": [10564.0, 29372.0, 5148.0, 3848.0, 1056.0, 1862.0, 1236.0, 1748.0, 1490.0, 1136.0, 963.4915832020506, 916.3965021459755, 564.0097247433201, 548.3015123479447, 542.7980774503301, 502.2615571994673, 483.6349581343684, 373.4145341046734, 367.47823483682225, 360.5637786169728, 421.4990735527121, 1000.1409954796093, 1853.82468318806, 2949.657463558637, 29372.988709658497, 1906.2791111104243, 2073.086513574719, 943.2660532107209, 879.2605429591692, 1023.7317319765032, 1378.6952366943635, 1970.2772565701716, 10564.652734095767, 5148.845384895099, 1862.37385599419, 1203.4237633008856, 1081.6846644270338, 953.5869914437797, 706.633329316271, 549.5469005686092, 487.3462049177314, 357.87020301515435, 295.403719126898, 294.6232489170992, 558.6573135154525, 481.13486991479084, 1158.1216787922915, 3848.7986070455077, 1748.8423681904449, 1238.8288522465139, 2814.81268667286, 1339.784764339608, 1490.163804744872, 1015.7815752975375, 358.23753704529184, 277.07391420348534, 198.417149463463, 168.09759322427968, 165.1305395883042, 162.75116178478257, 153.38351793953936, 144.24834991734014, 976.24626804943, 445.1262604123907, 977.425290733083, 29372.988709658497, 1970.2772565701716, 1474.4951993554055, 1717.0600727286983, 733.8807393804292, 2814.81268667286, 703.719581110334, 596.329835093102, 416.4283128530294, 410.35906884496256, 375.47332054598974, 370.1302392718027, 306.5343185545997, 302.6722876297136, 291.9809940056434, 276.5946473043674, 332.0855584534146, 10564.652734095767, 1209.2171682454589, 1136.5877212041767, 982.2475700521844, 584.8046379859628, 214.87696776284017, 96.87115979531565, 87.5636779827978, 86.89241411416864, 63.48056324858654, 58.023550478511915, 54.4384425056935, 46.905123892545255, 45.41999208360322, 5148.845384895099, 1236.0079478586404, 114.0475383492432, 3848.7986070455077, 149.06431758878705, 1238.8288522465139, 1748.8423681904449, 820.6312729753015, 1158.1216787922915, 156.27063828460598, 132.77991158759278, 116.10042410393805, 107.84721050644542, 89.8930131956529, 87.55879916141828, 87.28128281154866, 85.0911400608701, 85.0911400608701, 77.95146216646592, 171.94997049032813, 312.5276698528635, 189.4076517465531, 303.31685336595984, 101.52010561080046, 1056.3769698767835, 457.35196762189435, 221.31346003693062, 167.7905346228967, 112.5932392537599, 107.16585722587867, 99.53293247363604, 96.48435449785616, 84.80620656508623, 69.07220051666972, 99.29990927271191, 111.67850805902793, 1136.5877212041767, 202.0660857061814, 173.08071938567733, 39.608027212484515, 32.27666433273778, 23.83486994335916, 18.93371790081581, 18.130989322998534, 16.931783938770273, 15.6562127377159, 13.543779562016805, 12.084281239554887, 12.061794588400149, 181.57862575848506, 538.1100656640286, 128.60908390646205, 10.670849904913522, 9.838407831607642, 9.732715535785315, 8.44360715569934, 7.790693385749862, 3.827781598637993, 3.6907897733676833, 2.827694149401826, 2.4895343459038637, 2.471495956630107, 16.529716122561908, 472.7919857282531, 29.83860676896291, 2.947885085911656, 2.8684391075943045, 2.555850637507757, 2.435254415407698, 2.3322587185527253, 1.9895918091138551, 1.531858751190994, 1.3984035805734603, 1.3760254003150396, 1.33514972143783, 3.918116010518766, 8.640343121216475], \"Category\": [\"Default\", \"Default\", \"Default\", \"Default\", \"Default\", \"Default\", \"Default\", \"Default\", \"Default\", \"Default\", \"Topic1\", \"Topic1\", \"Topic1\", \"Topic1\", \"Topic1\", \"Topic1\", \"Topic1\", \"Topic1\", \"Topic1\", \"Topic1\", \"Topic1\", \"Topic1\", \"Topic1\", \"Topic1\", \"Topic1\", \"Topic1\", \"Topic1\", \"Topic1\", \"Topic1\", \"Topic1\", \"Topic1\", \"Topic1\", \"Topic1\", \"Topic1\", \"Topic2\", \"Topic2\", \"Topic2\", \"Topic2\", \"Topic2\", \"Topic2\", \"Topic2\", \"Topic2\", \"Topic2\", \"Topic2\", \"Topic2\", \"Topic2\", \"Topic2\", \"Topic2\", \"Topic2\", \"Topic2\", \"Topic2\", \"Topic2\", \"Topic3\", \"Topic3\", \"Topic3\", \"Topic3\", \"Topic3\", \"Topic3\", \"Topic3\", \"Topic3\", \"Topic3\", \"Topic3\", \"Topic3\", \"Topic3\", \"Topic3\", \"Topic3\", \"Topic3\", \"Topic3\", \"Topic3\", \"Topic3\", \"Topic3\", \"Topic4\", \"Topic4\", \"Topic4\", \"Topic4\", \"Topic4\", \"Topic4\", \"Topic4\", \"Topic4\", \"Topic4\", \"Topic4\", \"Topic4\", \"Topic4\", \"Topic4\", \"Topic4\", \"Topic4\", \"Topic5\", \"Topic5\", \"Topic5\", \"Topic5\", \"Topic5\", \"Topic5\", \"Topic5\", \"Topic5\", \"Topic5\", \"Topic5\", \"Topic5\", \"Topic5\", \"Topic5\", \"Topic5\", \"Topic5\", \"Topic5\", \"Topic5\", \"Topic5\", \"Topic5\", \"Topic6\", \"Topic6\", \"Topic6\", \"Topic6\", \"Topic6\", \"Topic6\", \"Topic6\", \"Topic6\", \"Topic6\", \"Topic6\", \"Topic6\", \"Topic6\", \"Topic6\", \"Topic6\", \"Topic6\", \"Topic7\", \"Topic7\", \"Topic7\", \"Topic7\", \"Topic7\", \"Topic7\", \"Topic7\", \"Topic7\", \"Topic7\", \"Topic7\", \"Topic7\", \"Topic7\", \"Topic7\", \"Topic7\", \"Topic7\", \"Topic8\", \"Topic8\", \"Topic8\", \"Topic8\", \"Topic8\", \"Topic8\", \"Topic8\", \"Topic8\", \"Topic8\", \"Topic8\", \"Topic8\", \"Topic8\", \"Topic8\", \"Topic9\", \"Topic9\", \"Topic9\", \"Topic9\", \"Topic9\", \"Topic9\", \"Topic9\", \"Topic9\", \"Topic9\", \"Topic9\", \"Topic9\", \"Topic9\", \"Topic9\", \"Topic10\", \"Topic10\", \"Topic10\", \"Topic10\", \"Topic10\", \"Topic10\", \"Topic10\", \"Topic10\", \"Topic10\", \"Topic10\", \"Topic10\", \"Topic10\"], \"logprob\": [10.0, 9.0, 8.0, 7.0, 6.0, 5.0, 4.0, 3.0, 2.0, 1.0, -4.845, -4.8951, -5.3809, -5.4092, -5.4193, -5.497, -5.5348, -5.7939, -5.8099, -5.829, -5.6733, -4.8187, -4.2094, -3.803, -1.6858, -4.2479, -4.2769, -4.9796, -5.0695, -4.9794, -4.8158, -4.6695, -3.9939, -4.4064, -3.4885, -3.9253, -4.032, -4.1581, -4.4581, -4.7097, -4.83, -5.1392, -5.3314, -5.3341, -4.7094, -4.8671, -4.0507, -3.0166, -3.7247, -4.1148, -3.6285, -4.1387, -3.5387, -3.9221, -4.9654, -5.2229, -5.5576, -5.724, -5.7419, -5.7565, -5.816, -5.8777, -4.0362, -5.0277, -4.4573, -2.0357, -4.1329, -4.366, -4.2989, -4.8513, -4.3855, -3.9489, -4.1146, -4.4742, -4.4889, -4.5779, -4.5923, -4.7812, -4.7939, -4.8299, -4.8842, -4.7039, -1.4792, -4.2585, -4.3013, -4.358, -3.1102, -4.1133, -4.9138, -5.0155, -5.0233, -5.3401, -5.4309, -5.4955, -5.6464, -5.679, -1.2846, -3.0837, -4.9757, -3.0336, -4.9341, -3.9869, -3.8515, -4.4496, -4.9111, -4.4065, -4.5701, -4.7051, -4.7792, -4.9625, -4.989, -4.9922, -5.0178, -5.0178, -5.1061, -4.3916, -4.031, -4.6272, -4.618, -4.9802, -2.0686, -2.9066, -3.634, -3.9119, -4.3128, -4.3625, -4.4369, -4.4682, -4.5982, -4.8053, -4.445, -4.3318, -3.3659, -4.2564, -4.3211, -4.2802, -4.4889, -4.7997, -5.0376, -5.0825, -5.1537, -5.2355, -5.3876, -5.508, -5.51, -4.3217, -4.3795, -5.1135, -4.3644, -4.4517, -4.4633, -4.6176, -4.7058, -5.5267, -5.5718, -5.9141, -6.0885, -6.0986, -4.5754, -4.4237, -5.5105, -5.0634, -5.0994, -5.2568, -5.3256, -5.3872, -5.6272, -6.0749, -6.2556, -6.2892, -6.3536, -6.0739, -6.0423], \"loglift\": [10.0, 9.0, 8.0, 7.0, 6.0, 5.0, 4.0, 3.0, 2.0, 1.0, 0.9263, 0.9263, 0.9259, 0.9258, 0.9258, 0.9257, 0.9257, 0.9253, 0.9252, 0.9252, 0.9247, 0.9153, 0.9074, 0.8494, 0.6682, 0.8411, 0.7281, 0.8129, 0.7932, 0.7312, 0.5971, 0.3864, -0.6174, -0.3111, 1.6238, 1.6236, 1.6235, 1.6235, 1.6233, 1.623, 1.6229, 1.6224, 1.6221, 1.6221, 1.6069, 1.5986, 1.5366, 1.3698, 1.4504, 1.4051, 1.0707, 1.3029, 1.7965, 1.7963, 1.7952, 1.7947, 1.7938, 1.7933, 1.7932, 1.7932, 1.7929, 1.7926, 1.722, 1.5158, 1.2997, 0.3183, 0.923, 0.9797, 0.8945, 1.1921, 0.3137, 2.1366, 2.1364, 2.1359, 2.1359, 2.1357, 2.1357, 2.1353, 2.1353, 2.1352, 2.1351, 2.1325, 1.8974, 1.2856, 1.3047, 1.394, 3.1604, 3.1584, 3.1547, 3.1539, 3.1539, 3.151, 3.1501, 3.1493, 3.1473, 3.1469, 2.8107, 2.4385, 2.9295, 1.3527, 2.7034, 1.5331, 1.3237, 1.4822, 0.6762, 3.1837, 3.183, 3.1823, 3.1819, 3.1807, 3.1806, 3.1805, 3.1803, 3.1803, 3.1797, 3.103, 2.8661, 2.7708, 2.309, 3.0414, 3.6107, 3.6098, 3.6082, 3.6072, 3.6053, 3.6049, 3.6044, 3.6042, 3.6033, 3.6014, 3.5987, 3.5945, 2.2401, 3.0769, 3.167, 4.6827, 4.6786, 4.671, 4.6633, 4.6617, 4.6589, 4.6555, 4.6483, 4.6419, 4.6418, 3.1185, 1.9743, 2.6715, 5.9099, 5.9039, 5.903, 5.8909, 5.8831, 5.7728, 5.7642, 5.6883, 5.6413, 5.6384, 5.2613, 2.0595, 3.7355, 6.4974, 6.4887, 6.4466, 6.4262, 6.4078, 6.3267, 6.1404, 6.0509, 6.0334, 5.9992, 5.2024, 4.4431]}, \"token.table\": {\"Topic\": [7, 2, 5, 4, 8, 1, 3, 10, 1, 3, 6, 1, 3, 1, 2, 3, 4, 6, 5, 1, 3, 1, 2, 3, 4, 2, 10, 2, 6, 1, 2, 3, 3, 2, 9, 1, 4, 7, 7, 1, 3, 1, 3, 1, 3, 4, 1, 7, 9, 10, 1, 3, 3, 4, 1, 7, 4, 10, 6, 10, 9, 1, 2, 3, 5, 1, 3, 3, 1, 3, 8, 1, 6, 5, 2, 1, 3, 4, 6, 1, 4, 1, 1, 5, 2, 5, 6, 1, 9, 2, 10, 4, 8, 8, 5, 1, 4, 8, 2, 3, 5, 9, 6, 1, 3, 4, 7, 4, 5, 4, 2, 2, 3, 5, 1, 1, 7, 1, 2, 3, 2, 7, 7, 7, 7, 2, 6, 7, 1, 2, 3, 5, 4, 9, 9, 1, 4, 9, 9, 9, 4, 1, 10, 7, 1, 1, 3, 8, 2, 1, 3, 8, 8, 5, 7, 1, 2, 3, 6, 2, 5, 6, 6, 1, 2, 3, 4, 9, 6, 1, 2, 3, 5, 8, 1, 4, 6, 8, 2, 1, 3, 10, 6, 10, 8, 1, 3, 4, 6, 8, 6, 1, 3, 7, 2, 5, 3, 9, 2, 3, 10, 10, 6, 2, 5, 2, 5, 5, 3, 1, 5, 10, 9, 2, 4, 6, 6, 1, 3, 1, 7, 1, 2, 3, 3, 2, 5, 2, 8, 4, 5, 1, 3, 6, 7], \"Freq\": [0.9996431483385827, 0.9747786521543534, 0.02494103161162525, 0.9989714607777388, 0.9506849153606762, 0.9255311959872012, 0.07458493154475615, 0.8575377954814091, 0.9878607161045457, 0.00299957707319194, 0.007998872195178508, 0.8224810990027275, 0.1768041317333654, 0.18211880482181017, 0.7254896651098339, 0.03433387304017733, 0.035080261584529, 0.02239165633055043, 0.9924297576455855, 0.9988898822439589, 0.9998900760142271, 0.19788172855593467, 0.5748162240637383, 0.22701332952826256, 0.9966402128022605, 0.7656741127485898, 0.2552247042495299, 0.0756033860484508, 0.9188719227427097, 0.9982097387704092, 0.9978845901693435, 0.9953845995534221, 0.9982783171004559, 0.997568383710567, 0.812834158598698, 0.9986871128240652, 0.9987394029879367, 0.9952885624646622, 0.9891210012586253, 0.819550939565149, 0.17992495612583906, 0.7720358395992334, 0.22796454477913597, 0.47173655299827294, 0.40534400109481233, 0.12230206929584854, 0.9806752582846985, 0.018879886710651512, 0.8033630880773687, 0.7267307709371142, 0.07170321904519251, 0.9280445207849202, 0.9992094764019445, 0.9969463741356925, 0.41075670719275453, 0.5839673668523498, 0.9978501127546656, 0.6784524978800132, 0.9871768075960722, 0.652801701999298, 0.8985079573024735, 0.4411238176282554, 0.02315290755507418, 0.3497307614898047, 0.18644183452243945, 0.24487434171827135, 0.7548420074985245, 0.9993369286556316, 0.8745985546126235, 0.1251051248470593, 0.9102734189927852, 0.1280534522869622, 0.8668233693271288, 0.9935626506813872, 0.9996478685947473, 0.9174941852986009, 0.08183481584138465, 0.33789553595035626, 0.6599522186530397, 0.5730980490506301, 0.42672235686886745, 0.9994500975445908, 0.9985296973525056, 0.9807030913164455, 0.09645100770448145, 0.7891446084912119, 0.10521928113216159, 0.8713543564991212, 0.10054088728836014, 0.9997992583535327, 0.5026156598651209, 0.9982569046196226, 0.9914283480509117, 0.9598502353403756, 0.9907531449404449, 0.9995673246841874, 0.9994468915125628, 0.9649727502040862, 0.5581571241193495, 0.4415070325658524, 0.9986240909635499, 0.9474623644232536, 0.9871768075960722, 0.2032399221727147, 0.10821865985819873, 0.4346342924386193, 0.2533900328387092, 0.36225973374101433, 0.6306002772528768, 0.9977788266148235, 0.9991037369877759, 0.7753068696651391, 0.06053837152546159, 0.1639472636590827, 0.9988159557540529, 0.9994792410533554, 0.9985836377196474, 0.1335366834708531, 0.3202155164862293, 0.5464103068552254, 0.008954274348574282, 0.984970178343171, 0.9992304228541434, 0.9844771049908717, 0.9947311289941408, 0.9827133498804802, 0.016110054916073445, 0.9946456669125348, 0.2899679225909437, 0.004272802610181354, 0.0015537464037023107, 0.7042355574780723, 0.48397685360612813, 0.48397685360612813, 0.7837437750020703, 0.0030112721693083843, 0.9937198158717668, 0.7072900725218398, 0.9247162281594214, 0.9147821633380447, 0.9991249886447661, 0.8101530114945793, 0.11573614449922562, 0.9949799685101596, 0.9986986036410167, 0.752634127927396, 0.18026051952828992, 0.06504245549989843, 0.9992896119550374, 0.5987135407635936, 0.2643670179995089, 0.13218350899975445, 0.9580861126053122, 0.3524367140170775, 0.6413192664900919, 0.19781294489300402, 0.016484412074417004, 0.36925083046694085, 0.4154071842753085, 0.8405560310853131, 0.15896229703518164, 0.9967772837143561, 0.9982681437307942, 0.6408738073960405, 0.30668878571757713, 0.002115095073914325, 0.02961133103480055, 0.019035855665228925, 0.9941262832738198, 0.28236064388148613, 0.2103546344102762, 0.021844519727220988, 0.485433771716022, 0.911970430219291, 0.21344762168304307, 0.7864905935984057, 0.9921443447404252, 0.9449683540647669, 0.9986333309272772, 0.5826591136713524, 0.41720016675771054, 0.7151011438271045, 0.9936180125039391, 0.8212694276812018, 0.9376212018632699, 0.46627755971508034, 0.0366506378815347, 0.47544021918546403, 0.021379538764228576, 0.984648889246045, 0.990521790833831, 0.9984363969693925, 0.9934705000635241, 0.9904935428933791, 0.9161386229350515, 0.08289284429949571, 0.9978976138675966, 0.9371324767107237, 0.9993844384948133, 0.9992305675584747, 0.6972433177001812, 0.7489796716753943, 0.9877941716547399, 0.8031779355119553, 0.1961530033461358, 0.9990048154797282, 0.9897296660097843, 0.9910070262691562, 0.9974996143999609, 0.9994897898324997, 0.9823597406558054, 0.7825183407236291, 0.8092264907958848, 0.15038668423223894, 0.12158923406010808, 0.7263356876748561, 0.9900658219820795, 0.892643170115125, 0.10707477456250311, 0.010070502655280922, 0.9869092602175303, 0.718795549316669, 0.26909500383096285, 0.011605175367373061, 0.9961240876588019, 0.9993670387964717, 0.9919460865242857, 0.7930448828901931, 0.2037684768537302, 0.9989774604407076, 0.9959187447032105, 0.36012982612307376, 0.607719081582687, 0.011254057066346055, 0.01943882584187046], \"Term\": [\"aangeefster\", \"aangetroffen\", \"aangetroffen\", \"aangever\", \"ahrar_alsham\", \"althans\", \"althans\", \"althans_aanmerkelijk_onvoorzichtig\", \"ander\", \"ander\", \"ander\", \"anderen\", \"anderen\", \"auto\", \"auto\", \"auto\", \"auto\", \"auto\", \"avond\", \"bedreiging_geweld\", \"bedrijf\", \"benadeelde\", \"benadeelde\", \"benadeelde\", \"beneden\", \"bestuurd\", \"bestuurd\", \"bestuurder\", \"bestuurder\", \"betrokkene\", \"bewezen\", \"bewogen_afgifte\", \"bonafide\", \"brief\", \"bussum\", \"danwel\", \"dood\", \"dreiging\", \"dwang\", \"elk\", \"elk\", \"enof\", \"enof\", \"enofn\", \"enofn\", \"enofn\", \"enofnufd\", \"enofnufd\", \"erop\", \"ervan\", \"euro\", \"euro\", \"factuur\", \"feitelijkheid\", \"geboren_geboortedatum\", \"geboren_geboortedatum\", \"gegaan\", \"gegijzeld\", \"gehecht_nde_verdenking_komt\", \"gehecht_nnnnde\", \"gehechtnnnnde_verdenking\", \"geld\", \"geld\", \"geld\", \"geld\", \"geldbedrag\", \"geldbedrag\", \"geldbedragen\", \"gemeente\", \"gemeente\", \"gemeente_goereeoverflakkee\", \"gereden\", \"gereden\", \"geschreven\", \"getuige\", \"geval\", \"geval\", \"gevolg\", \"gevolg\", \"geweld\", \"geweld\", \"gezag\", \"goed_geheel\", \"groot\", \"handelen\", \"handelen\", \"handelen\", \"hilversum\", \"hilversum\", \"hof\", \"hoger\", \"huis\", \"internationale\", \"irak\", \"italiaanse\", \"itali\\u00eb\", \"jullie\", \"jund_alaqsa\", \"kenteken\", \"kenteken\", \"kinderen\", \"komt_kort_feitelijk_weergegeven\", \"kort_feitelijk_weergegeven_neer\", \"laten\", \"laten\", \"laten\", \"laten\", \"later\", \"later\", \"maak\", \"man\", \"medeverdachte\", \"medeverdachte\", \"medeverdachte\", \"meerdere\", \"meermalen\", \"meisje\", \"merk\", \"merk\", \"merk\", \"milaan\", \"milaan\", \"minderjarige\", \"misbruik_kwetsbare_positie\", \"misleiding\", \"moment\", \"moment\", \"naakt\", \"naam\", \"naam\", \"naam\", \"naam\", \"neer\", \"neer\", \"neer_verdachtennnnnfeit\", \"nijmegen\", \"nijmegen\", \"nnnnnnfeit\", \"nnop\", \"nntenlasteleggingnnnde_tenlastelegging_bijlage_vonnis\", \"nufd\", \"onachtzaam\", \"onachtzaam\", \"onttrekking\", \"onttrokken\", \"oogmerk\", \"oogmerk\", \"oogmerk\", \"oordeel\", \"organisatie\", \"organisatie\", \"organisatie\", \"organisaties\", \"ouderlijk\", \"ouderlijk\", \"personenauto\", \"personenauto\", \"personenauto\", \"personenauto\", \"rechtbank\", \"rechtbank\", \"rechtspersoon\", \"reed\", \"saman\", \"saman\", \"saman\", \"saman\", \"saman\", \"schip\", \"september\", \"september\", \"september\", \"september\", \"service\", \"slachtoffer\", \"slachtoffer\", \"snelheid\", \"syri\\u00eb\", \"telefoonnummer\", \"telkens\", \"telkens\", \"tenlasteleggingen\", \"tenlasteleggingnnde_tenlastelegging_bijlage_vonnis\", \"terechtzitting\", \"terroristisch\", \"terwijl\", \"terwijl\", \"terwijl\", \"terwijl\", \"the\", \"tijdig\", \"toestemming\", \"totaal\", \"uitbuiting\", \"uur\", \"uur\", \"valse\", \"veenendaal\", \"verbalisant\", \"verdachte\", \"verdenking_komt_kort_feitelijk\", \"verdenkt\", \"verkeer\", \"verklaard\", \"verklaard\", \"verklaring\", \"vertrokken\", \"verzoek\", \"volkswagen\", \"voornoemde\", \"vriendin\", \"weergegeven_neer\", \"weesp\", \"weg\", \"weg\", \"weg\", \"werknemers\", \"weten\", \"weten\", \"wettig\", \"wettig\", \"woning\", \"woning\", \"woning\", \"zaak\", \"zag\", \"zegt\", \"zoals\", \"zoals\", \"zoon\", \"zoons\", \"\\u00e9\\u00e9n\", \"\\u00e9\\u00e9n\", \"\\u00e9\\u00e9n\", \"\\u00e9\\u00e9n\"]}, \"R\": 10, \"lambda.step\": 0.01, \"plot.opts\": {\"xlab\": \"PC1\", \"ylab\": \"PC2\"}, \"topic.order\": [4, 1, 6, 7, 5, 3, 8, 2, 9, 10]};\n",
       "\n",
       "function LDAvis_load_lib(url, callback){\n",
       "  var s = document.createElement('script');\n",
       "  s.src = url;\n",
       "  s.async = true;\n",
       "  s.onreadystatechange = s.onload = callback;\n",
       "  s.onerror = function(){console.warn(\"failed to load library \" + url);};\n",
       "  document.getElementsByTagName(\"head\")[0].appendChild(s);\n",
       "}\n",
       "\n",
       "if(typeof(LDAvis) !== \"undefined\"){\n",
       "   // already loaded: just create the visualization\n",
       "   !function(LDAvis){\n",
       "       new LDAvis(\"#\" + \"ldavis_el1726140361089993424836801735\", ldavis_el1726140361089993424836801735_data);\n",
       "   }(LDAvis);\n",
       "}else if(typeof define === \"function\" && define.amd){\n",
       "   // require.js is available: use it to load d3/LDAvis\n",
       "   require.config({paths: {d3: \"https://d3js.org/d3.v5\"}});\n",
       "   require([\"d3\"], function(d3){\n",
       "      window.d3 = d3;\n",
       "      LDAvis_load_lib(\"https://cdn.jsdelivr.net/gh/bmabey/pyLDAvis@3.3.1/pyLDAvis/js/ldavis.v3.0.0.js\", function(){\n",
       "        new LDAvis(\"#\" + \"ldavis_el1726140361089993424836801735\", ldavis_el1726140361089993424836801735_data);\n",
       "      });\n",
       "    });\n",
       "}else{\n",
       "    // require.js not available: dynamically load d3 & LDAvis\n",
       "    LDAvis_load_lib(\"https://d3js.org/d3.v5.js\", function(){\n",
       "         LDAvis_load_lib(\"https://cdn.jsdelivr.net/gh/bmabey/pyLDAvis@3.3.1/pyLDAvis/js/ldavis.v3.0.0.js\", function(){\n",
       "                 new LDAvis(\"#\" + \"ldavis_el1726140361089993424836801735\", ldavis_el1726140361089993424836801735_data);\n",
       "            })\n",
       "         });\n",
       "}\n",
       "</script>"
      ],
      "text/plain": [
       "PreparedData(topic_coordinates=              x         y  topics  cluster       Freq\n",
       "topic                                                \n",
       "3     -0.404985  0.066322       1        1  39.574874\n",
       "0     -0.081317 -0.396464       2        1  19.708900\n",
       "5     -0.335454 -0.144597       3        1  16.580991\n",
       "6     -0.184378  0.395446       4        1  11.794658\n",
       "4      0.251345 -0.283677       5        1   4.236181\n",
       "2      0.324949  0.045823       6        1   4.126443\n",
       "7      0.185776  0.310272       7        1   2.701643\n",
       "1      0.062072 -0.051129       8        1   0.909500\n",
       "8      0.077009  0.039396       9        1   0.253094\n",
       "9      0.104983  0.018609      10        1   0.113718, topic_info=                    Term          Freq         Total Category  logprob  \\\n",
       "757          slachtoffer  10564.000000  10564.000000  Default  10.0000   \n",
       "33                  enof  29372.000000  29372.000000  Default   9.0000   \n",
       "77                  naam   5148.000000   5148.000000  Default   8.0000   \n",
       "604        medeverdachte   3848.000000   3848.000000  Default   7.0000   \n",
       "0            aangeefster   1056.000000   1056.000000  Default   6.0000   \n",
       "...                  ...           ...           ...      ...      ...   \n",
       "11976  tenlasteleggingen      0.675072      1.398404  Topic10  -6.2556   \n",
       "3398               ervan      0.652737      1.376025  Topic10  -6.2892   \n",
       "5466            verdenkt      0.612045      1.335150  Topic10  -6.3536   \n",
       "1902            bestuurd      0.809587      3.918116  Topic10  -6.0739   \n",
       "5076          onachtzaam      0.835576      8.640343  Topic10  -6.0423   \n",
       "\n",
       "       loglift  \n",
       "757    10.0000  \n",
       "33      9.0000  \n",
       "77      8.0000  \n",
       "604     7.0000  \n",
       "0       6.0000  \n",
       "...        ...  \n",
       "11976   6.0509  \n",
       "3398    6.0334  \n",
       "5466    5.9992  \n",
       "1902    5.2024  \n",
       "5076    4.4431  \n",
       "\n",
       "[173 rows x 6 columns], token_table=       Topic      Freq          Term\n",
       "term                                \n",
       "0          7  0.999643   aangeefster\n",
       "255        2  0.974779  aangetroffen\n",
       "255        5  0.024941  aangetroffen\n",
       "256        4  0.998971      aangever\n",
       "8625       8  0.950685  ahrar_alsham\n",
       "...      ...       ...           ...\n",
       "21230      5  0.995919         zoons\n",
       "942        1  0.360130           één\n",
       "942        3  0.607719           één\n",
       "942        6  0.011254           één\n",
       "942        7  0.019439           één\n",
       "\n",
       "[235 rows x 3 columns], R=10, lambda_step=0.01, plot_opts={'xlab': 'PC1', 'ylab': 'PC2'}, topic_order=[4, 1, 6, 7, 5, 3, 8, 2, 9, 10])"
      ]
     },
     "execution_count": 23,
     "metadata": {},
     "output_type": "execute_result"
    }
   ],
   "source": [
    "pyLDAvis.enable_notebook()\n",
    "vis = gensimvis.prepare(lda_model, corpus, id2word, mds=\"mmds\", R=10)\n",
    "vis"
   ]
  },
  {
   "cell_type": "code",
   "execution_count": null,
   "metadata": {},
   "outputs": [],
   "source": [
    "# Each bubble represents a topic - the larger a bubble, the more important the topic\n",
    "# Good model has hardly any overlapping topics and scattered all over the quadrant\n",
    "\n",
    "\n"
   ]
  },
  {
   "cell_type": "markdown",
   "metadata": {},
   "source": [
    "# Advanced Analysis of Model"
   ]
  },
  {
   "cell_type": "code",
   "execution_count": 43,
   "metadata": {},
   "outputs": [
    {
     "name": "stdout",
     "output_type": "stream",
     "text": [
      "\n",
      "Perplexity:  -8.494848268970168\n"
     ]
    },
    {
     "name": "stderr",
     "output_type": "stream",
     "text": [
      "/opt/anaconda3/lib/python3.7/site-packages/gensim/topic_coherence/direct_confirmation_measure.py:204: RuntimeWarning: divide by zero encountered in double_scalars\n",
      "  m_lr_i = np.log(numerator / denominator)\n",
      "/opt/anaconda3/lib/python3.7/site-packages/gensim/topic_coherence/indirect_confirmation_measure.py:323: RuntimeWarning: invalid value encountered in double_scalars\n",
      "  return cv1.T.dot(cv2)[0, 0] / (_magnitude(cv1) * _magnitude(cv2))\n"
     ]
    },
    {
     "name": "stdout",
     "output_type": "stream",
     "text": [
      "\n",
      "Coherence Score:  nan\n"
     ]
    }
   ],
   "source": [
    "# Compute Perplexity\n",
    "print('\\nPerplexity: ', lda_model.log_perplexity(corpus))  # a measure of how good the model is. lower the better.\n",
    "\n",
    "# Compute Coherence Score\n",
    "coherence_model_lda = CoherenceModel(model=lda_model, texts=data_words, dictionary=id2word, coherence='c_v')\n",
    "coherence_lda = coherence_model_lda.get_coherence()\n",
    "print('\\nCoherence Score: ', coherence_lda)"
   ]
  },
  {
   "cell_type": "code",
   "execution_count": null,
   "metadata": {},
   "outputs": [],
   "source": []
  },
  {
   "cell_type": "code",
   "execution_count": null,
   "metadata": {},
   "outputs": [],
   "source": []
  },
  {
   "cell_type": "code",
   "execution_count": 57,
   "metadata": {},
   "outputs": [],
   "source": [
    "def compute_coherence_values(dictionary, corpus, texts, limit, start=2, step=3):\n",
    "    \"\"\"\n",
    "    Compute c_v coherence for various number of topics\n",
    "\n",
    "    Parameters:\n",
    "    ----------\n",
    "    dictionary : Gensim dictionary\n",
    "    corpus : Gensim corpus\n",
    "    texts : List of input texts\n",
    "    limit : Max num of topics\n",
    "\n",
    "    Returns:\n",
    "    -------\n",
    "    model_list : List of LDA topic models\n",
    "    coherence_values : Coherence values corresponding to the LDA model with respective number of topics\n",
    "    \"\"\"\n",
    "    coherence_values = []\n",
    "    model_list = []\n",
    "    for num_topics in range(start, limit, step):\n",
    "        model = gensim.models.ldamodel.LdaModel(corpus=corpus, num_topics=num_topics, id2word=id2word)\n",
    "        model_list.append(model)\n",
    "        coherence_model_lda = CoherenceModel(model=lda_model, texts=data_words, dictionary=id2word, coherence='c_v')\n",
    "        coherence_values.append(coherence_model_lda.get_coherence())\n",
    "\n",
    "    return model_list, coherence_values"
   ]
  },
  {
   "cell_type": "code",
   "execution_count": 58,
   "metadata": {},
   "outputs": [],
   "source": [
    "# Can take a long time to run.\n",
    "model_list, coherence_values = compute_coherence_values(dictionary=id2word, corpus=corpus, texts=data_words, start=2, limit=40, step=6)"
   ]
  },
  {
   "cell_type": "code",
   "execution_count": 63,
   "metadata": {},
   "outputs": [
    {
     "data": {
      "text/plain": [
       "[nan, nan, nan, nan, nan, nan, nan]"
      ]
     },
     "execution_count": 63,
     "metadata": {},
     "output_type": "execute_result"
    }
   ],
   "source": [
    "coherence_values"
   ]
  },
  {
   "cell_type": "code",
   "execution_count": 61,
   "metadata": {},
   "outputs": [
    {
     "data": {
      "image/png": "[encoded data removed]",
      "text/plain": [
       "<Figure size 432x288 with 1 Axes>"
      ]
     },
     "metadata": {
      "needs_background": "light"
     },
     "output_type": "display_data"
    }
   ],
   "source": [
    "# Show graph\n",
    "limit=40; start=2; step=6;\n",
    "x = range(start, limit, step)\n",
    "plt.plot(x, coherence_values)\n",
    "plt.xlabel(\"Num Topics\")\n",
    "plt.ylabel(\"Coherence score\")\n",
    "plt.legend((\"coherence_values\"), loc='best')\n",
    "plt.show()"
   ]
  },
  {
   "cell_type": "code",
   "execution_count": null,
   "metadata": {},
   "outputs": [],
   "source": []
  },
  {
   "cell_type": "code",
   "execution_count": null,
   "metadata": {},
   "outputs": [],
   "source": []
  },
  {
   "cell_type": "code",
   "execution_count": null,
   "metadata": {},
   "outputs": [],
   "source": []
  },
  {
   "cell_type": "code",
   "execution_count": null,
   "metadata": {},
   "outputs": [],
   "source": []
  },
  {
   "cell_type": "code",
   "execution_count": null,
   "metadata": {},
   "outputs": [],
   "source": []
  },
  {
   "cell_type": "code",
   "execution_count": null,
   "metadata": {},
   "outputs": [],
   "source": []
  }
 ],
 "metadata": {
  "kernelspec": {
   "display_name": "Python 3",
   "language": "python",
   "name": "python3"
  },
  "language_info": {
   "codemirror_mode": {
    "name": "ipython",
    "version": 3
   },
   "file_extension": ".py",
   "mimetype": "text/x-python",
   "name": "python",
   "nbconvert_exporter": "python",
   "pygments_lexer": "ipython3",
   "version": "3.7.10"
  }
 },
 "nbformat": 4,
 "nbformat_minor": 4
}
