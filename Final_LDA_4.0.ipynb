{
 "cells": [
  {
   "cell_type": "markdown",
   "metadata": {},
   "source": [
    "# Final LDA Model"
   ]
  },
  {
   "cell_type": "code",
   "execution_count": 1,
   "metadata": {},
   "outputs": [],
   "source": [
    "import re\n",
    "import numpy as np\n",
    "import pandas as pd\n",
    "from pprint import pprint\n",
    "\n",
    "from datetime import datetime\n",
    "\n",
    "# Gensim\n",
    "import gensim\n",
    "import gensim.corpora as corpora\n",
    "from gensim.utils import simple_preprocess\n",
    "from gensim.models import CoherenceModel\n",
    "\n",
    "# spacy for lemmatization\n",
    "import spacy\n",
    "\n",
    "# Plotting tools\n",
    "import pyLDAvis\n",
    "# import pyLDAvis.gensim  # Author: don't skip this\n",
    "# pyLDAvis.gensim.prepare\n",
    "\n",
    "# I think i need another one:\n",
    "import pyLDAvis.gensim_models\n",
    "import pyLDAvis.gensim_models as gensimvis\n",
    "\n",
    "# Plots\n",
    "import matplotlib.pyplot as plt\n",
    "from matplotlib.pyplot import figure\n",
    "%matplotlib inline\n",
    "\n",
    "# Enable logging for gensim - optional\n",
    "import logging\n",
    "logging.basicConfig(format='%(asctime)s : %(levelname)s : %(message)s', level=logging.ERROR)\n",
    "\n",
    "import warnings\n",
    "warnings.filterwarnings(\"ignore\",category=DeprecationWarning)\n",
    "\n",
    "# TF.IDF\n",
    "from sklearn.feature_extraction.text import TfidfVectorizer\n",
    "from sklearn.preprocessing import Normalizer\n",
    "from sklearn.cluster import KMeans\n",
    "from sklearn import metrics\n",
    "from sklearn.metrics.pairwise import cosine_distances"
   ]
  },
  {
   "cell_type": "code",
   "execution_count": 2,
   "metadata": {},
   "outputs": [],
   "source": [
    "# NLTK Stop words\n",
    "from nltk.corpus import stopwords\n",
    "stop_words = stopwords.words('dutch')\n",
    "stop_words.extend(['tenlastelegging', 'hof', 'althans', 'tenlastegelegd', 'naan', 'verklaring', 'verklaren', 'benadelen', 'naam', 'aangeefster', 'aangever', 'aangev', 'verbalisant', 'slachtoffer', 'rechtbank', 'uur', 'uren', 'weten', 'bestaan', 'waarheid', 'daarvoor', 'genaamd', 'maken', 'gaan', 'toverweging', 'aanzien', 'bewijs', 'feit', 'grond', 'staan', 'vaststellen', 'halen', 'vervolgens', 'nemen', 'aanhouden', 'bevinden', 'officier', 'justitie', 'overtuigen', 'bewijzen', 'maken', 'stellen', 'leggen', 'dienen', 'vrijspreken', 'daarnaast', 'bezigen', 'willen', 'gaan', 'vervolgens', 'raken', 'weten', 'proberen', 'echter', 'vraag', 'verdenken', 'vervatten', 'beslissing', 'hoger_beroep', 'verkort_vonni', 'geacht', 'instellen', 'ander', 'zien', 'toebehoren', 'hoeveelheid', 'lijst_ii', 'bereiken'])"
   ]
  },
  {
   "cell_type": "markdown",
   "metadata": {},
   "source": [
    "# Test "
   ]
  },
  {
   "cell_type": "code",
   "execution_count": 4,
   "metadata": {},
   "outputs": [
    {
     "name": "stdout",
     "output_type": "stream",
     "text": [
      "(300, 10)\n",
      "(306, 10)\n",
      "(315, 10)\n",
      "(527, 10)\n"
     ]
    }
   ],
   "source": [
    "\n",
    "df18 = pd.read_csv('/Users/dj/Python - UvA/DSP/data_2018.csv', index_col=0) \n",
    "df19 = pd.read_csv('/Users/dj/Python - UvA/DSP/data_2019.csv', index_col=0) \n",
    "df20 = pd.read_csv('/Users/dj/Python - UvA/DSP/data_2020.csv', index_col=0) \n",
    "df21 = pd.read_csv('/Users/dj/Python - UvA/DSP/data_2021.csv', index_col=0) \n",
    "\n",
    "convert_dict = {'lemm': str,\n",
    "                'year': str}\n",
    "  \n",
    "df18 = df18.astype(convert_dict)\n",
    "df19 = df19.astype(convert_dict)\n",
    "df20 = df20.astype(convert_dict)\n",
    "df21 = df21.astype(convert_dict)\n",
    "\n",
    "d = [df18, df19, df20, df21]\n",
    "\n",
    "for i in d:\n",
    "    test_list = []\n",
    "    for j in i['lemm']:\n",
    "        test_list.append(j.split())\n",
    "    \n",
    "    i['lemm_tok'] = test_list\n",
    "\n",
    "print(df18.shape)\n",
    "print(df19.shape)\n",
    "print(df20.shape)\n",
    "print(df21.shape)\n",
    "\n",
    "tfidf18 = pd.read_csv('/Users/dj/Python - UvA/DSP/topidfs_2018.csv', index_col=0) \n",
    "tfidf19 = pd.read_csv('/Users/dj/Python - UvA/DSP/topidfs_2019.csv', index_col=0) \n",
    "tfidf20 = pd.read_csv('/Users/dj/Python - UvA/DSP/topidfs_2020.csv', index_col=0) \n",
    "tfidf21 = pd.read_csv('/Users/dj/Python - UvA/DSP/topidfs_2021.csv', index_col=0) \n",
    "\n",
    "top_idfs = [tfidf18, tfidf19, tfidf20, tfidf21]\n",
    "\n",
    "i2w_df = pd.read_csv('/Users/dj/Python - UvA/DSP/i2words_df.csv', index_col=0) \n"
   ]
  },
  {
   "cell_type": "markdown",
   "metadata": {},
   "source": [
    "# Build Giant Function"
   ]
  },
  {
   "cell_type": "code",
   "execution_count": 4,
   "metadata": {},
   "outputs": [],
   "source": [
    "def get_lda_model(df):\n",
    "\n",
    "    data_lemmatized = df['lemm_tok']\n",
    "    # Create Dictionary\n",
    "    id2word = corpora.Dictionary(data_lemmatized)\n",
    "\n",
    "    # Create Corpus\n",
    "    texts = data_lemmatized\n",
    "\n",
    "    # Term Document Frequency\n",
    "    corpus = [id2word.doc2bow(text) for text in texts]\n",
    "    # corpus1 = [str(item) for item in corpus]\n",
    "\n",
    "    lda_model = gensim.models.ldamodel.LdaModel(corpus=corpus,\n",
    "                                        id2word=id2word,\n",
    "                                        num_topics=5, \n",
    "                                        random_state=100,\n",
    "                                        update_every=1,\n",
    "                                        chunksize=100,\n",
    "                                        passes=10,\n",
    "                                        alpha='auto',\n",
    "                                        per_word_topics=True)\n",
    "\n",
    "    return(data_lemmatized, corpus, id2word, lda_model)"
   ]
  },
  {
   "cell_type": "code",
   "execution_count": 25,
   "metadata": {},
   "outputs": [],
   "source": [
    "data_lemmatized, corpus, id2word, lda_model = get_lda_model(df21)"
   ]
  },
  {
   "cell_type": "markdown",
   "metadata": {},
   "source": [
    "# Compute Model Perplexity and Coherence Score"
   ]
  },
  {
   "cell_type": "code",
   "execution_count": 26,
   "metadata": {},
   "outputs": [
    {
     "name": "stdout",
     "output_type": "stream",
     "text": [
      "\n",
      "Perplexity:  -7.504170862140938\n",
      "\n",
      "Coherence Score:  0.4612774046994995\n"
     ]
    }
   ],
   "source": [
    "# Compute Perplexity\n",
    "print('\\nPerplexity: ', lda_model.log_perplexity(corpus))  # a measure of how good the model is. lower the better.\n",
    "\n",
    "# Compute Coherence Score\n",
    "coherence_model_lda = CoherenceModel(model=lda_model, texts=data_lemmatized, dictionary=id2word, coherence='c_v')\n",
    "coherence_lda = coherence_model_lda.get_coherence()\n",
    "print('\\nCoherence Score: ', coherence_lda)"
   ]
  },
  {
   "cell_type": "markdown",
   "metadata": {},
   "source": [
    "# Visualize the topics-keywords"
   ]
  },
  {
   "cell_type": "code",
   "execution_count": 27,
   "metadata": {},
   "outputs": [
    {
     "data": {
      "text/html": [
       "\n",
       "<link rel=\"stylesheet\" type=\"text/css\" href=\"https://cdn.jsdelivr.net/gh/bmabey/pyLDAvis@3.3.1/pyLDAvis/js/ldavis.v1.0.0.css\">\n",
       "\n",
       "\n",
       "<div id=\"ldavis_el11017140214010104912424742672\"></div>\n",
       "<script type=\"text/javascript\">\n",
       "\n",
       "var ldavis_el11017140214010104912424742672_data = {\"mdsDat\": {\"x\": [0.02448357502716891, -0.1175273054115712, -0.10732770736724839, -0.03508440879679138, 0.23545584654844195], \"y\": [0.053258064965502463, -0.1866012267553848, 0.08627472869600881, 0.09262043495011761, -0.04555200185624417], \"topics\": [1, 2, 3, 4, 5], \"cluster\": [1, 1, 1, 1, 1], \"Freq\": [39.540257927127286, 20.078816630061844, 17.643688023624506, 16.32763109798724, 6.409606321199139]}, \"tinfo\": {\"Term\": [\"kenteken\", \"telefoonnummer\", \"man\", \"bijnaam\", \"mededader\", \"oogmerk\", \"aantreffen\", \"artikel\", \"geweld\", \"geval\", \"lichaam\", \"duwen\", \"gerecht\", \"arm\", \"rug\", \"schoppen\", \"hard\", \"vagina\", \"slaan\", \"borst\", \"dood\", \"kracht\", \"steken\", \"bijnaam\", \"gezicht\", \"hoofd\", \"mes\", \"richting\", \"proces_verbaal\", \"medeverdacht\", \"zeggen\", \"komen\", \"auto\", \"getuige\", \"volgen\", \"bankpas\", \"pinpas\", \"sieraad\", \"afgifte\", \"bevoordeel\", \"phishing\", \"pincode\", \"betrapping\", \"verzeker\", \"paard\", \"euro\", \"oogmerk\", \"mededad\", \"mededader\", \"tezamen\", \"vereniging\", \"geldbedrag\", \"wederrechtelijk\", \"telkens\", \"geld\", \"alleen\", \"geval\", \"goed\", \"woning\", \"geweld\", \"loods\", \"volkswagen\", \"mercedes_benz\", \"wijnjewoud\", \"noordwolen\", \"bedrijfsnaam\", \"sprinter\", \"veiligstellen\", \"donor\", \"kentekenplaat\", \"kentekenen\", \"kenteken\", \"stelen\", \"afbeelding\", \"winkel\", \"voertuig\", \"voorzien\", \"man\", \"aantreffen\", \"merk\", \"telefoonnummer\", \"zaak\", \"auto\", \"medeverdacht\", \"persoon\", \"adres\", \"heroine\", \"koerier\", \"reis\", \"brand\", \"madagaskar\", \"opiumwet\", \"harddrug\", \"afnemer\", \"creditcard\", \"brandstichting\", \"helmond\", \"cocaine\", \"gram\", \"mail\", \"telefoonnummer\", \"onderzoek\", \"gesprek\", \"nummer\", \"blijken\", \"artikel\", \"omstandigheid\", \"volgen\", \"adres\", \"woning\", \"bedrijf\", \"oordeel\", \"schip\", \"motorrijtuig\", \"cafe\", \"ongeval\", \"asbest\", \"kruising\", \"aanrijding\", \"hennepplant\", \"onopletten\", \"verreik\", \"werknemer\", \"snelheid\", \"vrachtwagen\", \"last\", \"bestuurder\", \"artikel\", \"rijden\", \"weg\", \"lid\", \"komen\", \"bedrijf\"], \"Freq\": [1114.0, 1249.0, 1401.0, 1431.0, 816.0, 624.0, 902.0, 759.0, 815.0, 1460.0, 505.34386944756756, 221.42291380421915, 198.64843509824598, 164.0787296399559, 163.71800626427324, 152.48336792540337, 191.8310160971705, 145.7632884781537, 674.8264918347531, 121.0675939546488, 290.95914878537667, 320.753392271246, 273.09429289075626, 1355.7709163840905, 446.52138806178533, 729.164691182854, 355.2080267836845, 483.9780736438542, 560.0577711221097, 1320.730000068694, 727.9832914135565, 879.2540140454063, 831.2169442323667, 596.1881344049859, 552.4937317544744, 195.25647757941755, 161.01744881251267, 116.23901240259937, 89.9867612333475, 88.87080179341172, 89.91027717222264, 84.11369714894131, 82.13281395455628, 81.36723549707088, 74.53117409622874, 430.845478073683, 572.2923053005625, 122.72638446846071, 669.2666563570277, 612.4449137086451, 658.400280852398, 296.2709386982443, 418.2853915295051, 462.5001134145536, 597.7460568729209, 604.8065854959773, 872.0202275816525, 691.0450938454659, 672.0134599376421, 515.4125427432231, 308.51152431829263, 249.18633358347455, 217.64065435683474, 172.9714454488578, 168.2612003388864, 137.53470196710418, 105.7829281684194, 65.04110756527652, 62.251857004651654, 59.565358541138465, 204.785219461272, 1072.626427065165, 399.36580044597906, 177.1416002766734, 432.44779035888547, 425.2868869114397, 288.1917739448245, 829.9674793567117, 559.9882497455985, 375.2153835770393, 658.1508761816762, 587.3949798292789, 529.1957450248689, 522.6523767788199, 437.23853770181694, 428.61189480270826, 190.6402311989428, 160.074380399867, 128.89605200029334, 94.56308200721543, 65.39890335296417, 60.37104361830441, 58.88226909820721, 56.86405106317953, 56.28854904537466, 54.357077288319346, 70.61726050917129, 167.0023363047903, 114.80367207083879, 164.8341037454144, 590.5456360624833, 311.3283965237984, 174.36034067544176, 213.63865339040427, 342.96681239150445, 276.0265882154392, 281.56750123312327, 330.6380019029713, 307.3467018770915, 314.3733113683452, 277.4155628085816, 263.2693682843685, 124.94437302512499, 79.57569117119617, 73.32866056653982, 66.61006577139385, 58.34719093523987, 56.02371242395957, 49.65317235290159, 45.09616747885336, 47.61402336457262, 40.95414047118908, 131.84871649838436, 103.55166329797713, 83.40066624960396, 70.56816711889898, 149.26158653788335, 183.06004833991216, 157.88404783564695, 158.53581505299417, 115.20553536281223, 127.4911137877583, 119.65542261256863], \"Total\": [1114.0, 1249.0, 1401.0, 1431.0, 816.0, 624.0, 902.0, 759.0, 815.0, 1460.0, 506.16047103509925, 222.2428625007684, 199.4602364349057, 164.89499063500216, 164.53805311237724, 153.2941557856356, 192.8733909883568, 146.57481065010558, 678.7431066445907, 121.8815945466522, 293.4450813146148, 324.0246261102623, 276.0536577876562, 1431.2592116855826, 477.4572428663436, 811.0118871410577, 382.29735452994737, 541.9454235147814, 696.7226100449764, 2642.633591558658, 1137.6301235832575, 1549.2463667386378, 1590.0621795853053, 918.9294174035115, 1324.478812325594, 196.1002847836021, 162.120335704923, 117.08762224906692, 90.83161532533477, 89.71481983616052, 90.77793098306613, 84.96024341312184, 82.98487448525883, 82.21535232190716, 75.3750465898774, 445.1001627756169, 624.0950560801642, 126.73408853200355, 816.7691584133139, 783.4621314355304, 879.7704864458688, 355.44616349097066, 533.6207268764479, 603.6979968914966, 827.2253651630897, 866.1728953063025, 1460.8513095243993, 1244.2082462099036, 1566.9770676100295, 815.9536796338215, 309.3406797321247, 250.0023622205098, 218.46126291150773, 173.78638688419406, 169.0761428355516, 138.34963652017817, 106.59850734637153, 65.86218313401505, 63.07756801741912, 60.39731117686763, 208.81478154966473, 1114.8983208370462, 415.4893585906244, 185.10198827070104, 530.4439140950363, 526.0008659961414, 339.29303795545786, 1401.2625326335303, 902.7614044708695, 505.50547031361145, 1249.3668140863633, 1109.0645558343265, 1590.0621795853053, 2642.633591558658, 1246.3569436692142, 1104.018222869005, 191.51344811703657, 160.94730741694912, 129.77284608796572, 95.70501021602419, 66.27142349257228, 61.246486805298, 59.75956251381448, 57.73730346315949, 57.16683721702138, 55.24057783745707, 71.91349688160226, 174.27381995618433, 129.98759907796045, 202.4262251952723, 1249.3668140863633, 573.5685174406509, 278.0206669218448, 416.0078301551672, 1049.9843630142907, 759.0397903625321, 857.7707275347437, 1324.478812325594, 1104.018222869005, 1566.9770676100295, 1045.5113694913684, 884.2346900176486, 125.71767712939439, 80.35314476989531, 74.13889649992726, 67.39143497780165, 59.1200813094303, 56.80093569779846, 50.42997562918782, 45.87953099165321, 48.44338243382715, 41.727420520737205, 135.21298749491265, 115.9079673531895, 112.61314450758411, 87.87486002798572, 293.1923970248812, 759.0397903625321, 675.6730427370815, 686.6069771865792, 425.4573957545778, 1549.2463667386378, 1045.5113694913684], \"Category\": [\"Default\", \"Default\", \"Default\", \"Default\", \"Default\", \"Default\", \"Default\", \"Default\", \"Default\", \"Default\", \"Topic1\", \"Topic1\", \"Topic1\", \"Topic1\", \"Topic1\", \"Topic1\", \"Topic1\", \"Topic1\", \"Topic1\", \"Topic1\", \"Topic1\", \"Topic1\", \"Topic1\", \"Topic1\", \"Topic1\", \"Topic1\", \"Topic1\", \"Topic1\", \"Topic1\", \"Topic1\", \"Topic1\", \"Topic1\", \"Topic1\", \"Topic1\", \"Topic1\", \"Topic2\", \"Topic2\", \"Topic2\", \"Topic2\", \"Topic2\", \"Topic2\", \"Topic2\", \"Topic2\", \"Topic2\", \"Topic2\", \"Topic2\", \"Topic2\", \"Topic2\", \"Topic2\", \"Topic2\", \"Topic2\", \"Topic2\", \"Topic2\", \"Topic2\", \"Topic2\", \"Topic2\", \"Topic2\", \"Topic2\", \"Topic2\", \"Topic2\", \"Topic3\", \"Topic3\", \"Topic3\", \"Topic3\", \"Topic3\", \"Topic3\", \"Topic3\", \"Topic3\", \"Topic3\", \"Topic3\", \"Topic3\", \"Topic3\", \"Topic3\", \"Topic3\", \"Topic3\", \"Topic3\", \"Topic3\", \"Topic3\", \"Topic3\", \"Topic3\", \"Topic3\", \"Topic3\", \"Topic3\", \"Topic3\", \"Topic3\", \"Topic3\", \"Topic4\", \"Topic4\", \"Topic4\", \"Topic4\", \"Topic4\", \"Topic4\", \"Topic4\", \"Topic4\", \"Topic4\", \"Topic4\", \"Topic4\", \"Topic4\", \"Topic4\", \"Topic4\", \"Topic4\", \"Topic4\", \"Topic4\", \"Topic4\", \"Topic4\", \"Topic4\", \"Topic4\", \"Topic4\", \"Topic4\", \"Topic4\", \"Topic4\", \"Topic4\", \"Topic5\", \"Topic5\", \"Topic5\", \"Topic5\", \"Topic5\", \"Topic5\", \"Topic5\", \"Topic5\", \"Topic5\", \"Topic5\", \"Topic5\", \"Topic5\", \"Topic5\", \"Topic5\", \"Topic5\", \"Topic5\", \"Topic5\", \"Topic5\", \"Topic5\", \"Topic5\", \"Topic5\"], \"logprob\": [10.0, 9.0, 8.0, 7.0, 6.0, 5.0, 4.0, 3.0, 2.0, 1.0, -5.3023, -6.1275, -6.236, -6.4272, -6.4294, -6.5005, -6.2709, -6.5456, -5.0131, -6.7312, -5.8544, -5.7569, -5.9177, -4.3154, -5.4261, -4.9357, -5.6548, -5.3455, -5.1995, -4.3416, -4.9373, -4.7485, -4.8047, -5.137, -5.2131, -5.5756, -5.7684, -6.0942, -6.3502, -6.3627, -6.3511, -6.4177, -6.4416, -6.4509, -6.5387, -4.7841, -4.5002, -6.0399, -4.3437, -4.4324, -4.3601, -5.1586, -4.8137, -4.7133, -4.4567, -4.445, -4.0791, -4.3117, -4.3396, -4.6049, -4.9889, -5.2024, -5.3378, -5.5675, -5.5951, -5.7967, -6.0592, -6.5456, -6.5894, -6.6335, -5.3986, -3.7427, -4.7307, -5.5437, -4.6511, -4.6678, -5.057, -3.9992, -4.3927, -4.7931, -4.2312, -4.3449, -4.4493, -4.4617, -4.6401, -4.6601, -5.3927, -5.5675, -5.7841, -6.0938, -6.4626, -6.5426, -6.5676, -6.6024, -6.6126, -6.6475, -6.3858, -5.5251, -5.8999, -5.5382, -4.262, -4.9022, -5.482, -5.2788, -4.8055, -5.0226, -5.0027, -4.8421, -4.9151, -4.8925, -5.0176, -5.0699, -4.8802, -5.3313, -5.4131, -5.5092, -5.6416, -5.6823, -5.803, -5.8992, -5.8449, -5.9956, -4.8264, -5.068, -5.2844, -5.4515, -4.7023, -4.4982, -4.6462, -4.642, -4.9613, -4.86, -4.9234], \"loglift\": [10.0, 9.0, 8.0, 7.0, 6.0, 5.0, 4.0, 3.0, 2.0, 1.0, 0.9262, 0.9242, 0.9238, 0.9229, 0.9229, 0.9225, 0.9224, 0.9223, 0.9221, 0.9211, 0.9193, 0.9177, 0.9171, 0.8737, 0.8609, 0.8215, 0.8544, 0.8147, 0.7095, 0.2343, 0.4814, 0.3614, 0.2792, 0.4952, 0.0535, 1.6012, 1.5987, 1.5982, 1.5962, 1.5961, 1.5959, 1.5955, 1.5952, 1.5951, 1.5942, 1.573, 1.5189, 1.5734, 1.4063, 1.3592, 1.3157, 1.4234, 1.362, 1.3391, 1.2806, 1.2463, 1.0895, 1.0175, 0.7589, 1.1461, 1.7321, 1.7315, 1.731, 1.7301, 1.73, 1.7289, 1.7271, 1.7222, 1.7216, 1.7209, 1.7153, 1.6961, 1.6952, 1.6908, 1.5305, 1.5223, 1.5716, 1.211, 1.2572, 1.4367, 1.0938, 1.0992, 0.6346, 0.1142, 0.6873, 0.7886, 1.8077, 1.8069, 1.8055, 1.8003, 1.7991, 1.7979, 1.7975, 1.7971, 1.7968, 1.7962, 1.7941, 1.7697, 1.6881, 1.6069, 1.063, 1.2013, 1.3457, 1.1459, 0.6934, 0.8008, 0.6983, 0.4246, 0.5336, 0.206, 0.4856, 0.6008, 2.7412, 2.7376, 2.7364, 2.7357, 2.7342, 2.7336, 2.7318, 2.7302, 2.7301, 2.7287, 2.7222, 2.6346, 2.4471, 2.528, 2.0722, 1.3251, 1.2935, 1.2816, 1.4409, 0.2499, 0.5797]}, \"token.table\": {\"Topic\": [5, 1, 2, 3, 4, 5, 1, 2, 3, 4, 5, 1, 3, 4, 2, 4, 1, 2, 3, 4, 5, 1, 1, 2, 3, 4, 5, 5, 1, 2, 3, 4, 5, 2, 2, 3, 4, 5, 3, 1, 2, 3, 4, 5, 2, 2, 1, 3, 4, 1, 2, 3, 4, 5, 1, 4, 4, 5, 1, 3, 4, 4, 3, 1, 5, 1, 2, 4, 1, 2, 3, 4, 2, 4, 1, 1, 2, 3, 4, 1, 2, 3, 4, 1, 2, 3, 4, 5, 1, 2, 1, 2, 3, 1, 2, 3, 4, 5, 2, 3, 4, 1, 4, 1, 4, 5, 4, 1, 2, 3, 4, 5, 3, 5, 3, 4, 1, 2, 3, 4, 5, 1, 2, 5, 1, 3, 5, 1, 1, 2, 3, 4, 5, 3, 4, 1, 2, 4, 1, 2, 3, 4, 2, 5, 1, 2, 3, 1, 2, 3, 4, 5, 3, 1, 2, 3, 5, 1, 2, 5, 3, 1, 2, 3, 4, 1, 2, 3, 4, 5, 1, 2, 3, 4, 5, 5, 5, 2, 3, 1, 2, 3, 4, 5, 4, 2, 1, 2, 3, 4, 5, 2, 2, 2, 1, 2, 3, 4, 4, 1, 3, 5, 1, 2, 3, 4, 5, 1, 5, 1, 2, 1, 3, 2, 5, 3, 1, 3, 2, 3, 3, 4, 1, 2, 3, 4, 5, 1, 2, 3, 4, 5, 1, 3, 1, 2, 3, 4, 5, 2, 1, 3, 4, 5, 1, 2, 3, 4, 5, 3, 1, 2, 3, 4, 1, 3, 4, 5, 1, 2, 3, 4, 5, 1, 2, 3, 4, 5, 4, 5, 3, 2, 3, 1, 2, 3, 4, 1, 2, 3, 4, 1, 2, 3, 4, 5], \"Freq\": [0.9914738085072767, 0.062031894277561596, 0.0432007835147304, 0.620318942775616, 0.2736049622599592, 0.0011077123978136, 0.06159318622774979, 0.2581479128663043, 0.3885805425250685, 0.27807512017528213, 0.013586732256121278, 0.03781698978707296, 0.956229598901702, 0.005402427112438994, 0.9908444287558231, 0.9872300329434341, 0.15008550914540963, 0.6984748694844063, 0.09813283290276784, 0.030017101829081926, 0.02193557441355987, 0.9945723600725795, 0.23055444816195553, 0.13042794496019197, 0.03425380372691911, 0.36361730110114127, 0.24109408007793062, 0.9810541311070282, 0.5226210714707573, 0.055343747640705945, 0.33269139206742554, 0.062261716095794194, 0.026414061373973292, 0.9943891729437504, 0.36345850565438276, 0.25633389346151203, 0.2649421212270106, 0.11477637020664719, 0.9974728049240146, 0.2694476418953518, 0.00341072964424496, 0.15689356363526816, 0.06139313359640927, 0.508198716992499, 0.9881318795579576, 0.9920323104090725, 0.9474174831008071, 0.002096056378541609, 0.05030535308499861, 0.31809997535692264, 0.08000119140713025, 0.2352415985423949, 0.32667153157911516, 0.03904820056776596, 0.9927667951019893, 0.9926335077501914, 0.9775422726187367, 0.9846383402816311, 0.022952386084184498, 0.017214289563138373, 0.9582621190147028, 0.9795889142407557, 0.9829167792721251, 0.9916676697947671, 0.006815585359414207, 0.9944076381721185, 0.9683213713342875, 0.03145359442849194, 0.04472783543418709, 0.7228985294498347, 0.07736706669697227, 0.15594299381108473, 0.8327562100906436, 0.16317520332857205, 0.997692590547711, 0.258973553287102, 0.017984274533826526, 0.09351822757589794, 0.6258527537771631, 0.64858082537398, 0.04788180590009248, 0.19588011504583286, 0.10664584041384234, 0.21699675930961365, 0.5969122211923757, 0.08282841601407966, 0.054078056736465235, 0.04928633019019616, 0.367667929550403, 0.6311632790615253, 0.9362094861447737, 0.04398299599337863, 0.020944283806370777, 0.13663307610912606, 0.5553732681847418, 0.1928937545070015, 0.10609156497885082, 0.008840963748237568, 0.0846234569914836, 0.03077216617872131, 0.8846997776382377, 0.9954716874946762, 0.9872896908567748, 0.013905595519105281, 0.987297281856475, 0.9808295557377598, 0.9973189970621655, 0.8988770837500764, 0.09987523152778625, 0.9624196036051165, 0.03318688288293505, 0.004484713903099331, 0.9817312667170671, 0.01436679902512781, 0.9934217075375401, 0.9941141766696661, 0.5673726392855177, 0.12393122496338953, 0.14200452860388385, 0.083911766902295, 0.08197534151224203, 0.9906654437146606, 0.009258555548735146, 0.9858992516943783, 0.18207710367793975, 0.011379818979871234, 0.8079671475708576, 0.9977073060787894, 0.24444280681864486, 0.29145103889915347, 0.01880329283220345, 0.17393045869788193, 0.2702973344629246, 0.998898690814219, 0.9808149059493979, 0.0889212846934044, 0.09880142743711601, 0.815111776356207, 0.36966663129604393, 0.03710939155867623, 0.5923229806481013, 0.0007136421453591582, 0.9705360367107496, 0.023671610651481698, 0.04774910952289488, 0.819080878738889, 0.13222830329417043, 0.4998801211865539, 0.1699062637492526, 0.19790863238498688, 0.09422418635537616, 0.0382194490839076, 0.997888582601051, 0.08901980817751066, 0.06725941062300805, 0.7418317348125888, 0.10286733389401231, 0.928596538253552, 0.06800988730871085, 0.9956050908659941, 0.9936351585888833, 0.00961520363332593, 0.20913067902483898, 0.26682190082479457, 0.5144133943829372, 0.47331995248526954, 0.10142570410398632, 0.06878294876017464, 0.32875917881981775, 0.02797950458041002, 0.30510740160718086, 0.006973883465306991, 0.1168125480438921, 0.5422194394276185, 0.029639004727554714, 0.994191621265661, 0.9908474096656482, 0.9165270489284686, 0.08171832079606975, 0.43879753235224894, 0.06898620998321439, 0.13571057701615946, 0.2974323479604162, 0.05767699523186778, 0.9796480276613977, 0.9950242605896078, 0.39956450881070416, 0.14522324517015553, 0.3506218681732484, 0.09547826616159397, 0.00962806045326998, 0.9914303953103839, 0.9886977323210736, 0.9930894807239843, 0.803763207804968, 0.048799909045301626, 0.09472923520558552, 0.053105783372828244, 0.9940446240391319, 0.8930788581274901, 0.01107122551397715, 0.0959506211211353, 0.5875622895828345, 0.014800057672111702, 0.07400028836055851, 0.0888003460326702, 0.23384091121936487, 0.996729916866041, 0.9942913586555078, 0.991557696514893, 0.9907110399188622, 0.9944852380702693, 0.004419934391423419, 0.10353041532886298, 0.8972635995168124, 0.9943854059379387, 0.9889381730634226, 0.007244968300830935, 0.03610200764438658, 0.960313403340683, 0.5266667823902319, 0.47303961761797425, 0.0894486983194438, 0.7669397652204163, 0.014908116386573966, 0.12423430322144972, 0.004969372128857989, 0.05743736448058685, 0.7811481569359812, 0.11104557132913458, 0.0497790492165086, 0.0012763858773463745, 0.9960783804014066, 0.9869092840080824, 0.1102560286966029, 0.7479223389934506, 0.0988894278000459, 0.0431930834069166, 0.9825673259535489, 0.9852174528529836, 0.08555118994866846, 0.8079834606263132, 0.0209125130985634, 0.08555118994866846, 0.4167677088248528, 0.1359025137472346, 0.1562878908093198, 0.2499096225018592, 0.04077075412417038, 0.9959905890024123, 0.014736524009244176, 0.014736524009244176, 0.8488237829324645, 0.12083949687580224, 0.17759916115878524, 0.05327974834763557, 0.017759916115878523, 0.7370365188089587, 0.14617123374606056, 0.7833278936647861, 0.05996768563940946, 0.007495960704926183, 0.0037479803524630914, 0.3320677004102786, 0.2315735279176943, 0.19079328400766007, 0.01456437282501222, 0.2315735279176943, 0.022187217778269073, 0.9762375822438393, 0.995474979955029, 0.1828657044081405, 0.8144122093228526, 0.2897298303748923, 0.4288512026694441, 0.08104777193306459, 0.2003858298187581, 0.23443179987336926, 0.05770628919959859, 0.5292748712525683, 0.17762717144251441, 0.6399267959844255, 0.2496417720598583, 0.01582236583477975, 0.08790203241544306, 0.006153142269081015], \"Term\": [\"aanrijding\", \"aantreffen\", \"aantreffen\", \"aantreffen\", \"aantreffen\", \"aantreffen\", \"adres\", \"adres\", \"adres\", \"adres\", \"adres\", \"afbeelding\", \"afbeelding\", \"afbeelding\", \"afgifte\", \"afnemer\", \"alleen\", \"alleen\", \"alleen\", \"alleen\", \"alleen\", \"arm\", \"artikel\", \"artikel\", \"artikel\", \"artikel\", \"artikel\", \"asbest\", \"auto\", \"auto\", \"auto\", \"auto\", \"auto\", \"bankpas\", \"bedrijf\", \"bedrijf\", \"bedrijf\", \"bedrijf\", \"bedrijfsnaam\", \"bestuurder\", \"bestuurder\", \"bestuurder\", \"bestuurder\", \"bestuurder\", \"betrapping\", \"bevoordeel\", \"bijnaam\", \"bijnaam\", \"bijnaam\", \"blijken\", \"blijken\", \"blijken\", \"blijken\", \"blijken\", \"borst\", \"brand\", \"brandstichting\", \"cafe\", \"cocaine\", \"cocaine\", \"cocaine\", \"creditcard\", \"donor\", \"dood\", \"dood\", \"duwen\", \"euro\", \"euro\", \"geld\", \"geld\", \"geld\", \"geld\", \"geldbedrag\", \"geldbedrag\", \"gerecht\", \"gesprek\", \"gesprek\", \"gesprek\", \"gesprek\", \"getuige\", \"getuige\", \"getuige\", \"getuige\", \"geval\", \"geval\", \"geval\", \"geval\", \"geval\", \"geweld\", \"geweld\", \"gezicht\", \"gezicht\", \"gezicht\", \"goed\", \"goed\", \"goed\", \"goed\", \"goed\", \"gram\", \"gram\", \"gram\", \"hard\", \"harddrug\", \"helmond\", \"helmond\", \"hennepplant\", \"heroine\", \"hoofd\", \"hoofd\", \"kenteken\", \"kenteken\", \"kenteken\", \"kentekenen\", \"kentekenen\", \"kentekenplaat\", \"koerier\", \"komen\", \"komen\", \"komen\", \"komen\", \"komen\", \"kracht\", \"kracht\", \"kruising\", \"last\", \"last\", \"last\", \"lichaam\", \"lid\", \"lid\", \"lid\", \"lid\", \"lid\", \"loods\", \"madagaskar\", \"mail\", \"mail\", \"mail\", \"man\", \"man\", \"man\", \"man\", \"mededad\", \"mededad\", \"mededader\", \"mededader\", \"mededader\", \"medeverdacht\", \"medeverdacht\", \"medeverdacht\", \"medeverdacht\", \"medeverdacht\", \"mercedes_benz\", \"merk\", \"merk\", \"merk\", \"merk\", \"mes\", \"mes\", \"motorrijtuig\", \"noordwolen\", \"nummer\", \"nummer\", \"nummer\", \"nummer\", \"omstandigheid\", \"omstandigheid\", \"omstandigheid\", \"omstandigheid\", \"omstandigheid\", \"onderzoek\", \"onderzoek\", \"onderzoek\", \"onderzoek\", \"onderzoek\", \"ongeval\", \"onopletten\", \"oogmerk\", \"oogmerk\", \"oordeel\", \"oordeel\", \"oordeel\", \"oordeel\", \"oordeel\", \"opiumwet\", \"paard\", \"persoon\", \"persoon\", \"persoon\", \"persoon\", \"persoon\", \"phishing\", \"pincode\", \"pinpas\", \"proces_verbaal\", \"proces_verbaal\", \"proces_verbaal\", \"proces_verbaal\", \"reis\", \"richting\", \"richting\", \"richting\", \"rijden\", \"rijden\", \"rijden\", \"rijden\", \"rijden\", \"rug\", \"schip\", \"schoppen\", \"sieraad\", \"slaan\", \"slaan\", \"snelheid\", \"snelheid\", \"sprinter\", \"steken\", \"steken\", \"stelen\", \"stelen\", \"telefoonnummer\", \"telefoonnummer\", \"telkens\", \"telkens\", \"telkens\", \"telkens\", \"telkens\", \"tezamen\", \"tezamen\", \"tezamen\", \"tezamen\", \"tezamen\", \"vagina\", \"veiligstellen\", \"vereniging\", \"vereniging\", \"vereniging\", \"vereniging\", \"verreik\", \"verzeker\", \"voertuig\", \"voertuig\", \"voertuig\", \"voertuig\", \"volgen\", \"volgen\", \"volgen\", \"volgen\", \"volgen\", \"volkswagen\", \"voorzien\", \"voorzien\", \"voorzien\", \"voorzien\", \"vrachtwagen\", \"vrachtwagen\", \"vrachtwagen\", \"vrachtwagen\", \"wederrechtelijk\", \"wederrechtelijk\", \"wederrechtelijk\", \"wederrechtelijk\", \"wederrechtelijk\", \"weg\", \"weg\", \"weg\", \"weg\", \"weg\", \"werknemer\", \"werknemer\", \"wijnjewoud\", \"winkel\", \"winkel\", \"woning\", \"woning\", \"woning\", \"woning\", \"zaak\", \"zaak\", \"zaak\", \"zaak\", \"zeggen\", \"zeggen\", \"zeggen\", \"zeggen\", \"zeggen\"]}, \"R\": 10, \"lambda.step\": 0.01, \"plot.opts\": {\"xlab\": \"PC1\", \"ylab\": \"PC2\"}, \"topic.order\": [4, 3, 5, 2, 1]};\n",
       "\n",
       "function LDAvis_load_lib(url, callback){\n",
       "  var s = document.createElement('script');\n",
       "  s.src = url;\n",
       "  s.async = true;\n",
       "  s.onreadystatechange = s.onload = callback;\n",
       "  s.onerror = function(){console.warn(\"failed to load library \" + url);};\n",
       "  document.getElementsByTagName(\"head\")[0].appendChild(s);\n",
       "}\n",
       "\n",
       "if(typeof(LDAvis) !== \"undefined\"){\n",
       "   // already loaded: just create the visualization\n",
       "   !function(LDAvis){\n",
       "       new LDAvis(\"#\" + \"ldavis_el11017140214010104912424742672\", ldavis_el11017140214010104912424742672_data);\n",
       "   }(LDAvis);\n",
       "}else if(typeof define === \"function\" && define.amd){\n",
       "   // require.js is available: use it to load d3/LDAvis\n",
       "   require.config({paths: {d3: \"https://d3js.org/d3.v5\"}});\n",
       "   require([\"d3\"], function(d3){\n",
       "      window.d3 = d3;\n",
       "      LDAvis_load_lib(\"https://cdn.jsdelivr.net/gh/bmabey/pyLDAvis@3.3.1/pyLDAvis/js/ldavis.v3.0.0.js\", function(){\n",
       "        new LDAvis(\"#\" + \"ldavis_el11017140214010104912424742672\", ldavis_el11017140214010104912424742672_data);\n",
       "      });\n",
       "    });\n",
       "}else{\n",
       "    // require.js not available: dynamically load d3 & LDAvis\n",
       "    LDAvis_load_lib(\"https://d3js.org/d3.v5.js\", function(){\n",
       "         LDAvis_load_lib(\"https://cdn.jsdelivr.net/gh/bmabey/pyLDAvis@3.3.1/pyLDAvis/js/ldavis.v3.0.0.js\", function(){\n",
       "                 new LDAvis(\"#\" + \"ldavis_el11017140214010104912424742672\", ldavis_el11017140214010104912424742672_data);\n",
       "            })\n",
       "         });\n",
       "}\n",
       "</script>"
      ],
      "text/plain": [
       "PreparedData(topic_coordinates=              x         y  topics  cluster       Freq\n",
       "topic                                                \n",
       "3      0.024484  0.053258       1        1  39.540258\n",
       "2     -0.117527 -0.186601       2        1  20.078817\n",
       "4     -0.107328  0.086275       3        1  17.643688\n",
       "1     -0.035084  0.092620       4        1  16.327631\n",
       "0      0.235456 -0.045552       5        1   6.409606, topic_info=                Term         Freq        Total Category  logprob  loglift\n",
       "1626        kenteken  1114.000000  1114.000000  Default  10.0000  10.0000\n",
       "2512  telefoonnummer  1249.000000  1249.000000  Default   9.0000   9.0000\n",
       "713              man  1401.000000  1401.000000  Default   8.0000   8.0000\n",
       "4491         bijnaam  1431.000000  1431.000000  Default   7.0000   7.0000\n",
       "495        mededader   816.000000   816.000000  Default   6.0000   6.0000\n",
       "...              ...          ...          ...      ...      ...      ...\n",
       "1035          rijden   157.884048   675.673043   Topic5  -4.6462   1.2935\n",
       "569              weg   158.535815   686.606977   Topic5  -4.6420   1.2816\n",
       "108              lid   115.205535   425.457396   Topic5  -4.9613   1.4409\n",
       "102            komen   127.491114  1549.246367   Topic5  -4.8600   0.2499\n",
       "631          bedrijf   119.655423  1045.511369   Topic5  -4.9234   0.5797\n",
       "\n",
       "[133 rows x 6 columns], token_table=      Topic      Freq        Term\n",
       "term                             \n",
       "1186      5  0.991474  aanrijding\n",
       "186       1  0.062032  aantreffen\n",
       "186       2  0.043201  aantreffen\n",
       "186       3  0.620319  aantreffen\n",
       "186       4  0.273605  aantreffen\n",
       "...     ...       ...         ...\n",
       "572       1  0.639927      zeggen\n",
       "572       2  0.249642      zeggen\n",
       "572       3  0.015822      zeggen\n",
       "572       4  0.087902      zeggen\n",
       "572       5  0.006153      zeggen\n",
       "\n",
       "[286 rows x 3 columns], R=10, lambda_step=0.01, plot_opts={'xlab': 'PC1', 'ylab': 'PC2'}, topic_order=[4, 3, 5, 2, 1])"
      ]
     },
     "execution_count": 27,
     "metadata": {},
     "output_type": "execute_result"
    }
   ],
   "source": [
    "\n",
    "# Visualize the topics\n",
    "pyLDAvis.enable_notebook()\n",
    "vis = gensimvis.prepare(lda_model, corpus, id2word, R = 10)\n",
    "vis"
   ]
  },
  {
   "cell_type": "code",
   "execution_count": 28,
   "metadata": {},
   "outputs": [],
   "source": [
    "#p = pyLDAvis.prepare(lda_model, corpus, id2word)\n",
    "pyLDAvis.save_html(vis, 'lda21.html')"
   ]
  },
  {
   "cell_type": "markdown",
   "metadata": {},
   "source": [
    "# TF.IDF "
   ]
  },
  {
   "cell_type": "code",
   "execution_count": 5,
   "metadata": {},
   "outputs": [],
   "source": [
    "values = []\n",
    "years = ('2018', '2019', '2020', '2021')\n",
    "term = 'minderjarig'\n",
    "\n",
    "def avg_terms(data, term):\n",
    "    avg = data[data['term'].str.contains(term)]['tfidf'].mean()\n",
    "    return(avg)\n",
    "\n",
    "    \n",
    "for i in top_idfs:\n",
    "    if term in list(i['term']):\n",
    "        a  = avg_terms(i, term)\n",
    "        values.append(a)\n",
    "    else:\n",
    "        values.append(0)"
   ]
  },
  {
   "cell_type": "code",
   "execution_count": 9,
   "metadata": {},
   "outputs": [
    {
     "name": "stdout",
     "output_type": "stream",
     "text": [
      "<class 'list'>\n"
     ]
    },
    {
     "data": {
      "image/png": "[encoded data removed]",
      "text/plain": [
       "<Figure size 960x800 with 1 Axes>"
      ]
     },
     "metadata": {
      "needs_background": "light"
     },
     "output_type": "display_data"
    }
   ],
   "source": [
    "x_pos = [0,1,2,3]\n",
    "print(type(values))\n",
    "\n",
    "figure(figsize=(12, 10), dpi=80)\n",
    "\n",
    "plt.plot(values, linestyle='dashed', marker='o', markerfacecolor='blue')\n",
    "\n",
    "\n",
    "# Add title and axis names\n",
    "plt.title('Average TF-IDF Scores of term: {}'.format(term))\n",
    "plt.xlabel('Years')\n",
    "plt.ylabel('TF.IDF Scores')\n",
    " \n",
    "# Create names on the x axis\n",
    "plt.xticks(x_pos, years)\n",
    " \n",
    "# Show graph\n",
    "plt.show()"
   ]
  },
  {
   "cell_type": "code",
   "execution_count": 10,
   "metadata": {},
   "outputs": [
    {
     "data": {
      "text/plain": [
       "[0.38203888866472707, 0.3554659770789278, 0.16213870570233843, 0]"
      ]
     },
     "execution_count": 10,
     "metadata": {},
     "output_type": "execute_result"
    }
   ],
   "source": [
    "values"
   ]
  },
  {
   "cell_type": "markdown",
   "metadata": {},
   "source": [
    "# TF.IDF - Corrected"
   ]
  },
  {
   "cell_type": "code",
   "execution_count": 6,
   "metadata": {},
   "outputs": [],
   "source": [
    "big_list = []\n",
    "for i in d:\n",
    "    flat_list = \" \"\n",
    "    # iterating over the data\n",
    "    for item in i['lemm']:\n",
    "        flat_list = flat_list + \" \" + item\n",
    "    big_list.append(flat_list)\n",
    "\n",
    "tfidf_vectorizer = TfidfVectorizer(input=big_list, stop_words=stop_words)\n",
    "tfidf_vector = tfidf_vectorizer.fit_transform(big_list)\n",
    "tfidf_df = pd.DataFrame(tfidf_vector.toarray(), columns=tfidf_vectorizer.get_feature_names())\n",
    "tfidf_df = tfidf_df.stack().reset_index()\n",
    "tfidf_df = tfidf_df.rename(columns={0:'tfidf', 'level_0': 'document','level_1': 'term', 'level_2': 'term'})\n",
    "top_tfidf = tfidf_df.sort_values(by=['document','tfidf'], ascending=[True,False]) # .groupby(['document']).head(5)"
   ]
  },
  {
   "cell_type": "code",
   "execution_count": 7,
   "metadata": {},
   "outputs": [],
   "source": [
    "years = ('2018', '2019', '2020', '2021')\n",
    "ts = ['minderjarig', 'betrokken', 'woning', 'geld', 'geweld', 'auto']\n",
    "term = ts[5]\n",
    "\n",
    "values = list(top_tfidf['tfidf'][top_tfidf['term'] == term])"
   ]
  },
  {
   "cell_type": "code",
   "execution_count": 8,
   "metadata": {},
   "outputs": [],
   "source": [
    "# top_tfidf[top_tfidf['document']== 2].iloc[0:20,]"
   ]
  },
  {
   "cell_type": "code",
   "execution_count": 9,
   "metadata": {},
   "outputs": [
    {
     "data": {
      "image/png": "[encoded data removed]",
      "text/plain": [
       "<Figure size 960x800 with 1 Axes>"
      ]
     },
     "metadata": {
      "needs_background": "light"
     },
     "output_type": "display_data"
    }
   ],
   "source": [
    "x_pos = (0,1,2,3)\n",
    "\n",
    "figure(figsize=(12, 10), dpi=80)\n",
    "\n",
    "plt.plot(values, linestyle='dashed', marker='o', markerfacecolor='blue')\n",
    "\n",
    "\n",
    "# Add title and axis names\n",
    "plt.title('TF-IDF Scores of term: {}'.format(term))\n",
    "plt.xlabel('Years')\n",
    "plt.ylabel('TF.IDF Scores')\n",
    " \n",
    "# Create names on the x axis\n",
    "plt.xticks(x_pos, years)\n",
    " \n",
    "# Show graph\n",
    "plt.show()"
   ]
  },
  {
   "cell_type": "code",
   "execution_count": null,
   "metadata": {},
   "outputs": [],
   "source": []
  },
  {
   "cell_type": "code",
   "execution_count": 15,
   "metadata": {},
   "outputs": [
    {
     "data": {
      "text/html": [
       "\n",
       "<div id=\"altair-viz-0e9b26b80beb4da08875e072b4d6d7af\"></div>\n",
       "<script type=\"text/javascript\">\n",
       "  var VEGA_DEBUG = (typeof VEGA_DEBUG == \"undefined\") ? {} : VEGA_DEBUG;\n",
       "  (function(spec, embedOpt){\n",
       "    let outputDiv = document.currentScript.previousElementSibling;\n",
       "    if (outputDiv.id !== \"altair-viz-0e9b26b80beb4da08875e072b4d6d7af\") {\n",
       "      outputDiv = document.getElementById(\"altair-viz-0e9b26b80beb4da08875e072b4d6d7af\");\n",
       "    }\n",
       "    const paths = {\n",
       "      \"vega\": \"https://cdn.jsdelivr.net/npm//vega@5?noext\",\n",
       "      \"vega-lib\": \"https://cdn.jsdelivr.net/npm//vega-lib?noext\",\n",
       "      \"vega-lite\": \"https://cdn.jsdelivr.net/npm//vega-lite@4.17.0?noext\",\n",
       "      \"vega-embed\": \"https://cdn.jsdelivr.net/npm//vega-embed@6?noext\",\n",
       "    };\n",
       "\n",
       "    function maybeLoadScript(lib, version) {\n",
       "      var key = `${lib.replace(\"-\", \"\")}_version`;\n",
       "      return (VEGA_DEBUG[key] == version) ?\n",
       "        Promise.resolve(paths[lib]) :\n",
       "        new Promise(function(resolve, reject) {\n",
       "          var s = document.createElement('script');\n",
       "          document.getElementsByTagName(\"head\")[0].appendChild(s);\n",
       "          s.async = true;\n",
       "          s.onload = () => {\n",
       "            VEGA_DEBUG[key] = version;\n",
       "            return resolve(paths[lib]);\n",
       "          };\n",
       "          s.onerror = () => reject(`Error loading script: ${paths[lib]}`);\n",
       "          s.src = paths[lib];\n",
       "        });\n",
       "    }\n",
       "\n",
       "    function showError(err) {\n",
       "      outputDiv.innerHTML = `<div class=\"error\" style=\"color:red;\">${err}</div>`;\n",
       "      throw err;\n",
       "    }\n",
       "\n",
       "    function displayChart(vegaEmbed) {\n",
       "      vegaEmbed(outputDiv, spec, embedOpt)\n",
       "        .catch(err => showError(`Javascript Error: ${err.message}<br>This usually means there's a typo in your chart specification. See the javascript console for the full traceback.`));\n",
       "    }\n",
       "\n",
       "    if(typeof define === \"function\" && define.amd) {\n",
       "      requirejs.config({paths});\n",
       "      require([\"vega-embed\"], displayChart, err => showError(`Error loading script: ${err.message}`));\n",
       "    } else {\n",
       "      maybeLoadScript(\"vega\", \"5\")\n",
       "        .then(() => maybeLoadScript(\"vega-lite\", \"4.17.0\"))\n",
       "        .then(() => maybeLoadScript(\"vega-embed\", \"6\"))\n",
       "        .catch(showError)\n",
       "        .then(() => displayChart(vegaEmbed));\n",
       "    }\n",
       "  })({\"config\": {\"view\": {\"continuousWidth\": 400, \"continuousHeight\": 300}}, \"layer\": [{\"mark\": \"rect\", \"encoding\": {\"color\": {\"field\": \"tfidf\", \"type\": \"quantitative\"}, \"x\": {\"field\": \"rank\", \"type\": \"ordinal\"}, \"y\": {\"field\": \"document\", \"type\": \"nominal\"}}, \"transform\": [{\"window\": [{\"op\": \"rank\", \"field\": \"\", \"as\": \"rank\"}], \"groupby\": [\"document\"], \"sort\": [{\"field\": \"tfidf\", \"order\": \"descending\"}]}]}, {\"mark\": {\"type\": \"circle\", \"size\": 100}, \"encoding\": {\"color\": {\"condition\": {\"value\": \"red\", \"test\": {\"field\": \"term\", \"oneOf\": [\"kledingwinkel\", \"hennep\", \"drogen\"]}}, \"value\": \"#FFFFFF00\"}, \"x\": {\"field\": \"rank\", \"type\": \"ordinal\"}, \"y\": {\"field\": \"document\", \"type\": \"nominal\"}}, \"transform\": [{\"window\": [{\"op\": \"rank\", \"field\": \"\", \"as\": \"rank\"}], \"groupby\": [\"document\"], \"sort\": [{\"field\": \"tfidf\", \"order\": \"descending\"}]}]}, {\"mark\": {\"type\": \"text\", \"baseline\": \"middle\"}, \"encoding\": {\"color\": {\"condition\": {\"value\": \"white\", \"test\": \"(datum.tfidf >= 0.23)\"}, \"value\": \"black\"}, \"text\": {\"field\": \"term\", \"type\": \"nominal\"}, \"x\": {\"field\": \"rank\", \"type\": \"ordinal\"}, \"y\": {\"field\": \"document\", \"type\": \"nominal\"}}, \"transform\": [{\"window\": [{\"op\": \"rank\", \"field\": \"\", \"as\": \"rank\"}], \"groupby\": [\"document\"], \"sort\": [{\"field\": \"tfidf\", \"order\": \"descending\"}]}]}], \"data\": {\"name\": \"data-758e0ab60f25e11b009e7dc1125f54fe\"}, \"width\": 1200, \"$schema\": \"https://vega.github.io/schema/vega-lite/v4.17.0.json\", \"datasets\": {\"data-758e0ab60f25e11b009e7dc1125f54fe\": [{\"document\": 0, \"term\": \"kind\", \"tfidf\": 0.4501444217013264}, {\"document\": 0, \"term\": \"minderjarig\", \"tfidf\": 0.2774244512277101}, {\"document\": 0, \"term\": \"tandarts\", \"tfidf\": 0.27569167596401933}, {\"document\": 0, \"term\": \"geboorteplaats\", \"tfidf\": 0.2615807196069977}, {\"document\": 0, \"term\": \"trein\", \"tfidf\": 0.24164355546878524}, {\"document\": 0, \"term\": \"school\", \"tfidf\": 0.23408702683096916}, {\"document\": 0, \"term\": \"leerkracht\", \"tfidf\": 0.2217453266716429}, {\"document\": 0, \"term\": \"gezag\", \"tfidf\": 0.1812565081895986}, {\"document\": 0, \"term\": \"afspraak\", \"tfidf\": 0.17783264954450126}, {\"document\": 0, \"term\": \"ochtend\", \"tfidf\": 0.1755828000377201}, {\"document\": 1, \"term\": \"still\", \"tfidf\": 0.3807351327843327}, {\"document\": 1, \"term\": \"herkenning\", \"tfidf\": 0.2296095847321163}, {\"document\": 1, \"term\": \"bedrijfsinbraak\", \"tfidf\": 0.2041281407652811}, {\"document\": 1, \"term\": \"honswijck\", \"tfidf\": 0.20411307811987153}, {\"document\": 1, \"term\": \"inbraak\", \"tfidf\": 0.20199682037777317}, {\"document\": 1, \"term\": \"camerabeeld\", \"tfidf\": 0.19257854651630626}, {\"document\": 1, \"term\": \"inzittende\", \"tfidf\": 0.1903523110365828}, {\"document\": 1, \"term\": \"tenlastegelegen\", \"tfidf\": 0.18253642852096771}, {\"document\": 1, \"term\": \"tankstation\", \"tfidf\": 0.1730520257164344}, {\"document\": 1, \"term\": \"nacht\", \"tfidf\": 0.1315579843633434}, {\"document\": 2, \"term\": \"celmateriaal\", \"tfidf\": 0.3063513295384145}, {\"document\": 2, \"term\": \"overvaller\", \"tfidf\": 0.2324277124270574}, {\"document\": 2, \"term\": \"dader\", \"tfidf\": 0.2309554144472862}, {\"document\": 2, \"term\": \"bemonstering\", \"tfidf\": 0.20265915337312726}, {\"document\": 2, \"term\": \"kelder\", \"tfidf\": 0.16874582334434834}, {\"document\": 2, \"term\": \"volgen\", \"tfidf\": 0.16078784808215976}, {\"document\": 2, \"term\": \"regenbroek\", \"tfidf\": 0.15910507832490028}, {\"document\": 2, \"term\": \"regenjas\", \"tfidf\": 0.15908612388751683}, {\"document\": 2, \"term\": \"dna\", \"tfidf\": 0.1282665721409987}, {\"document\": 2, \"term\": \"aantreffen\", \"tfidf\": 0.12717958430302395}, {\"document\": 3, \"term\": \"gemeente\", \"tfidf\": 0.42031492394610387}, {\"document\": 3, \"term\": \"zeer_krachtig\", \"tfidf\": 0.3775244706461649}, {\"document\": 3, \"term\": \"keel\", \"tfidf\": 0.2307183259890449}, {\"document\": 3, \"term\": \"drukken\", \"tfidf\": 0.20612851196486945}, {\"document\": 3, \"term\": \"vastgrijpen\", \"tfidf\": 0.19605238041373912}, {\"document\": 3, \"term\": \"hand\", \"tfidf\": 0.18485425728174038}, {\"document\": 3, \"term\": \"uitvoering\", \"tfidf\": 0.18282242564803478}, {\"document\": 3, \"term\": \"armgreep\", \"tfidf\": 0.1734921506956545}, {\"document\": 3, \"term\": \"benemen\", \"tfidf\": 0.17355249680671161}, {\"document\": 3, \"term\": \"dicht\", \"tfidf\": 0.16247032963250851}, {\"document\": 4, \"term\": \"puntig\", \"tfidf\": 0.32618476109919164}, {\"document\": 4, \"term\": \"prikken\", \"tfidf\": 0.304652784052074}, {\"document\": 4, \"term\": \"linker\", \"tfidf\": 0.2770171174209752}, {\"document\": 4, \"term\": \"snijden\", \"tfidf\": 0.24793485020567538}, {\"document\": 4, \"term\": \"perforeren\", \"tfidf\": 0.23926507483081788}, {\"document\": 4, \"term\": \"mes\", \"tfidf\": 0.2016992270254375}, {\"document\": 4, \"term\": \"steken\", \"tfidf\": 0.19314338645618406}, {\"document\": 4, \"term\": \"kroeg\", \"tfidf\": 0.1924531276765949}, {\"document\": 4, \"term\": \"woest\", \"tfidf\": 0.1924291507311453}, {\"document\": 4, \"term\": \"daarop\", \"tfidf\": 0.1739048669430322}, {\"document\": 5, \"term\": \"handelsnaam\", \"tfidf\": 0.7478394548706432}, {\"document\": 5, \"term\": \"getuige\", \"tfidf\": 0.24448540635593996}, {\"document\": 5, \"term\": \"functionaris\", \"tfidf\": 0.1870479272299983}, {\"document\": 5, \"term\": \"verplichten\", \"tfidf\": 0.16391172662735135}, {\"document\": 5, \"term\": \"geheim\", \"tfidf\": 0.15876638484645825}, {\"document\": 5, \"term\": \"mevrouw\", \"tfidf\": 0.1587454070887034}, {\"document\": 5, \"term\": \"bevoegd\", \"tfidf\": 0.15038171888039423}, {\"document\": 5, \"term\": \"politie\", \"tfidf\": 0.14650841951298002}, {\"document\": 5, \"term\": \"opzoeken\", \"tfidf\": 0.1436742724570916}, {\"document\": 5, \"term\": \"bewaren\", \"tfidf\": 0.14080722572593946}, {\"document\": 6, \"term\": \"worsteling\", \"tfidf\": 0.2765116111397529}, {\"document\": 6, \"term\": \"val\", \"tfidf\": 0.27219459623115794}, {\"document\": 6, \"term\": \"parketnumm\", \"tfidf\": 0.23834770099827515}, {\"document\": 6, \"term\": \"letsel\", \"tfidf\": 0.22422814834095767}, {\"document\": 6, \"term\": \"zaak\", \"tfidf\": 0.20631212996294404}, {\"document\": 6, \"term\": \"ontstaan\", \"tfidf\": 0.18797153077239676}, {\"document\": 6, \"term\": \"mishandeling\", \"tfidf\": 0.14724231455941753}, {\"document\": 6, \"term\": \"gewaarwording\", \"tfidf\": 0.1450490332853415}, {\"document\": 6, \"term\": \"tenlastegelegen\", \"tfidf\": 0.14410184568498458}, {\"document\": 6, \"term\": \"veroorzaken\", \"tfidf\": 0.12558001573160674}, {\"document\": 7, \"term\": \"hennepplant\", \"tfidf\": 0.4906244685451711}, {\"document\": 7, \"term\": \"heteren\", \"tfidf\": 0.3151537951453215}, {\"document\": 7, \"term\": \"delen_daarvan\", \"tfidf\": 0.26087546423385227}, {\"document\": 7, \"term\": \"elk_geval\", \"tfidf\": 0.2334147907338393}, {\"document\": 7, \"term\": \"hennep\", \"tfidf\": 0.21977158566549163}, {\"document\": 7, \"term\": \"middel\", \"tfidf\": 0.20009601447194278}, {\"document\": 7, \"term\": \"wet\", \"tfidf\": 0.186706438782841}, {\"document\": 7, \"term\": \"vermelden\", \"tfidf\": 0.1599087204470342}, {\"document\": 7, \"term\": \"zulks\", \"tfidf\": 0.15754654583978184}, {\"document\": 7, \"term\": \"stroom\", \"tfidf\": 0.14556309071520693}, {\"document\": 8, \"term\": \"kledingwinkel\", \"tfidf\": 0.864626077102178}, {\"document\": 8, \"term\": \"verwijten\", \"tfidf\": 0.31358975125639044}, {\"document\": 8, \"term\": \"breken\", \"tfidf\": 0.27537474621191294}, {\"document\": 8, \"term\": \"samen\", \"tfidf\": 0.1764412771671532}, {\"document\": 8, \"term\": \"zeggen\", \"tfidf\": 0.1554213501204363}, {\"document\": 8, \"term\": \"kort\", \"tfidf\": 0.15192806260644126}, {\"document\": 8, \"term\": \"aa_flesje\", \"tfidf\": 1.9261051559984002e-05}, {\"document\": 8, \"term\": \"aagg_nl\", \"tfidf\": 1.523071149297125e-05}, {\"document\": 8, \"term\": \"aaik\", \"tfidf\": 5.275463749792098e-05}, {\"document\": 8, \"term\": \"aain_nl\", \"tfidf\": 1.1860441758970142e-05}, {\"document\": 9, \"term\": \"schietoefening\", \"tfidf\": 0.33322297255216554}, {\"document\": 9, \"term\": \"wapen\", \"tfidf\": 0.32596195972756453}, {\"document\": 9, \"term\": \"ontlad\", \"tfidf\": 0.22211897945464698}, {\"document\": 9, \"term\": \"sergeant\", \"tfidf\": 0.22218722340586974}, {\"document\": 9, \"term\": \"trekker\", \"tfidf\": 0.21624845319021524}, {\"document\": 9, \"term\": \"schietpunt\", \"tfidf\": 0.19997749333074522}, {\"document\": 9, \"term\": \"schot\", \"tfidf\": 0.1997410328436049}, {\"document\": 9, \"term\": \"bevel\", \"tfidf\": 0.18803974238347293}, {\"document\": 9, \"term\": \"militair\", \"tfidf\": 0.16572883232946736}, {\"document\": 9, \"term\": \"militaire_kamer\", \"tfidf\": 0.15729333988994892}, {\"document\": 10, \"term\": \"herkenning\", \"tfidf\": 0.36842338784414924}, {\"document\": 10, \"term\": \"dader\", \"tfidf\": 0.2849591688870297}, {\"document\": 10, \"term\": \"camerabeeld\", \"tfidf\": 0.2648497242611728}, {\"document\": 10, \"term\": \"geweld\", \"tfidf\": 0.2133541357594978}, {\"document\": 10, \"term\": \"uitvoering\", \"tfidf\": 0.21088483238939434}, {\"document\": 10, \"term\": \"geld\", \"tfidf\": 0.1997504583637898}, {\"document\": 10, \"term\": \"voorhouden\", \"tfidf\": 0.1815284439190039}, {\"document\": 10, \"term\": \"mes\", \"tfidf\": 0.17173267844237164}, {\"document\": 10, \"term\": \"tonen\", \"tfidf\": 0.1544915999329934}, {\"document\": 10, \"term\": \"puntig_voorwerp\", \"tfidf\": 0.153377422006457}, {\"document\": 11, \"term\": \"straf\", \"tfidf\": 0.25800801563765374}, {\"document\": 11, \"term\": \"kind\", \"tfidf\": 0.24010502384151977}, {\"document\": 11, \"term\": \"werkstraf\", \"tfidf\": 0.22064606890666047}, {\"document\": 11, \"term\": \"relatie\", \"tfidf\": 0.20638512322734}, {\"document\": 11, \"term\": \"seksueel\", \"tfidf\": 0.20641600686679376}, {\"document\": 11, \"term\": \"komen\", \"tfidf\": 0.158239433133222}, {\"document\": 11, \"term\": \"ernst\", \"tfidf\": 0.14224622405799842}, {\"document\": 11, \"term\": \"leeftijd\", \"tfidf\": 0.13882082260910963}, {\"document\": 11, \"term\": \"verminderen\", \"tfidf\": 0.12136336654015176}, {\"document\": 11, \"term\": \"zorg\", \"tfidf\": 0.12138402642596774}, {\"document\": 12, \"term\": \"bierfles\", \"tfidf\": 0.3324993011296353}, {\"document\": 12, \"term\": \"medeverdacht\", \"tfidf\": 0.2802171160881971}, {\"document\": 12, \"term\": \"gezicht\", \"tfidf\": 0.25960344300856103}, {\"document\": 12, \"term\": \"slaan\", \"tfidf\": 0.2062700525008674}, {\"document\": 12, \"term\": \"bank\", \"tfidf\": 0.19031786471258894}, {\"document\": 12, \"term\": \"vriendin\", \"tfidf\": 0.18374796303870075}, {\"document\": 12, \"term\": \"neus\", \"tfidf\": 0.1532753870009316}, {\"document\": 12, \"term\": \"constateren\", \"tfidf\": 0.1455540143417095}, {\"document\": 12, \"term\": \"neusbrug\", \"tfidf\": 0.14265476558298845}, {\"document\": 12, \"term\": \"ringving\", \"tfidf\": 0.14261456473272516}, {\"document\": 13, \"term\": \"hennep\", \"tfidf\": 0.6958784263881785}, {\"document\": 13, \"term\": \"gewicht\", \"tfidf\": 0.2603189858102463}, {\"document\": 13, \"term\": \"droog\", \"tfidf\": 0.2103392386599061}, {\"document\": 13, \"term\": \"vochtgehalte\", \"tfidf\": 0.21037852950538422}, {\"document\": 13, \"term\": \"drogen\", \"tfidf\": 0.1995585055977463}, {\"document\": 13, \"term\": \"nat\", \"tfidf\": 0.19960683267471102}, {\"document\": 13, \"term\": \"kilogram\", \"tfidf\": 0.17352258020432723}, {\"document\": 13, \"term\": \"belang\", \"tfidf\": 0.12161295751168442}, {\"document\": 13, \"term\": \"bewerken\", \"tfidf\": 0.12160493357664}, {\"document\": 13, \"term\": \"drog\", \"tfidf\": 0.10518178327474542}, {\"document\": 14, \"term\": \"nek\", \"tfidf\": 0.42995134071744107}, {\"document\": 14, \"term\": \"afknellen\", \"tfidf\": 0.30641586576259233}, {\"document\": 14, \"term\": \"knel\", \"tfidf\": 0.30644950939802645}, {\"document\": 14, \"term\": \"wurggreep\", \"tfidf\": 0.30638926024958363}, {\"document\": 14, \"term\": \"duim\", \"tfidf\": 0.278475764308698}, {\"document\": 14, \"term\": \"kracht\", \"tfidf\": 0.21417581984290637}, {\"document\": 14, \"term\": \"val\", \"tfidf\": 0.20563169595463024}, {\"document\": 14, \"term\": \"auto\", \"tfidf\": 0.19480980950879634}, {\"document\": 14, \"term\": \"meermalen\", \"tfidf\": 0.16517342366673746}, {\"document\": 14, \"term\": \"elk_geval\", \"tfidf\": 0.1615065053408953}, {\"document\": 15, \"term\": \"paspoort\", \"tfidf\": 0.45833279843865415}, {\"document\": 15, \"term\": \"pasfoto\", \"tfidf\": 0.39117030689340976}, {\"document\": 15, \"term\": \"reisdocument\", \"tfidf\": 0.3647809936592167}, {\"document\": 15, \"term\": \"artikel\", \"tfidf\": 0.15881198927617093}, {\"document\": 15, \"term\": \"documentnummer\", \"tfidf\": 0.1564679461037234}, {\"document\": 15, \"term\": \"beroep\", \"tfidf\": 0.1545876466544366}, {\"document\": 15, \"term\": \"burgemeester\", \"tfidf\": 0.14593722522367542}, {\"document\": 15, \"term\": \"vonnis_waarvan\", \"tfidf\": 0.1429856762660634}, {\"document\": 15, \"term\": \"raadsman\", \"tfidf\": 0.13029684761906246}, {\"document\": 15, \"term\": \"nationaal\", \"tfidf\": 0.1279064192584408}, {\"document\": 16, \"term\": \"sliding\", \"tfidf\": 0.4190721839085929}, {\"document\": 16, \"term\": \"tackelen\", \"tfidf\": 0.39083292987107987}, {\"document\": 16, \"term\": \"been\", \"tfidf\": 0.3565141821081633}, {\"document\": 16, \"term\": \"achteren\", \"tfidf\": 0.27869318665158377}, {\"document\": 16, \"term\": \"grovelijk\", \"tfidf\": 0.2095139956621573}, {\"document\": 16, \"term\": \"kruisband\", \"tfidf\": 0.20959174193151914}, {\"document\": 16, \"term\": \"linkerknie\", \"tfidf\": 0.20955905908971803}, {\"document\": 16, \"term\": \"nalatig\", \"tfidf\": 0.19543361754571215}, {\"document\": 16, \"term\": \"scheur\", \"tfidf\": 0.19542802892539798}, {\"document\": 16, \"term\": \"scheuren\", \"tfidf\": 0.1853859536357171}, {\"document\": 17, \"term\": \"politieshirt\", \"tfidf\": 0.6133485022700139}, {\"document\": 17, \"term\": \"shirt\", \"tfidf\": 0.307216529540581}, {\"document\": 17, \"term\": \"betreffen\", \"tfidf\": 0.2057223383285463}, {\"document\": 17, \"term\": \"prijs\", \"tfidf\": 0.18228239076823857}, {\"document\": 17, \"term\": \"kledingstuk\", \"tfidf\": 0.1715973636265157}, {\"document\": 17, \"term\": \"verkrijgen\", \"tfidf\": 0.14116065896388413}, {\"document\": 17, \"term\": \"afkomstig\", \"tfidf\": 0.136592289541668}, {\"document\": 17, \"term\": \"kleding\", \"tfidf\": 0.1308731013165275}, {\"document\": 17, \"term\": \"misdrijf\", \"tfidf\": 0.1259668966132329}, {\"document\": 17, \"term\": \"echt\", \"tfidf\": 0.11796637947985539}, {\"document\": 18, \"term\": \"ongeval\", \"tfidf\": 0.33226918393447735}, {\"document\": 18, \"term\": \"fietser\", \"tfidf\": 0.3273115170500789}, {\"document\": 18, \"term\": \"audi\", \"tfidf\": 0.3055456900942445}, {\"document\": 18, \"term\": \"bestuurder\", \"tfidf\": 0.19439373309111688}, {\"document\": 18, \"term\": \"krimpenerbosweg\", \"tfidf\": 0.18199624037321377}, {\"document\": 18, \"term\": \"middenberm\", \"tfidf\": 0.1820016180489893}, {\"document\": 18, \"term\": \"krimp\", \"tfidf\": 0.16980374739771129}, {\"document\": 18, \"term\": \"verkeersongeval\", \"tfidf\": 0.1680897577675643}, {\"document\": 18, \"term\": \"motorrijtuig\", \"tfidf\": 0.15994861172907324}, {\"document\": 18, \"term\": \"weg\", \"tfidf\": 0.1512356546650747}, {\"document\": 19, \"term\": \"lichaam\", \"tfidf\": 0.28660064369921695}, {\"document\": 19, \"term\": \"nauw\", \"tfidf\": 0.26566167666997087}, {\"document\": 19, \"term\": \"geweldpleging\", \"tfidf\": 0.2511633555662433}, {\"document\": 19, \"term\": \"leidsestraat\", \"tfidf\": 0.25108280576845665}, {\"document\": 19, \"term\": \"voornoemd\", \"tfidf\": 0.24471479129774595}, {\"document\": 19, \"term\": \"genoegzaam\", \"tfidf\": 0.20526725312751468}, {\"document\": 19, \"term\": \"opgemaakt\", \"tfidf\": 0.20529815536556578}, {\"document\": 19, \"term\": \"bewijsverweer\", \"tfidf\": 0.1987824745738163}, {\"document\": 19, \"term\": \"hoofd\", \"tfidf\": 0.1984890030576035}, {\"document\": 19, \"term\": \"medeverdacht\", \"tfidf\": 0.19733954417018157}, {\"document\": 20, \"term\": \"kledingwinkel\", \"tfidf\": 0.8506612809339213}, {\"document\": 20, \"term\": \"verwijten\", \"tfidf\": 0.30851185474802917}, {\"document\": 20, \"term\": \"breken\", \"tfidf\": 0.2708688920715047}, {\"document\": 20, \"term\": \"medeverdacht\", \"tfidf\": 0.1792830266377999}, {\"document\": 20, \"term\": \"samen\", \"tfidf\": 0.17358820395085528}, {\"document\": 20, \"term\": \"zeggen\", \"tfidf\": 0.15293098789620269}, {\"document\": 20, \"term\": \"kort\", \"tfidf\": 0.1495125617338057}, {\"document\": 20, \"term\": \"aa_flesje\", \"tfidf\": 6.378910159237661e-06}, {\"document\": 20, \"term\": \"aagg_nl\", \"tfidf\": 6.465035256554967e-05}, {\"document\": 20, \"term\": \"aaik\", \"tfidf\": 6.382932810115427e-05}, {\"document\": 21, \"term\": \"filmen\", \"tfidf\": 0.508919265012041}, {\"document\": 21, \"term\": \"opname\", \"tfidf\": 0.30008827601847493}, {\"document\": 21, \"term\": \"gsm\", \"tfidf\": 0.21532492357303387}, {\"document\": 21, \"term\": \"toestemming\", \"tfidf\": 0.20616365049249313}, {\"document\": 21, \"term\": \"meisje\", \"tfidf\": 0.19710459747393194}, {\"document\": 21, \"term\": \"omkled\", \"tfidf\": 0.1549193488750684}, {\"document\": 21, \"term\": \"aangifte\", \"tfidf\": 0.1500427562386185}, {\"document\": 21, \"term\": \"proces_verbaal\", \"tfidf\": 0.13986379853640601}, {\"document\": 21, \"term\": \"texel\", \"tfidf\": 0.13276924847742358}, {\"document\": 21, \"term\": \"passen\", \"tfidf\": 0.1264339294053545}, {\"document\": 22, \"term\": \"beroep\", \"tfidf\": 0.37640056709868225}, {\"document\": 22, \"term\": \"vonnis_waarvan\", \"tfidf\": 0.34816588918826114}, {\"document\": 22, \"term\": \"springen\", \"tfidf\": 0.2625343731151517}, {\"document\": 22, \"term\": \"val\", \"tfidf\": 0.23844685497941848}, {\"document\": 22, \"term\": \"rennen\", \"tfidf\": 0.21860524188008906}, {\"document\": 22, \"term\": \"noodweerexce\", \"tfidf\": 0.1906053006948308}, {\"document\": 22, \"term\": \"ontslaan\", \"tfidf\": 0.19060475940010507}, {\"document\": 22, \"term\": \"mishandelen\", \"tfidf\": 0.1689074253232044}, {\"document\": 22, \"term\": \"krabben\", \"tfidf\": 0.16862446818985705}, {\"document\": 22, \"term\": \"lopen\", \"tfidf\": 0.15960819407117563}, {\"document\": 23, \"term\": \"woonplaats\", \"tfidf\": 0.3598651111649126}, {\"document\": 23, \"term\": \"vuurwapen\", \"tfidf\": 0.2542178716390221}, {\"document\": 23, \"term\": \"kogel\", \"tfidf\": 0.24701818360761624}, {\"document\": 23, \"term\": \"gemeente\", \"tfidf\": 0.24001231848894236}, {\"document\": 23, \"term\": \"tezamen\", \"tfidf\": 0.20964532204408734}, {\"document\": 23, \"term\": \"personenauto\", \"tfidf\": 0.20568438617025828}, {\"document\": 23, \"term\": \"alleen\", \"tfidf\": 0.20069007682005205}, {\"document\": 23, \"term\": \"vereniging\", \"tfidf\": 0.19687846398079156}, {\"document\": 23, \"term\": \"strafzaak\", \"tfidf\": 0.18198018065680516}, {\"document\": 23, \"term\": \"politieshirts\", \"tfidf\": 0.17929434907375102}, {\"document\": 24, \"term\": \"medeverdacht\", \"tfidf\": 0.34734710011984865}, {\"document\": 24, \"term\": \"herkenning\", \"tfidf\": 0.3313902303183643}, {\"document\": 24, \"term\": \"dader\", \"tfidf\": 0.29912524668551527}, {\"document\": 24, \"term\": \"woning\", \"tfidf\": 0.2676367101896452}, {\"document\": 24, \"term\": \"berkel\", \"tfidf\": 0.26074303116373254}, {\"document\": 24, \"term\": \"bleiswijk\", \"tfidf\": 0.13746776231671642}, {\"document\": 24, \"term\": \"lansingerland\", \"tfidf\": 0.13744501164000383}, {\"document\": 24, \"term\": \"pandora\", \"tfidf\": 0.1374228496714243}, {\"document\": 24, \"term\": \"rodenrij\", \"tfidf\": 0.1373992455835354}, {\"document\": 24, \"term\": \"aanhouding\", \"tfidf\": 0.13293474648463563}, {\"document\": 25, \"term\": \"getuige\", \"tfidf\": 0.4078359900987726}, {\"document\": 25, \"term\": \"verplichten\", \"tfidf\": 0.2733292315836975}, {\"document\": 25, \"term\": \"geheim\", \"tfidf\": 0.26476913181210454}, {\"document\": 25, \"term\": \"mevrouw\", \"tfidf\": 0.26484403434255743}, {\"document\": 25, \"term\": \"politie\", \"tfidf\": 0.24430387386686786}, {\"document\": 25, \"term\": \"opzoeken\", \"tfidf\": 0.23962597814088332}, {\"document\": 25, \"term\": \"bewaren\", \"tfidf\": 0.23479436861186556}, {\"document\": 25, \"term\": \"schenden\", \"tfidf\": 0.23480806394906095}, {\"document\": 25, \"term\": \"kamer\", \"tfidf\": 0.21227832751585687}, {\"document\": 25, \"term\": \"werkzaam\", \"tfidf\": 0.2037573213547814}, {\"document\": 26, \"term\": \"voorgenoemde\", \"tfidf\": 0.33993406894534056}, {\"document\": 26, \"term\": \"verschaffen\", \"tfidf\": 0.2294852837172448}, {\"document\": 26, \"term\": \"plaats\", \"tfidf\": 0.2092123067088891}, {\"document\": 26, \"term\": \"medeverdachen\", \"tfidf\": 0.20399550965703064}, {\"document\": 26, \"term\": \"woning\", \"tfidf\": 0.1970651765794099}, {\"document\": 26, \"term\": \"weg\", \"tfidf\": 0.19561504292400528}, {\"document\": 26, \"term\": \"misdrijf\", \"tfidf\": 0.1872000167898293}, {\"document\": 26, \"term\": \"verbreking\", \"tfidf\": 0.18566279394615295}, {\"document\": 26, \"term\": \"braak\", \"tfidf\": 0.18147923174020678}, {\"document\": 26, \"term\": \"bereik\", \"tfidf\": 0.1673633285434137}, {\"document\": 27, \"term\": \"stijgen\", \"tfidf\": 0.48280866224046154}, {\"document\": 27, \"term\": \"motorrijtuig\", \"tfidf\": 0.3792272034297052}, {\"document\": 27, \"term\": \"rijden\", \"tfidf\": 0.30917040812545693}, {\"document\": 27, \"term\": \"adres\", \"tfidf\": 0.21543195889364392}, {\"document\": 27, \"term\": \"scooter\", \"tfidf\": 0.18969277146953592}, {\"document\": 27, \"term\": \"bestuurder\", \"tfidf\": 0.18431424389954607}, {\"document\": 27, \"term\": \"ongeval\", \"tfidf\": 0.17309753967981487}, {\"document\": 27, \"term\": \"woonplaats\", \"tfidf\": 0.16972362174811848}, {\"document\": 27, \"term\": \"veroorzaken\", \"tfidf\": 0.1665169078432309}, {\"document\": 27, \"term\": \"verkeersongeval\", \"tfidf\": 0.15181940523351192}, {\"document\": 28, \"term\": \"filiaal\", \"tfidf\": 0.6718962390358644}, {\"document\": 28, \"term\": \"brood\", \"tfidf\": 0.4071322760445823}, {\"document\": 28, \"term\": \"albert_heijn\", \"tfidf\": 0.3700644550563438}, {\"document\": 28, \"term\": \"winkelbedrijf\", \"tfidf\": 0.35689446346778186}, {\"document\": 28, \"term\": \"toeeigening\", \"tfidf\": 0.21739070808340877}, {\"document\": 28, \"term\": \"wegnemen\", \"tfidf\": 0.1579416872562349}, {\"document\": 28, \"term\": \"enig_goed\", \"tfidf\": 0.15048250725270754}, {\"document\": 28, \"term\": \"geheel\", \"tfidf\": 0.12421656724242383}, {\"document\": 28, \"term\": \"laste_gelegd\", \"tfidf\": 0.09221380452777383}, {\"document\": 28, \"term\": \"aa_flesje\", \"tfidf\": 3.9376704228567095e-06}, {\"document\": 29, \"term\": \"kruidvat\", \"tfidf\": 0.38224685852791546}, {\"document\": 29, \"term\": \"landelijk\", \"tfidf\": 0.36267390338958055}, {\"document\": 29, \"term\": \"vervangen\", \"tfidf\": 0.3474533278969982}, {\"document\": 29, \"term\": \"winkeldiefstal\", \"tfidf\": 0.34752112920567374}, {\"document\": 29, \"term\": \"onderneming\", \"tfidf\": 0.32452532471411877}, {\"document\": 29, \"term\": \"bespreken\", \"tfidf\": 0.2726529544885194}, {\"document\": 29, \"term\": \"vestigen\", \"tfidf\": 0.26404708248785497}, {\"document\": 29, \"term\": \"bewijsmiddel\", \"tfidf\": 0.2416298294841968}, {\"document\": 29, \"term\": \"verhoor\", \"tfidf\": 0.1976836739678942}, {\"document\": 29, \"term\": \"voeren\", \"tfidf\": 0.19777663307108925}]}}, {\"mode\": \"vega-lite\"});\n",
       "</script>"
      ],
      "text/plain": [
       "alt.LayerChart(...)"
      ]
     },
     "execution_count": 15,
     "metadata": {},
     "output_type": "execute_result"
    }
   ],
   "source": [
    "import altair as alt\n",
    "import numpy as np\n",
    "\n",
    "# 18 = 0 / 19 = 1 / 20 = 2 / 21 = 3\n",
    "\n",
    "a = 0\n",
    "\n",
    "# Terms in this list will get a red dot in the visualization\n",
    "term_list = ['kledingwinkel', 'hennep', 'drogen'] # Highlight the words of interest\n",
    "\n",
    "# adding a little randomness to break ties in term ranking\n",
    "top_tfidf_plusRand = top_idfs[a].copy()\n",
    "top_tfidf_plusRand = top_tfidf_plusRand.iloc[:300,]\n",
    "top_tfidf_plusRand['tfidf'] = top_tfidf_plusRand['tfidf'] + np.random.rand(top_tfidf_plusRand.shape[0])*0.0001\n",
    "\n",
    "# base for all visualizations, with rank calculation\n",
    "base = alt.Chart(top_tfidf_plusRand).encode(\n",
    "    x = 'rank:O',\n",
    "    y = 'document:N'\n",
    ").transform_window(\n",
    "    rank = \"rank()\",\n",
    "    sort = [alt.SortField(\"tfidf\", order=\"descending\")],\n",
    "    groupby = [\"document\"],\n",
    ")\n",
    "\n",
    "# heatmap specification\n",
    "heatmap = base.mark_rect().encode(\n",
    "    color = 'tfidf:Q'\n",
    ")\n",
    "\n",
    "# red circle over terms in above list\n",
    "circle = base.mark_circle(size=100).encode(\n",
    "    color = alt.condition(\n",
    "        alt.FieldOneOfPredicate(field='term', oneOf=term_list),\n",
    "        alt.value('red'),\n",
    "        alt.value('#FFFFFF00')        \n",
    "    )\n",
    ")\n",
    "\n",
    "# text labels, white for darker heatmap colors\n",
    "text = base.mark_text(baseline='middle').encode(\n",
    "    text = 'term:N',\n",
    "    color = alt.condition(alt.datum.tfidf >= 0.23, alt.value('white'), alt.value('black'))\n",
    ")\n",
    "\n",
    "# display the three superimposed visualizations\n",
    "(heatmap + circle + text).properties(width = 1200)"
   ]
  },
  {
   "cell_type": "markdown",
   "metadata": {},
   "source": [
    "# Scattertext"
   ]
  },
  {
   "cell_type": "code",
   "execution_count": 29,
   "metadata": {},
   "outputs": [
    {
     "data": {
      "text/html": [
       "<style>.container { width:98% !important; }</style>"
      ],
      "text/plain": [
       "<IPython.core.display.HTML object>"
      ]
     },
     "metadata": {},
     "output_type": "display_data"
    }
   ],
   "source": [
    "import scattertext as st\n",
    "import re, io\n",
    "from pprint import pprint\n",
    "import pandas as pd\n",
    "import numpy as np\n",
    "from scipy.stats import rankdata, hmean, norm\n",
    "import spacy\n",
    "import os, pkgutil, json, urllib\n",
    "from urllib.request import urlopen\n",
    "from IPython.display import IFrame\n",
    "from IPython.core.display import display, HTML\n",
    "from scattertext import CorpusFromPandas, produce_scattertext_explorer\n",
    "display(HTML(\"<style>.container { width:98% !important; }</style>\"))"
   ]
  },
  {
   "cell_type": "code",
   "execution_count": 30,
   "metadata": {},
   "outputs": [
    {
     "data": {
      "text/html": [
       "<style>.container { width:98% !important; }</style>"
      ],
      "text/plain": [
       "<IPython.core.display.HTML object>"
      ]
     },
     "metadata": {},
     "output_type": "display_data"
    }
   ],
   "source": [
    "import scattertext as st\n",
    "import re, io\n",
    "from pprint import pprint\n",
    "import pandas as pd\n",
    "import numpy as np\n",
    "from scipy.stats import rankdata, hmean, norm\n",
    "import spacy\n",
    "import os, pkgutil, json, urllib\n",
    "from urllib.request import urlopen\n",
    "from IPython.display import IFrame\n",
    "from IPython.core.display import display, HTML\n",
    "from scattertext import CorpusFromPandas, produce_scattertext_explorer\n",
    "import selenium\n",
    "from selenium import webdriver\n",
    "import webbrowser\n",
    "import codecs\n",
    "display(HTML(\"<style>.container { width:98% !important; }</style>\"))"
   ]
  },
  {
   "cell_type": "code",
   "execution_count": 48,
   "metadata": {},
   "outputs": [],
   "source": [
    "\n",
    "#df18['year'] = df18['year'].astype(\"string\")\n",
    "#df19['year'] = df19['year'].astype(\"string\")\n",
    "#df20['year'] = df20['year'].astype(\"string\")\n",
    "#df21['year'] = df21['year'].astype(\"string\")\n",
    "\n",
    "frames = [df18, df21]\n",
    "\n",
    "result = pd.concat(frames)\n",
    "\n",
    "nlp = spacy.load(\"nl_core_news_sm\")"
   ]
  },
  {
   "cell_type": "code",
   "execution_count": 49,
   "metadata": {},
   "outputs": [],
   "source": [
    "#(result['lemm_tok'][0])"
   ]
  },
  {
   "cell_type": "code",
   "execution_count": 50,
   "metadata": {
    "collapsed": true
   },
   "outputs": [],
   "source": [
    "result['parsed'] = result.lemm.apply(nlp)"
   ]
  },
  {
   "cell_type": "code",
   "execution_count": 51,
   "metadata": {},
   "outputs": [
    {
     "data": {
      "text/plain": [
       "spacy.tokens.doc.Doc"
      ]
     },
     "execution_count": 51,
     "metadata": {},
     "output_type": "execute_result"
    }
   ],
   "source": [
    "type(result['parsed'][0])"
   ]
  },
  {
   "cell_type": "code",
   "execution_count": 52,
   "metadata": {},
   "outputs": [
    {
     "data": {
      "text/plain": [
       "spacy.tokens.token.Token"
      ]
     },
     "execution_count": 52,
     "metadata": {},
     "output_type": "execute_result"
    }
   ],
   "source": [
    "type(result['parsed'][0][0])"
   ]
  },
  {
   "cell_type": "code",
   "execution_count": 53,
   "metadata": {},
   "outputs": [],
   "source": [
    "result = result.rename(columns={\"Unnamed: 0\": \"Doc_Number\"})\n",
    "result[\"Doc_Number\"] = result[\"Doc_Number\"].astype(\"category\")\n",
    "result[\"year\"] = result[\"year\"].astype(\"category\")"
   ]
  },
  {
   "cell_type": "code",
   "execution_count": 54,
   "metadata": {
    "collapsed": true
   },
   "outputs": [],
   "source": [
    "corpus_scat_text = st.CorpusFromParsedDocuments(result, category_col='year', parsed_col='parsed').build()"
   ]
  },
  {
   "cell_type": "code",
   "execution_count": 55,
   "metadata": {},
   "outputs": [],
   "source": [
    "html = produce_scattertext_explorer(corpus_scat_text,\n",
    "                                    category='2018',\n",
    "                                    category_name='2018',\n",
    "                                    not_category_name='2021',\n",
    "                                    width_in_pixels=1000,\n",
    "                                    minimum_term_frequency=5,\n",
    "                                    metadata=corpus_scat_text.get_df()['filename'],\n",
    "                                    transform= st.Scalers.log_scale_standardize) \n"
   ]
  },
  {
   "cell_type": "code",
   "execution_count": 56,
   "metadata": {
    "scrolled": false
   },
   "outputs": [
    {
     "data": {
      "text/html": [
       "\n",
       "        <iframe\n",
       "            width=\"1200\"\n",
       "            height=\"700\"\n",
       "            src=\"scattertext1821.html\"\n",
       "            frameborder=\"0\"\n",
       "            allowfullscreen\n",
       "        ></iframe>\n",
       "        "
      ],
      "text/plain": [
       "<IPython.lib.display.IFrame at 0x7f863aab2950>"
      ]
     },
     "execution_count": 56,
     "metadata": {},
     "output_type": "execute_result"
    }
   ],
   "source": [
    "import codecs\n",
    "import webbrowser\n",
    "import IPython\n",
    "\n",
    "file_name = 'scattertext1821.html'\n",
    "open(file_name, 'wb').write(html.encode('utf-8'))\n",
    "IFrame(src=file_name, width = 1200, height=700)"
   ]
  },
  {
   "cell_type": "code",
   "execution_count": 27,
   "metadata": {},
   "outputs": [],
   "source": [
    "# d = [df18, df19, df20, df21] # Savable - done\n",
    "#q = 1\n",
    "#lda_models = [] # gensim.models.ldamodel.LdaModel - done\n",
    "#dat_lems = [] # its a list - try - this should be in the dat column lemm - done\n",
    "#corps = [] # its a list - try - done\n",
    "#ids = [] # gensim - seperate df - done\n",
    "#top_idfs = [] # savable - done"
   ]
  },
  {
   "cell_type": "code",
   "execution_count": null,
   "metadata": {},
   "outputs": [],
   "source": []
  },
  {
   "cell_type": "markdown",
   "metadata": {},
   "source": [
    "# Plotly - Lineplot"
   ]
  },
  {
   "cell_type": "code",
   "execution_count": 11,
   "metadata": {},
   "outputs": [
    {
     "data": {
      "application/vnd.plotly.v1+json": {
       "config": {
        "plotlyServerURL": "https://plot.ly"
       },
       "data": [
        {
         "hovertemplate": "x=%{x}<br>tfidf=%{y}<extra></extra>",
         "legendgroup": "",
         "line": {
          "color": "#1F77B4",
          "dash": "solid"
         },
         "marker": {
          "symbol": "circle"
         },
         "mode": "lines",
         "name": "",
         "orientation": "v",
         "showlegend": false,
         "type": "scatter",
         "x": [
          2018,
          2019,
          2020,
          2021
         ],
         "xaxis": "x",
         "y": [
          0.09858424281816003,
          0.09010084778979682,
          0.10788600241366628,
          0.17813035085267848
         ],
         "yaxis": "y"
        }
       ],
       "layout": {
        "height": 800,
        "legend": {
         "tracegroupgap": 0
        },
        "template": {
         "data": {
          "pie": [
           {
            "automargin": true,
            "type": "pie"
           }
          ],
          "scatter": [
           {
            "line": {
             "width": 3
            },
            "marker": {
             "size": 9
            },
            "type": "scatter"
           }
          ],
          "scatter3d": [
           {
            "line": {
             "width": 3
            },
            "marker": {
             "size": 9
            },
            "type": "scatter3d"
           }
          ],
          "scattergeo": [
           {
            "line": {
             "width": 3
            },
            "marker": {
             "size": 9
            },
            "type": "scattergeo"
           }
          ],
          "scattergl": [
           {
            "line": {
             "width": 3
            },
            "marker": {
             "size": 9
            },
            "type": "scattergl"
           }
          ],
          "scatterpolar": [
           {
            "line": {
             "width": 3
            },
            "marker": {
             "size": 9
            },
            "type": "scatterpolar"
           }
          ],
          "scatterpolargl": [
           {
            "line": {
             "width": 3
            },
            "marker": {
             "size": 9
            },
            "type": "scatterpolargl"
           }
          ],
          "scatterternary": [
           {
            "line": {
             "width": 3
            },
            "marker": {
             "size": 9
            },
            "type": "scatterternary"
           }
          ],
          "table": [
           {
            "cells": {
             "height": 30
            },
            "header": {
             "height": 36
            },
            "type": "table"
           }
          ]
         },
         "layout": {
          "font": {
           "size": 18
          },
          "xaxis": {
           "title": {
            "standoff": 15
           }
          },
          "yaxis": {
           "title": {
            "standoff": 15
           }
          }
         }
        },
        "title": {
         "text": "TF-IDF Scores of term: auto"
        },
        "xaxis": {
         "anchor": "y",
         "domain": [
          0,
          1
         ],
         "title": {
          "text": "x"
         },
         "type": "category"
        },
        "yaxis": {
         "anchor": "x",
         "domain": [
          0,
          1
         ],
         "title": {
          "text": "tfidf"
         }
        }
       }
      }
     },
     "metadata": {},
     "output_type": "display_data"
    }
   ],
   "source": [
    "import plotly.express as px\n",
    "import plotly.io as pio\n",
    "\n",
    "pio.templates.default = \"presentation\"\n",
    "\n",
    "term = 'auto'\n",
    "\n",
    "fig = px.line(top_tfidf[top_tfidf['term'] == term],\n",
    "  x= [2018, 2019, 2020, 2021],\n",
    "  y=\"tfidf\",\n",
    "  title='TF-IDF Scores of term: {}'.format(term),\n",
    "  height = 800)\n",
    "\n",
    "fig.update_xaxes(type='category')\n",
    "fig.show()"
   ]
  },
  {
   "cell_type": "code",
   "execution_count": null,
   "metadata": {},
   "outputs": [],
   "source": []
  },
  {
   "cell_type": "code",
   "execution_count": null,
   "metadata": {},
   "outputs": [],
   "source": []
  },
  {
   "cell_type": "code",
   "execution_count": null,
   "metadata": {},
   "outputs": [],
   "source": []
  },
  {
   "cell_type": "code",
   "execution_count": null,
   "metadata": {},
   "outputs": [],
   "source": []
  },
  {
   "cell_type": "code",
   "execution_count": null,
   "metadata": {},
   "outputs": [],
   "source": []
  },
  {
   "cell_type": "code",
   "execution_count": null,
   "metadata": {},
   "outputs": [],
   "source": []
  }
 ],
 "metadata": {
  "interpreter": {
   "hash": "40d3a090f54c6569ab1632332b64b2c03c39dcf918b08424e98f38b5ae0af88f"
  },
  "kernelspec": {
   "display_name": "Python 3",
   "language": "python",
   "name": "python3"
  },
  "language_info": {
   "codemirror_mode": {
    "name": "ipython",
    "version": 3
   },
   "file_extension": ".py",
   "mimetype": "text/x-python",
   "name": "python",
   "nbconvert_exporter": "python",
   "pygments_lexer": "ipython3",
   "version": "3.7.10"
  }
 },
 "nbformat": 4,
 "nbformat_minor": 2
}
