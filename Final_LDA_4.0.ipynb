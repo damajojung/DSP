{
 "cells": [
  {
   "cell_type": "markdown",
   "metadata": {},
   "source": [
    "# Final LDA Model"
   ]
  },
  {
   "cell_type": "code",
   "execution_count": 1,
   "metadata": {},
   "outputs": [],
   "source": [
    "import re\n",
    "import numpy as np\n",
    "import pandas as pd\n",
    "from pprint import pprint\n",
    "\n",
    "from datetime import datetime\n",
    "\n",
    "# Gensim\n",
    "import gensim\n",
    "import gensim.corpora as corpora\n",
    "from gensim.utils import simple_preprocess\n",
    "from gensim.models import CoherenceModel\n",
    "\n",
    "# spacy for lemmatization\n",
    "import spacy\n",
    "\n",
    "# Plotting tools\n",
    "import pyLDAvis\n",
    "# import pyLDAvis.gensim  # Author: don't skip this\n",
    "# pyLDAvis.gensim.prepare\n",
    "\n",
    "# I think i need another one:\n",
    "import pyLDAvis.gensim_models\n",
    "import pyLDAvis.gensim_models as gensimvis\n",
    "\n",
    "# Plots\n",
    "import matplotlib.pyplot as plt\n",
    "from matplotlib.pyplot import figure\n",
    "%matplotlib inline\n",
    "\n",
    "# Enable logging for gensim - optional\n",
    "import logging\n",
    "logging.basicConfig(format='%(asctime)s : %(levelname)s : %(message)s', level=logging.ERROR)\n",
    "\n",
    "import warnings\n",
    "warnings.filterwarnings(\"ignore\",category=DeprecationWarning)\n",
    "\n",
    "# TF.IDF\n",
    "from sklearn.feature_extraction.text import TfidfVectorizer\n",
    "from sklearn.preprocessing import Normalizer\n",
    "from sklearn.cluster import KMeans\n",
    "from sklearn import metrics\n",
    "from sklearn.metrics.pairwise import cosine_distances"
   ]
  },
  {
   "cell_type": "code",
   "execution_count": 2,
   "metadata": {},
   "outputs": [],
   "source": [
    "# NLTK Stop words\n",
    "from nltk.corpus import stopwords\n",
    "stop_words = stopwords.words('dutch')\n",
    "stop_words.extend(['tenlastelegging', 'hof', 'althans', 'tenlastegelegd', 'naan', 'verklaring', 'verklaren', 'benadelen', 'naam', 'aangeefster', 'aangever', 'aangev', 'verbalisant', 'slachtoffer', 'rechtbank', 'uur', 'uren', 'weten', 'bestaan', 'waarheid', 'daarvoor', 'genaamd', 'maken', 'gaan', 'toverweging', 'aanzien', 'bewijs', 'feit', 'grond', 'staan', 'vaststellen', 'halen', 'vervolgens', 'nemen', 'aanhouden', 'bevinden', 'officier', 'justitie', 'overtuigen', 'bewijzen', 'maken', 'stellen', 'leggen', 'dienen', 'vrijspreken', 'daarnaast', 'bezigen', 'willen', 'gaan', 'vervolgens', 'raken', 'weten', 'proberen', 'echter', 'vraag', 'verdenken', 'vervatten', 'beslissing', 'hoger_beroep', 'verkort_vonni', 'geacht', 'instellen', 'ander', 'zien', 'toebehoren', 'hoeveelheid', 'lijst_ii', 'bereiken'])"
   ]
  },
  {
   "cell_type": "markdown",
   "metadata": {},
   "source": [
    "# Test "
   ]
  },
  {
   "cell_type": "code",
   "execution_count": 3,
   "metadata": {},
   "outputs": [
    {
     "name": "stdout",
     "output_type": "stream",
     "text": [
      "(300, 10)\n",
      "(306, 10)\n",
      "(315, 10)\n",
      "(527, 10)\n"
     ]
    }
   ],
   "source": [
    "\n",
    "df18 = pd.read_csv('/Users/dj/Python - UvA/DSP/data_2018.csv', index_col=0) \n",
    "df19 = pd.read_csv('/Users/dj/Python - UvA/DSP/data_2019.csv', index_col=0) \n",
    "df20 = pd.read_csv('/Users/dj/Python - UvA/DSP/data_2020.csv', index_col=0) \n",
    "df21 = pd.read_csv('/Users/dj/Python - UvA/DSP/data_2021.csv', index_col=0) \n",
    "\n",
    "convert_dict = {'lemm': str,\n",
    "                'year': str}\n",
    "  \n",
    "df18 = df18.astype(convert_dict)\n",
    "df19 = df19.astype(convert_dict)\n",
    "df20 = df20.astype(convert_dict)\n",
    "df21 = df21.astype(convert_dict)\n",
    "\n",
    "d = [df18, df19, df20, df21]\n",
    "\n",
    "for i in d:\n",
    "    test_list = []\n",
    "    for j in i['lemm']:\n",
    "        test_list.append(j.split())\n",
    "    \n",
    "    i['lemm_tok'] = test_list\n",
    "\n",
    "print(df18.shape)\n",
    "print(df19.shape)\n",
    "print(df20.shape)\n",
    "print(df21.shape)\n",
    "\n",
    "tfidf18 = pd.read_csv('/Users/dj/Python - UvA/DSP/topidfs_2018.csv', index_col=0) \n",
    "tfidf19 = pd.read_csv('/Users/dj/Python - UvA/DSP/topidfs_2019.csv', index_col=0) \n",
    "tfidf20 = pd.read_csv('/Users/dj/Python - UvA/DSP/topidfs_2020.csv', index_col=0) \n",
    "tfidf21 = pd.read_csv('/Users/dj/Python - UvA/DSP/topidfs_2021.csv', index_col=0) \n",
    "\n",
    "top_idfs = [tfidf18, tfidf19, tfidf20, tfidf21]\n",
    "\n",
    "i2w_df = pd.read_csv('/Users/dj/Python - UvA/DSP/i2words_df.csv', index_col=0) \n"
   ]
  },
  {
   "cell_type": "markdown",
   "metadata": {},
   "source": [
    "# Build Giant Function"
   ]
  },
  {
   "cell_type": "code",
   "execution_count": 4,
   "metadata": {},
   "outputs": [],
   "source": [
    "def get_lda_model(df):\n",
    "\n",
    "    data_lemmatized = df['lemm_tok']\n",
    "    # Create Dictionary\n",
    "    id2word = corpora.Dictionary(data_lemmatized)\n",
    "\n",
    "    # Create Corpus\n",
    "    texts = data_lemmatized\n",
    "\n",
    "    # Term Document Frequency\n",
    "    corpus = [id2word.doc2bow(text) for text in texts]\n",
    "    # corpus1 = [str(item) for item in corpus]\n",
    "\n",
    "    lda_model = gensim.models.ldamodel.LdaModel(corpus=corpus,\n",
    "                                        id2word=id2word,\n",
    "                                        num_topics=5, \n",
    "                                        random_state=100,\n",
    "                                        update_every=1,\n",
    "                                        chunksize=100,\n",
    "                                        passes=10,\n",
    "                                        alpha='auto',\n",
    "                                        per_word_topics=True)\n",
    "\n",
    "    return(data_lemmatized, corpus, id2word, lda_model)"
   ]
  },
  {
   "cell_type": "code",
   "execution_count": 5,
   "metadata": {},
   "outputs": [],
   "source": [
    "data_lemmatized, corpus, id2word, lda_model = get_lda_model(df18)"
   ]
  },
  {
   "cell_type": "markdown",
   "metadata": {},
   "source": [
    "# Compute Model Perplexity and Coherence Score"
   ]
  },
  {
   "cell_type": "code",
   "execution_count": 7,
   "metadata": {},
   "outputs": [
    {
     "name": "stdout",
     "output_type": "stream",
     "text": [
      "\n",
      "Perplexity:  -7.285534040699843\n",
      "\n",
      "Coherence Score:  -1.0240063410034717\n"
     ]
    }
   ],
   "source": [
    "# Compute Perplexity\n",
    "print('\\nPerplexity: ', lda_model.log_perplexity(corpus))  # a measure of how good the model is. lower the better.\n",
    "\n",
    "# Compute Coherence Score\n",
    "coherence_model_lda = CoherenceModel(model=lda_model, texts=data_lemmatized, dictionary=id2word, coherence='u_mass') #u_mass\n",
    "coherence_lda = coherence_model_lda.get_coherence()\n",
    "print('\\nCoherence Score: ', coherence_lda)"
   ]
  },
  {
   "cell_type": "markdown",
   "metadata": {},
   "source": [
    "# Visualize the topics-keywords"
   ]
  },
  {
   "cell_type": "code",
   "execution_count": 10,
   "metadata": {},
   "outputs": [
    {
     "data": {
      "text/html": [
       "\n",
       "<link rel=\"stylesheet\" type=\"text/css\" href=\"https://cdn.jsdelivr.net/gh/bmabey/pyLDAvis@3.3.1/pyLDAvis/js/ldavis.v1.0.0.css\">\n",
       "\n",
       "\n",
       "<div id=\"ldavis_el25081402619656526889853253999\"></div>\n",
       "<script type=\"text/javascript\">\n",
       "\n",
       "var ldavis_el25081402619656526889853253999_data = {\"mdsDat\": {\"x\": [-0.17281400101346817, 0.11500536101848317, 0.05059491780602815, -0.07804136878684716, 0.0852550909758041], \"y\": [0.10432323887988529, 0.11047973534215136, 0.017379741609621035, -0.14843056891438103, -0.08375214691727652], \"topics\": [1, 2, 3, 4, 5], \"cluster\": [1, 1, 1, 1, 1], \"Freq\": [36.71701611024137, 22.462058797912558, 17.295375995393176, 13.204039551237528, 10.321509545215369]}, \"tinfo\": {\"Term\": [\"betrokken\", \"slaan\", \"adres\", \"zeggen\", \"man\", \"woning\", \"overval\", \"medeverdacht\", \"minderjarig\", \"bedrag\", \"pand\", \"hennep\", \"bankrekening\", \"witwas\", \"bereik\", \"verwerken\", \"downloadpas\", \"overdragen\", \"dentifier\", \"valselijk\", \"bedrag\", \"vordering\", \"gegeven\", \"bank\", \"middel\", \"vals\", \"bedrijf\", \"totaal\", \"misdrijf\", \"geld\", \"artikel\", \"periode\", \"mededader\", \"tezamen\", \"vereniging\", \"alleen\", \"medeverdacht\", \"adres\", \"overval\", \"overvaller\", \"gemakkelijk\", \"tiewraps\", \"betrapping\", \"buurman\", \"bivakmuts\", \"overvallen\", \"vlucht_mogelijk\", \"sjaal\", \"betrokken\", \"dader\", \"vergezellen\", \"man\", \"hond\", \"adres\", \"bedreiging\", \"geweld\", \"woning\", \"lopen\", \"medeverdacht\", \"plaats\", \"komen\", \"boompaal\", \"deskundig\", \"cafe\", \"perazijnzuur\", \"ongeval\", \"motorrijtuig\", \"cobra\", \"kogel\", \"bestandsnaam\", \"fietser\", \"erf\", \"paal\", \"rijden\", \"auto\", \"richting\", \"beeld\", \"persoon\", \"komen\", \"verdediging\", \"getuige\", \"volgen\", \"letsel\", \"man\", \"opzettelijk\", \"vagina\", \"seksueel\", \"uitbuiting\", \"betast\", \"naaktfoto\", \"seks\", \"betasten\", \"lingerie\", \"prostitutie\", \"achttien_jaren\", \"feitelijkheid\", \"misbruik\", \"leeftijd\", \"meisje\", \"penis\", \"minderjarig\", \"sturen\", \"zeggen\", \"foto\", \"afbeelding\", \"vragen\", \"komen\", \"geven\", \"periode\", \"brengen\", \"mishandeling\", \"trainer\", \"homo\", \"groepsapp\", \"spier\", \"les\", \"belediging\", \"uitschelden\", \"beledigen\", \"mongool\", \"training\", \"pijn\", \"groep\", \"touw\", \"slaan\", \"mishandelen\", \"fiets\", \"hoofd\", \"jongen\", \"stompen\", \"letsel\", \"getuige\", \"komen\", \"wel\", \"medeverdacht\", \"geven\"], \"Freq\": [770.0, 661.0, 1013.0, 701.0, 750.0, 843.0, 302.0, 1377.0, 247.0, 389.0, 147.02773206971312, 141.09520627836434, 120.00857318910538, 113.06341955397497, 98.64161970268941, 93.62472970503259, 86.55420682766422, 93.84211550156007, 81.47316546163982, 76.60354050190325, 384.055147596272, 190.67223910441024, 280.52606704635906, 327.70075461089357, 290.47888982187357, 118.06366031386953, 230.58232933735712, 149.23010576999752, 280.67104311526714, 439.9420126373107, 349.21634049303447, 440.7343814260943, 321.7821553889031, 354.5111595175908, 373.6562649963109, 370.63882557240635, 398.0311586852308, 337.9457462100045, 300.7394413538158, 64.4494724166583, 61.83117068275964, 50.8938885141548, 51.62957098516087, 48.60081826223916, 46.3499708379489, 45.452571768030275, 37.97869276232289, 36.42949307034537, 714.3832396791088, 181.35449573826452, 62.75103724962642, 549.7579308811847, 89.07034831374418, 652.678862769515, 163.03631838394458, 349.99633116298884, 497.73746156220943, 251.81650175678473, 694.7018744928981, 372.7545900234302, 356.3621096816049, 109.30758987867395, 55.450057206049465, 49.07431266741083, 47.30602320919547, 44.38280843769397, 44.20969647200796, 39.79708492281115, 39.89665175482321, 33.98508993776597, 33.17867549172148, 51.39640946670446, 64.62938082883512, 122.96809907807277, 190.8159817949776, 155.9978314871574, 103.65465894431402, 201.07076112827394, 243.06376130564053, 137.1614813594354, 166.36119203864183, 159.56845907658533, 112.37557960775955, 128.53473932550014, 123.59422012581827, 112.69634006844593, 37.927565121918406, 36.25300583288007, 35.52255490231398, 33.86169024143481, 51.67553344618628, 28.755101603552315, 25.099918267192734, 21.25450263878799, 20.917706199123554, 72.20113830980048, 62.51653642257927, 124.60538107297488, 70.03822754083708, 60.337335934578086, 185.96246208406276, 77.42056357862425, 343.50300363973315, 181.17352729978927, 97.17468994803198, 87.12892419435697, 140.92629318977333, 111.70329106872092, 112.41080208909948, 99.51251590753573, 69.29077545000185, 53.09732525235876, 39.09393979425158, 30.13557230906963, 27.388332840441173, 51.14125330859685, 27.221387680796706, 23.254680807642988, 22.909631686401994, 22.406347705553163, 67.37084515553654, 98.87818134961245, 51.40963011536302, 66.56783812486593, 356.7720201045949, 72.91502563374895, 78.76028040972817, 148.60194508459708, 111.3378252957849, 75.07866822675074, 109.95213576779628, 138.53463990618278, 147.84165645387282, 112.57428151062655, 144.25725284486558, 109.88937554995849], \"Total\": [770.0, 661.0, 1013.0, 701.0, 750.0, 843.0, 302.0, 1377.0, 247.0, 389.0, 147.87651559426834, 141.9372893640289, 120.80318784341499, 113.85951684163997, 99.46279748018955, 94.4294482815281, 87.34807967230353, 94.70675315530448, 82.26707647225489, 77.401533672932, 389.19720229933716, 193.76447171870007, 292.91479105597585, 347.57997359653956, 308.3001915514085, 120.26362751748908, 251.15010461077506, 156.10538063157887, 326.9477853263567, 599.5155805050052, 464.707501893232, 631.6258749711292, 427.8449915244633, 527.962938417463, 632.3654252680458, 632.3658994982264, 1377.6242297982749, 1013.4895098521221, 302.50183831613725, 65.22301108789264, 62.654302079988604, 51.66405409156092, 52.41538604939287, 49.3934311986159, 47.13293359672392, 46.228194382415005, 38.75334143146756, 37.19965619921135, 770.7791730535779, 198.15996475750669, 65.77140461076898, 750.985781189751, 98.07270114978249, 1013.4895098521221, 202.12104266597478, 500.6993619859916, 843.4169202049536, 370.5665185509889, 1377.6242297982749, 757.7462533986456, 1047.2869131662783, 110.80422016649953, 56.23419540687686, 49.8557422990443, 48.084530259880125, 45.162037289433506, 44.98879682345611, 40.57829635205497, 40.78156035619768, 34.77439431695332, 33.958204584395396, 52.64560508789783, 66.73220993382117, 235.9348941068468, 505.1321263116022, 380.61853474543744, 193.16013972743636, 704.0423830548983, 1047.2869131662783, 358.5589879147817, 639.399734830651, 747.1280503296497, 293.4856899273803, 750.985781189751, 617.7117214784171, 113.48603330556871, 38.711948964460106, 37.03758079224058, 36.31903725958932, 34.64513356681045, 53.04916223807929, 29.540245632051363, 25.883291346230333, 22.03832355793732, 21.70171103902429, 77.17791494326887, 66.63804183236505, 140.64126059360257, 76.85844572435597, 65.48060358694691, 247.6921613564941, 94.04830285016918, 701.5728277948773, 368.4395512284357, 151.90930316251945, 179.1268337303429, 1047.2869131662783, 564.5764702173308, 631.6258749711292, 472.239852031236, 70.09990718669054, 53.91318361994692, 39.89725251192919, 30.951798262983747, 28.19162226574743, 52.643201746624314, 28.024865011712357, 24.057958735700588, 23.714286263568784, 23.221249033729265, 71.67775822067662, 118.01027199773685, 59.26021797490623, 80.29204416931427, 661.2395868005701, 107.26640181652331, 122.66790638450955, 386.92383069779225, 273.1142467826328, 119.26005517097505, 293.4856899273803, 639.399734830651, 1047.2869131662783, 441.70435545470787, 1377.6242297982749, 564.5764702173308], \"Category\": [\"Default\", \"Default\", \"Default\", \"Default\", \"Default\", \"Default\", \"Default\", \"Default\", \"Default\", \"Default\", \"Topic1\", \"Topic1\", \"Topic1\", \"Topic1\", \"Topic1\", \"Topic1\", \"Topic1\", \"Topic1\", \"Topic1\", \"Topic1\", \"Topic1\", \"Topic1\", \"Topic1\", \"Topic1\", \"Topic1\", \"Topic1\", \"Topic1\", \"Topic1\", \"Topic1\", \"Topic1\", \"Topic1\", \"Topic1\", \"Topic1\", \"Topic1\", \"Topic1\", \"Topic1\", \"Topic1\", \"Topic1\", \"Topic2\", \"Topic2\", \"Topic2\", \"Topic2\", \"Topic2\", \"Topic2\", \"Topic2\", \"Topic2\", \"Topic2\", \"Topic2\", \"Topic2\", \"Topic2\", \"Topic2\", \"Topic2\", \"Topic2\", \"Topic2\", \"Topic2\", \"Topic2\", \"Topic2\", \"Topic2\", \"Topic2\", \"Topic2\", \"Topic2\", \"Topic3\", \"Topic3\", \"Topic3\", \"Topic3\", \"Topic3\", \"Topic3\", \"Topic3\", \"Topic3\", \"Topic3\", \"Topic3\", \"Topic3\", \"Topic3\", \"Topic3\", \"Topic3\", \"Topic3\", \"Topic3\", \"Topic3\", \"Topic3\", \"Topic3\", \"Topic3\", \"Topic3\", \"Topic3\", \"Topic3\", \"Topic3\", \"Topic4\", \"Topic4\", \"Topic4\", \"Topic4\", \"Topic4\", \"Topic4\", \"Topic4\", \"Topic4\", \"Topic4\", \"Topic4\", \"Topic4\", \"Topic4\", \"Topic4\", \"Topic4\", \"Topic4\", \"Topic4\", \"Topic4\", \"Topic4\", \"Topic4\", \"Topic4\", \"Topic4\", \"Topic4\", \"Topic4\", \"Topic4\", \"Topic4\", \"Topic5\", \"Topic5\", \"Topic5\", \"Topic5\", \"Topic5\", \"Topic5\", \"Topic5\", \"Topic5\", \"Topic5\", \"Topic5\", \"Topic5\", \"Topic5\", \"Topic5\", \"Topic5\", \"Topic5\", \"Topic5\", \"Topic5\", \"Topic5\", \"Topic5\", \"Topic5\", \"Topic5\", \"Topic5\", \"Topic5\", \"Topic5\", \"Topic5\", \"Topic5\"], \"logprob\": [10.0, 9.0, 8.0, 7.0, 6.0, 5.0, 4.0, 3.0, 2.0, 1.0, -5.8634, -5.9046, -6.0665, -6.1261, -6.2625, -6.3147, -6.3933, -6.3124, -6.4538, -6.5154, -4.9032, -5.6035, -5.2174, -5.0619, -5.1825, -6.0828, -5.4134, -5.8485, -5.2168, -4.7674, -4.9983, -4.7656, -5.0802, -4.9833, -4.9307, -4.9388, -4.8675, -5.0311, -4.6564, -6.1967, -6.2382, -6.4329, -6.4185, -6.479, -6.5264, -6.5459, -6.7256, -6.7672, -3.7912, -5.1622, -6.2234, -4.0531, -5.8732, -3.8815, -5.2686, -4.5047, -4.1525, -4.8339, -3.8191, -4.4417, -4.4867, -5.4071, -6.0857, -6.2079, -6.2446, -6.3084, -6.3123, -6.4174, -6.4149, -6.5753, -6.5993, -6.1617, -5.9326, -5.2893, -4.8499, -5.0514, -5.4602, -4.7976, -4.6079, -5.1801, -4.9871, -5.0288, -5.3794, -5.245, -5.2842, -5.1066, -6.1956, -6.2408, -6.2611, -6.309, -5.8863, -6.4725, -6.6084, -6.7747, -6.7907, -5.5519, -5.6959, -5.0062, -5.5823, -5.7314, -4.6058, -5.4821, -3.9921, -4.6319, -5.2548, -5.3639, -4.8831, -5.1155, -5.1092, -5.231, -5.3467, -5.6129, -5.9191, -6.1793, -6.2749, -5.6504, -6.281, -6.4385, -6.4535, -6.4757, -5.3748, -4.9911, -5.6452, -5.3868, -3.7079, -5.2957, -5.2186, -4.5838, -4.8725, -5.2665, -4.885, -4.6539, -4.5889, -4.8614, -4.6134, -4.8855], \"loglift\": [10.0, 9.0, 8.0, 7.0, 6.0, 5.0, 4.0, 3.0, 2.0, 1.0, 0.9962, 0.996, 0.9953, 0.9949, 0.9936, 0.9934, 0.9928, 0.9928, 0.9922, 0.9916, 0.9886, 0.9858, 0.9587, 0.943, 0.9424, 0.9835, 0.9165, 0.9569, 0.8493, 0.6925, 0.7162, 0.6421, 0.717, 0.6036, 0.4758, 0.4677, -0.2397, -0.0963, 1.4875, 1.4814, 1.4801, 1.4783, 1.4782, 1.4772, 1.4766, 1.4764, 1.4732, 1.4724, 1.4174, 1.4047, 1.4463, 1.1814, 1.3971, 1.0533, 1.2784, 1.1353, 0.966, 1.107, 0.8087, 0.7839, 0.4153, 1.7411, 1.7407, 1.7389, 1.7384, 1.7373, 1.7373, 1.7353, 1.7328, 1.7318, 1.7315, 1.7307, 1.7227, 1.1031, 0.7812, 0.8628, 1.1323, 0.5015, 0.2941, 0.7938, 0.4084, 0.211, 0.7947, -0.0105, 0.1457, 2.0177, 2.0042, 2.0032, 2.0025, 2.0018, 1.9984, 1.9977, 1.9939, 1.9884, 1.9879, 1.958, 1.9608, 1.9036, 1.9317, 1.9428, 1.738, 1.8301, 1.3105, 1.3148, 1.5779, 1.3039, 0.0189, 0.4044, 0.2985, 0.4674, 2.2593, 2.2557, 2.2506, 2.2442, 2.242, 2.242, 2.2419, 2.237, 2.2364, 2.2352, 2.209, 2.0941, 2.1288, 2.0835, 1.6539, 1.8849, 1.8279, 1.314, 1.3736, 1.8082, 1.2892, 0.7415, 0.3131, 0.9039, 0.0144, 0.6343]}, \"token.table\": {\"Topic\": [4, 1, 2, 3, 4, 1, 3, 4, 5, 1, 2, 3, 4, 5, 1, 2, 3, 4, 5, 1, 2, 3, 4, 1, 3, 4, 5, 1, 1, 2, 1, 2, 4, 1, 5, 1, 2, 3, 4, 5, 5, 1, 3, 4, 4, 2, 1, 2, 5, 2, 3, 5, 1, 2, 3, 4, 5, 2, 3, 3, 2, 3, 5, 1, 3, 1, 3, 1, 2, 4, 1, 2, 3, 5, 3, 1, 2, 3, 4, 5, 1, 2, 3, 1, 2, 4, 2, 1, 2, 3, 4, 5, 1, 2, 3, 4, 5, 1, 2, 3, 4, 5, 1, 3, 5, 5, 1, 5, 2, 3, 1, 2, 3, 4, 5, 1, 2, 3, 4, 5, 3, 1, 2, 3, 4, 5, 2, 3, 4, 5, 3, 5, 2, 3, 5, 4, 1, 2, 3, 4, 5, 1, 2, 3, 4, 5, 1, 2, 3, 4, 1, 2, 3, 4, 5, 2, 3, 4, 1, 2, 3, 4, 5, 1, 2, 4, 5, 1, 4, 1, 2, 3, 4, 2, 3, 4, 5, 5, 5, 3, 4, 3, 1, 2, 3, 4, 5, 1, 2, 4, 2, 2, 3, 5, 1, 4, 5, 3, 1, 3, 4, 5, 1, 2, 3, 4, 5, 2, 3, 4, 5, 1, 2, 3, 4, 5, 4, 2, 3, 5, 1, 2, 3, 4, 2, 4, 4, 2, 1, 2, 3, 4, 5, 5, 2, 5, 1, 2, 4, 1, 2, 3, 4, 5, 2, 1, 4, 2, 3, 5, 5, 2, 5, 4, 5, 4, 1, 4, 1, 1, 2, 3, 4, 5, 1, 2, 3, 4, 5, 1, 2, 1, 2, 1, 2, 3, 4, 5, 1, 3, 5, 1, 2, 3, 4, 5, 1, 2, 3, 4, 5, 1, 1, 2, 3, 4, 1, 2, 3, 4, 5], \"Freq\": [0.9676656353150006, 0.33350123184730096, 0.6443085928884247, 0.008880210315460678, 0.013813660490716608, 0.006582875302443819, 0.013165750604887639, 0.6385389043370504, 0.33572664042463474, 0.5866856519214324, 0.24511125619359037, 0.050603614181902526, 0.041115436522795805, 0.0759054212728538, 0.7510100408927417, 0.010759456173248447, 0.13987293025222983, 0.06455673703949069, 0.03443025975439504, 0.15441504496960848, 0.4276108937619927, 0.3781188921691695, 0.03959360127425859, 0.9436677165432223, 0.008631107163505082, 0.023016285769346886, 0.023016285769346886, 0.9933512694676893, 0.9866463523667883, 0.012846957713109222, 0.0197901215392521, 0.806447452724523, 0.17316356346845585, 0.9197686792048003, 0.07963365187920349, 0.07765577318988348, 0.3106230927595339, 0.5384133607831921, 0.07247872164389126, 0.9698794956074174, 0.9634301534981867, 0.9953470293223783, 0.9777309042424993, 0.9912157016357837, 0.9817115389363861, 0.9920751122771195, 0.0064869422719241576, 0.9263353564307697, 0.06616681117362641, 0.9759630154486572, 0.9837170446776446, 0.009024927015391235, 0.4277487364337028, 0.13340678413526375, 0.19058112019323395, 0.2117568002147044, 0.038116224038646784, 0.9920347465428374, 0.982835632174296, 0.9857486290937968, 0.9134034729037939, 0.060557136325113406, 0.025232140135463918, 0.9845980126365349, 0.9780525817441335, 0.99601502776467, 0.9687418335272184, 0.05182829832783482, 0.012957074581958704, 0.9329093699010267, 0.008152091524782717, 0.04076045762391358, 0.3097794779417432, 0.6440152304578346, 0.9717828255020374, 0.07871033363087492, 0.21984610427934026, 0.13570747177737053, 0.49126104783408137, 0.07056788532423268, 0.9593233547100086, 0.037553583280462974, 0.003413962116405725, 0.7339258800069276, 0.1668013363652108, 0.09841278845547438, 0.9895569488723491, 0.16734445476168303, 0.33312494265643444, 0.25961849991064845, 0.021895536137042638, 0.21739139450349476, 0.29048323593236014, 0.17889516359249008, 0.13815666099222007, 0.1983787952708801, 0.1948363167839001, 0.011983238756689022, 0.6990222608068596, 0.0399441291889634, 0.14379886508026826, 0.10385473589130485, 0.016874726995156353, 0.10124836197093812, 0.860611076752974, 0.96924901568249, 0.9933964543903256, 0.9775109197892533, 0.9074900452071151, 0.08157213889502159, 0.005168976013684989, 0.33856792889636683, 0.240357384636352, 0.03359834408895243, 0.38508871301953174, 0.007322942774170868, 0.5126059941919607, 0.021968828322512603, 0.05492207080628151, 0.4064233239664832, 0.9808354474578386, 0.15182086016838778, 0.33992595106884305, 0.23202810704980018, 0.1346335929795137, 0.1413175302196314, 0.007110288942087935, 0.021330866826263804, 0.8887861177609919, 0.07821317836296729, 0.01899580509584267, 0.9687860598879763, 0.24191980200999968, 0.38161996936788684, 0.374805327057746, 0.9658740716389232, 0.05666998756961487, 0.6800398508353784, 0.15111996685230633, 0.04317713338637323, 0.0701628417528565, 0.06391599042521935, 0.732370723622305, 0.171774224267777, 0.015978997606304838, 0.017310580740163572, 0.7526090205068784, 0.21503114871625095, 0.018698360757934865, 0.01402377056845115, 0.2889031648770282, 0.5044917075113935, 0.07766994633628647, 0.02468016986386673, 0.10452777824696498, 0.026021863715183252, 0.052043727430366504, 0.9107652300314137, 0.9406416471578579, 0.012974367547004937, 0.003243591886751234, 0.02270514320725864, 0.01621795943375617, 0.016149077863804293, 0.22204982062730902, 0.7509321206668996, 0.008074538931902147, 0.06002577341726844, 0.9454059313219779, 0.8594644546055206, 0.07034762439831663, 0.06728903203317242, 0.006117184730288403, 0.2330645903715678, 0.05593550168917627, 0.03729033445945085, 0.680548603884978, 0.9843094344795456, 0.9474081246897882, 0.9780212654422317, 0.9813788113829505, 0.9742695998857123, 0.4808068062706775, 0.12141586016936301, 0.20074088881334684, 0.04370970966097069, 0.15541230101678466, 0.9925374576600096, 0.9950352754069292, 0.0033057650345745156, 0.973431919658056, 0.9812487791119525, 0.9740423712096601, 0.014985267249379385, 0.9940726518288188, 0.9163018773999293, 0.061086791826661956, 0.9774453394050308, 0.6981981224568382, 0.01424894127462935, 0.17732015808427637, 0.10924188310549168, 0.25708679527875294, 0.23152015265434656, 0.2854941759725378, 0.1264128440873426, 0.09942583242824699, 0.11015990201471028, 0.025421515849548527, 0.01694767723303235, 0.8389100230351014, 0.27449822294346926, 0.49224921710535596, 0.0989777246190394, 0.023754653908569456, 0.11085505157332413, 0.9528855470695111, 0.5412242999090295, 0.4098591785718864, 0.04729144368137151, 0.06781531854611617, 0.37722270941277114, 0.521330261323268, 0.03390765927305808, 0.018850439060886594, 0.980222831166103, 0.9816090642939802, 0.9677508793955795, 0.030246223001817948, 0.2374328505642709, 0.1784527157107259, 0.013610800350818077, 0.5398950805824504, 0.9577313339929628, 0.3689416371384382, 0.6288777905768833, 0.10632834083068211, 0.06379700449840926, 0.8187282243962523, 0.6723956819092095, 0.24244125995599666, 0.013258506403843568, 0.005682217030218672, 0.06629253201921784, 0.9871466902232632, 0.9544834354662756, 0.03843557458253459, 0.09963627259420818, 0.07472720444565614, 0.8344537829764935, 0.9830619607555682, 0.05580531672998298, 0.9347390552272149, 0.9719857298979431, 0.9560245843247441, 0.9957172412198069, 0.9811777877965646, 0.016630131996551945, 0.9948123292410622, 0.35698449715175345, 0.09482400705593452, 0.38208496960773614, 0.06972353459995186, 0.0976129484399326, 0.5914301842822441, 0.23878598349363334, 0.03479001084013201, 0.007906820645484548, 0.12650913032775277, 0.030408351651236183, 0.9578630770139397, 0.9954521784322221, 0.9805606070692049, 0.2850916919877652, 0.30650703035304333, 0.21415338365278136, 0.08566135346111253, 0.10975360912205044, 0.9857328245256777, 0.0051609048404485745, 0.010321809680897149, 0.22330545997489076, 0.1674790949811681, 0.044661091994978155, 0.48568937544538743, 0.07257427449183951, 0.3939286489961765, 0.05207102831558655, 0.08829435236121198, 0.2082841132623462, 0.2558272260722296, 0.9924510759795738, 0.37110946259406297, 0.5904553110921512, 0.01304218558637282, 0.024898717937620836, 0.1026265515816856, 0.28079764807766755, 0.029932744211324965, 0.4903268575569423, 0.09692507649381417], \"Term\": [\"achttien_jaren\", \"adres\", \"adres\", \"adres\", \"adres\", \"afbeelding\", \"afbeelding\", \"afbeelding\", \"afbeelding\", \"alleen\", \"alleen\", \"alleen\", \"alleen\", \"alleen\", \"artikel\", \"artikel\", \"artikel\", \"artikel\", \"artikel\", \"auto\", \"auto\", \"auto\", \"auto\", \"bank\", \"bank\", \"bank\", \"bank\", \"bankrekening\", \"bedrag\", \"bedrag\", \"bedreiging\", \"bedreiging\", \"bedreiging\", \"bedrijf\", \"bedrijf\", \"beeld\", \"beeld\", \"beeld\", \"beeld\", \"beledigen\", \"belediging\", \"bereik\", \"bestandsnaam\", \"betast\", \"betasten\", \"betrapping\", \"betrokken\", \"betrokken\", \"betrokken\", \"bivakmuts\", \"boompaal\", \"boompaal\", \"brengen\", \"brengen\", \"brengen\", \"brengen\", \"brengen\", \"buurman\", \"cafe\", \"cobra\", \"dader\", \"dader\", \"dader\", \"dentifier\", \"deskundig\", \"downloadpas\", \"erf\", \"feitelijkheid\", \"feitelijkheid\", \"feitelijkheid\", \"fiets\", \"fiets\", \"fiets\", \"fiets\", \"fietser\", \"foto\", \"foto\", \"foto\", \"foto\", \"foto\", \"gegeven\", \"gegeven\", \"gegeven\", \"geld\", \"geld\", \"geld\", \"gemakkelijk\", \"getuige\", \"getuige\", \"getuige\", \"getuige\", \"getuige\", \"geven\", \"geven\", \"geven\", \"geven\", \"geven\", \"geweld\", \"geweld\", \"geweld\", \"geweld\", \"geweld\", \"groep\", \"groep\", \"groep\", \"groepsapp\", \"hennep\", \"homo\", \"hond\", \"hond\", \"hoofd\", \"hoofd\", \"hoofd\", \"hoofd\", \"hoofd\", \"jongen\", \"jongen\", \"jongen\", \"jongen\", \"jongen\", \"kogel\", \"komen\", \"komen\", \"komen\", \"komen\", \"komen\", \"leeftijd\", \"leeftijd\", \"leeftijd\", \"leeftijd\", \"les\", \"les\", \"letsel\", \"letsel\", \"letsel\", \"lingerie\", \"lopen\", \"lopen\", \"lopen\", \"lopen\", \"lopen\", \"man\", \"man\", \"man\", \"man\", \"man\", \"mededader\", \"mededader\", \"mededader\", \"mededader\", \"medeverdacht\", \"medeverdacht\", \"medeverdacht\", \"medeverdacht\", \"medeverdacht\", \"meisje\", \"meisje\", \"meisje\", \"middel\", \"middel\", \"middel\", \"middel\", \"middel\", \"minderjarig\", \"minderjarig\", \"minderjarig\", \"minderjarig\", \"misbruik\", \"misbruik\", \"misdrijf\", \"misdrijf\", \"misdrijf\", \"misdrijf\", \"mishandelen\", \"mishandelen\", \"mishandelen\", \"mishandelen\", \"mishandeling\", \"mongool\", \"motorrijtuig\", \"naaktfoto\", \"ongeval\", \"opzettelijk\", \"opzettelijk\", \"opzettelijk\", \"opzettelijk\", \"opzettelijk\", \"overdragen\", \"overval\", \"overval\", \"overvallen\", \"overvaller\", \"paal\", \"paal\", \"pand\", \"penis\", \"penis\", \"perazijnzuur\", \"periode\", \"periode\", \"periode\", \"periode\", \"persoon\", \"persoon\", \"persoon\", \"persoon\", \"persoon\", \"pijn\", \"pijn\", \"pijn\", \"pijn\", \"plaats\", \"plaats\", \"plaats\", \"plaats\", \"plaats\", \"prostitutie\", \"richting\", \"richting\", \"richting\", \"rijden\", \"rijden\", \"rijden\", \"rijden\", \"seks\", \"seks\", \"seksueel\", \"sjaal\", \"slaan\", \"slaan\", \"slaan\", \"slaan\", \"slaan\", \"spier\", \"stompen\", \"stompen\", \"sturen\", \"sturen\", \"sturen\", \"tezamen\", \"tezamen\", \"tezamen\", \"tezamen\", \"tezamen\", \"tiewraps\", \"totaal\", \"totaal\", \"touw\", \"touw\", \"touw\", \"trainer\", \"training\", \"training\", \"uitbuiting\", \"uitschelden\", \"vagina\", \"vals\", \"vals\", \"valselijk\", \"verdediging\", \"verdediging\", \"verdediging\", \"verdediging\", \"verdediging\", \"vereniging\", \"vereniging\", \"vereniging\", \"vereniging\", \"vereniging\", \"vergezellen\", \"vergezellen\", \"verwerken\", \"vlucht_mogelijk\", \"volgen\", \"volgen\", \"volgen\", \"volgen\", \"volgen\", \"vordering\", \"vordering\", \"vordering\", \"vragen\", \"vragen\", \"vragen\", \"vragen\", \"vragen\", \"wel\", \"wel\", \"wel\", \"wel\", \"wel\", \"witwas\", \"woning\", \"woning\", \"woning\", \"woning\", \"zeggen\", \"zeggen\", \"zeggen\", \"zeggen\", \"zeggen\"]}, \"R\": 10, \"lambda.step\": 0.01, \"plot.opts\": {\"xlab\": \"PC1\", \"ylab\": \"PC2\"}, \"topic.order\": [2, 1, 3, 5, 4]};\n",
       "\n",
       "function LDAvis_load_lib(url, callback){\n",
       "  var s = document.createElement('script');\n",
       "  s.src = url;\n",
       "  s.async = true;\n",
       "  s.onreadystatechange = s.onload = callback;\n",
       "  s.onerror = function(){console.warn(\"failed to load library \" + url);};\n",
       "  document.getElementsByTagName(\"head\")[0].appendChild(s);\n",
       "}\n",
       "\n",
       "if(typeof(LDAvis) !== \"undefined\"){\n",
       "   // already loaded: just create the visualization\n",
       "   !function(LDAvis){\n",
       "       new LDAvis(\"#\" + \"ldavis_el25081402619656526889853253999\", ldavis_el25081402619656526889853253999_data);\n",
       "   }(LDAvis);\n",
       "}else if(typeof define === \"function\" && define.amd){\n",
       "   // require.js is available: use it to load d3/LDAvis\n",
       "   require.config({paths: {d3: \"https://d3js.org/d3.v5\"}});\n",
       "   require([\"d3\"], function(d3){\n",
       "      window.d3 = d3;\n",
       "      LDAvis_load_lib(\"https://cdn.jsdelivr.net/gh/bmabey/pyLDAvis@3.3.1/pyLDAvis/js/ldavis.v3.0.0.js\", function(){\n",
       "        new LDAvis(\"#\" + \"ldavis_el25081402619656526889853253999\", ldavis_el25081402619656526889853253999_data);\n",
       "      });\n",
       "    });\n",
       "}else{\n",
       "    // require.js not available: dynamically load d3 & LDAvis\n",
       "    LDAvis_load_lib(\"https://d3js.org/d3.v5.js\", function(){\n",
       "         LDAvis_load_lib(\"https://cdn.jsdelivr.net/gh/bmabey/pyLDAvis@3.3.1/pyLDAvis/js/ldavis.v3.0.0.js\", function(){\n",
       "                 new LDAvis(\"#\" + \"ldavis_el25081402619656526889853253999\", ldavis_el25081402619656526889853253999_data);\n",
       "            })\n",
       "         });\n",
       "}\n",
       "</script>"
      ],
      "text/plain": [
       "PreparedData(topic_coordinates=              x         y  topics  cluster       Freq\n",
       "topic                                                \n",
       "1     -0.172814  0.104323       1        1  36.717016\n",
       "0      0.115005  0.110480       2        1  22.462059\n",
       "2      0.050595  0.017380       3        1  17.295376\n",
       "4     -0.078041 -0.148431       4        1  13.204040\n",
       "3      0.085255 -0.083752       5        1  10.321510, topic_info=              Term         Freq        Total Category  logprob  loglift\n",
       "2306     betrokken   770.000000   770.000000  Default  10.0000  10.0000\n",
       "591          slaan   661.000000   661.000000  Default   9.0000   9.0000\n",
       "313          adres  1013.000000  1013.000000  Default   8.0000   8.0000\n",
       "86          zeggen   701.000000   701.000000  Default   7.0000   7.0000\n",
       "183            man   750.000000   750.000000  Default   6.0000   6.0000\n",
       "...            ...          ...          ...      ...      ...      ...\n",
       "20         getuige   138.534640   639.399735   Topic5  -4.6539   0.7415\n",
       "28           komen   147.841656  1047.286913   Topic5  -4.5889   0.3131\n",
       "692            wel   112.574282   441.704355   Topic5  -4.8614   0.9039\n",
       "502   medeverdacht   144.257253  1377.624230   Topic5  -4.6134   0.0144\n",
       "150          geven   109.889376   564.576470   Topic5  -4.8855   0.6343\n",
       "\n",
       "[136 rows x 6 columns], token_table=      Topic      Freq            Term\n",
       "term                                 \n",
       "2302      4  0.967666  achttien_jaren\n",
       "313       1  0.333501           adres\n",
       "313       2  0.644309           adres\n",
       "313       3  0.008880           adres\n",
       "313       4  0.013814           adres\n",
       "...     ...       ...             ...\n",
       "86        1  0.102627          zeggen\n",
       "86        2  0.280798          zeggen\n",
       "86        3  0.029933          zeggen\n",
       "86        4  0.490327          zeggen\n",
       "86        5  0.096925          zeggen\n",
       "\n",
       "[301 rows x 3 columns], R=10, lambda_step=0.01, plot_opts={'xlab': 'PC1', 'ylab': 'PC2'}, topic_order=[2, 1, 3, 5, 4])"
      ]
     },
     "execution_count": 10,
     "metadata": {},
     "output_type": "execute_result"
    }
   ],
   "source": [
    "\n",
    "# Visualize the topics\n",
    "pyLDAvis.enable_notebook()\n",
    "vis = gensimvis.prepare(lda_model, corpus, id2word, R = 10)\n",
    "vis"
   ]
  },
  {
   "cell_type": "code",
   "execution_count": 28,
   "metadata": {},
   "outputs": [],
   "source": [
    "#p = pyLDAvis.prepare(lda_model, corpus, id2word)\n",
    "pyLDAvis.save_html(vis, 'lda21.html')"
   ]
  },
  {
   "cell_type": "markdown",
   "metadata": {},
   "source": [
    "# TF.IDF "
   ]
  },
  {
   "cell_type": "code",
   "execution_count": 5,
   "metadata": {},
   "outputs": [],
   "source": [
    "values = []\n",
    "years = ('2018', '2019', '2020', '2021')\n",
    "term = 'minderjarig'\n",
    "\n",
    "def avg_terms(data, term):\n",
    "    avg = data[data['term'].str.contains(term)]['tfidf'].mean()\n",
    "    return(avg)\n",
    "\n",
    "    \n",
    "for i in top_idfs:\n",
    "    if term in list(i['term']):\n",
    "        a  = avg_terms(i, term)\n",
    "        values.append(a)\n",
    "    else:\n",
    "        values.append(0)"
   ]
  },
  {
   "cell_type": "code",
   "execution_count": 9,
   "metadata": {},
   "outputs": [
    {
     "name": "stdout",
     "output_type": "stream",
     "text": [
      "<class 'list'>\n"
     ]
    },
    {
     "data": {
      "image/png": "[encoded data removed]",
      "text/plain": [
       "<Figure size 960x800 with 1 Axes>"
      ]
     },
     "metadata": {
      "needs_background": "light"
     },
     "output_type": "display_data"
    }
   ],
   "source": [
    "x_pos = [0,1,2,3]\n",
    "print(type(values))\n",
    "\n",
    "figure(figsize=(12, 10), dpi=80)\n",
    "\n",
    "plt.plot(values, linestyle='dashed', marker='o', markerfacecolor='blue')\n",
    "\n",
    "\n",
    "# Add title and axis names\n",
    "plt.title('Average TF-IDF Scores of term: {}'.format(term))\n",
    "plt.xlabel('Years')\n",
    "plt.ylabel('TF.IDF Scores')\n",
    " \n",
    "# Create names on the x axis\n",
    "plt.xticks(x_pos, years)\n",
    " \n",
    "# Show graph\n",
    "plt.show()"
   ]
  },
  {
   "cell_type": "code",
   "execution_count": 10,
   "metadata": {},
   "outputs": [
    {
     "data": {
      "text/plain": [
       "[0.38203888866472707, 0.3554659770789278, 0.16213870570233843, 0]"
      ]
     },
     "execution_count": 10,
     "metadata": {},
     "output_type": "execute_result"
    }
   ],
   "source": [
    "values"
   ]
  },
  {
   "cell_type": "markdown",
   "metadata": {},
   "source": [
    "# TF.IDF - Corrected"
   ]
  },
  {
   "cell_type": "code",
   "execution_count": 10,
   "metadata": {},
   "outputs": [],
   "source": [
    "big_list = []\n",
    "for i in d:\n",
    "    flat_list = \" \"\n",
    "    # iterating over the data\n",
    "    for item in i['lemm']:\n",
    "        flat_list = flat_list + \" \" + item\n",
    "    big_list.append(flat_list)\n",
    "\n",
    "tfidf_vectorizer = TfidfVectorizer(input=big_list, stop_words=stop_words)\n",
    "tfidf_vector = tfidf_vectorizer.fit_transform(big_list)\n",
    "tfidf_df = pd.DataFrame(tfidf_vector.toarray(), columns=tfidf_vectorizer.get_feature_names())\n",
    "tfidf_df = tfidf_df.stack().reset_index()\n",
    "tfidf_df = tfidf_df.rename(columns={0:'tfidf', 'level_0': 'document','level_1': 'term', 'level_2': 'term'})\n",
    "top_tfidf = tfidf_df.sort_values(by=['document','tfidf'], ascending=[True,False]) # .groupby(['document']).head(5)"
   ]
  },
  {
   "cell_type": "code",
   "execution_count": 7,
   "metadata": {},
   "outputs": [],
   "source": [
    "years = ('2018', '2019', '2020', '2021')\n",
    "ts = ['minderjarig', 'betrokken', 'woning', 'geld', 'geweld', 'auto']\n",
    "term = ts[5]\n",
    "\n",
    "values = list(top_tfidf['tfidf'][top_tfidf['term'] == term])"
   ]
  },
  {
   "cell_type": "code",
   "execution_count": 8,
   "metadata": {},
   "outputs": [],
   "source": [
    "# top_tfidf[top_tfidf['document']== 2].iloc[0:20,]"
   ]
  },
  {
   "cell_type": "code",
   "execution_count": 9,
   "metadata": {},
   "outputs": [
    {
     "data": {
      "image/png": "[encoded data removed]",
      "text/plain": [
       "<Figure size 960x800 with 1 Axes>"
      ]
     },
     "metadata": {
      "needs_background": "light"
     },
     "output_type": "display_data"
    }
   ],
   "source": [
    "x_pos = (0,1,2,3)\n",
    "\n",
    "figure(figsize=(12, 10), dpi=80)\n",
    "\n",
    "plt.plot(values, linestyle='dashed', marker='o', markerfacecolor='blue')\n",
    "\n",
    "\n",
    "# Add title and axis names\n",
    "plt.title('TF-IDF Scores of term: {}'.format(term))\n",
    "plt.xlabel('Years')\n",
    "plt.ylabel('TF.IDF Scores')\n",
    " \n",
    "# Create names on the x axis\n",
    "plt.xticks(x_pos, years)\n",
    " \n",
    "# Show graph\n",
    "plt.show()"
   ]
  },
  {
   "cell_type": "code",
   "execution_count": null,
   "metadata": {},
   "outputs": [],
   "source": []
  },
  {
   "cell_type": "code",
   "execution_count": 8,
   "metadata": {},
   "outputs": [
    {
     "data": {
      "text/html": [
       "\n",
       "<div id=\"altair-viz-1746be08edc047ae8c7384f95cbe3b77\"></div>\n",
       "<script type=\"text/javascript\">\n",
       "  var VEGA_DEBUG = (typeof VEGA_DEBUG == \"undefined\") ? {} : VEGA_DEBUG;\n",
       "  (function(spec, embedOpt){\n",
       "    let outputDiv = document.currentScript.previousElementSibling;\n",
       "    if (outputDiv.id !== \"altair-viz-1746be08edc047ae8c7384f95cbe3b77\") {\n",
       "      outputDiv = document.getElementById(\"altair-viz-1746be08edc047ae8c7384f95cbe3b77\");\n",
       "    }\n",
       "    const paths = {\n",
       "      \"vega\": \"https://cdn.jsdelivr.net/npm//vega@5?noext\",\n",
       "      \"vega-lib\": \"https://cdn.jsdelivr.net/npm//vega-lib?noext\",\n",
       "      \"vega-lite\": \"https://cdn.jsdelivr.net/npm//vega-lite@4.17.0?noext\",\n",
       "      \"vega-embed\": \"https://cdn.jsdelivr.net/npm//vega-embed@6?noext\",\n",
       "    };\n",
       "\n",
       "    function maybeLoadScript(lib, version) {\n",
       "      var key = `${lib.replace(\"-\", \"\")}_version`;\n",
       "      return (VEGA_DEBUG[key] == version) ?\n",
       "        Promise.resolve(paths[lib]) :\n",
       "        new Promise(function(resolve, reject) {\n",
       "          var s = document.createElement('script');\n",
       "          document.getElementsByTagName(\"head\")[0].appendChild(s);\n",
       "          s.async = true;\n",
       "          s.onload = () => {\n",
       "            VEGA_DEBUG[key] = version;\n",
       "            return resolve(paths[lib]);\n",
       "          };\n",
       "          s.onerror = () => reject(`Error loading script: ${paths[lib]}`);\n",
       "          s.src = paths[lib];\n",
       "        });\n",
       "    }\n",
       "\n",
       "    function showError(err) {\n",
       "      outputDiv.innerHTML = `<div class=\"error\" style=\"color:red;\">${err}</div>`;\n",
       "      throw err;\n",
       "    }\n",
       "\n",
       "    function displayChart(vegaEmbed) {\n",
       "      vegaEmbed(outputDiv, spec, embedOpt)\n",
       "        .catch(err => showError(`Javascript Error: ${err.message}<br>This usually means there's a typo in your chart specification. See the javascript console for the full traceback.`));\n",
       "    }\n",
       "\n",
       "    if(typeof define === \"function\" && define.amd) {\n",
       "      requirejs.config({paths});\n",
       "      require([\"vega-embed\"], displayChart, err => showError(`Error loading script: ${err.message}`));\n",
       "    } else {\n",
       "      maybeLoadScript(\"vega\", \"5\")\n",
       "        .then(() => maybeLoadScript(\"vega-lite\", \"4.17.0\"))\n",
       "        .then(() => maybeLoadScript(\"vega-embed\", \"6\"))\n",
       "        .catch(showError)\n",
       "        .then(() => displayChart(vegaEmbed));\n",
       "    }\n",
       "  })({\"config\": {\"view\": {\"continuousWidth\": 400, \"continuousHeight\": 300}}, \"layer\": [{\"mark\": \"rect\", \"encoding\": {\"color\": {\"field\": \"tfidf\", \"type\": \"quantitative\"}, \"x\": {\"field\": \"rank\", \"type\": \"ordinal\"}, \"y\": {\"field\": \"document\", \"type\": \"nominal\"}}, \"transform\": [{\"window\": [{\"op\": \"rank\", \"field\": \"\", \"as\": \"rank\"}], \"groupby\": [\"document\"], \"sort\": [{\"field\": \"tfidf\", \"order\": \"descending\"}]}]}, {\"mark\": {\"type\": \"circle\", \"size\": 100}, \"encoding\": {\"color\": {\"condition\": {\"value\": \"red\", \"test\": {\"field\": \"term\", \"oneOf\": [\"kledingwinkel\", \"hennep\", \"drogen\"]}}, \"value\": \"#FFFFFF00\"}, \"x\": {\"field\": \"rank\", \"type\": \"ordinal\"}, \"y\": {\"field\": \"document\", \"type\": \"nominal\"}}, \"transform\": [{\"window\": [{\"op\": \"rank\", \"field\": \"\", \"as\": \"rank\"}], \"groupby\": [\"document\"], \"sort\": [{\"field\": \"tfidf\", \"order\": \"descending\"}]}]}, {\"mark\": {\"type\": \"text\", \"baseline\": \"middle\"}, \"encoding\": {\"color\": {\"condition\": {\"value\": \"white\", \"test\": \"(datum.tfidf >= 0.23)\"}, \"value\": \"black\"}, \"text\": {\"field\": \"term\", \"type\": \"nominal\"}, \"x\": {\"field\": \"rank\", \"type\": \"ordinal\"}, \"y\": {\"field\": \"document\", \"type\": \"nominal\"}}, \"transform\": [{\"window\": [{\"op\": \"rank\", \"field\": \"\", \"as\": \"rank\"}], \"groupby\": [\"document\"], \"sort\": [{\"field\": \"tfidf\", \"order\": \"descending\"}]}]}], \"data\": {\"name\": \"data-a4a8afa6341fb8b579eb91a59a068b3c\"}, \"width\": 1200, \"$schema\": \"https://vega.github.io/schema/vega-lite/v4.17.0.json\", \"datasets\": {\"data-a4a8afa6341fb8b579eb91a59a068b3c\": [{\"document\": 0, \"term\": \"kind\", \"tfidf\": 0.4501524001149927}, {\"document\": 0, \"term\": \"minderjarig\", \"tfidf\": 0.27743710977326513}, {\"document\": 0, \"term\": \"tandarts\", \"tfidf\": 0.2756959945254209}, {\"document\": 0, \"term\": \"geboorteplaats\", \"tfidf\": 0.26156551789015026}, {\"document\": 0, \"term\": \"trein\", \"tfidf\": 0.24160975624661202}, {\"document\": 0, \"term\": \"school\", \"tfidf\": 0.23402679956562122}, {\"document\": 0, \"term\": \"leerkracht\", \"tfidf\": 0.22174858678663517}, {\"document\": 0, \"term\": \"gezag\", \"tfidf\": 0.18124376762700328}, {\"document\": 0, \"term\": \"afspraak\", \"tfidf\": 0.1778264055345895}, {\"document\": 0, \"term\": \"ochtend\", \"tfidf\": 0.17552368232691276}, {\"document\": 1, \"term\": \"still\", \"tfidf\": 0.3807145748189822}, {\"document\": 1, \"term\": \"herkenning\", \"tfidf\": 0.22959720890105298}, {\"document\": 1, \"term\": \"bedrijfsinbraak\", \"tfidf\": 0.20412248542091832}, {\"document\": 1, \"term\": \"honswijck\", \"tfidf\": 0.2041467452329917}, {\"document\": 1, \"term\": \"inbraak\", \"tfidf\": 0.20198285340248404}, {\"document\": 1, \"term\": \"camerabeeld\", \"tfidf\": 0.19254245187600535}, {\"document\": 1, \"term\": \"inzittende\", \"tfidf\": 0.19043718841590204}, {\"document\": 1, \"term\": \"tenlastegelegen\", \"tfidf\": 0.1825099451965862}, {\"document\": 1, \"term\": \"tankstation\", \"tfidf\": 0.17305769618998323}, {\"document\": 1, \"term\": \"nacht\", \"tfidf\": 0.13151661818634344}, {\"document\": 2, \"term\": \"celmateriaal\", \"tfidf\": 0.30635743931250126}, {\"document\": 2, \"term\": \"overvaller\", \"tfidf\": 0.23239445398776648}, {\"document\": 2, \"term\": \"dader\", \"tfidf\": 0.2309370622908057}, {\"document\": 2, \"term\": \"bemonstering\", \"tfidf\": 0.2026527826871824}, {\"document\": 2, \"term\": \"kelder\", \"tfidf\": 0.16877126030853354}, {\"document\": 2, \"term\": \"volgen\", \"tfidf\": 0.16080582452220363}, {\"document\": 2, \"term\": \"regenbroek\", \"tfidf\": 0.15908349189927135}, {\"document\": 2, \"term\": \"regenjas\", \"tfidf\": 0.15913996785239964}, {\"document\": 2, \"term\": \"dna\", \"tfidf\": 0.12821169849177452}, {\"document\": 2, \"term\": \"aantreffen\", \"tfidf\": 0.1271588909325534}, {\"document\": 3, \"term\": \"gemeente\", \"tfidf\": 0.42024262297531706}, {\"document\": 3, \"term\": \"zeer_krachtig\", \"tfidf\": 0.377544863547476}, {\"document\": 3, \"term\": \"keel\", \"tfidf\": 0.23074833563812358}, {\"document\": 3, \"term\": \"drukken\", \"tfidf\": 0.20607876900527208}, {\"document\": 3, \"term\": \"vastgrijpen\", \"tfidf\": 0.19609730358835759}, {\"document\": 3, \"term\": \"hand\", \"tfidf\": 0.1848417966944082}, {\"document\": 3, \"term\": \"uitvoering\", \"tfidf\": 0.18277337050861842}, {\"document\": 3, \"term\": \"armgreep\", \"tfidf\": 0.17347119149524654}, {\"document\": 3, \"term\": \"benemen\", \"tfidf\": 0.1735521363244717}, {\"document\": 3, \"term\": \"dicht\", \"tfidf\": 0.16242203818348244}, {\"document\": 4, \"term\": \"puntig\", \"tfidf\": 0.3262279368168536}, {\"document\": 4, \"term\": \"prikken\", \"tfidf\": 0.3047049208704279}, {\"document\": 4, \"term\": \"linker\", \"tfidf\": 0.2770588593170931}, {\"document\": 4, \"term\": \"snijden\", \"tfidf\": 0.24787573894598627}, {\"document\": 4, \"term\": \"perforeren\", \"tfidf\": 0.23922156241915268}, {\"document\": 4, \"term\": \"mes\", \"tfidf\": 0.201715236409362}, {\"document\": 4, \"term\": \"steken\", \"tfidf\": 0.1931410919600921}, {\"document\": 4, \"term\": \"kroeg\", \"tfidf\": 0.19242329757437446}, {\"document\": 4, \"term\": \"woest\", \"tfidf\": 0.19238384058478028}, {\"document\": 4, \"term\": \"daarop\", \"tfidf\": 0.17397738447356545}, {\"document\": 5, \"term\": \"handelsnaam\", \"tfidf\": 0.7478589178104293}, {\"document\": 5, \"term\": \"getuige\", \"tfidf\": 0.24447768697070058}, {\"document\": 5, \"term\": \"functionaris\", \"tfidf\": 0.18701318732169314}, {\"document\": 5, \"term\": \"verplichten\", \"tfidf\": 0.16387008102212533}, {\"document\": 5, \"term\": \"geheim\", \"tfidf\": 0.15879820616670848}, {\"document\": 5, \"term\": \"mevrouw\", \"tfidf\": 0.15874580539257768}, {\"document\": 5, \"term\": \"bevoegd\", \"tfidf\": 0.15038362246208942}, {\"document\": 5, \"term\": \"politie\", \"tfidf\": 0.1465013171394134}, {\"document\": 5, \"term\": \"opzoeken\", \"tfidf\": 0.14369632695940976}, {\"document\": 5, \"term\": \"bewaren\", \"tfidf\": 0.14075358655304537}, {\"document\": 6, \"term\": \"worsteling\", \"tfidf\": 0.2765707021379625}, {\"document\": 6, \"term\": \"val\", \"tfidf\": 0.2721450865525631}, {\"document\": 6, \"term\": \"parketnumm\", \"tfidf\": 0.23828924767558077}, {\"document\": 6, \"term\": \"letsel\", \"tfidf\": 0.22427685162361097}, {\"document\": 6, \"term\": \"zaak\", \"tfidf\": 0.20630787623005276}, {\"document\": 6, \"term\": \"ontstaan\", \"tfidf\": 0.18792880565039538}, {\"document\": 6, \"term\": \"mishandeling\", \"tfidf\": 0.1471562544503304}, {\"document\": 6, \"term\": \"gewaarwording\", \"tfidf\": 0.1450333192001312}, {\"document\": 6, \"term\": \"tenlastegelegen\", \"tfidf\": 0.14409141928208868}, {\"document\": 6, \"term\": \"veroorzaken\", \"tfidf\": 0.12554455046889706}, {\"document\": 7, \"term\": \"hennepplant\", \"tfidf\": 0.49059816254498684}, {\"document\": 7, \"term\": \"heteren\", \"tfidf\": 0.3151206936638851}, {\"document\": 7, \"term\": \"delen_daarvan\", \"tfidf\": 0.26088729534302696}, {\"document\": 7, \"term\": \"elk_geval\", \"tfidf\": 0.2334620406307106}, {\"document\": 7, \"term\": \"hennep\", \"tfidf\": 0.21984983198800695}, {\"document\": 7, \"term\": \"middel\", \"tfidf\": 0.20018258173512363}, {\"document\": 7, \"term\": \"wet\", \"tfidf\": 0.18669787168476076}, {\"document\": 7, \"term\": \"vermelden\", \"tfidf\": 0.1599005038020296}, {\"document\": 7, \"term\": \"zulks\", \"tfidf\": 0.15763031085208376}, {\"document\": 7, \"term\": \"stroom\", \"tfidf\": 0.14562728640375783}, {\"document\": 8, \"term\": \"kledingwinkel\", \"tfidf\": 0.8646594858167511}, {\"document\": 8, \"term\": \"verwijten\", \"tfidf\": 0.31365405569506255}, {\"document\": 8, \"term\": \"breken\", \"tfidf\": 0.2753142984066497}, {\"document\": 8, \"term\": \"samen\", \"tfidf\": 0.17642187032775464}, {\"document\": 8, \"term\": \"zeggen\", \"tfidf\": 0.15543788721323548}, {\"document\": 8, \"term\": \"kort\", \"tfidf\": 0.15199395144137337}, {\"document\": 8, \"term\": \"aa_flesje\", \"tfidf\": 8.459597863664098e-05}, {\"document\": 8, \"term\": \"aagg_nl\", \"tfidf\": 1.1513402518663918e-05}, {\"document\": 8, \"term\": \"aaik\", \"tfidf\": 8.704575983807806e-07}, {\"document\": 8, \"term\": \"aain_nl\", \"tfidf\": 7.088363408267815e-05}, {\"document\": 9, \"term\": \"schietoefening\", \"tfidf\": 0.3332335377046743}, {\"document\": 9, \"term\": \"wapen\", \"tfidf\": 0.32600472703190825}, {\"document\": 9, \"term\": \"ontlad\", \"tfidf\": 0.2221878755927902}, {\"document\": 9, \"term\": \"sergeant\", \"tfidf\": 0.22211867204174207}, {\"document\": 9, \"term\": \"trekker\", \"tfidf\": 0.21625809631734472}, {\"document\": 9, \"term\": \"schietpunt\", \"tfidf\": 0.1999605936450872}, {\"document\": 9, \"term\": \"schot\", \"tfidf\": 0.1997917499746758}, {\"document\": 9, \"term\": \"bevel\", \"tfidf\": 0.1880725627712791}, {\"document\": 9, \"term\": \"militair\", \"tfidf\": 0.1657708772156883}, {\"document\": 9, \"term\": \"militaire_kamer\", \"tfidf\": 0.15727456139185203}, {\"document\": 10, \"term\": \"herkenning\", \"tfidf\": 0.3684370477376294}, {\"document\": 10, \"term\": \"dader\", \"tfidf\": 0.28501925715615173}, {\"document\": 10, \"term\": \"camerabeeld\", \"tfidf\": 0.26478534468913495}, {\"document\": 10, \"term\": \"geweld\", \"tfidf\": 0.21340092577526928}, {\"document\": 10, \"term\": \"uitvoering\", \"tfidf\": 0.21087206800433153}, {\"document\": 10, \"term\": \"geld\", \"tfidf\": 0.19972044440231002}, {\"document\": 10, \"term\": \"voorhouden\", \"tfidf\": 0.18157841767171773}, {\"document\": 10, \"term\": \"mes\", \"tfidf\": 0.17169130311748915}, {\"document\": 10, \"term\": \"tonen\", \"tfidf\": 0.15446057706372546}, {\"document\": 10, \"term\": \"puntig_voorwerp\", \"tfidf\": 0.15329515064183097}, {\"document\": 11, \"term\": \"straf\", \"tfidf\": 0.2580238730660996}, {\"document\": 11, \"term\": \"kind\", \"tfidf\": 0.24010812595476821}, {\"document\": 11, \"term\": \"werkstraf\", \"tfidf\": 0.22068743614849526}, {\"document\": 11, \"term\": \"relatie\", \"tfidf\": 0.20638607538585169}, {\"document\": 11, \"term\": \"seksueel\", \"tfidf\": 0.20636852374587192}, {\"document\": 11, \"term\": \"komen\", \"tfidf\": 0.15827484875684095}, {\"document\": 11, \"term\": \"ernst\", \"tfidf\": 0.1423100467153382}, {\"document\": 11, \"term\": \"leeftijd\", \"tfidf\": 0.13884114351945928}, {\"document\": 11, \"term\": \"verminderen\", \"tfidf\": 0.12140267345540369}, {\"document\": 11, \"term\": \"zorg\", \"tfidf\": 0.12142507913794097}, {\"document\": 12, \"term\": \"bierfles\", \"tfidf\": 0.3325010717055755}, {\"document\": 12, \"term\": \"medeverdacht\", \"tfidf\": 0.28017224339040875}, {\"document\": 12, \"term\": \"gezicht\", \"tfidf\": 0.25960626585326424}, {\"document\": 12, \"term\": \"slaan\", \"tfidf\": 0.20625750860089798}, {\"document\": 12, \"term\": \"bank\", \"tfidf\": 0.19030929300223282}, {\"document\": 12, \"term\": \"vriendin\", \"tfidf\": 0.18378946389480408}, {\"document\": 12, \"term\": \"neus\", \"tfidf\": 0.15334057220333688}, {\"document\": 12, \"term\": \"constateren\", \"tfidf\": 0.1455683374578916}, {\"document\": 12, \"term\": \"neusbrug\", \"tfidf\": 0.1426342403681556}, {\"document\": 12, \"term\": \"ringving\", \"tfidf\": 0.14259725441744647}, {\"document\": 13, \"term\": \"hennep\", \"tfidf\": 0.6958304841615474}, {\"document\": 13, \"term\": \"gewicht\", \"tfidf\": 0.260341004410254}, {\"document\": 13, \"term\": \"droog\", \"tfidf\": 0.21030949926725687}, {\"document\": 13, \"term\": \"vochtgehalte\", \"tfidf\": 0.2103013141488613}, {\"document\": 13, \"term\": \"drogen\", \"tfidf\": 0.19953117536320814}, {\"document\": 13, \"term\": \"nat\", \"tfidf\": 0.19959242361560933}, {\"document\": 13, \"term\": \"kilogram\", \"tfidf\": 0.17355039195040511}, {\"document\": 13, \"term\": \"belang\", \"tfidf\": 0.12153872439951466}, {\"document\": 13, \"term\": \"bewerken\", \"tfidf\": 0.1215999657415434}, {\"document\": 13, \"term\": \"drog\", \"tfidf\": 0.10515147224042107}, {\"document\": 14, \"term\": \"nek\", \"tfidf\": 0.4299198078803871}, {\"document\": 14, \"term\": \"afknellen\", \"tfidf\": 0.30640266082673034}, {\"document\": 14, \"term\": \"knel\", \"tfidf\": 0.30640469514192076}, {\"document\": 14, \"term\": \"wurggreep\", \"tfidf\": 0.3064244414672227}, {\"document\": 14, \"term\": \"duim\", \"tfidf\": 0.2785384070319026}, {\"document\": 14, \"term\": \"kracht\", \"tfidf\": 0.21412693899444188}, {\"document\": 14, \"term\": \"val\", \"tfidf\": 0.2055531273835758}, {\"document\": 14, \"term\": \"auto\", \"tfidf\": 0.19480272135204002}, {\"document\": 14, \"term\": \"meermalen\", \"tfidf\": 0.165256479971749}, {\"document\": 14, \"term\": \"elk_geval\", \"tfidf\": 0.1615528758914928}, {\"document\": 15, \"term\": \"paspoort\", \"tfidf\": 0.45840498416806524}, {\"document\": 15, \"term\": \"pasfoto\", \"tfidf\": 0.3911616181627474}, {\"document\": 15, \"term\": \"reisdocument\", \"tfidf\": 0.3647787345499371}, {\"document\": 15, \"term\": \"artikel\", \"tfidf\": 0.15878081506203962}, {\"document\": 15, \"term\": \"documentnummer\", \"tfidf\": 0.1564585057126157}, {\"document\": 15, \"term\": \"beroep\", \"tfidf\": 0.1545174376071692}, {\"document\": 15, \"term\": \"burgemeester\", \"tfidf\": 0.14593984330047477}, {\"document\": 15, \"term\": \"vonnis_waarvan\", \"tfidf\": 0.14300077080877802}, {\"document\": 15, \"term\": \"raadsman\", \"tfidf\": 0.1302923210151581}, {\"document\": 15, \"term\": \"nationaal\", \"tfidf\": 0.1279067574919331}, {\"document\": 16, \"term\": \"sliding\", \"tfidf\": 0.4190569227688173}, {\"document\": 16, \"term\": \"tackelen\", \"tfidf\": 0.39084104902246763}, {\"document\": 16, \"term\": \"been\", \"tfidf\": 0.3565212063719452}, {\"document\": 16, \"term\": \"achteren\", \"tfidf\": 0.2786725149713548}, {\"document\": 16, \"term\": \"grovelijk\", \"tfidf\": 0.20953599184594018}, {\"document\": 16, \"term\": \"kruisband\", \"tfidf\": 0.20954676299201627}, {\"document\": 16, \"term\": \"linkerknie\", \"tfidf\": 0.20958905110374065}, {\"document\": 16, \"term\": \"nalatig\", \"tfidf\": 0.1954575868926398}, {\"document\": 16, \"term\": \"scheur\", \"tfidf\": 0.19545590415775319}, {\"document\": 16, \"term\": \"scheuren\", \"tfidf\": 0.18540512085833757}, {\"document\": 17, \"term\": \"politieshirt\", \"tfidf\": 0.613342870306091}, {\"document\": 17, \"term\": \"shirt\", \"tfidf\": 0.30720060261158666}, {\"document\": 17, \"term\": \"betreffen\", \"tfidf\": 0.2056641187350372}, {\"document\": 17, \"term\": \"prijs\", \"tfidf\": 0.1822685368162264}, {\"document\": 17, \"term\": \"kledingstuk\", \"tfidf\": 0.1716154756946814}, {\"document\": 17, \"term\": \"verkrijgen\", \"tfidf\": 0.14114120897442156}, {\"document\": 17, \"term\": \"afkomstig\", \"tfidf\": 0.13656278781435172}, {\"document\": 17, \"term\": \"kleding\", \"tfidf\": 0.13089173877951982}, {\"document\": 17, \"term\": \"misdrijf\", \"tfidf\": 0.12602340845131502}, {\"document\": 17, \"term\": \"echt\", \"tfidf\": 0.11795194604948044}, {\"document\": 18, \"term\": \"ongeval\", \"tfidf\": 0.3321814849862368}, {\"document\": 18, \"term\": \"fietser\", \"tfidf\": 0.32728986523892495}, {\"document\": 18, \"term\": \"audi\", \"tfidf\": 0.3055638164287108}, {\"document\": 18, \"term\": \"bestuurder\", \"tfidf\": 0.19439865381338484}, {\"document\": 18, \"term\": \"krimpenerbosweg\", \"tfidf\": 0.18201487893014687}, {\"document\": 18, \"term\": \"middenberm\", \"tfidf\": 0.1820536519796168}, {\"document\": 18, \"term\": \"krimp\", \"tfidf\": 0.1697199040760366}, {\"document\": 18, \"term\": \"verkeersongeval\", \"tfidf\": 0.16809101093533385}, {\"document\": 18, \"term\": \"motorrijtuig\", \"tfidf\": 0.15993585275480748}, {\"document\": 18, \"term\": \"weg\", \"tfidf\": 0.15126276904414213}, {\"document\": 19, \"term\": \"lichaam\", \"tfidf\": 0.28662511367231475}, {\"document\": 19, \"term\": \"nauw\", \"tfidf\": 0.2656180371818769}, {\"document\": 19, \"term\": \"geweldpleging\", \"tfidf\": 0.25107811191734714}, {\"document\": 19, \"term\": \"leidsestraat\", \"tfidf\": 0.2511433708157975}, {\"document\": 19, \"term\": \"voornoemd\", \"tfidf\": 0.24468994652778323}, {\"document\": 19, \"term\": \"genoegzaam\", \"tfidf\": 0.205298514710827}, {\"document\": 19, \"term\": \"opgemaakt\", \"tfidf\": 0.20523851097826654}, {\"document\": 19, \"term\": \"bewijsverweer\", \"tfidf\": 0.19877769908003484}, {\"document\": 19, \"term\": \"hoofd\", \"tfidf\": 0.1984731912626947}, {\"document\": 19, \"term\": \"medeverdacht\", \"tfidf\": 0.19733071531046203}, {\"document\": 20, \"term\": \"kledingwinkel\", \"tfidf\": 0.8506327205918319}, {\"document\": 20, \"term\": \"verwijten\", \"tfidf\": 0.3085381365052666}, {\"document\": 20, \"term\": \"breken\", \"tfidf\": 0.2708947409908278}, {\"document\": 20, \"term\": \"medeverdacht\", \"tfidf\": 0.1792833142528816}, {\"document\": 20, \"term\": \"samen\", \"tfidf\": 0.17360290739670878}, {\"document\": 20, \"term\": \"zeggen\", \"tfidf\": 0.15288234041884258}, {\"document\": 20, \"term\": \"kort\", \"tfidf\": 0.14954644544971282}, {\"document\": 20, \"term\": \"aa_flesje\", \"tfidf\": 1.7638015661205754e-05}, {\"document\": 20, \"term\": \"aagg_nl\", \"tfidf\": 6.17545940449207e-05}, {\"document\": 20, \"term\": \"aaik\", \"tfidf\": 8.859047249503349e-05}, {\"document\": 21, \"term\": \"filmen\", \"tfidf\": 0.508904420747737}, {\"document\": 21, \"term\": \"opname\", \"tfidf\": 0.30008218780054274}, {\"document\": 21, \"term\": \"gsm\", \"tfidf\": 0.21530125098492497}, {\"document\": 21, \"term\": \"toestemming\", \"tfidf\": 0.20611357364749508}, {\"document\": 21, \"term\": \"meisje\", \"tfidf\": 0.19710064840133024}, {\"document\": 21, \"term\": \"omkled\", \"tfidf\": 0.15487141813697072}, {\"document\": 21, \"term\": \"aangifte\", \"tfidf\": 0.1500472329328198}, {\"document\": 21, \"term\": \"proces_verbaal\", \"tfidf\": 0.13993705339159698}, {\"document\": 21, \"term\": \"texel\", \"tfidf\": 0.1327459996684632}, {\"document\": 21, \"term\": \"passen\", \"tfidf\": 0.12648768093621388}, {\"document\": 22, \"term\": \"beroep\", \"tfidf\": 0.3764256939776519}, {\"document\": 22, \"term\": \"vonnis_waarvan\", \"tfidf\": 0.3481776587566577}, {\"document\": 22, \"term\": \"springen\", \"tfidf\": 0.2625190573512268}, {\"document\": 22, \"term\": \"val\", \"tfidf\": 0.23849920070825414}, {\"document\": 22, \"term\": \"rennen\", \"tfidf\": 0.2186540896543435}, {\"document\": 22, \"term\": \"noodweerexce\", \"tfidf\": 0.1905755735750836}, {\"document\": 22, \"term\": \"ontslaan\", \"tfidf\": 0.19056604172450242}, {\"document\": 22, \"term\": \"mishandelen\", \"tfidf\": 0.1688357082372257}, {\"document\": 22, \"term\": \"krabben\", \"tfidf\": 0.16861894237622124}, {\"document\": 22, \"term\": \"lopen\", \"tfidf\": 0.15956755957543714}, {\"document\": 23, \"term\": \"woonplaats\", \"tfidf\": 0.35985364223952937}, {\"document\": 23, \"term\": \"vuurwapen\", \"tfidf\": 0.25429249956561323}, {\"document\": 23, \"term\": \"kogel\", \"tfidf\": 0.2470098485165384}, {\"document\": 23, \"term\": \"gemeente\", \"tfidf\": 0.2400688959344377}, {\"document\": 23, \"term\": \"tezamen\", \"tfidf\": 0.20974148207981338}, {\"document\": 23, \"term\": \"personenauto\", \"tfidf\": 0.2056371618549293}, {\"document\": 23, \"term\": \"alleen\", \"tfidf\": 0.20077138071144013}, {\"document\": 23, \"term\": \"vereniging\", \"tfidf\": 0.19692209423177562}, {\"document\": 23, \"term\": \"strafzaak\", \"tfidf\": 0.1819585808886538}, {\"document\": 23, \"term\": \"politieshirts\", \"tfidf\": 0.1793073014175861}, {\"document\": 24, \"term\": \"medeverdacht\", \"tfidf\": 0.3473563372830074}, {\"document\": 24, \"term\": \"herkenning\", \"tfidf\": 0.33140682696630225}, {\"document\": 24, \"term\": \"dader\", \"tfidf\": 0.29911428705229387}, {\"document\": 24, \"term\": \"woning\", \"tfidf\": 0.2677035556102781}, {\"document\": 24, \"term\": \"berkel\", \"tfidf\": 0.2606865123829787}, {\"document\": 24, \"term\": \"bleiswijk\", \"tfidf\": 0.13741226002113768}, {\"document\": 24, \"term\": \"lansingerland\", \"tfidf\": 0.13743113477005714}, {\"document\": 24, \"term\": \"pandora\", \"tfidf\": 0.1374138846916039}, {\"document\": 24, \"term\": \"rodenrij\", \"tfidf\": 0.1374530050836987}, {\"document\": 24, \"term\": \"aanhouding\", \"tfidf\": 0.13294761348179987}, {\"document\": 25, \"term\": \"getuige\", \"tfidf\": 0.4078485561672342}, {\"document\": 25, \"term\": \"verplichten\", \"tfidf\": 0.2734250164371756}, {\"document\": 25, \"term\": \"geheim\", \"tfidf\": 0.26482483037104887}, {\"document\": 25, \"term\": \"mevrouw\", \"tfidf\": 0.26480910430021587}, {\"document\": 25, \"term\": \"politie\", \"tfidf\": 0.24433754114046002}, {\"document\": 25, \"term\": \"opzoeken\", \"tfidf\": 0.23962702329403965}, {\"document\": 25, \"term\": \"bewaren\", \"tfidf\": 0.23482859168125134}, {\"document\": 25, \"term\": \"schenden\", \"tfidf\": 0.23483595740172383}, {\"document\": 25, \"term\": \"kamer\", \"tfidf\": 0.21233098299393008}, {\"document\": 25, \"term\": \"werkzaam\", \"tfidf\": 0.20371580793785304}, {\"document\": 26, \"term\": \"voorgenoemde\", \"tfidf\": 0.33992811921260263}, {\"document\": 26, \"term\": \"verschaffen\", \"tfidf\": 0.22942218330261824}, {\"document\": 26, \"term\": \"plaats\", \"tfidf\": 0.20928079076361641}, {\"document\": 26, \"term\": \"medeverdachen\", \"tfidf\": 0.20403856471013948}, {\"document\": 26, \"term\": \"woning\", \"tfidf\": 0.19713118887911799}, {\"document\": 26, \"term\": \"weg\", \"tfidf\": 0.1956156218282617}, {\"document\": 26, \"term\": \"misdrijf\", \"tfidf\": 0.18723919045017767}, {\"document\": 26, \"term\": \"verbreking\", \"tfidf\": 0.18563505007079112}, {\"document\": 26, \"term\": \"braak\", \"tfidf\": 0.18147821636759243}, {\"document\": 26, \"term\": \"bereik\", \"tfidf\": 0.16739151630808394}, {\"document\": 27, \"term\": \"stijgen\", \"tfidf\": 0.48278153659998396}, {\"document\": 27, \"term\": \"motorrijtuig\", \"tfidf\": 0.37917507834596303}, {\"document\": 27, \"term\": \"rijden\", \"tfidf\": 0.3091849164624749}, {\"document\": 27, \"term\": \"adres\", \"tfidf\": 0.2154270207862175}, {\"document\": 27, \"term\": \"scooter\", \"tfidf\": 0.18975225078762892}, {\"document\": 27, \"term\": \"bestuurder\", \"tfidf\": 0.18429423440069712}, {\"document\": 27, \"term\": \"ongeval\", \"tfidf\": 0.1731689204708014}, {\"document\": 27, \"term\": \"woonplaats\", \"tfidf\": 0.16970055595332148}, {\"document\": 27, \"term\": \"veroorzaken\", \"tfidf\": 0.1665177797510193}, {\"document\": 27, \"term\": \"verkeersongeval\", \"tfidf\": 0.15176438156176125}, {\"document\": 28, \"term\": \"filiaal\", \"tfidf\": 0.6718519339036276}, {\"document\": 28, \"term\": \"brood\", \"tfidf\": 0.4071684832288544}, {\"document\": 28, \"term\": \"albert_heijn\", \"tfidf\": 0.3700562593303711}, {\"document\": 28, \"term\": \"winkelbedrijf\", \"tfidf\": 0.35687844435803856}, {\"document\": 28, \"term\": \"toeeigening\", \"tfidf\": 0.21736452479520768}, {\"document\": 28, \"term\": \"wegnemen\", \"tfidf\": 0.1579206611023297}, {\"document\": 28, \"term\": \"enig_goed\", \"tfidf\": 0.15049194375935052}, {\"document\": 28, \"term\": \"geheel\", \"tfidf\": 0.12416836138836546}, {\"document\": 28, \"term\": \"laste_gelegd\", \"tfidf\": 0.09215656180230318}, {\"document\": 28, \"term\": \"aa_flesje\", \"tfidf\": 2.5733754332993576e-05}, {\"document\": 29, \"term\": \"kruidvat\", \"tfidf\": 0.3823258144265088}, {\"document\": 29, \"term\": \"landelijk\", \"tfidf\": 0.3626663852540288}, {\"document\": 29, \"term\": \"vervangen\", \"tfidf\": 0.34745744360691494}, {\"document\": 29, \"term\": \"winkeldiefstal\", \"tfidf\": 0.34752133787134387}, {\"document\": 29, \"term\": \"onderneming\", \"tfidf\": 0.32452363736760753}, {\"document\": 29, \"term\": \"bespreken\", \"tfidf\": 0.27262550020110454}, {\"document\": 29, \"term\": \"vestigen\", \"tfidf\": 0.2640595979552766}, {\"document\": 29, \"term\": \"bewijsmiddel\", \"tfidf\": 0.24167923336718752}, {\"document\": 29, \"term\": \"verhoor\", \"tfidf\": 0.19768647884503002}, {\"document\": 29, \"term\": \"voeren\", \"tfidf\": 0.19774454226304033}]}}, {\"mode\": \"vega-lite\"});\n",
       "</script>"
      ],
      "text/plain": [
       "alt.LayerChart(...)"
      ]
     },
     "execution_count": 8,
     "metadata": {},
     "output_type": "execute_result"
    }
   ],
   "source": [
    "import altair as alt\n",
    "import numpy as np\n",
    "\n",
    "# 18 = 0 / 19 = 1 / 20 = 2 / 21 = 3\n",
    "\n",
    "a = 0\n",
    "\n",
    "# Terms in this list will get a red dot in the visualization\n",
    "term_list = ['kledingwinkel', 'hennep', 'drogen'] # Highlight the words of interest\n",
    "\n",
    "# adding a little randomness to break ties in term ranking\n",
    "top_tfidf_plusRand = top_idfs[a].copy()\n",
    "top_tfidf_plusRand = top_tfidf_plusRand.iloc[:300,]\n",
    "top_tfidf_plusRand['tfidf'] = top_tfidf_plusRand['tfidf'] + np.random.rand(top_tfidf_plusRand.shape[0])*0.0001\n",
    "\n",
    "# base for all visualizations, with rank calculation\n",
    "base = alt.Chart(top_tfidf_plusRand).encode(\n",
    "    x = 'rank:O',\n",
    "    y = 'document:N'\n",
    ").transform_window(\n",
    "    rank = \"rank()\",\n",
    "    sort = [alt.SortField(\"tfidf\", order=\"descending\")],\n",
    "    groupby = [\"document\"],\n",
    ")\n",
    "\n",
    "# heatmap specification\n",
    "heatmap = base.mark_rect().encode(\n",
    "    color = 'tfidf:Q'\n",
    ")\n",
    "\n",
    "# red circle over terms in above list\n",
    "circle = base.mark_circle(size=100).encode(\n",
    "    color = alt.condition(\n",
    "        alt.FieldOneOfPredicate(field='term', oneOf=term_list),\n",
    "        alt.value('red'),\n",
    "        alt.value('#FFFFFF00')        \n",
    "    )\n",
    ")\n",
    "\n",
    "# text labels, white for darker heatmap colors\n",
    "text = base.mark_text(baseline='middle').encode(\n",
    "    text = 'term:N',\n",
    "    color = alt.condition(alt.datum.tfidf >= 0.23, alt.value('white'), alt.value('black'))\n",
    ")\n",
    "\n",
    "# display the three superimposed visualizations\n",
    "(heatmap + circle + text).properties(width = 1200)"
   ]
  },
  {
   "cell_type": "markdown",
   "metadata": {},
   "source": [
    "# Scattertext"
   ]
  },
  {
   "cell_type": "code",
   "execution_count": 4,
   "metadata": {},
   "outputs": [
    {
     "data": {
      "text/html": [
       "<style>.container { width:98% !important; }</style>"
      ],
      "text/plain": [
       "<IPython.core.display.HTML object>"
      ]
     },
     "metadata": {},
     "output_type": "display_data"
    }
   ],
   "source": [
    "import scattertext as st\n",
    "import re, io\n",
    "from pprint import pprint\n",
    "import pandas as pd\n",
    "import numpy as np\n",
    "from scipy.stats import rankdata, hmean, norm\n",
    "import spacy\n",
    "import os, pkgutil, json, urllib\n",
    "from urllib.request import urlopen\n",
    "from IPython.display import IFrame\n",
    "from IPython.core.display import display, HTML\n",
    "from scattertext import CorpusFromPandas, produce_scattertext_explorer\n",
    "display(HTML(\"<style>.container { width:98% !important; }</style>\"))"
   ]
  },
  {
   "cell_type": "code",
   "execution_count": 5,
   "metadata": {},
   "outputs": [
    {
     "data": {
      "text/html": [
       "<style>.container { width:98% !important; }</style>"
      ],
      "text/plain": [
       "<IPython.core.display.HTML object>"
      ]
     },
     "metadata": {},
     "output_type": "display_data"
    }
   ],
   "source": [
    "import scattertext as st\n",
    "import re, io\n",
    "from pprint import pprint\n",
    "import pandas as pd\n",
    "import numpy as np\n",
    "from scipy.stats import rankdata, hmean, norm\n",
    "import spacy\n",
    "import os, pkgutil, json, urllib\n",
    "from urllib.request import urlopen\n",
    "from IPython.display import IFrame\n",
    "from IPython.core.display import display, HTML\n",
    "from scattertext import CorpusFromPandas, produce_scattertext_explorer\n",
    "import selenium\n",
    "from selenium import webdriver\n",
    "import webbrowser\n",
    "import codecs\n",
    "display(HTML(\"<style>.container { width:98% !important; }</style>\"))"
   ]
  },
  {
   "cell_type": "code",
   "execution_count": 6,
   "metadata": {},
   "outputs": [],
   "source": [
    "\n",
    "#df18['year'] = df18['year'].astype(\"string\")\n",
    "#df19['year'] = df19['year'].astype(\"string\")\n",
    "#df20['year'] = df20['year'].astype(\"string\")\n",
    "#df21['year'] = df21['year'].astype(\"string\")\n",
    "\n",
    "frames = [df18, df21]\n",
    "\n",
    "result = pd.concat(frames)\n",
    "\n",
    "nlp = spacy.load(\"nl_core_news_sm\")"
   ]
  },
  {
   "cell_type": "code",
   "execution_count": 7,
   "metadata": {},
   "outputs": [],
   "source": [
    "#(result['lemm_tok'][0])"
   ]
  },
  {
   "cell_type": "code",
   "execution_count": 8,
   "metadata": {
    "collapsed": true
   },
   "outputs": [],
   "source": [
    "result['parsed'] = result.lemm.apply(nlp)"
   ]
  },
  {
   "cell_type": "code",
   "execution_count": 9,
   "metadata": {},
   "outputs": [
    {
     "data": {
      "text/plain": [
       "spacy.tokens.doc.Doc"
      ]
     },
     "execution_count": 9,
     "metadata": {},
     "output_type": "execute_result"
    }
   ],
   "source": [
    "type(result['parsed'][0])"
   ]
  },
  {
   "cell_type": "code",
   "execution_count": 10,
   "metadata": {},
   "outputs": [
    {
     "data": {
      "text/plain": [
       "spacy.tokens.token.Token"
      ]
     },
     "execution_count": 10,
     "metadata": {},
     "output_type": "execute_result"
    }
   ],
   "source": [
    "type(result['parsed'][0][0])"
   ]
  },
  {
   "cell_type": "code",
   "execution_count": 11,
   "metadata": {},
   "outputs": [],
   "source": [
    "result = result.rename(columns={\"Unnamed: 0\": \"Doc_Number\"})\n",
    "result[\"Doc_Number\"] = result[\"Doc_Number\"].astype(\"category\")\n",
    "result[\"year\"] = result[\"year\"].astype(\"category\")"
   ]
  },
  {
   "cell_type": "code",
   "execution_count": 12,
   "metadata": {
    "collapsed": true
   },
   "outputs": [],
   "source": [
    "corpus_scat_text = st.CorpusFromParsedDocuments(result, category_col='year', parsed_col='parsed').build()"
   ]
  },
  {
   "cell_type": "code",
   "execution_count": 13,
   "metadata": {},
   "outputs": [],
   "source": [
    "html = produce_scattertext_explorer(corpus_scat_text,\n",
    "                                    category='2018',\n",
    "                                    category_name='2018',\n",
    "                                    not_category_name='2021',\n",
    "                                    width_in_pixels=1000,\n",
    "                                    minimum_term_frequency=5,\n",
    "                                    metadata=corpus_scat_text.get_df()['filename'],\n",
    "                                    transform= st.Scalers.log_scale_standardize) \n"
   ]
  },
  {
   "cell_type": "code",
   "execution_count": 14,
   "metadata": {
    "scrolled": false
   },
   "outputs": [
    {
     "data": {
      "text/html": [
       "\n",
       "        <iframe\n",
       "            width=\"1200\"\n",
       "            height=\"700\"\n",
       "            src=\"scattertext1821.html\"\n",
       "            frameborder=\"0\"\n",
       "            allowfullscreen\n",
       "        ></iframe>\n",
       "        "
      ],
      "text/plain": [
       "<IPython.lib.display.IFrame at 0x7fade1f41250>"
      ]
     },
     "execution_count": 14,
     "metadata": {},
     "output_type": "execute_result"
    }
   ],
   "source": [
    "import codecs\n",
    "import webbrowser\n",
    "import IPython\n",
    "\n",
    "file_name = 'scattertext1821.html'\n",
    "open(file_name, 'wb').write(html.encode('utf-8'))\n",
    "IFrame(src=file_name, width = 1200, height=700)"
   ]
  },
  {
   "cell_type": "code",
   "execution_count": 15,
   "metadata": {},
   "outputs": [],
   "source": [
    "# d = [df18, df19, df20, df21] # Savable - done\n",
    "#q = 1\n",
    "#lda_models = [] # gensim.models.ldamodel.LdaModel - done\n",
    "#dat_lems = [] # its a list - try - this should be in the dat column lemm - done\n",
    "#corps = [] # its a list - try - done\n",
    "#ids = [] # gensim - seperate df - done\n",
    "#top_idfs = [] # savable - done"
   ]
  },
  {
   "cell_type": "code",
   "execution_count": null,
   "metadata": {},
   "outputs": [],
   "source": [
    "#corpus = st.CorpusFromPandas(result,\n",
    "#                             category_col='year',\n",
    "#                             text_col='parsed',\n",
    "#                             nlp=nlp).build()"
   ]
  },
  {
   "cell_type": "markdown",
   "metadata": {},
   "source": [
    "# Plotly - Lineplot"
   ]
  },
  {
   "cell_type": "code",
   "execution_count": 15,
   "metadata": {},
   "outputs": [
    {
     "data": {
      "application/vnd.plotly.v1+json": {
       "config": {
        "plotlyServerURL": "https://plot.ly"
       },
       "data": [
        {
         "hovertemplate": "x=%{x}<br>tfidf=%{y}<extra></extra>",
         "legendgroup": "",
         "line": {
          "color": "#1F77B4",
          "dash": "solid"
         },
         "marker": {
          "symbol": "circle"
         },
         "mode": "lines",
         "name": "",
         "orientation": "v",
         "showlegend": false,
         "type": "scatter",
         "x": [
          "2018",
          "2019",
          "2020",
          "2021"
         ],
         "xaxis": "x",
         "y": [
          0.09858424281816003,
          0.09010084778979682,
          0.10788600241366628,
          0.17813035085267848
         ],
         "yaxis": "y"
        }
       ],
       "layout": {
        "height": 800,
        "legend": {
         "tracegroupgap": 0
        },
        "template": {
         "data": {
          "pie": [
           {
            "automargin": true,
            "type": "pie"
           }
          ],
          "scatter": [
           {
            "line": {
             "width": 3
            },
            "marker": {
             "size": 9
            },
            "type": "scatter"
           }
          ],
          "scatter3d": [
           {
            "line": {
             "width": 3
            },
            "marker": {
             "size": 9
            },
            "type": "scatter3d"
           }
          ],
          "scattergeo": [
           {
            "line": {
             "width": 3
            },
            "marker": {
             "size": 9
            },
            "type": "scattergeo"
           }
          ],
          "scattergl": [
           {
            "line": {
             "width": 3
            },
            "marker": {
             "size": 9
            },
            "type": "scattergl"
           }
          ],
          "scatterpolar": [
           {
            "line": {
             "width": 3
            },
            "marker": {
             "size": 9
            },
            "type": "scatterpolar"
           }
          ],
          "scatterpolargl": [
           {
            "line": {
             "width": 3
            },
            "marker": {
             "size": 9
            },
            "type": "scatterpolargl"
           }
          ],
          "scatterternary": [
           {
            "line": {
             "width": 3
            },
            "marker": {
             "size": 9
            },
            "type": "scatterternary"
           }
          ],
          "table": [
           {
            "cells": {
             "height": 30
            },
            "header": {
             "height": 36
            },
            "type": "table"
           }
          ]
         },
         "layout": {
          "font": {
           "size": 18
          },
          "xaxis": {
           "title": {
            "standoff": 15
           }
          },
          "yaxis": {
           "title": {
            "standoff": 15
           }
          }
         }
        },
        "title": {
         "text": "TF-IDF Scores of term: auto"
        },
        "xaxis": {
         "anchor": "y",
         "domain": [
          0,
          1
         ],
         "title": {
          "text": "x"
         },
         "type": "category"
        },
        "yaxis": {
         "anchor": "x",
         "domain": [
          0,
          1
         ],
         "title": {
          "text": "tfidf"
         }
        }
       }
      }
     },
     "metadata": {},
     "output_type": "display_data"
    }
   ],
   "source": [
    "import plotly.express as px\n",
    "import plotly.io as pio\n",
    "\n",
    "pio.templates.default = \"presentation\"\n",
    "\n",
    "term = 'auto'\n",
    "\n",
    "fig = px.line(top_tfidf[top_tfidf['term'] == term],\n",
    "  x= ['2018', '2019', '2020', '2021'],\n",
    "  y=\"tfidf\",\n",
    "  title='TF-IDF Scores of term: {}'.format(term),\n",
    "  height = 800)\n",
    "\n",
    "fig.update_xaxes(type='category')\n",
    "fig.show()"
   ]
  },
  {
   "cell_type": "code",
   "execution_count": null,
   "metadata": {},
   "outputs": [],
   "source": []
  },
  {
   "cell_type": "code",
   "execution_count": null,
   "metadata": {},
   "outputs": [],
   "source": []
  },
  {
   "cell_type": "code",
   "execution_count": null,
   "metadata": {},
   "outputs": [],
   "source": []
  },
  {
   "cell_type": "code",
   "execution_count": null,
   "metadata": {},
   "outputs": [],
   "source": []
  },
  {
   "cell_type": "code",
   "execution_count": null,
   "metadata": {},
   "outputs": [],
   "source": []
  },
  {
   "cell_type": "code",
   "execution_count": null,
   "metadata": {},
   "outputs": [],
   "source": []
  }
 ],
 "metadata": {
  "interpreter": {
   "hash": "40d3a090f54c6569ab1632332b64b2c03c39dcf918b08424e98f38b5ae0af88f"
  },
  "kernelspec": {
   "display_name": "Python 3",
   "language": "python",
   "name": "python3"
  },
  "language_info": {
   "codemirror_mode": {
    "name": "ipython",
    "version": 3
   },
   "file_extension": ".py",
   "mimetype": "text/x-python",
   "name": "python",
   "nbconvert_exporter": "python",
   "pygments_lexer": "ipython3",
   "version": "3.7.10"
  }
 },
 "nbformat": 4,
 "nbformat_minor": 2
}
