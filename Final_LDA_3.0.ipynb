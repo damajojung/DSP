{
 "cells": [
  {
   "cell_type": "markdown",
   "metadata": {},
   "source": [
    "# Final LDA Model"
   ]
  },
  {
   "cell_type": "code",
   "execution_count": 1,
   "metadata": {},
   "outputs": [],
   "source": [
    "import re\n",
    "import numpy as np\n",
    "import pandas as pd\n",
    "from pprint import pprint\n",
    "\n",
    "from datetime import datetime\n",
    "\n",
    "# Gensim\n",
    "import gensim\n",
    "import gensim.corpora as corpora\n",
    "from gensim.utils import simple_preprocess\n",
    "from gensim.models import CoherenceModel\n",
    "\n",
    "# spacy for lemmatization\n",
    "import spacy\n",
    "\n",
    "# Plotting tools\n",
    "import pyLDAvis\n",
    "# import pyLDAvis.gensim  # Author: don't skip this\n",
    "# pyLDAvis.gensim.prepare\n",
    "\n",
    "# I think i need another one:\n",
    "import pyLDAvis.gensim_models\n",
    "import pyLDAvis.gensim_models as gensimvis\n",
    "\n",
    "# Plots\n",
    "import matplotlib.pyplot as plt\n",
    "from matplotlib.pyplot import figure\n",
    "%matplotlib inline\n",
    "\n",
    "# Enable logging for gensim - optional\n",
    "import logging\n",
    "logging.basicConfig(format='%(asctime)s : %(levelname)s : %(message)s', level=logging.ERROR)\n",
    "\n",
    "import warnings\n",
    "warnings.filterwarnings(\"ignore\",category=DeprecationWarning)\n",
    "\n",
    "# TF.IDF\n",
    "from sklearn.feature_extraction.text import TfidfVectorizer\n",
    "from sklearn.preprocessing import Normalizer\n",
    "from sklearn.cluster import KMeans\n",
    "from sklearn import metrics\n",
    "from sklearn.metrics.pairwise import cosine_distances"
   ]
  },
  {
   "cell_type": "code",
   "execution_count": 2,
   "metadata": {},
   "outputs": [],
   "source": [
    "# NLTK Stop words\n",
    "from nltk.corpus import stopwords\n",
    "stop_words = stopwords.words('dutch')\n",
    "stop_words.extend(['tenlastelegging', 'hof', 'althans', 'tenlastegelegd', 'naan', 'verklaring', 'verklaren', 'benadelen', 'naam', 'aangeefster', 'aangever', 'aangev', 'verbalisant', 'slachtoffer', 'rechtbank', 'uur', 'uren', 'weten', 'bestaan', 'waarheid', 'daarvoor', 'genaamd', 'maken', 'gaan', 'toverweging', 'aanzien', 'bewijs', 'feit', 'grond', 'staan', 'vaststellen', 'halen', 'vervolgens', 'nemen', 'aanhouden', 'bevinden', 'officier', 'justitie', 'overtuigen', 'bewijzen', 'maken', 'stellen', 'leggen', 'dienen', 'vrijspreken', 'daarnaast', 'bezigen', 'willen', 'gaan', 'vervolgens', 'raken', 'weten', 'proberen', 'echter', 'vraag', 'verdenken', 'vervatten', 'beslissing', 'hoger_beroep', 'verkort_vonni', 'geacht', 'instellen', 'ander', 'zien', 'toebehoren', 'hoeveelheid', 'lijst_ii', 'bereiken'])"
   ]
  },
  {
   "cell_type": "markdown",
   "metadata": {},
   "source": [
    "# Test "
   ]
  },
  {
   "cell_type": "code",
   "execution_count": 3,
   "metadata": {},
   "outputs": [
    {
     "name": "stdout",
     "output_type": "stream",
     "text": [
      "(300, 11)\n",
      "(306, 11)\n",
      "(315, 11)\n",
      "(527, 11)\n"
     ]
    }
   ],
   "source": [
    "\n",
    "df18 = pd.read_csv('/Users/dj/Python - UvA/DSP/data_2018.csv', index_col=0) \n",
    "df19 = pd.read_csv('/Users/dj/Python - UvA/DSP/data_2019.csv', index_col=0) \n",
    "df20 = pd.read_csv('/Users/dj/Python - UvA/DSP/data_2020.csv', index_col=0) \n",
    "df21 = pd.read_csv('/Users/dj/Python - UvA/DSP/data_2021.csv', index_col=0) \n",
    "\n",
    "print(df18.shape)\n",
    "print(df19.shape)\n",
    "print(df20.shape)\n",
    "print(df21.shape)\n",
    "\n",
    "tfidf18 = pd.read_csv('/Users/dj/Python - UvA/DSP/topidfs_2018.csv', index_col=0) \n",
    "tfidf19 = pd.read_csv('/Users/dj/Python - UvA/DSP/topidfs_2019.csv', index_col=0) \n",
    "tfidf20 = pd.read_csv('/Users/dj/Python - UvA/DSP/topidfs_2020.csv', index_col=0) \n",
    "tfidf21 = pd.read_csv('/Users/dj/Python - UvA/DSP/topidfs_2021.csv', index_col=0) \n",
    "\n",
    "i2w_df = pd.read_csv('/Users/dj/Python - UvA/DSP/i2words_df.csv', index_col=0) \n"
   ]
  },
  {
   "cell_type": "code",
   "execution_count": 9,
   "metadata": {},
   "outputs": [
    {
     "data": {
      "text/plain": [
       "pandas.core.series.Series"
      ]
     },
     "execution_count": 9,
     "metadata": {},
     "output_type": "execute_result"
    }
   ],
   "source": [
    "type(i2w_df.iloc[0,:])"
   ]
  },
  {
   "cell_type": "code",
   "execution_count": null,
   "metadata": {},
   "outputs": [],
   "source": []
  },
  {
   "cell_type": "markdown",
   "metadata": {},
   "source": [
    "# Build Giant Function"
   ]
  },
  {
   "cell_type": "code",
   "execution_count": 13,
   "metadata": {},
   "outputs": [],
   "source": [
    "\n",
    "def get_lda_model(df):\n",
    "\n",
    "    def sent_to_words(sentences):\n",
    "        for sentence in sentences:\n",
    "            yield(gensim.utils.simple_preprocess(str(sentence), deacc=True))  # deacc=True removes punctuations\n",
    "\n",
    "    data_words = list(sent_to_words(df['lemm']))\n",
    "\n",
    "\n",
    "    nlp = spacy.load(\"nl_core_news_sm\")\n",
    "\n",
    "    # Initialize spacy 'en' model, keeping only tagger component (for efficiency)\n",
    "    # python3 -m spacy download en\n",
    "    # nlp = spacy.load('nl', disable=['parser', 'ner'])\n",
    "\n",
    "\n",
    "    # Create Dictionary\n",
    "    id2word = i2w_df.iloc[0,:].dropna()\n",
    "\n",
    "    # Create Corpus\n",
    "    texts = data_words\n",
    "\n",
    "    # Term Document Frequency\n",
    "    corpus = df18['corpus']\n",
    "    # corpus1 = [str(item) for item in corpus]\n",
    "\n",
    "    # Build LDA model\n",
    "    lda_model = gensim.models.ldamodel.LdaModel(corpus=corpus,\n",
    "                                            id2word=id2word,\n",
    "                                            num_topics=5, \n",
    "                                            random_state=100,\n",
    "                                            update_every=1,\n",
    "                                            chunksize=100,\n",
    "                                            passes=10,\n",
    "                                            alpha='auto',\n",
    "                                            per_word_topics=True)\n",
    "\n",
    "     \n",
    "\n",
    "    return(lda_model)"
   ]
  },
  {
   "cell_type": "code",
   "execution_count": 14,
   "metadata": {},
   "outputs": [
    {
     "ename": "TypeError",
     "evalue": "unsupported operand type(s) for +: 'int' and 'str'",
     "output_type": "error",
     "traceback": [
      "\u001b[0;31m---------------------------------------------------------------------------\u001b[0m",
      "\u001b[0;31mTypeError\u001b[0m                                 Traceback (most recent call last)",
      "\u001b[0;32m<ipython-input-14-01612d001132>\u001b[0m in \u001b[0;36m<module>\u001b[0;34m\u001b[0m\n\u001b[0;32m----> 1\u001b[0;31m \u001b[0mtest\u001b[0m \u001b[0;34m=\u001b[0m \u001b[0mget_lda_model\u001b[0m\u001b[0;34m(\u001b[0m\u001b[0mdf18\u001b[0m\u001b[0;34m)\u001b[0m\u001b[0;34m\u001b[0m\u001b[0;34m\u001b[0m\u001b[0m\n\u001b[0m",
      "\u001b[0;32m<ipython-input-13-9aaec8ce7f80>\u001b[0m in \u001b[0;36mget_lda_model\u001b[0;34m(df)\u001b[0m\n\u001b[1;32m     33\u001b[0m                                             \u001b[0mchunksize\u001b[0m\u001b[0;34m=\u001b[0m\u001b[0;36m100\u001b[0m\u001b[0;34m,\u001b[0m\u001b[0;34m\u001b[0m\u001b[0;34m\u001b[0m\u001b[0m\n\u001b[1;32m     34\u001b[0m                                             \u001b[0mpasses\u001b[0m\u001b[0;34m=\u001b[0m\u001b[0;36m10\u001b[0m\u001b[0;34m,\u001b[0m\u001b[0;34m\u001b[0m\u001b[0;34m\u001b[0m\u001b[0m\n\u001b[0;32m---> 35\u001b[0;31m                                             alpha='auto')\n\u001b[0m\u001b[1;32m     36\u001b[0m \u001b[0;34m\u001b[0m\u001b[0m\n\u001b[1;32m     37\u001b[0m \u001b[0;34m\u001b[0m\u001b[0m\n",
      "\u001b[0;32m/opt/anaconda3/lib/python3.7/site-packages/gensim/models/ldamodel.py\u001b[0m in \u001b[0;36m__init__\u001b[0;34m(self, corpus, num_topics, id2word, distributed, chunksize, passes, update_every, alpha, eta, decay, offset, eval_every, iterations, gamma_threshold, minimum_probability, random_state, ns_conf, minimum_phi_value, per_word_topics, callbacks, dtype)\u001b[0m\n\u001b[1;32m    440\u001b[0m             \u001b[0mself\u001b[0m\u001b[0;34m.\u001b[0m\u001b[0mnum_terms\u001b[0m \u001b[0;34m=\u001b[0m \u001b[0mlen\u001b[0m\u001b[0;34m(\u001b[0m\u001b[0mself\u001b[0m\u001b[0;34m.\u001b[0m\u001b[0mid2word\u001b[0m\u001b[0;34m)\u001b[0m\u001b[0;34m\u001b[0m\u001b[0;34m\u001b[0m\u001b[0m\n\u001b[1;32m    441\u001b[0m         \u001b[0;32melif\u001b[0m \u001b[0mlen\u001b[0m\u001b[0;34m(\u001b[0m\u001b[0mself\u001b[0m\u001b[0;34m.\u001b[0m\u001b[0mid2word\u001b[0m\u001b[0;34m)\u001b[0m \u001b[0;34m>\u001b[0m \u001b[0;36m0\u001b[0m\u001b[0;34m:\u001b[0m\u001b[0;34m\u001b[0m\u001b[0;34m\u001b[0m\u001b[0m\n\u001b[0;32m--> 442\u001b[0;31m             \u001b[0mself\u001b[0m\u001b[0;34m.\u001b[0m\u001b[0mnum_terms\u001b[0m \u001b[0;34m=\u001b[0m \u001b[0;36m1\u001b[0m \u001b[0;34m+\u001b[0m \u001b[0mmax\u001b[0m\u001b[0;34m(\u001b[0m\u001b[0mself\u001b[0m\u001b[0;34m.\u001b[0m\u001b[0mid2word\u001b[0m\u001b[0;34m.\u001b[0m\u001b[0mkeys\u001b[0m\u001b[0;34m(\u001b[0m\u001b[0;34m)\u001b[0m\u001b[0;34m)\u001b[0m\u001b[0;34m\u001b[0m\u001b[0;34m\u001b[0m\u001b[0m\n\u001b[0m\u001b[1;32m    443\u001b[0m         \u001b[0;32melse\u001b[0m\u001b[0;34m:\u001b[0m\u001b[0;34m\u001b[0m\u001b[0;34m\u001b[0m\u001b[0m\n\u001b[1;32m    444\u001b[0m             \u001b[0mself\u001b[0m\u001b[0;34m.\u001b[0m\u001b[0mnum_terms\u001b[0m \u001b[0;34m=\u001b[0m \u001b[0;36m0\u001b[0m\u001b[0;34m\u001b[0m\u001b[0;34m\u001b[0m\u001b[0m\n",
      "\u001b[0;31mTypeError\u001b[0m: unsupported operand type(s) for +: 'int' and 'str'"
     ]
    }
   ],
   "source": [
    "test = get_lda_model(df18)"
   ]
  },
  {
   "cell_type": "markdown",
   "metadata": {},
   "source": [
    "# Compute Model Perplexity and Coherence Score"
   ]
  },
  {
   "cell_type": "code",
   "execution_count": null,
   "metadata": {},
   "outputs": [],
   "source": [
    "# 18 = 0 / 19 = 1 / 20 = 2 / 21 = 3\n",
    "\n",
    "a = 3\n",
    "\n",
    "# Compute Perplexity\n",
    "print('\\nPerplexity: ', lda_models[a].log_perplexity(corps[a]))  # a measure of how good the model is. lower the better.\n",
    "\n",
    "# Compute Coherence Score\n",
    "coherence_model_lda = CoherenceModel(model=lda_models[a], texts=dat_lems[a], dictionary=ids[a], coherence='c_v')\n",
    "coherence_lda = coherence_model_lda.get_coherence()\n",
    "print('\\nCoherence Score: ', coherence_lda)"
   ]
  },
  {
   "cell_type": "markdown",
   "metadata": {},
   "source": [
    "# Visualize the topics-keywords"
   ]
  },
  {
   "cell_type": "code",
   "execution_count": null,
   "metadata": {},
   "outputs": [],
   "source": [
    "# 18 = 0 / 19 = 1 / 20 = 2 / 21 = 3\n",
    "\n",
    "a = 0\n",
    "\n",
    "# Visualize the topics\n",
    "pyLDAvis.enable_notebook()\n",
    "vis = gensimvis.prepare(lda_models[a], corps[a], ids[a], R = 10)\n",
    "vis"
   ]
  },
  {
   "cell_type": "markdown",
   "metadata": {},
   "source": [
    "# TF.IDF "
   ]
  },
  {
   "cell_type": "code",
   "execution_count": 4,
   "metadata": {},
   "outputs": [],
   "source": [
    "values = []\n",
    "years = ('2018', '2019', '2020', '2021')\n",
    "term = 'fiets'\n",
    "\n",
    "def avg_terms(data, term):\n",
    "    avg = data[data['term'].str.contains(term)]['tfidf'].mean()\n",
    "    return(avg)\n",
    "\n",
    "    \n",
    "for i in top_idfs:\n",
    "    if term in list(i['term']):\n",
    "        a  = avg_terms(i, term)\n",
    "        values.append(a)\n",
    "    else:\n",
    "        values.append(0)"
   ]
  },
  {
   "cell_type": "code",
   "execution_count": 5,
   "metadata": {},
   "outputs": [
    {
     "data": {
      "image/png": "[encoded data removed]",
      "text/plain": [
       "<Figure size 960x800 with 1 Axes>"
      ]
     },
     "metadata": {
      "needs_background": "light"
     },
     "output_type": "display_data"
    }
   ],
   "source": [
    "x_pos = [0,1,2,3]\n",
    "\n",
    "figure(figsize=(12, 10), dpi=80)\n",
    "\n",
    "plt.plot(values)\n",
    "\n",
    "\n",
    "# Add title and axis names\n",
    "plt.title('Average TF-IDF Scores of term: {}'.format(term))\n",
    "plt.xlabel('Years')\n",
    "plt.ylabel('TF.IDF Scores')\n",
    " \n",
    "# Create names on the x axis\n",
    "plt.xticks(x_pos, years)\n",
    " \n",
    "# Show graph\n",
    "plt.show()"
   ]
  },
  {
   "cell_type": "code",
   "execution_count": null,
   "metadata": {},
   "outputs": [],
   "source": [
    "values"
   ]
  },
  {
   "cell_type": "code",
   "execution_count": 6,
   "metadata": {},
   "outputs": [
    {
     "data": {
      "text/html": [
       "\n",
       "<div id=\"altair-viz-356dd0fb202f4ece9bdeefa81ce7a2ff\"></div>\n",
       "<script type=\"text/javascript\">\n",
       "  var VEGA_DEBUG = (typeof VEGA_DEBUG == \"undefined\") ? {} : VEGA_DEBUG;\n",
       "  (function(spec, embedOpt){\n",
       "    let outputDiv = document.currentScript.previousElementSibling;\n",
       "    if (outputDiv.id !== \"altair-viz-356dd0fb202f4ece9bdeefa81ce7a2ff\") {\n",
       "      outputDiv = document.getElementById(\"altair-viz-356dd0fb202f4ece9bdeefa81ce7a2ff\");\n",
       "    }\n",
       "    const paths = {\n",
       "      \"vega\": \"https://cdn.jsdelivr.net/npm//vega@5?noext\",\n",
       "      \"vega-lib\": \"https://cdn.jsdelivr.net/npm//vega-lib?noext\",\n",
       "      \"vega-lite\": \"https://cdn.jsdelivr.net/npm//vega-lite@4.17.0?noext\",\n",
       "      \"vega-embed\": \"https://cdn.jsdelivr.net/npm//vega-embed@6?noext\",\n",
       "    };\n",
       "\n",
       "    function maybeLoadScript(lib, version) {\n",
       "      var key = `${lib.replace(\"-\", \"\")}_version`;\n",
       "      return (VEGA_DEBUG[key] == version) ?\n",
       "        Promise.resolve(paths[lib]) :\n",
       "        new Promise(function(resolve, reject) {\n",
       "          var s = document.createElement('script');\n",
       "          document.getElementsByTagName(\"head\")[0].appendChild(s);\n",
       "          s.async = true;\n",
       "          s.onload = () => {\n",
       "            VEGA_DEBUG[key] = version;\n",
       "            return resolve(paths[lib]);\n",
       "          };\n",
       "          s.onerror = () => reject(`Error loading script: ${paths[lib]}`);\n",
       "          s.src = paths[lib];\n",
       "        });\n",
       "    }\n",
       "\n",
       "    function showError(err) {\n",
       "      outputDiv.innerHTML = `<div class=\"error\" style=\"color:red;\">${err}</div>`;\n",
       "      throw err;\n",
       "    }\n",
       "\n",
       "    function displayChart(vegaEmbed) {\n",
       "      vegaEmbed(outputDiv, spec, embedOpt)\n",
       "        .catch(err => showError(`Javascript Error: ${err.message}<br>This usually means there's a typo in your chart specification. See the javascript console for the full traceback.`));\n",
       "    }\n",
       "\n",
       "    if(typeof define === \"function\" && define.amd) {\n",
       "      requirejs.config({paths});\n",
       "      require([\"vega-embed\"], displayChart, err => showError(`Error loading script: ${err.message}`));\n",
       "    } else {\n",
       "      maybeLoadScript(\"vega\", \"5\")\n",
       "        .then(() => maybeLoadScript(\"vega-lite\", \"4.17.0\"))\n",
       "        .then(() => maybeLoadScript(\"vega-embed\", \"6\"))\n",
       "        .catch(showError)\n",
       "        .then(() => displayChart(vegaEmbed));\n",
       "    }\n",
       "  })({\"config\": {\"view\": {\"continuousWidth\": 400, \"continuousHeight\": 300}}, \"layer\": [{\"mark\": \"rect\", \"encoding\": {\"color\": {\"field\": \"tfidf\", \"type\": \"quantitative\"}, \"x\": {\"field\": \"rank\", \"type\": \"ordinal\"}, \"y\": {\"field\": \"document\", \"type\": \"nominal\"}}, \"transform\": [{\"window\": [{\"op\": \"rank\", \"field\": \"\", \"as\": \"rank\"}], \"groupby\": [\"document\"], \"sort\": [{\"field\": \"tfidf\", \"order\": \"descending\"}]}]}, {\"mark\": {\"type\": \"circle\", \"size\": 100}, \"encoding\": {\"color\": {\"condition\": {\"value\": \"red\", \"test\": {\"field\": \"term\", \"oneOf\": [\"kledingwinkel\", \"albert_heijn\"]}}, \"value\": \"#FFFFFF00\"}, \"x\": {\"field\": \"rank\", \"type\": \"ordinal\"}, \"y\": {\"field\": \"document\", \"type\": \"nominal\"}}, \"transform\": [{\"window\": [{\"op\": \"rank\", \"field\": \"\", \"as\": \"rank\"}], \"groupby\": [\"document\"], \"sort\": [{\"field\": \"tfidf\", \"order\": \"descending\"}]}]}, {\"mark\": {\"type\": \"text\", \"baseline\": \"middle\"}, \"encoding\": {\"color\": {\"condition\": {\"value\": \"white\", \"test\": \"(datum.tfidf >= 0.23)\"}, \"value\": \"black\"}, \"text\": {\"field\": \"term\", \"type\": \"nominal\"}, \"x\": {\"field\": \"rank\", \"type\": \"ordinal\"}, \"y\": {\"field\": \"document\", \"type\": \"nominal\"}}, \"transform\": [{\"window\": [{\"op\": \"rank\", \"field\": \"\", \"as\": \"rank\"}], \"groupby\": [\"document\"], \"sort\": [{\"field\": \"tfidf\", \"order\": \"descending\"}]}]}], \"data\": {\"name\": \"data-c7d255c68b858a4581cfcc7432cc9d66\"}, \"width\": 1200, \"$schema\": \"https://vega.github.io/schema/vega-lite/v4.17.0.json\", \"datasets\": {\"data-c7d255c68b858a4581cfcc7432cc9d66\": [{\"document\": 0, \"term\": \"kind\", \"tfidf\": 0.45011148271105766}, {\"document\": 0, \"term\": \"minderjarig\", \"tfidf\": 0.2774481908466172}, {\"document\": 0, \"term\": \"tandarts\", \"tfidf\": 0.27569409825091556}, {\"document\": 0, \"term\": \"geboorteplaats\", \"tfidf\": 0.26157391494509025}, {\"document\": 0, \"term\": \"trein\", \"tfidf\": 0.24160658660393464}, {\"document\": 0, \"term\": \"school\", \"tfidf\": 0.2340422259696408}, {\"document\": 0, \"term\": \"leerkracht\", \"tfidf\": 0.22174779944995612}, {\"document\": 0, \"term\": \"gezag\", \"tfidf\": 0.18126425026224482}, {\"document\": 0, \"term\": \"afspraak\", \"tfidf\": 0.17781053329885912}, {\"document\": 0, \"term\": \"ochtend\", \"tfidf\": 0.1755419957994092}, {\"document\": 1, \"term\": \"still\", \"tfidf\": 0.38072670076429}, {\"document\": 1, \"term\": \"herkenning\", \"tfidf\": 0.2296531660745313}, {\"document\": 1, \"term\": \"bedrijfsinbraak\", \"tfidf\": 0.20413674176181942}, {\"document\": 1, \"term\": \"honswijck\", \"tfidf\": 0.2041086970375034}, {\"document\": 1, \"term\": \"inbraak\", \"tfidf\": 0.20199098471272814}, {\"document\": 1, \"term\": \"camerabeeld\", \"tfidf\": 0.19252767254435205}, {\"document\": 1, \"term\": \"inzittende\", \"tfidf\": 0.1904377989467132}, {\"document\": 1, \"term\": \"tenlastegelegen\", \"tfidf\": 0.1825157492126323}, {\"document\": 1, \"term\": \"tankstation\", \"tfidf\": 0.17306048810551974}, {\"document\": 1, \"term\": \"nacht\", \"tfidf\": 0.13151686793791992}, {\"document\": 2, \"term\": \"celmateriaal\", \"tfidf\": 0.3063157214273695}, {\"document\": 2, \"term\": \"overvaller\", \"tfidf\": 0.23237434646680355}, {\"document\": 2, \"term\": \"dader\", \"tfidf\": 0.23087893331416665}, {\"document\": 2, \"term\": \"bemonstering\", \"tfidf\": 0.20266174860562894}, {\"document\": 2, \"term\": \"kelder\", \"tfidf\": 0.16876741132923814}, {\"document\": 2, \"term\": \"volgen\", \"tfidf\": 0.16077549128054838}, {\"document\": 2, \"term\": \"regenbroek\", \"tfidf\": 0.15916456097193085}, {\"document\": 2, \"term\": \"regenjas\", \"tfidf\": 0.1591284670377147}, {\"document\": 2, \"term\": \"dna\", \"tfidf\": 0.12828411724093944}, {\"document\": 2, \"term\": \"aantreffen\", \"tfidf\": 0.12715704117057028}, {\"document\": 3, \"term\": \"gemeente\", \"tfidf\": 0.42028404958079624}, {\"document\": 3, \"term\": \"zeer_krachtig\", \"tfidf\": 0.3775064369422916}, {\"document\": 3, \"term\": \"keel\", \"tfidf\": 0.23069366042038694}, {\"document\": 3, \"term\": \"drukken\", \"tfidf\": 0.20604390554880192}, {\"document\": 3, \"term\": \"vastgrijpen\", \"tfidf\": 0.19604792751610936}, {\"document\": 3, \"term\": \"hand\", \"tfidf\": 0.18487900482048097}, {\"document\": 3, \"term\": \"uitvoering\", \"tfidf\": 0.182792540990394}, {\"document\": 3, \"term\": \"armgreep\", \"tfidf\": 0.17353412884912672}, {\"document\": 3, \"term\": \"benemen\", \"tfidf\": 0.17347610943658767}, {\"document\": 3, \"term\": \"dicht\", \"tfidf\": 0.16237449304853369}, {\"document\": 4, \"term\": \"puntig\", \"tfidf\": 0.32615201544552025}, {\"document\": 4, \"term\": \"prikken\", \"tfidf\": 0.3046357371421355}, {\"document\": 4, \"term\": \"linker\", \"tfidf\": 0.27706684308557433}, {\"document\": 4, \"term\": \"snijden\", \"tfidf\": 0.24789889110096544}, {\"document\": 4, \"term\": \"perforeren\", \"tfidf\": 0.2392308226341273}, {\"document\": 4, \"term\": \"mes\", \"tfidf\": 0.20164110794814363}, {\"document\": 4, \"term\": \"steken\", \"tfidf\": 0.1931949492344281}, {\"document\": 4, \"term\": \"kroeg\", \"tfidf\": 0.1924100083249246}, {\"document\": 4, \"term\": \"woest\", \"tfidf\": 0.1924103544085316}, {\"document\": 4, \"term\": \"daarop\", \"tfidf\": 0.17398593468263096}, {\"document\": 5, \"term\": \"handelsnaam\", \"tfidf\": 0.7479194657721722}, {\"document\": 5, \"term\": \"getuige\", \"tfidf\": 0.24452631725301113}, {\"document\": 5, \"term\": \"functionaris\", \"tfidf\": 0.1870304676678991}, {\"document\": 5, \"term\": \"verplichten\", \"tfidf\": 0.16391033635772279}, {\"document\": 5, \"term\": \"geheim\", \"tfidf\": 0.15875986316436314}, {\"document\": 5, \"term\": \"mevrouw\", \"tfidf\": 0.15872841333115476}, {\"document\": 5, \"term\": \"bevoegd\", \"tfidf\": 0.1503701414105619}, {\"document\": 5, \"term\": \"politie\", \"tfidf\": 0.14644254103399176}, {\"document\": 5, \"term\": \"opzoeken\", \"tfidf\": 0.14372784138800312}, {\"document\": 5, \"term\": \"bewaren\", \"tfidf\": 0.14084168767834415}, {\"document\": 6, \"term\": \"worsteling\", \"tfidf\": 0.2764941263480055}, {\"document\": 6, \"term\": \"val\", \"tfidf\": 0.2722061719698248}, {\"document\": 6, \"term\": \"parketnumm\", \"tfidf\": 0.23833827424369447}, {\"document\": 6, \"term\": \"letsel\", \"tfidf\": 0.22424321886602205}, {\"document\": 6, \"term\": \"zaak\", \"tfidf\": 0.20628273049666537}, {\"document\": 6, \"term\": \"ontstaan\", \"tfidf\": 0.1879180043588129}, {\"document\": 6, \"term\": \"mishandeling\", \"tfidf\": 0.1471903237560544}, {\"document\": 6, \"term\": \"gewaarwording\", \"tfidf\": 0.14498413899965218}, {\"document\": 6, \"term\": \"tenlastegelegen\", \"tfidf\": 0.1440585406328324}, {\"document\": 6, \"term\": \"veroorzaken\", \"tfidf\": 0.12550501945934742}, {\"document\": 7, \"term\": \"hennepplant\", \"tfidf\": 0.4906240308743031}, {\"document\": 7, \"term\": \"heteren\", \"tfidf\": 0.31516678748977534}, {\"document\": 7, \"term\": \"delen_daarvan\", \"tfidf\": 0.26085304348314386}, {\"document\": 7, \"term\": \"elk_geval\", \"tfidf\": 0.23349874447117666}, {\"document\": 7, \"term\": \"hennep\", \"tfidf\": 0.2197757989138944}, {\"document\": 7, \"term\": \"middel\", \"tfidf\": 0.20011265442864234}, {\"document\": 7, \"term\": \"wet\", \"tfidf\": 0.1866667780870511}, {\"document\": 7, \"term\": \"vermelden\", \"tfidf\": 0.159894177256372}, {\"document\": 7, \"term\": \"zulks\", \"tfidf\": 0.15758042442429593}, {\"document\": 7, \"term\": \"stroom\", \"tfidf\": 0.14559649815275855}, {\"document\": 8, \"term\": \"kledingwinkel\", \"tfidf\": 0.8646791234069656}, {\"document\": 8, \"term\": \"verwijten\", \"tfidf\": 0.3135961820884421}, {\"document\": 8, \"term\": \"breken\", \"tfidf\": 0.27535801597325943}, {\"document\": 8, \"term\": \"samen\", \"tfidf\": 0.17644656611116377}, {\"document\": 8, \"term\": \"zeggen\", \"tfidf\": 0.15542332410648793}, {\"document\": 8, \"term\": \"kort\", \"tfidf\": 0.1519232991063741}, {\"document\": 8, \"term\": \"aa_flesje\", \"tfidf\": 9.454393487677383e-06}, {\"document\": 8, \"term\": \"aagg_nl\", \"tfidf\": 7.060835071030783e-05}, {\"document\": 8, \"term\": \"aaik\", \"tfidf\": 9.260283424492425e-05}, {\"document\": 8, \"term\": \"aain_nl\", \"tfidf\": 5.07693153098694e-05}, {\"document\": 9, \"term\": \"schietoefening\", \"tfidf\": 0.33325882140889235}, {\"document\": 9, \"term\": \"wapen\", \"tfidf\": 0.32599002761847073}, {\"document\": 9, \"term\": \"ontlad\", \"tfidf\": 0.22220112319309954}, {\"document\": 9, \"term\": \"sergeant\", \"tfidf\": 0.22217943663918355}, {\"document\": 9, \"term\": \"trekker\", \"tfidf\": 0.21624672514231755}, {\"document\": 9, \"term\": \"schietpunt\", \"tfidf\": 0.19993732894934363}, {\"document\": 9, \"term\": \"schot\", \"tfidf\": 0.19973949772666985}, {\"document\": 9, \"term\": \"bevel\", \"tfidf\": 0.18806215312661398}, {\"document\": 9, \"term\": \"militair\", \"tfidf\": 0.16576326996084362}, {\"document\": 9, \"term\": \"militaire_kamer\", \"tfidf\": 0.15722978984113153}, {\"document\": 10, \"term\": \"herkenning\", \"tfidf\": 0.3684374862576549}, {\"document\": 10, \"term\": \"dader\", \"tfidf\": 0.28503893986601314}, {\"document\": 10, \"term\": \"camerabeeld\", \"tfidf\": 0.2648070096482856}, {\"document\": 10, \"term\": \"geweld\", \"tfidf\": 0.21339487054628878}, {\"document\": 10, \"term\": \"uitvoering\", \"tfidf\": 0.2108996372805072}, {\"document\": 10, \"term\": \"geld\", \"tfidf\": 0.1996999560795535}, {\"document\": 10, \"term\": \"voorhouden\", \"tfidf\": 0.18155061394592467}, {\"document\": 10, \"term\": \"mes\", \"tfidf\": 0.17166305776104743}, {\"document\": 10, \"term\": \"tonen\", \"tfidf\": 0.15449414024104577}, {\"document\": 10, \"term\": \"puntig_voorwerp\", \"tfidf\": 0.15338421290942703}, {\"document\": 11, \"term\": \"straf\", \"tfidf\": 0.2579312869507697}, {\"document\": 11, \"term\": \"kind\", \"tfidf\": 0.24020243144137457}, {\"document\": 11, \"term\": \"werkstraf\", \"tfidf\": 0.22064853675742274}, {\"document\": 11, \"term\": \"relatie\", \"tfidf\": 0.20640524740486735}, {\"document\": 11, \"term\": \"seksueel\", \"tfidf\": 0.20637566358562698}, {\"document\": 11, \"term\": \"komen\", \"tfidf\": 0.15827671998171017}, {\"document\": 11, \"term\": \"ernst\", \"tfidf\": 0.14226156347574354}, {\"document\": 11, \"term\": \"leeftijd\", \"tfidf\": 0.13882467860663872}, {\"document\": 11, \"term\": \"verminderen\", \"tfidf\": 0.1214208437393648}, {\"document\": 11, \"term\": \"zorg\", \"tfidf\": 0.1213919833493819}, {\"document\": 12, \"term\": \"bierfles\", \"tfidf\": 0.3325113705506689}, {\"document\": 12, \"term\": \"medeverdacht\", \"tfidf\": 0.28020553428754347}, {\"document\": 12, \"term\": \"gezicht\", \"tfidf\": 0.2596005468861463}, {\"document\": 12, \"term\": \"slaan\", \"tfidf\": 0.20627727445067742}, {\"document\": 12, \"term\": \"bank\", \"tfidf\": 0.19036164935499947}, {\"document\": 12, \"term\": \"vriendin\", \"tfidf\": 0.18372705549856763}, {\"document\": 12, \"term\": \"neus\", \"tfidf\": 0.1533339709357611}, {\"document\": 12, \"term\": \"constateren\", \"tfidf\": 0.14555815944137981}, {\"document\": 12, \"term\": \"neusbrug\", \"tfidf\": 0.14263239225803623}, {\"document\": 12, \"term\": \"ringving\", \"tfidf\": 0.14266101918829122}, {\"document\": 13, \"term\": \"hennep\", \"tfidf\": 0.695820849845034}, {\"document\": 13, \"term\": \"gewicht\", \"tfidf\": 0.2603028650997438}, {\"document\": 13, \"term\": \"droog\", \"tfidf\": 0.21033790401979977}, {\"document\": 13, \"term\": \"vochtgehalte\", \"tfidf\": 0.21035536521277653}, {\"document\": 13, \"term\": \"drogen\", \"tfidf\": 0.1995226787355802}, {\"document\": 13, \"term\": \"nat\", \"tfidf\": 0.19954878178926}, {\"document\": 13, \"term\": \"kilogram\", \"tfidf\": 0.1735371807406623}, {\"document\": 13, \"term\": \"belang\", \"tfidf\": 0.12160305608267813}, {\"document\": 13, \"term\": \"bewerken\", \"tfidf\": 0.12162307719188525}, {\"document\": 13, \"term\": \"drog\", \"tfidf\": 0.10519561961235865}, {\"document\": 14, \"term\": \"nek\", \"tfidf\": 0.429879548947144}, {\"document\": 14, \"term\": \"afknellen\", \"tfidf\": 0.30640349479895596}, {\"document\": 14, \"term\": \"knel\", \"tfidf\": 0.3064355406478424}, {\"document\": 14, \"term\": \"wurggreep\", \"tfidf\": 0.3063868548680944}, {\"document\": 14, \"term\": \"duim\", \"tfidf\": 0.278530350841258}, {\"document\": 14, \"term\": \"kracht\", \"tfidf\": 0.21412724946132378}, {\"document\": 14, \"term\": \"val\", \"tfidf\": 0.20564250246384744}, {\"document\": 14, \"term\": \"auto\", \"tfidf\": 0.19477255525331238}, {\"document\": 14, \"term\": \"meermalen\", \"tfidf\": 0.16524920367888377}, {\"document\": 14, \"term\": \"elk_geval\", \"tfidf\": 0.16158287157300466}, {\"document\": 15, \"term\": \"paspoort\", \"tfidf\": 0.458366462165817}, {\"document\": 15, \"term\": \"pasfoto\", \"tfidf\": 0.3911760571585305}, {\"document\": 15, \"term\": \"reisdocument\", \"tfidf\": 0.36477654442130625}, {\"document\": 15, \"term\": \"artikel\", \"tfidf\": 0.1588079150077641}, {\"document\": 15, \"term\": \"documentnummer\", \"tfidf\": 0.15653006792642815}, {\"document\": 15, \"term\": \"beroep\", \"tfidf\": 0.1545576516832884}, {\"document\": 15, \"term\": \"burgemeester\", \"tfidf\": 0.1459378945416686}, {\"document\": 15, \"term\": \"vonnis_waarvan\", \"tfidf\": 0.14297868733120836}, {\"document\": 15, \"term\": \"raadsman\", \"tfidf\": 0.130234187073769}, {\"document\": 15, \"term\": \"nationaal\", \"tfidf\": 0.12787556501779365}, {\"document\": 16, \"term\": \"sliding\", \"tfidf\": 0.41909228541816557}, {\"document\": 16, \"term\": \"tackelen\", \"tfidf\": 0.39080460066569994}, {\"document\": 16, \"term\": \"been\", \"tfidf\": 0.35657324807684027}, {\"document\": 16, \"term\": \"achteren\", \"tfidf\": 0.27866512669402216}, {\"document\": 16, \"term\": \"grovelijk\", \"tfidf\": 0.20955975234455887}, {\"document\": 16, \"term\": \"kruisband\", \"tfidf\": 0.2095311364689879}, {\"document\": 16, \"term\": \"linkerknie\", \"tfidf\": 0.20952723326556696}, {\"document\": 16, \"term\": \"nalatig\", \"tfidf\": 0.19537579836592564}, {\"document\": 16, \"term\": \"scheur\", \"tfidf\": 0.19547406538424847}, {\"document\": 16, \"term\": \"scheuren\", \"tfidf\": 0.18543612223913655}, {\"document\": 17, \"term\": \"politieshirt\", \"tfidf\": 0.6133227747570007}, {\"document\": 17, \"term\": \"shirt\", \"tfidf\": 0.30723779694621517}, {\"document\": 17, \"term\": \"betreffen\", \"tfidf\": 0.20571705207012927}, {\"document\": 17, \"term\": \"prijs\", \"tfidf\": 0.182353396299909}, {\"document\": 17, \"term\": \"kledingstuk\", \"tfidf\": 0.1716531661669502}, {\"document\": 17, \"term\": \"verkrijgen\", \"tfidf\": 0.1411307212743674}, {\"document\": 17, \"term\": \"afkomstig\", \"tfidf\": 0.136613913184032}, {\"document\": 17, \"term\": \"kleding\", \"tfidf\": 0.13094812823235852}, {\"document\": 17, \"term\": \"misdrijf\", \"tfidf\": 0.12604240274646109}, {\"document\": 17, \"term\": \"echt\", \"tfidf\": 0.11803640279664465}, {\"document\": 18, \"term\": \"ongeval\", \"tfidf\": 0.33223959713907647}, {\"document\": 18, \"term\": \"fietser\", \"tfidf\": 0.3272827010245027}, {\"document\": 18, \"term\": \"audi\", \"tfidf\": 0.30549709458103175}, {\"document\": 18, \"term\": \"bestuurder\", \"tfidf\": 0.19435382359431963}, {\"document\": 18, \"term\": \"krimpenerbosweg\", \"tfidf\": 0.1820689212901207}, {\"document\": 18, \"term\": \"middenberm\", \"tfidf\": 0.1820093073437434}, {\"document\": 18, \"term\": \"krimp\", \"tfidf\": 0.16971207316052864}, {\"document\": 18, \"term\": \"verkeersongeval\", \"tfidf\": 0.16804836676682192}, {\"document\": 18, \"term\": \"motorrijtuig\", \"tfidf\": 0.15994611930473926}, {\"document\": 18, \"term\": \"weg\", \"tfidf\": 0.15130573667143826}, {\"document\": 19, \"term\": \"lichaam\", \"tfidf\": 0.28665821693168614}, {\"document\": 19, \"term\": \"nauw\", \"tfidf\": 0.26565252663578043}, {\"document\": 19, \"term\": \"geweldpleging\", \"tfidf\": 0.25111240136564955}, {\"document\": 19, \"term\": \"leidsestraat\", \"tfidf\": 0.25111864229772596}, {\"document\": 19, \"term\": \"voornoemd\", \"tfidf\": 0.24472661750850452}, {\"document\": 19, \"term\": \"genoegzaam\", \"tfidf\": 0.20522034617431315}, {\"document\": 19, \"term\": \"opgemaakt\", \"tfidf\": 0.20528083973359768}, {\"document\": 19, \"term\": \"bewijsverweer\", \"tfidf\": 0.19880726878013535}, {\"document\": 19, \"term\": \"hoofd\", \"tfidf\": 0.1984715630738239}, {\"document\": 19, \"term\": \"medeverdacht\", \"tfidf\": 0.1973319711344912}, {\"document\": 20, \"term\": \"kledingwinkel\", \"tfidf\": 0.850618359059022}, {\"document\": 20, \"term\": \"verwijten\", \"tfidf\": 0.3085266600866512}, {\"document\": 20, \"term\": \"breken\", \"tfidf\": 0.2709090071538794}, {\"document\": 20, \"term\": \"medeverdacht\", \"tfidf\": 0.1792197385866777}, {\"document\": 20, \"term\": \"samen\", \"tfidf\": 0.17359950643466499}, {\"document\": 20, \"term\": \"zeggen\", \"tfidf\": 0.15286144662131218}, {\"document\": 20, \"term\": \"kort\", \"tfidf\": 0.14955282509787513}, {\"document\": 20, \"term\": \"aa_flesje\", \"tfidf\": 7.162926701479671e-05}, {\"document\": 20, \"term\": \"aagg_nl\", \"tfidf\": 4.857668621083234e-05}, {\"document\": 20, \"term\": \"aaik\", \"tfidf\": 4.0225604226321966e-05}, {\"document\": 21, \"term\": \"filmen\", \"tfidf\": 0.5089713561102549}, {\"document\": 21, \"term\": \"opname\", \"tfidf\": 0.30007009979173327}, {\"document\": 21, \"term\": \"gsm\", \"tfidf\": 0.2153887539258866}, {\"document\": 21, \"term\": \"toestemming\", \"tfidf\": 0.20610722534047163}, {\"document\": 21, \"term\": \"meisje\", \"tfidf\": 0.19709353860183954}, {\"document\": 21, \"term\": \"omkled\", \"tfidf\": 0.15493314574656977}, {\"document\": 21, \"term\": \"aangifte\", \"tfidf\": 0.1500602372000903}, {\"document\": 21, \"term\": \"proces_verbaal\", \"tfidf\": 0.1399345861582127}, {\"document\": 21, \"term\": \"texel\", \"tfidf\": 0.13275556828233176}, {\"document\": 21, \"term\": \"passen\", \"tfidf\": 0.12646574799711183}, {\"document\": 22, \"term\": \"beroep\", \"tfidf\": 0.3764022693120803}, {\"document\": 22, \"term\": \"vonnis_waarvan\", \"tfidf\": 0.34819037720105966}, {\"document\": 22, \"term\": \"springen\", \"tfidf\": 0.26251239396505616}, {\"document\": 22, \"term\": \"val\", \"tfidf\": 0.2384444546491478}, {\"document\": 22, \"term\": \"rennen\", \"tfidf\": 0.2185785501190116}, {\"document\": 22, \"term\": \"noodweerexce\", \"tfidf\": 0.19063805133579767}, {\"document\": 22, \"term\": \"ontslaan\", \"tfidf\": 0.1905935346313437}, {\"document\": 22, \"term\": \"mishandelen\", \"tfidf\": 0.1688796375552963}, {\"document\": 22, \"term\": \"krabben\", \"tfidf\": 0.1686731366994656}, {\"document\": 22, \"term\": \"lopen\", \"tfidf\": 0.15958588114206856}, {\"document\": 23, \"term\": \"woonplaats\", \"tfidf\": 0.35986381266023054}, {\"document\": 23, \"term\": \"vuurwapen\", \"tfidf\": 0.25423308533230216}, {\"document\": 23, \"term\": \"kogel\", \"tfidf\": 0.2469373501652963}, {\"document\": 23, \"term\": \"gemeente\", \"tfidf\": 0.2399897677613884}, {\"document\": 23, \"term\": \"tezamen\", \"tfidf\": 0.2097133573784061}, {\"document\": 23, \"term\": \"personenauto\", \"tfidf\": 0.20570609444568305}, {\"document\": 23, \"term\": \"alleen\", \"tfidf\": 0.20073412879344044}, {\"document\": 23, \"term\": \"vereniging\", \"tfidf\": 0.19689205343894858}, {\"document\": 23, \"term\": \"strafzaak\", \"tfidf\": 0.18191559210569072}, {\"document\": 23, \"term\": \"politieshirts\", \"tfidf\": 0.17929818528880015}, {\"document\": 24, \"term\": \"medeverdacht\", \"tfidf\": 0.34731885982141714}, {\"document\": 24, \"term\": \"herkenning\", \"tfidf\": 0.3314170177773988}, {\"document\": 24, \"term\": \"dader\", \"tfidf\": 0.299125377488835}, {\"document\": 24, \"term\": \"woning\", \"tfidf\": 0.2676589130429233}, {\"document\": 24, \"term\": \"berkel\", \"tfidf\": 0.2606880555930351}, {\"document\": 24, \"term\": \"bleiswijk\", \"tfidf\": 0.1374542064826987}, {\"document\": 24, \"term\": \"lansingerland\", \"tfidf\": 0.1374287686120753}, {\"document\": 24, \"term\": \"pandora\", \"tfidf\": 0.137456956165018}, {\"document\": 24, \"term\": \"rodenrij\", \"tfidf\": 0.1374290357317175}, {\"document\": 24, \"term\": \"aanhouding\", \"tfidf\": 0.13285905501916676}, {\"document\": 25, \"term\": \"getuige\", \"tfidf\": 0.40785341059152935}, {\"document\": 25, \"term\": \"verplichten\", \"tfidf\": 0.2733281179267544}, {\"document\": 25, \"term\": \"geheim\", \"tfidf\": 0.26479696640515044}, {\"document\": 25, \"term\": \"mevrouw\", \"tfidf\": 0.2648392979499545}, {\"document\": 25, \"term\": \"politie\", \"tfidf\": 0.24430780746707137}, {\"document\": 25, \"term\": \"opzoeken\", \"tfidf\": 0.23970908537076996}, {\"document\": 25, \"term\": \"bewaren\", \"tfidf\": 0.23481673578022869}, {\"document\": 25, \"term\": \"schenden\", \"tfidf\": 0.23482895984674415}, {\"document\": 25, \"term\": \"kamer\", \"tfidf\": 0.21225984253137345}, {\"document\": 25, \"term\": \"werkzaam\", \"tfidf\": 0.20369290831987866}, {\"document\": 26, \"term\": \"voorgenoemde\", \"tfidf\": 0.3398532860327883}, {\"document\": 26, \"term\": \"verschaffen\", \"tfidf\": 0.22944024931277393}, {\"document\": 26, \"term\": \"plaats\", \"tfidf\": 0.20922549496731174}, {\"document\": 26, \"term\": \"medeverdachen\", \"tfidf\": 0.20403203410638326}, {\"document\": 26, \"term\": \"woning\", \"tfidf\": 0.19705580781444793}, {\"document\": 26, \"term\": \"weg\", \"tfidf\": 0.1955743962011361}, {\"document\": 26, \"term\": \"misdrijf\", \"tfidf\": 0.18722763642855553}, {\"document\": 26, \"term\": \"verbreking\", \"tfidf\": 0.18572341449529925}, {\"document\": 26, \"term\": \"braak\", \"tfidf\": 0.18149664569242396}, {\"document\": 26, \"term\": \"bereik\", \"tfidf\": 0.1673644637338805}, {\"document\": 27, \"term\": \"stijgen\", \"tfidf\": 0.4827881434748905}, {\"document\": 27, \"term\": \"motorrijtuig\", \"tfidf\": 0.37921299582065904}, {\"document\": 27, \"term\": \"rijden\", \"tfidf\": 0.30913421038403766}, {\"document\": 27, \"term\": \"adres\", \"tfidf\": 0.21547997614216705}, {\"document\": 27, \"term\": \"scooter\", \"tfidf\": 0.18974838139429767}, {\"document\": 27, \"term\": \"bestuurder\", \"tfidf\": 0.18431560454891951}, {\"document\": 27, \"term\": \"ongeval\", \"tfidf\": 0.17309938549568685}, {\"document\": 27, \"term\": \"woonplaats\", \"tfidf\": 0.16970043837143992}, {\"document\": 27, \"term\": \"veroorzaken\", \"tfidf\": 0.16645174832231413}, {\"document\": 27, \"term\": \"verkeersongeval\", \"tfidf\": 0.15183182518835753}, {\"document\": 28, \"term\": \"filiaal\", \"tfidf\": 0.6718984476295787}, {\"document\": 28, \"term\": \"brood\", \"tfidf\": 0.40717441924134107}, {\"document\": 28, \"term\": \"albert_heijn\", \"tfidf\": 0.37012783229300944}, {\"document\": 28, \"term\": \"winkelbedrijf\", \"tfidf\": 0.3568794708312416}, {\"document\": 28, \"term\": \"toeeigening\", \"tfidf\": 0.2173323189696831}, {\"document\": 28, \"term\": \"wegnemen\", \"tfidf\": 0.15786577852563907}, {\"document\": 28, \"term\": \"enig_goed\", \"tfidf\": 0.15052047053544368}, {\"document\": 28, \"term\": \"geheel\", \"tfidf\": 0.124126984617808}, {\"document\": 28, \"term\": \"laste_gelegd\", \"tfidf\": 0.09221125058870991}, {\"document\": 28, \"term\": \"aa_flesje\", \"tfidf\": 7.124017625718745e-05}, {\"document\": 29, \"term\": \"kruidvat\", \"tfidf\": 0.3822813173963598}, {\"document\": 29, \"term\": \"landelijk\", \"tfidf\": 0.3627245221855883}, {\"document\": 29, \"term\": \"vervangen\", \"tfidf\": 0.3474411375735706}, {\"document\": 29, \"term\": \"winkeldiefstal\", \"tfidf\": 0.34745893687674445}, {\"document\": 29, \"term\": \"onderneming\", \"tfidf\": 0.3245364443843832}, {\"document\": 29, \"term\": \"bespreken\", \"tfidf\": 0.27259407484995535}, {\"document\": 29, \"term\": \"vestigen\", \"tfidf\": 0.26410241835232384}, {\"document\": 29, \"term\": \"bewijsmiddel\", \"tfidf\": 0.24172506002228375}, {\"document\": 29, \"term\": \"verhoor\", \"tfidf\": 0.19773678578230963}, {\"document\": 29, \"term\": \"voeren\", \"tfidf\": 0.19768235238920043}, {\"document\": 30, \"term\": \"vordering\", \"tfidf\": 0.274957402133376}, {\"document\": 30, \"term\": \"organisatie\", \"tfidf\": 0.2530658768843884}, {\"document\": 30, \"term\": \"rijbewijs\", \"tfidf\": 0.22399980358902372}, {\"document\": 30, \"term\": \"hertogenbosch\", \"tfidf\": 0.19585488895230055}, {\"document\": 30, \"term\": \"vals\", \"tfidf\": 0.1527466244326024}, {\"document\": 30, \"term\": \"euro\", \"tfidf\": 0.13598171894467528}, {\"document\": 30, \"term\": \"rekeningnummer\", \"tfidf\": 0.13543936244211935}, {\"document\": 30, \"term\": \"schade\", \"tfidf\": 0.13083312257476648}, {\"document\": 30, \"term\": \"bankrekening\", \"tfidf\": 0.1227021510371071}, {\"document\": 30, \"term\": \"gegeven\", \"tfidf\": 0.12227418948513265}, {\"document\": 31, \"term\": \"badschuim\", \"tfidf\": 0.31868022241303384}, {\"document\": 31, \"term\": \"eto\", \"tfidf\": 0.318694003147527}, {\"document\": 31, \"term\": \"nivea\", \"tfidf\": 0.3187324036317049}, {\"document\": 31, \"term\": \"vonnis_waarvan\", \"tfidf\": 0.2911441379904842}, {\"document\": 31, \"term\": \"vordering\", \"tfidf\": 0.26544164012445226}, {\"document\": 31, \"term\": \"beroep\", \"tfidf\": 0.23605749970265252}, {\"document\": 31, \"term\": \"fles\", \"tfidf\": 0.22376533446295283}, {\"document\": 31, \"term\": \"gravenhage\", \"tfidf\": 0.21950345971122945}, {\"document\": 31, \"term\": \"vestigen\", \"tfidf\": 0.20531971362813764}, {\"document\": 31, \"term\": \"vorderen\", \"tfidf\": 0.17179775020218926}, {\"document\": 32, \"term\": \"klui\", \"tfidf\": 0.41258698220314494}, {\"document\": 32, \"term\": \"polis\", \"tfidf\": 0.41265549557671194}, {\"document\": 32, \"term\": \"siera\", \"tfidf\": 0.4126133414897944}, {\"document\": 32, \"term\": \"sen\", \"tfidf\": 0.27911070454173753}, {\"document\": 32, \"term\": \"euro\", \"tfidf\": 0.2124044329547901}, {\"document\": 32, \"term\": \"delict\", \"tfidf\": 0.2054332333128716}, {\"document\": 32, \"term\": \"toeeigening\", \"tfidf\": 0.20541931488644374}, {\"document\": 32, \"term\": \"totaal\", \"tfidf\": 0.2005261256448405}, {\"document\": 32, \"term\": \"ongeveer\", \"tfidf\": 0.17277110881131266}, {\"document\": 32, \"term\": \"geld\", \"tfidf\": 0.16775550883268253}, {\"document\": 33, \"term\": \"nek\", \"tfidf\": 0.4298825783288714}, {\"document\": 33, \"term\": \"afknellen\", \"tfidf\": 0.306419078690256}, {\"document\": 33, \"term\": \"knel\", \"tfidf\": 0.3064175183465933}, {\"document\": 33, \"term\": \"wurggreep\", \"tfidf\": 0.3064211121481625}, {\"document\": 33, \"term\": \"duim\", \"tfidf\": 0.278523014084172}, {\"document\": 33, \"term\": \"kracht\", \"tfidf\": 0.21415455096391736}, {\"document\": 33, \"term\": \"val\", \"tfidf\": 0.20554507249338405}, {\"document\": 33, \"term\": \"auto\", \"tfidf\": 0.19479797389880504}, {\"document\": 33, \"term\": \"meermalen\", \"tfidf\": 0.16522977818719073}, {\"document\": 33, \"term\": \"elk_geval\", \"tfidf\": 0.1615262748833835}, {\"document\": 34, \"term\": \"cafe\", \"tfidf\": 0.4291678461309064}, {\"document\": 34, \"term\": \"getuige\", \"tfidf\": 0.32007034924967215}, {\"document\": 34, \"term\": \"jongen\", \"tfidf\": 0.2610285429740913}, {\"document\": 34, \"term\": \"aanloop\", \"tfidf\": 0.17815174070168371}, {\"document\": 34, \"term\": \"nummeren\", \"tfidf\": 0.16879387889794462}, {\"document\": 34, \"term\": \"pl\", \"tfidf\": 0.16874941183608197}, {\"document\": 34, \"term\": \"tackle\", \"tfidf\": 0.16879066386081276}, {\"document\": 34, \"term\": \"grijpen\", \"tfidf\": 0.16874149280703388}, {\"document\": 34, \"term\": \"onverhoeds\", \"tfidf\": 0.1647866928613397}, {\"document\": 34, \"term\": \"verhogen\", \"tfidf\": 0.15742875836320372}, {\"document\": 35, \"term\": \"medeverdacht\", \"tfidf\": 0.5008360550661408}, {\"document\": 35, \"term\": \"verhoor\", \"tfidf\": 0.24588633080806188}, {\"document\": 35, \"term\": \"suggestie\", \"tfidf\": 0.20396434550981282}, {\"document\": 35, \"term\": \"vuurwapen\", \"tfidf\": 0.17350114870069375}, {\"document\": 35, \"term\": \"gebruiken\", \"tfidf\": 0.14341839794165195}, {\"document\": 35, \"term\": \"laat\", \"tfidf\": 0.13824020361056227}, {\"document\": 35, \"term\": \"dna\", \"tfidf\": 0.131368641029056}, {\"document\": 35, \"term\": \"elektrisch\", \"tfidf\": 0.12963668722268917}, {\"document\": 35, \"term\": \"medeverdachen\", \"tfidf\": 0.12113880565265897}, {\"document\": 35, \"term\": \"noemen\", \"tfidf\": 0.12088601739240645}, {\"document\": 36, \"term\": \"koord\", \"tfidf\": 0.44177840028274884}, {\"document\": 36, \"term\": \"touw\", \"tfidf\": 0.3497984624209673}, {\"document\": 36, \"term\": \"vastbinden\", \"tfidf\": 0.3313001118307863}, {\"document\": 36, \"term\": \"binden\", \"tfidf\": 0.32359247177981726}, {\"document\": 36, \"term\": \"bed\", \"tfidf\": 0.29377815068448415}, {\"document\": 36, \"term\": \"kind\", \"tfidf\": 0.2691153379689006}, {\"document\": 36, \"term\": \"tijdstip_pen\", \"tfidf\": 0.2691071767224468}, {\"document\": 36, \"term\": \"arm\", \"tfidf\": 0.2053688633904564}, {\"document\": 36, \"term\": \"mishandelen\", \"tfidf\": 0.19578900441404487}, {\"document\": 36, \"term\": \"laten\", \"tfidf\": 0.18720430770519167}, {\"document\": 37, \"term\": \"hennepplant\", \"tfidf\": 0.5318783303546657}, {\"document\": 37, \"term\": \"loods\", \"tfidf\": 0.28957510506797274}, {\"document\": 37, \"term\": \"hennep\", \"tfidf\": 0.23829981741119083}, {\"document\": 37, \"term\": \"pand\", \"tfidf\": 0.22933160514315035}, {\"document\": 37, \"term\": \"tijdstip\", \"tfidf\": 0.18344976111851968}, {\"document\": 37, \"term\": \"wijch\", \"tfidf\": 0.1801218461257448}, {\"document\": 37, \"term\": \"wijchen\", \"tfidf\": 0.18006053593845112}, {\"document\": 37, \"term\": \"ongeveer\", \"tfidf\": 0.1616395910746217}, {\"document\": 37, \"term\": \"telkens\", \"tfidf\": 0.14615902317666668}, {\"document\": 37, \"term\": \"bestuur\", \"tfidf\": 0.14478672882479307}, {\"document\": 38, \"term\": \"vagina\", \"tfidf\": 0.382748422344527}, {\"document\": 38, \"term\": \"borst\", \"tfidf\": 0.30558512562925605}, {\"document\": 38, \"term\": \"heerhugowaard\", \"tfidf\": 0.23115425054008887}, {\"document\": 38, \"term\": \"naakt\", \"tfidf\": 0.2086230316423719}, {\"document\": 38, \"term\": \"leeftijd\", \"tfidf\": 0.19375275115414745}, {\"document\": 38, \"term\": \"versturen\", \"tfidf\": 0.18925815293585058}, {\"document\": 38, \"term\": \"telkens\", \"tfidf\": 0.17499729041464368}, {\"document\": 38, \"term\": \"kleding\", \"tfidf\": 0.17433890030458446}, {\"document\": 38, \"term\": \"alkmaar\", \"tfidf\": 0.16928844719646596}, {\"document\": 38, \"term\": \"foto\", \"tfidf\": 0.16415991203049402}, {\"document\": 39, \"term\": \"kwartaal\", \"tfidf\": 0.5459756816011294}, {\"document\": 39, \"term\": \"plof\", \"tfidf\": 0.5138052448155037}, {\"document\": 39, \"term\": \"aangifte\", \"tfidf\": 0.24493719645782855}, {\"document\": 39, \"term\": \"betrekking\", \"tfidf\": 0.1716986448205583}, {\"document\": 39, \"term\": \"telkens\", \"tfidf\": 0.1458604498686554}, {\"document\": 39, \"term\": \"belasting\", \"tfidf\": 0.13610163838995556}, {\"document\": 39, \"term\": \"heffen\", \"tfidf\": 0.13611097568145064}, {\"document\": 39, \"term\": \"factu\", \"tfidf\": 0.12847673481596644}, {\"document\": 39, \"term\": \"reeuwijk\", \"tfidf\": 0.12852172811064005}, {\"document\": 39, \"term\": \"apeldoorn\", \"tfidf\": 0.11364051379154685}, {\"document\": 40, \"term\": \"bestelbus\", \"tfidf\": 0.47719148732603134}, {\"document\": 40, \"term\": \"loods\", \"tfidf\": 0.3288786179553254}, {\"document\": 40, \"term\": \"medeverdacht\", \"tfidf\": 0.28722621957811756}, {\"document\": 40, \"term\": \"bavel\", \"tfidf\": 0.268085089620993}, {\"document\": 40, \"term\": \"amfetamine\", \"tfidf\": 0.18751320873630248}, {\"document\": 40, \"term\": \"geldrop\", \"tfidf\": 0.17055132076951282}, {\"document\": 40, \"term\": \"jerrycan\", \"tfidf\": 0.16524011457294732}, {\"document\": 40, \"term\": \"zoutzuur\", \"tfidf\": 0.14621001879823747}, {\"document\": 40, \"term\": \"opslag\", \"tfidf\": 0.14460578532625074}, {\"document\": 40, \"term\": \"vaten\", \"tfidf\": 0.13642599246429712}, {\"document\": 41, \"term\": \"hennepkwekerij\", \"tfidf\": 0.35684847952043586}, {\"document\": 41, \"term\": \"pand\", \"tfidf\": 0.22040725484102874}, {\"document\": 41, \"term\": \"woonplaats\", \"tfidf\": 0.21278462746294557}, {\"document\": 41, \"term\": \"aantreffen\", \"tfidf\": 0.2074219550890702}, {\"document\": 41, \"term\": \"ruimte\", \"tfidf\": 0.2060857464278206}, {\"document\": 41, \"term\": \"hennep\", \"tfidf\": 0.20039984198614455}, {\"document\": 41, \"term\": \"medeverdacht\", \"tfidf\": 0.18221982716577698}, {\"document\": 41, \"term\": \"adres\", \"tfidf\": 0.17835427145209898}, {\"document\": 41, \"term\": \"hennepplantage\", \"tfidf\": 0.1730140357688271}, {\"document\": 41, \"term\": \"hennepplant\", \"tfidf\": 0.15971929381974098}, {\"document\": 42, \"term\": \"voetganger\", \"tfidf\": 0.35918500156037997}, {\"document\": 42, \"term\": \"ongeval\", \"tfidf\": 0.28374723656298706}, {\"document\": 42, \"term\": \"rijden\", \"tfidf\": 0.2814762603809631}, {\"document\": 42, \"term\": \"aanrijding\", \"tfidf\": 0.23016526813190244}, {\"document\": 42, \"term\": \"rijbewijs\", \"tfidf\": 0.18919738944463768}, {\"document\": 42, \"term\": \"fietser\", \"tfidf\": 0.16519996094574535}, {\"document\": 42, \"term\": \"epilepsie\", \"tfidf\": 0.1572180172551256}, {\"document\": 42, \"term\": \"weg\", \"tfidf\": 0.13991340649522394}, {\"document\": 42, \"term\": \"verkeersongeval\", \"tfidf\": 0.13818419961618064}, {\"document\": 42, \"term\": \"keuringsarts\", \"tfidf\": 0.1347443879572215}, {\"document\": 43, \"term\": \"letsel\", \"tfidf\": 0.38344225407988414}, {\"document\": 43, \"term\": \"ondeugdelijk\", \"tfidf\": 0.3468502793474559}, {\"document\": 43, \"term\": \"souvenir\", \"tfidf\": 0.24803030505968676}, {\"document\": 43, \"term\": \"honkbalknuppel\", \"tfidf\": 0.21017932272314374}, {\"document\": 43, \"term\": \"toebreng\", \"tfidf\": 0.16488154454574397}, {\"document\": 43, \"term\": \"stelen\", \"tfidf\": 0.15108542622256316}, {\"document\": 43, \"term\": \"middel\", \"tfidf\": 0.13935265911566008}, {\"document\": 43, \"term\": \"slaan\", \"tfidf\": 0.1344778529184306}, {\"document\": 43, \"term\": \"dergelijk\", \"tfidf\": 0.13245330536880995}, {\"document\": 43, \"term\": \"uitvoering\", \"tfidf\": 0.13067282635576416}, {\"document\": 44, \"term\": \"veroordelen\", \"tfidf\": 0.5653060820772984}, {\"document\": 44, \"term\": \"voordeel\", \"tfidf\": 0.41482484085833055}, {\"document\": 44, \"term\": \"onderneming\", \"tfidf\": 0.2731531263151126}, {\"document\": 44, \"term\": \"berekening\", \"tfidf\": 0.15173512749083384}, {\"document\": 44, \"term\": \"genieten\", \"tfidf\": 0.14752467358040547}, {\"document\": 44, \"term\": \"client\", \"tfidf\": 0.1356548994040116}, {\"document\": 44, \"term\": \"ontneming\", \"tfidf\": 0.1356645552667279}, {\"document\": 44, \"term\": \"belasting\", \"tfidf\": 0.1299431766457383}, {\"document\": 44, \"term\": \"lening\", \"tfidf\": 0.12996118974949325}, {\"document\": 44, \"term\": \"betalen\", \"tfidf\": 0.12403365688885312}, {\"document\": 45, \"term\": \"minuut\", \"tfidf\": 0.27192105102452957}, {\"document\": 45, \"term\": \"alleen\", \"tfidf\": 0.2531921810065035}, {\"document\": 45, \"term\": \"duwen\", \"tfidf\": 0.22334839969184064}, {\"document\": 45, \"term\": \"feitelijkheid\", \"tfidf\": 0.2219244332939536}, {\"document\": 45, \"term\": \"poot\", \"tfidf\": 0.1917302228517789}, {\"document\": 45, \"term\": \"geweld\", \"tfidf\": 0.17680973403139733}, {\"document\": 45, \"term\": \"mede_bestonden\", \"tfidf\": 0.17399751104109773}, {\"document\": 45, \"term\": \"gelijke_aard\", \"tfidf\": 0.16955865732299572}, {\"document\": 45, \"term\": \"ondergaan\", \"tfidf\": 0.16959425707583728}, {\"document\": 45, \"term\": \"pols\", \"tfidf\": 0.16960592929522209}, {\"document\": 46, \"term\": \"mierd\", \"tfidf\": 0.5170144566668151}, {\"document\": 46, \"term\": \"militaire_kamer\", \"tfidf\": 0.457505214019269}, {\"document\": 46, \"term\": \"meerdere_mal\", \"tfidf\": 0.3109612323443649}, {\"document\": 46, \"term\": \"stomp\", \"tfidf\": 0.3109358964708414}, {\"document\": 46, \"term\": \"wijziging\", \"tfidf\": 0.2760105208469576}, {\"document\": 46, \"term\": \"duwen\", \"tfidf\": 0.2553515199992794}, {\"document\": 46, \"term\": \"mishandelen\", \"tfidf\": 0.229027172863875}, {\"document\": 46, \"term\": \"kracht\", \"tfidf\": 0.22461534826313706}, {\"document\": 46, \"term\": \"gemeente\", \"tfidf\": 0.19783634121115565}, {\"document\": 46, \"term\": \"slaan\", \"tfidf\": 0.18702731616740526}, {\"document\": 47, \"term\": \"afbeelding\", \"tfidf\": 0.3580469127536608}, {\"document\": 47, \"term\": \"insmeren\", \"tfidf\": 0.26304805132277836}, {\"document\": 47, \"term\": \"verspreid\", \"tfidf\": 0.26307575707945574}, {\"document\": 47, \"term\": \"gegevensdrager\", \"tfidf\": 0.2115221039972375}, {\"document\": 47, \"term\": \"verspreiden\", \"tfidf\": 0.19804305832552418}, {\"document\": 47, \"term\": \"foto\", \"tfidf\": 0.19128229578750314}, {\"document\": 47, \"term\": \"bezit\", \"tfidf\": 0.16964180447418686}, {\"document\": 47, \"term\": \"been\", \"tfidf\": 0.1600706990834507}, {\"document\": 47, \"term\": \"aanbied\", \"tfidf\": 0.14106106964209505}, {\"document\": 47, \"term\": \"opgewonden\", \"tfidf\": 0.1410720303191096}, {\"document\": 48, \"term\": \"veroordelen\", \"tfidf\": 0.45024306323956037}, {\"document\": 48, \"term\": \"voordeel\", \"tfidf\": 0.44218089022784873}, {\"document\": 48, \"term\": \"bedrijf\", \"tfidf\": 0.2860117181552995}, {\"document\": 48, \"term\": \"berekening\", \"tfidf\": 0.22182108061866956}, {\"document\": 48, \"term\": \"winstverdeling\", \"tfidf\": 0.17419894562271726}, {\"document\": 48, \"term\": \"factuur\", \"tfidf\": 0.17100335720328144}, {\"document\": 48, \"term\": \"inkomst\", \"tfidf\": 0.16085621354276344}, {\"document\": 48, \"term\": \"beslag\", \"tfidf\": 0.1478907307695306}, {\"document\": 48, \"term\": \"persoon\", \"tfidf\": 0.1471895687377299}, {\"document\": 48, \"term\": \"zorgfraud\", \"tfidf\": 0.12401396364168908}, {\"document\": 49, \"term\": \"bedrijf\", \"tfidf\": 0.7307360967939703}, {\"document\": 49, \"term\": \"tijdstip\", \"tfidf\": 0.3400508628012441}, {\"document\": 49, \"term\": \"auto\", \"tfidf\": 0.2828830274808187}, {\"document\": 49, \"term\": \"enig_goed\", \"tfidf\": 0.24666415278645326}, {\"document\": 49, \"term\": \"elk_geval\", \"tfidf\": 0.23461432479093436}, {\"document\": 49, \"term\": \"periode\", \"tfidf\": 0.22954912761076623}, {\"document\": 49, \"term\": \"geheel\", \"tfidf\": 0.2035849457463093}, {\"document\": 49, \"term\": \"opzettelijk\", \"tfidf\": 0.19426222037696203}, {\"document\": 49, \"term\": \"laste_gelegd\", \"tfidf\": 0.15104210413581315}, {\"document\": 49, \"term\": \"aa_flesje\", \"tfidf\": 9.326671598940528e-05}]}}, {\"mode\": \"vega-lite\"});\n",
       "</script>"
      ],
      "text/plain": [
       "alt.LayerChart(...)"
      ]
     },
     "execution_count": 6,
     "metadata": {},
     "output_type": "execute_result"
    }
   ],
   "source": [
    "import altair as alt\n",
    "import numpy as np\n",
    "\n",
    "# 18 = 0 / 19 = 1 / 20 = 2 / 21 = 3\n",
    "\n",
    "a = 0\n",
    "\n",
    "# Terms in this list will get a red dot in the visualization\n",
    "term_list = ['kledingwinkel', 'albert_heijn'] # Highlight the words of interest\n",
    "\n",
    "# adding a little randomness to break ties in term ranking\n",
    "top_tfidf_plusRand = top_idfs[a].copy()\n",
    "top_tfidf_plusRand = top_tfidf_plusRand.iloc[:500,]\n",
    "top_tfidf_plusRand['tfidf'] = top_tfidf_plusRand['tfidf'] + np.random.rand(top_tfidf_plusRand.shape[0])*0.0001\n",
    "\n",
    "# base for all visualizations, with rank calculation\n",
    "base = alt.Chart(top_tfidf_plusRand).encode(\n",
    "    x = 'rank:O',\n",
    "    y = 'document:N'\n",
    ").transform_window(\n",
    "    rank = \"rank()\",\n",
    "    sort = [alt.SortField(\"tfidf\", order=\"descending\")],\n",
    "    groupby = [\"document\"],\n",
    ")\n",
    "\n",
    "# heatmap specification\n",
    "heatmap = base.mark_rect().encode(\n",
    "    color = 'tfidf:Q'\n",
    ")\n",
    "\n",
    "# red circle over terms in above list\n",
    "circle = base.mark_circle(size=100).encode(\n",
    "    color = alt.condition(\n",
    "        alt.FieldOneOfPredicate(field='term', oneOf=term_list),\n",
    "        alt.value('red'),\n",
    "        alt.value('#FFFFFF00')        \n",
    "    )\n",
    ")\n",
    "\n",
    "# text labels, white for darker heatmap colors\n",
    "text = base.mark_text(baseline='middle').encode(\n",
    "    text = 'term:N',\n",
    "    color = alt.condition(alt.datum.tfidf >= 0.23, alt.value('white'), alt.value('black'))\n",
    ")\n",
    "\n",
    "# display the three superimposed visualizations\n",
    "(heatmap + circle + text).properties(width = 1200)"
   ]
  },
  {
   "cell_type": "code",
   "execution_count": null,
   "metadata": {},
   "outputs": [],
   "source": []
  },
  {
   "cell_type": "markdown",
   "metadata": {},
   "source": [
    "# Scattertext"
   ]
  },
  {
   "cell_type": "code",
   "execution_count": 18,
   "metadata": {},
   "outputs": [
    {
     "data": {
      "text/html": [
       "<style>.container { width:98% !important; }</style>"
      ],
      "text/plain": [
       "<IPython.core.display.HTML object>"
      ]
     },
     "metadata": {},
     "output_type": "display_data"
    }
   ],
   "source": [
    "import scattertext as st\n",
    "import re, io\n",
    "from pprint import pprint\n",
    "import pandas as pd\n",
    "import numpy as np\n",
    "from scipy.stats import rankdata, hmean, norm\n",
    "import spacy\n",
    "import os, pkgutil, json, urllib\n",
    "from urllib.request import urlopen\n",
    "from IPython.display import IFrame\n",
    "from IPython.core.display import display, HTML\n",
    "from scattertext import CorpusFromPandas, produce_scattertext_explorer\n",
    "display(HTML(\"<style>.container { width:98% !important; }</style>\"))"
   ]
  },
  {
   "cell_type": "code",
   "execution_count": 19,
   "metadata": {},
   "outputs": [
    {
     "data": {
      "text/html": [
       "<style>.container { width:98% !important; }</style>"
      ],
      "text/plain": [
       "<IPython.core.display.HTML object>"
      ]
     },
     "metadata": {},
     "output_type": "display_data"
    }
   ],
   "source": [
    "import scattertext as st\n",
    "import re, io\n",
    "from pprint import pprint\n",
    "import pandas as pd\n",
    "import numpy as np\n",
    "from scipy.stats import rankdata, hmean, norm\n",
    "import spacy\n",
    "import os, pkgutil, json, urllib\n",
    "from urllib.request import urlopen\n",
    "from IPython.display import IFrame\n",
    "from IPython.core.display import display, HTML\n",
    "from scattertext import CorpusFromPandas, produce_scattertext_explorer\n",
    "import selenium\n",
    "from selenium import webdriver\n",
    "import webbrowser\n",
    "import codecs\n",
    "display(HTML(\"<style>.container { width:98% !important; }</style>\"))"
   ]
  },
  {
   "cell_type": "code",
   "execution_count": 20,
   "metadata": {},
   "outputs": [],
   "source": [
    "\n",
    "df18['year'] = df18['year'].astype(\"string\")\n",
    "df19['year'] = df19['year'].astype(\"string\")\n",
    "df20['year'] = df20['year'].astype(\"string\")\n",
    "df21['year'] = df21['year'].astype(\"string\")\n",
    "\n",
    "frames = [df18, df19]\n",
    "\n",
    "result = pd.concat(frames)\n",
    "\n",
    "nlp = spacy.load(\"nl_core_news_sm\")"
   ]
  },
  {
   "cell_type": "code",
   "execution_count": 44,
   "metadata": {},
   "outputs": [],
   "source": [
    "result['lemm'] = str(result['lemm'])"
   ]
  },
  {
   "cell_type": "code",
   "execution_count": 49,
   "metadata": {},
   "outputs": [
    {
     "data": {
      "text/plain": [
       "'date\\n2018-01-08    laste_gelegd periode oostenrijk opzettelijk mi...\\n2018-01-24    bewijsverweren terechtzitting raadsman standpu...\\n2018-01-26    bewijsmiddel volgen bewonen vrouw zoon vrijsta...\\n2018-01-26    primair plaats gemeente gemeente uitvoering op...\\n2018-01-03    zover oordeel onderwerpen laste_gelegd zaak pa...\\n                                    ...                        \\n2019-01-18    laste_gelegd bleiswijk dollar oekraiens rijbew...\\n2019-01-28    standpunt rekwireren primair primair laste_gel...\\n2019-01-23    poging doodslag vleesmes totaal lengte centime...\\n2019-01-25    bewijsmiddel thuiskomen woning straatnaam woon...\\n2019-01-02    bijlage parketnummer toewijzen vordering nader...\\nName: lemm, Length: 606, dtype: object'"
      ]
     },
     "execution_count": 49,
     "metadata": {},
     "output_type": "execute_result"
    }
   ],
   "source": [
    "result['lemm'][0]"
   ]
  },
  {
   "cell_type": "code",
   "execution_count": 45,
   "metadata": {
    "collapsed": true
   },
   "outputs": [],
   "source": [
    "result['parsed'] = result.lemm.apply(nlp)"
   ]
  },
  {
   "cell_type": "code",
   "execution_count": 46,
   "metadata": {},
   "outputs": [],
   "source": [
    "result = result.rename(columns={\"Unnamed: 0\": \"Doc_Number\"})\n",
    "result[\"Doc_Number\"] = result[\"Doc_Number\"].astype(\"category\")\n",
    "result[\"year\"] = result[\"year\"].astype(\"category\")"
   ]
  },
  {
   "cell_type": "code",
   "execution_count": 47,
   "metadata": {
    "collapsed": true
   },
   "outputs": [],
   "source": [
    "corpus_scat_text = st.CorpusFromParsedDocuments(result, category_col='year', parsed_col='parsed').build()"
   ]
  },
  {
   "cell_type": "code",
   "execution_count": 31,
   "metadata": {},
   "outputs": [],
   "source": [
    "html = produce_scattertext_explorer(corpus_scat_text,\n",
    "                                    category='2018',\n",
    "                                    category_name='2018',\n",
    "                                    not_category_name='2019',\n",
    "                                    width_in_pixels=1000,\n",
    "                                    minimum_term_frequency=5,\n",
    "                                    metadata=corpus_scat_text.get_df()['filename'],\n",
    "                                    transform= st.Scalers.log_scale_standardize) \n"
   ]
  },
  {
   "cell_type": "code",
   "execution_count": 32,
   "metadata": {
    "scrolled": false
   },
   "outputs": [
    {
     "data": {
      "text/html": [
       "\n",
       "        <iframe\n",
       "            width=\"1200\"\n",
       "            height=\"700\"\n",
       "            src=\"result_scatter_scale.html\"\n",
       "            frameborder=\"0\"\n",
       "            allowfullscreen\n",
       "        ></iframe>\n",
       "        "
      ],
      "text/plain": [
       "<IPython.lib.display.IFrame at 0x7feb8999cf10>"
      ]
     },
     "execution_count": 32,
     "metadata": {},
     "output_type": "execute_result"
    }
   ],
   "source": [
    "import codecs\n",
    "import webbrowser\n",
    "import IPython\n",
    "\n",
    "file_name = 'result_scatter_scale.html'\n",
    "open(file_name, 'wb').write(html.encode('utf-8'))\n",
    "IFrame(src=file_name, width = 1200, height=700)"
   ]
  },
  {
   "cell_type": "code",
   "execution_count": null,
   "metadata": {},
   "outputs": [],
   "source": []
  },
  {
   "cell_type": "code",
   "execution_count": null,
   "metadata": {},
   "outputs": [],
   "source": []
  },
  {
   "cell_type": "code",
   "execution_count": null,
   "metadata": {},
   "outputs": [],
   "source": []
  },
  {
   "cell_type": "code",
   "execution_count": null,
   "metadata": {},
   "outputs": [],
   "source": []
  },
  {
   "cell_type": "code",
   "execution_count": null,
   "metadata": {},
   "outputs": [],
   "source": []
  },
  {
   "cell_type": "code",
   "execution_count": null,
   "metadata": {},
   "outputs": [],
   "source": [
    "# d = [df18, df19, df20, df21] # Savable - done\n",
    "#q = 1\n",
    "#lda_models = [] # gensim.models.ldamodel.LdaModel - done\n",
    "#dat_lems = [] # its a list - try - this should be in the dat column lemm - done\n",
    "#corps = [] # its a list - try - done\n",
    "#ids = [] # gensim - seperate df - done\n",
    "#top_idfs = [] # savable - done"
   ]
  },
  {
   "cell_type": "code",
   "execution_count": 20,
   "metadata": {},
   "outputs": [
    {
     "data": {
      "text/plain": [
       "numpy.int64"
      ]
     },
     "execution_count": 20,
     "metadata": {},
     "output_type": "execute_result"
    }
   ],
   "source": [
    "type(df18['year'][0])"
   ]
  },
  {
   "cell_type": "code",
   "execution_count": null,
   "metadata": {},
   "outputs": [],
   "source": []
  }
 ],
 "metadata": {
  "interpreter": {
   "hash": "40d3a090f54c6569ab1632332b64b2c03c39dcf918b08424e98f38b5ae0af88f"
  },
  "kernelspec": {
   "display_name": "Python 3",
   "language": "python",
   "name": "python3"
  },
  "language_info": {
   "codemirror_mode": {
    "name": "ipython",
    "version": 3
   },
   "file_extension": ".py",
   "mimetype": "text/x-python",
   "name": "python",
   "nbconvert_exporter": "python",
   "pygments_lexer": "ipython3",
   "version": "3.7.10"
  }
 },
 "nbformat": 4,
 "nbformat_minor": 2
}
