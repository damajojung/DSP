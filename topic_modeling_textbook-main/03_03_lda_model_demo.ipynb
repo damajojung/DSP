{
 "cells": [
  {
   "cell_type": "markdown",
   "metadata": {},
   "source": [
    "# <center>Implementing LDA in Python</center>"
   ]
  },
  {
   "cell_type": "markdown",
   "metadata": {},
   "source": [
    "<center>Dr. W.J.B. Mattingly</center>\n",
    "\n",
    "<center>Smithsonian Data Science Lab and United States Holocaust Memorial Museum</center>\n",
    "\n",
    "<center>February 2021</center>"
   ]
  },
  {
   "cell_type": "markdown",
   "metadata": {},
   "source": [
    "## Key Concepts in this Notebook"
   ]
  },
  {
   "cell_type": "markdown",
   "metadata": {},
   "source": []
  },
  {
   "cell_type": "markdown",
   "metadata": {},
   "source": [
    "## Introduction"
   ]
  },
  {
   "cell_type": "markdown",
   "metadata": {},
   "source": [
    " "
   ]
  },
  {
   "cell_type": "markdown",
   "metadata": {},
   "source": [
    "## Importing the Required Libraries"
   ]
  },
  {
   "cell_type": "code",
   "execution_count": 18,
   "metadata": {},
   "outputs": [],
   "source": [
    "#https://www.machinelearningplus.com/nlp/topic-modeling-gensim-python/#1introduction\n",
    "import numpy as np\n",
    "import json\n",
    "import glob\n",
    "\n",
    "#Gensim\n",
    "import gensim\n",
    "import gensim.corpora as corpora\n",
    "from gensim.utils import simple_preprocess\n",
    "from gensim.models import CoherenceModel\n",
    "\n",
    "#spacy\n",
    "import spacy\n",
    "from nltk.corpus import stopwords\n",
    "\n",
    "#vis\n",
    "import pyLDAvis\n",
    "# import pyLDAvis.gensim\n",
    "\n",
    "import pyLDAvis.gensim_models as gensimvis\n",
    "\n",
    "import warnings\n",
    "warnings.filterwarnings(\"ignore\", category=DeprecationWarning)"
   ]
  },
  {
   "cell_type": "markdown",
   "metadata": {},
   "source": [
    "## Preparing the Data"
   ]
  },
  {
   "cell_type": "code",
   "execution_count": 3,
   "metadata": {},
   "outputs": [],
   "source": [
    "def load_data(file):\n",
    "    with open (file, \"r\", encoding=\"utf-8\") as f:\n",
    "        data = json.load(f) \n",
    "    return (data)\n",
    "\n",
    "def write_data(file, data):\n",
    "    with open (file, \"w\", encoding=\"utf-8\") as f:\n",
    "        json.dump(data, f, indent=4)\n"
   ]
  },
  {
   "cell_type": "code",
   "execution_count": 4,
   "metadata": {},
   "outputs": [],
   "source": [
    "stopwords = stopwords.words(\"english\")"
   ]
  },
  {
   "cell_type": "code",
   "execution_count": 5,
   "metadata": {},
   "outputs": [
    {
     "name": "stdout",
     "output_type": "stream",
     "text": [
      "['i', 'me', 'my', 'myself', 'we', 'our', 'ours', 'ourselves', 'you', \"you're\", \"you've\", \"you'll\", \"you'd\", 'your', 'yours', 'yourself', 'yourselves', 'he', 'him', 'his', 'himself', 'she', \"she's\", 'her', 'hers', 'herself', 'it', \"it's\", 'its', 'itself', 'they', 'them', 'their', 'theirs', 'themselves', 'what', 'which', 'who', 'whom', 'this', 'that', \"that'll\", 'these', 'those', 'am', 'is', 'are', 'was', 'were', 'be', 'been', 'being', 'have', 'has', 'had', 'having', 'do', 'does', 'did', 'doing', 'a', 'an', 'the', 'and', 'but', 'if', 'or', 'because', 'as', 'until', 'while', 'of', 'at', 'by', 'for', 'with', 'about', 'against', 'between', 'into', 'through', 'during', 'before', 'after', 'above', 'below', 'to', 'from', 'up', 'down', 'in', 'out', 'on', 'off', 'over', 'under', 'again', 'further', 'then', 'once', 'here', 'there', 'when', 'where', 'why', 'how', 'all', 'any', 'both', 'each', 'few', 'more', 'most', 'other', 'some', 'such', 'no', 'nor', 'not', 'only', 'own', 'same', 'so', 'than', 'too', 'very', 's', 't', 'can', 'will', 'just', 'don', \"don't\", 'should', \"should've\", 'now', 'd', 'll', 'm', 'o', 're', 've', 'y', 'ain', 'aren', \"aren't\", 'couldn', \"couldn't\", 'didn', \"didn't\", 'doesn', \"doesn't\", 'hadn', \"hadn't\", 'hasn', \"hasn't\", 'haven', \"haven't\", 'isn', \"isn't\", 'ma', 'mightn', \"mightn't\", 'mustn', \"mustn't\", 'needn', \"needn't\", 'shan', \"shan't\", 'shouldn', \"shouldn't\", 'wasn', \"wasn't\", 'weren', \"weren't\", 'won', \"won't\", 'wouldn', \"wouldn't\"]\n"
     ]
    }
   ],
   "source": [
    "print (stopwords)"
   ]
  },
  {
   "cell_type": "code",
   "execution_count": 6,
   "metadata": {},
   "outputs": [
    {
     "name": "stdout",
     "output_type": "stream",
     "text": [
      " My name David Kochalski. I was born in a small town called , and I was born May 5, 1928. \n"
     ]
    }
   ],
   "source": [
    "data = load_data(\"data/ushmm_dn.json\")[\"texts\"]\n",
    "\n",
    "print (data[0][0:90])"
   ]
  },
  {
   "cell_type": "code",
   "execution_count": 9,
   "metadata": {},
   "outputs": [],
   "source": [
    "url = '/Users/dj/Documents/GitHub/inbraak_'\n",
    "numbers = np.arange(1,7)\n",
    "ending = '.txt'\n",
    "\n",
    "texts = []\n",
    "for i in numbers:\n",
    "    p = url + str(i) + ending\n",
    "    f = open(p,'r')\n",
    "    text = f.read()\n",
    "    texts.append(text)\n",
    "\n",
    "data = texts"
   ]
  },
  {
   "cell_type": "code",
   "execution_count": 10,
   "metadata": {},
   "outputs": [
    {
     "name": "stdout",
     "output_type": "stream",
     "text": [
      "Translated(src d en text public prosecutor district prosecutor office suspect bear date bi\n"
     ]
    }
   ],
   "source": [
    "def lemmatization(texts, allowed_postags=[\"NOUN\", \"ADJ\", \"VERB\", \"ADV\"]):\n",
    "    nlp = spacy.load(\"en_core_web_sm\", disable=[\"parser\", \"ner\"])\n",
    "    texts_out = []\n",
    "    for text in texts:\n",
    "        doc = nlp(text)\n",
    "        new_text = []\n",
    "        for token in doc:\n",
    "            if token.pos_ in allowed_postags:\n",
    "                new_text.append(token.lemma_)\n",
    "        final = \" \".join(new_text)\n",
    "        texts_out.append(final)\n",
    "    return (texts_out)\n",
    "\n",
    "\n",
    "lemmatized_texts = lemmatization(data)\n",
    "print (lemmatized_texts[0][0:90])"
   ]
  },
  {
   "cell_type": "code",
   "execution_count": 11,
   "metadata": {},
   "outputs": [
    {
     "name": "stdout",
     "output_type": "stream",
     "text": [
      "['translated', 'src', 'en', 'text', 'public', 'prosecutor', 'district', 'prosecutor', 'office', 'suspect', 'bear', 'date', 'birth', 'place', 'birth', 'currently', 'detain', 'detention', 'address', 'counsel']\n"
     ]
    }
   ],
   "source": [
    "def gen_words(texts):\n",
    "    final = []\n",
    "    for text in texts:\n",
    "        new = gensim.utils.simple_preprocess(text, deacc=True)\n",
    "        final.append(new)\n",
    "    return (final)\n",
    "\n",
    "data_words = gen_words(lemmatized_texts)\n",
    "\n",
    "print (data_words[0][0:20])"
   ]
  },
  {
   "cell_type": "code",
   "execution_count": 12,
   "metadata": {},
   "outputs": [
    {
     "name": "stdout",
     "output_type": "stream",
     "text": [
      "[(0, 2), (1, 6), (2, 3), (3, 1), (4, 7), (5, 2), (6, 1), (7, 2), (8, 4), (9, 2), (10, 5), (11, 6), (12, 3), (13, 3), (14, 1), (15, 6), (16, 2), (17, 1), (18, 12), (19, 4)]\n",
      "above\n"
     ]
    }
   ],
   "source": [
    "id2word = corpora.Dictionary(data_words)\n",
    "\n",
    "corpus = []\n",
    "for text in data_words:\n",
    "    new = id2word.doc2bow(text)\n",
    "    corpus.append(new)\n",
    "\n",
    "print (corpus[0][0:20])\n",
    "\n",
    "word = id2word[[0][:1][0]]\n",
    "print (word)"
   ]
  },
  {
   "cell_type": "code",
   "execution_count": 13,
   "metadata": {},
   "outputs": [],
   "source": [
    "lda_model = gensim.models.ldamodel.LdaModel(corpus=corpus,\n",
    "                                           id2word=id2word,\n",
    "                                           num_topics=3,\n",
    "                                           random_state=100,\n",
    "                                           update_every=1,\n",
    "                                           chunksize=100,\n",
    "                                           passes=10,\n",
    "                                           alpha=\"auto\")\n"
   ]
  },
  {
   "cell_type": "code",
   "execution_count": null,
   "metadata": {},
   "outputs": [],
   "source": []
  },
  {
   "cell_type": "code",
   "execution_count": null,
   "metadata": {},
   "outputs": [],
   "source": []
  },
  {
   "cell_type": "markdown",
   "metadata": {},
   "source": [
    "## Vizualizing the Data"
   ]
  },
  {
   "cell_type": "code",
   "execution_count": 21,
   "metadata": {},
   "outputs": [
    {
     "data": {
      "text/html": [
       "\n",
       "<link rel=\"stylesheet\" type=\"text/css\" href=\"https://cdn.jsdelivr.net/gh/bmabey/pyLDAvis@3.3.1/pyLDAvis/js/ldavis.v1.0.0.css\">\n",
       "\n",
       "\n",
       "<div id=\"ldavis_el36501404466728457288265745319\"></div>\n",
       "<script type=\"text/javascript\">\n",
       "\n",
       "var ldavis_el36501404466728457288265745319_data = {\"mdsDat\": {\"x\": [0.06950478957461838, -0.008189665693799707, -0.061315123880818674], \"y\": [0.03260950692554591, -0.07853618663237918, 0.04592667970683327], \"topics\": [1, 2, 3], \"cluster\": [1, 1, 1], \"Freq\": [82.08456987412345, 17.81692636575039, 0.09850376012615891]}, \"tinfo\": {\"Term\": [\"house\", \"address\", \"count\", \"consider\", \"court\", \"suspect\", \"window\", \"prove\", \"witness\", \"fact\", \"match\", \"number\", \"attempt\", \"evidence\", \"declarant\", \"fellow\", \"hearing\", \"primary\", \"statement\", \"legally\", \"convincingly\", \"burglary\", \"blood\", \"least\", \"regard\", \"view\", \"result\", \"boy\", \"door\", \"charge\", \"fellow\", \"least\", \"hearing\", \"view\", \"argue\", \"officer\", \"primary\", \"boy\", \"police\", \"victim\", \"car\", \"residence\", \"show\", \"stop\", \"more\", \"photo\", \"sign\", \"name\", \"alternative\", \"bring\", \"official\", \"case\", \"lock\", \"firebreak\", \"know\", \"above\", \"refer\", \"time\", \"present\", \"alternatively\", \"offense\", \"break\", \"office\", \"co\", \"prosecutor\", \"public\", \"suspect\", \"take\", \"crime\", \"see\", \"other\", \"good\", \"defense\", \"charge\", \"court\", \"home\", \"number\", \"together\", \"commit\", \"address\", \"position\", \"prove\", \"defendant\", \"person\", \"house\", \"regard\", \"fact\", \"count\", \"door\", \"smash\", \"test\", \"track\", \"material\", \"cell\", \"choose\", \"mark\", \"randomly\", \"reference\", \"rear\", \"fragment\", \"smear\", \"secure\", \"implausible\", \"side\", \"stone\", \"smartphone\", \"jewelry\", \"laptop\", \"sample\", \"distance\", \"error\", \"made\", \"box\", \"like\", \"vandalize\", \"later\", \"seam\", \"blind\", \"am\", \"match\", \"dna\", \"blood\", \"result\", \"description\", \"chance\", \"left\", \"following\", \"house\", \"declarant\", \"window\", \"carry\", \"consider\", \"count\", \"witness\", \"address\", \"prove\", \"fact\", \"court\", \"suspect\", \"attempt\", \"evidence\", \"mean\", \"statement\", \"burglary\", \"convincingly\", \"number\", \"legally\", \"regard\", \"distance\", \"windowpane\", \"blind\", \"entrance\", \"outer\", \"desk\", \"bij\", \"casement\", \"write\", \"recover\", \"restrict\", \"horizontal\", \"drawer\", \"liking\", \"deposit\", \"highly\", \"made\", \"error\", \"seam\", \"harm\", \"correct\", \"damage\", \"main\", \"greeting\", \"misappropriate\", \"element\", \"vandalize\", \"perpetration\", \"discovery\", \"negative\", \"language\", \"behalf\", \"suspect\", \"closed\", \"euro\", \"cognizance\", \"house\", \"number\", \"meter\", \"send\", \"immediately\", \"address\", \"see\", \"count\", \"destroy\", \"convincing\", \"again\", \"bell\", \"charge\", \"court\", \"prove\", \"witness\", \"window\", \"alternative\", \"public\", \"fact\", \"statement\", \"primary\", \"home\", \"scooter\", \"match\", \"take\", \"consider\", \"photo\", \"person\", \"boy\", \"prosecutor\", \"declarant\", \"commit\", \"together\", \"report\", \"legally\", \"break\", \"defense\", \"crime\"], \"Freq\": [39.0, 37.0, 21.0, 19.0, 47.0, 120.0, 15.0, 25.0, 17.0, 20.0, 9.0, 29.0, 15.0, 17.0, 10.0, 15.0, 14.0, 11.0, 14.0, 16.0, 16.0, 15.0, 8.0, 14.0, 18.0, 13.0, 8.0, 10.0, 17.0, 29.0, 15.645121455843809, 13.842986640357566, 13.83275519458586, 12.94070554729587, 12.032837514549673, 11.134121961931093, 11.115043722826789, 10.219451491809517, 10.236960216499858, 10.221146664036453, 9.335602225064235, 9.328300781181568, 9.323438186293965, 8.43066600657938, 8.426849150510318, 8.410064770616874, 8.426513861634355, 7.513993469187642, 7.503768668781044, 7.524771647270603, 7.519486165512415, 19.599912347857003, 6.625677912964903, 6.6257419501195916, 6.623941056175008, 6.621380174111577, 6.6224373912880345, 6.621791582624244, 6.622085186937249, 6.619209556217284, 17.81819209398611, 26.10747674961985, 15.971736317966355, 24.302353936330885, 38.15960998795013, 37.17413134021812, 108.69835791539688, 26.161533774162386, 26.129759262954973, 19.55786531043903, 18.752947273963983, 16.89945828516233, 27.206521062322846, 26.10815095211638, 40.22224674046016, 15.06840284072101, 25.279652743737618, 17.827212875059747, 19.707032008672105, 30.01681213603817, 13.276348439981266, 19.763389537790612, 15.183778461498093, 14.152440753271852, 23.766239710273275, 15.072415432998742, 15.1613727068464, 15.14893499985845, 14.244964775810827, 5.380513244497439, 4.626281476474067, 4.620671795022812, 3.18253986964623, 3.174336726770409, 2.4502616516127875, 2.44748644595046, 2.446494326972896, 2.443076066662673, 2.4365450756771376, 1.7152701206155916, 1.7142911144978947, 1.7137524382145437, 1.7136211784872715, 1.7132273993054548, 1.7122481309305606, 1.7121411299940428, 1.711657396593536, 1.7103091323419743, 4.637494545203841, 0.9829450241081233, 0.9823665502950749, 0.9822843982280058, 0.9825359028802618, 0.982470141888027, 0.9821769383413929, 0.9821943128807171, 0.9819992590901903, 0.9816796331309234, 0.9821330102608372, 6.804349530046628, 4.6092216457866355, 5.371848266697089, 5.330210740503073, 3.878891474215088, 2.435456708308147, 2.431783009487708, 3.160421097621972, 15.862119900636387, 5.304441348291744, 6.660314730177212, 4.57407813231333, 6.6121323133662, 6.60175322252399, 5.180108358115834, 7.008403987586516, 5.782049994211695, 5.109190864866799, 7.550867264867231, 11.433114057665177, 4.458828682424735, 4.410805717989711, 3.767712518286518, 3.769233872288329, 3.703949663638311, 3.7218277367814654, 4.207849069077919, 3.682071381464021, 3.7081995415213216, 0.004374779260333709, 0.0043752570127128035, 0.004374455563160316, 0.00437482312075698, 0.004374223211661835, 0.004374779985299383, 0.00437424387318354, 0.00437303934271637, 0.004372750806378161, 0.004372275953861762, 0.004372237168198209, 0.004371611885304477, 0.00437129942509903, 0.004371437531059907, 0.004370612157640181, 0.004372391223403911, 0.0043696095301131894, 0.004368878039748233, 0.004368542018158384, 0.0043691325026997685, 0.004369097341864585, 0.0043704508527777405, 0.004367626024029422, 0.004367937759269196, 0.004367183794968348, 0.004367717007221495, 0.004365832821435052, 0.004366936219190714, 0.004367225842977434, 0.004367116373160677, 0.004367542290494087, 0.0043672990645104975, 0.006465396122555489, 0.004411175799508593, 0.0044056925216341145, 0.004403685816648783, 0.005516876046151662, 0.0052774351083444675, 0.004401953873653856, 0.004400492342855291, 0.004399268600797763, 0.005305863912280447, 0.005114583531638372, 0.0050434952100707605, 0.00439794082616603, 0.004396893975732931, 0.004396528230550452, 0.004396193658891952, 0.005092964692760092, 0.005191003975737455, 0.005051917136304358, 0.004923330699691904, 0.0048974483376854686, 0.0047621211702371736, 0.005079951921396577, 0.004927836723837977, 0.004840769433852124, 0.004793706837200113, 0.004858787368228186, 0.004659766166603135, 0.004747741476095536, 0.0049391679373209, 0.004868420349620018, 0.0047140244100513555, 0.004798698588347692, 0.004732439988099546, 0.004918173656370678, 0.004717163873902142, 0.004813419378838895, 0.004781686906326993, 0.004722571030380862, 0.004751478674144447, 0.004811186122080473, 0.004807853817360431, 0.00479520969104209], \"Total\": [39.0, 37.0, 21.0, 19.0, 47.0, 120.0, 15.0, 25.0, 17.0, 20.0, 9.0, 29.0, 15.0, 17.0, 10.0, 15.0, 14.0, 11.0, 14.0, 16.0, 16.0, 15.0, 8.0, 14.0, 18.0, 13.0, 8.0, 10.0, 17.0, 29.0, 15.914127808664613, 14.109114531891711, 14.100369924665332, 13.202784197098373, 12.29918993067791, 11.395373405058505, 11.377175157330065, 10.47751277955397, 10.496201592654938, 10.483683487668422, 9.59361865901967, 9.5867063478049, 9.58303902082028, 8.688461132546301, 8.68584011633984, 8.669110186484437, 8.68742227725465, 7.77141690216097, 7.761402195591161, 7.7831526215509905, 7.778491468455835, 20.33764996458252, 6.8809433283546575, 6.8815227868668405, 6.880267316258736, 6.877613837848699, 6.879454952113754, 6.878831998910622, 6.879711115981424, 6.8767559062457915, 18.53190288266214, 27.432189595924868, 16.71238379868139, 25.63216470818842, 40.72803378231976, 39.799914945336994, 120.13793736918461, 28.179050278844887, 28.181521595679328, 21.043710518169544, 20.18844496457501, 18.36503028943157, 30.604952785244016, 29.649898402973726, 47.778305009303125, 16.540524296175548, 29.49277924792388, 20.011420845563695, 22.576021320063983, 37.03052198753697, 14.745914990949355, 25.550491449138608, 18.065287787430957, 16.381669595036985, 39.63387648695581, 18.78528492862928, 20.275491408437038, 21.75573171759251, 17.895069107742245, 5.770186347950388, 5.030004470236805, 5.027048731709455, 3.531926874636437, 3.5360739272465347, 2.787501805470501, 2.7884077253382133, 2.789372140906844, 2.789801313784903, 2.7920482944530898, 2.0438498747526, 2.0434438784981395, 2.0442234286293264, 2.044112088370289, 2.0445146025216, 2.0440319481331866, 2.0451837503578685, 2.0453508303451056, 2.0441761922763577, 5.927599022019171, 1.297951845006098, 1.298480228808442, 1.2984475912528803, 1.2988995503945073, 1.2988398783333328, 1.2987302813290886, 1.298817666299554, 1.2985823835858779, 1.2982449404217773, 1.298917830194441, 9.971001862653061, 6.838222735860028, 8.480198386878415, 8.490572173869108, 6.09380901353701, 3.6933672117450285, 3.692996925641755, 5.346050177547239, 39.63387648695581, 10.295946815923195, 15.420073530192989, 9.554515440603673, 19.956046381129735, 21.75573171759251, 17.54635805844853, 37.03052198753697, 25.550491449138608, 20.275491408437038, 47.778305009303125, 120.13793736918461, 15.907811558502454, 17.728125264562067, 12.44257312259012, 14.236812950178148, 15.163728580800123, 16.064756509370334, 29.49277924792388, 16.97586998871894, 18.78528492862928, 1.297951845006098, 1.2984457142363386, 1.2982449404217773, 1.2984270135603686, 1.2983067273941216, 1.2986935460489406, 1.2988009296089114, 1.2985001273620806, 1.2985755002411699, 1.2984565318539973, 1.298746276970543, 1.2986430841346985, 1.298719923952753, 1.298769115287041, 1.2985870755873645, 1.2992705266090452, 1.2984475912528803, 1.298480228808442, 1.2985823835858779, 1.298830998121226, 1.2988656043878775, 1.2993423770746118, 1.298675428274415, 1.2988876033994166, 1.299085031341063, 1.299245815257817, 1.2987302813290886, 1.2991291671497764, 1.299259864529625, 1.299279543533614, 1.2994856004223494, 1.2994708922854146, 120.13793736918461, 1.4531749643186844, 1.4535720079760004, 1.4536073225429598, 39.63387648695581, 29.49277924792388, 1.4537452000568412, 1.453910504658016, 1.4539515674073293, 37.03052198753697, 21.043710518169544, 21.75573171759251, 1.454109987996072, 1.4541261516130664, 1.454156592528367, 1.4541373552033163, 29.649898402973726, 47.778305009303125, 25.550491449138608, 17.54635805844853, 15.420073530192989, 7.761402195591161, 39.799914945336994, 20.275491408437038, 14.236812950178148, 11.377175157330065, 16.540524296175548, 5.959232573265518, 9.971001862653061, 28.179050278844887, 19.956046381129735, 8.669110186484437, 16.381669595036985, 10.47751277955397, 40.72803378231976, 10.295946815923195, 22.576021320063983, 20.011420845563695, 13.667886103862887, 16.97586998871894, 27.432189595924868, 30.604952785244016, 28.181521595679328], \"Category\": [\"Default\", \"Default\", \"Default\", \"Default\", \"Default\", \"Default\", \"Default\", \"Default\", \"Default\", \"Default\", \"Default\", \"Default\", \"Default\", \"Default\", \"Default\", \"Default\", \"Default\", \"Default\", \"Default\", \"Default\", \"Default\", \"Default\", \"Default\", \"Default\", \"Default\", \"Default\", \"Default\", \"Default\", \"Default\", \"Default\", \"Topic1\", \"Topic1\", \"Topic1\", \"Topic1\", \"Topic1\", \"Topic1\", \"Topic1\", \"Topic1\", \"Topic1\", \"Topic1\", \"Topic1\", \"Topic1\", \"Topic1\", \"Topic1\", \"Topic1\", \"Topic1\", \"Topic1\", \"Topic1\", \"Topic1\", \"Topic1\", \"Topic1\", \"Topic1\", \"Topic1\", \"Topic1\", \"Topic1\", \"Topic1\", \"Topic1\", \"Topic1\", \"Topic1\", \"Topic1\", \"Topic1\", \"Topic1\", \"Topic1\", \"Topic1\", \"Topic1\", \"Topic1\", \"Topic1\", \"Topic1\", \"Topic1\", \"Topic1\", \"Topic1\", \"Topic1\", \"Topic1\", \"Topic1\", \"Topic1\", \"Topic1\", \"Topic1\", \"Topic1\", \"Topic1\", \"Topic1\", \"Topic1\", \"Topic1\", \"Topic1\", \"Topic1\", \"Topic1\", \"Topic1\", \"Topic1\", \"Topic1\", \"Topic1\", \"Topic2\", \"Topic2\", \"Topic2\", \"Topic2\", \"Topic2\", \"Topic2\", \"Topic2\", \"Topic2\", \"Topic2\", \"Topic2\", \"Topic2\", \"Topic2\", \"Topic2\", \"Topic2\", \"Topic2\", \"Topic2\", \"Topic2\", \"Topic2\", \"Topic2\", \"Topic2\", \"Topic2\", \"Topic2\", \"Topic2\", \"Topic2\", \"Topic2\", \"Topic2\", \"Topic2\", \"Topic2\", \"Topic2\", \"Topic2\", \"Topic2\", \"Topic2\", \"Topic2\", \"Topic2\", \"Topic2\", \"Topic2\", \"Topic2\", \"Topic2\", \"Topic2\", \"Topic2\", \"Topic2\", \"Topic2\", \"Topic2\", \"Topic2\", \"Topic2\", \"Topic2\", \"Topic2\", \"Topic2\", \"Topic2\", \"Topic2\", \"Topic2\", \"Topic2\", \"Topic2\", \"Topic2\", \"Topic2\", \"Topic2\", \"Topic2\", \"Topic2\", \"Topic2\", \"Topic3\", \"Topic3\", \"Topic3\", \"Topic3\", \"Topic3\", \"Topic3\", \"Topic3\", \"Topic3\", \"Topic3\", \"Topic3\", \"Topic3\", \"Topic3\", \"Topic3\", \"Topic3\", \"Topic3\", \"Topic3\", \"Topic3\", \"Topic3\", \"Topic3\", \"Topic3\", \"Topic3\", \"Topic3\", \"Topic3\", \"Topic3\", \"Topic3\", \"Topic3\", \"Topic3\", \"Topic3\", \"Topic3\", \"Topic3\", \"Topic3\", \"Topic3\", \"Topic3\", \"Topic3\", \"Topic3\", \"Topic3\", \"Topic3\", \"Topic3\", \"Topic3\", \"Topic3\", \"Topic3\", \"Topic3\", \"Topic3\", \"Topic3\", \"Topic3\", \"Topic3\", \"Topic3\", \"Topic3\", \"Topic3\", \"Topic3\", \"Topic3\", \"Topic3\", \"Topic3\", \"Topic3\", \"Topic3\", \"Topic3\", \"Topic3\", \"Topic3\", \"Topic3\", \"Topic3\", \"Topic3\", \"Topic3\", \"Topic3\", \"Topic3\", \"Topic3\", \"Topic3\", \"Topic3\", \"Topic3\", \"Topic3\", \"Topic3\", \"Topic3\", \"Topic3\", \"Topic3\", \"Topic3\", \"Topic3\"], \"logprob\": [30.0, 29.0, 28.0, 27.0, 26.0, 25.0, 24.0, 23.0, 22.0, 21.0, 20.0, 19.0, 18.0, 17.0, 16.0, 15.0, 14.0, 13.0, 12.0, 11.0, 10.0, 9.0, 8.0, 7.0, 6.0, 5.0, 4.0, 3.0, 2.0, 1.0, -5.1111, -5.2334, -5.2342, -5.3008, -5.3736, -5.4512, -5.4529, -5.5369, -5.5352, -5.5368, -5.6274, -5.6282, -5.6287, -5.7293, -5.7298, -5.7318, -5.7298, -5.8445, -5.8458, -5.843, -5.8437, -4.8857, -5.9703, -5.9703, -5.9705, -5.9709, -5.9708, -5.9709, -5.9708, -5.9712, -4.981, -4.599, -5.0904, -4.6707, -4.2194, -4.2456, -3.1726, -4.5969, -4.5981, -4.8878, -4.9299, -5.0339, -4.5578, -4.599, -4.1668, -5.1486, -4.6312, -4.9805, -4.8802, -4.4595, -5.2752, -4.8774, -5.141, -5.2113, -4.693, -5.1484, -5.1425, -5.1433, -5.2048, -4.6508, -4.8019, -4.8031, -5.1759, -5.1785, -5.4374, -5.4386, -5.439, -5.4404, -5.443, -5.7941, -5.7946, -5.7949, -5.795, -5.7952, -5.7958, -5.7959, -5.7962, -5.7969, -4.7994, -6.3508, -6.3514, -6.3515, -6.3512, -6.3513, -6.3516, -6.3516, -6.3518, -6.3521, -6.3517, -4.4161, -4.8056, -4.6525, -4.6602, -4.9781, -5.4435, -5.445, -5.1829, -3.5697, -4.6651, -4.4375, -4.8132, -4.4447, -4.4463, -4.6888, -4.3865, -4.5789, -4.7026, -4.312, -3.8971, -4.8387, -4.8496, -5.0072, -5.0068, -5.0242, -5.0194, -4.8967, -5.0301, -5.0231, -6.5677, -6.5676, -6.5678, -6.5677, -6.5678, -6.5677, -6.5678, -6.5681, -6.5682, -6.5683, -6.5683, -6.5684, -6.5685, -6.5685, -6.5687, -6.5683, -6.5689, -6.5691, -6.5691, -6.569, -6.569, -6.5687, -6.5693, -6.5693, -6.5694, -6.5693, -6.5698, -6.5695, -6.5694, -6.5695, -6.5694, -6.5694, -6.1771, -6.5594, -6.5607, -6.5611, -6.3358, -6.3801, -6.5615, -6.5619, -6.5621, -6.3748, -6.4115, -6.4255, -6.5624, -6.5627, -6.5628, -6.5628, -6.4157, -6.3966, -6.4238, -6.4496, -6.4549, -6.4829, -6.4183, -6.4487, -6.4665, -6.4763, -6.4628, -6.5046, -6.4859, -6.4464, -6.4608, -6.493, -6.4752, -6.4891, -6.4506, -6.4924, -6.4722, -6.4788, -6.4912, -6.4851, -6.4726, -6.4733, -6.476], \"loglift\": [30.0, 29.0, 28.0, 27.0, 26.0, 25.0, 24.0, 23.0, 22.0, 21.0, 20.0, 19.0, 18.0, 17.0, 16.0, 15.0, 14.0, 13.0, 12.0, 11.0, 10.0, 9.0, 8.0, 7.0, 6.0, 5.0, 4.0, 3.0, 2.0, 1.0, 0.1804, 0.1784, 0.1783, 0.1774, 0.1755, 0.1742, 0.1741, 0.1725, 0.1724, 0.1721, 0.1702, 0.1701, 0.17, 0.1673, 0.1671, 0.1671, 0.1669, 0.1637, 0.1637, 0.1637, 0.1636, 0.1605, 0.1596, 0.1595, 0.1595, 0.1595, 0.1593, 0.1593, 0.1593, 0.1592, 0.1581, 0.1479, 0.1521, 0.1441, 0.1323, 0.1292, 0.0974, 0.1231, 0.1218, 0.1242, 0.1237, 0.1143, 0.0797, 0.0702, 0.0253, 0.1042, 0.0433, 0.0818, 0.0615, -0.0126, 0.0924, -0.0594, 0.0237, 0.0511, -0.314, -0.0228, -0.0932, -0.1645, -0.0307, 1.6551, 1.6414, 1.6407, 1.6209, 1.6171, 1.5961, 1.5946, 1.5939, 1.5923, 1.5888, 1.5498, 1.5494, 1.5487, 1.5487, 1.5482, 1.5479, 1.5473, 1.5469, 1.5467, 1.4796, 1.447, 1.446, 1.446, 1.4459, 1.4459, 1.4457, 1.4456, 1.4456, 1.4455, 1.4455, 1.3429, 1.3306, 1.2685, 1.2595, 1.2733, 1.3086, 1.3072, 1.1994, 0.8093, 1.0618, 0.8855, 0.9884, 0.6204, 0.5325, 0.505, 0.0604, 0.2391, 0.3466, -0.1199, -0.6271, 0.4531, 0.3339, 0.5304, 0.3961, 0.3155, 0.2626, -0.2222, 0.1967, 0.1025, 1.2301, 1.2299, 1.2298, 1.2298, 1.2297, 1.2296, 1.2294, 1.2293, 1.2292, 1.2292, 1.229, 1.2289, 1.2288, 1.2288, 1.2287, 1.2286, 1.2286, 1.2284, 1.2282, 1.2282, 1.2281, 1.2281, 1.228, 1.2279, 1.2275, 1.2275, 1.2275, 1.2274, 1.2274, 1.2274, 1.2273, 1.2273, -2.9071, 1.1255, 1.1239, 1.1235, -1.9568, -1.7056, 1.123, 1.1225, 1.1222, -1.9279, -1.3994, -1.4467, 1.1218, 1.1216, 1.1215, 1.1214, -1.7465, -2.2046, -1.6058, -1.2558, -1.1319, -0.4734, -2.0435, -1.3994, -1.0637, -0.8492, -1.2099, -0.2309, -0.7269, -1.7263, -1.3957, -0.5941, -1.2127, -0.7797, -2.0989, -0.7655, -1.5304, -1.4164, -1.0476, -1.2583, -1.7257, -1.8358, -1.756]}, \"token.table\": {\"Topic\": [1, 1, 2, 1, 1, 1, 2, 1, 1, 2, 2, 1, 2, 2, 1, 2, 2, 1, 1, 2, 1, 1, 2, 1, 1, 2, 1, 2, 2, 2, 1, 2, 1, 2, 2, 1, 1, 2, 1, 1, 2, 1, 2, 1, 1, 2, 2, 1, 2, 1, 2, 1, 2, 2, 1, 2, 1, 2, 1, 2, 2, 1, 2, 2, 1, 2, 2, 1, 2, 1, 2, 2, 2, 2, 2, 1, 1, 2, 1, 2, 1, 1, 1, 2, 2, 1, 2, 2, 2, 1, 2, 1, 2, 2, 1, 2, 1, 2, 2, 1, 2, 2, 2, 1, 1, 2, 1, 2, 2, 2, 1, 2, 2, 2, 1, 2, 2, 1, 2, 1, 2, 1, 1, 2, 1, 2, 1, 2, 1, 2, 1, 1, 1, 2, 2, 2, 1, 2, 1, 1, 1, 2, 1, 1, 1, 2, 1, 2, 1, 2, 2, 2, 2, 1, 2, 1, 2, 1, 2, 1, 2, 1, 2, 1, 2, 1, 2, 2, 1, 2, 1, 1, 2, 1, 2, 2, 2, 1, 2, 2, 1, 1, 2, 1, 2, 2, 1, 1, 2, 2, 2, 1, 1, 1, 2, 2, 1, 2, 2], \"Freq\": [1.0177948580767633, 0.8101425092008379, 0.18903325214686217, 0.6876838472129627, 1.030741584883254, 1.017921836318528, 0.7698716398791026, 0.9756740132997183, 0.6914841780433769, 0.2514487920157734, 0.7695439781965974, 0.6876929448388875, 0.7699409333662205, 0.7702706699362274, 0.3537653086798018, 0.5896088477996697, 0.7698824745118095, 0.9544249871509775, 0.9477916412426071, 0.036453524663177195, 1.0278611237621853, 0.7254152526792047, 0.2637873646106199, 0.9381235923462973, 0.5233127761510101, 0.5233127761510101, 0.9833977885758418, 0.04916988942879209, 0.7701192929657331, 0.8483985521015496, 0.27075563914142287, 0.5415112782828457, 0.8769001379577186, 0.1349077135319567, 0.7174883245187427, 0.6881483816842704, 0.9363235713108924, 0.03901348213795385, 0.6879437001256893, 0.8858956906736, 0.13288435360103998, 0.6514316388988095, 0.35077088248397437, 0.6876982432993843, 0.7469767744690421, 0.24899225815634737, 0.769902595481597, 0.6894734773673658, 0.32175428943810397, 0.8372000637572099, 0.167440012751442, 0.9225903545245836, 0.07096848880958335, 0.7696200921664985, 0.485627994141078, 0.485627994141078, 0.830321674168753, 0.1660643348337506, 0.8822101504112719, 0.09802335004569689, 0.770067728841125, 0.32820194980793244, 0.6564038996158649, 0.7700045965750225, 0.6877058876255386, 0.7696689686955219, 0.7704446076697875, 0.29247365540053066, 0.7311841385013267, 0.7823384148845195, 0.223525261395577, 0.7699889572467818, 0.7696772914381595, 0.770162658013358, 0.7701310946549074, 0.6879604137344607, 0.7332980676747907, 0.22563017466916635, 0.7398094427323325, 0.24660314757744417, 1.005395972205818, 1.017216714498028, 0.3741079738457669, 0.5611619607686503, 0.9785454522397797, 0.9256723093880713, 0.05445131231694537, 0.769889555788218, 0.7699231088929287, 0.9928817523794352, 0.769662652634699, 0.9068636357233402, 0.06045757571488935, 0.7700345169637676, 0.6055425844579904, 0.4036950563053269, 0.6877808191253504, 0.9784199268615166, 0.9778273586749645, 1.0174023302057353, 0.769535268166871, 0.9783892443110963, 0.7699310118325446, 0.9922663798890375, 0.2707827870249916, 0.5415655740499832, 0.7657928582534477, 0.2356285717702916, 0.7699178449026348, 0.7699597936458398, 1.0173023764277696, 0.7701504525377829, 0.7700153388816533, 0.7172552212598015, 0.3008724741328819, 0.7020357729767244, 0.8493947090308342, 0.723323054751436, 0.3214769132228604, 0.687878453501274, 0.769772552122848, 0.9210392884103825, 1.029413310431907, 0.7696573112205924, 0.8476651111732664, 0.1356264177877226, 0.9712979888773444, 0.053960999382074694, 0.9573738966707073, 0.059835868541919204, 0.9653040412977608, 1.0284770552802494, 0.9411324167532272, 0.04953328509227512, 0.7702340124256586, 0.7697464003475107, 0.854613744879915, 0.12208767783998786, 0.9228167398855293, 0.9527256038029823, 0.8816000911424655, 0.0678153916263435, 1.0174845835807187, 0.9668480838068966, 0.9330182793281807, 0.07365933784169848, 0.7827638086653815, 0.23482914259961446, 0.929650227916755, 0.07537704550676391, 0.7170072327996314, 0.7163199877213309, 0.7701451496201824, 1.0175224707081203, 0.7168969310171464, 0.7984973375165364, 0.21293262333774304, 0.8048062382441952, 0.14632840695349003, 0.9388000084158997, 0.7699733333077198, 0.3533330779794686, 0.5888884632991144, 0.1687023694223097, 0.8435118471115486, 1.0068410531445566, 0.7700705112282682, 0.9783666364400398, 0.9504027335260868, 0.04752013667630434, 0.6878002440977043, 0.9391592771819504, 0.9782273002762132, 0.9208715479326413, 0.9779072416598449, 0.86652314128053, 0.978739871960629, 0.7024043959132629, 0.2809617583653051, 0.9784582877124788, 0.9207614418659964, 0.9072904228831759, 0.0915614188230728, 0.9226712661611316, 0.07097471278162551, 0.9940349018744724, 1.0176146184568204, 0.8994863552624948, 0.09994292836249942, 0.9946193615472955, 0.7699828165834592, 0.9538632115098322, 0.9846408004500339, 0.5836548043936183, 0.45395373675059203, 0.7701515658574414, 0.6839026058870392, 0.2849594191195997, 0.7700745931324603], \"Term\": [\"above\", \"address\", \"address\", \"again\", \"alternative\", \"alternatively\", \"am\", \"argue\", \"attempt\", \"attempt\", \"behalf\", \"bell\", \"bij\", \"blind\", \"blood\", \"blood\", \"box\", \"boy\", \"break\", \"break\", \"bring\", \"burglary\", \"burglary\", \"car\", \"carry\", \"carry\", \"case\", \"case\", \"casement\", \"cell\", \"chance\", \"chance\", \"charge\", \"charge\", \"choose\", \"closed\", \"co\", \"co\", \"cognizance\", \"commit\", \"commit\", \"consider\", \"consider\", \"convincing\", \"convincingly\", \"convincingly\", \"correct\", \"count\", \"count\", \"court\", \"court\", \"crime\", \"crime\", \"damage\", \"declarant\", \"declarant\", \"defendant\", \"defendant\", \"defense\", \"defense\", \"deposit\", \"description\", \"description\", \"desk\", \"destroy\", \"discovery\", \"distance\", \"dna\", \"dna\", \"door\", \"door\", \"drawer\", \"element\", \"entrance\", \"error\", \"euro\", \"evidence\", \"evidence\", \"fact\", \"fact\", \"fellow\", \"firebreak\", \"following\", \"following\", \"fragment\", \"good\", \"good\", \"greeting\", \"harm\", \"hearing\", \"highly\", \"home\", \"home\", \"horizontal\", \"house\", \"house\", \"immediately\", \"implausible\", \"jewelry\", \"know\", \"language\", \"laptop\", \"later\", \"least\", \"left\", \"left\", \"legally\", \"legally\", \"like\", \"liking\", \"lock\", \"made\", \"main\", \"mark\", \"match\", \"match\", \"material\", \"mean\", \"mean\", \"meter\", \"misappropriate\", \"more\", \"name\", \"negative\", \"number\", \"number\", \"offense\", \"offense\", \"office\", \"office\", \"officer\", \"official\", \"other\", \"other\", \"outer\", \"perpetration\", \"person\", \"person\", \"photo\", \"police\", \"position\", \"position\", \"present\", \"primary\", \"prosecutor\", \"prosecutor\", \"prove\", \"prove\", \"public\", \"public\", \"randomly\", \"rear\", \"recover\", \"refer\", \"reference\", \"regard\", \"regard\", \"report\", \"report\", \"residence\", \"restrict\", \"result\", \"result\", \"sample\", \"sample\", \"scooter\", \"seam\", \"secure\", \"see\", \"see\", \"send\", \"show\", \"side\", \"sign\", \"smartphone\", \"smash\", \"smear\", \"statement\", \"statement\", \"stone\", \"stop\", \"suspect\", \"suspect\", \"take\", \"take\", \"test\", \"time\", \"together\", \"together\", \"track\", \"vandalize\", \"victim\", \"view\", \"window\", \"window\", \"windowpane\", \"witness\", \"witness\", \"write\"]}, \"R\": 30, \"lambda.step\": 0.01, \"plot.opts\": {\"xlab\": \"PC1\", \"ylab\": \"PC2\"}, \"topic.order\": [2, 1, 3]};\n",
       "\n",
       "function LDAvis_load_lib(url, callback){\n",
       "  var s = document.createElement('script');\n",
       "  s.src = url;\n",
       "  s.async = true;\n",
       "  s.onreadystatechange = s.onload = callback;\n",
       "  s.onerror = function(){console.warn(\"failed to load library \" + url);};\n",
       "  document.getElementsByTagName(\"head\")[0].appendChild(s);\n",
       "}\n",
       "\n",
       "if(typeof(LDAvis) !== \"undefined\"){\n",
       "   // already loaded: just create the visualization\n",
       "   !function(LDAvis){\n",
       "       new LDAvis(\"#\" + \"ldavis_el36501404466728457288265745319\", ldavis_el36501404466728457288265745319_data);\n",
       "   }(LDAvis);\n",
       "}else if(typeof define === \"function\" && define.amd){\n",
       "   // require.js is available: use it to load d3/LDAvis\n",
       "   require.config({paths: {d3: \"https://d3js.org/d3.v5\"}});\n",
       "   require([\"d3\"], function(d3){\n",
       "      window.d3 = d3;\n",
       "      LDAvis_load_lib(\"https://cdn.jsdelivr.net/gh/bmabey/pyLDAvis@3.3.1/pyLDAvis/js/ldavis.v3.0.0.js\", function(){\n",
       "        new LDAvis(\"#\" + \"ldavis_el36501404466728457288265745319\", ldavis_el36501404466728457288265745319_data);\n",
       "      });\n",
       "    });\n",
       "}else{\n",
       "    // require.js not available: dynamically load d3 & LDAvis\n",
       "    LDAvis_load_lib(\"https://d3js.org/d3.v5.js\", function(){\n",
       "         LDAvis_load_lib(\"https://cdn.jsdelivr.net/gh/bmabey/pyLDAvis@3.3.1/pyLDAvis/js/ldavis.v3.0.0.js\", function(){\n",
       "                 new LDAvis(\"#\" + \"ldavis_el36501404466728457288265745319\", ldavis_el36501404466728457288265745319_data);\n",
       "            })\n",
       "         });\n",
       "}\n",
       "</script>"
      ],
      "text/plain": [
       "PreparedData(topic_coordinates=              x         y  topics  cluster       Freq\n",
       "topic                                                \n",
       "1      0.069505  0.032610       1        1  82.084570\n",
       "0     -0.008190 -0.078536       2        1  17.816926\n",
       "2     -0.061315  0.045927       3        1   0.098504, topic_info=         Term       Freq      Total Category  logprob  loglift\n",
       "76      house  39.000000  39.000000  Default  30.0000  30.0000\n",
       "4     address  37.000000  37.000000  Default  29.0000  29.0000\n",
       "39      count  21.000000  21.000000  Default  28.0000  28.0000\n",
       "183  consider  19.000000  19.000000  Default  27.0000  27.0000\n",
       "186     court  47.000000  47.000000  Default  26.0000  26.0000\n",
       "..        ...        ...        ...      ...      ...      ...\n",
       "267    report   0.004723  13.667886   Topic3  -6.4912  -1.0476\n",
       "89    legally   0.004751  16.975870   Topic3  -6.4851  -1.2583\n",
       "18      break   0.004811  27.432190   Topic3  -6.4726  -1.7257\n",
       "44    defense   0.004808  30.604953   Topic3  -6.4733  -1.8358\n",
       "40      crime   0.004795  28.181522   Topic3  -6.4760  -1.7560\n",
       "\n",
       "[223 rows x 6 columns], token_table=      Topic      Freq         Term\n",
       "term                              \n",
       "0         1  1.017795        above\n",
       "4         1  0.810143      address\n",
       "4         2  0.189033      address\n",
       "307       1  0.687684        again\n",
       "309       1  1.030742  alternative\n",
       "...     ...       ...          ...\n",
       "147       2  0.453954       window\n",
       "301       2  0.770152   windowpane\n",
       "302       1  0.683903      witness\n",
       "302       2  0.284959      witness\n",
       "303       2  0.770075        write\n",
       "\n",
       "[199 rows x 3 columns], R=30, lambda_step=0.01, plot_opts={'xlab': 'PC1', 'ylab': 'PC2'}, topic_order=[2, 1, 3])"
      ]
     },
     "execution_count": 21,
     "metadata": {},
     "output_type": "execute_result"
    }
   ],
   "source": [
    "pyLDAvis.enable_notebook()\n",
    "vis = gensimvis.prepare(lda_model, corpus, id2word, mds=\"mmds\", R=30)\n",
    "vis"
   ]
  },
  {
   "cell_type": "code",
   "execution_count": null,
   "metadata": {},
   "outputs": [],
   "source": []
  },
  {
   "cell_type": "code",
   "execution_count": null,
   "metadata": {},
   "outputs": [],
   "source": []
  },
  {
   "cell_type": "code",
   "execution_count": null,
   "metadata": {},
   "outputs": [],
   "source": []
  },
  {
   "cell_type": "code",
   "execution_count": null,
   "metadata": {},
   "outputs": [],
   "source": []
  },
  {
   "cell_type": "code",
   "execution_count": null,
   "metadata": {},
   "outputs": [],
   "source": []
  },
  {
   "cell_type": "code",
   "execution_count": null,
   "metadata": {},
   "outputs": [],
   "source": []
  },
  {
   "cell_type": "code",
   "execution_count": null,
   "metadata": {},
   "outputs": [],
   "source": []
  },
  {
   "cell_type": "code",
   "execution_count": null,
   "metadata": {},
   "outputs": [],
   "source": []
  },
  {
   "cell_type": "code",
   "execution_count": null,
   "metadata": {},
   "outputs": [],
   "source": []
  },
  {
   "cell_type": "code",
   "execution_count": null,
   "metadata": {},
   "outputs": [],
   "source": []
  },
  {
   "cell_type": "code",
   "execution_count": null,
   "metadata": {},
   "outputs": [],
   "source": []
  },
  {
   "cell_type": "code",
   "execution_count": null,
   "metadata": {},
   "outputs": [],
   "source": []
  },
  {
   "cell_type": "code",
   "execution_count": null,
   "metadata": {},
   "outputs": [],
   "source": []
  },
  {
   "cell_type": "code",
   "execution_count": null,
   "metadata": {},
   "outputs": [],
   "source": []
  },
  {
   "cell_type": "code",
   "execution_count": null,
   "metadata": {},
   "outputs": [],
   "source": []
  }
 ],
 "metadata": {
  "kernelspec": {
   "display_name": "Python 3",
   "language": "python",
   "name": "python3"
  },
  "language_info": {
   "codemirror_mode": {
    "name": "ipython",
    "version": 3
   },
   "file_extension": ".py",
   "mimetype": "text/x-python",
   "name": "python",
   "nbconvert_exporter": "python",
   "pygments_lexer": "ipython3",
   "version": "3.8.8"
  }
 },
 "nbformat": 4,
 "nbformat_minor": 4
}
