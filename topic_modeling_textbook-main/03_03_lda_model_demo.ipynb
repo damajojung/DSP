{
 "cells": [
  {
   "cell_type": "markdown",
   "metadata": {},
   "source": [
    "# <center>Implementing LDA in Python</center>"
   ]
  },
  {
   "cell_type": "markdown",
   "metadata": {},
   "source": [
    "<center>Dr. W.J.B. Mattingly</center>\n",
    "\n",
    "<center>Smithsonian Data Science Lab and United States Holocaust Memorial Museum</center>\n",
    "\n",
    "<center>February 2021</center>"
   ]
  },
  {
   "cell_type": "markdown",
   "metadata": {},
   "source": [
    "## Key Concepts in this Notebook"
   ]
  },
  {
   "cell_type": "markdown",
   "metadata": {},
   "source": []
  },
  {
   "cell_type": "markdown",
   "metadata": {},
   "source": [
    "## Introduction"
   ]
  },
  {
   "cell_type": "markdown",
   "metadata": {},
   "source": [
    " "
   ]
  },
  {
   "cell_type": "markdown",
   "metadata": {},
   "source": [
    "## Importing the Required Libraries"
   ]
  },
  {
   "cell_type": "code",
   "execution_count": 18,
   "metadata": {},
   "outputs": [],
   "source": [
    "#https://www.machinelearningplus.com/nlp/topic-modeling-gensim-python/#1introduction\n",
    "import numpy as np\n",
    "import json\n",
    "import glob\n",
    "\n",
    "#Gensim\n",
    "import gensim\n",
    "import gensim.corpora as corpora\n",
    "from gensim.utils import simple_preprocess\n",
    "from gensim.models import CoherenceModel\n",
    "\n",
    "#spacy\n",
    "import spacy\n",
    "from nltk.corpus import stopwords\n",
    "\n",
    "#vis\n",
    "import pyLDAvis\n",
    "# import pyLDAvis.gensim\n",
    "\n",
    "import pyLDAvis.gensim_models as gensimvis\n",
    "\n",
    "import warnings\n",
    "warnings.filterwarnings(\"ignore\", category=DeprecationWarning)"
   ]
  },
  {
   "cell_type": "markdown",
   "metadata": {},
   "source": [
    "## Preparing the Data"
   ]
  },
  {
   "cell_type": "code",
   "execution_count": 3,
   "metadata": {},
   "outputs": [],
   "source": [
    "def load_data(file):\n",
    "    with open (file, \"r\", encoding=\"utf-8\") as f:\n",
    "        data = json.load(f) \n",
    "    return (data)\n",
    "\n",
    "def write_data(file, data):\n",
    "    with open (file, \"w\", encoding=\"utf-8\") as f:\n",
    "        json.dump(data, f, indent=4)\n"
   ]
  },
  {
   "cell_type": "code",
   "execution_count": 4,
   "metadata": {},
   "outputs": [],
   "source": [
    "stopwords = stopwords.words(\"english\")"
   ]
  },
  {
   "cell_type": "code",
   "execution_count": 5,
   "metadata": {},
   "outputs": [
    {
     "name": "stdout",
     "output_type": "stream",
     "text": [
      "['i', 'me', 'my', 'myself', 'we', 'our', 'ours', 'ourselves', 'you', \"you're\", \"you've\", \"you'll\", \"you'd\", 'your', 'yours', 'yourself', 'yourselves', 'he', 'him', 'his', 'himself', 'she', \"she's\", 'her', 'hers', 'herself', 'it', \"it's\", 'its', 'itself', 'they', 'them', 'their', 'theirs', 'themselves', 'what', 'which', 'who', 'whom', 'this', 'that', \"that'll\", 'these', 'those', 'am', 'is', 'are', 'was', 'were', 'be', 'been', 'being', 'have', 'has', 'had', 'having', 'do', 'does', 'did', 'doing', 'a', 'an', 'the', 'and', 'but', 'if', 'or', 'because', 'as', 'until', 'while', 'of', 'at', 'by', 'for', 'with', 'about', 'against', 'between', 'into', 'through', 'during', 'before', 'after', 'above', 'below', 'to', 'from', 'up', 'down', 'in', 'out', 'on', 'off', 'over', 'under', 'again', 'further', 'then', 'once', 'here', 'there', 'when', 'where', 'why', 'how', 'all', 'any', 'both', 'each', 'few', 'more', 'most', 'other', 'some', 'such', 'no', 'nor', 'not', 'only', 'own', 'same', 'so', 'than', 'too', 'very', 's', 't', 'can', 'will', 'just', 'don', \"don't\", 'should', \"should've\", 'now', 'd', 'll', 'm', 'o', 're', 've', 'y', 'ain', 'aren', \"aren't\", 'couldn', \"couldn't\", 'didn', \"didn't\", 'doesn', \"doesn't\", 'hadn', \"hadn't\", 'hasn', \"hasn't\", 'haven', \"haven't\", 'isn', \"isn't\", 'ma', 'mightn', \"mightn't\", 'mustn', \"mustn't\", 'needn', \"needn't\", 'shan', \"shan't\", 'shouldn', \"shouldn't\", 'wasn', \"wasn't\", 'weren', \"weren't\", 'won', \"won't\", 'wouldn', \"wouldn't\"]\n"
     ]
    }
   ],
   "source": [
    "print (stopwords)"
   ]
  },
  {
   "cell_type": "code",
   "execution_count": 6,
   "metadata": {},
   "outputs": [
    {
     "name": "stdout",
     "output_type": "stream",
     "text": [
      " My name David Kochalski. I was born in a small town called , and I was born May 5, 1928. \n"
     ]
    }
   ],
   "source": [
    "data = load_data(\"data/ushmm_dn.json\")[\"texts\"]\n",
    "\n",
    "print (data[0][0:90])"
   ]
  },
  {
   "cell_type": "code",
   "execution_count": 9,
   "metadata": {},
   "outputs": [],
   "source": [
    "url = '/Users/dj/Documents/GitHub/inbraak_'\n",
    "numbers = np.arange(1,7)\n",
    "ending = '.txt'\n",
    "\n",
    "texts = []\n",
    "for i in numbers:\n",
    "    p = url + str(i) + ending\n",
    "    f = open(p,'r')\n",
    "    text = f.read()\n",
    "    texts.append(text)\n",
    "\n",
    "data = texts"
   ]
  },
  {
   "cell_type": "code",
   "execution_count": 10,
   "metadata": {},
   "outputs": [
    {
     "name": "stdout",
     "output_type": "stream",
     "text": [
      "Translated(src d en text public prosecutor district prosecutor office suspect bear date bi\n"
     ]
    }
   ],
   "source": [
    "def lemmatization(texts, allowed_postags=[\"NOUN\", \"ADJ\", \"VERB\", \"ADV\"]):\n",
    "    nlp = spacy.load(\"en_core_web_sm\", disable=[\"parser\", \"ner\"])\n",
    "    texts_out = []\n",
    "    for text in texts:\n",
    "        doc = nlp(text)\n",
    "        new_text = []\n",
    "        for token in doc:\n",
    "            if token.pos_ in allowed_postags:\n",
    "                new_text.append(token.lemma_)\n",
    "        final = \" \".join(new_text)\n",
    "        texts_out.append(final)\n",
    "    return (texts_out)\n",
    "\n",
    "\n",
    "lemmatized_texts = lemmatization(data)\n",
    "print (lemmatized_texts[0][0:90])"
   ]
  },
  {
   "cell_type": "code",
   "execution_count": 11,
   "metadata": {},
   "outputs": [
    {
     "name": "stdout",
     "output_type": "stream",
     "text": [
      "['translated', 'src', 'en', 'text', 'public', 'prosecutor', 'district', 'prosecutor', 'office', 'suspect', 'bear', 'date', 'birth', 'place', 'birth', 'currently', 'detain', 'detention', 'address', 'counsel']\n"
     ]
    }
   ],
   "source": [
    "def gen_words(texts):\n",
    "    final = []\n",
    "    for text in texts:\n",
    "        new = gensim.utils.simple_preprocess(text, deacc=True)\n",
    "        final.append(new)\n",
    "    return (final)\n",
    "\n",
    "data_words = gen_words(lemmatized_texts)\n",
    "\n",
    "print (data_words[0][0:20])"
   ]
  },
  {
   "cell_type": "code",
   "execution_count": 12,
   "metadata": {},
   "outputs": [
    {
     "name": "stdout",
     "output_type": "stream",
     "text": [
      "[(0, 2), (1, 6), (2, 3), (3, 1), (4, 7), (5, 2), (6, 1), (7, 2), (8, 4), (9, 2), (10, 5), (11, 6), (12, 3), (13, 3), (14, 1), (15, 6), (16, 2), (17, 1), (18, 12), (19, 4)]\n",
      "above\n"
     ]
    }
   ],
   "source": [
    "id2word = corpora.Dictionary(data_words)\n",
    "\n",
    "corpus = []\n",
    "for text in data_words:\n",
    "    new = id2word.doc2bow(text)\n",
    "    corpus.append(new)\n",
    "\n",
    "print (corpus[0][0:20])\n",
    "\n",
    "word = id2word[[0][:1][0]]\n",
    "print (word)"
   ]
  },
  {
   "cell_type": "code",
   "execution_count": 24,
   "metadata": {},
   "outputs": [],
   "source": [
    "lda_model = gensim.models.ldamodel.LdaModel(corpus=corpus,\n",
    "                                           id2word=id2word,\n",
    "                                           num_topics=3,\n",
    "                                           random_state=100,\n",
    "                                           update_every=1,\n",
    "                                           chunksize=100,\n",
    "                                           passes=10,\n",
    "                                           alpha=\"auto\")\n"
   ]
  },
  {
   "cell_type": "code",
   "execution_count": null,
   "metadata": {},
   "outputs": [],
   "source": []
  },
  {
   "cell_type": "code",
   "execution_count": null,
   "metadata": {},
   "outputs": [],
   "source": []
  },
  {
   "cell_type": "markdown",
   "metadata": {},
   "source": [
    "## Vizualizing the Data"
   ]
  },
  {
   "cell_type": "code",
   "execution_count": 25,
   "metadata": {},
   "outputs": [
    {
     "data": {
      "text/html": [
       "\n",
       "<link rel=\"stylesheet\" type=\"text/css\" href=\"https://cdn.jsdelivr.net/gh/bmabey/pyLDAvis@3.3.1/pyLDAvis/js/ldavis.v1.0.0.css\">\n",
       "\n",
       "\n",
       "<div id=\"ldavis_el36501404447624655525045225031\"></div>\n",
       "<script type=\"text/javascript\">\n",
       "\n",
       "var ldavis_el36501404447624655525045225031_data = {\"mdsDat\": {\"x\": [0.06950478957461838, -0.008189665693799707, -0.061315123880818674], \"y\": [0.03260950692554591, -0.07853618663237918, 0.04592667970683327], \"topics\": [1, 2, 3], \"cluster\": [1, 1, 1], \"Freq\": [82.08473306510314, 17.81676317333104, 0.09850376156581683]}, \"tinfo\": {\"Term\": [\"house\", \"address\", \"count\", \"consider\", \"court\", \"suspect\", \"window\", \"prove\", \"witness\", \"fact\", \"match\", \"number\", \"attempt\", \"evidence\", \"declarant\", \"fellow\", \"hearing\", \"primary\", \"statement\", \"legally\", \"convincingly\", \"burglary\", \"blood\", \"least\", \"regard\", \"view\", \"result\", \"boy\", \"door\", \"charge\", \"fellow\", \"least\", \"hearing\", \"view\", \"argue\", \"officer\", \"primary\", \"boy\", \"police\", \"victim\", \"car\", \"residence\", \"show\", \"stop\", \"more\", \"photo\", \"sign\", \"name\", \"alternative\", \"bring\", \"official\", \"case\", \"lock\", \"firebreak\", \"know\", \"above\", \"refer\", \"time\", \"present\", \"alternatively\", \"offense\", \"break\", \"office\", \"co\", \"prosecutor\", \"public\", \"suspect\", \"take\", \"crime\", \"see\", \"other\", \"good\", \"defense\", \"charge\", \"court\", \"home\", \"number\", \"together\", \"commit\", \"address\", \"position\", \"prove\", \"defendant\", \"person\", \"house\", \"regard\", \"fact\", \"count\", \"door\", \"smash\", \"test\", \"track\", \"material\", \"cell\", \"choose\", \"mark\", \"randomly\", \"reference\", \"rear\", \"fragment\", \"smear\", \"secure\", \"implausible\", \"side\", \"stone\", \"smartphone\", \"jewelry\", \"laptop\", \"sample\", \"distance\", \"error\", \"made\", \"box\", \"like\", \"vandalize\", \"later\", \"seam\", \"blind\", \"am\", \"match\", \"dna\", \"blood\", \"result\", \"description\", \"chance\", \"left\", \"following\", \"house\", \"declarant\", \"window\", \"carry\", \"consider\", \"count\", \"witness\", \"address\", \"prove\", \"fact\", \"court\", \"suspect\", \"attempt\", \"evidence\", \"mean\", \"statement\", \"burglary\", \"convincingly\", \"number\", \"legally\", \"regard\", \"distance\", \"windowpane\", \"blind\", \"entrance\", \"outer\", \"desk\", \"bij\", \"casement\", \"write\", \"recover\", \"restrict\", \"horizontal\", \"drawer\", \"liking\", \"deposit\", \"highly\", \"made\", \"error\", \"seam\", \"harm\", \"correct\", \"damage\", \"main\", \"greeting\", \"misappropriate\", \"element\", \"vandalize\", \"perpetration\", \"discovery\", \"negative\", \"language\", \"behalf\", \"suspect\", \"closed\", \"euro\", \"cognizance\", \"house\", \"number\", \"meter\", \"send\", \"immediately\", \"address\", \"see\", \"count\", \"destroy\", \"convincing\", \"again\", \"bell\", \"charge\", \"court\", \"prove\", \"witness\", \"window\", \"alternative\", \"public\", \"fact\", \"statement\", \"primary\", \"home\", \"scooter\", \"match\", \"take\", \"consider\", \"photo\", \"person\", \"boy\", \"prosecutor\", \"declarant\", \"commit\", \"together\", \"report\", \"legally\", \"break\", \"defense\", \"crime\"], \"Freq\": [39.0, 37.0, 21.0, 19.0, 47.0, 120.0, 15.0, 25.0, 17.0, 20.0, 9.0, 29.0, 15.0, 17.0, 10.0, 15.0, 14.0, 11.0, 14.0, 16.0, 16.0, 15.0, 8.0, 14.0, 18.0, 13.0, 8.0, 10.0, 17.0, 29.0, 15.645152306133799, 13.84301393705535, 13.832782471108468, 12.94073106480431, 12.032861241851998, 11.134143917074892, 11.115065640350602, 10.219471643333616, 10.236980402549047, 10.221166818903228, 9.335620633744327, 9.328319175464094, 9.32345657098804, 8.430682630834541, 8.426865767239098, 8.410081354248886, 8.426530477701988, 7.514008285875269, 7.503783465306599, 7.524786485211496, 7.519500993030976, 19.599950996517, 6.625690978001539, 6.6257550152825, 6.623954117786772, 6.621393230673591, 6.622450449934753, 6.621804639997506, 6.622098244889463, 6.6192226084991015, 17.81822722930895, 26.1075282304109, 15.971767812301406, 24.302401857637758, 38.15968523409234, 37.17420464311546, 108.69857225543076, 26.161585361547356, 26.12981078768445, 19.557903876187343, 18.75298425251114, 16.899491608853054, 27.206574710296547, 26.108202434236873, 40.22232605387293, 15.068432553791544, 25.27970259215971, 17.827248028170477, 19.707070868559132, 30.016871325566456, 13.276374619336954, 19.76342850880788, 15.183808402075417, 14.152468660175773, 23.766286574427642, 15.072445153981622, 15.16140260324228, 15.148964871728674, 14.244992865160945, 5.380463875018715, 4.626239027530158, 4.620629397551139, 3.182510667908916, 3.1743076003019155, 2.450239168973125, 2.447463988774996, 2.4464718789007263, 2.4430536499551194, 2.4365227188953944, 1.7152543819698758, 1.714275384835155, 1.713736713494486, 1.7136054549716018, 1.7132116794029482, 1.7122324200134365, 1.7121254200587175, 1.7116416910967587, 1.7102934392163407, 4.637451993373212, 0.9829360049901974, 0.9823575364849978, 0.982275385171724, 0.9825268875162718, 0.982461127127434, 0.9821679262711207, 0.9821853006510229, 0.9819902486502331, 0.9816706256237286, 0.9821239985936319, 6.804287096004728, 4.60917935337704, 5.371798976724802, 5.3301618325803926, 3.8788558830286335, 2.435434361512836, 2.4317606964008163, 3.160392098837833, 15.861974356046984, 5.304392676818896, 6.660253617742129, 4.574036162366827, 6.612071643034073, 6.601692647426328, 5.180060827473728, 7.008339681220965, 5.7819969403892815, 5.10914398493579, 7.55079798107146, 11.433009151895865, 4.458787769961972, 4.41076524616683, 3.767677947234547, 3.7691992872770106, 3.7039156776492796, 3.7217935867502487, 4.207810459505626, 3.6820375962215235, 3.7081655165370777, 0.0043747792533822185, 0.004375257005760554, 0.004374455556209341, 0.00437482311380542, 0.004374223204711228, 0.004374779978347892, 0.0043742438662329, 0.004373039335767644, 0.004372750799429894, 0.004372275946914249, 0.004372237161250758, 0.00437161187835802, 0.00437129941815307, 0.004371437524113726, 0.004370612150695312, 0.004372391216456215, 0.004369609523169914, 0.0043688780328061195, 0.004368542011216805, 0.004369132495757251, 0.004369097334922124, 0.004370450845833128, 0.004367626017089298, 0.004367937752328577, 0.004367183788028927, 0.004367717000281227, 0.004365832814497777, 0.004366936212251687, 0.004367225836037946, 0.004367116366221362, 0.004367542283554097, 0.004367299057570893, 0.006465396112282025, 0.004411175792499268, 0.0044056925146335035, 0.004403685809651361, 0.0055168760373853895, 0.005277435099958664, 0.0044019538666591855, 0.004400492335862943, 0.004399268593807359, 0.00530586390384947, 0.005114583523511338, 0.005043495202056686, 0.004397940819177736, 0.004396893968746301, 0.004396528223564403, 0.004396193651906435, 0.005092964684667411, 0.0051910039674889896, 0.005051917128276901, 0.004923330691868771, 0.004897448329903462, 0.0047621211626702, 0.005079951913324573, 0.0049278367160076825, 0.004840769426160179, 0.00479370682958295, 0.004858787360507611, 0.004659766159198803, 0.004747741468551412, 0.004939167929472601, 0.0048684203418841365, 0.004714024402560807, 0.004798698580722598, 0.004732439980579736, 0.004918173648555738, 0.004717163866406606, 0.004813419371190409, 0.004781686898728929, 0.0047225710228767336, 0.004751478666594384, 0.004811186114435535, 0.004807853809720789, 0.004795209683422539], \"Total\": [39.0, 37.0, 21.0, 19.0, 47.0, 120.0, 15.0, 25.0, 17.0, 20.0, 9.0, 29.0, 15.0, 17.0, 10.0, 15.0, 14.0, 11.0, 14.0, 16.0, 16.0, 15.0, 8.0, 14.0, 18.0, 13.0, 8.0, 10.0, 17.0, 29.0, 15.914156232646066, 14.109139428181248, 14.100394788268185, 13.20280735168613, 12.299211255568828, 11.395393004621242, 11.377194713616227, 10.477530606624425, 10.496219440879633, 10.483701276058392, 9.593634740862791, 9.586722412596675, 9.583055065513557, 8.688475432059828, 8.685854397671376, 8.669124436463887, 8.687436540063361, 7.771429399181706, 7.761414671860335, 7.783165129435921, 7.778503960797274, 20.337681885918055, 6.880954091674884, 6.881533545491292, 6.880278066479724, 6.8776245842286245, 6.879465693116129, 6.87884273851274, 6.87972185065494, 6.876766636378181, 18.531931511317318, 27.432228965808445, 16.712408539762617, 25.632200470398118, 40.72808550673227, 39.79996420167766, 120.1380468034389, 28.179083399601915, 28.181554338233898, 21.04373549730642, 20.18846881329464, 18.365050208350073, 30.604975294648792, 29.64991743413201, 47.778315038911884, 16.540540546211734, 29.492790486765294, 20.01143600110625, 22.57603389938901, 37.03051687069127, 14.745927728794797, 25.55047736632544, 18.065291330475446, 16.381677091434945, 39.63377780651201, 18.785280624620498, 20.275474424894078, 21.755701014357058, 17.895063747875078, 5.770137737952453, 5.029962808541553, 5.027007126599901, 3.5318983530208565, 3.5360455053214737, 2.787479979077406, 2.7883859316769763, 2.789350360228554, 2.789779572049123, 2.7920266299764904, 2.0438347753586337, 2.0434287891993255, 2.044208346891673, 2.0440970078723106, 2.0444995272161055, 2.044016882772395, 2.0451686884935762, 2.045335774204509, 2.044161148807143, 5.92755900514606, 1.2979434384100903, 1.2984718297145188, 1.2984391930089454, 1.2988911502526692, 1.2988314788047923, 1.2987218848479452, 1.2988092697996712, 1.2985739887884282, 1.2982365485102865, 1.2989094345779446, 9.970945663497595, 6.8381848297935885, 8.48015521712452, 8.490529488765075, 6.093777781012183, 3.693347336596534, 3.6929770906821053, 5.346025479738324, 39.63377780651201, 10.295907977787111, 15.420029681279349, 9.554483282344123, 19.956012013776885, 21.755701014357058, 17.546334902841277, 37.03051687069127, 25.55047736632544, 20.275474424894078, 47.778315038911884, 120.1380468034389, 15.907793212785469, 17.728111043634488, 12.442555648190744, 14.236798996415459, 15.163717182792224, 16.064746688789548, 29.492790486765294, 16.975862407864863, 18.785280624620498, 1.2979434384100903, 1.2984373360350192, 1.2982365485102865, 1.298418632800042, 1.2982983379941635, 1.2986851795459893, 1.2987925670104261, 1.2984917441818746, 1.2985671201146654, 1.2984481435937871, 1.2987379042354985, 1.2986347035962815, 1.2987115464432042, 1.2987607409292856, 1.2985786884488275, 1.299262182770684, 1.2984391930089454, 1.2984718297145188, 1.2985739887884282, 1.298822618874766, 1.2988572268929361, 1.2993340301907506, 1.2986670352402099, 1.2988792229491612, 1.2990766588724902, 1.2992374533872182, 1.2987218848479452, 1.2991207961829698, 1.2992515016549695, 1.2992711813499218, 1.29947725088779, 1.2994625410858989, 120.1380468034389, 1.4531750454455712, 1.4535720908887964, 1.4536074003461537, 39.63377780651201, 29.492790486765294, 1.4537452790893077, 1.4539105872742895, 1.4539516479368315, 37.03051687069127, 21.04373549730642, 21.755701014357058, 1.454110072251219, 1.4541262330813316, 1.4541566743150143, 1.4541374348156053, 29.64991743413201, 47.778315038911884, 25.55047736632544, 17.546334902841277, 15.420029681279349, 7.761414671860335, 39.79996420167766, 20.275474424894078, 14.236798996415459, 11.377194713616227, 16.540540546211734, 5.959241509862564, 9.970945663497595, 28.179083399601915, 19.956012013776885, 8.669124436463887, 16.381677091434945, 10.477530606624425, 40.72808550673227, 10.295907977787111, 22.57603389938901, 20.01143600110625, 13.667887999349821, 16.975862407864863, 27.432228965808445, 30.604975294648792, 28.181554338233898], \"Category\": [\"Default\", \"Default\", \"Default\", \"Default\", \"Default\", \"Default\", \"Default\", \"Default\", \"Default\", \"Default\", \"Default\", \"Default\", \"Default\", \"Default\", \"Default\", \"Default\", \"Default\", \"Default\", \"Default\", \"Default\", \"Default\", \"Default\", \"Default\", \"Default\", \"Default\", \"Default\", \"Default\", \"Default\", \"Default\", \"Default\", \"Topic1\", \"Topic1\", \"Topic1\", \"Topic1\", \"Topic1\", \"Topic1\", \"Topic1\", \"Topic1\", \"Topic1\", \"Topic1\", \"Topic1\", \"Topic1\", \"Topic1\", \"Topic1\", \"Topic1\", \"Topic1\", \"Topic1\", \"Topic1\", \"Topic1\", \"Topic1\", \"Topic1\", \"Topic1\", \"Topic1\", \"Topic1\", \"Topic1\", \"Topic1\", \"Topic1\", \"Topic1\", \"Topic1\", \"Topic1\", \"Topic1\", \"Topic1\", \"Topic1\", \"Topic1\", \"Topic1\", \"Topic1\", \"Topic1\", \"Topic1\", \"Topic1\", \"Topic1\", \"Topic1\", \"Topic1\", \"Topic1\", \"Topic1\", \"Topic1\", \"Topic1\", \"Topic1\", \"Topic1\", \"Topic1\", \"Topic1\", \"Topic1\", \"Topic1\", \"Topic1\", \"Topic1\", \"Topic1\", \"Topic1\", \"Topic1\", \"Topic1\", \"Topic1\", \"Topic2\", \"Topic2\", \"Topic2\", \"Topic2\", \"Topic2\", \"Topic2\", \"Topic2\", \"Topic2\", \"Topic2\", \"Topic2\", \"Topic2\", \"Topic2\", \"Topic2\", \"Topic2\", \"Topic2\", \"Topic2\", \"Topic2\", \"Topic2\", \"Topic2\", \"Topic2\", \"Topic2\", \"Topic2\", \"Topic2\", \"Topic2\", \"Topic2\", \"Topic2\", \"Topic2\", \"Topic2\", \"Topic2\", \"Topic2\", \"Topic2\", \"Topic2\", \"Topic2\", \"Topic2\", \"Topic2\", \"Topic2\", \"Topic2\", \"Topic2\", \"Topic2\", \"Topic2\", \"Topic2\", \"Topic2\", \"Topic2\", \"Topic2\", \"Topic2\", \"Topic2\", \"Topic2\", \"Topic2\", \"Topic2\", \"Topic2\", \"Topic2\", \"Topic2\", \"Topic2\", \"Topic2\", \"Topic2\", \"Topic2\", \"Topic2\", \"Topic2\", \"Topic2\", \"Topic3\", \"Topic3\", \"Topic3\", \"Topic3\", \"Topic3\", \"Topic3\", \"Topic3\", \"Topic3\", \"Topic3\", \"Topic3\", \"Topic3\", \"Topic3\", \"Topic3\", \"Topic3\", \"Topic3\", \"Topic3\", \"Topic3\", \"Topic3\", \"Topic3\", \"Topic3\", \"Topic3\", \"Topic3\", \"Topic3\", \"Topic3\", \"Topic3\", \"Topic3\", \"Topic3\", \"Topic3\", \"Topic3\", \"Topic3\", \"Topic3\", \"Topic3\", \"Topic3\", \"Topic3\", \"Topic3\", \"Topic3\", \"Topic3\", \"Topic3\", \"Topic3\", \"Topic3\", \"Topic3\", \"Topic3\", \"Topic3\", \"Topic3\", \"Topic3\", \"Topic3\", \"Topic3\", \"Topic3\", \"Topic3\", \"Topic3\", \"Topic3\", \"Topic3\", \"Topic3\", \"Topic3\", \"Topic3\", \"Topic3\", \"Topic3\", \"Topic3\", \"Topic3\", \"Topic3\", \"Topic3\", \"Topic3\", \"Topic3\", \"Topic3\", \"Topic3\", \"Topic3\", \"Topic3\", \"Topic3\", \"Topic3\", \"Topic3\", \"Topic3\", \"Topic3\", \"Topic3\", \"Topic3\", \"Topic3\"], \"logprob\": [30.0, 29.0, 28.0, 27.0, 26.0, 25.0, 24.0, 23.0, 22.0, 21.0, 20.0, 19.0, 18.0, 17.0, 16.0, 15.0, 14.0, 13.0, 12.0, 11.0, 10.0, 9.0, 8.0, 7.0, 6.0, 5.0, 4.0, 3.0, 2.0, 1.0, -5.1111, -5.2334, -5.2342, -5.3008, -5.3736, -5.4512, -5.4529, -5.5369, -5.5352, -5.5368, -5.6274, -5.6282, -5.6287, -5.7293, -5.7298, -5.7318, -5.7298, -5.8445, -5.8458, -5.843, -5.8437, -4.8857, -5.9703, -5.9703, -5.9705, -5.9709, -5.9708, -5.9709, -5.9708, -5.9712, -4.981, -4.599, -5.0904, -4.6707, -4.2194, -4.2456, -3.1726, -4.5969, -4.5981, -4.8878, -4.9299, -5.0339, -4.5578, -4.599, -4.1668, -5.1486, -4.6312, -4.9805, -4.8802, -4.4595, -5.2752, -4.8774, -5.141, -5.2113, -4.693, -5.1484, -5.1425, -5.1433, -5.2048, -4.6508, -4.8019, -4.8031, -5.1759, -5.1785, -5.4374, -5.4386, -5.439, -5.4404, -5.443, -5.7941, -5.7946, -5.7949, -5.795, -5.7952, -5.7958, -5.7959, -5.7962, -5.7969, -4.7994, -6.3508, -6.3514, -6.3515, -6.3512, -6.3513, -6.3516, -6.3516, -6.3518, -6.3521, -6.3517, -4.4161, -4.8056, -4.6525, -4.6602, -4.9781, -5.4435, -5.445, -5.1829, -3.5697, -4.6651, -4.4375, -4.8132, -4.4447, -4.4463, -4.6888, -4.3865, -4.5789, -4.7026, -4.312, -3.8971, -4.8387, -4.8496, -5.0072, -5.0068, -5.0242, -5.0194, -4.8967, -5.0301, -5.0231, -6.5677, -6.5676, -6.5678, -6.5677, -6.5678, -6.5677, -6.5678, -6.5681, -6.5682, -6.5683, -6.5683, -6.5684, -6.5685, -6.5685, -6.5687, -6.5683, -6.5689, -6.5691, -6.5691, -6.569, -6.569, -6.5687, -6.5693, -6.5693, -6.5694, -6.5693, -6.5698, -6.5695, -6.5694, -6.5695, -6.5694, -6.5694, -6.1771, -6.5594, -6.5607, -6.5611, -6.3358, -6.3801, -6.5615, -6.5619, -6.5621, -6.3748, -6.4115, -6.4255, -6.5624, -6.5627, -6.5628, -6.5628, -6.4157, -6.3966, -6.4238, -6.4496, -6.4549, -6.4829, -6.4183, -6.4487, -6.4665, -6.4763, -6.4628, -6.5046, -6.4859, -6.4464, -6.4608, -6.493, -6.4752, -6.4891, -6.4506, -6.4924, -6.4722, -6.4788, -6.4912, -6.4851, -6.4726, -6.4733, -6.476], \"loglift\": [30.0, 29.0, 28.0, 27.0, 26.0, 25.0, 24.0, 23.0, 22.0, 21.0, 20.0, 19.0, 18.0, 17.0, 16.0, 15.0, 14.0, 13.0, 12.0, 11.0, 10.0, 9.0, 8.0, 7.0, 6.0, 5.0, 4.0, 3.0, 2.0, 1.0, 0.1804, 0.1784, 0.1783, 0.1774, 0.1755, 0.1742, 0.1741, 0.1725, 0.1724, 0.1721, 0.1702, 0.1701, 0.17, 0.1673, 0.1671, 0.1671, 0.1669, 0.1637, 0.1637, 0.1637, 0.1636, 0.1605, 0.1596, 0.1595, 0.1595, 0.1595, 0.1593, 0.1593, 0.1593, 0.1592, 0.1581, 0.1479, 0.1521, 0.1441, 0.1323, 0.1292, 0.0974, 0.1231, 0.1218, 0.1242, 0.1237, 0.1143, 0.0797, 0.0702, 0.0253, 0.1042, 0.0433, 0.0818, 0.0615, -0.0126, 0.0924, -0.0594, 0.0237, 0.0511, -0.314, -0.0228, -0.0932, -0.1645, -0.0307, 1.6551, 1.6414, 1.6407, 1.6209, 1.6171, 1.5961, 1.5946, 1.5939, 1.5923, 1.5888, 1.5498, 1.5494, 1.5487, 1.5487, 1.5482, 1.5479, 1.5473, 1.5469, 1.5467, 1.4796, 1.447, 1.446, 1.446, 1.4459, 1.4459, 1.4457, 1.4456, 1.4456, 1.4455, 1.4455, 1.3429, 1.3306, 1.2685, 1.2595, 1.2733, 1.3086, 1.3072, 1.1994, 0.8093, 1.0618, 0.8855, 0.9884, 0.6204, 0.5325, 0.505, 0.0604, 0.2391, 0.3467, -0.1199, -0.6271, 0.4531, 0.3339, 0.5304, 0.3961, 0.3155, 0.2626, -0.2222, 0.1967, 0.1025, 1.2302, 1.2299, 1.2299, 1.2298, 1.2297, 1.2296, 1.2294, 1.2293, 1.2292, 1.2292, 1.229, 1.2289, 1.2288, 1.2288, 1.2287, 1.2286, 1.2286, 1.2284, 1.2282, 1.2282, 1.2281, 1.2281, 1.228, 1.2279, 1.2275, 1.2275, 1.2275, 1.2274, 1.2274, 1.2274, 1.2273, 1.2273, -2.9071, 1.1255, 1.1239, 1.1235, -1.9568, -1.7056, 1.123, 1.1225, 1.1222, -1.9279, -1.3994, -1.4467, 1.1218, 1.1216, 1.1215, 1.1214, -1.7465, -2.2046, -1.6058, -1.2558, -1.1319, -0.4734, -2.0435, -1.3994, -1.0637, -0.8492, -1.21, -0.2309, -0.7269, -1.7263, -1.3957, -0.5942, -1.2127, -0.7797, -2.0989, -0.7655, -1.5304, -1.4164, -1.0476, -1.2583, -1.7257, -1.8358, -1.756]}, \"token.table\": {\"Topic\": [1, 1, 2, 1, 1, 1, 2, 1, 1, 2, 2, 1, 2, 2, 1, 2, 2, 1, 1, 2, 1, 1, 2, 1, 1, 2, 1, 2, 2, 2, 1, 2, 1, 2, 2, 1, 1, 2, 1, 1, 2, 1, 2, 1, 1, 2, 2, 1, 2, 1, 2, 1, 2, 2, 1, 2, 1, 2, 1, 2, 2, 1, 2, 2, 1, 2, 2, 1, 2, 1, 2, 2, 2, 2, 2, 1, 1, 2, 1, 2, 1, 1, 1, 2, 2, 1, 2, 2, 2, 1, 2, 1, 2, 2, 1, 2, 1, 2, 2, 1, 2, 2, 2, 1, 1, 2, 1, 2, 2, 2, 1, 2, 2, 2, 1, 2, 2, 1, 2, 1, 2, 1, 1, 2, 1, 2, 1, 2, 1, 2, 1, 1, 1, 2, 2, 2, 1, 2, 1, 1, 1, 2, 1, 1, 1, 2, 1, 2, 1, 2, 2, 2, 2, 1, 2, 1, 2, 1, 2, 1, 2, 1, 2, 1, 2, 1, 2, 2, 1, 2, 1, 1, 2, 1, 2, 2, 2, 1, 2, 2, 1, 1, 2, 1, 2, 2, 1, 1, 2, 2, 2, 1, 1, 1, 2, 2, 1, 2, 2], \"Freq\": [1.017793267758755, 0.810142621145649, 0.18903327826731808, 0.6876838085353173, 1.030739927993369, 1.0179202480086953, 0.7698766160128251, 0.9756723216349868, 0.6914849754998726, 0.2514490819999537, 0.7695489237914835, 0.6876929071885196, 0.7699458908221273, 0.7702756490313649, 0.35376710958567226, 0.5896118493094538, 0.7698874534678853, 0.9544233632376596, 0.9477902810014609, 0.036453472346210034, 1.0278594719446474, 0.7254157979471414, 0.2637875628898696, 0.9381220197664725, 0.5233145375050869, 0.5233145375050869, 0.9833962450680346, 0.04916981225340173, 0.7701242649255796, 0.8484053713350784, 0.27075709616889504, 0.5415141923377901, 0.876899575108754, 0.13490762693980832, 0.717493942561681, 0.6881483432667816, 0.9363222649462695, 0.03901342770609456, 0.6879436633040433, 0.8858951970541324, 0.13288427955811985, 0.6514327607652914, 0.35077148656592616, 0.6876982047706915, 0.7469772311052967, 0.24899241036843223, 0.7699075612738068, 0.6894744504027324, 0.3217547435212751, 0.8371998880124377, 0.16743997760248755, 0.922589282619015, 0.07096840635530884, 0.7696250361834929, 0.48562982602284727, 0.48562982602284727, 0.8303215113224098, 0.16606430226448196, 0.8822095015616918, 0.09802327795129907, 0.7700727024825239, 0.3282036319459942, 0.6564072638919884, 0.7700095571658041, 0.6877058477779633, 0.7696739228134146, 0.770449597730503, 0.292475276667883, 0.7311881916697074, 0.7823386492077967, 0.22352532834508476, 0.7699939241617673, 0.7696822450683809, 0.7701676290977882, 0.770136076205719, 0.6879603744927046, 0.7332986559032086, 0.22563035566252573, 0.7398100624261157, 0.24660335414203857, 1.0053941764865821, 1.0172151241762566, 0.37410970216660766, 0.5611645532499114, 0.9785526815146093, 0.9256713053945573, 0.054451253258503376, 0.769894523163945, 0.7699280759880431, 0.9928800016045143, 0.7696675953944063, 0.9068627447871066, 0.06045751631914044, 0.7700394862625504, 0.6055440921419479, 0.4036960614279653, 0.687780781031479, 0.9784271452370008, 0.9778345566648383, 1.017400740546164, 0.7695402126638307, 0.9783964445107897, 0.7699359892574839, 0.9922646289848652, 0.2707842413978519, 0.5415684827957038, 0.7657932002310022, 0.23562867699415452, 0.7699228239526638, 0.7699647583160566, 1.0173007851439013, 0.7701554338348678, 0.7700203153420565, 0.7172608272331839, 0.3008741699378255, 0.7020397298549262, 0.8494015682625973, 0.723324070590649, 0.3214773647069551, 0.6878784161049489, 0.7697775132592496, 0.9210377740323106, 1.0294116550608259, 0.7696622647791018, 0.8476647881528401, 0.13562636610445442, 0.9712964883885703, 0.05396091602158724, 0.9573724793725791, 0.05983577996078619, 0.9653023810182855, 1.0284754035376262, 0.9411313049897077, 0.04953322657840566, 0.7702389895568791, 0.7697513602570016, 0.8546133538012302, 0.12208762197160432, 0.9228152229942126, 0.9527239837472331, 0.8815993295975896, 0.06781533304596843, 1.0174829959635083, 0.9668464218895014, 0.9330170944008325, 0.07365924429480257, 0.7827642401061063, 0.2348292720318319, 0.9296490773838526, 0.07537695222031238, 0.7170128315598633, 0.7163255459411003, 0.7701501249270105, 1.0175208820365922, 0.7169025180476817, 0.7984975204650706, 0.2129326721240188, 0.8048061266322396, 0.1463283866604072, 0.9387984352372883, 0.769978297190494, 0.35333485431853107, 0.5888914238642184, 0.16870350832979336, 0.8435175416489669, 1.0068395432656958, 0.7700754894474683, 0.9783738546225516, 0.9504016053879779, 0.04752008026939889, 0.6878002050144942, 0.9391577047687233, 0.9782345133252741, 0.9208700360695414, 0.9779144435626743, 0.8665304412255264, 0.9787470992731084, 0.7024050843534281, 0.28096203374137124, 0.9784654994078656, 0.9207599264746258, 0.9072895964284974, 0.09156133541938964, 0.9226701816840253, 0.07097462936030964, 0.9940431351717607, 1.0176130297046817, 0.89948567404183, 0.09994285267131445, 0.994627593333418, 0.7699877946671241, 0.9538615930269762, 0.9846390736239721, 0.5836564640939977, 0.4539550276286649, 0.7701565352808291, 0.6839035084219691, 0.2849597951758205, 0.7700795627042355], \"Term\": [\"above\", \"address\", \"address\", \"again\", \"alternative\", \"alternatively\", \"am\", \"argue\", \"attempt\", \"attempt\", \"behalf\", \"bell\", \"bij\", \"blind\", \"blood\", \"blood\", \"box\", \"boy\", \"break\", \"break\", \"bring\", \"burglary\", \"burglary\", \"car\", \"carry\", \"carry\", \"case\", \"case\", \"casement\", \"cell\", \"chance\", \"chance\", \"charge\", \"charge\", \"choose\", \"closed\", \"co\", \"co\", \"cognizance\", \"commit\", \"commit\", \"consider\", \"consider\", \"convincing\", \"convincingly\", \"convincingly\", \"correct\", \"count\", \"count\", \"court\", \"court\", \"crime\", \"crime\", \"damage\", \"declarant\", \"declarant\", \"defendant\", \"defendant\", \"defense\", \"defense\", \"deposit\", \"description\", \"description\", \"desk\", \"destroy\", \"discovery\", \"distance\", \"dna\", \"dna\", \"door\", \"door\", \"drawer\", \"element\", \"entrance\", \"error\", \"euro\", \"evidence\", \"evidence\", \"fact\", \"fact\", \"fellow\", \"firebreak\", \"following\", \"following\", \"fragment\", \"good\", \"good\", \"greeting\", \"harm\", \"hearing\", \"highly\", \"home\", \"home\", \"horizontal\", \"house\", \"house\", \"immediately\", \"implausible\", \"jewelry\", \"know\", \"language\", \"laptop\", \"later\", \"least\", \"left\", \"left\", \"legally\", \"legally\", \"like\", \"liking\", \"lock\", \"made\", \"main\", \"mark\", \"match\", \"match\", \"material\", \"mean\", \"mean\", \"meter\", \"misappropriate\", \"more\", \"name\", \"negative\", \"number\", \"number\", \"offense\", \"offense\", \"office\", \"office\", \"officer\", \"official\", \"other\", \"other\", \"outer\", \"perpetration\", \"person\", \"person\", \"photo\", \"police\", \"position\", \"position\", \"present\", \"primary\", \"prosecutor\", \"prosecutor\", \"prove\", \"prove\", \"public\", \"public\", \"randomly\", \"rear\", \"recover\", \"refer\", \"reference\", \"regard\", \"regard\", \"report\", \"report\", \"residence\", \"restrict\", \"result\", \"result\", \"sample\", \"sample\", \"scooter\", \"seam\", \"secure\", \"see\", \"see\", \"send\", \"show\", \"side\", \"sign\", \"smartphone\", \"smash\", \"smear\", \"statement\", \"statement\", \"stone\", \"stop\", \"suspect\", \"suspect\", \"take\", \"take\", \"test\", \"time\", \"together\", \"together\", \"track\", \"vandalize\", \"victim\", \"view\", \"window\", \"window\", \"windowpane\", \"witness\", \"witness\", \"write\"]}, \"R\": 30, \"lambda.step\": 0.01, \"plot.opts\": {\"xlab\": \"PC1\", \"ylab\": \"PC2\"}, \"topic.order\": [2, 1, 3]};\n",
       "\n",
       "function LDAvis_load_lib(url, callback){\n",
       "  var s = document.createElement('script');\n",
       "  s.src = url;\n",
       "  s.async = true;\n",
       "  s.onreadystatechange = s.onload = callback;\n",
       "  s.onerror = function(){console.warn(\"failed to load library \" + url);};\n",
       "  document.getElementsByTagName(\"head\")[0].appendChild(s);\n",
       "}\n",
       "\n",
       "if(typeof(LDAvis) !== \"undefined\"){\n",
       "   // already loaded: just create the visualization\n",
       "   !function(LDAvis){\n",
       "       new LDAvis(\"#\" + \"ldavis_el36501404447624655525045225031\", ldavis_el36501404447624655525045225031_data);\n",
       "   }(LDAvis);\n",
       "}else if(typeof define === \"function\" && define.amd){\n",
       "   // require.js is available: use it to load d3/LDAvis\n",
       "   require.config({paths: {d3: \"https://d3js.org/d3.v5\"}});\n",
       "   require([\"d3\"], function(d3){\n",
       "      window.d3 = d3;\n",
       "      LDAvis_load_lib(\"https://cdn.jsdelivr.net/gh/bmabey/pyLDAvis@3.3.1/pyLDAvis/js/ldavis.v3.0.0.js\", function(){\n",
       "        new LDAvis(\"#\" + \"ldavis_el36501404447624655525045225031\", ldavis_el36501404447624655525045225031_data);\n",
       "      });\n",
       "    });\n",
       "}else{\n",
       "    // require.js not available: dynamically load d3 & LDAvis\n",
       "    LDAvis_load_lib(\"https://d3js.org/d3.v5.js\", function(){\n",
       "         LDAvis_load_lib(\"https://cdn.jsdelivr.net/gh/bmabey/pyLDAvis@3.3.1/pyLDAvis/js/ldavis.v3.0.0.js\", function(){\n",
       "                 new LDAvis(\"#\" + \"ldavis_el36501404447624655525045225031\", ldavis_el36501404447624655525045225031_data);\n",
       "            })\n",
       "         });\n",
       "}\n",
       "</script>"
      ],
      "text/plain": [
       "PreparedData(topic_coordinates=              x         y  topics  cluster       Freq\n",
       "topic                                                \n",
       "1      0.069505  0.032610       1        1  82.084733\n",
       "0     -0.008190 -0.078536       2        1  17.816763\n",
       "2     -0.061315  0.045927       3        1   0.098504, topic_info=         Term       Freq      Total Category  logprob  loglift\n",
       "76      house  39.000000  39.000000  Default  30.0000  30.0000\n",
       "4     address  37.000000  37.000000  Default  29.0000  29.0000\n",
       "39      count  21.000000  21.000000  Default  28.0000  28.0000\n",
       "183  consider  19.000000  19.000000  Default  27.0000  27.0000\n",
       "186     court  47.000000  47.000000  Default  26.0000  26.0000\n",
       "..        ...        ...        ...      ...      ...      ...\n",
       "267    report   0.004723  13.667888   Topic3  -6.4912  -1.0476\n",
       "89    legally   0.004751  16.975862   Topic3  -6.4851  -1.2583\n",
       "18      break   0.004811  27.432229   Topic3  -6.4726  -1.7257\n",
       "44    defense   0.004808  30.604975   Topic3  -6.4733  -1.8358\n",
       "40      crime   0.004795  28.181554   Topic3  -6.4760  -1.7560\n",
       "\n",
       "[223 rows x 6 columns], token_table=      Topic      Freq         Term\n",
       "term                              \n",
       "0         1  1.017793        above\n",
       "4         1  0.810143      address\n",
       "4         2  0.189033      address\n",
       "307       1  0.687684        again\n",
       "309       1  1.030740  alternative\n",
       "...     ...       ...          ...\n",
       "147       2  0.453955       window\n",
       "301       2  0.770157   windowpane\n",
       "302       1  0.683904      witness\n",
       "302       2  0.284960      witness\n",
       "303       2  0.770080        write\n",
       "\n",
       "[199 rows x 3 columns], R=30, lambda_step=0.01, plot_opts={'xlab': 'PC1', 'ylab': 'PC2'}, topic_order=[2, 1, 3])"
      ]
     },
     "execution_count": 25,
     "metadata": {},
     "output_type": "execute_result"
    }
   ],
   "source": [
    "pyLDAvis.enable_notebook()\n",
    "vis = gensimvis.prepare(lda_model, corpus, id2word, mds=\"mmds\", R=30)\n",
    "vis"
   ]
  },
  {
   "cell_type": "code",
   "execution_count": null,
   "metadata": {},
   "outputs": [],
   "source": []
  },
  {
   "cell_type": "code",
   "execution_count": 1,
   "metadata": {},
   "outputs": [],
   "source": [
    "# Import Mannes Data\n",
    "import pandas as pd"
   ]
  },
  {
   "cell_type": "code",
   "execution_count": 7,
   "metadata": {},
   "outputs": [
    {
     "name": "stdout",
     "output_type": "stream",
     "text": [
      "                                                      0\n",
      "0     Onderzoek van de zaakDit arrest is gewezen naa...\n",
      "1     TenlasteleggingAan de verdachte is tenlastegel...\n",
      "2     Vonnis waarvan beroepHet vonnis waarvan beroep...\n",
      "3     BewijsoverwegingDe raadsman heeft zich ter ter...\n",
      "4     BewezenverklaringHet hof acht wettig en overtu...\n",
      "...                                                 ...\n",
      "7552  6De strafoplegging6.1De vordering van de offic...\n",
      "7553  7De wettelijke voorschriftenDe beslissing beru...\n",
      "7554  8De beslissingDe rechtbank:Vrijspraak- spreekt...\n",
      "7555  9Bijlage IDe tenlastelegginghij op of omstreek...\n",
      "7556  10Bijlage IIDe bewijsmiddelenAangezien verdach...\n",
      "\n",
      "[7557 rows x 1 columns]\n"
     ]
    }
   ],
   "source": [
    "url = '/Users/dj/Documents/GitHub/out.csv'\n",
    "\n",
    "df = pd.read_csv(url)\n",
    "print (df)"
   ]
  },
  {
   "cell_type": "code",
   "execution_count": 8,
   "metadata": {},
   "outputs": [
    {
     "data": {
      "text/plain": [
       "'0    Vonnis waarvan beroepHet vonnis waarvan beroep...\\nName: 2, dtype: object'"
      ]
     },
     "execution_count": 8,
     "metadata": {},
     "output_type": "execute_result"
    }
   ],
   "source": [
    "str(df.iloc[2,])"
   ]
  },
  {
   "cell_type": "code",
   "execution_count": null,
   "metadata": {},
   "outputs": [],
   "source": []
  },
  {
   "cell_type": "code",
   "execution_count": null,
   "metadata": {},
   "outputs": [],
   "source": []
  },
  {
   "cell_type": "code",
   "execution_count": null,
   "metadata": {},
   "outputs": [],
   "source": []
  },
  {
   "cell_type": "code",
   "execution_count": null,
   "metadata": {},
   "outputs": [],
   "source": []
  },
  {
   "cell_type": "code",
   "execution_count": null,
   "metadata": {},
   "outputs": [],
   "source": []
  },
  {
   "cell_type": "code",
   "execution_count": null,
   "metadata": {},
   "outputs": [],
   "source": []
  },
  {
   "cell_type": "code",
   "execution_count": null,
   "metadata": {},
   "outputs": [],
   "source": []
  },
  {
   "cell_type": "code",
   "execution_count": null,
   "metadata": {},
   "outputs": [],
   "source": []
  },
  {
   "cell_type": "code",
   "execution_count": null,
   "metadata": {},
   "outputs": [],
   "source": []
  },
  {
   "cell_type": "code",
   "execution_count": null,
   "metadata": {},
   "outputs": [],
   "source": []
  },
  {
   "cell_type": "code",
   "execution_count": null,
   "metadata": {},
   "outputs": [],
   "source": []
  }
 ],
 "metadata": {
  "kernelspec": {
   "display_name": "Python 3",
   "language": "python",
   "name": "python3"
  },
  "language_info": {
   "codemirror_mode": {
    "name": "ipython",
    "version": 3
   },
   "file_extension": ".py",
   "mimetype": "text/x-python",
   "name": "python",
   "nbconvert_exporter": "python",
   "pygments_lexer": "ipython3",
   "version": "3.8.8"
  }
 },
 "nbformat": 4,
 "nbformat_minor": 4
}
