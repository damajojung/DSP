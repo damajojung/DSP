{
 "cells": [
  {
   "cell_type": "markdown",
   "metadata": {},
   "source": [
    "# <center>Implementing LDA in Python</center>"
   ]
  },
  {
   "cell_type": "markdown",
   "metadata": {},
   "source": [
    "<center>Dr. W.J.B. Mattingly</center>\n",
    "\n",
    "<center>Smithsonian Data Science Lab and United States Holocaust Memorial Museum</center>\n",
    "\n",
    "<center>February 2021</center>"
   ]
  },
  {
   "cell_type": "markdown",
   "metadata": {},
   "source": [
    "## Key Concepts in this Notebook"
   ]
  },
  {
   "cell_type": "markdown",
   "metadata": {},
   "source": []
  },
  {
   "cell_type": "markdown",
   "metadata": {},
   "source": [
    "## Introduction"
   ]
  },
  {
   "cell_type": "markdown",
   "metadata": {},
   "source": [
    " "
   ]
  },
  {
   "cell_type": "markdown",
   "metadata": {},
   "source": [
    "## Importing the Required Libraries"
   ]
  },
  {
   "cell_type": "code",
   "execution_count": 1,
   "metadata": {},
   "outputs": [],
   "source": [
    "#https://www.machinelearningplus.com/nlp/topic-modeling-gensim-python/#1introduction\n",
    "import numpy as np\n",
    "import pandas as pd\n",
    "import json\n",
    "import glob\n",
    "\n",
    "#Gensim\n",
    "import gensim\n",
    "import gensim.corpora as corpora\n",
    "from gensim.utils import simple_preprocess\n",
    "from gensim.models import CoherenceModel\n",
    "\n",
    "#spacy\n",
    "import spacy\n",
    "from nltk.corpus import stopwords\n",
    "\n",
    "#vis\n",
    "import pyLDAvis\n",
    "# import pyLDAvis.gensim\n",
    "import pyLDAvis.gensim_models as gensimvis\n",
    "\n",
    "from googletrans import Translator\n",
    "translator = Translator()\n",
    "\n",
    "import warnings\n",
    "warnings.filterwarnings(\"ignore\", category=DeprecationWarning)"
   ]
  },
  {
   "cell_type": "markdown",
   "metadata": {},
   "source": [
    "## Preparing the Data"
   ]
  },
  {
   "cell_type": "code",
   "execution_count": 2,
   "metadata": {},
   "outputs": [],
   "source": [
    "def load_data(file):\n",
    "    with open (file, \"r\", encoding=\"utf-8\") as f:\n",
    "        data = json.load(f) \n",
    "    return (data)\n",
    "\n",
    "def write_data(file, data):\n",
    "    with open (file, \"w\", encoding=\"utf-8\") as f:\n",
    "        json.dump(data, f, indent=4)\n"
   ]
  },
  {
   "cell_type": "code",
   "execution_count": 3,
   "metadata": {},
   "outputs": [],
   "source": [
    "stopwords = stopwords.words(\"english\")"
   ]
  },
  {
   "cell_type": "code",
   "execution_count": 4,
   "metadata": {},
   "outputs": [
    {
     "name": "stdout",
     "output_type": "stream",
     "text": [
      "['i', 'me', 'my', 'myself', 'we', 'our', 'ours', 'ourselves', 'you', \"you're\", \"you've\", \"you'll\", \"you'd\", 'your', 'yours', 'yourself', 'yourselves', 'he', 'him', 'his', 'himself', 'she', \"she's\", 'her', 'hers', 'herself', 'it', \"it's\", 'its', 'itself', 'they', 'them', 'their', 'theirs', 'themselves', 'what', 'which', 'who', 'whom', 'this', 'that', \"that'll\", 'these', 'those', 'am', 'is', 'are', 'was', 'were', 'be', 'been', 'being', 'have', 'has', 'had', 'having', 'do', 'does', 'did', 'doing', 'a', 'an', 'the', 'and', 'but', 'if', 'or', 'because', 'as', 'until', 'while', 'of', 'at', 'by', 'for', 'with', 'about', 'against', 'between', 'into', 'through', 'during', 'before', 'after', 'above', 'below', 'to', 'from', 'up', 'down', 'in', 'out', 'on', 'off', 'over', 'under', 'again', 'further', 'then', 'once', 'here', 'there', 'when', 'where', 'why', 'how', 'all', 'any', 'both', 'each', 'few', 'more', 'most', 'other', 'some', 'such', 'no', 'nor', 'not', 'only', 'own', 'same', 'so', 'than', 'too', 'very', 's', 't', 'can', 'will', 'just', 'don', \"don't\", 'should', \"should've\", 'now', 'd', 'll', 'm', 'o', 're', 've', 'y', 'ain', 'aren', \"aren't\", 'couldn', \"couldn't\", 'didn', \"didn't\", 'doesn', \"doesn't\", 'hadn', \"hadn't\", 'hasn', \"hasn't\", 'haven', \"haven't\", 'isn', \"isn't\", 'ma', 'mightn', \"mightn't\", 'mustn', \"mustn't\", 'needn', \"needn't\", 'shan', \"shan't\", 'shouldn', \"shouldn't\", 'wasn', \"wasn't\", 'weren', \"weren't\", 'won', \"won't\", 'wouldn', \"wouldn't\"]\n"
     ]
    }
   ],
   "source": [
    "print (stopwords)"
   ]
  },
  {
   "cell_type": "code",
   "execution_count": 5,
   "metadata": {},
   "outputs": [
    {
     "name": "stdout",
     "output_type": "stream",
     "text": [
      "Onderzoek van de zaakDit arrest is gewezen naar aanleiding van het onderzoek ter terechtzi\n"
     ]
    }
   ],
   "source": [
    "# data = load_data(\"data/ushmm_dn.json\")[\"texts\"]\n",
    "\n",
    "url = '/Users/dj/Documents/GitHub/out.csv'\n",
    "df = pd.read_csv(url)\n",
    "\n",
    "data = [df.iloc[i,0] for i in np.arange(100)]\n",
    "\n",
    "print (data[0][0:90])"
   ]
  },
  {
   "cell_type": "code",
   "execution_count": 6,
   "metadata": {},
   "outputs": [
    {
     "name": "stdout",
     "output_type": "stream",
     "text": [
      "arrest gewezen aanleide onderzoek ter terechtzitte hoger voormeld het hof heeft kennisgeno\n"
     ]
    }
   ],
   "source": [
    "def lemmatization(texts, allowed_postags=[\"NOUN\", \"ADJ\", \"VERB\", \"ADV\"]):\n",
    "    nlp = spacy.load(\"en_core_web_sm\", disable=[\"parser\", \"ner\"])\n",
    "    texts_out = []\n",
    "    for text in texts:\n",
    "        doc = nlp(text)\n",
    "        new_text = []\n",
    "        for token in doc:\n",
    "            if token.pos_ in allowed_postags:\n",
    "                new_text.append(token.lemma_)\n",
    "        final = \" \".join(new_text)\n",
    "        texts_out.append(final)\n",
    "    return (texts_out)\n",
    "\n",
    "\n",
    "lemmatized_texts = lemmatization(data)\n",
    "print (lemmatized_texts[0][0:90])"
   ]
  },
  {
   "cell_type": "code",
   "execution_count": 7,
   "metadata": {},
   "outputs": [
    {
     "name": "stdout",
     "output_type": "stream",
     "text": [
      "['arrest', 'gewezen', 'aanleide', 'onderzoek', 'ter', 'terechtzitte', 'hoger', 'voormeld', 'het', 'hof', 'heeft', 'kennisgenoman', 'vordere', 'generaal', 'raadsman', 'gebracht']\n"
     ]
    }
   ],
   "source": [
    "def gen_words(texts):\n",
    "    final = []\n",
    "    for text in texts:\n",
    "        new = gensim.utils.simple_preprocess(text, deacc=True)\n",
    "        final.append(new)\n",
    "    return (final)\n",
    "\n",
    "data_words = gen_words(lemmatized_texts)\n",
    "\n",
    "print (data_words[0][0:20])"
   ]
  },
  {
   "cell_type": "code",
   "execution_count": 8,
   "metadata": {},
   "outputs": [
    {
     "name": "stdout",
     "output_type": "stream",
     "text": [
      "[(0, 1), (1, 1), (2, 1), (3, 1), (4, 1), (5, 1), (6, 1), (7, 1), (8, 1), (9, 1), (10, 1), (11, 1), (12, 1), (13, 1), (14, 1), (15, 1)]\n",
      "aanleide\n"
     ]
    }
   ],
   "source": [
    "id2word = corpora.Dictionary(data_words)\n",
    "\n",
    "corpus = []\n",
    "for text in data_words:\n",
    "    new = id2word.doc2bow(text)\n",
    "    corpus.append(new)\n",
    "\n",
    "print (corpus[0][0:20])\n",
    "\n",
    "word = id2word[[0][:1][0]]\n",
    "print (word)"
   ]
  },
  {
   "cell_type": "code",
   "execution_count": 9,
   "metadata": {},
   "outputs": [],
   "source": [
    "lda_model = gensim.models.ldamodel.LdaModel(corpus=corpus,\n",
    "                                           id2word=id2word,\n",
    "                                           num_topics=3,\n",
    "                                           random_state=100,\n",
    "                                           update_every=1,\n",
    "                                           chunksize=100,\n",
    "                                           passes=10,\n",
    "                                           alpha=\"auto\")\n"
   ]
  },
  {
   "cell_type": "code",
   "execution_count": null,
   "metadata": {},
   "outputs": [],
   "source": []
  },
  {
   "cell_type": "code",
   "execution_count": null,
   "metadata": {},
   "outputs": [],
   "source": []
  },
  {
   "cell_type": "markdown",
   "metadata": {},
   "source": [
    "## Vizualizing the Data"
   ]
  },
  {
   "cell_type": "code",
   "execution_count": 10,
   "metadata": {},
   "outputs": [
    {
     "data": {
      "text/html": [
       "\n",
       "<link rel=\"stylesheet\" type=\"text/css\" href=\"https://cdn.jsdelivr.net/gh/bmabey/pyLDAvis@3.3.1/pyLDAvis/js/ldavis.v1.0.0.css\">\n",
       "\n",
       "\n",
       "<div id=\"ldavis_el76551406706818766242065221666\"></div>\n",
       "<script type=\"text/javascript\">\n",
       "\n",
       "var ldavis_el76551406706818766242065221666_data = {\"mdsDat\": {\"x\": [0.01699467611852415, 0.06834387343710224, -0.08533854955562639], \"y\": [0.0719530579324752, -0.0822372215019474, 0.010284163569472173], \"topics\": [1, 2, 3], \"cluster\": [1, 1, 1], \"Freq\": [52.03708488232832, 26.372386121966112, 21.590528995705572]}, \"tinfo\": {\"Term\": [\"terechtzitte\", \"slachtoffer\", \"verklaart\", \"gewezen\", \"het\", \"gebracht\", \"arrest\", \"aanleide\", \"onderzoek\", \"door\", \"primair\", \"paspoort\", \"overtuigend\", \"categorieen\", \"schrijffouten\", \"maken\", \"val\", \"vrijgesproken\", \"geschaad\", \"omdat\", \"bewijsmiddelen\", \"hij\", \"een\", \"meet\", \"het\", \"heeft\", \"man\", \"gesteld\", \"deze\", \"hof\", \"tot\", \"op\", \"die\", \"worden\", \"gewezen\", \"kennisgenoman\", \"overeenkomstig\", \"gerechtshof\", \"vervolge\", \"akte\", \"strafkamer\", \"zitte\", \"griffier\", \"gelegen\", \"verklaart\", \"gebracht\", \"tweede\", \"aanleide\", \"terechtzitte\", \"arrest\", \"onderzoek\", \"het\", \"ter\", \"voor\", \"door\", \"op\", \"heeft\", \"een\", \"hof\", \"die\", \"niet\", \"medeverdachten\", \"misdrijf\", \"voorgenoman\", \"vrienden\", \"vrouwen\", \"richte\", \"tap\", \"verdiende\", \"overschreden\", \"wat\", \"haar\", \"tussen\", \"slachtoffer\", \"het\", \"ook\", \"meet\", \"door\", \"heeft\", \"een\", \"hof\", \"op\", \"die\", \"al\", \"voor\"], \"Freq\": [53.0, 59.0, 26.0, 21.0, 479.0, 21.0, 32.0, 29.0, 28.0, 101.0, 13.031393148049188, 10.305498277121089, 9.335256545707201, 7.587003005233128, 7.586101169627048, 8.405510011771483, 7.53628195191907, 7.518731776317723, 6.682095600562016, 6.670374263833132, 7.4973044654552785, 47.25931414295146, 170.70243448062618, 109.38783912301567, 271.25620929094094, 125.20075498937214, 10.348306417683087, 17.331950583416713, 49.08844490685483, 87.469416377152, 45.10102803449976, 71.44928344478986, 63.33669165879331, 50.677134677886535, 20.80974217238344, 10.678995676134843, 9.030662405310089, 12.786667152118078, 5.914419798271003, 5.913763284795591, 10.349999464592365, 10.345394652446574, 10.342106964059568, 5.103670208923984, 23.11483165449156, 18.808967682269483, 12.850720744555291, 22.878519577806983, 36.64700826551435, 23.003580785963976, 20.744768846559456, 114.97217126257482, 24.20216545486002, 34.4795182723214, 32.22344709744138, 32.87885443470428, 36.38580808047953, 38.463328074087336, 31.74580640272657, 26.348438079633883, 24.34407478574794, 10.30998322304083, 6.479569999869026, 4.929050432899484, 4.908135900487218, 4.896499713037784, 9.561849528561762, 3.3531723202961308, 3.3508689798584728, 2.585428998230462, 2.582990450786771, 7.247452721406031, 4.907694433890776, 29.755391943709594, 93.49911351752615, 13.344695040401813, 38.23508568214418, 27.496474868406086, 41.29604820175553, 47.25236415355161, 32.74419710449201, 23.498068722036187, 21.901789234773698, 18.07507963545087, 18.179161779071713], \"Total\": [53.0, 59.0, 26.0, 21.0, 479.0, 21.0, 32.0, 29.0, 28.0, 101.0, 13.620640114079269, 10.880105303925083, 9.959823056635283, 8.141716742772012, 8.1413350767369, 9.044132724263267, 8.135035256234612, 8.133115763074084, 7.228630787115281, 7.22727537805097, 8.130198301025757, 53.00349462247489, 256.41812670826516, 165.59380848327962, 479.7274940710419, 202.8826112716072, 11.665010932904837, 21.334351846122615, 74.59553203064698, 151.9594198843706, 69.40570362760978, 127.82620660153032, 111.5869189732009, 84.40398509262214, 21.91960698541974, 11.360637930876669, 9.747124805370444, 13.820145841129875, 6.495983723520083, 6.496034258337506, 11.398702896371194, 11.398803274716013, 11.397830149608312, 5.686886576165192, 26.17261033453466, 21.265071629386306, 14.733469454377857, 29.47538461901201, 53.135740183827586, 32.46162324145981, 28.576318868803014, 479.7274940710419, 47.574669684410736, 97.46566824944819, 101.62428279660443, 127.82620660153032, 202.8826112716072, 256.41812670826516, 151.9594198843706, 111.5869189732009, 51.84392608316408, 10.964811181920698, 7.06450959246995, 5.506255475969901, 5.508095343256814, 5.509782234524757, 11.095177998904862, 3.9507486666042433, 3.9509729123442323, 3.1707689471201794, 3.1711616760442514, 9.669952536902581, 6.421875755349253, 59.65094515188507, 479.7274940710419, 30.17107558146256, 165.59380848327962, 101.62428279660443, 202.8826112716072, 256.41812670826516, 151.9594198843706, 127.82620660153032, 111.5869189732009, 67.0435438361557, 97.46566824944819], \"Category\": [\"Default\", \"Default\", \"Default\", \"Default\", \"Default\", \"Default\", \"Default\", \"Default\", \"Default\", \"Default\", \"Topic1\", \"Topic1\", \"Topic1\", \"Topic1\", \"Topic1\", \"Topic1\", \"Topic1\", \"Topic1\", \"Topic1\", \"Topic1\", \"Topic1\", \"Topic1\", \"Topic1\", \"Topic1\", \"Topic1\", \"Topic1\", \"Topic1\", \"Topic1\", \"Topic1\", \"Topic1\", \"Topic1\", \"Topic1\", \"Topic1\", \"Topic1\", \"Topic2\", \"Topic2\", \"Topic2\", \"Topic2\", \"Topic2\", \"Topic2\", \"Topic2\", \"Topic2\", \"Topic2\", \"Topic2\", \"Topic2\", \"Topic2\", \"Topic2\", \"Topic2\", \"Topic2\", \"Topic2\", \"Topic2\", \"Topic2\", \"Topic2\", \"Topic2\", \"Topic2\", \"Topic2\", \"Topic2\", \"Topic2\", \"Topic2\", \"Topic2\", \"Topic2\", \"Topic3\", \"Topic3\", \"Topic3\", \"Topic3\", \"Topic3\", \"Topic3\", \"Topic3\", \"Topic3\", \"Topic3\", \"Topic3\", \"Topic3\", \"Topic3\", \"Topic3\", \"Topic3\", \"Topic3\", \"Topic3\", \"Topic3\", \"Topic3\", \"Topic3\", \"Topic3\", \"Topic3\", \"Topic3\", \"Topic3\", \"Topic3\"], \"logprob\": [10.0, 9.0, 8.0, 7.0, 6.0, 5.0, 4.0, 3.0, 2.0, 1.0, -5.8082, -6.0429, -6.1418, -6.3492, -6.3493, -6.2467, -6.3559, -6.3582, -6.4762, -6.4779, -6.3611, -4.52, -3.2357, -3.6807, -2.7725, -3.5457, -6.0388, -5.5231, -4.482, -3.9043, -4.5667, -4.1066, -4.2271, -4.4501, -4.6605, -5.3277, -5.4953, -5.1476, -5.9186, -5.9187, -5.359, -5.3594, -5.3597, -6.066, -4.5555, -4.7616, -5.1426, -4.5658, -4.0946, -4.5603, -4.6637, -2.9513, -4.5095, -4.1556, -4.2233, -4.2031, -4.1018, -4.0463, -4.2382, -4.4246, -4.5037, -5.1628, -5.6272, -5.9008, -5.905, -5.9074, -5.2381, -6.286, -6.2867, -6.546, -6.547, -5.5153, -5.9051, -4.1029, -2.958, -4.9048, -3.8521, -4.1818, -3.7751, -3.6404, -4.0072, -4.339, -4.4093, -4.6014, -4.5956], \"loglift\": [10.0, 9.0, 8.0, 7.0, 6.0, 5.0, 4.0, 3.0, 2.0, 1.0, 0.609, 0.599, 0.5885, 0.5826, 0.5826, 0.58, 0.5768, 0.5747, 0.5746, 0.573, 0.5722, 0.5385, 0.2463, 0.2386, 0.0831, 0.1705, 0.5334, 0.4454, 0.2348, 0.1009, 0.2221, 0.0715, 0.0869, 0.1431, 1.2809, 1.271, 1.2565, 1.2551, 1.2391, 1.2389, 1.2363, 1.2359, 1.2357, 1.2246, 1.2086, 1.2101, 1.1961, 1.0795, 0.9613, 0.9884, 1.0126, -0.0957, 0.657, 0.2937, 0.1843, -0.025, -0.3856, -0.5643, -0.233, -0.1105, 0.5769, 1.4713, 1.4465, 1.4222, 1.4176, 1.4149, 1.3842, 1.3689, 1.3682, 1.3288, 1.3278, 1.2445, 1.264, 0.8374, -0.1024, 0.7172, 0.0671, 0.2257, -0.0589, -0.1584, -0.002, -0.1608, -0.0953, 0.2221, -0.1463]}, \"token.table\": {\"Topic\": [1, 2, 3, 2, 1, 2, 3, 1, 2, 3, 1, 1, 1, 2, 3, 1, 2, 3, 1, 2, 3, 1, 2, 3, 1, 2, 2, 1, 2, 1, 1, 2, 3, 1, 2, 1, 2, 1, 3, 1, 2, 3, 1, 2, 3, 1, 2, 3, 1, 2, 3, 2, 1, 1, 3, 3, 1, 2, 3, 3, 1, 2, 3, 1, 1, 2, 3, 1, 2, 3, 1, 2, 3, 2, 3, 1, 1, 1, 1, 3, 1, 1, 2, 3, 1, 2, 3, 1, 2, 3, 1, 2, 3, 1, 2, 3, 1, 3, 1, 2, 1, 3, 1, 2, 2, 1, 2, 3, 3, 3, 1, 3, 3, 1, 2, 3, 1, 2], \"Freq\": [0.13570645647894097, 0.7803121247539107, 0.10177984235920574, 0.9236404491400492, 0.49221741739438796, 0.23865086903970326, 0.2684822276696662, 0.24644485398938532, 0.7085289552194828, 0.030805606748673164, 0.8609876095047811, 0.9825937517541588, 0.6568758029618817, 0.13405628631875136, 0.21449005811000219, 0.5645823057013547, 0.23300222140055907, 0.19715572580047305, 0.4132870495535083, 0.3148853710883873, 0.2656845318558268, 0.6668795306914943, 0.1481954512647765, 0.18329437393274992, 0.09405094113279122, 0.8934839407615165, 0.8792157067024929, 0.07235813655626692, 0.94065577523147, 0.9683714947064657, 0.7968369567829005, 0.09374552432740006, 0.09374552432740006, 0.0456212559223881, 0.9580463743701502, 0.08773599771833458, 0.8773599771833458, 0.2068262478401603, 0.723891867440561, 0.616119830164535, 0.17744251108738607, 0.20208730429396748, 0.5649040410426593, 0.23971942701072263, 0.19386005836519307, 0.8867339848959837, 0.03773336105940356, 0.07546672211880712, 0.5725212696007941, 0.21058253594511966, 0.21716324019340463, 0.968255485909246, 0.8845513709167374, 0.8572645201550434, 0.08572645201550434, 0.912008408907987, 0.6582371708118905, 0.10869971628086264, 0.22947717881515448, 0.8493158543369226, 0.4436392406529002, 0.46292790328998284, 0.07715465054833047, 0.9685531038790637, 0.1399760416435873, 0.7348742186288333, 0.1399760416435873, 0.46402058031374105, 0.09943298149580165, 0.43087625314847383, 0.5554416569782648, 0.258163023665954, 0.1799318043732407, 0.92334921114801, 0.9461427338389703, 0.9036305111870593, 0.9191087513089071, 0.9544338512080845, 0.09012924354153705, 0.9012924354153704, 0.9826398157790175, 0.36881226180042787, 0.13411354974561013, 0.502925811546038, 0.08772928017260213, 0.8772928017260214, 0.7593497468869785, 0.3152938338721708, 0.5044701341954733, 0.16815671139849112, 0.24465642061304502, 0.6963298125140512, 0.056459173987625774, 0.6483617000908679, 0.1728964533575648, 0.18730449113736186, 0.15571774324145501, 0.7785887162072751, 0.13574535218557948, 0.8823447892062667, 0.9834007779952616, 0.7593066484022055, 0.1146236451639488, 0.8787812795902741, 0.9236476345031055, 0.4617010359466219, 0.34884078271522545, 0.18468041437864877, 0.9080581207720431, 0.9077548024148056, 0.9836328699908029, 0.9074768815125906, 0.9460255598643079, 0.6042368727499571, 0.18956450909802577, 0.213260072735279, 0.0877285076248422, 0.877285076248422], \"Term\": [\"aanleide\", \"aanleide\", \"aanleide\", \"akte\", \"al\", \"al\", \"al\", \"arrest\", \"arrest\", \"arrest\", \"bewijsmiddelen\", \"categorieen\", \"deze\", \"deze\", \"deze\", \"die\", \"die\", \"die\", \"door\", \"door\", \"door\", \"een\", \"een\", \"een\", \"gebracht\", \"gebracht\", \"gelegen\", \"gerechtshof\", \"gerechtshof\", \"geschaad\", \"gesteld\", \"gesteld\", \"gesteld\", \"gewezen\", \"gewezen\", \"griffier\", \"griffier\", \"haar\", \"haar\", \"heeft\", \"heeft\", \"heeft\", \"het\", \"het\", \"het\", \"hij\", \"hij\", \"hij\", \"hof\", \"hof\", \"hof\", \"kennisgenoman\", \"maken\", \"man\", \"man\", \"medeverdachten\", \"meet\", \"meet\", \"meet\", \"misdrijf\", \"niet\", \"niet\", \"niet\", \"omdat\", \"onderzoek\", \"onderzoek\", \"onderzoek\", \"ook\", \"ook\", \"ook\", \"op\", \"op\", \"op\", \"overeenkomstig\", \"overschreden\", \"overtuigend\", \"paspoort\", \"primair\", \"richte\", \"richte\", \"schrijffouten\", \"slachtoffer\", \"slachtoffer\", \"slachtoffer\", \"strafkamer\", \"strafkamer\", \"tap\", \"ter\", \"ter\", \"ter\", \"terechtzitte\", \"terechtzitte\", \"terechtzitte\", \"tot\", \"tot\", \"tot\", \"tussen\", \"tussen\", \"tweede\", \"tweede\", \"val\", \"verdiende\", \"verklaart\", \"verklaart\", \"vervolge\", \"voor\", \"voor\", \"voor\", \"voorgenoman\", \"vrienden\", \"vrijgesproken\", \"vrouwen\", \"wat\", \"worden\", \"worden\", \"worden\", \"zitte\", \"zitte\"]}, \"R\": 10, \"lambda.step\": 0.01, \"plot.opts\": {\"xlab\": \"PC1\", \"ylab\": \"PC2\"}, \"topic.order\": [3, 1, 2]};\n",
       "\n",
       "function LDAvis_load_lib(url, callback){\n",
       "  var s = document.createElement('script');\n",
       "  s.src = url;\n",
       "  s.async = true;\n",
       "  s.onreadystatechange = s.onload = callback;\n",
       "  s.onerror = function(){console.warn(\"failed to load library \" + url);};\n",
       "  document.getElementsByTagName(\"head\")[0].appendChild(s);\n",
       "}\n",
       "\n",
       "if(typeof(LDAvis) !== \"undefined\"){\n",
       "   // already loaded: just create the visualization\n",
       "   !function(LDAvis){\n",
       "       new LDAvis(\"#\" + \"ldavis_el76551406706818766242065221666\", ldavis_el76551406706818766242065221666_data);\n",
       "   }(LDAvis);\n",
       "}else if(typeof define === \"function\" && define.amd){\n",
       "   // require.js is available: use it to load d3/LDAvis\n",
       "   require.config({paths: {d3: \"https://d3js.org/d3.v5\"}});\n",
       "   require([\"d3\"], function(d3){\n",
       "      window.d3 = d3;\n",
       "      LDAvis_load_lib(\"https://cdn.jsdelivr.net/gh/bmabey/pyLDAvis@3.3.1/pyLDAvis/js/ldavis.v3.0.0.js\", function(){\n",
       "        new LDAvis(\"#\" + \"ldavis_el76551406706818766242065221666\", ldavis_el76551406706818766242065221666_data);\n",
       "      });\n",
       "    });\n",
       "}else{\n",
       "    // require.js not available: dynamically load d3 & LDAvis\n",
       "    LDAvis_load_lib(\"https://d3js.org/d3.v5.js\", function(){\n",
       "         LDAvis_load_lib(\"https://cdn.jsdelivr.net/gh/bmabey/pyLDAvis@3.3.1/pyLDAvis/js/ldavis.v3.0.0.js\", function(){\n",
       "                 new LDAvis(\"#\" + \"ldavis_el76551406706818766242065221666\", ldavis_el76551406706818766242065221666_data);\n",
       "            })\n",
       "         });\n",
       "}\n",
       "</script>"
      ],
      "text/plain": [
       "PreparedData(topic_coordinates=              x         y  topics  cluster       Freq\n",
       "topic                                                \n",
       "2      0.016995  0.071953       1        1  52.037085\n",
       "0      0.068344 -0.082237       2        1  26.372386\n",
       "1     -0.085339  0.010284       3        1  21.590529, topic_info=             Term        Freq       Total Category  logprob  loglift\n",
       "13   terechtzitte   53.000000   53.000000  Default  10.0000  10.0000\n",
       "367   slachtoffer   59.000000   59.000000  Default   9.0000   9.0000\n",
       "282     verklaart   26.000000   26.000000  Default   8.0000   8.0000\n",
       "4         gewezen   21.000000   21.000000  Default   7.0000   7.0000\n",
       "6             het  479.000000  479.000000  Default   6.0000   6.0000\n",
       "..            ...         ...         ...      ...      ...      ...\n",
       "7             hof   32.744197  151.959420   Topic3  -4.0072  -0.0020\n",
       "27             op   23.498069  127.826207   Topic3  -4.3390  -0.1608\n",
       "56            die   21.901789  111.586919   Topic3  -4.4093  -0.0953\n",
       "44             al   18.075080   67.043544   Topic3  -4.6014   0.2221\n",
       "128          voor   18.179162   97.465668   Topic3  -4.5956  -0.1463\n",
       "\n",
       "[85 rows x 6 columns], token_table=      Topic      Freq      Term\n",
       "term                           \n",
       "0         1  0.135706  aanleide\n",
       "0         2  0.780312  aanleide\n",
       "0         3  0.101780  aanleide\n",
       "1380      2  0.923640      akte\n",
       "44        1  0.492217        al\n",
       "...     ...       ...       ...\n",
       "42        1  0.604237    worden\n",
       "42        2  0.189565    worden\n",
       "42        3  0.213260    worden\n",
       "285       1  0.087729     zitte\n",
       "285       2  0.877285     zitte\n",
       "\n",
       "[118 rows x 3 columns], R=10, lambda_step=0.01, plot_opts={'xlab': 'PC1', 'ylab': 'PC2'}, topic_order=[3, 1, 2])"
      ]
     },
     "execution_count": 10,
     "metadata": {},
     "output_type": "execute_result"
    }
   ],
   "source": [
    "pyLDAvis.enable_notebook()\n",
    "vis = gensimvis.prepare(lda_model, corpus, id2word, mds=\"mmds\", R=10)\n",
    "vis"
   ]
  },
  {
   "cell_type": "code",
   "execution_count": null,
   "metadata": {},
   "outputs": [],
   "source": []
  },
  {
   "cell_type": "code",
   "execution_count": null,
   "metadata": {},
   "outputs": [],
   "source": []
  },
  {
   "cell_type": "code",
   "execution_count": null,
   "metadata": {},
   "outputs": [],
   "source": []
  },
  {
   "cell_type": "code",
   "execution_count": null,
   "metadata": {},
   "outputs": [],
   "source": []
  },
  {
   "cell_type": "code",
   "execution_count": null,
   "metadata": {},
   "outputs": [],
   "source": []
  },
  {
   "cell_type": "code",
   "execution_count": null,
   "metadata": {},
   "outputs": [],
   "source": []
  },
  {
   "cell_type": "code",
   "execution_count": null,
   "metadata": {},
   "outputs": [],
   "source": []
  },
  {
   "cell_type": "code",
   "execution_count": null,
   "metadata": {},
   "outputs": [],
   "source": []
  },
  {
   "cell_type": "code",
   "execution_count": null,
   "metadata": {},
   "outputs": [],
   "source": []
  },
  {
   "cell_type": "code",
   "execution_count": null,
   "metadata": {},
   "outputs": [],
   "source": []
  },
  {
   "cell_type": "code",
   "execution_count": null,
   "metadata": {},
   "outputs": [],
   "source": []
  },
  {
   "cell_type": "code",
   "execution_count": null,
   "metadata": {},
   "outputs": [],
   "source": []
  },
  {
   "cell_type": "code",
   "execution_count": null,
   "metadata": {},
   "outputs": [],
   "source": []
  },
  {
   "cell_type": "code",
   "execution_count": null,
   "metadata": {},
   "outputs": [],
   "source": []
  },
  {
   "cell_type": "code",
   "execution_count": null,
   "metadata": {},
   "outputs": [],
   "source": []
  }
 ],
 "metadata": {
  "kernelspec": {
   "display_name": "Python 3",
   "language": "python",
   "name": "python3"
  },
  "language_info": {
   "codemirror_mode": {
    "name": "ipython",
    "version": 3
   },
   "file_extension": ".py",
   "mimetype": "text/x-python",
   "name": "python",
   "nbconvert_exporter": "python",
   "pygments_lexer": "ipython3",
   "version": "3.8.8"
  }
 },
 "nbformat": 4,
 "nbformat_minor": 4
}
