{
 "cells": [
  {
   "cell_type": "markdown",
   "metadata": {},
   "source": [
    "# <center>Implementing LDA in Python</center>"
   ]
  },
  {
   "cell_type": "markdown",
   "metadata": {},
   "source": [
    "<center>Dr. W.J.B. Mattingly</center>\n",
    "\n",
    "<center>Smithsonian Data Science Lab and United States Holocaust Memorial Museum</center>\n",
    "\n",
    "<center>February 2021</center>"
   ]
  },
  {
   "cell_type": "markdown",
   "metadata": {},
   "source": [
    "## Key Concepts in this Notebook"
   ]
  },
  {
   "cell_type": "markdown",
   "metadata": {},
   "source": []
  },
  {
   "cell_type": "markdown",
   "metadata": {},
   "source": [
    "## Introduction"
   ]
  },
  {
   "cell_type": "markdown",
   "metadata": {},
   "source": [
    " "
   ]
  },
  {
   "cell_type": "markdown",
   "metadata": {},
   "source": [
    "## Importing the Required Libraries"
   ]
  },
  {
   "cell_type": "code",
   "execution_count": 61,
   "metadata": {},
   "outputs": [],
   "source": [
    "#https://www.machinelearningplus.com/nlp/topic-modeling-gensim-python/#1introduction\n",
    "import numpy as np\n",
    "import pandas as pd\n",
    "import json\n",
    "import glob\n",
    "\n",
    "#Gensim\n",
    "import gensim\n",
    "import gensim.corpora as corpora\n",
    "from gensim.utils import simple_preprocess\n",
    "from gensim.models import CoherenceModel\n",
    "\n",
    "#spacy\n",
    "import spacy\n",
    "from nltk.corpus import stopwords\n",
    "\n",
    "#vis\n",
    "import pyLDAvis\n",
    "# import pyLDAvis.gensim\n",
    "import pyLDAvis.gensim_models as gensimvis\n",
    "\n",
    "from googletrans import Translator\n",
    "translator = Translator()\n",
    "\n",
    "import warnings\n",
    "warnings.filterwarnings(\"ignore\", category=DeprecationWarning)"
   ]
  },
  {
   "cell_type": "markdown",
   "metadata": {},
   "source": [
    "## Preparing the Data"
   ]
  },
  {
   "cell_type": "code",
   "execution_count": 62,
   "metadata": {},
   "outputs": [],
   "source": [
    "def load_data(file):\n",
    "    with open (file, \"r\", encoding=\"utf-8\") as f:\n",
    "        data = json.load(f) \n",
    "    return (data)\n",
    "\n",
    "def write_data(file, data):\n",
    "    with open (file, \"w\", encoding=\"utf-8\") as f:\n",
    "        json.dump(data, f, indent=4)\n"
   ]
  },
  {
   "cell_type": "code",
   "execution_count": 63,
   "metadata": {},
   "outputs": [],
   "source": [
    "stopwords = stopwords.words(\"english\")"
   ]
  },
  {
   "cell_type": "code",
   "execution_count": 64,
   "metadata": {},
   "outputs": [
    {
     "name": "stdout",
     "output_type": "stream",
     "text": [
      "['i', 'me', 'my', 'myself', 'we', 'our', 'ours', 'ourselves', 'you', \"you're\", \"you've\", \"you'll\", \"you'd\", 'your', 'yours', 'yourself', 'yourselves', 'he', 'him', 'his', 'himself', 'she', \"she's\", 'her', 'hers', 'herself', 'it', \"it's\", 'its', 'itself', 'they', 'them', 'their', 'theirs', 'themselves', 'what', 'which', 'who', 'whom', 'this', 'that', \"that'll\", 'these', 'those', 'am', 'is', 'are', 'was', 'were', 'be', 'been', 'being', 'have', 'has', 'had', 'having', 'do', 'does', 'did', 'doing', 'a', 'an', 'the', 'and', 'but', 'if', 'or', 'because', 'as', 'until', 'while', 'of', 'at', 'by', 'for', 'with', 'about', 'against', 'between', 'into', 'through', 'during', 'before', 'after', 'above', 'below', 'to', 'from', 'up', 'down', 'in', 'out', 'on', 'off', 'over', 'under', 'again', 'further', 'then', 'once', 'here', 'there', 'when', 'where', 'why', 'how', 'all', 'any', 'both', 'each', 'few', 'more', 'most', 'other', 'some', 'such', 'no', 'nor', 'not', 'only', 'own', 'same', 'so', 'than', 'too', 'very', 's', 't', 'can', 'will', 'just', 'don', \"don't\", 'should', \"should've\", 'now', 'd', 'll', 'm', 'o', 're', 've', 'y', 'ain', 'aren', \"aren't\", 'couldn', \"couldn't\", 'didn', \"didn't\", 'doesn', \"doesn't\", 'hadn', \"hadn't\", 'hasn', \"hasn't\", 'haven', \"haven't\", 'isn', \"isn't\", 'ma', 'mightn', \"mightn't\", 'mustn', \"mustn't\", 'needn', \"needn't\", 'shan', \"shan't\", 'shouldn', \"shouldn't\", 'wasn', \"wasn't\", 'weren', \"weren't\", 'won', \"won't\", 'wouldn', \"wouldn't\"]\n"
     ]
    }
   ],
   "source": [
    "print (stopwords)"
   ]
  },
  {
   "cell_type": "code",
   "execution_count": 65,
   "metadata": {},
   "outputs": [
    {
     "name": "stdout",
     "output_type": "stream",
     "text": [
      " My name David Kochalski. I was born in a small town called , and I was born May 5, 1928. \n"
     ]
    }
   ],
   "source": [
    "####### Approach from Youtube\n",
    "data = load_data(\"data/ushmm_dn.json\")[\"texts\"]\n",
    "\n",
    "''''\n",
    "####### Approach with simple documents\n",
    "url = '/Users/dj/Documents/GitHub/inbraak_'\n",
    "numbers = np.arange(1,7)\n",
    "ending = '.txt'\n",
    "\n",
    "texts = []\n",
    "for i in numbers:\n",
    "    p = url + str(i) + ending\n",
    "    f = open(p,'r')\n",
    "    text = f.read()\n",
    "    texts.append(text)\n",
    "\n",
    "data = texts\n",
    "\n",
    "'''\n",
    "\n",
    "###### Real approach\n",
    "''''\n",
    "url = '/Users/dj/Documents/GitHub/out.csv'\n",
    "df = pd.read_csv(url)\n",
    "\n",
    "data = [df.iloc[i,0] for i in np.arange(100)]\n",
    "'''\n",
    "\n",
    "\n",
    "print (data[0][0:90])"
   ]
  },
  {
   "cell_type": "code",
   "execution_count": 66,
   "metadata": {},
   "outputs": [
    {
     "name": "stdout",
     "output_type": "stream",
     "text": [
      "name bear small town call bear well very hard work child father mother small mill flour buckwheat prosperous comfortable go school public school morni\n"
     ]
    }
   ],
   "source": [
    "def lemmatization(texts, allowed_postags=[\"NOUN\", \"ADJ\", \"VERB\", \"ADV\"]):\n",
    "    nlp = spacy.load(\"en_core_web_sm\", disable=[\"parser\", \"ner\"])\n",
    "    texts_out = []\n",
    "    for text in texts:\n",
    "        doc = nlp(text)\n",
    "        new_text = []\n",
    "        for token in doc:\n",
    "            if token.pos_ in allowed_postags:\n",
    "                new_text.append(token.lemma_)\n",
    "        final = \" \".join(new_text)\n",
    "        texts_out.append(final)\n",
    "    return (texts_out)\n",
    "\n",
    "\n",
    "lemmatized_texts = lemmatization(data)\n",
    "print (lemmatized_texts[0][0:150])"
   ]
  },
  {
   "cell_type": "code",
   "execution_count": 67,
   "metadata": {},
   "outputs": [
    {
     "name": "stdout",
     "output_type": "stream",
     "text": [
      "['name', 'bear', 'small', 'town', 'call', 'bear', 'well', 'very', 'hard', 'work', 'child', 'father', 'mother', 'small', 'mill', 'flour', 'buckwheat', 'prosperous', 'comfortable', 'go']\n"
     ]
    }
   ],
   "source": [
    "def gen_words(texts):\n",
    "    final = []\n",
    "    for text in texts:\n",
    "        new = gensim.utils.simple_preprocess(text, deacc=True)\n",
    "        final.append(new)\n",
    "    return (final)\n",
    "\n",
    "data_words = gen_words(lemmatized_texts)\n",
    "\n",
    "print (data_words[0][0:20])"
   ]
  },
  {
   "cell_type": "code",
   "execution_count": 68,
   "metadata": {},
   "outputs": [
    {
     "name": "stdout",
     "output_type": "stream",
     "text": [
      "[(0, 2), (1, 10), (2, 1), (3, 2), (4, 1), (5, 2), (6, 1), (7, 2), (8, 3), (9, 1), (10, 12), (11, 1), (12, 8), (13, 1), (14, 2), (15, 1), (16, 3), (17, 2), (18, 1), (19, 2)]\n",
      "able\n"
     ]
    }
   ],
   "source": [
    "id2word = corpora.Dictionary(data_words)\n",
    "\n",
    "corpus = []\n",
    "for text in data_words:\n",
    "    new = id2word.doc2bow(text)\n",
    "    corpus.append(new)\n",
    "\n",
    "print (corpus[0][0:20])\n",
    "\n",
    "word = id2word[[0][:1][0]]\n",
    "print (word)"
   ]
  },
  {
   "cell_type": "code",
   "execution_count": 69,
   "metadata": {},
   "outputs": [],
   "source": [
    "lda_model = gensim.models.ldamodel.LdaModel(corpus=corpus,\n",
    "                                           id2word=id2word,\n",
    "                                           num_topics=3,\n",
    "                                           random_state=100,\n",
    "                                           update_every=1,\n",
    "                                           chunksize=100,\n",
    "                                           passes=10,\n",
    "                                           alpha=\"auto\")\n"
   ]
  },
  {
   "cell_type": "code",
   "execution_count": null,
   "metadata": {},
   "outputs": [],
   "source": []
  },
  {
   "cell_type": "code",
   "execution_count": null,
   "metadata": {},
   "outputs": [],
   "source": []
  },
  {
   "cell_type": "markdown",
   "metadata": {},
   "source": [
    "## Vizualizing the Data"
   ]
  },
  {
   "cell_type": "code",
   "execution_count": 70,
   "metadata": {},
   "outputs": [
    {
     "data": {
      "text/html": [
       "\n",
       "<link rel=\"stylesheet\" type=\"text/css\" href=\"https://cdn.jsdelivr.net/gh/bmabey/pyLDAvis@3.3.1/pyLDAvis/js/ldavis.v1.0.0.css\">\n",
       "\n",
       "\n",
       "<div id=\"ldavis_el20351405026533526406204416015\"></div>\n",
       "<script type=\"text/javascript\">\n",
       "\n",
       "var ldavis_el20351405026533526406204416015_data = {\"mdsDat\": {\"x\": [0.05789996587759123, 0.03595100396892218, -0.09385096984651342], \"y\": [0.060798688421179276, -0.041162865920361155, -0.019635822500818113], \"topics\": [1, 2, 3], \"cluster\": [1, 1, 1], \"Freq\": [52.44131707422872, 35.62272247664694, 11.93596044912434]}, \"tinfo\": {\"Term\": [\"camp\", \"very\", \"get\", \"prisoner\", \"course\", \"say\", \"try\", \"then\", \"german\", \"well\", \"going\", \"barber\", \"boxcar\", \"undress\", \"wintertime\", \"dry\", \"lager\", \"nighttime\", \"evidently\", \"stepmother\", \"wagon\", \"horse\", \"loaf\", \"grab\", \"bread\", \"lay\", \"ditch\", \"wood\", \"ghetto\", \"kill\", \"clothe\", \"away\", \"over\", \"use\", \"go\", \"take\", \"there\", \"know\", \"come\", \"work\", \"so\", \"say\", \"people\", \"see\", \"get\", \"swedish\", \"tzair\", \"neutral\", \"harbor\", \"scandinavian\", \"shutzpass\", \"swiss\", \"embassy\", \"accent\", \"protestant\", \"university\", \"spanish\", \"danish\", \"adult\", \"refugee\", \"foreign\", \"difficult\", \"wonderful\", \"situation\", \"community\", \"very\", \"really\", \"sort\", \"course\", \"school\", \"parent\", \"remember\", \"jewish\", \"on\", \"think\", \"so\", \"mean\", \"time\", \"go\", \"know\", \"people\", \"get\", \"say\", \"come\", \"then\", \"transcript\", \"usage\", \"catalog\", \"recorded\", \"oral\", \"testimony\", \"recording\", \"crime\", \"restitution\", \"defendant\", \"access\", \"collection\", \"interview\", \"trial\", \"result\", \"record\", \"prisoner\", \"case\", \"camp\", \"get\", \"say\", \"so\", \"try\", \"then\", \"know\", \"go\", \"time\", \"people\", \"very\"], \"Freq\": [4344.0, 11112.0, 10485.0, 1109.0, 2369.0, 13903.0, 2349.0, 7870.0, 2682.0, 2632.0, 338.68264080784144, 111.38526667923037, 60.098102400727, 77.61271261549632, 41.826664801070564, 95.7059092933769, 37.500525452017264, 35.435841908741, 52.960835818091525, 33.165624079294304, 405.0419860223557, 487.8806796007716, 92.1644657795453, 251.79897132559594, 1031.0376196047125, 366.6059850599664, 160.8200184216393, 806.2064783120286, 2280.158114908353, 2269.7851362142233, 637.1253253585782, 2493.393180443364, 1493.5314197132134, 2987.2944168901654, 16096.644544633597, 7693.065526127562, 8095.810054535512, 13841.934118304735, 9533.040603586447, 4217.474138855314, 12113.946518947243, 8699.252003442642, 7830.3248951089245, 4472.541741497516, 5800.514363204257, 213.08633699426449, 60.44938579900979, 70.31412661995272, 42.43501648409562, 40.48196519325873, 32.46437107165718, 83.09761419078903, 116.5436560652928, 39.210481660616125, 27.56490006678261, 185.95022592797434, 127.25354207106326, 105.59029650282828, 73.35025235392717, 284.878774953666, 132.9597970540033, 431.7442838047618, 423.7375501993821, 468.37828997090963, 425.80312527033226, 6393.553871455126, 2025.3384791760263, 654.127242096017, 1576.7059470630027, 1649.1624973396467, 983.6835602863698, 2285.9192803249307, 2481.9921479382842, 965.8889295930107, 2647.831046567791, 7096.472725152652, 1537.0875603302054, 3084.279147090997, 6204.448660711934, 5561.335903764767, 3960.8783668301785, 3507.8674646742693, 3946.3085427158435, 3751.0498547135853, 2911.13856520501, 291.89186634082563, 155.0034058385002, 144.61589085335606, 142.9561346777355, 153.06094672808783, 174.94194315132188, 145.01302519280273, 163.9274163931673, 48.97270952328695, 40.705645409126234, 180.22752413888753, 172.6791099286844, 468.48974131481043, 222.70716200824032, 206.10429298670547, 224.83566158123924, 625.9345022126519, 374.605154221112, 1254.6910126839646, 1176.7466409098656, 1257.56703017215, 1353.6305098434661, 552.3997915107788, 888.4544272784312, 1127.4981324495157, 1167.832724565726, 760.7413309777146, 806.7305021098917, 755.1959671570966], \"Total\": [4344.0, 11112.0, 10485.0, 1109.0, 2369.0, 13903.0, 2349.0, 7870.0, 2682.0, 2632.0, 339.3248236871403, 112.01270493290636, 60.771508902663506, 78.61562857460255, 42.42670047692422, 97.15297996048544, 38.110233943239756, 36.064070145704804, 53.911680765504464, 33.77033007627733, 414.89567077371277, 503.5916453064183, 94.23928334104218, 260.2613979080005, 1098.0863365081118, 382.8677434731245, 165.55610539448298, 868.0063093973349, 2571.66032418778, 2570.1247284157625, 690.2590098928576, 2928.0851311797846, 1701.6978472991557, 3676.0812794226704, 23468.92592991126, 10534.581930770644, 11226.207786368615, 20530.768154519017, 14025.566051909402, 5693.307709726177, 20564.049753943364, 13903.127576330635, 12597.933764048994, 6871.690256985065, 10485.12846878839, 213.74524175642034, 61.05289303211848, 71.26500934430179, 43.03549566530493, 41.07116900761752, 33.052153724722615, 84.83044308244337, 119.01332023163643, 40.05879917986715, 28.16311285221856, 190.9642516969802, 130.80587000104774, 108.38622020657131, 75.42322507748851, 306.42141406380046, 143.94666156645513, 519.8088756475361, 509.9072615084443, 575.5485488575182, 518.2202916062588, 11112.644140011922, 3054.5784859355936, 848.3805329268766, 2369.1441112037746, 2560.075294304111, 1398.7810346819838, 3916.3394920597325, 4596.591153331901, 1457.006922977022, 5370.4503430120285, 20564.049753943364, 2814.24146800724, 7620.930115887811, 23468.92592991126, 20530.768154519017, 12597.933764048994, 10485.12846878839, 13903.127576330635, 14025.566051909402, 7870.416187465664, 292.5479146054985, 155.6592576825962, 145.266507889493, 143.60680170916558, 153.80661543262931, 175.8635988140409, 145.8126658674936, 165.56317309959775, 49.62242248293731, 41.35170035835339, 187.01987485014752, 179.18727350842337, 511.4192300061081, 234.1108976360384, 223.83813348912676, 253.11769675755744, 1109.7078362885904, 597.3305030763108, 4344.360112326234, 10485.12846878839, 13903.127576330635, 20564.049753943364, 2349.3371757029327, 7870.416187465664, 20530.768154519017, 23468.92592991126, 7620.930115887811, 12597.933764048994, 11112.644140011922], \"Category\": [\"Default\", \"Default\", \"Default\", \"Default\", \"Default\", \"Default\", \"Default\", \"Default\", \"Default\", \"Default\", \"Topic1\", \"Topic1\", \"Topic1\", \"Topic1\", \"Topic1\", \"Topic1\", \"Topic1\", \"Topic1\", \"Topic1\", \"Topic1\", \"Topic1\", \"Topic1\", \"Topic1\", \"Topic1\", \"Topic1\", \"Topic1\", \"Topic1\", \"Topic1\", \"Topic1\", \"Topic1\", \"Topic1\", \"Topic1\", \"Topic1\", \"Topic1\", \"Topic1\", \"Topic1\", \"Topic1\", \"Topic1\", \"Topic1\", \"Topic1\", \"Topic1\", \"Topic1\", \"Topic1\", \"Topic1\", \"Topic1\", \"Topic2\", \"Topic2\", \"Topic2\", \"Topic2\", \"Topic2\", \"Topic2\", \"Topic2\", \"Topic2\", \"Topic2\", \"Topic2\", \"Topic2\", \"Topic2\", \"Topic2\", \"Topic2\", \"Topic2\", \"Topic2\", \"Topic2\", \"Topic2\", \"Topic2\", \"Topic2\", \"Topic2\", \"Topic2\", \"Topic2\", \"Topic2\", \"Topic2\", \"Topic2\", \"Topic2\", \"Topic2\", \"Topic2\", \"Topic2\", \"Topic2\", \"Topic2\", \"Topic2\", \"Topic2\", \"Topic2\", \"Topic2\", \"Topic2\", \"Topic2\", \"Topic2\", \"Topic2\", \"Topic3\", \"Topic3\", \"Topic3\", \"Topic3\", \"Topic3\", \"Topic3\", \"Topic3\", \"Topic3\", \"Topic3\", \"Topic3\", \"Topic3\", \"Topic3\", \"Topic3\", \"Topic3\", \"Topic3\", \"Topic3\", \"Topic3\", \"Topic3\", \"Topic3\", \"Topic3\", \"Topic3\", \"Topic3\", \"Topic3\", \"Topic3\", \"Topic3\", \"Topic3\", \"Topic3\", \"Topic3\", \"Topic3\"], \"logprob\": [10.0, 9.0, 8.0, 7.0, 6.0, 5.0, 4.0, 3.0, 2.0, 1.0, -7.279, -8.3911, -9.0081, -8.7523, -9.3705, -8.5428, -9.4797, -9.5363, -9.1345, -9.6025, -7.1001, -6.914, -8.5805, -7.5754, -6.1657, -7.1998, -8.0238, -6.4117, -5.3721, -5.3766, -6.6471, -5.2827, -5.7952, -5.1019, -3.4177, -4.156, -4.1049, -3.5686, -3.9415, -4.7571, -3.7019, -4.0331, -4.1383, -4.6983, -4.4383, -7.3556, -8.6155, -8.4644, -8.9694, -9.0165, -9.2372, -8.2973, -7.9591, -9.0484, -9.4008, -7.4919, -7.8712, -8.0578, -8.4221, -7.0653, -7.8273, -6.6495, -6.6682, -6.5681, -6.6634, -3.9543, -5.1038, -6.234, -5.3542, -5.3093, -5.826, -4.9828, -4.9005, -5.8443, -4.8358, -3.85, -5.3797, -4.6833, -3.9843, -4.0937, -4.4331, -4.5546, -4.4368, -4.4875, -4.741, -5.9475, -6.5805, -6.6498, -6.6614, -6.5931, -6.4595, -6.6471, -6.5245, -7.7326, -7.9175, -6.4297, -6.4725, -5.4744, -6.2181, -6.2955, -6.2085, -5.1847, -5.698, -4.4893, -4.5534, -4.487, -4.4134, -5.3096, -4.8344, -4.5962, -4.561, -4.9896, -4.9309, -4.9969], \"loglift\": [10.0, 9.0, 8.0, 7.0, 6.0, 5.0, 4.0, 3.0, 2.0, 1.0, 0.6436, 0.6399, 0.6343, 0.6326, 0.6312, 0.6305, 0.6293, 0.6279, 0.6277, 0.6274, 0.6214, 0.6138, 0.6232, 0.6124, 0.5825, 0.6021, 0.6165, 0.5716, 0.5252, 0.5212, 0.5654, 0.4848, 0.515, 0.438, 0.2684, 0.3311, 0.3186, 0.2513, 0.2594, 0.3454, 0.1163, 0.1766, 0.1699, 0.216, 0.0535, 1.0291, 1.0223, 1.0188, 1.0181, 1.0177, 1.0142, 1.0115, 1.0112, 1.0108, 1.0107, 1.0056, 1.0047, 1.0061, 1.0043, 0.9593, 0.9528, 0.8466, 0.8471, 0.8261, 0.8358, 0.4794, 0.6213, 0.7722, 0.625, 0.5924, 0.6801, 0.4938, 0.4159, 0.6211, 0.325, -0.0318, 0.4274, 0.1276, -0.2982, -0.2739, -0.1249, -0.0628, -0.2271, -0.2867, 0.0376, 2.1234, 2.1214, 2.1211, 2.1211, 2.1208, 2.1204, 2.1201, 2.1157, 2.1124, 2.1099, 2.0886, 2.0886, 2.0379, 2.0757, 2.0431, 2.0071, 1.553, 1.659, 0.8836, -0.0616, -0.2773, -0.5951, 0.678, -0.0558, -0.7763, -0.8749, -0.1787, -0.6227, -0.5632]}, \"token.table\": {\"Topic\": [1, 2, 1, 2, 3, 1, 2, 3, 1, 2, 3, 1, 1, 1, 2, 3, 1, 2, 3, 1, 2, 3, 3, 1, 2, 3, 1, 2, 3, 1, 2, 3, 1, 2, 3, 1, 2, 3, 1, 3, 1, 2, 3, 1, 2, 3, 1, 2, 3, 1, 2, 3, 1, 2, 1, 1, 2, 3, 1, 2, 3, 1, 2, 3, 1, 2, 3, 1, 2, 3, 1, 1, 2, 3, 2, 1, 2, 3, 1, 2, 3, 1, 2, 3, 1, 2, 3, 1, 2, 3, 1, 1, 2, 3, 1, 2, 3, 1, 2, 3, 2, 3, 1, 1, 2, 3, 3, 1, 2, 3, 1, 2, 3, 1, 2, 3, 1, 2, 3, 2, 1, 2, 3, 1, 2, 3, 3, 3, 1, 2, 3, 1, 2, 3, 3, 2, 3, 1, 2, 3, 2, 1, 2, 3, 1, 2, 3, 2, 1, 2, 3, 1, 2, 3, 1, 2, 3, 1, 2, 3, 1, 2, 2, 3, 1, 2, 3, 1, 3, 1, 2, 3, 1, 2, 3, 1, 2, 3, 1, 2, 3, 3, 1, 2, 3, 1, 2, 3, 2, 1, 3, 1, 2, 3, 3, 1, 2, 3, 1, 2, 3, 1, 2, 3, 1, 2, 3, 1, 1, 2, 3, 1, 2, 3, 1, 2, 3], \"Freq\": [0.024963304454282853, 0.9735688737170313, 0.032082151722150336, 0.005347025287025056, 0.9624645516645101, 0.013258515516574866, 0.9678716327099652, 0.013258515516574866, 0.8514096716154971, 0.13319284874851336, 0.015368405624828467, 0.9909590172515435, 0.9873047598028343, 0.9389061367237801, 0.0437124098571692, 0.01730282890179614, 0.575688924337539, 0.13557807934218732, 0.28888028790228365, 0.2008938090085609, 0.17243385273234813, 0.6277931531517529, 0.9981653865480422, 0.922841992455666, 0.06519291940424642, 0.011589852338532696, 0.011161506957724776, 0.022323013915449552, 0.9654703518431932, 0.6796873626859576, 0.26744018645075285, 0.05283209228472617, 0.050171713499313667, 0.8220442288733701, 0.12928864632515444, 0.15195360987014087, 0.665641229903367, 0.18276642520491942, 0.006039990544264518, 0.990558449259381, 0.027678795277502576, 0.9779840998050909, 0.9914948997186196, 0.08272271216306967, 0.8310746896382813, 0.0865702801706543, 0.9724799917005368, 0.006040248395655508, 0.018120745186966523, 0.988132325318746, 0.010293045055403603, 0.010293045055403603, 0.016804841643837738, 0.9830832361645075, 0.9830893648174329, 0.006947017659998562, 0.9239533487798086, 0.06947017659998561, 0.5156530699257947, 0.2766555154627185, 0.20767806214654205, 0.5532597924067529, 0.3345691004590397, 0.11225422783360596, 0.8865867620834036, 0.11160105294646352, 0.0019442692150951834, 0.6858856706128291, 0.26434954963545954, 0.04976793584368419, 0.9990427352658414, 0.968257306022306, 0.003842290896913913, 0.02689603627839739, 0.975938567703317, 0.9690391104544014, 0.021843094702865606, 0.009928679410393456, 0.04497288848470814, 0.03910685955192012, 0.9151005135149308, 0.3748429961518462, 0.5399653606783994, 0.08528058879368758, 0.8832256173805382, 0.059530184783798394, 0.05758475390851086, 0.6742076037205283, 0.2708617601712078, 0.05489322131144599, 0.9971074975975237, 0.9585555488974267, 0.007835603941940817, 0.03395428374841021, 0.9762383237472377, 0.010611286127687367, 0.021222572255374734, 0.39051375388132564, 0.5461507185765219, 0.06360506091424685, 0.9822492222208213, 0.014032131746011735, 0.9704950067641899, 0.176389004024007, 0.6630030267984076, 0.16060321767166397, 0.9947556518920825, 0.8779466944564791, 0.07639429068229069, 0.04583657440937441, 0.28453345458067797, 0.7034696465009728, 0.012153439014752578, 0.621530494337464, 0.31441663960034416, 0.06405812374589188, 0.3072880886742874, 0.12886274686341084, 0.5641124443111551, 0.9942082804172085, 0.2694316102170547, 0.6629392596470666, 0.06776712431947791, 0.023704387630181987, 0.08691608797733395, 0.8889145361318246, 0.9957745614974806, 0.9944266441967936, 0.029371315407238793, 0.9300916545625618, 0.04242523336601159, 0.38173401540675167, 0.5837083339263106, 0.03472630508048042, 0.9874568299612674, 0.0759477383724065, 0.9203078885126905, 0.6256865552186692, 0.2838210307958235, 0.09048323789689457, 0.9739191984669623, 0.31210019555975094, 0.6441216801977838, 0.04335809975861371, 0.6509315514408119, 0.2796982879206887, 0.06941523586793366, 0.9681668633915491, 0.12336057512600321, 0.813137312098162, 0.06254902400755093, 0.5890863008477705, 0.34506821783191177, 0.06584306185800572, 0.058935817194557885, 0.7708804889048172, 0.16973515352032673, 0.007644916852676337, 0.9709044402898949, 0.022934750558029012, 0.9771891457815964, 0.9965134112446368, 0.9784223326446093, 0.011788220875236257, 0.7302615377198199, 0.20712734632843455, 0.06255587590762529, 0.005686225044543785, 0.9950893827951623, 0.5172534594146913, 0.3698660821312126, 0.11282757847218026, 0.721169619702794, 0.22598904708324957, 0.05282282417042452, 0.40238711131774446, 0.49306851956010517, 0.1046467175199317, 0.49547757853440305, 0.40467501382417875, 0.09985657766543451, 0.9981270944753192, 0.04698627919961761, 0.004271479927237965, 0.9525400237740662, 0.36648634725766205, 0.39841024510240614, 0.23495988813731644, 0.9827544121199207, 0.992169132451592, 0.012720117082712718, 0.0052365821933352645, 0.9740042879603591, 0.020946328773341058, 0.9957647383624268, 0.812550042546695, 0.13247802836298644, 0.054949818746043655, 0.35671078368534415, 0.5753806132401843, 0.06794062605510465, 0.9761490141479208, 0.009640977917510328, 0.014461466876265492, 0.3327707126838397, 0.4740843030016346, 0.19297662333720383, 0.9899426429081776, 0.15493013330756758, 0.8315237534482108, 0.013727986495607254, 0.9285646789360478, 0.04032228754685071, 0.029953699320517668, 0.7406942001037248, 0.18987204892390955, 0.06937970335332495], \"Term\": [\"accent\", \"accent\", \"access\", \"access\", \"access\", \"adult\", \"adult\", \"adult\", \"away\", \"away\", \"away\", \"barber\", \"boxcar\", \"bread\", \"bread\", \"bread\", \"camp\", \"camp\", \"camp\", \"case\", \"case\", \"case\", \"catalog\", \"clothe\", \"clothe\", \"clothe\", \"collection\", \"collection\", \"collection\", \"come\", \"come\", \"come\", \"community\", \"community\", \"community\", \"course\", \"course\", \"course\", \"crime\", \"crime\", \"danish\", \"danish\", \"defendant\", \"difficult\", \"difficult\", \"difficult\", \"ditch\", \"ditch\", \"ditch\", \"dry\", \"dry\", \"dry\", \"embassy\", \"embassy\", \"evidently\", \"foreign\", \"foreign\", \"foreign\", \"german\", \"german\", \"german\", \"get\", \"get\", \"get\", \"ghetto\", \"ghetto\", \"ghetto\", \"go\", \"go\", \"go\", \"going\", \"grab\", \"grab\", \"grab\", \"harbor\", \"horse\", \"horse\", \"horse\", \"interview\", \"interview\", \"interview\", \"jewish\", \"jewish\", \"jewish\", \"kill\", \"kill\", \"kill\", \"know\", \"know\", \"know\", \"lager\", \"lay\", \"lay\", \"lay\", \"loaf\", \"loaf\", \"loaf\", \"mean\", \"mean\", \"mean\", \"neutral\", \"neutral\", \"nighttime\", \"on\", \"on\", \"on\", \"oral\", \"over\", \"over\", \"over\", \"parent\", \"parent\", \"parent\", \"people\", \"people\", \"people\", \"prisoner\", \"prisoner\", \"prisoner\", \"protestant\", \"really\", \"really\", \"really\", \"record\", \"record\", \"record\", \"recorded\", \"recording\", \"refugee\", \"refugee\", \"refugee\", \"remember\", \"remember\", \"remember\", \"restitution\", \"result\", \"result\", \"say\", \"say\", \"say\", \"scandinavian\", \"school\", \"school\", \"school\", \"see\", \"see\", \"see\", \"shutzpass\", \"situation\", \"situation\", \"situation\", \"so\", \"so\", \"so\", \"sort\", \"sort\", \"sort\", \"spanish\", \"spanish\", \"spanish\", \"stepmother\", \"swedish\", \"swiss\", \"swiss\", \"take\", \"take\", \"take\", \"testimony\", \"testimony\", \"then\", \"then\", \"then\", \"there\", \"there\", \"there\", \"think\", \"think\", \"think\", \"time\", \"time\", \"time\", \"transcript\", \"trial\", \"trial\", \"trial\", \"try\", \"try\", \"try\", \"tzair\", \"undress\", \"undress\", \"university\", \"university\", \"university\", \"usage\", \"use\", \"use\", \"use\", \"very\", \"very\", \"very\", \"wagon\", \"wagon\", \"wagon\", \"well\", \"well\", \"well\", \"wintertime\", \"wonderful\", \"wonderful\", \"wonderful\", \"wood\", \"wood\", \"wood\", \"work\", \"work\", \"work\"]}, \"R\": 10, \"lambda.step\": 0.01, \"plot.opts\": {\"xlab\": \"PC1\", \"ylab\": \"PC2\"}, \"topic.order\": [1, 3, 2]};\n",
       "\n",
       "function LDAvis_load_lib(url, callback){\n",
       "  var s = document.createElement('script');\n",
       "  s.src = url;\n",
       "  s.async = true;\n",
       "  s.onreadystatechange = s.onload = callback;\n",
       "  s.onerror = function(){console.warn(\"failed to load library \" + url);};\n",
       "  document.getElementsByTagName(\"head\")[0].appendChild(s);\n",
       "}\n",
       "\n",
       "if(typeof(LDAvis) !== \"undefined\"){\n",
       "   // already loaded: just create the visualization\n",
       "   !function(LDAvis){\n",
       "       new LDAvis(\"#\" + \"ldavis_el20351405026533526406204416015\", ldavis_el20351405026533526406204416015_data);\n",
       "   }(LDAvis);\n",
       "}else if(typeof define === \"function\" && define.amd){\n",
       "   // require.js is available: use it to load d3/LDAvis\n",
       "   require.config({paths: {d3: \"https://d3js.org/d3.v5\"}});\n",
       "   require([\"d3\"], function(d3){\n",
       "      window.d3 = d3;\n",
       "      LDAvis_load_lib(\"https://cdn.jsdelivr.net/gh/bmabey/pyLDAvis@3.3.1/pyLDAvis/js/ldavis.v3.0.0.js\", function(){\n",
       "        new LDAvis(\"#\" + \"ldavis_el20351405026533526406204416015\", ldavis_el20351405026533526406204416015_data);\n",
       "      });\n",
       "    });\n",
       "}else{\n",
       "    // require.js not available: dynamically load d3 & LDAvis\n",
       "    LDAvis_load_lib(\"https://d3js.org/d3.v5.js\", function(){\n",
       "         LDAvis_load_lib(\"https://cdn.jsdelivr.net/gh/bmabey/pyLDAvis@3.3.1/pyLDAvis/js/ldavis.v3.0.0.js\", function(){\n",
       "                 new LDAvis(\"#\" + \"ldavis_el20351405026533526406204416015\", ldavis_el20351405026533526406204416015_data);\n",
       "            })\n",
       "         });\n",
       "}\n",
       "</script>"
      ],
      "text/plain": [
       "PreparedData(topic_coordinates=              x         y  topics  cluster       Freq\n",
       "topic                                                \n",
       "0      0.057900  0.060799       1        1  52.441317\n",
       "2      0.035951 -0.041163       2        1  35.622722\n",
       "1     -0.093851 -0.019636       3        1  11.935960, topic_info=          Term          Freq         Total Category  logprob  loglift\n",
       "133       camp   4344.000000   4344.000000  Default  10.0000  10.0000\n",
       "848       very  11112.000000  11112.000000  Default   9.0000   9.0000\n",
       "339        get  10485.000000  10485.000000  Default   8.0000   8.0000\n",
       "1699  prisoner   1109.000000   1109.000000  Default   7.0000   7.0000\n",
       "189     course   2369.000000   2369.000000  Default   6.0000   6.0000\n",
       "...        ...           ...           ...      ...      ...      ...\n",
       "445       know   1127.498132  20530.768155   Topic3  -4.5962  -0.7763\n",
       "345         go   1167.832725  23468.925930   Topic3  -4.5610  -0.8749\n",
       "812       time    760.741331   7620.930116   Topic3  -4.9896  -0.1787\n",
       "587     people    806.730502  12597.933764   Topic3  -4.9309  -0.6227\n",
       "848       very    755.195967  11112.644140   Topic3  -4.9969  -0.5632\n",
       "\n",
       "[114 rows x 6 columns], token_table=      Topic      Freq    Term\n",
       "term                         \n",
       "3288      1  0.024963  accent\n",
       "3288      2  0.973569  accent\n",
       "905       1  0.032082  access\n",
       "905       2  0.005347  access\n",
       "905       3  0.962465  access\n",
       "...     ...       ...     ...\n",
       "2080      2  0.040322    wood\n",
       "2080      3  0.029954    wood\n",
       "885       1  0.740694    work\n",
       "885       2  0.189872    work\n",
       "885       3  0.069380    work\n",
       "\n",
       "[217 rows x 3 columns], R=10, lambda_step=0.01, plot_opts={'xlab': 'PC1', 'ylab': 'PC2'}, topic_order=[1, 3, 2])"
      ]
     },
     "execution_count": 70,
     "metadata": {},
     "output_type": "execute_result"
    }
   ],
   "source": [
    "pyLDAvis.enable_notebook()\n",
    "vis = gensimvis.prepare(lda_model, corpus, id2word, mds=\"mmds\", R=10)\n",
    "vis"
   ]
  },
  {
   "cell_type": "code",
   "execution_count": null,
   "metadata": {},
   "outputs": [],
   "source": []
  },
  {
   "cell_type": "code",
   "execution_count": null,
   "metadata": {},
   "outputs": [],
   "source": []
  },
  {
   "cell_type": "code",
   "execution_count": null,
   "metadata": {},
   "outputs": [],
   "source": []
  },
  {
   "cell_type": "code",
   "execution_count": null,
   "metadata": {},
   "outputs": [],
   "source": []
  },
  {
   "cell_type": "code",
   "execution_count": null,
   "metadata": {},
   "outputs": [],
   "source": []
  },
  {
   "cell_type": "code",
   "execution_count": null,
   "metadata": {},
   "outputs": [],
   "source": []
  },
  {
   "cell_type": "code",
   "execution_count": null,
   "metadata": {},
   "outputs": [],
   "source": []
  },
  {
   "cell_type": "code",
   "execution_count": null,
   "metadata": {},
   "outputs": [],
   "source": []
  },
  {
   "cell_type": "code",
   "execution_count": null,
   "metadata": {},
   "outputs": [],
   "source": []
  },
  {
   "cell_type": "code",
   "execution_count": null,
   "metadata": {},
   "outputs": [],
   "source": []
  },
  {
   "cell_type": "code",
   "execution_count": null,
   "metadata": {},
   "outputs": [],
   "source": []
  },
  {
   "cell_type": "code",
   "execution_count": null,
   "metadata": {},
   "outputs": [],
   "source": []
  },
  {
   "cell_type": "code",
   "execution_count": null,
   "metadata": {},
   "outputs": [],
   "source": []
  },
  {
   "cell_type": "code",
   "execution_count": null,
   "metadata": {},
   "outputs": [],
   "source": []
  },
  {
   "cell_type": "code",
   "execution_count": null,
   "metadata": {},
   "outputs": [],
   "source": []
  }
 ],
 "metadata": {
  "kernelspec": {
   "display_name": "Python 3",
   "language": "python",
   "name": "python3"
  },
  "language_info": {
   "codemirror_mode": {
    "name": "ipython",
    "version": 3
   },
   "file_extension": ".py",
   "mimetype": "text/x-python",
   "name": "python",
   "nbconvert_exporter": "python",
   "pygments_lexer": "ipython3",
   "version": "3.8.8"
  }
 },
 "nbformat": 4,
 "nbformat_minor": 4
}
