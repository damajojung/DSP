{
 "cells": [
  {
   "cell_type": "markdown",
   "metadata": {},
   "source": [
    "# <center>Implementing LDA in Python</center>"
   ]
  },
  {
   "cell_type": "markdown",
   "metadata": {},
   "source": [
    "## Key Concepts in this Notebook"
   ]
  },
  {
   "cell_type": "markdown",
   "metadata": {},
   "source": []
  },
  {
   "cell_type": "markdown",
   "metadata": {},
   "source": [
    "## Introduction"
   ]
  },
  {
   "cell_type": "markdown",
   "metadata": {},
   "source": [
    " "
   ]
  },
  {
   "cell_type": "markdown",
   "metadata": {},
   "source": [
    "## Importing the Required Libraries"
   ]
  },
  {
   "cell_type": "code",
   "execution_count": 4,
   "metadata": {},
   "outputs": [],
   "source": [
    "#https://www.machinelearningplus.com/nlp/topic-modeling-gensim-python/#1introduction\n",
    "import numpy as np\n",
    "import pandas as pd\n",
    "import json\n",
    "import glob\n",
    "\n",
    "#Gensim\n",
    "import gensim\n",
    "import gensim.corpora as corpora\n",
    "from gensim.utils import simple_preprocess\n",
    "from gensim.models import CoherenceModel\n",
    "\n",
    "#spacy\n",
    "import spacy\n",
    "import nltk\n",
    "from nltk.corpus import stopwords\n",
    "\n",
    "#vis\n",
    "import pyLDAvis\n",
    "# import pyLDAvis.gensim\n",
    "import pyLDAvis.gensim_models as gensimvis\n",
    "\n",
    "import warnings\n",
    "warnings.filterwarnings(\"ignore\", category=DeprecationWarning)"
   ]
  },
  {
   "cell_type": "markdown",
   "metadata": {},
   "source": [
    "## Preparing the Data"
   ]
  },
  {
   "cell_type": "code",
   "execution_count": 2,
   "metadata": {},
   "outputs": [],
   "source": [
    "def load_data(file):\n",
    "    with open (file, \"r\", encoding=\"utf-8\") as f:\n",
    "        data = json.load(f) \n",
    "    return (data)\n",
    "\n",
    "def write_data(file, data):\n",
    "    with open (file, \"w\", encoding=\"utf-8\") as f:\n",
    "        json.dump(data, f, indent=4)\n"
   ]
  },
  {
   "cell_type": "code",
   "execution_count": 11,
   "metadata": {},
   "outputs": [],
   "source": [
    "stopwords = stopwords.words(\"dutch\")"
   ]
  },
  {
   "cell_type": "code",
   "execution_count": 12,
   "metadata": {},
   "outputs": [
    {
     "name": "stdout",
     "output_type": "stream",
     "text": [
      "['de', 'en', 'van', 'ik', 'te', 'dat', 'die', 'in', 'een', 'hij', 'het', 'niet', 'zijn', 'is', 'was', 'op', 'aan', 'met', 'als', 'voor', 'had', 'er', 'maar', 'om', 'hem', 'dan', 'zou', 'of', 'wat', 'mijn', 'men', 'dit', 'zo', 'door', 'over', 'ze', 'zich', 'bij', 'ook', 'tot', 'je', 'mij', 'uit', 'der', 'daar', 'haar', 'naar', 'heb', 'hoe', 'heeft', 'hebben', 'deze', 'u', 'want', 'nog', 'zal', 'me', 'zij', 'nu', 'ge', 'geen', 'omdat', 'iets', 'worden', 'toch', 'al', 'waren', 'veel', 'meer', 'doen', 'toen', 'moet', 'ben', 'zonder', 'kan', 'hun', 'dus', 'alles', 'onder', 'ja', 'eens', 'hier', 'wie', 'werd', 'altijd', 'doch', 'wordt', 'wezen', 'kunnen', 'ons', 'zelf', 'tegen', 'na', 'reeds', 'wil', 'kon', 'niets', 'uw', 'iemand', 'geweest', 'andere']\n"
     ]
    }
   ],
   "source": [
    "print(stopwords)"
   ]
  },
  {
   "cell_type": "markdown",
   "metadata": {},
   "source": [
    "# Getting Data"
   ]
  },
  {
   "cell_type": "code",
   "execution_count": 34,
   "metadata": {},
   "outputs": [
    {
     "name": "stdout",
     "output_type": "stream",
     "text": [
      "﻿Vissen zijn aquatische, craniate, kieuwdragende dieren die geen ledematen met vingers heb\n"
     ]
    }
   ],
   "source": [
    "\n",
    "url = '/Users/dj/Python - UvA/DSP/data/' # Insert your path \n",
    "numbers = [\"birds\", 'elephant', 'fish']\n",
    "ending = '.txt'\n",
    "\n",
    "texts = []\n",
    "for i in numbers:\n",
    "    p = url + i + ending\n",
    "    f = open(p,'r')\n",
    "    text = f.read()\n",
    "    texts.append(text)\n",
    "    \n",
    "\n",
    "data = texts\n",
    "\n",
    "print (data[2][0:90])"
   ]
  },
  {
   "cell_type": "code",
   "execution_count": 36,
   "metadata": {},
   "outputs": [
    {
     "name": "stdout",
     "output_type": "stream",
     "text": [
      "﻿vogel groep warmbloedig gewerveld dier deel uitmaken klasse kenmerken veer tandenloz snav\n"
     ]
    }
   ],
   "source": [
    "def lemmatization(texts, allowed_postags=[\"NOUN\", \"ADJ\", \"VERB\", \"ADV\"]):\n",
    "    nlp = spacy.load(\"nl_core_news_sm\", disable=[\"parser\", \"ner\"])\n",
    "    texts_out = []\n",
    "    for text in texts:\n",
    "        doc = nlp(text)\n",
    "        new_text = []\n",
    "        for token in doc:\n",
    "            if token.pos_ in allowed_postags:\n",
    "                new_text.append(token.lemma_)\n",
    "        final = \" \".join(new_text)\n",
    "        texts_out.append(final)\n",
    "    return (texts_out)\n",
    "\n",
    "\n",
    "lemmatized_texts = lemmatization(data)\n",
    "print (lemmatized_texts[0][0:90])"
   ]
  },
  {
   "cell_type": "code",
   "execution_count": 15,
   "metadata": {},
   "outputs": [
    {
     "name": "stdout",
     "output_type": "stream",
     "text": [
      "['jarige', 'man', 'veroordelen', 'jaar', 'gevangenisstraf', 'nacht', 'ogenschijnlijk', 'pont', 'mes', 'man', 'insteken', 'daarbij', 'ernstig', 'gewond', 'raken']\n"
     ]
    }
   ],
   "source": [
    "def gen_words(texts):\n",
    "    final = []\n",
    "    for text in texts:\n",
    "        new = gensim.utils.simple_preprocess(text, deacc=True)\n",
    "        final.append(new)\n",
    "    return (final)\n",
    "\n",
    "data_words = gen_words(lemmatized_texts)\n",
    "\n",
    "print (data_words[0][0:20])"
   ]
  },
  {
   "cell_type": "code",
   "execution_count": 25,
   "metadata": {},
   "outputs": [],
   "source": [
    "#BIGRAMS AND TRIGRAMS\n",
    "bigram_phrases = gensim.models.Phrases(data_words, min_count=5, threshold=100) # min_counts = Minimum counts that it is being taken into consideration\n",
    "trigram_phrases = gensim.models.Phrases(bigram_phrases[data_words], threshold=100)\n",
    "\n",
    "bigram = gensim.models.phrases.Phraser(bigram_phrases)\n",
    "trigram = gensim.models.phrases.Phraser(trigram_phrases)\n",
    "\n",
    "def make_bigrams(texts):\n",
    "    return([bigram[doc] for doc in texts])\n",
    "\n",
    "def make_trigrams(texts):\n",
    "    return ([trigram[bigram[doc]] for doc in texts])\n",
    "\n",
    "data_bigrams = make_bigrams(data_words)\n",
    "data_bigrams_trigrams = make_trigrams(data_bigrams)\n"
   ]
  },
  {
   "cell_type": "code",
   "execution_count": 26,
   "metadata": {},
   "outputs": [
    {
     "name": "stdout",
     "output_type": "stream",
     "text": [
      "['diefstal_geweld', 'vereniging']\n"
     ]
    }
   ],
   "source": [
    "print (data_bigrams_trigrams[2])"
   ]
  },
  {
   "cell_type": "code",
   "execution_count": 17,
   "metadata": {},
   "outputs": [],
   "source": [
    "#TF-IDF REMOVAL\n",
    "from gensim.models import TfidfModel\n",
    "\n",
    "id2word = corpora.Dictionary(data_bigrams_trigrams)\n",
    "\n",
    "texts = data_bigrams_trigrams\n",
    "\n",
    "corpus = [id2word.doc2bow(text) for text in texts]\n",
    "# print (corpus[0][0:20])\n",
    "\n",
    "tfidf = TfidfModel(corpus, id2word=id2word)\n",
    "\n",
    "low_value = 0.03\n",
    "words  = []\n",
    "words_missing_in_tfidf = []\n",
    "for i in range(0, len(corpus)):\n",
    "    bow = corpus[i]\n",
    "    low_value_words = [] #reinitialize to be safe. You can skip this.\n",
    "    tfidf_ids = [id for id, value in tfidf[bow]]\n",
    "    bow_ids = [id for id, value in bow]\n",
    "    low_value_words = [id for id, value in tfidf[bow] if value < low_value]\n",
    "    drops = low_value_words+words_missing_in_tfidf\n",
    "    for item in drops:\n",
    "        words.append(id2word[item])\n",
    "    words_missing_in_tfidf = [id for id in bow_ids if id not in tfidf_ids] # The words with tf-idf socre 0 will be missing\n",
    "\n",
    "    new_bow = [b for b in bow if b[0] not in low_value_words and b[0] not in words_missing_in_tfidf]\n",
    "    corpus[i] = new_bow\n"
   ]
  },
  {
   "cell_type": "code",
   "execution_count": 18,
   "metadata": {},
   "outputs": [],
   "source": [
    "# id2word = corpora.Dictionary(all_texts)\n",
    "\n",
    "# corpus = []\n",
    "# for text in data_words:\n",
    "#     new = id2word.doc2bow(text)\n",
    "#     corpus.append(new)\n",
    "\n",
    "# print (corpus[0][0:20])\n",
    "\n",
    "# word = id2word[[0][:1][0]]\n",
    "# print (word)"
   ]
  },
  {
   "cell_type": "code",
   "execution_count": 19,
   "metadata": {},
   "outputs": [],
   "source": [
    "lda_model = gensim.models.ldamodel.LdaModel(corpus=corpus[:-1],\n",
    "                                           id2word=id2word,\n",
    "                                           num_topics=5,\n",
    "                                           random_state=100,\n",
    "                                           update_every=1,\n",
    "                                           chunksize=100,\n",
    "                                           passes=10,\n",
    "                                           alpha=\"auto\")\n"
   ]
  },
  {
   "cell_type": "code",
   "execution_count": 20,
   "metadata": {},
   "outputs": [
    {
     "name": "stdout",
     "output_type": "stream",
     "text": [
      "[(0, 0.1327212), (1, 0.15550919), (2, 0.26527536), (3, 0.37257102), (4, 0.07392319)]\n",
      "[(3, 0.37257102), (2, 0.26527536), (1, 0.15550919), (0, 0.1327212), (4, 0.07392319)]\n"
     ]
    }
   ],
   "source": [
    "test_doc = corpus[-1]\n",
    "\n",
    "vector = lda_model[test_doc]\n",
    "print (vector)\n",
    "\n",
    "def Sort(sub_li):\n",
    "    sub_li.sort(key = lambda x: x[1])\n",
    "    sub_li.reverse()\n",
    "    return (sub_li)\n",
    "new_vector = Sort(vector)\n",
    "print (new_vector)"
   ]
  },
  {
   "cell_type": "code",
   "execution_count": 49,
   "metadata": {},
   "outputs": [],
   "source": [
    "# lda_model.save(\"/Users/dj/Documents/GitHub/DSP/topic_modeling_textbook-main/models/test_model.model\")"
   ]
  },
  {
   "cell_type": "code",
   "execution_count": 50,
   "metadata": {},
   "outputs": [],
   "source": [
    "# new_model = gensim.models.ldamodel.LdaModel.load(\"models/test_model.model\")"
   ]
  },
  {
   "cell_type": "code",
   "execution_count": 21,
   "metadata": {},
   "outputs": [
    {
     "name": "stdout",
     "output_type": "stream",
     "text": [
      "[(0, 0.13272117), (1, 0.15550913), (2, 0.26527548), (3, 0.3725708), (4, 0.07392344)]\n",
      "[(3, 0.3725708), (2, 0.26527548), (1, 0.15550913), (0, 0.13272117), (4, 0.07392344)]\n"
     ]
    }
   ],
   "source": [
    "test_doc = corpus[-1]\n",
    "\n",
    "vector = lda_model[test_doc] # lda_model can be replaced by new_model\n",
    "print (vector)\n",
    "\n",
    "def Sort(sub_li):\n",
    "    sub_li.sort(key = lambda x: x[1])\n",
    "    sub_li.reverse()\n",
    "    return (sub_li)\n",
    "new_vector = Sort(vector)\n",
    "print (new_vector)"
   ]
  },
  {
   "cell_type": "markdown",
   "metadata": {},
   "source": [
    "## Vizualizing the Data"
   ]
  },
  {
   "cell_type": "code",
   "execution_count": 22,
   "metadata": {},
   "outputs": [
    {
     "data": {
      "text/html": [
       "\n",
       "<link rel=\"stylesheet\" type=\"text/css\" href=\"https://cdn.jsdelivr.net/gh/bmabey/pyLDAvis@3.3.1/pyLDAvis/js/ldavis.v1.0.0.css\">\n",
       "\n",
       "\n",
       "<div id=\"ldavis_el65801404033027228964500135020\"></div>\n",
       "<script type=\"text/javascript\">\n",
       "\n",
       "var ldavis_el65801404033027228964500135020_data = {\"mdsDat\": {\"x\": [0.3731250663056578, 0.10471035523307513, -0.27677023489348745, -0.26448899200952086, 0.06342380536427539], \"y\": [-0.025083656866260785, 0.3040155022402514, -0.17817865946785366, 0.21195571356717047, -0.31270889947330743], \"topics\": [1, 2, 3, 4, 5], \"cluster\": [1, 1, 1, 1, 1], \"Freq\": [29.733767214517837, 24.15273206262857, 16.698878321828122, 16.517874930795116, 12.896747470230357]}, \"tinfo\": {\"Term\": [\"niet\", \"artikel\", \"beroep\", \"verdenken\", \"appellant\", \"besluit\", \"vordering\", \"rechtbank\", \"verzoek\", \"maken\", \"artikel\", \"beroep\", \"grond\", \"lid\", \"zijn\", \"oordeel\", \"er\", \"sprake\", \"hoog\", \"veroordeling\", \"niet\", \"rechtbank\", \"appellant\", \"besluit\", \"verzoek\", \"maken\", \"vaststellen\", \"verlenen\", \"locatie\", \"uitspraak\", \"afwijzing\", \"belang\", \"woning\", \"afwijzen\", \"hebben\", \"stellen\", \"hof\", \"partij\", \"conclusie\", \"recht\", \"volgen\", \"aannemelijk\", \"eiseres\", \"vraag\", \"deel\", \"verband\", \"zaak\", \"stellen\", \"verdenken\", \"gevangenisstraf\", \"maand\", \"veroordelen\", \"man\", \"voorwaardelijk\", \"vast\", \"slachtoffer\", \"aanleiding\", \"vrijspraak\", \"jaar\", \"ander\", \"hebben\", \"vordering\", \"aanvraag\", \"ongegrond\", \"schade\", \"houden\", \"overeenkomst\", \"voldoen\", \"nu\", \"bijstand\", \"dagen\", \"afwijzen\"], \"Freq\": [1933.0, 802.0, 753.0, 475.0, 487.0, 471.0, 316.0, 768.0, 445.0, 423.0, 802.0030853332147, 752.8626302077923, 447.0617277369632, 402.43191132324966, 282.52700548980124, 277.2327169582454, 270.20463269357873, 267.65926339654936, 256.7354783021074, 227.74693888170785, 1891.9837227589464, 670.0643588979757, 487.1335775333466, 470.63655281442357, 444.4069401524508, 422.8920773590296, 266.20835771664474, 245.7384042627284, 168.35913198442407, 167.53048089634134, 161.6924914030133, 137.8113873536643, 241.44135480689215, 310.5528154767255, 286.5576158671702, 168.37366475224468, 310.0885922300136, 177.90098599444468, 146.83995215019402, 141.7668920467975, 115.46338168308773, 109.8875992849728, 104.36052318633239, 102.1013551726402, 100.97438104912294, 92.83092860065112, 206.66325995251802, 156.65169617897627, 474.8604547978622, 324.3288289101924, 261.09062316949115, 244.38391363149393, 160.75316578777475, 145.74074565556666, 139.59920728349252, 116.50991940494714, 118.69876930213286, 111.61027028599189, 272.19013303231367, 199.33002389337142, 214.73531364319493, 315.5270872732778, 196.7845213569172, 140.50935770713656, 134.6059658757843, 111.01383646725682, 100.29187013277863, 100.07378004186263, 101.16393682634838, 95.83726856466983, 81.6421728144081, 86.52144803610986], \"Total\": [1933.0, 802.0, 753.0, 475.0, 487.0, 471.0, 316.0, 768.0, 445.0, 423.0, 802.6680944834347, 753.5233698497437, 447.727404906345, 403.0956106151537, 283.190163074976, 277.8965638467398, 270.8689937942852, 268.32306318161596, 257.3966991695902, 228.41441505589495, 1933.8595328355857, 768.9196266784662, 487.7981457067898, 471.3021327521566, 445.0731424879286, 423.56196762468375, 266.87966642331355, 246.40119224491804, 169.01890022662454, 168.19820221728648, 162.36714445030515, 138.4862348126883, 252.1210733806895, 397.5787035817862, 504.1428762627054, 325.5265777708738, 310.759300797472, 178.56688821686836, 147.52508792557782, 142.42854535158057, 116.14883496221843, 110.55549327923109, 105.0241213951627, 102.765210471037, 101.64845052574546, 93.49866807555725, 212.45729247469015, 325.5265777708738, 475.5269346933888, 324.99291095273156, 261.7569459278711, 245.0515388095382, 161.4214655082491, 146.40356238292247, 140.31479522948712, 117.17453471662054, 119.40523971453514, 112.27482542635916, 278.2348974780614, 257.23145962171344, 504.1428762627054, 316.196937909637, 197.46238442530537, 141.17981981828007, 135.279237703394, 111.69116503660803, 100.95927702853095, 100.7475212623114, 101.84670500261026, 96.51769620654353, 82.30833487312934, 397.5787035817862], \"Category\": [\"Default\", \"Default\", \"Default\", \"Default\", \"Default\", \"Default\", \"Default\", \"Default\", \"Default\", \"Default\", \"Topic1\", \"Topic1\", \"Topic1\", \"Topic1\", \"Topic1\", \"Topic1\", \"Topic1\", \"Topic1\", \"Topic1\", \"Topic1\", \"Topic1\", \"Topic1\", \"Topic2\", \"Topic2\", \"Topic2\", \"Topic2\", \"Topic2\", \"Topic2\", \"Topic2\", \"Topic2\", \"Topic2\", \"Topic2\", \"Topic2\", \"Topic2\", \"Topic2\", \"Topic2\", \"Topic3\", \"Topic3\", \"Topic3\", \"Topic3\", \"Topic3\", \"Topic3\", \"Topic3\", \"Topic3\", \"Topic3\", \"Topic3\", \"Topic3\", \"Topic3\", \"Topic4\", \"Topic4\", \"Topic4\", \"Topic4\", \"Topic4\", \"Topic4\", \"Topic4\", \"Topic4\", \"Topic4\", \"Topic4\", \"Topic4\", \"Topic4\", \"Topic4\", \"Topic5\", \"Topic5\", \"Topic5\", \"Topic5\", \"Topic5\", \"Topic5\", \"Topic5\", \"Topic5\", \"Topic5\", \"Topic5\", \"Topic5\"], \"logprob\": [10.0, 9.0, 8.0, 7.0, 6.0, 5.0, 4.0, 3.0, 2.0, 1.0, -3.3131, -3.3763, -3.8975, -4.0026, -4.3564, -4.3753, -4.401, -4.4104, -4.4521, -4.5719, -2.4548, -3.4928, -3.6037, -3.6382, -3.6955, -3.7452, -4.208, -4.288, -4.6662, -4.6711, -4.7066, -4.8664, -4.3057, -4.0539, -4.1343, -4.6661, -3.6864, -4.242, -4.4339, -4.469, -4.6743, -4.7238, -4.7754, -4.7973, -4.8084, -4.8924, -4.0921, -4.3692, -3.2493, -3.6306, -3.8475, -3.9136, -4.3325, -4.4305, -4.4735, -4.6543, -4.6357, -4.6973, -3.8058, -4.1174, -4.0429, -3.4106, -3.8827, -4.2196, -4.2625, -4.4552, -4.5568, -4.5589, -4.5481, -4.6022, -4.7625, -4.7045], \"loglift\": [10.0, 9.0, 8.0, 7.0, 6.0, 5.0, 4.0, 3.0, 2.0, 1.0, 1.2121, 1.212, 1.2114, 1.2112, 1.2105, 1.2105, 1.2104, 1.2104, 1.2103, 1.21, 1.191, 1.0753, 1.4194, 1.4194, 1.4193, 1.4192, 1.4183, 1.4181, 1.4169, 1.4168, 1.4166, 1.4159, 1.3775, 1.1737, 0.8559, 0.7615, 1.7877, 1.7861, 1.7852, 1.7852, 1.7839, 1.7838, 1.7835, 1.7833, 1.7832, 1.7827, 1.7622, 1.0584, 1.7993, 1.7987, 1.7982, 1.798, 1.7966, 1.7962, 1.7956, 1.795, 1.7948, 1.7948, 1.7788, 1.5457, 0.9473, 2.0461, 2.0448, 2.0434, 2.0432, 2.0421, 2.0416, 2.0415, 2.0415, 2.0411, 2.0401, 0.5232]}, \"token.table\": {\"Topic\": [4, 3, 5, 2, 5, 2, 3, 4, 2, 1, 2, 1, 2, 5, 3, 5, 3, 3, 1, 4, 1, 2, 3, 4, 3, 1, 5, 1, 4, 1, 2, 4, 2, 4, 1, 2, 5, 5, 1, 5, 3, 3, 1, 4, 5, 4, 1, 2, 3, 2, 4, 2, 3, 4, 2, 4, 1, 2, 5, 3, 4, 5, 3, 4, 2, 4, 3, 4, 1], \"Freq\": [0.9966061814749172, 0.9949754348449419, 0.9976583670522814, 0.782235057356446, 0.21882459803861995, 0.9977388008420786, 0.22159031435666787, 0.7736223255609984, 0.9983637787190984, 0.9991676578550631, 0.9964889303738673, 0.9993054364725966, 0.9993589404096428, 0.9946362560764433, 0.9964406872555621, 0.9962539046184739, 0.9936206550872979, 0.9902487030449953, 0.9967918299466009, 0.9969448227352997, 0.9983753397751091, 0.5692830614360328, 0.005950694021979437, 0.42646640490852633, 0.9975566272818754, 0.9984588024210488, 0.9938118199735718, 0.02156451277098731, 0.9775912456180914, 0.9972820080737627, 0.993971678757474, 0.9971082107288963, 0.9986732339831282, 0.9973890367868853, 0.97835440882606, 0.02120112619549073, 0.9916864762331922, 0.9987263065039216, 0.9967737497926233, 0.9904983766052539, 0.9968253452668119, 0.996991155456073, 0.8713524492725288, 0.12745155228165347, 0.9979358421282191, 0.9985104722878342, 0.9987959917504471, 0.5160868926599567, 0.48229548897388813, 0.99882161512624, 0.99775650722383, 0.9967038836824749, 0.9946665756227215, 0.998891893066523, 0.9983717925986362, 0.9957089075439127, 0.9981856878174982, 0.9975888401579799, 0.9925802515739806, 0.9901089411478632, 0.9972434934208299, 0.9993771669297656, 0.9925537984349999, 0.9975522079387297, 0.9558899490964119, 0.039663483364996345, 0.9743134612555591, 0.023534141576221232, 0.9993284968908837], \"Term\": [\"aanleiding\", \"aannemelijk\", \"aanvraag\", \"afwijzen\", \"afwijzen\", \"afwijzing\", \"ander\", \"ander\", \"appellant\", \"artikel\", \"belang\", \"beroep\", \"besluit\", \"bijstand\", \"conclusie\", \"dagen\", \"deel\", \"eiseres\", \"er\", \"gevangenisstraf\", \"grond\", \"hebben\", \"hebben\", \"hebben\", \"hof\", \"hoog\", \"houden\", \"jaar\", \"jaar\", \"lid\", \"locatie\", \"maand\", \"maken\", \"man\", \"niet\", \"niet\", \"nu\", \"ongegrond\", \"oordeel\", \"overeenkomst\", \"partij\", \"recht\", \"rechtbank\", \"rechtbank\", \"schade\", \"slachtoffer\", \"sprake\", \"stellen\", \"stellen\", \"uitspraak\", \"vast\", \"vaststellen\", \"verband\", \"verdenken\", \"verlenen\", \"veroordelen\", \"veroordeling\", \"verzoek\", \"voldoen\", \"volgen\", \"voorwaardelijk\", \"vordering\", \"vraag\", \"vrijspraak\", \"woning\", \"woning\", \"zaak\", \"zaak\", \"zijn\"]}, \"R\": 10, \"lambda.step\": 0.01, \"plot.opts\": {\"xlab\": \"PC1\", \"ylab\": \"PC2\"}, \"topic.order\": [4, 2, 3, 5, 1]};\n",
       "\n",
       "function LDAvis_load_lib(url, callback){\n",
       "  var s = document.createElement('script');\n",
       "  s.src = url;\n",
       "  s.async = true;\n",
       "  s.onreadystatechange = s.onload = callback;\n",
       "  s.onerror = function(){console.warn(\"failed to load library \" + url);};\n",
       "  document.getElementsByTagName(\"head\")[0].appendChild(s);\n",
       "}\n",
       "\n",
       "if(typeof(LDAvis) !== \"undefined\"){\n",
       "   // already loaded: just create the visualization\n",
       "   !function(LDAvis){\n",
       "       new LDAvis(\"#\" + \"ldavis_el65801404033027228964500135020\", ldavis_el65801404033027228964500135020_data);\n",
       "   }(LDAvis);\n",
       "}else if(typeof define === \"function\" && define.amd){\n",
       "   // require.js is available: use it to load d3/LDAvis\n",
       "   require.config({paths: {d3: \"https://d3js.org/d3.v5\"}});\n",
       "   require([\"d3\"], function(d3){\n",
       "      window.d3 = d3;\n",
       "      LDAvis_load_lib(\"https://cdn.jsdelivr.net/gh/bmabey/pyLDAvis@3.3.1/pyLDAvis/js/ldavis.v3.0.0.js\", function(){\n",
       "        new LDAvis(\"#\" + \"ldavis_el65801404033027228964500135020\", ldavis_el65801404033027228964500135020_data);\n",
       "      });\n",
       "    });\n",
       "}else{\n",
       "    // require.js not available: dynamically load d3 & LDAvis\n",
       "    LDAvis_load_lib(\"https://d3js.org/d3.v5.js\", function(){\n",
       "         LDAvis_load_lib(\"https://cdn.jsdelivr.net/gh/bmabey/pyLDAvis@3.3.1/pyLDAvis/js/ldavis.v3.0.0.js\", function(){\n",
       "                 new LDAvis(\"#\" + \"ldavis_el65801404033027228964500135020\", ldavis_el65801404033027228964500135020_data);\n",
       "            })\n",
       "         });\n",
       "}\n",
       "</script>"
      ],
      "text/plain": [
       "PreparedData(topic_coordinates=              x         y  topics  cluster       Freq\n",
       "topic                                                \n",
       "3      0.373125 -0.025084       1        1  29.733767\n",
       "1      0.104710  0.304016       2        1  24.152732\n",
       "2     -0.276770 -0.178179       3        1  16.698878\n",
       "4     -0.264489  0.211956       4        1  16.517875\n",
       "0      0.063424 -0.312709       5        1  12.896747, topic_info=           Term         Freq        Total Category  logprob  loglift\n",
       "33         niet  1933.000000  1933.000000  Default  10.0000  10.0000\n",
       "22      artikel   802.000000   802.000000  Default   9.0000   9.0000\n",
       "82       beroep   753.000000   753.000000  Default   8.0000   8.0000\n",
       "214   verdenken   475.000000   475.000000  Default   7.0000   7.0000\n",
       "435   appellant   487.000000   487.000000  Default   6.0000   6.0000\n",
       "...         ...          ...          ...      ...      ...      ...\n",
       "695     voldoen   100.073780   100.747521   Topic5  -4.5589   2.0415\n",
       "581          nu   101.163937   101.846705   Topic5  -4.5481   2.0415\n",
       "2018   bijstand    95.837269    96.517696   Topic5  -4.6022   2.0411\n",
       "1271      dagen    81.642173    82.308335   Topic5  -4.7625   2.0401\n",
       "112    afwijzen    86.521448   397.578704   Topic5  -4.7045   0.5232\n",
       "\n",
       "[72 rows x 6 columns], token_table=      Topic      Freq         Term\n",
       "term                              \n",
       "326       4  0.996606   aanleiding\n",
       "434       3  0.994975  aannemelijk\n",
       "654       5  0.997658     aanvraag\n",
       "112       2  0.782235     afwijzen\n",
       "112       5  0.218825     afwijzen\n",
       "...     ...       ...          ...\n",
       "43        2  0.955890       woning\n",
       "43        4  0.039663       woning\n",
       "44        3  0.974313         zaak\n",
       "44        4  0.023534         zaak\n",
       "652       1  0.999328         zijn\n",
       "\n",
       "[69 rows x 3 columns], R=10, lambda_step=0.01, plot_opts={'xlab': 'PC1', 'ylab': 'PC2'}, topic_order=[4, 2, 3, 5, 1])"
      ]
     },
     "execution_count": 22,
     "metadata": {},
     "output_type": "execute_result"
    }
   ],
   "source": [
    "pyLDAvis.enable_notebook()\n",
    "vis = gensimvis.prepare(lda_model, corpus, id2word, mds=\"mmds\", R=10)\n",
    "vis"
   ]
  },
  {
   "cell_type": "code",
   "execution_count": null,
   "metadata": {},
   "outputs": [],
   "source": [
    "# Accuracy metric\n",
    "# Grid search "
   ]
  },
  {
   "cell_type": "code",
   "execution_count": null,
   "metadata": {},
   "outputs": [],
   "source": []
  },
  {
   "cell_type": "code",
   "execution_count": null,
   "metadata": {},
   "outputs": [],
   "source": []
  },
  {
   "cell_type": "code",
   "execution_count": null,
   "metadata": {},
   "outputs": [],
   "source": []
  },
  {
   "cell_type": "code",
   "execution_count": null,
   "metadata": {},
   "outputs": [],
   "source": []
  },
  {
   "cell_type": "code",
   "execution_count": null,
   "metadata": {},
   "outputs": [],
   "source": []
  },
  {
   "cell_type": "code",
   "execution_count": null,
   "metadata": {},
   "outputs": [],
   "source": []
  },
  {
   "cell_type": "code",
   "execution_count": null,
   "metadata": {},
   "outputs": [],
   "source": []
  },
  {
   "cell_type": "code",
   "execution_count": null,
   "metadata": {},
   "outputs": [],
   "source": []
  },
  {
   "cell_type": "code",
   "execution_count": null,
   "metadata": {},
   "outputs": [],
   "source": []
  },
  {
   "cell_type": "code",
   "execution_count": null,
   "metadata": {},
   "outputs": [],
   "source": []
  },
  {
   "cell_type": "code",
   "execution_count": null,
   "metadata": {},
   "outputs": [],
   "source": []
  },
  {
   "cell_type": "code",
   "execution_count": null,
   "metadata": {},
   "outputs": [],
   "source": []
  },
  {
   "cell_type": "code",
   "execution_count": null,
   "metadata": {},
   "outputs": [],
   "source": []
  },
  {
   "cell_type": "code",
   "execution_count": null,
   "metadata": {},
   "outputs": [],
   "source": []
  }
 ],
 "metadata": {
  "kernelspec": {
   "display_name": "Python 3",
   "language": "python",
   "name": "python3"
  },
  "language_info": {
   "codemirror_mode": {
    "name": "ipython",
    "version": 3
   },
   "file_extension": ".py",
   "mimetype": "text/x-python",
   "name": "python",
   "nbconvert_exporter": "python",
   "pygments_lexer": "ipython3",
   "version": "3.7.10"
  }
 },
 "nbformat": 4,
 "nbformat_minor": 4
}
