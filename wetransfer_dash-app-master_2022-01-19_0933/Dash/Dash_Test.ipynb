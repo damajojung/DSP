{
  "cells": [
    {
      "cell_type": "markdown",
      "metadata": {
        "id": "VvpgUHd77WTU"
      },
      "source": [
        "# **Dash for Beginners (Towards Data Science)**\n"
      ]
    },
    {
      "cell_type": "code",
      "execution_count": 1,
      "metadata": {
        "colab": {
          "base_uri": "https://localhost:8080/"
        },
        "id": "la9KvSBp8FPK",
        "outputId": "44a95671-2f30-4be6-cb45-5b1860c3112d"
      },
      "outputs": [
        {
          "name": "stdout",
          "output_type": "stream",
          "text": [
            "Requirement already satisfied: dash in /Users/LizzyDRB/opt/anaconda3/lib/python3.8/site-packages (2.0.0)\n",
            "Requirement already satisfied: dash-html-components==2.0.0 in /Users/LizzyDRB/opt/anaconda3/lib/python3.8/site-packages (from dash) (2.0.0)\n",
            "Requirement already satisfied: dash-table==5.0.0 in /Users/LizzyDRB/opt/anaconda3/lib/python3.8/site-packages (from dash) (5.0.0)\n",
            "Requirement already satisfied: dash-core-components==2.0.0 in /Users/LizzyDRB/opt/anaconda3/lib/python3.8/site-packages (from dash) (2.0.0)\n",
            "Requirement already satisfied: flask-compress in /Users/LizzyDRB/opt/anaconda3/lib/python3.8/site-packages (from dash) (1.10.1)\n",
            "Requirement already satisfied: Flask>=1.0.4 in /Users/LizzyDRB/opt/anaconda3/lib/python3.8/site-packages (from dash) (1.1.2)\n",
            "Requirement already satisfied: plotly>=5.0.0 in /Users/LizzyDRB/opt/anaconda3/lib/python3.8/site-packages (from dash) (5.4.0)\n",
            "Requirement already satisfied: Werkzeug>=0.15 in /Users/LizzyDRB/opt/anaconda3/lib/python3.8/site-packages (from Flask>=1.0.4->dash) (1.0.1)\n",
            "Requirement already satisfied: itsdangerous>=0.24 in /Users/LizzyDRB/opt/anaconda3/lib/python3.8/site-packages (from Flask>=1.0.4->dash) (1.1.0)\n",
            "Requirement already satisfied: Jinja2>=2.10.1 in /Users/LizzyDRB/opt/anaconda3/lib/python3.8/site-packages (from Flask>=1.0.4->dash) (2.11.3)\n",
            "Requirement already satisfied: click>=5.1 in /Users/LizzyDRB/opt/anaconda3/lib/python3.8/site-packages (from Flask>=1.0.4->dash) (7.1.2)\n",
            "Requirement already satisfied: six in /Users/LizzyDRB/opt/anaconda3/lib/python3.8/site-packages (from plotly>=5.0.0->dash) (1.15.0)\n",
            "Requirement already satisfied: tenacity>=6.2.0 in /Users/LizzyDRB/opt/anaconda3/lib/python3.8/site-packages (from plotly>=5.0.0->dash) (8.0.1)\n",
            "Requirement already satisfied: brotli in /Users/LizzyDRB/opt/anaconda3/lib/python3.8/site-packages (from flask-compress->dash) (1.0.9)\n",
            "Requirement already satisfied: MarkupSafe>=0.23 in /Users/LizzyDRB/opt/anaconda3/lib/python3.8/site-packages (from Jinja2>=2.10.1->Flask>=1.0.4->dash) (1.1.1)\n",
            "Requirement already satisfied: dash-html-components in /Users/LizzyDRB/opt/anaconda3/lib/python3.8/site-packages (2.0.0)\n",
            "Requirement already satisfied: dash-core-components in /Users/LizzyDRB/opt/anaconda3/lib/python3.8/site-packages (2.0.0)\n",
            "Requirement already satisfied: plotly in /Users/LizzyDRB/opt/anaconda3/lib/python3.8/site-packages (5.4.0)\n",
            "Requirement already satisfied: tenacity>=6.2.0 in /Users/LizzyDRB/opt/anaconda3/lib/python3.8/site-packages (from plotly) (8.0.1)\n",
            "Requirement already satisfied: six in /Users/LizzyDRB/opt/anaconda3/lib/python3.8/site-packages (from plotly) (1.15.0)\n"
          ]
        }
      ],
      "source": [
        "# install Dash\n",
        "! pip install dash   \n",
        "! pip install dash-html-components                                         \n",
        "! pip install dash-core-components                                     \n",
        "! pip install plotly"
      ]
    },
    {
      "cell_type": "code",
      "execution_count": 13,
      "metadata": {
        "colab": {
          "base_uri": "https://localhost:8080/"
        },
        "id": "x4S8oYvu7tcf",
        "outputId": "5f872445-be06-4f30-be91-f3d85420cff2"
      },
      "outputs": [],
      "source": [
        "# import packages\n",
        "import dash\n",
        "import dash_html_components as html\n",
        "import dash_core_components as dcc\n",
        "import plotly.graph_objects as go\n",
        "import plotly.express as px"
      ]
    },
    {
      "cell_type": "code",
      "execution_count": 14,
      "metadata": {
        "id": "ausBoN_z7o9B"
      },
      "outputs": [],
      "source": [
        "app = dash.Dash()   #initialising dash app\n",
        "df = px.data.stocks() #reading stock price dataset \n",
        "\n",
        "def stock_prices():\n",
        "    # Function for creating line chart showing Google stock prices over time \n",
        "    fig = go.Figure([go.Scatter(x = df['date'], y = df['GOOG'],\\\n",
        "                     line = dict(color = 'firebrick', width = 4), name = 'Google')\n",
        "                     ])\n",
        "    fig.update_layout(title = 'Prices over time',\n",
        "                      xaxis_title = 'Dates',\n",
        "                      yaxis_title = 'Prices'\n",
        "                      )\n",
        "    return fig  \n",
        "\n",
        " \n",
        "app.layout = html.Div(id = 'parent', children = [\n",
        "    html.H1(id = 'H1', children = 'Styling using html components', style = {'textAlign':'center',\\\n",
        "                                            'marginTop':40,'marginBottom':40}),\n",
        "\n",
        "        \n",
        "        dcc.Graph(id = 'line_plot', figure = stock_prices())    \n",
        "    ]\n",
        "                     )"
      ]
    },
    {
      "cell_type": "code",
      "execution_count": 7,
      "metadata": {
        "id": "62vJvWZoAJfK"
      },
      "outputs": [
        {
          "name": "stdout",
          "output_type": "stream",
          "text": [
            "Dash is running on http://127.0.0.1:8050/\n",
            "\n",
            " * Serving Flask app \"__main__\" (lazy loading)\n",
            " * Environment: production\n",
            "\u001b[31m   WARNING: This is a development server. Do not use it in a production deployment.\u001b[0m\n",
            "\u001b[2m   Use a production WSGI server instead.\u001b[0m\n",
            " * Debug mode: off\n"
          ]
        },
        {
          "name": "stderr",
          "output_type": "stream",
          "text": [
            " * Running on http://127.0.0.1:8050/ (Press CTRL+C to quit)\n"
          ]
        }
      ],
      "source": [
        "if __name__ == '__main__': \n",
        "    app.run_server()"
      ]
    },
    {
      "cell_type": "code",
      "execution_count": 8,
      "metadata": {},
      "outputs": [
        {
          "data": {
            "text/plain": [
              "Dropdown(id='dropdown', options=[{'label': 'Google', 'value': 'GOOG'}, {'label': 'Apple', 'value': 'AAPL'}, {'label': 'Amazon', 'value': 'AMZN'}], value='GOOGL')"
            ]
          },
          "execution_count": 8,
          "metadata": {},
          "output_type": "execute_result"
        }
      ],
      "source": [
        "# create a dropdown menu\n",
        "dcc.Dropdown( id = 'dropdown',\n",
        "options = [\n",
        "    {'label':'Google', 'value':'GOOG' },\n",
        "    {'label': 'Apple', 'value':'AAPL'},\n",
        "    {'label': 'Amazon', 'value':'AMZN'},\n",
        "    ],\n",
        "value = 'GOOGL'       \n",
        ")"
      ]
    },
    {
      "cell_type": "code",
      "execution_count": 15,
      "metadata": {},
      "outputs": [],
      "source": [
        "from dash.dependencies import Input, Output  \n",
        "\n",
        "@app.callback(Output(component_id='line_plot', component_property= 'figure'),\n",
        "              [Input(component_id='dropdown', component_property= 'value')])\n",
        "def graph_update(dropdown_value):\n",
        "    print(dropdown_value)\n",
        "    fig = go.Figure([go.Scatter(x = df['date'], y = df['{}'.format(dropdown_value)],\\\n",
        "                     line = dict(color = 'firebrick', width = 4))\n",
        "                     ])\n",
        "    \n",
        "    fig.update_layout(title = 'Stock prices over time',\n",
        "                      xaxis_title = 'Dates',\n",
        "                      yaxis_title = 'Prices'\n",
        "                      )\n",
        "    return fig "
      ]
    },
    {
      "cell_type": "code",
      "execution_count": 16,
      "metadata": {},
      "outputs": [
        {
          "name": "stdout",
          "output_type": "stream",
          "text": [
            "Dash is running on http://127.0.0.1:8050/\n",
            "\n",
            "Dash is running on http://127.0.0.1:8050/\n",
            "\n",
            "Dash is running on http://127.0.0.1:8050/\n",
            "\n",
            " * Serving Flask app \"__main__\" (lazy loading)\n",
            " * Environment: production\n",
            "\u001b[31m   WARNING: This is a development server. Do not use it in a production deployment.\u001b[0m\n",
            "\u001b[2m   Use a production WSGI server instead.\u001b[0m\n",
            " * Debug mode: off\n"
          ]
        },
        {
          "name": "stderr",
          "output_type": "stream",
          "text": [
            " * Running on http://127.0.0.1:8050/ (Press CTRL+C to quit)\n",
            "127.0.0.1 - - [07/Dec/2021 15:37:58] \"\u001b[37mGET / HTTP/1.1\u001b[0m\" 200 -\n",
            "127.0.0.1 - - [07/Dec/2021 15:37:58] \"\u001b[36mGET /_dash-component-suites/dash/dcc/async-graph.js HTTP/1.1\u001b[0m\" 304 -\n",
            "127.0.0.1 - - [07/Dec/2021 15:37:58] \"\u001b[36mGET /_dash-component-suites/dash/dcc/async-plotlyjs.js HTTP/1.1\u001b[0m\" 304 -\n",
            "127.0.0.1 - - [07/Dec/2021 15:37:58] \"\u001b[37mGET /_dash-layout HTTP/1.1\u001b[0m\" 200 -\n",
            "127.0.0.1 - - [07/Dec/2021 15:37:58] \"\u001b[37mGET /_dash-dependencies HTTP/1.1\u001b[0m\" 200 -\n",
            "127.0.0.1 - - [07/Dec/2021 15:37:58] \"\u001b[37mGET /_dash-component-suites/dash/dcc/async-dropdown.js HTTP/1.1\u001b[0m\" 200 -\n",
            "127.0.0.1 - - [07/Dec/2021 15:37:58] \"\u001b[36mGET /_dash-component-suites/dash/dcc/async-graph.js HTTP/1.1\u001b[0m\" 304 -\n",
            "127.0.0.1 - - [07/Dec/2021 15:37:58] \"\u001b[36mGET /_dash-component-suites/dash/dcc/async-plotlyjs.js HTTP/1.1\u001b[0m\" 304 -\n",
            "127.0.0.1 - - [07/Dec/2021 15:37:58] \"\u001b[37mPOST /_dash-update-component HTTP/1.1\u001b[0m\" 200 -\n"
          ]
        },
        {
          "name": "stdout",
          "output_type": "stream",
          "text": [
            "GOOG\n"
          ]
        },
        {
          "name": "stderr",
          "output_type": "stream",
          "text": [
            "127.0.0.1 - - [07/Dec/2021 15:38:24] \"\u001b[37mPOST /_dash-update-component HTTP/1.1\u001b[0m\" 200 -\n"
          ]
        },
        {
          "name": "stdout",
          "output_type": "stream",
          "text": [
            "AAPL\n"
          ]
        }
      ],
      "source": [
        "import dash\n",
        "import dash_html_components as html\n",
        "import plotly.graph_objects as go\n",
        "import dash_core_components as dcc\n",
        "import plotly.express as px\n",
        "from dash.dependencies import Input, Output\n",
        "\n",
        "\n",
        "app = dash.Dash()\n",
        "\n",
        "df = px.data.stocks()\n",
        "\n",
        "\n",
        "app.layout = html.Div(id = 'parent', children = [\n",
        "    html.H1(id = 'H1', children = 'Styling using html components', style = {'textAlign':'center',\\\n",
        "                                            'marginTop':40,'marginBottom':40}),\n",
        "\n",
        "        dcc.Dropdown( id = 'dropdown',\n",
        "        options = [\n",
        "            {'label':'Google', 'value':'GOOG' },\n",
        "            {'label': 'Apple', 'value':'AAPL'},\n",
        "            {'label': 'Amazon', 'value':'AMZN'},\n",
        "            ],\n",
        "        value = 'GOOG'),\n",
        "        dcc.Graph(id = 'bar_plot')\n",
        "    ])\n",
        "    \n",
        "    \n",
        "@app.callback(Output(component_id='bar_plot', component_property= 'figure'),\n",
        "              [Input(component_id='dropdown', component_property= 'value')])\n",
        "def graph_update(dropdown_value):\n",
        "    print(dropdown_value)\n",
        "    fig = go.Figure([go.Scatter(x = df['date'], y = df['{}'.format(dropdown_value)],\\\n",
        "                     line = dict(color = 'firebrick', width = 4))\n",
        "                     ])\n",
        "    \n",
        "    fig.update_layout(title = 'Stock prices over time',\n",
        "                      xaxis_title = 'Dates',\n",
        "                      yaxis_title = 'Prices'\n",
        "                      )\n",
        "    return fig  \n",
        "\n",
        "\n",
        "\n",
        "if __name__ == '__main__': \n",
        "    app.run_server()"
      ]
    }
  ],
  "metadata": {
    "colab": {
      "name": "Dash-Test.ipynb",
      "provenance": []
    },
    "kernelspec": {
      "display_name": "Python 3",
      "name": "python3"
    },
    "language_info": {
      "codemirror_mode": {
        "name": "ipython",
        "version": 3
      },
      "file_extension": ".py",
      "mimetype": "text/x-python",
      "name": "python",
      "nbconvert_exporter": "python",
      "pygments_lexer": "ipython3",
      "version": "3.8.8"
    }
  },
  "nbformat": 4,
  "nbformat_minor": 0
}
