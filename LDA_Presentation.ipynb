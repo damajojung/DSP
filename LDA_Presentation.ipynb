{
 "cells": [
  {
   "cell_type": "markdown",
   "metadata": {},
   "source": [
    "# <center>Implementing LDA in Python</center>"
   ]
  },
  {
   "cell_type": "markdown",
   "metadata": {},
   "source": [
    "## Key Concepts in this Notebook"
   ]
  },
  {
   "cell_type": "markdown",
   "metadata": {},
   "source": []
  },
  {
   "cell_type": "markdown",
   "metadata": {},
   "source": [
    "## Introduction"
   ]
  },
  {
   "cell_type": "markdown",
   "metadata": {},
   "source": [
    " "
   ]
  },
  {
   "cell_type": "markdown",
   "metadata": {},
   "source": [
    "## Importing the Required Libraries"
   ]
  },
  {
   "cell_type": "code",
   "execution_count": 2,
   "metadata": {},
   "outputs": [],
   "source": [
    "#https://www.machinelearningplus.com/nlp/topic-modeling-gensim-python/#1introduction\n",
    "import numpy as np\n",
    "import pandas as pd\n",
    "import json\n",
    "import glob\n",
    "\n",
    "#Gensim\n",
    "import gensim\n",
    "import gensim.corpora as corpora\n",
    "from gensim.utils import simple_preprocess\n",
    "from gensim.models import CoherenceModel\n",
    "\n",
    "#spacy\n",
    "import spacy\n",
    "from spacy.lang.nl import Dutch\n",
    "from spacy.lang.nl.stop_words import STOP_WORDS\n",
    "import nltk\n",
    "from nltk.corpus import stopwords\n",
    "from nltk.tokenize import RegexpTokenizer\n",
    "\n",
    "#vis\n",
    "import pyLDAvis\n",
    "# import pyLDAvis.gensim\n",
    "import pyLDAvis.gensim_models as gensimvis\n",
    "\n",
    "import warnings\n",
    "warnings.filterwarnings(\"ignore\", category=DeprecationWarning)\n",
    "\n",
    "import string\n",
    "from nltk.stem.porter import PorterStemmer\n",
    "from nltk.stem import WordNetLemmatizer\n",
    "from nltk.tokenize import sent_tokenize, word_tokenize\n",
    "from nltk.corpus import stopwords\n",
    "from nltk.tokenize import word_tokenize\n",
    "from nltk import pos_tag"
   ]
  },
  {
   "cell_type": "markdown",
   "metadata": {},
   "source": [
    "## Preparing the Data"
   ]
  },
  {
   "cell_type": "code",
   "execution_count": 3,
   "metadata": {},
   "outputs": [],
   "source": [
    "def load_data(file):\n",
    "    with open (file, \"r\", encoding=\"utf-8\") as f:\n",
    "        data = json.load(f) \n",
    "    return (data)\n",
    "\n",
    "def write_data(file, data):\n",
    "    with open (file, \"w\", encoding=\"utf-8\") as f:\n",
    "        json.dump(data, f, indent=4)\n"
   ]
  },
  {
   "cell_type": "code",
   "execution_count": 4,
   "metadata": {},
   "outputs": [],
   "source": [
    "stopwords = stopwords.words(\"dutch\")"
   ]
  },
  {
   "cell_type": "code",
   "execution_count": 5,
   "metadata": {},
   "outputs": [
    {
     "name": "stdout",
     "output_type": "stream",
     "text": [
      "['de', 'en', 'van', 'ik', 'te', 'dat', 'die', 'in', 'een', 'hij', 'het', 'niet', 'zijn', 'is', 'was', 'op', 'aan', 'met', 'als', 'voor', 'had', 'er', 'maar', 'om', 'hem', 'dan', 'zou', 'of', 'wat', 'mijn', 'men', 'dit', 'zo', 'door', 'over', 'ze', 'zich', 'bij', 'ook', 'tot', 'je', 'mij', 'uit', 'der', 'daar', 'haar', 'naar', 'heb', 'hoe', 'heeft', 'hebben', 'deze', 'u', 'want', 'nog', 'zal', 'me', 'zij', 'nu', 'ge', 'geen', 'omdat', 'iets', 'worden', 'toch', 'al', 'waren', 'veel', 'meer', 'doen', 'toen', 'moet', 'ben', 'zonder', 'kan', 'hun', 'dus', 'alles', 'onder', 'ja', 'eens', 'hier', 'wie', 'werd', 'altijd', 'doch', 'wordt', 'wezen', 'kunnen', 'ons', 'zelf', 'tegen', 'na', 'reeds', 'wil', 'kon', 'niets', 'uw', 'iemand', 'geweest', 'andere']\n"
     ]
    }
   ],
   "source": [
    "print(stopwords)"
   ]
  },
  {
   "cell_type": "markdown",
   "metadata": {},
   "source": [
    "# Getting Data"
   ]
  },
  {
   "cell_type": "code",
   "execution_count": 6,
   "metadata": {},
   "outputs": [
    {
     "name": "stdout",
     "output_type": "stream",
     "text": [
      "﻿Vissen zijn aquatische, craniate, kieuwdragende dieren die geen ledematen met vingers heb\n"
     ]
    }
   ],
   "source": [
    "\n",
    "url = '/Users/dj/Python - UvA/DSP/data/' # Insert your path \n",
    "numbers = [\"birds\", 'elephant', 'fish']\n",
    "ending = '.txt'\n",
    "\n",
    "texts = []\n",
    "for i in numbers:\n",
    "    p = url + i + ending\n",
    "    f = open(p,'r')\n",
    "    text = f.read()\n",
    "    texts.append(text)\n",
    "    \n",
    "\n",
    "data = texts\n",
    "\n",
    "print (data[2][0:90])"
   ]
  },
  {
   "cell_type": "code",
   "execution_count": 11,
   "metadata": {},
   "outputs": [],
   "source": [
    "def preprocess(filename):\n",
    "    text = filename\n",
    "    text = text.lower()\n",
    "\n",
    "    text_p = \"\".join([char for char in text if char not in string.punctuation])\n",
    "    \n",
    "    no_numb = ''.join(c for c in text_p if not c.isdigit())\n",
    "    \n",
    "    words = word_tokenize(no_numb)\n",
    "    \n",
    "    #stop_words = stopwords.words('dutch')\n",
    "    filtered_words = [word for word in words if word not in stopwords and len(word) > 2]\n",
    "    \n",
    "    lemmatizer = WordNetLemmatizer()\n",
    "    \n",
    "    lemmatized = [lemmatizer.lemmatize(word) for word in filtered_words]\n",
    "    \n",
    "    return lemmatized"
   ]
  },
  {
   "cell_type": "code",
   "execution_count": 12,
   "metadata": {},
   "outputs": [],
   "source": [
    "data_words = []\n",
    "for i in data:\n",
    "    a = preprocess(i)\n",
    "    data_words.append(a)"
   ]
  },
  {
   "cell_type": "code",
   "execution_count": 13,
   "metadata": {},
   "outputs": [],
   "source": [
    "#BIGRAMS AND TRIGRAMS\n",
    "bigram_phrases = gensim.models.Phrases(data_words, min_count=5, threshold=100) # min_counts = Minimum counts that it is being taken into consideration\n",
    "trigram_phrases = gensim.models.Phrases(bigram_phrases[data_words], threshold=100)\n",
    "\n",
    "bigram = gensim.models.phrases.Phraser(bigram_phrases)\n",
    "trigram = gensim.models.phrases.Phraser(trigram_phrases)\n",
    "\n",
    "def make_bigrams(texts):\n",
    "    return([bigram[doc] for doc in texts])\n",
    "\n",
    "def make_trigrams(texts):\n",
    "    return ([trigram[bigram[doc]] for doc in texts])\n",
    "\n",
    "data_bigrams = make_bigrams(data_words)\n",
    "data_bigrams_trigrams = make_trigrams(data_bigrams)\n"
   ]
  },
  {
   "cell_type": "code",
   "execution_count": 14,
   "metadata": {},
   "outputs": [
    {
     "name": "stdout",
     "output_type": "stream",
     "text": [
      "['\\ufeffvissen', 'aquatische', 'craniate', 'kieuwdragende', 'dieren', 'ledematen', 'vingers', 'definitie', 'vallen', 'levende', 'slijmprikken', 'lampreien', 'kraakbeenvissen', 'beenvissen', 'alsmede', 'diverse', 'uitgestorven', 'verwante', 'groepen', 'ongeveer', 'levende', 'vissoorten', 'straalvinnige', 'vissen', 'behorend', 'klasse', 'actinopterygii', 'waarvan', 'subgroep', 'teleosten', 'behoort', 'vroegste', 'organismen', 'vissen', 'ingedeeld', 'chordaten', 'zachte', 'ledematen', 'eerst', 'verschenen', 'cambrium', 'hoewel', 'echte', 'ruggengraat', 'hadden', 'beschikten', 'notochord', 'waardoor', 'beweeglijker', 'ongewervelde', 'tegenhangers', 'vissen', 'zouden', 'paleozoïcum', 'blijven', 'ontwikkelen', 'grote', 'verscheidenheid', 'vormen', 'aannemen', 'vissen', 'paleozoïcum', 'ontwikkelden', 'uitwendig', 'pantser', 'hen', 'roofdieren', 'beschermde', 'eerste', 'vissen', 'kaken', 'verschenen', 'siluur', 'waarna', 'vissen', 'zoals', 'haaien', 'geduchte', 'zeepredatoren', 'werden', 'plaats', 'slechts', 'prooi', 'geleedpotigen', 'meeste', 'vissen', 'ectotherm', 'koudbloedig', 'waardoor', 'lichaamstemperatuur', 'varieert', 'naarmate', 'omgevingstemperatuur', 'verandert', 'hoewel', 'sommige', 'grote', 'actieve', 'zwemmers', 'zoals', 'witte', 'haai', 'tonijn', 'hogere', 'kerntemperatuur', 'vasthouden', 'vissen', 'akoestisch', 'elkaar', 'communiceren', 'meestal', 'context', 'voeding', 'agressie', 'hofmakerij', 'vissen', 'overvloedig', 'aanwezig', 'meeste', 'waterlichamen', 'vinden', 'bijna', 'alle', 'aquatische', 'milieu', 'hoge', 'bergbeken', 'bijv', 'char', 'riviergrondel', 'abyssale', 'zelfs', 'hadale', 'diepten', 'diepste', 'oceanen', 'bijv', 'slakalen', 'slakvissen', 'hoewel', 'enkele', 'soort', 'gedocumenteerd', 'diepste', 'oceaan', 'beschreven', 'soorten', 'vertonen', 'vissen', 'grotere', 'soortendiversiteit', 'welke', 'groep', 'gewervelde', 'dieren', 'vissen', 'wereldwijd', 'belangrijke', 'hulpbron', 'men', 'vooral', 'voedsel', 'commerciële', 'vissers', 'zelfvoorzieningsvissers', 'jagen', 'vi', 'wilde', 'visserij', 'kweken', 'vijvers', 'kooien', 'oceaan', 'aquacultuur', 'gevangen', 'sportvissers', 'gehouden', 'huisdier', 'grootgebracht', 'vishouders', 'tentoongesteld', 'openbare', 'aquarium', 'vissen', 'eeuwen', 'heen', 'rol', 'gespeeld', 'cultuur', 'godheden', 'religieuze', 'symbolen', 'onderwerp', 'kunst', 'boeken', 'film', 'tetrapoda', 'ontstaan', 'lobbenvinnige', 'vissen', 'cladistisch', 'gezien', 'vissen', 'traditioneel', 'vissen', 'echter', 'parafyletisch', 'gemaakt', 'tetrapoden', 'buiten', 'beschouwing', 'laten', 'dwz', 'amfibieën', 'reptielen', 'vogels', 'zoogdieren', 'alle', 'dezelfde', 'afstamming', 'afstammen', 'term', 'vissen', 'manier', 'negatief', 'gedefinieerd', 'parafyletische', 'groep', 'systematische', 'biologie', 'beschouwd', 'formele', 'taxonomische', 'groepering', 'tenzij', 'gebruikt', 'cladistische', 'zin', 'waarbij', 'tetrapoden', 'meegerekend', 'traditionele', 'term', 'pisces', 'ichthyes', 'beschouwd', 'typologische', 'fylogenetische', 'classificatie']\n"
     ]
    }
   ],
   "source": [
    "print (data_bigrams_trigrams[2])"
   ]
  },
  {
   "cell_type": "code",
   "execution_count": 15,
   "metadata": {},
   "outputs": [],
   "source": [
    "#TF-IDF REMOVAL\n",
    "from gensim.models import TfidfModel\n",
    "\n",
    "id2word = corpora.Dictionary(data_bigrams_trigrams)\n",
    "\n",
    "texts = data_bigrams_trigrams\n",
    "\n",
    "corpus = [id2word.doc2bow(text) for text in texts]\n",
    "# print (corpus[0][0:20])\n",
    "\n",
    "tfidf = TfidfModel(corpus, id2word=id2word)\n",
    "\n",
    "low_value = 0.03\n",
    "words  = []\n",
    "words_missing_in_tfidf = []\n",
    "for i in range(0, len(corpus)):\n",
    "    bow = corpus[i]\n",
    "    low_value_words = [] #reinitialize to be safe. You can skip this.\n",
    "    tfidf_ids = [id for id, value in tfidf[bow]]\n",
    "    bow_ids = [id for id, value in bow]\n",
    "    low_value_words = [id for id, value in tfidf[bow] if value < low_value]\n",
    "    drops = low_value_words+words_missing_in_tfidf\n",
    "    for item in drops:\n",
    "        words.append(id2word[item])\n",
    "    words_missing_in_tfidf = [id for id in bow_ids if id not in tfidf_ids] # The words with tf-idf socre 0 will be missing\n",
    "\n",
    "    new_bow = [b for b in bow if b[0] not in low_value_words and b[0] not in words_missing_in_tfidf]\n",
    "    corpus[i] = new_bow\n"
   ]
  },
  {
   "cell_type": "code",
   "execution_count": 18,
   "metadata": {},
   "outputs": [],
   "source": [
    "# id2word = corpora.Dictionary(all_texts)\n",
    "\n",
    "# corpus = []\n",
    "# for text in data_words:\n",
    "#     new = id2word.doc2bow(text)\n",
    "#     corpus.append(new)\n",
    "\n",
    "# print (corpus[0][0:20])\n",
    "\n",
    "# word = id2word[[0][:1][0]]\n",
    "# print (word)"
   ]
  },
  {
   "cell_type": "code",
   "execution_count": 16,
   "metadata": {},
   "outputs": [],
   "source": [
    "lda_model = gensim.models.ldamodel.LdaModel(corpus=corpus[:-1],\n",
    "                                           id2word=id2word,\n",
    "                                           num_topics=3,\n",
    "                                           random_state=100,\n",
    "                                           update_every=1,\n",
    "                                           chunksize=100,\n",
    "                                           passes=10,\n",
    "                                           alpha=\"auto\")\n"
   ]
  },
  {
   "cell_type": "code",
   "execution_count": 17,
   "metadata": {},
   "outputs": [
    {
     "name": "stdout",
     "output_type": "stream",
     "text": [
      "[(2, 0.98955035)]\n",
      "[(2, 0.98955035)]\n"
     ]
    }
   ],
   "source": [
    "test_doc = corpus[-1]\n",
    "\n",
    "vector = lda_model[test_doc]\n",
    "print (vector)\n",
    "\n",
    "def Sort(sub_li):\n",
    "    sub_li.sort(key = lambda x: x[1])\n",
    "    sub_li.reverse()\n",
    "    return (sub_li)\n",
    "new_vector = Sort(vector)\n",
    "print (new_vector)"
   ]
  },
  {
   "cell_type": "code",
   "execution_count": 18,
   "metadata": {},
   "outputs": [],
   "source": [
    "# lda_model.save(\"/Users/dj/Documents/GitHub/DSP/topic_modeling_textbook-main/models/test_model.model\")"
   ]
  },
  {
   "cell_type": "code",
   "execution_count": 19,
   "metadata": {},
   "outputs": [],
   "source": [
    "# new_model = gensim.models.ldamodel.LdaModel.load(\"models/test_model.model\")"
   ]
  },
  {
   "cell_type": "code",
   "execution_count": 20,
   "metadata": {},
   "outputs": [
    {
     "name": "stdout",
     "output_type": "stream",
     "text": [
      "[(2, 0.98955005)]\n",
      "[(2, 0.98955005)]\n"
     ]
    }
   ],
   "source": [
    "test_doc = corpus[-1]\n",
    "\n",
    "vector = lda_model[test_doc] # lda_model can be replaced by new_model\n",
    "print (vector)\n",
    "\n",
    "def Sort(sub_li):\n",
    "    sub_li.sort(key = lambda x: x[1])\n",
    "    sub_li.reverse()\n",
    "    return (sub_li)\n",
    "new_vector = Sort(vector)\n",
    "print (new_vector)"
   ]
  },
  {
   "cell_type": "markdown",
   "metadata": {},
   "source": [
    "## Vizualizing the Data"
   ]
  },
  {
   "cell_type": "code",
   "execution_count": 21,
   "metadata": {},
   "outputs": [
    {
     "data": {
      "text/html": [
       "\n",
       "<link rel=\"stylesheet\" type=\"text/css\" href=\"https://cdn.jsdelivr.net/gh/bmabey/pyLDAvis@3.3.1/pyLDAvis/js/ldavis.v1.0.0.css\">\n",
       "\n",
       "\n",
       "<div id=\"ldavis_el33271402383287222568350308873\"></div>\n",
       "<script type=\"text/javascript\">\n",
       "\n",
       "var ldavis_el33271402383287222568350308873_data = {\"mdsDat\": {\"x\": [-0.06919552933016124, 0.06992472127924572, -0.0007291919490844761], \"y\": [0.06747862279974784, -0.06562343781037921, -0.0018551849893686245], \"topics\": [1, 2, 3], \"cluster\": [1, 1, 1], \"Freq\": [37.112198866353324, 34.36884790893173, 28.51895322471495]}, \"tinfo\": {\"Term\": [\"vogels\", \"olifanten\", \"eieren\", \"afrikaanse\", \"vogelsoorten\", \"menselijke\", \"ongeveer\", \"slagtanden\", \"vleugels\", \"sommige\", \"olifanten\", \"afrikaanse\", \"slagtanden\", \"mannetjes\", \"komen\", \"aziatische\", \"familiegroepen\", \"elephantidae\", \"stieren\", \"grote\", \"vogels\", \"eieren\", \"vogelsoorten\", \"menselijke\", \"ongeveer\", \"vleugels\", \"sommige\", \"dinosauri\\u00ebrs\", \"\\u00e9\\u00e9n\", \"hoewel\", \"alle\", \"aquatische\", \"behoort\", \"belangrijke\", \"beschouwd\", \"brengen\", \"cladistische\", \"communiceren\", \"cultuur\", \"dieren\", \"olifanten\", \"afrikaanse\", \"slagtanden\", \"vrouwtjes\", \"elephantidae\", \"leven\", \"verschillende\", \"bosolifanten\", \"familiegroepen\", \"essenti\\u00eble\", \"vogels\", \"aziatische\", \"grote\", \"stieren\", \"komen\"], \"Freq\": [8.0, 8.0, 3.0, 3.0, 2.0, 2.0, 2.0, 2.0, 2.0, 2.0, 8.104221233982308, 3.0132201830771703, 2.449479749376025, 1.8854824504679222, 1.8853826181513176, 1.8848747391530891, 1.8842560415067637, 1.8843239895787112, 1.8836425981928913, 1.8832997530003417, 8.381395031724116, 2.9149190768949134, 2.370046417763529, 2.3686954587191567, 2.3662198063642688, 1.823669743978947, 1.8228598984417879, 1.8226507740514057, 1.8218237871707725, 1.2767334882719255, 0.33334437227036423, 0.33334437227036423, 0.33334437227036423, 0.33334437227036423, 0.33334437227036423, 0.33334437227036423, 0.33334437227036423, 0.33334437227036423, 0.33334437227036423, 0.33334437227036423, 0.3713819496701378, 0.3501904749212263, 0.3450473351679848, 0.34165148873510875, 0.34348701505719587, 0.34090898714885787, 0.340872326634882, 0.3407694569573677, 0.3424720602394197, 0.3378114490158743, 0.3505625860205308, 0.3420316752417471, 0.34196069424660236, 0.3418645693695317, 0.34169709643334656], \"Total\": [8.0, 8.0, 3.0, 3.0, 2.0, 2.0, 2.0, 2.0, 2.0, 2.0, 8.675584906724774, 3.5534680684985473, 2.983151478729739, 2.41272526070695, 2.4136308079825635, 2.4137647110798497, 2.413941901600648, 2.414402366367306, 2.413647553797303, 2.413679214429306, 8.950190285633912, 3.4539936087109235, 2.9037925743459745, 2.9037111766328207, 2.9041337065181363, 2.354693789040202, 2.3545749034662204, 2.354713320761274, 2.355098308246344, 1.805034503912594, 0.7057431127501492, 0.7057431127501492, 0.7057431127501492, 0.7057431127501492, 0.7057431127501492, 0.7057431127501492, 0.7057431127501492, 0.7057431127501492, 0.7057431127501492, 0.7057431127501492, 8.675584906724774, 3.5534680684985473, 2.983151478729739, 1.8454902275032163, 2.414402366367306, 1.8451506960244402, 1.845143015954263, 1.845113886272466, 2.413941901600648, 1.2757223488584148, 8.950190285633912, 2.4137647110798497, 2.413679214429306, 2.413647553797303, 2.4136308079825635], \"Category\": [\"Default\", \"Default\", \"Default\", \"Default\", \"Default\", \"Default\", \"Default\", \"Default\", \"Default\", \"Default\", \"Topic1\", \"Topic1\", \"Topic1\", \"Topic1\", \"Topic1\", \"Topic1\", \"Topic1\", \"Topic1\", \"Topic1\", \"Topic1\", \"Topic2\", \"Topic2\", \"Topic2\", \"Topic2\", \"Topic2\", \"Topic2\", \"Topic2\", \"Topic2\", \"Topic2\", \"Topic2\", \"Topic3\", \"Topic3\", \"Topic3\", \"Topic3\", \"Topic3\", \"Topic3\", \"Topic3\", \"Topic3\", \"Topic3\", \"Topic3\", \"Topic3\", \"Topic3\", \"Topic3\", \"Topic3\", \"Topic3\", \"Topic3\", \"Topic3\", \"Topic3\", \"Topic3\", \"Topic3\", \"Topic3\", \"Topic3\", \"Topic3\", \"Topic3\", \"Topic3\"], \"logprob\": [10.0, 9.0, 8.0, 7.0, 6.0, 5.0, 4.0, 3.0, 2.0, 1.0, -3.4545, -4.4439, -4.651, -4.9127, -4.9128, -4.9131, -4.9134, -4.9133, -4.9137, -4.9139, -3.3441, -4.4003, -4.6072, -4.6078, -4.6088, -4.8693, -4.8697, -4.8698, -4.8703, -5.2258, -6.3821, -6.3821, -6.3821, -6.3821, -6.3821, -6.3821, -6.3821, -6.3821, -6.3821, -6.3821, -6.2741, -6.3328, -6.3476, -6.3575, -6.3521, -6.3597, -6.3598, -6.3601, -6.3551, -6.3688, -6.3318, -6.3564, -6.3566, -6.3569, -6.3574], \"loglift\": [10.0, 9.0, 8.0, 7.0, 6.0, 5.0, 4.0, 3.0, 2.0, 1.0, 0.9231, 0.8263, 0.7941, 0.7447, 0.7442, 0.7439, 0.7435, 0.7433, 0.7433, 0.7431, 1.0024, 0.8983, 0.8649, 0.8644, 0.8632, 0.8125, 0.8121, 0.8119, 0.8113, 0.7217, 0.5045, 0.5045, 0.5045, 0.5045, 0.5045, 0.5045, 0.5045, 0.5045, 0.5045, 0.5045, -1.8964, -1.0626, -0.9025, -0.4321, -0.6955, -0.4341, -0.4342, -0.4345, -0.6982, -0.0742, -1.9853, -0.6994, -0.6996, -0.6999, -0.7004]}, \"token.table\": {\"Topic\": [1, 1, 1, 2, 2, 1, 1, 1, 1, 2, 1, 1, 1, 2, 1, 2, 1, 2, 1, 1, 2, 2, 2, 1, 2], \"Freq\": [0.8442456614694148, 0.8285811748011085, 0.5419719657631643, 0.8493602946762981, 0.8685598005838928, 0.8283623425242027, 0.7838696256241445, 0.8285203544765641, 0.8286105245650396, 0.5540060302628007, 0.8286271427201838, 0.5419611537174709, 0.8289381441689645, 0.6887737375861275, 0.922128027794287, 0.688673526122827, 0.6704319288712833, 0.8494102256232141, 0.8286213937297819, 0.5419634095316045, 0.8493673399526063, 0.8938357447931495, 0.6887544302128615, 0.541861444236912, 0.8492214499059457], \"Term\": [\"afrikaanse\", \"aziatische\", \"bosolifanten\", \"dinosauri\\u00ebrs\", \"eieren\", \"elephantidae\", \"essenti\\u00eble\", \"familiegroepen\", \"grote\", \"hoewel\", \"komen\", \"leven\", \"mannetjes\", \"menselijke\", \"olifanten\", \"ongeveer\", \"slagtanden\", \"sommige\", \"stieren\", \"verschillende\", \"vleugels\", \"vogels\", \"vogelsoorten\", \"vrouwtjes\", \"\\u00e9\\u00e9n\"]}, \"R\": 10, \"lambda.step\": 0.01, \"plot.opts\": {\"xlab\": \"PC1\", \"ylab\": \"PC2\"}, \"topic.order\": [1, 2, 3]};\n",
       "\n",
       "function LDAvis_load_lib(url, callback){\n",
       "  var s = document.createElement('script');\n",
       "  s.src = url;\n",
       "  s.async = true;\n",
       "  s.onreadystatechange = s.onload = callback;\n",
       "  s.onerror = function(){console.warn(\"failed to load library \" + url);};\n",
       "  document.getElementsByTagName(\"head\")[0].appendChild(s);\n",
       "}\n",
       "\n",
       "if(typeof(LDAvis) !== \"undefined\"){\n",
       "   // already loaded: just create the visualization\n",
       "   !function(LDAvis){\n",
       "       new LDAvis(\"#\" + \"ldavis_el33271402383287222568350308873\", ldavis_el33271402383287222568350308873_data);\n",
       "   }(LDAvis);\n",
       "}else if(typeof define === \"function\" && define.amd){\n",
       "   // require.js is available: use it to load d3/LDAvis\n",
       "   require.config({paths: {d3: \"https://d3js.org/d3.v5\"}});\n",
       "   require([\"d3\"], function(d3){\n",
       "      window.d3 = d3;\n",
       "      LDAvis_load_lib(\"https://cdn.jsdelivr.net/gh/bmabey/pyLDAvis@3.3.1/pyLDAvis/js/ldavis.v3.0.0.js\", function(){\n",
       "        new LDAvis(\"#\" + \"ldavis_el33271402383287222568350308873\", ldavis_el33271402383287222568350308873_data);\n",
       "      });\n",
       "    });\n",
       "}else{\n",
       "    // require.js not available: dynamically load d3 & LDAvis\n",
       "    LDAvis_load_lib(\"https://d3js.org/d3.v5.js\", function(){\n",
       "         LDAvis_load_lib(\"https://cdn.jsdelivr.net/gh/bmabey/pyLDAvis@3.3.1/pyLDAvis/js/ldavis.v3.0.0.js\", function(){\n",
       "                 new LDAvis(\"#\" + \"ldavis_el33271402383287222568350308873\", ldavis_el33271402383287222568350308873_data);\n",
       "            })\n",
       "         });\n",
       "}\n",
       "</script>"
      ],
      "text/plain": [
       "PreparedData(topic_coordinates=              x         y  topics  cluster       Freq\n",
       "topic                                                \n",
       "0     -0.069196  0.067479       1        1  37.112199\n",
       "1      0.069925 -0.065623       2        1  34.368848\n",
       "2     -0.000729 -0.001855       3        1  28.518953, topic_info=               Term      Freq     Total Category  logprob  loglift\n",
       "200          vogels  8.000000  8.000000  Default  10.0000  10.0000\n",
       "342       olifanten  8.000000  8.000000  Default   9.0000   9.0000\n",
       "39           eieren  3.000000  3.000000  Default   8.0000   8.0000\n",
       "235      afrikaanse  3.000000  3.000000  Default   7.0000   7.0000\n",
       "201    vogelsoorten  2.000000  2.000000  Default   6.0000   6.0000\n",
       "104      menselijke  2.000000  2.000000  Default   5.0000   5.0000\n",
       "125        ongeveer  2.000000  2.000000  Default   4.0000   4.0000\n",
       "368      slagtanden  2.000000  2.000000  Default   3.0000   3.0000\n",
       "194        vleugels  2.000000  2.000000  Default   2.0000   2.0000\n",
       "157         sommige  2.000000  2.000000  Default   1.0000   1.0000\n",
       "342       olifanten  8.104221  8.675585   Topic1  -3.4545   0.9231\n",
       "235      afrikaanse  3.013220  3.553468   Topic1  -4.4439   0.8263\n",
       "368      slagtanden  2.449480  2.983151   Topic1  -4.6510   0.7941\n",
       "99        mannetjes  1.885482  2.412725   Topic1  -4.9127   0.7447\n",
       "318           komen  1.885383  2.413631   Topic1  -4.9128   0.7442\n",
       "240      aziatische  1.884875  2.413765   Topic1  -4.9131   0.7439\n",
       "279  familiegroepen  1.884256  2.413942   Topic1  -4.9134   0.7435\n",
       "272    elephantidae  1.884324  2.414402   Topic1  -4.9133   0.7433\n",
       "376         stieren  1.883643  2.413648   Topic1  -4.9137   0.7433\n",
       "294           grote  1.883300  2.413679   Topic1  -4.9139   0.7431\n",
       "200          vogels  8.381395  8.950190   Topic2  -3.3441   1.0024\n",
       "39           eieren  2.914919  3.453994   Topic2  -4.4003   0.8983\n",
       "201    vogelsoorten  2.370046  2.903793   Topic2  -4.6072   0.8649\n",
       "104      menselijke  2.368695  2.903711   Topic2  -4.6078   0.8644\n",
       "125        ongeveer  2.366220  2.904134   Topic2  -4.6088   0.8632\n",
       "194        vleugels  1.823670  2.354694   Topic2  -4.8693   0.8125\n",
       "157         sommige  1.822860  2.354575   Topic2  -4.8697   0.8121\n",
       "32     dinosauriërs  1.822651  2.354713   Topic2  -4.8698   0.8119\n",
       "227             één  1.821824  2.355098   Topic2  -4.8703   0.8113\n",
       "76           hoewel  1.276733  1.805035   Topic2  -5.2258   0.7217\n",
       "4              alle  0.333344  0.705743   Topic3  -6.3821   0.5045\n",
       "5        aquatische  0.333344  0.705743   Topic3  -6.3821   0.5045\n",
       "10          behoort  0.333344  0.705743   Topic3  -6.3821   0.5045\n",
       "14      belangrijke  0.333344  0.705743   Topic3  -6.3821   0.5045\n",
       "16        beschouwd  0.333344  0.705743   Topic3  -6.3821   0.5045\n",
       "19          brengen  0.333344  0.705743   Topic3  -6.3821   0.5045\n",
       "25     cladistische  0.333344  0.705743   Topic3  -6.3821   0.5045\n",
       "26     communiceren  0.333344  0.705743   Topic3  -6.3821   0.5045\n",
       "29          cultuur  0.333344  0.705743   Topic3  -6.3821   0.5045\n",
       "31           dieren  0.333344  0.705743   Topic3  -6.3821   0.5045\n",
       "342       olifanten  0.371382  8.675585   Topic3  -6.2741  -1.8964\n",
       "235      afrikaanse  0.350190  3.553468   Topic3  -6.3328  -1.0626\n",
       "368      slagtanden  0.345047  2.983151   Topic3  -6.3476  -0.9025\n",
       "405       vrouwtjes  0.341651  1.845490   Topic3  -6.3575  -0.4321\n",
       "272    elephantidae  0.343487  2.414402   Topic3  -6.3521  -0.6955\n",
       "93            leven  0.340909  1.845151   Topic3  -6.3597  -0.4341\n",
       "187   verschillende  0.340872  1.845143   Topic3  -6.3598  -0.4342\n",
       "256    bosolifanten  0.340769  1.845114   Topic3  -6.3601  -0.4345\n",
       "279  familiegroepen  0.342472  2.413942   Topic3  -6.3551  -0.6982\n",
       "276      essentiële  0.337811  1.275722   Topic3  -6.3688  -0.0742\n",
       "200          vogels  0.350563  8.950190   Topic3  -6.3318  -1.9853\n",
       "240      aziatische  0.342032  2.413765   Topic3  -6.3564  -0.6994\n",
       "294           grote  0.341961  2.413679   Topic3  -6.3566  -0.6996\n",
       "376         stieren  0.341865  2.413648   Topic3  -6.3569  -0.6999\n",
       "318           komen  0.341697  2.413631   Topic3  -6.3574  -0.7004, token_table=      Topic      Freq            Term\n",
       "term                                 \n",
       "235       1  0.844246      afrikaanse\n",
       "240       1  0.828581      aziatische\n",
       "256       1  0.541972    bosolifanten\n",
       "32        2  0.849360    dinosauriërs\n",
       "39        2  0.868560          eieren\n",
       "272       1  0.828362    elephantidae\n",
       "276       1  0.783870      essentiële\n",
       "279       1  0.828520  familiegroepen\n",
       "294       1  0.828611           grote\n",
       "76        2  0.554006          hoewel\n",
       "318       1  0.828627           komen\n",
       "93        1  0.541961           leven\n",
       "99        1  0.828938       mannetjes\n",
       "104       2  0.688774      menselijke\n",
       "342       1  0.922128       olifanten\n",
       "125       2  0.688674        ongeveer\n",
       "368       1  0.670432      slagtanden\n",
       "157       2  0.849410         sommige\n",
       "376       1  0.828621         stieren\n",
       "187       1  0.541963   verschillende\n",
       "194       2  0.849367        vleugels\n",
       "200       2  0.893836          vogels\n",
       "201       2  0.688754    vogelsoorten\n",
       "405       1  0.541861       vrouwtjes\n",
       "227       2  0.849221             één, R=10, lambda_step=0.01, plot_opts={'xlab': 'PC1', 'ylab': 'PC2'}, topic_order=[1, 2, 3])"
      ]
     },
     "execution_count": 21,
     "metadata": {},
     "output_type": "execute_result"
    }
   ],
   "source": [
    "pyLDAvis.enable_notebook()\n",
    "vis = gensimvis.prepare(lda_model, corpus, id2word, mds=\"mmds\", R=10)\n",
    "vis"
   ]
  },
  {
   "cell_type": "code",
   "execution_count": null,
   "metadata": {},
   "outputs": [],
   "source": [
    "# Accuracy metric\n",
    "# Grid search "
   ]
  },
  {
   "cell_type": "code",
   "execution_count": null,
   "metadata": {},
   "outputs": [],
   "source": []
  },
  {
   "cell_type": "code",
   "execution_count": null,
   "metadata": {},
   "outputs": [],
   "source": []
  },
  {
   "cell_type": "code",
   "execution_count": null,
   "metadata": {},
   "outputs": [],
   "source": []
  },
  {
   "cell_type": "code",
   "execution_count": null,
   "metadata": {},
   "outputs": [],
   "source": []
  },
  {
   "cell_type": "code",
   "execution_count": null,
   "metadata": {},
   "outputs": [],
   "source": []
  },
  {
   "cell_type": "code",
   "execution_count": null,
   "metadata": {},
   "outputs": [],
   "source": []
  },
  {
   "cell_type": "code",
   "execution_count": null,
   "metadata": {},
   "outputs": [],
   "source": []
  },
  {
   "cell_type": "code",
   "execution_count": null,
   "metadata": {},
   "outputs": [],
   "source": []
  },
  {
   "cell_type": "code",
   "execution_count": null,
   "metadata": {},
   "outputs": [],
   "source": []
  },
  {
   "cell_type": "code",
   "execution_count": null,
   "metadata": {},
   "outputs": [],
   "source": []
  },
  {
   "cell_type": "code",
   "execution_count": null,
   "metadata": {},
   "outputs": [],
   "source": []
  },
  {
   "cell_type": "code",
   "execution_count": null,
   "metadata": {},
   "outputs": [],
   "source": []
  },
  {
   "cell_type": "code",
   "execution_count": null,
   "metadata": {},
   "outputs": [],
   "source": []
  },
  {
   "cell_type": "code",
   "execution_count": null,
   "metadata": {},
   "outputs": [],
   "source": []
  }
 ],
 "metadata": {
  "kernelspec": {
   "display_name": "Python 3",
   "language": "python",
   "name": "python3"
  },
  "language_info": {
   "codemirror_mode": {
    "name": "ipython",
    "version": 3
   },
   "file_extension": ".py",
   "mimetype": "text/x-python",
   "name": "python",
   "nbconvert_exporter": "python",
   "pygments_lexer": "ipython3",
   "version": "3.7.10"
  }
 },
 "nbformat": 4,
 "nbformat_minor": 4
}
