{
 "cells": [
  {
   "cell_type": "markdown",
   "metadata": {},
   "source": [
    "# Final LDA Model"
   ]
  },
  {
   "cell_type": "code",
   "execution_count": 1,
   "metadata": {},
   "outputs": [],
   "source": [
    "import re\n",
    "import numpy as np\n",
    "import pandas as pd\n",
    "from pprint import pprint\n",
    "\n",
    "# Gensim\n",
    "import gensim\n",
    "import gensim.corpora as corpora\n",
    "from gensim.utils import simple_preprocess\n",
    "from gensim.models import CoherenceModel\n",
    "\n",
    "# spacy for lemmatization\n",
    "import spacy\n",
    "\n",
    "# Plotting tools\n",
    "import pyLDAvis\n",
    "# import pyLDAvis.gensim  # Author: don't skip this\n",
    "# pyLDAvis.gensim.prepare\n",
    "\n",
    "# I think i need another one:\n",
    "import pyLDAvis.gensim_models\n",
    "import pyLDAvis.gensim_models as gensimvis\n",
    "\n",
    "# Plots\n",
    "import matplotlib.pyplot as plt\n",
    "%matplotlib inline\n",
    "\n",
    "# Enable logging for gensim - optional\n",
    "import logging\n",
    "logging.basicConfig(format='%(asctime)s : %(levelname)s : %(message)s', level=logging.ERROR)\n",
    "\n",
    "import warnings\n",
    "warnings.filterwarnings(\"ignore\",category=DeprecationWarning)"
   ]
  },
  {
   "cell_type": "code",
   "execution_count": 2,
   "metadata": {},
   "outputs": [],
   "source": [
    "# NLTK Stop words\n",
    "from nltk.corpus import stopwords\n",
    "stop_words = stopwords.words('dutch')\n",
    "stop_words.extend(['tenlastelegging\\\\n\\\\n\\\\naan', '\\\\n\\\\n\\\\n\\\\n\\\\n\\\\n', '\\\\n\\\\n\\\\n\\\\n\\\\n', '\\\\n\\\\n', 'een', 'naan', 'nde', 'nhij', '\\\\n'])"
   ]
  },
  {
   "cell_type": "markdown",
   "metadata": {},
   "source": [
    "# Data Test"
   ]
  },
  {
   "cell_type": "code",
   "execution_count": 3,
   "metadata": {},
   "outputs": [],
   "source": [
    "# Data\n",
    "df = pd.read_csv('/Users/dj/Python - UvA/DSP/data/DataSample_DSP_0712.csv', index_col=1) \n",
    "df = df[df['re_tll'] != '[]'][['re_tll']] #re_bewijs\n",
    "# data = [i for i in df['re_tll']]"
   ]
  },
  {
   "cell_type": "markdown",
   "metadata": {},
   "source": [
    "# Data Final"
   ]
  },
  {
   "cell_type": "code",
   "execution_count": 4,
   "metadata": {},
   "outputs": [],
   "source": [
    "df = pd.read_csv('/Users/dj/Python - UvA/DSP/data/dataset_10012022_cleaned.csv', index_col=1) "
   ]
  },
  {
   "cell_type": "code",
   "execution_count": 5,
   "metadata": {},
   "outputs": [
    {
     "data": {
      "text/html": [
       "<div>\n",
       "<style scoped>\n",
       "    .dataframe tbody tr th:only-of-type {\n",
       "        vertical-align: middle;\n",
       "    }\n",
       "\n",
       "    .dataframe tbody tr th {\n",
       "        vertical-align: top;\n",
       "    }\n",
       "\n",
       "    .dataframe thead th {\n",
       "        text-align: right;\n",
       "    }\n",
       "</style>\n",
       "<table border=\"1\" class=\"dataframe\">\n",
       "  <thead>\n",
       "    <tr style=\"text-align: right;\">\n",
       "      <th></th>\n",
       "      <th>Unnamed: 0</th>\n",
       "      <th>ecli</th>\n",
       "      <th>subject</th>\n",
       "      <th>spatial</th>\n",
       "      <th>case_nr</th>\n",
       "      <th>date</th>\n",
       "      <th>bewijs</th>\n",
       "      <th>tll</th>\n",
       "    </tr>\n",
       "    <tr>\n",
       "      <th>filename</th>\n",
       "      <th></th>\n",
       "      <th></th>\n",
       "      <th></th>\n",
       "      <th></th>\n",
       "      <th></th>\n",
       "      <th></th>\n",
       "      <th></th>\n",
       "      <th></th>\n",
       "    </tr>\n",
       "  </thead>\n",
       "  <tbody>\n",
       "    <tr>\n",
       "      <th>ECLI_NL_GHARL_2021_1844.xml</th>\n",
       "      <td>0</td>\n",
       "      <td>ECLI:NL:GHARL:2021:1844</td>\n",
       "      <td>Strafrecht</td>\n",
       "      <td>Leeuwarden</td>\n",
       "      <td>Wahv 200.253.228</td>\n",
       "      <td>2021-02-25</td>\n",
       "      <td>[]</td>\n",
       "      <td>[]</td>\n",
       "    </tr>\n",
       "    <tr>\n",
       "      <th>ECLI_NL_HR_2021_218.xml</th>\n",
       "      <td>1</td>\n",
       "      <td>ECLI:NL:HR:2021:218</td>\n",
       "      <td>Strafrecht</td>\n",
       "      <td>NaN</td>\n",
       "      <td>19/04191</td>\n",
       "      <td>2021-02-16</td>\n",
       "      <td>[]</td>\n",
       "      <td>[]</td>\n",
       "    </tr>\n",
       "    <tr>\n",
       "      <th>ECLI_NL_PHR_2019_165.xml</th>\n",
       "      <td>2</td>\n",
       "      <td>ECLI:NL:PHR:2019:165</td>\n",
       "      <td>Strafrecht</td>\n",
       "      <td>NaN</td>\n",
       "      <td>16/06093</td>\n",
       "      <td>2019-01-08</td>\n",
       "      <td>[]</td>\n",
       "      <td>[]</td>\n",
       "    </tr>\n",
       "    <tr>\n",
       "      <th>ECLI_NL_RBGEL_2018_50.xml</th>\n",
       "      <td>3</td>\n",
       "      <td>ECLI:NL:RBGEL:2018:50</td>\n",
       "      <td>Strafrecht</td>\n",
       "      <td>Arnhem</td>\n",
       "      <td>05/881874-16</td>\n",
       "      <td>2018-01-08</td>\n",
       "      <td>[]</td>\n",
       "      <td>[' tenlastelegging   aan verdachte is ten last...</td>\n",
       "    </tr>\n",
       "    <tr>\n",
       "      <th>ECLI_NL_GHAMS_2019_194.xml</th>\n",
       "      <td>4</td>\n",
       "      <td>ECLI:NL:GHAMS:2019:194</td>\n",
       "      <td>Strafrecht</td>\n",
       "      <td>Amsterdam</td>\n",
       "      <td>23-005312-13</td>\n",
       "      <td>2019-01-25</td>\n",
       "      <td>['      het bewijs tegen de verdachte  de kern...</td>\n",
       "      <td>[' tenlastelegging   aan de verdachte is ten l...</td>\n",
       "    </tr>\n",
       "  </tbody>\n",
       "</table>\n",
       "</div>"
      ],
      "text/plain": [
       "                             Unnamed: 0                     ecli     subject  \\\n",
       "filename                                                                       \n",
       "ECLI_NL_GHARL_2021_1844.xml           0  ECLI:NL:GHARL:2021:1844  Strafrecht   \n",
       "ECLI_NL_HR_2021_218.xml               1      ECLI:NL:HR:2021:218  Strafrecht   \n",
       "ECLI_NL_PHR_2019_165.xml              2     ECLI:NL:PHR:2019:165  Strafrecht   \n",
       "ECLI_NL_RBGEL_2018_50.xml             3    ECLI:NL:RBGEL:2018:50  Strafrecht   \n",
       "ECLI_NL_GHAMS_2019_194.xml            4   ECLI:NL:GHAMS:2019:194  Strafrecht   \n",
       "\n",
       "                                spatial           case_nr        date  \\\n",
       "filename                                                                \n",
       "ECLI_NL_GHARL_2021_1844.xml  Leeuwarden  Wahv 200.253.228  2021-02-25   \n",
       "ECLI_NL_HR_2021_218.xml             NaN          19/04191  2021-02-16   \n",
       "ECLI_NL_PHR_2019_165.xml            NaN          16/06093  2019-01-08   \n",
       "ECLI_NL_RBGEL_2018_50.xml        Arnhem      05/881874-16  2018-01-08   \n",
       "ECLI_NL_GHAMS_2019_194.xml    Amsterdam      23-005312-13  2019-01-25   \n",
       "\n",
       "                                                                        bewijs  \\\n",
       "filename                                                                         \n",
       "ECLI_NL_GHARL_2021_1844.xml                                                 []   \n",
       "ECLI_NL_HR_2021_218.xml                                                     []   \n",
       "ECLI_NL_PHR_2019_165.xml                                                    []   \n",
       "ECLI_NL_RBGEL_2018_50.xml                                                   []   \n",
       "ECLI_NL_GHAMS_2019_194.xml   ['      het bewijs tegen de verdachte  de kern...   \n",
       "\n",
       "                                                                           tll  \n",
       "filename                                                                        \n",
       "ECLI_NL_GHARL_2021_1844.xml                                                 []  \n",
       "ECLI_NL_HR_2021_218.xml                                                     []  \n",
       "ECLI_NL_PHR_2019_165.xml                                                    []  \n",
       "ECLI_NL_RBGEL_2018_50.xml    [' tenlastelegging   aan verdachte is ten last...  \n",
       "ECLI_NL_GHAMS_2019_194.xml   [' tenlastelegging   aan de verdachte is ten l...  "
      ]
     },
     "execution_count": 5,
     "metadata": {},
     "output_type": "execute_result"
    }
   ],
   "source": [
    "df.head()"
   ]
  },
  {
   "cell_type": "code",
   "execution_count": 6,
   "metadata": {},
   "outputs": [],
   "source": [
    "df_be = df[df['bewijs'] != '[]'] #bewijs\n",
    "df_te = df[df['tll'] != '[]'] #tenlastelegging"
   ]
  },
  {
   "cell_type": "code",
   "execution_count": 7,
   "metadata": {},
   "outputs": [
    {
     "data": {
      "text/html": [
       "<div>\n",
       "<style scoped>\n",
       "    .dataframe tbody tr th:only-of-type {\n",
       "        vertical-align: middle;\n",
       "    }\n",
       "\n",
       "    .dataframe tbody tr th {\n",
       "        vertical-align: top;\n",
       "    }\n",
       "\n",
       "    .dataframe thead th {\n",
       "        text-align: right;\n",
       "    }\n",
       "</style>\n",
       "<table border=\"1\" class=\"dataframe\">\n",
       "  <thead>\n",
       "    <tr style=\"text-align: right;\">\n",
       "      <th></th>\n",
       "      <th>Unnamed: 0</th>\n",
       "      <th>ecli</th>\n",
       "      <th>subject</th>\n",
       "      <th>spatial</th>\n",
       "      <th>case_nr</th>\n",
       "      <th>date</th>\n",
       "      <th>bewijs</th>\n",
       "      <th>tll</th>\n",
       "    </tr>\n",
       "    <tr>\n",
       "      <th>filename</th>\n",
       "      <th></th>\n",
       "      <th></th>\n",
       "      <th></th>\n",
       "      <th></th>\n",
       "      <th></th>\n",
       "      <th></th>\n",
       "      <th></th>\n",
       "      <th></th>\n",
       "    </tr>\n",
       "  </thead>\n",
       "  <tbody>\n",
       "    <tr>\n",
       "      <th>ECLI_NL_GHAMS_2019_194.xml</th>\n",
       "      <td>4</td>\n",
       "      <td>ECLI:NL:GHAMS:2019:194</td>\n",
       "      <td>Strafrecht</td>\n",
       "      <td>Amsterdam</td>\n",
       "      <td>23-005312-13</td>\n",
       "      <td>2019-01-25</td>\n",
       "      <td>['      het bewijs tegen de verdachte  de kern...</td>\n",
       "      <td>[' tenlastelegging   aan de verdachte is ten l...</td>\n",
       "    </tr>\n",
       "    <tr>\n",
       "      <th>ECLI_NL_GHSHE_2021_1801.xml</th>\n",
       "      <td>8</td>\n",
       "      <td>ECLI:NL:GHSHE:2021:1801</td>\n",
       "      <td>Strafrecht</td>\n",
       "      <td>'s-Hertogenbosch</td>\n",
       "      <td>20-003457-18</td>\n",
       "      <td>2021-02-10</td>\n",
       "      <td>['      bewijsmiddelen     indien tegen dit ve...</td>\n",
       "      <td>[]</td>\n",
       "    </tr>\n",
       "    <tr>\n",
       "      <th>ECLI_NL_GHARL_2020_820.xml</th>\n",
       "      <td>9</td>\n",
       "      <td>ECLI:NL:GHARL:2020:820</td>\n",
       "      <td>Strafrecht</td>\n",
       "      <td>Leeuwarden</td>\n",
       "      <td>21-001899-19</td>\n",
       "      <td>2020-01-30</td>\n",
       "      <td>['      bewijsmiddelen, feiten en omstandighed...</td>\n",
       "      <td>[' tenlastelegging   aan verdachte is -na wijz...</td>\n",
       "    </tr>\n",
       "    <tr>\n",
       "      <th>ECLI_NL_RBROT_2021_2966.xml</th>\n",
       "      <td>16</td>\n",
       "      <td>ECLI:NL:RBROT:2021:2966</td>\n",
       "      <td>Strafrecht</td>\n",
       "      <td>Rotterdam</td>\n",
       "      <td>10.295806.20</td>\n",
       "      <td>2021-02-09</td>\n",
       "      <td>['  bewijswaardering   4.1.1.   standpunt verd...</td>\n",
       "      <td>[]</td>\n",
       "    </tr>\n",
       "    <tr>\n",
       "      <th>ECLI_NL_RBMNE_2019_6577.xml</th>\n",
       "      <td>20</td>\n",
       "      <td>ECLI:NL:RBMNE:2019:6577</td>\n",
       "      <td>Strafrecht</td>\n",
       "      <td>Utrecht</td>\n",
       "      <td>16/018445-18</td>\n",
       "      <td>2019-01-18</td>\n",
       "      <td>['   bewijsmiddelen              [slachtoffer]...</td>\n",
       "      <td>['  2tenlastelegging   de tenlastelegging is a...</td>\n",
       "    </tr>\n",
       "  </tbody>\n",
       "</table>\n",
       "</div>"
      ],
      "text/plain": [
       "                             Unnamed: 0                     ecli     subject  \\\n",
       "filename                                                                       \n",
       "ECLI_NL_GHAMS_2019_194.xml            4   ECLI:NL:GHAMS:2019:194  Strafrecht   \n",
       "ECLI_NL_GHSHE_2021_1801.xml           8  ECLI:NL:GHSHE:2021:1801  Strafrecht   \n",
       "ECLI_NL_GHARL_2020_820.xml            9   ECLI:NL:GHARL:2020:820  Strafrecht   \n",
       "ECLI_NL_RBROT_2021_2966.xml          16  ECLI:NL:RBROT:2021:2966  Strafrecht   \n",
       "ECLI_NL_RBMNE_2019_6577.xml          20  ECLI:NL:RBMNE:2019:6577  Strafrecht   \n",
       "\n",
       "                                      spatial       case_nr        date  \\\n",
       "filename                                                                  \n",
       "ECLI_NL_GHAMS_2019_194.xml          Amsterdam  23-005312-13  2019-01-25   \n",
       "ECLI_NL_GHSHE_2021_1801.xml  's-Hertogenbosch  20-003457-18  2021-02-10   \n",
       "ECLI_NL_GHARL_2020_820.xml         Leeuwarden  21-001899-19  2020-01-30   \n",
       "ECLI_NL_RBROT_2021_2966.xml         Rotterdam  10.295806.20  2021-02-09   \n",
       "ECLI_NL_RBMNE_2019_6577.xml           Utrecht  16/018445-18  2019-01-18   \n",
       "\n",
       "                                                                        bewijs  \\\n",
       "filename                                                                         \n",
       "ECLI_NL_GHAMS_2019_194.xml   ['      het bewijs tegen de verdachte  de kern...   \n",
       "ECLI_NL_GHSHE_2021_1801.xml  ['      bewijsmiddelen     indien tegen dit ve...   \n",
       "ECLI_NL_GHARL_2020_820.xml   ['      bewijsmiddelen, feiten en omstandighed...   \n",
       "ECLI_NL_RBROT_2021_2966.xml  ['  bewijswaardering   4.1.1.   standpunt verd...   \n",
       "ECLI_NL_RBMNE_2019_6577.xml  ['   bewijsmiddelen              [slachtoffer]...   \n",
       "\n",
       "                                                                           tll  \n",
       "filename                                                                        \n",
       "ECLI_NL_GHAMS_2019_194.xml   [' tenlastelegging   aan de verdachte is ten l...  \n",
       "ECLI_NL_GHSHE_2021_1801.xml                                                 []  \n",
       "ECLI_NL_GHARL_2020_820.xml   [' tenlastelegging   aan verdachte is -na wijz...  \n",
       "ECLI_NL_RBROT_2021_2966.xml                                                 []  \n",
       "ECLI_NL_RBMNE_2019_6577.xml  ['  2tenlastelegging   de tenlastelegging is a...  "
      ]
     },
     "execution_count": 7,
     "metadata": {},
     "output_type": "execute_result"
    }
   ],
   "source": [
    "df_be.head()"
   ]
  },
  {
   "cell_type": "code",
   "execution_count": 8,
   "metadata": {},
   "outputs": [],
   "source": [
    "df['bete'] = df['bewijs'] + df['tll'] \n",
    "df = df[df['bete'] != '[][]']\n",
    "df = df.drop(labels=['bewijs', 'tll'], axis=1)"
   ]
  },
  {
   "cell_type": "code",
   "execution_count": 9,
   "metadata": {},
   "outputs": [
    {
     "data": {
      "text/html": [
       "<div>\n",
       "<style scoped>\n",
       "    .dataframe tbody tr th:only-of-type {\n",
       "        vertical-align: middle;\n",
       "    }\n",
       "\n",
       "    .dataframe tbody tr th {\n",
       "        vertical-align: top;\n",
       "    }\n",
       "\n",
       "    .dataframe thead th {\n",
       "        text-align: right;\n",
       "    }\n",
       "</style>\n",
       "<table border=\"1\" class=\"dataframe\">\n",
       "  <thead>\n",
       "    <tr style=\"text-align: right;\">\n",
       "      <th></th>\n",
       "      <th>Unnamed: 0</th>\n",
       "      <th>ecli</th>\n",
       "      <th>subject</th>\n",
       "      <th>spatial</th>\n",
       "      <th>case_nr</th>\n",
       "      <th>date</th>\n",
       "      <th>bete</th>\n",
       "    </tr>\n",
       "    <tr>\n",
       "      <th>filename</th>\n",
       "      <th></th>\n",
       "      <th></th>\n",
       "      <th></th>\n",
       "      <th></th>\n",
       "      <th></th>\n",
       "      <th></th>\n",
       "      <th></th>\n",
       "    </tr>\n",
       "  </thead>\n",
       "  <tbody>\n",
       "    <tr>\n",
       "      <th>ECLI_NL_RBGEL_2018_50.xml</th>\n",
       "      <td>3</td>\n",
       "      <td>ECLI:NL:RBGEL:2018:50</td>\n",
       "      <td>Strafrecht</td>\n",
       "      <td>Arnhem</td>\n",
       "      <td>05/881874-16</td>\n",
       "      <td>2018-01-08</td>\n",
       "      <td>[][' tenlastelegging   aan verdachte is ten la...</td>\n",
       "    </tr>\n",
       "    <tr>\n",
       "      <th>ECLI_NL_GHAMS_2019_194.xml</th>\n",
       "      <td>4</td>\n",
       "      <td>ECLI:NL:GHAMS:2019:194</td>\n",
       "      <td>Strafrecht</td>\n",
       "      <td>Amsterdam</td>\n",
       "      <td>23-005312-13</td>\n",
       "      <td>2019-01-25</td>\n",
       "      <td>['      het bewijs tegen de verdachte  de kern...</td>\n",
       "    </tr>\n",
       "    <tr>\n",
       "      <th>ECLI_NL_RBOVE_2021_606.xml</th>\n",
       "      <td>7</td>\n",
       "      <td>ECLI:NL:RBOVE:2021:606</td>\n",
       "      <td>Strafrecht</td>\n",
       "      <td>Almelo</td>\n",
       "      <td>08/760218-17 (P)</td>\n",
       "      <td>2021-02-10</td>\n",
       "      <td>[][' tenlastelegging   de verdenking komt er, ...</td>\n",
       "    </tr>\n",
       "    <tr>\n",
       "      <th>ECLI_NL_GHSHE_2021_1801.xml</th>\n",
       "      <td>8</td>\n",
       "      <td>ECLI:NL:GHSHE:2021:1801</td>\n",
       "      <td>Strafrecht</td>\n",
       "      <td>'s-Hertogenbosch</td>\n",
       "      <td>20-003457-18</td>\n",
       "      <td>2021-02-10</td>\n",
       "      <td>['      bewijsmiddelen     indien tegen dit ve...</td>\n",
       "    </tr>\n",
       "    <tr>\n",
       "      <th>ECLI_NL_GHARL_2020_820.xml</th>\n",
       "      <td>9</td>\n",
       "      <td>ECLI:NL:GHARL:2020:820</td>\n",
       "      <td>Strafrecht</td>\n",
       "      <td>Leeuwarden</td>\n",
       "      <td>21-001899-19</td>\n",
       "      <td>2020-01-30</td>\n",
       "      <td>['      bewijsmiddelen, feiten en omstandighed...</td>\n",
       "    </tr>\n",
       "  </tbody>\n",
       "</table>\n",
       "</div>"
      ],
      "text/plain": [
       "                             Unnamed: 0                     ecli     subject  \\\n",
       "filename                                                                       \n",
       "ECLI_NL_RBGEL_2018_50.xml             3    ECLI:NL:RBGEL:2018:50  Strafrecht   \n",
       "ECLI_NL_GHAMS_2019_194.xml            4   ECLI:NL:GHAMS:2019:194  Strafrecht   \n",
       "ECLI_NL_RBOVE_2021_606.xml            7   ECLI:NL:RBOVE:2021:606  Strafrecht   \n",
       "ECLI_NL_GHSHE_2021_1801.xml           8  ECLI:NL:GHSHE:2021:1801  Strafrecht   \n",
       "ECLI_NL_GHARL_2020_820.xml            9   ECLI:NL:GHARL:2020:820  Strafrecht   \n",
       "\n",
       "                                      spatial           case_nr        date  \\\n",
       "filename                                                                      \n",
       "ECLI_NL_RBGEL_2018_50.xml              Arnhem      05/881874-16  2018-01-08   \n",
       "ECLI_NL_GHAMS_2019_194.xml          Amsterdam      23-005312-13  2019-01-25   \n",
       "ECLI_NL_RBOVE_2021_606.xml             Almelo  08/760218-17 (P)  2021-02-10   \n",
       "ECLI_NL_GHSHE_2021_1801.xml  's-Hertogenbosch      20-003457-18  2021-02-10   \n",
       "ECLI_NL_GHARL_2020_820.xml         Leeuwarden      21-001899-19  2020-01-30   \n",
       "\n",
       "                                                                          bete  \n",
       "filename                                                                        \n",
       "ECLI_NL_RBGEL_2018_50.xml    [][' tenlastelegging   aan verdachte is ten la...  \n",
       "ECLI_NL_GHAMS_2019_194.xml   ['      het bewijs tegen de verdachte  de kern...  \n",
       "ECLI_NL_RBOVE_2021_606.xml   [][' tenlastelegging   de verdenking komt er, ...  \n",
       "ECLI_NL_GHSHE_2021_1801.xml  ['      bewijsmiddelen     indien tegen dit ve...  \n",
       "ECLI_NL_GHARL_2020_820.xml   ['      bewijsmiddelen, feiten en omstandighed...  "
      ]
     },
     "execution_count": 9,
     "metadata": {},
     "output_type": "execute_result"
    }
   ],
   "source": [
    "df.head()"
   ]
  },
  {
   "cell_type": "markdown",
   "metadata": {},
   "source": [
    "# Tokenize "
   ]
  },
  {
   "cell_type": "code",
   "execution_count": 10,
   "metadata": {},
   "outputs": [
    {
     "name": "stdout",
     "output_type": "stream",
     "text": [
      "[['tenlastelegging', 'aan', 'verdachte', 'is', 'ten', 'laste', 'gelegd', 'dat', 'hij', 'in', 'of', 'omstreeks', 'de', 'periode', 'van', 'november', 'tot', 'en', 'met', 'november', 'in', 'arnhem', 'en', 'of', 'in', 'nederland', 'en', 'of', 'in', 'duitsland', 'en', 'of', 'in', 'oostenrijk', 'en', 'of', 'in', 'hongarije', 'opzettelijk', 'een', 'of', 'meer', 'minderjarige', 'te', 'weten', 'naam', 'geboren', 'op', 'geboortedatum', 'in', 'geboorteplaats', 'en', 'of', 'naam', 'geboren', 'op', 'geboortedatum', 'in', 'geboorteplaats', 'heeft', 'onttrokken', 'aan', 'het', 'wettig', 'over', 'hen', 'haar', 'gesteld', 'gezag', 'en', 'of', 'aan', 'het', 'opzicht', 'van', 'degene', 'die', 'dit', 'desbevoegd', 'over', 'hen', 'haar', 'uitoefende', 'terwijl', 'die', 'minderjarige', 'beneden', 'de', 'twaalf', 'jaren', 'oud', 'was', 'waren', 'en', 'of', 'terwijl', 'list', 'was', 'gebezigd', 'bestaande', 'uit', 'het', 'door', 'verdachte', 'aan', 'de', 'school', 'van', 'de', 'minderjarig', 'in', 'strijd', 'met', 'de', 'waarheid', 'mededelen', 'dat', 'de', 'minderjarige', 'een', 'afspraak', 'bij', 'de', 'tandarts', 'zou', 'den', 'hebben', 'en', 'de', 'minderjarige', 'daarvoor', 'vroeger', 'op', 'te', 'halen', 'van', 'school', 'en', 'of', 'het', 'door', 'verdachte', 'uit', 'het', 'huis', 'lokken', 'van', 'zijn', 'verdachtes', 'echtgenote', 'genaamd', 'naam', 'door', 'het', 'maken', 'van', 'een', 'afspraak', 'met', 'haar', 'bij', 'een', 'woonboulevard', 'om', 'beweerdelijk', 'te', 'gaan', 'shoppen', 'zodat', 'verdachte', 'de', 'paspoorten', 'en', 'kleding', 'toiletartikelen', 'van', 'de', 'minderjarige', 'en', 'uit', 'de', 'woning', 'kon', 'pakken', 'toverwegingen', 'ten', 'aanzien', 'van', 'het', 'bewijs', 'de', 'feiten', 'op', 'grond', 'van', 'de', 'bewijsmiddelen', 'wordt', 'het', 'volgende', 'dat', 'verder', 'ook', 'niet', 'ter', 'discussie', 'staat', 'vastgesteld', 'aangeefster', 'naam', 'en', 'verdachte', 'zijn', 'getrouwd', 'en', 'hebben', 'samen', 'twee', 'kinderen', 'naam', 'geboren', 'op', 'geboortedatum', 'te', 'geboorteplaats', 'en', 'naam', 'geboren', 'op', 'geboortedatum', 'te', 'geboorteplaats', 'aangeefster', 'en', 'verdachte', 'hebben', 'beiden', 'gezag', 'over', 'deze', 'kinderen', 'verdachte', 'heeft', 'op', 'november', 'de', 'kinderen', 'eerder', 'van', 'school', 'gehaald', 'hij', 'is', 'vervolgens', 'in', 'een', 'bus', 'gestapt', 'in', 'nijmegen', 'heeft', 'in', 'kleve', 'duitsland', 'een', 'trein', 'genomen', 'in', 'dusseldorf', 'duitsland', 'de', 'bus', 'genomen', 'naar', 'salzburg', 'oostenrijk', 'en', 'heeft', 'vanuit', 'daar', 'een', 'trein', 'naar', 'boekarest', 'roemenie', 'genomen', 'in', 'deze', 'trein', 'is', 'hij', 'op', 'november', 'aangehouden', 'toen', 'de', 'trein', 'zich', 'in', 'hongarije', 'bevond', 'het', 'standpunt', 'van', 'de', 'officier', 'van', 'justitie', 'de', 'officier', 'van', 'justitie', 'heeft', 'gesteld', 'dat', 'wettig', 'en', 'overtuigend', 'bewezen', 'kan', 'worden', 'dat', 'verdachte', 'zich', 'schuldig', 'heeft', 'gemaakt', 'aan', 'het', 'ten', 'laste', 'gelegde', 'het', 'standpunt', 'van', 'de', 'verdediging', 'de', 'verdediging', 'heeft', 'zich', 'op', 'het', 'standpunt', 'gesteld', 'dat', 'verdachte', 'van', 'het', 'ten', 'laste', 'gelegde', 'dient', 'te', 'worden', 'vrijgesproken', 'omdat', 'verdachte', 'niet', 'het', 'opzet', 'had', 'de', 'kinderen', 'aan', 'het', 'gezag', 'van', 'aangeefster', 'te', 'onttrekken', 'daarnaast', 'heeft', 'verdachte', 'volgens', 'de', 'verdediging', 'ook', 'geen', 'list', 'gebezigd', 'beoordeling', 'door', 'de', 'rechtbank', 'aangeefster', 'heeft', 'verklaard', 'dat', 'zij', 'op', 'november', 'omstreeks', 'uur', 'door', 'verdachte', 'werd', 'gebeld', 'hij', 'vroeg', 'haar', 'of', 'ze', 'om', 'uur', 'op', 'hem', 'wilde', 'wachten', 'bij', 'de', 'woonboulevard', 'in', 'arnhem', 'zuid', 'zodat', 'ze', 'samen', 'konden', 'gaan', 'shoppen', 'aangeefster', 'is', 'vervolgens', 'naar', 'de', 'woonboulevard', 'gegaan', 'maar', 'verdachte', 'was', 'daar', 'niet', 'op', 'het', 'afgesproken', 'tijdstip', 'aanwezig', 'omstreeks', 'uur', 'is', 'zij', 'naar', 'de', 'school', 'van', 'haar', 'kinderen', 'gegaan', 'om', 'hen', 'op', 'te', 'halen', 'daar', 'hoorde', 'ze', 'van', 'de', 'leerkracht', 'dat', 'haar', 'kinderen', 'omstreeks', 'uur', 'waren', 'opgehaald', 'door', 'verdachte', 'met', 'de', 'mededeling', 'dat', 'ze', 'een', 'afspraak', 'hadden', 'bij', 'de', 'tandarts', 'aangeefster', 'raakte', 'in', 'paniek', 'omdat', 'ze', 'wist', 'dat', 'haar', 'kinderen', 'geen', 'afspraak', 'bij', 'de', 'tandarts', 'hadden', 'zij', 'heeft', 'verdachte', 'toen', 'meermalen', 'proberen', 'te', 'bellen', 'verdachte', 'nam', 'zijn', 'telefoon', 'echter', 'niet', 'op', 'zij', 'heeft', 'toen', 'de', 'voicemail', 'ingesproken', 'met', 'de', 'vraag', 'waarom', 'hij', 'hun', 'kinderen', 'had', 'meegenomen', 'eenmaal', 'thuis', 'gekomen', 'kwam', 'ze', 'er', 'achter', 'dat', 'de', 'paspoorten', 'van', 'de', 'kinderen', 'en', 'van', 'verdachte', 'weg', 'waren', 'ook', 'waren', 'de', 'toiletartikelen', 'en', 'wat', 'kleding', 'van', 'de', 'kinderen', 'weg', 'de', 'leerkracht', 'van', 'naam', 'getuige', 'heeft', 'verklaard', 'dat', 'verdachte', 'in', 'de', 'ochtend', 'net', 'voor', 'het', 'begin', 'van', 'de', 'schooldag', 'al', 'naar', 'haar', 'toe', 'was', 'gekomen', 'om', 'te', 'vertellen', 'dat', 'hij', 'met', 'zijn', 'dochter', 'naar', 'de', 'tandarts', 'zou', 'gaan', 'aan', 'het', 'einde', 'van', 'de', 'ochtend', 'heeft', 'hij', 'haar', 'toen', 'opgehaald', 'naam', 'moeder', 'is', 'toen', 'nog', 'na', 'schooltijd', 'geweest', 'om', 'haar', 'op', 'te', 'halen', 'de', 'leerkracht', 'van', 'naam', 'getuige', 'heeft', 'verklaard', 'dat', 'verdachte', 'in', 'de', 'ochtend', 'tegen', 'hem', 'had', 'gezegd', 'dat', 'hij', 'naam']]\n"
     ]
    }
   ],
   "source": [
    "def sent_to_words(sentences):\n",
    "    for sentence in sentences:\n",
    "        yield(gensim.utils.simple_preprocess(str(sentence), deacc=True))  # deacc=True removes punctuations\n",
    "\n",
    "data_words = list(sent_to_words(df['bete']))\n",
    "\n",
    "print(data_words[:1])"
   ]
  },
  {
   "cell_type": "markdown",
   "metadata": {},
   "source": [
    "# Creating Bigram and Trigram Models"
   ]
  },
  {
   "cell_type": "code",
   "execution_count": 11,
   "metadata": {},
   "outputs": [
    {
     "name": "stdout",
     "output_type": "stream",
     "text": [
      "['tenlastelegging', 'aan', 'verdachte', 'is', 'ten', 'laste', 'gelegd', 'dat', 'hij', 'in', 'of', 'omstreeks', 'de', 'periode', 'van', 'november', 'tot', 'en', 'met', 'november', 'in', 'arnhem', 'en', 'of', 'in', 'nederland', 'en', 'of', 'in', 'duitsland', 'en', 'of', 'in', 'oostenrijk', 'en', 'of', 'in', 'hongarije', 'opzettelijk', 'een', 'of', 'meer', 'minderjarige', 'te', 'weten', 'naam', 'geboren', 'op', 'geboortedatum', 'in', 'geboorteplaats', 'en', 'of', 'naam', 'geboren', 'op', 'geboortedatum', 'in', 'geboorteplaats', 'heeft', 'onttrokken', 'aan', 'het', 'wettig', 'over', 'hen', 'haar', 'gesteld', 'gezag', 'en', 'of', 'aan', 'het', 'opzicht', 'van', 'degene', 'die', 'dit', 'desbevoegd', 'over', 'hen', 'haar', 'uitoefende', 'terwijl', 'die', 'minderjarige', 'beneden', 'de', 'twaalf_jaren', 'oud', 'was', 'waren', 'en', 'of', 'terwijl', 'list', 'was', 'gebezigd', 'bestaande', 'uit', 'het', 'door', 'verdachte', 'aan', 'de', 'school', 'van', 'de', 'minderjarig', 'in', 'strijd', 'met', 'de', 'waarheid', 'mededelen', 'dat', 'de', 'minderjarige', 'een', 'afspraak', 'bij', 'de', 'tandarts', 'zou', 'den', 'hebben', 'en', 'de', 'minderjarige', 'daarvoor', 'vroeger', 'op', 'te', 'halen', 'van', 'school', 'en', 'of', 'het', 'door', 'verdachte', 'uit', 'het', 'huis', 'lokken', 'van', 'zijn', 'verdachtes', 'echtgenote', 'genaamd', 'naam', 'door', 'het', 'maken', 'van', 'een', 'afspraak', 'met', 'haar', 'bij', 'een', 'woonboulevard', 'om', 'beweerdelijk', 'te', 'gaan', 'shoppen', 'zodat', 'verdachte', 'de', 'paspoorten', 'en', 'kleding', 'toiletartikelen', 'van', 'de', 'minderjarige', 'en', 'uit', 'de', 'woning', 'kon', 'pakken', 'toverwegingen', 'ten', 'aanzien', 'van', 'het', 'bewijs', 'de', 'feiten', 'op', 'grond', 'van', 'de', 'bewijsmiddelen', 'wordt', 'het', 'volgende', 'dat', 'verder', 'ook', 'niet', 'ter', 'discussie_staat', 'vastgesteld', 'aangeefster', 'naam', 'en', 'verdachte', 'zijn', 'getrouwd', 'en', 'hebben', 'samen', 'twee', 'kinderen', 'naam', 'geboren', 'op', 'geboortedatum', 'te', 'geboorteplaats', 'en', 'naam', 'geboren', 'op', 'geboortedatum', 'te', 'geboorteplaats', 'aangeefster', 'en', 'verdachte', 'hebben', 'beiden', 'gezag', 'over', 'deze', 'kinderen', 'verdachte', 'heeft', 'op', 'november', 'de', 'kinderen', 'eerder', 'van', 'school', 'gehaald', 'hij', 'is', 'vervolgens', 'in', 'een', 'bus', 'gestapt', 'in', 'nijmegen', 'heeft', 'in', 'kleve', 'duitsland', 'een', 'trein', 'genomen', 'in', 'dusseldorf', 'duitsland', 'de', 'bus', 'genomen', 'naar', 'salzburg', 'oostenrijk', 'en', 'heeft', 'vanuit', 'daar', 'een', 'trein', 'naar', 'boekarest', 'roemenie', 'genomen', 'in', 'deze', 'trein', 'is', 'hij', 'op', 'november', 'aangehouden', 'toen', 'de', 'trein', 'zich', 'in', 'hongarije', 'bevond', 'het', 'standpunt', 'van', 'de', 'officier', 'van', 'justitie', 'de', 'officier', 'van', 'justitie', 'heeft', 'gesteld', 'dat', 'wettig', 'en', 'overtuigend', 'bewezen', 'kan', 'worden', 'dat', 'verdachte', 'zich', 'schuldig', 'heeft', 'gemaakt', 'aan', 'het', 'ten', 'laste', 'gelegde', 'het', 'standpunt', 'van', 'de', 'verdediging', 'de', 'verdediging', 'heeft', 'zich', 'op', 'het', 'standpunt', 'gesteld', 'dat', 'verdachte', 'van', 'het', 'ten', 'laste', 'gelegde', 'dient', 'te', 'worden', 'vrijgesproken', 'omdat', 'verdachte', 'niet', 'het', 'opzet', 'had', 'de', 'kinderen', 'aan', 'het', 'gezag', 'van', 'aangeefster', 'te', 'onttrekken', 'daarnaast', 'heeft', 'verdachte', 'volgens', 'de', 'verdediging', 'ook', 'geen', 'list', 'gebezigd', 'beoordeling', 'door', 'de', 'rechtbank', 'aangeefster', 'heeft', 'verklaard', 'dat', 'zij', 'op', 'november', 'omstreeks', 'uur', 'door', 'verdachte', 'werd', 'gebeld', 'hij', 'vroeg', 'haar', 'of', 'ze', 'om', 'uur', 'op', 'hem', 'wilde', 'wachten', 'bij', 'de', 'woonboulevard', 'in', 'arnhem', 'zuid', 'zodat', 'ze', 'samen', 'konden', 'gaan', 'shoppen', 'aangeefster', 'is', 'vervolgens', 'naar', 'de', 'woonboulevard', 'gegaan', 'maar', 'verdachte', 'was', 'daar', 'niet', 'op', 'het', 'afgesproken', 'tijdstip', 'aanwezig', 'omstreeks', 'uur', 'is', 'zij', 'naar', 'de', 'school', 'van', 'haar', 'kinderen', 'gegaan', 'om', 'hen', 'op', 'te', 'halen', 'daar', 'hoorde', 'ze', 'van', 'de', 'leerkracht', 'dat', 'haar', 'kinderen', 'omstreeks', 'uur', 'waren', 'opgehaald', 'door', 'verdachte', 'met', 'de', 'mededeling', 'dat', 'ze', 'een', 'afspraak', 'hadden', 'bij', 'de', 'tandarts', 'aangeefster', 'raakte', 'in', 'paniek', 'omdat', 'ze', 'wist', 'dat', 'haar', 'kinderen', 'geen', 'afspraak', 'bij', 'de', 'tandarts', 'hadden', 'zij', 'heeft', 'verdachte', 'toen', 'meermalen', 'proberen', 'te', 'bellen', 'verdachte', 'nam', 'zijn', 'telefoon', 'echter', 'niet', 'op', 'zij', 'heeft', 'toen', 'de', 'voicemail', 'ingesproken', 'met', 'de', 'vraag', 'waarom', 'hij', 'hun', 'kinderen', 'had', 'meegenomen', 'eenmaal', 'thuis', 'gekomen', 'kwam', 'ze', 'er', 'achter', 'dat', 'de', 'paspoorten', 'van', 'de', 'kinderen', 'en', 'van', 'verdachte', 'weg', 'waren', 'ook', 'waren', 'de', 'toiletartikelen', 'en', 'wat', 'kleding', 'van', 'de', 'kinderen', 'weg', 'de', 'leerkracht', 'van', 'naam', 'getuige', 'heeft', 'verklaard', 'dat', 'verdachte', 'in', 'de', 'ochtend', 'net', 'voor', 'het', 'begin', 'van', 'de', 'schooldag', 'al', 'naar', 'haar', 'toe', 'was', 'gekomen', 'om', 'te', 'vertellen', 'dat', 'hij', 'met', 'zijn', 'dochter', 'naar', 'de', 'tandarts', 'zou', 'gaan', 'aan', 'het', 'einde', 'van', 'de', 'ochtend', 'heeft', 'hij', 'haar', 'toen', 'opgehaald', 'naam', 'moeder', 'is', 'toen', 'nog', 'na', 'schooltijd', 'geweest', 'om', 'haar', 'op', 'te', 'halen', 'de', 'leerkracht', 'van', 'naam', 'getuige', 'heeft', 'verklaard', 'dat', 'verdachte', 'in', 'de', 'ochtend', 'tegen', 'hem', 'had', 'gezegd', 'dat', 'hij', 'naam']\n"
     ]
    }
   ],
   "source": [
    "# Build the bigram and trigram models\n",
    "bigram = gensim.models.Phrases(data_words, min_count=5, threshold=100) # higher threshold fewer phrases.\n",
    "trigram = gensim.models.Phrases(bigram[data_words], threshold=100)  \n",
    "\n",
    "# Faster way to get a sentence clubbed as a trigram/bigram\n",
    "bigram_mod = gensim.models.phrases.Phraser(bigram)\n",
    "trigram_mod = gensim.models.phrases.Phraser(trigram)\n",
    "\n",
    "# See trigram example\n",
    "print(trigram_mod[bigram_mod[data_words[0]]])"
   ]
  },
  {
   "cell_type": "markdown",
   "metadata": {},
   "source": [
    "# Remove Stopwords, Make Bigrams and Lemmatize"
   ]
  },
  {
   "cell_type": "code",
   "execution_count": 12,
   "metadata": {},
   "outputs": [],
   "source": [
    "# Define functions for stopwords, bigrams, trigrams and lemmatization\n",
    "def remove_stopwords(texts):\n",
    "    return [[word for word in simple_preprocess(str(doc)) if word not in stop_words] for doc in texts]\n",
    "\n",
    "def make_bigrams(texts):\n",
    "    return [bigram_mod[doc] for doc in texts]\n",
    "\n",
    "def make_trigrams(texts):\n",
    "    return [trigram_mod[bigram_mod[doc]] for doc in texts]\n",
    "\n",
    "def lemmatization(texts, allowed_postags=['NOUN', 'ADJ', 'VERB', 'ADV']):\n",
    "    \"\"\"https://spacy.io/api/annotation\"\"\"\n",
    "    texts_out = []\n",
    "    for sent in texts:\n",
    "        doc = nlp(\" \".join(sent)) \n",
    "        texts_out.append([token.lemma_ for token in doc if token.pos_ in allowed_postags])\n",
    "    return texts_out"
   ]
  },
  {
   "cell_type": "code",
   "execution_count": 13,
   "metadata": {},
   "outputs": [
    {
     "name": "stdout",
     "output_type": "stream",
     "text": [
      "[['tenlastelegging', 'verdenken', 'last', 'leggen', 'periode', 'oostenrijk', 'opzettelijk', 'minderjarig', 'weten', 'naam', 'baren', 'geboortedatum', 'geboorteplaats', 'naam', 'baren', 'geboortedatum', 'geboorteplaats', 'onttrekken', 'wettig', 'stellen', 'gezag', 'opzicht', 'desbevoegd', 'uitoefenen', 'minderjarig', 'twaalf_jar', 'oud', 'list', 'bezigen', 'bestaan', 'verdenken', 'school', 'minderjarig', 'strijd', 'waarheid', 'mededeel', 'minderjarig', 'afspraak', 'tandarts', 'minderjarig', 'daarvoor', 'vroeger', 'halen', 'school', 'verdenken', 'huis', 'lok', 'verdachte', 'echtgenote', 'genaamd', 'naam', 'maken', 'afspraak', 'woonboulevard', 'beweerdelijk', 'gaan', 'shopp', 'verdenken', 'paspoort', 'kleding', 'toiletartikel', 'minderjarig', 'woning', 'toverweging', 'aanzien', 'bewijs', 'feit', 'grond', 'bewijsmiddel', 'volgen', 'ver', 'discussie', 'staan', 'vaststellen', 'aangeefster', 'naam', 'verdenken', 'trouwen', 'samen', 'kind', 'naam', 'baren', 'geboortedatum', 'geboorteplaats', 'naam', 'baren', 'geboortedatum', 'geboorteplaats', 'aangeefster', 'verdenken', 'gezag', 'kind', 'verdenken', 'kind', 'eerder', 'school', 'halen', 'vervolgens', 'bus', 'stappen', 'nijmeg', 'klev', 'trein', 'nemen', 'dusseldorf', 'nemen', 'oostenrijk', 'trein', 'boekarest', 'roemenie', 'nemen', 'trein', 'aanhouden', 'trein', 'bevinden', 'standpunt', 'officier', 'justitie', 'officier', 'justitie', 'stellen', 'wettig', 'overtuigen', 'bewijzen', 'verdenken', 'schuldig', 'maken', 'last', 'leggen', 'standpunt', 'verdediging', 'verdediging', 'standpunt', 'stellen', 'verdenken', 'last', 'leggen', 'dienen', 'vrijspreken', 'verdenken', 'opzet', 'kind', 'gezag', 'aangeefster', 'onttrekken', 'daarnaast', 'verdenken', 'verdediging', 'list', 'bezigen', 'beoordeling', 'rechtbank', 'aangeefster', 'verklaren', 'uur', 'verdenken', 'bellen', 'vroeg', 'uur', 'willen', 'wachten', 'arnhem', 'zuid', 'samen', 'gaan', 'shoppen', 'aangeefster', 'vervolgens', 'woonboulevard', 'gaan', 'verdenken', 'afspreken', 'tijdstip', 'aanwezig', 'uur', 'school', 'kind', 'gaan', 'halen', 'horen', 'leerkracht', 'kind', 'uur', 'ophalen', 'verdenken', 'mededeling', 'afspraak', 'tandarts', 'aangeefster', 'raken', 'paniek', 'weten', 'kind', 'afspraak', 'tandarts', 'verdenken', 'meermalen', 'proberen', 'bellen', 'verdenken', 'nemen', 'telefoon', 'echter', 'voicemail', 'inspreken', 'vraag', 'waarom', 'kind', 'meenemen', 'eenmaal', 'thuis', 'komen', 'komen', 'paspoort', 'kind', 'verdenken', 'weg', 'toiletartikel', 'kleding', 'kind', 'weg', 'leerkracht', 'naam', 'getuige', 'verklaren', 'verdenken', 'ochtend', 'net', 'begin', 'schooldag', 'komen', 'vertellen', 'dochter', 'tandarts', 'gaan', 'einde', 'ochtend', 'ophalen', 'naam', 'moeder', 'schooltijd', 'halen', 'leerkracht', 'naam', 'getuige', 'verklaren', 'verdenken', 'ochtend', 'zeggen', 'naam']]\n"
     ]
    }
   ],
   "source": [
    "# Remove Stop Words\n",
    "data_words_nostops = remove_stopwords(data_words)\n",
    "\n",
    "# Form Bigrams\n",
    "data_words_bigrams = make_bigrams(data_words_nostops)\n",
    "\n",
    "# Initialize spacy 'en' model, keeping only tagger component (for efficiency)\n",
    "# python3 -m spacy download en\n",
    "# nlp = spacy.load('nl', disable=['parser', 'ner'])\n",
    "\n",
    "nlp = spacy.load(\"nl_core_news_sm\")\n",
    "\n",
    "# Do lemmatization keeping only noun, adj, vb, adv\n",
    "data_lemmatized = lemmatization(data_words_bigrams, allowed_postags=['NOUN', 'ADJ', 'VERB', 'ADV'])\n",
    "\n",
    "print(data_lemmatized[:1])"
   ]
  },
  {
   "cell_type": "markdown",
   "metadata": {},
   "source": [
    "#  Create the Dictionary and Corpus needed for Topic Modeling"
   ]
  },
  {
   "cell_type": "code",
   "execution_count": 14,
   "metadata": {},
   "outputs": [
    {
     "name": "stdout",
     "output_type": "stream",
     "text": [
      "[[(0, 6), (1, 1), (2, 1), (3, 1), (4, 4), (5, 1), (6, 1), (7, 4), (8, 1), (9, 2), (10, 1), (11, 1), (12, 1), (13, 1), (14, 1), (15, 1), (16, 1), (17, 2), (18, 1), (19, 1), (20, 1), (21, 1), (22, 1), (23, 1), (24, 1), (25, 1), (26, 1), (27, 1), (28, 1), (29, 1), (30, 1), (31, 1), (32, 1), (33, 5), (34, 4), (35, 4), (36, 1), (37, 2), (38, 3), (39, 1), (40, 4), (41, 1), (42, 1), (43, 1), (44, 2), (45, 10), (46, 2), (47, 1), (48, 3), (49, 3), (50, 3), (51, 3), (52, 2), (53, 1), (54, 2), (55, 1), (56, 1), (57, 1), (58, 1), (59, 6), (60, 1), (61, 10), (62, 4), (63, 1), (64, 1), (65, 3), (66, 2), (67, 2), (68, 2), (69, 2), (70, 1), (71, 1), (72, 1), (73, 1), (74, 1), (75, 1), (76, 2), (77, 1), (78, 1), (79, 1), (80, 1), (81, 1), (82, 2), (83, 4), (84, 1), (85, 1), (86, 1), (87, 1), (88, 1), (89, 1), (90, 3), (91, 1), (92, 3), (93, 1), (94, 4), (95, 1), (96, 1), (97, 1), (98, 1), (99, 2), (100, 1), (101, 4), (102, 1), (103, 1), (104, 1), (105, 4), (106, 1), (107, 1), (108, 1), (109, 3), (110, 19), (111, 3), (112, 1), (113, 2), (114, 1), (115, 1), (116, 1), (117, 1), (118, 1), (119, 1), (120, 1), (121, 1), (122, 1), (123, 2), (124, 2), (125, 2), (126, 1), (127, 1), (128, 2), (129, 1), (130, 1)]]\n"
     ]
    }
   ],
   "source": [
    "# Create Dictionary\n",
    "id2word = corpora.Dictionary(data_lemmatized)\n",
    "\n",
    "# Create Corpus\n",
    "texts = data_lemmatized\n",
    "\n",
    "# Term Document Frequency\n",
    "corpus = [id2word.doc2bow(text) for text in texts]\n",
    "# corpus1 = [str(item) for item in corpus]\n",
    "\n",
    "# View\n",
    "print(corpus[:1])"
   ]
  },
  {
   "cell_type": "code",
   "execution_count": 15,
   "metadata": {},
   "outputs": [
    {
     "data": {
      "text/plain": [
       "'aangeefster'"
      ]
     },
     "execution_count": 15,
     "metadata": {},
     "output_type": "execute_result"
    }
   ],
   "source": [
    "# Id word\n",
    "id2word[0]"
   ]
  },
  {
   "cell_type": "markdown",
   "metadata": {},
   "source": [
    "# Building the Topic Model"
   ]
  },
  {
   "cell_type": "code",
   "execution_count": 16,
   "metadata": {},
   "outputs": [],
   "source": [
    "# Build LDA model\n",
    "lda_model = gensim.models.ldamodel.LdaModel(corpus=corpus,\n",
    "                                           id2word=id2word,\n",
    "                                           num_topics=5, \n",
    "                                           random_state=100,\n",
    "                                           update_every=1,\n",
    "                                           chunksize=100,\n",
    "                                           passes=10,\n",
    "                                           alpha='auto',\n",
    "                                           per_word_topics=True)"
   ]
  },
  {
   "cell_type": "markdown",
   "metadata": {},
   "source": [
    "# View the topics in LDA model"
   ]
  },
  {
   "cell_type": "code",
   "execution_count": 17,
   "metadata": {},
   "outputs": [
    {
     "name": "stdout",
     "output_type": "stream",
     "text": [
      "[(0,\n",
      "  '0.041*\"verdenken\" + 0.031*\"slachtoffer\" + 0.021*\"zien\" + '\n",
      "  '0.013*\"medeverdacht\" + 0.012*\"verbalisant\" + 0.012*\"man\" + '\n",
      "  '0.010*\"verklaren\" + 0.010*\"komen\" + 0.009*\"rechtbank\" + 0.009*\"verklaring\"'),\n",
      " (1,\n",
      "  '0.064*\"slachtoffer\" + 0.034*\"verdenken\" + 0.027*\"althans\" + 0.026*\"naam\" + '\n",
      "  '0.023*\"ander\" + 0.015*\"geval\" + 0.012*\"weten\" + 0.010*\"geweld\" + '\n",
      "  '0.009*\"goed\" + 0.009*\"aangeefster\"'),\n",
      " (2,\n",
      "  '0.041*\"verdenken\" + 0.021*\"medeverdacht\" + 0.018*\"naam\" + 0.012*\"uur\" + '\n",
      "  '0.011*\"aantreffen\" + 0.011*\"adres\" + 0.010*\"rechtbank\" + 0.010*\"kenteken\" + '\n",
      "  '0.009*\"telefoonnummer\" + 0.008*\"auto\"'),\n",
      " (3,\n",
      "  '0.055*\"verdenken\" + 0.020*\"hof\" + 0.011*\"feit\" + 0.011*\"verklaren\" + '\n",
      "  '0.010*\"bewijzen\" + 0.009*\"benadelen\" + 0.008*\"rechtbank\" + 0.007*\"oordeel\" '\n",
      "  '+ 0.007*\"omstandigheid\" + 0.007*\"artikel\"'),\n",
      " (4,\n",
      "  '0.033*\"verdenken\" + 0.025*\"naam\" + 0.018*\"bedrijf\" + 0.016*\"benadelen\" + '\n",
      "  '0.013*\"althans\" + 0.013*\"geld\" + 0.012*\"telkens\" + 0.012*\"ander\" + '\n",
      "  '0.010*\"periode\" + 0.009*\"bedrag\"')]\n"
     ]
    }
   ],
   "source": [
    "# Print the Keyword in the 10 topics\n",
    "pprint(lda_model.print_topics())\n",
    "doc_lda = lda_model[corpus]"
   ]
  },
  {
   "cell_type": "markdown",
   "metadata": {},
   "source": [
    "# Compute Model Perplexity and Coherence Score"
   ]
  },
  {
   "cell_type": "code",
   "execution_count": 18,
   "metadata": {},
   "outputs": [
    {
     "name": "stdout",
     "output_type": "stream",
     "text": [
      "\n",
      "Perplexity:  -7.19710227593113\n",
      "\n",
      "Coherence Score:  0.4805791301370833\n"
     ]
    }
   ],
   "source": [
    "# Compute Perplexity\n",
    "print('\\nPerplexity: ', lda_model.log_perplexity(corpus))  # a measure of how good the model is. lower the better.\n",
    "\n",
    "# Compute Coherence Score\n",
    "coherence_model_lda = CoherenceModel(model=lda_model, texts=data_lemmatized, dictionary=id2word, coherence='c_v')\n",
    "coherence_lda = coherence_model_lda.get_coherence()\n",
    "print('\\nCoherence Score: ', coherence_lda)"
   ]
  },
  {
   "cell_type": "markdown",
   "metadata": {},
   "source": [
    "# Visualize the topics-keywords"
   ]
  },
  {
   "cell_type": "code",
   "execution_count": 19,
   "metadata": {},
   "outputs": [
    {
     "data": {
      "text/html": [
       "\n",
       "<link rel=\"stylesheet\" type=\"text/css\" href=\"https://cdn.jsdelivr.net/gh/bmabey/pyLDAvis@3.3.1/pyLDAvis/js/ldavis.v1.0.0.css\">\n",
       "\n",
       "\n",
       "<div id=\"ldavis_el18051405393944512809636588032\"></div>\n",
       "<script type=\"text/javascript\">\n",
       "\n",
       "var ldavis_el18051405393944512809636588032_data = {\"mdsDat\": {\"x\": [-0.1608663206747315, -0.11713161162439024, -0.03820013043931788, 0.13916171662681195, 0.17703634611162752], \"y\": [-0.09545759440111627, 0.09695000676686143, 0.05111887375049632, -0.19186606311688714, 0.13925477700064595], \"topics\": [1, 2, 3, 4, 5], \"cluster\": [1, 1, 1, 1, 1], \"Freq\": [25.3582706678539, 22.948886155234128, 19.64416420854124, 19.475369507133788, 12.573309461236937]}, \"tinfo\": {\"Term\": [\"slachtoffer\", \"naam\", \"althans\", \"hof\", \"bedrijf\", \"zien\", \"medeverdacht\", \"ander\", \"man\", \"benadelen\", \"zover_inhoudenen\", \"geit\", \"donker\", \"overvaller\", \"vastbinden\", \"schot\", \"bivakmuts\", \"ontvoering\", \"rennen\", \"luik\", \"bijnaam\", \"overval\", \"incident\", \"man\", \"camerabeeld\", \"zien\", \"lopen\", \"jongen\", \"verbalisant\", \"dader\", \"richting\", \"slachtoffer\", \"getuige\", \"aangever\", \"verdenken\", \"komen\", \"medeverdacht\", \"verklaren\", \"verklaring\", \"rechtbank\", \"undercover_agenten\", \"gevangenisstraf\", \"straf\", \"opleggen\", \"arrest\", \"ontvankelijk\", \"tijdig\", \"ongeval\", \"maatregel\", \"diamant\", \"veroordelen\", \"koerier\", \"uitlating\", \"aanvulling\", \"hof\", \"hoger_beroep\", \"strafbaarheid\", \"vonnis\", \"vordering\", \"omstandigheid\", \"verdediging\", \"artikel\", \"verdenken\", \"bewijzen\", \"oordeel\", \"terechtzitting\", \"verklaren\", \"feit\", \"benadelen\", \"rechtbank\", \"loods\", \"gram\", \"hennep\", \"doorzoeking\", \"mercedes_sprinter\", \"materiaal_bevattenen\", \"volkswagen\", \"opiumwet\", \"opiumwet_behorenen\", \"hennepplant\", \"telefoonnummer\", \"kenteken\", \"cocaine\", \"aantreffen\", \"merk\", \"voertuig\", \"uur\", \"medeverdacht\", \"adres\", \"verdenken\", \"naam\", \"auto\", \"rechtbank\", \"meisje\", \"vagina\", \"dele_toebehorenen\", \"feitelijkheid\", \"billen\", \"pinpas\", \"penis\", \"bereiden_gemakkelijk\", \"betrapping\", \"ontuchtige_handeling\", \"strekking\", \"borst\", \"althans\", \"geweld\", \"voorgenomen_misdrijf\", \"slachtoffer\", \"bedreiging\", \"lichaam\", \"ander\", \"geval\", \"geheel\", \"naam\", \"tenlastelegging\", \"vereniging\", \"aangeefster\", \"verdenken\", \"weten\", \"goed\", \"oplichting\", \"valselijk\", \"www_website\", \"rechtspersoon\", \"valse_hoedanigheid\", \"euro_geboekt\", \"samenweefsel\", \"onvervalst\", \"rekeningnummer\", \"valsheid\", \"website\", \"zegel\", \"factuur\", \"bankrekening\", \"bedrijf\", \"vals\", \"document\", \"gegeven\", \"geldbedrag\", \"bedrag\", \"telkens\", \"euro\", \"geld\", \"benadelen\", \"naam\", \"verdenken\", \"althans\", \"periode\", \"ander\"], \"Freq\": [19289.0, 11156.0, 7107.0, 4836.0, 2537.0, 6247.0, 7973.0, 7379.0, 3351.0, 5433.0, 267.7656210926996, 231.4313102338579, 226.77829089349942, 216.55017866362707, 176.68707352802548, 162.76788699431847, 155.41474091214903, 143.6151276762861, 366.12737897718625, 134.44507675241712, 1812.9152341744318, 604.6908656661267, 265.8183445901303, 2941.464971084051, 692.9171070524432, 5142.587000137026, 1302.6558650759107, 731.8462079275324, 2943.088665459631, 702.9491867978188, 1177.8498950246556, 7558.536938420279, 1723.1222975955986, 1343.5226028858453, 9757.534127339131, 2373.74461377616, 3020.469415229325, 2518.3642822019992, 2100.3718377534733, 2168.2741821952354, 490.42327938248803, 345.10766957937676, 317.24632125198315, 234.2105277114118, 203.07952025846703, 159.67604512821362, 150.51617247584005, 139.05744678580916, 134.0098265927674, 136.21739710555573, 304.12292849797296, 145.25022016064275, 190.87484439533395, 373.5259677385613, 4291.04817294325, 777.4086597738307, 403.9523297287567, 389.6165229851564, 623.2360658845906, 1555.2703438455985, 1490.9860037945637, 1523.2745292920872, 11880.327660302199, 2065.3767147636822, 1619.5199914799798, 1096.9058412013655, 2288.535937749593, 2427.2329829212863, 2051.1135800357256, 1766.2228933729566, 1168.4326237637727, 470.5917263357736, 383.4640262476864, 342.6158335900159, 270.9974559713967, 269.09425557027765, 269.38295312114394, 252.17438864175597, 235.65930000823744, 223.24604124216728, 1625.9272906866797, 1888.382238508214, 581.7694605297169, 2029.288461229567, 927.7911589961363, 930.7705142579184, 2188.1123734236717, 3874.302604728228, 2003.9345046571275, 7628.417678806633, 3374.8351493573996, 1527.4714259710763, 1951.7048796651868, 1202.8614564598731, 556.3003468667308, 463.3200301859198, 269.1706497855027, 256.93744229324295, 254.78605181550037, 226.4372972773969, 225.09552419629247, 204.7277530235697, 194.1855598626539, 339.1322664401602, 463.20535459505777, 4949.5197006585995, 1779.0132553766225, 827.3064498686996, 11727.381014449307, 861.1221014043307, 905.2765814723972, 4213.983250727484, 2683.6204953388833, 1313.5696667192003, 4791.539653962248, 1615.104068624592, 1598.638507813301, 1676.7248600382763, 6192.991423247703, 2198.951492372425, 1706.8251425990095, 359.78057326484924, 294.4982423378814, 239.07578855294932, 208.37262903767376, 190.60017659137563, 187.1815751059389, 181.17133225416228, 173.08025093343934, 165.0506388556373, 146.6631199279423, 421.5030079557493, 344.24413553044457, 586.3016464668451, 386.6990034714037, 2197.2840737832594, 953.218193424414, 266.7661516455869, 695.0871058114118, 928.7422131762628, 1031.658876811316, 1419.6570605086908, 868.4387939493922, 1503.0527439632176, 1929.682151011477, 2936.612465371141, 3974.9500855633987, 1601.618543375878, 1139.6030235157884, 1368.6595055718376], \"Total\": [19289.0, 11156.0, 7107.0, 4836.0, 2537.0, 6247.0, 7973.0, 7379.0, 3351.0, 5433.0, 268.5902112007622, 232.2480827314699, 227.6059846444873, 217.37067992903226, 177.5037452464553, 163.5856874594944, 156.2461108783496, 144.44293490102862, 368.3769676782189, 135.31116753335994, 1861.4367183235815, 617.9520331977541, 269.42762891906574, 3351.0722414707725, 744.3064333816145, 6247.275789387684, 1491.7336558226282, 806.5587759545884, 3768.5210136477344, 801.1693653637584, 1453.405698063409, 19289.807879976568, 2663.2524433385265, 1987.6213775536985, 39434.220975259064, 4896.358452341911, 7973.094384171608, 6336.936004766567, 4567.162543379109, 7633.915933607932, 491.26004854332405, 345.95359550263055, 318.08443606340705, 235.04722836555652, 203.93029984090558, 160.52168875002317, 151.39408915317648, 139.89522605288698, 134.85008251356604, 137.07292959925465, 306.51042800314116, 146.17642656548878, 193.1590824152986, 383.3409892888611, 4836.938690497026, 822.8553178546147, 422.1085335993455, 407.4984665775936, 700.6402986973114, 2191.490532269031, 2195.1179644113886, 2303.31332905707, 39434.220975259064, 3854.549277068349, 3024.745255754043, 1753.4289251914713, 6336.936004766567, 7113.824652626457, 5433.65483028087, 7633.915933607932, 1169.2307740892732, 471.393043736664, 384.275248979556, 343.42970785363525, 271.79630010706705, 269.8936143019933, 270.18857632404536, 252.97769734321164, 236.45977392757632, 224.04591445266254, 1634.6276584909056, 1981.8536161321617, 600.8681811132379, 2554.62517339566, 1093.9585746227058, 1153.3642183487843, 3525.6328466529408, 7973.094384171608, 3394.407678099213, 39434.220975259064, 11156.902834302588, 3808.5287690548566, 7633.915933607932, 1203.8160381175248, 557.140805159282, 464.1981722575162, 270.0161756292551, 257.78123975884995, 255.65660772790002, 227.27900110191936, 225.95687952515075, 205.59698719869337, 195.02459850186298, 358.34615948686957, 507.3541709020112, 7107.219371260147, 2271.9435430924705, 970.4579857270045, 19289.807879976568, 1047.628877668189, 1127.7077195215127, 7379.576731080444, 4329.929861698533, 1857.974625104464, 11156.902834302588, 2553.941777605953, 2590.56666350178, 2963.5780206030718, 39434.220975259064, 5293.678791251462, 3498.5720531170973, 360.61875623035155, 295.3386205313572, 239.9564518014952, 209.20798108522882, 191.441880368916, 188.02658077533303, 182.01066247480503, 173.91531473898618, 165.88668802607503, 147.4992684250202, 427.5766086006199, 349.0111286724615, 602.3949392962674, 396.35961104754824, 2537.2332684987573, 1076.4921615842463, 274.6692705588922, 837.52672915025, 1193.322948969514, 1426.1062968719377, 2299.266546717289, 1238.2772222758385, 2962.0619870876653, 5433.65483028087, 11156.902834302588, 39434.220975259064, 7107.219371260147, 3053.6027003502345, 7379.576731080444], \"Category\": [\"Default\", \"Default\", \"Default\", \"Default\", \"Default\", \"Default\", \"Default\", \"Default\", \"Default\", \"Default\", \"Topic1\", \"Topic1\", \"Topic1\", \"Topic1\", \"Topic1\", \"Topic1\", \"Topic1\", \"Topic1\", \"Topic1\", \"Topic1\", \"Topic1\", \"Topic1\", \"Topic1\", \"Topic1\", \"Topic1\", \"Topic1\", \"Topic1\", \"Topic1\", \"Topic1\", \"Topic1\", \"Topic1\", \"Topic1\", \"Topic1\", \"Topic1\", \"Topic1\", \"Topic1\", \"Topic1\", \"Topic1\", \"Topic1\", \"Topic1\", \"Topic2\", \"Topic2\", \"Topic2\", \"Topic2\", \"Topic2\", \"Topic2\", \"Topic2\", \"Topic2\", \"Topic2\", \"Topic2\", \"Topic2\", \"Topic2\", \"Topic2\", \"Topic2\", \"Topic2\", \"Topic2\", \"Topic2\", \"Topic2\", \"Topic2\", \"Topic2\", \"Topic2\", \"Topic2\", \"Topic2\", \"Topic2\", \"Topic2\", \"Topic2\", \"Topic2\", \"Topic2\", \"Topic2\", \"Topic2\", \"Topic3\", \"Topic3\", \"Topic3\", \"Topic3\", \"Topic3\", \"Topic3\", \"Topic3\", \"Topic3\", \"Topic3\", \"Topic3\", \"Topic3\", \"Topic3\", \"Topic3\", \"Topic3\", \"Topic3\", \"Topic3\", \"Topic3\", \"Topic3\", \"Topic3\", \"Topic3\", \"Topic3\", \"Topic3\", \"Topic3\", \"Topic4\", \"Topic4\", \"Topic4\", \"Topic4\", \"Topic4\", \"Topic4\", \"Topic4\", \"Topic4\", \"Topic4\", \"Topic4\", \"Topic4\", \"Topic4\", \"Topic4\", \"Topic4\", \"Topic4\", \"Topic4\", \"Topic4\", \"Topic4\", \"Topic4\", \"Topic4\", \"Topic4\", \"Topic4\", \"Topic4\", \"Topic4\", \"Topic4\", \"Topic4\", \"Topic4\", \"Topic4\", \"Topic5\", \"Topic5\", \"Topic5\", \"Topic5\", \"Topic5\", \"Topic5\", \"Topic5\", \"Topic5\", \"Topic5\", \"Topic5\", \"Topic5\", \"Topic5\", \"Topic5\", \"Topic5\", \"Topic5\", \"Topic5\", \"Topic5\", \"Topic5\", \"Topic5\", \"Topic5\", \"Topic5\", \"Topic5\", \"Topic5\", \"Topic5\", \"Topic5\", \"Topic5\", \"Topic5\", \"Topic5\", \"Topic5\"], \"logprob\": [10.0, 9.0, 8.0, 7.0, 6.0, 5.0, 4.0, 3.0, 2.0, 1.0, -6.7983, -6.9442, -6.9645, -7.0106, -7.2141, -7.2961, -7.3423, -7.4213, -6.4855, -7.4873, -4.8857, -5.9837, -6.8056, -4.4018, -5.8475, -3.8431, -5.2163, -5.7929, -4.4012, -5.8331, -5.317, -3.458, -4.9365, -5.1854, -3.2026, -4.6162, -4.3753, -4.5571, -4.7386, -4.7067, -6.0933, -6.4447, -6.5289, -6.8324, -6.975, -7.2155, -7.2745, -7.3537, -7.3907, -7.3743, -6.5712, -7.3101, -7.037, -6.3656, -3.9243, -5.6326, -6.2873, -6.3234, -5.8537, -4.9392, -4.9814, -4.96, -2.906, -4.6555, -4.8987, -5.2883, -4.5529, -4.4941, -4.6625, -4.812, -5.0697, -5.9791, -6.1839, -6.2965, -6.531, -6.538, -6.537, -6.603, -6.6707, -6.7248, -4.7393, -4.5896, -5.767, -4.5177, -5.3003, -5.2971, -4.4423, -3.871, -4.5302, -3.1935, -4.009, -4.8017, -4.5567, -5.032, -5.8032, -5.9861, -6.5291, -6.5756, -6.5841, -6.702, -6.708, -6.8028, -6.8557, -6.2981, -5.9863, -3.6174, -4.6407, -5.4063, -2.7548, -5.3662, -5.3162, -3.7783, -4.2296, -4.944, -3.6499, -4.7373, -4.7476, -4.6999, -3.3933, -4.4287, -4.6821, -5.8014, -6.0016, -6.2101, -6.3476, -6.4367, -6.4548, -6.4875, -6.5331, -6.5807, -6.6988, -5.6431, -5.8456, -5.3131, -5.7293, -3.9919, -4.8271, -6.1005, -5.1429, -4.8531, -4.748, -4.4287, -4.9202, -4.3717, -4.1218, -3.7019, -3.3991, -4.3081, -4.6485, -4.4653], \"loglift\": [10.0, 9.0, 8.0, 7.0, 6.0, 5.0, 4.0, 3.0, 2.0, 1.0, 1.369, 1.3685, 1.3684, 1.3683, 1.3675, 1.3671, 1.3667, 1.3663, 1.3659, 1.3656, 1.3457, 1.3504, 1.3586, 1.2417, 1.3005, 1.1775, 1.2365, 1.2749, 1.1248, 1.2413, 1.1618, 0.4352, 0.9367, 0.9804, -0.0245, 0.648, 0.4014, 0.4493, 0.5953, 0.1134, 1.4702, 1.4695, 1.4693, 1.4683, 1.4677, 1.4666, 1.4661, 1.4659, 1.4657, 1.4656, 1.4641, 1.4655, 1.46, 1.446, 1.3521, 1.4151, 1.4279, 1.427, 1.3548, 1.129, 1.0851, 1.0584, 0.2722, 0.848, 0.8472, 1.0028, 0.4534, 0.3966, 0.4977, 0.0081, 1.6267, 1.6257, 1.6253, 1.625, 1.6244, 1.6244, 1.6244, 1.6242, 1.624, 1.6238, 1.6221, 1.5791, 1.5951, 1.3972, 1.4626, 1.413, 1.1504, 0.9057, 1.1004, -0.0154, 0.4317, 0.7138, 0.2635, 1.6352, 1.6345, 1.6341, 1.6329, 1.6327, 1.6326, 1.6323, 1.6322, 1.6318, 1.6317, 1.5809, 1.545, 1.2742, 1.3914, 1.4764, 1.1384, 1.44, 1.4163, 1.0757, 1.1576, 1.2893, 0.7908, 1.1778, 1.1533, 1.0665, -0.2152, 0.7575, 0.9183, 2.0713, 2.0707, 2.0699, 2.0696, 2.0692, 2.0691, 2.069, 2.0688, 2.0685, 2.0679, 2.0593, 2.0598, 2.0465, 2.0489, 1.9297, 1.952, 2.0444, 1.8872, 1.8229, 1.7498, 1.5914, 1.7188, 1.3952, 1.0383, 0.7388, -0.221, 0.5835, 1.088, 0.3887]}, \"token.table\": {\"Topic\": [1, 2, 4, 1, 4, 5, 1, 2, 3, 4, 5, 2, 4, 5, 1, 3, 4, 5, 1, 2, 3, 4, 5, 1, 2, 3, 4, 5, 2, 1, 2, 3, 4, 5, 1, 2, 3, 4, 5, 4, 5, 2, 3, 5, 1, 2, 4, 3, 5, 1, 2, 4, 5, 4, 4, 1, 2, 3, 4, 5, 1, 3, 4, 1, 1, 4, 1, 3, 2, 3, 1, 3, 4, 4, 2, 4, 5, 1, 3, 3, 4, 5, 5, 3, 5, 1, 2, 3, 4, 5, 4, 1, 2, 3, 5, 1, 2, 3, 4, 5, 1, 1, 3, 4, 5, 3, 4, 5, 1, 2, 3, 5, 1, 2, 3, 4, 5, 2, 1, 2, 4, 1, 2, 3, 4, 5, 3, 3, 3, 1, 2, 1, 2, 4, 1, 4, 1, 2, 3, 4, 1, 3, 4, 2, 1, 2, 3, 4, 5, 1, 4, 3, 1, 2, 3, 4, 1, 2, 1, 3, 3, 1, 2, 3, 4, 5, 4, 3, 1, 2, 3, 4, 1, 2, 3, 4, 5, 1, 2, 3, 4, 5, 2, 4, 2, 1, 5, 1, 2, 3, 4, 5, 3, 3, 2, 5, 1, 4, 1, 4, 2, 3, 4, 5, 4, 1, 2, 3, 4, 5, 5, 5, 1, 4, 1, 2, 4, 5, 1, 1, 2, 4, 2, 1, 2, 2, 4, 3, 5, 2, 3, 4, 5, 1, 2, 3, 4, 5, 1, 2, 3, 4, 5, 2, 2, 3, 2, 1, 2, 3, 5, 4, 3, 4, 5, 5, 5, 5, 1, 1, 2, 3, 1, 2, 3, 4, 5, 1, 2, 3, 4, 5, 1, 2, 3, 4, 5, 1, 2, 3, 4, 5, 1, 2, 3, 4, 5, 2, 3, 1, 2, 3, 3, 2, 3, 5, 1, 4, 1, 2, 4, 5, 4, 5, 1, 2, 3, 4, 5, 5, 3, 5, 1, 2, 3, 4, 5, 1], \"Freq\": [0.06039996205788248, 0.3735349608831056, 0.5658700355925638, 0.6761851201530911, 0.2560849897008358, 0.06792038037252031, 0.14131231609220832, 0.040710473334043394, 0.7942456768728273, 0.004305915448793051, 0.01918089609007814, 0.9756326885205006, 0.0026086435521938517, 0.020869148417550814, 0.20504313741999997, 0.5903828267093103, 0.13404400506623562, 0.07040992793589079, 0.011115458222586548, 0.03503479870157026, 0.03193935463958413, 0.6964749139468787, 0.22540460851371708, 0.04173681109687516, 0.08455769520925357, 0.1170798856743511, 0.5710354609163374, 0.18551199477799382, 0.9954381480259121, 0.0073806719153400886, 0.6612213721801738, 0.18060938334008686, 0.03516673089073807, 0.11548580761649785, 0.4629084108080703, 0.08087112338564133, 0.4009422253567348, 0.05382655939628725, 0.001312842912104567, 0.022706652618347478, 0.9763860625889417, 0.2328017208312019, 0.043475020155224454, 0.723648722583736, 0.09831725928485024, 0.0792265293266269, 0.8218559247015151, 0.1336101036545927, 0.865903828109558, 0.16913109660160291, 0.3774623276712596, 0.09827639345512074, 0.35519370668236516, 0.9957652118087237, 0.9970963232154932, 0.24827805567136624, 0.5357306007955812, 0.11441026389871735, 0.06719332959131019, 0.03424524905811948, 0.9739788530833302, 0.025786533341422974, 0.9969693692233741, 0.992024691870124, 0.08672442747789694, 0.9125774982333246, 0.9310681312419758, 0.06852016550265623, 0.029956653665120223, 0.9685984685055538, 0.8774674000182394, 0.08113140967451715, 0.041189792603985635, 0.9974188346074497, 0.9921725638870383, 0.02548519528870675, 0.9720781631549575, 0.9973375715694215, 0.9987487749492586, 0.15747685291473593, 0.14051780721622592, 0.7009738888717476, 0.9945402359012226, 0.024900607593953846, 0.9727837366704635, 0.1556124945518991, 0.341166688597524, 0.1751519134703399, 0.22927188673364718, 0.0989622368243333, 0.9962366120219022, 0.040595719296620196, 0.01193991744018241, 0.11701119091378762, 0.8298242620926775, 0.03821365428820539, 0.08019485195693807, 0.0742744266446809, 0.707221714573266, 0.10064723030837194, 0.9946260795060557, 0.029709033903953727, 0.280547808797563, 0.18230543531971605, 0.5074167949732097, 0.06536369728526244, 0.15586727814177967, 0.7784983945898565, 0.6469533161640995, 0.19187065847931212, 0.10175528071994831, 0.059325957024914514, 0.0013857037392394009, 0.08337317497757063, 0.14665364573616993, 0.6198714726864254, 0.1489631519682356, 0.9972435739503008, 0.19410693603756105, 0.02244774090230298, 0.7830300208862156, 0.028011428237610728, 0.027725597337226945, 0.33442215344902604, 0.48791334695511746, 0.1223356253642591, 0.9991662080255822, 0.9966814178562308, 0.9953316959373364, 0.112674572673568, 0.8871313602610648, 0.02552088993573274, 0.9442729276221113, 0.02916673135512313, 0.9872781090312925, 0.011134715515390517, 0.9075594015248973, 0.002479670495969665, 0.07934945587102928, 0.011158517231863492, 0.033302156861013454, 0.952643517478688, 0.01362360962496005, 0.9919520089994693, 0.48485012343500383, 0.26039760209756946, 0.17359840139837965, 0.04431865070993927, 0.03696624782718437, 0.19685951967606888, 0.8025129067875781, 0.9989473642701272, 0.8734803260046113, 0.014077580081425048, 0.09653197770120034, 0.016759023906458392, 0.9903099828546178, 0.9936960920029061, 0.8776295430471551, 0.12205048728537451, 0.9966890128011944, 0.3787738931067192, 0.01931496011206449, 0.4858841264554405, 0.0005016872756380387, 0.1153880733967489, 0.9993221239029172, 0.997070231983462, 0.09872403078631017, 0.007312891169356309, 0.8482953756453319, 0.044791458412307396, 0.0034059631570122354, 0.0014340897503209414, 0.30250330670832354, 0.4295098802211219, 0.2632450997932878, 0.17704844912027595, 0.7095627277887347, 0.09719412284180097, 0.011864071332801996, 0.004106793922892999, 0.9936007390806277, 0.9947463114410504, 0.9967500419782177, 0.9969334955611909, 0.994737008984172, 0.26217083851655204, 0.5355822930602955, 0.13092011608140555, 0.002644850829927385, 0.068766121578112, 0.9961352429345374, 0.9980555934739364, 0.9955446044914521, 0.9982841817857185, 0.9790403906744503, 0.021037231535153477, 0.9982947105416734, 0.9943725504964455, 0.03111079250391805, 0.24102677139877565, 0.3543355525183088, 0.37332951004701664, 0.9974316809812369, 0.2839957917869502, 0.23133605548697145, 0.25570100810337953, 0.13191132948775777, 0.09693583299001068, 0.9942259321132844, 0.9946548572605437, 0.9935474584819994, 0.00542922108460109, 0.8105101015976658, 0.08394077452879051, 0.10526998772872909, 0.9944472347879898, 0.9964196900805309, 0.3918649707157779, 0.00015552254427137635, 0.6079376255568101, 0.9965907289371716, 0.0426430611258031, 0.9570998163791362, 0.05302135797187522, 0.9460126501297736, 0.9947219426723327, 0.004894080898756864, 0.013917481662005246, 0.059584218365459955, 0.3087941243757414, 0.6175882487514828, 0.01566206416713842, 0.15505443525467036, 0.07008773714794443, 0.6323558407482137, 0.1268627197538212, 0.2378197336709638, 0.6256312897770918, 0.031937422267563485, 0.053038933408632215, 0.05132800007286988, 0.9973969317073023, 0.9888222578596823, 0.010354159768164211, 0.9974350681536992, 0.3684444911026982, 0.005672740432682036, 0.6205978033354147, 0.005105466389413832, 0.9979523934547285, 0.06781284862545375, 0.04551821346092101, 0.885282804658321, 0.9976918301885435, 0.995467505980258, 0.9966151125334293, 0.9971620584920285, 0.7809429718825761, 0.06368546151947614, 0.1552333124537231, 0.20955593615368504, 0.6792345669677052, 0.07334457765378977, 0.029155608508338787, 0.009111127658855871, 0.24745005121623034, 0.30126118143562375, 0.1934360515143887, 0.1570463381002372, 0.10080077409146501, 0.04554987974735008, 0.011580477901868664, 0.10962852413769002, 0.6172394721695998, 0.21578290490481944, 0.39735291600009703, 0.3612155777300326, 0.18321157088010828, 0.00015780497061163503, 0.05807222918508169, 0.45980408624700975, 0.3312778964246313, 0.12611769222775124, 0.01861111777666468, 0.06393466342101278, 0.9918096489587772, 0.006525063479991955, 0.12658620553446778, 0.0658941891823257, 0.8072038174834898, 0.9956009379070866, 0.9570588161360316, 0.009815987857805453, 0.03190196053786772, 0.1473531076081296, 0.8521749649784838, 0.0057090635629111425, 0.8891866499234105, 0.0028545317814555713, 0.10133587824167278, 0.01169381088540855, 0.9869576387284815, 0.06913906461511525, 0.11277601523285191, 0.24179782160477464, 0.4154011013350777, 0.1609466750056781, 0.9960140609084918, 0.011460952592585961, 0.9856419229623926, 0.8232388281523397, 0.08083523395234912, 0.0832362805053892, 0.0004802093106080146, 0.012325372305605709, 0.9978025587823041], \"Term\": [\"aangeefster\", \"aangeefster\", \"aangeefster\", \"aangever\", \"aangever\", \"aangever\", \"aantreffen\", \"aantreffen\", \"aantreffen\", \"aantreffen\", \"aantreffen\", \"aanvulling\", \"aanvulling\", \"aanvulling\", \"adres\", \"adres\", \"adres\", \"adres\", \"althans\", \"althans\", \"althans\", \"althans\", \"althans\", \"ander\", \"ander\", \"ander\", \"ander\", \"ander\", \"arrest\", \"artikel\", \"artikel\", \"artikel\", \"artikel\", \"artikel\", \"auto\", \"auto\", \"auto\", \"auto\", \"auto\", \"bankrekening\", \"bankrekening\", \"bedrag\", \"bedrag\", \"bedrag\", \"bedreiging\", \"bedreiging\", \"bedreiging\", \"bedrijf\", \"bedrijf\", \"benadelen\", \"benadelen\", \"benadelen\", \"benadelen\", \"bereiden_gemakkelijk\", \"betrapping\", \"bewijzen\", \"bewijzen\", \"bewijzen\", \"bewijzen\", \"bewijzen\", \"bijnaam\", \"bijnaam\", \"billen\", \"bivakmuts\", \"borst\", \"borst\", \"camerabeeld\", \"camerabeeld\", \"cocaine\", \"cocaine\", \"dader\", \"dader\", \"dader\", \"dele_toebehorenen\", \"diamant\", \"document\", \"document\", \"donker\", \"doorzoeking\", \"euro\", \"euro\", \"euro\", \"euro_geboekt\", \"factuur\", \"factuur\", \"feit\", \"feit\", \"feit\", \"feit\", \"feit\", \"feitelijkheid\", \"gegeven\", \"gegeven\", \"gegeven\", \"gegeven\", \"geheel\", \"geheel\", \"geheel\", \"geheel\", \"geheel\", \"geit\", \"geld\", \"geld\", \"geld\", \"geld\", \"geldbedrag\", \"geldbedrag\", \"geldbedrag\", \"getuige\", \"getuige\", \"getuige\", \"getuige\", \"geval\", \"geval\", \"geval\", \"geval\", \"geval\", \"gevangenisstraf\", \"geweld\", \"geweld\", \"geweld\", \"goed\", \"goed\", \"goed\", \"goed\", \"goed\", \"gram\", \"hennep\", \"hennepplant\", \"hof\", \"hof\", \"hoger_beroep\", \"hoger_beroep\", \"hoger_beroep\", \"incident\", \"incident\", \"jongen\", \"jongen\", \"jongen\", \"jongen\", \"kenteken\", \"kenteken\", \"kenteken\", \"koerier\", \"komen\", \"komen\", \"komen\", \"komen\", \"komen\", \"lichaam\", \"lichaam\", \"loods\", \"lopen\", \"lopen\", \"lopen\", \"lopen\", \"luik\", \"maatregel\", \"man\", \"man\", \"materiaal_bevattenen\", \"medeverdacht\", \"medeverdacht\", \"medeverdacht\", \"medeverdacht\", \"medeverdacht\", \"meisje\", \"mercedes_sprinter\", \"merk\", \"merk\", \"merk\", \"merk\", \"naam\", \"naam\", \"naam\", \"naam\", \"naam\", \"omstandigheid\", \"omstandigheid\", \"omstandigheid\", \"omstandigheid\", \"omstandigheid\", \"ongeval\", \"ontuchtige_handeling\", \"ontvankelijk\", \"ontvoering\", \"onvervalst\", \"oordeel\", \"oordeel\", \"oordeel\", \"oordeel\", \"oordeel\", \"opiumwet\", \"opiumwet_behorenen\", \"opleggen\", \"oplichting\", \"overval\", \"overval\", \"overvaller\", \"penis\", \"periode\", \"periode\", \"periode\", \"periode\", \"pinpas\", \"rechtbank\", \"rechtbank\", \"rechtbank\", \"rechtbank\", \"rechtbank\", \"rechtspersoon\", \"rekeningnummer\", \"rennen\", \"rennen\", \"richting\", \"richting\", \"richting\", \"samenweefsel\", \"schot\", \"slachtoffer\", \"slachtoffer\", \"slachtoffer\", \"straf\", \"strafbaarheid\", \"strafbaarheid\", \"strekking\", \"strekking\", \"telefoonnummer\", \"telefoonnummer\", \"telkens\", \"telkens\", \"telkens\", \"telkens\", \"tenlastelegging\", \"tenlastelegging\", \"tenlastelegging\", \"tenlastelegging\", \"tenlastelegging\", \"terechtzitting\", \"terechtzitting\", \"terechtzitting\", \"terechtzitting\", \"terechtzitting\", \"tijdig\", \"uitlating\", \"uitlating\", \"undercover_agenten\", \"uur\", \"uur\", \"uur\", \"uur\", \"vagina\", \"vals\", \"vals\", \"vals\", \"valse_hoedanigheid\", \"valselijk\", \"valsheid\", \"vastbinden\", \"verbalisant\", \"verbalisant\", \"verbalisant\", \"verdediging\", \"verdediging\", \"verdediging\", \"verdediging\", \"verdediging\", \"verdenken\", \"verdenken\", \"verdenken\", \"verdenken\", \"verdenken\", \"vereniging\", \"vereniging\", \"vereniging\", \"vereniging\", \"vereniging\", \"verklaren\", \"verklaren\", \"verklaren\", \"verklaren\", \"verklaren\", \"verklaring\", \"verklaring\", \"verklaring\", \"verklaring\", \"verklaring\", \"veroordelen\", \"veroordelen\", \"voertuig\", \"voertuig\", \"voertuig\", \"volkswagen\", \"vonnis\", \"vonnis\", \"vonnis\", \"voorgenomen_misdrijf\", \"voorgenomen_misdrijf\", \"vordering\", \"vordering\", \"vordering\", \"vordering\", \"website\", \"website\", \"weten\", \"weten\", \"weten\", \"weten\", \"weten\", \"www_website\", \"zegel\", \"zegel\", \"zien\", \"zien\", \"zien\", \"zien\", \"zien\", \"zover_inhoudenen\"]}, \"R\": 10, \"lambda.step\": 0.01, \"plot.opts\": {\"xlab\": \"PC1\", \"ylab\": \"PC2\"}, \"topic.order\": [1, 4, 3, 2, 5]};\n",
       "\n",
       "function LDAvis_load_lib(url, callback){\n",
       "  var s = document.createElement('script');\n",
       "  s.src = url;\n",
       "  s.async = true;\n",
       "  s.onreadystatechange = s.onload = callback;\n",
       "  s.onerror = function(){console.warn(\"failed to load library \" + url);};\n",
       "  document.getElementsByTagName(\"head\")[0].appendChild(s);\n",
       "}\n",
       "\n",
       "if(typeof(LDAvis) !== \"undefined\"){\n",
       "   // already loaded: just create the visualization\n",
       "   !function(LDAvis){\n",
       "       new LDAvis(\"#\" + \"ldavis_el18051405393944512809636588032\", ldavis_el18051405393944512809636588032_data);\n",
       "   }(LDAvis);\n",
       "}else if(typeof define === \"function\" && define.amd){\n",
       "   // require.js is available: use it to load d3/LDAvis\n",
       "   require.config({paths: {d3: \"https://d3js.org/d3.v5\"}});\n",
       "   require([\"d3\"], function(d3){\n",
       "      window.d3 = d3;\n",
       "      LDAvis_load_lib(\"https://cdn.jsdelivr.net/gh/bmabey/pyLDAvis@3.3.1/pyLDAvis/js/ldavis.v3.0.0.js\", function(){\n",
       "        new LDAvis(\"#\" + \"ldavis_el18051405393944512809636588032\", ldavis_el18051405393944512809636588032_data);\n",
       "      });\n",
       "    });\n",
       "}else{\n",
       "    // require.js not available: dynamically load d3 & LDAvis\n",
       "    LDAvis_load_lib(\"https://d3js.org/d3.v5.js\", function(){\n",
       "         LDAvis_load_lib(\"https://cdn.jsdelivr.net/gh/bmabey/pyLDAvis@3.3.1/pyLDAvis/js/ldavis.v3.0.0.js\", function(){\n",
       "                 new LDAvis(\"#\" + \"ldavis_el18051405393944512809636588032\", ldavis_el18051405393944512809636588032_data);\n",
       "            })\n",
       "         });\n",
       "}\n",
       "</script>"
      ],
      "text/plain": [
       "PreparedData(topic_coordinates=              x         y  topics  cluster       Freq\n",
       "topic                                                \n",
       "0     -0.160866 -0.095458       1        1  25.358271\n",
       "3     -0.117132  0.096950       2        1  22.948886\n",
       "2     -0.038200  0.051119       3        1  19.644164\n",
       "1      0.139162 -0.191866       4        1  19.475370\n",
       "4      0.177036  0.139255       5        1  12.573309, topic_info=            Term          Freq         Total Category  logprob  loglift\n",
       "975  slachtoffer  19289.000000  19289.000000  Default  10.0000  10.0000\n",
       "61          naam  11156.000000  11156.000000  Default   9.0000   9.0000\n",
       "581      althans   7107.000000   7107.000000  Default   8.0000   8.0000\n",
       "310          hof   4836.000000   4836.000000  Default   7.0000   7.0000\n",
       "750      bedrijf   2537.000000   2537.000000  Default   6.0000   6.0000\n",
       "..           ...           ...           ...      ...      ...      ...\n",
       "61          naam   2936.612465  11156.902834   Topic5  -3.7019   0.7388\n",
       "110    verdenken   3974.950086  39434.220975   Topic5  -3.3991  -0.2210\n",
       "581      althans   1601.618543   7107.219371   Topic5  -4.3081   0.5835\n",
       "77       periode   1139.603024   3053.602700   Topic5  -4.6485   1.0880\n",
       "163        ander   1368.659506   7379.576731   Topic5  -4.4653   0.3887\n",
       "\n",
       "[150 rows x 6 columns], token_table=      Topic      Freq              Term\n",
       "term                                   \n",
       "0         1  0.060400       aangeefster\n",
       "0         2  0.373535       aangeefster\n",
       "0         4  0.565870       aangeefster\n",
       "721       1  0.676185          aangever\n",
       "721       4  0.256085          aangever\n",
       "...     ...       ...               ...\n",
       "569       2  0.080835              zien\n",
       "569       3  0.083236              zien\n",
       "569       4  0.000480              zien\n",
       "569       5  0.012325              zien\n",
       "3353      1  0.997803  zover_inhoudenen\n",
       "\n",
       "[318 rows x 3 columns], R=10, lambda_step=0.01, plot_opts={'xlab': 'PC1', 'ylab': 'PC2'}, topic_order=[1, 4, 3, 2, 5])"
      ]
     },
     "execution_count": 19,
     "metadata": {},
     "output_type": "execute_result"
    }
   ],
   "source": [
    "# Visualize the topics\n",
    "pyLDAvis.enable_notebook()\n",
    "vis = gensimvis.prepare(lda_model, corpus, id2word, R = 10)\n",
    "vis"
   ]
  },
  {
   "cell_type": "markdown",
   "metadata": {},
   "source": [
    "# How to find the optimal number fo topics for LDA?"
   ]
  },
  {
   "cell_type": "code",
   "execution_count": 20,
   "metadata": {},
   "outputs": [],
   "source": [
    "def compute_coherence_values(dictionary, corpus, texts, limit, start=2, step=3):\n",
    "    \"\"\"\n",
    "    Compute c_v coherence for various number of topics\n",
    "\n",
    "    Parameters:\n",
    "    ----------\n",
    "    dictionary : Gensim dictionary\n",
    "    corpus : Gensim corpus\n",
    "    texts : List of input texts\n",
    "    limit : Max num of topics\n",
    "\n",
    "    Returns:\n",
    "    -------\n",
    "    model_list : List of LDA topic models\n",
    "    coherence_values : Coherence values corresponding to the LDA model with respective number of topics\n",
    "    \"\"\"\n",
    "    coherence_values = []\n",
    "    model_list = []\n",
    "    for num_topics in range(start, limit, step):\n",
    "        model = gensim.models.ldamodel.LdaModel(corpus=corpus, num_topics=num_topics, id2word=id2word)\n",
    "        model_list.append(model)\n",
    "        coherencemodel = CoherenceModel(model=model, texts=texts, dictionary=dictionary, coherence='c_v')\n",
    "        coherence_values.append(coherencemodel.get_coherence())\n",
    "\n",
    "    return model_list, coherence_values\n"
   ]
  },
  {
   "cell_type": "code",
   "execution_count": 21,
   "metadata": {},
   "outputs": [],
   "source": [
    "# Can take a long time to run.\n",
    "model_list, coherence_values = compute_coherence_values(dictionary=id2word, corpus=corpus, texts=data_lemmatized, start=2, limit=15, step=1)  # 2,40,6"
   ]
  },
  {
   "cell_type": "code",
   "execution_count": 22,
   "metadata": {},
   "outputs": [
    {
     "data": {
      "image/png": "[encoded data removed]",
      "text/plain": [
       "<Figure size 432x288 with 1 Axes>"
      ]
     },
     "metadata": {
      "needs_background": "light"
     },
     "output_type": "display_data"
    }
   ],
   "source": [
    "# Show graph\n",
    "\n",
    "plt.plot(coherence_values)\n",
    "plt.xlabel(\"Num Topics\")\n",
    "plt.ylabel(\"Coherence score\")\n",
    "plt.legend((\"coherence_values\"), loc='best')\n",
    "plt.show()"
   ]
  },
  {
   "cell_type": "markdown",
   "metadata": {},
   "source": [
    "# TF-IDF"
   ]
  },
  {
   "cell_type": "code",
   "execution_count": 23,
   "metadata": {},
   "outputs": [],
   "source": [
    "from sklearn.feature_extraction.text import TfidfVectorizer\n",
    "from sklearn.preprocessing import Normalizer\n",
    "from sklearn.cluster import KMeans\n",
    "from sklearn import metrics\n",
    "from sklearn.metrics.pairwise import cosine_distances"
   ]
  },
  {
   "cell_type": "code",
   "execution_count": 24,
   "metadata": {},
   "outputs": [],
   "source": [
    "sample = list(df['bete'])"
   ]
  },
  {
   "cell_type": "markdown",
   "metadata": {},
   "source": [
    "# Implementation"
   ]
  },
  {
   "cell_type": "code",
   "execution_count": 25,
   "metadata": {},
   "outputs": [],
   "source": [
    "dat_lem_untok = [\" \".join(x) for x in data_lemmatized]\n",
    "tfidf_vectorizer = TfidfVectorizer(input=dat_lem_untok, stop_words=stop_words)"
   ]
  },
  {
   "cell_type": "code",
   "execution_count": 26,
   "metadata": {},
   "outputs": [
    {
     "name": "stderr",
     "output_type": "stream",
     "text": [
      "/opt/anaconda3/lib/python3.7/site-packages/sklearn/feature_extraction/text.py:391: UserWarning: Your stop_words may be inconsistent with your preprocessing. Tokenizing the stop words generated tokens ['tenlastelegging'] not in stop_words.\n",
      "  'stop_words.' % sorted(inconsistent))\n"
     ]
    }
   ],
   "source": [
    "tfidf_vector = tfidf_vectorizer.fit_transform(dat_lem_untok)"
   ]
  },
  {
   "cell_type": "code",
   "execution_count": 27,
   "metadata": {},
   "outputs": [],
   "source": [
    "tfidf_df = pd.DataFrame(tfidf_vector.toarray(), columns=tfidf_vectorizer.get_feature_names())"
   ]
  },
  {
   "cell_type": "code",
   "execution_count": 28,
   "metadata": {},
   "outputs": [
    {
     "data": {
      "text/html": [
       "<div>\n",
       "<style scoped>\n",
       "    .dataframe tbody tr th:only-of-type {\n",
       "        vertical-align: middle;\n",
       "    }\n",
       "\n",
       "    .dataframe tbody tr th {\n",
       "        vertical-align: top;\n",
       "    }\n",
       "\n",
       "    .dataframe thead th {\n",
       "        text-align: right;\n",
       "    }\n",
       "</style>\n",
       "<table border=\"1\" class=\"dataframe\">\n",
       "  <thead>\n",
       "    <tr style=\"text-align: right;\">\n",
       "      <th></th>\n",
       "      <th>level_0</th>\n",
       "      <th>level_1</th>\n",
       "      <th>0</th>\n",
       "    </tr>\n",
       "  </thead>\n",
       "  <tbody>\n",
       "    <tr>\n",
       "      <th>0</th>\n",
       "      <td>0</td>\n",
       "      <td>aa</td>\n",
       "      <td>0.0</td>\n",
       "    </tr>\n",
       "    <tr>\n",
       "      <th>1</th>\n",
       "      <td>0</td>\n",
       "      <td>aa_flesje</td>\n",
       "      <td>0.0</td>\n",
       "    </tr>\n",
       "    <tr>\n",
       "      <th>2</th>\n",
       "      <td>0</td>\n",
       "      <td>aaan</td>\n",
       "      <td>0.0</td>\n",
       "    </tr>\n",
       "    <tr>\n",
       "      <th>3</th>\n",
       "      <td>0</td>\n",
       "      <td>aaei</td>\n",
       "      <td>0.0</td>\n",
       "    </tr>\n",
       "    <tr>\n",
       "      <th>4</th>\n",
       "      <td>0</td>\n",
       "      <td>aafe</td>\n",
       "      <td>0.0</td>\n",
       "    </tr>\n",
       "    <tr>\n",
       "      <th>...</th>\n",
       "      <td>...</td>\n",
       "      <td>...</td>\n",
       "      <td>...</td>\n",
       "    </tr>\n",
       "    <tr>\n",
       "      <th>30914795</th>\n",
       "      <td>1447</td>\n",
       "      <td>zwoll</td>\n",
       "      <td>0.0</td>\n",
       "    </tr>\n",
       "    <tr>\n",
       "      <th>30914796</th>\n",
       "      <td>1447</td>\n",
       "      <td>zwolle</td>\n",
       "      <td>0.0</td>\n",
       "    </tr>\n",
       "    <tr>\n",
       "      <th>30914797</th>\n",
       "      <td>1447</td>\n",
       "      <td>zwz</td>\n",
       "      <td>0.0</td>\n",
       "    </tr>\n",
       "    <tr>\n",
       "      <th>30914798</th>\n",
       "      <td>1447</td>\n",
       "      <td>zygoma</td>\n",
       "      <td>0.0</td>\n",
       "    </tr>\n",
       "    <tr>\n",
       "      <th>30914799</th>\n",
       "      <td>1447</td>\n",
       "      <td>één</td>\n",
       "      <td>0.0</td>\n",
       "    </tr>\n",
       "  </tbody>\n",
       "</table>\n",
       "<p>30914800 rows × 3 columns</p>\n",
       "</div>"
      ],
      "text/plain": [
       "          level_0    level_1    0\n",
       "0               0         aa  0.0\n",
       "1               0  aa_flesje  0.0\n",
       "2               0       aaan  0.0\n",
       "3               0       aaei  0.0\n",
       "4               0       aafe  0.0\n",
       "...           ...        ...  ...\n",
       "30914795     1447      zwoll  0.0\n",
       "30914796     1447     zwolle  0.0\n",
       "30914797     1447        zwz  0.0\n",
       "30914798     1447     zygoma  0.0\n",
       "30914799     1447        één  0.0\n",
       "\n",
       "[30914800 rows x 3 columns]"
      ]
     },
     "execution_count": 28,
     "metadata": {},
     "output_type": "execute_result"
    }
   ],
   "source": [
    "tfidf_df.stack().reset_index()"
   ]
  },
  {
   "cell_type": "code",
   "execution_count": 29,
   "metadata": {},
   "outputs": [],
   "source": [
    "tfidf_df = tfidf_df.stack().reset_index()\n",
    "tfidf_df = tfidf_df.rename(columns={0:'tfidf', 'level_0': 'document','level_1': 'term', 'level_2': 'term'})\n",
    "tfidf_df.sort_values(by=['document','tfidf'], ascending=[True,False]).groupby(['document']).head(10)\n",
    "top_tfidf = tfidf_df.sort_values(by=['document','tfidf'], ascending=[True,False]).groupby(['document']).head(10)"
   ]
  },
  {
   "cell_type": "code",
   "execution_count": 30,
   "metadata": {},
   "outputs": [
    {
     "data": {
      "text/html": [
       "<div>\n",
       "<style scoped>\n",
       "    .dataframe tbody tr th:only-of-type {\n",
       "        vertical-align: middle;\n",
       "    }\n",
       "\n",
       "    .dataframe tbody tr th {\n",
       "        vertical-align: top;\n",
       "    }\n",
       "\n",
       "    .dataframe thead th {\n",
       "        text-align: right;\n",
       "    }\n",
       "</style>\n",
       "<table border=\"1\" class=\"dataframe\">\n",
       "  <thead>\n",
       "    <tr style=\"text-align: right;\">\n",
       "      <th></th>\n",
       "      <th>document</th>\n",
       "      <th>term</th>\n",
       "      <th>tfidf</th>\n",
       "    </tr>\n",
       "  </thead>\n",
       "  <tbody>\n",
       "    <tr>\n",
       "      <th>29008</th>\n",
       "      <td>1</td>\n",
       "      <td>hof</td>\n",
       "      <td>0.175662</td>\n",
       "    </tr>\n",
       "    <tr>\n",
       "      <th>71708</th>\n",
       "      <td>3</td>\n",
       "      <td>hof</td>\n",
       "      <td>0.527818</td>\n",
       "    </tr>\n",
       "    <tr>\n",
       "      <th>93058</th>\n",
       "      <td>4</td>\n",
       "      <td>hof</td>\n",
       "      <td>0.197094</td>\n",
       "    </tr>\n",
       "    <tr>\n",
       "      <th>114408</th>\n",
       "      <td>5</td>\n",
       "      <td>hof</td>\n",
       "      <td>0.155718</td>\n",
       "    </tr>\n",
       "    <tr>\n",
       "      <th>199808</th>\n",
       "      <td>9</td>\n",
       "      <td>hof</td>\n",
       "      <td>0.272591</td>\n",
       "    </tr>\n",
       "    <tr>\n",
       "      <th>...</th>\n",
       "      <td>...</td>\n",
       "      <td>...</td>\n",
       "      <td>...</td>\n",
       "    </tr>\n",
       "    <tr>\n",
       "      <th>29897658</th>\n",
       "      <td>1400</td>\n",
       "      <td>hof</td>\n",
       "      <td>0.231139</td>\n",
       "    </tr>\n",
       "    <tr>\n",
       "      <th>30196558</th>\n",
       "      <td>1414</td>\n",
       "      <td>hof</td>\n",
       "      <td>0.315010</td>\n",
       "    </tr>\n",
       "    <tr>\n",
       "      <th>30217908</th>\n",
       "      <td>1415</td>\n",
       "      <td>hof</td>\n",
       "      <td>0.186256</td>\n",
       "    </tr>\n",
       "    <tr>\n",
       "      <th>30708958</th>\n",
       "      <td>1438</td>\n",
       "      <td>hof</td>\n",
       "      <td>0.275683</td>\n",
       "    </tr>\n",
       "    <tr>\n",
       "      <th>30858408</th>\n",
       "      <td>1445</td>\n",
       "      <td>hof</td>\n",
       "      <td>0.182395</td>\n",
       "    </tr>\n",
       "  </tbody>\n",
       "</table>\n",
       "<p>157 rows × 3 columns</p>\n",
       "</div>"
      ],
      "text/plain": [
       "          document term     tfidf\n",
       "29008            1  hof  0.175662\n",
       "71708            3  hof  0.527818\n",
       "93058            4  hof  0.197094\n",
       "114408           5  hof  0.155718\n",
       "199808           9  hof  0.272591\n",
       "...            ...  ...       ...\n",
       "29897658      1400  hof  0.231139\n",
       "30196558      1414  hof  0.315010\n",
       "30217908      1415  hof  0.186256\n",
       "30708958      1438  hof  0.275683\n",
       "30858408      1445  hof  0.182395\n",
       "\n",
       "[157 rows x 3 columns]"
      ]
     },
     "execution_count": 30,
     "metadata": {},
     "output_type": "execute_result"
    }
   ],
   "source": [
    "top_tfidf[top_tfidf['term'].str.contains('hof')]"
   ]
  },
  {
   "cell_type": "code",
   "execution_count": 31,
   "metadata": {},
   "outputs": [
    {
     "data": {
      "text/html": [
       "\n",
       "<div id=\"altair-viz-2465e3b78d6640ecb874b7e13546fe22\"></div>\n",
       "<script type=\"text/javascript\">\n",
       "  var VEGA_DEBUG = (typeof VEGA_DEBUG == \"undefined\") ? {} : VEGA_DEBUG;\n",
       "  (function(spec, embedOpt){\n",
       "    let outputDiv = document.currentScript.previousElementSibling;\n",
       "    if (outputDiv.id !== \"altair-viz-2465e3b78d6640ecb874b7e13546fe22\") {\n",
       "      outputDiv = document.getElementById(\"altair-viz-2465e3b78d6640ecb874b7e13546fe22\");\n",
       "    }\n",
       "    const paths = {\n",
       "      \"vega\": \"https://cdn.jsdelivr.net/npm//vega@5?noext\",\n",
       "      \"vega-lib\": \"https://cdn.jsdelivr.net/npm//vega-lib?noext\",\n",
       "      \"vega-lite\": \"https://cdn.jsdelivr.net/npm//vega-lite@4.17.0?noext\",\n",
       "      \"vega-embed\": \"https://cdn.jsdelivr.net/npm//vega-embed@6?noext\",\n",
       "    };\n",
       "\n",
       "    function maybeLoadScript(lib, version) {\n",
       "      var key = `${lib.replace(\"-\", \"\")}_version`;\n",
       "      return (VEGA_DEBUG[key] == version) ?\n",
       "        Promise.resolve(paths[lib]) :\n",
       "        new Promise(function(resolve, reject) {\n",
       "          var s = document.createElement('script');\n",
       "          document.getElementsByTagName(\"head\")[0].appendChild(s);\n",
       "          s.async = true;\n",
       "          s.onload = () => {\n",
       "            VEGA_DEBUG[key] = version;\n",
       "            return resolve(paths[lib]);\n",
       "          };\n",
       "          s.onerror = () => reject(`Error loading script: ${paths[lib]}`);\n",
       "          s.src = paths[lib];\n",
       "        });\n",
       "    }\n",
       "\n",
       "    function showError(err) {\n",
       "      outputDiv.innerHTML = `<div class=\"error\" style=\"color:red;\">${err}</div>`;\n",
       "      throw err;\n",
       "    }\n",
       "\n",
       "    function displayChart(vegaEmbed) {\n",
       "      vegaEmbed(outputDiv, spec, embedOpt)\n",
       "        .catch(err => showError(`Javascript Error: ${err.message}<br>This usually means there's a typo in your chart specification. See the javascript console for the full traceback.`));\n",
       "    }\n",
       "\n",
       "    if(typeof define === \"function\" && define.amd) {\n",
       "      requirejs.config({paths});\n",
       "      require([\"vega-embed\"], displayChart, err => showError(`Error loading script: ${err.message}`));\n",
       "    } else {\n",
       "      maybeLoadScript(\"vega\", \"5\")\n",
       "        .then(() => maybeLoadScript(\"vega-lite\", \"4.17.0\"))\n",
       "        .then(() => maybeLoadScript(\"vega-embed\", \"6\"))\n",
       "        .catch(showError)\n",
       "        .then(() => displayChart(vegaEmbed));\n",
       "    }\n",
       "  })({\"config\": {\"view\": {\"continuousWidth\": 400, \"continuousHeight\": 300}}, \"layer\": [{\"mark\": \"rect\", \"encoding\": {\"color\": {\"field\": \"tfidf\", \"type\": \"quantitative\"}, \"x\": {\"field\": \"rank\", \"type\": \"ordinal\"}, \"y\": {\"field\": \"document\", \"type\": \"nominal\"}}, \"transform\": [{\"window\": [{\"op\": \"rank\", \"field\": \"\", \"as\": \"rank\"}], \"groupby\": [\"document\"], \"sort\": [{\"field\": \"tfidf\", \"order\": \"descending\"}]}]}, {\"mark\": {\"type\": \"circle\", \"size\": 100}, \"encoding\": {\"color\": {\"condition\": {\"value\": \"red\", \"test\": {\"field\": \"term\", \"oneOf\": [\"benadelen\", \"kasboek\", \"hof\"]}}, \"value\": \"#FFFFFF00\"}, \"x\": {\"field\": \"rank\", \"type\": \"ordinal\"}, \"y\": {\"field\": \"document\", \"type\": \"nominal\"}}, \"transform\": [{\"window\": [{\"op\": \"rank\", \"field\": \"\", \"as\": \"rank\"}], \"groupby\": [\"document\"], \"sort\": [{\"field\": \"tfidf\", \"order\": \"descending\"}]}]}, {\"mark\": {\"type\": \"text\", \"baseline\": \"middle\"}, \"encoding\": {\"color\": {\"condition\": {\"value\": \"white\", \"test\": \"(datum.tfidf >= 0.23)\"}, \"value\": \"black\"}, \"text\": {\"field\": \"term\", \"type\": \"nominal\"}, \"x\": {\"field\": \"rank\", \"type\": \"ordinal\"}, \"y\": {\"field\": \"document\", \"type\": \"nominal\"}}, \"transform\": [{\"window\": [{\"op\": \"rank\", \"field\": \"\", \"as\": \"rank\"}], \"groupby\": [\"document\"], \"sort\": [{\"field\": \"tfidf\", \"order\": \"descending\"}]}]}], \"data\": {\"name\": \"data-555cf87e1be61ef0b4bee58c05768556\"}, \"width\": 1200, \"$schema\": \"https://vega.github.io/schema/vega-lite/v4.17.0.json\", \"datasets\": {\"data-555cf87e1be61ef0b4bee58c05768556\": [{\"document\": 0, \"term\": \"kind\", \"tfidf\": 0.37602738411174563}, {\"document\": 0, \"term\": \"tandarts\", \"tfidf\": 0.26935361089698445}, {\"document\": 0, \"term\": \"minderjarig\", \"tfidf\": 0.25243369085078604}, {\"document\": 0, \"term\": \"leerkracht\", \"tfidf\": 0.22977202104785513}, {\"document\": 0, \"term\": \"trein\", \"tfidf\": 0.22496390786342307}, {\"document\": 0, \"term\": \"aangeefster\", \"tfidf\": 0.19719077911091418}, {\"document\": 0, \"term\": \"school\", \"tfidf\": 0.19435263838601682}, {\"document\": 0, \"term\": \"verdenken\", \"tfidf\": 0.19414192748974662}, {\"document\": 0, \"term\": \"geboorteplaats\", \"tfidf\": 0.1919056318267567}, {\"document\": 0, \"term\": \"naam\", \"tfidf\": 0.16939716188059797}, {\"document\": 1, \"term\": \"verbalisant\", \"tfidf\": 0.42638104940907773}, {\"document\": 1, \"term\": \"verdenken\", \"tfidf\": 0.2412791572242776}, {\"document\": 1, \"term\": \"camerabeeld\", \"tfidf\": 0.19563567445423125}, {\"document\": 1, \"term\": \"nek\", \"tfidf\": 0.17970007885574332}, {\"document\": 1, \"term\": \"hof\", \"tfidf\": 0.1757008297611352}, {\"document\": 1, \"term\": \"zaak\", \"tfidf\": 0.15937474860884224}, {\"document\": 1, \"term\": \"onjuistheid\", \"tfidf\": 0.15479571933219174}, {\"document\": 1, \"term\": \"vervolging\", \"tfidf\": 0.13443708440832874}, {\"document\": 1, \"term\": \"aanhouden\", \"tfidf\": 0.13028163921426014}, {\"document\": 1, \"term\": \"beeldmateriaal\", \"tfidf\": 0.11812931921758983}, {\"document\": 2, \"term\": \"ofeen_hoeveelheid\", \"tfidf\": 0.42846797268186176}, {\"document\": 2, \"term\": \"materiaal_bevattenen\", \"tfidf\": 0.4281404494216236}, {\"document\": 2, \"term\": \"lsd\", \"tfidf\": 0.38709686098858254}, {\"document\": 2, \"term\": \"amfetamine\", \"tfidf\": 0.27861995064408135}, {\"document\": 2, \"term\": \"cb\", \"tfidf\": 0.2742220295153069}, {\"document\": 2, \"term\": \"cocaine\", \"tfidf\": 0.21925656633878968}, {\"document\": 2, \"term\": \"drug\", \"tfidf\": 0.14390784913864343}, {\"document\": 2, \"term\": \"aanwezig\", \"tfidf\": 0.1371142660539704}, {\"document\": 2, \"term\": \"opzettelijk\", \"tfidf\": 0.130937608229754}, {\"document\": 2, \"term\": \"ghb\", \"tfidf\": 0.12604948818686465}, {\"document\": 3, \"term\": \"hof\", \"tfidf\": 0.5278715664041631}, {\"document\": 3, \"term\": \"verdenken\", \"tfidf\": 0.19777499773720547}, {\"document\": 3, \"term\": \"artikel\", \"tfidf\": 0.18274829071222579}, {\"document\": 3, \"term\": \"strafbaarheid\", \"tfidf\": 0.16795395001641736}, {\"document\": 3, \"term\": \"feit\", \"tfidf\": 0.15694765694612697}, {\"document\": 3, \"term\": \"arrest\", \"tfidf\": 0.15087900588178954}, {\"document\": 3, \"term\": \"afval\", \"tfidf\": 0.1470102805111584}, {\"document\": 3, \"term\": \"omstandigheid\", \"tfidf\": 0.12080482951828769}, {\"document\": 3, \"term\": \"strafbaar\", \"tfidf\": 0.11020218541361944}, {\"document\": 3, \"term\": \"hoger_beroep\", \"tfidf\": 0.10831703687085442}, {\"document\": 4, \"term\": \"benadelen\", \"tfidf\": 0.7569355863705525}, {\"document\": 4, \"term\": \"revolver\", \"tfidf\": 0.27295226643588855}, {\"document\": 4, \"term\": \"hof\", \"tfidf\": 0.1971473258500609}, {\"document\": 4, \"term\": \"wapen\", \"tfidf\": 0.1399019505019722}, {\"document\": 4, \"term\": \"verdenken\", \"tfidf\": 0.1360104307906871}, {\"document\": 4, \"term\": \"vuurwapen\", \"tfidf\": 0.1318636854432268}, {\"document\": 4, \"term\": \"verklaren\", \"tfidf\": 0.12060744623438138}, {\"document\": 4, \"term\": \"verklaring\", \"tfidf\": 0.11266896047633566}, {\"document\": 4, \"term\": \"kogel\", \"tfidf\": 0.11205199633022178}, {\"document\": 4, \"term\": \"schieten\", \"tfidf\": 0.09932427064129379}, {\"document\": 5, \"term\": \"liwa\", \"tfidf\": 0.5936917269469303}, {\"document\": 5, \"term\": \"tawhid\", \"tfidf\": 0.5937443530047767}, {\"document\": 5, \"term\": \"syrie\", \"tfidf\": 0.17261469843415111}, {\"document\": 5, \"term\": \"hof\", \"tfidf\": 0.1558146303346481}, {\"document\": 5, \"term\": \"salafistisch\", \"tfidf\": 0.14052027683023513}, {\"document\": 5, \"term\": \"geboorteplaats\", \"tfidf\": 0.13951871178991307}, {\"document\": 5, \"term\": \"organisatie\", \"tfidf\": 0.13665088191592187}, {\"document\": 5, \"term\": \"jihadi\", \"tfidf\": 0.11133654104414854}, {\"document\": 5, \"term\": \"vsl\", \"tfidf\": 0.11138000744418984}, {\"document\": 5, \"term\": \"sanctielijst\", \"tfidf\": 0.09795624778438597}, {\"document\": 6, \"term\": \"politierechter\", \"tfidf\": 0.25863393418614156}, {\"document\": 6, \"term\": \"factor\", \"tfidf\": 0.23097548803305923}, {\"document\": 6, \"term\": \"ernstige_bezwar\", \"tfidf\": 0.21638132317017048}, {\"document\": 6, \"term\": \"norm\", \"tfidf\": 0.21354897164234538}, {\"document\": 6, \"term\": \"verzuim\", \"tfidf\": 0.2026054568857946}, {\"document\": 6, \"term\": \"opiumwet\", \"tfidf\": 0.18317486950329867}, {\"document\": 6, \"term\": \"client\", \"tfidf\": 0.17303876349359174}, {\"document\": 6, \"term\": \"fouilleren\", \"tfidf\": 0.15459918793422364}, {\"document\": 6, \"term\": \"ingrijpende_inbreuk\", \"tfidf\": 0.14377394833839838}, {\"document\": 6, \"term\": \"onrustig\", \"tfidf\": 0.14374956299675906}, {\"document\": 7, \"term\": \"jukbeen\", \"tfidf\": 0.4036858876381656}, {\"document\": 7, \"term\": \"letsel\", \"tfidf\": 0.34254963922750337}, {\"document\": 7, \"term\": \"slachtoffer\", \"tfidf\": 0.273620190046073}, {\"document\": 7, \"term\": \"verdenken\", \"tfidf\": 0.24305733754893932}, {\"document\": 7, \"term\": \"breken\", \"tfidf\": 0.17549754203703305}, {\"document\": 7, \"term\": \"plaats\", \"tfidf\": 0.16909542188386703}, {\"document\": 7, \"term\": \"klap\", \"tfidf\": 0.16775332114856162}, {\"document\": 7, \"term\": \"zwaar_lichamelijk\", \"tfidf\": 0.15207501230161447}, {\"document\": 7, \"term\": \"opereren\", \"tfidf\": 0.14857619084363216}, {\"document\": 7, \"term\": \"tatoeage\", \"tfidf\": 0.14258339809551507}, {\"document\": 8, \"term\": \"goeree_overflakkee\", \"tfidf\": 0.47203419625008003}, {\"document\": 8, \"term\": \"hennep\", \"tfidf\": 0.2892254823005542}, {\"document\": 8, \"term\": \"hoeveelheid\", \"tfidf\": 0.2847161633289617}, {\"document\": 8, \"term\": \"elektriciteit\", \"tfidf\": 0.18873470870411777}, {\"document\": 8, \"term\": \"hennepplant\", \"tfidf\": 0.16113158188518786}, {\"document\": 8, \"term\": \"geval\", \"tfidf\": 0.15546288847661827}, {\"document\": 8, \"term\": \"telen\", \"tfidf\": 0.15544605734659622}, {\"document\": 8, \"term\": \"lijst_ii\", \"tfidf\": 0.15049231483087375}, {\"document\": 8, \"term\": \"ander\", \"tfidf\": 0.14955440684429944}, {\"document\": 8, \"term\": \"althans\", \"tfidf\": 0.14888831500109012}, {\"document\": 9, \"term\": \"still\", \"tfidf\": 0.3312320832998947}, {\"document\": 9, \"term\": \"hof\", \"tfidf\": 0.27261211975553234}, {\"document\": 9, \"term\": \"bedrijfsinbraak\", \"tfidf\": 0.21989051700796136}, {\"document\": 9, \"term\": \"honswijck\", \"tfidf\": 0.21986716804912104}, {\"document\": 9, \"term\": \"verdenken\", \"tfidf\": 0.19802736039412788}, {\"document\": 9, \"term\": \"herkenning\", \"tfidf\": 0.18568655353296037}, {\"document\": 9, \"term\": \"tenlastegelegen\", \"tfidf\": 0.16795845020029712}, {\"document\": 9, \"term\": \"inbraak\", \"tfidf\": 0.1653915897102079}, {\"document\": 9, \"term\": \"camerabeeld\", \"tfidf\": 0.1634474478188426}, {\"document\": 9, \"term\": \"uur\", \"tfidf\": 0.15958982184849974}, {\"document\": 10, \"term\": \"neerijn\", \"tfidf\": 0.5534471197309887}, {\"document\": 10, \"term\": \"kabel\", \"tfidf\": 0.39729240353347567}, {\"document\": 10, \"term\": \"benadelen\", \"tfidf\": 0.3202858697051212}, {\"document\": 10, \"term\": \"enig\", \"tfidf\": 0.20820298313039248}, {\"document\": 10, \"term\": \"geval\", \"tfidf\": 0.20787352113893973}, {\"document\": 10, \"term\": \"ander\", \"tfidf\": 0.19990145739061604}, {\"document\": 10, \"term\": \"goed\", \"tfidf\": 0.18800917068104664}, {\"document\": 10, \"term\": \"werknemer\", \"tfidf\": 0.1744761231589745}, {\"document\": 10, \"term\": \"gemeente\", \"tfidf\": 0.17011401640182727}, {\"document\": 10, \"term\": \"tijdstip_pen\", \"tfidf\": 0.14810667666991817}, {\"document\": 11, \"term\": \"vernieling\", \"tfidf\": 0.5158627923407212}, {\"document\": 11, \"term\": \"persoon\", \"tfidf\": 0.37960040543652585}, {\"document\": 11, \"term\": \"zaak\", \"tfidf\": 0.3568257622302943}, {\"document\": 11, \"term\": \"kliniek\", \"tfidf\": 0.32095826484340223}, {\"document\": 11, \"term\": \"bedreiging\", \"tfidf\": 0.2673035670881636}, {\"document\": 11, \"term\": \"garage\", \"tfidf\": 0.25424571544589725}, {\"document\": 11, \"term\": \"kort_samengevat\", \"tfidf\": 0.2508415302373662}, {\"document\": 11, \"term\": \"muur\", \"tfidf\": 0.23631578336174183}, {\"document\": 11, \"term\": \"naam\", \"tfidf\": 0.17368272756713588}, {\"document\": 11, \"term\": \"deur\", \"tfidf\": 0.16245372720829723}, {\"document\": 12, \"term\": \"feitelijke_verhouding\", \"tfidf\": 0.33180678822509}, {\"document\": 12, \"term\": \"voortvloeiend_overwicht\", \"tfidf\": 0.30514964719312904}, {\"document\": 12, \"term\": \"geslachtsdeel\", \"tfidf\": 0.2958609716455363}, {\"document\": 12, \"term\": \"slachtoffer\", \"tfidf\": 0.2626918410401564}, {\"document\": 12, \"term\": \"ontuchtige_handeling\", \"tfidf\": 0.2470574270866099}, {\"document\": 12, \"term\": \"hellendoorn\", \"tfidf\": 0.22764667069918113}, {\"document\": 12, \"term\": \"duld\", \"tfidf\": 0.20071288386992187}, {\"document\": 12, \"term\": \"zoen\", \"tfidf\": 0.1745165877262995}, {\"document\": 12, \"term\": \"handeling\", \"tfidf\": 0.1715509501689777}, {\"document\": 12, \"term\": \"aftrekken\", \"tfidf\": 0.16445687568723816}, {\"document\": 13, \"term\": \"slachtoffer\", \"tfidf\": 0.30550409269026485}, {\"document\": 13, \"term\": \"celmateriaal\", \"tfidf\": 0.2964534710805991}, {\"document\": 13, \"term\": \"overvaller\", \"tfidf\": 0.20121682194963192}, {\"document\": 13, \"term\": \"dader\", \"tfidf\": 0.1932036089979584}, {\"document\": 13, \"term\": \"kelder\", \"tfidf\": 0.182017467518958}, {\"document\": 13, \"term\": \"aangever\", \"tfidf\": 0.17894399305136435}, {\"document\": 13, \"term\": \"bemonstering\", \"tfidf\": 0.17713011814917193}, {\"document\": 13, \"term\": \"regenbroek\", \"tfidf\": 0.16037318535280384}, {\"document\": 13, \"term\": \"regenjas\", \"tfidf\": 0.16039753752569094}, {\"document\": 13, \"term\": \"volgen\", \"tfidf\": 0.14118393901634418}, {\"document\": 14, \"term\": \"aangever\", \"tfidf\": 0.5083516220514827}, {\"document\": 14, \"term\": \"lokaal\", \"tfidf\": 0.3510335738981936}, {\"document\": 14, \"term\": \"hof\", \"tfidf\": 0.2000777463725889}, {\"document\": 14, \"term\": \"medeverdacht\", \"tfidf\": 0.19084301659390698}, {\"document\": 14, \"term\": \"trap\", \"tfidf\": 0.15386941134245452}, {\"document\": 14, \"term\": \"school\", \"tfidf\": 0.15126444449476611}, {\"document\": 14, \"term\": \"verdenken\", \"tfidf\": 0.14304375453262771}, {\"document\": 14, \"term\": \"docent\", \"tfidf\": 0.14303999217006386}, {\"document\": 14, \"term\": \"lokaal_lokaal\", \"tfidf\": 0.14302309333508492}, {\"document\": 14, \"term\": \"getuige\", \"tfidf\": 0.13994410241374253}, {\"document\": 15, \"term\": \"hekwerk\", \"tfidf\": 0.396932205958025}, {\"document\": 15, \"term\": \"bedrijf\", \"tfidf\": 0.3679993092656805}, {\"document\": 15, \"term\": \"ander\", \"tfidf\": 0.2715620580227107}, {\"document\": 15, \"term\": \"voornoemd\", \"tfidf\": 0.26297594544679453}, {\"document\": 15, \"term\": \"althans\", \"tfidf\": 0.2212472758041237}, {\"document\": 15, \"term\": \"westhavenweg\", \"tfidf\": 0.21926455923946642}, {\"document\": 15, \"term\": \"apparatuur\", \"tfidf\": 0.19428023902392078}, {\"document\": 15, \"term\": \"openbare_weg\", \"tfidf\": 0.18441363893367763}, {\"document\": 15, \"term\": \"lange_tijd\", \"tfidf\": 0.17354908522077692}, {\"document\": 15, \"term\": \"hond\", \"tfidf\": 0.16370525166155397}, {\"document\": 16, \"term\": \"telen\", \"tfidf\": 0.38123734580139956}, {\"document\": 16, \"term\": \"betrokken\", \"tfidf\": 0.36496244653894383}, {\"document\": 16, \"term\": \"afleveren\", \"tfidf\": 0.3571977175499391}, {\"document\": 16, \"term\": \"bewerken\", \"tfidf\": 0.3456517799800285}, {\"document\": 16, \"term\": \"bereid\", \"tfidf\": 0.3334469564410117}, {\"document\": 16, \"term\": \"verwerken\", \"tfidf\": 0.32706933929145704}, {\"document\": 16, \"term\": \"verkopen\", \"tfidf\": 0.3178341914463643}, {\"document\": 16, \"term\": \"verstrekken\", \"tfidf\": 0.29983893657516864}, {\"document\": 16, \"term\": \"opzettelijk\", \"tfidf\": 0.1468931516323814}, {\"document\": 16, \"term\": \"last\", \"tfidf\": 0.11490192822756945}, {\"document\": 17, \"term\": \"benadelen\", \"tfidf\": 0.6695327998180631}, {\"document\": 17, \"term\": \"alias\", \"tfidf\": 0.3891926960261707}, {\"document\": 17, \"term\": \"onderdak\", \"tfidf\": 0.1693828661158719}, {\"document\": 17, \"term\": \"perso\", \"tfidf\": 0.15595376414638368}, {\"document\": 17, \"term\": \"aangever\", \"tfidf\": 0.15244181675453888}, {\"document\": 17, \"term\": \"verblijf\", \"tfidf\": 0.14888860451787836}, {\"document\": 17, \"term\": \"hof\", \"tfidf\": 0.11860129219632551}, {\"document\": 17, \"term\": \"werkdag\", \"tfidf\": 0.11775005766259633}, {\"document\": 17, \"term\": \"illegaal\", \"tfidf\": 0.10797331620136341}, {\"document\": 17, \"term\": \"uitbuiting\", \"tfidf\": 0.10545056912051375}, {\"document\": 18, \"term\": \"hof\", \"tfidf\": 0.4920667528814284}, {\"document\": 18, \"term\": \"verdenken\", \"tfidf\": 0.2658586853746156}, {\"document\": 18, \"term\": \"handschoen\", \"tfidf\": 0.18257222037674609}, {\"document\": 18, \"term\": \"jongen\", \"tfidf\": 0.15380979081464663}, {\"document\": 18, \"term\": \"woning\", \"tfidf\": 0.15228323470346422}, {\"document\": 18, \"term\": \"braak\", \"tfidf\": 0.14697179294210544}, {\"document\": 18, \"term\": \"koevoet\", \"tfidf\": 0.14680971914949703}, {\"document\": 18, \"term\": \"achterdeur\", \"tfidf\": 0.12766477460145445}, {\"document\": 18, \"term\": \"kortenbospad\", \"tfidf\": 0.11725114040560224}, {\"document\": 18, \"term\": \"poging\", \"tfidf\": 0.1155674551271148}, {\"document\": 19, \"term\": \"slachtoffer\", \"tfidf\": 0.3611841578209911}, {\"document\": 19, \"term\": \"voornoemd\", \"tfidf\": 0.28696910902219713}, {\"document\": 19, \"term\": \"geweld\", \"tfidf\": 0.2668187965835248}, {\"document\": 19, \"term\": \"venlo\", \"tfidf\": 0.262201830618602}, {\"document\": 19, \"term\": \"tong\", \"tfidf\": 0.23410232035594286}, {\"document\": 19, \"term\": \"woorden_toegevoegd\", \"tfidf\": 0.2167372371720694}, {\"document\": 19, \"term\": \"pincod\", \"tfidf\": 0.16908047460065048}, {\"document\": 19, \"term\": \"blerick\", \"tfidf\": 0.1647851416667728}, {\"document\": 19, \"term\": \"hebt_inleveren\", \"tfidf\": 0.16481556393463573}, {\"document\": 19, \"term\": \"woning\", \"tfidf\": 0.15075615055468214}, {\"document\": 20, \"term\": \"hennep\", \"tfidf\": 0.37188255296615447}, {\"document\": 20, \"term\": \"hennepplant\", \"tfidf\": 0.29599898424490073}, {\"document\": 20, \"term\": \"liand\", \"tfidf\": 0.2028121162562755}, {\"document\": 20, \"term\": \"gram\", \"tfidf\": 0.18623644864012903}, {\"document\": 20, \"term\": \"pand\", \"tfidf\": 0.1816201615233376}, {\"document\": 20, \"term\": \"opzettelijk\", \"tfidf\": 0.17596104692213524}, {\"document\": 20, \"term\": \"hoeveelheid\", \"tfidf\": 0.17439874992613946}, {\"document\": 20, \"term\": \"persoon\", \"tfidf\": 0.171544730208842}, {\"document\": 20, \"term\": \"telen\", \"tfidf\": 0.1713467944425219}, {\"document\": 20, \"term\": \"kweek\", \"tfidf\": 0.15495533663964248}, {\"document\": 21, \"term\": \"naam\", \"tfidf\": 0.3272435722240121}, {\"document\": 21, \"term\": \"geweld\", \"tfidf\": 0.28656445542492465}, {\"document\": 21, \"term\": \"fles\", \"tfidf\": 0.26660837634503903}, {\"document\": 21, \"term\": \"gereedschap\", \"tfidf\": 0.23564806730318205}, {\"document\": 21, \"term\": \"slachtoffer\", \"tfidf\": 0.22969870987265462}, {\"document\": 21, \"term\": \"sterke_drank\", \"tfidf\": 0.21232010088803904}, {\"document\": 21, \"term\": \"verdenken\", \"tfidf\": 0.1869755561039562}, {\"document\": 21, \"term\": \"diefstal\", \"tfidf\": 0.16702022336208228}, {\"document\": 21, \"term\": \"dordrecht\", \"tfidf\": 0.1627952142466353}, {\"document\": 21, \"term\": \"inhouden\", \"tfidf\": 0.16169116577356876}, {\"document\": 22, \"term\": \"categorie\", \"tfidf\": 0.7401039038000207}, {\"document\": 22, \"term\": \"motorrijtuig\", \"tfidf\": 0.29749217009631757}, {\"document\": 22, \"term\": \"rijbewijs\", \"tfidf\": 0.2767661832175355}, {\"document\": 22, \"term\": \"besturen\", \"tfidf\": 0.2609109680810095}, {\"document\": 22, \"term\": \"ongeldig\", \"tfidf\": 0.20821248992268035}, {\"document\": 22, \"term\": \"motorrijtuig_personenauto\", \"tfidf\": 0.16500264723067504}, {\"document\": 22, \"term\": \"weg\", \"tfidf\": 0.14388242455374323}, {\"document\": 22, \"term\": \"adres\", \"tfidf\": 0.14342327228195673}, {\"document\": 22, \"term\": \"afgeven\", \"tfidf\": 0.1378517115602007}, {\"document\": 22, \"term\": \"weten\", \"tfidf\": 0.13700378337263305}, {\"document\": 23, \"term\": \"chocobroodje\", \"tfidf\": 0.559011263501311}, {\"document\": 23, \"term\": \"draagtas\", \"tfidf\": 0.5590843285218968}, {\"document\": 23, \"term\": \"bedrijf\", \"tfidf\": 0.4300784737802387}, {\"document\": 23, \"term\": \"geval\", \"tfidf\": 0.21000274275387446}, {\"document\": 23, \"term\": \"toebehoren\", \"tfidf\": 0.1876614122978254}, {\"document\": 23, \"term\": \"deel\", \"tfidf\": 0.1614549447459692}, {\"document\": 23, \"term\": \"geheel\", \"tfidf\": 0.13657298998857456}, {\"document\": 23, \"term\": \"goed\", \"tfidf\": 0.12665073367754648}, {\"document\": 23, \"term\": \"ander\", \"tfidf\": 0.10098217283379654}, {\"document\": 23, \"term\": \"weten\", \"tfidf\": 0.10015878645206473}, {\"document\": 24, \"term\": \"benadelen\", \"tfidf\": 0.5643655236895687}, {\"document\": 24, \"term\": \"hak\", \"tfidf\": 0.36563923781618385}, {\"document\": 24, \"term\": \"machet\", \"tfidf\": 0.3322843912012969}, {\"document\": 24, \"term\": \"lichaam\", \"tfidf\": 0.22801814331703163}, {\"document\": 24, \"term\": \"slaan\", \"tfidf\": 0.22808497340843858}, {\"document\": 24, \"term\": \"schoppen_trapp\", \"tfidf\": 0.2237335309710784}, {\"document\": 24, \"term\": \"samenvatten\", \"tfidf\": 0.20769312875774307}, {\"document\": 24, \"term\": \"snijden\", \"tfidf\": 0.1950171767409852}, {\"document\": 24, \"term\": \"zware_mishandeling\", \"tfidf\": 0.1507344285832023}, {\"document\": 24, \"term\": \"steken\", \"tfidf\": 0.1461934602653495}, {\"document\": 25, \"term\": \"zeer_krachtig\", \"tfidf\": 0.3667041287244541}, {\"document\": 25, \"term\": \"gemeente\", \"tfidf\": 0.33658087209000825}, {\"document\": 25, \"term\": \"slachtoffer\", \"tfidf\": 0.2645599982898008}, {\"document\": 25, \"term\": \"partij\", \"tfidf\": 0.2547746553552204}, {\"document\": 25, \"term\": \"benadelen\", \"tfidf\": 0.22248344400252656}, {\"document\": 25, \"term\": \"keel\", \"tfidf\": 0.19919010274198828}, {\"document\": 25, \"term\": \"drukken\", \"tfidf\": 0.17954210284880578}, {\"document\": 25, \"term\": \"armgreep\", \"tfidf\": 0.1730443844702795}, {\"document\": 25, \"term\": \"benemen\", \"tfidf\": 0.17300422472590268}, {\"document\": 25, \"term\": \"voorgenomen_misdrijf\", \"tfidf\": 0.17153980943333544}, {\"document\": 26, \"term\": \"opzettelijk\", \"tfidf\": 0.35592557521596074}, {\"document\": 26, \"term\": \"naam\", \"tfidf\": 0.3111005646985498}, {\"document\": 26, \"term\": \"slachtoffer\", \"tfidf\": 0.3073275119293751}, {\"document\": 26, \"term\": \"voorbedachten_rade\", \"tfidf\": 0.2792316252796833}, {\"document\": 26, \"term\": \"gezicht\", \"tfidf\": 0.2471640180751768}, {\"document\": 26, \"term\": \"schedelbasis\", \"tfidf\": 0.23448534109773692}, {\"document\": 26, \"term\": \"vlaarding\", \"tfidf\": 0.20619226089466428}, {\"document\": 26, \"term\": \"vlaardingen\", \"tfidf\": 0.20612255116166045}, {\"document\": 26, \"term\": \"hard\", \"tfidf\": 0.2015994007755079}, {\"document\": 26, \"term\": \"kracht\", \"tfidf\": 0.17865934512160758}, {\"document\": 27, \"term\": \"aangever\", \"tfidf\": 0.632686068289905}, {\"document\": 27, \"term\": \"bevelen\", \"tfidf\": 0.29708129767573604}, {\"document\": 27, \"term\": \"aangev\", \"tfidf\": 0.27122370710796256}, {\"document\": 27, \"term\": \"wel\", \"tfidf\": 0.19149859608111236}, {\"document\": 27, \"term\": \"hardenberg\", \"tfidf\": 0.17782848878436247}, {\"document\": 27, \"term\": \"beletten\", \"tfidf\": 0.15559053768037662}, {\"document\": 27, \"term\": \"dwingen\", \"tfidf\": 0.14310363707305898}, {\"document\": 27, \"term\": \"naakt\", \"tfidf\": 0.13954528553976678}, {\"document\": 27, \"term\": \"vervolgens\", \"tfidf\": 0.11194024007807521}, {\"document\": 27, \"term\": \"ander\", \"tfidf\": 0.10359884235123232}, {\"document\": 28, \"term\": \"geldautomaat\", \"tfidf\": 0.46555518229849036}, {\"document\": 28, \"term\": \"verbalisant\", \"tfidf\": 0.24004267648923108}, {\"document\": 28, \"term\": \"gerecht\", \"tfidf\": 0.21418301988585361}, {\"document\": 28, \"term\": \"verdenken\", \"tfidf\": 0.18041818130208923}, {\"document\": 28, \"term\": \"shirt\", \"tfidf\": 0.15836525201651463}, {\"document\": 28, \"term\": \"man\", \"tfidf\": 0.15249906066936625}, {\"document\": 28, \"term\": \"kabel\", \"tfidf\": 0.15027596310811603}, {\"document\": 28, \"term\": \"relaas\", \"tfidf\": 0.1349633487389186}, {\"document\": 28, \"term\": \"geldsleuf\", \"tfidf\": 0.12192090289978195}, {\"document\": 28, \"term\": \"pagina\", \"tfidf\": 0.11548218408728805}, {\"document\": 29, \"term\": \"snijdend_voorwerp\", \"tfidf\": 0.33262793734229557}, {\"document\": 29, \"term\": \"puntig\", \"tfidf\": 0.2684418147007704}, {\"document\": 29, \"term\": \"prikken\", \"tfidf\": 0.2595096640629686}, {\"document\": 29, \"term\": \"slachtoffer\", \"tfidf\": 0.24081962758472944}, {\"document\": 29, \"term\": \"gelijken\", \"tfidf\": 0.2282256010038424}, {\"document\": 29, \"term\": \"linker\", \"tfidf\": 0.22224944392898974}, {\"document\": 29, \"term\": \"snijden\", \"tfidf\": 0.20738175885459395}, {\"document\": 29, \"term\": \"perforeren\", \"tfidf\": 0.20435722759107125}, {\"document\": 29, \"term\": \"kroeg\", \"tfidf\": 0.1945435023620573}, {\"document\": 29, \"term\": \"althans\", \"tfidf\": 0.18655999154525696}, {\"document\": 30, \"term\": \"postpakket\", \"tfidf\": 0.7106309596453266}, {\"document\": 30, \"term\": \"mdma\", \"tfidf\": 0.309641240751418}, {\"document\": 30, \"term\": \"indicatieve_test\", \"tfidf\": 0.19671718058945725}, {\"document\": 30, \"term\": \"versturen\", \"tfidf\": 0.15105307136320126}, {\"document\": 30, \"term\": \"verdenken\", \"tfidf\": 0.13861336814970363}, {\"document\": 30, \"term\": \"betekenisvol\", \"tfidf\": 0.13850824360854125}, {\"document\": 30, \"term\": \"pakket\", \"tfidf\": 0.13365981097207771}, {\"document\": 30, \"term\": \"sealbag\", \"tfidf\": 0.12181754865344756}, {\"document\": 30, \"term\": \"persoon\", \"tfidf\": 0.11716973912080601}, {\"document\": 30, \"term\": \"uitvoer\", \"tfidf\": 0.09747052680884556}, {\"document\": 31, \"term\": \"kasboek\", \"tfidf\": 0.6889878177089861}, {\"document\": 31, \"term\": \"getuige\", \"tfidf\": 0.3043462778198384}, {\"document\": 31, \"term\": \"verdenken\", \"tfidf\": 0.17013368324714614}, {\"document\": 31, \"term\": \"medeverdacht\", \"tfidf\": 0.1532532161965727}, {\"document\": 31, \"term\": \"coke\", \"tfidf\": 0.13679421581219053}, {\"document\": 31, \"term\": \"naam\", \"tfidf\": 0.13076059259224948}, {\"document\": 31, \"term\": \"verklaring\", \"tfidf\": 0.12552456008631693}, {\"document\": 31, \"term\": \"dossier\", \"tfidf\": 0.12060024605338829}, {\"document\": 31, \"term\": \"rechtbank\", \"tfidf\": 0.1164851455067632}, {\"document\": 31, \"term\": \"gram\", \"tfidf\": 0.11427097829057412}, {\"document\": 32, \"term\": \"kasboek\", \"tfidf\": 0.6875576620794644}, {\"document\": 32, \"term\": \"verdenken\", \"tfidf\": 0.24435152511404212}, {\"document\": 32, \"term\": \"getuige\", \"tfidf\": 0.2429758492379419}, {\"document\": 32, \"term\": \"gram\", \"tfidf\": 0.18527304499393846}, {\"document\": 32, \"term\": \"cocaine\", \"tfidf\": 0.18043783023944215}, {\"document\": 32, \"term\": \"verklaring\", \"tfidf\": 0.14869912186023118}, {\"document\": 32, \"term\": \"medeverdacht\", \"tfidf\": 0.14340107747340394}, {\"document\": 32, \"term\": \"rechtbank\", \"tfidf\": 0.13795278724827922}, {\"document\": 32, \"term\": \"verschuldigen\", \"tfidf\": 0.13103128702568326}, {\"document\": 32, \"term\": \"dossier\", \"tfidf\": 0.11117992707366911}, {\"document\": 33, \"term\": \"handelsnaam\", \"tfidf\": 0.7160607231354165}, {\"document\": 33, \"term\": \"getuige\", \"tfidf\": 0.22595395567560322}, {\"document\": 33, \"term\": \"naam\", \"tfidf\": 0.20432216541686696}, {\"document\": 33, \"term\": \"functionaris\", \"tfidf\": 0.19284161193064028}, {\"document\": 33, \"term\": \"geheim\", \"tfidf\": 0.16406665274115248}, {\"document\": 33, \"term\": \"verplichten\", \"tfidf\": 0.16245479820452335}, {\"document\": 33, \"term\": \"nederland\", \"tfidf\": 0.15658662757767655}, {\"document\": 33, \"term\": \"wettelijk_voorschrift\", \"tfidf\": 0.14562945551839557}, {\"document\": 33, \"term\": \"mevrouw\", \"tfidf\": 0.14470367877286164}, {\"document\": 33, \"term\": \"opzoeken\", \"tfidf\": 0.14472104769940927}, {\"document\": 34, \"term\": \"telkens\", \"tfidf\": 0.3391638531750771}, {\"document\": 34, \"term\": \"financierings\", \"tfidf\": 0.24836438775960054}, {\"document\": 34, \"term\": \"nijmegen\", \"tfidf\": 0.22640282451736227}, {\"document\": 34, \"term\": \"ster\", \"tfidf\": 0.22640653542002906}, {\"document\": 34, \"term\": \"aangever\", \"tfidf\": 0.20774250105489284}, {\"document\": 34, \"term\": \"aangifte\", \"tfidf\": 0.18928818006399753}, {\"document\": 34, \"term\": \"instelling\", \"tfidf\": 0.1854980692341026}, {\"document\": 34, \"term\": \"vorenomschreven_oogmerk\", \"tfidf\": 0.17696433450106377}, {\"document\": 34, \"term\": \"listiglijk\", \"tfidf\": 0.17089874058627663}, {\"document\": 34, \"term\": \"bevoordelen\", \"tfidf\": 0.1681864014549048}, {\"document\": 35, \"term\": \"verdenken\", \"tfidf\": 0.368119370750141}, {\"document\": 35, \"term\": \"hof\", \"tfidf\": 0.28720001062408246}, {\"document\": 35, \"term\": \"overval\", \"tfidf\": 0.21539820523477893}, {\"document\": 35, \"term\": \"medeverdachte\", \"tfidf\": 0.21455049707825735}, {\"document\": 35, \"term\": \"politie\", \"tfidf\": 0.19556372543130626}, {\"document\": 35, \"term\": \"geweld\", \"tfidf\": 0.1634346532917816}, {\"document\": 35, \"term\": \"bedreiging\", \"tfidf\": 0.16018049186805897}, {\"document\": 35, \"term\": \"geldwagen\", \"tfidf\": 0.1568339989783791}, {\"document\": 35, \"term\": \"plan\", \"tfidf\": 0.15625174995988295}, {\"document\": 35, \"term\": \"afpersing\", \"tfidf\": 0.15569332950575207}, {\"document\": 36, \"term\": \"slachtoffer\", \"tfidf\": 0.5188871041885651}, {\"document\": 36, \"term\": \"hof\", \"tfidf\": 0.27822015398477606}, {\"document\": 36, \"term\": \"verdenken\", \"tfidf\": 0.25566065362962753}, {\"document\": 36, \"term\": \"verbalisant\", \"tfidf\": 0.2431627717225295}, {\"document\": 36, \"term\": \"val\", \"tfidf\": 0.20693145632091944}, {\"document\": 36, \"term\": \"worsteling\", \"tfidf\": 0.1838796837629855}, {\"document\": 36, \"term\": \"letsel\", \"tfidf\": 0.16713496430729188}, {\"document\": 36, \"term\": \"parketnumm\", \"tfidf\": 0.16384975494609327}, {\"document\": 36, \"term\": \"zaak\", \"tfidf\": 0.1325554241850411}, {\"document\": 36, \"term\": \"ontstaan\", \"tfidf\": 0.12434369751340292}, {\"document\": 37, \"term\": \"hennepplant\", \"tfidf\": 0.42693692471974287}, {\"document\": 37, \"term\": \"hoeveelheid\", \"tfidf\": 0.37727570104921215}, {\"document\": 37, \"term\": \"heteren\", \"tfidf\": 0.3322657626826331}, {\"document\": 37, \"term\": \"lijst_ii\", \"tfidf\": 0.19931925993046787}, {\"document\": 37, \"term\": \"hennep\", \"tfidf\": 0.1915687138995943}, {\"document\": 37, \"term\": \"aangewezen_krachtens\", \"tfidf\": 0.18973967866899524}, {\"document\": 37, \"term\": \"tijdstip_p\", \"tfidf\": 0.17571308513873718}, {\"document\": 37, \"term\": \"opiumwet_behorenen\", \"tfidf\": 0.17031534787138788}, {\"document\": 37, \"term\": \"middel\", \"tfidf\": 0.16663391105483058}, {\"document\": 37, \"term\": \"althans\", \"tfidf\": 0.16443147659611493}, {\"document\": 38, \"term\": \"geldautomaat\", \"tfidf\": 0.46551152246669236}, {\"document\": 38, \"term\": \"verbalisant\", \"tfidf\": 0.2401224923812615}, {\"document\": 38, \"term\": \"gerecht\", \"tfidf\": 0.21415404335347402}, {\"document\": 38, \"term\": \"verdenken\", \"tfidf\": 0.18045510594432748}, {\"document\": 38, \"term\": \"shirt\", \"tfidf\": 0.15837303740386613}, {\"document\": 38, \"term\": \"man\", \"tfidf\": 0.152429979270435}, {\"document\": 38, \"term\": \"kabel\", \"tfidf\": 0.150276632685588}, {\"document\": 38, \"term\": \"relaas\", \"tfidf\": 0.13502646198228951}, {\"document\": 38, \"term\": \"geldsleuf\", \"tfidf\": 0.1219570570984367}, {\"document\": 38, \"term\": \"pagina\", \"tfidf\": 0.1154241745488148}, {\"document\": 39, \"term\": \"verkort_vonni\", \"tfidf\": 0.5179321804298146}, {\"document\": 39, \"term\": \"aanvulling\", \"tfidf\": 0.23609515936964126}, {\"document\": 39, \"term\": \"juwelier\", \"tfidf\": 0.23064529262304323}, {\"document\": 39, \"term\": \"woningoverval\", \"tfidf\": 0.20980526754680312}, {\"document\": 39, \"term\": \"mede\", \"tfidf\": 0.205769720018366}, {\"document\": 39, \"term\": \"wapenen\", \"tfidf\": 0.2025884755181636}, {\"document\": 39, \"term\": \"braak\", \"tfidf\": 0.17680051740275157}, {\"document\": 39, \"term\": \"geweld\", \"tfidf\": 0.17307140534429857}, {\"document\": 39, \"term\": \"feit\", \"tfidf\": 0.1680530730798883}, {\"document\": 39, \"term\": \"gebruiken\", \"tfidf\": 0.1644832813262808}, {\"document\": 40, \"term\": \"kledingwinkel\", \"tfidf\": 0.8901052183583741}, {\"document\": 40, \"term\": \"breken\", \"tfidf\": 0.24162008923664863}, {\"document\": 40, \"term\": \"verwijten\", \"tfidf\": 0.22652992416641132}, {\"document\": 40, \"term\": \"proberen\", \"tfidf\": 0.1716592381095229}, {\"document\": 40, \"term\": \"samen\", \"tfidf\": 0.14056011752320013}, {\"document\": 40, \"term\": \"zeggen\", \"tfidf\": 0.12318239487452566}, {\"document\": 40, \"term\": \"kort\", \"tfidf\": 0.11952812065486051}, {\"document\": 40, \"term\": \"naam\", \"tfidf\": 0.1040338276552133}, {\"document\": 40, \"term\": \"tenlastelegging\", \"tfidf\": 0.06887002140460392}, {\"document\": 40, \"term\": \"verdenken\", \"tfidf\": 0.06272728808101632}, {\"document\": 41, \"term\": \"geluiddemper\", \"tfidf\": 0.40537995411046135}, {\"document\": 41, \"term\": \"dna\", \"tfidf\": 0.3812172957091972}, {\"document\": 41, \"term\": \"wapen\", \"tfidf\": 0.32985124475875566}, {\"document\": 41, \"term\": \"vuurwapen\", \"tfidf\": 0.19459275973322387}, {\"document\": 41, \"term\": \"verdenken\", \"tfidf\": 0.18264650774843488}, {\"document\": 41, \"term\": \"rugzak\", \"tfidf\": 0.18008592129359366}, {\"document\": 41, \"term\": \"munitie\", \"tfidf\": 0.17307659341779724}, {\"document\": 41, \"term\": \"willekeurige_onbekenen\", \"tfidf\": 0.1660383261396783}, {\"document\": 41, \"term\": \"wanneer_hypothese\", \"tfidf\": 0.16094351467789128}, {\"document\": 41, \"term\": \"aantreffen\", \"tfidf\": 0.1497694259830356}, {\"document\": 42, \"term\": \"zware_mishandeling\", \"tfidf\": 0.4505030775389706}, {\"document\": 42, \"term\": \"persoon\", \"tfidf\": 0.35222437252537137}, {\"document\": 42, \"term\": \"mes\", \"tfidf\": 0.3042808561817633}, {\"document\": 42, \"term\": \"steken\", \"tfidf\": 0.2913388875772803}, {\"document\": 42, \"term\": \"poging\", \"tfidf\": 0.2873574485378924}, {\"document\": 42, \"term\": \"kopstoot\", \"tfidf\": 0.2676576193559351}, {\"document\": 42, \"term\": \"kort_samengevat\", \"tfidf\": 0.23278490403886726}, {\"document\": 42, \"term\": \"primair\", \"tfidf\": 0.20829973139219152}, {\"document\": 42, \"term\": \"buik\", \"tfidf\": 0.1957139723087329}, {\"document\": 42, \"term\": \"subsidiair\", \"tfidf\": 0.18901882580060148}, {\"document\": 43, \"term\": \"schietoefening\", \"tfidf\": 0.35373978678441964}, {\"document\": 43, \"term\": \"wapen\", \"tfidf\": 0.2953675603258172}, {\"document\": 43, \"term\": \"ontlad\", \"tfidf\": 0.23585241842244759}, {\"document\": 43, \"term\": \"sergeant\", \"tfidf\": 0.22319912244511358}, {\"document\": 43, \"term\": \"schietpunt\", \"tfidf\": 0.21227214484430335}, {\"document\": 43, \"term\": \"slachtoffer\", \"tfidf\": 0.2009667141058829}, {\"document\": 43, \"term\": \"militaire_kamer\", \"tfidf\": 0.18660065426119787}, {\"document\": 43, \"term\": \"trekker\", \"tfidf\": 0.17900723651974002}, {\"document\": 43, \"term\": \"bevel\", \"tfidf\": 0.1758706330806382}, {\"document\": 43, \"term\": \"schot\", \"tfidf\": 0.15964765200601003}, {\"document\": 44, \"term\": \"naam\", \"tfidf\": 0.35748534659816505}, {\"document\": 44, \"term\": \"slachtoffer\", \"tfidf\": 0.3178064817982595}, {\"document\": 44, \"term\": \"herkenning\", \"tfidf\": 0.2730410898646976}, {\"document\": 44, \"term\": \"dader\", \"tfidf\": 0.22009248465843462}, {\"document\": 44, \"term\": \"camerabeeld\", \"tfidf\": 0.2060536106609992}, {\"document\": 44, \"term\": \"voorgenomen_misdrijf\", \"tfidf\": 0.19597068468230233}, {\"document\": 44, \"term\": \"uitvoering\", \"tfidf\": 0.18094922623746695}, {\"document\": 44, \"term\": \"voorhouden\", \"tfidf\": 0.165756152794636}, {\"document\": 44, \"term\": \"geweld\", \"tfidf\": 0.16517211081192615}, {\"document\": 44, \"term\": \"geld\", \"tfidf\": 0.15704330918951867}, {\"document\": 45, \"term\": \"hof\", \"tfidf\": 0.42168555700776583}, {\"document\": 45, \"term\": \"dossierpagina\", \"tfidf\": 0.22672825498318583}, {\"document\": 45, \"term\": \"verdenken\", \"tfidf\": 0.22121943269900704}, {\"document\": 45, \"term\": \"oplegging\", \"tfidf\": 0.16741603588399778}, {\"document\": 45, \"term\": \"gevangenisstraf\", \"tfidf\": 0.15039041399040193}, {\"document\": 45, \"term\": \"omstandigheid\", \"tfidf\": 0.15014485143980888}, {\"document\": 45, \"term\": \"feit\", \"tfidf\": 0.14624573843912544}, {\"document\": 45, \"term\": \"strafbaar\", \"tfidf\": 0.13696755842403868}, {\"document\": 45, \"term\": \"aangever\", \"tfidf\": 0.13556028918111962}, {\"document\": 45, \"term\": \"duur\", \"tfidf\": 0.13313656812206842}, {\"document\": 46, \"term\": \"hof\", \"tfidf\": 0.29925556386251795}, {\"document\": 46, \"term\": \"verdenken\", \"tfidf\": 0.23246056104707621}, {\"document\": 46, \"term\": \"werkstraf\", \"tfidf\": 0.22352341998976996}, {\"document\": 46, \"term\": \"kind\", \"tfidf\": 0.21390485635058024}, {\"document\": 46, \"term\": \"seksueel\", \"tfidf\": 0.1795903108756397}, {\"document\": 46, \"term\": \"relatie\", \"tfidf\": 0.17682256387524986}, {\"document\": 46, \"term\": \"straf\", \"tfidf\": 0.17067401926382728}, {\"document\": 46, \"term\": \"verklaren\", \"tfidf\": 0.12367857310051907}, {\"document\": 46, \"term\": \"leeftijd\", \"tfidf\": 0.12368153413272491}, {\"document\": 46, \"term\": \"ernst\", \"tfidf\": 0.12009288316840584}, {\"document\": 47, \"term\": \"overval\", \"tfidf\": 0.32881671317937594}, {\"document\": 47, \"term\": \"medeverdacht\", \"tfidf\": 0.3072359196484329}, {\"document\": 47, \"term\": \"jongen\", \"tfidf\": 0.2442081523546314}, {\"document\": 47, \"term\": \"woonplaats\", \"tfidf\": 0.21863594865492172}, {\"document\": 47, \"term\": \"kassa\", \"tfidf\": 0.1796278356899279}, {\"document\": 47, \"term\": \"slachtoffer\", \"tfidf\": 0.1743590166406827}, {\"document\": 47, \"term\": \"gewoon\", \"tfidf\": 0.1537812072873202}, {\"document\": 47, \"term\": \"toonbank\", \"tfidf\": 0.15035307234997475}, {\"document\": 47, \"term\": \"zien\", \"tfidf\": 0.1325444584672752}, {\"document\": 47, \"term\": \"verdenken\", \"tfidf\": 0.1277264512721799}, {\"document\": 48, \"term\": \"ander\", \"tfidf\": 0.37673334045227697}, {\"document\": 48, \"term\": \"toeeigening\", \"tfidf\": 0.3656656417182636}, {\"document\": 48, \"term\": \"ov_chipkaart\", \"tfidf\": 0.32912976091831836}, {\"document\": 48, \"term\": \"dele_toebehorenen\", \"tfidf\": 0.2903732977591808}, {\"document\": 48, \"term\": \"roze\", \"tfidf\": 0.29034950827703926}, {\"document\": 48, \"term\": \"wegnemen\", \"tfidf\": 0.22763780820622906}, {\"document\": 48, \"term\": \"geval\", \"tfidf\": 0.19591033878333322}, {\"document\": 48, \"term\": \"portemonnee\", \"tfidf\": 0.19028205133725642}, {\"document\": 48, \"term\": \"kleur\", \"tfidf\": 0.18741550360454043}, {\"document\": 48, \"term\": \"bankpas\", \"tfidf\": 0.17752542640014402}, {\"document\": 49, \"term\": \"snorfiets\", \"tfidf\": 0.552831575063689}, {\"document\": 49, \"term\": \"bouwlustlaan\", \"tfidf\": 0.2751255114650602}, {\"document\": 49, \"term\": \"afslaan\", \"tfidf\": 0.2688590925926777}, {\"document\": 49, \"term\": \"rijden\", \"tfidf\": 0.1783025108266408}, {\"document\": 49, \"term\": \"links\", \"tfidf\": 0.17412123338797178}, {\"document\": 49, \"term\": \"hof\", \"tfidf\": 0.16498789089768912}, {\"document\": 49, \"term\": \"bestuurder\", \"tfidf\": 0.14882599009423833}, {\"document\": 49, \"term\": \"rechts\", \"tfidf\": 0.14781598038184274}, {\"document\": 49, \"term\": \"passagier\", \"tfidf\": 0.14429091706965777}, {\"document\": 49, \"term\": \"fietspad\", \"tfidf\": 0.1260841896815576}]}}, {\"mode\": \"vega-lite\"});\n",
       "</script>"
      ],
      "text/plain": [
       "alt.LayerChart(...)"
      ]
     },
     "execution_count": 31,
     "metadata": {},
     "output_type": "execute_result"
    }
   ],
   "source": [
    "import altair as alt\n",
    "import numpy as np\n",
    "\n",
    "# Terms in this list will get a red dot in the visualization\n",
    "term_list = ['benadelen', 'kasboek', 'hof']\n",
    "\n",
    "# adding a little randomness to break ties in term ranking\n",
    "top_tfidf_plusRand = top_tfidf.copy()\n",
    "top_tfidf_plusRand = top_tfidf_plusRand.iloc[:500,]\n",
    "top_tfidf_plusRand['tfidf'] = top_tfidf_plusRand['tfidf'] + np.random.rand(top_tfidf_plusRand.shape[0])*0.0001\n",
    "\n",
    "# base for all visualizations, with rank calculation\n",
    "base = alt.Chart(top_tfidf_plusRand).encode(\n",
    "    x = 'rank:O',\n",
    "    y = 'document:N'\n",
    ").transform_window(\n",
    "    rank = \"rank()\",\n",
    "    sort = [alt.SortField(\"tfidf\", order=\"descending\")],\n",
    "    groupby = [\"document\"],\n",
    ")\n",
    "\n",
    "# heatmap specification\n",
    "heatmap = base.mark_rect().encode(\n",
    "    color = 'tfidf:Q'\n",
    ")\n",
    "\n",
    "# red circle over terms in above list\n",
    "circle = base.mark_circle(size=100).encode(\n",
    "    color = alt.condition(\n",
    "        alt.FieldOneOfPredicate(field='term', oneOf=term_list),\n",
    "        alt.value('red'),\n",
    "        alt.value('#FFFFFF00')        \n",
    "    )\n",
    ")\n",
    "\n",
    "# text labels, white for darker heatmap colors\n",
    "text = base.mark_text(baseline='middle').encode(\n",
    "    text = 'term:N',\n",
    "    color = alt.condition(alt.datum.tfidf >= 0.23, alt.value('white'), alt.value('black'))\n",
    ")\n",
    "\n",
    "# display the three superimposed visualizations\n",
    "(heatmap + circle + text).properties(width = 1200)"
   ]
  },
  {
   "cell_type": "code",
   "execution_count": null,
   "metadata": {},
   "outputs": [],
   "source": []
  },
  {
   "cell_type": "code",
   "execution_count": 37,
   "metadata": {},
   "outputs": [],
   "source": [
    "test = tfidf_df.sort_values(by=['tfidf'], ascending=[False]).head(20)\n"
   ]
  },
  {
   "cell_type": "code",
   "execution_count": 39,
   "metadata": {},
   "outputs": [
    {
     "data": {
      "text/plain": [
       "array(['gemeente', 'ambtenaar', 'geit', 'bijnaam', 'kledingwinkel',\n",
       "       'euro_geboekt', 'verdenken', 'slachtofffer', 'slachtoffer',\n",
       "       'minderjarig', 'stichting', 'telefoonnummer', 'spellocatie_geleg',\n",
       "       'aangeefster', 'betrokken'], dtype=object)"
      ]
     },
     "execution_count": 39,
     "metadata": {},
     "output_type": "execute_result"
    }
   ],
   "source": [
    "test['term'].unique()"
   ]
  },
  {
   "cell_type": "code",
   "execution_count": null,
   "metadata": {},
   "outputs": [],
   "source": []
  },
  {
   "cell_type": "code",
   "execution_count": null,
   "metadata": {},
   "outputs": [],
   "source": []
  }
 ],
 "metadata": {
  "interpreter": {
   "hash": "40d3a090f54c6569ab1632332b64b2c03c39dcf918b08424e98f38b5ae0af88f"
  },
  "kernelspec": {
   "display_name": "Python 3.7.10 64-bit ('base': conda)",
   "language": "python",
   "name": "python3"
  },
  "language_info": {
   "codemirror_mode": {
    "name": "ipython",
    "version": 3
   },
   "file_extension": ".py",
   "mimetype": "text/x-python",
   "name": "python",
   "nbconvert_exporter": "python",
   "pygments_lexer": "ipython3",
   "version": "3.7.10"
  },
  "orig_nbformat": 4
 },
 "nbformat": 4,
 "nbformat_minor": 2
}
