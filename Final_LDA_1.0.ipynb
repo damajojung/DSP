{
 "cells": [
  {
   "cell_type": "markdown",
   "metadata": {},
   "source": [
    "# Final LDA Model"
   ]
  },
  {
   "cell_type": "code",
   "execution_count": 19,
   "metadata": {},
   "outputs": [],
   "source": [
    "import re\n",
    "import numpy as np\n",
    "import pandas as pd\n",
    "from pprint import pprint\n",
    "\n",
    "# Gensim\n",
    "import gensim\n",
    "import gensim.corpora as corpora\n",
    "from gensim.utils import simple_preprocess\n",
    "from gensim.models import CoherenceModel\n",
    "\n",
    "# spacy for lemmatization\n",
    "import spacy\n",
    "\n",
    "# Plotting tools\n",
    "import pyLDAvis\n",
    "# import pyLDAvis.gensim  # Author: don't skip this\n",
    "# pyLDAvis.gensim.prepare\n",
    "\n",
    "# I think i need another one:\n",
    "import pyLDAvis.gensim_models\n",
    "import pyLDAvis.gensim_models as gensimvis\n",
    "\n",
    "# Plots\n",
    "import matplotlib.pyplot as plt\n",
    "%matplotlib inline\n",
    "\n",
    "# Enable logging for gensim - optional\n",
    "import logging\n",
    "logging.basicConfig(format='%(asctime)s : %(levelname)s : %(message)s', level=logging.ERROR)\n",
    "\n",
    "import warnings\n",
    "warnings.filterwarnings(\"ignore\",category=DeprecationWarning)"
   ]
  },
  {
   "cell_type": "code",
   "execution_count": 2,
   "metadata": {},
   "outputs": [],
   "source": [
    "# NLTK Stop words\n",
    "from nltk.corpus import stopwords\n",
    "stop_words = stopwords.words('dutch')\n",
    "stop_words.extend(['tenlastelegging\\\\n\\\\n\\\\naan', '\\\\n\\\\n\\\\n\\\\n\\\\n\\\\n', '\\\\n\\\\n\\\\n\\\\n\\\\n', '\\\\n\\\\n'])"
   ]
  },
  {
   "cell_type": "markdown",
   "metadata": {},
   "source": [
    "# Data"
   ]
  },
  {
   "cell_type": "code",
   "execution_count": 3,
   "metadata": {},
   "outputs": [],
   "source": [
    "# Data\n",
    "df = pd.read_csv('/Users/dj/Python - UvA/DSP/data/DataSample_DSP_0712.csv', index_col=1) \n",
    "df = df[df['re_tll'] != '[]'][['re_tll']] #re_bewijs\n",
    "# data = [i for i in df['re_tll']]"
   ]
  },
  {
   "cell_type": "markdown",
   "metadata": {},
   "source": [
    "# Tokenize "
   ]
  },
  {
   "cell_type": "code",
   "execution_count": 4,
   "metadata": {},
   "outputs": [
    {
     "name": "stdout",
     "output_type": "stream",
     "text": [
      "[['tenlastelegging', 'naan', 'verdachte', 'is', 'ten', 'laste', 'gelegd', 'dat', 'nhij', 'in', 'of', 'omstreeks', 'de', 'periode', 'van', 'november', 'tot', 'en', 'met', 'november', 'in', 'arnhem', 'en', 'of', 'in', 'nederland', 'en', 'of', 'in', 'duitsland', 'en', 'of', 'in', 'oostenrijk', 'en', 'of', 'in', 'hongarije', 'opzettelijk', 'een', 'of', 'meer', 'minderjarige', 'te', 'weten', 'naam', 'geboren', 'op', 'geboortedatum', 'in', 'geboorteplaats', 'en', 'of', 'naam', 'geboren', 'op', 'geboortedatum', 'in', 'geboorteplaats', 'heeft', 'onttrokken', 'aan', 'het', 'wettig', 'over', 'hen', 'haar', 'gesteld', 'gezag', 'en', 'of', 'aan', 'het', 'opzicht', 'van', 'degene', 'die', 'dit', 'desbevoegd', 'over', 'hen', 'haar', 'uitoefende', 'terwijl', 'die', 'minderjarige', 'beneden', 'de', 'twaalf', 'jaren', 'oud', 'was', 'waren', 'en', 'of', 'terwijl', 'list', 'was', 'gebezigd', 'bestaande', 'uit', 'het', 'door', 'verdachte', 'aan', 'de', 'school', 'van', 'de', 'minderjarig', 'in', 'strijd', 'met', 'de', 'waarheid', 'mededelen', 'dat', 'de', 'minderjarige', 'een', 'afspraak', 'bij', 'de', 'tandarts', 'zou', 'den', 'hebben', 'en', 'de', 'minderjarige', 'daarvoor', 'vroeger', 'op', 'te', 'halen', 'van', 'school', 'en', 'of', 'het', 'door', 'verdachte', 'uit', 'het', 'huis', 'lokken', 'van', 'zijn', 'verdachtes', 'echtgenote', 'genaamd', 'naam', 'door', 'het', 'maken', 'van', 'een', 'afspraak', 'met', 'haar', 'bij', 'een', 'woonboulevard', 'om', 'beweerdelijk', 'te', 'gaan', 'shoppen', 'zodat', 'verdachte', 'de', 'paspoorten', 'en', 'kleding', 'toiletartikelen', 'van', 'de', 'minderjarige', 'en', 'uit', 'de', 'woning', 'kon', 'pakken', 'toverwegingen', 'ten', 'aanzien', 'van', 'het', 'bewijs', 'nde', 'feiten', 'nop', 'grond', 'van', 'de', 'bewijsmiddelen', 'wordt', 'het', 'volgende', 'dat', 'verder', 'ook', 'niet', 'ter', 'discussie', 'staat', 'vastgesteld', 'naangeefster', 'naam', 'en', 'verdachte', 'zijn', 'getrouwd', 'en', 'hebben', 'samen', 'twee', 'kinderen', 'naam', 'geboren', 'op', 'geboortedatum', 'te', 'geboorteplaats', 'en', 'naam', 'geboren', 'op', 'geboortedatum', 'te', 'geboorteplaats', 'aangeefster', 'en', 'verdachte', 'hebben', 'beiden', 'gezag', 'over', 'deze', 'kinderen', 'verdachte', 'heeft', 'op', 'november', 'de', 'kinderen', 'eerder', 'van', 'school', 'gehaald', 'hij', 'is', 'vervolgens', 'in', 'een', 'bus', 'gestapt', 'in', 'nijmegen', 'heeft', 'in', 'kleve', 'duitsland', 'een', 'trein', 'genomen', 'in', 'dusseldorf', 'duitsland', 'de', 'bus', 'genomen', 'naar', 'salzburg', 'oostenrijk', 'en', 'heeft', 'vanuit', 'daar', 'een', 'trein', 'naar', 'boekarest', 'roemenie', 'genomen', 'in', 'deze', 'trein', 'is', 'hij', 'op', 'november', 'aangehouden', 'toen', 'de', 'trein', 'zich', 'in', 'hongarije', 'bevond', 'nhet', 'standpunt', 'van', 'de', 'officier', 'van', 'justitie', 'nde', 'officier', 'van', 'justitie', 'heeft', 'gesteld', 'dat', 'wettig', 'en', 'overtuigend', 'bewezen', 'kan', 'worden', 'dat', 'verdachte', 'zich', 'schuldig', 'heeft', 'gemaakt', 'aan', 'het', 'ten', 'laste', 'gelegde', 'nhet', 'standpunt', 'van', 'de', 'verdediging', 'nde', 'verdediging', 'heeft', 'zich', 'op', 'het', 'standpunt', 'gesteld', 'dat', 'verdachte', 'van', 'het', 'ten', 'laste', 'gelegde', 'dient', 'te', 'worden', 'vrijgesproken', 'omdat', 'verdachte', 'niet', 'het', 'opzet', 'had', 'de', 'kinderen', 'aan', 'het', 'gezag', 'van', 'aangeefster', 'te', 'onttrekken', 'daarnaast', 'heeft', 'verdachte', 'volgens', 'de', 'verdediging', 'ook', 'geen', 'list', 'gebezigd', 'nbeoordeling', 'door', 'de', 'rechtbank', 'naangeefster', 'heeft', 'verklaard', 'dat', 'zij', 'op', 'november', 'omstreeks', 'uur', 'door', 'verdachte', 'werd', 'gebeld', 'hij', 'vroeg', 'haar', 'of', 'ze', 'om', 'uur', 'op', 'hem', 'wilde', 'wachten', 'bij', 'de', 'woonboulevard', 'in', 'arnhem', 'zuid', 'zodat', 'ze', 'samen', 'konden', 'gaan', 'shoppen', 'aangeefster', 'is', 'vervolgens', 'naar', 'de', 'woonboulevard', 'gegaan', 'maar', 'verdachte', 'was', 'daar', 'niet', 'op', 'het', 'afgesproken', 'tijdstip', 'aanwezig', 'omstreeks', 'uur', 'is', 'zij', 'naar', 'de', 'school', 'van', 'haar', 'kinderen', 'gegaan', 'om', 'hen', 'op', 'te', 'halen', 'daar', 'hoorde', 'ze', 'van', 'de', 'leerkracht', 'dat', 'haar', 'kinderen', 'omstreeks', 'uur', 'waren', 'opgehaald', 'door', 'verdachte', 'met', 'de', 'mededeling', 'dat', 'ze', 'een', 'afspraak', 'hadden', 'bij', 'de', 'tandarts', 'aangeefster', 'raakte', 'in', 'paniek', 'omdat', 'ze', 'wist', 'dat', 'haar', 'kinderen', 'geen', 'afspraak', 'bij', 'de', 'tandarts', 'hadden', 'zij', 'heeft', 'verdachte', 'toen', 'meermalen', 'proberen', 'te', 'bellen', 'verdachte', 'nam', 'zijn', 'telefoon', 'echter', 'niet', 'op', 'zij', 'heeft', 'toen', 'de', 'voicemail', 'ingesproken', 'met', 'de', 'vraag', 'waarom', 'hij', 'hun', 'kinderen', 'had', 'meegenomen', 'eenmaal', 'thuis', 'gekomen', 'kwam', 'ze', 'er', 'achter', 'dat', 'de', 'paspoorten', 'van', 'de', 'kinderen', 'en', 'van', 'verdachte', 'weg', 'waren', 'ook', 'waren', 'de', 'toiletartikelen', 'en', 'wat', 'kleding', 'van', 'de', 'kinderen', 'weg', 'nde', 'leerkracht', 'van', 'naam', 'getuige', 'heeft', 'verklaard', 'dat', 'verdachte', 'in', 'de', 'ochtend', 'net', 'voor', 'het', 'begin', 'van', 'de', 'schooldag', 'al', 'naar', 'haar', 'toe', 'was', 'gekomen', 'om', 'te', 'vertellen', 'dat', 'hij', 'met', 'zijn', 'dochter', 'naar', 'de', 'tandarts', 'zou', 'gaan', 'aan', 'het', 'einde', 'van', 'de', 'ochtend', 'heeft', 'hij', 'haar', 'toen', 'opgehaald', 'naam', 'moeder', 'is', 'toen', 'nog', 'na', 'schooltijd', 'geweest', 'om', 'haar', 'op', 'te', 'halen', 'de', 'leerkracht', 'van', 'naam', 'getuige', 'heeft', 'verklaard', 'dat', 'verdachte', 'in', 'de', 'ochtend', 'tegen', 'hem', 'had', 'gezegd', 'dat', 'hij', 'naam']]\n"
     ]
    }
   ],
   "source": [
    "def sent_to_words(sentences):\n",
    "    for sentence in sentences:\n",
    "        yield(gensim.utils.simple_preprocess(str(sentence), deacc=True))  # deacc=True removes punctuations\n",
    "\n",
    "data_words = list(sent_to_words(df['re_tll']))\n",
    "\n",
    "print(data_words[:1])"
   ]
  },
  {
   "cell_type": "markdown",
   "metadata": {},
   "source": [
    "# Creating Bigram and Trigram Models"
   ]
  },
  {
   "cell_type": "code",
   "execution_count": 5,
   "metadata": {},
   "outputs": [
    {
     "name": "stdout",
     "output_type": "stream",
     "text": [
      "['tenlastelegging', 'naan', 'verdachte', 'is', 'ten_laste_gelegd', 'dat', 'nhij', 'in', 'of', 'omstreeks', 'de', 'periode', 'van', 'november', 'tot', 'en', 'met', 'november', 'in', 'arnhem', 'en', 'of', 'in', 'nederland', 'en', 'of', 'in', 'duitsland', 'en', 'of', 'in', 'oostenrijk', 'en', 'of', 'in', 'hongarije', 'opzettelijk', 'een', 'of', 'meer', 'minderjarige', 'te', 'weten', 'naam', 'geboren', 'op', 'geboortedatum', 'in', 'geboorteplaats', 'en', 'of', 'naam', 'geboren', 'op', 'geboortedatum', 'in', 'geboorteplaats', 'heeft', 'onttrokken', 'aan', 'het', 'wettig', 'over', 'hen', 'haar', 'gesteld', 'gezag', 'en', 'of', 'aan', 'het', 'opzicht', 'van', 'degene', 'die', 'dit', 'desbevoegd', 'over', 'hen', 'haar', 'uitoefende', 'terwijl', 'die', 'minderjarige', 'beneden', 'de', 'twaalf_jaren', 'oud', 'was', 'waren', 'en', 'of', 'terwijl', 'list', 'was', 'gebezigd', 'bestaande', 'uit', 'het', 'door', 'verdachte', 'aan', 'de', 'school', 'van', 'de', 'minderjarig', 'in', 'strijd', 'met', 'de', 'waarheid', 'mededelen', 'dat', 'de', 'minderjarige', 'een', 'afspraak', 'bij', 'de', 'tandarts', 'zou', 'den', 'hebben', 'en', 'de', 'minderjarige', 'daarvoor', 'vroeger', 'op', 'te', 'halen', 'van', 'school', 'en', 'of', 'het', 'door', 'verdachte', 'uit', 'het', 'huis', 'lokken', 'van', 'zijn', 'verdachtes', 'echtgenote', 'genaamd', 'naam', 'door', 'het', 'maken', 'van', 'een', 'afspraak', 'met', 'haar', 'bij', 'een', 'woonboulevard', 'om', 'beweerdelijk', 'te', 'gaan', 'shoppen', 'zodat', 'verdachte', 'de', 'paspoorten', 'en', 'kleding', 'toiletartikelen', 'van', 'de', 'minderjarige', 'en', 'uit', 'de', 'woning', 'kon', 'pakken', 'toverwegingen', 'ten', 'aanzien', 'van', 'het', 'bewijs', 'nde', 'feiten', 'nop', 'grond', 'van', 'de', 'bewijsmiddelen', 'wordt', 'het', 'volgende', 'dat', 'verder', 'ook', 'niet', 'ter', 'discussie_staat_vastgesteld', 'naangeefster', 'naam', 'en', 'verdachte', 'zijn', 'getrouwd', 'en', 'hebben', 'samen', 'twee', 'kinderen', 'naam', 'geboren', 'op', 'geboortedatum', 'te', 'geboorteplaats', 'en', 'naam', 'geboren', 'op', 'geboortedatum', 'te', 'geboorteplaats', 'aangeefster', 'en', 'verdachte', 'hebben', 'beiden', 'gezag', 'over', 'deze', 'kinderen', 'verdachte', 'heeft', 'op', 'november', 'de', 'kinderen', 'eerder', 'van', 'school', 'gehaald', 'hij', 'is', 'vervolgens', 'in', 'een', 'bus', 'gestapt', 'in', 'nijmegen', 'heeft', 'in', 'kleve', 'duitsland', 'een', 'trein', 'genomen', 'in', 'dusseldorf', 'duitsland', 'de', 'bus', 'genomen', 'naar', 'salzburg', 'oostenrijk', 'en', 'heeft', 'vanuit', 'daar', 'een', 'trein', 'naar', 'boekarest', 'roemenie', 'genomen', 'in', 'deze', 'trein', 'is', 'hij', 'op', 'november', 'aangehouden', 'toen', 'de', 'trein', 'zich', 'in', 'hongarije', 'bevond', 'nhet', 'standpunt', 'van', 'de', 'officier', 'van', 'justitie', 'nde', 'officier', 'van', 'justitie', 'heeft', 'gesteld', 'dat', 'wettig', 'en', 'overtuigend_bewezen_kan', 'worden', 'dat', 'verdachte', 'zich', 'schuldig', 'heeft', 'gemaakt', 'aan', 'het', 'ten_laste_gelegde', 'nhet', 'standpunt', 'van', 'de', 'verdediging', 'nde', 'verdediging', 'heeft', 'zich', 'op', 'het', 'standpunt_gesteld', 'dat', 'verdachte', 'van', 'het', 'ten_laste_gelegde', 'dient', 'te', 'worden', 'vrijgesproken', 'omdat', 'verdachte', 'niet', 'het', 'opzet', 'had', 'de', 'kinderen', 'aan', 'het', 'gezag', 'van', 'aangeefster', 'te', 'onttrekken', 'daarnaast', 'heeft', 'verdachte', 'volgens', 'de', 'verdediging', 'ook', 'geen', 'list', 'gebezigd', 'nbeoordeling', 'door', 'de', 'rechtbank', 'naangeefster', 'heeft', 'verklaard', 'dat', 'zij', 'op', 'november', 'omstreeks', 'uur', 'door', 'verdachte', 'werd', 'gebeld', 'hij', 'vroeg', 'haar', 'of', 'ze', 'om', 'uur', 'op', 'hem', 'wilde', 'wachten', 'bij', 'de', 'woonboulevard', 'in', 'arnhem', 'zuid', 'zodat', 'ze', 'samen', 'konden', 'gaan', 'shoppen', 'aangeefster', 'is', 'vervolgens', 'naar', 'de', 'woonboulevard', 'gegaan', 'maar', 'verdachte', 'was', 'daar', 'niet', 'op', 'het', 'afgesproken', 'tijdstip', 'aanwezig', 'omstreeks', 'uur', 'is', 'zij', 'naar', 'de', 'school', 'van', 'haar', 'kinderen', 'gegaan', 'om', 'hen', 'op', 'te', 'halen', 'daar', 'hoorde', 'ze', 'van', 'de', 'leerkracht', 'dat', 'haar', 'kinderen', 'omstreeks', 'uur', 'waren', 'opgehaald', 'door', 'verdachte', 'met', 'de', 'mededeling', 'dat', 'ze', 'een', 'afspraak', 'hadden', 'bij', 'de', 'tandarts', 'aangeefster', 'raakte', 'in', 'paniek', 'omdat', 'ze', 'wist', 'dat', 'haar', 'kinderen', 'geen', 'afspraak', 'bij', 'de', 'tandarts', 'hadden', 'zij', 'heeft', 'verdachte', 'toen', 'meermalen', 'proberen', 'te', 'bellen', 'verdachte', 'nam', 'zijn', 'telefoon', 'echter', 'niet', 'op', 'zij', 'heeft', 'toen', 'de', 'voicemail', 'ingesproken', 'met', 'de', 'vraag', 'waarom', 'hij', 'hun', 'kinderen', 'had', 'meegenomen', 'eenmaal', 'thuis', 'gekomen', 'kwam', 'ze', 'er', 'achter', 'dat', 'de', 'paspoorten', 'van', 'de', 'kinderen', 'en', 'van', 'verdachte', 'weg', 'waren', 'ook', 'waren', 'de', 'toiletartikelen', 'en', 'wat', 'kleding', 'van', 'de', 'kinderen', 'weg', 'nde', 'leerkracht', 'van', 'naam', 'getuige', 'heeft', 'verklaard', 'dat', 'verdachte', 'in', 'de', 'ochtend', 'net', 'voor', 'het', 'begin', 'van', 'de', 'schooldag', 'al', 'naar', 'haar', 'toe', 'was', 'gekomen', 'om', 'te', 'vertellen', 'dat', 'hij', 'met', 'zijn', 'dochter', 'naar', 'de', 'tandarts', 'zou', 'gaan', 'aan', 'het', 'einde', 'van', 'de', 'ochtend', 'heeft', 'hij', 'haar', 'toen', 'opgehaald', 'naam', 'moeder', 'is', 'toen', 'nog', 'na', 'schooltijd', 'geweest', 'om', 'haar', 'op', 'te', 'halen', 'de', 'leerkracht', 'van', 'naam', 'getuige', 'heeft', 'verklaard', 'dat', 'verdachte', 'in', 'de', 'ochtend', 'tegen', 'hem', 'had', 'gezegd', 'dat', 'hij', 'naam']\n"
     ]
    }
   ],
   "source": [
    "# Build the bigram and trigram models\n",
    "bigram = gensim.models.Phrases(data_words, min_count=5, threshold=100) # higher threshold fewer phrases.\n",
    "trigram = gensim.models.Phrases(bigram[data_words], threshold=100)  \n",
    "\n",
    "# Faster way to get a sentence clubbed as a trigram/bigram\n",
    "bigram_mod = gensim.models.phrases.Phraser(bigram)\n",
    "trigram_mod = gensim.models.phrases.Phraser(trigram)\n",
    "\n",
    "# See trigram example\n",
    "print(trigram_mod[bigram_mod[data_words[0]]])"
   ]
  },
  {
   "cell_type": "markdown",
   "metadata": {},
   "source": [
    "# Remove Stopwords, Make Bigrams and Lemmatize"
   ]
  },
  {
   "cell_type": "code",
   "execution_count": 7,
   "metadata": {},
   "outputs": [],
   "source": [
    "# Define functions for stopwords, bigrams, trigrams and lemmatization\n",
    "def remove_stopwords(texts):\n",
    "    return [[word for word in simple_preprocess(str(doc)) if word not in stop_words] for doc in texts]\n",
    "\n",
    "def make_bigrams(texts):\n",
    "    return [bigram_mod[doc] for doc in texts]\n",
    "\n",
    "def make_trigrams(texts):\n",
    "    return [trigram_mod[bigram_mod[doc]] for doc in texts]\n",
    "\n",
    "def lemmatization(texts, allowed_postags=['NOUN', 'ADJ', 'VERB', 'ADV']):\n",
    "    \"\"\"https://spacy.io/api/annotation\"\"\"\n",
    "    texts_out = []\n",
    "    for sent in texts:\n",
    "        doc = nlp(\" \".join(sent)) \n",
    "        texts_out.append([token.lemma_ for token in doc if token.pos_ in allowed_postags])\n",
    "    return texts_out"
   ]
  },
  {
   "cell_type": "code",
   "execution_count": 10,
   "metadata": {},
   "outputs": [
    {
     "name": "stdout",
     "output_type": "stream",
     "text": [
      "[['tenlastelegging', 'naan', 'verdenken', 'laste_gelegd', 'periode', 'oostenrijk', 'opzettelijk', 'minderjarig', 'weten', 'naam', 'baren', 'geboortedatum', 'geboorteplaats', 'naam', 'baren', 'geboortedatum', 'geboorteplaats', 'onttrekken', 'wettig', 'stellen', 'gezag', 'opzicht', 'desbevoegd', 'uitoefenen', 'minderjarig', 'twaalf_jar', 'oud', 'list', 'bezigen', 'bestaan', 'verdenken', 'school', 'minderjarig', 'strijd', 'waarheid', 'mededeel', 'minderjarig', 'afspraak', 'tandarts', 'minderjarig', 'daarvoor', 'vroeger', 'halen', 'school', 'verdenken', 'huis', 'lok', 'verdachte', 'echtgenote', 'genaamd', 'naam', 'maken', 'afspraak', 'woonboulevard', 'beweerdelijk', 'gaan', 'shopp', 'verdenken', 'paspoort', 'kleding', 'toiletartikel', 'minderjarig', 'woning', 'toverweging', 'aanzien', 'bewijs', 'nde', 'feit', 'grond', 'bewijsmiddel', 'volgen', 'ver', 'discussie_staat', 'vaststellen', 'naangeefst', 'naam', 'verdenken', 'trouwen', 'samen', 'kind', 'naam', 'baren', 'geboortedatum', 'geboorteplaats', 'naam', 'baren', 'geboortedatum', 'geboorteplaats', 'aangeefster', 'verdenken', 'gezag', 'kind', 'verdenken', 'kind', 'eerder', 'school', 'halen', 'vervolgens', 'bus', 'stappen', 'nijmeg', 'klev', 'trein', 'nemen', 'dusseldorf', 'nemen', 'oostenrijk', 'trein', 'boekarest', 'roemenie', 'nemen', 'trein', 'aanhouden', 'trein', 'bevinden', 'standpunt', 'officier', 'justitie', 'nen', 'officier', 'justitie', 'stellen', 'wettig', 'overtuigend_bewezen', 'verdenken', 'schuldig', 'maken', 'laste_gelegen', 'standpunt', 'verdediging', 'nd', 'verdediging', 'standpunt_gesteld', 'verdenken', 'dienen', 'vrijspreken', 'verdenken', 'opzet', 'kind', 'gezag', 'aangeefster', 'onttrekken', 'daarnaast', 'verdenken', 'verdediging', 'list', 'bezigen', 'nbeoordeling', 'rechtbank', 'naangeefster', 'verklaren', 'uur', 'verdenken', 'bellen', 'vroeg', 'uur', 'willen', 'wachten', 'arnhem', 'zuid', 'samen', 'gaan', 'shoppen', 'aangeefster', 'vervolgens', 'woonboulevard', 'gaan', 'verdenken', 'afspreken', 'tijdstip', 'aanwezig', 'uur', 'school', 'kind', 'gaan', 'halen', 'horen', 'leerkracht', 'kind', 'uur', 'ophalen', 'verdenken', 'mededeling', 'afspraak', 'tandarts', 'aangeefster', 'raken', 'paniek', 'weten', 'kind', 'afspraak', 'tandarts', 'verdenken', 'meermalen', 'proberen', 'bellen', 'verdenken', 'nemen', 'telefoon', 'echter', 'voicemail', 'inspreken', 'vraag', 'waarom', 'kind', 'meenemen', 'eenmaal', 'thuis', 'komen', 'komen', 'paspoort', 'kind', 'verdenken', 'weg', 'toiletartikel', 'kleding', 'kind', 'weg', 'nde', 'leerkracht', 'naam', 'getuige', 'verklaren', 'verdenken', 'ochtend', 'net', 'begin', 'schooldag', 'komen', 'vertellen', 'dochter', 'tandarts', 'gaan', 'einde', 'ochtend', 'ophalen', 'naam', 'moeder', 'schooltijd', 'halen', 'leerkracht', 'naam', 'getuige', 'verklaren', 'verdenken', 'ochtend', 'zeggen', 'naam']]\n"
     ]
    }
   ],
   "source": [
    "# Remove Stop Words\n",
    "data_words_nostops = remove_stopwords(data_words)\n",
    "\n",
    "# Form Bigrams\n",
    "data_words_bigrams = make_bigrams(data_words_nostops)\n",
    "\n",
    "# Initialize spacy 'en' model, keeping only tagger component (for efficiency)\n",
    "# python3 -m spacy download en\n",
    "# nlp = spacy.load('nl', disable=['parser', 'ner'])\n",
    "\n",
    "nlp = spacy.load(\"nl_core_news_sm\")\n",
    "\n",
    "# Do lemmatization keeping only noun, adj, vb, adv\n",
    "data_lemmatized = lemmatization(data_words_bigrams, allowed_postags=['NOUN', 'ADJ', 'VERB', 'ADV'])\n",
    "\n",
    "print(data_lemmatized[:1])"
   ]
  },
  {
   "cell_type": "markdown",
   "metadata": {},
   "source": [
    "#  Create the Dictionary and Corpus needed for Topic Modeling"
   ]
  },
  {
   "cell_type": "code",
   "execution_count": 11,
   "metadata": {},
   "outputs": [
    {
     "name": "stdout",
     "output_type": "stream",
     "text": [
      "[[(0, 4), (1, 1), (2, 1), (3, 1), (4, 4), (5, 1), (6, 1), (7, 4), (8, 1), (9, 2), (10, 1), (11, 1), (12, 1), (13, 1), (14, 1), (15, 2), (16, 1), (17, 1), (18, 1), (19, 1), (20, 1), (21, 1), (22, 1), (23, 1), (24, 1), (25, 1), (26, 1), (27, 1), (28, 1), (29, 1), (30, 1), (31, 5), (32, 4), (33, 4), (34, 1), (35, 2), (36, 3), (37, 1), (38, 4), (39, 1), (40, 1), (41, 1), (42, 2), (43, 10), (44, 2), (45, 1), (46, 3), (47, 1), (48, 1), (49, 3), (50, 2), (51, 1), (52, 2), (53, 1), (54, 1), (55, 1), (56, 1), (57, 6), (58, 1), (59, 10), (60, 1), (61, 1), (62, 1), (63, 1), (64, 1), (65, 2), (66, 4), (67, 1), (68, 1), (69, 1), (70, 3), (71, 2), (72, 2), (73, 2), (74, 2), (75, 1), (76, 1), (77, 1), (78, 1), (79, 1), (80, 1), (81, 2), (82, 1), (83, 1), (84, 1), (85, 1), (86, 1), (87, 2), (88, 4), (89, 1), (90, 1), (91, 1), (92, 1), (93, 1), (94, 2), (95, 1), (96, 1), (97, 2), (98, 1), (99, 4), (100, 1), (101, 1), (102, 1), (103, 1), (104, 2), (105, 1), (106, 4), (107, 1), (108, 1), (109, 1), (110, 4), (111, 1), (112, 1), (113, 1), (114, 3), (115, 19), (116, 3), (117, 1), (118, 2), (119, 1), (120, 1), (121, 1), (122, 1), (123, 1), (124, 1), (125, 1), (126, 1), (127, 1), (128, 2), (129, 2), (130, 2), (131, 1), (132, 1), (133, 2), (134, 1), (135, 1)]]\n"
     ]
    }
   ],
   "source": [
    "# Create Dictionary\n",
    "id2word = corpora.Dictionary(data_lemmatized)\n",
    "\n",
    "# Create Corpus\n",
    "texts = data_lemmatized\n",
    "\n",
    "# Term Document Frequency\n",
    "corpus = [id2word.doc2bow(text) for text in texts]\n",
    "\n",
    "# View\n",
    "print(corpus[:1])"
   ]
  },
  {
   "cell_type": "code",
   "execution_count": 12,
   "metadata": {},
   "outputs": [
    {
     "data": {
      "text/plain": [
       "'aangeefster'"
      ]
     },
     "execution_count": 12,
     "metadata": {},
     "output_type": "execute_result"
    }
   ],
   "source": [
    "# Id word\n",
    "id2word[0]"
   ]
  },
  {
   "cell_type": "markdown",
   "metadata": {},
   "source": [
    "# Building the Topic Model"
   ]
  },
  {
   "cell_type": "code",
   "execution_count": 13,
   "metadata": {},
   "outputs": [],
   "source": [
    "# Build LDA model\n",
    "lda_model = gensim.models.ldamodel.LdaModel(corpus=corpus,\n",
    "                                           id2word=id2word,\n",
    "                                           num_topics=5, \n",
    "                                           random_state=100,\n",
    "                                           update_every=1,\n",
    "                                           chunksize=100,\n",
    "                                           passes=10,\n",
    "                                           alpha='auto',\n",
    "                                           per_word_topics=True)"
   ]
  },
  {
   "cell_type": "markdown",
   "metadata": {},
   "source": [
    "# View the topics in LDA model"
   ]
  },
  {
   "cell_type": "code",
   "execution_count": 14,
   "metadata": {},
   "outputs": [
    {
     "name": "stdout",
     "output_type": "stream",
     "text": [
      "[(0,\n",
      "  '0.049*\"verdenken\" + 0.013*\"hof\" + 0.012*\"medeverdacht\" + 0.012*\"zien\" + '\n",
      "  '0.010*\"verklaren\" + 0.009*\"benadelen\" + 0.009*\"rechtbank\" + '\n",
      "  '0.008*\"verbalisant\" + 0.008*\"komen\" + 0.008*\"feit\"'),\n",
      " (1,\n",
      "  '0.057*\"verdenken\" + 0.035*\"naam\" + 0.033*\"aangeefster\" + 0.022*\"laten\" + '\n",
      "  '0.014*\"zoon\" + 0.014*\"minderjarig\" + 0.013*\"gaan\" + 0.012*\"kind\" + '\n",
      "  '0.008*\"gezag\" + 0.007*\"onttrekken\"'),\n",
      " (2,\n",
      "  '0.028*\"naam\" + 0.017*\"bedrijf\" + 0.016*\"kenteken\" + 0.013*\"verdenken\" + '\n",
      "  '0.010*\"periode\" + 0.009*\"artikel\" + 0.009*\"adres\" + 0.008*\"merk\" + '\n",
      "  '0.008*\"hoeveelheid\" + 0.007*\"uur\"'),\n",
      " (3,\n",
      "  '0.042*\"ander\" + 0.037*\"althans\" + 0.030*\"verdenken\" + 0.027*\"geval\" + '\n",
      "  '0.021*\"goed\" + 0.017*\"weten\" + 0.015*\"vereniging\" + 0.014*\"benadelen\" + '\n",
      "  '0.013*\"alleen\" + 0.013*\"oogmerk\"'),\n",
      " (4,\n",
      "  '0.113*\"slachtoffer\" + 0.034*\"naam\" + 0.034*\"althans\" + 0.018*\"geweld\" + '\n",
      "  '0.018*\"verdenken\" + 0.014*\"slaan\" + 0.014*\"lichaam\" + 0.013*\"hoofd\" + '\n",
      "  '0.012*\"telkens\" + 0.010*\"weten\"')]\n"
     ]
    }
   ],
   "source": [
    "# Print the Keyword in the 10 topics\n",
    "pprint(lda_model.print_topics())\n",
    "doc_lda = lda_model[corpus]"
   ]
  },
  {
   "cell_type": "markdown",
   "metadata": {},
   "source": [
    "# Compute Model Perplexity and Coherence Score"
   ]
  },
  {
   "cell_type": "code",
   "execution_count": 20,
   "metadata": {},
   "outputs": [
    {
     "name": "stdout",
     "output_type": "stream",
     "text": [
      "\n",
      "Perplexity:  -7.1811008240058145\n",
      "\n",
      "Coherence Score:  0.4846355141838131\n"
     ]
    }
   ],
   "source": [
    "# Compute Perplexity\n",
    "print('\\nPerplexity: ', lda_model.log_perplexity(corpus))  # a measure of how good the model is. lower the better.\n",
    "\n",
    "# Compute Coherence Score\n",
    "coherence_model_lda = CoherenceModel(model=lda_model, texts=data_lemmatized, dictionary=id2word, coherence='c_v')\n",
    "coherence_lda = coherence_model_lda.get_coherence()\n",
    "print('\\nCoherence Score: ', coherence_lda)"
   ]
  },
  {
   "cell_type": "markdown",
   "metadata": {},
   "source": [
    "# Visualize the topics-keywords"
   ]
  },
  {
   "cell_type": "code",
   "execution_count": 21,
   "metadata": {},
   "outputs": [
    {
     "data": {
      "text/html": [
       "\n",
       "<link rel=\"stylesheet\" type=\"text/css\" href=\"https://cdn.jsdelivr.net/gh/bmabey/pyLDAvis@3.3.1/pyLDAvis/js/ldavis.v1.0.0.css\">\n",
       "\n",
       "\n",
       "<div id=\"ldavis_el26131401980574130725282678503\"></div>\n",
       "<script type=\"text/javascript\">\n",
       "\n",
       "var ldavis_el26131401980574130725282678503_data = {\"mdsDat\": {\"x\": [0.18483176780419097, -0.1850152346273931, -0.20725475524808554, 0.042317323179593226, 0.1651208988916945], \"y\": [-0.009810268386734624, -0.08836077458544202, 0.15904577110492238, -0.23191378454808134, 0.17103905641533573], \"topics\": [1, 2, 3, 4, 5], \"cluster\": [1, 1, 1, 1, 1], \"Freq\": [36.540717459033694, 22.818216173372104, 21.024705044733004, 13.276395128257462, 6.339966194603722]}, \"tinfo\": {\"Term\": [\"slachtoffer\", \"verdenken\", \"althans\", \"naam\", \"ander\", \"geval\", \"aangeefster\", \"geweld\", \"laten\", \"hof\", \"bedrijf\", \"goed\", \"lichaam\", \"gaan\", \"slaan\", \"kenteken\", \"mededader\", \"benadelen\", \"hoofd\", \"oogmerk\", \"vereniging\", \"zien\", \"zoon\", \"geheel\", \"rechtbank\", \"gemeente\", \"tezamen\", \"weten\", \"alleen\", \"euro\", \"hof\", \"verbalisant\", \"man\", \"betrokken\", \"bewijzen\", \"proces_verbaal\", \"laste_gelegen\", \"overtuigend_bewezen\", \"verhoor\", \"vrijspreken\", \"begrijpen\", \"afleggen\", \"bevinding\", \"openbaar_ministerie\", \"nikken\", \"camerabeeld\", \"vonnis_waarvan\", \"daarom\", \"bewezen_verklaaren\", \"herkennen\", \"sprake\", \"advocaat_generaal\", \"bemonstering\", \"juist\", \"slechts\", \"verweer\", \"geit\", \"getuigen\", \"bovendien\", \"vervolging\", \"verklaring\", \"begaan\", \"getuige\", \"zien\", \"overwegen\", \"oordeel\", \"verklaren\", \"raadsman\", \"onderzoek\", \"omstandigheid\", \"zitten\", \"horen\", \"politie\", \"bewijsmiddel\", \"terechtzitting\", \"komen\", \"medeverdacht\", \"volgen\", \"rechtbank\", \"verdediging\", \"verdenken\", \"blijken\", \"staan\", \"feit\", \"benadelen\", \"gaan\", \"auto\", \"grond\", \"uur\", \"vervolgens\", \"maken\", \"persoon\", \"geven\", \"geldbedrag\", \"enig\", \"bereik\", \"dele_toebehorenen\", \"eren\", \"bankpas\", \"overdragen\", \"bevoordeel\", \"toe_eigening\", \"braak_verbreking\", \"waarheid\", \"euro_geboekt\", \"eigenen\", \"afgifte\", \"samenweefsel\", \"afgifen\", \"valse_hoedanigheid\", \"oplichting\", \"sieraad\", \"euro\", \"valse_sleutel\", \"verdichtsel\", \"brand\", \"toeeigening\", \"eur\", \"verworven_voorhand\", \"pincode\", \"inklimming\", \"bedrieglijk\", \"pinpas\", \"toebehoren\", \"verschaffen\", \"mededader\", \"mededad\", \"wegnemen\", \"oogmerk\", \"toegang\", \"ntezam\", \"geheel\", \"wederrechtelijk\", \"goed\", \"ander\", \"geval\", \"vereniging\", \"tezamen\", \"elders\", \"alleen\", \"strafrecht\", \"deel\", \"gemeente\", \"althans\", \"geld\", \"misdrijf\", \"weten\", \"diefstal\", \"een\", \"benadelen\", \"telkens\", \"verdenken\", \"periode\", \"opzettelijk\", \"naam\", \"middel\", \"voornoemd\", \"woning\", \"bedrijf\", \"tenlastelegging\", \"lichaam\", \"kracht\", \"uf\", \"duwen\", \"bedreigen\", \"danwel\", \"vagina\", \"beroven\", \"mishandelen\", \"familielid\", \"borst\", \"scherp\", \"oor\", \"stompen\", \"opvoeden\", \"verzorgen\", \"kapot\", \"zware_mishandeling\", \"neus\", \"stevig\", \"dichtdrukken\", \"fors_stomp\", \"hard_oppervlak\", \"penis\", \"schudden\", \"intimideren\", \"naakt\", \"dulden\", \"gelijke_dreigenen\", \"gezin\", \"geweld\", \"slachtoffer\", \"drukken\", \"woord\", \"gezicht\", \"hoofd\", \"slaan\", \"strekking\", \"dwingen\", \"hard\", \"dood\", \"feitelijkheid\", \"meermalen\", \"mes\", \"gooien\", \"althans\", \"naam\", \"trekken\", \"eenmaal\", \"telkens\", \"voorwerp\", \"tenlastelegging\", \"bedreiging\", \"weten\", \"houden\", \"verdenken\", \"laste_gelegd\", \"maken\", \"ander\", \"opzettelijk\", \"geval\", \"brengen\", \"gemeente\", \"naan\", \"misdrijf\", \"loods\", \"volkswagen\", \"gram\", \"mercedes_benz\", \"cocaine\", \"schip\", \"hennep\", \"materiaal_bevattenen\", \"bedrijfsnaam\", \"werknemer\", \"opiumwet_behorenen\", \"hennepplant\", \"verwerken\", \"wijnjewoud\", \"noordwolen\", \"opiumwet\", \"rechtspersoon\", \"schip_genaamd\", \"vissersvaartuig\", \"verkopen\", \"schiermonnikoog\", \"amfetamine\", \"bestelauto\", \"telen\", \"sprinter\", \"lijst_ii\", \"vermelding\", \"verkoop\", \"automatisch\", \"transactie\", \"koppelen\", \"kenteken\", \"positie\", \"stelen\", \"voertuig\", \"bedrijf\", \"pand\", \"wet\", \"witwas\", \"hoeveelheid\", \"merk\", \"voorzien\", \"onderdeel\", \"aantreffen\", \"zijn\", \"naam\", \"kentekenen\", \"artikel\", \"aanwezig\", \"periode\", \"zaak\", \"adres\", \"uur\", \"bedoelen\", \"lid\", \"verdenken\", \"medeverdacht\", \"opzettelijk\", \"hebben\", \"auto\", \"rechtbank\", \"feit\", \"weten\", \"telkens\", \"voorwerp\", \"tenlastelegging\", \"gezag\", \"ouderlijk\", \"kwetsbare_positie\", \"uitbuiting\", \"omstandigheden_voortvloeien\", \"afpersing_misleiding\", \"assistentie\", \"onderhoud\", \"hulpverlener\", \"verstandelijk\", \"opdragen\", \"desbevoegd\", \"jurk\", \"onderbrengen\", \"overal\", \"koken\", \"omgang\", \"aanmerkelijk_onvoorzichtig\", \"onopletten\", \"koud\", \"bestandsnaam_ag\", \"enige_handeling\", \"onachtzaam\", \"motorrijtuig\", \"ongeval\", \"innemen\", \"ondernomen_waarvan\", \"aanrijding\", \"minderjarige\", \"geboortejaar\", \"aangeefster\", \"roepnaam\", \"minderjarig\", \"dreiging\", \"invloedssfeer\", \"onttrekken\", \"misbruik\", \"dwang\", \"arbeid\", \"kind\", \"onttrekking\", \"laten\", \"vertrekken\", \"zoon\", \"paspoort\", \"overwicht\", \"sub\", \"meisje\", \"feitelijk\", \"verdenken\", \"naam\", \"toestemming\", \"gaan\", \"baren\", \"geboortedatum\", \"beperken\", \"waarna\", \"meenemen\", \"aanzien\", \"stellen\", \"rechtbank\", \"voornoemd\", \"nemen\", \"uur\", \"wettig\", \"liggen\", \"weten\", \"komen\", \"maken\", \"betalen\", \"houden\"], \"Freq\": [10793.0, 14770.0, 6831.0, 6963.0, 5374.0, 3442.0, 942.0, 1716.0, 1199.0, 2095.0, 1658.0, 2445.0, 1251.0, 1674.0, 1359.0, 1223.0, 1341.0, 2869.0, 1240.0, 1401.0, 1967.0, 2072.0, 713.0, 1266.0, 1938.0, 1732.0, 1527.0, 3271.0, 1821.0, 901.0, 2094.9124009015068, 1265.1170082370272, 1061.7053392001153, 521.9271008907145, 493.0994353279344, 474.5034376347944, 453.4780077460135, 336.4642552562635, 261.12214607565755, 257.87532352891554, 242.63130862694652, 232.20017839835415, 227.89355403182938, 214.30776521187582, 211.98406963399776, 211.46702556799298, 199.9718172013331, 189.86418115463925, 183.72556344223193, 175.39702454350694, 603.1820195856039, 166.2092059671784, 167.7677380550942, 160.39770801086758, 158.5813139303803, 156.4422809316514, 149.71039842798533, 144.13265704400163, 142.63864158412125, 140.5708278775219, 1141.4474452273596, 385.5647186897056, 987.1668803740345, 1970.786424582037, 275.88438724112706, 849.4764968260351, 1632.9480581120604, 394.9398957849715, 540.4271974981465, 530.7489223999315, 451.4018366260707, 473.31343121958463, 569.2665020837366, 604.8477385209619, 597.009916441758, 1263.8286093158913, 1976.754677492517, 1054.6395970908823, 1456.8399004304847, 638.4059789264811, 7832.787774206726, 772.2219437377283, 859.3617829146092, 1236.570761602761, 1497.6750958831283, 916.4938414236196, 797.6801679751229, 567.2197074111413, 670.9251855449309, 644.6827217194864, 696.2775802011215, 611.9367586758148, 586.495230672419, 629.864490315828, 446.03263508712513, 435.8578466404433, 316.13807703653754, 293.4696498431253, 219.66590731792382, 197.95700919089995, 191.0528559805636, 187.722729106154, 162.7793853282347, 162.7672756915249, 162.98599221725726, 156.8378147168415, 152.57917012757932, 149.29748180000882, 148.711470588453, 137.41043948620188, 135.96336692535803, 124.93249798667341, 896.1526847326439, 116.37816005384326, 115.04815505478724, 112.50020854039792, 100.25457933322419, 97.80605258791046, 100.86642366240154, 96.74679027191806, 89.51525309118476, 89.14983928853192, 84.15940343159886, 586.1962347299458, 357.97054420630894, 1305.6598690094863, 439.21798637285366, 650.9373016194751, 1315.798525922668, 293.0112019858651, 265.88092515842123, 1133.641724871715, 728.5254043047973, 2075.3676050888484, 4206.212068282935, 2652.716815565909, 1507.7820823713932, 1198.3800517092182, 305.3840694564161, 1335.3501439360798, 625.2698874831965, 561.5533214021725, 1205.83206438976, 3663.24410180162, 906.2628265281272, 980.705581694971, 1739.0248256046466, 494.29442534976414, 650.0619246593883, 1371.1303005951886, 1099.0356108435678, 2954.1203092721807, 912.1282097607193, 781.5403953266792, 1279.5775459782312, 561.5953974553232, 642.4991488587972, 692.957485573833, 685.0010246710797, 627.6829444872367, 1250.2783834411707, 534.5847240271635, 553.1147065543635, 358.63029478600595, 331.93766650288944, 305.91979211666774, 253.63899922521693, 246.1432765666181, 245.32803898113494, 238.75098037019356, 227.1432535041458, 202.43697386020924, 197.4270379679177, 196.18639112562633, 190.80812951005598, 196.1648671246029, 193.76012699435603, 175.16065146981595, 168.6138034845655, 168.15512402736823, 155.25467336227857, 153.45400667427353, 153.45400667427353, 153.60011741283122, 160.38947413525878, 154.99945562250912, 150.72925214710065, 136.26873932035693, 132.6111354446533, 126.49707820761571, 1680.541623414543, 10376.690939521519, 326.03506225006123, 557.8834067492999, 533.5047155543392, 1169.4122408923129, 1260.1789104168984, 297.9079213460516, 281.7804110126089, 447.22188484335214, 392.14312158824515, 350.2330459771849, 811.2477289117544, 362.20888461023884, 237.7091844876555, 3105.6708068515522, 3107.299270833556, 389.0198307121025, 454.136780408727, 1071.7471932265971, 639.0849043598292, 797.0636261935811, 399.1634975960112, 907.4773011533504, 474.3576165670207, 1641.1000682985914, 485.4772663840161, 590.2996648632156, 782.8988651224506, 532.2573504850883, 632.4538431856839, 481.80273856714996, 499.4929855156542, 461.1530912473137, 406.7831651233265, 268.2299336741525, 251.27961784459973, 227.9978741835766, 222.9989042332804, 208.72827127379026, 190.91504565227507, 186.35573829964034, 184.9983263032342, 181.52812354343607, 173.6285450640224, 170.77110296596416, 168.22786384778468, 167.2229304178585, 157.40318208510325, 156.4872566200653, 133.29980357636992, 120.19003011280107, 120.00975790947622, 119.23322151149235, 117.3999654769313, 117.73485321610637, 99.82504017185494, 98.985578060989, 98.15491811908552, 96.18010456295241, 92.97605426282587, 107.82027384122138, 86.07256651251579, 85.72225640055385, 81.00202405250562, 96.26907199598053, 947.5846307882939, 124.11013652025842, 248.67706710440152, 354.7283279093988, 972.5869519126626, 232.01852662544476, 250.96441507883725, 145.42975985268524, 442.7057837639798, 457.17382039301793, 294.06821090348416, 268.16635269619803, 388.62704106045726, 296.22520841567916, 1599.5187408953482, 157.72403229004652, 516.139354368563, 296.76595747255345, 594.3569814903097, 363.6779247578449, 496.1056448312386, 427.3115671092859, 302.7888567845659, 311.25061216425286, 772.4660805026964, 377.0752717691743, 333.1934803995782, 283.36482748761006, 298.7626109459971, 289.17282687710997, 271.37682729615824, 275.6111907259746, 261.05763187202103, 256.534843725381, 253.3059406396728, 216.6012585304723, 117.79802676801559, 111.47822665587431, 100.95598379884298, 79.90780764534442, 77.34768787122812, 70.2957807064508, 72.83006095269873, 72.23595826987652, 71.83786824527375, 55.96123003853, 49.260366247365134, 49.33647510891301, 47.64847004648582, 49.72164214367299, 47.83215005613588, 47.852473280302014, 42.1277307199279, 41.33951543905034, 118.1588252892278, 39.09133134861539, 35.67481994131565, 40.15922967901351, 48.51726852413639, 31.008910908179836, 48.965073026139834, 29.318318667057213, 28.688363236079066, 28.396237857096796, 27.87006958343563, 903.5542878469148, 94.00663472020688, 388.32940586203745, 130.83151043208937, 91.47297384840972, 191.61564157157565, 190.43924303139917, 83.90420515627588, 90.33980248344373, 339.69119479866094, 73.62077631273958, 617.8868165756771, 95.57961355976235, 392.3421264704737, 94.6385192445265, 79.21012748926408, 76.80302546357578, 161.3054043993243, 106.85138337585785, 1570.439507536364, 976.9114493608595, 120.94379089261068, 366.3515228506532, 175.35547509163962, 125.1237167954881, 106.19658844867665, 134.8934584057281, 106.27555869115076, 155.9061366610165, 174.47320199377603, 184.49567418720198, 165.78437202921765, 151.1673672562908, 153.89311808145246, 132.23958082412537, 144.03707696440415, 166.27846509369093, 145.7123945283162, 135.19759706832858, 121.36268157585205, 118.65653137133059], \"Total\": [10793.0, 14770.0, 6831.0, 6963.0, 5374.0, 3442.0, 942.0, 1716.0, 1199.0, 2095.0, 1658.0, 2445.0, 1251.0, 1674.0, 1359.0, 1223.0, 1341.0, 2869.0, 1240.0, 1401.0, 1967.0, 2072.0, 713.0, 1266.0, 1938.0, 1732.0, 1527.0, 3271.0, 1821.0, 901.0, 2095.6213931181874, 1265.8283249042834, 1062.8770814018408, 522.6362140640007, 493.8116264587993, 475.21409779558263, 454.1904477446491, 337.3382151920204, 261.83018764492704, 258.58866369427443, 243.34072911723771, 232.90935642307662, 228.60322895689916, 215.0205083373955, 212.69003980041649, 212.17701471540306, 200.68442027300242, 190.58562118234806, 184.4323905092727, 176.1122808711379, 605.684277858813, 166.91948879877896, 168.4879968731681, 161.11578672974386, 159.2956482574482, 157.153696674967, 150.41699983670958, 144.84824974793145, 143.34810915681, 141.29348376671248, 1168.0281953621875, 390.5821418301572, 1014.7123349047793, 2072.185602774308, 280.25695279455886, 898.9259791135172, 1794.0016184500512, 410.58189771431, 572.810400153696, 564.2886940029817, 476.8561220287676, 515.9122257712602, 640.0215870524004, 685.0109129871598, 676.4595751894449, 1572.2548756741303, 2620.4784625967245, 1323.2883763493307, 1938.7740386926334, 744.8029670927585, 14770.913739816557, 943.2985602265591, 1214.190822086601, 2000.74817706043, 2869.2972672260125, 1674.5831295595272, 1507.1765282322856, 810.426866868723, 1274.5044330099604, 1303.5859157255738, 2066.034968830342, 1407.6495950782569, 1143.1842693968845, 630.638120119635, 446.8008043862448, 436.8506040804353, 316.906292630591, 294.23919857588356, 220.43836986311507, 198.74044395865542, 191.8236974993922, 188.49512346903074, 163.54616385497613, 163.55116602640058, 163.77537608175206, 157.60561861506432, 153.35516655995457, 150.0651959725722, 149.48038891778629, 138.17733497253337, 136.76135525488036, 125.69930299884918, 901.9242384492079, 117.14590417867292, 115.8163581721875, 113.27691276724724, 101.02051997956183, 98.57973976764904, 101.66577009057511, 97.51971837012549, 90.28386587006287, 89.92094579569402, 84.92961006247039, 592.9860598423721, 361.2488700339948, 1341.1810654533795, 448.9682727547708, 676.7891701800608, 1401.6267969498938, 302.81235984348695, 275.3298341067686, 1266.2040918321738, 803.8941136981765, 2445.186921951594, 5374.145121545781, 3442.8468531077597, 1967.5930500045492, 1527.7304388649918, 335.11984292982817, 1821.582459573308, 763.8821386254679, 676.8543720691015, 1732.5346944178386, 6831.515146251869, 1257.6753899896728, 1480.4951576399792, 3271.2184825091244, 638.8815480459615, 950.0396897703162, 2869.2972672260125, 2451.3923778464023, 14770.913739816557, 1968.9394433750642, 1710.9849524674353, 6963.589435575846, 849.4632153462223, 1249.7176311920243, 1587.946389589589, 1658.1213215702062, 1734.1941009790169, 1251.1132153380665, 535.4269143643533, 554.0028739919453, 359.47161281048426, 332.79779281317485, 306.8303974996775, 254.47281394969446, 246.98062224552913, 246.16890230311944, 239.6288679782802, 227.98060608603987, 203.2814030059492, 198.2612748281161, 197.02082655451278, 191.6673473919463, 197.06756815453988, 194.68038276472967, 175.99991365827213, 169.46726404734176, 169.01715522120745, 156.08571912486443, 154.28511708993452, 154.28511708993452, 154.43467647822516, 161.2668183859831, 155.87018434992822, 151.58749697348588, 137.1066482408356, 133.44892412136696, 127.36868508305554, 1716.0225751641638, 10793.559795679468, 329.09877772488073, 573.5893009556777, 548.9907286645971, 1240.4503863772754, 1359.8087738659287, 308.86923486457164, 295.41744925135066, 493.64430240716945, 430.67409774815513, 395.4142169482657, 1076.1543015717632, 426.4610845881708, 252.211864642748, 6831.515146251869, 6963.589435575846, 505.6057557366148, 638.8690517299859, 2451.3923778464023, 1194.8216580972712, 1734.1941009790169, 574.8798711154025, 3271.2184825091244, 923.3639432035897, 14770.913739816557, 1032.0370658900665, 2066.034968830342, 5374.145121545781, 1710.9849524674353, 3442.8468531077597, 1336.7575002310593, 1732.5346944178386, 1204.489798159214, 1480.4951576399792, 268.9742707219059, 252.0311567262812, 228.74493439851992, 223.74305682424406, 209.51849474935707, 191.66574881054865, 187.10312702016373, 185.7447225323288, 182.27241516273463, 174.37780792016346, 171.5189159628512, 168.97678135955346, 167.97197819506692, 158.14677948313454, 157.23085829666448, 134.0464328357784, 120.94496493043123, 120.7671815256995, 119.99445061866689, 118.15277988939788, 118.50107959569539, 100.57402363453203, 99.73436757361961, 98.90275883717688, 96.92373047710524, 93.72331279839875, 108.74284032117586, 86.82741664926122, 86.48287508777565, 81.78351469172948, 97.8414192642724, 1223.5012441044657, 132.44539783575235, 299.1128335453416, 470.6899004529137, 1658.1213215702062, 291.1777799945562, 333.5439168643083, 164.5178751018502, 717.7210636861141, 750.5794158865314, 422.91522723944485, 377.02546936346823, 699.1724492453385, 479.7306466946816, 6963.589435575846, 185.59327263201646, 1229.0591349721365, 518.9008921192535, 1968.9394433750642, 865.7171401017687, 1651.0651314240051, 1274.5044330099604, 618.7590806974997, 952.0031452763592, 14770.913739816557, 2620.4784625967245, 1710.9849524674353, 1111.4593154422107, 1507.1765282322856, 1938.7740386926334, 2000.74817706043, 3271.2184825091244, 2451.3923778464023, 1194.8216580972712, 1734.1941009790169, 217.48908636594754, 118.68534129738717, 112.37991375027545, 101.85044068835288, 80.81328689937395, 78.25539283420305, 71.21417893400611, 73.78359883862606, 73.18477783596191, 72.78324618285265, 56.86167387407394, 50.14911208633241, 50.23850429564957, 48.5354643845336, 50.64768100520673, 48.78877845987066, 48.86149699745871, 43.14606906302328, 42.344026814095656, 121.0490971322206, 40.058206009862715, 36.57673964513733, 41.20623030739023, 49.840579362950024, 31.901136894436707, 50.45356058657903, 30.215924052032115, 29.57930516579182, 29.298286080182514, 28.766918357360865, 942.2638978548622, 97.07533567446598, 409.15715784684494, 141.6919839311708, 98.56655942865925, 224.0858800131178, 233.28739583710228, 94.37288385413196, 104.80942820506215, 491.5580343618429, 83.48468018320209, 1199.7654055090857, 116.95193603633216, 713.0843107871483, 116.95163279548966, 96.37575209177926, 93.24233489154379, 283.20804844996053, 159.13349750193265, 14770.913739816557, 6963.589435575846, 199.13084189602017, 1674.5831295595272, 454.51157132516244, 226.65421253119882, 163.79575262502908, 279.7345373079789, 165.57160369561188, 518.3324269599887, 913.0717397103481, 1938.7740386926334, 1249.7176311920243, 1025.9248605840523, 1274.5044330099604, 594.3278033210702, 1209.3534015621374, 3271.2184825091244, 1572.2548756741303, 2066.034968830342, 400.7211754685712, 923.3639432035897], \"Category\": [\"Default\", \"Default\", \"Default\", \"Default\", \"Default\", \"Default\", \"Default\", \"Default\", \"Default\", \"Default\", \"Default\", \"Default\", \"Default\", \"Default\", \"Default\", \"Default\", \"Default\", \"Default\", \"Default\", \"Default\", \"Default\", \"Default\", \"Default\", \"Default\", \"Default\", \"Default\", \"Default\", \"Default\", \"Default\", \"Default\", \"Topic1\", \"Topic1\", \"Topic1\", \"Topic1\", \"Topic1\", \"Topic1\", \"Topic1\", \"Topic1\", \"Topic1\", \"Topic1\", \"Topic1\", \"Topic1\", \"Topic1\", \"Topic1\", \"Topic1\", \"Topic1\", \"Topic1\", \"Topic1\", \"Topic1\", \"Topic1\", \"Topic1\", \"Topic1\", \"Topic1\", \"Topic1\", \"Topic1\", \"Topic1\", \"Topic1\", \"Topic1\", \"Topic1\", \"Topic1\", \"Topic1\", \"Topic1\", \"Topic1\", \"Topic1\", \"Topic1\", \"Topic1\", \"Topic1\", \"Topic1\", \"Topic1\", \"Topic1\", \"Topic1\", \"Topic1\", \"Topic1\", \"Topic1\", \"Topic1\", \"Topic1\", \"Topic1\", \"Topic1\", \"Topic1\", \"Topic1\", \"Topic1\", \"Topic1\", \"Topic1\", \"Topic1\", \"Topic1\", \"Topic1\", \"Topic1\", \"Topic1\", \"Topic1\", \"Topic1\", \"Topic1\", \"Topic1\", \"Topic1\", \"Topic2\", \"Topic2\", \"Topic2\", \"Topic2\", \"Topic2\", \"Topic2\", \"Topic2\", \"Topic2\", \"Topic2\", \"Topic2\", \"Topic2\", \"Topic2\", \"Topic2\", \"Topic2\", \"Topic2\", \"Topic2\", \"Topic2\", \"Topic2\", \"Topic2\", \"Topic2\", \"Topic2\", \"Topic2\", \"Topic2\", \"Topic2\", \"Topic2\", \"Topic2\", \"Topic2\", \"Topic2\", \"Topic2\", \"Topic2\", \"Topic2\", \"Topic2\", \"Topic2\", \"Topic2\", \"Topic2\", \"Topic2\", \"Topic2\", \"Topic2\", \"Topic2\", \"Topic2\", \"Topic2\", \"Topic2\", \"Topic2\", \"Topic2\", \"Topic2\", \"Topic2\", \"Topic2\", \"Topic2\", \"Topic2\", \"Topic2\", \"Topic2\", \"Topic2\", \"Topic2\", \"Topic2\", \"Topic2\", \"Topic2\", \"Topic2\", \"Topic2\", \"Topic2\", \"Topic2\", \"Topic2\", \"Topic2\", \"Topic2\", \"Topic2\", \"Topic2\", \"Topic2\", \"Topic2\", \"Topic3\", \"Topic3\", \"Topic3\", \"Topic3\", \"Topic3\", \"Topic3\", \"Topic3\", \"Topic3\", \"Topic3\", \"Topic3\", \"Topic3\", \"Topic3\", \"Topic3\", \"Topic3\", \"Topic3\", \"Topic3\", \"Topic3\", \"Topic3\", \"Topic3\", \"Topic3\", \"Topic3\", \"Topic3\", \"Topic3\", \"Topic3\", \"Topic3\", \"Topic3\", \"Topic3\", \"Topic3\", \"Topic3\", \"Topic3\", \"Topic3\", \"Topic3\", \"Topic3\", \"Topic3\", \"Topic3\", \"Topic3\", \"Topic3\", \"Topic3\", \"Topic3\", \"Topic3\", \"Topic3\", \"Topic3\", \"Topic3\", \"Topic3\", \"Topic3\", \"Topic3\", \"Topic3\", \"Topic3\", \"Topic3\", \"Topic3\", \"Topic3\", \"Topic3\", \"Topic3\", \"Topic3\", \"Topic3\", \"Topic3\", \"Topic3\", \"Topic3\", \"Topic3\", \"Topic3\", \"Topic3\", \"Topic3\", \"Topic3\", \"Topic3\", \"Topic3\", \"Topic4\", \"Topic4\", \"Topic4\", \"Topic4\", \"Topic4\", \"Topic4\", \"Topic4\", \"Topic4\", \"Topic4\", \"Topic4\", \"Topic4\", \"Topic4\", \"Topic4\", \"Topic4\", \"Topic4\", \"Topic4\", \"Topic4\", \"Topic4\", \"Topic4\", \"Topic4\", \"Topic4\", \"Topic4\", \"Topic4\", \"Topic4\", \"Topic4\", \"Topic4\", \"Topic4\", \"Topic4\", \"Topic4\", \"Topic4\", \"Topic4\", \"Topic4\", \"Topic4\", \"Topic4\", \"Topic4\", \"Topic4\", \"Topic4\", \"Topic4\", \"Topic4\", \"Topic4\", \"Topic4\", \"Topic4\", \"Topic4\", \"Topic4\", \"Topic4\", \"Topic4\", \"Topic4\", \"Topic4\", \"Topic4\", \"Topic4\", \"Topic4\", \"Topic4\", \"Topic4\", \"Topic4\", \"Topic4\", \"Topic4\", \"Topic4\", \"Topic4\", \"Topic4\", \"Topic4\", \"Topic4\", \"Topic4\", \"Topic4\", \"Topic4\", \"Topic4\", \"Topic4\", \"Topic5\", \"Topic5\", \"Topic5\", \"Topic5\", \"Topic5\", \"Topic5\", \"Topic5\", \"Topic5\", \"Topic5\", \"Topic5\", \"Topic5\", \"Topic5\", \"Topic5\", \"Topic5\", \"Topic5\", \"Topic5\", \"Topic5\", \"Topic5\", \"Topic5\", \"Topic5\", \"Topic5\", \"Topic5\", \"Topic5\", \"Topic5\", \"Topic5\", \"Topic5\", \"Topic5\", \"Topic5\", \"Topic5\", \"Topic5\", \"Topic5\", \"Topic5\", \"Topic5\", \"Topic5\", \"Topic5\", \"Topic5\", \"Topic5\", \"Topic5\", \"Topic5\", \"Topic5\", \"Topic5\", \"Topic5\", \"Topic5\", \"Topic5\", \"Topic5\", \"Topic5\", \"Topic5\", \"Topic5\", \"Topic5\", \"Topic5\", \"Topic5\", \"Topic5\", \"Topic5\", \"Topic5\", \"Topic5\", \"Topic5\", \"Topic5\", \"Topic5\", \"Topic5\", \"Topic5\", \"Topic5\", \"Topic5\", \"Topic5\", \"Topic5\", \"Topic5\", \"Topic5\", \"Topic5\", \"Topic5\", \"Topic5\", \"Topic5\", \"Topic5\"], \"logprob\": [30.0, 29.0, 28.0, 27.0, 26.0, 25.0, 24.0, 23.0, 22.0, 21.0, 20.0, 19.0, 18.0, 17.0, 16.0, 15.0, 14.0, 13.0, 12.0, 11.0, 10.0, 9.0, 8.0, 7.0, 6.0, 5.0, 4.0, 3.0, 2.0, 1.0, -4.3338, -4.8382, -5.0135, -5.7236, -5.7804, -5.8188, -5.8642, -6.1626, -6.4161, -6.4286, -6.4896, -6.5335, -6.5522, -6.6137, -6.6246, -6.627, -6.6829, -6.7348, -6.7677, -6.8141, -5.5789, -6.8679, -6.8585, -6.9035, -6.9148, -6.9284, -6.9724, -7.0104, -7.0208, -7.0354, -4.9411, -6.0264, -5.0863, -4.3949, -6.3611, -5.2365, -4.583, -6.0024, -5.6888, -5.7068, -5.8688, -5.8214, -5.6368, -5.5761, -5.5892, -4.8392, -4.3919, -5.0202, -4.6971, -5.5221, -3.015, -5.3318, -5.2249, -4.861, -4.6694, -5.1606, -5.2994, -5.6404, -5.4725, -5.5124, -5.4354, -5.5645, -5.607, -5.0647, -5.4099, -5.4329, -5.7541, -5.8285, -6.1181, -6.2222, -6.2577, -6.2753, -6.4179, -6.4179, -6.4166, -6.455, -6.4826, -6.5043, -6.5082, -6.5873, -6.5979, -6.6825, -4.7121, -6.7534, -6.7649, -6.7873, -6.9025, -6.9273, -6.8964, -6.9381, -7.0158, -7.0199, -7.0775, -5.1366, -5.6298, -4.3358, -5.4253, -5.0318, -4.328, -5.83, -5.9272, -4.4771, -4.9192, -3.8724, -3.1659, -3.6269, -4.1919, -4.4215, -5.7887, -4.3133, -5.0721, -5.1795, -4.4153, -3.3041, -4.7009, -4.622, -4.0492, -5.3071, -5.0332, -4.2869, -4.5081, -3.5193, -4.6945, -4.849, -4.356, -5.1795, -5.0449, -4.9693, -4.9808, -5.0682, -4.2973, -5.1469, -5.1128, -5.5461, -5.6234, -5.7051, -5.8925, -5.9225, -5.9258, -5.953, -6.0028, -6.118, -6.143, -6.1493, -6.1771, -6.1494, -6.1618, -6.2627, -6.3008, -6.3035, -6.3833, -6.395, -6.395, -6.394, -6.3508, -6.385, -6.4129, -6.5138, -6.541, -6.5882, -4.0015, -2.1811, -5.6414, -5.1042, -5.1489, -4.3641, -4.2894, -5.7316, -5.7873, -5.3253, -5.4568, -5.5698, -4.7298, -5.5362, -5.9573, -3.3874, -3.3869, -5.4648, -5.31, -4.4513, -4.9683, -4.7475, -5.439, -4.6177, -5.2664, -4.0253, -5.2433, -5.0478, -4.7654, -5.1513, -4.9788, -5.2509, -5.2148, -5.2947, -5.4201, -5.3768, -5.4421, -5.5393, -5.5615, -5.6276, -5.7168, -5.741, -5.7483, -5.7673, -5.8118, -5.8284, -5.8434, -5.8493, -5.9099, -5.9157, -6.0761, -6.1796, -6.1811, -6.1876, -6.2031, -6.2002, -6.3653, -6.3737, -6.3821, -6.4025, -6.4363, -6.2882, -6.5135, -6.5176, -6.5742, -6.4015, -4.1148, -6.1475, -5.4525, -5.0973, -4.0887, -5.5219, -5.4434, -5.989, -4.8758, -4.8436, -5.2849, -5.3771, -5.0061, -5.2776, -3.5912, -5.9078, -4.7223, -5.2757, -4.5812, -5.0724, -4.7619, -4.9112, -5.2556, -5.2281, -4.3191, -5.0362, -5.16, -5.3219, -5.269, -5.3017, -5.3652, -5.3497, -5.4039, -5.4214, -5.4341, -4.8515, -5.4606, -5.5157, -5.6149, -5.8487, -5.8813, -5.9768, -5.9414, -5.9496, -5.9551, -6.2049, -6.3324, -6.3309, -6.3657, -6.3231, -6.3619, -6.3614, -6.4889, -6.5077, -5.4575, -6.5637, -6.6551, -6.5367, -6.3476, -6.7953, -6.3385, -6.8513, -6.8731, -6.8833, -6.902, -3.4232, -5.6862, -4.2677, -5.3557, -5.7135, -4.9741, -4.9802, -5.7999, -5.726, -4.4015, -5.9306, -3.8033, -5.6696, -4.2574, -5.6795, -5.8575, -5.8883, -5.1463, -5.5581, -2.8705, -3.3452, -5.4342, -4.326, -5.0627, -5.4003, -5.5643, -5.3251, -5.5635, -5.1803, -5.0678, -5.0119, -5.1189, -5.2112, -5.1933, -5.3449, -5.2595, -5.1159, -5.2479, -5.3228, -5.4308, -5.4533], \"loglift\": [30.0, 29.0, 28.0, 27.0, 26.0, 25.0, 24.0, 23.0, 22.0, 21.0, 20.0, 19.0, 18.0, 17.0, 16.0, 15.0, 14.0, 13.0, 12.0, 11.0, 10.0, 9.0, 8.0, 7.0, 6.0, 5.0, 4.0, 3.0, 2.0, 1.0, 1.0064, 1.0062, 1.0056, 1.0054, 1.0053, 1.0052, 1.0052, 1.0041, 1.004, 1.004, 1.0038, 1.0037, 1.0036, 1.0034, 1.0034, 1.0034, 1.0032, 1.003, 1.0029, 1.0027, 1.0026, 1.0025, 1.0025, 1.0023, 1.0022, 1.0022, 1.002, 1.0018, 1.0018, 1.0016, 0.9837, 0.9938, 0.9792, 0.9566, 0.991, 0.9502, 0.9127, 0.9679, 0.9485, 0.9455, 0.9519, 0.9206, 0.8896, 0.8823, 0.8818, 0.7884, 0.7248, 0.7798, 0.721, 0.8526, 0.3724, 0.8066, 0.6611, 0.5256, 0.3566, 0.404, 0.3705, 0.6499, 0.3651, 0.3026, -0.0809, 0.1737, 0.3393, 1.4764, 1.4759, 1.4753, 1.4752, 1.475, 1.4741, 1.4737, 1.4736, 1.4735, 1.4729, 1.4728, 1.4728, 1.4727, 1.4725, 1.4725, 1.4725, 1.472, 1.4718, 1.4715, 1.4712, 1.471, 1.471, 1.4707, 1.47, 1.4697, 1.4697, 1.4697, 1.4691, 1.469, 1.4685, 1.4661, 1.4685, 1.4508, 1.4557, 1.4387, 1.4144, 1.4447, 1.4427, 1.367, 1.3792, 1.3136, 1.2326, 1.2169, 1.2114, 1.2348, 1.3847, 1.1671, 1.2774, 1.2909, 1.1152, 0.8544, 1.1499, 1.0658, 0.8458, 1.221, 1.0982, 0.7392, 0.6754, -0.1318, 0.7081, 0.6941, -0.2166, 1.0638, 0.8123, 0.6484, 0.5936, 0.4613, 1.5588, 1.5579, 1.5579, 1.5571, 1.5569, 1.5565, 1.5562, 1.5561, 1.5561, 1.5558, 1.5558, 1.5553, 1.5553, 1.5552, 1.555, 1.5549, 1.5547, 1.5547, 1.5544, 1.5544, 1.5541, 1.5541, 1.5541, 1.5541, 1.554, 1.5539, 1.5538, 1.5533, 1.5532, 1.5526, 1.5386, 1.5201, 1.5501, 1.5317, 1.5309, 1.5005, 1.4834, 1.5233, 1.5122, 1.4607, 1.4657, 1.4381, 1.2769, 1.3962, 1.5003, 0.7712, 0.7525, 1.2973, 1.2182, 0.7321, 0.9338, 0.7821, 1.1947, 0.2772, 0.8934, -0.6378, 0.8053, 0.3067, -0.3669, 0.3918, -0.135, 0.539, 0.3157, 0.5994, 0.2676, 2.0164, 2.0162, 2.0159, 2.0159, 2.0154, 2.0153, 2.0152, 2.0152, 2.0151, 2.0149, 2.0148, 2.0147, 2.0147, 2.0145, 2.0144, 2.0136, 2.0129, 2.0129, 2.0128, 2.0128, 2.0127, 2.0117, 2.0116, 2.0116, 2.0115, 2.0112, 2.0107, 2.0105, 2.0103, 2.0096, 2.003, 1.7636, 1.9542, 1.8345, 1.7363, 1.4857, 1.7921, 1.7347, 1.8959, 1.536, 1.5234, 1.6558, 1.6785, 1.4319, 1.5371, 0.5482, 1.8565, 1.1516, 1.4604, 0.8214, 1.1519, 0.8168, 0.9264, 1.3045, 0.9012, -0.9316, 0.0805, 0.3831, 0.6525, 0.4008, 0.1164, 0.0214, -0.4547, -0.2205, 0.4807, 0.0955, 2.7542, 2.7508, 2.7502, 2.7495, 2.747, 2.7466, 2.7453, 2.7453, 2.7452, 2.7452, 2.7423, 2.7404, 2.7402, 2.7399, 2.7398, 2.7385, 2.7374, 2.7344, 2.7343, 2.7341, 2.7339, 2.7333, 2.7326, 2.7314, 2.7299, 2.7284, 2.7281, 2.7277, 2.727, 2.7266, 2.7163, 2.7262, 2.7061, 2.6786, 2.6836, 2.6018, 2.5554, 2.6407, 2.6097, 2.3888, 2.6326, 2.0947, 2.5565, 2.1608, 2.5466, 2.5621, 2.5643, 2.1954, 2.36, 0.517, 0.7942, 2.2597, 1.2386, 1.8059, 2.1642, 2.325, 2.0289, 2.3149, 1.5569, 1.1033, 0.4061, 0.7383, 0.8433, 0.6442, 1.2555, 0.6305, -0.221, 0.3797, 0.0316, 1.5638, 0.7065]}, \"token.table\": {\"Topic\": [1, 5, 5, 5, 1, 4, 1, 2, 4, 1, 3, 4, 5, 1, 2, 3, 4, 5, 1, 2, 2, 1, 5, 1, 2, 3, 4, 1, 2, 3, 4, 5, 4, 1, 2, 3, 4, 5, 4, 5, 1, 2, 4, 5, 5, 1, 2, 3, 4, 5, 4, 2, 3, 4, 5, 1, 2, 4, 5, 3, 1, 2, 3, 2, 2, 4, 4, 1, 3, 4, 1, 1, 1, 2, 1, 3, 5, 2, 3, 5, 4, 1, 2, 4, 5, 1, 1, 2, 1, 1, 4, 5, 1, 1, 4, 5, 3, 1, 2, 2, 1, 2, 3, 4, 5, 1, 4, 1, 3, 1, 2, 2, 5, 3, 1, 2, 3, 4, 1, 3, 3, 5, 3, 5, 3, 3, 1, 5, 3, 5, 2, 3, 5, 2, 3, 4, 2, 2, 3, 2, 5, 2, 2, 2, 5, 2, 3, 1, 2, 3, 4, 5, 1, 2, 4, 5, 3, 5, 3, 1, 2, 3, 5, 3, 4, 5, 5, 1, 2, 3, 1, 1, 2, 4, 5, 2, 3, 2, 3, 4, 5, 1, 2, 4, 1, 1, 2, 3, 4, 5, 1, 2, 3, 4, 5, 2, 3, 5, 1, 3, 3, 1, 2, 3, 4, 5, 1, 3, 4, 1, 2, 3, 4, 5, 1, 3, 3, 1, 2, 3, 4, 5, 4, 4, 1, 2, 4, 1, 1, 2, 3, 1, 2, 3, 5, 1, 2, 3, 4, 5, 5, 2, 3, 5, 3, 3, 5, 1, 5, 3, 1, 2, 4, 2, 4, 3, 5, 5, 1, 2, 3, 4, 5, 1, 4, 4, 5, 3, 5, 1, 2, 3, 4, 5, 1, 1, 2, 3, 4, 5, 3, 1, 2, 3, 4, 5, 1, 2, 3, 4, 5, 4, 4, 1, 2, 3, 4, 5, 1, 5, 4, 1, 2, 3, 1, 2, 4, 1, 2, 4, 1, 3, 5, 1, 2, 3, 4, 3, 5, 4, 1, 2, 4, 1, 3, 1, 2, 3, 4, 3, 5, 5, 3, 4, 5, 1, 2, 3, 4, 3, 1, 5, 3, 2, 3, 4, 5, 1, 2, 3, 4, 5, 1, 2, 3, 4, 5, 3, 1, 4, 2, 3, 5, 5, 1, 5, 5, 5, 1, 2, 4, 5, 5, 1, 4, 5, 5, 5, 3, 4, 5, 4, 5, 1, 2, 3, 4, 3, 1, 4, 5, 5, 1, 4, 4, 2, 3, 2, 3, 4, 5, 5, 5, 2, 1, 1, 4, 3, 5, 2, 3, 4, 2, 4, 5, 3, 2, 3, 4, 5, 1, 2, 3, 4, 2, 2, 1, 2, 3, 5, 1, 4, 1, 1, 4, 1, 2, 4, 5, 4, 4, 5, 2, 3, 4, 4, 4, 3, 2, 1, 3, 2, 3, 5, 1, 1, 4, 4, 1, 2, 3, 4, 5, 2, 4, 1, 2, 4, 5, 3, 3, 1, 2, 3, 4, 2, 3, 4, 1, 4, 5, 4, 2, 3, 4, 5, 2, 3, 4, 5, 1, 2, 3, 5, 1, 2, 3, 4, 2, 1, 2, 2, 2, 3, 1, 2, 5, 4, 1, 3, 5, 3, 5, 1, 2, 4, 5, 3, 2, 2, 1, 1, 5, 1, 2, 3, 4, 5, 2, 1, 2, 3, 4, 1, 1, 4, 5, 1, 5, 4, 4, 4, 2, 3, 5, 1, 5, 1, 2, 3, 5, 1, 1, 4, 2, 3, 4, 1, 4, 5, 1, 2, 3, 4, 5, 4, 1, 1, 2, 3, 4, 5, 1, 2, 3, 4, 1, 2, 4, 1, 2, 1, 2, 3, 5, 2, 3, 2, 4, 4, 1, 3, 4, 1, 2, 3, 4, 5, 1, 5, 4, 2, 4, 1, 2, 3, 4, 5, 1, 2, 3, 1, 2, 3, 4, 1, 3, 5, 1, 2, 3, 4, 5, 1, 3, 1, 3, 5, 3], \"Freq\": [0.040328404904942224, 0.9593915272123097, 0.973437462834697, 0.9804151868157546, 0.44338131505982936, 0.5563720372847536, 0.32761554775074603, 0.10021181460611055, 0.5723636334233622, 0.6212229512410111, 0.027009693532217875, 0.05016085941697605, 0.30096515650185635, 0.2531699035031312, 0.3458373562207845, 0.04057986491557366, 0.3004121343003662, 0.059355623309346545, 0.9944914233478908, 0.996786274632651, 0.997684026121052, 0.996095663836601, 0.983957746696604, 0.024703795188355575, 0.7328792572545487, 0.1970813882804367, 0.04556477779185584, 0.00014638041175223814, 0.5361914482484483, 0.4546575589024517, 0.0013174237057701434, 0.007758161822868622, 0.9942925259049203, 0.057683593015968614, 0.7826361039521419, 0.14569759139194652, 0.013583555774728093, 0.00037215221300624914, 0.13357576927725115, 0.858701373925186, 0.375083661056269, 0.1545897952292649, 0.41983333862263517, 0.049631460573606095, 0.982950320397132, 0.5294668441632024, 0.1685270406233752, 0.1001873351737388, 0.1983841934897212, 0.0039809537155128, 0.9944165236495022, 0.9980113722334851, 0.5698424778160568, 0.041803116133224245, 0.3850287012270654, 0.40726675027691156, 0.05171641273357607, 0.48968978307104843, 0.05010027483565182, 0.9976027701192637, 0.053924309334144355, 0.25048711432634796, 0.6940580459459225, 0.9897582728079121, 0.41311814225470506, 0.5868086896552234, 0.9985054504133749, 0.9882684297631055, 0.01024112362448814, 0.002560280906122035, 0.99859978591141, 0.9971036698030457, 0.5220790529829769, 0.47781734421873245, 0.15873427474960683, 0.18926009681683892, 0.6471474278253202, 0.9980528719143567, 0.9960295579604044, 0.9735832900354505, 0.9926367651243436, 0.04242351300782037, 0.2969645910547426, 0.3568566094187243, 0.30195559258507443, 0.9987826827784215, 0.9973612404354407, 0.995705965894048, 0.9976555608910196, 0.8831976082858995, 0.07591119938986245, 0.04087526120992593, 0.9983564047193064, 0.8184047262985147, 0.1134317431527734, 0.06784702394184577, 0.995698730243441, 0.9975715818028041, 0.9966604911903624, 0.9975554350795539, 0.11295990482484636, 0.35832976431192987, 0.36057400083162877, 0.08677714542835879, 0.08154059354906128, 0.9944526756728017, 0.9975253031958953, 0.9969272541196182, 0.9972936270120423, 0.1699036081401856, 0.8303115458676896, 0.9971401873308731, 0.9770860930826812, 0.9930440841676497, 0.08295747492176304, 0.7732262756858669, 0.004695706127646964, 0.1377407130776443, 0.08823377165863647, 0.9102010128996183, 0.07057562271735615, 0.9245406575973656, 0.9905840497302872, 0.006077202759081517, 0.9919285588625016, 0.9986880387945045, 0.10596264087316186, 0.8900861833345597, 0.9545813922456061, 0.04400552517444283, 0.6841819420798573, 0.2999874669119374, 0.014736226444796925, 0.26922575062016735, 0.7106307603578836, 0.018783191903732607, 0.996157379283898, 0.9101221740064641, 0.08653620670881135, 0.9982076926039897, 0.9842320652214281, 0.9957884653646377, 0.994119077925997, 0.9934315564471422, 0.005543702881959499, 0.9952656125706895, 0.9973756585190011, 0.6182687127659635, 0.14194689929307489, 0.062476628209980144, 0.13544932995923695, 0.04198429415710665, 0.1193966091254247, 0.06284032059232879, 0.14453273736235622, 0.672391430337918, 0.8851477387465624, 0.11127571572813927, 0.9916705051389668, 0.5470018082894096, 0.004180144823172344, 0.22990796527447893, 0.21856185789729685, 0.31766451280974645, 0.12794820654837008, 0.5515008902946987, 0.9733402671835155, 0.07739668559923528, 0.8955902190768654, 0.026851911330346936, 0.9972277080571859, 0.174925900396132, 0.7203766625404346, 0.04055100418273969, 0.0636094183258662, 0.9989881358273839, 0.9966359854579369, 0.6960899564584112, 0.2880173202924935, 0.006349079204844546, 0.009235024297955703, 0.972689466805999, 0.021681021549880424, 0.0059130058772401154, 0.9941438729884028, 0.00435685949447909, 0.7705832159235351, 0.18356901336738565, 0.040664021948471504, 0.000871371898895818, 0.512603274631446, 0.2799198769318476, 0.0664809707713138, 0.04373748077060118, 0.0962224576953226, 0.020396002072788418, 0.9795908424102093, 0.9977512142143785, 0.027322865791353224, 0.9726940221721748, 0.9892541476567569, 0.07933953770910955, 0.8486058801360945, 0.01267796736588864, 0.04089666892222142, 0.017994534325777425, 0.055508887418245216, 0.9436510861101687, 0.9967433840645314, 0.6996312970110917, 0.061695881570643006, 0.15177186866378178, 0.05305845815075299, 0.03331577604814722, 0.09318450506911374, 0.9055102992585619, 0.9916705051389668, 0.229428100927423, 0.31040272478416053, 0.19793796942758063, 0.2546202061272969, 0.007197744342821114, 0.9941041764628292, 0.9942194344590158, 0.9936842515147949, 0.3817639106100282, 0.6172314321176733, 0.9997034802563918, 0.024184764122340063, 0.033052510967198086, 0.9423996419671845, 0.9168226228655295, 0.005814942639739088, 0.05233448375765179, 0.023259770558956352, 0.32273298323312904, 0.016244948820459515, 0.5133403827265206, 0.018410941996520783, 0.1288765939756455, 0.983811143915508, 0.996855851626121, 0.01982020670838455, 0.9711901287108429, 0.9944172494979883, 0.06087257214595884, 0.9232340108803758, 0.9930746281764711, 0.9753475085890083, 0.9965051293044153, 0.05557820257859417, 0.17000391376981747, 0.7748255300662835, 0.1454794110642902, 0.8513239610428833, 0.3071865160255864, 0.6916782480046316, 0.9838327893263521, 0.8039409001406589, 0.030529401271164262, 0.06805512366697034, 0.004452204352044788, 0.0928602621997913, 0.010220620341769288, 0.9811795528098516, 0.016522221539706505, 0.9748110708426838, 0.9992026654751562, 0.9877209929761842, 0.033913510625526534, 0.37498653177367913, 0.4699443615251534, 0.07364076592971476, 0.047478914875737147, 0.997378967896484, 0.05501075434992628, 0.14336135982102, 0.27005279408145627, 0.01666992556058372, 0.515100699822037, 0.9991102201428144, 0.17016750501698463, 0.14075583748318482, 0.334032509848155, 0.32667959296470506, 0.027310834138528396, 0.2819688600201776, 0.38202232647895035, 0.1728196238833347, 0.044651960237799396, 0.11907189396746505, 0.9922824665837985, 0.9963778293020703, 0.3368771635041739, 0.2115162650162701, 0.2855711587176187, 0.1006759339207876, 0.0653425532658958, 0.9991748044838036, 0.0009408425654273103, 0.9959906126958779, 0.011136644398770313, 0.9777973782120334, 0.011136644398770313, 0.005219280364380693, 0.9737685936973121, 0.02087712145752277, 0.7544423769241442, 0.10150818020324855, 0.14386685690460413, 0.2959444669635621, 0.06039682999256368, 0.6402063979211751, 0.030664747566220084, 0.14496062485849495, 0.7536094023092269, 0.07062184287977959, 0.4272477447666155, 0.5684866686564057, 0.9966789725911909, 0.059953682511862096, 0.3304114058431511, 0.608862953509355, 0.15007230979071434, 0.8488465022537279, 0.015303782159303376, 0.6615942748868076, 0.07651891079651689, 0.24721494257336224, 0.04888097303551602, 0.9482908768890108, 0.9556873027784147, 0.16717576986984994, 0.012859674605373073, 0.8144460583402946, 0.041202431284705174, 0.6626161490212422, 0.27490802512909845, 0.02161439018214042, 0.9952516248308241, 0.020063972224676218, 0.9831346390091347, 0.9961243705106586, 0.18381324916438757, 0.44617794152636886, 0.22976656145548446, 0.1403012065887552, 0.02490681120408667, 0.4732294128776467, 0.3827346655027985, 0.08385293105375845, 0.03569976272585756, 0.273899201389884, 0.4600726799146806, 0.08285207159480476, 0.03509028914603496, 0.1471842683625355, 0.9972427474417052, 0.996755655313883, 0.9921716493187229, 0.9661139733111863, 0.03268806676616796, 0.9823685918279681, 0.9899362229829034, 0.941007689225817, 0.058480703850192016, 0.9707269920496976, 0.9889675644124623, 0.27053875212251977, 0.01856638494958469, 0.7108273094983852, 0.9893797693395264, 0.9597588327949765, 0.9427203134843705, 0.0017457783583043898, 0.05411912910743608, 0.9717522012642171, 0.968259352848127, 0.08925149589447233, 0.05355089753668339, 0.8568143605869343, 0.1078042100688419, 0.8863901716771445, 0.010701850187683184, 0.9389089897994046, 0.035672833958943946, 0.014269133583577578, 0.9936383197918527, 0.9444604113424866, 0.023361211587976702, 0.03226072076434878, 0.984846139493146, 0.995253902312452, 0.9921935047905348, 0.9969745846401945, 0.9944329649741959, 0.9965181998862769, 0.4570466846434078, 0.3109320156397608, 0.1946247391128578, 0.03740535526493363, 0.9942255607146132, 0.9872120303960187, 0.9962743166720033, 0.9960330163267785, 0.9848105363591839, 0.01427261646897368, 0.16601686267270938, 0.8197082594465025, 0.19575669544930818, 0.00686865598067748, 0.7967640937585877, 0.10260651957706392, 0.0855054329808866, 0.8123016133184227, 0.997185369969118, 0.46319352434562033, 0.17826856035670258, 0.3016852559882659, 0.0563755276341709, 0.434767290197655, 0.22164606951252996, 0.23443334275363747, 0.10940222661836416, 0.9946706329877517, 0.989054346749189, 0.8890325131383644, 0.026561604083220027, 0.031248945980258857, 0.053123208166440054, 0.060402249762735644, 0.9362348713224025, 0.9995494708667614, 0.9620492335364669, 0.03653351519758735, 0.7515058335433941, 0.004126318921308958, 0.14906327103228612, 0.09490533519010605, 0.9921868187652559, 0.02060255559359416, 0.9683201128989257, 0.9929017786857993, 0.9936964080973424, 0.9957715187287324, 0.9965265113110705, 0.9936474337149597, 0.9921445812681005, 0.9944366994711532, 0.07280435448180228, 0.9266008752229382, 0.03576206620493372, 0.9614066347372985, 0.0027794351972746413, 0.998144028034147, 0.9955681896378386, 0.0033020503802250038, 0.9904695117226897, 0.7074670507917351, 0.057651564092458044, 0.09471328386618108, 0.1103615655484197, 0.028825782046229022, 0.16716099876878288, 0.8324617738685387, 0.5925054696924694, 0.13909093281135604, 0.07775949787091559, 0.19056552999351142, 0.9939819409463128, 0.9948186870780875, 0.035345766885692464, 0.8181890482799181, 0.12829204277029116, 0.017018332204222296, 0.02590092860335449, 0.9648095904749548, 0.009712848226257934, 0.16087113238259718, 0.010724742158839812, 0.8258051462306655, 0.9908722582889413, 0.4483166423832539, 0.43730249375327407, 0.10647010342313856, 0.007750697184059895, 0.36212786080028225, 0.4595794666525875, 0.1458890904179481, 0.03229165637709523, 0.8825361069548141, 0.029565698725454406, 0.008869709617636322, 0.07834910162245418, 0.007200223102298277, 0.7841697524139396, 0.18786036639632778, 0.02029153783374969, 0.9973732823432321, 0.0101182817039492, 0.9882188464190387, 0.9898978942123017, 0.9675959070872846, 0.029721375985616253, 0.13056741865017765, 0.2611348373003553, 0.6076406791027498, 0.9904196500397077, 0.22547211677587392, 0.7693741528580259, 0.00395565117150656, 0.998189767528246, 0.9916501030078495, 0.5264791417126096, 0.017261611203692115, 0.33503218108984245, 0.1208312784258448, 0.9981419863978558, 0.9914795362584797, 0.9902181455962372, 0.9993456261895972, 0.8566023877299388, 0.1423195189645353, 0.5302989468339607, 0.19998762784980467, 0.11109671540336136, 0.052264877691282734, 0.10628997147061385, 0.9929512705711762, 0.02083764221463641, 0.7664186453578464, 0.1951623075712288, 0.017279995982869216, 0.9968292898065182, 0.910255589072907, 0.03790409066562014, 0.05183941811621577, 0.9768599803758963, 0.02225973662556819, 0.9904705600927461, 0.9902433113255821, 0.9931688346655112, 0.9910065600103078, 0.008304524245896434, 0.9892386472996146, 0.17956094368096792, 0.8208500282558533, 0.4947890217431461, 0.17643639535026917, 0.2945720687587102, 0.034520164307661354, 0.9979228782609887, 0.9926588002740201, 0.9942134503295653, 0.9934513839812361, 0.9945827303572209, 0.9917125282582677, 0.21457864275994531, 0.7542120611859464, 0.03186811526137802, 0.7972563039588688, 0.10504135189600262, 0.04609728392558388, 0.027960647626993504, 0.02418218173145384, 0.9959086140790081, 0.9965895694739464, 0.0616139182789273, 0.5137160459100173, 0.2856645302022993, 0.0056012652980843005, 0.13283000564028483, 0.05272753433372324, 0.1975190175041061, 0.5348078482420501, 0.21509486228201385, 0.17497596500138055, 0.13004970371724228, 0.6951747798703497, 0.9977235518144353, 0.996630008579018, 0.16086680047825636, 0.03932299567246267, 0.31458396537970135, 0.48260040143476907, 0.9068358476296847, 0.09329586909770418, 0.9618948243908816, 0.03693912536063293, 0.9978333944859747, 0.11692613184687732, 0.12891855562604423, 0.7525245921427233, 0.05594245721540232, 0.53160619179008, 0.27726671417688475, 0.08437223055437727, 0.05074561692763271, 0.7756662189181762, 0.22209965487461877, 0.9927486384048887, 0.1154889703519294, 0.8813631947910401, 0.3243182536742338, 0.43641271805095927, 0.18577453365805624, 0.009446162728375741, 0.04408209273242013, 0.02440770770423036, 0.0017434076931593114, 0.9728214927828958, 0.4250811066958199, 0.13399295754542148, 0.02194712235657766, 0.4204606598839088, 0.9511696236867792, 0.01592521439962644, 0.03281559330832115, 0.0896336314893945, 0.20428129967350375, 0.06461959479467975, 0.617012905136297, 0.025014036694714744, 0.9457779383878651, 0.052426714988240856, 0.040668402826010766, 0.40808638697824595, 0.5497246175102145, 0.9943186696090454], \"Term\": [\"aangeefster\", \"aangeefster\", \"aanmerkelijk_onvoorzichtig\", \"aanrijding\", \"aantreffen\", \"aantreffen\", \"aanwezig\", \"aanwezig\", \"aanwezig\", \"aanzien\", \"aanzien\", \"aanzien\", \"aanzien\", \"adres\", \"adres\", \"adres\", \"adres\", \"adres\", \"advocaat_generaal\", \"afgifen\", \"afgifte\", \"afleggen\", \"afpersing_misleiding\", \"alleen\", \"alleen\", \"alleen\", \"alleen\", \"althans\", \"althans\", \"althans\", \"althans\", \"althans\", \"amfetamine\", \"ander\", \"ander\", \"ander\", \"ander\", \"ander\", \"arbeid\", \"arbeid\", \"artikel\", \"artikel\", \"artikel\", \"artikel\", \"assistentie\", \"auto\", \"auto\", \"auto\", \"auto\", \"auto\", \"automatisch\", \"bankpas\", \"baren\", \"baren\", \"baren\", \"bedoelen\", \"bedoelen\", \"bedoelen\", \"bedoelen\", \"bedreigen\", \"bedreiging\", \"bedreiging\", \"bedreiging\", \"bedrieglijk\", \"bedrijf\", \"bedrijf\", \"bedrijfsnaam\", \"begaan\", \"begaan\", \"begaan\", \"begrijpen\", \"bemonstering\", \"benadelen\", \"benadelen\", \"beperken\", \"beperken\", \"beperken\", \"bereik\", \"beroven\", \"bestandsnaam_ag\", \"bestelauto\", \"betalen\", \"betalen\", \"betalen\", \"betalen\", \"betrokken\", \"bevinding\", \"bevoordeel\", \"bewezen_verklaaren\", \"bewijsmiddel\", \"bewijsmiddel\", \"bewijsmiddel\", \"bewijzen\", \"blijken\", \"blijken\", \"blijken\", \"borst\", \"bovendien\", \"braak_verbreking\", \"brand\", \"brengen\", \"brengen\", \"brengen\", \"brengen\", \"brengen\", \"camerabeeld\", \"cocaine\", \"daarom\", \"danwel\", \"deel\", \"deel\", \"dele_toebehorenen\", \"desbevoegd\", \"dichtdrukken\", \"diefstal\", \"diefstal\", \"diefstal\", \"diefstal\", \"dood\", \"dood\", \"dreiging\", \"dreiging\", \"drukken\", \"drukken\", \"dulden\", \"duwen\", \"dwang\", \"dwang\", \"dwingen\", \"dwingen\", \"een\", \"een\", \"een\", \"eenmaal\", \"eenmaal\", \"eenmaal\", \"eigenen\", \"elders\", \"elders\", \"enig\", \"enige_handeling\", \"eren\", \"eur\", \"euro\", \"euro\", \"euro_geboekt\", \"familielid\", \"feit\", \"feit\", \"feit\", \"feit\", \"feit\", \"feitelijk\", \"feitelijk\", \"feitelijk\", \"feitelijk\", \"feitelijkheid\", \"feitelijkheid\", \"fors_stomp\", \"gaan\", \"gaan\", \"gaan\", \"gaan\", \"geboortedatum\", \"geboortedatum\", \"geboortedatum\", \"geboortejaar\", \"geheel\", \"geheel\", \"geheel\", \"geit\", \"geld\", \"geld\", \"geld\", \"geld\", \"geldbedrag\", \"gelijke_dreigenen\", \"gemeente\", \"gemeente\", \"gemeente\", \"gemeente\", \"getuige\", \"getuige\", \"getuige\", \"getuigen\", \"geval\", \"geval\", \"geval\", \"geval\", \"geval\", \"geven\", \"geven\", \"geven\", \"geven\", \"geven\", \"geweld\", \"geweld\", \"gezag\", \"gezicht\", \"gezicht\", \"gezin\", \"goed\", \"goed\", \"goed\", \"goed\", \"goed\", \"gooien\", \"gooien\", \"gram\", \"grond\", \"grond\", \"grond\", \"grond\", \"grond\", \"hard\", \"hard\", \"hard_oppervlak\", \"hebben\", \"hebben\", \"hebben\", \"hebben\", \"hebben\", \"hennep\", \"hennepplant\", \"herkennen\", \"hoeveelheid\", \"hoeveelheid\", \"hof\", \"hoofd\", \"hoofd\", \"hoofd\", \"horen\", \"horen\", \"horen\", \"horen\", \"houden\", \"houden\", \"houden\", \"houden\", \"houden\", \"hulpverlener\", \"inklimming\", \"innemen\", \"innemen\", \"intimideren\", \"invloedssfeer\", \"invloedssfeer\", \"juist\", \"jurk\", \"kapot\", \"kenteken\", \"kenteken\", \"kenteken\", \"kentekenen\", \"kentekenen\", \"kind\", \"kind\", \"koken\", \"komen\", \"komen\", \"komen\", \"komen\", \"komen\", \"koppelen\", \"koppelen\", \"koud\", \"koud\", \"kracht\", \"kwetsbare_positie\", \"laste_gelegd\", \"laste_gelegd\", \"laste_gelegd\", \"laste_gelegd\", \"laste_gelegd\", \"laste_gelegen\", \"laten\", \"laten\", \"laten\", \"laten\", \"laten\", \"lichaam\", \"lid\", \"lid\", \"lid\", \"lid\", \"lid\", \"liggen\", \"liggen\", \"liggen\", \"liggen\", \"liggen\", \"lijst_ii\", \"loods\", \"maken\", \"maken\", \"maken\", \"maken\", \"maken\", \"man\", \"man\", \"materiaal_bevattenen\", \"mededad\", \"mededad\", \"mededad\", \"mededader\", \"mededader\", \"mededader\", \"medeverdacht\", \"medeverdacht\", \"medeverdacht\", \"meenemen\", \"meenemen\", \"meenemen\", \"meermalen\", \"meermalen\", \"meermalen\", \"meermalen\", \"meisje\", \"meisje\", \"mercedes_benz\", \"merk\", \"merk\", \"merk\", \"mes\", \"mes\", \"middel\", \"middel\", \"middel\", \"middel\", \"minderjarig\", \"minderjarig\", \"minderjarige\", \"misbruik\", \"misbruik\", \"misbruik\", \"misdrijf\", \"misdrijf\", \"misdrijf\", \"misdrijf\", \"mishandelen\", \"motorrijtuig\", \"motorrijtuig\", \"naakt\", \"naam\", \"naam\", \"naam\", \"naam\", \"naan\", \"naan\", \"naan\", \"naan\", \"naan\", \"nemen\", \"nemen\", \"nemen\", \"nemen\", \"nemen\", \"neus\", \"nikken\", \"noordwolen\", \"ntezam\", \"ntezam\", \"omgang\", \"omstandigheden_voortvloeien\", \"omstandigheid\", \"omstandigheid\", \"onachtzaam\", \"onderbrengen\", \"onderdeel\", \"onderdeel\", \"onderdeel\", \"onderhoud\", \"ondernomen_waarvan\", \"onderzoek\", \"onderzoek\", \"onderzoek\", \"ongeval\", \"onopletten\", \"onttrekken\", \"onttrekken\", \"onttrekken\", \"onttrekking\", \"onttrekking\", \"oogmerk\", \"oogmerk\", \"oogmerk\", \"oogmerk\", \"oor\", \"oordeel\", \"oordeel\", \"oordeel\", \"opdragen\", \"openbaar_ministerie\", \"opiumwet\", \"opiumwet_behorenen\", \"oplichting\", \"opvoeden\", \"opzettelijk\", \"opzettelijk\", \"opzettelijk\", \"opzettelijk\", \"ouderlijk\", \"overal\", \"overdragen\", \"overtuigend_bewezen\", \"overwegen\", \"overwegen\", \"overwicht\", \"overwicht\", \"pand\", \"pand\", \"pand\", \"paspoort\", \"paspoort\", \"paspoort\", \"penis\", \"periode\", \"periode\", \"periode\", \"periode\", \"persoon\", \"persoon\", \"persoon\", \"persoon\", \"pincode\", \"pinpas\", \"politie\", \"politie\", \"politie\", \"politie\", \"positie\", \"positie\", \"proces_verbaal\", \"raadsman\", \"raadsman\", \"rechtbank\", \"rechtbank\", \"rechtbank\", \"rechtbank\", \"rechtspersoon\", \"roepnaam\", \"roepnaam\", \"samenweefsel\", \"scherp\", \"schiermonnikoog\", \"schip\", \"schip_genaamd\", \"schudden\", \"sieraad\", \"slaan\", \"slaan\", \"slachtoffer\", \"slachtoffer\", \"slachtoffer\", \"slechts\", \"sprake\", \"sprake\", \"sprinter\", \"staan\", \"staan\", \"staan\", \"staan\", \"staan\", \"stelen\", \"stelen\", \"stellen\", \"stellen\", \"stellen\", \"stellen\", \"stevig\", \"stompen\", \"strafrecht\", \"strafrecht\", \"strafrecht\", \"strafrecht\", \"strekking\", \"strekking\", \"strekking\", \"sub\", \"sub\", \"sub\", \"telen\", \"telkens\", \"telkens\", \"telkens\", \"telkens\", \"tenlastelegging\", \"tenlastelegging\", \"tenlastelegging\", \"tenlastelegging\", \"terechtzitting\", \"terechtzitting\", \"terechtzitting\", \"terechtzitting\", \"tezamen\", \"tezamen\", \"tezamen\", \"tezamen\", \"toe_eigening\", \"toebehoren\", \"toebehoren\", \"toeeigening\", \"toegang\", \"toegang\", \"toestemming\", \"toestemming\", \"toestemming\", \"transactie\", \"trekken\", \"trekken\", \"trekken\", \"uf\", \"uitbuiting\", \"uur\", \"uur\", \"uur\", \"uur\", \"vagina\", \"valse_hoedanigheid\", \"valse_sleutel\", \"verbalisant\", \"verdediging\", \"verdediging\", \"verdenken\", \"verdenken\", \"verdenken\", \"verdenken\", \"verdenken\", \"verdichtsel\", \"vereniging\", \"vereniging\", \"vereniging\", \"vereniging\", \"verhoor\", \"verklaren\", \"verklaren\", \"verklaren\", \"verklaring\", \"verklaring\", \"verkoop\", \"verkopen\", \"vermelding\", \"verschaffen\", \"verschaffen\", \"verstandelijk\", \"vertrekken\", \"vertrekken\", \"vervolgens\", \"vervolgens\", \"vervolgens\", \"vervolgens\", \"vervolging\", \"verweer\", \"verwerken\", \"verworven_voorhand\", \"verzorgen\", \"vissersvaartuig\", \"voertuig\", \"voertuig\", \"voertuig\", \"volgen\", \"volgen\", \"volgen\", \"volgen\", \"volgen\", \"volkswagen\", \"vonnis_waarvan\", \"voornoemd\", \"voornoemd\", \"voornoemd\", \"voornoemd\", \"voornoemd\", \"voorwerp\", \"voorwerp\", \"voorwerp\", \"voorwerp\", \"voorzien\", \"voorzien\", \"voorzien\", \"vrijspreken\", \"waarheid\", \"waarna\", \"waarna\", \"waarna\", \"waarna\", \"wederrechtelijk\", \"wederrechtelijk\", \"wegnemen\", \"wegnemen\", \"werknemer\", \"wet\", \"wet\", \"wet\", \"weten\", \"weten\", \"weten\", \"weten\", \"weten\", \"wettig\", \"wettig\", \"wijnjewoud\", \"witwas\", \"witwas\", \"woning\", \"woning\", \"woning\", \"woning\", \"woning\", \"woord\", \"woord\", \"woord\", \"zaak\", \"zaak\", \"zaak\", \"zaak\", \"zien\", \"zien\", \"zien\", \"zijn\", \"zijn\", \"zijn\", \"zijn\", \"zijn\", \"zitten\", \"zitten\", \"zoon\", \"zoon\", \"zoon\", \"zware_mishandeling\"]}, \"R\": 30, \"lambda.step\": 0.01, \"plot.opts\": {\"xlab\": \"PC1\", \"ylab\": \"PC2\"}, \"topic.order\": [1, 4, 5, 3, 2]};\n",
       "\n",
       "function LDAvis_load_lib(url, callback){\n",
       "  var s = document.createElement('script');\n",
       "  s.src = url;\n",
       "  s.async = true;\n",
       "  s.onreadystatechange = s.onload = callback;\n",
       "  s.onerror = function(){console.warn(\"failed to load library \" + url);};\n",
       "  document.getElementsByTagName(\"head\")[0].appendChild(s);\n",
       "}\n",
       "\n",
       "if(typeof(LDAvis) !== \"undefined\"){\n",
       "   // already loaded: just create the visualization\n",
       "   !function(LDAvis){\n",
       "       new LDAvis(\"#\" + \"ldavis_el26131401980574130725282678503\", ldavis_el26131401980574130725282678503_data);\n",
       "   }(LDAvis);\n",
       "}else if(typeof define === \"function\" && define.amd){\n",
       "   // require.js is available: use it to load d3/LDAvis\n",
       "   require.config({paths: {d3: \"https://d3js.org/d3.v5\"}});\n",
       "   require([\"d3\"], function(d3){\n",
       "      window.d3 = d3;\n",
       "      LDAvis_load_lib(\"https://cdn.jsdelivr.net/gh/bmabey/pyLDAvis@3.3.1/pyLDAvis/js/ldavis.v3.0.0.js\", function(){\n",
       "        new LDAvis(\"#\" + \"ldavis_el26131401980574130725282678503\", ldavis_el26131401980574130725282678503_data);\n",
       "      });\n",
       "    });\n",
       "}else{\n",
       "    // require.js not available: dynamically load d3 & LDAvis\n",
       "    LDAvis_load_lib(\"https://d3js.org/d3.v5.js\", function(){\n",
       "         LDAvis_load_lib(\"https://cdn.jsdelivr.net/gh/bmabey/pyLDAvis@3.3.1/pyLDAvis/js/ldavis.v3.0.0.js\", function(){\n",
       "                 new LDAvis(\"#\" + \"ldavis_el26131401980574130725282678503\", ldavis_el26131401980574130725282678503_data);\n",
       "            })\n",
       "         });\n",
       "}\n",
       "</script>"
      ],
      "text/plain": [
       "PreparedData(topic_coordinates=              x         y  topics  cluster       Freq\n",
       "topic                                                \n",
       "0      0.184832 -0.009810       1        1  36.540717\n",
       "3     -0.185015 -0.088361       2        1  22.818216\n",
       "4     -0.207255  0.159046       3        1  21.024705\n",
       "2      0.042317 -0.231914       4        1  13.276395\n",
       "1      0.165121  0.171039       5        1   6.339966, topic_info=            Term          Freq         Total Category  logprob  loglift\n",
       "588  slachtoffer  10793.000000  10793.000000  Default  30.0000  30.0000\n",
       "115    verdenken  14770.000000  14770.000000  Default  29.0000  29.0000\n",
       "174      althans   6831.000000   6831.000000  Default  28.0000  28.0000\n",
       "59          naam   6963.000000   6963.000000  Default  27.0000  27.0000\n",
       "137        ander   5374.000000   5374.000000  Default  26.0000  26.0000\n",
       "..           ...           ...           ...      ...      ...      ...\n",
       "129        weten    166.278465   3271.218483   Topic5  -5.1159  -0.2210\n",
       "46         komen    145.712395   1572.254876   Topic5  -5.2479   0.3797\n",
       "52         maken    135.197597   2066.034969   Topic5  -5.3228   0.0316\n",
       "711      betalen    121.362682    400.721175   Topic5  -5.4308   1.5638\n",
       "148       houden    118.656531    923.363943   Topic5  -5.4533   0.7065\n",
       "\n",
       "[362 rows x 6 columns], token_table=      Topic      Freq                        Term\n",
       "term                                             \n",
       "0         1  0.040328                 aangeefster\n",
       "0         5  0.959392                 aangeefster\n",
       "2168      5  0.973437  aanmerkelijk_onvoorzichtig\n",
       "2169      5  0.980415                  aanrijding\n",
       "228       1  0.443381                  aantreffen\n",
       "...     ...       ...                         ...\n",
       "700       3  0.052427                      zitten\n",
       "792       1  0.040668                        zoon\n",
       "792       3  0.408086                        zoon\n",
       "792       5  0.549725                        zoon\n",
       "704       3  0.994319          zware_mishandeling\n",
       "\n",
       "[629 rows x 3 columns], R=30, lambda_step=0.01, plot_opts={'xlab': 'PC1', 'ylab': 'PC2'}, topic_order=[1, 4, 5, 3, 2])"
      ]
     },
     "execution_count": 21,
     "metadata": {},
     "output_type": "execute_result"
    }
   ],
   "source": [
    "# Visualize the topics\n",
    "pyLDAvis.enable_notebook()\n",
    "vis = gensimvis.prepare(lda_model, corpus, id2word)\n",
    "vis"
   ]
  },
  {
   "cell_type": "markdown",
   "metadata": {},
   "source": [
    "# How to find the optimal number fo topics for LDA?"
   ]
  },
  {
   "cell_type": "code",
   "execution_count": 24,
   "metadata": {},
   "outputs": [],
   "source": [
    "def compute_coherence_values(dictionary, corpus, texts, limit, start=2, step=3):\n",
    "    \"\"\"\n",
    "    Compute c_v coherence for various number of topics\n",
    "\n",
    "    Parameters:\n",
    "    ----------\n",
    "    dictionary : Gensim dictionary\n",
    "    corpus : Gensim corpus\n",
    "    texts : List of input texts\n",
    "    limit : Max num of topics\n",
    "\n",
    "    Returns:\n",
    "    -------\n",
    "    model_list : List of LDA topic models\n",
    "    coherence_values : Coherence values corresponding to the LDA model with respective number of topics\n",
    "    \"\"\"\n",
    "    coherence_values = []\n",
    "    model_list = []\n",
    "    for num_topics in range(start, limit, step):\n",
    "        model = gensim.models.ldamodel.LdaModel(corpus=corpus, num_topics=num_topics, id2word=id2word)\n",
    "        model_list.append(model)\n",
    "        coherencemodel = CoherenceModel(model=model, texts=texts, dictionary=dictionary, coherence='c_v')\n",
    "        coherence_values.append(coherencemodel.get_coherence())\n",
    "\n",
    "    return model_list, coherence_values\n"
   ]
  },
  {
   "cell_type": "code",
   "execution_count": 29,
   "metadata": {},
   "outputs": [],
   "source": [
    "# Can take a long time to run.\n",
    "model_list, coherence_values = compute_coherence_values(dictionary=id2word, corpus=corpus, texts=data_lemmatized, start=2, limit=40, step=6)"
   ]
  },
  {
   "cell_type": "code",
   "execution_count": 34,
   "metadata": {},
   "outputs": [
    {
     "data": {
      "image/png": "[encoded data removed]",
      "text/plain": [
       "<Figure size 432x288 with 1 Axes>"
      ]
     },
     "metadata": {
      "needs_background": "light"
     },
     "output_type": "display_data"
    }
   ],
   "source": [
    "# Show graph\n",
    "\n",
    "plt.plot(coherence_values)\n",
    "plt.xlabel(\"Num Topics\")\n",
    "plt.ylabel(\"Coherence score\")\n",
    "plt.legend((\"coherence_values\"), loc='best')\n",
    "plt.show()"
   ]
  },
  {
   "cell_type": "code",
   "execution_count": 35,
   "metadata": {},
   "outputs": [
    {
     "data": {
      "text/plain": [
       "[0.3148511647865818, 0.29420350009193635, 0.3387446040576319]"
      ]
     },
     "execution_count": 35,
     "metadata": {},
     "output_type": "execute_result"
    }
   ],
   "source": [
    "coherence_values"
   ]
  },
  {
   "cell_type": "code",
   "execution_count": null,
   "metadata": {},
   "outputs": [],
   "source": []
  },
  {
   "cell_type": "code",
   "execution_count": null,
   "metadata": {},
   "outputs": [],
   "source": []
  },
  {
   "cell_type": "code",
   "execution_count": null,
   "metadata": {},
   "outputs": [],
   "source": []
  }
 ],
 "metadata": {
  "interpreter": {
   "hash": "40d3a090f54c6569ab1632332b64b2c03c39dcf918b08424e98f38b5ae0af88f"
  },
  "kernelspec": {
   "display_name": "Python 3.7.10 64-bit ('base': conda)",
   "language": "python",
   "name": "python3"
  },
  "language_info": {
   "codemirror_mode": {
    "name": "ipython",
    "version": 3
   },
   "file_extension": ".py",
   "mimetype": "text/x-python",
   "name": "python",
   "nbconvert_exporter": "python",
   "pygments_lexer": "ipython3",
   "version": "3.7.10"
  },
  "orig_nbformat": 4
 },
 "nbformat": 4,
 "nbformat_minor": 2
}
