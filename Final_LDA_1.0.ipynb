{
 "cells": [
  {
   "cell_type": "markdown",
   "metadata": {},
   "source": [
    "# Final LDA Model"
   ]
  },
  {
   "cell_type": "code",
   "execution_count": 49,
   "metadata": {},
   "outputs": [],
   "source": [
    "import re\n",
    "import numpy as np\n",
    "import pandas as pd\n",
    "from pprint import pprint\n",
    "\n",
    "# Gensim\n",
    "import gensim\n",
    "import gensim.corpora as corpora\n",
    "from gensim.utils import simple_preprocess\n",
    "from gensim.models import CoherenceModel\n",
    "\n",
    "# spacy for lemmatization\n",
    "import spacy\n",
    "\n",
    "# Plotting tools\n",
    "import pyLDAvis\n",
    "# import pyLDAvis.gensim  # Author: don't skip this\n",
    "# pyLDAvis.gensim.prepare\n",
    "\n",
    "# I think i need another one:\n",
    "import pyLDAvis.gensim_models\n",
    "import pyLDAvis.gensim_models as gensimvis\n",
    "\n",
    "# Plots\n",
    "import matplotlib.pyplot as plt\n",
    "%matplotlib inline\n",
    "\n",
    "# Enable logging for gensim - optional\n",
    "import logging\n",
    "logging.basicConfig(format='%(asctime)s : %(levelname)s : %(message)s', level=logging.ERROR)\n",
    "\n",
    "import warnings\n",
    "warnings.filterwarnings(\"ignore\",category=DeprecationWarning)"
   ]
  },
  {
   "cell_type": "code",
   "execution_count": 50,
   "metadata": {},
   "outputs": [],
   "source": [
    "# NLTK Stop words\n",
    "from nltk.corpus import stopwords\n",
    "stop_words = stopwords.words('dutch')\n",
    "stop_words.extend(['tenlastelegging\\\\n\\\\n\\\\naan', '\\\\n\\\\n\\\\n\\\\n\\\\n\\\\n', '\\\\n\\\\n\\\\n\\\\n\\\\n', '\\\\n\\\\n', 'een', 'naan', 'nde', 'nhij', '\\\\n'])"
   ]
  },
  {
   "cell_type": "markdown",
   "metadata": {},
   "source": [
    "# Data Test"
   ]
  },
  {
   "cell_type": "code",
   "execution_count": 51,
   "metadata": {},
   "outputs": [],
   "source": [
    "# Data\n",
    "df = pd.read_csv('/Users/dj/Python - UvA/DSP/data/DataSample_DSP_0712.csv', index_col=1) \n",
    "df = df[df['re_tll'] != '[]'][['re_tll']] #re_bewijs\n",
    "# data = [i for i in df['re_tll']]"
   ]
  },
  {
   "cell_type": "markdown",
   "metadata": {},
   "source": [
    "# Data Final"
   ]
  },
  {
   "cell_type": "code",
   "execution_count": 52,
   "metadata": {},
   "outputs": [],
   "source": [
    "df = pd.read_csv('/Users/dj/Python - UvA/DSP/data/dataset_10012022.csv', index_col=1) "
   ]
  },
  {
   "cell_type": "code",
   "execution_count": 53,
   "metadata": {},
   "outputs": [
    {
     "data": {
      "text/html": [
       "<div>\n",
       "<style scoped>\n",
       "    .dataframe tbody tr th:only-of-type {\n",
       "        vertical-align: middle;\n",
       "    }\n",
       "\n",
       "    .dataframe tbody tr th {\n",
       "        vertical-align: top;\n",
       "    }\n",
       "\n",
       "    .dataframe thead th {\n",
       "        text-align: right;\n",
       "    }\n",
       "</style>\n",
       "<table border=\"1\" class=\"dataframe\">\n",
       "  <thead>\n",
       "    <tr style=\"text-align: right;\">\n",
       "      <th></th>\n",
       "      <th>Unnamed: 0</th>\n",
       "      <th>ecli</th>\n",
       "      <th>subject</th>\n",
       "      <th>spatial</th>\n",
       "      <th>case_nr</th>\n",
       "      <th>date</th>\n",
       "      <th>bewijs</th>\n",
       "      <th>tll</th>\n",
       "    </tr>\n",
       "    <tr>\n",
       "      <th>filename</th>\n",
       "      <th></th>\n",
       "      <th></th>\n",
       "      <th></th>\n",
       "      <th></th>\n",
       "      <th></th>\n",
       "      <th></th>\n",
       "      <th></th>\n",
       "      <th></th>\n",
       "    </tr>\n",
       "  </thead>\n",
       "  <tbody>\n",
       "    <tr>\n",
       "      <th>ECLI_NL_GHARL_2021_1844.xml</th>\n",
       "      <td>0</td>\n",
       "      <td>ECLI:NL:GHARL:2021:1844</td>\n",
       "      <td>Strafrecht</td>\n",
       "      <td>Leeuwarden</td>\n",
       "      <td>Wahv 200.253.228</td>\n",
       "      <td>2021-02-25</td>\n",
       "      <td>[]</td>\n",
       "      <td>[]</td>\n",
       "    </tr>\n",
       "    <tr>\n",
       "      <th>ECLI_NL_HR_2021_218.xml</th>\n",
       "      <td>1</td>\n",
       "      <td>ECLI:NL:HR:2021:218</td>\n",
       "      <td>Strafrecht</td>\n",
       "      <td>NaN</td>\n",
       "      <td>19/04191</td>\n",
       "      <td>2021-02-16</td>\n",
       "      <td>[]</td>\n",
       "      <td>[]</td>\n",
       "    </tr>\n",
       "    <tr>\n",
       "      <th>ECLI_NL_GHARL_2020_149.xml</th>\n",
       "      <td>2</td>\n",
       "      <td>ECLI:NL:GHARL:2020:149</td>\n",
       "      <td>Strafrecht</td>\n",
       "      <td>NaN</td>\n",
       "      <td>21-005398-18</td>\n",
       "      <td>2020-01-06</td>\n",
       "      <td>[]</td>\n",
       "      <td>[]</td>\n",
       "    </tr>\n",
       "    <tr>\n",
       "      <th>ECLI_NL_PHR_2019_165.xml</th>\n",
       "      <td>3</td>\n",
       "      <td>ECLI:NL:PHR:2019:165</td>\n",
       "      <td>Strafrecht</td>\n",
       "      <td>NaN</td>\n",
       "      <td>16/06093</td>\n",
       "      <td>2019-01-08</td>\n",
       "      <td>[]</td>\n",
       "      <td>[]</td>\n",
       "    </tr>\n",
       "    <tr>\n",
       "      <th>ECLI_NL_RBGEL_2018_50.xml</th>\n",
       "      <td>4</td>\n",
       "      <td>ECLI:NL:RBGEL:2018:50</td>\n",
       "      <td>Strafrecht</td>\n",
       "      <td>Arnhem</td>\n",
       "      <td>05/881874-16</td>\n",
       "      <td>2018-01-08</td>\n",
       "      <td>[]</td>\n",
       "      <td>[\"[' tenlastelegging\\\\n\\\\n\\\\naan verdachte is ...</td>\n",
       "    </tr>\n",
       "  </tbody>\n",
       "</table>\n",
       "</div>"
      ],
      "text/plain": [
       "                             Unnamed: 0                     ecli     subject  \\\n",
       "filename                                                                       \n",
       "ECLI_NL_GHARL_2021_1844.xml           0  ECLI:NL:GHARL:2021:1844  Strafrecht   \n",
       "ECLI_NL_HR_2021_218.xml               1      ECLI:NL:HR:2021:218  Strafrecht   \n",
       "ECLI_NL_GHARL_2020_149.xml            2   ECLI:NL:GHARL:2020:149  Strafrecht   \n",
       "ECLI_NL_PHR_2019_165.xml              3     ECLI:NL:PHR:2019:165  Strafrecht   \n",
       "ECLI_NL_RBGEL_2018_50.xml             4    ECLI:NL:RBGEL:2018:50  Strafrecht   \n",
       "\n",
       "                                spatial           case_nr        date bewijs  \\\n",
       "filename                                                                       \n",
       "ECLI_NL_GHARL_2021_1844.xml  Leeuwarden  Wahv 200.253.228  2021-02-25     []   \n",
       "ECLI_NL_HR_2021_218.xml             NaN          19/04191  2021-02-16     []   \n",
       "ECLI_NL_GHARL_2020_149.xml          NaN      21-005398-18  2020-01-06     []   \n",
       "ECLI_NL_PHR_2019_165.xml            NaN          16/06093  2019-01-08     []   \n",
       "ECLI_NL_RBGEL_2018_50.xml        Arnhem      05/881874-16  2018-01-08     []   \n",
       "\n",
       "                                                                           tll  \n",
       "filename                                                                        \n",
       "ECLI_NL_GHARL_2021_1844.xml                                                 []  \n",
       "ECLI_NL_HR_2021_218.xml                                                     []  \n",
       "ECLI_NL_GHARL_2020_149.xml                                                  []  \n",
       "ECLI_NL_PHR_2019_165.xml                                                    []  \n",
       "ECLI_NL_RBGEL_2018_50.xml    [\"[' tenlastelegging\\\\n\\\\n\\\\naan verdachte is ...  "
      ]
     },
     "execution_count": 53,
     "metadata": {},
     "output_type": "execute_result"
    }
   ],
   "source": [
    "df.head()"
   ]
  },
  {
   "cell_type": "code",
   "execution_count": 54,
   "metadata": {},
   "outputs": [],
   "source": [
    "df_be = df[df['bewijs'] != '[]'] #bewijs\n",
    "df_te = df[df['tll'] != '[]'] #tenlastelegging"
   ]
  },
  {
   "cell_type": "code",
   "execution_count": 55,
   "metadata": {},
   "outputs": [
    {
     "data": {
      "text/html": [
       "<div>\n",
       "<style scoped>\n",
       "    .dataframe tbody tr th:only-of-type {\n",
       "        vertical-align: middle;\n",
       "    }\n",
       "\n",
       "    .dataframe tbody tr th {\n",
       "        vertical-align: top;\n",
       "    }\n",
       "\n",
       "    .dataframe thead th {\n",
       "        text-align: right;\n",
       "    }\n",
       "</style>\n",
       "<table border=\"1\" class=\"dataframe\">\n",
       "  <thead>\n",
       "    <tr style=\"text-align: right;\">\n",
       "      <th></th>\n",
       "      <th>Unnamed: 0</th>\n",
       "      <th>ecli</th>\n",
       "      <th>subject</th>\n",
       "      <th>spatial</th>\n",
       "      <th>case_nr</th>\n",
       "      <th>date</th>\n",
       "      <th>bewijs</th>\n",
       "      <th>tll</th>\n",
       "    </tr>\n",
       "    <tr>\n",
       "      <th>filename</th>\n",
       "      <th></th>\n",
       "      <th></th>\n",
       "      <th></th>\n",
       "      <th></th>\n",
       "      <th></th>\n",
       "      <th></th>\n",
       "      <th></th>\n",
       "      <th></th>\n",
       "    </tr>\n",
       "  </thead>\n",
       "  <tbody>\n",
       "    <tr>\n",
       "      <th>ECLI_NL_GHSHE_2021_1801.xml</th>\n",
       "      <td>9</td>\n",
       "      <td>ECLI:NL:GHSHE:2021:1801</td>\n",
       "      <td>Strafrecht</td>\n",
       "      <td>'s-Hertogenbosch</td>\n",
       "      <td>20-003457-18</td>\n",
       "      <td>2021-02-10</td>\n",
       "      <td>['[\\'\\\\n\\\\n\\\\n\\\\n\\\\n\\\\nbewijsmiddelen\\\\n\\\\n\\\\n...</td>\n",
       "      <td>[]</td>\n",
       "    </tr>\n",
       "    <tr>\n",
       "      <th>ECLI_NL_GHARL_2020_820.xml</th>\n",
       "      <td>10</td>\n",
       "      <td>ECLI:NL:GHARL:2020:820</td>\n",
       "      <td>Strafrecht</td>\n",
       "      <td>Leeuwarden</td>\n",
       "      <td>21-001899-19</td>\n",
       "      <td>2020-01-30</td>\n",
       "      <td>[\"['\\\\n\\\\n\\\\n\\\\n\\\\n\\\\nbewijsmiddelen, feiten e...</td>\n",
       "      <td>[\"[' tenlastelegging\\\\n\\\\n\\\\naan verdachte is ...</td>\n",
       "    </tr>\n",
       "    <tr>\n",
       "      <th>ECLI_NL_RBROT_2021_2966.xml</th>\n",
       "      <td>24</td>\n",
       "      <td>ECLI:NL:RBROT:2021:2966</td>\n",
       "      <td>Strafrecht</td>\n",
       "      <td>Rotterdam</td>\n",
       "      <td>10.295806.20</td>\n",
       "      <td>2021-02-09</td>\n",
       "      <td>['[\\'\\\\n\\\\nbewijswaardering\\\\n\\\\n\\\\n4.1.1.\\\\n\\...</td>\n",
       "      <td>[]</td>\n",
       "    </tr>\n",
       "    <tr>\n",
       "      <th>ECLI_NL_RBMNE_2019_6577.xml</th>\n",
       "      <td>28</td>\n",
       "      <td>ECLI:NL:RBMNE:2019:6577</td>\n",
       "      <td>Strafrecht</td>\n",
       "      <td>Utrecht</td>\n",
       "      <td>16/018445-18</td>\n",
       "      <td>2019-01-18</td>\n",
       "      <td>[\"['\\\\n\\\\n\\\\nbewijsmiddelen\\\\n\\\\n\\\\n\\\\n       ...</td>\n",
       "      <td>[\"['\\\\n\\\\n2tenlastelegging\\\\n\\\\n\\\\nde tenlaste...</td>\n",
       "    </tr>\n",
       "    <tr>\n",
       "      <th>ECLI_NL_GHAMS_2018_185.xml</th>\n",
       "      <td>32</td>\n",
       "      <td>ECLI:NL:GHAMS:2018:185</td>\n",
       "      <td>Strafrecht</td>\n",
       "      <td>Amsterdam</td>\n",
       "      <td>23-002003-17</td>\n",
       "      <td>2018-01-24</td>\n",
       "      <td>[\"['\\\\n\\\\n\\\\n\\\\n\\\\n\\\\nbewijsverweren\\\\n\\\\n\\\\n\\...</td>\n",
       "      <td>[]</td>\n",
       "    </tr>\n",
       "  </tbody>\n",
       "</table>\n",
       "</div>"
      ],
      "text/plain": [
       "                             Unnamed: 0                     ecli     subject  \\\n",
       "filename                                                                       \n",
       "ECLI_NL_GHSHE_2021_1801.xml           9  ECLI:NL:GHSHE:2021:1801  Strafrecht   \n",
       "ECLI_NL_GHARL_2020_820.xml           10   ECLI:NL:GHARL:2020:820  Strafrecht   \n",
       "ECLI_NL_RBROT_2021_2966.xml          24  ECLI:NL:RBROT:2021:2966  Strafrecht   \n",
       "ECLI_NL_RBMNE_2019_6577.xml          28  ECLI:NL:RBMNE:2019:6577  Strafrecht   \n",
       "ECLI_NL_GHAMS_2018_185.xml           32   ECLI:NL:GHAMS:2018:185  Strafrecht   \n",
       "\n",
       "                                      spatial       case_nr        date  \\\n",
       "filename                                                                  \n",
       "ECLI_NL_GHSHE_2021_1801.xml  's-Hertogenbosch  20-003457-18  2021-02-10   \n",
       "ECLI_NL_GHARL_2020_820.xml         Leeuwarden  21-001899-19  2020-01-30   \n",
       "ECLI_NL_RBROT_2021_2966.xml         Rotterdam  10.295806.20  2021-02-09   \n",
       "ECLI_NL_RBMNE_2019_6577.xml           Utrecht  16/018445-18  2019-01-18   \n",
       "ECLI_NL_GHAMS_2018_185.xml          Amsterdam  23-002003-17  2018-01-24   \n",
       "\n",
       "                                                                        bewijs  \\\n",
       "filename                                                                         \n",
       "ECLI_NL_GHSHE_2021_1801.xml  ['[\\'\\\\n\\\\n\\\\n\\\\n\\\\n\\\\nbewijsmiddelen\\\\n\\\\n\\\\n...   \n",
       "ECLI_NL_GHARL_2020_820.xml   [\"['\\\\n\\\\n\\\\n\\\\n\\\\n\\\\nbewijsmiddelen, feiten e...   \n",
       "ECLI_NL_RBROT_2021_2966.xml  ['[\\'\\\\n\\\\nbewijswaardering\\\\n\\\\n\\\\n4.1.1.\\\\n\\...   \n",
       "ECLI_NL_RBMNE_2019_6577.xml  [\"['\\\\n\\\\n\\\\nbewijsmiddelen\\\\n\\\\n\\\\n\\\\n       ...   \n",
       "ECLI_NL_GHAMS_2018_185.xml   [\"['\\\\n\\\\n\\\\n\\\\n\\\\n\\\\nbewijsverweren\\\\n\\\\n\\\\n\\...   \n",
       "\n",
       "                                                                           tll  \n",
       "filename                                                                        \n",
       "ECLI_NL_GHSHE_2021_1801.xml                                                 []  \n",
       "ECLI_NL_GHARL_2020_820.xml   [\"[' tenlastelegging\\\\n\\\\n\\\\naan verdachte is ...  \n",
       "ECLI_NL_RBROT_2021_2966.xml                                                 []  \n",
       "ECLI_NL_RBMNE_2019_6577.xml  [\"['\\\\n\\\\n2tenlastelegging\\\\n\\\\n\\\\nde tenlaste...  \n",
       "ECLI_NL_GHAMS_2018_185.xml                                                  []  "
      ]
     },
     "execution_count": 55,
     "metadata": {},
     "output_type": "execute_result"
    }
   ],
   "source": [
    "df_be.head()"
   ]
  },
  {
   "cell_type": "code",
   "execution_count": 56,
   "metadata": {},
   "outputs": [],
   "source": [
    "df['bete'] = df['bewijs'] + df['tll'] \n",
    "df = df[df['bete'] != '[][]']\n",
    "df = df.drop(labels=['bewijs', 'tll'], axis=1)"
   ]
  },
  {
   "cell_type": "code",
   "execution_count": 57,
   "metadata": {},
   "outputs": [
    {
     "data": {
      "text/html": [
       "<div>\n",
       "<style scoped>\n",
       "    .dataframe tbody tr th:only-of-type {\n",
       "        vertical-align: middle;\n",
       "    }\n",
       "\n",
       "    .dataframe tbody tr th {\n",
       "        vertical-align: top;\n",
       "    }\n",
       "\n",
       "    .dataframe thead th {\n",
       "        text-align: right;\n",
       "    }\n",
       "</style>\n",
       "<table border=\"1\" class=\"dataframe\">\n",
       "  <thead>\n",
       "    <tr style=\"text-align: right;\">\n",
       "      <th></th>\n",
       "      <th>Unnamed: 0</th>\n",
       "      <th>ecli</th>\n",
       "      <th>subject</th>\n",
       "      <th>spatial</th>\n",
       "      <th>case_nr</th>\n",
       "      <th>date</th>\n",
       "      <th>bete</th>\n",
       "    </tr>\n",
       "    <tr>\n",
       "      <th>filename</th>\n",
       "      <th></th>\n",
       "      <th></th>\n",
       "      <th></th>\n",
       "      <th></th>\n",
       "      <th></th>\n",
       "      <th></th>\n",
       "      <th></th>\n",
       "    </tr>\n",
       "  </thead>\n",
       "  <tbody>\n",
       "    <tr>\n",
       "      <th>ECLI_NL_RBGEL_2018_50.xml</th>\n",
       "      <td>4</td>\n",
       "      <td>ECLI:NL:RBGEL:2018:50</td>\n",
       "      <td>Strafrecht</td>\n",
       "      <td>Arnhem</td>\n",
       "      <td>05/881874-16</td>\n",
       "      <td>2018-01-08</td>\n",
       "      <td>[][\"[' tenlastelegging\\\\n\\\\n\\\\naan verdachte i...</td>\n",
       "    </tr>\n",
       "    <tr>\n",
       "      <th>ECLI_NL_GHAMS_2019_194.xml</th>\n",
       "      <td>5</td>\n",
       "      <td>ECLI:NL:GHAMS:2019:194</td>\n",
       "      <td>Strafrecht</td>\n",
       "      <td>Amsterdam</td>\n",
       "      <td>23-005312-13</td>\n",
       "      <td>2019-01-25</td>\n",
       "      <td>[][\"['\\\\ntenlastelegging\\\\n\\\\n\\\\naan de verdac...</td>\n",
       "    </tr>\n",
       "    <tr>\n",
       "      <th>ECLI_NL_RBOVE_2021_606.xml</th>\n",
       "      <td>8</td>\n",
       "      <td>ECLI:NL:RBOVE:2021:606</td>\n",
       "      <td>Strafrecht</td>\n",
       "      <td>Almelo</td>\n",
       "      <td>08/760218-17 (P)</td>\n",
       "      <td>2021-02-10</td>\n",
       "      <td>[][\"[' tenlastelegging\\\\n\\\\n\\\\nde verdenking k...</td>\n",
       "    </tr>\n",
       "    <tr>\n",
       "      <th>ECLI_NL_GHSHE_2021_1801.xml</th>\n",
       "      <td>9</td>\n",
       "      <td>ECLI:NL:GHSHE:2021:1801</td>\n",
       "      <td>Strafrecht</td>\n",
       "      <td>'s-Hertogenbosch</td>\n",
       "      <td>20-003457-18</td>\n",
       "      <td>2021-02-10</td>\n",
       "      <td>['[\\'\\\\n\\\\n\\\\n\\\\n\\\\n\\\\nbewijsmiddelen\\\\n\\\\n\\\\n...</td>\n",
       "    </tr>\n",
       "    <tr>\n",
       "      <th>ECLI_NL_GHARL_2020_820.xml</th>\n",
       "      <td>10</td>\n",
       "      <td>ECLI:NL:GHARL:2020:820</td>\n",
       "      <td>Strafrecht</td>\n",
       "      <td>Leeuwarden</td>\n",
       "      <td>21-001899-19</td>\n",
       "      <td>2020-01-30</td>\n",
       "      <td>[\"['\\\\n\\\\n\\\\n\\\\n\\\\n\\\\nbewijsmiddelen, feiten e...</td>\n",
       "    </tr>\n",
       "  </tbody>\n",
       "</table>\n",
       "</div>"
      ],
      "text/plain": [
       "                             Unnamed: 0                     ecli     subject  \\\n",
       "filename                                                                       \n",
       "ECLI_NL_RBGEL_2018_50.xml             4    ECLI:NL:RBGEL:2018:50  Strafrecht   \n",
       "ECLI_NL_GHAMS_2019_194.xml            5   ECLI:NL:GHAMS:2019:194  Strafrecht   \n",
       "ECLI_NL_RBOVE_2021_606.xml            8   ECLI:NL:RBOVE:2021:606  Strafrecht   \n",
       "ECLI_NL_GHSHE_2021_1801.xml           9  ECLI:NL:GHSHE:2021:1801  Strafrecht   \n",
       "ECLI_NL_GHARL_2020_820.xml           10   ECLI:NL:GHARL:2020:820  Strafrecht   \n",
       "\n",
       "                                      spatial           case_nr        date  \\\n",
       "filename                                                                      \n",
       "ECLI_NL_RBGEL_2018_50.xml              Arnhem      05/881874-16  2018-01-08   \n",
       "ECLI_NL_GHAMS_2019_194.xml          Amsterdam      23-005312-13  2019-01-25   \n",
       "ECLI_NL_RBOVE_2021_606.xml             Almelo  08/760218-17 (P)  2021-02-10   \n",
       "ECLI_NL_GHSHE_2021_1801.xml  's-Hertogenbosch      20-003457-18  2021-02-10   \n",
       "ECLI_NL_GHARL_2020_820.xml         Leeuwarden      21-001899-19  2020-01-30   \n",
       "\n",
       "                                                                          bete  \n",
       "filename                                                                        \n",
       "ECLI_NL_RBGEL_2018_50.xml    [][\"[' tenlastelegging\\\\n\\\\n\\\\naan verdachte i...  \n",
       "ECLI_NL_GHAMS_2019_194.xml   [][\"['\\\\ntenlastelegging\\\\n\\\\n\\\\naan de verdac...  \n",
       "ECLI_NL_RBOVE_2021_606.xml   [][\"[' tenlastelegging\\\\n\\\\n\\\\nde verdenking k...  \n",
       "ECLI_NL_GHSHE_2021_1801.xml  ['[\\'\\\\n\\\\n\\\\n\\\\n\\\\n\\\\nbewijsmiddelen\\\\n\\\\n\\\\n...  \n",
       "ECLI_NL_GHARL_2020_820.xml   [\"['\\\\n\\\\n\\\\n\\\\n\\\\n\\\\nbewijsmiddelen, feiten e...  "
      ]
     },
     "execution_count": 57,
     "metadata": {},
     "output_type": "execute_result"
    }
   ],
   "source": [
    "df.head()"
   ]
  },
  {
   "cell_type": "markdown",
   "metadata": {},
   "source": [
    "# Tokenize "
   ]
  },
  {
   "cell_type": "code",
   "execution_count": 58,
   "metadata": {},
   "outputs": [
    {
     "name": "stdout",
     "output_type": "stream",
     "text": [
      "[['tenlastelegging', 'naan', 'verdachte', 'is', 'ten', 'laste', 'gelegd', 'dat', 'nhij', 'in', 'of', 'omstreeks', 'de', 'periode', 'van', 'november', 'tot', 'en', 'met', 'november', 'in', 'arnhem', 'en', 'of', 'in', 'nederland', 'en', 'of', 'in', 'duitsland', 'en', 'of', 'in', 'oostenrijk', 'en', 'of', 'in', 'hongarije', 'opzettelijk', 'een', 'of', 'meer', 'minderjarige', 'te', 'weten', 'naam', 'geboren', 'op', 'geboortedatum', 'in', 'geboorteplaats', 'en', 'of', 'naam', 'geboren', 'op', 'geboortedatum', 'in', 'geboorteplaats', 'heeft', 'onttrokken', 'aan', 'het', 'wettig', 'over', 'hen', 'haar', 'gesteld', 'gezag', 'en', 'of', 'aan', 'het', 'opzicht', 'van', 'degene', 'die', 'dit', 'desbevoegd', 'over', 'hen', 'haar', 'uitoefende', 'terwijl', 'die', 'minderjarige', 'beneden', 'de', 'twaalf', 'jaren', 'oud', 'was', 'waren', 'en', 'of', 'terwijl', 'list', 'was', 'gebezigd', 'bestaande', 'uit', 'het', 'door', 'verdachte', 'aan', 'de', 'school', 'van', 'de', 'minderjarig', 'in', 'strijd', 'met', 'de', 'waarheid', 'mededelen', 'dat', 'de', 'minderjarige', 'een', 'afspraak', 'bij', 'de', 'tandarts', 'zou', 'den', 'hebben', 'en', 'de', 'minderjarige', 'daarvoor', 'vroeger', 'op', 'te', 'halen', 'van', 'school', 'en', 'of', 'het', 'door', 'verdachte', 'uit', 'het', 'huis', 'lokken', 'van', 'zijn', 'verdachtes', 'echtgenote', 'genaamd', 'naam', 'door', 'het', 'maken', 'van', 'een', 'afspraak', 'met', 'haar', 'bij', 'een', 'woonboulevard', 'om', 'beweerdelijk', 'te', 'gaan', 'shoppen', 'zodat', 'verdachte', 'de', 'paspoorten', 'en', 'kleding', 'toiletartikelen', 'van', 'de', 'minderjarige', 'en', 'uit', 'de', 'woning', 'kon', 'pakken', 'toverwegingen', 'ten', 'aanzien', 'van', 'het', 'bewijs', 'nde', 'feiten', 'nop', 'grond', 'van', 'de', 'bewijsmiddelen', 'wordt', 'het', 'volgende', 'dat', 'verder', 'ook', 'niet', 'ter', 'discussie', 'staat', 'vastgesteld', 'naangeefster', 'naam', 'en', 'verdachte', 'zijn', 'getrouwd', 'en', 'hebben', 'samen', 'twee', 'kinderen', 'naam', 'geboren', 'op', 'geboortedatum', 'te', 'geboorteplaats', 'en', 'naam', 'geboren', 'op', 'geboortedatum', 'te', 'geboorteplaats', 'aangeefster', 'en', 'verdachte', 'hebben', 'beiden', 'gezag', 'over', 'deze', 'kinderen', 'verdachte', 'heeft', 'op', 'november', 'de', 'kinderen', 'eerder', 'van', 'school', 'gehaald', 'hij', 'is', 'vervolgens', 'in', 'een', 'bus', 'gestapt', 'in', 'nijmegen', 'heeft', 'in', 'kleve', 'duitsland', 'een', 'trein', 'genomen', 'in', 'dusseldorf', 'duitsland', 'de', 'bus', 'genomen', 'naar', 'salzburg', 'oostenrijk', 'en', 'heeft', 'vanuit', 'daar', 'een', 'trein', 'naar', 'boekarest', 'roemenie', 'genomen', 'in', 'deze', 'trein', 'is', 'hij', 'op', 'november', 'aangehouden', 'toen', 'de', 'trein', 'zich', 'in', 'hongarije', 'bevond', 'nhet', 'standpunt', 'van', 'de', 'officier', 'van', 'justitie', 'nde', 'officier', 'van', 'justitie', 'heeft', 'gesteld', 'dat', 'wettig', 'en', 'overtuigend', 'bewezen', 'kan', 'worden', 'dat', 'verdachte', 'zich', 'schuldig', 'heeft', 'gemaakt', 'aan', 'het', 'ten', 'laste', 'gelegde', 'nhet', 'standpunt', 'van', 'de', 'verdediging', 'nde', 'verdediging', 'heeft', 'zich', 'op', 'het', 'standpunt', 'gesteld', 'dat', 'verdachte', 'van', 'het', 'ten', 'laste', 'gelegde', 'dient', 'te', 'worden', 'vrijgesproken', 'omdat', 'verdachte', 'niet', 'het', 'opzet', 'had', 'de', 'kinderen', 'aan', 'het', 'gezag', 'van', 'aangeefster', 'te', 'onttrekken', 'daarnaast', 'heeft', 'verdachte', 'volgens', 'de', 'verdediging', 'ook', 'geen', 'list', 'gebezigd', 'nbeoordeling', 'door', 'de', 'rechtbank', 'naangeefster', 'heeft', 'verklaard', 'dat', 'zij', 'op', 'november', 'omstreeks', 'uur', 'door', 'verdachte', 'werd', 'gebeld', 'hij', 'vroeg', 'haar', 'of', 'ze', 'om', 'uur', 'op', 'hem', 'wilde', 'wachten', 'bij', 'de', 'woonboulevard', 'in', 'arnhem', 'zuid', 'zodat', 'ze', 'samen', 'konden', 'gaan', 'shoppen', 'aangeefster', 'is', 'vervolgens', 'naar', 'de', 'woonboulevard', 'gegaan', 'maar', 'verdachte', 'was', 'daar', 'niet', 'op', 'het', 'afgesproken', 'tijdstip', 'aanwezig', 'omstreeks', 'uur', 'is', 'zij', 'naar', 'de', 'school', 'van', 'haar', 'kinderen', 'gegaan', 'om', 'hen', 'op', 'te', 'halen', 'daar', 'hoorde', 'ze', 'van', 'de', 'leerkracht', 'dat', 'haar', 'kinderen', 'omstreeks', 'uur', 'waren', 'opgehaald', 'door', 'verdachte', 'met', 'de', 'mededeling', 'dat', 'ze', 'een', 'afspraak', 'hadden', 'bij', 'de', 'tandarts', 'aangeefster', 'raakte', 'in', 'paniek', 'omdat', 'ze', 'wist', 'dat', 'haar', 'kinderen', 'geen', 'afspraak', 'bij', 'de', 'tandarts', 'hadden', 'zij', 'heeft', 'verdachte', 'toen', 'meermalen', 'proberen', 'te', 'bellen', 'verdachte', 'nam', 'zijn', 'telefoon', 'echter', 'niet', 'op', 'zij', 'heeft', 'toen', 'de', 'voicemail', 'ingesproken', 'met', 'de', 'vraag', 'waarom', 'hij', 'hun', 'kinderen', 'had', 'meegenomen', 'eenmaal', 'thuis', 'gekomen', 'kwam', 'ze', 'er', 'achter', 'dat', 'de', 'paspoorten', 'van', 'de', 'kinderen', 'en', 'van', 'verdachte', 'weg', 'waren', 'ook', 'waren', 'de', 'toiletartikelen', 'en', 'wat', 'kleding', 'van', 'de', 'kinderen', 'weg', 'nde', 'leerkracht', 'van', 'naam', 'getuige', 'heeft', 'verklaard', 'dat', 'verdachte', 'in', 'de', 'ochtend', 'net', 'voor', 'het', 'begin', 'van', 'de', 'schooldag', 'al', 'naar', 'haar', 'toe', 'was', 'gekomen', 'om', 'te', 'vertellen', 'dat', 'hij', 'met', 'zijn', 'dochter', 'naar', 'de', 'tandarts', 'zou', 'gaan', 'aan', 'het', 'einde', 'van', 'de', 'ochtend', 'heeft', 'hij', 'haar', 'toen', 'opgehaald', 'naam', 'moeder', 'is', 'toen', 'nog', 'na', 'schooltijd', 'geweest', 'om', 'haar', 'op', 'te', 'halen', 'de', 'leerkracht', 'van', 'naam', 'getuige', 'heeft', 'verklaard', 'dat', 'verdachte', 'in', 'de', 'ochtend', 'tegen', 'hem', 'had', 'gezegd', 'dat', 'hij', 'naam']]\n"
     ]
    }
   ],
   "source": [
    "def sent_to_words(sentences):\n",
    "    for sentence in sentences:\n",
    "        yield(gensim.utils.simple_preprocess(str(sentence), deacc=True))  # deacc=True removes punctuations\n",
    "\n",
    "data_words = list(sent_to_words(df['bete']))\n",
    "\n",
    "print(data_words[:1])"
   ]
  },
  {
   "cell_type": "markdown",
   "metadata": {},
   "source": [
    "# Creating Bigram and Trigram Models"
   ]
  },
  {
   "cell_type": "code",
   "execution_count": 59,
   "metadata": {},
   "outputs": [
    {
     "name": "stdout",
     "output_type": "stream",
     "text": [
      "['tenlastelegging', 'naan', 'verdachte', 'is', 'ten', 'laste', 'gelegd', 'dat', 'nhij', 'in', 'of', 'omstreeks', 'de', 'periode', 'van', 'november', 'tot', 'en', 'met', 'november', 'in', 'arnhem', 'en', 'of', 'in', 'nederland', 'en', 'of', 'in', 'duitsland', 'en', 'of', 'in', 'oostenrijk', 'en', 'of', 'in', 'hongarije', 'opzettelijk', 'een', 'of', 'meer', 'minderjarige', 'te', 'weten', 'naam', 'geboren', 'op', 'geboortedatum', 'in', 'geboorteplaats', 'en', 'of', 'naam', 'geboren', 'op', 'geboortedatum', 'in', 'geboorteplaats', 'heeft', 'onttrokken', 'aan', 'het', 'wettig', 'over', 'hen', 'haar', 'gesteld', 'gezag', 'en', 'of', 'aan', 'het', 'opzicht', 'van', 'degene', 'die', 'dit', 'desbevoegd', 'over', 'hen', 'haar', 'uitoefende', 'terwijl', 'die', 'minderjarige', 'beneden', 'de', 'twaalf_jaren', 'oud', 'was', 'waren', 'en', 'of', 'terwijl', 'list', 'was', 'gebezigd', 'bestaande', 'uit', 'het', 'door', 'verdachte', 'aan', 'de', 'school', 'van', 'de', 'minderjarig', 'in', 'strijd', 'met', 'de', 'waarheid', 'mededelen', 'dat', 'de', 'minderjarige', 'een', 'afspraak', 'bij', 'de', 'tandarts', 'zou', 'den', 'hebben', 'en', 'de', 'minderjarige', 'daarvoor', 'vroeger', 'op', 'te', 'halen', 'van', 'school', 'en', 'of', 'het', 'door', 'verdachte', 'uit', 'het', 'huis', 'lokken', 'van', 'zijn', 'verdachtes', 'echtgenote', 'genaamd', 'naam', 'door', 'het', 'maken', 'van', 'een', 'afspraak', 'met', 'haar', 'bij', 'een', 'woonboulevard', 'om', 'beweerdelijk', 'te', 'gaan', 'shoppen', 'zodat', 'verdachte', 'de', 'paspoorten', 'en', 'kleding', 'toiletartikelen', 'van', 'de', 'minderjarige', 'en', 'uit', 'de', 'woning', 'kon', 'pakken', 'toverwegingen', 'ten', 'aanzien', 'van', 'het', 'bewijs', 'nde', 'feiten', 'nop', 'grond', 'van', 'de', 'bewijsmiddelen', 'wordt', 'het', 'volgende', 'dat', 'verder', 'ook', 'niet', 'ter', 'discussie_staat', 'vastgesteld', 'naangeefster', 'naam', 'en', 'verdachte', 'zijn', 'getrouwd', 'en', 'hebben', 'samen', 'twee', 'kinderen', 'naam', 'geboren', 'op', 'geboortedatum', 'te', 'geboorteplaats', 'en', 'naam', 'geboren', 'op', 'geboortedatum', 'te', 'geboorteplaats', 'aangeefster', 'en', 'verdachte', 'hebben', 'beiden', 'gezag', 'over', 'deze', 'kinderen', 'verdachte', 'heeft', 'op', 'november', 'de', 'kinderen', 'eerder', 'van', 'school', 'gehaald', 'hij', 'is', 'vervolgens', 'in', 'een', 'bus', 'gestapt', 'in', 'nijmegen', 'heeft', 'in', 'kleve', 'duitsland', 'een', 'trein', 'genomen', 'in', 'dusseldorf', 'duitsland', 'de', 'bus', 'genomen', 'naar', 'salzburg', 'oostenrijk', 'en', 'heeft', 'vanuit', 'daar', 'een', 'trein', 'naar', 'boekarest', 'roemenie', 'genomen', 'in', 'deze', 'trein', 'is', 'hij', 'op', 'november', 'aangehouden', 'toen', 'de', 'trein', 'zich', 'in', 'hongarije', 'bevond', 'nhet', 'standpunt', 'van', 'de', 'officier', 'van', 'justitie', 'nde', 'officier', 'van', 'justitie', 'heeft', 'gesteld', 'dat', 'wettig', 'en', 'overtuigend', 'bewezen', 'kan', 'worden', 'dat', 'verdachte', 'zich', 'schuldig', 'heeft', 'gemaakt', 'aan', 'het', 'ten', 'laste', 'gelegde', 'nhet', 'standpunt', 'van', 'de', 'verdediging', 'nde', 'verdediging', 'heeft', 'zich', 'op', 'het', 'standpunt_gesteld', 'dat', 'verdachte', 'van', 'het', 'ten', 'laste', 'gelegde', 'dient', 'te', 'worden', 'vrijgesproken', 'omdat', 'verdachte', 'niet', 'het', 'opzet', 'had', 'de', 'kinderen', 'aan', 'het', 'gezag', 'van', 'aangeefster', 'te', 'onttrekken', 'daarnaast', 'heeft', 'verdachte', 'volgens', 'de', 'verdediging', 'ook', 'geen', 'list', 'gebezigd', 'nbeoordeling', 'door', 'de', 'rechtbank', 'naangeefster', 'heeft', 'verklaard', 'dat', 'zij', 'op', 'november', 'omstreeks', 'uur', 'door', 'verdachte', 'werd', 'gebeld', 'hij', 'vroeg', 'haar', 'of', 'ze', 'om', 'uur', 'op', 'hem', 'wilde', 'wachten', 'bij', 'de', 'woonboulevard', 'in', 'arnhem', 'zuid', 'zodat', 'ze', 'samen', 'konden', 'gaan', 'shoppen', 'aangeefster', 'is', 'vervolgens', 'naar', 'de', 'woonboulevard', 'gegaan', 'maar', 'verdachte', 'was', 'daar', 'niet', 'op', 'het', 'afgesproken', 'tijdstip', 'aanwezig', 'omstreeks', 'uur', 'is', 'zij', 'naar', 'de', 'school', 'van', 'haar', 'kinderen', 'gegaan', 'om', 'hen', 'op', 'te', 'halen', 'daar', 'hoorde', 'ze', 'van', 'de', 'leerkracht', 'dat', 'haar', 'kinderen', 'omstreeks', 'uur', 'waren', 'opgehaald', 'door', 'verdachte', 'met', 'de', 'mededeling', 'dat', 'ze', 'een', 'afspraak', 'hadden', 'bij', 'de', 'tandarts', 'aangeefster', 'raakte', 'in', 'paniek', 'omdat', 'ze', 'wist', 'dat', 'haar', 'kinderen', 'geen', 'afspraak', 'bij', 'de', 'tandarts', 'hadden', 'zij', 'heeft', 'verdachte', 'toen', 'meermalen', 'proberen', 'te', 'bellen', 'verdachte', 'nam', 'zijn', 'telefoon', 'echter', 'niet', 'op', 'zij', 'heeft', 'toen', 'de', 'voicemail', 'ingesproken', 'met', 'de', 'vraag', 'waarom', 'hij', 'hun', 'kinderen', 'had', 'meegenomen', 'eenmaal', 'thuis', 'gekomen', 'kwam', 'ze', 'er', 'achter', 'dat', 'de', 'paspoorten', 'van', 'de', 'kinderen', 'en', 'van', 'verdachte', 'weg', 'waren', 'ook', 'waren', 'de', 'toiletartikelen', 'en', 'wat', 'kleding', 'van', 'de', 'kinderen', 'weg', 'nde', 'leerkracht', 'van', 'naam', 'getuige', 'heeft', 'verklaard', 'dat', 'verdachte', 'in', 'de', 'ochtend', 'net', 'voor', 'het', 'begin', 'van', 'de', 'schooldag', 'al', 'naar', 'haar', 'toe', 'was', 'gekomen', 'om', 'te', 'vertellen', 'dat', 'hij', 'met', 'zijn', 'dochter', 'naar', 'de', 'tandarts', 'zou', 'gaan', 'aan', 'het', 'einde', 'van', 'de', 'ochtend', 'heeft', 'hij', 'haar', 'toen', 'opgehaald', 'naam', 'moeder', 'is', 'toen', 'nog', 'na', 'schooltijd', 'geweest', 'om', 'haar', 'op', 'te', 'halen', 'de', 'leerkracht', 'van', 'naam', 'getuige', 'heeft', 'verklaard', 'dat', 'verdachte', 'in', 'de', 'ochtend', 'tegen', 'hem', 'had', 'gezegd', 'dat', 'hij', 'naam']\n"
     ]
    }
   ],
   "source": [
    "# Build the bigram and trigram models\n",
    "bigram = gensim.models.Phrases(data_words, min_count=5, threshold=100) # higher threshold fewer phrases.\n",
    "trigram = gensim.models.Phrases(bigram[data_words], threshold=100)  \n",
    "\n",
    "# Faster way to get a sentence clubbed as a trigram/bigram\n",
    "bigram_mod = gensim.models.phrases.Phraser(bigram)\n",
    "trigram_mod = gensim.models.phrases.Phraser(trigram)\n",
    "\n",
    "# See trigram example\n",
    "print(trigram_mod[bigram_mod[data_words[0]]])"
   ]
  },
  {
   "cell_type": "markdown",
   "metadata": {},
   "source": [
    "# Remove Stopwords, Make Bigrams and Lemmatize"
   ]
  },
  {
   "cell_type": "code",
   "execution_count": 60,
   "metadata": {},
   "outputs": [],
   "source": [
    "# Define functions for stopwords, bigrams, trigrams and lemmatization\n",
    "def remove_stopwords(texts):\n",
    "    return [[word for word in simple_preprocess(str(doc)) if word not in stop_words] for doc in texts]\n",
    "\n",
    "def make_bigrams(texts):\n",
    "    return [bigram_mod[doc] for doc in texts]\n",
    "\n",
    "def make_trigrams(texts):\n",
    "    return [trigram_mod[bigram_mod[doc]] for doc in texts]\n",
    "\n",
    "def lemmatization(texts, allowed_postags=['NOUN', 'ADJ', 'VERB', 'ADV']):\n",
    "    \"\"\"https://spacy.io/api/annotation\"\"\"\n",
    "    texts_out = []\n",
    "    for sent in texts:\n",
    "        doc = nlp(\" \".join(sent)) \n",
    "        texts_out.append([token.lemma_ for token in doc if token.pos_ in allowed_postags])\n",
    "    return texts_out"
   ]
  },
  {
   "cell_type": "code",
   "execution_count": 61,
   "metadata": {},
   "outputs": [
    {
     "name": "stdout",
     "output_type": "stream",
     "text": [
      "[['tenlastelegging', 'verdenken', 'last', 'leggen', 'periode', 'oostenrijk', 'opzettelijk', 'minderjarig', 'weten', 'naam', 'baren', 'geboortedatum', 'geboorteplaats', 'naam', 'baren', 'geboortedatum', 'geboorteplaats', 'onttrekken', 'wettig', 'stellen', 'gezag', 'opzicht', 'desbevoegd', 'uitoefenen', 'minderjarig', 'twaalf_jar', 'oud', 'list', 'bezigen', 'bestaan', 'verdenken', 'school', 'minderjarig', 'strijd', 'waarheid', 'mededeel', 'minderjarig', 'afspraak', 'tandarts', 'minderjarig', 'daarvoor', 'vroeger', 'halen', 'school', 'verdenken', 'huis', 'lok', 'verdachte', 'echtgenote', 'genaamd', 'naam', 'maken', 'afspraak', 'woonboulevard', 'beweerdelijk', 'gaan', 'shopp', 'verdenken', 'paspoort', 'kleding', 'toiletartikel', 'minderjarig', 'woning', 'toverweging', 'aanzien', 'bewijs', 'feit', 'nop', 'grond', 'bewijsmiddel', 'volgen', 'ver', 'discussie', 'staan', 'vaststellen', 'naangeefst', 'naam', 'verdenken', 'trouwen', 'samen', 'kind', 'naam', 'baren', 'geboortedatum', 'geboorteplaats', 'naam', 'baren', 'geboortedatum', 'geboorteplaats', 'aangeefster', 'verdenken', 'gezag', 'kind', 'verdenken', 'kind', 'eerder', 'school', 'halen', 'vervolgens', 'bus', 'stappen', 'nijmeg', 'klev', 'trein', 'nemen', 'dusseldorf', 'nemen', 'oostenrijk', 'trein', 'boekarest', 'roemenie', 'nemen', 'trein', 'aanhouden', 'trein', 'bevinden', 'standpunt', 'officier', 'justitie', 'officier', 'justitie', 'stellen', 'wettig', 'overtuigen', 'bewijzen', 'verdenken', 'schuldig', 'maken', 'last', 'leggen', 'standpunt', 'verdediging', 'verdediging', 'standpunt', 'stellen', 'verdenken', 'last', 'leggen', 'dienen', 'vrijspreken', 'verdenken', 'opzet', 'kind', 'gezag', 'aangeefster', 'onttrekken', 'daarnaast', 'verdenken', 'verdediging', 'list', 'bezigen', 'nbeoordeling', 'rechtbank', 'naangeefster', 'verklaren', 'uur', 'verdenken', 'bellen', 'vroeg', 'uur', 'willen', 'wachten', 'arnhem', 'zuid', 'samen', 'gaan', 'shoppen', 'aangeefster', 'vervolgens', 'woonboulevard', 'gaan', 'verdenken', 'afspreken', 'tijdstip', 'aanwezig', 'uur', 'school', 'kind', 'gaan', 'halen', 'horen', 'leerkracht', 'kind', 'uur', 'ophalen', 'verdenken', 'mededeling', 'afspraak', 'tandarts', 'aangeefster', 'raken', 'paniek', 'weten', 'kind', 'afspraak', 'tandarts', 'verdenken', 'meermalen', 'proberen', 'bellen', 'verdenken', 'nemen', 'telefoon', 'echter', 'voicemail', 'inspreken', 'vraag', 'waarom', 'kind', 'meenemen', 'eenmaal', 'thuis', 'komen', 'komen', 'paspoort', 'kind', 'verdenken', 'weg', 'toiletartikel', 'kleding', 'kind', 'weg', 'leerkracht', 'naam', 'getuige', 'verklaren', 'verdenken', 'ochtend', 'net', 'begin', 'schooldag', 'komen', 'vertellen', 'dochter', 'tandarts', 'gaan', 'einde', 'ochtend', 'ophalen', 'naam', 'moeder', 'schooltijd', 'halen', 'leerkracht', 'naam', 'getuige', 'verklaren', 'verdenken', 'ochtend', 'zeggen', 'naam']]\n"
     ]
    }
   ],
   "source": [
    "# Remove Stop Words\n",
    "data_words_nostops = remove_stopwords(data_words)\n",
    "\n",
    "# Form Bigrams\n",
    "data_words_bigrams = make_bigrams(data_words_nostops)\n",
    "\n",
    "# Initialize spacy 'en' model, keeping only tagger component (for efficiency)\n",
    "# python3 -m spacy download en\n",
    "# nlp = spacy.load('nl', disable=['parser', 'ner'])\n",
    "\n",
    "nlp = spacy.load(\"nl_core_news_sm\")\n",
    "\n",
    "# Do lemmatization keeping only noun, adj, vb, adv\n",
    "data_lemmatized = lemmatization(data_words_bigrams, allowed_postags=['NOUN', 'ADJ', 'VERB', 'ADV'])\n",
    "\n",
    "print(data_lemmatized[:1])"
   ]
  },
  {
   "cell_type": "markdown",
   "metadata": {},
   "source": [
    "#  Create the Dictionary and Corpus needed for Topic Modeling"
   ]
  },
  {
   "cell_type": "code",
   "execution_count": 62,
   "metadata": {},
   "outputs": [
    {
     "name": "stdout",
     "output_type": "stream",
     "text": [
      "[[(0, 4), (1, 1), (2, 1), (3, 1), (4, 4), (5, 1), (6, 1), (7, 4), (8, 1), (9, 2), (10, 1), (11, 1), (12, 1), (13, 1), (14, 1), (15, 1), (16, 2), (17, 1), (18, 1), (19, 1), (20, 1), (21, 1), (22, 1), (23, 1), (24, 1), (25, 1), (26, 1), (27, 1), (28, 1), (29, 1), (30, 1), (31, 1), (32, 5), (33, 4), (34, 4), (35, 1), (36, 2), (37, 3), (38, 1), (39, 4), (40, 1), (41, 1), (42, 1), (43, 2), (44, 10), (45, 2), (46, 1), (47, 3), (48, 3), (49, 3), (50, 3), (51, 2), (52, 1), (53, 2), (54, 1), (55, 1), (56, 1), (57, 1), (58, 6), (59, 1), (60, 10), (61, 1), (62, 1), (63, 1), (64, 4), (65, 1), (66, 1), (67, 1), (68, 3), (69, 2), (70, 2), (71, 2), (72, 2), (73, 1), (74, 1), (75, 1), (76, 1), (77, 1), (78, 1), (79, 2), (80, 1), (81, 1), (82, 1), (83, 1), (84, 1), (85, 2), (86, 4), (87, 1), (88, 1), (89, 1), (90, 1), (91, 1), (92, 1), (93, 3), (94, 1), (95, 3), (96, 1), (97, 4), (98, 1), (99, 1), (100, 1), (101, 1), (102, 2), (103, 1), (104, 4), (105, 1), (106, 1), (107, 1), (108, 4), (109, 1), (110, 1), (111, 1), (112, 3), (113, 19), (114, 3), (115, 1), (116, 2), (117, 1), (118, 1), (119, 1), (120, 1), (121, 1), (122, 1), (123, 1), (124, 1), (125, 1), (126, 2), (127, 2), (128, 2), (129, 1), (130, 1), (131, 2), (132, 1), (133, 1)]]\n"
     ]
    }
   ],
   "source": [
    "# Create Dictionary\n",
    "id2word = corpora.Dictionary(data_lemmatized)\n",
    "\n",
    "# Create Corpus\n",
    "texts = data_lemmatized\n",
    "\n",
    "# Term Document Frequency\n",
    "corpus = [id2word.doc2bow(text) for text in texts]\n",
    "# corpus1 = [str(item) for item in corpus]\n",
    "\n",
    "# View\n",
    "print(corpus[:1])"
   ]
  },
  {
   "cell_type": "code",
   "execution_count": 63,
   "metadata": {},
   "outputs": [
    {
     "data": {
      "text/plain": [
       "'aangeefster'"
      ]
     },
     "execution_count": 63,
     "metadata": {},
     "output_type": "execute_result"
    }
   ],
   "source": [
    "# Id word\n",
    "id2word[0]"
   ]
  },
  {
   "cell_type": "markdown",
   "metadata": {},
   "source": [
    "# Building the Topic Model"
   ]
  },
  {
   "cell_type": "code",
   "execution_count": 64,
   "metadata": {},
   "outputs": [],
   "source": [
    "# Build LDA model\n",
    "lda_model = gensim.models.ldamodel.LdaModel(corpus=corpus,\n",
    "                                           id2word=id2word,\n",
    "                                           num_topics=5, \n",
    "                                           random_state=100,\n",
    "                                           update_every=1,\n",
    "                                           chunksize=100,\n",
    "                                           passes=10,\n",
    "                                           alpha='auto',\n",
    "                                           per_word_topics=True)"
   ]
  },
  {
   "cell_type": "markdown",
   "metadata": {},
   "source": [
    "# View the topics in LDA model"
   ]
  },
  {
   "cell_type": "code",
   "execution_count": 65,
   "metadata": {},
   "outputs": [
    {
     "name": "stdout",
     "output_type": "stream",
     "text": [
      "[(0,\n",
      "  '0.052*\"verdenken\" + 0.019*\"medeverdacht\" + 0.015*\"rechtbank\" + 0.014*\"naam\" '\n",
      "  '+ 0.010*\"uur\" + 0.008*\"aantreffen\" + 0.008*\"verklaren\" + 0.007*\"gaan\" + '\n",
      "  '0.007*\"zeggen\" + 0.007*\"kenteken\"'),\n",
      " (1,\n",
      "  '0.071*\"slachtoffer\" + 0.033*\"verdenken\" + 0.025*\"naam\" + 0.023*\"althans\" + '\n",
      "  '0.020*\"ander\" + 0.012*\"geval\" + 0.011*\"geweld\" + 0.011*\"weten\" + '\n",
      "  '0.008*\"goed\" + 0.008*\"vereniging\"'),\n",
      " (2,\n",
      "  '0.037*\"verdenken\" + 0.030*\"slachtoffer\" + 0.021*\"zien\" + '\n",
      "  '0.012*\"verbalisant\" + 0.011*\"man\" + 0.009*\"komen\" + 0.009*\"verklaren\" + '\n",
      "  '0.009*\"bijnaam\" + 0.008*\"auto\" + 0.008*\"rechtbank\"'),\n",
      " (3,\n",
      "  '0.051*\"verdenken\" + 0.029*\"hof\" + 0.028*\"benadelen\" + 0.014*\"verklaren\" + '\n",
      "  '0.012*\"feit\" + 0.012*\"aangeefster\" + 0.011*\"bewijzen\" + 0.009*\"verklaring\" '\n",
      "  '+ 0.008*\"omstandigheid\" + 0.008*\"oordeel\"'),\n",
      " (4,\n",
      "  '0.027*\"verdenken\" + 0.023*\"naam\" + 0.017*\"bedrijf\" + 0.017*\"althans\" + '\n",
      "  '0.015*\"ander\" + 0.012*\"telkens\" + 0.010*\"periode\" + 0.009*\"geval\" + '\n",
      "  '0.009*\"weten\" + 0.008*\"geld\"')]\n"
     ]
    }
   ],
   "source": [
    "# Print the Keyword in the 10 topics\n",
    "pprint(lda_model.print_topics())\n",
    "doc_lda = lda_model[corpus]"
   ]
  },
  {
   "cell_type": "markdown",
   "metadata": {},
   "source": [
    "# Compute Model Perplexity and Coherence Score"
   ]
  },
  {
   "cell_type": "code",
   "execution_count": 66,
   "metadata": {},
   "outputs": [
    {
     "name": "stdout",
     "output_type": "stream",
     "text": [
      "\n",
      "Perplexity:  -7.31093644701238\n",
      "\n",
      "Coherence Score:  0.46799674466118263\n"
     ]
    }
   ],
   "source": [
    "# Compute Perplexity\n",
    "print('\\nPerplexity: ', lda_model.log_perplexity(corpus))  # a measure of how good the model is. lower the better.\n",
    "\n",
    "# Compute Coherence Score\n",
    "coherence_model_lda = CoherenceModel(model=lda_model, texts=data_lemmatized, dictionary=id2word, coherence='c_v')\n",
    "coherence_lda = coherence_model_lda.get_coherence()\n",
    "print('\\nCoherence Score: ', coherence_lda)"
   ]
  },
  {
   "cell_type": "markdown",
   "metadata": {},
   "source": [
    "# Visualize the topics-keywords"
   ]
  },
  {
   "cell_type": "code",
   "execution_count": 67,
   "metadata": {},
   "outputs": [
    {
     "data": {
      "text/html": [
       "\n",
       "<link rel=\"stylesheet\" type=\"text/css\" href=\"https://cdn.jsdelivr.net/gh/bmabey/pyLDAvis@3.3.1/pyLDAvis/js/ldavis.v1.0.0.css\">\n",
       "\n",
       "\n",
       "<div id=\"ldavis_el21291403981604782887278446535\"></div>\n",
       "<script type=\"text/javascript\">\n",
       "\n",
       "var ldavis_el21291403981604782887278446535_data = {\"mdsDat\": {\"x\": [0.0579985169089683, 0.134833542874757, -0.13771004543096405, 0.148864382467532, -0.20398639682029326], \"y\": [0.02908145936927812, -0.1322807666922149, -0.16666518451325238, 0.13673320546446208, 0.13313128637172716], \"topics\": [1, 2, 3, 4, 5], \"cluster\": [1, 1, 1, 1, 1], \"Freq\": [26.778485514026734, 22.29000535028974, 19.755070712148008, 16.939939226086302, 14.236499197449218]}, \"tinfo\": {\"Term\": [\"slachtoffer\", \"hof\", \"benadelen\", \"naam\", \"althans\", \"bedrijf\", \"zien\", \"ander\", \"aangeefster\", \"medeverdacht\", \"loods\", \"undercover_agenten\", \"telefoonnummer\", \"mercedes_sprinter\", \"doorzoeking\", \"herkenning\", \"volkswagen\", \"ontmoeting\", \"wod_traject\", \"mercedes_benz\", \"kenteken\", \"aantreffen\", \"overval\", \"gesprek\", \"drug\", \"uur\", \"medeverdacht\", \"medeverdachen\", \"verdenken\", \"rechtbank\", \"adres\", \"zeggen\", \"naam\", \"woning\", \"verklaren\", \"gaan\", \"bloed\", \"geit\", \"zover_inhoudenen\", \"links\", \"ongeval\", \"schot\", \"ontvoering\", \"kruising\", \"motorrijtuig\", \"kogel\", \"aanmerkelijke_kans\", \"rennen\", \"bijnaam\", \"nikken\", \"richting\", \"zien\", \"man\", \"verbalisant\", \"lopen\", \"rijden\", \"letsel\", \"camerabeeld\", \"slachtoffer\", \"auto\", \"verdenken\", \"komen\", \"verklaren\", \"rechtbank\", \"vagina\", \"billen\", \"feitelijkheid\", \"penis\", \"ontuchtige_handeling\", \"aanraken\", \"betast\", \"schaamlippen\", \"gelijke_dreigenen\", \"stompen\", \"borst\", \"meisje\", \"vinger\", \"geweld\", \"dele_toebehorenen\", \"slachtoffer\", \"lichaam\", \"dwingen\", \"bedreiging\", \"althans\", \"afbeelding\", \"ander\", \"voorgenomen_misdrijf\", \"naam\", \"geval\", \"tenlastelegging\", \"verdenken\", \"vereniging\", \"weten\", \"goed\", \"straf\", \"advocaat_generaal\", \"opleggen\", \"nstrafbaarheid\", \"vonnis_waarvan\", \"ontvankelijk\", \"kettingslot\", \"politierechter\", \"voorarrest\", \"prostitutie\", \"hof\", \"veroordelen\", \"gevangenisstraf\", \"arrest\", \"hoger_beroep\", \"benadelen\", \"vordering\", \"duur\", \"aanvulling\", \"partij\", \"aangeefster\", \"omstandigheid\", \"terechtzitting\", \"bewijzen\", \"verdenken\", \"verklaren\", \"feit\", \"oordeel\", \"verklaring\", \"oplichting\", \"zegel\", \"valselijk\", \"www_website\", \"werknemer\", \"rechtspersoon\", \"euro_geboekt\", \"valse_hoedanigheid\", \"samenweefsel\", \"hennepplant\", \"factuur\", \"website\", \"bedrijf\", \"vals\", \"document\", \"geldbedrag\", \"bankrekening\", \"telkens\", \"euro\", \"gegeven\", \"bedrag\", \"periode\", \"naam\", \"althans\", \"ander\", \"verdenken\", \"geval\", \"geld\", \"weten\"], \"Freq\": [19242.0, 4618.0, 5454.0, 11312.0, 7009.0, 2570.0, 5954.0, 7189.0, 2819.0, 7150.0, 1171.4785687010547, 690.3759531710595, 1284.6124451174294, 305.16217078690255, 305.77453853180765, 310.7226203924753, 242.90321343884693, 200.70640096254377, 185.52475236003036, 181.80562006380563, 1766.627108883169, 2108.653421294568, 523.6868166594771, 663.889167180982, 479.11354314018433, 2415.360597243371, 4749.868821219824, 999.1900497836593, 12909.630818358366, 3636.1949913062854, 1701.1072014295833, 1770.2453221118044, 3551.5922374319384, 1691.04323296474, 1943.4818765874136, 1788.8902547285131, 244.28186770737216, 238.0291233068959, 206.04618276620693, 156.70926695591137, 155.1756477580354, 149.652378066801, 147.71359763584738, 144.09364265785132, 143.52740492244675, 134.66433757570212, 257.0696014774385, 332.6991157195464, 1786.667797748171, 521.0948531200096, 1263.400724036764, 4423.745343502141, 2250.7291159895763, 2520.0875765178707, 1139.472971006674, 1504.9869787231294, 771.4602930261074, 539.5641171881855, 6171.768568869587, 1759.1798031471799, 7807.571563496784, 1974.6558129071932, 1869.511830337284, 1740.5750847977918, 526.6455147621342, 258.89761282342386, 252.96814630705006, 222.08092386499982, 179.28684531644734, 172.93874305118254, 160.68949782806158, 153.84298483860508, 151.8784185003925, 145.18933630429163, 491.1062365799984, 1084.969956204746, 242.03462880493427, 2026.1296418864229, 375.34297993255086, 13069.878948438316, 924.4010029253926, 387.76593150696027, 865.1978165089521, 4185.184529996152, 480.49810115081874, 3650.100810767305, 718.4391850999191, 4649.032552510244, 2185.866680725397, 1345.9995272745073, 6186.960171386204, 1386.925466518099, 1967.9945967789702, 1443.2584749666564, 339.5040937182955, 269.9818136488, 243.53754556965794, 205.44526786309038, 193.13715374649132, 139.04101803390947, 138.38409590477005, 141.7515309294433, 114.60654406770608, 107.06147282635722, 4565.499232091512, 314.2136848179176, 339.97792406680264, 211.14698703340335, 727.8091712277464, 4423.109559569247, 564.9186431230729, 398.75786650189997, 365.0840328121585, 922.2606304441157, 1823.4501632846288, 1334.740021680919, 1035.3169500847443, 1805.1044203658207, 8020.588074637959, 2164.2846495333806, 1970.1867366804593, 1319.8500450322542, 1387.565500989367, 431.53651748544615, 367.8881036431925, 311.57591146903, 246.0572474706425, 228.32782546213764, 219.8658691110826, 198.3792951947626, 195.76772344691378, 192.10167468196298, 187.59149545185724, 576.2898918696745, 421.5789253652362, 2319.351316151612, 1054.2429645075904, 268.87746845008485, 947.2077486714269, 340.3551090211514, 1595.9797103169544, 927.196003781967, 626.7872042393305, 987.7609886520808, 1389.3564179240277, 3092.7454313186417, 2254.064906251269, 1974.9785833369883, 3546.457687917876, 1241.7474964590517, 1108.209142223043, 1181.9146236389813], \"Total\": [19242.0, 4618.0, 5454.0, 11312.0, 7009.0, 2570.0, 5954.0, 7189.0, 2819.0, 7150.0, 1172.3235609259543, 691.226758083962, 1288.0836334769692, 306.0057024762324, 306.6281558778852, 311.59116548086314, 243.76296474503985, 201.5651378290535, 186.37867189561578, 182.64766732320592, 1845.797757452297, 2260.777014976001, 545.3293251018376, 708.4979898945788, 502.94706011160264, 3186.7612571611876, 7150.574392338886, 1248.7275210955938, 38471.208315797194, 7446.079702918793, 2887.999148348641, 3245.6953022101184, 11312.7419942263, 3435.089300563717, 6158.394765305507, 4646.94215956461, 245.11698660205704, 238.857807456946, 206.88538270090908, 157.53944053505563, 156.00807637850318, 150.48109306653546, 148.55060102043214, 144.9190110667517, 144.3596267963886, 135.5112567721189, 261.1600106283919, 339.84338565932666, 1903.4247712866072, 556.2718623042842, 1442.0333823687881, 5954.976323847221, 2996.813330003288, 3438.821787192228, 1471.316464396573, 2161.1738174422026, 998.365854845468, 648.292614600758, 19242.377261403497, 3635.47074869799, 38471.208315797194, 4694.992883203899, 6158.394765305507, 7446.079702918793, 527.5066350757791, 259.7614786384862, 253.83048936316433, 222.98040371000843, 180.14706429572541, 173.81390878434797, 161.5491145469515, 154.70856222403938, 152.74037089542583, 146.0529985083794, 503.79073924270415, 1146.366968383279, 246.80136351270534, 2248.713119557427, 390.7600617576845, 19242.377261403497, 1127.0691079492542, 420.302179886373, 1060.682073933774, 7009.108078164863, 543.3505959018718, 7189.79601940202, 919.2309064211661, 11312.7419942263, 4137.06449083163, 2207.30936815529, 38471.208315797194, 2519.5831419655165, 5183.174146248928, 3287.147815051066, 340.3410524510008, 270.8207991123241, 244.37132104067624, 206.28506914065292, 193.9719594288288, 139.88759218781212, 139.2297788484888, 142.63507028989304, 115.4419613429258, 107.89753612550967, 4618.848953524373, 317.35240942819803, 346.5587166359677, 213.35969560858015, 762.4387426884275, 5454.909305800647, 633.6803239874026, 430.6005659722094, 391.7332915563561, 1167.6186627516965, 2819.321349406896, 2182.3827995574893, 1710.9669605614001, 3844.5806594609194, 38471.208315797194, 6158.394765305507, 6059.135478832561, 2988.872450394279, 4354.835296172205, 432.3888662528798, 368.7360618219636, 312.4268093052157, 246.94410353044094, 229.1740628612292, 220.70764299167692, 199.2281940143441, 196.6203915421085, 192.95018110475146, 188.4445089628069, 594.02004264779, 431.4220105872986, 2570.6551929744273, 1143.8398077369848, 276.44805075323063, 1184.7113202638307, 365.5240689335627, 2381.5006697233025, 1231.2323578929474, 779.8083225495544, 1493.9712178798977, 3004.8809239229145, 11312.7419942263, 7009.108078164863, 7189.79601940202, 38471.208315797194, 4137.06449083163, 2988.6197667979277, 5183.174146248928], \"Category\": [\"Default\", \"Default\", \"Default\", \"Default\", \"Default\", \"Default\", \"Default\", \"Default\", \"Default\", \"Default\", \"Topic1\", \"Topic1\", \"Topic1\", \"Topic1\", \"Topic1\", \"Topic1\", \"Topic1\", \"Topic1\", \"Topic1\", \"Topic1\", \"Topic1\", \"Topic1\", \"Topic1\", \"Topic1\", \"Topic1\", \"Topic1\", \"Topic1\", \"Topic1\", \"Topic1\", \"Topic1\", \"Topic1\", \"Topic1\", \"Topic1\", \"Topic1\", \"Topic1\", \"Topic1\", \"Topic2\", \"Topic2\", \"Topic2\", \"Topic2\", \"Topic2\", \"Topic2\", \"Topic2\", \"Topic2\", \"Topic2\", \"Topic2\", \"Topic2\", \"Topic2\", \"Topic2\", \"Topic2\", \"Topic2\", \"Topic2\", \"Topic2\", \"Topic2\", \"Topic2\", \"Topic2\", \"Topic2\", \"Topic2\", \"Topic2\", \"Topic2\", \"Topic2\", \"Topic2\", \"Topic2\", \"Topic2\", \"Topic3\", \"Topic3\", \"Topic3\", \"Topic3\", \"Topic3\", \"Topic3\", \"Topic3\", \"Topic3\", \"Topic3\", \"Topic3\", \"Topic3\", \"Topic3\", \"Topic3\", \"Topic3\", \"Topic3\", \"Topic3\", \"Topic3\", \"Topic3\", \"Topic3\", \"Topic3\", \"Topic3\", \"Topic3\", \"Topic3\", \"Topic3\", \"Topic3\", \"Topic3\", \"Topic3\", \"Topic3\", \"Topic3\", \"Topic3\", \"Topic4\", \"Topic4\", \"Topic4\", \"Topic4\", \"Topic4\", \"Topic4\", \"Topic4\", \"Topic4\", \"Topic4\", \"Topic4\", \"Topic4\", \"Topic4\", \"Topic4\", \"Topic4\", \"Topic4\", \"Topic4\", \"Topic4\", \"Topic4\", \"Topic4\", \"Topic4\", \"Topic4\", \"Topic4\", \"Topic4\", \"Topic4\", \"Topic4\", \"Topic4\", \"Topic4\", \"Topic4\", \"Topic4\", \"Topic5\", \"Topic5\", \"Topic5\", \"Topic5\", \"Topic5\", \"Topic5\", \"Topic5\", \"Topic5\", \"Topic5\", \"Topic5\", \"Topic5\", \"Topic5\", \"Topic5\", \"Topic5\", \"Topic5\", \"Topic5\", \"Topic5\", \"Topic5\", \"Topic5\", \"Topic5\", \"Topic5\", \"Topic5\", \"Topic5\", \"Topic5\", \"Topic5\", \"Topic5\", \"Topic5\", \"Topic5\", \"Topic5\"], \"logprob\": [10.0, 9.0, 8.0, 7.0, 6.0, 5.0, 4.0, 3.0, 2.0, 1.0, -5.3652, -5.894, -5.273, -6.7104, -6.7084, -6.6924, -6.9386, -7.1294, -7.2081, -7.2283, -4.9544, -4.7774, -6.1704, -5.9331, -6.2593, -4.6416, -3.9654, -5.5243, -2.9655, -4.2326, -4.9922, -4.9524, -4.2561, -4.9982, -4.859, -4.9419, -6.7495, -6.7754, -6.9197, -7.1934, -7.2032, -7.2395, -7.2525, -7.2773, -7.2813, -7.345, -6.6984, -6.4406, -4.7597, -5.9919, -5.1062, -3.853, -4.5288, -4.4157, -5.2095, -4.9313, -5.5995, -5.957, -3.5201, -4.7752, -3.2849, -4.6596, -4.7144, -4.7858, -5.8605, -6.5706, -6.5938, -6.724, -6.9381, -6.9741, -7.0476, -7.0911, -7.104, -7.149, -5.9304, -5.1378, -6.638, -4.5132, -6.1992, -2.649, -5.2979, -6.1667, -5.3641, -3.7878, -5.9522, -3.9246, -5.55, -3.6826, -4.4373, -4.9222, -3.3969, -4.8922, -4.5423, -4.8524, -6.1458, -6.375, -6.4781, -6.6481, -6.7099, -7.0386, -7.0433, -7.0193, -7.2318, -7.2999, -3.547, -6.2233, -6.1444, -6.6208, -5.3833, -3.5787, -5.6366, -5.985, -6.0732, -5.1465, -4.4648, -4.7768, -5.0309, -4.475, -2.9836, -4.2935, -4.3874, -4.7881, -4.738, -5.7321, -5.8917, -6.0578, -6.2939, -6.3687, -6.4064, -6.5093, -6.5225, -6.5414, -6.5652, -5.4429, -5.7555, -4.0504, -4.8389, -6.2052, -4.9459, -5.9695, -4.4242, -4.9673, -5.3589, -4.904, -4.5629, -3.7626, -4.079, -4.2111, -3.6258, -4.6752, -4.789, -4.7246], \"loglift\": [10.0, 9.0, 8.0, 7.0, 6.0, 5.0, 4.0, 3.0, 2.0, 1.0, 1.3169, 1.3163, 1.3149, 1.3148, 1.3148, 1.3148, 1.314, 1.3133, 1.313, 1.313, 1.2737, 1.2479, 1.2771, 1.2525, 1.269, 1.0404, 0.9085, 1.0946, 0.2256, 0.6008, 0.7883, 0.7114, 0.159, 0.6089, 0.1642, 0.363, 1.4976, 1.4976, 1.497, 1.4957, 1.4957, 1.4955, 1.4954, 1.4953, 1.4953, 1.4948, 1.4852, 1.4798, 1.4377, 1.4357, 1.3688, 1.2038, 1.2147, 1.1902, 1.2454, 1.1392, 1.2432, 1.3175, 0.3639, 0.7751, -0.0938, 0.6349, 0.3089, 0.0476, 1.6201, 1.6184, 1.6184, 1.6177, 1.617, 1.6167, 1.6164, 1.6161, 1.6161, 1.6158, 1.5963, 1.5667, 1.6023, 1.5175, 1.5815, 1.235, 1.4235, 1.5412, 1.4181, 1.1061, 1.4988, 0.9439, 1.3753, 0.7325, 0.9838, 1.1271, -0.2057, 1.0248, 0.6534, 0.7986, 1.773, 1.7724, 1.7721, 1.7714, 1.7712, 1.7694, 1.7694, 1.7693, 1.7682, 1.7677, 1.7639, 1.7656, 1.7563, 1.7651, 1.729, 1.5658, 1.6606, 1.6987, 1.705, 1.5396, 1.3397, 1.2838, 1.2731, 1.0194, 0.2076, 0.7298, 0.6521, 0.9581, 0.6318, 1.9474, 1.9471, 1.9466, 1.9458, 1.9457, 1.9455, 1.9451, 1.945, 1.945, 1.9448, 1.9191, 1.9263, 1.8465, 1.8678, 1.9216, 1.7256, 1.878, 1.5491, 1.6658, 1.7309, 1.5356, 1.178, 0.6525, 0.8149, 0.6573, -0.4346, 0.7459, 0.9573, 0.4711]}, \"token.table\": {\"Topic\": [3, 4, 1, 2, 3, 1, 2, 5, 4, 5, 1, 2, 3, 5, 4, 1, 3, 1, 2, 3, 5, 1, 2, 3, 4, 5, 1, 4, 1, 2, 3, 5, 1, 5, 1, 4, 5, 1, 2, 3, 1, 5, 1, 3, 4, 5, 3, 1, 2, 3, 4, 5, 1, 2, 4, 3, 2, 2, 3, 1, 2, 3, 3, 5, 3, 5, 1, 1, 2, 4, 1, 2, 4, 2, 3, 4, 1, 3, 5, 5, 1, 5, 1, 2, 3, 4, 5, 3, 1, 2, 3, 4, 1, 2, 5, 2, 1, 3, 5, 1, 3, 5, 3, 1, 3, 4, 1, 2, 3, 4, 5, 1, 4, 1, 2, 3, 4, 1, 2, 3, 4, 5, 5, 1, 2, 4, 2, 3, 4, 5, 1, 2, 3, 5, 4, 2, 1, 2, 3, 4, 5, 2, 2, 3, 2, 3, 2, 1, 1, 2, 3, 4, 1, 2, 3, 4, 1, 2, 3, 4, 5, 1, 2, 3, 4, 5, 2, 3, 4, 1, 1, 2, 1, 2, 3, 5, 1, 2, 3, 4, 4, 1, 2, 3, 4, 5, 2, 1, 3, 4, 2, 1, 2, 3, 4, 5, 4, 5, 1, 3, 1, 3, 4, 5, 3, 1, 3, 4, 5, 4, 4, 1, 2, 3, 4, 5, 5, 2, 3, 2, 3, 1, 2, 3, 5, 3, 2, 2, 3, 3, 4, 1, 3, 1, 3, 4, 5, 1, 2, 3, 5, 1, 2, 3, 4, 5, 1, 1, 2, 4, 5, 3, 1, 3, 5, 5, 5, 1, 2, 3, 4, 1, 2, 3, 4, 5, 1, 2, 3, 5, 1, 2, 3, 4, 5, 1, 2, 3, 4, 5, 1, 4, 1, 3, 1, 4, 4, 2, 3, 2, 3, 4, 5, 3, 5, 5, 1, 2, 3, 4, 5, 1, 1, 2, 3, 4, 5, 5, 5, 1, 2, 3, 4, 1, 2, 3, 4, 5, 2], \"Freq\": [0.3529218122685161, 0.6466095113221154, 0.011487210437698828, 0.9840710274961996, 0.9953173552678238, 0.9328651105480157, 0.06325258928798778, 0.00398093219295028, 0.9317563961690752, 0.0663716884942355, 0.5889890933564272, 0.073060963373431, 0.13988923792827548, 0.19771473974516163, 0.9969692168584745, 0.1141068040922828, 0.8834075155531572, 0.0015693865577943889, 0.07961069993175174, 0.597080249488138, 0.3215815728425957, 0.12851546796411753, 0.05632983173751905, 0.5076639156591223, 0.032824297012480234, 0.2746948584730867, 0.009373841644717697, 0.988940293517717, 0.46238853678083763, 0.4838438049955345, 0.05253790037188578, 0.0011002701648562467, 0.06565915090084593, 0.9301713044286505, 0.04953241341892368, 0.28916219725641934, 0.6613246548364405, 0.12067706539555599, 0.06316690141798634, 0.8155129809934056, 0.09764047729387444, 0.9021046487828479, 0.0005499633141122725, 0.005132990931714544, 0.8108292461061938, 0.18350442580879495, 0.9966009436294873, 0.18675638869303285, 0.2247319217698891, 0.06996861916215297, 0.46949203564195585, 0.04916010788716324, 0.05411298705037754, 0.9388340568837346, 0.007355163288400831, 0.997068546720332, 0.9954430469403964, 0.023819413628043944, 0.9746110076141313, 0.1665914396796118, 0.8329571983980589, 0.001542513330366776, 0.9596681869513637, 0.03838672747805454, 0.02532121308479943, 0.9730580456872924, 0.9979514083562001, 0.952386519355956, 0.007953123334914037, 0.03976561667457019, 0.06734779814913582, 0.00464467573442316, 0.9266128090174205, 0.04758481149302371, 0.92314534296466, 0.028550886895814226, 0.14538279379395874, 0.10071210296341276, 0.7529041890893842, 0.9938352399346868, 0.028618562976804714, 0.9696642514493833, 0.25960799283911645, 0.139458839128451, 0.15365228311075488, 0.32512889122254257, 0.12229467431264164, 0.9967281733362767, 0.3849843485393454, 0.3167674460871528, 0.19130860025236335, 0.10716724738546338, 0.18081366397707288, 0.014106030523034056, 0.8040437398129411, 0.9964087108306031, 0.4915312467379946, 0.1375216762486833, 0.370739701419808, 0.10213458581036751, 0.09791414838018704, 0.799350849276182, 0.9951527491318407, 0.937193908057241, 0.03810878843003841, 0.025405858953358944, 0.09789550075845861, 0.05366123745278472, 0.5283939868098532, 0.019820817437515077, 0.3002128689926064, 0.017313083503545292, 0.9810747318675666, 0.03468650550469119, 0.04091228854399474, 0.9009597455449276, 0.023124337003127462, 0.3519768702527987, 0.040764823348206594, 0.43898238874225465, 0.0015210754980674102, 0.16670987458818817, 0.9976411678681779, 0.9981027527531121, 0.01147472033255359, 0.9883414777001347, 0.017050550125720043, 0.018362130904621587, 0.9548308070403224, 0.010492646231212335, 0.9573096472058459, 0.0406328373177354, 0.0016253134927094158, 0.000541771164236472, 0.9911672714080294, 0.9962272007189877, 0.33333383860893784, 0.4206609145384359, 0.06581479624930466, 0.16166158690363183, 0.018317386658382527, 0.9936584506063985, 0.7722619881860234, 0.2263699213100406, 0.17922592197345094, 0.8198255044726173, 0.9965758381950354, 0.9988709934952523, 0.1685565315152723, 0.7741366507898998, 0.050974757514699286, 0.006116970901763915, 0.2405888924683904, 0.7511312024221176, 0.0016684389214174093, 0.006673755685669637, 0.8000144011589567, 0.10811005421066983, 0.014414673894755977, 0.016817119543881973, 0.06086195644452524, 0.6642822994875968, 0.23103039131652836, 0.0068525963526088925, 0.011327761317577964, 0.0865664722911205, 0.028786593569195287, 0.9464683037144511, 0.024424988482953578, 0.9964540071455726, 0.996713451847158, 0.9975088132023517, 0.31398223364528594, 0.0016795220831251217, 0.4109525349709837, 0.27340851595294746, 0.04134668955701889, 0.9365924025742105, 0.014381457237223963, 0.005393046463958986, 0.9937704209712982, 0.20619663978805378, 0.16953945938128867, 0.0027492885305073836, 0.6117166980378929, 0.010080724611860407, 0.9935383064652538, 0.997196252114129, 0.99363262287837, 0.9936549612876284, 0.996293511997596, 0.3138307223101016, 0.1880307739214042, 0.009033506932167104, 0.4416381166837251, 0.04717498064576155, 0.998480504835449, 0.9991006561842127, 0.9608872581758656, 0.038508840499414464, 0.09163950818312194, 0.052243084104396625, 0.7896413695779293, 0.06594618813177934, 0.9956031844337161, 0.20866051463411822, 0.3124915841171244, 0.01630680257906187, 0.46224793433299877, 0.9955475866587207, 0.9916815883129562, 0.48831064735645013, 0.23381431161924635, 0.1611586294905776, 0.025651081860583604, 0.09105462566217634, 0.9967937540264358, 0.9798631194600128, 0.02059772323189216, 0.8758465757049986, 0.12343680956095784, 0.2878065590930353, 0.6963808222427945, 0.015269479823263932, 0.9950755106872089, 0.9954200193327808, 0.9968029666934786, 0.32075038942198913, 0.6792300048194099, 0.9927902985961703, 0.9989979097480464, 0.9976060300769093, 0.002329041315354652, 0.011757292515585651, 0.2972915393226657, 0.020575261902274888, 0.6701656733883821, 0.05391179039821301, 0.09242021211122231, 0.6097921838318884, 0.24373565743057649, 0.09234544187116112, 0.19579571535974036, 0.0520173691552743, 0.6049210907383022, 0.0543552284431518, 0.9982252450883666, 0.7578226936746798, 0.23440726798136058, 0.005648367903165315, 0.001882789301055105, 0.9990395664393752, 0.06556862201568486, 0.012239476109594508, 0.9214577013937579, 0.9968447243073685, 0.9986338902664439, 0.24921326344734313, 0.7328091293900871, 0.005525148197782403, 0.012504282763402281, 0.33557563084648023, 0.20295697332682555, 0.1608215668510591, 0.20849358133382015, 0.0921728262572904, 0.10596991047960196, 0.018653879372813827, 0.5504878870232506, 0.32465687929705767, 0.3155042952014479, 0.3036505568845639, 0.004059499423590426, 0.3513902701059873, 0.025331276403204258, 0.3060965362275985, 0.29323726688870466, 0.04110373592253574, 0.3187261757568693, 0.04087410611291263, 0.009453213244561042, 0.989436319597389, 0.016207365887563583, 0.9805456361975967, 0.9968700547031915, 0.9949891755917153, 0.9961715710839932, 0.21757318928565872, 0.7810877495355147, 0.01893699322158306, 0.007890413842326274, 0.8916167641828691, 0.08206030396019326, 0.02086124439443463, 0.9781605704946015, 0.9948769819473849, 0.2575641802361863, 0.10630551558811885, 0.37969011738188363, 0.028360999621512648, 0.22804558879338743, 0.9979682659407088, 0.49227250066613915, 0.19679255496765824, 0.26957086671605257, 0.011062303385755937, 0.030275777687332035, 0.9961768533164245, 0.9980038246914972, 0.545337696608409, 0.13433177159393578, 0.26342583649728235, 0.056690472415789415, 0.1518058092657486, 0.7429080754332653, 0.026868284825796215, 0.07741424565432534, 0.001007560680967358, 0.9957204192517116], \"Term\": [\"aangeefster\", \"aangeefster\", \"aanmerkelijke_kans\", \"aanmerkelijke_kans\", \"aanraken\", \"aantreffen\", \"aantreffen\", \"aantreffen\", \"aanvulling\", \"aanvulling\", \"adres\", \"adres\", \"adres\", \"adres\", \"advocaat_generaal\", \"afbeelding\", \"afbeelding\", \"althans\", \"althans\", \"althans\", \"althans\", \"ander\", \"ander\", \"ander\", \"ander\", \"ander\", \"arrest\", \"arrest\", \"auto\", \"auto\", \"auto\", \"auto\", \"bankrekening\", \"bankrekening\", \"bedrag\", \"bedrag\", \"bedrag\", \"bedreiging\", \"bedreiging\", \"bedreiging\", \"bedrijf\", \"bedrijf\", \"benadelen\", \"benadelen\", \"benadelen\", \"benadelen\", \"betast\", \"bewijzen\", \"bewijzen\", \"bewijzen\", \"bewijzen\", \"bewijzen\", \"bijnaam\", \"bijnaam\", \"bijnaam\", \"billen\", \"bloed\", \"borst\", \"borst\", \"camerabeeld\", \"camerabeeld\", \"camerabeeld\", \"dele_toebehorenen\", \"dele_toebehorenen\", \"document\", \"document\", \"doorzoeking\", \"drug\", \"drug\", \"drug\", \"duur\", \"duur\", \"duur\", \"dwingen\", \"dwingen\", \"dwingen\", \"euro\", \"euro\", \"euro\", \"euro_geboekt\", \"factuur\", \"factuur\", \"feit\", \"feit\", \"feit\", \"feit\", \"feit\", \"feitelijkheid\", \"gaan\", \"gaan\", \"gaan\", \"gaan\", \"gegeven\", \"gegeven\", \"gegeven\", \"geit\", \"geld\", \"geld\", \"geld\", \"geldbedrag\", \"geldbedrag\", \"geldbedrag\", \"gelijke_dreigenen\", \"gesprek\", \"gesprek\", \"gesprek\", \"geval\", \"geval\", \"geval\", \"geval\", \"geval\", \"gevangenisstraf\", \"gevangenisstraf\", \"geweld\", \"geweld\", \"geweld\", \"geweld\", \"goed\", \"goed\", \"goed\", \"goed\", \"goed\", \"hennepplant\", \"herkenning\", \"hof\", \"hof\", \"hoger_beroep\", \"hoger_beroep\", \"hoger_beroep\", \"hoger_beroep\", \"kenteken\", \"kenteken\", \"kenteken\", \"kenteken\", \"kettingslot\", \"kogel\", \"komen\", \"komen\", \"komen\", \"komen\", \"komen\", \"kruising\", \"letsel\", \"letsel\", \"lichaam\", \"lichaam\", \"links\", \"loods\", \"lopen\", \"lopen\", \"lopen\", \"lopen\", \"man\", \"man\", \"man\", \"man\", \"medeverdachen\", \"medeverdachen\", \"medeverdachen\", \"medeverdachen\", \"medeverdachen\", \"medeverdacht\", \"medeverdacht\", \"medeverdacht\", \"medeverdacht\", \"medeverdacht\", \"meisje\", \"meisje\", \"meisje\", \"mercedes_benz\", \"mercedes_sprinter\", \"motorrijtuig\", \"naam\", \"naam\", \"naam\", \"naam\", \"nikken\", \"nikken\", \"nikken\", \"nikken\", \"nstrafbaarheid\", \"omstandigheid\", \"omstandigheid\", \"omstandigheid\", \"omstandigheid\", \"omstandigheid\", \"ongeval\", \"ontmoeting\", \"ontuchtige_handeling\", \"ontvankelijk\", \"ontvoering\", \"oordeel\", \"oordeel\", \"oordeel\", \"oordeel\", \"oordeel\", \"opleggen\", \"oplichting\", \"overval\", \"overval\", \"partij\", \"partij\", \"partij\", \"partij\", \"penis\", \"periode\", \"periode\", \"periode\", \"periode\", \"politierechter\", \"prostitutie\", \"rechtbank\", \"rechtbank\", \"rechtbank\", \"rechtbank\", \"rechtbank\", \"rechtspersoon\", \"rennen\", \"rennen\", \"richting\", \"richting\", \"rijden\", \"rijden\", \"rijden\", \"samenweefsel\", \"schaamlippen\", \"schot\", \"slachtoffer\", \"slachtoffer\", \"stompen\", \"straf\", \"telefoonnummer\", \"telefoonnummer\", \"telkens\", \"telkens\", \"telkens\", \"telkens\", \"tenlastelegging\", \"tenlastelegging\", \"tenlastelegging\", \"tenlastelegging\", \"terechtzitting\", \"terechtzitting\", \"terechtzitting\", \"terechtzitting\", \"terechtzitting\", \"undercover_agenten\", \"uur\", \"uur\", \"uur\", \"uur\", \"vagina\", \"vals\", \"vals\", \"vals\", \"valse_hoedanigheid\", \"valselijk\", \"verbalisant\", \"verbalisant\", \"verbalisant\", \"verbalisant\", \"verdenken\", \"verdenken\", \"verdenken\", \"verdenken\", \"verdenken\", \"vereniging\", \"vereniging\", \"vereniging\", \"vereniging\", \"verklaren\", \"verklaren\", \"verklaren\", \"verklaren\", \"verklaren\", \"verklaring\", \"verklaring\", \"verklaring\", \"verklaring\", \"verklaring\", \"veroordelen\", \"veroordelen\", \"vinger\", \"vinger\", \"volkswagen\", \"vonnis_waarvan\", \"voorarrest\", \"voorgenomen_misdrijf\", \"voorgenomen_misdrijf\", \"vordering\", \"vordering\", \"vordering\", \"vordering\", \"website\", \"website\", \"werknemer\", \"weten\", \"weten\", \"weten\", \"weten\", \"weten\", \"wod_traject\", \"woning\", \"woning\", \"woning\", \"woning\", \"woning\", \"www_website\", \"zegel\", \"zeggen\", \"zeggen\", \"zeggen\", \"zeggen\", \"zien\", \"zien\", \"zien\", \"zien\", \"zien\", \"zover_inhoudenen\"]}, \"R\": 10, \"lambda.step\": 0.01, \"plot.opts\": {\"xlab\": \"PC1\", \"ylab\": \"PC2\"}, \"topic.order\": [1, 3, 2, 4, 5]};\n",
       "\n",
       "function LDAvis_load_lib(url, callback){\n",
       "  var s = document.createElement('script');\n",
       "  s.src = url;\n",
       "  s.async = true;\n",
       "  s.onreadystatechange = s.onload = callback;\n",
       "  s.onerror = function(){console.warn(\"failed to load library \" + url);};\n",
       "  document.getElementsByTagName(\"head\")[0].appendChild(s);\n",
       "}\n",
       "\n",
       "if(typeof(LDAvis) !== \"undefined\"){\n",
       "   // already loaded: just create the visualization\n",
       "   !function(LDAvis){\n",
       "       new LDAvis(\"#\" + \"ldavis_el21291403981604782887278446535\", ldavis_el21291403981604782887278446535_data);\n",
       "   }(LDAvis);\n",
       "}else if(typeof define === \"function\" && define.amd){\n",
       "   // require.js is available: use it to load d3/LDAvis\n",
       "   require.config({paths: {d3: \"https://d3js.org/d3.v5\"}});\n",
       "   require([\"d3\"], function(d3){\n",
       "      window.d3 = d3;\n",
       "      LDAvis_load_lib(\"https://cdn.jsdelivr.net/gh/bmabey/pyLDAvis@3.3.1/pyLDAvis/js/ldavis.v3.0.0.js\", function(){\n",
       "        new LDAvis(\"#\" + \"ldavis_el21291403981604782887278446535\", ldavis_el21291403981604782887278446535_data);\n",
       "      });\n",
       "    });\n",
       "}else{\n",
       "    // require.js not available: dynamically load d3 & LDAvis\n",
       "    LDAvis_load_lib(\"https://d3js.org/d3.v5.js\", function(){\n",
       "         LDAvis_load_lib(\"https://cdn.jsdelivr.net/gh/bmabey/pyLDAvis@3.3.1/pyLDAvis/js/ldavis.v3.0.0.js\", function(){\n",
       "                 new LDAvis(\"#\" + \"ldavis_el21291403981604782887278446535\", ldavis_el21291403981604782887278446535_data);\n",
       "            })\n",
       "         });\n",
       "}\n",
       "</script>"
      ],
      "text/plain": [
       "PreparedData(topic_coordinates=              x         y  topics  cluster       Freq\n",
       "topic                                                \n",
       "0      0.057999  0.029081       1        1  26.778486\n",
       "2      0.134834 -0.132281       2        1  22.290005\n",
       "1     -0.137710 -0.166665       3        1  19.755071\n",
       "3      0.148864  0.136733       4        1  16.939939\n",
       "4     -0.203986  0.133131       5        1  14.236499, topic_info=             Term          Freq         Total Category  logprob  loglift\n",
       "694   slachtoffer  19242.000000  19242.000000  Default  10.0000  10.0000\n",
       "271           hof   4618.000000   4618.000000  Default   9.0000   9.0000\n",
       "406     benadelen   5454.000000   5454.000000  Default   8.0000   8.0000\n",
       "60           naam  11312.000000  11312.000000  Default   7.0000   7.0000\n",
       "173       althans   7009.000000   7009.000000  Default   6.0000   6.0000\n",
       "...           ...           ...           ...      ...      ...      ...\n",
       "135         ander   1974.978583   7189.796019   Topic5  -4.2111   0.6573\n",
       "113     verdenken   3546.457688  38471.208316   Topic5  -3.6258  -0.4346\n",
       "140         geval   1241.747496   4137.064491   Topic5  -4.6752   0.7459\n",
       "1426         geld   1108.209142   2988.619767   Topic5  -4.7890   0.9573\n",
       "127         weten   1181.914624   5183.174146   Topic5  -4.7246   0.4711\n",
       "\n",
       "[152 rows x 6 columns], token_table=      Topic      Freq                Term\n",
       "term                                     \n",
       "0         3  0.352922         aangeefster\n",
       "0         4  0.646610         aangeefster\n",
       "363       1  0.011487  aanmerkelijke_kans\n",
       "363       2  0.984071  aanmerkelijke_kans\n",
       "1305      3  0.995317            aanraken\n",
       "...     ...       ...                 ...\n",
       "802       2  0.742908                zien\n",
       "802       3  0.026868                zien\n",
       "802       4  0.077414                zien\n",
       "802       5  0.001008                zien\n",
       "3397      2  0.995720    zover_inhoudenen\n",
       "\n",
       "[319 rows x 3 columns], R=10, lambda_step=0.01, plot_opts={'xlab': 'PC1', 'ylab': 'PC2'}, topic_order=[1, 3, 2, 4, 5])"
      ]
     },
     "execution_count": 67,
     "metadata": {},
     "output_type": "execute_result"
    }
   ],
   "source": [
    "# Visualize the topics\n",
    "pyLDAvis.enable_notebook()\n",
    "vis = gensimvis.prepare(lda_model, corpus, id2word, R = 10)\n",
    "vis"
   ]
  },
  {
   "cell_type": "markdown",
   "metadata": {},
   "source": [
    "# How to find the optimal number fo topics for LDA?"
   ]
  },
  {
   "cell_type": "code",
   "execution_count": 68,
   "metadata": {},
   "outputs": [],
   "source": [
    "def compute_coherence_values(dictionary, corpus, texts, limit, start=2, step=3):\n",
    "    \"\"\"\n",
    "    Compute c_v coherence for various number of topics\n",
    "\n",
    "    Parameters:\n",
    "    ----------\n",
    "    dictionary : Gensim dictionary\n",
    "    corpus : Gensim corpus\n",
    "    texts : List of input texts\n",
    "    limit : Max num of topics\n",
    "\n",
    "    Returns:\n",
    "    -------\n",
    "    model_list : List of LDA topic models\n",
    "    coherence_values : Coherence values corresponding to the LDA model with respective number of topics\n",
    "    \"\"\"\n",
    "    coherence_values = []\n",
    "    model_list = []\n",
    "    for num_topics in range(start, limit, step):\n",
    "        model = gensim.models.ldamodel.LdaModel(corpus=corpus, num_topics=num_topics, id2word=id2word)\n",
    "        model_list.append(model)\n",
    "        coherencemodel = CoherenceModel(model=model, texts=texts, dictionary=dictionary, coherence='c_v')\n",
    "        coherence_values.append(coherencemodel.get_coherence())\n",
    "\n",
    "    return model_list, coherence_values\n"
   ]
  },
  {
   "cell_type": "code",
   "execution_count": 69,
   "metadata": {},
   "outputs": [],
   "source": [
    "# Can take a long time to run.\n",
    "model_list, coherence_values = compute_coherence_values(dictionary=id2word, corpus=corpus, texts=data_lemmatized, start=2, limit=15, step=1)  # 2,40,6"
   ]
  },
  {
   "cell_type": "code",
   "execution_count": 70,
   "metadata": {},
   "outputs": [
    {
     "data": {
      "image/png": "[encoded data removed]",
      "text/plain": [
       "<Figure size 432x288 with 1 Axes>"
      ]
     },
     "metadata": {
      "needs_background": "light"
     },
     "output_type": "display_data"
    }
   ],
   "source": [
    "# Show graph\n",
    "\n",
    "plt.plot(coherence_values)\n",
    "plt.xlabel(\"Num Topics\")\n",
    "plt.ylabel(\"Coherence score\")\n",
    "plt.legend((\"coherence_values\"), loc='best')\n",
    "plt.show()"
   ]
  },
  {
   "cell_type": "code",
   "execution_count": null,
   "metadata": {},
   "outputs": [],
   "source": []
  },
  {
   "cell_type": "code",
   "execution_count": null,
   "metadata": {},
   "outputs": [],
   "source": []
  },
  {
   "cell_type": "code",
   "execution_count": null,
   "metadata": {},
   "outputs": [],
   "source": []
  },
  {
   "cell_type": "code",
   "execution_count": null,
   "metadata": {},
   "outputs": [],
   "source": []
  },
  {
   "cell_type": "markdown",
   "metadata": {},
   "source": [
    "# TF-IDF"
   ]
  },
  {
   "cell_type": "code",
   "execution_count": 71,
   "metadata": {},
   "outputs": [],
   "source": [
    "from sklearn.feature_extraction.text import TfidfVectorizer\n",
    "from sklearn.preprocessing import Normalizer\n",
    "from sklearn.cluster import KMeans\n",
    "from sklearn import metrics\n",
    "from sklearn.metrics.pairwise import cosine_distances"
   ]
  },
  {
   "cell_type": "code",
   "execution_count": 72,
   "metadata": {},
   "outputs": [],
   "source": [
    "sample = list(df['bete'])"
   ]
  },
  {
   "cell_type": "markdown",
   "metadata": {},
   "source": [
    "# Approach 2"
   ]
  },
  {
   "cell_type": "code",
   "execution_count": 73,
   "metadata": {},
   "outputs": [],
   "source": [
    "dat_lem_untok = [\" \".join(x) for x in data_lemmatized]\n",
    "tfidf_vectorizer = TfidfVectorizer(input=dat_lem_untok, stop_words=stop_words)"
   ]
  },
  {
   "cell_type": "code",
   "execution_count": 74,
   "metadata": {},
   "outputs": [
    {
     "name": "stderr",
     "output_type": "stream",
     "text": [
      "/opt/anaconda3/lib/python3.7/site-packages/sklearn/feature_extraction/text.py:391: UserWarning: Your stop_words may be inconsistent with your preprocessing. Tokenizing the stop words generated tokens ['tenlastelegging'] not in stop_words.\n",
      "  'stop_words.' % sorted(inconsistent))\n"
     ]
    }
   ],
   "source": [
    "tfidf_vector = tfidf_vectorizer.fit_transform(dat_lem_untok)"
   ]
  },
  {
   "cell_type": "code",
   "execution_count": 84,
   "metadata": {},
   "outputs": [],
   "source": [
    "tfidf_df = pd.DataFrame(tfidf_vector.toarray(), columns=tfidf_vectorizer.get_feature_names())"
   ]
  },
  {
   "cell_type": "code",
   "execution_count": 86,
   "metadata": {},
   "outputs": [
    {
     "data": {
      "text/html": [
       "<div>\n",
       "<style scoped>\n",
       "    .dataframe tbody tr th:only-of-type {\n",
       "        vertical-align: middle;\n",
       "    }\n",
       "\n",
       "    .dataframe tbody tr th {\n",
       "        vertical-align: top;\n",
       "    }\n",
       "\n",
       "    .dataframe thead th {\n",
       "        text-align: right;\n",
       "    }\n",
       "</style>\n",
       "<table border=\"1\" class=\"dataframe\">\n",
       "  <thead>\n",
       "    <tr style=\"text-align: right;\">\n",
       "      <th></th>\n",
       "      <th>level_0</th>\n",
       "      <th>level_1</th>\n",
       "      <th>0</th>\n",
       "    </tr>\n",
       "  </thead>\n",
       "  <tbody>\n",
       "    <tr>\n",
       "      <th>0</th>\n",
       "      <td>0</td>\n",
       "      <td>aa</td>\n",
       "      <td>0.0</td>\n",
       "    </tr>\n",
       "    <tr>\n",
       "      <th>1</th>\n",
       "      <td>0</td>\n",
       "      <td>aa_flesje</td>\n",
       "      <td>0.0</td>\n",
       "    </tr>\n",
       "    <tr>\n",
       "      <th>2</th>\n",
       "      <td>0</td>\n",
       "      <td>aaan</td>\n",
       "      <td>0.0</td>\n",
       "    </tr>\n",
       "    <tr>\n",
       "      <th>3</th>\n",
       "      <td>0</td>\n",
       "      <td>aaei</td>\n",
       "      <td>0.0</td>\n",
       "    </tr>\n",
       "    <tr>\n",
       "      <th>4</th>\n",
       "      <td>0</td>\n",
       "      <td>aafe</td>\n",
       "      <td>0.0</td>\n",
       "    </tr>\n",
       "    <tr>\n",
       "      <th>...</th>\n",
       "      <td>...</td>\n",
       "      <td>...</td>\n",
       "      <td>...</td>\n",
       "    </tr>\n",
       "    <tr>\n",
       "      <th>33782307</th>\n",
       "      <td>1431</td>\n",
       "      <td>zwitsers</td>\n",
       "      <td>0.0</td>\n",
       "    </tr>\n",
       "    <tr>\n",
       "      <th>33782308</th>\n",
       "      <td>1431</td>\n",
       "      <td>zwoll</td>\n",
       "      <td>0.0</td>\n",
       "    </tr>\n",
       "    <tr>\n",
       "      <th>33782309</th>\n",
       "      <td>1431</td>\n",
       "      <td>zwolle</td>\n",
       "      <td>0.0</td>\n",
       "    </tr>\n",
       "    <tr>\n",
       "      <th>33782310</th>\n",
       "      <td>1431</td>\n",
       "      <td>zygoma</td>\n",
       "      <td>0.0</td>\n",
       "    </tr>\n",
       "    <tr>\n",
       "      <th>33782311</th>\n",
       "      <td>1431</td>\n",
       "      <td>één</td>\n",
       "      <td>0.0</td>\n",
       "    </tr>\n",
       "  </tbody>\n",
       "</table>\n",
       "<p>33782312 rows × 3 columns</p>\n",
       "</div>"
      ],
      "text/plain": [
       "          level_0    level_1    0\n",
       "0               0         aa  0.0\n",
       "1               0  aa_flesje  0.0\n",
       "2               0       aaan  0.0\n",
       "3               0       aaei  0.0\n",
       "4               0       aafe  0.0\n",
       "...           ...        ...  ...\n",
       "33782307     1431   zwitsers  0.0\n",
       "33782308     1431      zwoll  0.0\n",
       "33782309     1431     zwolle  0.0\n",
       "33782310     1431     zygoma  0.0\n",
       "33782311     1431        één  0.0\n",
       "\n",
       "[33782312 rows x 3 columns]"
      ]
     },
     "execution_count": 86,
     "metadata": {},
     "output_type": "execute_result"
    }
   ],
   "source": [
    "tfidf_df.stack().reset_index()"
   ]
  },
  {
   "cell_type": "code",
   "execution_count": 77,
   "metadata": {},
   "outputs": [],
   "source": [
    "tfidf_df = tfidf_df.stack().reset_index()\n",
    "tfidf_df = tfidf_df.rename(columns={0:'tfidf', 'level_0': 'document','level_1': 'term', 'level_2': 'term'})\n",
    "tfidf_df.sort_values(by=['document','tfidf'], ascending=[True,False]).groupby(['document']).head(10)\n",
    "top_tfidf = tfidf_df.sort_values(by=['document','tfidf'], ascending=[True,False]).groupby(['document']).head(10)"
   ]
  },
  {
   "cell_type": "code",
   "execution_count": 78,
   "metadata": {},
   "outputs": [
    {
     "data": {
      "text/html": [
       "<div>\n",
       "<style scoped>\n",
       "    .dataframe tbody tr th:only-of-type {\n",
       "        vertical-align: middle;\n",
       "    }\n",
       "\n",
       "    .dataframe tbody tr th {\n",
       "        vertical-align: top;\n",
       "    }\n",
       "\n",
       "    .dataframe thead th {\n",
       "        text-align: right;\n",
       "    }\n",
       "</style>\n",
       "<table border=\"1\" class=\"dataframe\">\n",
       "  <thead>\n",
       "    <tr style=\"text-align: right;\">\n",
       "      <th></th>\n",
       "      <th>document</th>\n",
       "      <th>term</th>\n",
       "      <th>tfidf</th>\n",
       "    </tr>\n",
       "  </thead>\n",
       "  <tbody>\n",
       "    <tr>\n",
       "      <th>78393</th>\n",
       "      <td>3</td>\n",
       "      <td>hof</td>\n",
       "      <td>0.528631</td>\n",
       "    </tr>\n",
       "    <tr>\n",
       "      <th>101984</th>\n",
       "      <td>4</td>\n",
       "      <td>hof</td>\n",
       "      <td>0.198150</td>\n",
       "    </tr>\n",
       "    <tr>\n",
       "      <th>125575</th>\n",
       "      <td>5</td>\n",
       "      <td>hof</td>\n",
       "      <td>0.156488</td>\n",
       "    </tr>\n",
       "    <tr>\n",
       "      <th>219939</th>\n",
       "      <td>9</td>\n",
       "      <td>hof</td>\n",
       "      <td>0.273775</td>\n",
       "    </tr>\n",
       "    <tr>\n",
       "      <th>337894</th>\n",
       "      <td>14</td>\n",
       "      <td>hof</td>\n",
       "      <td>0.205089</td>\n",
       "    </tr>\n",
       "    <tr>\n",
       "      <th>...</th>\n",
       "      <td>...</td>\n",
       "      <td>...</td>\n",
       "      <td>...</td>\n",
       "    </tr>\n",
       "    <tr>\n",
       "      <th>32681155</th>\n",
       "      <td>1385</td>\n",
       "      <td>hof</td>\n",
       "      <td>0.231162</td>\n",
       "    </tr>\n",
       "    <tr>\n",
       "      <th>32987838</th>\n",
       "      <td>1398</td>\n",
       "      <td>hof</td>\n",
       "      <td>0.311561</td>\n",
       "    </tr>\n",
       "    <tr>\n",
       "      <th>33011429</th>\n",
       "      <td>1399</td>\n",
       "      <td>hof</td>\n",
       "      <td>0.188011</td>\n",
       "    </tr>\n",
       "    <tr>\n",
       "      <th>33554022</th>\n",
       "      <td>1422</td>\n",
       "      <td>hof</td>\n",
       "      <td>0.279144</td>\n",
       "    </tr>\n",
       "    <tr>\n",
       "      <th>33719159</th>\n",
       "      <td>1429</td>\n",
       "      <td>hof</td>\n",
       "      <td>0.175316</td>\n",
       "    </tr>\n",
       "  </tbody>\n",
       "</table>\n",
       "<p>154 rows × 3 columns</p>\n",
       "</div>"
      ],
      "text/plain": [
       "          document term     tfidf\n",
       "78393            3  hof  0.528631\n",
       "101984           4  hof  0.198150\n",
       "125575           5  hof  0.156488\n",
       "219939           9  hof  0.273775\n",
       "337894          14  hof  0.205089\n",
       "...            ...  ...       ...\n",
       "32681155      1385  hof  0.231162\n",
       "32987838      1398  hof  0.311561\n",
       "33011429      1399  hof  0.188011\n",
       "33554022      1422  hof  0.279144\n",
       "33719159      1429  hof  0.175316\n",
       "\n",
       "[154 rows x 3 columns]"
      ]
     },
     "execution_count": 78,
     "metadata": {},
     "output_type": "execute_result"
    }
   ],
   "source": [
    "top_tfidf[top_tfidf['term'].str.contains('hof')]"
   ]
  },
  {
   "cell_type": "code",
   "execution_count": 79,
   "metadata": {},
   "outputs": [
    {
     "data": {
      "text/html": [
       "\n",
       "<div id=\"altair-viz-bf56e81467594c4e95b9872c6081e611\"></div>\n",
       "<script type=\"text/javascript\">\n",
       "  var VEGA_DEBUG = (typeof VEGA_DEBUG == \"undefined\") ? {} : VEGA_DEBUG;\n",
       "  (function(spec, embedOpt){\n",
       "    let outputDiv = document.currentScript.previousElementSibling;\n",
       "    if (outputDiv.id !== \"altair-viz-bf56e81467594c4e95b9872c6081e611\") {\n",
       "      outputDiv = document.getElementById(\"altair-viz-bf56e81467594c4e95b9872c6081e611\");\n",
       "    }\n",
       "    const paths = {\n",
       "      \"vega\": \"https://cdn.jsdelivr.net/npm//vega@5?noext\",\n",
       "      \"vega-lib\": \"https://cdn.jsdelivr.net/npm//vega-lib?noext\",\n",
       "      \"vega-lite\": \"https://cdn.jsdelivr.net/npm//vega-lite@4.17.0?noext\",\n",
       "      \"vega-embed\": \"https://cdn.jsdelivr.net/npm//vega-embed@6?noext\",\n",
       "    };\n",
       "\n",
       "    function maybeLoadScript(lib, version) {\n",
       "      var key = `${lib.replace(\"-\", \"\")}_version`;\n",
       "      return (VEGA_DEBUG[key] == version) ?\n",
       "        Promise.resolve(paths[lib]) :\n",
       "        new Promise(function(resolve, reject) {\n",
       "          var s = document.createElement('script');\n",
       "          document.getElementsByTagName(\"head\")[0].appendChild(s);\n",
       "          s.async = true;\n",
       "          s.onload = () => {\n",
       "            VEGA_DEBUG[key] = version;\n",
       "            return resolve(paths[lib]);\n",
       "          };\n",
       "          s.onerror = () => reject(`Error loading script: ${paths[lib]}`);\n",
       "          s.src = paths[lib];\n",
       "        });\n",
       "    }\n",
       "\n",
       "    function showError(err) {\n",
       "      outputDiv.innerHTML = `<div class=\"error\" style=\"color:red;\">${err}</div>`;\n",
       "      throw err;\n",
       "    }\n",
       "\n",
       "    function displayChart(vegaEmbed) {\n",
       "      vegaEmbed(outputDiv, spec, embedOpt)\n",
       "        .catch(err => showError(`Javascript Error: ${err.message}<br>This usually means there's a typo in your chart specification. See the javascript console for the full traceback.`));\n",
       "    }\n",
       "\n",
       "    if(typeof define === \"function\" && define.amd) {\n",
       "      requirejs.config({paths});\n",
       "      require([\"vega-embed\"], displayChart, err => showError(`Error loading script: ${err.message}`));\n",
       "    } else {\n",
       "      maybeLoadScript(\"vega\", \"5\")\n",
       "        .then(() => maybeLoadScript(\"vega-lite\", \"4.17.0\"))\n",
       "        .then(() => maybeLoadScript(\"vega-embed\", \"6\"))\n",
       "        .catch(showError)\n",
       "        .then(() => displayChart(vegaEmbed));\n",
       "    }\n",
       "  })({\"config\": {\"view\": {\"continuousWidth\": 400, \"continuousHeight\": 300}}, \"layer\": [{\"mark\": \"rect\", \"encoding\": {\"color\": {\"field\": \"tfidf\", \"type\": \"quantitative\"}, \"x\": {\"field\": \"rank\", \"type\": \"ordinal\"}, \"y\": {\"field\": \"document\", \"type\": \"nominal\"}}, \"transform\": [{\"window\": [{\"op\": \"rank\", \"field\": \"\", \"as\": \"rank\"}], \"groupby\": [\"document\"], \"sort\": [{\"field\": \"tfidf\", \"order\": \"descending\"}]}]}, {\"mark\": {\"type\": \"circle\", \"size\": 100}, \"encoding\": {\"color\": {\"condition\": {\"value\": \"red\", \"test\": {\"field\": \"term\", \"oneOf\": [\"benadelen\", \"kasboek\", \"hof\"]}}, \"value\": \"#FFFFFF00\"}, \"x\": {\"field\": \"rank\", \"type\": \"ordinal\"}, \"y\": {\"field\": \"document\", \"type\": \"nominal\"}}, \"transform\": [{\"window\": [{\"op\": \"rank\", \"field\": \"\", \"as\": \"rank\"}], \"groupby\": [\"document\"], \"sort\": [{\"field\": \"tfidf\", \"order\": \"descending\"}]}]}, {\"mark\": {\"type\": \"text\", \"baseline\": \"middle\"}, \"encoding\": {\"color\": {\"condition\": {\"value\": \"white\", \"test\": \"(datum.tfidf >= 0.23)\"}, \"value\": \"black\"}, \"text\": {\"field\": \"term\", \"type\": \"nominal\"}, \"x\": {\"field\": \"rank\", \"type\": \"ordinal\"}, \"y\": {\"field\": \"document\", \"type\": \"nominal\"}}, \"transform\": [{\"window\": [{\"op\": \"rank\", \"field\": \"\", \"as\": \"rank\"}], \"groupby\": [\"document\"], \"sort\": [{\"field\": \"tfidf\", \"order\": \"descending\"}]}]}], \"data\": {\"name\": \"data-99d53849302e3392fe33a6e2623203ce\"}, \"width\": 1200, \"$schema\": \"https://vega.github.io/schema/vega-lite/v4.17.0.json\", \"datasets\": {\"data-99d53849302e3392fe33a6e2623203ce\": [{\"document\": 0, \"term\": \"kind\", \"tfidf\": 0.37812360147659757}, {\"document\": 0, \"term\": \"tandarts\", \"tfidf\": 0.2704303520367549}, {\"document\": 0, \"term\": \"minderjarig\", \"tfidf\": 0.2531920359812688}, {\"document\": 0, \"term\": \"leerkracht\", \"tfidf\": 0.23073253404384264}, {\"document\": 0, \"term\": \"trein\", \"tfidf\": 0.22581356419740342}, {\"document\": 0, \"term\": \"geboorteplaats\", \"tfidf\": 0.19500373839104646}, {\"document\": 0, \"term\": \"school\", \"tfidf\": 0.19502791085311005}, {\"document\": 0, \"term\": \"verdenken\", \"tfidf\": 0.1949778492641}, {\"document\": 0, \"term\": \"gezag\", \"tfidf\": 0.17144672149729628}, {\"document\": 0, \"term\": \"naam\", \"tfidf\": 0.17033739593685124}, {\"document\": 1, \"term\": \"verbalisant\", \"tfidf\": 0.3254931300481354}, {\"document\": 1, \"term\": \"kracht\", \"tfidf\": 0.2847068080367434}, {\"document\": 1, \"term\": \"amstelland\", \"tfidf\": 0.24931939746968082}, {\"document\": 1, \"term\": \"damstraat\", \"tfidf\": 0.24937354543040813}, {\"document\": 1, \"term\": \"hoofdinspecteur\", \"tfidf\": 0.24937720554598097}, {\"document\": 1, \"term\": \"eenmaal\", \"tfidf\": 0.24324026398286813}, {\"document\": 1, \"term\": \"openbare_weg\", \"tfidf\": 0.2253982309631217}, {\"document\": 1, \"term\": \"meermalen\", \"tfidf\": 0.2099337844539823}, {\"document\": 1, \"term\": \"werpen\", \"tfidf\": 0.19043403389660446}, {\"document\": 1, \"term\": \"richting\", \"tfidf\": 0.170860531786671}, {\"document\": 2, \"term\": \"materiaal_bevattenen\", \"tfidf\": 0.42481688388508826}, {\"document\": 2, \"term\": \"ofeen_hoeveelheid\", \"tfidf\": 0.4225405371388504}, {\"document\": 2, \"term\": \"lsd\", \"tfidf\": 0.38165529936925735}, {\"document\": 2, \"term\": \"amfetamine\", \"tfidf\": 0.27449538084338787}, {\"document\": 2, \"term\": \"cb\", \"tfidf\": 0.2703554072344793}, {\"document\": 2, \"term\": \"cocaine\", \"tfidf\": 0.2158544886335588}, {\"document\": 2, \"term\": \"drug\", \"tfidf\": 0.14243448847311946}, {\"document\": 2, \"term\": \"aanwezig\", \"tfidf\": 0.13568628430355856}, {\"document\": 2, \"term\": \"opzettelijk\", \"tfidf\": 0.13092812549533192}, {\"document\": 2, \"term\": \"ghb\", \"tfidf\": 0.12423274972295648}, {\"document\": 3, \"term\": \"hof\", \"tfidf\": 0.5286983716646773}, {\"document\": 3, \"term\": \"verdenken\", \"tfidf\": 0.19696559209840742}, {\"document\": 3, \"term\": \"artikel\", \"tfidf\": 0.1836756904946117}, {\"document\": 3, \"term\": \"feit\", \"tfidf\": 0.16924233081638962}, {\"document\": 3, \"term\": \"afval\", \"tfidf\": 0.14633414497778463}, {\"document\": 3, \"term\": \"omstandigheid\", \"tfidf\": 0.1239841295749631}, {\"document\": 3, \"term\": \"hoger_beroep\", \"tfidf\": 0.11391751357543435}, {\"document\": 3, \"term\": \"strafbaar\", \"tfidf\": 0.10986437459738696}, {\"document\": 3, \"term\": \"behandeling\", \"tfidf\": 0.10341036456319418}, {\"document\": 3, \"term\": \"arrest\", \"tfidf\": 0.10068521925217037}, {\"document\": 4, \"term\": \"benadelen\", \"tfidf\": 0.7574205388954608}, {\"document\": 4, \"term\": \"revolver\", \"tfidf\": 0.2726369084027878}, {\"document\": 4, \"term\": \"hof\", \"tfidf\": 0.19822328189049573}, {\"document\": 4, \"term\": \"wapen\", \"tfidf\": 0.13937518592816306}, {\"document\": 4, \"term\": \"vuurwapen\", \"tfidf\": 0.13157764870114816}, {\"document\": 4, \"term\": \"verdenken\", \"tfidf\": 0.12291871212442486}, {\"document\": 4, \"term\": \"verklaren\", \"tfidf\": 0.12090174935009544}, {\"document\": 4, \"term\": \"verklaring\", \"tfidf\": 0.11304053297920827}, {\"document\": 4, \"term\": \"kogel\", \"tfidf\": 0.11243998354321583}, {\"document\": 4, \"term\": \"schieten\", \"tfidf\": 0.09943692733385033}, {\"document\": 5, \"term\": \"liwa\", \"tfidf\": 0.5932800233878864}, {\"document\": 5, \"term\": \"tawhid\", \"tfidf\": 0.5933091205915377}, {\"document\": 5, \"term\": \"syrie\", \"tfidf\": 0.17241617576907856}, {\"document\": 5, \"term\": \"hof\", \"tfidf\": 0.15651179875571525}, {\"document\": 5, \"term\": \"geboorteplaats\", \"tfidf\": 0.14109622145176662}, {\"document\": 5, \"term\": \"salafistisch\", \"tfidf\": 0.14042507639548252}, {\"document\": 5, \"term\": \"organisatie\", \"tfidf\": 0.13630602198606984}, {\"document\": 5, \"term\": \"jihadi\", \"tfidf\": 0.111251087547976}, {\"document\": 5, \"term\": \"vsl\", \"tfidf\": 0.11132261770849392}, {\"document\": 5, \"term\": \"sanctielijst\", \"tfidf\": 0.09786796482372785}, {\"document\": 6, \"term\": \"politierechter\", \"tfidf\": 0.2610335398079899}, {\"document\": 6, \"term\": \"factor\", \"tfidf\": 0.2283492323565939}, {\"document\": 6, \"term\": \"ernstige_bezwar\", \"tfidf\": 0.21408219890040217}, {\"document\": 6, \"term\": \"norm\", \"tfidf\": 0.21111478125413585}, {\"document\": 6, \"term\": \"verzuim\", \"tfidf\": 0.2053511283457776}, {\"document\": 6, \"term\": \"opiumwet\", \"tfidf\": 0.18214146180490826}, {\"document\": 6, \"term\": \"fouilleren\", \"tfidf\": 0.1529691667540807}, {\"document\": 6, \"term\": \"ingrijpende_inbreuk\", \"tfidf\": 0.14223425770546796}, {\"document\": 6, \"term\": \"onrustig\", \"tfidf\": 0.14224387198881394}, {\"document\": 6, \"term\": \"verdenken\", \"tfidf\": 0.14030686369965598}, {\"document\": 7, \"term\": \"jukbeen\", \"tfidf\": 0.40235863921688736}, {\"document\": 7, \"term\": \"letsel\", \"tfidf\": 0.34366288431344005}, {\"document\": 7, \"term\": \"slachtoffer\", \"tfidf\": 0.2721435869702203}, {\"document\": 7, \"term\": \"verdenken\", \"tfidf\": 0.2348566874405225}, {\"document\": 7, \"term\": \"breken\", \"tfidf\": 0.17480197058185346}, {\"document\": 7, \"term\": \"plaats\", \"tfidf\": 0.17068300639411285}, {\"document\": 7, \"term\": \"klap\", \"tfidf\": 0.1684442099107151}, {\"document\": 7, \"term\": \"opereren\", \"tfidf\": 0.1480082738344275}, {\"document\": 7, \"term\": \"penitentiaire_inrichting\", \"tfidf\": 0.1456023932385632}, {\"document\": 7, \"term\": \"tatoeage\", \"tfidf\": 0.1421668309906556}, {\"document\": 8, \"term\": \"gemeente_goere\", \"tfidf\": 0.3740998752720108}, {\"document\": 8, \"term\": \"overflakkee\", \"tfidf\": 0.3740798738994208}, {\"document\": 8, \"term\": \"hoeveelheid\", \"tfidf\": 0.24804592298362121}, {\"document\": 8, \"term\": \"ndirksland\", \"tfidf\": 0.20309116932995072}, {\"document\": 8, \"term\": \"dirksland\", \"tfidf\": 0.19822226555977346}, {\"document\": 8, \"term\": \"nhennepplant\", \"tfidf\": 0.19827996757010274}, {\"document\": 8, \"term\": \"ntoe_eigening\", \"tfidf\": 0.1788530880289727}, {\"document\": 8, \"term\": \"hennep_nzijnen\", \"tfidf\": 0.17436337833217885}, {\"document\": 8, \"term\": \"ndan\", \"tfidf\": 0.16376708689336467}, {\"document\": 8, \"term\": \"elektriciteit\", \"tfidf\": 0.1624017648916807}, {\"document\": 9, \"term\": \"still\", \"tfidf\": 0.33523308532772145}, {\"document\": 9, \"term\": \"hof\", \"tfidf\": 0.27386970120299325}, {\"document\": 9, \"term\": \"bedrijfsinbraak\", \"tfidf\": 0.2195563125320483}, {\"document\": 9, \"term\": \"honswijck\", \"tfidf\": 0.21964662631247503}, {\"document\": 9, \"term\": \"verdenken\", \"tfidf\": 0.1977415431539193}, {\"document\": 9, \"term\": \"herkenning\", \"tfidf\": 0.186917424654298}, {\"document\": 9, \"term\": \"tenlastegelegen\", \"tfidf\": 0.16882456345696403}, {\"document\": 9, \"term\": \"inbraak\", \"tfidf\": 0.16500686465671002}, {\"document\": 9, \"term\": \"camerabeeld\", \"tfidf\": 0.16493670320608844}, {\"document\": 9, \"term\": \"uur\", \"tfidf\": 0.16027021233753094}, {\"document\": 10, \"term\": \"neerijn\", \"tfidf\": 0.5415569351890317}, {\"document\": 10, \"term\": \"kabel\", \"tfidf\": 0.388573876949935}, {\"document\": 10, \"term\": \"benadelen\", \"tfidf\": 0.3137025530286501}, {\"document\": 10, \"term\": \"geval\", \"tfidf\": 0.20500261293306818}, {\"document\": 10, \"term\": \"enig\", \"tfidf\": 0.20458133123389674}, {\"document\": 10, \"term\": \"ander\", \"tfidf\": 0.19518128073972066}, {\"document\": 10, \"term\": \"nof\", \"tfidf\": 0.18672984252948632}, {\"document\": 10, \"term\": \"goed\", \"tfidf\": 0.18584842138355304}, {\"document\": 10, \"term\": \"werknemer\", \"tfidf\": 0.17285987221989668}, {\"document\": 10, \"term\": \"gemeente\", \"tfidf\": 0.1675585669498032}, {\"document\": 11, \"term\": \"nzaak\", \"tfidf\": 0.578557028911068}, {\"document\": 11, \"term\": \"vernieling\", \"tfidf\": 0.44293263360740626}, {\"document\": 11, \"term\": \"persoon\", \"tfidf\": 0.3230033228301954}, {\"document\": 11, \"term\": \"kliniek\", \"tfidf\": 0.26627243239857307}, {\"document\": 11, \"term\": \"bedreiging\", \"tfidf\": 0.22727690899284414}, {\"document\": 11, \"term\": \"kort_samengevat\", \"tfidf\": 0.21813987936954496}, {\"document\": 11, \"term\": \"garage\", \"tfidf\": 0.21499382656674457}, {\"document\": 11, \"term\": \"muur\", \"tfidf\": 0.20088322056545538}, {\"document\": 11, \"term\": \"mishandeling\", \"tfidf\": 0.1802463431976467}, {\"document\": 11, \"term\": \"naam\", \"tfidf\": 0.1471899782578172}, {\"document\": 12, \"term\": \"voortvloeiend_overwicht\", \"tfidf\": 0.30160245304396627}, {\"document\": 12, \"term\": \"slachtoffer\", \"tfidf\": 0.2591415432938184}, {\"document\": 12, \"term\": \"nverhouding\", \"tfidf\": 0.23783966368806125}, {\"document\": 12, \"term\": \"hellendoorn\", \"tfidf\": 0.22516079034266925}, {\"document\": 12, \"term\": \"ngeslachtsdeel\", \"tfidf\": 0.20913559821509844}, {\"document\": 12, \"term\": \"nt\", \"tfidf\": 0.19746498008528818}, {\"document\": 12, \"term\": \"nbestaanen\", \"tfidf\": 0.19437011114757982}, {\"document\": 12, \"term\": \"nbewog\", \"tfidf\": 0.18737982986727933}, {\"document\": 12, \"term\": \"zoen\", \"tfidf\": 0.17263989546829606}, {\"document\": 12, \"term\": \"handeling\", \"tfidf\": 0.17106127828843762}, {\"document\": 13, \"term\": \"celmateriaal\", \"tfidf\": 0.30355289961253185}, {\"document\": 13, \"term\": \"slachtoffer\", \"tfidf\": 0.3028717783221822}, {\"document\": 13, \"term\": \"overvaller\", \"tfidf\": 0.2014538876859757}, {\"document\": 13, \"term\": \"dader\", \"tfidf\": 0.1921562431157204}, {\"document\": 13, \"term\": \"kelder\", \"tfidf\": 0.18089531374127768}, {\"document\": 13, \"term\": \"aangever\", \"tfidf\": 0.16784611280246908}, {\"document\": 13, \"term\": \"regenbroek\", \"tfidf\": 0.15942746964922738}, {\"document\": 13, \"term\": \"regenjas\", \"tfidf\": 0.15940802215813757}, {\"document\": 13, \"term\": \"bemonstering\", \"tfidf\": 0.15642969777947605}, {\"document\": 13, \"term\": \"volgen\", \"tfidf\": 0.14184573437789041}, {\"document\": 14, \"term\": \"aangever\", \"tfidf\": 0.46773570085402894}, {\"document\": 14, \"term\": \"lokaal\", \"tfidf\": 0.35781963919377374}, {\"document\": 14, \"term\": \"hof\", \"tfidf\": 0.20509907059161772}, {\"document\": 14, \"term\": \"medeverdacht\", \"tfidf\": 0.1950769246248102}, {\"document\": 14, \"term\": \"aangev\", \"tfidf\": 0.16062546353563253}, {\"document\": 14, \"term\": \"trap\", \"tfidf\": 0.15629048033896148}, {\"document\": 14, \"term\": \"school\", \"tfidf\": 0.15404792537821763}, {\"document\": 14, \"term\": \"docent\", \"tfidf\": 0.1458400392495792}, {\"document\": 14, \"term\": \"lokaal_lokaal\", \"tfidf\": 0.14586507667244034}, {\"document\": 14, \"term\": \"getuige\", \"tfidf\": 0.1429446844394108}, {\"document\": 15, \"term\": \"hekwerk\", \"tfidf\": 0.3961438643007644}, {\"document\": 15, \"term\": \"bedrijf\", \"tfidf\": 0.36609600833361405}, {\"document\": 15, \"term\": \"ander\", \"tfidf\": 0.2706365304766869}, {\"document\": 15, \"term\": \"voornoemd\", \"tfidf\": 0.2633684003154861}, {\"document\": 15, \"term\": \"althans\", \"tfidf\": 0.22046081037298593}, {\"document\": 15, \"term\": \"westhavenweg\", \"tfidf\": 0.21882651196455033}, {\"document\": 15, \"term\": \"apparatuur\", \"tfidf\": 0.19590702806773172}, {\"document\": 15, \"term\": \"openbare_weg\", \"tfidf\": 0.18514419964558226}, {\"document\": 15, \"term\": \"lange_tijd\", \"tfidf\": 0.173171690371426}, {\"document\": 15, \"term\": \"hond\", \"tfidf\": 0.16328302043842635}, {\"document\": 16, \"term\": \"telen\", \"tfidf\": 0.38207661825816475}, {\"document\": 16, \"term\": \"betrokken\", \"tfidf\": 0.3670786752672842}, {\"document\": 16, \"term\": \"afleveren\", \"tfidf\": 0.36307104004210766}, {\"document\": 16, \"term\": \"bewerken\", \"tfidf\": 0.34513359117194475}, {\"document\": 16, \"term\": \"bereid\", \"tfidf\": 0.33399559276977153}, {\"document\": 16, \"term\": \"verwerken\", \"tfidf\": 0.3275184605707341}, {\"document\": 16, \"term\": \"verkopen\", \"tfidf\": 0.3182529330935728}, {\"document\": 16, \"term\": \"verstrekken\", \"tfidf\": 0.3035722872331677}, {\"document\": 16, \"term\": \"opzettelijk\", \"tfidf\": 0.14946681496017483}, {\"document\": 16, \"term\": \"last\", \"tfidf\": 0.1145554834300443}, {\"document\": 17, \"term\": \"benadelen\", \"tfidf\": 0.6669196823098548}, {\"document\": 17, \"term\": \"alias\", \"tfidf\": 0.3872685434183514}, {\"document\": 17, \"term\": \"onderdak\", \"tfidf\": 0.1684621829031549}, {\"document\": 17, \"term\": \"perso\", \"tfidf\": 0.15684720344898906}, {\"document\": 17, \"term\": \"aangever\", \"tfidf\": 0.1526960987898475}, {\"document\": 17, \"term\": \"verblijf\", \"tfidf\": 0.1481086983094562}, {\"document\": 17, \"term\": \"hof\", \"tfidf\": 0.11869472802685438}, {\"document\": 17, \"term\": \"werkdag\", \"tfidf\": 0.11711532614124837}, {\"document\": 17, \"term\": \"illegaal\", \"tfidf\": 0.10734933104049792}, {\"document\": 17, \"term\": \"uitbuiting\", \"tfidf\": 0.10480204465141764}, {\"document\": 18, \"term\": \"hof\", \"tfidf\": 0.4913225369477756}, {\"document\": 18, \"term\": \"verdenken\", \"tfidf\": 0.26405192414434764}, {\"document\": 18, \"term\": \"handschoen\", \"tfidf\": 0.18453875184112564}, {\"document\": 18, \"term\": \"jongen\", \"tfidf\": 0.15276002734767388}, {\"document\": 18, \"term\": \"woning\", \"tfidf\": 0.15130362450060966}, {\"document\": 18, \"term\": \"koevoet\", \"tfidf\": 0.14576156774890286}, {\"document\": 18, \"term\": \"braak\", \"tfidf\": 0.1423055580743641}, {\"document\": 18, \"term\": \"achterdeur\", \"tfidf\": 0.12673654105937016}, {\"document\": 18, \"term\": \"kortenbospad\", \"tfidf\": 0.11647097331534466}, {\"document\": 18, \"term\": \"medeverdachte\", \"tfidf\": 0.11279407055815437}, {\"document\": 19, \"term\": \"slachtoffer\", \"tfidf\": 0.360748322765788}, {\"document\": 19, \"term\": \"voornoemd\", \"tfidf\": 0.28824754841838385}, {\"document\": 19, \"term\": \"venlo\", \"tfidf\": 0.2623964300080215}, {\"document\": 19, \"term\": \"geweld\", \"tfidf\": 0.2396250148914267}, {\"document\": 19, \"term\": \"tong\", \"tfidf\": 0.2342470017302484}, {\"document\": 19, \"term\": \"woorden_toegevoegd\", \"tfidf\": 0.21688187525793268}, {\"document\": 19, \"term\": \"pincod\", \"tfidf\": 0.16913384975040616}, {\"document\": 19, \"term\": \"blerick\", \"tfidf\": 0.1650050029222645}, {\"document\": 19, \"term\": \"hebt_inleveren\", \"tfidf\": 0.1649553252657262}, {\"document\": 19, \"term\": \"woning\", \"tfidf\": 0.15104505679317454}, {\"document\": 20, \"term\": \"hennep\", \"tfidf\": 0.36305286273387377}, {\"document\": 20, \"term\": \"hennepplant\", \"tfidf\": 0.2958617982558222}, {\"document\": 20, \"term\": \"liand\", \"tfidf\": 0.19897414562941101}, {\"document\": 20, \"term\": \"gram\", \"tfidf\": 0.18283781739608448}, {\"document\": 20, \"term\": \"pand\", \"tfidf\": 0.17741090395047945}, {\"document\": 20, \"term\": \"opzettelijk\", \"tfidf\": 0.1750994979695354}, {\"document\": 20, \"term\": \"hoeveelheid\", \"tfidf\": 0.1731056587359465}, {\"document\": 20, \"term\": \"persoon\", \"tfidf\": 0.16919886394625866}, {\"document\": 20, \"term\": \"telen\", \"tfidf\": 0.16786896845002086}, {\"document\": 20, \"term\": \"kweek\", \"tfidf\": 0.15420131449785962}, {\"document\": 21, \"term\": \"naam\", \"tfidf\": 0.32773468671588085}, {\"document\": 21, \"term\": \"fles\", \"tfidf\": 0.26875595061286}, {\"document\": 21, \"term\": \"geweld\", \"tfidf\": 0.26178342600235754}, {\"document\": 21, \"term\": \"gereedschap\", \"tfidf\": 0.2355072335568148}, {\"document\": 21, \"term\": \"slachtoffer\", \"tfidf\": 0.229139074430197}, {\"document\": 21, \"term\": \"sterke_drank\", \"tfidf\": 0.2123296015877764}, {\"document\": 21, \"term\": \"verdenken\", \"tfidf\": 0.18709576001867814}, {\"document\": 21, \"term\": \"diefstal\", \"tfidf\": 0.16871900109155666}, {\"document\": 21, \"term\": \"inhouden\", \"tfidf\": 0.16349798026768717}, {\"document\": 21, \"term\": \"dordrecht\", \"tfidf\": 0.1626743221935863}, {\"document\": 22, \"term\": \"categorie\", \"tfidf\": 0.732977996351144}, {\"document\": 22, \"term\": \"motorrijtuig\", \"tfidf\": 0.3000667741402254}, {\"document\": 22, \"term\": \"rijbewijs\", \"tfidf\": 0.2802229472051925}, {\"document\": 22, \"term\": \"besturen\", \"tfidf\": 0.26402269398910144}, {\"document\": 22, \"term\": \"ongeldig\", \"tfidf\": 0.2102535700059039}, {\"document\": 22, \"term\": \"motorrijtuig_personenauto\", \"tfidf\": 0.16771931732765005}, {\"document\": 22, \"term\": \"adres\", \"tfidf\": 0.14453181312457877}, {\"document\": 22, \"term\": \"weg\", \"tfidf\": 0.14439744190193018}, {\"document\": 22, \"term\": \"afgeven\", \"tfidf\": 0.13956373859119808}, {\"document\": 22, \"term\": \"weten\", \"tfidf\": 0.1384268754271168}, {\"document\": 23, \"term\": \"chocobroodje\", \"tfidf\": 0.5610553389518143}, {\"document\": 23, \"term\": \"draagtas\", \"tfidf\": 0.5610806642120459}, {\"document\": 23, \"term\": \"bedrijf\", \"tfidf\": 0.4299083119277795}, {\"document\": 23, \"term\": \"geval\", \"tfidf\": 0.2123885573903371}, {\"document\": 23, \"term\": \"toebehoren\", \"tfidf\": 0.18851705525812257}, {\"document\": 23, \"term\": \"deel\", \"tfidf\": 0.16157056720071997}, {\"document\": 23, \"term\": \"geheel\", \"tfidf\": 0.13786852866759497}, {\"document\": 23, \"term\": \"goed\", \"tfidf\": 0.1283174741686294}, {\"document\": 23, \"term\": \"ander\", \"tfidf\": 0.10114628535148602}, {\"document\": 23, \"term\": \"weten\", \"tfidf\": 0.1006116764379084}, {\"document\": 24, \"term\": \"benadelen\", \"tfidf\": 0.536871679405927}, {\"document\": 24, \"term\": \"hak\", \"tfidf\": 0.34751632786773423}, {\"document\": 24, \"term\": \"machet\", \"tfidf\": 0.3157174055526209}, {\"document\": 24, \"term\": \"nmocht\", \"tfidf\": 0.2839482456102316}, {\"document\": 24, \"term\": \"lichaam\", \"tfidf\": 0.21703041665888337}, {\"document\": 24, \"term\": \"slaan\", \"tfidf\": 0.21705782598478743}, {\"document\": 24, \"term\": \"schoppen_trapp\", \"tfidf\": 0.2162211255057183}, {\"document\": 24, \"term\": \"samenvatten\", \"tfidf\": 0.19802768698560697}, {\"document\": 24, \"term\": \"snijden\", \"tfidf\": 0.18713552816474785}, {\"document\": 24, \"term\": \"zware_mishandeling\", \"tfidf\": 0.14376431525343789}, {\"document\": 25, \"term\": \"zeer_krachtig\", \"tfidf\": 0.37788237983743367}, {\"document\": 25, \"term\": \"gemeente\", \"tfidf\": 0.3352545437029603}, {\"document\": 25, \"term\": \"slachtoffer\", \"tfidf\": 0.26094764406228477}, {\"document\": 25, \"term\": \"partij\", \"tfidf\": 0.2526613754195954}, {\"document\": 25, \"term\": \"benadelen\", \"tfidf\": 0.22026583241454553}, {\"document\": 25, \"term\": \"keel\", \"tfidf\": 0.19685370479156541}, {\"document\": 25, \"term\": \"drukken\", \"tfidf\": 0.17907517551630822}, {\"document\": 25, \"term\": \"vastgrijpen\", \"tfidf\": 0.17177699195384863}, {\"document\": 25, \"term\": \"armgreep\", \"tfidf\": 0.17118239312177283}, {\"document\": 25, \"term\": \"benemen\", \"tfidf\": 0.17116164208013393}, {\"document\": 26, \"term\": \"opzettelijk\", \"tfidf\": 0.3489345758412932}, {\"document\": 26, \"term\": \"naam\", \"tfidf\": 0.3011095029313595}, {\"document\": 26, \"term\": \"slachtoffer\", \"tfidf\": 0.2961700398505969}, {\"document\": 26, \"term\": \"voorbedachten_rade\", \"tfidf\": 0.26562285463009805}, {\"document\": 26, \"term\": \"gezicht\", \"tfidf\": 0.23895686048704884}, {\"document\": 26, \"term\": \"schedelbasis\", \"tfidf\": 0.22666639189509305}, {\"document\": 26, \"term\": \"ntengevolge\", \"tfidf\": 0.20590576070708222}, {\"document\": 26, \"term\": \"vlaarding\", \"tfidf\": 0.19917505589941456}, {\"document\": 26, \"term\": \"hard\", \"tfidf\": 0.1953284018393758}, {\"document\": 26, \"term\": \"fractuur\", \"tfidf\": 0.17563523533258837}, {\"document\": 27, \"term\": \"aangever\", \"tfidf\": 0.6236716065993603}, {\"document\": 27, \"term\": \"bevelen\", \"tfidf\": 0.31275149896289856}, {\"document\": 27, \"term\": \"aangev\", \"tfidf\": 0.2652011534237649}, {\"document\": 27, \"term\": \"wel\", \"tfidf\": 0.1877149081327941}, {\"document\": 27, \"term\": \"hardenberg\", \"tfidf\": 0.17413492780237058}, {\"document\": 27, \"term\": \"beletten\", \"tfidf\": 0.15221653458664955}, {\"document\": 27, \"term\": \"dwingen\", \"tfidf\": 0.14202622596983028}, {\"document\": 27, \"term\": \"naakt\", \"tfidf\": 0.13654221624438512}, {\"document\": 27, \"term\": \"vervolgens\", \"tfidf\": 0.11032929441512132}, {\"document\": 27, \"term\": \"ander\", \"tfidf\": 0.10121264498749888}, {\"document\": 28, \"term\": \"geldautomaat\", \"tfidf\": 0.46236928275965195}, {\"document\": 28, \"term\": \"verbalisant\", \"tfidf\": 0.2316946247373369}, {\"document\": 28, \"term\": \"gerecht\", \"tfidf\": 0.21438930018060207}, {\"document\": 28, \"term\": \"verdenken\", \"tfidf\": 0.18087031222037814}, {\"document\": 28, \"term\": \"shirt\", \"tfidf\": 0.1607329096984822}, {\"document\": 28, \"term\": \"man\", \"tfidf\": 0.15336842827722938}, {\"document\": 28, \"term\": \"kabel\", \"tfidf\": 0.1505021024006561}, {\"document\": 28, \"term\": \"relaas\", \"tfidf\": 0.1350703068497052}, {\"document\": 28, \"term\": \"geldsleuf\", \"tfidf\": 0.12224584881250575}, {\"document\": 28, \"term\": \"pagina\", \"tfidf\": 0.11665037752112041}, {\"document\": 29, \"term\": \"snijdend_voorwerp\", \"tfidf\": 0.33729940523292823}, {\"document\": 29, \"term\": \"puntig\", \"tfidf\": 0.25785492625857837}, {\"document\": 29, \"term\": \"prikken\", \"tfidf\": 0.25188791962890983}, {\"document\": 29, \"term\": \"slachtoffer\", \"tfidf\": 0.2369145936988991}, {\"document\": 29, \"term\": \"gelijken\", \"tfidf\": 0.22600722154093625}, {\"document\": 29, \"term\": \"linker\", \"tfidf\": 0.21822482393001036}, {\"document\": 29, \"term\": \"snijden\", \"tfidf\": 0.20658322842255664}, {\"document\": 29, \"term\": \"perforeren\", \"tfidf\": 0.20148121543869782}, {\"document\": 29, \"term\": \"dancing\", \"tfidf\": 0.19185634465625964}, {\"document\": 29, \"term\": \"kroeg\", \"tfidf\": 0.19187674362808543}, {\"document\": 30, \"term\": \"postpakket\", \"tfidf\": 0.6979441995376272}, {\"document\": 30, \"term\": \"mdma\", \"tfidf\": 0.30602784814592326}, {\"document\": 30, \"term\": \"test\", \"tfidf\": 0.2022497981944624}, {\"document\": 30, \"term\": \"indicatief\", \"tfidf\": 0.15582047760322557}, {\"document\": 30, \"term\": \"versturen\", \"tfidf\": 0.14825765218102654}, {\"document\": 30, \"term\": \"verdenken\", \"tfidf\": 0.1361604834457672}, {\"document\": 30, \"term\": \"betekenisvol\", \"tfidf\": 0.13609243058055612}, {\"document\": 30, \"term\": \"pakket\", \"tfidf\": 0.13405562102227125}, {\"document\": 30, \"term\": \"sealbag\", \"tfidf\": 0.11960776736017349}, {\"document\": 30, \"term\": \"persoon\", \"tfidf\": 0.11578355171144558}, {\"document\": 31, \"term\": \"kasboek\", \"tfidf\": 0.685523782545851}, {\"document\": 31, \"term\": \"getuige\", \"tfidf\": 0.30351239422309606}, {\"document\": 31, \"term\": \"verdenken\", \"tfidf\": 0.16530995142106505}, {\"document\": 31, \"term\": \"medeverdacht\", \"tfidf\": 0.15296708556086674}, {\"document\": 31, \"term\": \"coke\", \"tfidf\": 0.1361189949249794}, {\"document\": 31, \"term\": \"naam\", \"tfidf\": 0.1303039898707911}, {\"document\": 31, \"term\": \"verklaring\", \"tfidf\": 0.125415483136577}, {\"document\": 31, \"term\": \"dossier\", \"tfidf\": 0.12102590773096872}, {\"document\": 31, \"term\": \"rechtbank\", \"tfidf\": 0.1205053207934215}, {\"document\": 31, \"term\": \"gram\", \"tfidf\": 0.11389200341193374}, {\"document\": 32, \"term\": \"kasboek\", \"tfidf\": 0.6839394488843372}, {\"document\": 32, \"term\": \"getuige\", \"tfidf\": 0.25234581015056234}, {\"document\": 32, \"term\": \"verdenken\", \"tfidf\": 0.23496511262078623}, {\"document\": 32, \"term\": \"gram\", \"tfidf\": 0.18451440775548428}, {\"document\": 32, \"term\": \"cocaine\", \"tfidf\": 0.17929821809477633}, {\"document\": 32, \"term\": \"verklaring\", \"tfidf\": 0.14859082649488728}, {\"document\": 32, \"term\": \"medeverdacht\", \"tfidf\": 0.14309653573330444}, {\"document\": 32, \"term\": \"rechtbank\", \"tfidf\": 0.14279385864137945}, {\"document\": 32, \"term\": \"verschuldigen\", \"tfidf\": 0.13029435484538307}, {\"document\": 32, \"term\": \"dossier\", \"tfidf\": 0.11139607437045208}, {\"document\": 33, \"term\": \"handelsnaam\", \"tfidf\": 0.7252082097546617}, {\"document\": 33, \"term\": \"getuige\", \"tfidf\": 0.22180732054619975}, {\"document\": 33, \"term\": \"naam\", \"tfidf\": 0.20045659619965603}, {\"document\": 33, \"term\": \"functionaris\", \"tfidf\": 0.18883658590755661}, {\"document\": 33, \"term\": \"geheim\", \"tfidf\": 0.16063160299356058}, {\"document\": 33, \"term\": \"verplichten\", \"tfidf\": 0.1590126575928132}, {\"document\": 33, \"term\": \"opzoeken\", \"tfidf\": 0.14346732559176767}, {\"document\": 33, \"term\": \"mevrouw\", \"tfidf\": 0.1425132718024546}, {\"document\": 33, \"term\": \"wettelijk_voorschrift\", \"tfidf\": 0.14256197189455436}, {\"document\": 33, \"term\": \"nederland\", \"tfidf\": 0.14160268813884505}, {\"document\": 34, \"term\": \"telkens\", \"tfidf\": 0.3293099691892605}, {\"document\": 34, \"term\": \"financierings\", \"tfidf\": 0.24162749903657565}, {\"document\": 34, \"term\": \"nijmegen\", \"tfidf\": 0.22023053815565125}, {\"document\": 34, \"term\": \"ster\", \"tfidf\": 0.22022846451137626}, {\"document\": 34, \"term\": \"aangever\", \"tfidf\": 0.203499999545156}, {\"document\": 34, \"term\": \"aangifte\", \"tfidf\": 0.1851226601086107}, {\"document\": 34, \"term\": \"instelling\", \"tfidf\": 0.1804309707179828}, {\"document\": 34, \"term\": \"nhebbenen\", \"tfidf\": 0.1731708636680053}, {\"document\": 34, \"term\": \"vorenomschreven_oogmerk\", \"tfidf\": 0.1731643587189359}, {\"document\": 34, \"term\": \"listiglijk\", \"tfidf\": 0.1680473479431141}, {\"document\": 35, \"term\": \"verdenken\", \"tfidf\": 0.36649044089417504}, {\"document\": 35, \"term\": \"hof\", \"tfidf\": 0.28743767270685217}, {\"document\": 35, \"term\": \"overval\", \"tfidf\": 0.2149556609662954}, {\"document\": 35, \"term\": \"medeverdachte\", \"tfidf\": 0.21163289622555617}, {\"document\": 35, \"term\": \"politie\", \"tfidf\": 0.19485298470204981}, {\"document\": 35, \"term\": \"geweld\", \"tfidf\": 0.16216019543883156}, {\"document\": 35, \"term\": \"bedreiging\", \"tfidf\": 0.16017142887376284}, {\"document\": 35, \"term\": \"plan\", \"tfidf\": 0.1567267028357214}, {\"document\": 35, \"term\": \"geldwagen\", \"tfidf\": 0.15610513899965472}, {\"document\": 35, \"term\": \"afpersing\", \"tfidf\": 0.1547939402661541}, {\"document\": 36, \"term\": \"slachtoffer\", \"tfidf\": 0.521263228173886}, {\"document\": 36, \"term\": \"hof\", \"tfidf\": 0.2818712229310244}, {\"document\": 36, \"term\": \"verdenken\", \"tfidf\": 0.2408459570657926}, {\"document\": 36, \"term\": \"verbalisant\", \"tfidf\": 0.21914897716227383}, {\"document\": 36, \"term\": \"val\", \"tfidf\": 0.20813885012842526}, {\"document\": 36, \"term\": \"worsteling\", \"tfidf\": 0.1863243288153685}, {\"document\": 36, \"term\": \"letsel\", \"tfidf\": 0.16941273284554428}, {\"document\": 36, \"term\": \"parketnumm\", \"tfidf\": 0.15106818592522167}, {\"document\": 36, \"term\": \"ontstaan\", \"tfidf\": 0.1262994715752029}, {\"document\": 36, \"term\": \"zaak\", \"tfidf\": 0.12479085601999984}, {\"document\": 37, \"term\": \"hennepplant\", \"tfidf\": 0.43081659845938625}, {\"document\": 37, \"term\": \"hoeveelheid\", \"tfidf\": 0.37808515130134646}, {\"document\": 37, \"term\": \"heteren\", \"tfidf\": 0.3289209145136518}, {\"document\": 37, \"term\": \"lijst_ii\", \"tfidf\": 0.20283138538058598}, {\"document\": 37, \"term\": \"hennep\", \"tfidf\": 0.18886297884380993}, {\"document\": 37, \"term\": \"aangewezen_krachtens\", \"tfidf\": 0.18640413682845336}, {\"document\": 37, \"term\": \"tijdstip_p\", \"tfidf\": 0.17861501500904603}, {\"document\": 37, \"term\": \"opiumwet_behorenen\", \"tfidf\": 0.16882802299495472}, {\"document\": 37, \"term\": \"middel\", \"tfidf\": 0.1646390867825298}, {\"document\": 37, \"term\": \"althans\", \"tfidf\": 0.16237328230493742}, {\"document\": 38, \"term\": \"geldautomaat\", \"tfidf\": 0.46241685316687636}, {\"document\": 38, \"term\": \"verbalisant\", \"tfidf\": 0.2316130181490752}, {\"document\": 38, \"term\": \"gerecht\", \"tfidf\": 0.21439787680955746}, {\"document\": 38, \"term\": \"verdenken\", \"tfidf\": 0.18084742236678716}, {\"document\": 38, \"term\": \"shirt\", \"tfidf\": 0.16079626756403198}, {\"document\": 38, \"term\": \"man\", \"tfidf\": 0.15328516990185193}, {\"document\": 38, \"term\": \"kabel\", \"tfidf\": 0.1504840530422741}, {\"document\": 38, \"term\": \"relaas\", \"tfidf\": 0.1351073719714458}, {\"document\": 38, \"term\": \"geldsleuf\", \"tfidf\": 0.12216531344720093}, {\"document\": 38, \"term\": \"pagina\", \"tfidf\": 0.11667535523066291}, {\"document\": 39, \"term\": \"verkort_vonni\", \"tfidf\": 0.5868430092415334}, {\"document\": 39, \"term\": \"aanvulling\", \"tfidf\": 0.22217212890884583}, {\"document\": 39, \"term\": \"juwelier\", \"tfidf\": 0.20622686183606662}, {\"document\": 39, \"term\": \"woningoverval\", \"tfidf\": 0.1876012902197124}, {\"document\": 39, \"term\": \"mede\", \"tfidf\": 0.1866634957320052}, {\"document\": 39, \"term\": \"nfeit\", \"tfidf\": 0.18608203028098227}, {\"document\": 39, \"term\": \"wapenen\", \"tfidf\": 0.18112841371510338}, {\"document\": 39, \"term\": \"geacht\", \"tfidf\": 0.17258608009560014}, {\"document\": 39, \"term\": \"weergegeven\", \"tfidf\": 0.17107827516319318}, {\"document\": 39, \"term\": \"braak\", \"tfidf\": 0.1543947382187063}, {\"document\": 40, \"term\": \"kledingwinkel\", \"tfidf\": 0.8881671585370119}, {\"document\": 40, \"term\": \"breken\", \"tfidf\": 0.24072800046063758}, {\"document\": 40, \"term\": \"verwijten\", \"tfidf\": 0.2307125687420279}, {\"document\": 40, \"term\": \"proberen\", \"tfidf\": 0.17187514371632934}, {\"document\": 40, \"term\": \"samen\", \"tfidf\": 0.14136292836233613}, {\"document\": 40, \"term\": \"zeggen\", \"tfidf\": 0.1232449988911696}, {\"document\": 40, \"term\": \"kort\", \"tfidf\": 0.12012984093797595}, {\"document\": 40, \"term\": \"naam\", \"tfidf\": 0.10391565873602578}, {\"document\": 40, \"term\": \"tenlastelegging\", \"tfidf\": 0.07971223489176758}, {\"document\": 40, \"term\": \"verdenken\", \"tfidf\": 0.06265197715417888}, {\"document\": 41, \"term\": \"geluiddemper\", \"tfidf\": 0.4070174922066402}, {\"document\": 41, \"term\": \"dna\", \"tfidf\": 0.379820515886953}, {\"document\": 41, \"term\": \"wapen\", \"tfidf\": 0.32989320900285024}, {\"document\": 41, \"term\": \"vuurwapen\", \"tfidf\": 0.19504701758955018}, {\"document\": 41, \"term\": \"verdenken\", \"tfidf\": 0.1834497762226425}, {\"document\": 41, \"term\": \"rugzak\", \"tfidf\": 0.1807279148892562}, {\"document\": 41, \"term\": \"willekeurige_onbekenen\", \"tfidf\": 0.16663651883273203}, {\"document\": 41, \"term\": \"wanneer_hypothese\", \"tfidf\": 0.16156052704467924}, {\"document\": 41, \"term\": \"aantreffen\", \"tfidf\": 0.1512868195009571}, {\"document\": 41, \"term\": \"munitie\", \"tfidf\": 0.1491469345473964}, {\"document\": 42, \"term\": \"zware_mishandeling\", \"tfidf\": 0.4285450469561054}, {\"document\": 42, \"term\": \"persoon\", \"tfidf\": 0.335891535783807}, {\"document\": 42, \"term\": \"mes\", \"tfidf\": 0.2878999479805832}, {\"document\": 42, \"term\": \"steken\", \"tfidf\": 0.27749915345460713}, {\"document\": 42, \"term\": \"poging\", \"tfidf\": 0.27508630883763685}, {\"document\": 42, \"term\": \"nfeit\", \"tfidf\": 0.2545882176627767}, {\"document\": 42, \"term\": \"kopstoot\", \"tfidf\": 0.2535806471707098}, {\"document\": 42, \"term\": \"subsidiair\", \"tfidf\": 0.23853274802869529}, {\"document\": 42, \"term\": \"kort_samengevat\", \"tfidf\": 0.2268243362445481}, {\"document\": 42, \"term\": \"primair\", \"tfidf\": 0.2221636926814384}, {\"document\": 43, \"term\": \"schietoefening\", \"tfidf\": 0.35809848481154605}, {\"document\": 43, \"term\": \"wapen\", \"tfidf\": 0.297757049815162}, {\"document\": 43, \"term\": \"ontlad\", \"tfidf\": 0.21487078247174132}, {\"document\": 43, \"term\": \"schietpunt\", \"tfidf\": 0.2148857591837212}, {\"document\": 43, \"term\": \"sergeant\", \"tfidf\": 0.20339998253393612}, {\"document\": 43, \"term\": \"slachtoffer\", \"tfidf\": 0.20283121796354223}, {\"document\": 43, \"term\": \"militaire_kamer\", \"tfidf\": 0.18888891057541596}, {\"document\": 43, \"term\": \"trekker\", \"tfidf\": 0.18114016772840633}, {\"document\": 43, \"term\": \"bevel\", \"tfidf\": 0.17945372849206603}, {\"document\": 43, \"term\": \"militair\", \"tfidf\": 0.15607558053879347}, {\"document\": 44, \"term\": \"naam\", \"tfidf\": 0.35730868032177515}, {\"document\": 44, \"term\": \"slachtoffer\", \"tfidf\": 0.3163923669787541}, {\"document\": 44, \"term\": \"herkenning\", \"tfidf\": 0.27458750573563884}, {\"document\": 44, \"term\": \"dader\", \"tfidf\": 0.2197589045270783}, {\"document\": 44, \"term\": \"voorgenomen_misdrijf\", \"tfidf\": 0.19517603302890363}, {\"document\": 44, \"term\": \"camerabeeld\", \"tfidf\": 0.18467299803376183}, {\"document\": 44, \"term\": \"uitvoering\", \"tfidf\": 0.18032611442436566}, {\"document\": 44, \"term\": \"voorhouden\", \"tfidf\": 0.1653020114561827}, {\"document\": 44, \"term\": \"geweld\", \"tfidf\": 0.16430398924658574}, {\"document\": 44, \"term\": \"geld\", \"tfidf\": 0.15718347324035295}, {\"document\": 45, \"term\": \"hof\", \"tfidf\": 0.4220642363848078}, {\"document\": 45, \"term\": \"dossierpagina\", \"tfidf\": 0.2254075903724135}, {\"document\": 45, \"term\": \"verdenken\", \"tfidf\": 0.22017799246929334}, {\"document\": 45, \"term\": \"oplegging\", \"tfidf\": 0.18180119194044447}, {\"document\": 45, \"term\": \"omstandigheid\", \"tfidf\": 0.15393836251707016}, {\"document\": 45, \"term\": \"gevangenisstraf\", \"tfidf\": 0.1506956014224339}, {\"document\": 45, \"term\": \"feit\", \"tfidf\": 0.14451552501278367}, {\"document\": 45, \"term\": \"strafbaar\", \"tfidf\": 0.13642860190008096}, {\"document\": 45, \"term\": \"duur\", \"tfidf\": 0.1330605562312585}, {\"document\": 45, \"term\": \"opleggen\", \"tfidf\": 0.12270500872104131}, {\"document\": 46, \"term\": \"hof\", \"tfidf\": 0.29813763765836143}, {\"document\": 46, \"term\": \"verdenken\", \"tfidf\": 0.2303233977338971}, {\"document\": 46, \"term\": \"werkstraf\", \"tfidf\": 0.2214827002169577}, {\"document\": 46, \"term\": \"kind\", \"tfidf\": 0.21229233971479242}, {\"document\": 46, \"term\": \"relatie\", \"tfidf\": 0.17777932734235322}, {\"document\": 46, \"term\": \"seksueel\", \"tfidf\": 0.17714982374763522}, {\"document\": 46, \"term\": \"straf\", \"tfidf\": 0.16929095691788135}, {\"document\": 46, \"term\": \"verklaren\", \"tfidf\": 0.1228854366428234}, {\"document\": 46, \"term\": \"leeftijd\", \"tfidf\": 0.12227124602969018}, {\"document\": 46, \"term\": \"ernst\", \"tfidf\": 0.12021449491227106}, {\"document\": 47, \"term\": \"overval\", \"tfidf\": 0.33081604217420024}, {\"document\": 47, \"term\": \"medeverdacht\", \"tfidf\": 0.28424517329165333}, {\"document\": 47, \"term\": \"jongen\", \"tfidf\": 0.24504056616271422}, {\"document\": 47, \"term\": \"woonplaats\", \"tfidf\": 0.2190354322971564}, {\"document\": 47, \"term\": \"kassa\", \"tfidf\": 0.18002195830026868}, {\"document\": 47, \"term\": \"slachtoffer\", \"tfidf\": 0.17450380203869972}, {\"document\": 47, \"term\": \"gewoon\", \"tfidf\": 0.15448974036206653}, {\"document\": 47, \"term\": \"toonbank\", \"tfidf\": 0.15069996308208294}, {\"document\": 47, \"term\": \"zien\", \"tfidf\": 0.13396506602714894}, {\"document\": 47, \"term\": \"verdenken\", \"tfidf\": 0.12818134058424116}, {\"document\": 48, \"term\": \"ander\", \"tfidf\": 0.3748846983322669}, {\"document\": 48, \"term\": \"toeeigening\", \"tfidf\": 0.3654933016196236}, {\"document\": 48, \"term\": \"ov_chipkaart\", \"tfidf\": 0.32822396503414003}, {\"document\": 48, \"term\": \"dele_toebehorenen\", \"tfidf\": 0.2952134506576527}, {\"document\": 48, \"term\": \"roze\", \"tfidf\": 0.28947871851895124}, {\"document\": 48, \"term\": \"wegnemen\", \"tfidf\": 0.22664033329827896}, {\"document\": 48, \"term\": \"geval\", \"tfidf\": 0.19690870375699737}, {\"document\": 48, \"term\": \"portemonnee\", \"tfidf\": 0.19031869247197317}, {\"document\": 48, \"term\": \"kleur\", \"tfidf\": 0.1860116961669832}, {\"document\": 48, \"term\": \"bankpas\", \"tfidf\": 0.17731414734055334}, {\"document\": 49, \"term\": \"snorfiets\", \"tfidf\": 0.5514888616270566}, {\"document\": 49, \"term\": \"bouwlustlaan\", \"tfidf\": 0.27455568676934605}, {\"document\": 49, \"term\": \"afslaan\", \"tfidf\": 0.2682376906429083}, {\"document\": 49, \"term\": \"rijden\", \"tfidf\": 0.17797868004012557}, {\"document\": 49, \"term\": \"links\", \"tfidf\": 0.1735655709430267}, {\"document\": 49, \"term\": \"hof\", \"tfidf\": 0.1655788468181757}, {\"document\": 49, \"term\": \"bestuurder\", \"tfidf\": 0.1482078198022988}, {\"document\": 49, \"term\": \"rechts\", \"tfidf\": 0.1472607137119406}, {\"document\": 49, \"term\": \"passagier\", \"tfidf\": 0.14393586134598566}, {\"document\": 49, \"term\": \"fietspad\", \"tfidf\": 0.12577278140937329}]}}, {\"mode\": \"vega-lite\"});\n",
       "</script>"
      ],
      "text/plain": [
       "alt.LayerChart(...)"
      ]
     },
     "execution_count": 79,
     "metadata": {},
     "output_type": "execute_result"
    }
   ],
   "source": [
    "# Doesn't work due to the length constraint of a document (max. 5000)\n",
    "\n",
    "import altair as alt\n",
    "import numpy as np\n",
    "\n",
    "# Terms in this list will get a red dot in the visualization\n",
    "term_list = ['benadelen', 'kasboek', 'hof']\n",
    "\n",
    "# adding a little randomness to break ties in term ranking\n",
    "top_tfidf_plusRand = top_tfidf.copy()\n",
    "top_tfidf_plusRand = top_tfidf_plusRand.iloc[:500,]\n",
    "top_tfidf_plusRand['tfidf'] = top_tfidf_plusRand['tfidf'] + np.random.rand(top_tfidf_plusRand.shape[0])*0.0001\n",
    "\n",
    "# base for all visualizations, with rank calculation\n",
    "base = alt.Chart(top_tfidf_plusRand).encode(\n",
    "    x = 'rank:O',\n",
    "    y = 'document:N'\n",
    ").transform_window(\n",
    "    rank = \"rank()\",\n",
    "    sort = [alt.SortField(\"tfidf\", order=\"descending\")],\n",
    "    groupby = [\"document\"],\n",
    ")\n",
    "\n",
    "# heatmap specification\n",
    "heatmap = base.mark_rect().encode(\n",
    "    color = 'tfidf:Q'\n",
    ")\n",
    "\n",
    "# red circle over terms in above list\n",
    "circle = base.mark_circle(size=100).encode(\n",
    "    color = alt.condition(\n",
    "        alt.FieldOneOfPredicate(field='term', oneOf=term_list),\n",
    "        alt.value('red'),\n",
    "        alt.value('#FFFFFF00')        \n",
    "    )\n",
    ")\n",
    "\n",
    "# text labels, white for darker heatmap colors\n",
    "text = base.mark_text(baseline='middle').encode(\n",
    "    text = 'term:N',\n",
    "    color = alt.condition(alt.datum.tfidf >= 0.23, alt.value('white'), alt.value('black'))\n",
    ")\n",
    "\n",
    "# display the three superimposed visualizations\n",
    "(heatmap + circle + text).properties(width = 1200)"
   ]
  },
  {
   "cell_type": "code",
   "execution_count": null,
   "metadata": {},
   "outputs": [],
   "source": []
  },
  {
   "cell_type": "code",
   "execution_count": 88,
   "metadata": {},
   "outputs": [],
   "source": [
    "spat = df['spatial']"
   ]
  },
  {
   "cell_type": "code",
   "execution_count": 89,
   "metadata": {},
   "outputs": [
    {
     "ename": "AttributeError",
     "evalue": "module 'numpy' has no attribute 'hist'",
     "output_type": "error",
     "traceback": [
      "\u001b[0;31m---------------------------------------------------------------------------\u001b[0m",
      "\u001b[0;31mAttributeError\u001b[0m                            Traceback (most recent call last)",
      "\u001b[0;32m<ipython-input-89-ab65d33b6e17>\u001b[0m in \u001b[0;36m<module>\u001b[0;34m\u001b[0m\n\u001b[0;32m----> 1\u001b[0;31m \u001b[0mnp\u001b[0m\u001b[0;34m.\u001b[0m\u001b[0mhist\u001b[0m\u001b[0;34m(\u001b[0m\u001b[0mspat\u001b[0m\u001b[0;34m)\u001b[0m\u001b[0;34m\u001b[0m\u001b[0;34m\u001b[0m\u001b[0m\n\u001b[0m",
      "\u001b[0;32m/opt/anaconda3/lib/python3.7/site-packages/numpy/__init__.py\u001b[0m in \u001b[0;36m__getattr__\u001b[0;34m(attr)\u001b[0m\n\u001b[1;32m    302\u001b[0m \u001b[0;34m\u001b[0m\u001b[0m\n\u001b[1;32m    303\u001b[0m             raise AttributeError(\"module {!r} has no attribute \"\n\u001b[0;32m--> 304\u001b[0;31m                                  \"{!r}\".format(__name__, attr))\n\u001b[0m\u001b[1;32m    305\u001b[0m \u001b[0;34m\u001b[0m\u001b[0m\n\u001b[1;32m    306\u001b[0m         \u001b[0;32mdef\u001b[0m \u001b[0m__dir__\u001b[0m\u001b[0;34m(\u001b[0m\u001b[0;34m)\u001b[0m\u001b[0;34m:\u001b[0m\u001b[0;34m\u001b[0m\u001b[0;34m\u001b[0m\u001b[0m\n",
      "\u001b[0;31mAttributeError\u001b[0m: module 'numpy' has no attribute 'hist'"
     ]
    }
   ],
   "source": [
    "np.hist(spat)"
   ]
  },
  {
   "cell_type": "code",
   "execution_count": 90,
   "metadata": {},
   "outputs": [
    {
     "data": {
      "text/plain": [
       "filename\n",
       "ECLI_NL_RBGEL_2018_50.xml                Arnhem\n",
       "ECLI_NL_GHAMS_2019_194.xml            Amsterdam\n",
       "ECLI_NL_RBOVE_2021_606.xml               Almelo\n",
       "ECLI_NL_GHSHE_2021_1801.xml    's-Hertogenbosch\n",
       "ECLI_NL_GHARL_2020_820.xml           Leeuwarden\n",
       "                                     ...       \n",
       "ECLI_NL_RBNHO_2021_1491.xml             Haarlem\n",
       "ECLI_NL_RBGEL_2019_7.xml                 Arnhem\n",
       "ECLI_NL_GHARL_2021_1849.xml          Leeuwarden\n",
       "ECLI_NL_GHARL_2020_622.xml                  NaN\n",
       "ECLI_NL_RBLIM_2021_1482.xml          Maastricht\n",
       "Name: spatial, Length: 1432, dtype: object"
      ]
     },
     "execution_count": 90,
     "metadata": {},
     "output_type": "execute_result"
    }
   ],
   "source": [
    "spat"
   ]
  },
  {
   "cell_type": "code",
   "execution_count": 94,
   "metadata": {},
   "outputs": [
    {
     "data": {
      "text/plain": [
       "Amsterdam           319\n",
       "Rotterdam           238\n",
       "'s-Gravenhage        99\n",
       "Arnhem               95\n",
       "'s-Hertogenbosch     91\n",
       "Utrecht              75\n",
       "Zwolle               72\n",
       "Leeuwarden           69\n",
       "Almelo               45\n",
       "Lelystad             40\n",
       "Maastricht           36\n",
       "Zutphen              28\n",
       "Roermond             26\n",
       "Alkmaar              24\n",
       "Den Haag             17\n",
       "Breda                15\n",
       "Haarlem              13\n",
       "Haarlemmermeer       11\n",
       "Assen                10\n",
       "Middelburg            9\n",
       "Groningen             5\n",
       "Name: spatial, dtype: int64"
      ]
     },
     "execution_count": 94,
     "metadata": {},
     "output_type": "execute_result"
    }
   ],
   "source": [
    "df.spatial.value_counts()"
   ]
  },
  {
   "cell_type": "code",
   "execution_count": null,
   "metadata": {},
   "outputs": [],
   "source": []
  }
 ],
 "metadata": {
  "interpreter": {
   "hash": "40d3a090f54c6569ab1632332b64b2c03c39dcf918b08424e98f38b5ae0af88f"
  },
  "kernelspec": {
   "display_name": "Python 3.7.10 64-bit ('base': conda)",
   "language": "python",
   "name": "python3"
  },
  "language_info": {
   "codemirror_mode": {
    "name": "ipython",
    "version": 3
   },
   "file_extension": ".py",
   "mimetype": "text/x-python",
   "name": "python",
   "nbconvert_exporter": "python",
   "pygments_lexer": "ipython3",
   "version": "3.7.10"
  },
  "orig_nbformat": 4
 },
 "nbformat": 4,
 "nbformat_minor": 2
}
