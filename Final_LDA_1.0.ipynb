{
 "cells": [
  {
   "cell_type": "markdown",
   "metadata": {},
   "source": [
    "# Final LDA Model"
   ]
  },
  {
   "cell_type": "code",
   "execution_count": 1,
   "metadata": {},
   "outputs": [],
   "source": [
    "import re\n",
    "import numpy as np\n",
    "import pandas as pd\n",
    "from pprint import pprint\n",
    "\n",
    "# Gensim\n",
    "import gensim\n",
    "import gensim.corpora as corpora\n",
    "from gensim.utils import simple_preprocess\n",
    "from gensim.models import CoherenceModel\n",
    "\n",
    "# spacy for lemmatization\n",
    "import spacy\n",
    "\n",
    "# Plotting tools\n",
    "import pyLDAvis\n",
    "# import pyLDAvis.gensim  # Author: don't skip this\n",
    "# pyLDAvis.gensim.prepare\n",
    "\n",
    "# I think i need another one:\n",
    "import pyLDAvis.gensim_models\n",
    "import pyLDAvis.gensim_models as gensimvis\n",
    "\n",
    "# Plots\n",
    "import matplotlib.pyplot as plt\n",
    "%matplotlib inline\n",
    "\n",
    "# Enable logging for gensim - optional\n",
    "import logging\n",
    "logging.basicConfig(format='%(asctime)s : %(levelname)s : %(message)s', level=logging.ERROR)\n",
    "\n",
    "import warnings\n",
    "warnings.filterwarnings(\"ignore\",category=DeprecationWarning)"
   ]
  },
  {
   "cell_type": "code",
   "execution_count": 2,
   "metadata": {},
   "outputs": [],
   "source": [
    "# NLTK Stop words\n",
    "from nltk.corpus import stopwords\n",
    "stop_words = stopwords.words('dutch')\n",
    "stop_words.extend(['tenlastelegging\\\\n\\\\n\\\\naan', '\\\\n\\\\n\\\\n\\\\n\\\\n\\\\n', '\\\\n\\\\n\\\\n\\\\n\\\\n', '\\\\n\\\\n'])"
   ]
  },
  {
   "cell_type": "markdown",
   "metadata": {},
   "source": [
    "# Data"
   ]
  },
  {
   "cell_type": "code",
   "execution_count": 3,
   "metadata": {},
   "outputs": [],
   "source": [
    "# Data\n",
    "df = pd.read_csv('/Users/dj/Python - UvA/DSP/data/DataSample_DSP_0712.csv', index_col=1) \n",
    "df = df[df['re_tll'] != '[]'][['re_tll']] #re_bewijs\n",
    "# data = [i for i in df['re_tll']]"
   ]
  },
  {
   "cell_type": "markdown",
   "metadata": {},
   "source": [
    "# Tokenize "
   ]
  },
  {
   "cell_type": "code",
   "execution_count": 4,
   "metadata": {},
   "outputs": [
    {
     "name": "stdout",
     "output_type": "stream",
     "text": [
      "[['tenlastelegging', 'naan', 'verdachte', 'is', 'ten', 'laste', 'gelegd', 'dat', 'nhij', 'in', 'of', 'omstreeks', 'de', 'periode', 'van', 'november', 'tot', 'en', 'met', 'november', 'in', 'arnhem', 'en', 'of', 'in', 'nederland', 'en', 'of', 'in', 'duitsland', 'en', 'of', 'in', 'oostenrijk', 'en', 'of', 'in', 'hongarije', 'opzettelijk', 'een', 'of', 'meer', 'minderjarige', 'te', 'weten', 'naam', 'geboren', 'op', 'geboortedatum', 'in', 'geboorteplaats', 'en', 'of', 'naam', 'geboren', 'op', 'geboortedatum', 'in', 'geboorteplaats', 'heeft', 'onttrokken', 'aan', 'het', 'wettig', 'over', 'hen', 'haar', 'gesteld', 'gezag', 'en', 'of', 'aan', 'het', 'opzicht', 'van', 'degene', 'die', 'dit', 'desbevoegd', 'over', 'hen', 'haar', 'uitoefende', 'terwijl', 'die', 'minderjarige', 'beneden', 'de', 'twaalf', 'jaren', 'oud', 'was', 'waren', 'en', 'of', 'terwijl', 'list', 'was', 'gebezigd', 'bestaande', 'uit', 'het', 'door', 'verdachte', 'aan', 'de', 'school', 'van', 'de', 'minderjarig', 'in', 'strijd', 'met', 'de', 'waarheid', 'mededelen', 'dat', 'de', 'minderjarige', 'een', 'afspraak', 'bij', 'de', 'tandarts', 'zou', 'den', 'hebben', 'en', 'de', 'minderjarige', 'daarvoor', 'vroeger', 'op', 'te', 'halen', 'van', 'school', 'en', 'of', 'het', 'door', 'verdachte', 'uit', 'het', 'huis', 'lokken', 'van', 'zijn', 'verdachtes', 'echtgenote', 'genaamd', 'naam', 'door', 'het', 'maken', 'van', 'een', 'afspraak', 'met', 'haar', 'bij', 'een', 'woonboulevard', 'om', 'beweerdelijk', 'te', 'gaan', 'shoppen', 'zodat', 'verdachte', 'de', 'paspoorten', 'en', 'kleding', 'toiletartikelen', 'van', 'de', 'minderjarige', 'en', 'uit', 'de', 'woning', 'kon', 'pakken', 'toverwegingen', 'ten', 'aanzien', 'van', 'het', 'bewijs', 'nde', 'feiten', 'nop', 'grond', 'van', 'de', 'bewijsmiddelen', 'wordt', 'het', 'volgende', 'dat', 'verder', 'ook', 'niet', 'ter', 'discussie', 'staat', 'vastgesteld', 'naangeefster', 'naam', 'en', 'verdachte', 'zijn', 'getrouwd', 'en', 'hebben', 'samen', 'twee', 'kinderen', 'naam', 'geboren', 'op', 'geboortedatum', 'te', 'geboorteplaats', 'en', 'naam', 'geboren', 'op', 'geboortedatum', 'te', 'geboorteplaats', 'aangeefster', 'en', 'verdachte', 'hebben', 'beiden', 'gezag', 'over', 'deze', 'kinderen', 'verdachte', 'heeft', 'op', 'november', 'de', 'kinderen', 'eerder', 'van', 'school', 'gehaald', 'hij', 'is', 'vervolgens', 'in', 'een', 'bus', 'gestapt', 'in', 'nijmegen', 'heeft', 'in', 'kleve', 'duitsland', 'een', 'trein', 'genomen', 'in', 'dusseldorf', 'duitsland', 'de', 'bus', 'genomen', 'naar', 'salzburg', 'oostenrijk', 'en', 'heeft', 'vanuit', 'daar', 'een', 'trein', 'naar', 'boekarest', 'roemenie', 'genomen', 'in', 'deze', 'trein', 'is', 'hij', 'op', 'november', 'aangehouden', 'toen', 'de', 'trein', 'zich', 'in', 'hongarije', 'bevond', 'nhet', 'standpunt', 'van', 'de', 'officier', 'van', 'justitie', 'nde', 'officier', 'van', 'justitie', 'heeft', 'gesteld', 'dat', 'wettig', 'en', 'overtuigend', 'bewezen', 'kan', 'worden', 'dat', 'verdachte', 'zich', 'schuldig', 'heeft', 'gemaakt', 'aan', 'het', 'ten', 'laste', 'gelegde', 'nhet', 'standpunt', 'van', 'de', 'verdediging', 'nde', 'verdediging', 'heeft', 'zich', 'op', 'het', 'standpunt', 'gesteld', 'dat', 'verdachte', 'van', 'het', 'ten', 'laste', 'gelegde', 'dient', 'te', 'worden', 'vrijgesproken', 'omdat', 'verdachte', 'niet', 'het', 'opzet', 'had', 'de', 'kinderen', 'aan', 'het', 'gezag', 'van', 'aangeefster', 'te', 'onttrekken', 'daarnaast', 'heeft', 'verdachte', 'volgens', 'de', 'verdediging', 'ook', 'geen', 'list', 'gebezigd', 'nbeoordeling', 'door', 'de', 'rechtbank', 'naangeefster', 'heeft', 'verklaard', 'dat', 'zij', 'op', 'november', 'omstreeks', 'uur', 'door', 'verdachte', 'werd', 'gebeld', 'hij', 'vroeg', 'haar', 'of', 'ze', 'om', 'uur', 'op', 'hem', 'wilde', 'wachten', 'bij', 'de', 'woonboulevard', 'in', 'arnhem', 'zuid', 'zodat', 'ze', 'samen', 'konden', 'gaan', 'shoppen', 'aangeefster', 'is', 'vervolgens', 'naar', 'de', 'woonboulevard', 'gegaan', 'maar', 'verdachte', 'was', 'daar', 'niet', 'op', 'het', 'afgesproken', 'tijdstip', 'aanwezig', 'omstreeks', 'uur', 'is', 'zij', 'naar', 'de', 'school', 'van', 'haar', 'kinderen', 'gegaan', 'om', 'hen', 'op', 'te', 'halen', 'daar', 'hoorde', 'ze', 'van', 'de', 'leerkracht', 'dat', 'haar', 'kinderen', 'omstreeks', 'uur', 'waren', 'opgehaald', 'door', 'verdachte', 'met', 'de', 'mededeling', 'dat', 'ze', 'een', 'afspraak', 'hadden', 'bij', 'de', 'tandarts', 'aangeefster', 'raakte', 'in', 'paniek', 'omdat', 'ze', 'wist', 'dat', 'haar', 'kinderen', 'geen', 'afspraak', 'bij', 'de', 'tandarts', 'hadden', 'zij', 'heeft', 'verdachte', 'toen', 'meermalen', 'proberen', 'te', 'bellen', 'verdachte', 'nam', 'zijn', 'telefoon', 'echter', 'niet', 'op', 'zij', 'heeft', 'toen', 'de', 'voicemail', 'ingesproken', 'met', 'de', 'vraag', 'waarom', 'hij', 'hun', 'kinderen', 'had', 'meegenomen', 'eenmaal', 'thuis', 'gekomen', 'kwam', 'ze', 'er', 'achter', 'dat', 'de', 'paspoorten', 'van', 'de', 'kinderen', 'en', 'van', 'verdachte', 'weg', 'waren', 'ook', 'waren', 'de', 'toiletartikelen', 'en', 'wat', 'kleding', 'van', 'de', 'kinderen', 'weg', 'nde', 'leerkracht', 'van', 'naam', 'getuige', 'heeft', 'verklaard', 'dat', 'verdachte', 'in', 'de', 'ochtend', 'net', 'voor', 'het', 'begin', 'van', 'de', 'schooldag', 'al', 'naar', 'haar', 'toe', 'was', 'gekomen', 'om', 'te', 'vertellen', 'dat', 'hij', 'met', 'zijn', 'dochter', 'naar', 'de', 'tandarts', 'zou', 'gaan', 'aan', 'het', 'einde', 'van', 'de', 'ochtend', 'heeft', 'hij', 'haar', 'toen', 'opgehaald', 'naam', 'moeder', 'is', 'toen', 'nog', 'na', 'schooltijd', 'geweest', 'om', 'haar', 'op', 'te', 'halen', 'de', 'leerkracht', 'van', 'naam', 'getuige', 'heeft', 'verklaard', 'dat', 'verdachte', 'in', 'de', 'ochtend', 'tegen', 'hem', 'had', 'gezegd', 'dat', 'hij', 'naam']]\n"
     ]
    }
   ],
   "source": [
    "def sent_to_words(sentences):\n",
    "    for sentence in sentences:\n",
    "        yield(gensim.utils.simple_preprocess(str(sentence), deacc=True))  # deacc=True removes punctuations\n",
    "\n",
    "data_words = list(sent_to_words(df['re_tll']))\n",
    "\n",
    "print(data_words[:1])"
   ]
  },
  {
   "cell_type": "markdown",
   "metadata": {},
   "source": [
    "# Creating Bigram and Trigram Models"
   ]
  },
  {
   "cell_type": "code",
   "execution_count": 5,
   "metadata": {},
   "outputs": [
    {
     "name": "stdout",
     "output_type": "stream",
     "text": [
      "['tenlastelegging', 'naan', 'verdachte', 'is', 'ten_laste_gelegd', 'dat', 'nhij', 'in', 'of', 'omstreeks', 'de', 'periode', 'van', 'november', 'tot', 'en', 'met', 'november', 'in', 'arnhem', 'en', 'of', 'in', 'nederland', 'en', 'of', 'in', 'duitsland', 'en', 'of', 'in', 'oostenrijk', 'en', 'of', 'in', 'hongarije', 'opzettelijk', 'een', 'of', 'meer', 'minderjarige', 'te', 'weten', 'naam', 'geboren', 'op', 'geboortedatum', 'in', 'geboorteplaats', 'en', 'of', 'naam', 'geboren', 'op', 'geboortedatum', 'in', 'geboorteplaats', 'heeft', 'onttrokken', 'aan', 'het', 'wettig', 'over', 'hen', 'haar', 'gesteld', 'gezag', 'en', 'of', 'aan', 'het', 'opzicht', 'van', 'degene', 'die', 'dit', 'desbevoegd', 'over', 'hen', 'haar', 'uitoefende', 'terwijl', 'die', 'minderjarige', 'beneden', 'de', 'twaalf_jaren', 'oud', 'was', 'waren', 'en', 'of', 'terwijl', 'list', 'was', 'gebezigd', 'bestaande', 'uit', 'het', 'door', 'verdachte', 'aan', 'de', 'school', 'van', 'de', 'minderjarig', 'in', 'strijd', 'met', 'de', 'waarheid', 'mededelen', 'dat', 'de', 'minderjarige', 'een', 'afspraak', 'bij', 'de', 'tandarts', 'zou', 'den', 'hebben', 'en', 'de', 'minderjarige', 'daarvoor', 'vroeger', 'op', 'te', 'halen', 'van', 'school', 'en', 'of', 'het', 'door', 'verdachte', 'uit', 'het', 'huis', 'lokken', 'van', 'zijn', 'verdachtes', 'echtgenote', 'genaamd', 'naam', 'door', 'het', 'maken', 'van', 'een', 'afspraak', 'met', 'haar', 'bij', 'een', 'woonboulevard', 'om', 'beweerdelijk', 'te', 'gaan', 'shoppen', 'zodat', 'verdachte', 'de', 'paspoorten', 'en', 'kleding', 'toiletartikelen', 'van', 'de', 'minderjarige', 'en', 'uit', 'de', 'woning', 'kon', 'pakken', 'toverwegingen', 'ten', 'aanzien', 'van', 'het', 'bewijs', 'nde', 'feiten', 'nop', 'grond', 'van', 'de', 'bewijsmiddelen', 'wordt', 'het', 'volgende', 'dat', 'verder', 'ook', 'niet', 'ter', 'discussie_staat_vastgesteld', 'naangeefster', 'naam', 'en', 'verdachte', 'zijn', 'getrouwd', 'en', 'hebben', 'samen', 'twee', 'kinderen', 'naam', 'geboren', 'op', 'geboortedatum', 'te', 'geboorteplaats', 'en', 'naam', 'geboren', 'op', 'geboortedatum', 'te', 'geboorteplaats', 'aangeefster', 'en', 'verdachte', 'hebben', 'beiden', 'gezag', 'over', 'deze', 'kinderen', 'verdachte', 'heeft', 'op', 'november', 'de', 'kinderen', 'eerder', 'van', 'school', 'gehaald', 'hij', 'is', 'vervolgens', 'in', 'een', 'bus', 'gestapt', 'in', 'nijmegen', 'heeft', 'in', 'kleve', 'duitsland', 'een', 'trein', 'genomen', 'in', 'dusseldorf', 'duitsland', 'de', 'bus', 'genomen', 'naar', 'salzburg', 'oostenrijk', 'en', 'heeft', 'vanuit', 'daar', 'een', 'trein', 'naar', 'boekarest', 'roemenie', 'genomen', 'in', 'deze', 'trein', 'is', 'hij', 'op', 'november', 'aangehouden', 'toen', 'de', 'trein', 'zich', 'in', 'hongarije', 'bevond', 'nhet', 'standpunt', 'van', 'de', 'officier', 'van', 'justitie', 'nde', 'officier', 'van', 'justitie', 'heeft', 'gesteld', 'dat', 'wettig', 'en', 'overtuigend_bewezen_kan', 'worden', 'dat', 'verdachte', 'zich', 'schuldig', 'heeft', 'gemaakt', 'aan', 'het', 'ten_laste_gelegde', 'nhet', 'standpunt', 'van', 'de', 'verdediging', 'nde', 'verdediging', 'heeft', 'zich', 'op', 'het', 'standpunt_gesteld', 'dat', 'verdachte', 'van', 'het', 'ten_laste_gelegde', 'dient', 'te', 'worden', 'vrijgesproken', 'omdat', 'verdachte', 'niet', 'het', 'opzet', 'had', 'de', 'kinderen', 'aan', 'het', 'gezag', 'van', 'aangeefster', 'te', 'onttrekken', 'daarnaast', 'heeft', 'verdachte', 'volgens', 'de', 'verdediging', 'ook', 'geen', 'list', 'gebezigd', 'nbeoordeling', 'door', 'de', 'rechtbank', 'naangeefster', 'heeft', 'verklaard', 'dat', 'zij', 'op', 'november', 'omstreeks', 'uur', 'door', 'verdachte', 'werd', 'gebeld', 'hij', 'vroeg', 'haar', 'of', 'ze', 'om', 'uur', 'op', 'hem', 'wilde', 'wachten', 'bij', 'de', 'woonboulevard', 'in', 'arnhem', 'zuid', 'zodat', 'ze', 'samen', 'konden', 'gaan', 'shoppen', 'aangeefster', 'is', 'vervolgens', 'naar', 'de', 'woonboulevard', 'gegaan', 'maar', 'verdachte', 'was', 'daar', 'niet', 'op', 'het', 'afgesproken', 'tijdstip', 'aanwezig', 'omstreeks', 'uur', 'is', 'zij', 'naar', 'de', 'school', 'van', 'haar', 'kinderen', 'gegaan', 'om', 'hen', 'op', 'te', 'halen', 'daar', 'hoorde', 'ze', 'van', 'de', 'leerkracht', 'dat', 'haar', 'kinderen', 'omstreeks', 'uur', 'waren', 'opgehaald', 'door', 'verdachte', 'met', 'de', 'mededeling', 'dat', 'ze', 'een', 'afspraak', 'hadden', 'bij', 'de', 'tandarts', 'aangeefster', 'raakte', 'in', 'paniek', 'omdat', 'ze', 'wist', 'dat', 'haar', 'kinderen', 'geen', 'afspraak', 'bij', 'de', 'tandarts', 'hadden', 'zij', 'heeft', 'verdachte', 'toen', 'meermalen', 'proberen', 'te', 'bellen', 'verdachte', 'nam', 'zijn', 'telefoon', 'echter', 'niet', 'op', 'zij', 'heeft', 'toen', 'de', 'voicemail', 'ingesproken', 'met', 'de', 'vraag', 'waarom', 'hij', 'hun', 'kinderen', 'had', 'meegenomen', 'eenmaal', 'thuis', 'gekomen', 'kwam', 'ze', 'er', 'achter', 'dat', 'de', 'paspoorten', 'van', 'de', 'kinderen', 'en', 'van', 'verdachte', 'weg', 'waren', 'ook', 'waren', 'de', 'toiletartikelen', 'en', 'wat', 'kleding', 'van', 'de', 'kinderen', 'weg', 'nde', 'leerkracht', 'van', 'naam', 'getuige', 'heeft', 'verklaard', 'dat', 'verdachte', 'in', 'de', 'ochtend', 'net', 'voor', 'het', 'begin', 'van', 'de', 'schooldag', 'al', 'naar', 'haar', 'toe', 'was', 'gekomen', 'om', 'te', 'vertellen', 'dat', 'hij', 'met', 'zijn', 'dochter', 'naar', 'de', 'tandarts', 'zou', 'gaan', 'aan', 'het', 'einde', 'van', 'de', 'ochtend', 'heeft', 'hij', 'haar', 'toen', 'opgehaald', 'naam', 'moeder', 'is', 'toen', 'nog', 'na', 'schooltijd', 'geweest', 'om', 'haar', 'op', 'te', 'halen', 'de', 'leerkracht', 'van', 'naam', 'getuige', 'heeft', 'verklaard', 'dat', 'verdachte', 'in', 'de', 'ochtend', 'tegen', 'hem', 'had', 'gezegd', 'dat', 'hij', 'naam']\n"
     ]
    }
   ],
   "source": [
    "# Build the bigram and trigram models\n",
    "bigram = gensim.models.Phrases(data_words, min_count=5, threshold=100) # higher threshold fewer phrases.\n",
    "trigram = gensim.models.Phrases(bigram[data_words], threshold=100)  \n",
    "\n",
    "# Faster way to get a sentence clubbed as a trigram/bigram\n",
    "bigram_mod = gensim.models.phrases.Phraser(bigram)\n",
    "trigram_mod = gensim.models.phrases.Phraser(trigram)\n",
    "\n",
    "# See trigram example\n",
    "print(trigram_mod[bigram_mod[data_words[0]]])"
   ]
  },
  {
   "cell_type": "markdown",
   "metadata": {},
   "source": [
    "# Remove Stopwords, Make Bigrams and Lemmatize"
   ]
  },
  {
   "cell_type": "code",
   "execution_count": 6,
   "metadata": {},
   "outputs": [],
   "source": [
    "# Define functions for stopwords, bigrams, trigrams and lemmatization\n",
    "def remove_stopwords(texts):\n",
    "    return [[word for word in simple_preprocess(str(doc)) if word not in stop_words] for doc in texts]\n",
    "\n",
    "def make_bigrams(texts):\n",
    "    return [bigram_mod[doc] for doc in texts]\n",
    "\n",
    "def make_trigrams(texts):\n",
    "    return [trigram_mod[bigram_mod[doc]] for doc in texts]\n",
    "\n",
    "def lemmatization(texts, allowed_postags=['NOUN', 'ADJ', 'VERB', 'ADV']):\n",
    "    \"\"\"https://spacy.io/api/annotation\"\"\"\n",
    "    texts_out = []\n",
    "    for sent in texts:\n",
    "        doc = nlp(\" \".join(sent)) \n",
    "        texts_out.append([token.lemma_ for token in doc if token.pos_ in allowed_postags])\n",
    "    return texts_out"
   ]
  },
  {
   "cell_type": "code",
   "execution_count": 7,
   "metadata": {},
   "outputs": [
    {
     "name": "stdout",
     "output_type": "stream",
     "text": [
      "[['tenlastelegging', 'naan', 'verdenken', 'laste_gelegd', 'periode', 'oostenrijk', 'opzettelijk', 'minderjarig', 'weten', 'naam', 'baren', 'geboortedatum', 'geboorteplaats', 'naam', 'baren', 'geboortedatum', 'geboorteplaats', 'onttrekken', 'wettig', 'stellen', 'gezag', 'opzicht', 'desbevoegd', 'uitoefenen', 'minderjarig', 'twaalf_jar', 'oud', 'list', 'bezigen', 'bestaan', 'verdenken', 'school', 'minderjarig', 'strijd', 'waarheid', 'mededeel', 'minderjarig', 'afspraak', 'tandarts', 'minderjarig', 'daarvoor', 'vroeger', 'halen', 'school', 'verdenken', 'huis', 'lok', 'verdachte', 'echtgenote', 'genaamd', 'naam', 'maken', 'afspraak', 'woonboulevard', 'beweerdelijk', 'gaan', 'shopp', 'verdenken', 'paspoort', 'kleding', 'toiletartikel', 'minderjarig', 'woning', 'toverweging', 'aanzien', 'bewijs', 'nde', 'feit', 'grond', 'bewijsmiddel', 'volgen', 'ver', 'discussie_staat', 'vaststellen', 'naangeefst', 'naam', 'verdenken', 'trouwen', 'samen', 'kind', 'naam', 'baren', 'geboortedatum', 'geboorteplaats', 'naam', 'baren', 'geboortedatum', 'geboorteplaats', 'aangeefster', 'verdenken', 'gezag', 'kind', 'verdenken', 'kind', 'eerder', 'school', 'halen', 'vervolgens', 'bus', 'stappen', 'nijmeg', 'klev', 'trein', 'nemen', 'dusseldorf', 'nemen', 'oostenrijk', 'trein', 'boekarest', 'roemenie', 'nemen', 'trein', 'aanhouden', 'trein', 'bevinden', 'standpunt', 'officier', 'justitie', 'nen', 'officier', 'justitie', 'stellen', 'wettig', 'overtuigend_bewezen', 'verdenken', 'schuldig', 'maken', 'laste_gelegen', 'standpunt', 'verdediging', 'nd', 'verdediging', 'standpunt_gesteld', 'verdenken', 'dienen', 'vrijspreken', 'verdenken', 'opzet', 'kind', 'gezag', 'aangeefster', 'onttrekken', 'daarnaast', 'verdenken', 'verdediging', 'list', 'bezigen', 'nbeoordeling', 'rechtbank', 'naangeefster', 'verklaren', 'uur', 'verdenken', 'bellen', 'vroeg', 'uur', 'willen', 'wachten', 'arnhem', 'zuid', 'samen', 'gaan', 'shoppen', 'aangeefster', 'vervolgens', 'woonboulevard', 'gaan', 'verdenken', 'afspreken', 'tijdstip', 'aanwezig', 'uur', 'school', 'kind', 'gaan', 'halen', 'horen', 'leerkracht', 'kind', 'uur', 'ophalen', 'verdenken', 'mededeling', 'afspraak', 'tandarts', 'aangeefster', 'raken', 'paniek', 'weten', 'kind', 'afspraak', 'tandarts', 'verdenken', 'meermalen', 'proberen', 'bellen', 'verdenken', 'nemen', 'telefoon', 'echter', 'voicemail', 'inspreken', 'vraag', 'waarom', 'kind', 'meenemen', 'eenmaal', 'thuis', 'komen', 'komen', 'paspoort', 'kind', 'verdenken', 'weg', 'toiletartikel', 'kleding', 'kind', 'weg', 'nde', 'leerkracht', 'naam', 'getuige', 'verklaren', 'verdenken', 'ochtend', 'net', 'begin', 'schooldag', 'komen', 'vertellen', 'dochter', 'tandarts', 'gaan', 'einde', 'ochtend', 'ophalen', 'naam', 'moeder', 'schooltijd', 'halen', 'leerkracht', 'naam', 'getuige', 'verklaren', 'verdenken', 'ochtend', 'zeggen', 'naam']]\n"
     ]
    }
   ],
   "source": [
    "# Remove Stop Words\n",
    "data_words_nostops = remove_stopwords(data_words)\n",
    "\n",
    "# Form Bigrams\n",
    "data_words_bigrams = make_bigrams(data_words_nostops)\n",
    "\n",
    "# Initialize spacy 'en' model, keeping only tagger component (for efficiency)\n",
    "# python3 -m spacy download en\n",
    "# nlp = spacy.load('nl', disable=['parser', 'ner'])\n",
    "\n",
    "nlp = spacy.load(\"nl_core_news_sm\")\n",
    "\n",
    "# Do lemmatization keeping only noun, adj, vb, adv\n",
    "data_lemmatized = lemmatization(data_words_bigrams, allowed_postags=['NOUN', 'ADJ', 'VERB', 'ADV'])\n",
    "\n",
    "print(data_lemmatized[:1])"
   ]
  },
  {
   "cell_type": "markdown",
   "metadata": {},
   "source": [
    "#  Create the Dictionary and Corpus needed for Topic Modeling"
   ]
  },
  {
   "cell_type": "code",
   "execution_count": 8,
   "metadata": {},
   "outputs": [
    {
     "name": "stdout",
     "output_type": "stream",
     "text": [
      "[[(0, 4), (1, 1), (2, 1), (3, 1), (4, 4), (5, 1), (6, 1), (7, 4), (8, 1), (9, 2), (10, 1), (11, 1), (12, 1), (13, 1), (14, 1), (15, 2), (16, 1), (17, 1), (18, 1), (19, 1), (20, 1), (21, 1), (22, 1), (23, 1), (24, 1), (25, 1), (26, 1), (27, 1), (28, 1), (29, 1), (30, 1), (31, 5), (32, 4), (33, 4), (34, 1), (35, 2), (36, 3), (37, 1), (38, 4), (39, 1), (40, 1), (41, 1), (42, 2), (43, 10), (44, 2), (45, 1), (46, 3), (47, 1), (48, 1), (49, 3), (50, 2), (51, 1), (52, 2), (53, 1), (54, 1), (55, 1), (56, 1), (57, 6), (58, 1), (59, 10), (60, 1), (61, 1), (62, 1), (63, 1), (64, 1), (65, 2), (66, 4), (67, 1), (68, 1), (69, 1), (70, 3), (71, 2), (72, 2), (73, 2), (74, 2), (75, 1), (76, 1), (77, 1), (78, 1), (79, 1), (80, 1), (81, 2), (82, 1), (83, 1), (84, 1), (85, 1), (86, 1), (87, 2), (88, 4), (89, 1), (90, 1), (91, 1), (92, 1), (93, 1), (94, 2), (95, 1), (96, 1), (97, 2), (98, 1), (99, 4), (100, 1), (101, 1), (102, 1), (103, 1), (104, 2), (105, 1), (106, 4), (107, 1), (108, 1), (109, 1), (110, 4), (111, 1), (112, 1), (113, 1), (114, 3), (115, 19), (116, 3), (117, 1), (118, 2), (119, 1), (120, 1), (121, 1), (122, 1), (123, 1), (124, 1), (125, 1), (126, 1), (127, 1), (128, 2), (129, 2), (130, 2), (131, 1), (132, 1), (133, 2), (134, 1), (135, 1)]]\n"
     ]
    }
   ],
   "source": [
    "# Create Dictionary\n",
    "id2word = corpora.Dictionary(data_lemmatized)\n",
    "\n",
    "# Create Corpus\n",
    "texts = data_lemmatized\n",
    "\n",
    "# Term Document Frequency\n",
    "corpus = [id2word.doc2bow(text) for text in texts]\n",
    "\n",
    "# View\n",
    "print(corpus[:1])"
   ]
  },
  {
   "cell_type": "code",
   "execution_count": 12,
   "metadata": {},
   "outputs": [
    {
     "data": {
      "text/plain": [
       "'aangeefster'"
      ]
     },
     "execution_count": 12,
     "metadata": {},
     "output_type": "execute_result"
    }
   ],
   "source": [
    "# Id word\n",
    "id2word[0]"
   ]
  },
  {
   "cell_type": "markdown",
   "metadata": {},
   "source": [
    "# Building the Topic Model"
   ]
  },
  {
   "cell_type": "code",
   "execution_count": 17,
   "metadata": {},
   "outputs": [],
   "source": [
    "# Build LDA model\n",
    "lda_model = gensim.models.ldamodel.LdaModel(corpus=corpus,\n",
    "                                           id2word=id2word,\n",
    "                                           num_topics=5, \n",
    "                                           random_state=100,\n",
    "                                           update_every=1,\n",
    "                                           chunksize=100,\n",
    "                                           passes=10,\n",
    "                                           alpha='auto',\n",
    "                                           per_word_topics=True)"
   ]
  },
  {
   "cell_type": "markdown",
   "metadata": {},
   "source": [
    "# View the topics in LDA model"
   ]
  },
  {
   "cell_type": "code",
   "execution_count": 18,
   "metadata": {},
   "outputs": [
    {
     "name": "stdout",
     "output_type": "stream",
     "text": [
      "[(0,\n",
      "  '0.049*\"verdenken\" + 0.013*\"hof\" + 0.012*\"medeverdacht\" + 0.012*\"zien\" + '\n",
      "  '0.010*\"verklaren\" + 0.009*\"benadelen\" + 0.009*\"rechtbank\" + '\n",
      "  '0.008*\"verbalisant\" + 0.008*\"komen\" + 0.008*\"feit\"'),\n",
      " (1,\n",
      "  '0.057*\"verdenken\" + 0.035*\"naam\" + 0.033*\"aangeefster\" + 0.022*\"laten\" + '\n",
      "  '0.014*\"zoon\" + 0.014*\"minderjarig\" + 0.013*\"gaan\" + 0.012*\"kind\" + '\n",
      "  '0.008*\"gezag\" + 0.007*\"onttrekken\"'),\n",
      " (2,\n",
      "  '0.028*\"naam\" + 0.017*\"bedrijf\" + 0.016*\"kenteken\" + 0.013*\"verdenken\" + '\n",
      "  '0.010*\"periode\" + 0.009*\"artikel\" + 0.009*\"adres\" + 0.008*\"merk\" + '\n",
      "  '0.008*\"hoeveelheid\" + 0.007*\"uur\"'),\n",
      " (3,\n",
      "  '0.042*\"ander\" + 0.037*\"althans\" + 0.030*\"verdenken\" + 0.027*\"geval\" + '\n",
      "  '0.021*\"goed\" + 0.017*\"weten\" + 0.015*\"vereniging\" + 0.014*\"benadelen\" + '\n",
      "  '0.013*\"alleen\" + 0.013*\"oogmerk\"'),\n",
      " (4,\n",
      "  '0.113*\"slachtoffer\" + 0.034*\"naam\" + 0.034*\"althans\" + 0.018*\"geweld\" + '\n",
      "  '0.018*\"verdenken\" + 0.014*\"slaan\" + 0.014*\"lichaam\" + 0.013*\"hoofd\" + '\n",
      "  '0.012*\"telkens\" + 0.010*\"weten\"')]\n"
     ]
    }
   ],
   "source": [
    "# Print the Keyword in the 10 topics\n",
    "pprint(lda_model.print_topics())\n",
    "doc_lda = lda_model[corpus]"
   ]
  },
  {
   "cell_type": "markdown",
   "metadata": {},
   "source": [
    "# Compute Model Perplexity and Coherence Score"
   ]
  },
  {
   "cell_type": "code",
   "execution_count": 19,
   "metadata": {},
   "outputs": [
    {
     "name": "stdout",
     "output_type": "stream",
     "text": [
      "\n",
      "Perplexity:  -7.181100830119165\n",
      "\n",
      "Coherence Score:  0.4846355141838131\n"
     ]
    }
   ],
   "source": [
    "# Compute Perplexity\n",
    "print('\\nPerplexity: ', lda_model.log_perplexity(corpus))  # a measure of how good the model is. lower the better.\n",
    "\n",
    "# Compute Coherence Score\n",
    "coherence_model_lda = CoherenceModel(model=lda_model, texts=data_lemmatized, dictionary=id2word, coherence='c_v')\n",
    "coherence_lda = coherence_model_lda.get_coherence()\n",
    "print('\\nCoherence Score: ', coherence_lda)"
   ]
  },
  {
   "cell_type": "markdown",
   "metadata": {},
   "source": [
    "# Visualize the topics-keywords"
   ]
  },
  {
   "cell_type": "code",
   "execution_count": 20,
   "metadata": {},
   "outputs": [
    {
     "data": {
      "text/html": [
       "\n",
       "<link rel=\"stylesheet\" type=\"text/css\" href=\"https://cdn.jsdelivr.net/gh/bmabey/pyLDAvis@3.3.1/pyLDAvis/js/ldavis.v1.0.0.css\">\n",
       "\n",
       "\n",
       "<div id=\"ldavis_el13001406513726358564987133092\"></div>\n",
       "<script type=\"text/javascript\">\n",
       "\n",
       "var ldavis_el13001406513726358564987133092_data = {\"mdsDat\": {\"x\": [0.18483176780419097, -0.1850152346273931, -0.20725475524808554, 0.042317323179593226, 0.1651208988916945], \"y\": [-0.009810268386734624, -0.08836077458544202, 0.15904577110492238, -0.23191378454808134, 0.17103905641533573], \"topics\": [1, 2, 3, 4, 5], \"cluster\": [1, 1, 1, 1, 1], \"Freq\": [36.54073512012987, 22.817940200039885, 21.02544862908119, 13.27639708506588, 6.339478965683172]}, \"tinfo\": {\"Term\": [\"slachtoffer\", \"verdenken\", \"althans\", \"naam\", \"ander\", \"geval\", \"aangeefster\", \"geweld\", \"laten\", \"hof\", \"bedrijf\", \"goed\", \"lichaam\", \"gaan\", \"slaan\", \"kenteken\", \"mededader\", \"benadelen\", \"hoofd\", \"oogmerk\", \"vereniging\", \"zien\", \"zoon\", \"geheel\", \"rechtbank\", \"gemeente\", \"tezamen\", \"weten\", \"alleen\", \"euro\", \"hof\", \"verbalisant\", \"man\", \"betrokken\", \"bewijzen\", \"proces_verbaal\", \"laste_gelegen\", \"overtuigend_bewezen\", \"verhoor\", \"vrijspreken\", \"begrijpen\", \"afleggen\", \"bevinding\", \"openbaar_ministerie\", \"nikken\", \"camerabeeld\", \"vonnis_waarvan\", \"daarom\", \"bewezen_verklaaren\", \"herkennen\", \"sprake\", \"advocaat_generaal\", \"bemonstering\", \"juist\", \"slechts\", \"verweer\", \"geit\", \"getuigen\", \"bovendien\", \"vervolging\", \"verklaring\", \"begaan\", \"getuige\", \"zien\", \"overwegen\", \"oordeel\", \"verklaren\", \"raadsman\", \"onderzoek\", \"omstandigheid\", \"zitten\", \"horen\", \"politie\", \"bewijsmiddel\", \"terechtzitting\", \"komen\", \"medeverdacht\", \"volgen\", \"rechtbank\", \"verdediging\", \"verdenken\", \"blijken\", \"staan\", \"feit\", \"benadelen\", \"gaan\", \"auto\", \"grond\", \"uur\", \"vervolgens\", \"maken\", \"persoon\", \"geven\", \"geldbedrag\", \"enig\", \"bereik\", \"dele_toebehorenen\", \"eren\", \"bankpas\", \"overdragen\", \"bevoordeel\", \"toe_eigening\", \"braak_verbreking\", \"waarheid\", \"euro_geboekt\", \"eigenen\", \"afgifte\", \"samenweefsel\", \"afgifen\", \"valse_hoedanigheid\", \"oplichting\", \"sieraad\", \"euro\", \"valse_sleutel\", \"verdichtsel\", \"brand\", \"toeeigening\", \"eur\", \"verworven_voorhand\", \"pincode\", \"inklimming\", \"bedrieglijk\", \"pinpas\", \"toebehoren\", \"verschaffen\", \"mededader\", \"mededad\", \"wegnemen\", \"oogmerk\", \"toegang\", \"ntezam\", \"geheel\", \"wederrechtelijk\", \"goed\", \"ander\", \"geval\", \"vereniging\", \"tezamen\", \"elders\", \"alleen\", \"strafrecht\", \"deel\", \"gemeente\", \"althans\", \"geld\", \"misdrijf\", \"weten\", \"diefstal\", \"een\", \"benadelen\", \"telkens\", \"verdenken\", \"periode\", \"opzettelijk\", \"naam\", \"middel\", \"voornoemd\", \"woning\", \"bedrijf\", \"tenlastelegging\", \"lichaam\", \"kracht\", \"uf\", \"duwen\", \"bedreigen\", \"danwel\", \"vagina\", \"beroven\", \"mishandelen\", \"familielid\", \"borst\", \"scherp\", \"oor\", \"stompen\", \"opvoeden\", \"verzorgen\", \"kapot\", \"zware_mishandeling\", \"neus\", \"stevig\", \"dichtdrukken\", \"fors_stomp\", \"hard_oppervlak\", \"penis\", \"schudden\", \"intimideren\", \"naakt\", \"dulden\", \"gelijke_dreigenen\", \"gezin\", \"geweld\", \"slachtoffer\", \"drukken\", \"woord\", \"gezicht\", \"hoofd\", \"slaan\", \"strekking\", \"dwingen\", \"hard\", \"dood\", \"feitelijkheid\", \"meermalen\", \"mes\", \"gooien\", \"althans\", \"naam\", \"trekken\", \"eenmaal\", \"telkens\", \"voorwerp\", \"tenlastelegging\", \"bedreiging\", \"weten\", \"houden\", \"verdenken\", \"laste_gelegd\", \"maken\", \"ander\", \"opzettelijk\", \"geval\", \"brengen\", \"gemeente\", \"naan\", \"misdrijf\", \"loods\", \"volkswagen\", \"gram\", \"mercedes_benz\", \"cocaine\", \"schip\", \"hennep\", \"materiaal_bevattenen\", \"bedrijfsnaam\", \"werknemer\", \"opiumwet_behorenen\", \"hennepplant\", \"verwerken\", \"wijnjewoud\", \"noordwolen\", \"opiumwet\", \"rechtspersoon\", \"schip_genaamd\", \"vissersvaartuig\", \"verkopen\", \"schiermonnikoog\", \"amfetamine\", \"bestelauto\", \"telen\", \"sprinter\", \"lijst_ii\", \"vermelding\", \"verkoop\", \"automatisch\", \"transactie\", \"koppelen\", \"kenteken\", \"positie\", \"stelen\", \"voertuig\", \"bedrijf\", \"pand\", \"wet\", \"witwas\", \"hoeveelheid\", \"merk\", \"voorzien\", \"onderdeel\", \"aantreffen\", \"zijn\", \"naam\", \"kentekenen\", \"artikel\", \"aanwezig\", \"periode\", \"zaak\", \"adres\", \"uur\", \"bedoelen\", \"lid\", \"verdenken\", \"medeverdacht\", \"opzettelijk\", \"hebben\", \"auto\", \"rechtbank\", \"feit\", \"weten\", \"telkens\", \"voorwerp\", \"tenlastelegging\", \"gezag\", \"ouderlijk\", \"kwetsbare_positie\", \"uitbuiting\", \"omstandigheden_voortvloeien\", \"afpersing_misleiding\", \"assistentie\", \"onderhoud\", \"hulpverlener\", \"verstandelijk\", \"opdragen\", \"desbevoegd\", \"jurk\", \"onderbrengen\", \"overal\", \"koken\", \"omgang\", \"aanmerkelijk_onvoorzichtig\", \"onopletten\", \"koud\", \"bestandsnaam_ag\", \"enige_handeling\", \"onachtzaam\", \"motorrijtuig\", \"ongeval\", \"innemen\", \"ondernomen_waarvan\", \"aanrijding\", \"minderjarige\", \"geboortejaar\", \"aangeefster\", \"roepnaam\", \"minderjarig\", \"dreiging\", \"invloedssfeer\", \"onttrekken\", \"misbruik\", \"dwang\", \"arbeid\", \"kind\", \"onttrekking\", \"laten\", \"vertrekken\", \"zoon\", \"paspoort\", \"overwicht\", \"sub\", \"meisje\", \"feitelijk\", \"verdenken\", \"naam\", \"toestemming\", \"gaan\", \"baren\", \"geboortedatum\", \"beperken\", \"waarna\", \"meenemen\", \"aanzien\", \"stellen\", \"rechtbank\", \"voornoemd\", \"nemen\", \"uur\", \"wettig\", \"liggen\", \"weten\", \"komen\", \"maken\", \"betalen\", \"houden\"], \"Freq\": [10793.0, 14770.0, 6831.0, 6963.0, 5374.0, 3442.0, 942.0, 1716.0, 1199.0, 2095.0, 1658.0, 2445.0, 1251.0, 1674.0, 1359.0, 1223.0, 1341.0, 2869.0, 1240.0, 1401.0, 1967.0, 2072.0, 713.0, 1266.0, 1938.0, 1732.0, 1527.0, 3271.0, 1821.0, 901.0, 2094.913424825941, 1265.1176265847046, 1061.705858126844, 521.9273559915538, 493.0996763387567, 474.5036695565033, 453.47822939118225, 336.46441970895006, 261.1222737035935, 257.8754495699112, 242.63142721716795, 232.20029189018143, 227.89366541872, 214.3078699584787, 211.98417324485447, 211.46712892613553, 199.97191494099502, 189.8642739540204, 183.72565324125816, 175.39711027181667, 603.182314401181, 166.20928720478395, 167.7678200544591, 160.3977864080036, 158.58139143972252, 156.44235739550447, 149.71047160151517, 144.1327274913145, 142.6387113012084, 140.57089658392957, 1141.4480031294129, 385.56490714108736, 987.1673628688106, 1970.7873878377677, 275.88452208436206, 849.4769120222702, 1632.948856243484, 394.94008881863215, 540.4274616412259, 530.7491818125877, 451.40205725647513, 473.3136625596574, 569.2667803225216, 604.8480341506877, 597.0102082406137, 1263.8292270338416, 1976.7556436653338, 1054.640112564108, 1456.84061248602, 638.4062909583735, 7832.7916026163475, 772.222321174473, 859.3622029424478, 1236.57136599797, 1497.6758278975672, 916.4942893757335, 797.6805578550121, 567.2199846495203, 670.9255134711444, 644.6830368192448, 696.2779205187536, 611.9370577704209, 586.4955173320412, 629.8568758903205, 446.02724300307204, 435.85257755930576, 316.13425524649426, 293.46610209147104, 219.6632517789729, 197.9546160906008, 191.0505463445034, 187.72045972796417, 162.7774174898777, 162.7653079995612, 162.98402188123166, 156.83591870607205, 152.5773255995216, 149.29567694424838, 148.70967281697622, 137.4087783327768, 135.9617232655786, 124.93098767895798, 896.1418511518242, 116.37675315943332, 115.04676423879441, 112.49884852650494, 100.2533673566199, 97.80487021152146, 100.8652042892173, 96.74562070094058, 89.51417094218773, 89.1487615570187, 84.15838602941466, 586.1891482095422, 357.9662167039895, 1305.6440849004223, 439.2126766710206, 650.9294324449629, 1315.782619247482, 293.0076597763824, 265.87771092658306, 1133.6280202882706, 728.5165971684899, 2075.3425159906806, 4206.161219427419, 2652.6847468989254, 1507.7638548089185, 1198.3655645047895, 305.3803776714626, 1335.3340009015797, 625.2623286017965, 561.5465327897009, 1205.8174870980247, 3663.1998168804057, 906.2518707259047, 980.6937259550277, 1739.0038025509675, 494.2884498294125, 650.0540660672993, 1371.1137250147335, 1099.0223246130886, 2954.0845969413836, 912.1171830519377, 781.5309472926768, 1279.5620771781084, 561.5886083341948, 642.4913816930291, 692.9491084177383, 684.9927437005612, 627.6753564344147, 1250.3226090537667, 534.6036336853784, 553.1342716664674, 358.64298047640295, 331.9494080052934, 305.93061329888667, 253.64797109921517, 246.1519832973244, 245.33671687475814, 238.75942561607206, 227.15128815440156, 202.44413458481233, 197.43402147800055, 196.19333075078936, 190.81487889205573, 196.17180598840577, 193.76698079621846, 175.1668473596406, 168.6197677952742, 168.1610721133863, 155.26016512565604, 153.45943474336624, 153.45943474336624, 153.6055506502425, 160.3951475299535, 155.0049383581684, 150.73458383450773, 136.2735595016493, 132.61582624694162, 126.50155273972746, 1680.601068561938, 10377.057990187672, 326.046594961933, 557.9031405427872, 533.5235870098332, 1169.4536060581954, 1260.2234862369971, 297.91845912747146, 281.7903783218575, 447.2377042497223, 392.1569927148736, 350.24543463495485, 811.2764248631947, 362.22169688470643, 237.7175928824921, 3105.7806625411117, 3107.4091841261406, 389.0335913597735, 454.1528444130175, 1071.7851037246078, 639.1075104624143, 797.0918204162543, 399.1776170516788, 907.5094009961468, 474.3743958351102, 1641.1581182951463, 485.4944389831681, 590.3205453044354, 782.9265583005215, 532.2761778180212, 632.4762147303127, 481.81978118865385, 499.51065388740597, 461.1694034368477, 406.7975541065398, 268.22997466793373, 251.27965624785153, 227.99790902866212, 222.9989383143696, 208.72830317388798, 190.91507482996417, 186.3557667805271, 184.99835457666666, 181.52815128651486, 173.6285715998027, 170.77112906503947, 168.22788955817487, 167.22295597466393, 157.4032061411492, 156.4872805361297, 133.29982394867855, 120.1900484815332, 120.00977625065721, 119.23323973399471, 117.39998341925578, 117.73487120961198, 99.82505542819044, 98.98559318902888, 98.15493312017503, 96.18011926222968, 92.97606847242574, 107.82029031947441, 86.07257966705046, 85.72226950155036, 81.0020364321055, 96.26908670885474, 947.5847756083613, 124.11015548810335, 248.67710510990352, 354.72838212279424, 972.5871005538534, 232.01856208500962, 250.9644534339164, 145.42978207882413, 442.7058514230356, 457.1738902632346, 294.0682558461486, 268.16639368026216, 388.6271004546184, 296.22525368799916, 1599.5189853509928, 157.7240563951283, 516.1394332505263, 296.7660028275165, 594.3570723263314, 363.67798033901397, 496.1057206514351, 427.31163241563206, 302.7889030600132, 311.2506597329166, 772.4661985592649, 377.07532939786995, 333.19353132178685, 283.3648707944684, 298.7626566061102, 289.1728710716092, 271.37686877088163, 275.6112328478389, 261.05767176965406, 256.5348829317929, 253.30597935260903, 216.58461381608456, 117.78897458371945, 111.46966011634574, 100.9482258406138, 79.90166713330571, 77.34174409148324, 70.29037883020843, 72.82446432979994, 72.23040730077281, 71.83234786738085, 55.95692970021664, 49.25658083664137, 49.332683849607044, 47.64480850185621, 49.717821286222815, 47.82847439662385, 47.84879605905269, 42.12449341627419, 41.33633870576596, 118.14974537938483, 39.08832737694067, 35.67207851131295, 40.156143644737554, 48.513540216725175, 31.006528029755938, 48.96131030721093, 29.316065702121307, 28.686158680041135, 28.39405574942104, 27.86792790913821, 903.4848542565604, 93.9994107844085, 388.29956470556033, 130.8214566903021, 91.46594461167197, 191.60091687584756, 190.42460873596625, 83.89775754124246, 90.33286032521075, 339.66509124341934, 73.61511892735298, 617.8393350898555, 95.57226874847275, 392.31197695665423, 94.63124675158906, 79.20404059042693, 76.79712353839017, 161.29300889246693, 106.84317238590195, 1570.3188271800102, 976.8363786425863, 120.93449697220579, 366.3233705836501, 175.3419999077047, 125.11410166885715, 106.18842777640874, 134.88309252372366, 106.26739195041797, 155.89415606065606, 174.45979460807936, 184.48149662506103, 165.7716323362856, 151.15575080646127, 153.88129217141812, 132.22941887922946, 144.02600844142518, 166.26568743219858, 145.70119726563112, 135.1872078148017, 121.35335546581064, 118.64741321528516], \"Total\": [10793.0, 14770.0, 6831.0, 6963.0, 5374.0, 3442.0, 942.0, 1716.0, 1199.0, 2095.0, 1658.0, 2445.0, 1251.0, 1674.0, 1359.0, 1223.0, 1341.0, 2869.0, 1240.0, 1401.0, 1967.0, 2072.0, 713.0, 1266.0, 1938.0, 1732.0, 1527.0, 3271.0, 1821.0, 901.0, 2095.6224124409027, 1265.8289387207753, 1062.8775607162079, 522.6364646122751, 493.81186285922854, 475.2143250725715, 454.1906647989011, 337.33837507262314, 261.83031063172336, 258.58878512857245, 243.3408431400064, 232.90946533982438, 228.60333570315328, 215.0206083939903, 212.690138871671, 212.17711345939273, 200.68451342605763, 190.58570937028963, 184.43247575362668, 176.11236202014345, 605.6845681716903, 166.91956544356435, 168.48807430449176, 161.11586003004732, 159.29572113953967, 157.1537685360234, 150.41706845304248, 144.84831553180317, 143.34817424877303, 141.2935477798278, 1168.02676073907, 390.5824576433901, 1014.712553874273, 2072.182520140537, 280.25708355507317, 898.9242082431773, 1793.9952875398644, 410.58208843433874, 572.8082673522562, 564.2864268336555, 476.8572131109057, 515.9124812768238, 640.0197590660116, 685.0090553753078, 676.4557184148011, 1572.247492559915, 2620.476263925782, 1323.2868778842892, 1938.7605248943116, 744.7951530493498, 14770.819343592153, 943.29402345326, 1214.1917503506709, 2000.7433460843083, 2869.2814217391087, 1674.5689492227996, 1507.1787911673405, 810.4287830951296, 1274.492737357745, 1303.5936044261102, 2066.040554575162, 1407.657800910955, 1143.1749367963369, 630.6305038717567, 446.79541058435336, 436.8453160393284, 316.9024691282016, 294.2356490760157, 220.43571259340996, 198.7380491202609, 191.82138614919876, 188.4928523465925, 163.544194266406, 163.5491966470826, 163.7734039201627, 157.60372089889182, 153.35332033141094, 150.0633893575617, 149.47858940784315, 138.17567206824668, 136.75970972346164, 125.69779101579864, 901.9130191975819, 117.14449553968507, 115.81496558911688, 113.27555106160962, 101.01930626267912, 98.57855563975947, 101.66454898113717, 97.51854705602122, 90.28278198272206, 89.9198663046264, 84.92859094535714, 592.9789745698425, 361.24462894673337, 1341.1652956999576, 448.96312141863314, 676.7813031057449, 1401.612679103812, 302.80913512081196, 275.3269250989803, 1266.1916116437842, 803.8879432509603, 2445.1596329793756, 5374.121977032994, 3442.8369761350436, 1967.5884375845958, 1527.7261177458324, 335.1171736304445, 1821.5790297530036, 763.8780604889038, 676.8476376906372, 1732.5365910153919, 6831.576647223172, 1257.6583938004294, 1480.4977183007059, 3271.2169131183055, 638.8757098086041, 950.0408288623511, 2869.2814217391087, 2451.4155614153674, 14770.819343592153, 1968.9323604276667, 1710.989488868815, 6963.609053943722, 849.4587458660645, 1249.7098087683785, 1587.943365387112, 1658.1131873976829, 1734.210453679554, 1251.1574310972069, 535.4458142065004, 554.0224270663821, 359.4842886267489, 332.80952425946646, 306.84120474398674, 254.48177596349498, 246.98931917387077, 246.17757009088788, 239.63730108890135, 227.988630743688, 203.2885538177044, 198.2682484957232, 197.02775628761162, 191.67408477409833, 197.0744961287171, 194.6872258007415, 176.00609966374213, 169.4732185100443, 169.02309347268263, 156.09120103996835, 154.29053529294623, 154.29053529294623, 154.44009989041518, 161.272481966242, 155.8756543632225, 151.59281713308619, 137.1114583884633, 133.45360502020313, 127.37314976291344, 1716.081591622248, 10793.919875022042, 329.11012988748087, 573.6090237089738, 549.0095973562355, 1240.491265723874, 1359.8533879463992, 308.8796684756956, 295.42642374583147, 493.6601339462942, 430.6879771096658, 395.4231880163929, 1076.1811351837678, 426.4739180476607, 252.22026929183613, 6831.576647223172, 6963.609053943722, 505.6194410034851, 638.8830265685725, 2451.4155614153674, 1194.841467642594, 1734.210453679554, 574.8922552784605, 3271.2169131183055, 923.3715743945403, 14770.819343592153, 1032.0458322604782, 2066.040554575162, 5374.121977032994, 1710.989488868815, 3442.8369761350436, 1336.7604864858838, 1732.5365910153919, 1204.4959422321028, 1480.4977183007059, 268.9743072982338, 252.03119050127358, 228.74496479500777, 223.74308645720018, 209.51852215507665, 191.66577345737184, 187.10315103671238, 185.74474635031353, 182.27243847297953, 174.3778300036413, 171.51893759565075, 168.97680258654069, 167.97199927741372, 158.14679911109184, 157.2308777848768, 134.0464487537875, 120.94497877590028, 120.7671952782673, 119.99446421463874, 118.15279336733389, 118.5010929023204, 100.57403438566104, 99.73437818841116, 98.9027693648492, 96.923740738451, 93.72332253987989, 108.7428502182255, 86.82742530941837, 86.4828836493611, 81.78352227448303, 97.84142988835663, 1223.498910269257, 132.44541601201578, 299.11226638347324, 470.6888579597576, 1658.1131873976829, 291.1771689101633, 333.5454891775505, 164.51767114746195, 717.7178112272998, 750.5765113582206, 422.91464051916313, 377.0254775787614, 699.1726555893638, 479.7297042301375, 6963.609053943722, 185.59296439522163, 1229.0524519720395, 518.900395518333, 1968.9323604276667, 865.7166268209763, 1651.0533761942042, 1274.492737357745, 618.7564593180317, 952.0108825138957, 14770.819343592153, 2620.476263925782, 1710.989488868815, 1111.4625202796851, 1507.1787911673405, 1938.7605248943116, 2000.7433460843083, 3271.2169131183055, 2451.4155614153674, 1194.841467642594, 1734.210453679554, 217.47244455977335, 118.67629200728945, 112.37135053674558, 101.84268583562758, 80.80714983396184, 78.24945267630716, 71.2087810900234, 73.77800606610562, 73.17923163224559, 72.777730497459, 56.857376857555636, 50.145329591766064, 50.23471643239811, 48.53180573755274, 50.64386411079737, 48.78510756115098, 48.85782591214719, 43.14283916631609, 42.340857088377454, 121.04002130352741, 40.055207251557675, 36.574001414528276, 41.20315262955788, 49.83685415021761, 31.898756932687352, 50.449821630096075, 30.213674319921278, 29.577103528336213, 29.296106948646774, 28.764779773900013, 942.1944857322271, 97.0681177491673, 409.12802483447115, 141.68228517416432, 98.55975262417097, 224.07185881167698, 233.2741471958949, 94.3664442527952, 104.80249133753004, 491.53727382544497, 83.47902705869657, 1199.7273238693977, 116.9446040278803, 713.0644835479355, 116.94422534588071, 96.37024375191456, 93.23644510783846, 283.19993621931565, 159.1251824433815, 14770.819343592153, 6963.609053943722, 199.12094290353627, 1674.5689492227996, 454.50727305232857, 226.6471615938912, 163.7886933187953, 279.72717884080674, 165.56380532918, 518.321117811158, 913.0570808318392, 1938.7605248943116, 1249.7098087683785, 1025.9106859578808, 1274.492737357745, 594.3178697087383, 1209.3443225110225, 3271.2169131183055, 1572.247492559915, 2066.040554575162, 400.7104444419115, 923.3715743945403], \"Category\": [\"Default\", \"Default\", \"Default\", \"Default\", \"Default\", \"Default\", \"Default\", \"Default\", \"Default\", \"Default\", \"Default\", \"Default\", \"Default\", \"Default\", \"Default\", \"Default\", \"Default\", \"Default\", \"Default\", \"Default\", \"Default\", \"Default\", \"Default\", \"Default\", \"Default\", \"Default\", \"Default\", \"Default\", \"Default\", \"Default\", \"Topic1\", \"Topic1\", \"Topic1\", \"Topic1\", \"Topic1\", \"Topic1\", \"Topic1\", \"Topic1\", \"Topic1\", \"Topic1\", \"Topic1\", \"Topic1\", \"Topic1\", \"Topic1\", \"Topic1\", \"Topic1\", \"Topic1\", \"Topic1\", \"Topic1\", \"Topic1\", \"Topic1\", \"Topic1\", \"Topic1\", \"Topic1\", \"Topic1\", \"Topic1\", \"Topic1\", \"Topic1\", \"Topic1\", \"Topic1\", \"Topic1\", \"Topic1\", \"Topic1\", \"Topic1\", \"Topic1\", \"Topic1\", \"Topic1\", \"Topic1\", \"Topic1\", \"Topic1\", \"Topic1\", \"Topic1\", \"Topic1\", \"Topic1\", \"Topic1\", \"Topic1\", \"Topic1\", \"Topic1\", \"Topic1\", \"Topic1\", \"Topic1\", \"Topic1\", \"Topic1\", \"Topic1\", \"Topic1\", \"Topic1\", \"Topic1\", \"Topic1\", \"Topic1\", \"Topic1\", \"Topic1\", \"Topic1\", \"Topic1\", \"Topic2\", \"Topic2\", \"Topic2\", \"Topic2\", \"Topic2\", \"Topic2\", \"Topic2\", \"Topic2\", \"Topic2\", \"Topic2\", \"Topic2\", \"Topic2\", \"Topic2\", \"Topic2\", \"Topic2\", \"Topic2\", \"Topic2\", \"Topic2\", \"Topic2\", \"Topic2\", \"Topic2\", \"Topic2\", \"Topic2\", \"Topic2\", \"Topic2\", \"Topic2\", \"Topic2\", \"Topic2\", \"Topic2\", \"Topic2\", \"Topic2\", \"Topic2\", \"Topic2\", \"Topic2\", \"Topic2\", \"Topic2\", \"Topic2\", \"Topic2\", \"Topic2\", \"Topic2\", \"Topic2\", \"Topic2\", \"Topic2\", \"Topic2\", \"Topic2\", \"Topic2\", \"Topic2\", \"Topic2\", \"Topic2\", \"Topic2\", \"Topic2\", \"Topic2\", \"Topic2\", \"Topic2\", \"Topic2\", \"Topic2\", \"Topic2\", \"Topic2\", \"Topic2\", \"Topic2\", \"Topic2\", \"Topic2\", \"Topic2\", \"Topic2\", \"Topic2\", \"Topic2\", \"Topic2\", \"Topic3\", \"Topic3\", \"Topic3\", \"Topic3\", \"Topic3\", \"Topic3\", \"Topic3\", \"Topic3\", \"Topic3\", \"Topic3\", \"Topic3\", \"Topic3\", \"Topic3\", \"Topic3\", \"Topic3\", \"Topic3\", \"Topic3\", \"Topic3\", \"Topic3\", \"Topic3\", \"Topic3\", \"Topic3\", \"Topic3\", \"Topic3\", \"Topic3\", \"Topic3\", \"Topic3\", \"Topic3\", \"Topic3\", \"Topic3\", \"Topic3\", \"Topic3\", \"Topic3\", \"Topic3\", \"Topic3\", \"Topic3\", \"Topic3\", \"Topic3\", \"Topic3\", \"Topic3\", \"Topic3\", \"Topic3\", \"Topic3\", \"Topic3\", \"Topic3\", \"Topic3\", \"Topic3\", \"Topic3\", \"Topic3\", \"Topic3\", \"Topic3\", \"Topic3\", \"Topic3\", \"Topic3\", \"Topic3\", \"Topic3\", \"Topic3\", \"Topic3\", \"Topic3\", \"Topic3\", \"Topic3\", \"Topic3\", \"Topic3\", \"Topic3\", \"Topic3\", \"Topic4\", \"Topic4\", \"Topic4\", \"Topic4\", \"Topic4\", \"Topic4\", \"Topic4\", \"Topic4\", \"Topic4\", \"Topic4\", \"Topic4\", \"Topic4\", \"Topic4\", \"Topic4\", \"Topic4\", \"Topic4\", \"Topic4\", \"Topic4\", \"Topic4\", \"Topic4\", \"Topic4\", \"Topic4\", \"Topic4\", \"Topic4\", \"Topic4\", \"Topic4\", \"Topic4\", \"Topic4\", \"Topic4\", \"Topic4\", \"Topic4\", \"Topic4\", \"Topic4\", \"Topic4\", \"Topic4\", \"Topic4\", \"Topic4\", \"Topic4\", \"Topic4\", \"Topic4\", \"Topic4\", \"Topic4\", \"Topic4\", \"Topic4\", \"Topic4\", \"Topic4\", \"Topic4\", \"Topic4\", \"Topic4\", \"Topic4\", \"Topic4\", \"Topic4\", \"Topic4\", \"Topic4\", \"Topic4\", \"Topic4\", \"Topic4\", \"Topic4\", \"Topic4\", \"Topic4\", \"Topic4\", \"Topic4\", \"Topic4\", \"Topic4\", \"Topic4\", \"Topic4\", \"Topic5\", \"Topic5\", \"Topic5\", \"Topic5\", \"Topic5\", \"Topic5\", \"Topic5\", \"Topic5\", \"Topic5\", \"Topic5\", \"Topic5\", \"Topic5\", \"Topic5\", \"Topic5\", \"Topic5\", \"Topic5\", \"Topic5\", \"Topic5\", \"Topic5\", \"Topic5\", \"Topic5\", \"Topic5\", \"Topic5\", \"Topic5\", \"Topic5\", \"Topic5\", \"Topic5\", \"Topic5\", \"Topic5\", \"Topic5\", \"Topic5\", \"Topic5\", \"Topic5\", \"Topic5\", \"Topic5\", \"Topic5\", \"Topic5\", \"Topic5\", \"Topic5\", \"Topic5\", \"Topic5\", \"Topic5\", \"Topic5\", \"Topic5\", \"Topic5\", \"Topic5\", \"Topic5\", \"Topic5\", \"Topic5\", \"Topic5\", \"Topic5\", \"Topic5\", \"Topic5\", \"Topic5\", \"Topic5\", \"Topic5\", \"Topic5\", \"Topic5\", \"Topic5\", \"Topic5\", \"Topic5\", \"Topic5\", \"Topic5\", \"Topic5\", \"Topic5\", \"Topic5\", \"Topic5\", \"Topic5\", \"Topic5\", \"Topic5\", \"Topic5\"], \"logprob\": [30.0, 29.0, 28.0, 27.0, 26.0, 25.0, 24.0, 23.0, 22.0, 21.0, 20.0, 19.0, 18.0, 17.0, 16.0, 15.0, 14.0, 13.0, 12.0, 11.0, 10.0, 9.0, 8.0, 7.0, 6.0, 5.0, 4.0, 3.0, 2.0, 1.0, -4.3338, -4.8382, -5.0135, -5.7236, -5.7804, -5.8188, -5.8642, -6.1626, -6.4161, -6.4286, -6.4896, -6.5335, -6.5522, -6.6137, -6.6246, -6.627, -6.6829, -6.7348, -6.7677, -6.8141, -5.5789, -6.8679, -6.8585, -6.9035, -6.9148, -6.9284, -6.9724, -7.0104, -7.0208, -7.0354, -4.9411, -6.0264, -5.0863, -4.3949, -6.3611, -5.2365, -4.583, -6.0024, -5.6888, -5.7068, -5.8688, -5.8214, -5.6368, -5.5761, -5.5892, -4.8392, -4.3919, -5.0202, -4.6971, -5.5221, -3.015, -5.3318, -5.2249, -4.861, -4.6694, -5.1606, -5.2994, -5.6404, -5.4725, -5.5124, -5.4354, -5.5645, -5.607, -5.0647, -5.4099, -5.4329, -5.7541, -5.8285, -6.1181, -6.2222, -6.2577, -6.2753, -6.4179, -6.4179, -6.4166, -6.455, -6.4826, -6.5043, -6.5082, -6.5873, -6.5979, -6.6825, -4.7121, -6.7534, -6.7649, -6.7873, -6.9025, -6.9273, -6.8964, -6.9381, -7.0158, -7.0199, -7.0775, -5.1366, -5.6298, -4.3358, -5.4253, -5.0318, -4.328, -5.83, -5.9272, -4.4771, -4.9192, -3.8724, -3.1659, -3.6269, -4.1919, -4.4215, -5.7887, -4.3133, -5.0721, -5.1795, -4.4153, -3.3041, -4.7009, -4.622, -4.0492, -5.3071, -5.0332, -4.2869, -4.5081, -3.5193, -4.6945, -4.849, -4.356, -5.1795, -5.0449, -4.9693, -4.9808, -5.0682, -4.2973, -5.1469, -5.1128, -5.5461, -5.6234, -5.7051, -5.8925, -5.9225, -5.9258, -5.953, -6.0028, -6.118, -6.143, -6.1493, -6.1771, -6.1494, -6.1618, -6.2627, -6.3008, -6.3035, -6.3833, -6.395, -6.395, -6.394, -6.3508, -6.385, -6.4129, -6.5138, -6.541, -6.5882, -4.0015, -2.1811, -5.6414, -5.1042, -5.1489, -4.3641, -4.2894, -5.7316, -5.7873, -5.3253, -5.4568, -5.5698, -4.7298, -5.5362, -5.9573, -3.3874, -3.3869, -5.4648, -5.31, -4.4513, -4.9683, -4.7475, -5.439, -4.6177, -5.2664, -4.0253, -5.2433, -5.0478, -4.7654, -5.1513, -4.9788, -5.2509, -5.2148, -5.2947, -5.4201, -5.3768, -5.4421, -5.5393, -5.5615, -5.6276, -5.7168, -5.741, -5.7483, -5.7673, -5.8118, -5.8284, -5.8434, -5.8493, -5.9099, -5.9157, -6.0761, -6.1796, -6.1811, -6.1876, -6.2031, -6.2002, -6.3653, -6.3737, -6.3821, -6.4025, -6.4363, -6.2882, -6.5135, -6.5176, -6.5742, -6.4015, -4.1148, -6.1475, -5.4525, -5.0973, -4.0887, -5.5219, -5.4434, -5.989, -4.8758, -4.8436, -5.2849, -5.3771, -5.0061, -5.2776, -3.5912, -5.9078, -4.7223, -5.2757, -4.5812, -5.0724, -4.7619, -4.9112, -5.2556, -5.2281, -4.3191, -5.0362, -5.16, -5.3219, -5.269, -5.3017, -5.3652, -5.3497, -5.4039, -5.4214, -5.4341, -4.8515, -5.4606, -5.5157, -5.6149, -5.8487, -5.8813, -5.9768, -5.9414, -5.9496, -5.9551, -6.2049, -6.3324, -6.3309, -6.3657, -6.3231, -6.3619, -6.3614, -6.4889, -6.5077, -5.4575, -6.5637, -6.6551, -6.5367, -6.3476, -6.7953, -6.3385, -6.8513, -6.8731, -6.8833, -6.902, -3.4232, -5.6862, -4.2677, -5.3557, -5.7135, -4.9741, -4.9802, -5.7999, -5.726, -4.4015, -5.9306, -3.8033, -5.6696, -4.2574, -5.6795, -5.8575, -5.8883, -5.1463, -5.5581, -2.8705, -3.3452, -5.4342, -4.326, -5.0627, -5.4003, -5.5643, -5.3251, -5.5635, -5.1803, -5.0678, -5.0119, -5.1189, -5.2112, -5.1933, -5.3449, -5.2595, -5.1159, -5.2479, -5.3228, -5.4308, -5.4533], \"loglift\": [30.0, 29.0, 28.0, 27.0, 26.0, 25.0, 24.0, 23.0, 22.0, 21.0, 20.0, 19.0, 18.0, 17.0, 16.0, 15.0, 14.0, 13.0, 12.0, 11.0, 10.0, 9.0, 8.0, 7.0, 6.0, 5.0, 4.0, 3.0, 2.0, 1.0, 1.0064, 1.0062, 1.0056, 1.0054, 1.0053, 1.0052, 1.0052, 1.0041, 1.004, 1.004, 1.0038, 1.0037, 1.0036, 1.0034, 1.0034, 1.0034, 1.0032, 1.0029, 1.0029, 1.0027, 1.0026, 1.0025, 1.0025, 1.0023, 1.0022, 1.0022, 1.002, 1.0018, 1.0018, 1.0016, 0.9837, 0.9938, 0.9792, 0.9566, 0.991, 0.9502, 0.9127, 0.9679, 0.9486, 0.9455, 0.9519, 0.9206, 0.8896, 0.8823, 0.8818, 0.7884, 0.7248, 0.7798, 0.721, 0.8526, 0.3724, 0.8066, 0.6611, 0.5256, 0.3566, 0.404, 0.3705, 0.6499, 0.3651, 0.3026, -0.0809, 0.1737, 0.3393, 1.4764, 1.4759, 1.4753, 1.4752, 1.475, 1.4741, 1.4737, 1.4736, 1.4735, 1.4729, 1.4728, 1.4728, 1.4727, 1.4726, 1.4725, 1.4725, 1.4721, 1.4718, 1.4715, 1.4712, 1.471, 1.471, 1.4707, 1.47, 1.4697, 1.4697, 1.4697, 1.4691, 1.469, 1.4685, 1.4661, 1.4685, 1.4508, 1.4557, 1.4387, 1.4144, 1.4447, 1.4427, 1.367, 1.3792, 1.3136, 1.2326, 1.2169, 1.2114, 1.2348, 1.3847, 1.1671, 1.2774, 1.2909, 1.1152, 0.8544, 1.1499, 1.0657, 0.8458, 1.221, 1.0982, 0.7392, 0.6754, -0.1318, 0.7081, 0.6941, -0.2166, 1.0638, 0.8123, 0.6484, 0.5936, 0.4613, 1.5588, 1.5579, 1.5578, 1.5571, 1.5568, 1.5565, 1.5562, 1.556, 1.556, 1.5558, 1.5558, 1.5553, 1.5552, 1.5552, 1.5549, 1.5548, 1.5547, 1.5547, 1.5544, 1.5543, 1.5541, 1.554, 1.554, 1.554, 1.554, 1.5538, 1.5538, 1.5533, 1.5531, 1.5526, 1.5385, 1.5201, 1.5501, 1.5317, 1.5308, 1.5005, 1.4833, 1.5233, 1.5122, 1.4607, 1.4657, 1.4381, 1.2769, 1.3961, 1.5002, 0.7711, 0.7525, 1.2973, 1.2181, 0.7321, 0.9337, 0.7821, 1.1947, 0.2772, 0.8934, -0.6378, 0.8053, 0.3067, -0.3669, 0.3918, -0.135, 0.539, 0.3157, 0.5994, 0.2676, 2.0164, 2.0162, 2.0159, 2.0159, 2.0154, 2.0153, 2.0152, 2.0152, 2.0151, 2.0149, 2.0148, 2.0147, 2.0147, 2.0145, 2.0144, 2.0136, 2.0129, 2.0129, 2.0128, 2.0128, 2.0127, 2.0117, 2.0116, 2.0116, 2.0115, 2.0112, 2.0107, 2.0105, 2.0103, 2.0096, 2.003, 1.7636, 1.9542, 1.8345, 1.7363, 1.4857, 1.7921, 1.7347, 1.8959, 1.536, 1.5234, 1.6558, 1.6785, 1.4319, 1.5371, 0.5482, 1.8565, 1.1516, 1.4604, 0.8214, 1.1519, 0.8168, 0.9264, 1.3045, 0.9012, -0.9316, 0.0805, 0.3831, 0.6525, 0.4008, 0.1164, 0.0214, -0.4547, -0.2205, 0.4807, 0.0955, 2.7543, 2.7509, 2.7503, 2.7496, 2.7471, 2.7467, 2.7454, 2.7454, 2.7453, 2.7453, 2.7424, 2.7405, 2.7403, 2.7399, 2.7399, 2.7386, 2.7375, 2.7345, 2.7344, 2.7342, 2.7339, 2.7334, 2.7326, 2.7315, 2.73, 2.7284, 2.7282, 2.7278, 2.7271, 2.7267, 2.7164, 2.7262, 2.7061, 2.6786, 2.6837, 2.6018, 2.5554, 2.6408, 2.6098, 2.3888, 2.6326, 2.0948, 2.5566, 2.1609, 2.5467, 2.5622, 2.5644, 2.1954, 2.36, 0.517, 0.7942, 2.2597, 1.2386, 1.8059, 2.1642, 2.325, 2.029, 2.315, 1.557, 1.1033, 0.4061, 0.7383, 0.8433, 0.6443, 1.2555, 0.6305, -0.221, 0.3797, 0.0316, 1.5638, 0.7065]}, \"token.table\": {\"Topic\": [1, 5, 5, 5, 1, 4, 1, 2, 4, 1, 3, 4, 5, 1, 2, 3, 4, 5, 1, 2, 2, 1, 5, 1, 2, 3, 4, 1, 2, 3, 4, 5, 4, 1, 2, 3, 4, 5, 4, 5, 1, 2, 4, 5, 5, 1, 2, 3, 4, 5, 4, 2, 3, 4, 5, 1, 2, 4, 5, 3, 1, 2, 3, 2, 2, 4, 4, 1, 3, 4, 1, 1, 1, 2, 1, 3, 5, 2, 3, 5, 4, 1, 2, 4, 5, 1, 1, 2, 1, 1, 4, 5, 1, 1, 4, 5, 3, 1, 2, 2, 1, 2, 3, 4, 5, 1, 4, 1, 3, 1, 2, 2, 5, 3, 1, 2, 3, 4, 1, 3, 3, 5, 3, 5, 3, 3, 1, 5, 3, 5, 2, 3, 5, 2, 3, 4, 2, 2, 3, 2, 5, 2, 2, 2, 5, 2, 3, 1, 2, 3, 4, 5, 1, 2, 4, 5, 3, 5, 3, 1, 2, 3, 5, 3, 4, 5, 5, 1, 2, 3, 1, 1, 2, 4, 5, 2, 3, 2, 3, 4, 5, 1, 2, 4, 1, 1, 2, 3, 4, 5, 1, 2, 3, 4, 5, 2, 3, 5, 1, 3, 3, 1, 2, 3, 4, 5, 1, 3, 4, 1, 2, 3, 4, 5, 1, 3, 3, 1, 2, 3, 4, 5, 4, 4, 1, 2, 4, 1, 1, 2, 3, 1, 2, 3, 5, 1, 2, 3, 4, 5, 5, 2, 3, 5, 3, 3, 5, 1, 5, 3, 1, 2, 4, 2, 4, 3, 5, 5, 1, 2, 3, 4, 5, 1, 4, 4, 5, 3, 5, 1, 2, 3, 4, 5, 1, 1, 2, 3, 4, 5, 3, 1, 2, 3, 4, 5, 1, 2, 3, 4, 5, 4, 4, 1, 2, 3, 4, 5, 1, 5, 4, 1, 2, 3, 1, 2, 4, 1, 2, 4, 1, 3, 5, 1, 2, 3, 4, 3, 5, 4, 1, 2, 4, 1, 3, 1, 2, 3, 4, 3, 5, 5, 3, 4, 5, 1, 2, 3, 4, 3, 1, 5, 3, 2, 3, 4, 5, 1, 2, 3, 4, 5, 1, 2, 3, 4, 5, 3, 1, 4, 2, 3, 5, 5, 1, 5, 5, 5, 1, 2, 4, 5, 5, 1, 4, 5, 5, 5, 3, 4, 5, 4, 5, 1, 2, 3, 4, 3, 1, 4, 5, 5, 1, 4, 4, 2, 3, 2, 3, 4, 5, 5, 5, 2, 1, 1, 4, 3, 5, 2, 3, 4, 2, 4, 5, 3, 2, 3, 4, 5, 1, 2, 3, 4, 2, 2, 1, 2, 3, 5, 1, 4, 1, 1, 4, 1, 2, 4, 5, 4, 4, 5, 2, 3, 4, 4, 4, 3, 2, 1, 3, 2, 3, 5, 1, 1, 4, 4, 1, 2, 3, 4, 5, 2, 4, 1, 2, 4, 5, 3, 3, 1, 2, 3, 4, 2, 3, 4, 1, 4, 5, 4, 2, 3, 4, 5, 2, 3, 4, 5, 1, 2, 3, 5, 1, 2, 3, 4, 2, 1, 2, 2, 2, 3, 1, 2, 5, 4, 1, 3, 5, 3, 5, 1, 2, 4, 5, 3, 2, 2, 1, 1, 5, 1, 2, 3, 4, 5, 2, 1, 2, 3, 4, 1, 1, 4, 5, 1, 5, 4, 4, 4, 2, 3, 5, 1, 5, 1, 2, 3, 5, 1, 1, 4, 2, 3, 4, 1, 4, 5, 1, 2, 3, 4, 5, 4, 1, 1, 2, 3, 4, 5, 1, 2, 3, 4, 1, 2, 4, 1, 2, 1, 2, 3, 5, 2, 3, 2, 4, 4, 1, 3, 4, 1, 2, 3, 4, 5, 1, 5, 4, 2, 4, 1, 2, 3, 4, 5, 1, 2, 3, 1, 2, 3, 4, 1, 3, 5, 1, 2, 3, 4, 5, 1, 3, 1, 3, 5, 3], \"Freq\": [0.04033137592656178, 0.958400854254876, 0.9735103394120533, 0.9804881661997997, 0.4433811842064779, 0.5563718730849029, 0.3276158612871858, 0.10021191051137447, 0.5723641811899657, 0.6212365055851641, 0.027010282851528875, 0.050161953867125054, 0.30097172320275034, 0.2531717060314063, 0.34583981852615553, 0.04058015383756992, 0.3004142731855922, 0.059356045911669424, 0.9944909667053066, 0.9967982745238695, 0.9976960372905693, 0.9960951980268494, 0.9840324419715019, 0.024703841702713145, 0.73288063718049, 0.19708175936164488, 0.045564863585004244, 0.00014637909396895512, 0.5361866212082826, 0.4546534658675746, 0.001317411845720596, 0.007758091980354621, 0.9942924196173751, 0.05768384143955517, 0.782639474499255, 0.1456982188618442, 0.013583614274475894, 0.0003721538157390656, 0.1335846106454777, 0.8587582112923566, 0.3750857005820347, 0.15459063581472146, 0.41983562147576986, 0.049631730445778996, 0.9830248310458336, 0.5294660492017227, 0.16852678759052325, 0.1001871847486969, 0.19838389562821437, 0.003980947738358817, 0.9944164252047963, 0.9980234028856584, 0.5698478668133011, 0.041803511465068416, 0.38503234244141965, 0.4072684756741678, 0.05171663183164035, 0.4896918576558446, 0.050100487086901596, 0.9975676048897106, 0.05392314771223441, 0.2504817184052179, 0.6940430947477912, 0.989770154889798, 0.41312016888006886, 0.5868115683508132, 0.9985053227176751, 0.9882676306789641, 0.010241115343823461, 0.0025602788359558653, 0.998599317995252, 0.9971032115684952, 0.5220819361427582, 0.4778199829450745, 0.15874111620998207, 0.18926825394267094, 0.6471753199330038, 0.9980649534096131, 0.9959944860078167, 0.9736561779613151, 0.9926366594773989, 0.0424246491096001, 0.2969725437672007, 0.3568661660395773, 0.3019636789565654, 0.9987822039689725, 0.99736077471793, 0.9957179636447842, 0.9976550997764385, 0.8832000033467122, 0.07591140524632899, 0.040875372055715606, 0.9983559267804387, 0.8184086624166472, 0.11343228870282546, 0.06784735025215728, 0.9956636840158953, 0.9975711288225493, 0.9966724941301215, 0.9887393965453688, 0.11295965247817381, 0.35832896382149176, 0.3605731953276807, 0.08677695157263683, 0.08154041139152944, 0.9944522128697071, 0.9975251727162677, 0.9969267928208003, 0.997258501364937, 0.16990529861694278, 0.8303198071541029, 0.9971522180603886, 0.977159795317127, 0.9930092085095242, 0.0829582330119858, 0.7732333416588865, 0.00469574903841429, 0.13774197179348585, 0.08823092823490655, 0.9101716807390361, 0.07058045391989128, 0.9246039463505757, 0.9905498810123402, 0.006076993135045032, 0.9918937599998804, 0.9986528239423234, 0.10596987180327919, 0.8901469231475452, 0.9545523938732616, 0.044004188370043974, 0.6841811217506915, 0.2999871072291493, 0.014736208776168738, 0.269219861613492, 0.7106152161193334, 0.018782781042801764, 0.9961693740766493, 0.9101294233769808, 0.08653689599322113, 0.9982197431631783, 0.9843057529302696, 0.9958004780185677, 0.9941310193073459, 0.9934439141339343, 0.005543771842265259, 0.9952775975729262, 0.9973405597292012, 0.6182702056317996, 0.14194724203672682, 0.062476779065460744, 0.1354496570139189, 0.04198439553198962, 0.11940284817433224, 0.06284360430228013, 0.14454028989524428, 0.6724265660343973, 0.8851276571709047, 0.11127319118719944, 0.9916356807597049, 0.5470064403290971, 0.004180180220855545, 0.22990991214705497, 0.21856370869044706, 0.31767439527440616, 0.12795218698552469, 0.5515180473513995, 0.9734126323958877, 0.07739744845788016, 0.8955990464411847, 0.026852175995591077, 0.9972272531479851, 0.17492826437169276, 0.7203863978216075, 0.04055155219525605, 0.06361027795334283, 0.9990002008023943, 0.9966010283488823, 0.6960891944528552, 0.28859419338841424, 0.006349072254545114, 0.009235014188429256, 0.9726892569048606, 0.02168101687123296, 0.005913004601245353, 0.9941434214910362, 0.004356871993642615, 0.7705854266089238, 0.18356953999880884, 0.04066413860733108, 0.000871374398728523, 0.5126074593991902, 0.2799221621292506, 0.06648151350569702, 0.04373783783269541, 0.09622324323192989, 0.02039530064937866, 0.9795571540458723, 0.9978275658751631, 0.027321926742688542, 0.9726605920397121, 0.9970704205430422, 0.07934042317049668, 0.8486153509215495, 0.012678108857141221, 0.04089712534561684, 0.017994735152071412, 0.05550703771472482, 0.943619641150322, 0.9967432516135366, 0.6996296427609044, 0.06169573569320145, 0.15177150980527557, 0.053058332696153246, 0.03331569727432878, 0.0931815166687217, 0.9054812598025783, 0.9916356807597049, 0.22942743938484994, 0.31040182975597347, 0.19793739868496857, 0.25461947194475504, 0.007197723588544312, 0.99410404885968, 0.9942193095644568, 0.9936837936452398, 0.3817656406373128, 0.6172342292055824, 0.9997029939949068, 0.024183967133774097, 0.033051421749491265, 0.9423685859793973, 0.9168221688092905, 0.005814939759889792, 0.05233445783900812, 0.023259759039559166, 0.32273031601108165, 0.01624481456431619, 0.5133361402323916, 0.01841078983955835, 0.12887552887690845, 0.9838857062865638, 0.9968678193503588, 0.01982167563112741, 0.9712621059252432, 0.9943823532494558, 0.06087677617129641, 0.9232977719313289, 0.9930741763732062, 0.9754210530070436, 0.996470103275061, 0.05557830859451697, 0.17000423805381662, 0.7748270080529719, 0.1454796526796312, 0.851325374940064, 0.3071994903353417, 0.6917074616822264, 0.9839068191011598, 0.8039446753653078, 0.030529544634125612, 0.06805544324690502, 0.0044522252591433185, 0.09286069826213207, 0.010220619231966094, 0.9811794462687451, 0.016523460409715866, 0.974884164173236, 0.9991673962244695, 0.9877962618568231, 0.03391322255847873, 0.37498334657517907, 0.4699403697389195, 0.07364014041269666, 0.04747851158187022, 0.9973784912566879, 0.05501250049647512, 0.14336591038475333, 0.2700613660736051, 0.01667045469590155, 0.515117050103358, 0.9990749117030046, 0.1701661220218619, 0.14075469352425612, 0.3340297950799511, 0.3266769379555497, 0.027310612176348205, 0.2819709768777552, 0.38202519447953925, 0.17282092131217253, 0.04465229545864745, 0.11907278788972651, 0.9922823634472401, 0.996377693810162, 0.3368762527234698, 0.21151569316114413, 0.28557038664776896, 0.10067566173345076, 0.06534237660584544, 0.9991743538967776, 0.0009408421411457416, 0.9959904849803453, 0.011136772178973199, 0.977808597313847, 0.011136772178973199, 0.005219341733970742, 0.9737800435093985, 0.02087736693588297, 0.7544430099276004, 0.10150826537215059, 0.14386697761391268, 0.295958406504226, 0.06039967479678082, 0.6402365528458767, 0.030663982968224906, 0.144957010395245, 0.7535906117342545, 0.07062008198742706, 0.4272599832306996, 0.5685029528937408, 0.996678840589149, 0.05995391451641533, 0.3304126844460223, 0.6088653096444846, 0.15006779381253432, 0.8488209587521472, 0.015303862681107448, 0.6615977559063373, 0.07651931340553723, 0.24721624331019723, 0.04888445373081394, 0.9483584023777903, 0.9557583896413704, 0.16718526450018167, 0.012860404961552436, 0.8144923142316542, 0.0412023600212062, 0.6626150029639882, 0.2749075496496873, 0.02161435279800981, 0.9952165825243415, 0.020065471969515025, 0.9832081265062362, 0.9960894114622479, 0.18381273131280879, 0.44617668452257575, 0.229765914141011, 0.14030081132235483, 0.024906684155702276, 0.47322699895834325, 0.382732713192625, 0.08385250332419766, 0.035699580623173265, 0.27390298575322236, 0.4600790365676902, 0.0828532163310459, 0.035090773975501796, 0.1471863019527992, 0.9972077091932007, 0.9967551910242186, 0.992171526342549, 0.9661241809328046, 0.03268841213682421, 0.9824424051596222, 0.9900114057280781, 0.9410114699720256, 0.0584809388118208, 0.9707995006990127, 0.9890421192974231, 0.27053874622754637, 0.01856638454502769, 0.7108272940096316, 0.9894547696855819, 0.9598302971340018, 0.942723823620932, 0.0017457848585572815, 0.054119330615275726, 0.9718247035587028, 0.9683318387821318, 0.08925708076893835, 0.053554248461363, 0.856867975381808, 0.10781151047282611, 0.8864501972210147, 0.010701957982850844, 0.9389184470287807, 0.03567319327616948, 0.014269277310467792, 0.9936033706589658, 0.9444622719186223, 0.023361257609294545, 0.03226078431759723, 0.9849205695911084, 0.99525343918607, 0.9921933869676056, 0.9969744588969287, 0.994444930272243, 0.9964831720736124, 0.4570454728608549, 0.3109311912557223, 0.19462422309803667, 0.037405256090913955, 0.9943013722804223, 0.9872864339618964, 0.9962863220026161, 0.9960325442596473, 0.9848100768727346, 0.014272609809749776, 0.16602635188086398, 0.8197551124117659, 0.1957571062777459, 0.006868670395710382, 0.7967657659024043, 0.10261301885157763, 0.08551084904298135, 0.8123530659083229, 0.9971503522030388, 0.46319519061686143, 0.17826920165188417, 0.30168634125703475, 0.05637573043692064, 0.43476475575523316, 0.22164477744384437, 0.23443197614252767, 0.10940158886651291, 0.9946825801688439, 0.9890662150988164, 0.8890350523401784, 0.02656167994689461, 0.03124903523164072, 0.05312335989378922, 0.06040224147337964, 0.9362347428373845, 0.999548992820158, 0.9620487866537055, 0.0365334982273559, 0.7515110717861485, 0.004126347683108571, 0.14906431005229714, 0.09490599671149713, 0.9921867051822694, 0.020604087586906537, 0.9683921165846072, 0.9929137322426597, 0.9936614541571293, 0.995771406912395, 0.9965263831650155, 0.9936473205616844, 0.9921097390532605, 0.9944486612679538, 0.07280196591597729, 0.9265704752942565, 0.03576087320170252, 0.9613745627307437, 0.0027793424768162585, 0.9981435713563165, 0.9955677124484219, 0.0033020487975072036, 0.9904694068613827, 0.7074665099247397, 0.05765152001714992, 0.0947132114567463, 0.11036148117568699, 0.02882576000857496, 0.16716131573119142, 0.8324633523413332, 0.5925149822036567, 0.13909316587775306, 0.07776074627811391, 0.19056858947030733, 0.9939470195955916, 0.9947836979571987, 0.03534595558709885, 0.8181934163680289, 0.12829272768650693, 0.017018423060455, 0.025900053698838663, 0.9647770002817402, 0.0097125201370645, 0.16088129467667722, 0.010725419645111815, 0.8258573126736097, 0.9908721528158739, 0.4483124025554742, 0.4372983580886882, 0.10646909651226458, 0.007750623884034586, 0.36212444612333156, 0.459575133057795, 0.14588771475987722, 0.03229135188360918, 0.8825411386853277, 0.029565867292640793, 0.008869760187792237, 0.0783495483254981, 0.007200243467874043, 0.7841719704102821, 0.18786089775271364, 0.020291595227645027, 0.9973852995460736, 0.010118402603317438, 0.9882306542573365, 0.9899097875407238, 0.9676062113618257, 0.029721692499168707, 0.13057390960927523, 0.26114781921855046, 0.6076708870277809, 0.9904195582105969, 0.2254660140712711, 0.7693533287168812, 0.003955544106513528, 0.9981545384871945, 0.9917256126081783, 0.5264839730598269, 0.017261769608518912, 0.3350352555835262, 0.1208323872596324, 0.9981068351096226, 0.9914914684282049, 0.9902300527701932, 0.9993451415942401, 0.8566113748027122, 0.14232101211455722, 0.530302335827978, 0.19998890591546625, 0.11109742539176713, 0.05226521170167229, 0.10629065074044754, 0.9929632100223715, 0.02083769106222816, 0.7664204419960992, 0.19516276507062472, 0.01728003649062823, 0.9968288215763864, 0.9102588013145564, 0.037904224427060526, 0.051839601054656306, 0.9768611801993572, 0.022259763965980093, 0.9904704613033295, 0.9902431983664586, 0.9931687442739018, 0.991018194633942, 0.00830462174274253, 0.9893136198100302, 0.17957220150998565, 0.8209014926170772, 0.49478610343746865, 0.17643535471413613, 0.29457033134881855, 0.03451996070493968, 0.9979224261515096, 0.9926583463650194, 0.9942133255447629, 0.9934633164874368, 0.9945477667084061, 0.9917124158922873, 0.21457911801395388, 0.7542137316332042, 0.03186818584365651, 0.797257206756834, 0.10504147084284353, 0.04609733612527665, 0.027960679289102234, 0.02418220911489923, 0.9959084806161388, 0.9965891068803879, 0.06161430394459775, 0.5137192614601527, 0.28646650405410384, 0.005601300358599796, 0.13283083707536658, 0.05272666015207704, 0.19751574279190762, 0.5347989815424956, 0.2150912961759333, 0.17497620775000555, 0.13004988413851765, 0.695175744304076, 0.9977230832795796, 0.9966420095094218, 0.16087103221960988, 0.039324030098126864, 0.3145922407850149, 0.4826130966588297, 0.9068428082798331, 0.0932965852139746, 0.9619060056957327, 0.03693955475022015, 0.9978332681188119, 0.11692558066417083, 0.1289179479117781, 0.7525210447873558, 0.05594248405421524, 0.5316064468321328, 0.27757254383184393, 0.08437227103258692, 0.050745641273222564, 0.7756791836427965, 0.22210336711680942, 0.9927485151926075, 0.1154891135248915, 0.8813642874268035, 0.3243188713310643, 0.43641354918917974, 0.18577488746148343, 0.009446180718380513, 0.04408217668577573, 0.02440686847894331, 0.001743347748495951, 0.9727880436607406, 0.42508135872513353, 0.13399303698944426, 0.0219471353689607, 0.4204609091737734, 0.9511710386719822, 0.015925238090398485, 0.032815642125669606, 0.08963380758130395, 0.20428170099925086, 0.06461972174466099, 0.6170141173038598, 0.02501408583664296, 0.9457757743828195, 0.05242659503230706, 0.040669533638398474, 0.4095001318073226, 0.5497399029742138, 0.9942837227478805], \"Term\": [\"aangeefster\", \"aangeefster\", \"aanmerkelijk_onvoorzichtig\", \"aanrijding\", \"aantreffen\", \"aantreffen\", \"aanwezig\", \"aanwezig\", \"aanwezig\", \"aanzien\", \"aanzien\", \"aanzien\", \"aanzien\", \"adres\", \"adres\", \"adres\", \"adres\", \"adres\", \"advocaat_generaal\", \"afgifen\", \"afgifte\", \"afleggen\", \"afpersing_misleiding\", \"alleen\", \"alleen\", \"alleen\", \"alleen\", \"althans\", \"althans\", \"althans\", \"althans\", \"althans\", \"amfetamine\", \"ander\", \"ander\", \"ander\", \"ander\", \"ander\", \"arbeid\", \"arbeid\", \"artikel\", \"artikel\", \"artikel\", \"artikel\", \"assistentie\", \"auto\", \"auto\", \"auto\", \"auto\", \"auto\", \"automatisch\", \"bankpas\", \"baren\", \"baren\", \"baren\", \"bedoelen\", \"bedoelen\", \"bedoelen\", \"bedoelen\", \"bedreigen\", \"bedreiging\", \"bedreiging\", \"bedreiging\", \"bedrieglijk\", \"bedrijf\", \"bedrijf\", \"bedrijfsnaam\", \"begaan\", \"begaan\", \"begaan\", \"begrijpen\", \"bemonstering\", \"benadelen\", \"benadelen\", \"beperken\", \"beperken\", \"beperken\", \"bereik\", \"beroven\", \"bestandsnaam_ag\", \"bestelauto\", \"betalen\", \"betalen\", \"betalen\", \"betalen\", \"betrokken\", \"bevinding\", \"bevoordeel\", \"bewezen_verklaaren\", \"bewijsmiddel\", \"bewijsmiddel\", \"bewijsmiddel\", \"bewijzen\", \"blijken\", \"blijken\", \"blijken\", \"borst\", \"bovendien\", \"braak_verbreking\", \"brand\", \"brengen\", \"brengen\", \"brengen\", \"brengen\", \"brengen\", \"camerabeeld\", \"cocaine\", \"daarom\", \"danwel\", \"deel\", \"deel\", \"dele_toebehorenen\", \"desbevoegd\", \"dichtdrukken\", \"diefstal\", \"diefstal\", \"diefstal\", \"diefstal\", \"dood\", \"dood\", \"dreiging\", \"dreiging\", \"drukken\", \"drukken\", \"dulden\", \"duwen\", \"dwang\", \"dwang\", \"dwingen\", \"dwingen\", \"een\", \"een\", \"een\", \"eenmaal\", \"eenmaal\", \"eenmaal\", \"eigenen\", \"elders\", \"elders\", \"enig\", \"enige_handeling\", \"eren\", \"eur\", \"euro\", \"euro\", \"euro_geboekt\", \"familielid\", \"feit\", \"feit\", \"feit\", \"feit\", \"feit\", \"feitelijk\", \"feitelijk\", \"feitelijk\", \"feitelijk\", \"feitelijkheid\", \"feitelijkheid\", \"fors_stomp\", \"gaan\", \"gaan\", \"gaan\", \"gaan\", \"geboortedatum\", \"geboortedatum\", \"geboortedatum\", \"geboortejaar\", \"geheel\", \"geheel\", \"geheel\", \"geit\", \"geld\", \"geld\", \"geld\", \"geld\", \"geldbedrag\", \"gelijke_dreigenen\", \"gemeente\", \"gemeente\", \"gemeente\", \"gemeente\", \"getuige\", \"getuige\", \"getuige\", \"getuigen\", \"geval\", \"geval\", \"geval\", \"geval\", \"geval\", \"geven\", \"geven\", \"geven\", \"geven\", \"geven\", \"geweld\", \"geweld\", \"gezag\", \"gezicht\", \"gezicht\", \"gezin\", \"goed\", \"goed\", \"goed\", \"goed\", \"goed\", \"gooien\", \"gooien\", \"gram\", \"grond\", \"grond\", \"grond\", \"grond\", \"grond\", \"hard\", \"hard\", \"hard_oppervlak\", \"hebben\", \"hebben\", \"hebben\", \"hebben\", \"hebben\", \"hennep\", \"hennepplant\", \"herkennen\", \"hoeveelheid\", \"hoeveelheid\", \"hof\", \"hoofd\", \"hoofd\", \"hoofd\", \"horen\", \"horen\", \"horen\", \"horen\", \"houden\", \"houden\", \"houden\", \"houden\", \"houden\", \"hulpverlener\", \"inklimming\", \"innemen\", \"innemen\", \"intimideren\", \"invloedssfeer\", \"invloedssfeer\", \"juist\", \"jurk\", \"kapot\", \"kenteken\", \"kenteken\", \"kenteken\", \"kentekenen\", \"kentekenen\", \"kind\", \"kind\", \"koken\", \"komen\", \"komen\", \"komen\", \"komen\", \"komen\", \"koppelen\", \"koppelen\", \"koud\", \"koud\", \"kracht\", \"kwetsbare_positie\", \"laste_gelegd\", \"laste_gelegd\", \"laste_gelegd\", \"laste_gelegd\", \"laste_gelegd\", \"laste_gelegen\", \"laten\", \"laten\", \"laten\", \"laten\", \"laten\", \"lichaam\", \"lid\", \"lid\", \"lid\", \"lid\", \"lid\", \"liggen\", \"liggen\", \"liggen\", \"liggen\", \"liggen\", \"lijst_ii\", \"loods\", \"maken\", \"maken\", \"maken\", \"maken\", \"maken\", \"man\", \"man\", \"materiaal_bevattenen\", \"mededad\", \"mededad\", \"mededad\", \"mededader\", \"mededader\", \"mededader\", \"medeverdacht\", \"medeverdacht\", \"medeverdacht\", \"meenemen\", \"meenemen\", \"meenemen\", \"meermalen\", \"meermalen\", \"meermalen\", \"meermalen\", \"meisje\", \"meisje\", \"mercedes_benz\", \"merk\", \"merk\", \"merk\", \"mes\", \"mes\", \"middel\", \"middel\", \"middel\", \"middel\", \"minderjarig\", \"minderjarig\", \"minderjarige\", \"misbruik\", \"misbruik\", \"misbruik\", \"misdrijf\", \"misdrijf\", \"misdrijf\", \"misdrijf\", \"mishandelen\", \"motorrijtuig\", \"motorrijtuig\", \"naakt\", \"naam\", \"naam\", \"naam\", \"naam\", \"naan\", \"naan\", \"naan\", \"naan\", \"naan\", \"nemen\", \"nemen\", \"nemen\", \"nemen\", \"nemen\", \"neus\", \"nikken\", \"noordwolen\", \"ntezam\", \"ntezam\", \"omgang\", \"omstandigheden_voortvloeien\", \"omstandigheid\", \"omstandigheid\", \"onachtzaam\", \"onderbrengen\", \"onderdeel\", \"onderdeel\", \"onderdeel\", \"onderhoud\", \"ondernomen_waarvan\", \"onderzoek\", \"onderzoek\", \"onderzoek\", \"ongeval\", \"onopletten\", \"onttrekken\", \"onttrekken\", \"onttrekken\", \"onttrekking\", \"onttrekking\", \"oogmerk\", \"oogmerk\", \"oogmerk\", \"oogmerk\", \"oor\", \"oordeel\", \"oordeel\", \"oordeel\", \"opdragen\", \"openbaar_ministerie\", \"opiumwet\", \"opiumwet_behorenen\", \"oplichting\", \"opvoeden\", \"opzettelijk\", \"opzettelijk\", \"opzettelijk\", \"opzettelijk\", \"ouderlijk\", \"overal\", \"overdragen\", \"overtuigend_bewezen\", \"overwegen\", \"overwegen\", \"overwicht\", \"overwicht\", \"pand\", \"pand\", \"pand\", \"paspoort\", \"paspoort\", \"paspoort\", \"penis\", \"periode\", \"periode\", \"periode\", \"periode\", \"persoon\", \"persoon\", \"persoon\", \"persoon\", \"pincode\", \"pinpas\", \"politie\", \"politie\", \"politie\", \"politie\", \"positie\", \"positie\", \"proces_verbaal\", \"raadsman\", \"raadsman\", \"rechtbank\", \"rechtbank\", \"rechtbank\", \"rechtbank\", \"rechtspersoon\", \"roepnaam\", \"roepnaam\", \"samenweefsel\", \"scherp\", \"schiermonnikoog\", \"schip\", \"schip_genaamd\", \"schudden\", \"sieraad\", \"slaan\", \"slaan\", \"slachtoffer\", \"slachtoffer\", \"slachtoffer\", \"slechts\", \"sprake\", \"sprake\", \"sprinter\", \"staan\", \"staan\", \"staan\", \"staan\", \"staan\", \"stelen\", \"stelen\", \"stellen\", \"stellen\", \"stellen\", \"stellen\", \"stevig\", \"stompen\", \"strafrecht\", \"strafrecht\", \"strafrecht\", \"strafrecht\", \"strekking\", \"strekking\", \"strekking\", \"sub\", \"sub\", \"sub\", \"telen\", \"telkens\", \"telkens\", \"telkens\", \"telkens\", \"tenlastelegging\", \"tenlastelegging\", \"tenlastelegging\", \"tenlastelegging\", \"terechtzitting\", \"terechtzitting\", \"terechtzitting\", \"terechtzitting\", \"tezamen\", \"tezamen\", \"tezamen\", \"tezamen\", \"toe_eigening\", \"toebehoren\", \"toebehoren\", \"toeeigening\", \"toegang\", \"toegang\", \"toestemming\", \"toestemming\", \"toestemming\", \"transactie\", \"trekken\", \"trekken\", \"trekken\", \"uf\", \"uitbuiting\", \"uur\", \"uur\", \"uur\", \"uur\", \"vagina\", \"valse_hoedanigheid\", \"valse_sleutel\", \"verbalisant\", \"verdediging\", \"verdediging\", \"verdenken\", \"verdenken\", \"verdenken\", \"verdenken\", \"verdenken\", \"verdichtsel\", \"vereniging\", \"vereniging\", \"vereniging\", \"vereniging\", \"verhoor\", \"verklaren\", \"verklaren\", \"verklaren\", \"verklaring\", \"verklaring\", \"verkoop\", \"verkopen\", \"vermelding\", \"verschaffen\", \"verschaffen\", \"verstandelijk\", \"vertrekken\", \"vertrekken\", \"vervolgens\", \"vervolgens\", \"vervolgens\", \"vervolgens\", \"vervolging\", \"verweer\", \"verwerken\", \"verworven_voorhand\", \"verzorgen\", \"vissersvaartuig\", \"voertuig\", \"voertuig\", \"voertuig\", \"volgen\", \"volgen\", \"volgen\", \"volgen\", \"volgen\", \"volkswagen\", \"vonnis_waarvan\", \"voornoemd\", \"voornoemd\", \"voornoemd\", \"voornoemd\", \"voornoemd\", \"voorwerp\", \"voorwerp\", \"voorwerp\", \"voorwerp\", \"voorzien\", \"voorzien\", \"voorzien\", \"vrijspreken\", \"waarheid\", \"waarna\", \"waarna\", \"waarna\", \"waarna\", \"wederrechtelijk\", \"wederrechtelijk\", \"wegnemen\", \"wegnemen\", \"werknemer\", \"wet\", \"wet\", \"wet\", \"weten\", \"weten\", \"weten\", \"weten\", \"weten\", \"wettig\", \"wettig\", \"wijnjewoud\", \"witwas\", \"witwas\", \"woning\", \"woning\", \"woning\", \"woning\", \"woning\", \"woord\", \"woord\", \"woord\", \"zaak\", \"zaak\", \"zaak\", \"zaak\", \"zien\", \"zien\", \"zien\", \"zijn\", \"zijn\", \"zijn\", \"zijn\", \"zijn\", \"zitten\", \"zitten\", \"zoon\", \"zoon\", \"zoon\", \"zware_mishandeling\"]}, \"R\": 30, \"lambda.step\": 0.01, \"plot.opts\": {\"xlab\": \"PC1\", \"ylab\": \"PC2\"}, \"topic.order\": [1, 4, 5, 3, 2]};\n",
       "\n",
       "function LDAvis_load_lib(url, callback){\n",
       "  var s = document.createElement('script');\n",
       "  s.src = url;\n",
       "  s.async = true;\n",
       "  s.onreadystatechange = s.onload = callback;\n",
       "  s.onerror = function(){console.warn(\"failed to load library \" + url);};\n",
       "  document.getElementsByTagName(\"head\")[0].appendChild(s);\n",
       "}\n",
       "\n",
       "if(typeof(LDAvis) !== \"undefined\"){\n",
       "   // already loaded: just create the visualization\n",
       "   !function(LDAvis){\n",
       "       new LDAvis(\"#\" + \"ldavis_el13001406513726358564987133092\", ldavis_el13001406513726358564987133092_data);\n",
       "   }(LDAvis);\n",
       "}else if(typeof define === \"function\" && define.amd){\n",
       "   // require.js is available: use it to load d3/LDAvis\n",
       "   require.config({paths: {d3: \"https://d3js.org/d3.v5\"}});\n",
       "   require([\"d3\"], function(d3){\n",
       "      window.d3 = d3;\n",
       "      LDAvis_load_lib(\"https://cdn.jsdelivr.net/gh/bmabey/pyLDAvis@3.3.1/pyLDAvis/js/ldavis.v3.0.0.js\", function(){\n",
       "        new LDAvis(\"#\" + \"ldavis_el13001406513726358564987133092\", ldavis_el13001406513726358564987133092_data);\n",
       "      });\n",
       "    });\n",
       "}else{\n",
       "    // require.js not available: dynamically load d3 & LDAvis\n",
       "    LDAvis_load_lib(\"https://d3js.org/d3.v5.js\", function(){\n",
       "         LDAvis_load_lib(\"https://cdn.jsdelivr.net/gh/bmabey/pyLDAvis@3.3.1/pyLDAvis/js/ldavis.v3.0.0.js\", function(){\n",
       "                 new LDAvis(\"#\" + \"ldavis_el13001406513726358564987133092\", ldavis_el13001406513726358564987133092_data);\n",
       "            })\n",
       "         });\n",
       "}\n",
       "</script>"
      ],
      "text/plain": [
       "PreparedData(topic_coordinates=              x         y  topics  cluster       Freq\n",
       "topic                                                \n",
       "0      0.184832 -0.009810       1        1  36.540735\n",
       "3     -0.185015 -0.088361       2        1  22.817940\n",
       "4     -0.207255  0.159046       3        1  21.025449\n",
       "2      0.042317 -0.231914       4        1  13.276397\n",
       "1      0.165121  0.171039       5        1   6.339479, topic_info=            Term          Freq         Total Category  logprob  loglift\n",
       "588  slachtoffer  10793.000000  10793.000000  Default  30.0000  30.0000\n",
       "115    verdenken  14770.000000  14770.000000  Default  29.0000  29.0000\n",
       "174      althans   6831.000000   6831.000000  Default  28.0000  28.0000\n",
       "59          naam   6963.000000   6963.000000  Default  27.0000  27.0000\n",
       "137        ander   5374.000000   5374.000000  Default  26.0000  26.0000\n",
       "..           ...           ...           ...      ...      ...      ...\n",
       "129        weten    166.265687   3271.216913   Topic5  -5.1159  -0.2210\n",
       "46         komen    145.701197   1572.247493   Topic5  -5.2479   0.3797\n",
       "52         maken    135.187208   2066.040555   Topic5  -5.3228   0.0316\n",
       "711      betalen    121.353355    400.710444   Topic5  -5.4308   1.5638\n",
       "148       houden    118.647413    923.371574   Topic5  -5.4533   0.7065\n",
       "\n",
       "[362 rows x 6 columns], token_table=      Topic      Freq                        Term\n",
       "term                                             \n",
       "0         1  0.040331                 aangeefster\n",
       "0         5  0.958401                 aangeefster\n",
       "2168      5  0.973510  aanmerkelijk_onvoorzichtig\n",
       "2169      5  0.980488                  aanrijding\n",
       "228       1  0.443381                  aantreffen\n",
       "...     ...       ...                         ...\n",
       "700       3  0.052427                      zitten\n",
       "792       1  0.040670                        zoon\n",
       "792       3  0.409500                        zoon\n",
       "792       5  0.549740                        zoon\n",
       "704       3  0.994284          zware_mishandeling\n",
       "\n",
       "[629 rows x 3 columns], R=30, lambda_step=0.01, plot_opts={'xlab': 'PC1', 'ylab': 'PC2'}, topic_order=[1, 4, 5, 3, 2])"
      ]
     },
     "execution_count": 20,
     "metadata": {},
     "output_type": "execute_result"
    }
   ],
   "source": [
    "# Visualize the topics\n",
    "pyLDAvis.enable_notebook()\n",
    "vis = gensimvis.prepare(lda_model, corpus, id2word)\n",
    "vis"
   ]
  },
  {
   "cell_type": "markdown",
   "metadata": {},
   "source": [
    "# How to find the optimal number fo topics for LDA?"
   ]
  },
  {
   "cell_type": "code",
   "execution_count": 22,
   "metadata": {},
   "outputs": [],
   "source": [
    "def compute_coherence_values(dictionary, corpus, texts, limit, start=2, step=3):\n",
    "    \"\"\"\n",
    "    Compute c_v coherence for various number of topics\n",
    "\n",
    "    Parameters:\n",
    "    ----------\n",
    "    dictionary : Gensim dictionary\n",
    "    corpus : Gensim corpus\n",
    "    texts : List of input texts\n",
    "    limit : Max num of topics\n",
    "\n",
    "    Returns:\n",
    "    -------\n",
    "    model_list : List of LDA topic models\n",
    "    coherence_values : Coherence values corresponding to the LDA model with respective number of topics\n",
    "    \"\"\"\n",
    "    coherence_values = []\n",
    "    model_list = []\n",
    "    for num_topics in range(start, limit, step):\n",
    "        model = gensim.models.ldamodel.LdaModel(corpus=corpus, num_topics=num_topics, id2word=id2word)\n",
    "        model_list.append(model)\n",
    "        coherencemodel = CoherenceModel(model=model, texts=texts, dictionary=dictionary, coherence='c_v')\n",
    "        coherence_values.append(coherencemodel.get_coherence())\n",
    "\n",
    "    return model_list, coherence_values\n"
   ]
  },
  {
   "cell_type": "code",
   "execution_count": 29,
   "metadata": {},
   "outputs": [],
   "source": [
    "# Can take a long time to run.\n",
    "model_list, coherence_values = compute_coherence_values(dictionary=id2word, corpus=corpus, texts=data_lemmatized, start=2, limit=40, step=6)"
   ]
  },
  {
   "cell_type": "code",
   "execution_count": 23,
   "metadata": {},
   "outputs": [
    {
     "ename": "NameError",
     "evalue": "name 'coherence_values' is not defined",
     "output_type": "error",
     "traceback": [
      "\u001b[0;31m---------------------------------------------------------------------------\u001b[0m",
      "\u001b[0;31mNameError\u001b[0m                                 Traceback (most recent call last)",
      "\u001b[0;32m<ipython-input-23-57524ec86184>\u001b[0m in \u001b[0;36m<module>\u001b[0;34m\u001b[0m\n\u001b[1;32m      1\u001b[0m \u001b[0;31m# Show graph\u001b[0m\u001b[0;34m\u001b[0m\u001b[0;34m\u001b[0m\u001b[0;34m\u001b[0m\u001b[0m\n\u001b[1;32m      2\u001b[0m \u001b[0;34m\u001b[0m\u001b[0m\n\u001b[0;32m----> 3\u001b[0;31m \u001b[0mplt\u001b[0m\u001b[0;34m.\u001b[0m\u001b[0mplot\u001b[0m\u001b[0;34m(\u001b[0m\u001b[0mcoherence_values\u001b[0m\u001b[0;34m)\u001b[0m\u001b[0;34m\u001b[0m\u001b[0;34m\u001b[0m\u001b[0m\n\u001b[0m\u001b[1;32m      4\u001b[0m \u001b[0mplt\u001b[0m\u001b[0;34m.\u001b[0m\u001b[0mxlabel\u001b[0m\u001b[0;34m(\u001b[0m\u001b[0;34m\"Num Topics\"\u001b[0m\u001b[0;34m)\u001b[0m\u001b[0;34m\u001b[0m\u001b[0;34m\u001b[0m\u001b[0m\n\u001b[1;32m      5\u001b[0m \u001b[0mplt\u001b[0m\u001b[0;34m.\u001b[0m\u001b[0mylabel\u001b[0m\u001b[0;34m(\u001b[0m\u001b[0;34m\"Coherence score\"\u001b[0m\u001b[0;34m)\u001b[0m\u001b[0;34m\u001b[0m\u001b[0;34m\u001b[0m\u001b[0m\n",
      "\u001b[0;31mNameError\u001b[0m: name 'coherence_values' is not defined"
     ]
    }
   ],
   "source": [
    "# Show graph\n",
    "\n",
    "plt.plot(coherence_values)\n",
    "plt.xlabel(\"Num Topics\")\n",
    "plt.ylabel(\"Coherence score\")\n",
    "plt.legend((\"coherence_values\"), loc='best')\n",
    "plt.show()"
   ]
  },
  {
   "cell_type": "code",
   "execution_count": 24,
   "metadata": {},
   "outputs": [
    {
     "ename": "NameError",
     "evalue": "name 'coherence_values' is not defined",
     "output_type": "error",
     "traceback": [
      "\u001b[0;31m---------------------------------------------------------------------------\u001b[0m",
      "\u001b[0;31mNameError\u001b[0m                                 Traceback (most recent call last)",
      "\u001b[0;32m<ipython-input-24-df108be4b7b1>\u001b[0m in \u001b[0;36m<module>\u001b[0;34m\u001b[0m\n\u001b[0;32m----> 1\u001b[0;31m \u001b[0mcoherence_values\u001b[0m\u001b[0;34m\u001b[0m\u001b[0;34m\u001b[0m\u001b[0m\n\u001b[0m",
      "\u001b[0;31mNameError\u001b[0m: name 'coherence_values' is not defined"
     ]
    }
   ],
   "source": [
    "coherence_values"
   ]
  },
  {
   "cell_type": "code",
   "execution_count": null,
   "metadata": {},
   "outputs": [],
   "source": []
  },
  {
   "cell_type": "code",
   "execution_count": null,
   "metadata": {},
   "outputs": [],
   "source": []
  },
  {
   "cell_type": "code",
   "execution_count": null,
   "metadata": {},
   "outputs": [],
   "source": []
  },
  {
   "cell_type": "markdown",
   "metadata": {},
   "source": [
    "# TF-IDF"
   ]
  },
  {
   "cell_type": "code",
   "execution_count": 9,
   "metadata": {},
   "outputs": [
    {
     "ename": "NameError",
     "evalue": "name 'dataset' is not defined",
     "output_type": "error",
     "traceback": [
      "\u001b[0;31m---------------------------------------------------------------------------\u001b[0m",
      "\u001b[0;31mNameError\u001b[0m                                 Traceback (most recent call last)",
      "\u001b[0;32m<ipython-input-9-59d4b6a95e75>\u001b[0m in \u001b[0;36m<module>\u001b[0;34m\u001b[0m\n\u001b[1;32m      5\u001b[0m \u001b[0;32mfrom\u001b[0m \u001b[0msklearn\u001b[0m\u001b[0;34m.\u001b[0m\u001b[0mmetrics\u001b[0m\u001b[0;34m.\u001b[0m\u001b[0mpairwise\u001b[0m \u001b[0;32mimport\u001b[0m \u001b[0mcosine_distances\u001b[0m\u001b[0;34m\u001b[0m\u001b[0;34m\u001b[0m\u001b[0m\n\u001b[1;32m      6\u001b[0m \u001b[0;34m\u001b[0m\u001b[0m\n\u001b[0;32m----> 7\u001b[0;31m \u001b[0mlabels\u001b[0m \u001b[0;34m=\u001b[0m \u001b[0mdataset\u001b[0m\u001b[0;34m.\u001b[0m\u001b[0mtarget\u001b[0m\u001b[0;34m\u001b[0m\u001b[0;34m\u001b[0m\u001b[0m\n\u001b[0m\u001b[1;32m      8\u001b[0m \u001b[0;34m\u001b[0m\u001b[0m\n\u001b[1;32m      9\u001b[0m vectorizer = TfidfVectorizer(ngram_range=(1,1), analyzer = \"word\",\n",
      "\u001b[0;31mNameError\u001b[0m: name 'dataset' is not defined"
     ]
    }
   ],
   "source": [
    "from sklearn.feature_extraction.text import TfidfVectorizer\n",
    "from sklearn.preprocessing import Normalizer\n",
    "from sklearn.cluster import KMeans\n",
    "from sklearn import metrics\n",
    "from sklearn.metrics.pairwise import cosine_distances\n",
    "\n",
    "labels = dataset.target\n",
    "\n",
    "vectorizer = TfidfVectorizer(ngram_range=(1,1), analyzer = \"word\",\n",
    "    proprocessor = None, stop_words = \"dutch\",\n",
    "    mac_features = 300, max_df = 0.8,\n",
    "    min_df = 5, norm = '11',\n",
    "    use_idf = True, smooth_idf = True, \n",
    "    sublinear_tf = True)\n",
    "\n",
    "bow = vectorizer.fit_transform(dataset.data)\n",
    "\n",
    "normalizer = Normalizer()\n",
    "bow_norm = normalizer.fit_transform(bow)"
   ]
  },
  {
   "cell_type": "code",
   "execution_count": null,
   "metadata": {},
   "outputs": [],
   "source": []
  },
  {
   "cell_type": "code",
   "execution_count": null,
   "metadata": {},
   "outputs": [],
   "source": []
  },
  {
   "cell_type": "code",
   "execution_count": null,
   "metadata": {},
   "outputs": [],
   "source": []
  },
  {
   "cell_type": "code",
   "execution_count": null,
   "metadata": {},
   "outputs": [],
   "source": []
  },
  {
   "cell_type": "code",
   "execution_count": null,
   "metadata": {},
   "outputs": [],
   "source": []
  }
 ],
 "metadata": {
  "interpreter": {
   "hash": "40d3a090f54c6569ab1632332b64b2c03c39dcf918b08424e98f38b5ae0af88f"
  },
  "kernelspec": {
   "display_name": "Python 3.7.10 64-bit ('base': conda)",
   "language": "python",
   "name": "python3"
  },
  "language_info": {
   "codemirror_mode": {
    "name": "ipython",
    "version": 3
   },
   "file_extension": ".py",
   "mimetype": "text/x-python",
   "name": "python",
   "nbconvert_exporter": "python",
   "pygments_lexer": "ipython3",
   "version": "3.7.10"
  },
  "orig_nbformat": 4
 },
 "nbformat": 4,
 "nbformat_minor": 2
}
