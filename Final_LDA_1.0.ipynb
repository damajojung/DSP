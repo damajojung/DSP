{
 "cells": [
  {
   "cell_type": "markdown",
   "metadata": {},
   "source": [
    "# Final LDA Model"
   ]
  },
  {
   "cell_type": "code",
   "execution_count": 1,
   "metadata": {},
   "outputs": [],
   "source": [
    "import re\n",
    "import numpy as np\n",
    "import pandas as pd\n",
    "from pprint import pprint\n",
    "\n",
    "# Gensim\n",
    "import gensim\n",
    "import gensim.corpora as corpora\n",
    "from gensim.utils import simple_preprocess\n",
    "from gensim.models import CoherenceModel\n",
    "\n",
    "# spacy for lemmatization\n",
    "import spacy\n",
    "\n",
    "# Plotting tools\n",
    "import pyLDAvis\n",
    "# import pyLDAvis.gensim  # Author: don't skip this\n",
    "# pyLDAvis.gensim.prepare\n",
    "\n",
    "# I think i need another one:\n",
    "import pyLDAvis.gensim_models\n",
    "import pyLDAvis.gensim_models as gensimvis\n",
    "\n",
    "# Plots\n",
    "import matplotlib.pyplot as plt\n",
    "%matplotlib inline\n",
    "\n",
    "# Enable logging for gensim - optional\n",
    "import logging\n",
    "logging.basicConfig(format='%(asctime)s : %(levelname)s : %(message)s', level=logging.ERROR)\n",
    "\n",
    "import warnings\n",
    "warnings.filterwarnings(\"ignore\",category=DeprecationWarning)"
   ]
  },
  {
   "cell_type": "code",
   "execution_count": 2,
   "metadata": {},
   "outputs": [],
   "source": [
    "# NLTK Stop words\n",
    "from nltk.corpus import stopwords\n",
    "stop_words = stopwords.words('dutch')\n",
    "stop_words.extend(['tenlastelegging\\\\n\\\\n\\\\naan', '\\\\n\\\\n\\\\n\\\\n\\\\n\\\\n', '\\\\n\\\\n\\\\n\\\\n\\\\n', '\\\\n\\\\n', 'een', 'naan', 'nde', 'nhij', '\\\\n'])"
   ]
  },
  {
   "cell_type": "markdown",
   "metadata": {},
   "source": [
    "# Data Test"
   ]
  },
  {
   "cell_type": "code",
   "execution_count": 3,
   "metadata": {},
   "outputs": [],
   "source": [
    "# Data\n",
    "df = pd.read_csv('/Users/dj/Python - UvA/DSP/data/DataSample_DSP_0712.csv', index_col=1) \n",
    "df = df[df['re_tll'] != '[]'][['re_tll']] #re_bewijs\n",
    "# data = [i for i in df['re_tll']]"
   ]
  },
  {
   "cell_type": "markdown",
   "metadata": {},
   "source": [
    "# Data Final"
   ]
  },
  {
   "cell_type": "code",
   "execution_count": 4,
   "metadata": {},
   "outputs": [],
   "source": [
    "df = pd.read_csv('/Users/dj/Python - UvA/DSP/data/dataset_10012022_cleaned.csv', index_col=1) "
   ]
  },
  {
   "cell_type": "code",
   "execution_count": 5,
   "metadata": {},
   "outputs": [
    {
     "data": {
      "text/html": [
       "<div>\n",
       "<style scoped>\n",
       "    .dataframe tbody tr th:only-of-type {\n",
       "        vertical-align: middle;\n",
       "    }\n",
       "\n",
       "    .dataframe tbody tr th {\n",
       "        vertical-align: top;\n",
       "    }\n",
       "\n",
       "    .dataframe thead th {\n",
       "        text-align: right;\n",
       "    }\n",
       "</style>\n",
       "<table border=\"1\" class=\"dataframe\">\n",
       "  <thead>\n",
       "    <tr style=\"text-align: right;\">\n",
       "      <th></th>\n",
       "      <th>Unnamed: 0</th>\n",
       "      <th>ecli</th>\n",
       "      <th>subject</th>\n",
       "      <th>spatial</th>\n",
       "      <th>case_nr</th>\n",
       "      <th>date</th>\n",
       "      <th>bewijs</th>\n",
       "      <th>tll</th>\n",
       "    </tr>\n",
       "    <tr>\n",
       "      <th>filename</th>\n",
       "      <th></th>\n",
       "      <th></th>\n",
       "      <th></th>\n",
       "      <th></th>\n",
       "      <th></th>\n",
       "      <th></th>\n",
       "      <th></th>\n",
       "      <th></th>\n",
       "    </tr>\n",
       "  </thead>\n",
       "  <tbody>\n",
       "    <tr>\n",
       "      <th>ECLI_NL_GHARL_2021_1844.xml</th>\n",
       "      <td>0</td>\n",
       "      <td>ECLI:NL:GHARL:2021:1844</td>\n",
       "      <td>Strafrecht</td>\n",
       "      <td>Leeuwarden</td>\n",
       "      <td>Wahv 200.253.228</td>\n",
       "      <td>2021-02-25</td>\n",
       "      <td>[]</td>\n",
       "      <td>[]</td>\n",
       "    </tr>\n",
       "    <tr>\n",
       "      <th>ECLI_NL_HR_2021_218.xml</th>\n",
       "      <td>1</td>\n",
       "      <td>ECLI:NL:HR:2021:218</td>\n",
       "      <td>Strafrecht</td>\n",
       "      <td>NaN</td>\n",
       "      <td>19/04191</td>\n",
       "      <td>2021-02-16</td>\n",
       "      <td>[]</td>\n",
       "      <td>[]</td>\n",
       "    </tr>\n",
       "    <tr>\n",
       "      <th>ECLI_NL_PHR_2019_165.xml</th>\n",
       "      <td>2</td>\n",
       "      <td>ECLI:NL:PHR:2019:165</td>\n",
       "      <td>Strafrecht</td>\n",
       "      <td>NaN</td>\n",
       "      <td>16/06093</td>\n",
       "      <td>2019-01-08</td>\n",
       "      <td>[]</td>\n",
       "      <td>[]</td>\n",
       "    </tr>\n",
       "    <tr>\n",
       "      <th>ECLI_NL_RBGEL_2018_50.xml</th>\n",
       "      <td>3</td>\n",
       "      <td>ECLI:NL:RBGEL:2018:50</td>\n",
       "      <td>Strafrecht</td>\n",
       "      <td>Arnhem</td>\n",
       "      <td>05/881874-16</td>\n",
       "      <td>2018-01-08</td>\n",
       "      <td>[]</td>\n",
       "      <td>[' tenlastelegging   aan verdachte is ten last...</td>\n",
       "    </tr>\n",
       "    <tr>\n",
       "      <th>ECLI_NL_GHAMS_2019_194.xml</th>\n",
       "      <td>4</td>\n",
       "      <td>ECLI:NL:GHAMS:2019:194</td>\n",
       "      <td>Strafrecht</td>\n",
       "      <td>Amsterdam</td>\n",
       "      <td>23-005312-13</td>\n",
       "      <td>2019-01-25</td>\n",
       "      <td>['      het bewijs tegen de verdachte  de kern...</td>\n",
       "      <td>[' tenlastelegging   aan de verdachte is ten l...</td>\n",
       "    </tr>\n",
       "  </tbody>\n",
       "</table>\n",
       "</div>"
      ],
      "text/plain": [
       "                             Unnamed: 0                     ecli     subject  \\\n",
       "filename                                                                       \n",
       "ECLI_NL_GHARL_2021_1844.xml           0  ECLI:NL:GHARL:2021:1844  Strafrecht   \n",
       "ECLI_NL_HR_2021_218.xml               1      ECLI:NL:HR:2021:218  Strafrecht   \n",
       "ECLI_NL_PHR_2019_165.xml              2     ECLI:NL:PHR:2019:165  Strafrecht   \n",
       "ECLI_NL_RBGEL_2018_50.xml             3    ECLI:NL:RBGEL:2018:50  Strafrecht   \n",
       "ECLI_NL_GHAMS_2019_194.xml            4   ECLI:NL:GHAMS:2019:194  Strafrecht   \n",
       "\n",
       "                                spatial           case_nr        date  \\\n",
       "filename                                                                \n",
       "ECLI_NL_GHARL_2021_1844.xml  Leeuwarden  Wahv 200.253.228  2021-02-25   \n",
       "ECLI_NL_HR_2021_218.xml             NaN          19/04191  2021-02-16   \n",
       "ECLI_NL_PHR_2019_165.xml            NaN          16/06093  2019-01-08   \n",
       "ECLI_NL_RBGEL_2018_50.xml        Arnhem      05/881874-16  2018-01-08   \n",
       "ECLI_NL_GHAMS_2019_194.xml    Amsterdam      23-005312-13  2019-01-25   \n",
       "\n",
       "                                                                        bewijs  \\\n",
       "filename                                                                         \n",
       "ECLI_NL_GHARL_2021_1844.xml                                                 []   \n",
       "ECLI_NL_HR_2021_218.xml                                                     []   \n",
       "ECLI_NL_PHR_2019_165.xml                                                    []   \n",
       "ECLI_NL_RBGEL_2018_50.xml                                                   []   \n",
       "ECLI_NL_GHAMS_2019_194.xml   ['      het bewijs tegen de verdachte  de kern...   \n",
       "\n",
       "                                                                           tll  \n",
       "filename                                                                        \n",
       "ECLI_NL_GHARL_2021_1844.xml                                                 []  \n",
       "ECLI_NL_HR_2021_218.xml                                                     []  \n",
       "ECLI_NL_PHR_2019_165.xml                                                    []  \n",
       "ECLI_NL_RBGEL_2018_50.xml    [' tenlastelegging   aan verdachte is ten last...  \n",
       "ECLI_NL_GHAMS_2019_194.xml   [' tenlastelegging   aan de verdachte is ten l...  "
      ]
     },
     "execution_count": 5,
     "metadata": {},
     "output_type": "execute_result"
    }
   ],
   "source": [
    "df.head()"
   ]
  },
  {
   "cell_type": "code",
   "execution_count": 6,
   "metadata": {},
   "outputs": [],
   "source": [
    "df_be = df[df['bewijs'] != '[]'] #bewijs\n",
    "df_te = df[df['tll'] != '[]'] #tenlastelegging"
   ]
  },
  {
   "cell_type": "code",
   "execution_count": 7,
   "metadata": {},
   "outputs": [
    {
     "data": {
      "text/html": [
       "<div>\n",
       "<style scoped>\n",
       "    .dataframe tbody tr th:only-of-type {\n",
       "        vertical-align: middle;\n",
       "    }\n",
       "\n",
       "    .dataframe tbody tr th {\n",
       "        vertical-align: top;\n",
       "    }\n",
       "\n",
       "    .dataframe thead th {\n",
       "        text-align: right;\n",
       "    }\n",
       "</style>\n",
       "<table border=\"1\" class=\"dataframe\">\n",
       "  <thead>\n",
       "    <tr style=\"text-align: right;\">\n",
       "      <th></th>\n",
       "      <th>Unnamed: 0</th>\n",
       "      <th>ecli</th>\n",
       "      <th>subject</th>\n",
       "      <th>spatial</th>\n",
       "      <th>case_nr</th>\n",
       "      <th>date</th>\n",
       "      <th>bewijs</th>\n",
       "      <th>tll</th>\n",
       "    </tr>\n",
       "    <tr>\n",
       "      <th>filename</th>\n",
       "      <th></th>\n",
       "      <th></th>\n",
       "      <th></th>\n",
       "      <th></th>\n",
       "      <th></th>\n",
       "      <th></th>\n",
       "      <th></th>\n",
       "      <th></th>\n",
       "    </tr>\n",
       "  </thead>\n",
       "  <tbody>\n",
       "    <tr>\n",
       "      <th>ECLI_NL_GHAMS_2019_194.xml</th>\n",
       "      <td>4</td>\n",
       "      <td>ECLI:NL:GHAMS:2019:194</td>\n",
       "      <td>Strafrecht</td>\n",
       "      <td>Amsterdam</td>\n",
       "      <td>23-005312-13</td>\n",
       "      <td>2019-01-25</td>\n",
       "      <td>['      het bewijs tegen de verdachte  de kern...</td>\n",
       "      <td>[' tenlastelegging   aan de verdachte is ten l...</td>\n",
       "    </tr>\n",
       "    <tr>\n",
       "      <th>ECLI_NL_GHSHE_2021_1801.xml</th>\n",
       "      <td>8</td>\n",
       "      <td>ECLI:NL:GHSHE:2021:1801</td>\n",
       "      <td>Strafrecht</td>\n",
       "      <td>'s-Hertogenbosch</td>\n",
       "      <td>20-003457-18</td>\n",
       "      <td>2021-02-10</td>\n",
       "      <td>['      bewijsmiddelen     indien tegen dit ve...</td>\n",
       "      <td>[]</td>\n",
       "    </tr>\n",
       "    <tr>\n",
       "      <th>ECLI_NL_GHARL_2020_820.xml</th>\n",
       "      <td>9</td>\n",
       "      <td>ECLI:NL:GHARL:2020:820</td>\n",
       "      <td>Strafrecht</td>\n",
       "      <td>Leeuwarden</td>\n",
       "      <td>21-001899-19</td>\n",
       "      <td>2020-01-30</td>\n",
       "      <td>['      bewijsmiddelen, feiten en omstandighed...</td>\n",
       "      <td>[' tenlastelegging   aan verdachte is -na wijz...</td>\n",
       "    </tr>\n",
       "    <tr>\n",
       "      <th>ECLI_NL_RBROT_2021_2966.xml</th>\n",
       "      <td>16</td>\n",
       "      <td>ECLI:NL:RBROT:2021:2966</td>\n",
       "      <td>Strafrecht</td>\n",
       "      <td>Rotterdam</td>\n",
       "      <td>10.295806.20</td>\n",
       "      <td>2021-02-09</td>\n",
       "      <td>['  bewijswaardering   4.1.1.   standpunt verd...</td>\n",
       "      <td>[]</td>\n",
       "    </tr>\n",
       "    <tr>\n",
       "      <th>ECLI_NL_RBMNE_2019_6577.xml</th>\n",
       "      <td>20</td>\n",
       "      <td>ECLI:NL:RBMNE:2019:6577</td>\n",
       "      <td>Strafrecht</td>\n",
       "      <td>Utrecht</td>\n",
       "      <td>16/018445-18</td>\n",
       "      <td>2019-01-18</td>\n",
       "      <td>['   bewijsmiddelen              [slachtoffer]...</td>\n",
       "      <td>['  2tenlastelegging   de tenlastelegging is a...</td>\n",
       "    </tr>\n",
       "  </tbody>\n",
       "</table>\n",
       "</div>"
      ],
      "text/plain": [
       "                             Unnamed: 0                     ecli     subject  \\\n",
       "filename                                                                       \n",
       "ECLI_NL_GHAMS_2019_194.xml            4   ECLI:NL:GHAMS:2019:194  Strafrecht   \n",
       "ECLI_NL_GHSHE_2021_1801.xml           8  ECLI:NL:GHSHE:2021:1801  Strafrecht   \n",
       "ECLI_NL_GHARL_2020_820.xml            9   ECLI:NL:GHARL:2020:820  Strafrecht   \n",
       "ECLI_NL_RBROT_2021_2966.xml          16  ECLI:NL:RBROT:2021:2966  Strafrecht   \n",
       "ECLI_NL_RBMNE_2019_6577.xml          20  ECLI:NL:RBMNE:2019:6577  Strafrecht   \n",
       "\n",
       "                                      spatial       case_nr        date  \\\n",
       "filename                                                                  \n",
       "ECLI_NL_GHAMS_2019_194.xml          Amsterdam  23-005312-13  2019-01-25   \n",
       "ECLI_NL_GHSHE_2021_1801.xml  's-Hertogenbosch  20-003457-18  2021-02-10   \n",
       "ECLI_NL_GHARL_2020_820.xml         Leeuwarden  21-001899-19  2020-01-30   \n",
       "ECLI_NL_RBROT_2021_2966.xml         Rotterdam  10.295806.20  2021-02-09   \n",
       "ECLI_NL_RBMNE_2019_6577.xml           Utrecht  16/018445-18  2019-01-18   \n",
       "\n",
       "                                                                        bewijs  \\\n",
       "filename                                                                         \n",
       "ECLI_NL_GHAMS_2019_194.xml   ['      het bewijs tegen de verdachte  de kern...   \n",
       "ECLI_NL_GHSHE_2021_1801.xml  ['      bewijsmiddelen     indien tegen dit ve...   \n",
       "ECLI_NL_GHARL_2020_820.xml   ['      bewijsmiddelen, feiten en omstandighed...   \n",
       "ECLI_NL_RBROT_2021_2966.xml  ['  bewijswaardering   4.1.1.   standpunt verd...   \n",
       "ECLI_NL_RBMNE_2019_6577.xml  ['   bewijsmiddelen              [slachtoffer]...   \n",
       "\n",
       "                                                                           tll  \n",
       "filename                                                                        \n",
       "ECLI_NL_GHAMS_2019_194.xml   [' tenlastelegging   aan de verdachte is ten l...  \n",
       "ECLI_NL_GHSHE_2021_1801.xml                                                 []  \n",
       "ECLI_NL_GHARL_2020_820.xml   [' tenlastelegging   aan verdachte is -na wijz...  \n",
       "ECLI_NL_RBROT_2021_2966.xml                                                 []  \n",
       "ECLI_NL_RBMNE_2019_6577.xml  ['  2tenlastelegging   de tenlastelegging is a...  "
      ]
     },
     "execution_count": 7,
     "metadata": {},
     "output_type": "execute_result"
    }
   ],
   "source": [
    "df_be.head()"
   ]
  },
  {
   "cell_type": "code",
   "execution_count": 8,
   "metadata": {},
   "outputs": [],
   "source": [
    "df['bete'] = df['bewijs'] + df['tll'] \n",
    "df = df[df['bete'] != '[][]']\n",
    "df = df.drop(labels=['bewijs', 'tll'], axis=1)"
   ]
  },
  {
   "cell_type": "code",
   "execution_count": 9,
   "metadata": {},
   "outputs": [
    {
     "data": {
      "text/html": [
       "<div>\n",
       "<style scoped>\n",
       "    .dataframe tbody tr th:only-of-type {\n",
       "        vertical-align: middle;\n",
       "    }\n",
       "\n",
       "    .dataframe tbody tr th {\n",
       "        vertical-align: top;\n",
       "    }\n",
       "\n",
       "    .dataframe thead th {\n",
       "        text-align: right;\n",
       "    }\n",
       "</style>\n",
       "<table border=\"1\" class=\"dataframe\">\n",
       "  <thead>\n",
       "    <tr style=\"text-align: right;\">\n",
       "      <th></th>\n",
       "      <th>Unnamed: 0</th>\n",
       "      <th>ecli</th>\n",
       "      <th>subject</th>\n",
       "      <th>spatial</th>\n",
       "      <th>case_nr</th>\n",
       "      <th>date</th>\n",
       "      <th>bete</th>\n",
       "    </tr>\n",
       "    <tr>\n",
       "      <th>filename</th>\n",
       "      <th></th>\n",
       "      <th></th>\n",
       "      <th></th>\n",
       "      <th></th>\n",
       "      <th></th>\n",
       "      <th></th>\n",
       "      <th></th>\n",
       "    </tr>\n",
       "  </thead>\n",
       "  <tbody>\n",
       "    <tr>\n",
       "      <th>ECLI_NL_RBGEL_2018_50.xml</th>\n",
       "      <td>3</td>\n",
       "      <td>ECLI:NL:RBGEL:2018:50</td>\n",
       "      <td>Strafrecht</td>\n",
       "      <td>Arnhem</td>\n",
       "      <td>05/881874-16</td>\n",
       "      <td>2018-01-08</td>\n",
       "      <td>[][' tenlastelegging   aan verdachte is ten la...</td>\n",
       "    </tr>\n",
       "    <tr>\n",
       "      <th>ECLI_NL_GHAMS_2019_194.xml</th>\n",
       "      <td>4</td>\n",
       "      <td>ECLI:NL:GHAMS:2019:194</td>\n",
       "      <td>Strafrecht</td>\n",
       "      <td>Amsterdam</td>\n",
       "      <td>23-005312-13</td>\n",
       "      <td>2019-01-25</td>\n",
       "      <td>['      het bewijs tegen de verdachte  de kern...</td>\n",
       "    </tr>\n",
       "    <tr>\n",
       "      <th>ECLI_NL_RBOVE_2021_606.xml</th>\n",
       "      <td>7</td>\n",
       "      <td>ECLI:NL:RBOVE:2021:606</td>\n",
       "      <td>Strafrecht</td>\n",
       "      <td>Almelo</td>\n",
       "      <td>08/760218-17 (P)</td>\n",
       "      <td>2021-02-10</td>\n",
       "      <td>[][' tenlastelegging   de verdenking komt er, ...</td>\n",
       "    </tr>\n",
       "    <tr>\n",
       "      <th>ECLI_NL_GHSHE_2021_1801.xml</th>\n",
       "      <td>8</td>\n",
       "      <td>ECLI:NL:GHSHE:2021:1801</td>\n",
       "      <td>Strafrecht</td>\n",
       "      <td>'s-Hertogenbosch</td>\n",
       "      <td>20-003457-18</td>\n",
       "      <td>2021-02-10</td>\n",
       "      <td>['      bewijsmiddelen     indien tegen dit ve...</td>\n",
       "    </tr>\n",
       "    <tr>\n",
       "      <th>ECLI_NL_GHARL_2020_820.xml</th>\n",
       "      <td>9</td>\n",
       "      <td>ECLI:NL:GHARL:2020:820</td>\n",
       "      <td>Strafrecht</td>\n",
       "      <td>Leeuwarden</td>\n",
       "      <td>21-001899-19</td>\n",
       "      <td>2020-01-30</td>\n",
       "      <td>['      bewijsmiddelen, feiten en omstandighed...</td>\n",
       "    </tr>\n",
       "  </tbody>\n",
       "</table>\n",
       "</div>"
      ],
      "text/plain": [
       "                             Unnamed: 0                     ecli     subject  \\\n",
       "filename                                                                       \n",
       "ECLI_NL_RBGEL_2018_50.xml             3    ECLI:NL:RBGEL:2018:50  Strafrecht   \n",
       "ECLI_NL_GHAMS_2019_194.xml            4   ECLI:NL:GHAMS:2019:194  Strafrecht   \n",
       "ECLI_NL_RBOVE_2021_606.xml            7   ECLI:NL:RBOVE:2021:606  Strafrecht   \n",
       "ECLI_NL_GHSHE_2021_1801.xml           8  ECLI:NL:GHSHE:2021:1801  Strafrecht   \n",
       "ECLI_NL_GHARL_2020_820.xml            9   ECLI:NL:GHARL:2020:820  Strafrecht   \n",
       "\n",
       "                                      spatial           case_nr        date  \\\n",
       "filename                                                                      \n",
       "ECLI_NL_RBGEL_2018_50.xml              Arnhem      05/881874-16  2018-01-08   \n",
       "ECLI_NL_GHAMS_2019_194.xml          Amsterdam      23-005312-13  2019-01-25   \n",
       "ECLI_NL_RBOVE_2021_606.xml             Almelo  08/760218-17 (P)  2021-02-10   \n",
       "ECLI_NL_GHSHE_2021_1801.xml  's-Hertogenbosch      20-003457-18  2021-02-10   \n",
       "ECLI_NL_GHARL_2020_820.xml         Leeuwarden      21-001899-19  2020-01-30   \n",
       "\n",
       "                                                                          bete  \n",
       "filename                                                                        \n",
       "ECLI_NL_RBGEL_2018_50.xml    [][' tenlastelegging   aan verdachte is ten la...  \n",
       "ECLI_NL_GHAMS_2019_194.xml   ['      het bewijs tegen de verdachte  de kern...  \n",
       "ECLI_NL_RBOVE_2021_606.xml   [][' tenlastelegging   de verdenking komt er, ...  \n",
       "ECLI_NL_GHSHE_2021_1801.xml  ['      bewijsmiddelen     indien tegen dit ve...  \n",
       "ECLI_NL_GHARL_2020_820.xml   ['      bewijsmiddelen, feiten en omstandighed...  "
      ]
     },
     "execution_count": 9,
     "metadata": {},
     "output_type": "execute_result"
    }
   ],
   "source": [
    "df.head()"
   ]
  },
  {
   "cell_type": "markdown",
   "metadata": {},
   "source": [
    "# Tokenize "
   ]
  },
  {
   "cell_type": "code",
   "execution_count": 10,
   "metadata": {},
   "outputs": [
    {
     "name": "stdout",
     "output_type": "stream",
     "text": [
      "[['tenlastelegging', 'aan', 'verdachte', 'is', 'ten', 'laste', 'gelegd', 'dat', 'hij', 'in', 'of', 'omstreeks', 'de', 'periode', 'van', 'november', 'tot', 'en', 'met', 'november', 'in', 'arnhem', 'en', 'of', 'in', 'nederland', 'en', 'of', 'in', 'duitsland', 'en', 'of', 'in', 'oostenrijk', 'en', 'of', 'in', 'hongarije', 'opzettelijk', 'een', 'of', 'meer', 'minderjarige', 'te', 'weten', 'naam', 'geboren', 'op', 'geboortedatum', 'in', 'geboorteplaats', 'en', 'of', 'naam', 'geboren', 'op', 'geboortedatum', 'in', 'geboorteplaats', 'heeft', 'onttrokken', 'aan', 'het', 'wettig', 'over', 'hen', 'haar', 'gesteld', 'gezag', 'en', 'of', 'aan', 'het', 'opzicht', 'van', 'degene', 'die', 'dit', 'desbevoegd', 'over', 'hen', 'haar', 'uitoefende', 'terwijl', 'die', 'minderjarige', 'beneden', 'de', 'twaalf', 'jaren', 'oud', 'was', 'waren', 'en', 'of', 'terwijl', 'list', 'was', 'gebezigd', 'bestaande', 'uit', 'het', 'door', 'verdachte', 'aan', 'de', 'school', 'van', 'de', 'minderjarig', 'in', 'strijd', 'met', 'de', 'waarheid', 'mededelen', 'dat', 'de', 'minderjarige', 'een', 'afspraak', 'bij', 'de', 'tandarts', 'zou', 'den', 'hebben', 'en', 'de', 'minderjarige', 'daarvoor', 'vroeger', 'op', 'te', 'halen', 'van', 'school', 'en', 'of', 'het', 'door', 'verdachte', 'uit', 'het', 'huis', 'lokken', 'van', 'zijn', 'verdachtes', 'echtgenote', 'genaamd', 'naam', 'door', 'het', 'maken', 'van', 'een', 'afspraak', 'met', 'haar', 'bij', 'een', 'woonboulevard', 'om', 'beweerdelijk', 'te', 'gaan', 'shoppen', 'zodat', 'verdachte', 'de', 'paspoorten', 'en', 'kleding', 'toiletartikelen', 'van', 'de', 'minderjarige', 'en', 'uit', 'de', 'woning', 'kon', 'pakken', 'toverwegingen', 'ten', 'aanzien', 'van', 'het', 'bewijs', 'de', 'feiten', 'op', 'grond', 'van', 'de', 'bewijsmiddelen', 'wordt', 'het', 'volgende', 'dat', 'verder', 'ook', 'niet', 'ter', 'discussie', 'staat', 'vastgesteld', 'aangeefster', 'naam', 'en', 'verdachte', 'zijn', 'getrouwd', 'en', 'hebben', 'samen', 'twee', 'kinderen', 'naam', 'geboren', 'op', 'geboortedatum', 'te', 'geboorteplaats', 'en', 'naam', 'geboren', 'op', 'geboortedatum', 'te', 'geboorteplaats', 'aangeefster', 'en', 'verdachte', 'hebben', 'beiden', 'gezag', 'over', 'deze', 'kinderen', 'verdachte', 'heeft', 'op', 'november', 'de', 'kinderen', 'eerder', 'van', 'school', 'gehaald', 'hij', 'is', 'vervolgens', 'in', 'een', 'bus', 'gestapt', 'in', 'nijmegen', 'heeft', 'in', 'kleve', 'duitsland', 'een', 'trein', 'genomen', 'in', 'dusseldorf', 'duitsland', 'de', 'bus', 'genomen', 'naar', 'salzburg', 'oostenrijk', 'en', 'heeft', 'vanuit', 'daar', 'een', 'trein', 'naar', 'boekarest', 'roemenie', 'genomen', 'in', 'deze', 'trein', 'is', 'hij', 'op', 'november', 'aangehouden', 'toen', 'de', 'trein', 'zich', 'in', 'hongarije', 'bevond', 'het', 'standpunt', 'van', 'de', 'officier', 'van', 'justitie', 'de', 'officier', 'van', 'justitie', 'heeft', 'gesteld', 'dat', 'wettig', 'en', 'overtuigend', 'bewezen', 'kan', 'worden', 'dat', 'verdachte', 'zich', 'schuldig', 'heeft', 'gemaakt', 'aan', 'het', 'ten', 'laste', 'gelegde', 'het', 'standpunt', 'van', 'de', 'verdediging', 'de', 'verdediging', 'heeft', 'zich', 'op', 'het', 'standpunt', 'gesteld', 'dat', 'verdachte', 'van', 'het', 'ten', 'laste', 'gelegde', 'dient', 'te', 'worden', 'vrijgesproken', 'omdat', 'verdachte', 'niet', 'het', 'opzet', 'had', 'de', 'kinderen', 'aan', 'het', 'gezag', 'van', 'aangeefster', 'te', 'onttrekken', 'daarnaast', 'heeft', 'verdachte', 'volgens', 'de', 'verdediging', 'ook', 'geen', 'list', 'gebezigd', 'beoordeling', 'door', 'de', 'rechtbank', 'aangeefster', 'heeft', 'verklaard', 'dat', 'zij', 'op', 'november', 'omstreeks', 'uur', 'door', 'verdachte', 'werd', 'gebeld', 'hij', 'vroeg', 'haar', 'of', 'ze', 'om', 'uur', 'op', 'hem', 'wilde', 'wachten', 'bij', 'de', 'woonboulevard', 'in', 'arnhem', 'zuid', 'zodat', 'ze', 'samen', 'konden', 'gaan', 'shoppen', 'aangeefster', 'is', 'vervolgens', 'naar', 'de', 'woonboulevard', 'gegaan', 'maar', 'verdachte', 'was', 'daar', 'niet', 'op', 'het', 'afgesproken', 'tijdstip', 'aanwezig', 'omstreeks', 'uur', 'is', 'zij', 'naar', 'de', 'school', 'van', 'haar', 'kinderen', 'gegaan', 'om', 'hen', 'op', 'te', 'halen', 'daar', 'hoorde', 'ze', 'van', 'de', 'leerkracht', 'dat', 'haar', 'kinderen', 'omstreeks', 'uur', 'waren', 'opgehaald', 'door', 'verdachte', 'met', 'de', 'mededeling', 'dat', 'ze', 'een', 'afspraak', 'hadden', 'bij', 'de', 'tandarts', 'aangeefster', 'raakte', 'in', 'paniek', 'omdat', 'ze', 'wist', 'dat', 'haar', 'kinderen', 'geen', 'afspraak', 'bij', 'de', 'tandarts', 'hadden', 'zij', 'heeft', 'verdachte', 'toen', 'meermalen', 'proberen', 'te', 'bellen', 'verdachte', 'nam', 'zijn', 'telefoon', 'echter', 'niet', 'op', 'zij', 'heeft', 'toen', 'de', 'voicemail', 'ingesproken', 'met', 'de', 'vraag', 'waarom', 'hij', 'hun', 'kinderen', 'had', 'meegenomen', 'eenmaal', 'thuis', 'gekomen', 'kwam', 'ze', 'er', 'achter', 'dat', 'de', 'paspoorten', 'van', 'de', 'kinderen', 'en', 'van', 'verdachte', 'weg', 'waren', 'ook', 'waren', 'de', 'toiletartikelen', 'en', 'wat', 'kleding', 'van', 'de', 'kinderen', 'weg', 'de', 'leerkracht', 'van', 'naam', 'getuige', 'heeft', 'verklaard', 'dat', 'verdachte', 'in', 'de', 'ochtend', 'net', 'voor', 'het', 'begin', 'van', 'de', 'schooldag', 'al', 'naar', 'haar', 'toe', 'was', 'gekomen', 'om', 'te', 'vertellen', 'dat', 'hij', 'met', 'zijn', 'dochter', 'naar', 'de', 'tandarts', 'zou', 'gaan', 'aan', 'het', 'einde', 'van', 'de', 'ochtend', 'heeft', 'hij', 'haar', 'toen', 'opgehaald', 'naam', 'moeder', 'is', 'toen', 'nog', 'na', 'schooltijd', 'geweest', 'om', 'haar', 'op', 'te', 'halen', 'de', 'leerkracht', 'van', 'naam', 'getuige', 'heeft', 'verklaard', 'dat', 'verdachte', 'in', 'de', 'ochtend', 'tegen', 'hem', 'had', 'gezegd', 'dat', 'hij', 'naam']]\n"
     ]
    }
   ],
   "source": [
    "def sent_to_words(sentences):\n",
    "    for sentence in sentences:\n",
    "        yield(gensim.utils.simple_preprocess(str(sentence), deacc=True))  # deacc=True removes punctuations\n",
    "\n",
    "data_words = list(sent_to_words(df['bete']))\n",
    "\n",
    "print(data_words[:1])"
   ]
  },
  {
   "cell_type": "markdown",
   "metadata": {},
   "source": [
    "# Creating Bigram and Trigram Models"
   ]
  },
  {
   "cell_type": "code",
   "execution_count": 11,
   "metadata": {},
   "outputs": [
    {
     "name": "stdout",
     "output_type": "stream",
     "text": [
      "['tenlastelegging', 'aan', 'verdachte', 'is', 'ten', 'laste', 'gelegd', 'dat', 'hij', 'in', 'of', 'omstreeks', 'de', 'periode', 'van', 'november', 'tot', 'en', 'met', 'november', 'in', 'arnhem', 'en', 'of', 'in', 'nederland', 'en', 'of', 'in', 'duitsland', 'en', 'of', 'in', 'oostenrijk', 'en', 'of', 'in', 'hongarije', 'opzettelijk', 'een', 'of', 'meer', 'minderjarige', 'te', 'weten', 'naam', 'geboren', 'op', 'geboortedatum', 'in', 'geboorteplaats', 'en', 'of', 'naam', 'geboren', 'op', 'geboortedatum', 'in', 'geboorteplaats', 'heeft', 'onttrokken', 'aan', 'het', 'wettig', 'over', 'hen', 'haar', 'gesteld', 'gezag', 'en', 'of', 'aan', 'het', 'opzicht', 'van', 'degene', 'die', 'dit', 'desbevoegd', 'over', 'hen', 'haar', 'uitoefende', 'terwijl', 'die', 'minderjarige', 'beneden', 'de', 'twaalf_jaren', 'oud', 'was', 'waren', 'en', 'of', 'terwijl', 'list', 'was', 'gebezigd', 'bestaande', 'uit', 'het', 'door', 'verdachte', 'aan', 'de', 'school', 'van', 'de', 'minderjarig', 'in', 'strijd', 'met', 'de', 'waarheid', 'mededelen', 'dat', 'de', 'minderjarige', 'een', 'afspraak', 'bij', 'de', 'tandarts', 'zou', 'den', 'hebben', 'en', 'de', 'minderjarige', 'daarvoor', 'vroeger', 'op', 'te', 'halen', 'van', 'school', 'en', 'of', 'het', 'door', 'verdachte', 'uit', 'het', 'huis', 'lokken', 'van', 'zijn', 'verdachtes', 'echtgenote', 'genaamd', 'naam', 'door', 'het', 'maken', 'van', 'een', 'afspraak', 'met', 'haar', 'bij', 'een', 'woonboulevard', 'om', 'beweerdelijk', 'te', 'gaan', 'shoppen', 'zodat', 'verdachte', 'de', 'paspoorten', 'en', 'kleding', 'toiletartikelen', 'van', 'de', 'minderjarige', 'en', 'uit', 'de', 'woning', 'kon', 'pakken', 'toverwegingen', 'ten', 'aanzien', 'van', 'het', 'bewijs', 'de', 'feiten', 'op', 'grond', 'van', 'de', 'bewijsmiddelen', 'wordt', 'het', 'volgende', 'dat', 'verder', 'ook', 'niet', 'ter', 'discussie_staat', 'vastgesteld', 'aangeefster', 'naam', 'en', 'verdachte', 'zijn', 'getrouwd', 'en', 'hebben', 'samen', 'twee', 'kinderen', 'naam', 'geboren', 'op', 'geboortedatum', 'te', 'geboorteplaats', 'en', 'naam', 'geboren', 'op', 'geboortedatum', 'te', 'geboorteplaats', 'aangeefster', 'en', 'verdachte', 'hebben', 'beiden', 'gezag', 'over', 'deze', 'kinderen', 'verdachte', 'heeft', 'op', 'november', 'de', 'kinderen', 'eerder', 'van', 'school', 'gehaald', 'hij', 'is', 'vervolgens', 'in', 'een', 'bus', 'gestapt', 'in', 'nijmegen', 'heeft', 'in', 'kleve', 'duitsland', 'een', 'trein', 'genomen', 'in', 'dusseldorf', 'duitsland', 'de', 'bus', 'genomen', 'naar', 'salzburg', 'oostenrijk', 'en', 'heeft', 'vanuit', 'daar', 'een', 'trein', 'naar', 'boekarest', 'roemenie', 'genomen', 'in', 'deze', 'trein', 'is', 'hij', 'op', 'november', 'aangehouden', 'toen', 'de', 'trein', 'zich', 'in', 'hongarije', 'bevond', 'het', 'standpunt', 'van', 'de', 'officier', 'van', 'justitie', 'de', 'officier', 'van', 'justitie', 'heeft', 'gesteld', 'dat', 'wettig', 'en', 'overtuigend', 'bewezen', 'kan', 'worden', 'dat', 'verdachte', 'zich', 'schuldig', 'heeft', 'gemaakt', 'aan', 'het', 'ten', 'laste', 'gelegde', 'het', 'standpunt', 'van', 'de', 'verdediging', 'de', 'verdediging', 'heeft', 'zich', 'op', 'het', 'standpunt', 'gesteld', 'dat', 'verdachte', 'van', 'het', 'ten', 'laste', 'gelegde', 'dient', 'te', 'worden', 'vrijgesproken', 'omdat', 'verdachte', 'niet', 'het', 'opzet', 'had', 'de', 'kinderen', 'aan', 'het', 'gezag', 'van', 'aangeefster', 'te', 'onttrekken', 'daarnaast', 'heeft', 'verdachte', 'volgens', 'de', 'verdediging', 'ook', 'geen', 'list', 'gebezigd', 'beoordeling', 'door', 'de', 'rechtbank', 'aangeefster', 'heeft', 'verklaard', 'dat', 'zij', 'op', 'november', 'omstreeks', 'uur', 'door', 'verdachte', 'werd', 'gebeld', 'hij', 'vroeg', 'haar', 'of', 'ze', 'om', 'uur', 'op', 'hem', 'wilde', 'wachten', 'bij', 'de', 'woonboulevard', 'in', 'arnhem', 'zuid', 'zodat', 'ze', 'samen', 'konden', 'gaan', 'shoppen', 'aangeefster', 'is', 'vervolgens', 'naar', 'de', 'woonboulevard', 'gegaan', 'maar', 'verdachte', 'was', 'daar', 'niet', 'op', 'het', 'afgesproken', 'tijdstip', 'aanwezig', 'omstreeks', 'uur', 'is', 'zij', 'naar', 'de', 'school', 'van', 'haar', 'kinderen', 'gegaan', 'om', 'hen', 'op', 'te', 'halen', 'daar', 'hoorde', 'ze', 'van', 'de', 'leerkracht', 'dat', 'haar', 'kinderen', 'omstreeks', 'uur', 'waren', 'opgehaald', 'door', 'verdachte', 'met', 'de', 'mededeling', 'dat', 'ze', 'een', 'afspraak', 'hadden', 'bij', 'de', 'tandarts', 'aangeefster', 'raakte', 'in', 'paniek', 'omdat', 'ze', 'wist', 'dat', 'haar', 'kinderen', 'geen', 'afspraak', 'bij', 'de', 'tandarts', 'hadden', 'zij', 'heeft', 'verdachte', 'toen', 'meermalen', 'proberen', 'te', 'bellen', 'verdachte', 'nam', 'zijn', 'telefoon', 'echter', 'niet', 'op', 'zij', 'heeft', 'toen', 'de', 'voicemail', 'ingesproken', 'met', 'de', 'vraag', 'waarom', 'hij', 'hun', 'kinderen', 'had', 'meegenomen', 'eenmaal', 'thuis', 'gekomen', 'kwam', 'ze', 'er', 'achter', 'dat', 'de', 'paspoorten', 'van', 'de', 'kinderen', 'en', 'van', 'verdachte', 'weg', 'waren', 'ook', 'waren', 'de', 'toiletartikelen', 'en', 'wat', 'kleding', 'van', 'de', 'kinderen', 'weg', 'de', 'leerkracht', 'van', 'naam', 'getuige', 'heeft', 'verklaard', 'dat', 'verdachte', 'in', 'de', 'ochtend', 'net', 'voor', 'het', 'begin', 'van', 'de', 'schooldag', 'al', 'naar', 'haar', 'toe', 'was', 'gekomen', 'om', 'te', 'vertellen', 'dat', 'hij', 'met', 'zijn', 'dochter', 'naar', 'de', 'tandarts', 'zou', 'gaan', 'aan', 'het', 'einde', 'van', 'de', 'ochtend', 'heeft', 'hij', 'haar', 'toen', 'opgehaald', 'naam', 'moeder', 'is', 'toen', 'nog', 'na', 'schooltijd', 'geweest', 'om', 'haar', 'op', 'te', 'halen', 'de', 'leerkracht', 'van', 'naam', 'getuige', 'heeft', 'verklaard', 'dat', 'verdachte', 'in', 'de', 'ochtend', 'tegen', 'hem', 'had', 'gezegd', 'dat', 'hij', 'naam']\n"
     ]
    }
   ],
   "source": [
    "# Build the bigram and trigram models\n",
    "bigram = gensim.models.Phrases(data_words, min_count=5, threshold=100) # higher threshold fewer phrases.\n",
    "trigram = gensim.models.Phrases(bigram[data_words], threshold=100)  \n",
    "\n",
    "# Faster way to get a sentence clubbed as a trigram/bigram\n",
    "bigram_mod = gensim.models.phrases.Phraser(bigram)\n",
    "trigram_mod = gensim.models.phrases.Phraser(trigram)\n",
    "\n",
    "# See trigram example\n",
    "print(trigram_mod[bigram_mod[data_words[0]]])"
   ]
  },
  {
   "cell_type": "markdown",
   "metadata": {},
   "source": [
    "# Remove Stopwords, Make Bigrams and Lemmatize"
   ]
  },
  {
   "cell_type": "code",
   "execution_count": 12,
   "metadata": {},
   "outputs": [],
   "source": [
    "# Define functions for stopwords, bigrams, trigrams and lemmatization\n",
    "def remove_stopwords(texts):\n",
    "    return [[word for word in simple_preprocess(str(doc)) if word not in stop_words] for doc in texts]\n",
    "\n",
    "def make_bigrams(texts):\n",
    "    return [bigram_mod[doc] for doc in texts]\n",
    "\n",
    "def make_trigrams(texts):\n",
    "    return [trigram_mod[bigram_mod[doc]] for doc in texts]\n",
    "\n",
    "def lemmatization(texts, allowed_postags=['NOUN', 'ADJ', 'VERB', 'ADV']):\n",
    "    \"\"\"https://spacy.io/api/annotation\"\"\"\n",
    "    texts_out = []\n",
    "    for sent in texts:\n",
    "        doc = nlp(\" \".join(sent)) \n",
    "        texts_out.append([token.lemma_ for token in doc if token.pos_ in allowed_postags])\n",
    "    return texts_out"
   ]
  },
  {
   "cell_type": "code",
   "execution_count": 13,
   "metadata": {},
   "outputs": [
    {
     "name": "stdout",
     "output_type": "stream",
     "text": [
      "[['tenlastelegging', 'verdenken', 'last', 'leggen', 'periode', 'oostenrijk', 'opzettelijk', 'minderjarig', 'weten', 'naam', 'baren', 'geboortedatum', 'geboorteplaats', 'naam', 'baren', 'geboortedatum', 'geboorteplaats', 'onttrekken', 'wettig', 'stellen', 'gezag', 'opzicht', 'desbevoegd', 'uitoefenen', 'minderjarig', 'twaalf_jar', 'oud', 'list', 'bezigen', 'bestaan', 'verdenken', 'school', 'minderjarig', 'strijd', 'waarheid', 'mededeel', 'minderjarig', 'afspraak', 'tandarts', 'minderjarig', 'daarvoor', 'vroeger', 'halen', 'school', 'verdenken', 'huis', 'lok', 'verdachte', 'echtgenote', 'genaamd', 'naam', 'maken', 'afspraak', 'woonboulevard', 'beweerdelijk', 'gaan', 'shopp', 'verdenken', 'paspoort', 'kleding', 'toiletartikel', 'minderjarig', 'woning', 'toverweging', 'aanzien', 'bewijs', 'feit', 'grond', 'bewijsmiddel', 'volgen', 'ver', 'discussie', 'staan', 'vaststellen', 'aangeefster', 'naam', 'verdenken', 'trouwen', 'samen', 'kind', 'naam', 'baren', 'geboortedatum', 'geboorteplaats', 'naam', 'baren', 'geboortedatum', 'geboorteplaats', 'aangeefster', 'verdenken', 'gezag', 'kind', 'verdenken', 'kind', 'eerder', 'school', 'halen', 'vervolgens', 'bus', 'stappen', 'nijmeg', 'klev', 'trein', 'nemen', 'dusseldorf', 'nemen', 'oostenrijk', 'trein', 'boekarest', 'roemenie', 'nemen', 'trein', 'aanhouden', 'trein', 'bevinden', 'standpunt', 'officier', 'justitie', 'officier', 'justitie', 'stellen', 'wettig', 'overtuigen', 'bewijzen', 'verdenken', 'schuldig', 'maken', 'last', 'leggen', 'standpunt', 'verdediging', 'verdediging', 'standpunt', 'stellen', 'verdenken', 'last', 'leggen', 'dienen', 'vrijspreken', 'verdenken', 'opzet', 'kind', 'gezag', 'aangeefster', 'onttrekken', 'daarnaast', 'verdenken', 'verdediging', 'list', 'bezigen', 'beoordeling', 'rechtbank', 'aangeefster', 'verklaren', 'uur', 'verdenken', 'bellen', 'vroeg', 'uur', 'willen', 'wachten', 'arnhem', 'zuid', 'samen', 'gaan', 'shoppen', 'aangeefster', 'vervolgens', 'woonboulevard', 'gaan', 'verdenken', 'afspreken', 'tijdstip', 'aanwezig', 'uur', 'school', 'kind', 'gaan', 'halen', 'horen', 'leerkracht', 'kind', 'uur', 'ophalen', 'verdenken', 'mededeling', 'afspraak', 'tandarts', 'aangeefster', 'raken', 'paniek', 'weten', 'kind', 'afspraak', 'tandarts', 'verdenken', 'meermalen', 'proberen', 'bellen', 'verdenken', 'nemen', 'telefoon', 'echter', 'voicemail', 'inspreken', 'vraag', 'waarom', 'kind', 'meenemen', 'eenmaal', 'thuis', 'komen', 'komen', 'paspoort', 'kind', 'verdenken', 'weg', 'toiletartikel', 'kleding', 'kind', 'weg', 'leerkracht', 'naam', 'getuige', 'verklaren', 'verdenken', 'ochtend', 'net', 'begin', 'schooldag', 'komen', 'vertellen', 'dochter', 'tandarts', 'gaan', 'einde', 'ochtend', 'ophalen', 'naam', 'moeder', 'schooltijd', 'halen', 'leerkracht', 'naam', 'getuige', 'verklaren', 'verdenken', 'ochtend', 'zeggen', 'naam']]\n"
     ]
    }
   ],
   "source": [
    "# Remove Stop Words\n",
    "data_words_nostops = remove_stopwords(data_words)\n",
    "\n",
    "# Form Bigrams\n",
    "data_words_bigrams = make_bigrams(data_words_nostops)\n",
    "\n",
    "# Initialize spacy 'en' model, keeping only tagger component (for efficiency)\n",
    "# python3 -m spacy download en\n",
    "# nlp = spacy.load('nl', disable=['parser', 'ner'])\n",
    "\n",
    "nlp = spacy.load(\"nl_core_news_sm\")\n",
    "\n",
    "# Do lemmatization keeping only noun, adj, vb, adv\n",
    "data_lemmatized = lemmatization(data_words_bigrams, allowed_postags=['NOUN', 'ADJ', 'VERB', 'ADV'])\n",
    "\n",
    "print(data_lemmatized[:1])"
   ]
  },
  {
   "cell_type": "markdown",
   "metadata": {},
   "source": [
    "#  Create the Dictionary and Corpus needed for Topic Modeling"
   ]
  },
  {
   "cell_type": "code",
   "execution_count": 14,
   "metadata": {},
   "outputs": [
    {
     "name": "stdout",
     "output_type": "stream",
     "text": [
      "[[(0, 6), (1, 1), (2, 1), (3, 1), (4, 4), (5, 1), (6, 1), (7, 4), (8, 1), (9, 2), (10, 1), (11, 1), (12, 1), (13, 1), (14, 1), (15, 1), (16, 1), (17, 2), (18, 1), (19, 1), (20, 1), (21, 1), (22, 1), (23, 1), (24, 1), (25, 1), (26, 1), (27, 1), (28, 1), (29, 1), (30, 1), (31, 1), (32, 1), (33, 5), (34, 4), (35, 4), (36, 1), (37, 2), (38, 3), (39, 1), (40, 4), (41, 1), (42, 1), (43, 1), (44, 2), (45, 10), (46, 2), (47, 1), (48, 3), (49, 3), (50, 3), (51, 3), (52, 2), (53, 1), (54, 2), (55, 1), (56, 1), (57, 1), (58, 1), (59, 6), (60, 1), (61, 10), (62, 4), (63, 1), (64, 1), (65, 3), (66, 2), (67, 2), (68, 2), (69, 2), (70, 1), (71, 1), (72, 1), (73, 1), (74, 1), (75, 1), (76, 2), (77, 1), (78, 1), (79, 1), (80, 1), (81, 1), (82, 2), (83, 4), (84, 1), (85, 1), (86, 1), (87, 1), (88, 1), (89, 1), (90, 3), (91, 1), (92, 3), (93, 1), (94, 4), (95, 1), (96, 1), (97, 1), (98, 1), (99, 2), (100, 1), (101, 4), (102, 1), (103, 1), (104, 1), (105, 4), (106, 1), (107, 1), (108, 1), (109, 3), (110, 19), (111, 3), (112, 1), (113, 2), (114, 1), (115, 1), (116, 1), (117, 1), (118, 1), (119, 1), (120, 1), (121, 1), (122, 1), (123, 2), (124, 2), (125, 2), (126, 1), (127, 1), (128, 2), (129, 1), (130, 1)]]\n"
     ]
    }
   ],
   "source": [
    "# Create Dictionary\n",
    "id2word = corpora.Dictionary(data_lemmatized)\n",
    "\n",
    "# Create Corpus\n",
    "texts = data_lemmatized\n",
    "\n",
    "# Term Document Frequency\n",
    "corpus = [id2word.doc2bow(text) for text in texts]\n",
    "# corpus1 = [str(item) for item in corpus]\n",
    "\n",
    "# View\n",
    "print(corpus[:1])"
   ]
  },
  {
   "cell_type": "code",
   "execution_count": 15,
   "metadata": {},
   "outputs": [
    {
     "data": {
      "text/plain": [
       "'aangeefster'"
      ]
     },
     "execution_count": 15,
     "metadata": {},
     "output_type": "execute_result"
    }
   ],
   "source": [
    "# Id word\n",
    "id2word[0]"
   ]
  },
  {
   "cell_type": "markdown",
   "metadata": {},
   "source": [
    "# Building the Topic Model"
   ]
  },
  {
   "cell_type": "code",
   "execution_count": 16,
   "metadata": {},
   "outputs": [],
   "source": [
    "# Build LDA model\n",
    "lda_model = gensim.models.ldamodel.LdaModel(corpus=corpus,\n",
    "                                           id2word=id2word,\n",
    "                                           num_topics=5, \n",
    "                                           random_state=100,\n",
    "                                           update_every=1,\n",
    "                                           chunksize=100,\n",
    "                                           passes=10,\n",
    "                                           alpha='auto',\n",
    "                                           per_word_topics=True)"
   ]
  },
  {
   "cell_type": "markdown",
   "metadata": {},
   "source": [
    "# View the topics in LDA model"
   ]
  },
  {
   "cell_type": "code",
   "execution_count": 17,
   "metadata": {},
   "outputs": [
    {
     "name": "stdout",
     "output_type": "stream",
     "text": [
      "[(0,\n",
      "  '0.041*\"verdenken\" + 0.031*\"slachtoffer\" + 0.021*\"zien\" + '\n",
      "  '0.013*\"medeverdacht\" + 0.012*\"verbalisant\" + 0.012*\"man\" + '\n",
      "  '0.010*\"verklaren\" + 0.010*\"komen\" + 0.009*\"rechtbank\" + 0.009*\"verklaring\"'),\n",
      " (1,\n",
      "  '0.064*\"slachtoffer\" + 0.034*\"verdenken\" + 0.027*\"althans\" + 0.026*\"naam\" + '\n",
      "  '0.023*\"ander\" + 0.015*\"geval\" + 0.012*\"weten\" + 0.010*\"geweld\" + '\n",
      "  '0.009*\"goed\" + 0.009*\"aangeefster\"'),\n",
      " (2,\n",
      "  '0.041*\"verdenken\" + 0.021*\"medeverdacht\" + 0.018*\"naam\" + 0.012*\"uur\" + '\n",
      "  '0.011*\"aantreffen\" + 0.011*\"adres\" + 0.010*\"rechtbank\" + 0.010*\"kenteken\" + '\n",
      "  '0.009*\"telefoonnummer\" + 0.008*\"auto\"'),\n",
      " (3,\n",
      "  '0.055*\"verdenken\" + 0.020*\"hof\" + 0.011*\"feit\" + 0.011*\"verklaren\" + '\n",
      "  '0.010*\"bewijzen\" + 0.009*\"benadelen\" + 0.008*\"rechtbank\" + 0.007*\"oordeel\" '\n",
      "  '+ 0.007*\"omstandigheid\" + 0.007*\"artikel\"'),\n",
      " (4,\n",
      "  '0.033*\"verdenken\" + 0.025*\"naam\" + 0.018*\"bedrijf\" + 0.016*\"benadelen\" + '\n",
      "  '0.013*\"althans\" + 0.013*\"geld\" + 0.012*\"telkens\" + 0.012*\"ander\" + '\n",
      "  '0.010*\"periode\" + 0.009*\"bedrag\"')]\n"
     ]
    }
   ],
   "source": [
    "# Print the Keyword in the 10 topics\n",
    "pprint(lda_model.print_topics())\n",
    "doc_lda = lda_model[corpus]"
   ]
  },
  {
   "cell_type": "markdown",
   "metadata": {},
   "source": [
    "# Compute Model Perplexity and Coherence Score"
   ]
  },
  {
   "cell_type": "code",
   "execution_count": 18,
   "metadata": {},
   "outputs": [
    {
     "name": "stdout",
     "output_type": "stream",
     "text": [
      "\n",
      "Perplexity:  -7.19710227593113\n",
      "\n",
      "Coherence Score:  0.4805791301370833\n"
     ]
    }
   ],
   "source": [
    "# Compute Perplexity\n",
    "print('\\nPerplexity: ', lda_model.log_perplexity(corpus))  # a measure of how good the model is. lower the better.\n",
    "\n",
    "# Compute Coherence Score\n",
    "coherence_model_lda = CoherenceModel(model=lda_model, texts=data_lemmatized, dictionary=id2word, coherence='c_v')\n",
    "coherence_lda = coherence_model_lda.get_coherence()\n",
    "print('\\nCoherence Score: ', coherence_lda)"
   ]
  },
  {
   "cell_type": "markdown",
   "metadata": {},
   "source": [
    "# Visualize the topics-keywords"
   ]
  },
  {
   "cell_type": "code",
   "execution_count": 19,
   "metadata": {},
   "outputs": [
    {
     "data": {
      "text/html": [
       "\n",
       "<link rel=\"stylesheet\" type=\"text/css\" href=\"https://cdn.jsdelivr.net/gh/bmabey/pyLDAvis@3.3.1/pyLDAvis/js/ldavis.v1.0.0.css\">\n",
       "\n",
       "\n",
       "<div id=\"ldavis_el30321404934991563044205962469\"></div>\n",
       "<script type=\"text/javascript\">\n",
       "\n",
       "var ldavis_el30321404934991563044205962469_data = {\"mdsDat\": {\"x\": [-0.1608663206747315, -0.11713161162439024, -0.03820013043931788, 0.13916171662681195, 0.17703634611162752], \"y\": [-0.09545759440111627, 0.09695000676686143, 0.05111887375049632, -0.19186606311688714, 0.13925477700064595], \"topics\": [1, 2, 3, 4, 5], \"cluster\": [1, 1, 1, 1, 1], \"Freq\": [25.3582706678539, 22.948886155234128, 19.64416420854124, 19.475369507133788, 12.573309461236937]}, \"tinfo\": {\"Term\": [\"slachtoffer\", \"naam\", \"althans\", \"hof\", \"bedrijf\", \"zien\", \"medeverdacht\", \"ander\", \"man\", \"benadelen\", \"zover_inhoudenen\", \"geit\", \"donker\", \"overvaller\", \"vastbinden\", \"schot\", \"bivakmuts\", \"ontvoering\", \"rennen\", \"luik\", \"bijnaam\", \"overval\", \"incident\", \"man\", \"camerabeeld\", \"zien\", \"lopen\", \"jongen\", \"verbalisant\", \"dader\", \"richting\", \"slachtoffer\", \"getuige\", \"aangever\", \"verdenken\", \"komen\", \"medeverdacht\", \"verklaren\", \"verklaring\", \"rechtbank\", \"undercover_agenten\", \"gevangenisstraf\", \"straf\", \"opleggen\", \"arrest\", \"ontvankelijk\", \"tijdig\", \"ongeval\", \"maatregel\", \"diamant\", \"veroordelen\", \"koerier\", \"uitlating\", \"aanvulling\", \"hof\", \"hoger_beroep\", \"strafbaarheid\", \"vonnis\", \"vordering\", \"omstandigheid\", \"verdediging\", \"artikel\", \"verdenken\", \"bewijzen\", \"oordeel\", \"terechtzitting\", \"verklaren\", \"feit\", \"benadelen\", \"rechtbank\", \"loods\", \"gram\", \"hennep\", \"doorzoeking\", \"mercedes_sprinter\", \"materiaal_bevattenen\", \"volkswagen\", \"opiumwet\", \"opiumwet_behorenen\", \"hennepplant\", \"telefoonnummer\", \"kenteken\", \"cocaine\", \"aantreffen\", \"merk\", \"voertuig\", \"uur\", \"medeverdacht\", \"adres\", \"verdenken\", \"naam\", \"auto\", \"rechtbank\", \"meisje\", \"vagina\", \"dele_toebehorenen\", \"feitelijkheid\", \"billen\", \"pinpas\", \"penis\", \"bereiden_gemakkelijk\", \"betrapping\", \"ontuchtige_handeling\", \"strekking\", \"borst\", \"althans\", \"geweld\", \"voorgenomen_misdrijf\", \"slachtoffer\", \"bedreiging\", \"lichaam\", \"ander\", \"geval\", \"geheel\", \"naam\", \"tenlastelegging\", \"vereniging\", \"aangeefster\", \"verdenken\", \"weten\", \"goed\", \"oplichting\", \"valselijk\", \"www_website\", \"rechtspersoon\", \"valse_hoedanigheid\", \"euro_geboekt\", \"samenweefsel\", \"onvervalst\", \"rekeningnummer\", \"valsheid\", \"website\", \"zegel\", \"factuur\", \"bankrekening\", \"bedrijf\", \"vals\", \"document\", \"gegeven\", \"geldbedrag\", \"bedrag\", \"telkens\", \"euro\", \"geld\", \"benadelen\", \"naam\", \"verdenken\", \"althans\", \"periode\", \"ander\"], \"Freq\": [19289.0, 11156.0, 7107.0, 4836.0, 2537.0, 6247.0, 7973.0, 7379.0, 3351.0, 5433.0, 267.7656210926996, 231.4313102338579, 226.77829089349942, 216.55017866362707, 176.68707352802548, 162.76788699431847, 155.41474091214903, 143.6151276762861, 366.12737897718625, 134.44507675241712, 1812.9152341744318, 604.6908656661267, 265.8183445901303, 2941.464971084051, 692.9171070524432, 5142.587000137026, 1302.6558650759107, 731.8462079275324, 2943.088665459631, 702.9491867978188, 1177.8498950246556, 7558.536938420279, 1723.1222975955986, 1343.5226028858453, 9757.534127339131, 2373.74461377616, 3020.469415229325, 2518.3642822019992, 2100.3718377534733, 2168.2741821952354, 490.42327938248803, 345.10766957937676, 317.24632125198315, 234.2105277114118, 203.07952025846703, 159.67604512821362, 150.51617247584005, 139.05744678580916, 134.0098265927674, 136.21739710555573, 304.12292849797296, 145.25022016064275, 190.87484439533395, 373.5259677385613, 4291.04817294325, 777.4086597738307, 403.9523297287567, 389.6165229851564, 623.2360658845906, 1555.2703438455985, 1490.9860037945637, 1523.2745292920872, 11880.327660302199, 2065.3767147636822, 1619.5199914799798, 1096.9058412013655, 2288.535937749593, 2427.2329829212863, 2051.1135800357256, 1766.2228933729566, 1168.4326237637727, 470.5917263357736, 383.4640262476864, 342.6158335900159, 270.9974559713967, 269.09425557027765, 269.38295312114394, 252.17438864175597, 235.65930000823744, 223.24604124216728, 1625.9272906866797, 1888.382238508214, 581.7694605297169, 2029.288461229567, 927.7911589961363, 930.7705142579184, 2188.1123734236717, 3874.302604728228, 2003.9345046571275, 7628.417678806633, 3374.8351493573996, 1527.4714259710763, 1951.7048796651868, 1202.8614564598731, 556.3003468667308, 463.3200301859198, 269.1706497855027, 256.93744229324295, 254.78605181550037, 226.4372972773969, 225.09552419629247, 204.7277530235697, 194.1855598626539, 339.1322664401602, 463.20535459505777, 4949.5197006585995, 1779.0132553766225, 827.3064498686996, 11727.381014449307, 861.1221014043307, 905.2765814723972, 4213.983250727484, 2683.6204953388833, 1313.5696667192003, 4791.539653962248, 1615.104068624592, 1598.638507813301, 1676.7248600382763, 6192.991423247703, 2198.951492372425, 1706.8251425990095, 359.78057326484924, 294.4982423378814, 239.07578855294932, 208.37262903767376, 190.60017659137563, 187.1815751059389, 181.17133225416228, 173.08025093343934, 165.0506388556373, 146.6631199279423, 421.5030079557493, 344.24413553044457, 586.3016464668451, 386.6990034714037, 2197.2840737832594, 953.218193424414, 266.7661516455869, 695.0871058114118, 928.7422131762628, 1031.658876811316, 1419.6570605086908, 868.4387939493922, 1503.0527439632176, 1929.682151011477, 2936.612465371141, 3974.9500855633987, 1601.618543375878, 1139.6030235157884, 1368.6595055718376], \"Total\": [19289.0, 11156.0, 7107.0, 4836.0, 2537.0, 6247.0, 7973.0, 7379.0, 3351.0, 5433.0, 268.5902112007622, 232.2480827314699, 227.6059846444873, 217.37067992903226, 177.5037452464553, 163.5856874594944, 156.2461108783496, 144.44293490102862, 368.3769676782189, 135.31116753335994, 1861.4367183235815, 617.9520331977541, 269.42762891906574, 3351.0722414707725, 744.3064333816145, 6247.275789387684, 1491.7336558226282, 806.5587759545884, 3768.5210136477344, 801.1693653637584, 1453.405698063409, 19289.807879976568, 2663.2524433385265, 1987.6213775536985, 39434.220975259064, 4896.358452341911, 7973.094384171608, 6336.936004766567, 4567.162543379109, 7633.915933607932, 491.26004854332405, 345.95359550263055, 318.08443606340705, 235.04722836555652, 203.93029984090558, 160.52168875002317, 151.39408915317648, 139.89522605288698, 134.85008251356604, 137.07292959925465, 306.51042800314116, 146.17642656548878, 193.1590824152986, 383.3409892888611, 4836.938690497026, 822.8553178546147, 422.1085335993455, 407.4984665775936, 700.6402986973114, 2191.490532269031, 2195.1179644113886, 2303.31332905707, 39434.220975259064, 3854.549277068349, 3024.745255754043, 1753.4289251914713, 6336.936004766567, 7113.824652626457, 5433.65483028087, 7633.915933607932, 1169.2307740892732, 471.393043736664, 384.275248979556, 343.42970785363525, 271.79630010706705, 269.8936143019933, 270.18857632404536, 252.97769734321164, 236.45977392757632, 224.04591445266254, 1634.6276584909056, 1981.8536161321617, 600.8681811132379, 2554.62517339566, 1093.9585746227058, 1153.3642183487843, 3525.6328466529408, 7973.094384171608, 3394.407678099213, 39434.220975259064, 11156.902834302588, 3808.5287690548566, 7633.915933607932, 1203.8160381175248, 557.140805159282, 464.1981722575162, 270.0161756292551, 257.78123975884995, 255.65660772790002, 227.27900110191936, 225.95687952515075, 205.59698719869337, 195.02459850186298, 358.34615948686957, 507.3541709020112, 7107.219371260147, 2271.9435430924705, 970.4579857270045, 19289.807879976568, 1047.628877668189, 1127.7077195215127, 7379.576731080444, 4329.929861698533, 1857.974625104464, 11156.902834302588, 2553.941777605953, 2590.56666350178, 2963.5780206030718, 39434.220975259064, 5293.678791251462, 3498.5720531170973, 360.61875623035155, 295.3386205313572, 239.9564518014952, 209.20798108522882, 191.441880368916, 188.02658077533303, 182.01066247480503, 173.91531473898618, 165.88668802607503, 147.4992684250202, 427.5766086006199, 349.0111286724615, 602.3949392962674, 396.35961104754824, 2537.2332684987573, 1076.4921615842463, 274.6692705588922, 837.52672915025, 1193.322948969514, 1426.1062968719377, 2299.266546717289, 1238.2772222758385, 2962.0619870876653, 5433.65483028087, 11156.902834302588, 39434.220975259064, 7107.219371260147, 3053.6027003502345, 7379.576731080444], \"Category\": [\"Default\", \"Default\", \"Default\", \"Default\", \"Default\", \"Default\", \"Default\", \"Default\", \"Default\", \"Default\", \"Topic1\", \"Topic1\", \"Topic1\", \"Topic1\", \"Topic1\", \"Topic1\", \"Topic1\", \"Topic1\", \"Topic1\", \"Topic1\", \"Topic1\", \"Topic1\", \"Topic1\", \"Topic1\", \"Topic1\", \"Topic1\", \"Topic1\", \"Topic1\", \"Topic1\", \"Topic1\", \"Topic1\", \"Topic1\", \"Topic1\", \"Topic1\", \"Topic1\", \"Topic1\", \"Topic1\", \"Topic1\", \"Topic1\", \"Topic1\", \"Topic2\", \"Topic2\", \"Topic2\", \"Topic2\", \"Topic2\", \"Topic2\", \"Topic2\", \"Topic2\", \"Topic2\", \"Topic2\", \"Topic2\", \"Topic2\", \"Topic2\", \"Topic2\", \"Topic2\", \"Topic2\", \"Topic2\", \"Topic2\", \"Topic2\", \"Topic2\", \"Topic2\", \"Topic2\", \"Topic2\", \"Topic2\", \"Topic2\", \"Topic2\", \"Topic2\", \"Topic2\", \"Topic2\", \"Topic2\", \"Topic3\", \"Topic3\", \"Topic3\", \"Topic3\", \"Topic3\", \"Topic3\", \"Topic3\", \"Topic3\", \"Topic3\", \"Topic3\", \"Topic3\", \"Topic3\", \"Topic3\", \"Topic3\", \"Topic3\", \"Topic3\", \"Topic3\", \"Topic3\", \"Topic3\", \"Topic3\", \"Topic3\", \"Topic3\", \"Topic3\", \"Topic4\", \"Topic4\", \"Topic4\", \"Topic4\", \"Topic4\", \"Topic4\", \"Topic4\", \"Topic4\", \"Topic4\", \"Topic4\", \"Topic4\", \"Topic4\", \"Topic4\", \"Topic4\", \"Topic4\", \"Topic4\", \"Topic4\", \"Topic4\", \"Topic4\", \"Topic4\", \"Topic4\", \"Topic4\", \"Topic4\", \"Topic4\", \"Topic4\", \"Topic4\", \"Topic4\", \"Topic4\", \"Topic5\", \"Topic5\", \"Topic5\", \"Topic5\", \"Topic5\", \"Topic5\", \"Topic5\", \"Topic5\", \"Topic5\", \"Topic5\", \"Topic5\", \"Topic5\", \"Topic5\", \"Topic5\", \"Topic5\", \"Topic5\", \"Topic5\", \"Topic5\", \"Topic5\", \"Topic5\", \"Topic5\", \"Topic5\", \"Topic5\", \"Topic5\", \"Topic5\", \"Topic5\", \"Topic5\", \"Topic5\", \"Topic5\"], \"logprob\": [10.0, 9.0, 8.0, 7.0, 6.0, 5.0, 4.0, 3.0, 2.0, 1.0, -6.7983, -6.9442, -6.9645, -7.0106, -7.2141, -7.2961, -7.3423, -7.4213, -6.4855, -7.4873, -4.8857, -5.9837, -6.8056, -4.4018, -5.8475, -3.8431, -5.2163, -5.7929, -4.4012, -5.8331, -5.317, -3.458, -4.9365, -5.1854, -3.2026, -4.6162, -4.3753, -4.5571, -4.7386, -4.7067, -6.0933, -6.4447, -6.5289, -6.8324, -6.975, -7.2155, -7.2745, -7.3537, -7.3907, -7.3743, -6.5712, -7.3101, -7.037, -6.3656, -3.9243, -5.6326, -6.2873, -6.3234, -5.8537, -4.9392, -4.9814, -4.96, -2.906, -4.6555, -4.8987, -5.2883, -4.5529, -4.4941, -4.6625, -4.812, -5.0697, -5.9791, -6.1839, -6.2965, -6.531, -6.538, -6.537, -6.603, -6.6707, -6.7248, -4.7393, -4.5896, -5.767, -4.5177, -5.3003, -5.2971, -4.4423, -3.871, -4.5302, -3.1935, -4.009, -4.8017, -4.5567, -5.032, -5.8032, -5.9861, -6.5291, -6.5756, -6.5841, -6.702, -6.708, -6.8028, -6.8557, -6.2981, -5.9863, -3.6174, -4.6407, -5.4063, -2.7548, -5.3662, -5.3162, -3.7783, -4.2296, -4.944, -3.6499, -4.7373, -4.7476, -4.6999, -3.3933, -4.4287, -4.6821, -5.8014, -6.0016, -6.2101, -6.3476, -6.4367, -6.4548, -6.4875, -6.5331, -6.5807, -6.6988, -5.6431, -5.8456, -5.3131, -5.7293, -3.9919, -4.8271, -6.1005, -5.1429, -4.8531, -4.748, -4.4287, -4.9202, -4.3717, -4.1218, -3.7019, -3.3991, -4.3081, -4.6485, -4.4653], \"loglift\": [10.0, 9.0, 8.0, 7.0, 6.0, 5.0, 4.0, 3.0, 2.0, 1.0, 1.369, 1.3685, 1.3684, 1.3683, 1.3675, 1.3671, 1.3667, 1.3663, 1.3659, 1.3656, 1.3457, 1.3504, 1.3586, 1.2417, 1.3005, 1.1775, 1.2365, 1.2749, 1.1248, 1.2413, 1.1618, 0.4352, 0.9367, 0.9804, -0.0245, 0.648, 0.4014, 0.4493, 0.5953, 0.1134, 1.4702, 1.4695, 1.4693, 1.4683, 1.4677, 1.4666, 1.4661, 1.4659, 1.4657, 1.4656, 1.4641, 1.4655, 1.46, 1.446, 1.3521, 1.4151, 1.4279, 1.427, 1.3548, 1.129, 1.0851, 1.0584, 0.2722, 0.848, 0.8472, 1.0028, 0.4534, 0.3966, 0.4977, 0.0081, 1.6267, 1.6257, 1.6253, 1.625, 1.6244, 1.6244, 1.6244, 1.6242, 1.624, 1.6238, 1.6221, 1.5791, 1.5951, 1.3972, 1.4626, 1.413, 1.1504, 0.9057, 1.1004, -0.0154, 0.4317, 0.7138, 0.2635, 1.6352, 1.6345, 1.6341, 1.6329, 1.6327, 1.6326, 1.6323, 1.6322, 1.6318, 1.6317, 1.5809, 1.545, 1.2742, 1.3914, 1.4764, 1.1384, 1.44, 1.4163, 1.0757, 1.1576, 1.2893, 0.7908, 1.1778, 1.1533, 1.0665, -0.2152, 0.7575, 0.9183, 2.0713, 2.0707, 2.0699, 2.0696, 2.0692, 2.0691, 2.069, 2.0688, 2.0685, 2.0679, 2.0593, 2.0598, 2.0465, 2.0489, 1.9297, 1.952, 2.0444, 1.8872, 1.8229, 1.7498, 1.5914, 1.7188, 1.3952, 1.0383, 0.7388, -0.221, 0.5835, 1.088, 0.3887]}, \"token.table\": {\"Topic\": [1, 2, 4, 1, 4, 5, 1, 2, 3, 4, 5, 2, 4, 5, 1, 3, 4, 5, 1, 2, 3, 4, 5, 1, 2, 3, 4, 5, 2, 1, 2, 3, 4, 5, 1, 2, 3, 4, 5, 4, 5, 2, 3, 5, 1, 2, 4, 3, 5, 1, 2, 4, 5, 4, 4, 1, 2, 3, 4, 5, 1, 3, 4, 1, 1, 4, 1, 3, 2, 3, 1, 3, 4, 4, 2, 4, 5, 1, 3, 3, 4, 5, 5, 3, 5, 1, 2, 3, 4, 5, 4, 1, 2, 3, 5, 1, 2, 3, 4, 5, 1, 1, 3, 4, 5, 3, 4, 5, 1, 2, 3, 5, 1, 2, 3, 4, 5, 2, 1, 2, 4, 1, 2, 3, 4, 5, 3, 3, 3, 1, 2, 1, 2, 4, 1, 4, 1, 2, 3, 4, 1, 3, 4, 2, 1, 2, 3, 4, 5, 1, 4, 3, 1, 2, 3, 4, 1, 2, 1, 3, 3, 1, 2, 3, 4, 5, 4, 3, 1, 2, 3, 4, 1, 2, 3, 4, 5, 1, 2, 3, 4, 5, 2, 4, 2, 1, 5, 1, 2, 3, 4, 5, 3, 3, 2, 5, 1, 4, 1, 4, 2, 3, 4, 5, 4, 1, 2, 3, 4, 5, 5, 5, 1, 4, 1, 2, 4, 5, 1, 1, 2, 4, 2, 1, 2, 2, 4, 3, 5, 2, 3, 4, 5, 1, 2, 3, 4, 5, 1, 2, 3, 4, 5, 2, 2, 3, 2, 1, 2, 3, 5, 4, 3, 4, 5, 5, 5, 5, 1, 1, 2, 3, 1, 2, 3, 4, 5, 1, 2, 3, 4, 5, 1, 2, 3, 4, 5, 1, 2, 3, 4, 5, 1, 2, 3, 4, 5, 2, 3, 1, 2, 3, 3, 2, 3, 5, 1, 4, 1, 2, 4, 5, 4, 5, 1, 2, 3, 4, 5, 5, 3, 5, 1, 2, 3, 4, 5, 1], \"Freq\": [0.06039996205788248, 0.3735349608831056, 0.5658700355925638, 0.6761851201530911, 0.2560849897008358, 0.06792038037252031, 0.14131231609220832, 0.040710473334043394, 0.7942456768728273, 0.004305915448793051, 0.01918089609007814, 0.9756326885205006, 0.0026086435521938517, 0.020869148417550814, 0.20504313741999997, 0.5903828267093103, 0.13404400506623562, 0.07040992793589079, 0.011115458222586548, 0.03503479870157026, 0.03193935463958413, 0.6964749139468787, 0.22540460851371708, 0.04173681109687516, 0.08455769520925357, 0.1170798856743511, 0.5710354609163374, 0.18551199477799382, 0.9954381480259121, 0.0073806719153400886, 0.6612213721801738, 0.18060938334008686, 0.03516673089073807, 0.11548580761649785, 0.4629084108080703, 0.08087112338564133, 0.4009422253567348, 0.05382655939628725, 0.001312842912104567, 0.022706652618347478, 0.9763860625889417, 0.2328017208312019, 0.043475020155224454, 0.723648722583736, 0.09831725928485024, 0.0792265293266269, 0.8218559247015151, 0.1336101036545927, 0.865903828109558, 0.16913109660160291, 0.3774623276712596, 0.09827639345512074, 0.35519370668236516, 0.9957652118087237, 0.9970963232154932, 0.24827805567136624, 0.5357306007955812, 0.11441026389871735, 0.06719332959131019, 0.03424524905811948, 0.9739788530833302, 0.025786533341422974, 0.9969693692233741, 0.992024691870124, 0.08672442747789694, 0.9125774982333246, 0.9310681312419758, 0.06852016550265623, 0.029956653665120223, 0.9685984685055538, 0.8774674000182394, 0.08113140967451715, 0.041189792603985635, 0.9974188346074497, 0.9921725638870383, 0.02548519528870675, 0.9720781631549575, 0.9973375715694215, 0.9987487749492586, 0.15747685291473593, 0.14051780721622592, 0.7009738888717476, 0.9945402359012226, 0.024900607593953846, 0.9727837366704635, 0.1556124945518991, 0.341166688597524, 0.1751519134703399, 0.22927188673364718, 0.0989622368243333, 0.9962366120219022, 0.040595719296620196, 0.01193991744018241, 0.11701119091378762, 0.8298242620926775, 0.03821365428820539, 0.08019485195693807, 0.0742744266446809, 0.707221714573266, 0.10064723030837194, 0.9946260795060557, 0.029709033903953727, 0.280547808797563, 0.18230543531971605, 0.5074167949732097, 0.06536369728526244, 0.15586727814177967, 0.7784983945898565, 0.6469533161640995, 0.19187065847931212, 0.10175528071994831, 0.059325957024914514, 0.0013857037392394009, 0.08337317497757063, 0.14665364573616993, 0.6198714726864254, 0.1489631519682356, 0.9972435739503008, 0.19410693603756105, 0.02244774090230298, 0.7830300208862156, 0.028011428237610728, 0.027725597337226945, 0.33442215344902604, 0.48791334695511746, 0.1223356253642591, 0.9991662080255822, 0.9966814178562308, 0.9953316959373364, 0.112674572673568, 0.8871313602610648, 0.02552088993573274, 0.9442729276221113, 0.02916673135512313, 0.9872781090312925, 0.011134715515390517, 0.9075594015248973, 0.002479670495969665, 0.07934945587102928, 0.011158517231863492, 0.033302156861013454, 0.952643517478688, 0.01362360962496005, 0.9919520089994693, 0.48485012343500383, 0.26039760209756946, 0.17359840139837965, 0.04431865070993927, 0.03696624782718437, 0.19685951967606888, 0.8025129067875781, 0.9989473642701272, 0.8734803260046113, 0.014077580081425048, 0.09653197770120034, 0.016759023906458392, 0.9903099828546178, 0.9936960920029061, 0.8776295430471551, 0.12205048728537451, 0.9966890128011944, 0.3787738931067192, 0.01931496011206449, 0.4858841264554405, 0.0005016872756380387, 0.1153880733967489, 0.9993221239029172, 0.997070231983462, 0.09872403078631017, 0.007312891169356309, 0.8482953756453319, 0.044791458412307396, 0.0034059631570122354, 0.0014340897503209414, 0.30250330670832354, 0.4295098802211219, 0.2632450997932878, 0.17704844912027595, 0.7095627277887347, 0.09719412284180097, 0.011864071332801996, 0.004106793922892999, 0.9936007390806277, 0.9947463114410504, 0.9967500419782177, 0.9969334955611909, 0.994737008984172, 0.26217083851655204, 0.5355822930602955, 0.13092011608140555, 0.002644850829927385, 0.068766121578112, 0.9961352429345374, 0.9980555934739364, 0.9955446044914521, 0.9982841817857185, 0.9790403906744503, 0.021037231535153477, 0.9982947105416734, 0.9943725504964455, 0.03111079250391805, 0.24102677139877565, 0.3543355525183088, 0.37332951004701664, 0.9974316809812369, 0.2839957917869502, 0.23133605548697145, 0.25570100810337953, 0.13191132948775777, 0.09693583299001068, 0.9942259321132844, 0.9946548572605437, 0.9935474584819994, 0.00542922108460109, 0.8105101015976658, 0.08394077452879051, 0.10526998772872909, 0.9944472347879898, 0.9964196900805309, 0.3918649707157779, 0.00015552254427137635, 0.6079376255568101, 0.9965907289371716, 0.0426430611258031, 0.9570998163791362, 0.05302135797187522, 0.9460126501297736, 0.9947219426723327, 0.004894080898756864, 0.013917481662005246, 0.059584218365459955, 0.3087941243757414, 0.6175882487514828, 0.01566206416713842, 0.15505443525467036, 0.07008773714794443, 0.6323558407482137, 0.1268627197538212, 0.2378197336709638, 0.6256312897770918, 0.031937422267563485, 0.053038933408632215, 0.05132800007286988, 0.9973969317073023, 0.9888222578596823, 0.010354159768164211, 0.9974350681536992, 0.3684444911026982, 0.005672740432682036, 0.6205978033354147, 0.005105466389413832, 0.9979523934547285, 0.06781284862545375, 0.04551821346092101, 0.885282804658321, 0.9976918301885435, 0.995467505980258, 0.9966151125334293, 0.9971620584920285, 0.7809429718825761, 0.06368546151947614, 0.1552333124537231, 0.20955593615368504, 0.6792345669677052, 0.07334457765378977, 0.029155608508338787, 0.009111127658855871, 0.24745005121623034, 0.30126118143562375, 0.1934360515143887, 0.1570463381002372, 0.10080077409146501, 0.04554987974735008, 0.011580477901868664, 0.10962852413769002, 0.6172394721695998, 0.21578290490481944, 0.39735291600009703, 0.3612155777300326, 0.18321157088010828, 0.00015780497061163503, 0.05807222918508169, 0.45980408624700975, 0.3312778964246313, 0.12611769222775124, 0.01861111777666468, 0.06393466342101278, 0.9918096489587772, 0.006525063479991955, 0.12658620553446778, 0.0658941891823257, 0.8072038174834898, 0.9956009379070866, 0.9570588161360316, 0.009815987857805453, 0.03190196053786772, 0.1473531076081296, 0.8521749649784838, 0.0057090635629111425, 0.8891866499234105, 0.0028545317814555713, 0.10133587824167278, 0.01169381088540855, 0.9869576387284815, 0.06913906461511525, 0.11277601523285191, 0.24179782160477464, 0.4154011013350777, 0.1609466750056781, 0.9960140609084918, 0.011460952592585961, 0.9856419229623926, 0.8232388281523397, 0.08083523395234912, 0.0832362805053892, 0.0004802093106080146, 0.012325372305605709, 0.9978025587823041], \"Term\": [\"aangeefster\", \"aangeefster\", \"aangeefster\", \"aangever\", \"aangever\", \"aangever\", \"aantreffen\", \"aantreffen\", \"aantreffen\", \"aantreffen\", \"aantreffen\", \"aanvulling\", \"aanvulling\", \"aanvulling\", \"adres\", \"adres\", \"adres\", \"adres\", \"althans\", \"althans\", \"althans\", \"althans\", \"althans\", \"ander\", \"ander\", \"ander\", \"ander\", \"ander\", \"arrest\", \"artikel\", \"artikel\", \"artikel\", \"artikel\", \"artikel\", \"auto\", \"auto\", \"auto\", \"auto\", \"auto\", \"bankrekening\", \"bankrekening\", \"bedrag\", \"bedrag\", \"bedrag\", \"bedreiging\", \"bedreiging\", \"bedreiging\", \"bedrijf\", \"bedrijf\", \"benadelen\", \"benadelen\", \"benadelen\", \"benadelen\", \"bereiden_gemakkelijk\", \"betrapping\", \"bewijzen\", \"bewijzen\", \"bewijzen\", \"bewijzen\", \"bewijzen\", \"bijnaam\", \"bijnaam\", \"billen\", \"bivakmuts\", \"borst\", \"borst\", \"camerabeeld\", \"camerabeeld\", \"cocaine\", \"cocaine\", \"dader\", \"dader\", \"dader\", \"dele_toebehorenen\", \"diamant\", \"document\", \"document\", \"donker\", \"doorzoeking\", \"euro\", \"euro\", \"euro\", \"euro_geboekt\", \"factuur\", \"factuur\", \"feit\", \"feit\", \"feit\", \"feit\", \"feit\", \"feitelijkheid\", \"gegeven\", \"gegeven\", \"gegeven\", \"gegeven\", \"geheel\", \"geheel\", \"geheel\", \"geheel\", \"geheel\", \"geit\", \"geld\", \"geld\", \"geld\", \"geld\", \"geldbedrag\", \"geldbedrag\", \"geldbedrag\", \"getuige\", \"getuige\", \"getuige\", \"getuige\", \"geval\", \"geval\", \"geval\", \"geval\", \"geval\", \"gevangenisstraf\", \"geweld\", \"geweld\", \"geweld\", \"goed\", \"goed\", \"goed\", \"goed\", \"goed\", \"gram\", \"hennep\", \"hennepplant\", \"hof\", \"hof\", \"hoger_beroep\", \"hoger_beroep\", \"hoger_beroep\", \"incident\", \"incident\", \"jongen\", \"jongen\", \"jongen\", \"jongen\", \"kenteken\", \"kenteken\", \"kenteken\", \"koerier\", \"komen\", \"komen\", \"komen\", \"komen\", \"komen\", \"lichaam\", \"lichaam\", \"loods\", \"lopen\", \"lopen\", \"lopen\", \"lopen\", \"luik\", \"maatregel\", \"man\", \"man\", \"materiaal_bevattenen\", \"medeverdacht\", \"medeverdacht\", \"medeverdacht\", \"medeverdacht\", \"medeverdacht\", \"meisje\", \"mercedes_sprinter\", \"merk\", \"merk\", \"merk\", \"merk\", \"naam\", \"naam\", \"naam\", \"naam\", \"naam\", \"omstandigheid\", \"omstandigheid\", \"omstandigheid\", \"omstandigheid\", \"omstandigheid\", \"ongeval\", \"ontuchtige_handeling\", \"ontvankelijk\", \"ontvoering\", \"onvervalst\", \"oordeel\", \"oordeel\", \"oordeel\", \"oordeel\", \"oordeel\", \"opiumwet\", \"opiumwet_behorenen\", \"opleggen\", \"oplichting\", \"overval\", \"overval\", \"overvaller\", \"penis\", \"periode\", \"periode\", \"periode\", \"periode\", \"pinpas\", \"rechtbank\", \"rechtbank\", \"rechtbank\", \"rechtbank\", \"rechtbank\", \"rechtspersoon\", \"rekeningnummer\", \"rennen\", \"rennen\", \"richting\", \"richting\", \"richting\", \"samenweefsel\", \"schot\", \"slachtoffer\", \"slachtoffer\", \"slachtoffer\", \"straf\", \"strafbaarheid\", \"strafbaarheid\", \"strekking\", \"strekking\", \"telefoonnummer\", \"telefoonnummer\", \"telkens\", \"telkens\", \"telkens\", \"telkens\", \"tenlastelegging\", \"tenlastelegging\", \"tenlastelegging\", \"tenlastelegging\", \"tenlastelegging\", \"terechtzitting\", \"terechtzitting\", \"terechtzitting\", \"terechtzitting\", \"terechtzitting\", \"tijdig\", \"uitlating\", \"uitlating\", \"undercover_agenten\", \"uur\", \"uur\", \"uur\", \"uur\", \"vagina\", \"vals\", \"vals\", \"vals\", \"valse_hoedanigheid\", \"valselijk\", \"valsheid\", \"vastbinden\", \"verbalisant\", \"verbalisant\", \"verbalisant\", \"verdediging\", \"verdediging\", \"verdediging\", \"verdediging\", \"verdediging\", \"verdenken\", \"verdenken\", \"verdenken\", \"verdenken\", \"verdenken\", \"vereniging\", \"vereniging\", \"vereniging\", \"vereniging\", \"vereniging\", \"verklaren\", \"verklaren\", \"verklaren\", \"verklaren\", \"verklaren\", \"verklaring\", \"verklaring\", \"verklaring\", \"verklaring\", \"verklaring\", \"veroordelen\", \"veroordelen\", \"voertuig\", \"voertuig\", \"voertuig\", \"volkswagen\", \"vonnis\", \"vonnis\", \"vonnis\", \"voorgenomen_misdrijf\", \"voorgenomen_misdrijf\", \"vordering\", \"vordering\", \"vordering\", \"vordering\", \"website\", \"website\", \"weten\", \"weten\", \"weten\", \"weten\", \"weten\", \"www_website\", \"zegel\", \"zegel\", \"zien\", \"zien\", \"zien\", \"zien\", \"zien\", \"zover_inhoudenen\"]}, \"R\": 10, \"lambda.step\": 0.01, \"plot.opts\": {\"xlab\": \"PC1\", \"ylab\": \"PC2\"}, \"topic.order\": [1, 4, 3, 2, 5]};\n",
       "\n",
       "function LDAvis_load_lib(url, callback){\n",
       "  var s = document.createElement('script');\n",
       "  s.src = url;\n",
       "  s.async = true;\n",
       "  s.onreadystatechange = s.onload = callback;\n",
       "  s.onerror = function(){console.warn(\"failed to load library \" + url);};\n",
       "  document.getElementsByTagName(\"head\")[0].appendChild(s);\n",
       "}\n",
       "\n",
       "if(typeof(LDAvis) !== \"undefined\"){\n",
       "   // already loaded: just create the visualization\n",
       "   !function(LDAvis){\n",
       "       new LDAvis(\"#\" + \"ldavis_el30321404934991563044205962469\", ldavis_el30321404934991563044205962469_data);\n",
       "   }(LDAvis);\n",
       "}else if(typeof define === \"function\" && define.amd){\n",
       "   // require.js is available: use it to load d3/LDAvis\n",
       "   require.config({paths: {d3: \"https://d3js.org/d3.v5\"}});\n",
       "   require([\"d3\"], function(d3){\n",
       "      window.d3 = d3;\n",
       "      LDAvis_load_lib(\"https://cdn.jsdelivr.net/gh/bmabey/pyLDAvis@3.3.1/pyLDAvis/js/ldavis.v3.0.0.js\", function(){\n",
       "        new LDAvis(\"#\" + \"ldavis_el30321404934991563044205962469\", ldavis_el30321404934991563044205962469_data);\n",
       "      });\n",
       "    });\n",
       "}else{\n",
       "    // require.js not available: dynamically load d3 & LDAvis\n",
       "    LDAvis_load_lib(\"https://d3js.org/d3.v5.js\", function(){\n",
       "         LDAvis_load_lib(\"https://cdn.jsdelivr.net/gh/bmabey/pyLDAvis@3.3.1/pyLDAvis/js/ldavis.v3.0.0.js\", function(){\n",
       "                 new LDAvis(\"#\" + \"ldavis_el30321404934991563044205962469\", ldavis_el30321404934991563044205962469_data);\n",
       "            })\n",
       "         });\n",
       "}\n",
       "</script>"
      ],
      "text/plain": [
       "PreparedData(topic_coordinates=              x         y  topics  cluster       Freq\n",
       "topic                                                \n",
       "0     -0.160866 -0.095458       1        1  25.358271\n",
       "3     -0.117132  0.096950       2        1  22.948886\n",
       "2     -0.038200  0.051119       3        1  19.644164\n",
       "1      0.139162 -0.191866       4        1  19.475370\n",
       "4      0.177036  0.139255       5        1  12.573309, topic_info=            Term          Freq         Total Category  logprob  loglift\n",
       "975  slachtoffer  19289.000000  19289.000000  Default  10.0000  10.0000\n",
       "61          naam  11156.000000  11156.000000  Default   9.0000   9.0000\n",
       "581      althans   7107.000000   7107.000000  Default   8.0000   8.0000\n",
       "310          hof   4836.000000   4836.000000  Default   7.0000   7.0000\n",
       "750      bedrijf   2537.000000   2537.000000  Default   6.0000   6.0000\n",
       "..           ...           ...           ...      ...      ...      ...\n",
       "61          naam   2936.612465  11156.902834   Topic5  -3.7019   0.7388\n",
       "110    verdenken   3974.950086  39434.220975   Topic5  -3.3991  -0.2210\n",
       "581      althans   1601.618543   7107.219371   Topic5  -4.3081   0.5835\n",
       "77       periode   1139.603024   3053.602700   Topic5  -4.6485   1.0880\n",
       "163        ander   1368.659506   7379.576731   Topic5  -4.4653   0.3887\n",
       "\n",
       "[150 rows x 6 columns], token_table=      Topic      Freq              Term\n",
       "term                                   \n",
       "0         1  0.060400       aangeefster\n",
       "0         2  0.373535       aangeefster\n",
       "0         4  0.565870       aangeefster\n",
       "721       1  0.676185          aangever\n",
       "721       4  0.256085          aangever\n",
       "...     ...       ...               ...\n",
       "569       2  0.080835              zien\n",
       "569       3  0.083236              zien\n",
       "569       4  0.000480              zien\n",
       "569       5  0.012325              zien\n",
       "3353      1  0.997803  zover_inhoudenen\n",
       "\n",
       "[318 rows x 3 columns], R=10, lambda_step=0.01, plot_opts={'xlab': 'PC1', 'ylab': 'PC2'}, topic_order=[1, 4, 3, 2, 5])"
      ]
     },
     "execution_count": 19,
     "metadata": {},
     "output_type": "execute_result"
    }
   ],
   "source": [
    "# Visualize the topics\n",
    "pyLDAvis.enable_notebook()\n",
    "vis = gensimvis.prepare(lda_model, corpus, id2word, R = 10)\n",
    "vis"
   ]
  },
  {
   "cell_type": "markdown",
   "metadata": {},
   "source": [
    "# How to find the optimal number fo topics for LDA?"
   ]
  },
  {
   "cell_type": "code",
   "execution_count": 20,
   "metadata": {},
   "outputs": [],
   "source": [
    "def compute_coherence_values(dictionary, corpus, texts, limit, start=2, step=3):\n",
    "    \"\"\"\n",
    "    Compute c_v coherence for various number of topics\n",
    "\n",
    "    Parameters:\n",
    "    ----------\n",
    "    dictionary : Gensim dictionary\n",
    "    corpus : Gensim corpus\n",
    "    texts : List of input texts\n",
    "    limit : Max num of topics\n",
    "\n",
    "    Returns:\n",
    "    -------\n",
    "    model_list : List of LDA topic models\n",
    "    coherence_values : Coherence values corresponding to the LDA model with respective number of topics\n",
    "    \"\"\"\n",
    "    coherence_values = []\n",
    "    model_list = []\n",
    "    for num_topics in range(start, limit, step):\n",
    "        model = gensim.models.ldamodel.LdaModel(corpus=corpus, num_topics=num_topics, id2word=id2word)\n",
    "        model_list.append(model)\n",
    "        coherencemodel = CoherenceModel(model=model, texts=texts, dictionary=dictionary, coherence='c_v')\n",
    "        coherence_values.append(coherencemodel.get_coherence())\n",
    "\n",
    "    return model_list, coherence_values\n"
   ]
  },
  {
   "cell_type": "code",
   "execution_count": 21,
   "metadata": {},
   "outputs": [],
   "source": [
    "# Can take a long time to run.\n",
    "model_list, coherence_values = compute_coherence_values(dictionary=id2word, corpus=corpus, texts=data_lemmatized, start=2, limit=15, step=1)  # 2,40,6"
   ]
  },
  {
   "cell_type": "code",
   "execution_count": 22,
   "metadata": {},
   "outputs": [
    {
     "data": {
      "image/png": "[encoded data removed]",
      "text/plain": [
       "<Figure size 432x288 with 1 Axes>"
      ]
     },
     "metadata": {
      "needs_background": "light"
     },
     "output_type": "display_data"
    }
   ],
   "source": [
    "# Show graph\n",
    "\n",
    "plt.plot(coherence_values)\n",
    "plt.xlabel(\"Num Topics\")\n",
    "plt.ylabel(\"Coherence score\")\n",
    "plt.legend((\"coherence_values\"), loc='best')\n",
    "plt.show()"
   ]
  },
  {
   "cell_type": "markdown",
   "metadata": {},
   "source": [
    "# TF-IDF"
   ]
  },
  {
   "cell_type": "code",
   "execution_count": 23,
   "metadata": {},
   "outputs": [],
   "source": [
    "from sklearn.feature_extraction.text import TfidfVectorizer\n",
    "from sklearn.preprocessing import Normalizer\n",
    "from sklearn.cluster import KMeans\n",
    "from sklearn import metrics\n",
    "from sklearn.metrics.pairwise import cosine_distances"
   ]
  },
  {
   "cell_type": "code",
   "execution_count": 24,
   "metadata": {},
   "outputs": [],
   "source": [
    "sample = list(df['bete'])"
   ]
  },
  {
   "cell_type": "markdown",
   "metadata": {},
   "source": [
    "# Implementation"
   ]
  },
  {
   "cell_type": "code",
   "execution_count": 25,
   "metadata": {},
   "outputs": [],
   "source": [
    "dat_lem_untok = [\" \".join(x) for x in data_lemmatized]\n",
    "tfidf_vectorizer = TfidfVectorizer(input=dat_lem_untok, stop_words=stop_words)"
   ]
  },
  {
   "cell_type": "code",
   "execution_count": 26,
   "metadata": {},
   "outputs": [
    {
     "name": "stderr",
     "output_type": "stream",
     "text": [
      "/opt/anaconda3/lib/python3.7/site-packages/sklearn/feature_extraction/text.py:391: UserWarning: Your stop_words may be inconsistent with your preprocessing. Tokenizing the stop words generated tokens ['tenlastelegging'] not in stop_words.\n",
      "  'stop_words.' % sorted(inconsistent))\n"
     ]
    }
   ],
   "source": [
    "tfidf_vector = tfidf_vectorizer.fit_transform(dat_lem_untok)"
   ]
  },
  {
   "cell_type": "code",
   "execution_count": 27,
   "metadata": {},
   "outputs": [],
   "source": [
    "tfidf_df = pd.DataFrame(tfidf_vector.toarray(), columns=tfidf_vectorizer.get_feature_names())"
   ]
  },
  {
   "cell_type": "code",
   "execution_count": 28,
   "metadata": {},
   "outputs": [
    {
     "data": {
      "text/html": [
       "<div>\n",
       "<style scoped>\n",
       "    .dataframe tbody tr th:only-of-type {\n",
       "        vertical-align: middle;\n",
       "    }\n",
       "\n",
       "    .dataframe tbody tr th {\n",
       "        vertical-align: top;\n",
       "    }\n",
       "\n",
       "    .dataframe thead th {\n",
       "        text-align: right;\n",
       "    }\n",
       "</style>\n",
       "<table border=\"1\" class=\"dataframe\">\n",
       "  <thead>\n",
       "    <tr style=\"text-align: right;\">\n",
       "      <th></th>\n",
       "      <th>level_0</th>\n",
       "      <th>level_1</th>\n",
       "      <th>0</th>\n",
       "    </tr>\n",
       "  </thead>\n",
       "  <tbody>\n",
       "    <tr>\n",
       "      <th>0</th>\n",
       "      <td>0</td>\n",
       "      <td>aa</td>\n",
       "      <td>0.0</td>\n",
       "    </tr>\n",
       "    <tr>\n",
       "      <th>1</th>\n",
       "      <td>0</td>\n",
       "      <td>aa_flesje</td>\n",
       "      <td>0.0</td>\n",
       "    </tr>\n",
       "    <tr>\n",
       "      <th>2</th>\n",
       "      <td>0</td>\n",
       "      <td>aaan</td>\n",
       "      <td>0.0</td>\n",
       "    </tr>\n",
       "    <tr>\n",
       "      <th>3</th>\n",
       "      <td>0</td>\n",
       "      <td>aaei</td>\n",
       "      <td>0.0</td>\n",
       "    </tr>\n",
       "    <tr>\n",
       "      <th>4</th>\n",
       "      <td>0</td>\n",
       "      <td>aafe</td>\n",
       "      <td>0.0</td>\n",
       "    </tr>\n",
       "    <tr>\n",
       "      <th>...</th>\n",
       "      <td>...</td>\n",
       "      <td>...</td>\n",
       "      <td>...</td>\n",
       "    </tr>\n",
       "    <tr>\n",
       "      <th>30914795</th>\n",
       "      <td>1447</td>\n",
       "      <td>zwoll</td>\n",
       "      <td>0.0</td>\n",
       "    </tr>\n",
       "    <tr>\n",
       "      <th>30914796</th>\n",
       "      <td>1447</td>\n",
       "      <td>zwolle</td>\n",
       "      <td>0.0</td>\n",
       "    </tr>\n",
       "    <tr>\n",
       "      <th>30914797</th>\n",
       "      <td>1447</td>\n",
       "      <td>zwz</td>\n",
       "      <td>0.0</td>\n",
       "    </tr>\n",
       "    <tr>\n",
       "      <th>30914798</th>\n",
       "      <td>1447</td>\n",
       "      <td>zygoma</td>\n",
       "      <td>0.0</td>\n",
       "    </tr>\n",
       "    <tr>\n",
       "      <th>30914799</th>\n",
       "      <td>1447</td>\n",
       "      <td>één</td>\n",
       "      <td>0.0</td>\n",
       "    </tr>\n",
       "  </tbody>\n",
       "</table>\n",
       "<p>30914800 rows × 3 columns</p>\n",
       "</div>"
      ],
      "text/plain": [
       "          level_0    level_1    0\n",
       "0               0         aa  0.0\n",
       "1               0  aa_flesje  0.0\n",
       "2               0       aaan  0.0\n",
       "3               0       aaei  0.0\n",
       "4               0       aafe  0.0\n",
       "...           ...        ...  ...\n",
       "30914795     1447      zwoll  0.0\n",
       "30914796     1447     zwolle  0.0\n",
       "30914797     1447        zwz  0.0\n",
       "30914798     1447     zygoma  0.0\n",
       "30914799     1447        één  0.0\n",
       "\n",
       "[30914800 rows x 3 columns]"
      ]
     },
     "execution_count": 28,
     "metadata": {},
     "output_type": "execute_result"
    }
   ],
   "source": [
    "tfidf_df.stack().reset_index()"
   ]
  },
  {
   "cell_type": "code",
   "execution_count": 29,
   "metadata": {},
   "outputs": [],
   "source": [
    "tfidf_df = tfidf_df.stack().reset_index()\n",
    "tfidf_df = tfidf_df.rename(columns={0:'tfidf', 'level_0': 'document','level_1': 'term', 'level_2': 'term'})\n",
    "tfidf_df.sort_values(by=['document','tfidf'], ascending=[True,False]).groupby(['document']).head(10)\n",
    "top_tfidf = tfidf_df.sort_values(by=['document','tfidf'], ascending=[True,False]).groupby(['document']).head(10)"
   ]
  },
  {
   "cell_type": "code",
   "execution_count": 30,
   "metadata": {},
   "outputs": [
    {
     "data": {
      "text/html": [
       "<div>\n",
       "<style scoped>\n",
       "    .dataframe tbody tr th:only-of-type {\n",
       "        vertical-align: middle;\n",
       "    }\n",
       "\n",
       "    .dataframe tbody tr th {\n",
       "        vertical-align: top;\n",
       "    }\n",
       "\n",
       "    .dataframe thead th {\n",
       "        text-align: right;\n",
       "    }\n",
       "</style>\n",
       "<table border=\"1\" class=\"dataframe\">\n",
       "  <thead>\n",
       "    <tr style=\"text-align: right;\">\n",
       "      <th></th>\n",
       "      <th>document</th>\n",
       "      <th>term</th>\n",
       "      <th>tfidf</th>\n",
       "    </tr>\n",
       "  </thead>\n",
       "  <tbody>\n",
       "    <tr>\n",
       "      <th>29008</th>\n",
       "      <td>1</td>\n",
       "      <td>hof</td>\n",
       "      <td>0.175662</td>\n",
       "    </tr>\n",
       "    <tr>\n",
       "      <th>71708</th>\n",
       "      <td>3</td>\n",
       "      <td>hof</td>\n",
       "      <td>0.527818</td>\n",
       "    </tr>\n",
       "    <tr>\n",
       "      <th>93058</th>\n",
       "      <td>4</td>\n",
       "      <td>hof</td>\n",
       "      <td>0.197094</td>\n",
       "    </tr>\n",
       "    <tr>\n",
       "      <th>114408</th>\n",
       "      <td>5</td>\n",
       "      <td>hof</td>\n",
       "      <td>0.155718</td>\n",
       "    </tr>\n",
       "    <tr>\n",
       "      <th>199808</th>\n",
       "      <td>9</td>\n",
       "      <td>hof</td>\n",
       "      <td>0.272591</td>\n",
       "    </tr>\n",
       "    <tr>\n",
       "      <th>...</th>\n",
       "      <td>...</td>\n",
       "      <td>...</td>\n",
       "      <td>...</td>\n",
       "    </tr>\n",
       "    <tr>\n",
       "      <th>29897658</th>\n",
       "      <td>1400</td>\n",
       "      <td>hof</td>\n",
       "      <td>0.231139</td>\n",
       "    </tr>\n",
       "    <tr>\n",
       "      <th>30196558</th>\n",
       "      <td>1414</td>\n",
       "      <td>hof</td>\n",
       "      <td>0.315010</td>\n",
       "    </tr>\n",
       "    <tr>\n",
       "      <th>30217908</th>\n",
       "      <td>1415</td>\n",
       "      <td>hof</td>\n",
       "      <td>0.186256</td>\n",
       "    </tr>\n",
       "    <tr>\n",
       "      <th>30708958</th>\n",
       "      <td>1438</td>\n",
       "      <td>hof</td>\n",
       "      <td>0.275683</td>\n",
       "    </tr>\n",
       "    <tr>\n",
       "      <th>30858408</th>\n",
       "      <td>1445</td>\n",
       "      <td>hof</td>\n",
       "      <td>0.182395</td>\n",
       "    </tr>\n",
       "  </tbody>\n",
       "</table>\n",
       "<p>157 rows × 3 columns</p>\n",
       "</div>"
      ],
      "text/plain": [
       "          document term     tfidf\n",
       "29008            1  hof  0.175662\n",
       "71708            3  hof  0.527818\n",
       "93058            4  hof  0.197094\n",
       "114408           5  hof  0.155718\n",
       "199808           9  hof  0.272591\n",
       "...            ...  ...       ...\n",
       "29897658      1400  hof  0.231139\n",
       "30196558      1414  hof  0.315010\n",
       "30217908      1415  hof  0.186256\n",
       "30708958      1438  hof  0.275683\n",
       "30858408      1445  hof  0.182395\n",
       "\n",
       "[157 rows x 3 columns]"
      ]
     },
     "execution_count": 30,
     "metadata": {},
     "output_type": "execute_result"
    }
   ],
   "source": [
    "top_tfidf[top_tfidf['term'].str.contains('hof')]"
   ]
  },
  {
   "cell_type": "code",
   "execution_count": 31,
   "metadata": {},
   "outputs": [
    {
     "data": {
      "text/html": [
       "\n",
       "<div id=\"altair-viz-e3dc14480f9c4e35b010c7147aa82df5\"></div>\n",
       "<script type=\"text/javascript\">\n",
       "  var VEGA_DEBUG = (typeof VEGA_DEBUG == \"undefined\") ? {} : VEGA_DEBUG;\n",
       "  (function(spec, embedOpt){\n",
       "    let outputDiv = document.currentScript.previousElementSibling;\n",
       "    if (outputDiv.id !== \"altair-viz-e3dc14480f9c4e35b010c7147aa82df5\") {\n",
       "      outputDiv = document.getElementById(\"altair-viz-e3dc14480f9c4e35b010c7147aa82df5\");\n",
       "    }\n",
       "    const paths = {\n",
       "      \"vega\": \"https://cdn.jsdelivr.net/npm//vega@5?noext\",\n",
       "      \"vega-lib\": \"https://cdn.jsdelivr.net/npm//vega-lib?noext\",\n",
       "      \"vega-lite\": \"https://cdn.jsdelivr.net/npm//vega-lite@4.17.0?noext\",\n",
       "      \"vega-embed\": \"https://cdn.jsdelivr.net/npm//vega-embed@6?noext\",\n",
       "    };\n",
       "\n",
       "    function maybeLoadScript(lib, version) {\n",
       "      var key = `${lib.replace(\"-\", \"\")}_version`;\n",
       "      return (VEGA_DEBUG[key] == version) ?\n",
       "        Promise.resolve(paths[lib]) :\n",
       "        new Promise(function(resolve, reject) {\n",
       "          var s = document.createElement('script');\n",
       "          document.getElementsByTagName(\"head\")[0].appendChild(s);\n",
       "          s.async = true;\n",
       "          s.onload = () => {\n",
       "            VEGA_DEBUG[key] = version;\n",
       "            return resolve(paths[lib]);\n",
       "          };\n",
       "          s.onerror = () => reject(`Error loading script: ${paths[lib]}`);\n",
       "          s.src = paths[lib];\n",
       "        });\n",
       "    }\n",
       "\n",
       "    function showError(err) {\n",
       "      outputDiv.innerHTML = `<div class=\"error\" style=\"color:red;\">${err}</div>`;\n",
       "      throw err;\n",
       "    }\n",
       "\n",
       "    function displayChart(vegaEmbed) {\n",
       "      vegaEmbed(outputDiv, spec, embedOpt)\n",
       "        .catch(err => showError(`Javascript Error: ${err.message}<br>This usually means there's a typo in your chart specification. See the javascript console for the full traceback.`));\n",
       "    }\n",
       "\n",
       "    if(typeof define === \"function\" && define.amd) {\n",
       "      requirejs.config({paths});\n",
       "      require([\"vega-embed\"], displayChart, err => showError(`Error loading script: ${err.message}`));\n",
       "    } else {\n",
       "      maybeLoadScript(\"vega\", \"5\")\n",
       "        .then(() => maybeLoadScript(\"vega-lite\", \"4.17.0\"))\n",
       "        .then(() => maybeLoadScript(\"vega-embed\", \"6\"))\n",
       "        .catch(showError)\n",
       "        .then(() => displayChart(vegaEmbed));\n",
       "    }\n",
       "  })({\"config\": {\"view\": {\"continuousWidth\": 400, \"continuousHeight\": 300}}, \"layer\": [{\"mark\": \"rect\", \"encoding\": {\"color\": {\"field\": \"tfidf\", \"type\": \"quantitative\"}, \"x\": {\"field\": \"rank\", \"type\": \"ordinal\"}, \"y\": {\"field\": \"document\", \"type\": \"nominal\"}}, \"transform\": [{\"window\": [{\"op\": \"rank\", \"field\": \"\", \"as\": \"rank\"}], \"groupby\": [\"document\"], \"sort\": [{\"field\": \"tfidf\", \"order\": \"descending\"}]}]}, {\"mark\": {\"type\": \"circle\", \"size\": 100}, \"encoding\": {\"color\": {\"condition\": {\"value\": \"red\", \"test\": {\"field\": \"term\", \"oneOf\": [\"benadelen\", \"kasboek\", \"hof\"]}}, \"value\": \"#FFFFFF00\"}, \"x\": {\"field\": \"rank\", \"type\": \"ordinal\"}, \"y\": {\"field\": \"document\", \"type\": \"nominal\"}}, \"transform\": [{\"window\": [{\"op\": \"rank\", \"field\": \"\", \"as\": \"rank\"}], \"groupby\": [\"document\"], \"sort\": [{\"field\": \"tfidf\", \"order\": \"descending\"}]}]}, {\"mark\": {\"type\": \"text\", \"baseline\": \"middle\"}, \"encoding\": {\"color\": {\"condition\": {\"value\": \"white\", \"test\": \"(datum.tfidf >= 0.23)\"}, \"value\": \"black\"}, \"text\": {\"field\": \"term\", \"type\": \"nominal\"}, \"x\": {\"field\": \"rank\", \"type\": \"ordinal\"}, \"y\": {\"field\": \"document\", \"type\": \"nominal\"}}, \"transform\": [{\"window\": [{\"op\": \"rank\", \"field\": \"\", \"as\": \"rank\"}], \"groupby\": [\"document\"], \"sort\": [{\"field\": \"tfidf\", \"order\": \"descending\"}]}]}], \"data\": {\"name\": \"data-d10df1ea809c142b74e1d2777cc0bc99\"}, \"width\": 1200, \"$schema\": \"https://vega.github.io/schema/vega-lite/v4.17.0.json\", \"datasets\": {\"data-d10df1ea809c142b74e1d2777cc0bc99\": [{\"document\": 0, \"term\": \"kind\", \"tfidf\": 0.3760298263403794}, {\"document\": 0, \"term\": \"tandarts\", \"tfidf\": 0.2693618978963659}, {\"document\": 0, \"term\": \"minderjarig\", \"tfidf\": 0.25249029770891}, {\"document\": 0, \"term\": \"leerkracht\", \"tfidf\": 0.22971379246187879}, {\"document\": 0, \"term\": \"trein\", \"tfidf\": 0.2249732176720198}, {\"document\": 0, \"term\": \"aangeefster\", \"tfidf\": 0.19715192910401722}, {\"document\": 0, \"term\": \"school\", \"tfidf\": 0.19434893434514397}, {\"document\": 0, \"term\": \"verdenken\", \"tfidf\": 0.194085805727052}, {\"document\": 0, \"term\": \"geboorteplaats\", \"tfidf\": 0.1919383461495045}, {\"document\": 0, \"term\": \"naam\", \"tfidf\": 0.16935490178064733}, {\"document\": 1, \"term\": \"verbalisant\", \"tfidf\": 0.4263913902716458}, {\"document\": 1, \"term\": \"verdenken\", \"tfidf\": 0.2413300184976749}, {\"document\": 1, \"term\": \"camerabeeld\", \"tfidf\": 0.19563115158226793}, {\"document\": 1, \"term\": \"nek\", \"tfidf\": 0.17977023107712464}, {\"document\": 1, \"term\": \"hof\", \"tfidf\": 0.1757259606938632}, {\"document\": 1, \"term\": \"zaak\", \"tfidf\": 0.15944994406152502}, {\"document\": 1, \"term\": \"onjuistheid\", \"tfidf\": 0.15486074871976738}, {\"document\": 1, \"term\": \"vervolging\", \"tfidf\": 0.13447522375873505}, {\"document\": 1, \"term\": \"aanhouden\", \"tfidf\": 0.13025915953444914}, {\"document\": 1, \"term\": \"beeldmateriaal\", \"tfidf\": 0.11813493390971759}, {\"document\": 2, \"term\": \"ofeen_hoeveelheid\", \"tfidf\": 0.4284654890816038}, {\"document\": 2, \"term\": \"materiaal_bevattenen\", \"tfidf\": 0.42817310953706694}, {\"document\": 2, \"term\": \"lsd\", \"tfidf\": 0.38717904409696724}, {\"document\": 2, \"term\": \"amfetamine\", \"tfidf\": 0.27863391073567034}, {\"document\": 2, \"term\": \"cb\", \"tfidf\": 0.27428413487292663}, {\"document\": 2, \"term\": \"cocaine\", \"tfidf\": 0.21924256750260868}, {\"document\": 2, \"term\": \"drug\", \"tfidf\": 0.1438979657063381}, {\"document\": 2, \"term\": \"aanwezig\", \"tfidf\": 0.13716637867926104}, {\"document\": 2, \"term\": \"opzettelijk\", \"tfidf\": 0.1309361371467584}, {\"document\": 2, \"term\": \"ghb\", \"tfidf\": 0.12605936231135775}, {\"document\": 3, \"term\": \"hof\", \"tfidf\": 0.5279104290131751}, {\"document\": 3, \"term\": \"verdenken\", \"tfidf\": 0.19775574802969087}, {\"document\": 3, \"term\": \"artikel\", \"tfidf\": 0.1827958470863528}, {\"document\": 3, \"term\": \"strafbaarheid\", \"tfidf\": 0.16792282954337084}, {\"document\": 3, \"term\": \"feit\", \"tfidf\": 0.15697216986707488}, {\"document\": 3, \"term\": \"arrest\", \"tfidf\": 0.15092697738846547}, {\"document\": 3, \"term\": \"afval\", \"tfidf\": 0.14693739613134355}, {\"document\": 3, \"term\": \"omstandigheid\", \"tfidf\": 0.12083944609247435}, {\"document\": 3, \"term\": \"strafbaar\", \"tfidf\": 0.11024533830647147}, {\"document\": 3, \"term\": \"hoger_beroep\", \"tfidf\": 0.1083190532557825}, {\"document\": 4, \"term\": \"benadelen\", \"tfidf\": 0.756892701954789}, {\"document\": 4, \"term\": \"revolver\", \"tfidf\": 0.27294467527126914}, {\"document\": 4, \"term\": \"hof\", \"tfidf\": 0.19714697401032844}, {\"document\": 4, \"term\": \"wapen\", \"tfidf\": 0.13994364810031687}, {\"document\": 4, \"term\": \"verdenken\", \"tfidf\": 0.13599152269605003}, {\"document\": 4, \"term\": \"vuurwapen\", \"tfidf\": 0.13187820960848198}, {\"document\": 4, \"term\": \"verklaren\", \"tfidf\": 0.12060304378674794}, {\"document\": 4, \"term\": \"verklaring\", \"tfidf\": 0.11269450710684775}, {\"document\": 4, \"term\": \"kogel\", \"tfidf\": 0.11208243570440928}, {\"document\": 4, \"term\": \"schieten\", \"tfidf\": 0.09936406496125035}, {\"document\": 5, \"term\": \"liwa\", \"tfidf\": 0.5937054895372434}, {\"document\": 5, \"term\": \"tawhid\", \"tfidf\": 0.5937129351641847}, {\"document\": 5, \"term\": \"syrie\", \"tfidf\": 0.17265525020955977}, {\"document\": 5, \"term\": \"hof\", \"tfidf\": 0.15577704761318825}, {\"document\": 5, \"term\": \"salafistisch\", \"tfidf\": 0.14048946661883369}, {\"document\": 5, \"term\": \"geboorteplaats\", \"tfidf\": 0.13952689619307213}, {\"document\": 5, \"term\": \"organisatie\", \"tfidf\": 0.1365903708703788}, {\"document\": 5, \"term\": \"jihadi\", \"tfidf\": 0.11134514850534213}, {\"document\": 5, \"term\": \"vsl\", \"tfidf\": 0.11139080451018939}, {\"document\": 5, \"term\": \"sanctielijst\", \"tfidf\": 0.09790175630692871}, {\"document\": 6, \"term\": \"politierechter\", \"tfidf\": 0.2586329964531129}, {\"document\": 6, \"term\": \"factor\", \"tfidf\": 0.2310242580916337}, {\"document\": 6, \"term\": \"ernstige_bezwar\", \"tfidf\": 0.21645490083490498}, {\"document\": 6, \"term\": \"norm\", \"tfidf\": 0.21356035168645027}, {\"document\": 6, \"term\": \"verzuim\", \"tfidf\": 0.20260568576137788}, {\"document\": 6, \"term\": \"opiumwet\", \"tfidf\": 0.1831860527674311}, {\"document\": 6, \"term\": \"client\", \"tfidf\": 0.17308977758195102}, {\"document\": 6, \"term\": \"fouilleren\", \"tfidf\": 0.15464314700480114}, {\"document\": 6, \"term\": \"ingrijpende_inbreuk\", \"tfidf\": 0.14375542326394336}, {\"document\": 6, \"term\": \"onrustig\", \"tfidf\": 0.1437426719645745}, {\"document\": 7, \"term\": \"jukbeen\", \"tfidf\": 0.4036651809444874}, {\"document\": 7, \"term\": \"letsel\", \"tfidf\": 0.3425234911650696}, {\"document\": 7, \"term\": \"slachtoffer\", \"tfidf\": 0.27362472220015366}, {\"document\": 7, \"term\": \"verdenken\", \"tfidf\": 0.24305918521890862}, {\"document\": 7, \"term\": \"breken\", \"tfidf\": 0.17555123679043078}, {\"document\": 7, \"term\": \"plaats\", \"tfidf\": 0.1690627046917956}, {\"document\": 7, \"term\": \"klap\", \"tfidf\": 0.16777786304270892}, {\"document\": 7, \"term\": \"zwaar_lichamelijk\", \"tfidf\": 0.15205918739032415}, {\"document\": 7, \"term\": \"opereren\", \"tfidf\": 0.1485403459549106}, {\"document\": 7, \"term\": \"tatoeage\", \"tfidf\": 0.14265246205465268}, {\"document\": 8, \"term\": \"goeree_overflakkee\", \"tfidf\": 0.4719992809161889}, {\"document\": 8, \"term\": \"hennep\", \"tfidf\": 0.2892166869239197}, {\"document\": 8, \"term\": \"hoeveelheid\", \"tfidf\": 0.2847928774550187}, {\"document\": 8, \"term\": \"elektriciteit\", \"tfidf\": 0.18878978173046285}, {\"document\": 8, \"term\": \"hennepplant\", \"tfidf\": 0.16112985103363195}, {\"document\": 8, \"term\": \"geval\", \"tfidf\": 0.1555270883181253}, {\"document\": 8, \"term\": \"telen\", \"tfidf\": 0.15541142200699665}, {\"document\": 8, \"term\": \"lijst_ii\", \"tfidf\": 0.15049141937585298}, {\"document\": 8, \"term\": \"ander\", \"tfidf\": 0.1495908816013275}, {\"document\": 8, \"term\": \"althans\", \"tfidf\": 0.14889935640888027}, {\"document\": 9, \"term\": \"still\", \"tfidf\": 0.33127071718533707}, {\"document\": 9, \"term\": \"hof\", \"tfidf\": 0.27259933344816734}, {\"document\": 9, \"term\": \"bedrijfsinbraak\", \"tfidf\": 0.21991040810771822}, {\"document\": 9, \"term\": \"honswijck\", \"tfidf\": 0.21989883324930792}, {\"document\": 9, \"term\": \"verdenken\", \"tfidf\": 0.19797960295475492}, {\"document\": 9, \"term\": \"herkenning\", \"tfidf\": 0.18572582605767707}, {\"document\": 9, \"term\": \"tenlastegelegen\", \"tfidf\": 0.16796391183155393}, {\"document\": 9, \"term\": \"inbraak\", \"tfidf\": 0.1654032364892562}, {\"document\": 9, \"term\": \"camerabeeld\", \"tfidf\": 0.16351257798806648}, {\"document\": 9, \"term\": \"uur\", \"tfidf\": 0.15955811542888354}, {\"document\": 10, \"term\": \"neerijn\", \"tfidf\": 0.5534740328460623}, {\"document\": 10, \"term\": \"kabel\", \"tfidf\": 0.3972677338078385}, {\"document\": 10, \"term\": \"benadelen\", \"tfidf\": 0.32034450052416696}, {\"document\": 10, \"term\": \"enig\", \"tfidf\": 0.2082325470456977}, {\"document\": 10, \"term\": \"geval\", \"tfidf\": 0.20789350228675677}, {\"document\": 10, \"term\": \"ander\", \"tfidf\": 0.19988432234642428}, {\"document\": 10, \"term\": \"goed\", \"tfidf\": 0.18804536057286828}, {\"document\": 10, \"term\": \"werknemer\", \"tfidf\": 0.1744579876841523}, {\"document\": 10, \"term\": \"gemeente\", \"tfidf\": 0.17006147488549395}, {\"document\": 10, \"term\": \"tijdstip_pen\", \"tfidf\": 0.14813466265262057}, {\"document\": 11, \"term\": \"vernieling\", \"tfidf\": 0.5158753798684912}, {\"document\": 11, \"term\": \"persoon\", \"tfidf\": 0.3795909501241044}, {\"document\": 11, \"term\": \"zaak\", \"tfidf\": 0.35680697243826004}, {\"document\": 11, \"term\": \"kliniek\", \"tfidf\": 0.3209647992446825}, {\"document\": 11, \"term\": \"bedreiging\", \"tfidf\": 0.2673355757664955}, {\"document\": 11, \"term\": \"garage\", \"tfidf\": 0.2542304847064516}, {\"document\": 11, \"term\": \"kort_samengevat\", \"tfidf\": 0.2507918915519323}, {\"document\": 11, \"term\": \"muur\", \"tfidf\": 0.23633019872890576}, {\"document\": 11, \"term\": \"naam\", \"tfidf\": 0.17365793247134298}, {\"document\": 11, \"term\": \"deur\", \"tfidf\": 0.16238453365831534}, {\"document\": 12, \"term\": \"feitelijke_verhouding\", \"tfidf\": 0.3317836083340495}, {\"document\": 12, \"term\": \"voortvloeiend_overwicht\", \"tfidf\": 0.3051058196309444}, {\"document\": 12, \"term\": \"geslachtsdeel\", \"tfidf\": 0.29587444613441305}, {\"document\": 12, \"term\": \"slachtoffer\", \"tfidf\": 0.2626694629690689}, {\"document\": 12, \"term\": \"ontuchtige_handeling\", \"tfidf\": 0.24699522784785777}, {\"document\": 12, \"term\": \"hellendoorn\", \"tfidf\": 0.22763430884294336}, {\"document\": 12, \"term\": \"duld\", \"tfidf\": 0.20072749169678247}, {\"document\": 12, \"term\": \"zoen\", \"tfidf\": 0.17451799750626204}, {\"document\": 12, \"term\": \"handeling\", \"tfidf\": 0.1715589685567373}, {\"document\": 12, \"term\": \"aftrekken\", \"tfidf\": 0.16442396989789437}, {\"document\": 13, \"term\": \"slachtoffer\", \"tfidf\": 0.3054767948146591}, {\"document\": 13, \"term\": \"celmateriaal\", \"tfidf\": 0.2964249670724686}, {\"document\": 13, \"term\": \"overvaller\", \"tfidf\": 0.20118636566975073}, {\"document\": 13, \"term\": \"dader\", \"tfidf\": 0.19321425753103263}, {\"document\": 13, \"term\": \"kelder\", \"tfidf\": 0.18201656406742595}, {\"document\": 13, \"term\": \"aangever\", \"tfidf\": 0.17895356711786853}, {\"document\": 13, \"term\": \"bemonstering\", \"tfidf\": 0.17720631519464405}, {\"document\": 13, \"term\": \"regenbroek\", \"tfidf\": 0.16041630620641043}, {\"document\": 13, \"term\": \"regenjas\", \"tfidf\": 0.16038990340039685}, {\"document\": 13, \"term\": \"volgen\", \"tfidf\": 0.14120758755164334}, {\"document\": 14, \"term\": \"aangever\", \"tfidf\": 0.5082973701312165}, {\"document\": 14, \"term\": \"lokaal\", \"tfidf\": 0.35102617969309363}, {\"document\": 14, \"term\": \"hof\", \"tfidf\": 0.20002162948611596}, {\"document\": 14, \"term\": \"medeverdacht\", \"tfidf\": 0.19085795780966583}, {\"document\": 14, \"term\": \"trap\", \"tfidf\": 0.15393631183698464}, {\"document\": 14, \"term\": \"school\", \"tfidf\": 0.15122731857949656}, {\"document\": 14, \"term\": \"verdenken\", \"tfidf\": 0.1430407568388104}, {\"document\": 14, \"term\": \"docent\", \"tfidf\": 0.1430094227976791}, {\"document\": 14, \"term\": \"lokaal_lokaal\", \"tfidf\": 0.14304028913763878}, {\"document\": 14, \"term\": \"getuige\", \"tfidf\": 0.13995461844625223}, {\"document\": 15, \"term\": \"hekwerk\", \"tfidf\": 0.3969449973891913}, {\"document\": 15, \"term\": \"bedrijf\", \"tfidf\": 0.36800351806178183}, {\"document\": 15, \"term\": \"ander\", \"tfidf\": 0.27158052081782663}, {\"document\": 15, \"term\": \"voornoemd\", \"tfidf\": 0.26296921699147174}, {\"document\": 15, \"term\": \"althans\", \"tfidf\": 0.2212933961999349}, {\"document\": 15, \"term\": \"westhavenweg\", \"tfidf\": 0.21927162206965914}, {\"document\": 15, \"term\": \"apparatuur\", \"tfidf\": 0.19421713163172258}, {\"document\": 15, \"term\": \"openbare_weg\", \"tfidf\": 0.1844677685647893}, {\"document\": 15, \"term\": \"lange_tijd\", \"tfidf\": 0.17345673581020402}, {\"document\": 15, \"term\": \"hond\", \"tfidf\": 0.16367534228502534}, {\"document\": 16, \"term\": \"telen\", \"tfidf\": 0.3813068455040365}, {\"document\": 16, \"term\": \"betrokken\", \"tfidf\": 0.36498517405574016}, {\"document\": 16, \"term\": \"afleveren\", \"tfidf\": 0.3572820662473469}, {\"document\": 16, \"term\": \"bewerken\", \"tfidf\": 0.345617819101929}, {\"document\": 16, \"term\": \"bereid\", \"tfidf\": 0.3334012091123215}, {\"document\": 16, \"term\": \"verwerken\", \"tfidf\": 0.32701214239006027}, {\"document\": 16, \"term\": \"verkopen\", \"tfidf\": 0.31784787291009076}, {\"document\": 16, \"term\": \"verstrekken\", \"tfidf\": 0.2998572762663841}, {\"document\": 16, \"term\": \"opzettelijk\", \"tfidf\": 0.14685991379868196}, {\"document\": 16, \"term\": \"last\", \"tfidf\": 0.11492407252815098}, {\"document\": 17, \"term\": \"benadelen\", \"tfidf\": 0.6694947284565294}, {\"document\": 17, \"term\": \"alias\", \"tfidf\": 0.38923520289594205}, {\"document\": 17, \"term\": \"onderdak\", \"tfidf\": 0.16940721315252422}, {\"document\": 17, \"term\": \"perso\", \"tfidf\": 0.1560002959121031}, {\"document\": 17, \"term\": \"aangever\", \"tfidf\": 0.1524384382509136}, {\"document\": 17, \"term\": \"verblijf\", \"tfidf\": 0.14888405507639835}, {\"document\": 17, \"term\": \"hof\", \"tfidf\": 0.11866147467743822}, {\"document\": 17, \"term\": \"werkdag\", \"tfidf\": 0.11770056550146919}, {\"document\": 17, \"term\": \"illegaal\", \"tfidf\": 0.10800424931641558}, {\"document\": 17, \"term\": \"uitbuiting\", \"tfidf\": 0.10543648518871453}, {\"document\": 18, \"term\": \"hof\", \"tfidf\": 0.49200166544522644}, {\"document\": 18, \"term\": \"verdenken\", \"tfidf\": 0.26582771802993166}, {\"document\": 18, \"term\": \"handschoen\", \"tfidf\": 0.18257525564703694}, {\"document\": 18, \"term\": \"jongen\", \"tfidf\": 0.1537825507789831}, {\"document\": 18, \"term\": \"woning\", \"tfidf\": 0.15233508264787543}, {\"document\": 18, \"term\": \"braak\", \"tfidf\": 0.14690465309141001}, {\"document\": 18, \"term\": \"koevoet\", \"tfidf\": 0.14679548566633568}, {\"document\": 18, \"term\": \"achterdeur\", \"tfidf\": 0.12772103368071153}, {\"document\": 18, \"term\": \"kortenbospad\", \"tfidf\": 0.11731174718810274}, {\"document\": 18, \"term\": \"poging\", \"tfidf\": 0.1156027481321066}, {\"document\": 19, \"term\": \"slachtoffer\", \"tfidf\": 0.361181510561605}, {\"document\": 19, \"term\": \"voornoemd\", \"tfidf\": 0.2868868856925289}, {\"document\": 19, \"term\": \"geweld\", \"tfidf\": 0.26680730182949935}, {\"document\": 19, \"term\": \"venlo\", \"tfidf\": 0.2622068460149026}, {\"document\": 19, \"term\": \"tong\", \"tfidf\": 0.23412001227647303}, {\"document\": 19, \"term\": \"woorden_toegevoegd\", \"tfidf\": 0.21678129266126459}, {\"document\": 19, \"term\": \"pincod\", \"tfidf\": 0.16903521311129044}, {\"document\": 19, \"term\": \"blerick\", \"tfidf\": 0.16476913874455237}, {\"document\": 19, \"term\": \"hebt_inleveren\", \"tfidf\": 0.16474691211275616}, {\"document\": 19, \"term\": \"woning\", \"tfidf\": 0.15079263423868822}, {\"document\": 20, \"term\": \"hennep\", \"tfidf\": 0.3718715865910138}, {\"document\": 20, \"term\": \"hennepplant\", \"tfidf\": 0.29597048661228864}, {\"document\": 20, \"term\": \"liand\", \"tfidf\": 0.2028097144105943}, {\"document\": 20, \"term\": \"gram\", \"tfidf\": 0.1862714148167897}, {\"document\": 20, \"term\": \"pand\", \"tfidf\": 0.18159041415321467}, {\"document\": 20, \"term\": \"opzettelijk\", \"tfidf\": 0.1759332597261671}, {\"document\": 20, \"term\": \"hoeveelheid\", \"tfidf\": 0.17439917811028963}, {\"document\": 20, \"term\": \"persoon\", \"tfidf\": 0.17147781146607627}, {\"document\": 20, \"term\": \"telen\", \"tfidf\": 0.1713356314969062}, {\"document\": 20, \"term\": \"kweek\", \"tfidf\": 0.15490063945961993}, {\"document\": 21, \"term\": \"naam\", \"tfidf\": 0.32725241809292266}, {\"document\": 21, \"term\": \"geweld\", \"tfidf\": 0.28647611596174377}, {\"document\": 21, \"term\": \"fles\", \"tfidf\": 0.266564814007416}, {\"document\": 21, \"term\": \"gereedschap\", \"tfidf\": 0.23569497487023824}, {\"document\": 21, \"term\": \"slachtoffer\", \"tfidf\": 0.22977711933247974}, {\"document\": 21, \"term\": \"sterke_drank\", \"tfidf\": 0.21236834000397875}, {\"document\": 21, \"term\": \"verdenken\", \"tfidf\": 0.18700065645015224}, {\"document\": 21, \"term\": \"diefstal\", \"tfidf\": 0.16699861426642648}, {\"document\": 21, \"term\": \"dordrecht\", \"tfidf\": 0.16273463622602974}, {\"document\": 21, \"term\": \"inhouden\", \"tfidf\": 0.16162889817491347}, {\"document\": 22, \"term\": \"categorie\", \"tfidf\": 0.740188108783993}, {\"document\": 22, \"term\": \"motorrijtuig\", \"tfidf\": 0.2975246830678717}, {\"document\": 22, \"term\": \"rijbewijs\", \"tfidf\": 0.27676806351440186}, {\"document\": 22, \"term\": \"besturen\", \"tfidf\": 0.26099344800446705}, {\"document\": 22, \"term\": \"ongeldig\", \"tfidf\": 0.20829050002170252}, {\"document\": 22, \"term\": \"motorrijtuig_personenauto\", \"tfidf\": 0.16498803707455517}, {\"document\": 22, \"term\": \"weg\", \"tfidf\": 0.14388625897230084}, {\"document\": 22, \"term\": \"adres\", \"tfidf\": 0.14341891635656945}, {\"document\": 22, \"term\": \"afgeven\", \"tfidf\": 0.1378962828480073}, {\"document\": 22, \"term\": \"weten\", \"tfidf\": 0.1370018188892465}, {\"document\": 23, \"term\": \"chocobroodje\", \"tfidf\": 0.5590402722247412}, {\"document\": 23, \"term\": \"draagtas\", \"tfidf\": 0.5590757949230192}, {\"document\": 23, \"term\": \"bedrijf\", \"tfidf\": 0.4300507695584253}, {\"document\": 23, \"term\": \"geval\", \"tfidf\": 0.20995415533435788}, {\"document\": 23, \"term\": \"toebehoren\", \"tfidf\": 0.18760368129540161}, {\"document\": 23, \"term\": \"deel\", \"tfidf\": 0.1614519806657755}, {\"document\": 23, \"term\": \"geheel\", \"tfidf\": 0.13655968723539172}, {\"document\": 23, \"term\": \"goed\", \"tfidf\": 0.12659300987831476}, {\"document\": 23, \"term\": \"ander\", \"tfidf\": 0.10101141222934118}, {\"document\": 23, \"term\": \"weten\", \"tfidf\": 0.10024528824835503}, {\"document\": 24, \"term\": \"benadelen\", \"tfidf\": 0.5643667181377101}, {\"document\": 24, \"term\": \"hak\", \"tfidf\": 0.3656299541898583}, {\"document\": 24, \"term\": \"machet\", \"tfidf\": 0.33221787722120444}, {\"document\": 24, \"term\": \"lichaam\", \"tfidf\": 0.22801919410433258}, {\"document\": 24, \"term\": \"slaan\", \"tfidf\": 0.2280265541234075}, {\"document\": 24, \"term\": \"schoppen_trapp\", \"tfidf\": 0.2237013305851649}, {\"document\": 24, \"term\": \"samenvatten\", \"tfidf\": 0.2076668249219209}, {\"document\": 24, \"term\": \"snijden\", \"tfidf\": 0.1950340333820479}, {\"document\": 24, \"term\": \"zware_mishandeling\", \"tfidf\": 0.15068767761859053}, {\"document\": 24, \"term\": \"steken\", \"tfidf\": 0.14617455918272698}, {\"document\": 25, \"term\": \"zeer_krachtig\", \"tfidf\": 0.3668032706252048}, {\"document\": 25, \"term\": \"gemeente\", \"tfidf\": 0.3366091371308181}, {\"document\": 25, \"term\": \"slachtoffer\", \"tfidf\": 0.26458786032710013}, {\"document\": 25, \"term\": \"partij\", \"tfidf\": 0.25478491229835193}, {\"document\": 25, \"term\": \"benadelen\", \"tfidf\": 0.22246171079780797}, {\"document\": 25, \"term\": \"keel\", \"tfidf\": 0.1991363257048364}, {\"document\": 25, \"term\": \"drukken\", \"tfidf\": 0.1795291889085045}, {\"document\": 25, \"term\": \"armgreep\", \"tfidf\": 0.17300015648745806}, {\"document\": 25, \"term\": \"benemen\", \"tfidf\": 0.17304026378501491}, {\"document\": 25, \"term\": \"voorgenomen_misdrijf\", \"tfidf\": 0.17157991695666552}, {\"document\": 26, \"term\": \"opzettelijk\", \"tfidf\": 0.35596052396268707}, {\"document\": 26, \"term\": \"naam\", \"tfidf\": 0.31112476489779795}, {\"document\": 26, \"term\": \"slachtoffer\", \"tfidf\": 0.30731838608596573}, {\"document\": 26, \"term\": \"voorbedachten_rade\", \"tfidf\": 0.27931190044294957}, {\"document\": 26, \"term\": \"gezicht\", \"tfidf\": 0.2471423676433595}, {\"document\": 26, \"term\": \"schedelbasis\", \"tfidf\": 0.23451975260028438}, {\"document\": 26, \"term\": \"vlaarding\", \"tfidf\": 0.2061515645890785}, {\"document\": 26, \"term\": \"vlaardingen\", \"tfidf\": 0.20616949413333208}, {\"document\": 26, \"term\": \"hard\", \"tfidf\": 0.20159321429862398}, {\"document\": 26, \"term\": \"kracht\", \"tfidf\": 0.17868488798277135}, {\"document\": 27, \"term\": \"aangever\", \"tfidf\": 0.6326425652143152}, {\"document\": 27, \"term\": \"bevelen\", \"tfidf\": 0.29702083381086697}, {\"document\": 27, \"term\": \"aangev\", \"tfidf\": 0.27118000867384945}, {\"document\": 27, \"term\": \"wel\", \"tfidf\": 0.19149701583119585}, {\"document\": 27, \"term\": \"hardenberg\", \"tfidf\": 0.17785844441525797}, {\"document\": 27, \"term\": \"beletten\", \"tfidf\": 0.1555989789075179}, {\"document\": 27, \"term\": \"dwingen\", \"tfidf\": 0.1430775858653305}, {\"document\": 27, \"term\": \"naakt\", \"tfidf\": 0.13956621392405807}, {\"document\": 27, \"term\": \"vervolgens\", \"tfidf\": 0.11192117809956091}, {\"document\": 27, \"term\": \"ander\", \"tfidf\": 0.10359306002390549}, {\"document\": 28, \"term\": \"geldautomaat\", \"tfidf\": 0.4655688776952886}, {\"document\": 28, \"term\": \"verbalisant\", \"tfidf\": 0.24004187907648739}, {\"document\": 28, \"term\": \"gerecht\", \"tfidf\": 0.2141858035618937}, {\"document\": 28, \"term\": \"verdenken\", \"tfidf\": 0.180391600783191}, {\"document\": 28, \"term\": \"shirt\", \"tfidf\": 0.15834100706827156}, {\"document\": 28, \"term\": \"man\", \"tfidf\": 0.1525017348433933}, {\"document\": 28, \"term\": \"kabel\", \"tfidf\": 0.15029126120658898}, {\"document\": 28, \"term\": \"relaas\", \"tfidf\": 0.1349557123344198}, {\"document\": 28, \"term\": \"geldsleuf\", \"tfidf\": 0.12194624086532903}, {\"document\": 28, \"term\": \"pagina\", \"tfidf\": 0.11550795633729943}, {\"document\": 29, \"term\": \"snijdend_voorwerp\", \"tfidf\": 0.33265684824132685}, {\"document\": 29, \"term\": \"puntig\", \"tfidf\": 0.26843910970305296}, {\"document\": 29, \"term\": \"prikken\", \"tfidf\": 0.25949688305810104}, {\"document\": 29, \"term\": \"slachtoffer\", \"tfidf\": 0.24074554977269172}, {\"document\": 29, \"term\": \"gelijken\", \"tfidf\": 0.2281635323163732}, {\"document\": 29, \"term\": \"linker\", \"tfidf\": 0.22224109640130754}, {\"document\": 29, \"term\": \"snijden\", \"tfidf\": 0.20740591879441414}, {\"document\": 29, \"term\": \"perforeren\", \"tfidf\": 0.20432641127899306}, {\"document\": 29, \"term\": \"kroeg\", \"tfidf\": 0.19448504323551144}, {\"document\": 29, \"term\": \"althans\", \"tfidf\": 0.1865366264634865}, {\"document\": 30, \"term\": \"postpakket\", \"tfidf\": 0.7105836744907543}, {\"document\": 30, \"term\": \"mdma\", \"tfidf\": 0.30960811734878513}, {\"document\": 30, \"term\": \"indicatieve_test\", \"tfidf\": 0.19663029566181375}, {\"document\": 30, \"term\": \"versturen\", \"tfidf\": 0.151011663785881}, {\"document\": 30, \"term\": \"verdenken\", \"tfidf\": 0.1385409072209876}, {\"document\": 30, \"term\": \"betekenisvol\", \"tfidf\": 0.13856051029565364}, {\"document\": 30, \"term\": \"pakket\", \"tfidf\": 0.13363334481931594}, {\"document\": 30, \"term\": \"sealbag\", \"tfidf\": 0.12175533170653587}, {\"document\": 30, \"term\": \"persoon\", \"tfidf\": 0.11713033860828498}, {\"document\": 30, \"term\": \"uitvoer\", \"tfidf\": 0.09747400003797867}, {\"document\": 31, \"term\": \"kasboek\", \"tfidf\": 0.6889840141586089}, {\"document\": 31, \"term\": \"getuige\", \"tfidf\": 0.3042737531333485}, {\"document\": 31, \"term\": \"verdenken\", \"tfidf\": 0.17018140046278654}, {\"document\": 31, \"term\": \"medeverdacht\", \"tfidf\": 0.1533151366086304}, {\"document\": 31, \"term\": \"coke\", \"tfidf\": 0.13679805456578303}, {\"document\": 31, \"term\": \"naam\", \"tfidf\": 0.13076468932484892}, {\"document\": 31, \"term\": \"verklaring\", \"tfidf\": 0.12551853490100648}, {\"document\": 31, \"term\": \"dossier\", \"tfidf\": 0.12066106186753937}, {\"document\": 31, \"term\": \"rechtbank\", \"tfidf\": 0.1164752729203214}, {\"document\": 31, \"term\": \"gram\", \"tfidf\": 0.11424528761150697}, {\"document\": 32, \"term\": \"kasboek\", \"tfidf\": 0.6875989672661862}, {\"document\": 32, \"term\": \"verdenken\", \"tfidf\": 0.24427284896759383}, {\"document\": 32, \"term\": \"getuige\", \"tfidf\": 0.24295068052503518}, {\"document\": 32, \"term\": \"gram\", \"tfidf\": 0.18528617963550756}, {\"document\": 32, \"term\": \"cocaine\", \"tfidf\": 0.18041768726451293}, {\"document\": 32, \"term\": \"verklaring\", \"tfidf\": 0.14870102183473394}, {\"document\": 32, \"term\": \"medeverdacht\", \"tfidf\": 0.14336900179707796}, {\"document\": 32, \"term\": \"rechtbank\", \"tfidf\": 0.13801246239136294}, {\"document\": 32, \"term\": \"verschuldigen\", \"tfidf\": 0.13104803574609705}, {\"document\": 32, \"term\": \"dossier\", \"tfidf\": 0.1111909210507718}, {\"document\": 33, \"term\": \"handelsnaam\", \"tfidf\": 0.716036243623806}, {\"document\": 33, \"term\": \"getuige\", \"tfidf\": 0.22586603118686524}, {\"document\": 33, \"term\": \"naam\", \"tfidf\": 0.2043025274446612}, {\"document\": 33, \"term\": \"functionaris\", \"tfidf\": 0.1927566445550449}, {\"document\": 33, \"term\": \"geheim\", \"tfidf\": 0.16408373015184885}, {\"document\": 33, \"term\": \"verplichten\", \"tfidf\": 0.16239298689972512}, {\"document\": 33, \"term\": \"nederland\", \"tfidf\": 0.15660678622521093}, {\"document\": 33, \"term\": \"wettelijk_voorschrift\", \"tfidf\": 0.14560527043415908}, {\"document\": 33, \"term\": \"mevrouw\", \"tfidf\": 0.1446951096522269}, {\"document\": 33, \"term\": \"opzoeken\", \"tfidf\": 0.14472909233989545}, {\"document\": 34, \"term\": \"telkens\", \"tfidf\": 0.3391779671280745}, {\"document\": 34, \"term\": \"financierings\", \"tfidf\": 0.24831513509875647}, {\"document\": 34, \"term\": \"nijmegen\", \"tfidf\": 0.22644349746609188}, {\"document\": 34, \"term\": \"ster\", \"tfidf\": 0.22647036434163173}, {\"document\": 34, \"term\": \"aangever\", \"tfidf\": 0.20776857036819976}, {\"document\": 34, \"term\": \"aangifte\", \"tfidf\": 0.18930133762504542}, {\"document\": 34, \"term\": \"instelling\", \"tfidf\": 0.18551772569896008}, {\"document\": 34, \"term\": \"vorenomschreven_oogmerk\", \"tfidf\": 0.17693326073580307}, {\"document\": 34, \"term\": \"listiglijk\", \"tfidf\": 0.170954742997341}, {\"document\": 34, \"term\": \"bevoordelen\", \"tfidf\": 0.16823846892517375}, {\"document\": 35, \"term\": \"verdenken\", \"tfidf\": 0.368181266147517}, {\"document\": 35, \"term\": \"hof\", \"tfidf\": 0.28724996471521635}, {\"document\": 35, \"term\": \"overval\", \"tfidf\": 0.2154528831062475}, {\"document\": 35, \"term\": \"medeverdachte\", \"tfidf\": 0.21458463371769654}, {\"document\": 35, \"term\": \"politie\", \"tfidf\": 0.19554717286183362}, {\"document\": 35, \"term\": \"geweld\", \"tfidf\": 0.16344299731282774}, {\"document\": 35, \"term\": \"bedreiging\", \"tfidf\": 0.1601277520434078}, {\"document\": 35, \"term\": \"geldwagen\", \"tfidf\": 0.1568557502003529}, {\"document\": 35, \"term\": \"plan\", \"tfidf\": 0.15625089994822275}, {\"document\": 35, \"term\": \"afpersing\", \"tfidf\": 0.15564808989395867}, {\"document\": 36, \"term\": \"slachtoffer\", \"tfidf\": 0.5189381393369794}, {\"document\": 36, \"term\": \"hof\", \"tfidf\": 0.27824864788779585}, {\"document\": 36, \"term\": \"verdenken\", \"tfidf\": 0.25569523337104555}, {\"document\": 36, \"term\": \"verbalisant\", \"tfidf\": 0.24314271078659683}, {\"document\": 36, \"term\": \"val\", \"tfidf\": 0.20692550881844757}, {\"document\": 36, \"term\": \"worsteling\", \"tfidf\": 0.1838752831219619}, {\"document\": 36, \"term\": \"letsel\", \"tfidf\": 0.1671553060201663}, {\"document\": 36, \"term\": \"parketnumm\", \"tfidf\": 0.16381647258152693}, {\"document\": 36, \"term\": \"zaak\", \"tfidf\": 0.13251168088070586}, {\"document\": 36, \"term\": \"ontstaan\", \"tfidf\": 0.12432772265738033}, {\"document\": 37, \"term\": \"hennepplant\", \"tfidf\": 0.42694761225953837}, {\"document\": 37, \"term\": \"hoeveelheid\", \"tfidf\": 0.3772385551600606}, {\"document\": 37, \"term\": \"heteren\", \"tfidf\": 0.332260420665831}, {\"document\": 37, \"term\": \"lijst_ii\", \"tfidf\": 0.19937377300744402}, {\"document\": 37, \"term\": \"hennep\", \"tfidf\": 0.19158461818714703}, {\"document\": 37, \"term\": \"aangewezen_krachtens\", \"tfidf\": 0.18967993599725258}, {\"document\": 37, \"term\": \"tijdstip_p\", \"tfidf\": 0.17569565302124976}, {\"document\": 37, \"term\": \"opiumwet_behorenen\", \"tfidf\": 0.17036931644687195}, {\"document\": 37, \"term\": \"middel\", \"tfidf\": 0.16670681412383478}, {\"document\": 37, \"term\": \"althans\", \"tfidf\": 0.16439339241628662}, {\"document\": 38, \"term\": \"geldautomaat\", \"tfidf\": 0.4655646040374924}, {\"document\": 38, \"term\": \"verbalisant\", \"tfidf\": 0.2400778719795474}, {\"document\": 38, \"term\": \"gerecht\", \"tfidf\": 0.2141951791052125}, {\"document\": 38, \"term\": \"verdenken\", \"tfidf\": 0.18043770350657182}, {\"document\": 38, \"term\": \"shirt\", \"tfidf\": 0.15833713695182872}, {\"document\": 38, \"term\": \"man\", \"tfidf\": 0.15250778908231674}, {\"document\": 38, \"term\": \"kabel\", \"tfidf\": 0.1502669859157781}, {\"document\": 38, \"term\": \"relaas\", \"tfidf\": 0.13493370474705868}, {\"document\": 38, \"term\": \"geldsleuf\", \"tfidf\": 0.12196923022914385}, {\"document\": 38, \"term\": \"pagina\", \"tfidf\": 0.11550746769677293}, {\"document\": 39, \"term\": \"verkort_vonni\", \"tfidf\": 0.5179227994042875}, {\"document\": 39, \"term\": \"aanvulling\", \"tfidf\": 0.23608107326170588}, {\"document\": 39, \"term\": \"juwelier\", \"tfidf\": 0.2306390553662974}, {\"document\": 39, \"term\": \"woningoverval\", \"tfidf\": 0.20981452118804447}, {\"document\": 39, \"term\": \"mede\", \"tfidf\": 0.20572931119225074}, {\"document\": 39, \"term\": \"wapenen\", \"tfidf\": 0.20265279004409018}, {\"document\": 39, \"term\": \"braak\", \"tfidf\": 0.17681095795000848}, {\"document\": 39, \"term\": \"geweld\", \"tfidf\": 0.1729983701098495}, {\"document\": 39, \"term\": \"feit\", \"tfidf\": 0.16809390290079004}, {\"document\": 39, \"term\": \"gebruiken\", \"tfidf\": 0.16442875117018946}, {\"document\": 40, \"term\": \"kledingwinkel\", \"tfidf\": 0.8901587022649142}, {\"document\": 40, \"term\": \"breken\", \"tfidf\": 0.24152974790393528}, {\"document\": 40, \"term\": \"verwijten\", \"tfidf\": 0.2264922483296579}, {\"document\": 40, \"term\": \"proberen\", \"tfidf\": 0.17168569429005107}, {\"document\": 40, \"term\": \"samen\", \"tfidf\": 0.1405596512922812}, {\"document\": 40, \"term\": \"zeggen\", \"tfidf\": 0.12321376551465779}, {\"document\": 40, \"term\": \"kort\", \"tfidf\": 0.11955199322867602}, {\"document\": 40, \"term\": \"naam\", \"tfidf\": 0.10403255642220977}, {\"document\": 40, \"term\": \"tenlastelegging\", \"tfidf\": 0.06881841465375506}, {\"document\": 40, \"term\": \"verdenken\", \"tfidf\": 0.06277068843076539}, {\"document\": 41, \"term\": \"geluiddemper\", \"tfidf\": 0.4053421961815548}, {\"document\": 41, \"term\": \"dna\", \"tfidf\": 0.38125642728546844}, {\"document\": 41, \"term\": \"wapen\", \"tfidf\": 0.329821052814562}, {\"document\": 41, \"term\": \"vuurwapen\", \"tfidf\": 0.19459208831656738}, {\"document\": 41, \"term\": \"verdenken\", \"tfidf\": 0.18264974059797476}, {\"document\": 41, \"term\": \"rugzak\", \"tfidf\": 0.1801109461569194}, {\"document\": 41, \"term\": \"munitie\", \"tfidf\": 0.17307261322526818}, {\"document\": 41, \"term\": \"willekeurige_onbekenen\", \"tfidf\": 0.16605964879452975}, {\"document\": 41, \"term\": \"wanneer_hypothese\", \"tfidf\": 0.160965657767636}, {\"document\": 41, \"term\": \"aantreffen\", \"tfidf\": 0.14977214828877022}, {\"document\": 42, \"term\": \"zware_mishandeling\", \"tfidf\": 0.4504976249387568}, {\"document\": 42, \"term\": \"persoon\", \"tfidf\": 0.3522308574394041}, {\"document\": 42, \"term\": \"mes\", \"tfidf\": 0.30425868642026743}, {\"document\": 42, \"term\": \"steken\", \"tfidf\": 0.29130418390230006}, {\"document\": 42, \"term\": \"poging\", \"tfidf\": 0.28739612422672556}, {\"document\": 42, \"term\": \"kopstoot\", \"tfidf\": 0.2676931327497818}, {\"document\": 42, \"term\": \"kort_samengevat\", \"tfidf\": 0.23275768124552745}, {\"document\": 42, \"term\": \"primair\", \"tfidf\": 0.20823052073863849}, {\"document\": 42, \"term\": \"buik\", \"tfidf\": 0.19576154356789002}, {\"document\": 42, \"term\": \"subsidiair\", \"tfidf\": 0.18899556222508324}, {\"document\": 43, \"term\": \"schietoefening\", \"tfidf\": 0.35376713887585876}, {\"document\": 43, \"term\": \"wapen\", \"tfidf\": 0.29540351152882666}, {\"document\": 43, \"term\": \"ontlad\", \"tfidf\": 0.23582867642755162}, {\"document\": 43, \"term\": \"sergeant\", \"tfidf\": 0.2232081775074609}, {\"document\": 43, \"term\": \"schietpunt\", \"tfidf\": 0.21224389050789214}, {\"document\": 43, \"term\": \"slachtoffer\", \"tfidf\": 0.20093825303323207}, {\"document\": 43, \"term\": \"militaire_kamer\", \"tfidf\": 0.18667083918341926}, {\"document\": 43, \"term\": \"trekker\", \"tfidf\": 0.17898382506588603}, {\"document\": 43, \"term\": \"bevel\", \"tfidf\": 0.1759492518456394}, {\"document\": 43, \"term\": \"schot\", \"tfidf\": 0.15963406019387172}, {\"document\": 44, \"term\": \"naam\", \"tfidf\": 0.35743446529674955}, {\"document\": 44, \"term\": \"slachtoffer\", \"tfidf\": 0.3178004292131724}, {\"document\": 44, \"term\": \"herkenning\", \"tfidf\": 0.27307895339530874}, {\"document\": 44, \"term\": \"dader\", \"tfidf\": 0.22007006425219663}, {\"document\": 44, \"term\": \"camerabeeld\", \"tfidf\": 0.20598376937110435}, {\"document\": 44, \"term\": \"voorgenomen_misdrijf\", \"tfidf\": 0.19592568249574605}, {\"document\": 44, \"term\": \"uitvoering\", \"tfidf\": 0.18093467849950962}, {\"document\": 44, \"term\": \"voorhouden\", \"tfidf\": 0.16576592138828078}, {\"document\": 44, \"term\": \"geweld\", \"tfidf\": 0.16523157573094435}, {\"document\": 44, \"term\": \"geld\", \"tfidf\": 0.15697410694208047}, {\"document\": 45, \"term\": \"hof\", \"tfidf\": 0.42172061994227467}, {\"document\": 45, \"term\": \"dossierpagina\", \"tfidf\": 0.22677975642304263}, {\"document\": 45, \"term\": \"verdenken\", \"tfidf\": 0.2211918055043656}, {\"document\": 45, \"term\": \"oplegging\", \"tfidf\": 0.1674301487487208}, {\"document\": 45, \"term\": \"gevangenisstraf\", \"tfidf\": 0.1503575845111797}, {\"document\": 45, \"term\": \"omstandigheid\", \"tfidf\": 0.15012467840560778}, {\"document\": 45, \"term\": \"feit\", \"tfidf\": 0.14626647114282526}, {\"document\": 45, \"term\": \"strafbaar\", \"tfidf\": 0.13693739241502437}, {\"document\": 45, \"term\": \"aangever\", \"tfidf\": 0.13553602527956324}, {\"document\": 45, \"term\": \"duur\", \"tfidf\": 0.13317577742699263}, {\"document\": 46, \"term\": \"hof\", \"tfidf\": 0.2991808826182657}, {\"document\": 46, \"term\": \"verdenken\", \"tfidf\": 0.23249079681439194}, {\"document\": 46, \"term\": \"werkstraf\", \"tfidf\": 0.223551102587328}, {\"document\": 46, \"term\": \"kind\", \"tfidf\": 0.2139738369857754}, {\"document\": 46, \"term\": \"seksueel\", \"tfidf\": 0.17961728776859784}, {\"document\": 46, \"term\": \"relatie\", \"tfidf\": 0.1768170555260868}, {\"document\": 46, \"term\": \"straf\", \"tfidf\": 0.17067536430378302}, {\"document\": 46, \"term\": \"verklaren\", \"tfidf\": 0.12367700101013104}, {\"document\": 46, \"term\": \"leeftijd\", \"tfidf\": 0.12367233354403802}, {\"document\": 46, \"term\": \"ernst\", \"tfidf\": 0.1200403619145997}, {\"document\": 47, \"term\": \"overval\", \"tfidf\": 0.3288403840519172}, {\"document\": 47, \"term\": \"medeverdacht\", \"tfidf\": 0.3071758513596442}, {\"document\": 47, \"term\": \"jongen\", \"tfidf\": 0.24422244240858698}, {\"document\": 47, \"term\": \"woonplaats\", \"tfidf\": 0.21869363966410568}, {\"document\": 47, \"term\": \"kassa\", \"tfidf\": 0.17959382352326056}, {\"document\": 47, \"term\": \"slachtoffer\", \"tfidf\": 0.1744020720252861}, {\"document\": 47, \"term\": \"gewoon\", \"tfidf\": 0.15375322688091153}, {\"document\": 47, \"term\": \"toonbank\", \"tfidf\": 0.15026096923280954}, {\"document\": 47, \"term\": \"zien\", \"tfidf\": 0.13260830259567086}, {\"document\": 47, \"term\": \"verdenken\", \"tfidf\": 0.12778648868746315}, {\"document\": 48, \"term\": \"ander\", \"tfidf\": 0.37674438404850324}, {\"document\": 48, \"term\": \"toeeigening\", \"tfidf\": 0.36561011074151645}, {\"document\": 48, \"term\": \"ov_chipkaart\", \"tfidf\": 0.3291674964022302}, {\"document\": 48, \"term\": \"dele_toebehorenen\", \"tfidf\": 0.2902949092110792}, {\"document\": 48, \"term\": \"roze\", \"tfidf\": 0.2902940500243837}, {\"document\": 48, \"term\": \"wegnemen\", \"tfidf\": 0.22762635415137775}, {\"document\": 48, \"term\": \"geval\", \"tfidf\": 0.1958477481555782}, {\"document\": 48, \"term\": \"portemonnee\", \"tfidf\": 0.19033098325502446}, {\"document\": 48, \"term\": \"kleur\", \"tfidf\": 0.18749860384491396}, {\"document\": 48, \"term\": \"bankpas\", \"tfidf\": 0.1775115233115598}, {\"document\": 49, \"term\": \"snorfiets\", \"tfidf\": 0.5527860993536168}, {\"document\": 49, \"term\": \"bouwlustlaan\", \"tfidf\": 0.27507199802662846}, {\"document\": 49, \"term\": \"afslaan\", \"tfidf\": 0.2689020254709136}, {\"document\": 49, \"term\": \"rijden\", \"tfidf\": 0.17837570231852232}, {\"document\": 49, \"term\": \"links\", \"tfidf\": 0.17409880921554408}, {\"document\": 49, \"term\": \"hof\", \"tfidf\": 0.16492179907709115}, {\"document\": 49, \"term\": \"bestuurder\", \"tfidf\": 0.1488695578037567}, {\"document\": 49, \"term\": \"rechts\", \"tfidf\": 0.14772921683676787}, {\"document\": 49, \"term\": \"passagier\", \"tfidf\": 0.14433056668937147}, {\"document\": 49, \"term\": \"fietspad\", \"tfidf\": 0.12606412938883035}]}}, {\"mode\": \"vega-lite\"});\n",
       "</script>"
      ],
      "text/plain": [
       "alt.LayerChart(...)"
      ]
     },
     "execution_count": 31,
     "metadata": {},
     "output_type": "execute_result"
    }
   ],
   "source": [
    "import altair as alt\n",
    "import numpy as np\n",
    "\n",
    "# Terms in this list will get a red dot in the visualization\n",
    "term_list = ['benadelen', 'kasboek', 'hof']\n",
    "\n",
    "# adding a little randomness to break ties in term ranking\n",
    "top_tfidf_plusRand = top_tfidf.copy()\n",
    "top_tfidf_plusRand = top_tfidf_plusRand.iloc[:500,]\n",
    "top_tfidf_plusRand['tfidf'] = top_tfidf_plusRand['tfidf'] + np.random.rand(top_tfidf_plusRand.shape[0])*0.0001\n",
    "\n",
    "# base for all visualizations, with rank calculation\n",
    "base = alt.Chart(top_tfidf_plusRand).encode(\n",
    "    x = 'rank:O',\n",
    "    y = 'document:N'\n",
    ").transform_window(\n",
    "    rank = \"rank()\",\n",
    "    sort = [alt.SortField(\"tfidf\", order=\"descending\")],\n",
    "    groupby = [\"document\"],\n",
    ")\n",
    "\n",
    "# heatmap specification\n",
    "heatmap = base.mark_rect().encode(\n",
    "    color = 'tfidf:Q'\n",
    ")\n",
    "\n",
    "# red circle over terms in above list\n",
    "circle = base.mark_circle(size=100).encode(\n",
    "    color = alt.condition(\n",
    "        alt.FieldOneOfPredicate(field='term', oneOf=term_list),\n",
    "        alt.value('red'),\n",
    "        alt.value('#FFFFFF00')        \n",
    "    )\n",
    ")\n",
    "\n",
    "# text labels, white for darker heatmap colors\n",
    "text = base.mark_text(baseline='middle').encode(\n",
    "    text = 'term:N',\n",
    "    color = alt.condition(alt.datum.tfidf >= 0.23, alt.value('white'), alt.value('black'))\n",
    ")\n",
    "\n",
    "# display the three superimposed visualizations\n",
    "(heatmap + circle + text).properties(width = 1200)"
   ]
  },
  {
   "cell_type": "code",
   "execution_count": null,
   "metadata": {},
   "outputs": [],
   "source": []
  },
  {
   "cell_type": "code",
   "execution_count": null,
   "metadata": {},
   "outputs": [],
   "source": []
  }
 ],
 "metadata": {
  "interpreter": {
   "hash": "40d3a090f54c6569ab1632332b64b2c03c39dcf918b08424e98f38b5ae0af88f"
  },
  "kernelspec": {
   "display_name": "Python 3.7.10 64-bit ('base': conda)",
   "language": "python",
   "name": "python3"
  },
  "language_info": {
   "codemirror_mode": {
    "name": "ipython",
    "version": 3
   },
   "file_extension": ".py",
   "mimetype": "text/x-python",
   "name": "python",
   "nbconvert_exporter": "python",
   "pygments_lexer": "ipython3",
   "version": "3.7.10"
  },
  "orig_nbformat": 4
 },
 "nbformat": 4,
 "nbformat_minor": 2
}
